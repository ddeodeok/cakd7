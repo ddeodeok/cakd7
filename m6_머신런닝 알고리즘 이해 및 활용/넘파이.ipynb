{
 "cells": [
  {
   "cell_type": "code",
   "execution_count": 1,
   "id": "78c9faed",
   "metadata": {},
   "outputs": [],
   "source": [
    "import numpy as np"
   ]
  },
  {
   "cell_type": "code",
   "execution_count": 37,
   "id": "1193098f",
   "metadata": {},
   "outputs": [],
   "source": [
    "# 1,2,3,차원 배열 생성 및 차원 확인\n",
    "ar1 = np.arange(0,12)\n",
    "ar2 = np.arange(0,12).reshape(2,6)\n",
    "ar3 = np.arange(0,12).reshape(2,2,3)"
   ]
  },
  {
   "cell_type": "code",
   "execution_count": 38,
   "id": "250dc75c",
   "metadata": {},
   "outputs": [
    {
     "data": {
      "text/plain": [
       "array([ 0,  1,  2,  3,  4,  5,  6,  7,  8,  9, 10, 11])"
      ]
     },
     "metadata": {},
     "output_type": "display_data"
    },
    {
     "data": {
      "text/plain": [
       "array([[ 0,  1,  2,  3,  4,  5],\n",
       "       [ 6,  7,  8,  9, 10, 11]])"
      ]
     },
     "metadata": {},
     "output_type": "display_data"
    },
    {
     "data": {
      "text/plain": [
       "array([[[ 0,  1,  2],\n",
       "        [ 3,  4,  5]],\n",
       "\n",
       "       [[ 6,  7,  8],\n",
       "        [ 9, 10, 11]]])"
      ]
     },
     "metadata": {},
     "output_type": "display_data"
    }
   ],
   "source": [
    "display(ar1)\n",
    "display(ar2)\n",
    "display(ar3)"
   ]
  },
  {
   "cell_type": "code",
   "execution_count": 32,
   "id": "19ccbd70",
   "metadata": {},
   "outputs": [
    {
     "name": "stdout",
     "output_type": "stream",
     "text": [
      "1차원,2차원,3차원\n"
     ]
    }
   ],
   "source": [
    "print(f'{ar1.ndim}차원,{ar2.ndim}차원,{ar3.ndim}차원')"
   ]
  },
  {
   "cell_type": "code",
   "execution_count": 33,
   "id": "0b45bb92",
   "metadata": {},
   "outputs": [
    {
     "data": {
      "text/plain": [
       "(array([ 0,  1,  2,  3,  4,  5,  6,  7,  8,  9, 10, 11]), dtype('int32'))"
      ]
     },
     "execution_count": 33,
     "metadata": {},
     "output_type": "execute_result"
    }
   ],
   "source": [
    "# print(a1.dtype)\n",
    "a1 = ar1.astype('int32')\n",
    "a1, a1.dtype"
   ]
  },
  {
   "cell_type": "markdown",
   "id": "794adba2",
   "metadata": {},
   "source": [
    "#### 과제_0913_1.\n",
    "- arange, zeros, ones를 배열로 다양하게 생성하세요."
   ]
  },
  {
   "cell_type": "code",
   "execution_count": 72,
   "id": "368ea845",
   "metadata": {},
   "outputs": [
    {
     "data": {
      "text/plain": [
       "array([ 0,  1,  2,  3,  4,  5,  6,  7,  8,  9, 10, 11, 12, 13, 14, 15, 16,\n",
       "       17, 18, 19, 20, 21, 22, 23, 24, 25, 26, 27, 28, 29])"
      ]
     },
     "metadata": {},
     "output_type": "display_data"
    },
    {
     "data": {
      "text/plain": [
       "array([[ 0,  1,  2,  3,  4,  5,  6,  7,  8,  9, 10, 11, 12, 13, 14],\n",
       "       [15, 16, 17, 18, 19, 20, 21, 22, 23, 24, 25, 26, 27, 28, 29]])"
      ]
     },
     "metadata": {},
     "output_type": "display_data"
    },
    {
     "data": {
      "text/plain": [
       "array([[[ 0,  1,  2,  3,  4],\n",
       "        [ 5,  6,  7,  8,  9]],\n",
       "\n",
       "       [[10, 11, 12, 13, 14],\n",
       "        [15, 16, 17, 18, 19]],\n",
       "\n",
       "       [[20, 21, 22, 23, 24],\n",
       "        [25, 26, 27, 28, 29]]])"
      ]
     },
     "metadata": {},
     "output_type": "display_data"
    }
   ],
   "source": [
    "# arange 사용\n",
    "ar_1 = np.arange(30)\n",
    "ar_2 = ar_1.reshape(2,15)\n",
    "ar_3 = ar_1.reshape(3,2,5)\n",
    "display(ar_1)\n",
    "display(ar_2)\n",
    "display(ar_3)"
   ]
  },
  {
   "cell_type": "code",
   "execution_count": 75,
   "id": "7a210382",
   "metadata": {},
   "outputs": [
    {
     "data": {
      "text/plain": [
       "array([0., 0., 0., 0., 0., 0., 0., 0., 0., 0., 0., 0., 0., 0., 0., 0., 0.,\n",
       "       0., 0., 0., 0., 0., 0., 0., 0., 0., 0., 0., 0., 0.])"
      ]
     },
     "metadata": {},
     "output_type": "display_data"
    },
    {
     "data": {
      "text/plain": [
       "array([[0., 0., 0., 0., 0., 0., 0., 0., 0., 0., 0., 0., 0., 0., 0.],\n",
       "       [0., 0., 0., 0., 0., 0., 0., 0., 0., 0., 0., 0., 0., 0., 0.]])"
      ]
     },
     "metadata": {},
     "output_type": "display_data"
    },
    {
     "data": {
      "text/plain": [
       "array([[[0., 0., 0., 0., 0.],\n",
       "        [0., 0., 0., 0., 0.]],\n",
       "\n",
       "       [[0., 0., 0., 0., 0.],\n",
       "        [0., 0., 0., 0., 0.]],\n",
       "\n",
       "       [[0., 0., 0., 0., 0.],\n",
       "        [0., 0., 0., 0., 0.]]])"
      ]
     },
     "metadata": {},
     "output_type": "display_data"
    }
   ],
   "source": [
    "# zeros 사용\n",
    "az_1 = np.zeros([30])\n",
    "az_2 = np.zeros([2,15])\n",
    "az_3 = np.zeros([3,2,5])\n",
    "display(az_1)\n",
    "display(az_2)\n",
    "display(az_3)"
   ]
  },
  {
   "cell_type": "code",
   "execution_count": 77,
   "id": "8cd2ba28",
   "metadata": {},
   "outputs": [
    {
     "data": {
      "text/plain": [
       "array([1., 1., 1., 1., 1., 1., 1., 1., 1., 1., 1., 1., 1., 1., 1., 1., 1.,\n",
       "       1., 1., 1., 1., 1., 1., 1., 1., 1., 1., 1., 1., 1.])"
      ]
     },
     "metadata": {},
     "output_type": "display_data"
    },
    {
     "data": {
      "text/plain": [
       "array([[1., 1., 1., 1., 1., 1., 1., 1., 1., 1., 1., 1., 1., 1., 1.],\n",
       "       [1., 1., 1., 1., 1., 1., 1., 1., 1., 1., 1., 1., 1., 1., 1.]])"
      ]
     },
     "metadata": {},
     "output_type": "display_data"
    },
    {
     "data": {
      "text/plain": [
       "array([[[1., 1., 1., 1., 1.],\n",
       "        [1., 1., 1., 1., 1.]],\n",
       "\n",
       "       [[1., 1., 1., 1., 1.],\n",
       "        [1., 1., 1., 1., 1.]],\n",
       "\n",
       "       [[1., 1., 1., 1., 1.],\n",
       "        [1., 1., 1., 1., 1.]]])"
      ]
     },
     "metadata": {},
     "output_type": "display_data"
    }
   ],
   "source": [
    "# ones 사용\n",
    "ao_1 = np.ones([30])\n",
    "ao_2 = np.ones([2,15])\n",
    "ao_3 = np.ones([3,2,5])\n",
    "display(ao_1)\n",
    "display(ao_2)\n",
    "display(ao_3)"
   ]
  },
  {
   "cell_type": "code",
   "execution_count": null,
   "id": "19382ce3",
   "metadata": {},
   "outputs": [],
   "source": []
  },
  {
   "cell_type": "code",
   "execution_count": 36,
   "id": "1e2b7d5f",
   "metadata": {},
   "outputs": [
    {
     "data": {
      "text/plain": [
       "array([ 0,  1,  2,  3,  4,  5,  6,  7,  8,  9, 10, 11, 12, 13, 14, 15, 16,\n",
       "       17, 18, 19, 20, 21, 22, 23, 24])"
      ]
     },
     "metadata": {},
     "output_type": "display_data"
    },
    {
     "data": {
      "text/plain": [
       "array([[ 0,  1,  2,  3,  4],\n",
       "       [ 5,  6,  7,  8,  9],\n",
       "       [10, 11, 12, 13, 14],\n",
       "       [15, 16, 17, 18, 19],\n",
       "       [20, 21, 22, 23, 24]])"
      ]
     },
     "metadata": {},
     "output_type": "display_data"
    },
    {
     "data": {
      "text/plain": [
       "array([[[ 0],\n",
       "        [ 1],\n",
       "        [ 2],\n",
       "        [ 3],\n",
       "        [ 4]],\n",
       "\n",
       "       [[ 5],\n",
       "        [ 6],\n",
       "        [ 7],\n",
       "        [ 8],\n",
       "        [ 9]],\n",
       "\n",
       "       [[10],\n",
       "        [11],\n",
       "        [12],\n",
       "        [13],\n",
       "        [14]],\n",
       "\n",
       "       [[15],\n",
       "        [16],\n",
       "        [17],\n",
       "        [18],\n",
       "        [19]],\n",
       "\n",
       "       [[20],\n",
       "        [21],\n",
       "        [22],\n",
       "        [23],\n",
       "        [24]]])"
      ]
     },
     "metadata": {},
     "output_type": "display_data"
    }
   ],
   "source": [
    "# a1으로 1,2,3차원 배열을 만드세요.(reshape)\n",
    "a1 = np.arange(25)\n",
    "a1_2 = a1.reshape(5,5)\n",
    "a1_3 = a1.reshape(5,5,1)\n",
    "display(a1)\n",
    "display(a1_2)\n",
    "display(a1_3)"
   ]
  },
  {
   "cell_type": "markdown",
   "id": "2eda6cf7",
   "metadata": {},
   "source": [
    "#### 과제_0913_2\n",
    "- a1.a2.a3에서 원하는 원소값들을 다양한 방식으로 인덱싱하여 출력하세요."
   ]
  },
  {
   "cell_type": "code",
   "execution_count": null,
   "id": "9fae9bd6",
   "metadata": {},
   "outputs": [],
   "source": []
  },
  {
   "cell_type": "code",
   "execution_count": null,
   "id": "5204c30e",
   "metadata": {},
   "outputs": [],
   "source": []
  },
  {
   "cell_type": "code",
   "execution_count": 39,
   "id": "e4ebf822",
   "metadata": {},
   "outputs": [
    {
     "data": {
      "text/plain": [
       "array([1, 2, 3, 4, 5, 6, 7, 8, 9])"
      ]
     },
     "execution_count": 39,
     "metadata": {},
     "output_type": "execute_result"
    }
   ],
   "source": [
    "# 불린 인덱싱\n",
    "ar1d = np.arange(1,10)\n",
    "ar1d"
   ]
  },
  {
   "cell_type": "code",
   "execution_count": 43,
   "id": "c0aab076",
   "metadata": {},
   "outputs": [
    {
     "data": {
      "text/plain": [
       "array([6, 7, 8, 9])"
      ]
     },
     "execution_count": 43,
     "metadata": {},
     "output_type": "execute_result"
    }
   ],
   "source": [
    "#  불린 인덱싱으로 6,7,8,9 뽑기\n",
    "ar = ar1d[ar1d >5]\n",
    "ar"
   ]
  },
  {
   "cell_type": "code",
   "execution_count": 48,
   "id": "eff677d5",
   "metadata": {},
   "outputs": [
    {
     "data": {
      "text/plain": [
       "array([6, 7, 8, 9])"
      ]
     },
     "execution_count": 48,
     "metadata": {},
     "output_type": "execute_result"
    }
   ],
   "source": [
    "# 일반 인덱싱\n",
    "indexes = np.array([5,6,7,8])\n",
    "ar = ar1d[indexes]\n",
    "ar"
   ]
  },
  {
   "cell_type": "code",
   "execution_count": 54,
   "id": "128587a9",
   "metadata": {},
   "outputs": [
    {
     "data": {
      "text/plain": [
       "array([3, 1, 9, 5])"
      ]
     },
     "metadata": {},
     "output_type": "display_data"
    },
    {
     "data": {
      "text/plain": [
       "array([1, 3, 5, 9])"
      ]
     },
     "metadata": {},
     "output_type": "display_data"
    },
    {
     "data": {
      "text/plain": [
       "array([1, 0, 3, 2], dtype=int64)"
      ]
     },
     "metadata": {},
     "output_type": "display_data"
    },
    {
     "data": {
      "text/plain": [
       "array([1, 3, 5, 9])"
      ]
     },
     "metadata": {},
     "output_type": "display_data"
    },
    {
     "data": {
      "text/plain": [
       "None"
      ]
     },
     "metadata": {},
     "output_type": "display_data"
    }
   ],
   "source": [
    "# 정렬 - np.sort()=(원본 미반영)\n",
    "# argsort()= 인덱스에 대한 솔트\n",
    "ar = np.array([3,1,9,5])\n",
    "s1 = np.sort(ar)\n",
    "s2 = np.argsort(ar)\n",
    "display(ar,s1,s2)\n",
    "# ndarray.sort() 정렬,원본 반영\n",
    "s1_2 = ar.sort()\n",
    "display(ar,s1_2)"
   ]
  },
  {
   "cell_type": "code",
   "execution_count": 56,
   "id": "3a2870e9",
   "metadata": {},
   "outputs": [
    {
     "data": {
      "text/plain": [
       "array([9, 5, 3, 1])"
      ]
     },
     "execution_count": 56,
     "metadata": {},
     "output_type": "execute_result"
    }
   ],
   "source": [
    "# 내림차순\n",
    "s1[::-1]"
   ]
  },
  {
   "cell_type": "markdown",
   "id": "3520e0c1",
   "metadata": {},
   "source": [
    "#### 과제_0913_3\n",
    "- ar2d를 로우 방향, 컬럼 방향으로 정렬하세요."
   ]
  },
  {
   "cell_type": "code",
   "execution_count": 116,
   "id": "3afa9bd5",
   "metadata": {
    "scrolled": true
   },
   "outputs": [
    {
     "data": {
      "text/plain": [
       "array([[5, 2, 1],\n",
       "       [3, 4, 9],\n",
       "       [8, 6, 7]])"
      ]
     },
     "execution_count": 116,
     "metadata": {},
     "output_type": "execute_result"
    }
   ],
   "source": [
    "ar2d = np.array([5,2,1,3,4,9,8,6,7]).reshape(3,3)\n",
    "ar2d"
   ]
  },
  {
   "cell_type": "code",
   "execution_count": 117,
   "id": "bc30434d",
   "metadata": {},
   "outputs": [
    {
     "name": "stdout",
     "output_type": "stream",
     "text": [
      "로우 방향으로 정렬:\n"
     ]
    },
    {
     "data": {
      "text/plain": [
       "array([[3, 2, 1],\n",
       "       [5, 4, 7],\n",
       "       [8, 6, 9]])"
      ]
     },
     "metadata": {},
     "output_type": "display_data"
    },
    {
     "name": "stdout",
     "output_type": "stream",
     "text": [
      "컬럼 방향으로 정렬:\n"
     ]
    },
    {
     "data": {
      "text/plain": [
       "array([[1, 2, 5],\n",
       "       [3, 4, 9],\n",
       "       [6, 7, 8]])"
      ]
     },
     "metadata": {},
     "output_type": "display_data"
    }
   ],
   "source": [
    "ar2d_row = np.sort(ar2d,axis=0)\n",
    "print(f'로우 방향으로 정렬:')\n",
    "display(ar2d_row)\n",
    "ar2d_column = np.sort(ar2d,axis=1)\n",
    "print(f'컬럼 방향으로 정렬:')\n",
    "display(ar2d_column)"
   ]
  },
  {
   "cell_type": "code",
   "execution_count": null,
   "id": "9ad8e692",
   "metadata": {},
   "outputs": [],
   "source": []
  },
  {
   "cell_type": "markdown",
   "id": "4dc59e4e",
   "metadata": {},
   "source": [
    "#### 과제_0913_4\n",
    "- 성적 오름차순으로 이름을 출력하세요.(np.argsort()를 이용)"
   ]
  },
  {
   "cell_type": "code",
   "execution_count": 59,
   "id": "86ceae0c",
   "metadata": {},
   "outputs": [],
   "source": [
    "name_array = np.array(['John', 'Mike', 'Sarah', 'Kate', 'Samuel'])\n",
    "score_array = np.array([78, 95, 84, 98, 88])"
   ]
  },
  {
   "cell_type": "code",
   "execution_count": 67,
   "id": "4461ee9e",
   "metadata": {},
   "outputs": [
    {
     "data": {
      "text/plain": [
       "array(['John', 'Sarah', 'Samuel', 'Mike', 'Kate'], dtype='<U6')"
      ]
     },
     "metadata": {},
     "output_type": "display_data"
    },
    {
     "data": {
      "text/plain": [
       "array(['Kate', 'Mike', 'Samuel', 'Sarah', 'John'], dtype='<U6')"
      ]
     },
     "metadata": {},
     "output_type": "display_data"
    }
   ],
   "source": [
    "st = np.argsort(score_array)\n",
    "st_name = name_array[st]\n",
    "display(st_name)\n",
    "display(st_name[::-1])"
   ]
  },
  {
   "cell_type": "code",
   "execution_count": null,
   "id": "a42bb112",
   "metadata": {},
   "outputs": [],
   "source": []
  },
  {
   "cell_type": "code",
   "execution_count": 84,
   "id": "85772fb4",
   "metadata": {},
   "outputs": [
    {
     "data": {
      "text/plain": [
       "array([[1, 2, 3],\n",
       "       [4, 5, 6]])"
      ]
     },
     "metadata": {},
     "output_type": "display_data"
    },
    {
     "data": {
      "text/plain": [
       "array([[ 7,  8],\n",
       "       [ 9, 10],\n",
       "       [11, 12]])"
      ]
     },
     "metadata": {},
     "output_type": "display_data"
    },
    {
     "data": {
      "text/plain": [
       "array([[ 58,  64],\n",
       "       [139, 154]])"
      ]
     },
     "execution_count": 84,
     "metadata": {},
     "output_type": "execute_result"
    }
   ],
   "source": [
    "# 선형대수 연산 - 행렬 내적\n",
    "a = np.arange(1,7).reshape(2,3)\n",
    "b = np.arange(7,13).reshape(3,2)\n",
    "dot_product = np.dot(a,b)\n",
    "display(a)\n",
    "display(b)\n",
    "dot_product"
   ]
  },
  {
   "cell_type": "code",
   "execution_count": 85,
   "id": "ecc61877",
   "metadata": {},
   "outputs": [
    {
     "name": "stdout",
     "output_type": "stream",
     "text": [
      "[[1 2 3]\n",
      " [4 5 6]] \n",
      "\n"
     ]
    },
    {
     "data": {
      "text/plain": [
       "array([[1, 4],\n",
       "       [2, 5],\n",
       "       [3, 6]])"
      ]
     },
     "execution_count": 85,
     "metadata": {},
     "output_type": "execute_result"
    }
   ],
   "source": [
    "# 전치 행렬\n",
    "print(a, '\\n')\n",
    "transpose_mat = np.transpose(a)\n",
    "transpose_mat"
   ]
  },
  {
   "cell_type": "code",
   "execution_count": null,
   "id": "0a8337b1",
   "metadata": {},
   "outputs": [],
   "source": []
  },
  {
   "cell_type": "code",
   "execution_count": 204,
   "id": "2467e470",
   "metadata": {},
   "outputs": [
    {
     "data": {
      "text/html": [
       "<div>\n",
       "<style scoped>\n",
       "    .dataframe tbody tr th:only-of-type {\n",
       "        vertical-align: middle;\n",
       "    }\n",
       "\n",
       "    .dataframe tbody tr th {\n",
       "        vertical-align: top;\n",
       "    }\n",
       "\n",
       "    .dataframe thead th {\n",
       "        text-align: right;\n",
       "    }\n",
       "</style>\n",
       "<table border=\"1\" class=\"dataframe\">\n",
       "  <thead>\n",
       "    <tr style=\"text-align: right;\">\n",
       "      <th></th>\n",
       "      <th>PassengerId</th>\n",
       "      <th>Survived</th>\n",
       "      <th>Pclass</th>\n",
       "      <th>Name</th>\n",
       "      <th>Sex</th>\n",
       "      <th>Age</th>\n",
       "      <th>SibSp</th>\n",
       "      <th>Parch</th>\n",
       "      <th>Ticket</th>\n",
       "      <th>Fare</th>\n",
       "      <th>Cabin</th>\n",
       "      <th>Embarked</th>\n",
       "    </tr>\n",
       "  </thead>\n",
       "  <tbody>\n",
       "    <tr>\n",
       "      <th>0</th>\n",
       "      <td>1</td>\n",
       "      <td>0</td>\n",
       "      <td>3</td>\n",
       "      <td>Braund, Mr. Owen Harris</td>\n",
       "      <td>male</td>\n",
       "      <td>22.0</td>\n",
       "      <td>1</td>\n",
       "      <td>0</td>\n",
       "      <td>A/5 21171</td>\n",
       "      <td>7.2500</td>\n",
       "      <td>NaN</td>\n",
       "      <td>S</td>\n",
       "    </tr>\n",
       "    <tr>\n",
       "      <th>1</th>\n",
       "      <td>2</td>\n",
       "      <td>1</td>\n",
       "      <td>1</td>\n",
       "      <td>Cumings, Mrs. John Bradley (Florence Briggs Th...</td>\n",
       "      <td>female</td>\n",
       "      <td>38.0</td>\n",
       "      <td>1</td>\n",
       "      <td>0</td>\n",
       "      <td>PC 17599</td>\n",
       "      <td>71.2833</td>\n",
       "      <td>C85</td>\n",
       "      <td>C</td>\n",
       "    </tr>\n",
       "    <tr>\n",
       "      <th>2</th>\n",
       "      <td>3</td>\n",
       "      <td>1</td>\n",
       "      <td>3</td>\n",
       "      <td>Heikkinen, Miss. Laina</td>\n",
       "      <td>female</td>\n",
       "      <td>26.0</td>\n",
       "      <td>0</td>\n",
       "      <td>0</td>\n",
       "      <td>STON/O2. 3101282</td>\n",
       "      <td>7.9250</td>\n",
       "      <td>NaN</td>\n",
       "      <td>S</td>\n",
       "    </tr>\n",
       "    <tr>\n",
       "      <th>3</th>\n",
       "      <td>4</td>\n",
       "      <td>1</td>\n",
       "      <td>1</td>\n",
       "      <td>Futrelle, Mrs. Jacques Heath (Lily May Peel)</td>\n",
       "      <td>female</td>\n",
       "      <td>35.0</td>\n",
       "      <td>1</td>\n",
       "      <td>0</td>\n",
       "      <td>113803</td>\n",
       "      <td>53.1000</td>\n",
       "      <td>C123</td>\n",
       "      <td>S</td>\n",
       "    </tr>\n",
       "    <tr>\n",
       "      <th>4</th>\n",
       "      <td>5</td>\n",
       "      <td>0</td>\n",
       "      <td>3</td>\n",
       "      <td>Allen, Mr. William Henry</td>\n",
       "      <td>male</td>\n",
       "      <td>35.0</td>\n",
       "      <td>0</td>\n",
       "      <td>0</td>\n",
       "      <td>373450</td>\n",
       "      <td>8.0500</td>\n",
       "      <td>NaN</td>\n",
       "      <td>S</td>\n",
       "    </tr>\n",
       "  </tbody>\n",
       "</table>\n",
       "</div>"
      ],
      "text/plain": [
       "   PassengerId  Survived  Pclass  \\\n",
       "0            1         0       3   \n",
       "1            2         1       1   \n",
       "2            3         1       3   \n",
       "3            4         1       1   \n",
       "4            5         0       3   \n",
       "\n",
       "                                                Name     Sex   Age  SibSp  \\\n",
       "0                            Braund, Mr. Owen Harris    male  22.0      1   \n",
       "1  Cumings, Mrs. John Bradley (Florence Briggs Th...  female  38.0      1   \n",
       "2                             Heikkinen, Miss. Laina  female  26.0      0   \n",
       "3       Futrelle, Mrs. Jacques Heath (Lily May Peel)  female  35.0      1   \n",
       "4                           Allen, Mr. William Henry    male  35.0      0   \n",
       "\n",
       "   Parch            Ticket     Fare Cabin Embarked  \n",
       "0      0         A/5 21171   7.2500   NaN        S  \n",
       "1      0          PC 17599  71.2833   C85        C  \n",
       "2      0  STON/O2. 3101282   7.9250   NaN        S  \n",
       "3      0            113803  53.1000  C123        S  \n",
       "4      0            373450   8.0500   NaN        S  "
      ]
     },
     "execution_count": 204,
     "metadata": {},
     "output_type": "execute_result"
    }
   ],
   "source": [
    "# 40p 부터\n",
    "import pandas as pd\n",
    "tdf = pd.read_csv('titanic_train.csv')\n",
    "tdf.head()"
   ]
  },
  {
   "cell_type": "code",
   "execution_count": 90,
   "id": "a5889c47",
   "metadata": {},
   "outputs": [
    {
     "name": "stdout",
     "output_type": "stream",
     "text": [
      "<class 'pandas.core.frame.DataFrame'>\n",
      "RangeIndex: 891 entries, 0 to 890\n",
      "Data columns (total 12 columns):\n",
      " #   Column       Non-Null Count  Dtype  \n",
      "---  ------       --------------  -----  \n",
      " 0   PassengerId  891 non-null    int64  \n",
      " 1   Survived     891 non-null    int64  \n",
      " 2   Pclass       891 non-null    int64  \n",
      " 3   Name         891 non-null    object \n",
      " 4   Sex          891 non-null    object \n",
      " 5   Age          714 non-null    float64\n",
      " 6   SibSp        891 non-null    int64  \n",
      " 7   Parch        891 non-null    int64  \n",
      " 8   Ticket       891 non-null    object \n",
      " 9   Fare         891 non-null    float64\n",
      " 10  Cabin        204 non-null    object \n",
      " 11  Embarked     889 non-null    object \n",
      "dtypes: float64(2), int64(5), object(5)\n",
      "memory usage: 83.7+ KB\n"
     ]
    }
   ],
   "source": [
    "tdf.info()"
   ]
  },
  {
   "cell_type": "code",
   "execution_count": 92,
   "id": "9c23cfa4",
   "metadata": {},
   "outputs": [
    {
     "data": {
      "text/plain": [
       "3    491\n",
       "1    216\n",
       "2    184\n",
       "Name: Pclass, dtype: int64"
      ]
     },
     "execution_count": 92,
     "metadata": {},
     "output_type": "execute_result"
    }
   ],
   "source": [
    "vcounts = tdf['Pclass'].value_counts()\n",
    "vcounts"
   ]
  },
  {
   "cell_type": "markdown",
   "id": "9731c49c",
   "metadata": {},
   "source": [
    "#### 과제_0913_5 (49p)\n",
    "- 데이터프레임과 리스트, 딕셔너리, ndarray 상호 변환 사례를 작성하여 설명하세요."
   ]
  },
  {
   "cell_type": "code",
   "execution_count": 160,
   "id": "f2a84a97",
   "metadata": {
    "collapsed": true
   },
   "outputs": [
    {
     "name": "stdout",
     "output_type": "stream",
     "text": [
      "[[1, 2, 3, 4, 5, 6, 7, 8, 9, 10, 11, 12, 13, 14, 15, 16, 17, 18, 19, 20, 21, 22, 23, 24, 25, 26, 27, 28, 29, 30, 31, 32, 33, 34, 35, 36, 37, 38, 39, 40, 41, 42, 43, 44, 45, 46, 47, 48, 49, 50, 51, 52, 53, 54, 55, 56, 57, 58, 59, 60, 61, 62, 63, 64, 65, 66, 67, 68, 69, 70, 71, 72, 73, 74, 75, 76, 77, 78, 79, 80, 81, 82, 83, 84, 85, 86, 87, 88, 89, 90, 91, 92, 93, 94, 95, 96, 97, 98, 99, 100, 101, 102, 103, 104, 105, 106, 107, 108, 109, 110, 111, 112, 113, 114, 115, 116, 117, 118, 119, 120, 121, 122, 123, 124, 125, 126, 127, 128, 129, 130, 131, 132, 133, 134, 135, 136, 137, 138, 139, 140, 141, 142, 143, 144, 145, 146, 147, 148, 149, 150, 151, 152, 153, 154, 155, 156, 157, 158, 159, 160, 161, 162, 163, 164, 165, 166, 167, 168, 169, 170, 171, 172, 173, 174, 175, 176, 177, 178, 179, 180, 181, 182, 183, 184, 185, 186, 187, 188, 189, 190, 191, 192, 193, 194, 195, 196, 197, 198, 199, 200, 201, 202, 203, 204, 205, 206, 207, 208, 209, 210, 211, 212, 213, 214, 215, 216, 217, 218, 219, 220, 221, 222, 223, 224, 225, 226, 227, 228, 229, 230, 231, 232, 233, 234, 235, 236, 237, 238, 239, 240, 241, 242, 243, 244, 245, 246, 247, 248, 249, 250, 251, 252, 253, 254, 255, 256, 257, 258, 259, 260, 261, 262, 263, 264, 265, 266, 267, 268, 269, 270, 271, 272, 273, 274, 275, 276, 277, 278, 279, 280, 281, 282, 283, 284, 285, 286, 287, 288, 289, 290, 291, 292, 293, 294, 295, 296, 297, 298, 299, 300, 301, 302, 303, 304, 305, 306, 307, 308, 309, 310, 311, 312, 313, 314, 315, 316, 317, 318, 319, 320, 321, 322, 323, 324, 325, 326, 327, 328, 329, 330, 331, 332, 333, 334, 335, 336, 337, 338, 339, 340, 341, 342, 343, 344, 345, 346, 347, 348, 349, 350, 351, 352, 353, 354, 355, 356, 357, 358, 359, 360, 361, 362, 363, 364, 365, 366, 367, 368, 369, 370, 371, 372, 373, 374, 375, 376, 377, 378, 379, 380, 381, 382, 383, 384, 385, 386, 387, 388, 389, 390, 391, 392, 393, 394, 395, 396, 397, 398, 399, 400, 401, 402, 403, 404, 405, 406, 407, 408, 409, 410, 411, 412, 413, 414, 415, 416, 417, 418, 419, 420, 421, 422, 423, 424, 425, 426, 427, 428, 429, 430, 431, 432, 433, 434, 435, 436, 437, 438, 439, 440, 441, 442, 443, 444, 445, 446, 447, 448, 449, 450, 451, 452, 453, 454, 455, 456, 457, 458, 459, 460, 461, 462, 463, 464, 465, 466, 467, 468, 469, 470, 471, 472, 473, 474, 475, 476, 477, 478, 479, 480, 481, 482, 483, 484, 485, 486, 487, 488, 489, 490, 491, 492, 493, 494, 495, 496, 497, 498, 499, 500, 501, 502, 503, 504, 505, 506, 507, 508, 509, 510, 511, 512, 513, 514, 515, 516, 517, 518, 519, 520, 521, 522, 523, 524, 525, 526, 527, 528, 529, 530, 531, 532, 533, 534, 535, 536, 537, 538, 539, 540, 541, 542, 543, 544, 545, 546, 547, 548, 549, 550, 551, 552, 553, 554, 555, 556, 557, 558, 559, 560, 561, 562, 563, 564, 565, 566, 567, 568, 569, 570, 571, 572, 573, 574, 575, 576, 577, 578, 579, 580, 581, 582, 583, 584, 585, 586, 587, 588, 589, 590, 591, 592, 593, 594, 595, 596, 597, 598, 599, 600, 601, 602, 603, 604, 605, 606, 607, 608, 609, 610, 611, 612, 613, 614, 615, 616, 617, 618, 619, 620, 621, 622, 623, 624, 625, 626, 627, 628, 629, 630, 631, 632, 633, 634, 635, 636, 637, 638, 639, 640, 641, 642, 643, 644, 645, 646, 647, 648, 649, 650, 651, 652, 653, 654, 655, 656, 657, 658, 659, 660, 661, 662, 663, 664, 665, 666, 667, 668, 669, 670, 671, 672, 673, 674, 675, 676, 677, 678, 679, 680, 681, 682, 683, 684, 685, 686, 687, 688, 689, 690, 691, 692, 693, 694, 695, 696, 697, 698, 699, 700, 701, 702, 703, 704, 705, 706, 707, 708, 709, 710, 711, 712, 713, 714, 715, 716, 717, 718, 719, 720, 721, 722, 723, 724, 725, 726, 727, 728, 729, 730, 731, 732, 733, 734, 735, 736, 737, 738, 739, 740, 741, 742, 743, 744, 745, 746, 747, 748, 749, 750, 751, 752, 753, 754, 755, 756, 757, 758, 759, 760, 761, 762, 763, 764, 765, 766, 767, 768, 769, 770, 771, 772, 773, 774, 775, 776, 777, 778, 779, 780, 781, 782, 783, 784, 785, 786, 787, 788, 789, 790, 791, 792, 793, 794, 795, 796, 797, 798, 799, 800, 801, 802, 803, 804, 805, 806, 807, 808, 809, 810, 811, 812, 813, 814, 815, 816, 817, 818, 819, 820, 821, 822, 823, 824, 825, 826, 827, 828, 829, 830, 831, 832, 833, 834, 835, 836, 837, 838, 839, 840, 841, 842, 843, 844, 845, 846, 847, 848, 849, 850, 851, 852, 853, 854, 855, 856, 857, 858, 859, 860, 861, 862, 863, 864, 865, 866, 867, 868, 869, 870, 871, 872, 873, 874, 875, 876, 877, 878, 879, 880, 881, 882, 883, 884, 885, 886, 887, 888, 889, 890, 891], [0, 1, 1, 1, 0, 0, 0, 0, 1, 1, 1, 1, 0, 0, 0, 1, 0, 1, 0, 1, 0, 1, 1, 1, 0, 1, 0, 0, 1, 0, 0, 1, 1, 0, 0, 0, 1, 0, 0, 1, 0, 0, 0, 1, 1, 0, 0, 1, 0, 0, 0, 0, 1, 1, 0, 1, 1, 0, 1, 0, 0, 1, 0, 0, 0, 1, 1, 0, 1, 0, 0, 0, 0, 0, 1, 0, 0, 0, 1, 1, 0, 1, 1, 0, 1, 1, 0, 0, 1, 0, 0, 0, 0, 0, 0, 0, 0, 1, 1, 0, 0, 0, 0, 0, 0, 0, 1, 1, 0, 1, 0, 0, 0, 0, 0, 0, 0, 0, 0, 0, 0, 0, 0, 1, 0, 1, 0, 1, 1, 0, 0, 0, 0, 1, 0, 0, 1, 0, 0, 0, 0, 1, 1, 0, 0, 0, 1, 0, 0, 0, 0, 1, 0, 0, 0, 0, 1, 0, 0, 0, 0, 1, 0, 0, 0, 1, 1, 0, 0, 0, 0, 0, 1, 0, 0, 0, 0, 0, 0, 0, 0, 0, 0, 1, 1, 0, 1, 1, 0, 0, 1, 0, 1, 1, 1, 1, 0, 0, 1, 0, 0, 0, 0, 0, 1, 0, 0, 1, 1, 1, 0, 1, 0, 0, 0, 1, 1, 0, 1, 0, 1, 0, 0, 0, 1, 0, 1, 0, 0, 0, 1, 0, 0, 1, 0, 0, 0, 1, 0, 0, 0, 1, 0, 0, 0, 0, 0, 1, 1, 0, 0, 0, 0, 0, 0, 1, 1, 1, 1, 1, 0, 1, 0, 0, 0, 0, 0, 1, 1, 1, 0, 1, 1, 0, 1, 1, 0, 0, 0, 1, 0, 0, 0, 1, 0, 0, 1, 0, 1, 1, 1, 1, 0, 0, 0, 0, 0, 0, 1, 1, 1, 1, 0, 1, 0, 1, 1, 1, 0, 1, 1, 1, 0, 0, 0, 1, 1, 0, 1, 1, 0, 0, 1, 1, 0, 1, 0, 1, 1, 1, 1, 0, 0, 0, 1, 0, 0, 1, 1, 0, 1, 1, 0, 0, 0, 1, 1, 1, 1, 0, 0, 0, 0, 0, 0, 0, 1, 0, 1, 1, 0, 0, 0, 0, 0, 0, 1, 1, 1, 1, 1, 0, 0, 0, 0, 1, 1, 0, 0, 0, 1, 1, 0, 1, 0, 0, 0, 1, 0, 1, 1, 1, 0, 1, 1, 0, 0, 0, 0, 1, 1, 0, 0, 0, 0, 0, 0, 1, 0, 0, 0, 0, 1, 0, 1, 0, 1, 1, 0, 0, 0, 0, 0, 0, 0, 0, 1, 1, 0, 1, 1, 1, 1, 0, 0, 1, 0, 1, 0, 0, 1, 0, 0, 1, 1, 1, 1, 1, 1, 1, 0, 0, 0, 1, 0, 1, 0, 1, 1, 0, 1, 0, 0, 0, 0, 0, 0, 0, 0, 1, 0, 0, 1, 1, 0, 0, 0, 0, 0, 1, 0, 0, 0, 1, 1, 0, 1, 0, 0, 1, 0, 0, 0, 0, 0, 0, 1, 0, 0, 0, 0, 0, 0, 0, 1, 0, 1, 1, 0, 1, 1, 0, 1, 1, 0, 0, 1, 0, 1, 0, 1, 0, 0, 1, 0, 0, 1, 0, 0, 0, 1, 0, 0, 1, 0, 1, 0, 1, 0, 1, 1, 0, 0, 1, 0, 0, 1, 1, 0, 1, 1, 0, 0, 1, 1, 0, 1, 0, 1, 1, 0, 0, 0, 0, 0, 0, 0, 0, 0, 1, 1, 1, 1, 1, 0, 0, 1, 1, 0, 1, 1, 1, 0, 0, 0, 1, 0, 1, 0, 0, 0, 1, 0, 0, 0, 0, 1, 0, 0, 1, 1, 0, 0, 0, 1, 0, 0, 1, 1, 1, 0, 0, 1, 0, 0, 1, 0, 0, 1, 0, 0, 1, 1, 0, 0, 0, 0, 1, 0, 0, 1, 0, 1, 0, 0, 1, 0, 0, 0, 0, 0, 1, 0, 1, 1, 1, 0, 1, 0, 1, 0, 1, 0, 1, 0, 0, 0, 0, 0, 0, 1, 0, 0, 0, 1, 0, 0, 0, 0, 1, 1, 0, 0, 1, 0, 0, 0, 1, 0, 1, 0, 1, 0, 0, 0, 0, 0, 0, 0, 1, 1, 1, 1, 0, 0, 0, 0, 1, 0, 0, 1, 1, 0, 0, 0, 0, 1, 1, 1, 1, 1, 0, 1, 0, 0, 0, 1, 1, 0, 0, 1, 0, 0, 0, 1, 0, 1, 1, 0, 0, 1, 0, 0, 0, 0, 0, 0, 1, 0, 0, 1, 0, 1, 0, 1, 0, 0, 1, 0, 0, 1, 1, 0, 0, 1, 1, 0, 0, 0, 1, 0, 0, 1, 1, 0, 1, 0, 0, 0, 0, 0, 0, 0, 0, 1, 0, 0, 1, 0, 1, 1, 1, 0, 0, 0, 0, 1, 0, 1, 0, 0, 0, 0, 0, 0, 0, 1, 1, 0, 0, 0, 1, 1, 1, 1, 0, 0, 0, 0, 1, 0, 0, 0, 0, 0, 0, 0, 0, 0, 0, 1, 1, 0, 1, 0, 0, 0, 1, 1, 1, 1, 1, 0, 0, 0, 1, 0, 0, 1, 1, 0, 0, 1, 0, 0, 0, 0, 0, 0, 1, 0, 0, 0, 1, 0, 1, 1, 1, 1, 0, 0, 0, 1, 0, 0, 1, 1, 0, 0, 1, 0, 1, 0, 0, 1, 1, 0, 0, 0, 1, 1, 0, 0, 0, 0, 0, 0, 1, 0, 1, 0], [3, 1, 3, 1, 3, 3, 1, 3, 3, 2, 3, 1, 3, 3, 3, 2, 3, 2, 3, 3, 2, 2, 3, 1, 3, 3, 3, 1, 3, 3, 1, 1, 3, 2, 1, 1, 3, 3, 3, 3, 3, 2, 3, 2, 3, 3, 3, 3, 3, 3, 3, 3, 1, 2, 1, 1, 2, 3, 2, 3, 3, 1, 1, 3, 1, 3, 2, 3, 3, 3, 2, 3, 2, 3, 3, 3, 3, 3, 2, 3, 3, 3, 3, 1, 2, 3, 3, 3, 1, 3, 3, 3, 1, 3, 3, 3, 1, 1, 2, 2, 3, 3, 1, 3, 3, 3, 3, 3, 3, 3, 1, 3, 3, 3, 3, 3, 3, 2, 1, 3, 2, 3, 2, 2, 1, 3, 3, 3, 3, 3, 3, 3, 3, 2, 2, 2, 1, 1, 3, 1, 3, 3, 3, 3, 2, 2, 3, 3, 2, 2, 2, 1, 3, 3, 3, 1, 3, 3, 3, 3, 3, 2, 3, 3, 3, 3, 1, 3, 1, 3, 1, 3, 3, 3, 1, 3, 3, 1, 2, 3, 3, 2, 3, 2, 3, 1, 3, 1, 3, 3, 2, 2, 3, 2, 1, 1, 3, 3, 3, 2, 3, 3, 3, 3, 3, 3, 3, 3, 3, 1, 3, 2, 3, 2, 3, 1, 3, 2, 1, 2, 3, 2, 3, 3, 1, 3, 2, 3, 2, 3, 1, 3, 2, 3, 2, 3, 2, 2, 2, 2, 3, 3, 2, 3, 3, 1, 3, 2, 1, 2, 3, 3, 1, 3, 3, 3, 1, 1, 1, 2, 3, 3, 1, 1, 3, 2, 3, 3, 1, 1, 1, 3, 2, 1, 3, 1, 3, 2, 3, 3, 3, 3, 3, 3, 1, 3, 3, 3, 2, 3, 1, 1, 2, 3, 3, 1, 3, 1, 1, 1, 3, 3, 3, 2, 3, 1, 1, 1, 2, 1, 1, 1, 2, 3, 2, 3, 2, 2, 1, 1, 3, 3, 2, 2, 3, 1, 3, 2, 3, 1, 3, 1, 1, 3, 1, 3, 1, 1, 3, 1, 2, 1, 2, 2, 2, 2, 2, 3, 3, 3, 3, 1, 3, 3, 3, 3, 1, 2, 3, 3, 3, 2, 3, 3, 3, 3, 1, 3, 3, 1, 1, 3, 3, 1, 3, 1, 3, 1, 3, 3, 1, 3, 3, 1, 3, 2, 3, 2, 3, 2, 1, 3, 3, 1, 3, 3, 3, 2, 2, 2, 3, 3, 3, 3, 3, 2, 3, 2, 3, 3, 3, 3, 1, 2, 3, 3, 2, 2, 2, 3, 3, 3, 3, 3, 3, 3, 2, 2, 3, 3, 1, 3, 2, 3, 1, 1, 3, 2, 1, 2, 2, 3, 3, 2, 3, 1, 2, 1, 3, 1, 2, 3, 1, 1, 3, 3, 1, 1, 2, 3, 1, 3, 1, 2, 3, 3, 2, 1, 3, 3, 3, 3, 2, 2, 3, 1, 2, 3, 3, 3, 3, 2, 3, 3, 1, 3, 1, 1, 3, 3, 3, 3, 1, 1, 3, 3, 1, 3, 1, 3, 3, 3, 3, 3, 1, 1, 2, 1, 3, 3, 3, 3, 1, 1, 3, 1, 2, 3, 2, 3, 1, 3, 3, 1, 3, 3, 2, 1, 3, 2, 2, 3, 3, 3, 3, 2, 1, 1, 3, 1, 1, 3, 3, 2, 1, 1, 2, 2, 3, 2, 1, 2, 3, 3, 3, 1, 1, 1, 1, 3, 3, 3, 2, 3, 3, 3, 3, 3, 3, 3, 2, 1, 1, 3, 3, 3, 2, 1, 3, 3, 2, 1, 2, 1, 3, 1, 2, 1, 3, 3, 3, 1, 3, 3, 2, 3, 2, 3, 3, 1, 2, 3, 1, 3, 1, 3, 3, 1, 2, 1, 3, 3, 3, 3, 3, 2, 3, 3, 2, 2, 3, 1, 3, 3, 3, 1, 2, 1, 3, 3, 1, 3, 1, 1, 3, 2, 3, 2, 3, 3, 3, 1, 3, 3, 3, 1, 3, 1, 3, 3, 3, 2, 3, 3, 3, 2, 3, 3, 2, 1, 1, 3, 1, 3, 3, 2, 2, 3, 3, 1, 2, 1, 2, 2, 2, 3, 3, 3, 3, 1, 3, 1, 3, 3, 2, 2, 3, 3, 3, 1, 1, 3, 3, 3, 1, 2, 3, 3, 1, 3, 1, 1, 3, 3, 3, 2, 2, 1, 1, 3, 1, 1, 1, 3, 2, 3, 1, 2, 3, 3, 2, 3, 2, 2, 1, 3, 2, 3, 2, 3, 1, 3, 2, 2, 2, 3, 3, 1, 3, 3, 1, 1, 1, 3, 3, 1, 3, 2, 1, 3, 2, 3, 3, 3, 2, 2, 3, 2, 3, 1, 3, 3, 3, 1, 3, 1, 1, 3, 3, 3, 3, 3, 2, 3, 2, 3, 3, 3, 3, 1, 3, 1, 1, 3, 3, 3, 3, 3, 3, 1, 3, 2, 3, 1, 3, 2, 1, 3, 3, 3, 2, 2, 1, 3, 3, 3, 1, 3, 2, 1, 3, 3, 2, 3, 3, 1, 3, 2, 3, 3, 1, 3, 1, 3, 3, 3, 3, 2, 3, 1, 3, 2, 3, 3, 3, 1, 3, 3, 3, 1, 3, 2, 1, 3, 3, 3, 3, 3, 2, 1, 3, 3, 3, 1, 2, 3, 1, 1, 3, 3, 3, 2, 1, 3, 2, 2, 2, 1, 3, 3, 3, 1, 1, 3, 2, 3, 3, 3, 3, 1, 2, 3, 3, 2, 3, 3, 2, 1, 3, 1, 3], ['Braund, Mr. Owen Harris', 'Cumings, Mrs. John Bradley (Florence Briggs Thayer)', 'Heikkinen, Miss. Laina', 'Futrelle, Mrs. Jacques Heath (Lily May Peel)', 'Allen, Mr. William Henry', 'Moran, Mr. James', 'McCarthy, Mr. Timothy J', 'Palsson, Master. Gosta Leonard', 'Johnson, Mrs. Oscar W (Elisabeth Vilhelmina Berg)', 'Nasser, Mrs. Nicholas (Adele Achem)', 'Sandstrom, Miss. Marguerite Rut', 'Bonnell, Miss. Elizabeth', 'Saundercock, Mr. William Henry', 'Andersson, Mr. Anders Johan', 'Vestrom, Miss. Hulda Amanda Adolfina', 'Hewlett, Mrs. (Mary D Kingcome) ', 'Rice, Master. Eugene', 'Williams, Mr. Charles Eugene', 'Vander Planke, Mrs. Julius (Emelia Maria Vandemoortele)', 'Masselmani, Mrs. Fatima', 'Fynney, Mr. Joseph J', 'Beesley, Mr. Lawrence', 'McGowan, Miss. Anna \"Annie\"', 'Sloper, Mr. William Thompson', 'Palsson, Miss. Torborg Danira', 'Asplund, Mrs. Carl Oscar (Selma Augusta Emilia Johansson)', 'Emir, Mr. Farred Chehab', 'Fortune, Mr. Charles Alexander', 'O\\'Dwyer, Miss. Ellen \"Nellie\"', 'Todoroff, Mr. Lalio', 'Uruchurtu, Don. Manuel E', 'Spencer, Mrs. William Augustus (Marie Eugenie)', 'Glynn, Miss. Mary Agatha', 'Wheadon, Mr. Edward H', 'Meyer, Mr. Edgar Joseph', 'Holverson, Mr. Alexander Oskar', 'Mamee, Mr. Hanna', 'Cann, Mr. Ernest Charles', 'Vander Planke, Miss. Augusta Maria', 'Nicola-Yarred, Miss. Jamila', 'Ahlin, Mrs. Johan (Johanna Persdotter Larsson)', 'Turpin, Mrs. William John Robert (Dorothy Ann Wonnacott)', 'Kraeff, Mr. Theodor', 'Laroche, Miss. Simonne Marie Anne Andree', 'Devaney, Miss. Margaret Delia', 'Rogers, Mr. William John', 'Lennon, Mr. Denis', \"O'Driscoll, Miss. Bridget\", 'Samaan, Mr. Youssef', 'Arnold-Franchi, Mrs. Josef (Josefine Franchi)', 'Panula, Master. Juha Niilo', 'Nosworthy, Mr. Richard Cater', 'Harper, Mrs. Henry Sleeper (Myna Haxtun)', 'Faunthorpe, Mrs. Lizzie (Elizabeth Anne Wilkinson)', 'Ostby, Mr. Engelhart Cornelius', 'Woolner, Mr. Hugh', 'Rugg, Miss. Emily', 'Novel, Mr. Mansouer', 'West, Miss. Constance Mirium', 'Goodwin, Master. William Frederick', 'Sirayanian, Mr. Orsen', 'Icard, Miss. Amelie', 'Harris, Mr. Henry Birkhardt', 'Skoog, Master. Harald', 'Stewart, Mr. Albert A', 'Moubarek, Master. Gerios', 'Nye, Mrs. (Elizabeth Ramell)', 'Crease, Mr. Ernest James', 'Andersson, Miss. Erna Alexandra', 'Kink, Mr. Vincenz', 'Jenkin, Mr. Stephen Curnow', 'Goodwin, Miss. Lillian Amy', 'Hood, Mr. Ambrose Jr', 'Chronopoulos, Mr. Apostolos', 'Bing, Mr. Lee', 'Moen, Mr. Sigurd Hansen', 'Staneff, Mr. Ivan', 'Moutal, Mr. Rahamin Haim', 'Caldwell, Master. Alden Gates', 'Dowdell, Miss. Elizabeth', 'Waelens, Mr. Achille', 'Sheerlinck, Mr. Jan Baptist', 'McDermott, Miss. Brigdet Delia', 'Carrau, Mr. Francisco M', 'Ilett, Miss. Bertha', 'Backstrom, Mrs. Karl Alfred (Maria Mathilda Gustafsson)', 'Ford, Mr. William Neal', 'Slocovski, Mr. Selman Francis', 'Fortune, Miss. Mabel Helen', 'Celotti, Mr. Francesco', 'Christmann, Mr. Emil', 'Andreasson, Mr. Paul Edvin', 'Chaffee, Mr. Herbert Fuller', 'Dean, Mr. Bertram Frank', 'Coxon, Mr. Daniel', 'Shorney, Mr. Charles Joseph', 'Goldschmidt, Mr. George B', 'Greenfield, Mr. William Bertram', 'Doling, Mrs. John T (Ada Julia Bone)', 'Kantor, Mr. Sinai', 'Petranec, Miss. Matilda', 'Petroff, Mr. Pastcho (\"Pentcho\")', 'White, Mr. Richard Frasar', 'Johansson, Mr. Gustaf Joel', 'Gustafsson, Mr. Anders Vilhelm', 'Mionoff, Mr. Stoytcho', 'Salkjelsvik, Miss. Anna Kristine', 'Moss, Mr. Albert Johan', 'Rekic, Mr. Tido', 'Moran, Miss. Bertha', 'Porter, Mr. Walter Chamberlain', 'Zabour, Miss. Hileni', 'Barton, Mr. David John', 'Jussila, Miss. Katriina', 'Attalah, Miss. Malake', 'Pekoniemi, Mr. Edvard', 'Connors, Mr. Patrick', 'Turpin, Mr. William John Robert', 'Baxter, Mr. Quigg Edmond', 'Andersson, Miss. Ellis Anna Maria', 'Hickman, Mr. Stanley George', 'Moore, Mr. Leonard Charles', 'Nasser, Mr. Nicholas', 'Webber, Miss. Susan', 'White, Mr. Percival Wayland', 'Nicola-Yarred, Master. Elias', 'McMahon, Mr. Martin', 'Madsen, Mr. Fridtjof Arne', 'Peter, Miss. Anna', 'Ekstrom, Mr. Johan', 'Drazenoic, Mr. Jozef', 'Coelho, Mr. Domingos Fernandeo', 'Robins, Mrs. Alexander A (Grace Charity Laury)', 'Weisz, Mrs. Leopold (Mathilde Francoise Pede)', 'Sobey, Mr. Samuel James Hayden', 'Richard, Mr. Emile', 'Newsom, Miss. Helen Monypeny', 'Futrelle, Mr. Jacques Heath', 'Osen, Mr. Olaf Elon', 'Giglio, Mr. Victor', 'Boulos, Mrs. Joseph (Sultana)', 'Nysten, Miss. Anna Sofia', 'Hakkarainen, Mrs. Pekka Pietari (Elin Matilda Dolck)', 'Burke, Mr. Jeremiah', 'Andrew, Mr. Edgardo Samuel', 'Nicholls, Mr. Joseph Charles', 'Andersson, Mr. August Edvard (\"Wennerstrom\")', 'Ford, Miss. Robina Maggie \"Ruby\"', 'Navratil, Mr. Michel (\"Louis M Hoffman\")', 'Byles, Rev. Thomas Roussel Davids', 'Bateman, Rev. Robert James', 'Pears, Mrs. Thomas (Edith Wearne)', 'Meo, Mr. Alfonzo', 'van Billiard, Mr. Austin Blyler', 'Olsen, Mr. Ole Martin', 'Williams, Mr. Charles Duane', 'Gilnagh, Miss. Katherine \"Katie\"', 'Corn, Mr. Harry', 'Smiljanic, Mr. Mile', 'Sage, Master. Thomas Henry', 'Cribb, Mr. John Hatfield', 'Watt, Mrs. James (Elizabeth \"Bessie\" Inglis Milne)', 'Bengtsson, Mr. John Viktor', 'Calic, Mr. Jovo', 'Panula, Master. Eino Viljami', 'Goldsmith, Master. Frank John William \"Frankie\"', 'Chibnall, Mrs. (Edith Martha Bowerman)', 'Skoog, Mrs. William (Anna Bernhardina Karlsson)', 'Baumann, Mr. John D', 'Ling, Mr. Lee', 'Van der hoef, Mr. Wyckoff', 'Rice, Master. Arthur', 'Johnson, Miss. Eleanor Ileen', 'Sivola, Mr. Antti Wilhelm', 'Smith, Mr. James Clinch', 'Klasen, Mr. Klas Albin', 'Lefebre, Master. Henry Forbes', 'Isham, Miss. Ann Elizabeth', 'Hale, Mr. Reginald', 'Leonard, Mr. Lionel', 'Sage, Miss. Constance Gladys', 'Pernot, Mr. Rene', 'Asplund, Master. Clarence Gustaf Hugo', 'Becker, Master. Richard F', 'Kink-Heilmann, Miss. Luise Gretchen', 'Rood, Mr. Hugh Roscoe', 'O\\'Brien, Mrs. Thomas (Johanna \"Hannah\" Godfrey)', 'Romaine, Mr. Charles Hallace (\"Mr C Rolmane\")', 'Bourke, Mr. John', 'Turcin, Mr. Stjepan', 'Pinsky, Mrs. (Rosa)', 'Carbines, Mr. William', 'Andersen-Jensen, Miss. Carla Christine Nielsine', 'Navratil, Master. Michel M', 'Brown, Mrs. James Joseph (Margaret Tobin)', 'Lurette, Miss. Elise', 'Mernagh, Mr. Robert', 'Olsen, Mr. Karl Siegwart Andreas', 'Madigan, Miss. Margaret \"Maggie\"', 'Yrois, Miss. Henriette (\"Mrs Harbeck\")', 'Vande Walle, Mr. Nestor Cyriel', 'Sage, Mr. Frederick', 'Johanson, Mr. Jakob Alfred', 'Youseff, Mr. Gerious', 'Cohen, Mr. Gurshon \"Gus\"', 'Strom, Miss. Telma Matilda', 'Backstrom, Mr. Karl Alfred', 'Albimona, Mr. Nassef Cassem', 'Carr, Miss. Helen \"Ellen\"', 'Blank, Mr. Henry', 'Ali, Mr. Ahmed', 'Cameron, Miss. Clear Annie', 'Perkin, Mr. John Henry', 'Givard, Mr. Hans Kristensen', 'Kiernan, Mr. Philip', 'Newell, Miss. Madeleine', 'Honkanen, Miss. Eliina', 'Jacobsohn, Mr. Sidney Samuel', 'Bazzani, Miss. Albina', 'Harris, Mr. Walter', 'Sunderland, Mr. Victor Francis', 'Bracken, Mr. James H', 'Green, Mr. George Henry', 'Nenkoff, Mr. Christo', 'Hoyt, Mr. Frederick Maxfield', 'Berglund, Mr. Karl Ivar Sven', 'Mellors, Mr. William John', 'Lovell, Mr. John Hall (\"Henry\")', 'Fahlstrom, Mr. Arne Jonas', 'Lefebre, Miss. Mathilde', 'Harris, Mrs. Henry Birkhardt (Irene Wallach)', 'Larsson, Mr. Bengt Edvin', 'Sjostedt, Mr. Ernst Adolf', 'Asplund, Miss. Lillian Gertrud', 'Leyson, Mr. Robert William Norman', 'Harknett, Miss. Alice Phoebe', 'Hold, Mr. Stephen', 'Collyer, Miss. Marjorie \"Lottie\"', 'Pengelly, Mr. Frederick William', 'Hunt, Mr. George Henry', 'Zabour, Miss. Thamine', 'Murphy, Miss. Katherine \"Kate\"', 'Coleridge, Mr. Reginald Charles', 'Maenpaa, Mr. Matti Alexanteri', 'Attalah, Mr. Sleiman', 'Minahan, Dr. William Edward', 'Lindahl, Miss. Agda Thorilda Viktoria', 'Hamalainen, Mrs. William (Anna)', 'Beckwith, Mr. Richard Leonard', 'Carter, Rev. Ernest Courtenay', 'Reed, Mr. James George', 'Strom, Mrs. Wilhelm (Elna Matilda Persson)', 'Stead, Mr. William Thomas', 'Lobb, Mr. William Arthur', 'Rosblom, Mrs. Viktor (Helena Wilhelmina)', 'Touma, Mrs. Darwis (Hanne Youssef Razi)', 'Thorne, Mrs. Gertrude Maybelle', 'Cherry, Miss. Gladys', 'Ward, Miss. Anna', 'Parrish, Mrs. (Lutie Davis)', 'Smith, Mr. Thomas', 'Asplund, Master. Edvin Rojj Felix', 'Taussig, Mr. Emil', 'Harrison, Mr. William', 'Henry, Miss. Delia', 'Reeves, Mr. David', 'Panula, Mr. Ernesti Arvid', 'Persson, Mr. Ernst Ulrik', 'Graham, Mrs. William Thompson (Edith Junkins)', 'Bissette, Miss. Amelia', 'Cairns, Mr. Alexander', 'Tornquist, Mr. William Henry', 'Mellinger, Mrs. (Elizabeth Anne Maidment)', 'Natsch, Mr. Charles H', 'Healy, Miss. Hanora \"Nora\"', 'Andrews, Miss. Kornelia Theodosia', 'Lindblom, Miss. Augusta Charlotta', 'Parkes, Mr. Francis \"Frank\"', 'Rice, Master. Eric', 'Abbott, Mrs. Stanton (Rosa Hunt)', 'Duane, Mr. Frank', 'Olsson, Mr. Nils Johan Goransson', 'de Pelsmaeker, Mr. Alfons', 'Dorking, Mr. Edward Arthur', 'Smith, Mr. Richard William', 'Stankovic, Mr. Ivan', 'de Mulder, Mr. Theodore', 'Naidenoff, Mr. Penko', 'Hosono, Mr. Masabumi', 'Connolly, Miss. Kate', 'Barber, Miss. Ellen \"Nellie\"', 'Bishop, Mrs. Dickinson H (Helen Walton)', 'Levy, Mr. Rene Jacques', 'Haas, Miss. Aloisia', 'Mineff, Mr. Ivan', 'Lewy, Mr. Ervin G', 'Hanna, Mr. Mansour', 'Allison, Miss. Helen Loraine', 'Saalfeld, Mr. Adolphe', 'Baxter, Mrs. James (Helene DeLaudeniere Chaput)', 'Kelly, Miss. Anna Katherine \"Annie Kate\"', 'McCoy, Mr. Bernard', 'Johnson, Mr. William Cahoone Jr', 'Keane, Miss. Nora A', 'Williams, Mr. Howard Hugh \"Harry\"', 'Allison, Master. Hudson Trevor', 'Fleming, Miss. Margaret', 'Penasco y Castellana, Mrs. Victor de Satode (Maria Josefa Perez de Soto y Vallejo)', 'Abelson, Mr. Samuel', 'Francatelli, Miss. Laura Mabel', 'Hays, Miss. Margaret Bechstein', 'Ryerson, Miss. Emily Borie', 'Lahtinen, Mrs. William (Anna Sylfven)', 'Hendekovic, Mr. Ignjac', 'Hart, Mr. Benjamin', 'Nilsson, Miss. Helmina Josefina', 'Kantor, Mrs. Sinai (Miriam Sternin)', 'Moraweck, Dr. Ernest', 'Wick, Miss. Mary Natalie', 'Spedden, Mrs. Frederic Oakley (Margaretta Corning Stone)', 'Dennis, Mr. Samuel', 'Danoff, Mr. Yoto', 'Slayter, Miss. Hilda Mary', 'Caldwell, Mrs. Albert Francis (Sylvia Mae Harbaugh)', 'Sage, Mr. George John Jr', 'Young, Miss. Marie Grice', 'Nysveen, Mr. Johan Hansen', 'Ball, Mrs. (Ada E Hall)', 'Goldsmith, Mrs. Frank John (Emily Alice Brown)', 'Hippach, Miss. Jean Gertrude', 'McCoy, Miss. Agnes', 'Partner, Mr. Austen', 'Graham, Mr. George Edward', 'Vander Planke, Mr. Leo Edmondus', 'Frauenthal, Mrs. Henry William (Clara Heinsheimer)', 'Denkoff, Mr. Mitto', 'Pears, Mr. Thomas Clinton', 'Burns, Miss. Elizabeth Margaret', 'Dahl, Mr. Karl Edwart', 'Blackwell, Mr. Stephen Weart', 'Navratil, Master. Edmond Roger', 'Fortune, Miss. Alice Elizabeth', 'Collander, Mr. Erik Gustaf', 'Sedgwick, Mr. Charles Frederick Waddington', 'Fox, Mr. Stanley Hubert', 'Brown, Miss. Amelia \"Mildred\"', 'Smith, Miss. Marion Elsie', 'Davison, Mrs. Thomas Henry (Mary E Finck)', 'Coutts, Master. William Loch \"William\"', 'Dimic, Mr. Jovan', 'Odahl, Mr. Nils Martin', 'Williams-Lambert, Mr. Fletcher Fellows', 'Elias, Mr. Tannous', 'Arnold-Franchi, Mr. Josef', 'Yousif, Mr. Wazli', 'Vanden Steen, Mr. Leo Peter', 'Bowerman, Miss. Elsie Edith', 'Funk, Miss. Annie Clemmer', 'McGovern, Miss. Mary', 'Mockler, Miss. Helen Mary \"Ellie\"', 'Skoog, Mr. Wilhelm', 'del Carlo, Mr. Sebastiano', 'Barbara, Mrs. (Catherine David)', 'Asim, Mr. Adola', \"O'Brien, Mr. Thomas\", 'Adahl, Mr. Mauritz Nils Martin', 'Warren, Mrs. Frank Manley (Anna Sophia Atkinson)', 'Moussa, Mrs. (Mantoura Boulos)', 'Jermyn, Miss. Annie', 'Aubart, Mme. Leontine Pauline', 'Harder, Mr. George Achilles', 'Wiklund, Mr. Jakob Alfred', 'Beavan, Mr. William Thomas', 'Ringhini, Mr. Sante', 'Palsson, Miss. Stina Viola', 'Meyer, Mrs. Edgar Joseph (Leila Saks)', 'Landergren, Miss. Aurora Adelia', 'Widener, Mr. Harry Elkins', 'Betros, Mr. Tannous', 'Gustafsson, Mr. Karl Gideon', 'Bidois, Miss. Rosalie', 'Nakid, Miss. Maria (\"Mary\")', 'Tikkanen, Mr. Juho', 'Holverson, Mrs. Alexander Oskar (Mary Aline Towner)', 'Plotcharsky, Mr. Vasil', 'Davies, Mr. Charles Henry', 'Goodwin, Master. Sidney Leonard', 'Buss, Miss. Kate', 'Sadlier, Mr. Matthew', 'Lehmann, Miss. Bertha', 'Carter, Mr. William Ernest', 'Jansson, Mr. Carl Olof', 'Gustafsson, Mr. Johan Birger', 'Newell, Miss. Marjorie', 'Sandstrom, Mrs. Hjalmar (Agnes Charlotta Bengtsson)', 'Johansson, Mr. Erik', 'Olsson, Miss. Elina', 'McKane, Mr. Peter David', 'Pain, Dr. Alfred', 'Trout, Mrs. William H (Jessie L)', 'Niskanen, Mr. Juha', 'Adams, Mr. John', 'Jussila, Miss. Mari Aina', 'Hakkarainen, Mr. Pekka Pietari', 'Oreskovic, Miss. Marija', 'Gale, Mr. Shadrach', 'Widegren, Mr. Carl/Charles Peter', 'Richards, Master. William Rowe', 'Birkeland, Mr. Hans Martin Monsen', 'Lefebre, Miss. Ida', 'Sdycoff, Mr. Todor', 'Hart, Mr. Henry', 'Minahan, Miss. Daisy E', 'Cunningham, Mr. Alfred Fleming', 'Sundman, Mr. Johan Julian', 'Meek, Mrs. Thomas (Annie Louise Rowley)', 'Drew, Mrs. James Vivian (Lulu Thorne Christian)', 'Silven, Miss. Lyyli Karoliina', 'Matthews, Mr. William John', 'Van Impe, Miss. Catharina', 'Gheorgheff, Mr. Stanio', 'Charters, Mr. David', 'Zimmerman, Mr. Leo', 'Danbom, Mrs. Ernst Gilbert (Anna Sigrid Maria Brogren)', 'Rosblom, Mr. Viktor Richard', 'Wiseman, Mr. Phillippe', 'Clarke, Mrs. Charles V (Ada Maria Winfield)', 'Phillips, Miss. Kate Florence (\"Mrs Kate Louise Phillips Marshall\")', 'Flynn, Mr. James', 'Pickard, Mr. Berk (Berk Trembisky)', 'Bjornstrom-Steffansson, Mr. Mauritz Hakan', 'Thorneycroft, Mrs. Percival (Florence Kate White)', 'Louch, Mrs. Charles Alexander (Alice Adelaide Slow)', 'Kallio, Mr. Nikolai Erland', 'Silvey, Mr. William Baird', 'Carter, Miss. Lucile Polk', 'Ford, Miss. Doolina Margaret \"Daisy\"', 'Richards, Mrs. Sidney (Emily Hocking)', 'Fortune, Mr. Mark', 'Kvillner, Mr. Johan Henrik Johannesson', 'Hart, Mrs. Benjamin (Esther Ada Bloomfield)', 'Hampe, Mr. Leon', 'Petterson, Mr. Johan Emil', 'Reynaldo, Ms. Encarnacion', 'Johannesen-Bratthammer, Mr. Bernt', 'Dodge, Master. Washington', 'Mellinger, Miss. Madeleine Violet', 'Seward, Mr. Frederic Kimber', 'Baclini, Miss. Marie Catherine', 'Peuchen, Major. Arthur Godfrey', 'West, Mr. Edwy Arthur', 'Hagland, Mr. Ingvald Olai Olsen', 'Foreman, Mr. Benjamin Laventall', 'Goldenberg, Mr. Samuel L', 'Peduzzi, Mr. Joseph', 'Jalsevac, Mr. Ivan', 'Millet, Mr. Francis Davis', 'Kenyon, Mrs. Frederick R (Marion)', 'Toomey, Miss. Ellen', \"O'Connor, Mr. Maurice\", 'Anderson, Mr. Harry', 'Morley, Mr. William', 'Gee, Mr. Arthur H', 'Milling, Mr. Jacob Christian', 'Maisner, Mr. Simon', 'Goncalves, Mr. Manuel Estanslas', 'Campbell, Mr. William', 'Smart, Mr. John Montgomery', 'Scanlan, Mr. James', 'Baclini, Miss. Helene Barbara', 'Keefe, Mr. Arthur', 'Cacic, Mr. Luka', 'West, Mrs. Edwy Arthur (Ada Mary Worth)', 'Jerwan, Mrs. Amin S (Marie Marthe Thuillard)', 'Strandberg, Miss. Ida Sofia', 'Clifford, Mr. George Quincy', 'Renouf, Mr. Peter Henry', 'Braund, Mr. Lewis Richard', 'Karlsson, Mr. Nils August', 'Hirvonen, Miss. Hildur E', 'Goodwin, Master. Harold Victor', 'Frost, Mr. Anthony Wood \"Archie\"', 'Rouse, Mr. Richard Henry', 'Turkula, Mrs. (Hedwig)', 'Bishop, Mr. Dickinson H', 'Lefebre, Miss. Jeannie', 'Hoyt, Mrs. Frederick Maxfield (Jane Anne Forby)', 'Kent, Mr. Edward Austin', 'Somerton, Mr. Francis William', 'Coutts, Master. Eden Leslie \"Neville\"', 'Hagland, Mr. Konrad Mathias Reiersen', 'Windelov, Mr. Einar', 'Molson, Mr. Harry Markland', 'Artagaveytia, Mr. Ramon', 'Stanley, Mr. Edward Roland', 'Yousseff, Mr. Gerious', 'Eustis, Miss. Elizabeth Mussey', 'Shellard, Mr. Frederick William', 'Allison, Mrs. Hudson J C (Bessie Waldo Daniels)', 'Svensson, Mr. Olof', 'Calic, Mr. Petar', 'Canavan, Miss. Mary', \"O'Sullivan, Miss. Bridget Mary\", 'Laitinen, Miss. Kristina Sofia', 'Maioni, Miss. Roberta', 'Penasco y Castellana, Mr. Victor de Satode', 'Quick, Mrs. Frederick Charles (Jane Richards)', 'Bradley, Mr. George (\"George Arthur Brayton\")', 'Olsen, Mr. Henry Margido', 'Lang, Mr. Fang', 'Daly, Mr. Eugene Patrick', 'Webber, Mr. James', 'McGough, Mr. James Robert', 'Rothschild, Mrs. Martin (Elizabeth L. Barrett)', 'Coleff, Mr. Satio', 'Walker, Mr. William Anderson', 'Lemore, Mrs. (Amelia Milley)', 'Ryan, Mr. Patrick', 'Angle, Mrs. William A (Florence \"Mary\" Agnes Hughes)', 'Pavlovic, Mr. Stefo', 'Perreault, Miss. Anne', 'Vovk, Mr. Janko', 'Lahoud, Mr. Sarkis', 'Hippach, Mrs. Louis Albert (Ida Sophia Fischer)', 'Kassem, Mr. Fared', 'Farrell, Mr. James', 'Ridsdale, Miss. Lucy', 'Farthing, Mr. John', 'Salonen, Mr. Johan Werner', 'Hocking, Mr. Richard George', 'Quick, Miss. Phyllis May', 'Toufik, Mr. Nakli', 'Elias, Mr. Joseph Jr', 'Peter, Mrs. Catherine (Catherine Rizk)', 'Cacic, Miss. Marija', 'Hart, Miss. Eva Miriam', 'Butt, Major. Archibald Willingham', 'LeRoy, Miss. Bertha', 'Risien, Mr. Samuel Beard', 'Frolicher, Miss. Hedwig Margaritha', 'Crosby, Miss. Harriet R', 'Andersson, Miss. Ingeborg Constanzia', 'Andersson, Miss. Sigrid Elisabeth', 'Beane, Mr. Edward', 'Douglas, Mr. Walter Donald', 'Nicholson, Mr. Arthur Ernest', 'Beane, Mrs. Edward (Ethel Clarke)', 'Padro y Manent, Mr. Julian', 'Goldsmith, Mr. Frank John', 'Davies, Master. John Morgan Jr', 'Thayer, Mr. John Borland Jr', 'Sharp, Mr. Percival James R', \"O'Brien, Mr. Timothy\", 'Leeni, Mr. Fahim (\"Philip Zenni\")', 'Ohman, Miss. Velin', 'Wright, Mr. George', 'Duff Gordon, Lady. (Lucille Christiana Sutherland) (\"Mrs Morgan\")', 'Robbins, Mr. Victor', 'Taussig, Mrs. Emil (Tillie Mandelbaum)', 'de Messemaeker, Mrs. Guillaume Joseph (Emma)', 'Morrow, Mr. Thomas Rowan', 'Sivic, Mr. Husein', 'Norman, Mr. Robert Douglas', 'Simmons, Mr. John', 'Meanwell, Miss. (Marion Ogden)', 'Davies, Mr. Alfred J', 'Stoytcheff, Mr. Ilia', 'Palsson, Mrs. Nils (Alma Cornelia Berglund)', 'Doharr, Mr. Tannous', 'Jonsson, Mr. Carl', 'Harris, Mr. George', 'Appleton, Mrs. Edward Dale (Charlotte Lamson)', 'Flynn, Mr. John Irwin (\"Irving\")', 'Kelly, Miss. Mary', 'Rush, Mr. Alfred George John', 'Patchett, Mr. George', 'Garside, Miss. Ethel', 'Silvey, Mrs. William Baird (Alice Munger)', 'Caram, Mrs. Joseph (Maria Elias)', 'Jussila, Mr. Eiriik', 'Christy, Miss. Julie Rachel', 'Thayer, Mrs. John Borland (Marian Longstreth Morris)', 'Downton, Mr. William James', 'Ross, Mr. John Hugo', 'Paulner, Mr. Uscher', 'Taussig, Miss. Ruth', 'Jarvis, Mr. John Denzil', 'Frolicher-Stehli, Mr. Maxmillian', 'Gilinski, Mr. Eliezer', 'Murdlin, Mr. Joseph', 'Rintamaki, Mr. Matti', 'Stephenson, Mrs. Walter Bertram (Martha Eustis)', 'Elsbury, Mr. William James', 'Bourke, Miss. Mary', 'Chapman, Mr. John Henry', 'Van Impe, Mr. Jean Baptiste', 'Leitch, Miss. Jessie Wills', 'Johnson, Mr. Alfred', 'Boulos, Mr. Hanna', 'Duff Gordon, Sir. Cosmo Edmund (\"Mr Morgan\")', 'Jacobsohn, Mrs. Sidney Samuel (Amy Frances Christy)', 'Slabenoff, Mr. Petco', 'Harrington, Mr. Charles H', 'Torber, Mr. Ernst William', 'Homer, Mr. Harry (\"Mr E Haven\")', 'Lindell, Mr. Edvard Bengtsson', 'Karaic, Mr. Milan', 'Daniel, Mr. Robert Williams', 'Laroche, Mrs. Joseph (Juliette Marie Louise Lafargue)', 'Shutes, Miss. Elizabeth W', 'Andersson, Mrs. Anders Johan (Alfrida Konstantia Brogren)', 'Jardin, Mr. Jose Neto', 'Murphy, Miss. Margaret Jane', 'Horgan, Mr. John', 'Brocklebank, Mr. William Alfred', 'Herman, Miss. Alice', 'Danbom, Mr. Ernst Gilbert', 'Lobb, Mrs. William Arthur (Cordelia K Stanlick)', 'Becker, Miss. Marion Louise', 'Gavey, Mr. Lawrence', 'Yasbeck, Mr. Antoni', 'Kimball, Mr. Edwin Nelson Jr', 'Nakid, Mr. Sahid', 'Hansen, Mr. Henry Damsgaard', 'Bowen, Mr. David John \"Dai\"', 'Sutton, Mr. Frederick', 'Kirkland, Rev. Charles Leonard', 'Longley, Miss. Gretchen Fiske', 'Bostandyeff, Mr. Guentcho', \"O'Connell, Mr. Patrick D\", 'Barkworth, Mr. Algernon Henry Wilson', 'Lundahl, Mr. Johan Svensson', 'Stahelin-Maeglin, Dr. Max', 'Parr, Mr. William Henry Marsh', 'Skoog, Miss. Mabel', 'Davis, Miss. Mary', 'Leinonen, Mr. Antti Gustaf', 'Collyer, Mr. Harvey', 'Panula, Mrs. Juha (Maria Emilia Ojala)', 'Thorneycroft, Mr. Percival', 'Jensen, Mr. Hans Peder', 'Sagesser, Mlle. Emma', 'Skoog, Miss. Margit Elizabeth', 'Foo, Mr. Choong', 'Baclini, Miss. Eugenie', 'Harper, Mr. Henry Sleeper', 'Cor, Mr. Liudevit', 'Simonius-Blumer, Col. Oberst Alfons', 'Willey, Mr. Edward', 'Stanley, Miss. Amy Zillah Elsie', 'Mitkoff, Mr. Mito', 'Doling, Miss. Elsie', 'Kalvik, Mr. Johannes Halvorsen', 'O\\'Leary, Miss. Hanora \"Norah\"', 'Hegarty, Miss. Hanora \"Nora\"', 'Hickman, Mr. Leonard Mark', 'Radeff, Mr. Alexander', 'Bourke, Mrs. John (Catherine)', 'Eitemiller, Mr. George Floyd', 'Newell, Mr. Arthur Webster', 'Frauenthal, Dr. Henry William', 'Badt, Mr. Mohamed', 'Colley, Mr. Edward Pomeroy', 'Coleff, Mr. Peju', 'Lindqvist, Mr. Eino William', 'Hickman, Mr. Lewis', 'Butler, Mr. Reginald Fenton', 'Rommetvedt, Mr. Knud Paust', 'Cook, Mr. Jacob', 'Taylor, Mrs. Elmer Zebley (Juliet Cummins Wright)', 'Brown, Mrs. Thomas William Solomon (Elizabeth Catherine Ford)', 'Davidson, Mr. Thornton', 'Mitchell, Mr. Henry Michael', 'Wilhelms, Mr. Charles', 'Watson, Mr. Ennis Hastings', 'Edvardsson, Mr. Gustaf Hjalmar', 'Sawyer, Mr. Frederick Charles', 'Turja, Miss. Anna Sofia', 'Goodwin, Mrs. Frederick (Augusta Tyler)', 'Cardeza, Mr. Thomas Drake Martinez', 'Peters, Miss. Katie', 'Hassab, Mr. Hammad', 'Olsvigen, Mr. Thor Anderson', 'Goodwin, Mr. Charles Edward', 'Brown, Mr. Thomas William Solomon', 'Laroche, Mr. Joseph Philippe Lemercier', 'Panula, Mr. Jaako Arnold', 'Dakic, Mr. Branko', 'Fischer, Mr. Eberhard Thelander', 'Madill, Miss. Georgette Alexandra', 'Dick, Mr. Albert Adrian', 'Karun, Miss. Manca', 'Lam, Mr. Ali', 'Saad, Mr. Khalil', 'Weir, Col. John', 'Chapman, Mr. Charles Henry', 'Kelly, Mr. James', 'Mullens, Miss. Katherine \"Katie\"', 'Thayer, Mr. John Borland', 'Humblen, Mr. Adolf Mathias Nicolai Olsen', 'Astor, Mrs. John Jacob (Madeleine Talmadge Force)', 'Silverthorne, Mr. Spencer Victor', 'Barbara, Miss. Saiide', 'Gallagher, Mr. Martin', 'Hansen, Mr. Henrik Juul', 'Morley, Mr. Henry Samuel (\"Mr Henry Marshall\")', 'Kelly, Mrs. Florence \"Fannie\"', 'Calderhead, Mr. Edward Pennington', 'Cleaver, Miss. Alice', 'Moubarek, Master. Halim Gonios (\"William George\")', 'Mayne, Mlle. Berthe Antonine (\"Mrs de Villiers\")', 'Klaber, Mr. Herman', 'Taylor, Mr. Elmer Zebley', 'Larsson, Mr. August Viktor', 'Greenberg, Mr. Samuel', 'Soholt, Mr. Peter Andreas Lauritz Andersen', 'Endres, Miss. Caroline Louise', 'Troutt, Miss. Edwina Celia \"Winnie\"', 'McEvoy, Mr. Michael', 'Johnson, Mr. Malkolm Joackim', 'Harper, Miss. Annie Jessie \"Nina\"', 'Jensen, Mr. Svend Lauritz', 'Gillespie, Mr. William Henry', 'Hodges, Mr. Henry Price', 'Chambers, Mr. Norman Campbell', 'Oreskovic, Mr. Luka', 'Renouf, Mrs. Peter Henry (Lillian Jefferys)', 'Mannion, Miss. Margareth', 'Bryhl, Mr. Kurt Arnold Gottfrid', 'Ilmakangas, Miss. Pieta Sofia', 'Allen, Miss. Elisabeth Walton', 'Hassan, Mr. Houssein G N', 'Knight, Mr. Robert J', 'Berriman, Mr. William John', 'Troupiansky, Mr. Moses Aaron', 'Williams, Mr. Leslie', 'Ford, Mrs. Edward (Margaret Ann Watson)', 'Lesurer, Mr. Gustave J', 'Ivanoff, Mr. Kanio', 'Nankoff, Mr. Minko', 'Hawksford, Mr. Walter James', 'Cavendish, Mr. Tyrell William', 'Ryerson, Miss. Susan Parker \"Suzette\"', 'McNamee, Mr. Neal', 'Stranden, Mr. Juho', 'Crosby, Capt. Edward Gifford', 'Abbott, Mr. Rossmore Edward', 'Sinkkonen, Miss. Anna', 'Marvin, Mr. Daniel Warner', 'Connaghton, Mr. Michael', 'Wells, Miss. Joan', 'Moor, Master. Meier', 'Vande Velde, Mr. Johannes Joseph', 'Jonkoff, Mr. Lalio', 'Herman, Mrs. Samuel (Jane Laver)', 'Hamalainen, Master. Viljo', 'Carlsson, Mr. August Sigfrid', 'Bailey, Mr. Percy Andrew', 'Theobald, Mr. Thomas Leonard', 'Rothes, the Countess. of (Lucy Noel Martha Dyer-Edwards)', 'Garfirth, Mr. John', 'Nirva, Mr. Iisakki Antino Aijo', 'Barah, Mr. Hanna Assi', 'Carter, Mrs. William Ernest (Lucile Polk)', 'Eklund, Mr. Hans Linus', 'Hogeboom, Mrs. John C (Anna Andrews)', 'Brewe, Dr. Arthur Jackson', 'Mangan, Miss. Mary', 'Moran, Mr. Daniel J', 'Gronnestad, Mr. Daniel Danielsen', 'Lievens, Mr. Rene Aime', 'Jensen, Mr. Niels Peder', 'Mack, Mrs. (Mary)', 'Elias, Mr. Dibo', 'Hocking, Mrs. Elizabeth (Eliza Needs)', 'Myhrman, Mr. Pehr Fabian Oliver Malkolm', 'Tobin, Mr. Roger', 'Emanuel, Miss. Virginia Ethel', 'Kilgannon, Mr. Thomas J', 'Robert, Mrs. Edward Scott (Elisabeth Walton McMillan)', 'Ayoub, Miss. Banoura', 'Dick, Mrs. Albert Adrian (Vera Gillespie)', 'Long, Mr. Milton Clyde', 'Johnston, Mr. Andrew G', 'Ali, Mr. William', 'Harmer, Mr. Abraham (David Lishin)', 'Sjoblom, Miss. Anna Sofia', 'Rice, Master. George Hugh', 'Dean, Master. Bertram Vere', 'Guggenheim, Mr. Benjamin', 'Keane, Mr. Andrew \"Andy\"', 'Gaskell, Mr. Alfred', 'Sage, Miss. Stella Anna', 'Hoyt, Mr. William Fisher', 'Dantcheff, Mr. Ristiu', 'Otter, Mr. Richard', 'Leader, Dr. Alice (Farnham)', 'Osman, Mrs. Mara', 'Ibrahim Shawah, Mr. Yousseff', 'Van Impe, Mrs. Jean Baptiste (Rosalie Paula Govaert)', 'Ponesell, Mr. Martin', 'Collyer, Mrs. Harvey (Charlotte Annie Tate)', 'Carter, Master. William Thornton II', 'Thomas, Master. Assad Alexander', 'Hedman, Mr. Oskar Arvid', 'Johansson, Mr. Karl Johan', 'Andrews, Mr. Thomas Jr', 'Pettersson, Miss. Ellen Natalia', 'Meyer, Mr. August', 'Chambers, Mrs. Norman Campbell (Bertha Griggs)', 'Alexander, Mr. William', 'Lester, Mr. James', 'Slemen, Mr. Richard James', 'Andersson, Miss. Ebba Iris Alfrida', 'Tomlin, Mr. Ernest Portage', 'Fry, Mr. Richard', 'Heininen, Miss. Wendla Maria', 'Mallet, Mr. Albert', 'Holm, Mr. John Fredrik Alexander', 'Skoog, Master. Karl Thorsten', 'Hays, Mrs. Charles Melville (Clara Jennings Gregg)', 'Lulic, Mr. Nikola', 'Reuchlin, Jonkheer. John George', 'Moor, Mrs. (Beila)', 'Panula, Master. Urho Abraham', 'Flynn, Mr. John', 'Lam, Mr. Len', 'Mallet, Master. Andre', 'McCormack, Mr. Thomas Joseph', 'Stone, Mrs. George Nelson (Martha Evelyn)', 'Yasbeck, Mrs. Antoni (Selini Alexander)', 'Richards, Master. George Sibley', 'Saad, Mr. Amin', 'Augustsson, Mr. Albert', 'Allum, Mr. Owen George', 'Compton, Miss. Sara Rebecca', 'Pasic, Mr. Jakob', 'Sirota, Mr. Maurice', 'Chip, Mr. Chang', 'Marechal, Mr. Pierre', 'Alhomaki, Mr. Ilmari Rudolf', 'Mudd, Mr. Thomas Charles', 'Serepeca, Miss. Augusta', 'Lemberopolous, Mr. Peter L', 'Culumovic, Mr. Jeso', 'Abbing, Mr. Anthony', 'Sage, Mr. Douglas Bullen', 'Markoff, Mr. Marin', 'Harper, Rev. John', 'Goldenberg, Mrs. Samuel L (Edwiga Grabowska)', 'Andersson, Master. Sigvard Harald Elias', 'Svensson, Mr. Johan', 'Boulos, Miss. Nourelain', 'Lines, Miss. Mary Conover', 'Carter, Mrs. Ernest Courtenay (Lilian Hughes)', 'Aks, Mrs. Sam (Leah Rosen)', 'Wick, Mrs. George Dennick (Mary Hitchcock)', 'Daly, Mr. Peter Denis ', 'Baclini, Mrs. Solomon (Latifa Qurban)', 'Razi, Mr. Raihed', 'Hansen, Mr. Claus Peter', 'Giles, Mr. Frederick Edward', 'Swift, Mrs. Frederick Joel (Margaret Welles Barron)', 'Sage, Miss. Dorothy Edith \"Dolly\"', 'Gill, Mr. John William', 'Bystrom, Mrs. (Karolina)', 'Duran y More, Miss. Asuncion', 'Roebling, Mr. Washington Augustus II', 'van Melkebeke, Mr. Philemon', 'Johnson, Master. Harold Theodor', 'Balkic, Mr. Cerin', 'Beckwith, Mrs. Richard Leonard (Sallie Monypeny)', 'Carlsson, Mr. Frans Olof', 'Vander Cruyssen, Mr. Victor', 'Abelson, Mrs. Samuel (Hannah Wizosky)', 'Najib, Miss. Adele Kiamie \"Jane\"', 'Gustafsson, Mr. Alfred Ossian', 'Petroff, Mr. Nedelio', 'Laleff, Mr. Kristo', 'Potter, Mrs. Thomas Jr (Lily Alexenia Wilson)', 'Shelley, Mrs. William (Imanita Parrish Hall)', 'Markun, Mr. Johann', 'Dahlberg, Miss. Gerda Ulrika', 'Banfield, Mr. Frederick James', 'Sutehall, Mr. Henry Jr', 'Rice, Mrs. William (Margaret Norton)', 'Montvila, Rev. Juozas', 'Graham, Miss. Margaret Edith', 'Johnston, Miss. Catherine Helen \"Carrie\"', 'Behr, Mr. Karl Howell', 'Dooley, Mr. Patrick'], ['male', 'female', 'female', 'female', 'male', 'male', 'male', 'male', 'female', 'female', 'female', 'female', 'male', 'male', 'female', 'female', 'male', 'male', 'female', 'female', 'male', 'male', 'female', 'male', 'female', 'female', 'male', 'male', 'female', 'male', 'male', 'female', 'female', 'male', 'male', 'male', 'male', 'male', 'female', 'female', 'female', 'female', 'male', 'female', 'female', 'male', 'male', 'female', 'male', 'female', 'male', 'male', 'female', 'female', 'male', 'male', 'female', 'male', 'female', 'male', 'male', 'female', 'male', 'male', 'male', 'male', 'female', 'male', 'female', 'male', 'male', 'female', 'male', 'male', 'male', 'male', 'male', 'male', 'male', 'female', 'male', 'male', 'female', 'male', 'female', 'female', 'male', 'male', 'female', 'male', 'male', 'male', 'male', 'male', 'male', 'male', 'male', 'male', 'female', 'male', 'female', 'male', 'male', 'male', 'male', 'male', 'female', 'male', 'male', 'female', 'male', 'female', 'male', 'female', 'female', 'male', 'male', 'male', 'male', 'female', 'male', 'male', 'male', 'female', 'male', 'male', 'male', 'male', 'female', 'male', 'male', 'male', 'female', 'female', 'male', 'male', 'female', 'male', 'male', 'male', 'female', 'female', 'female', 'male', 'male', 'male', 'male', 'female', 'male', 'male', 'male', 'female', 'male', 'male', 'male', 'male', 'female', 'male', 'male', 'male', 'male', 'female', 'male', 'male', 'male', 'male', 'female', 'female', 'male', 'male', 'male', 'male', 'female', 'male', 'male', 'male', 'male', 'female', 'male', 'male', 'female', 'male', 'male', 'male', 'female', 'male', 'female', 'male', 'male', 'male', 'female', 'male', 'female', 'male', 'female', 'female', 'male', 'male', 'female', 'female', 'male', 'male', 'male', 'male', 'male', 'female', 'male', 'male', 'female', 'male', 'male', 'female', 'male', 'male', 'male', 'female', 'female', 'male', 'female', 'male', 'male', 'male', 'male', 'male', 'male', 'male', 'male', 'male', 'male', 'female', 'female', 'male', 'male', 'female', 'male', 'female', 'male', 'female', 'male', 'male', 'female', 'female', 'male', 'male', 'male', 'male', 'female', 'female', 'male', 'male', 'male', 'female', 'male', 'male', 'female', 'female', 'female', 'female', 'female', 'female', 'male', 'male', 'male', 'male', 'female', 'male', 'male', 'male', 'female', 'female', 'male', 'male', 'female', 'male', 'female', 'female', 'female', 'male', 'male', 'female', 'male', 'male', 'male', 'male', 'male', 'male', 'male', 'male', 'male', 'female', 'female', 'female', 'male', 'female', 'male', 'male', 'male', 'female', 'male', 'female', 'female', 'male', 'male', 'female', 'male', 'male', 'female', 'female', 'male', 'female', 'female', 'female', 'female', 'male', 'male', 'female', 'female', 'male', 'female', 'female', 'male', 'male', 'female', 'female', 'male', 'female', 'male', 'female', 'female', 'female', 'female', 'male', 'male', 'male', 'female', 'male', 'male', 'female', 'male', 'male', 'male', 'female', 'male', 'male', 'male', 'female', 'female', 'female', 'male', 'male', 'male', 'male', 'male', 'male', 'male', 'male', 'female', 'female', 'female', 'female', 'male', 'male', 'female', 'male', 'male', 'male', 'female', 'female', 'female', 'female', 'male', 'male', 'male', 'male', 'female', 'female', 'female', 'male', 'male', 'male', 'female', 'female', 'male', 'female', 'male', 'male', 'male', 'female', 'male', 'female', 'male', 'male', 'male', 'female', 'female', 'male', 'female', 'male', 'male', 'female', 'male', 'male', 'female', 'male', 'female', 'male', 'male', 'male', 'male', 'female', 'male', 'male', 'female', 'male', 'male', 'female', 'female', 'female', 'male', 'female', 'male', 'male', 'male', 'female', 'male', 'male', 'female', 'female', 'male', 'male', 'male', 'female', 'female', 'male', 'male', 'female', 'female', 'female', 'male', 'male', 'female', 'male', 'male', 'female', 'male', 'male', 'female', 'male', 'female', 'male', 'male', 'male', 'male', 'male', 'male', 'male', 'male', 'female', 'female', 'male', 'male', 'male', 'male', 'male', 'male', 'male', 'male', 'male', 'male', 'female', 'male', 'male', 'female', 'female', 'female', 'male', 'male', 'male', 'male', 'female', 'male', 'male', 'male', 'female', 'male', 'female', 'female', 'male', 'male', 'male', 'male', 'male', 'male', 'male', 'male', 'male', 'female', 'male', 'female', 'male', 'male', 'female', 'female', 'female', 'female', 'male', 'female', 'male', 'male', 'male', 'male', 'male', 'male', 'female', 'male', 'male', 'female', 'male', 'female', 'male', 'female', 'male', 'male', 'female', 'male', 'male', 'female', 'male', 'male', 'male', 'female', 'male', 'male', 'female', 'female', 'female', 'male', 'female', 'male', 'female', 'female', 'female', 'female', 'male', 'male', 'male', 'female', 'male', 'male', 'male', 'male', 'male', 'male', 'male', 'female', 'male', 'female', 'male', 'female', 'female', 'male', 'male', 'male', 'male', 'female', 'male', 'male', 'female', 'male', 'male', 'male', 'female', 'male', 'female', 'male', 'male', 'female', 'female', 'female', 'male', 'female', 'female', 'male', 'male', 'male', 'female', 'male', 'male', 'male', 'male', 'male', 'female', 'male', 'female', 'male', 'male', 'female', 'male', 'male', 'male', 'female', 'male', 'male', 'male', 'male', 'male', 'male', 'male', 'female', 'female', 'female', 'male', 'female', 'male', 'male', 'female', 'male', 'female', 'female', 'male', 'male', 'male', 'male', 'male', 'male', 'male', 'male', 'female', 'male', 'male', 'male', 'male', 'male', 'male', 'female', 'female', 'male', 'male', 'female', 'male', 'male', 'female', 'female', 'male', 'female', 'male', 'male', 'male', 'male', 'female', 'male', 'female', 'male', 'female', 'female', 'male', 'male', 'female', 'male', 'male', 'male', 'male', 'male', 'male', 'male', 'male', 'male', 'male', 'male', 'female', 'female', 'male', 'male', 'male', 'male', 'male', 'male', 'female', 'female', 'male', 'female', 'male', 'male', 'male', 'male', 'male', 'male', 'male', 'male', 'female', 'male', 'female', 'male', 'male', 'male', 'male', 'male', 'female', 'male', 'male', 'female', 'male', 'female', 'male', 'male', 'male', 'female', 'male', 'female', 'male', 'female', 'male', 'male', 'male', 'male', 'male', 'female', 'female', 'male', 'male', 'female', 'male', 'male', 'male', 'male', 'male', 'female', 'female', 'male', 'female', 'female', 'male', 'male', 'male', 'male', 'male', 'female', 'male', 'male', 'male', 'male', 'male', 'female', 'male', 'male', 'male', 'male', 'female', 'male', 'male', 'female', 'male', 'male', 'male', 'female', 'male', 'male', 'male', 'male', 'female', 'male', 'male', 'male', 'female', 'male', 'female', 'male', 'female', 'male', 'male', 'male', 'male', 'female', 'male', 'female', 'male', 'male', 'female', 'male', 'female', 'female', 'female', 'male', 'male', 'male', 'male', 'female', 'male', 'male', 'male', 'male', 'male', 'female', 'male', 'male', 'male', 'female', 'female', 'male', 'female', 'male', 'female', 'male', 'male', 'male', 'male', 'male', 'female', 'male', 'female', 'male', 'male', 'male', 'female', 'male', 'male', 'female', 'male', 'male', 'male', 'female', 'male', 'male', 'female', 'male', 'male', 'male', 'male', 'male', 'female', 'female', 'male', 'male', 'male', 'male', 'female', 'male', 'male', 'male', 'male', 'male', 'male', 'female', 'male', 'male', 'male', 'male', 'male', 'male', 'female', 'male', 'male', 'female', 'female', 'female', 'female', 'female', 'male', 'female', 'male', 'male', 'male', 'female', 'female', 'male', 'female', 'female', 'male', 'male', 'male', 'male', 'female', 'male', 'male', 'female', 'female', 'male', 'male', 'male', 'female', 'female', 'male', 'female', 'male', 'male', 'female', 'male', 'female', 'female', 'male', 'male'], [22.0, 38.0, 26.0, 35.0, 35.0, nan, 54.0, 2.0, 27.0, 14.0, 4.0, 58.0, 20.0, 39.0, 14.0, 55.0, 2.0, nan, 31.0, nan, 35.0, 34.0, 15.0, 28.0, 8.0, 38.0, nan, 19.0, nan, nan, 40.0, nan, nan, 66.0, 28.0, 42.0, nan, 21.0, 18.0, 14.0, 40.0, 27.0, nan, 3.0, 19.0, nan, nan, nan, nan, 18.0, 7.0, 21.0, 49.0, 29.0, 65.0, nan, 21.0, 28.5, 5.0, 11.0, 22.0, 38.0, 45.0, 4.0, nan, nan, 29.0, 19.0, 17.0, 26.0, 32.0, 16.0, 21.0, 26.0, 32.0, 25.0, nan, nan, 0.83, 30.0, 22.0, 29.0, nan, 28.0, 17.0, 33.0, 16.0, nan, 23.0, 24.0, 29.0, 20.0, 46.0, 26.0, 59.0, nan, 71.0, 23.0, 34.0, 34.0, 28.0, nan, 21.0, 33.0, 37.0, 28.0, 21.0, nan, 38.0, nan, 47.0, 14.5, 22.0, 20.0, 17.0, 21.0, 70.5, 29.0, 24.0, 2.0, 21.0, nan, 32.5, 32.5, 54.0, 12.0, nan, 24.0, nan, 45.0, 33.0, 20.0, 47.0, 29.0, 25.0, 23.0, 19.0, 37.0, 16.0, 24.0, nan, 22.0, 24.0, 19.0, 18.0, 19.0, 27.0, 9.0, 36.5, 42.0, 51.0, 22.0, 55.5, 40.5, nan, 51.0, 16.0, 30.0, nan, nan, 44.0, 40.0, 26.0, 17.0, 1.0, 9.0, nan, 45.0, nan, 28.0, 61.0, 4.0, 1.0, 21.0, 56.0, 18.0, nan, 50.0, 30.0, 36.0, nan, nan, 9.0, 1.0, 4.0, nan, nan, 45.0, 40.0, 36.0, 32.0, 19.0, 19.0, 3.0, 44.0, 58.0, nan, 42.0, nan, 24.0, 28.0, nan, 34.0, 45.5, 18.0, 2.0, 32.0, 26.0, 16.0, 40.0, 24.0, 35.0, 22.0, 30.0, nan, 31.0, 27.0, 42.0, 32.0, 30.0, 16.0, 27.0, 51.0, nan, 38.0, 22.0, 19.0, 20.5, 18.0, nan, 35.0, 29.0, 59.0, 5.0, 24.0, nan, 44.0, 8.0, 19.0, 33.0, nan, nan, 29.0, 22.0, 30.0, 44.0, 25.0, 24.0, 37.0, 54.0, nan, 29.0, 62.0, 30.0, 41.0, 29.0, nan, 30.0, 35.0, 50.0, nan, 3.0, 52.0, 40.0, nan, 36.0, 16.0, 25.0, 58.0, 35.0, nan, 25.0, 41.0, 37.0, nan, 63.0, 45.0, nan, 7.0, 35.0, 65.0, 28.0, 16.0, 19.0, nan, 33.0, 30.0, 22.0, 42.0, 22.0, 26.0, 19.0, 36.0, 24.0, 24.0, nan, 23.5, 2.0, nan, 50.0, nan, nan, 19.0, nan, nan, 0.92, nan, 17.0, 30.0, 30.0, 24.0, 18.0, 26.0, 28.0, 43.0, 26.0, 24.0, 54.0, 31.0, 40.0, 22.0, 27.0, 30.0, 22.0, nan, 36.0, 61.0, 36.0, 31.0, 16.0, nan, 45.5, 38.0, 16.0, nan, nan, 29.0, 41.0, 45.0, 45.0, 2.0, 24.0, 28.0, 25.0, 36.0, 24.0, 40.0, nan, 3.0, 42.0, 23.0, nan, 15.0, 25.0, nan, 28.0, 22.0, 38.0, nan, nan, 40.0, 29.0, 45.0, 35.0, nan, 30.0, 60.0, nan, nan, 24.0, 25.0, 18.0, 19.0, 22.0, 3.0, nan, 22.0, 27.0, 20.0, 19.0, 42.0, 1.0, 32.0, 35.0, nan, 18.0, 1.0, 36.0, nan, 17.0, 36.0, 21.0, 28.0, 23.0, 24.0, 22.0, 31.0, 46.0, 23.0, 28.0, 39.0, 26.0, 21.0, 28.0, 20.0, 34.0, 51.0, 3.0, 21.0, nan, nan, nan, 33.0, nan, 44.0, nan, 34.0, 18.0, 30.0, 10.0, nan, 21.0, 29.0, 28.0, 18.0, nan, 28.0, 19.0, nan, 32.0, 28.0, nan, 42.0, 17.0, 50.0, 14.0, 21.0, 24.0, 64.0, 31.0, 45.0, 20.0, 25.0, 28.0, nan, 4.0, 13.0, 34.0, 5.0, 52.0, 36.0, nan, 30.0, 49.0, nan, 29.0, 65.0, nan, 50.0, nan, 48.0, 34.0, 47.0, 48.0, nan, 38.0, nan, 56.0, nan, 0.75, nan, 38.0, 33.0, 23.0, 22.0, nan, 34.0, 29.0, 22.0, 2.0, 9.0, nan, 50.0, 63.0, 25.0, nan, 35.0, 58.0, 30.0, 9.0, nan, 21.0, 55.0, 71.0, 21.0, nan, 54.0, nan, 25.0, 24.0, 17.0, 21.0, nan, 37.0, 16.0, 18.0, 33.0, nan, 28.0, 26.0, 29.0, nan, 36.0, 54.0, 24.0, 47.0, 34.0, nan, 36.0, 32.0, 30.0, 22.0, nan, 44.0, nan, 40.5, 50.0, nan, 39.0, 23.0, 2.0, nan, 17.0, nan, 30.0, 7.0, 45.0, 30.0, nan, 22.0, 36.0, 9.0, 11.0, 32.0, 50.0, 64.0, 19.0, nan, 33.0, 8.0, 17.0, 27.0, nan, 22.0, 22.0, 62.0, 48.0, nan, 39.0, 36.0, nan, 40.0, 28.0, nan, nan, 24.0, 19.0, 29.0, nan, 32.0, 62.0, 53.0, 36.0, nan, 16.0, 19.0, 34.0, 39.0, nan, 32.0, 25.0, 39.0, 54.0, 36.0, nan, 18.0, 47.0, 60.0, 22.0, nan, 35.0, 52.0, 47.0, nan, 37.0, 36.0, nan, 49.0, nan, 49.0, 24.0, nan, nan, 44.0, 35.0, 36.0, 30.0, 27.0, 22.0, 40.0, 39.0, nan, nan, nan, 35.0, 24.0, 34.0, 26.0, 4.0, 26.0, 27.0, 42.0, 20.0, 21.0, 21.0, 61.0, 57.0, 21.0, 26.0, nan, 80.0, 51.0, 32.0, nan, 9.0, 28.0, 32.0, 31.0, 41.0, nan, 20.0, 24.0, 2.0, nan, 0.75, 48.0, 19.0, 56.0, nan, 23.0, nan, 18.0, 21.0, nan, 18.0, 24.0, nan, 32.0, 23.0, 58.0, 50.0, 40.0, 47.0, 36.0, 20.0, 32.0, 25.0, nan, 43.0, nan, 40.0, 31.0, 70.0, 31.0, nan, 18.0, 24.5, 18.0, 43.0, 36.0, nan, 27.0, 20.0, 14.0, 60.0, 25.0, 14.0, 19.0, 18.0, 15.0, 31.0, 4.0, nan, 25.0, 60.0, 52.0, 44.0, nan, 49.0, 42.0, 18.0, 35.0, 18.0, 25.0, 26.0, 39.0, 45.0, 42.0, 22.0, nan, 24.0, nan, 48.0, 29.0, 52.0, 19.0, 38.0, 27.0, nan, 33.0, 6.0, 17.0, 34.0, 50.0, 27.0, 20.0, 30.0, nan, 25.0, 25.0, 29.0, 11.0, nan, 23.0, 23.0, 28.5, 48.0, 35.0, nan, nan, nan, 36.0, 21.0, 24.0, 31.0, 70.0, 16.0, 30.0, 19.0, 31.0, 4.0, 6.0, 33.0, 23.0, 48.0, 0.67, 28.0, 18.0, 34.0, 33.0, nan, 41.0, 20.0, 36.0, 16.0, 51.0, nan, 30.5, nan, 32.0, 24.0, 48.0, 57.0, nan, 54.0, 18.0, nan, 5.0, nan, 43.0, 13.0, 17.0, 29.0, nan, 25.0, 25.0, 18.0, 8.0, 1.0, 46.0, nan, 16.0, nan, nan, 25.0, 39.0, 49.0, 31.0, 30.0, 30.0, 34.0, 31.0, 11.0, 0.42, 27.0, 31.0, 39.0, 18.0, 39.0, 33.0, 26.0, 39.0, 35.0, 6.0, 30.5, nan, 23.0, 31.0, 43.0, 10.0, 52.0, 27.0, 38.0, 27.0, 2.0, nan, nan, 1.0, nan, 62.0, 15.0, 0.83, nan, 23.0, 18.0, 39.0, 21.0, nan, 32.0, nan, 20.0, 16.0, 30.0, 34.5, 17.0, 42.0, nan, 35.0, 28.0, nan, 4.0, 74.0, 9.0, 16.0, 44.0, 18.0, 45.0, 51.0, 24.0, nan, 41.0, 21.0, 48.0, nan, 24.0, 42.0, 27.0, 31.0, nan, 4.0, 26.0, 47.0, 33.0, 47.0, 28.0, 15.0, 20.0, 19.0, nan, 56.0, 25.0, 33.0, 22.0, 28.0, 25.0, 39.0, 27.0, 19.0, nan, 26.0, 32.0], [1, 1, 0, 1, 0, 0, 0, 3, 0, 1, 1, 0, 0, 1, 0, 0, 4, 0, 1, 0, 0, 0, 0, 0, 3, 1, 0, 3, 0, 0, 0, 1, 0, 0, 1, 1, 0, 0, 2, 1, 1, 1, 0, 1, 0, 0, 1, 0, 2, 1, 4, 0, 1, 1, 0, 0, 0, 0, 1, 5, 0, 0, 1, 3, 0, 1, 0, 0, 4, 2, 0, 5, 0, 1, 0, 0, 0, 0, 0, 0, 0, 0, 0, 0, 0, 3, 1, 0, 3, 0, 0, 0, 1, 1, 0, 0, 0, 0, 0, 1, 0, 0, 0, 0, 2, 0, 0, 0, 0, 1, 0, 1, 0, 1, 0, 0, 0, 1, 0, 4, 2, 0, 1, 0, 0, 1, 0, 0, 1, 0, 0, 0, 1, 1, 0, 0, 0, 1, 0, 0, 0, 0, 1, 0, 0, 1, 0, 2, 0, 0, 0, 1, 0, 0, 0, 0, 0, 0, 0, 8, 0, 0, 0, 0, 4, 0, 0, 1, 0, 0, 0, 4, 1, 0, 0, 1, 3, 0, 0, 0, 8, 0, 4, 2, 0, 0, 1, 0, 1, 0, 0, 0, 1, 1, 0, 0, 0, 0, 0, 0, 0, 8, 0, 0, 0, 0, 1, 0, 0, 0, 0, 0, 0, 0, 1, 1, 0, 1, 0, 0, 0, 0, 0, 0, 1, 0, 0, 0, 0, 3, 1, 0, 0, 4, 0, 0, 1, 0, 0, 0, 1, 1, 0, 0, 0, 2, 0, 0, 1, 1, 0, 1, 0, 1, 0, 0, 0, 0, 0, 0, 0, 4, 1, 0, 0, 0, 4, 1, 0, 0, 0, 0, 0, 0, 0, 1, 0, 0, 4, 1, 0, 0, 0, 0, 0, 0, 0, 0, 0, 0, 0, 1, 0, 0, 0, 0, 0, 1, 0, 0, 0, 2, 0, 0, 0, 1, 0, 1, 1, 0, 0, 2, 1, 0, 1, 0, 1, 0, 0, 1, 0, 0, 0, 1, 8, 0, 0, 0, 1, 0, 2, 0, 0, 2, 1, 0, 1, 0, 0, 0, 1, 3, 0, 0, 0, 0, 0, 1, 1, 0, 0, 0, 1, 1, 0, 0, 0, 0, 0, 0, 1, 1, 0, 0, 1, 0, 1, 0, 0, 0, 1, 1, 0, 0, 3, 1, 0, 0, 0, 0, 0, 0, 0, 1, 0, 0, 5, 0, 0, 0, 1, 0, 2, 1, 0, 0, 0, 0, 0, 0, 0, 0, 1, 1, 0, 1, 0, 1, 0, 3, 0, 0, 1, 0, 0, 0, 1, 0, 0, 0, 0, 0, 0, 1, 1, 0, 1, 0, 0, 0, 0, 1, 1, 0, 1, 1, 2, 2, 1, 0, 1, 0, 1, 0, 0, 0, 0, 0, 2, 0, 1, 1, 0, 1, 0, 0, 0, 1, 0, 0, 0, 0, 0, 0, 0, 0, 0, 0, 0, 2, 0, 0, 1, 0, 0, 0, 1, 1, 0, 0, 5, 0, 0, 0, 1, 3, 1, 0, 0, 1, 1, 0, 0, 0, 0, 0, 1, 0, 1, 0, 0, 0, 0, 0, 0, 1, 0, 0, 0, 0, 0, 0, 0, 1, 0, 0, 0, 0, 1, 0, 0, 0, 0, 0, 0, 0, 0, 0, 0, 2, 1, 0, 1, 0, 0, 0, 0, 0, 0, 0, 0, 4, 4, 1, 1, 0, 1, 0, 1, 1, 0, 0, 0, 0, 0, 0, 1, 0, 1, 1, 0, 0, 0, 0, 0, 2, 0, 0, 0, 0, 0, 2, 0, 0, 0, 0, 0, 1, 1, 0, 1, 1, 0, 0, 0, 0, 0, 1, 0, 0, 0, 1, 0, 0, 1, 1, 0, 0, 0, 1, 2, 0, 0, 0, 0, 1, 0, 0, 1, 0, 1, 0, 1, 0, 0, 1, 1, 1, 2, 0, 1, 1, 1, 0, 0, 0, 0, 0, 0, 0, 0, 0, 0, 0, 3, 0, 0, 1, 0, 1, 0, 0, 3, 0, 2, 1, 0, 0, 0, 0, 0, 0, 0, 0, 0, 2, 0, 1, 0, 0, 2, 0, 0, 0, 1, 2, 0, 0, 0, 1, 1, 1, 0, 0, 0, 0, 0, 0, 1, 0, 0, 0, 0, 5, 1, 1, 4, 0, 0, 0, 1, 0, 0, 0, 0, 0, 0, 0, 1, 0, 1, 0, 0, 0, 1, 0, 0, 0, 0, 1, 0, 0, 1, 0, 0, 0, 0, 0, 0, 0, 0, 1, 0, 0, 1, 0, 3, 0, 1, 1, 0, 0, 0, 0, 0, 0, 1, 0, 0, 0, 0, 1, 2, 1, 0, 1, 1, 0, 1, 0, 1, 0, 0, 0, 1, 1, 0, 0, 0, 0, 0, 0, 0, 1, 0, 1, 0, 0, 1, 0, 0, 0, 0, 0, 1, 0, 0, 0, 0, 0, 0, 1, 0, 1, 0, 0, 0, 4, 1, 0, 0, 0, 8, 0, 0, 0, 0, 0, 0, 1, 0, 1, 1, 0, 0, 0, 0, 0, 0, 1, 0, 0, 0, 4, 0, 0, 0, 1, 0, 3, 1, 0, 0, 0, 4, 0, 0, 0, 0, 0, 1, 1, 0, 0, 0, 1, 0, 0, 0, 0, 0, 0, 0, 0, 0, 0, 8, 0, 0, 1, 4, 0, 1, 0, 1, 0, 1, 0, 0, 0, 2, 1, 0, 8, 0, 0, 1, 0, 0, 1, 0, 1, 0, 0, 1, 0, 0, 0, 0, 0, 0, 0, 0, 0, 0, 0, 0, 0, 1, 0, 0], [0, 0, 0, 0, 0, 0, 0, 1, 2, 0, 1, 0, 0, 5, 0, 0, 1, 0, 0, 0, 0, 0, 0, 0, 1, 5, 0, 2, 0, 0, 0, 0, 0, 0, 0, 0, 0, 0, 0, 0, 0, 0, 0, 2, 0, 0, 0, 0, 0, 0, 1, 0, 0, 0, 1, 0, 0, 0, 2, 2, 0, 0, 0, 2, 0, 1, 0, 0, 2, 0, 0, 2, 0, 0, 0, 0, 0, 0, 2, 0, 0, 0, 0, 0, 0, 0, 3, 0, 2, 0, 0, 0, 0, 2, 0, 0, 0, 1, 1, 0, 0, 0, 1, 0, 0, 0, 0, 0, 0, 0, 0, 0, 0, 0, 0, 0, 0, 0, 1, 2, 0, 0, 0, 0, 1, 0, 0, 0, 1, 0, 0, 0, 0, 0, 0, 0, 2, 0, 0, 0, 2, 0, 0, 0, 0, 1, 0, 2, 2, 0, 0, 0, 0, 2, 0, 1, 0, 0, 0, 2, 1, 0, 0, 0, 1, 2, 1, 4, 0, 0, 0, 1, 1, 0, 0, 1, 1, 0, 0, 0, 2, 0, 2, 1, 2, 0, 0, 0, 1, 0, 0, 0, 0, 1, 0, 0, 0, 1, 0, 0, 0, 2, 0, 0, 0, 1, 0, 0, 0, 0, 0, 0, 0, 0, 0, 0, 0, 0, 0, 0, 0, 0, 0, 0, 0, 0, 0, 0, 0, 1, 0, 0, 0, 2, 0, 0, 0, 2, 0, 0, 0, 0, 0, 0, 0, 0, 0, 2, 1, 0, 0, 1, 0, 0, 2, 2, 0, 0, 0, 1, 0, 2, 1, 0, 0, 0, 1, 0, 1, 0, 0, 0, 1, 1, 0, 0, 0, 0, 1, 1, 0, 0, 0, 0, 0, 0, 0, 0, 0, 0, 0, 0, 0, 0, 0, 0, 0, 2, 0, 1, 0, 0, 0, 0, 0, 2, 0, 0, 0, 0, 0, 2, 1, 0, 1, 0, 0, 0, 2, 1, 0, 0, 0, 1, 2, 0, 0, 0, 1, 1, 0, 0, 1, 0, 0, 0, 0, 0, 0, 0, 1, 2, 0, 0, 0, 0, 0, 0, 1, 0, 0, 0, 1, 0, 0, 0, 1, 0, 0, 0, 4, 0, 1, 0, 0, 0, 0, 0, 0, 0, 0, 0, 0, 0, 1, 0, 0, 2, 0, 0, 0, 2, 0, 0, 0, 0, 2, 0, 0, 0, 2, 0, 0, 0, 2, 0, 0, 0, 0, 0, 0, 0, 0, 0, 0, 0, 0, 1, 0, 1, 0, 0, 0, 0, 0, 0, 1, 2, 0, 2, 0, 0, 0, 1, 1, 0, 0, 0, 0, 0, 0, 0, 0, 0, 0, 2, 2, 3, 4, 0, 1, 0, 0, 0, 0, 2, 1, 0, 1, 0, 2, 0, 0, 0, 0, 0, 0, 0, 0, 0, 0, 0, 0, 0, 0, 0, 0, 0, 0, 1, 0, 0, 2, 0, 0, 0, 0, 0, 0, 1, 2, 0, 0, 0, 0, 1, 0, 0, 0, 1, 0, 0, 0, 0, 0, 0, 0, 0, 2, 0, 0, 0, 0, 0, 0, 0, 2, 0, 0, 0, 0, 0, 0, 0, 0, 0, 0, 0, 0, 0, 0, 0, 0, 1, 0, 0, 0, 0, 0, 1, 1, 0, 1, 2, 0, 2, 0, 0, 0, 2, 2, 2, 2, 0, 0, 0, 0, 0, 1, 1, 2, 0, 0, 0, 0, 0, 0, 0, 1, 0, 0, 0, 0, 0, 0, 0, 0, 4, 0, 0, 0, 0, 0, 0, 0, 0, 0, 0, 0, 0, 1, 1, 0, 0, 0, 2, 0, 1, 0, 0, 0, 0, 0, 2, 0, 1, 0, 0, 0, 0, 1, 0, 0, 0, 0, 0, 0, 0, 2, 0, 5, 0, 0, 0, 0, 2, 1, 0, 1, 0, 0, 0, 1, 0, 0, 0, 0, 0, 0, 0, 0, 0, 0, 0, 2, 0, 0, 1, 5, 0, 0, 0, 2, 0, 1, 0, 0, 0, 0, 0, 0, 1, 0, 0, 0, 0, 0, 1, 0, 2, 0, 0, 0, 0, 0, 0, 0, 0, 0, 0, 1, 0, 0, 0, 0, 0, 0, 0, 6, 1, 0, 0, 0, 2, 1, 2, 1, 0, 0, 1, 0, 1, 0, 0, 0, 0, 0, 0, 1, 0, 0, 0, 1, 0, 0, 0, 0, 0, 0, 1, 0, 0, 0, 0, 0, 0, 0, 0, 0, 0, 1, 0, 0, 0, 0, 0, 0, 0, 0, 0, 0, 0, 0, 0, 0, 0, 3, 0, 0, 0, 0, 0, 2, 0, 0, 1, 1, 0, 0, 0, 1, 1, 0, 0, 2, 1, 0, 0, 0, 0, 0, 0, 0, 2, 0, 0, 0, 0, 0, 0, 0, 0, 0, 0, 3, 0, 0, 0, 0, 1, 0, 0, 0, 2, 0, 0, 0, 1, 2, 0, 0, 0, 2, 0, 0, 0, 0, 0, 0, 1, 0, 1, 2, 1, 0, 0, 0, 0, 0, 0, 0, 0, 0, 2, 0, 0, 0, 1, 0, 2, 1, 0, 0, 1, 1, 0, 0, 2, 0, 0, 0, 1, 0, 0, 0, 1, 0, 0, 0, 0, 0, 0, 0, 0, 0, 0, 2, 0, 1, 0, 2, 0, 1, 1, 0, 1, 1, 0, 3, 0, 0, 0, 0, 2, 0, 0, 0, 0, 0, 1, 0, 1, 0, 0, 0, 0, 0, 0, 0, 1, 1, 0, 0, 0, 0, 5, 0, 0, 2, 0, 0], ['A/5 21171', 'PC 17599', 'STON/O2. 3101282', '113803', '373450', '330877', '17463', '349909', '347742', '237736', 'PP 9549', '113783', 'A/5. 2151', '347082', '350406', '248706', '382652', '244373', '345763', '2649', '239865', '248698', '330923', '113788', '349909', '347077', '2631', '19950', '330959', '349216', 'PC 17601', 'PC 17569', '335677', 'C.A. 24579', 'PC 17604', '113789', '2677', 'A./5. 2152', '345764', '2651', '7546', '11668', '349253', 'SC/Paris 2123', '330958', 'S.C./A.4. 23567', '370371', '14311', '2662', '349237', '3101295', 'A/4. 39886', 'PC 17572', '2926', '113509', '19947', 'C.A. 31026', '2697', 'C.A. 34651', 'CA 2144', '2669', '113572', '36973', '347088', 'PC 17605', '2661', 'C.A. 29395', 'S.P. 3464', '3101281', '315151', 'C.A. 33111', 'CA 2144', 'S.O.C. 14879', '2680', '1601', '348123', '349208', '374746', '248738', '364516', '345767', '345779', '330932', '113059', 'SO/C 14885', '3101278', 'W./C. 6608', 'SOTON/OQ 392086', '19950', '343275', '343276', '347466', 'W.E.P. 5734', 'C.A. 2315', '364500', '374910', 'PC 17754', 'PC 17759', '231919', '244367', '349245', '349215', '35281', '7540', '3101276', '349207', '343120', '312991', '349249', '371110', '110465', '2665', '324669', '4136', '2627', 'STON/O 2. 3101294', '370369', '11668', 'PC 17558', '347082', 'S.O.C. 14879', 'A4. 54510', '237736', '27267', '35281', '2651', '370372', 'C 17369', '2668', '347061', '349241', 'SOTON/O.Q. 3101307', 'A/5. 3337', '228414', 'C.A. 29178', 'SC/PARIS 2133', '11752', '113803', '7534', 'PC 17593', '2678', '347081', 'STON/O2. 3101279', '365222', '231945', 'C.A. 33112', '350043', 'W./C. 6608', '230080', '244310', 'S.O.P. 1166', '113776', 'A.5. 11206', 'A/5. 851', 'Fa 265302', 'PC 17597', '35851', 'SOTON/OQ 392090', '315037', 'CA. 2343', '371362', 'C.A. 33595', '347068', '315093', '3101295', '363291', '113505', '347088', 'PC 17318', '1601', '111240', '382652', '347742', 'STON/O 2. 3101280', '17764', '350404', '4133', 'PC 17595', '250653', 'LINE', 'CA. 2343', 'SC/PARIS 2131', '347077', '230136', '315153', '113767', '370365', '111428', '364849', '349247', '234604', '28424', '350046', '230080', 'PC 17610', 'PC 17569', '368703', '4579', '370370', '248747', '345770', 'CA. 2343', '3101264', '2628', 'A/5 3540', '347054', '3101278', '2699', '367231', '112277', 'SOTON/O.Q. 3101311', 'F.C.C. 13528', 'A/5 21174', '250646', '367229', '35273', 'STON/O2. 3101283', '243847', '11813', 'W/C 14208', 'SOTON/OQ 392089', '220367', '21440', '349234', '19943', 'PP 4348', 'SW/PP 751', 'A/5 21173', '236171', '4133', '36973', '347067', '237442', '347077', 'C.A. 29566', 'W./C. 6609', '26707', 'C.A. 31921', '28665', 'SCO/W 1585', '2665', '367230', 'W./C. 14263', 'STON/O 2. 3101275', '2694', '19928', '347071', '250649', '11751', '244252', '362316', '347054', '113514', 'A/5. 3336', '370129', '2650', 'PC 17585', '110152', 'PC 17755', '230433', '384461', '347077', '110413', '112059', '382649', 'C.A. 17248', '3101295', '347083', 'PC 17582', 'PC 17760', '113798', 'LINE', '250644', 'PC 17596', '370375', '13502', '347073', '239853', '382652', 'C.A. 2673', '336439', '347464', '345778', 'A/5. 10482', '113056', '349239', '345774', '349206', '237798', '370373', '19877', '11967', 'SC/Paris 2163', '349236', '349233', 'PC 17612', '2693', '113781', '19988', 'PC 17558', '9234', '367226', 'LINE', '226593', 'A/5 2466', '113781', '17421', 'PC 17758', 'P/PP 3381', 'PC 17485', '11767', 'PC 17608', '250651', '349243', 'F.C.C. 13529', '347470', '244367', '29011', '36928', '16966', 'A/5 21172', '349219', '234818', '248738', 'CA. 2343', 'PC 17760', '345364', '28551', '363291', '111361', '367226', '113043', 'PC 17582', '345764', 'PC 17611', '349225', '113776', '16966', '7598', '113784', '230080', '19950', '248740', '244361', '229236', '248733', '31418', '386525', 'C.A. 37671', '315088', '7267', '113510', '2695', '349237', '2647', '345783', '113505', '237671', '330931', '330980', '347088', 'SC/PARIS 2167', '2691', 'SOTON/O.Q. 3101310', '370365', 'C 7076', '110813', '2626', '14313', 'PC 17477', '11765', '3101267', '323951', 'PC 17760', '349909', 'PC 17604', 'C 7077', '113503', '2648', '347069', 'PC 17757', '2653', 'STON/O 2. 3101293', '113789', '349227', 'S.O.C. 14879', 'CA 2144', '27849', '367655', 'SC 1748', '113760', '350034', '3101277', '35273', 'PP 9549', '350052', '350407', '28403', '244278', '240929', 'STON/O 2. 3101289', '341826', '4137', 'STON/O2. 3101279', '315096', '28664', '347064', '29106', '312992', '4133', '349222', '394140', '19928', '239853', 'STON/O 2. 3101269', '343095', '28220', '250652', '28228', '345773', '349254', 'A/5. 13032', '315082', '347080', '370129', 'A/4. 34244', '2003', '250655', '364851', 'SOTON/O.Q. 392078', '110564', '376564', 'SC/AH 3085', 'STON/O 2. 3101274', '13507', '113760', 'W./C. 6608', '29106', '19950', 'C.A. 18723', 'F.C.C. 13529', '345769', '347076', '230434', '65306', '33638', '250644', '113794', '2666', '113786', 'C.A. 34651', '65303', '113051', '17453', 'A/5 2817', '349240', '13509', '17464', 'F.C.C. 13531', '371060', '19952', '364506', '111320', '234360', 'A/S 2816', 'SOTON/O.Q. 3101306', '239853', '113792', '36209', '2666', '323592', '315089', 'C.A. 34651', 'SC/AH Basle 541', '7553', '110465', '31027', '3460', '350060', '3101298', 'CA 2144', '239854', 'A/5 3594', '4134', '11967', '4133', '19943', '11771', 'A.5. 18509', 'C.A. 37671', '65304', 'SOTON/OQ 3101317', '113787', 'PC 17609', 'A/4 45380', '2627', '36947', 'C.A. 6212', '113781', '350035', '315086', '364846', '330909', '4135', '110152', 'PC 17758', '26360', '111427', 'C 4001', '1601', '382651', 'SOTON/OQ 3101316', 'PC 17473', 'PC 17603', '349209', '36967', 'C.A. 34260', '371110', '226875', '349242', '12749', '349252', '2624', '111361', '2700', '367232', 'W./C. 14258', 'PC 17483', '3101296', '29104', '26360', '2641', '2690', '2668', '315084', 'F.C.C. 13529', '113050', 'PC 17761', '364498', '13568', 'WE/P 5735', '347082', '347082', '2908', 'PC 17761', '693', '2908', 'SC/PARIS 2146', '363291', 'C.A. 33112', '17421', '244358', '330979', '2620', '347085', '113807', '11755', 'PC 17757', '110413', '345572', '372622', '349251', '218629', 'SOTON/OQ 392082', 'SOTON/O.Q. 392087', 'A/4 48871', '349205', '349909', '2686', '350417', 'S.W./PP 752', '11769', 'PC 17474', '14312', 'A/4. 20589', '358585', '243880', '13507', '2689', 'STON/O 2. 3101286', '237789', '17421', '28403', '13049', '3411', '110413', '237565', '13567', '14973', 'A./5. 3235', 'STON/O 2. 3101273', '36947', 'A/5 3902', '364848', 'SC/AH 29037', '345773', '248727', 'LINE', '2664', 'PC 17485', '243847', '349214', '113796', '364511', '111426', '349910', '349246', '113804', 'SC/Paris 2123', 'PC 17582', '347082', 'SOTON/O.Q. 3101305', '367230', '370377', '364512', '220845', '347080', 'A/5. 3336', '230136', '31028', '2659', '11753', '2653', '350029', '54636', '36963', '219533', '13502', '349224', '334912', '27042', '347743', '13214', '112052', '347088', '237668', 'STON/O 2. 3101292', 'C.A. 31921', '3101295', '376564', '350050', 'PC 17477', '347088', '1601', '2666', 'PC 17572', '349231', '13213', 'S.O./P.P. 751', 'CA. 2314', '349221', '231919', '8475', '330919', '365226', 'S.O.C. 14879', '349223', '364849', '29751', '35273', 'PC 17611', '2623', '5727', '349210', 'STON/O 2. 3101285', 'S.O.C. 14879', '234686', '312993', 'A/5 3536', '19996', '29750', 'F.C. 12750', 'C.A. 24580', '244270', '239856', '349912', '342826', '4138', 'CA 2144', 'PC 17755', '330935', 'PC 17572', '6563', 'CA 2144', '29750', 'SC/Paris 2123', '3101295', '349228', '350036', '24160', '17474', '349256', '1601', '2672', '113800', '248731', '363592', '35852', '17421', '348121', 'PC 17757', 'PC 17475', '2691', '36864', '350025', '250655', '223596', 'PC 17476', '113781', '2661', 'PC 17482', '113028', '19996', '7545', '250647', '348124', 'PC 17757', '34218', '36568', '347062', '248727', '350048', '12233', '250643', '113806', '315094', '31027', '36866', '236853', 'STON/O2. 3101271', '24160', '2699', '239855', '28425', '233639', '54636', 'W./C. 6608', 'PC 17755', '349201', '349218', '16988', '19877', 'PC 17608', '376566', 'STON/O 2. 3101288', 'WE/P 5735', 'C.A. 2673', '250648', '113773', '335097', '29103', '392096', '345780', '349204', '220845', '250649', '350042', '29108', '363294', '110152', '358585', 'SOTON/O2 3101272', '2663', '113760', '347074', '13502', '112379', '364850', '371110', '8471', '345781', '350047', 'S.O./P.P. 3', '2674', '29105', '347078', '383121', '364516', '36865', '24160', '2687', '17474', '113501', 'W./C. 6607', 'SOTON/O.Q. 3101312', '374887', '3101265', '382652', 'C.A. 2315', 'PC 17593', '12460', '239865', 'CA. 2343', 'PC 17600', '349203', '28213', '17465', '349244', '2685', '345773', '250647', 'C.A. 31921', '113760', '2625', '347089', '347063', '112050', '347087', '248723', '113806', '3474', 'A/4 48871', '28206', '347082', '364499', '112058', 'STON/O2. 3101290', 'S.C./PARIS 2079', 'C 7075', '347088', '12749', '315098', '19972', '392096', '3101295', '368323', '1601', 'S.C./PARIS 2079', '367228', '113572', '2659', '29106', '2671', '347468', '2223', 'PC 17756', '315097', '392092', '1601', '11774', 'SOTON/O2 3101287', 'S.O./P.P. 3', '113798', '2683', '315090', 'C.A. 5547', 'CA. 2343', '349213', '248727', '17453', '347082', '347060', '2678', 'PC 17592', '244252', '392091', '36928', '113055', '2666', '2629', '350026', '28134', '17466', 'CA. 2343', '233866', '236852', 'SC/PARIS 2149', 'PC 17590', '345777', '347742', '349248', '11751', '695', '345765', 'P/PP 3381', '2667', '7534', '349212', '349217', '11767', '230433', '349257', '7552', 'C.A./SOTON 34068', 'SOTON/OQ 392076', '382652', '211536', '112053', 'W./C. 6607', '111369', '370376'], [7.25, 71.2833, 7.925, 53.1, 8.05, 8.4583, 51.8625, 21.075, 11.1333, 30.0708, 16.7, 26.55, 8.05, 31.275, 7.8542, 16.0, 29.125, 13.0, 18.0, 7.225, 26.0, 13.0, 8.0292, 35.5, 21.075, 31.3875, 7.225, 263.0, 7.8792, 7.8958, 27.7208, 146.5208, 7.75, 10.5, 82.1708, 52.0, 7.2292, 8.05, 18.0, 11.2417, 9.475, 21.0, 7.8958, 41.5792, 7.8792, 8.05, 15.5, 7.75, 21.6792, 17.8, 39.6875, 7.8, 76.7292, 26.0, 61.9792, 35.5, 10.5, 7.2292, 27.75, 46.9, 7.2292, 80.0, 83.475, 27.9, 27.7208, 15.2458, 10.5, 8.1583, 7.925, 8.6625, 10.5, 46.9, 73.5, 14.4542, 56.4958, 7.65, 7.8958, 8.05, 29.0, 12.475, 9.0, 9.5, 7.7875, 47.1, 10.5, 15.85, 34.375, 8.05, 263.0, 8.05, 8.05, 7.8542, 61.175, 20.575, 7.25, 8.05, 34.6542, 63.3583, 23.0, 26.0, 7.8958, 7.8958, 77.2875, 8.6542, 7.925, 7.8958, 7.65, 7.775, 7.8958, 24.15, 52.0, 14.4542, 8.05, 9.825, 14.4583, 7.925, 7.75, 21.0, 247.5208, 31.275, 73.5, 8.05, 30.0708, 13.0, 77.2875, 11.2417, 7.75, 7.1417, 22.3583, 6.975, 7.8958, 7.05, 14.5, 26.0, 13.0, 15.0458, 26.2833, 53.1, 9.2167, 79.2, 15.2458, 7.75, 15.85, 6.75, 11.5, 36.75, 7.7958, 34.375, 26.0, 13.0, 12.525, 66.6, 8.05, 14.5, 7.3125, 61.3792, 7.7333, 8.05, 8.6625, 69.55, 16.1, 15.75, 7.775, 8.6625, 39.6875, 20.525, 55.0, 27.9, 25.925, 56.4958, 33.5, 29.125, 11.1333, 7.925, 30.6958, 7.8542, 25.4667, 28.7125, 13.0, 0.0, 69.55, 15.05, 31.3875, 39.0, 22.025, 50.0, 15.5, 26.55, 15.5, 7.8958, 13.0, 13.0, 7.8542, 26.0, 27.7208, 146.5208, 7.75, 8.4042, 7.75, 13.0, 9.5, 69.55, 6.4958, 7.225, 8.05, 10.4625, 15.85, 18.7875, 7.75, 31.0, 7.05, 21.0, 7.25, 13.0, 7.75, 113.275, 7.925, 27.0, 76.2917, 10.5, 8.05, 13.0, 8.05, 7.8958, 90.0, 9.35, 10.5, 7.25, 13.0, 25.4667, 83.475, 7.775, 13.5, 31.3875, 10.5, 7.55, 26.0, 26.25, 10.5, 12.275, 14.4542, 15.5, 10.5, 7.125, 7.225, 90.0, 7.775, 14.5, 52.5542, 26.0, 7.25, 10.4625, 26.55, 16.1, 20.2125, 15.2458, 79.2, 86.5, 512.3292, 26.0, 7.75, 31.3875, 79.65, 0.0, 7.75, 10.5, 39.6875, 7.775, 153.4625, 135.6333, 31.0, 0.0, 19.5, 29.7, 7.75, 77.9583, 7.75, 0.0, 29.125, 20.25, 7.75, 7.8542, 9.5, 8.05, 26.0, 8.6625, 9.5, 7.8958, 13.0, 7.75, 78.85, 91.0792, 12.875, 8.85, 7.8958, 27.7208, 7.2292, 151.55, 30.5, 247.5208, 7.75, 23.25, 0.0, 12.35, 8.05, 151.55, 110.8833, 108.9, 24.0, 56.9292, 83.1583, 262.375, 26.0, 7.8958, 26.25, 7.8542, 26.0, 14.0, 164.8667, 134.5, 7.25, 7.8958, 12.35, 29.0, 69.55, 135.6333, 6.2375, 13.0, 20.525, 57.9792, 23.25, 28.5, 153.4625, 18.0, 133.65, 7.8958, 66.6, 134.5, 8.05, 35.5, 26.0, 263.0, 13.0, 13.0, 13.0, 13.0, 13.0, 16.1, 15.9, 8.6625, 9.225, 35.0, 7.2292, 17.8, 7.225, 9.5, 55.0, 13.0, 7.8792, 7.8792, 27.9, 27.7208, 14.4542, 7.05, 15.5, 7.25, 75.25, 7.2292, 7.75, 69.3, 55.4417, 6.4958, 8.05, 135.6333, 21.075, 82.1708, 7.25, 211.5, 4.0125, 7.775, 227.525, 15.7417, 7.925, 52.0, 7.8958, 73.5, 46.9, 13.0, 7.7292, 12.0, 120.0, 7.7958, 7.925, 113.275, 16.7, 7.7958, 7.8542, 26.0, 10.5, 12.65, 7.925, 8.05, 9.825, 15.85, 8.6625, 21.0, 7.75, 18.75, 7.775, 25.4667, 7.8958, 6.8583, 90.0, 0.0, 7.925, 8.05, 32.5, 13.0, 13.0, 24.15, 7.8958, 7.7333, 7.875, 14.4, 20.2125, 7.25, 26.0, 26.0, 7.75, 8.05, 26.55, 16.1, 26.0, 7.125, 55.9, 120.0, 34.375, 18.75, 263.0, 10.5, 26.25, 9.5, 7.775, 13.0, 8.1125, 81.8583, 19.5, 26.55, 19.2583, 30.5, 27.75, 19.9667, 27.75, 89.1042, 8.05, 7.8958, 26.55, 51.8625, 10.5, 7.75, 26.55, 8.05, 38.5, 13.0, 8.05, 7.05, 0.0, 26.55, 7.725, 19.2583, 7.25, 8.6625, 27.75, 13.7917, 9.8375, 52.0, 21.0, 7.0458, 7.5208, 12.2875, 46.9, 0.0, 8.05, 9.5875, 91.0792, 25.4667, 90.0, 29.7, 8.05, 15.9, 19.9667, 7.25, 30.5, 49.5042, 8.05, 14.4583, 78.2667, 15.1, 151.55, 7.7958, 8.6625, 7.75, 7.6292, 9.5875, 86.5, 108.9, 26.0, 26.55, 22.525, 56.4958, 7.75, 8.05, 26.2875, 59.4, 7.4958, 34.0208, 10.5, 24.15, 26.0, 7.8958, 93.5, 7.8958, 7.225, 57.9792, 7.2292, 7.75, 10.5, 221.7792, 7.925, 11.5, 26.0, 7.2292, 7.2292, 22.3583, 8.6625, 26.25, 26.55, 106.425, 14.5, 49.5, 71.0, 31.275, 31.275, 26.0, 106.425, 26.0, 26.0, 13.8625, 20.525, 36.75, 110.8833, 26.0, 7.8292, 7.225, 7.775, 26.55, 39.6, 227.525, 79.65, 17.4, 7.75, 7.8958, 13.5, 8.05, 8.05, 24.15, 7.8958, 21.075, 7.2292, 7.8542, 10.5, 51.4792, 26.3875, 7.75, 8.05, 14.5, 13.0, 55.9, 14.4583, 7.925, 30.0, 110.8833, 26.0, 40.125, 8.7125, 79.65, 15.0, 79.2, 8.05, 8.05, 7.125, 78.2667, 7.25, 7.75, 26.0, 24.15, 33.0, 0.0, 7.225, 56.9292, 27.0, 7.8958, 42.4, 8.05, 26.55, 15.55, 7.8958, 30.5, 41.5792, 153.4625, 31.275, 7.05, 15.5, 7.75, 8.05, 65.0, 14.4, 16.1, 39.0, 10.5, 14.4542, 52.5542, 15.7417, 7.8542, 16.1, 32.3208, 12.35, 77.9583, 7.8958, 7.7333, 30.0, 7.0542, 30.5, 0.0, 27.9, 13.0, 7.925, 26.25, 39.6875, 16.1, 7.8542, 69.3, 27.9, 56.4958, 19.2583, 76.7292, 7.8958, 35.5, 7.55, 7.55, 7.8958, 23.0, 8.4333, 7.8292, 6.75, 73.5, 7.8958, 15.5, 13.0, 113.275, 133.65, 7.225, 25.5875, 7.4958, 7.925, 73.5, 13.0, 7.775, 8.05, 52.0, 39.0, 52.0, 10.5, 13.0, 0.0, 7.775, 8.05, 9.8417, 46.9, 512.3292, 8.1375, 76.7292, 9.225, 46.9, 39.0, 41.5792, 39.6875, 10.1708, 7.7958, 211.3375, 57.0, 13.4167, 56.4958, 7.225, 26.55, 13.5, 8.05, 7.7333, 110.8833, 7.65, 227.525, 26.2875, 14.4542, 7.7417, 7.8542, 26.0, 13.5, 26.2875, 151.55, 15.2458, 49.5042, 26.55, 52.0, 9.4833, 13.0, 7.65, 227.525, 10.5, 15.5, 7.775, 33.0, 7.0542, 13.0, 13.0, 53.1, 8.6625, 21.0, 7.7375, 26.0, 7.925, 211.3375, 18.7875, 0.0, 13.0, 13.0, 16.1, 34.375, 512.3292, 7.8958, 7.8958, 30.0, 78.85, 262.375, 16.1, 7.925, 71.0, 20.25, 13.0, 53.1, 7.75, 23.0, 12.475, 9.5, 7.8958, 65.0, 14.5, 7.7958, 11.5, 8.05, 86.5, 14.5, 7.125, 7.2292, 120.0, 7.775, 77.9583, 39.6, 7.75, 24.15, 8.3625, 9.5, 7.8542, 10.5, 7.225, 23.0, 7.75, 7.75, 12.475, 7.7375, 211.3375, 7.2292, 57.0, 30.0, 23.45, 7.05, 7.25, 7.4958, 29.125, 20.575, 79.2, 7.75, 26.0, 69.55, 30.6958, 7.8958, 13.0, 25.9292, 8.6833, 7.2292, 24.15, 13.0, 26.25, 120.0, 8.5167, 6.975, 7.775, 0.0, 7.775, 13.0, 53.1, 7.8875, 24.15, 10.5, 31.275, 8.05, 0.0, 7.925, 37.0042, 6.45, 27.9, 93.5, 8.6625, 0.0, 12.475, 39.6875, 6.95, 56.4958, 37.0042, 7.75, 80.0, 14.4542, 18.75, 7.2292, 7.8542, 8.3, 83.1583, 8.6625, 8.05, 56.4958, 29.7, 7.925, 10.5, 31.0, 6.4375, 8.6625, 7.55, 69.55, 7.8958, 33.0, 89.1042, 31.275, 7.775, 15.2458, 39.4, 26.0, 9.35, 164.8667, 26.55, 19.2583, 7.2292, 14.1083, 11.5, 25.9292, 69.55, 13.0, 13.0, 13.8583, 50.4958, 9.5, 11.1333, 7.8958, 52.5542, 5.0, 9.0, 24.0, 7.225, 9.8458, 7.8958, 7.8958, 83.1583, 26.0, 7.8958, 10.5167, 10.5, 7.05, 29.125, 13.0, 30.0, 23.45, 30.0, 7.75], [nan, 'C85', nan, 'C123', nan, nan, 'E46', nan, nan, nan, 'G6', 'C103', nan, nan, nan, nan, nan, nan, nan, nan, nan, 'D56', nan, 'A6', nan, nan, nan, 'C23 C25 C27', nan, nan, nan, 'B78', nan, nan, nan, nan, nan, nan, nan, nan, nan, nan, nan, nan, nan, nan, nan, nan, nan, nan, nan, nan, 'D33', nan, 'B30', 'C52', nan, nan, nan, nan, nan, 'B28', 'C83', nan, nan, nan, 'F33', nan, nan, nan, nan, nan, nan, nan, nan, 'F G73', nan, nan, nan, nan, nan, nan, nan, nan, nan, nan, nan, nan, 'C23 C25 C27', nan, nan, nan, 'E31', nan, nan, nan, 'A5', 'D10 D12', nan, nan, nan, nan, 'D26', nan, nan, nan, nan, nan, nan, nan, 'C110', nan, nan, nan, nan, nan, nan, nan, 'B58 B60', nan, nan, nan, nan, 'E101', 'D26', nan, nan, nan, 'F E69', nan, nan, nan, nan, nan, nan, nan, 'D47', 'C123', nan, 'B86', nan, nan, nan, nan, nan, nan, nan, nan, 'F2', nan, nan, 'C2', nan, nan, nan, nan, nan, nan, nan, nan, nan, nan, nan, nan, nan, nan, 'E33', nan, nan, nan, 'B19', nan, nan, nan, 'A7', nan, nan, 'C49', nan, nan, nan, nan, nan, 'F4', nan, 'A32', nan, nan, nan, nan, nan, nan, nan, 'F2', 'B4', 'B80', nan, nan, nan, nan, nan, nan, nan, nan, nan, 'G6', nan, nan, nan, 'A31', nan, nan, nan, nan, nan, 'D36', nan, nan, 'D15', nan, nan, nan, nan, nan, 'C93', nan, nan, nan, nan, nan, 'C83', nan, nan, nan, nan, nan, nan, nan, nan, nan, nan, nan, nan, nan, nan, 'C78', nan, nan, 'D35', nan, nan, 'G6', 'C87', nan, nan, nan, nan, 'B77', nan, nan, nan, nan, 'E67', 'B94', nan, nan, nan, nan, 'C125', 'C99', nan, nan, nan, 'C118', nan, 'D7', nan, nan, nan, nan, nan, nan, nan, nan, 'A19', nan, nan, nan, nan, nan, nan, 'B49', 'D', nan, nan, nan, nan, 'C22 C26', 'C106', 'B58 B60', nan, nan, nan, 'E101', nan, 'C22 C26', nan, 'C65', nan, 'E36', 'C54', 'B57 B59 B63 B66', nan, nan, nan, nan, nan, nan, 'C7', 'E34', nan, nan, nan, nan, nan, 'C32', nan, 'D', nan, 'B18', nan, 'C124', 'C91', nan, nan, nan, 'C2', 'E40', nan, 'T', 'F2', 'C23 C25 C27', nan, nan, nan, 'F33', nan, nan, nan, nan, nan, 'C128', nan, nan, nan, nan, 'E33', nan, nan, nan, nan, nan, nan, nan, nan, nan, 'D37', nan, nan, 'B35', 'E50', nan, nan, nan, nan, nan, nan, 'C82', nan, nan, nan, nan, nan, nan, nan, nan, nan, nan, nan, nan, 'B96 B98', nan, nan, 'D36', 'G6', nan, nan, nan, nan, nan, nan, nan, nan, nan, nan, nan, nan, nan, nan, nan, nan, nan, 'C78', nan, nan, nan, nan, nan, nan, nan, nan, nan, nan, nan, nan, nan, nan, nan, nan, 'E10', 'C52', nan, nan, nan, 'E44', 'B96 B98', nan, nan, 'C23 C25 C27', nan, nan, nan, nan, nan, nan, 'A34', nan, nan, nan, 'C104', nan, nan, 'C111', 'C92', nan, nan, 'E38', 'D21', nan, nan, 'E12', nan, 'E63', nan, nan, nan, nan, nan, nan, nan, nan, nan, nan, 'D', nan, 'A14', nan, nan, nan, nan, nan, nan, nan, nan, 'B49', nan, 'C93', 'B37', nan, nan, nan, nan, 'C30', nan, nan, nan, 'D20', nan, 'C22 C26', nan, nan, nan, nan, nan, 'B79', 'C65', nan, nan, nan, nan, nan, nan, 'E25', nan, nan, 'D46', 'F33', nan, nan, nan, 'B73', nan, nan, 'B18', nan, nan, nan, 'C95', nan, nan, nan, nan, nan, nan, nan, nan, 'B38', nan, nan, 'B39', 'B22', nan, nan, nan, 'C86', nan, nan, nan, nan, nan, 'C70', nan, nan, nan, nan, nan, 'A16', nan, 'E67', nan, nan, nan, nan, nan, nan, nan, nan, nan, nan, nan, nan, 'C101', 'E25', nan, nan, nan, nan, 'E44', nan, nan, nan, 'C68', nan, 'A10', nan, 'E68', nan, 'B41', nan, nan, nan, 'D20', nan, nan, nan, nan, nan, nan, nan, 'A20', nan, nan, nan, nan, nan, nan, nan, nan, nan, 'C125', nan, nan, nan, nan, nan, nan, nan, nan, 'F4', nan, nan, 'D19', nan, nan, nan, 'D50', nan, 'D9', nan, nan, 'A23', nan, 'B50', nan, nan, nan, nan, nan, nan, nan, nan, 'B35', nan, nan, nan, 'D33', nan, 'A26', nan, nan, nan, nan, nan, nan, nan, nan, nan, nan, nan, 'D48', nan, nan, 'E58', nan, nan, nan, nan, nan, nan, 'C126', nan, 'B71', nan, nan, nan, nan, nan, nan, nan, 'B51 B53 B55', nan, 'D49', nan, nan, nan, nan, nan, nan, nan, 'B5', 'B20', nan, nan, nan, nan, nan, nan, nan, 'C68', 'F G63', 'C62 C64', 'E24', nan, nan, nan, nan, nan, 'E24', nan, nan, 'C90', 'C124', 'C126', nan, nan, 'F G73', 'C45', 'E101', nan, nan, nan, nan, nan, nan, 'E8', nan, nan, nan, nan, nan, 'B5', nan, nan, nan, nan, nan, nan, 'B101', nan, nan, 'D45', 'C46', 'B57 B59 B63 B66', nan, nan, 'B22', nan, nan, 'D30', nan, nan, 'E121', nan, nan, nan, nan, nan, nan, nan, 'B77', nan, nan, nan, 'B96 B98', nan, 'D11', nan, nan, nan, nan, nan, nan, 'E77', nan, nan, nan, 'F38', nan, nan, 'B3', nan, 'B20', 'D6', nan, nan, nan, nan, nan, nan, 'B82 B84', nan, nan, nan, nan, nan, nan, 'D17', nan, nan, nan, nan, nan, 'B96 B98', nan, nan, nan, 'A36', nan, nan, 'E8', nan, nan, nan, nan, nan, 'B102', nan, nan, nan, nan, 'B69', nan, nan, 'E121', nan, nan, nan, nan, nan, 'B28', nan, nan, nan, nan, nan, 'E49', nan, nan, nan, 'C47', nan, nan, nan, nan, nan, nan, nan, nan, nan, 'C92', nan, nan, nan, 'D28', nan, nan, nan, 'E17', nan, nan, nan, nan, 'D17', nan, nan, nan, nan, 'A24', nan, nan, nan, 'D35', 'B51 B53 B55', nan, nan, nan, nan, nan, nan, 'C50', nan, nan, nan, nan, nan, nan, nan, 'B42', nan, 'C148', nan], ['S', 'C', 'S', 'S', 'S', 'Q', 'S', 'S', 'S', 'C', 'S', 'S', 'S', 'S', 'S', 'S', 'Q', 'S', 'S', 'C', 'S', 'S', 'Q', 'S', 'S', 'S', 'C', 'S', 'Q', 'S', 'C', 'C', 'Q', 'S', 'C', 'S', 'C', 'S', 'S', 'C', 'S', 'S', 'C', 'C', 'Q', 'S', 'Q', 'Q', 'C', 'S', 'S', 'S', 'C', 'S', 'C', 'S', 'S', 'C', 'S', 'S', 'C', nan, 'S', 'S', 'C', 'C', 'S', 'S', 'S', 'S', 'S', 'S', 'S', 'C', 'S', 'S', 'S', 'S', 'S', 'S', 'S', 'S', 'Q', 'S', 'S', 'S', 'S', 'S', 'S', 'S', 'S', 'S', 'S', 'S', 'S', 'S', 'C', 'C', 'S', 'S', 'S', 'S', 'S', 'S', 'S', 'S', 'S', 'S', 'S', 'Q', 'S', 'C', 'S', 'S', 'C', 'S', 'Q', 'S', 'C', 'S', 'S', 'S', 'C', 'S', 'S', 'C', 'Q', 'S', 'C', 'S', 'C', 'S', 'S', 'S', 'S', 'C', 'S', 'S', 'S', 'C', 'C', 'S', 'S', 'Q', 'S', 'S', 'S', 'S', 'S', 'S', 'S', 'S', 'S', 'S', 'S', 'C', 'Q', 'S', 'S', 'S', 'S', 'S', 'S', 'S', 'S', 'S', 'S', 'S', 'S', 'S', 'S', 'Q', 'S', 'S', 'C', 'S', 'S', 'C', 'S', 'S', 'S', 'C', 'S', 'S', 'S', 'S', 'Q', 'S', 'Q', 'S', 'S', 'S', 'S', 'S', 'C', 'C', 'Q', 'S', 'Q', 'S', 'S', 'S', 'S', 'C', 'S', 'S', 'S', 'C', 'Q', 'C', 'S', 'S', 'S', 'S', 'Q', 'C', 'S', 'S', 'C', 'S', 'S', 'S', 'S', 'S', 'S', 'S', 'S', 'S', 'S', 'S', 'S', 'S', 'S', 'S', 'S', 'S', 'S', 'S', 'S', 'S', 'C', 'Q', 'S', 'S', 'C', 'Q', 'S', 'S', 'S', 'S', 'S', 'S', 'S', 'S', 'S', 'C', 'C', 'S', 'C', 'S', 'Q', 'S', 'S', 'S', 'Q', 'S', 'S', 'S', 'S', 'S', 'S', 'S', 'S', 'C', 'Q', 'S', 'S', 'S', 'Q', 'S', 'Q', 'S', 'S', 'S', 'S', 'C', 'S', 'S', 'S', 'Q', 'S', 'C', 'C', 'S', 'S', 'C', 'C', 'S', 'S', 'C', 'Q', 'Q', 'S', 'Q', 'S', 'S', 'C', 'C', 'C', 'C', 'C', 'C', 'S', 'S', 'S', 'S', 'S', 'S', 'S', 'C', 'S', 'S', 'Q', 'S', 'S', 'C', 'S', 'S', 'S', 'C', 'Q', 'S', 'S', 'S', 'S', 'S', 'S', 'C', 'S', 'S', 'S', 'S', 'S', 'S', 'S', 'S', 'S', 'S', 'S', 'S', 'S', 'S', 'C', 'S', 'C', 'S', 'S', 'S', 'Q', 'Q', 'S', 'C', 'C', 'S', 'Q', 'S', 'C', 'C', 'Q', 'C', 'C', 'S', 'S', 'C', 'S', 'C', 'S', 'C', 'C', 'S', 'C', 'C', 'S', 'S', 'S', 'S', 'S', 'S', 'Q', 'C', 'S', 'S', 'S', 'C', 'S', 'S', 'S', 'S', 'S', 'S', 'S', 'S', 'S', 'S', 'S', 'S', 'S', 'S', 'S', 'S', 'S', 'Q', 'Q', 'S', 'S', 'S', 'S', 'S', 'S', 'S', 'C', 'Q', 'S', 'S', 'S', 'S', 'S', 'S', 'Q', 'S', 'S', 'S', 'S', 'S', 'S', 'S', 'S', 'S', 'S', 'S', 'S', 'S', 'S', 'S', 'S', 'S', 'S', 'S', 'C', 'S', 'S', 'S', 'C', 'C', 'S', 'C', 'S', 'S', 'S', 'Q', 'S', 'S', 'S', 'S', 'S', 'S', 'S', 'S', 'Q', 'C', 'S', 'S', 'S', 'C', 'S', 'S', 'S', 'S', 'S', 'S', 'S', 'S', 'S', 'S', 'C', 'S', 'S', 'C', 'S', 'S', 'S', 'S', 'S', 'C', 'S', 'C', 'C', 'S', 'S', 'S', 'S', 'Q', 'Q', 'S', 'S', 'C', 'S', 'S', 'S', 'S', 'Q', 'S', 'S', 'C', 'S', 'S', 'S', 'Q', 'S', 'S', 'S', 'S', 'C', 'C', 'C', 'Q', 'S', 'S', 'S', 'S', 'S', 'C', 'C', 'C', 'S', 'S', 'S', 'C', 'S', 'C', 'S', 'S', 'S', 'S', 'C', 'S', 'S', 'C', 'S', 'S', 'C', 'S', 'Q', 'C', 'S', 'S', 'C', 'C', 'S', 'S', 'Q', 'S', 'S', 'S', 'S', 'S', 'S', 'S', 'C', 'S', 'S', 'S', 'S', 'Q', 'S', 'S', 'S', 'S', 'C', 'S', 'S', 'C', 'S', 'C', 'C', 'S', 'S', 'C', 'S', 'S', 'S', 'C', 'S', 'Q', 'S', 'S', 'S', 'S', 'C', 'C', 'S', 'S', 'S', 'S', 'C', 'S', 'S', 'S', 'C', 'S', 'S', 'S', 'Q', 'Q', 'S', 'S', 'S', 'S', 'S', 'S', 'C', 'S', 'C', 'S', 'S', 'S', 'Q', 'S', 'S', 'Q', 'S', 'S', 'C', 'S', 'S', 'S', 'S', 'S', 'S', 'S', 'S', 'C', 'S', 'S', 'C', 'C', 'S', 'C', 'S', 'S', 'S', 'S', 'S', 'Q', 'Q', 'S', 'S', 'Q', 'S', 'C', 'S', 'C', 'S', 'S', 'S', 'S', 'S', 'S', 'S', 'S', 'S', 'S', 'S', 'S', 'S', 'S', 'S', 'S', 'S', 'C', 'Q', 'C', 'S', 'S', 'S', 'C', 'S', 'S', 'S', 'S', 'S', 'C', 'S', 'C', 'S', 'S', 'S', 'Q', 'C', 'S', 'C', 'S', 'C', 'Q', 'S', 'S', 'S', 'S', 'S', 'C', 'C', 'S', 'S', 'S', 'S', 'S', 'C', 'S', 'Q', 'S', 'S', 'S', 'S', 'S', 'S', 'S', 'S', 'Q', 'S', 'S', 'S', 'C', 'S', 'S', 'S', 'S', 'S', 'C', 'S', 'S', 'S', 'S', 'C', 'S', 'S', 'S', 'S', 'S', 'S', 'Q', 'S', 'S', 'S', 'S', 'S', 'S', 'S', 'S', 'S', 'S', 'S', 'S', 'C', 'S', 'S', 'S', 'C', 'Q', 'Q', 'S', 'S', 'S', 'S', 'C', 'S', 'S', 'Q', 'S', 'Q', 'S', 'C', 'S', 'S', 'S', 'S', 'S', 'S', 'Q', 'S', 'C', 'Q', 'S', 'S', 'C', 'S', 'S', 'S', 'S', 'C', 'S', 'S', 'S', 'S', 'C', 'S', 'S', 'S', 'S', 'S', 'S', 'S', 'S', 'S', 'S', 'S', 'S', 'S', 'C', 'S', 'S', 'S', 'S', 'S', 'S', 'S', 'Q', 'S', 'C', 'Q', nan, 'C', 'S', 'C', 'S', 'S', 'C', 'S', 'S', 'S', 'C', 'S', 'S', 'C', 'C', 'S', 'S', 'S', 'C', 'S', 'C', 'S', 'S', 'C', 'S', 'S', 'S', 'S', 'S', 'C', 'C', 'S', 'S', 'S', 'S', 'S', 'S', 'C', 'S', 'S', 'S', 'S', 'S', 'S', 'S', 'C', 'C', 'S', 'S', 'S', 'C', 'S', 'S', 'S', 'S', 'S', 'Q', 'S', 'S', 'S', 'C', 'Q']]\n"
     ]
    }
   ],
   "source": [
    "# 데이터 프레임(tdf)을 리스트로 \n",
    "tdf_list=[]\n",
    "columns=list(tdf.columns.values)\n",
    "columns\n",
    "for i in columns:\n",
    "    tdf_slist = tdf[i].values.tolist()\n",
    "    tdf_list.append(tdf_slist)\n",
    "\n",
    "print(tdf_list)"
   ]
  },
  {
   "cell_type": "code",
   "execution_count": 163,
   "id": "85daa97d",
   "metadata": {
    "collapsed": true
   },
   "outputs": [
    {
     "name": "stdout",
     "output_type": "stream",
     "text": [
      "[['1', '2', '3', '4', '5', '6', '7', '8', '9', '10', '11', '12', '13', '14', '15', '16', '17', '18', '19', '20', '21', '22', '23', '24', '25', '26', '27', '28', '29', '30', '31', '32', '33', '34', '35', '36', '37', '38', '39', '40', '41', '42', '43', '44', '45', '46', '47', '48', '49', '50', '51', '52', '53', '54', '55', '56', '57', '58', '59', '60', '61', '62', '63', '64', '65', '66', '67', '68', '69', '70', '71', '72', '73', '74', '75', '76', '77', '78', '79', '80', '81', '82', '83', '84', '85', '86', '87', '88', '89', '90', '91', '92', '93', '94', '95', '96', '97', '98', '99', '100', '101', '102', '103', '104', '105', '106', '107', '108', '109', '110', '111', '112', '113', '114', '115', '116', '117', '118', '119', '120', '121', '122', '123', '124', '125', '126', '127', '128', '129', '130', '131', '132', '133', '134', '135', '136', '137', '138', '139', '140', '141', '142', '143', '144', '145', '146', '147', '148', '149', '150', '151', '152', '153', '154', '155', '156', '157', '158', '159', '160', '161', '162', '163', '164', '165', '166', '167', '168', '169', '170', '171', '172', '173', '174', '175', '176', '177', '178', '179', '180', '181', '182', '183', '184', '185', '186', '187', '188', '189', '190', '191', '192', '193', '194', '195', '196', '197', '198', '199', '200', '201', '202', '203', '204', '205', '206', '207', '208', '209', '210', '211', '212', '213', '214', '215', '216', '217', '218', '219', '220', '221', '222', '223', '224', '225', '226', '227', '228', '229', '230', '231', '232', '233', '234', '235', '236', '237', '238', '239', '240', '241', '242', '243', '244', '245', '246', '247', '248', '249', '250', '251', '252', '253', '254', '255', '256', '257', '258', '259', '260', '261', '262', '263', '264', '265', '266', '267', '268', '269', '270', '271', '272', '273', '274', '275', '276', '277', '278', '279', '280', '281', '282', '283', '284', '285', '286', '287', '288', '289', '290', '291', '292', '293', '294', '295', '296', '297', '298', '299', '300', '301', '302', '303', '304', '305', '306', '307', '308', '309', '310', '311', '312', '313', '314', '315', '316', '317', '318', '319', '320', '321', '322', '323', '324', '325', '326', '327', '328', '329', '330', '331', '332', '333', '334', '335', '336', '337', '338', '339', '340', '341', '342', '343', '344', '345', '346', '347', '348', '349', '350', '351', '352', '353', '354', '355', '356', '357', '358', '359', '360', '361', '362', '363', '364', '365', '366', '367', '368', '369', '370', '371', '372', '373', '374', '375', '376', '377', '378', '379', '380', '381', '382', '383', '384', '385', '386', '387', '388', '389', '390', '391', '392', '393', '394', '395', '396', '397', '398', '399', '400', '401', '402', '403', '404', '405', '406', '407', '408', '409', '410', '411', '412', '413', '414', '415', '416', '417', '418', '419', '420', '421', '422', '423', '424', '425', '426', '427', '428', '429', '430', '431', '432', '433', '434', '435', '436', '437', '438', '439', '440', '441', '442', '443', '444', '445', '446', '447', '448', '449', '450', '451', '452', '453', '454', '455', '456', '457', '458', '459', '460', '461', '462', '463', '464', '465', '466', '467', '468', '469', '470', '471', '472', '473', '474', '475', '476', '477', '478', '479', '480', '481', '482', '483', '484', '485', '486', '487', '488', '489', '490', '491', '492', '493', '494', '495', '496', '497', '498', '499', '500', '501', '502', '503', '504', '505', '506', '507', '508', '509', '510', '511', '512', '513', '514', '515', '516', '517', '518', '519', '520', '521', '522', '523', '524', '525', '526', '527', '528', '529', '530', '531', '532', '533', '534', '535', '536', '537', '538', '539', '540', '541', '542', '543', '544', '545', '546', '547', '548', '549', '550', '551', '552', '553', '554', '555', '556', '557', '558', '559', '560', '561', '562', '563', '564', '565', '566', '567', '568', '569', '570', '571', '572', '573', '574', '575', '576', '577', '578', '579', '580', '581', '582', '583', '584', '585', '586', '587', '588', '589', '590', '591', '592', '593', '594', '595', '596', '597', '598', '599', '600', '601', '602', '603', '604', '605', '606', '607', '608', '609', '610', '611', '612', '613', '614', '615', '616', '617', '618', '619', '620', '621', '622', '623', '624', '625', '626', '627', '628', '629', '630', '631', '632', '633', '634', '635', '636', '637', '638', '639', '640', '641', '642', '643', '644', '645', '646', '647', '648', '649', '650', '651', '652', '653', '654', '655', '656', '657', '658', '659', '660', '661', '662', '663', '664', '665', '666', '667', '668', '669', '670', '671', '672', '673', '674', '675', '676', '677', '678', '679', '680', '681', '682', '683', '684', '685', '686', '687', '688', '689', '690', '691', '692', '693', '694', '695', '696', '697', '698', '699', '700', '701', '702', '703', '704', '705', '706', '707', '708', '709', '710', '711', '712', '713', '714', '715', '716', '717', '718', '719', '720', '721', '722', '723', '724', '725', '726', '727', '728', '729', '730', '731', '732', '733', '734', '735', '736', '737', '738', '739', '740', '741', '742', '743', '744', '745', '746', '747', '748', '749', '750', '751', '752', '753', '754', '755', '756', '757', '758', '759', '760', '761', '762', '763', '764', '765', '766', '767', '768', '769', '770', '771', '772', '773', '774', '775', '776', '777', '778', '779', '780', '781', '782', '783', '784', '785', '786', '787', '788', '789', '790', '791', '792', '793', '794', '795', '796', '797', '798', '799', '800', '801', '802', '803', '804', '805', '806', '807', '808', '809', '810', '811', '812', '813', '814', '815', '816', '817', '818', '819', '820', '821', '822', '823', '824', '825', '826', '827', '828', '829', '830', '831', '832', '833', '834', '835', '836', '837', '838', '839', '840', '841', '842', '843', '844', '845', '846', '847', '848', '849', '850', '851', '852', '853', '854', '855', '856', '857', '858', '859', '860', '861', '862', '863', '864', '865', '866', '867', '868', '869', '870', '871', '872', '873', '874', '875', '876', '877', '878', '879', '880', '881', '882', '883', '884', '885', '886', '887', '888', '889', '890', '891'], ['0', '1', '1', '1', '0', '0', '0', '0', '1', '1', '1', '1', '0', '0', '0', '1', '0', '1', '0', '1', '0', '1', '1', '1', '0', '1', '0', '0', '1', '0', '0', '1', '1', '0', '0', '0', '1', '0', '0', '1', '0', '0', '0', '1', '1', '0', '0', '1', '0', '0', '0', '0', '1', '1', '0', '1', '1', '0', '1', '0', '0', '1', '0', '0', '0', '1', '1', '0', '1', '0', '0', '0', '0', '0', '1', '0', '0', '0', '1', '1', '0', '1', '1', '0', '1', '1', '0', '0', '1', '0', '0', '0', '0', '0', '0', '0', '0', '1', '1', '0', '0', '0', '0', '0', '0', '0', '1', '1', '0', '1', '0', '0', '0', '0', '0', '0', '0', '0', '0', '0', '0', '0', '0', '1', '0', '1', '0', '1', '1', '0', '0', '0', '0', '1', '0', '0', '1', '0', '0', '0', '0', '1', '1', '0', '0', '0', '1', '0', '0', '0', '0', '1', '0', '0', '0', '0', '1', '0', '0', '0', '0', '1', '0', '0', '0', '1', '1', '0', '0', '0', '0', '0', '1', '0', '0', '0', '0', '0', '0', '0', '0', '0', '0', '1', '1', '0', '1', '1', '0', '0', '1', '0', '1', '1', '1', '1', '0', '0', '1', '0', '0', '0', '0', '0', '1', '0', '0', '1', '1', '1', '0', '1', '0', '0', '0', '1', '1', '0', '1', '0', '1', '0', '0', '0', '1', '0', '1', '0', '0', '0', '1', '0', '0', '1', '0', '0', '0', '1', '0', '0', '0', '1', '0', '0', '0', '0', '0', '1', '1', '0', '0', '0', '0', '0', '0', '1', '1', '1', '1', '1', '0', '1', '0', '0', '0', '0', '0', '1', '1', '1', '0', '1', '1', '0', '1', '1', '0', '0', '0', '1', '0', '0', '0', '1', '0', '0', '1', '0', '1', '1', '1', '1', '0', '0', '0', '0', '0', '0', '1', '1', '1', '1', '0', '1', '0', '1', '1', '1', '0', '1', '1', '1', '0', '0', '0', '1', '1', '0', '1', '1', '0', '0', '1', '1', '0', '1', '0', '1', '1', '1', '1', '0', '0', '0', '1', '0', '0', '1', '1', '0', '1', '1', '0', '0', '0', '1', '1', '1', '1', '0', '0', '0', '0', '0', '0', '0', '1', '0', '1', '1', '0', '0', '0', '0', '0', '0', '1', '1', '1', '1', '1', '0', '0', '0', '0', '1', '1', '0', '0', '0', '1', '1', '0', '1', '0', '0', '0', '1', '0', '1', '1', '1', '0', '1', '1', '0', '0', '0', '0', '1', '1', '0', '0', '0', '0', '0', '0', '1', '0', '0', '0', '0', '1', '0', '1', '0', '1', '1', '0', '0', '0', '0', '0', '0', '0', '0', '1', '1', '0', '1', '1', '1', '1', '0', '0', '1', '0', '1', '0', '0', '1', '0', '0', '1', '1', '1', '1', '1', '1', '1', '0', '0', '0', '1', '0', '1', '0', '1', '1', '0', '1', '0', '0', '0', '0', '0', '0', '0', '0', '1', '0', '0', '1', '1', '0', '0', '0', '0', '0', '1', '0', '0', '0', '1', '1', '0', '1', '0', '0', '1', '0', '0', '0', '0', '0', '0', '1', '0', '0', '0', '0', '0', '0', '0', '1', '0', '1', '1', '0', '1', '1', '0', '1', '1', '0', '0', '1', '0', '1', '0', '1', '0', '0', '1', '0', '0', '1', '0', '0', '0', '1', '0', '0', '1', '0', '1', '0', '1', '0', '1', '1', '0', '0', '1', '0', '0', '1', '1', '0', '1', '1', '0', '0', '1', '1', '0', '1', '0', '1', '1', '0', '0', '0', '0', '0', '0', '0', '0', '0', '1', '1', '1', '1', '1', '0', '0', '1', '1', '0', '1', '1', '1', '0', '0', '0', '1', '0', '1', '0', '0', '0', '1', '0', '0', '0', '0', '1', '0', '0', '1', '1', '0', '0', '0', '1', '0', '0', '1', '1', '1', '0', '0', '1', '0', '0', '1', '0', '0', '1', '0', '0', '1', '1', '0', '0', '0', '0', '1', '0', '0', '1', '0', '1', '0', '0', '1', '0', '0', '0', '0', '0', '1', '0', '1', '1', '1', '0', '1', '0', '1', '0', '1', '0', '1', '0', '0', '0', '0', '0', '0', '1', '0', '0', '0', '1', '0', '0', '0', '0', '1', '1', '0', '0', '1', '0', '0', '0', '1', '0', '1', '0', '1', '0', '0', '0', '0', '0', '0', '0', '1', '1', '1', '1', '0', '0', '0', '0', '1', '0', '0', '1', '1', '0', '0', '0', '0', '1', '1', '1', '1', '1', '0', '1', '0', '0', '0', '1', '1', '0', '0', '1', '0', '0', '0', '1', '0', '1', '1', '0', '0', '1', '0', '0', '0', '0', '0', '0', '1', '0', '0', '1', '0', '1', '0', '1', '0', '0', '1', '0', '0', '1', '1', '0', '0', '1', '1', '0', '0', '0', '1', '0', '0', '1', '1', '0', '1', '0', '0', '0', '0', '0', '0', '0', '0', '1', '0', '0', '1', '0', '1', '1', '1', '0', '0', '0', '0', '1', '0', '1', '0', '0', '0', '0', '0', '0', '0', '1', '1', '0', '0', '0', '1', '1', '1', '1', '0', '0', '0', '0', '1', '0', '0', '0', '0', '0', '0', '0', '0', '0', '0', '1', '1', '0', '1', '0', '0', '0', '1', '1', '1', '1', '1', '0', '0', '0', '1', '0', '0', '1', '1', '0', '0', '1', '0', '0', '0', '0', '0', '0', '1', '0', '0', '0', '1', '0', '1', '1', '1', '1', '0', '0', '0', '1', '0', '0', '1', '1', '0', '0', '1', '0', '1', '0', '0', '1', '1', '0', '0', '0', '1', '1', '0', '0', '0', '0', '0', '0', '1', '0', '1', '0'], ['3', '1', '3', '1', '3', '3', '1', '3', '3', '2', '3', '1', '3', '3', '3', '2', '3', '2', '3', '3', '2', '2', '3', '1', '3', '3', '3', '1', '3', '3', '1', '1', '3', '2', '1', '1', '3', '3', '3', '3', '3', '2', '3', '2', '3', '3', '3', '3', '3', '3', '3', '3', '1', '2', '1', '1', '2', '3', '2', '3', '3', '1', '1', '3', '1', '3', '2', '3', '3', '3', '2', '3', '2', '3', '3', '3', '3', '3', '2', '3', '3', '3', '3', '1', '2', '3', '3', '3', '1', '3', '3', '3', '1', '3', '3', '3', '1', '1', '2', '2', '3', '3', '1', '3', '3', '3', '3', '3', '3', '3', '1', '3', '3', '3', '3', '3', '3', '2', '1', '3', '2', '3', '2', '2', '1', '3', '3', '3', '3', '3', '3', '3', '3', '2', '2', '2', '1', '1', '3', '1', '3', '3', '3', '3', '2', '2', '3', '3', '2', '2', '2', '1', '3', '3', '3', '1', '3', '3', '3', '3', '3', '2', '3', '3', '3', '3', '1', '3', '1', '3', '1', '3', '3', '3', '1', '3', '3', '1', '2', '3', '3', '2', '3', '2', '3', '1', '3', '1', '3', '3', '2', '2', '3', '2', '1', '1', '3', '3', '3', '2', '3', '3', '3', '3', '3', '3', '3', '3', '3', '1', '3', '2', '3', '2', '3', '1', '3', '2', '1', '2', '3', '2', '3', '3', '1', '3', '2', '3', '2', '3', '1', '3', '2', '3', '2', '3', '2', '2', '2', '2', '3', '3', '2', '3', '3', '1', '3', '2', '1', '2', '3', '3', '1', '3', '3', '3', '1', '1', '1', '2', '3', '3', '1', '1', '3', '2', '3', '3', '1', '1', '1', '3', '2', '1', '3', '1', '3', '2', '3', '3', '3', '3', '3', '3', '1', '3', '3', '3', '2', '3', '1', '1', '2', '3', '3', '1', '3', '1', '1', '1', '3', '3', '3', '2', '3', '1', '1', '1', '2', '1', '1', '1', '2', '3', '2', '3', '2', '2', '1', '1', '3', '3', '2', '2', '3', '1', '3', '2', '3', '1', '3', '1', '1', '3', '1', '3', '1', '1', '3', '1', '2', '1', '2', '2', '2', '2', '2', '3', '3', '3', '3', '1', '3', '3', '3', '3', '1', '2', '3', '3', '3', '2', '3', '3', '3', '3', '1', '3', '3', '1', '1', '3', '3', '1', '3', '1', '3', '1', '3', '3', '1', '3', '3', '1', '3', '2', '3', '2', '3', '2', '1', '3', '3', '1', '3', '3', '3', '2', '2', '2', '3', '3', '3', '3', '3', '2', '3', '2', '3', '3', '3', '3', '1', '2', '3', '3', '2', '2', '2', '3', '3', '3', '3', '3', '3', '3', '2', '2', '3', '3', '1', '3', '2', '3', '1', '1', '3', '2', '1', '2', '2', '3', '3', '2', '3', '1', '2', '1', '3', '1', '2', '3', '1', '1', '3', '3', '1', '1', '2', '3', '1', '3', '1', '2', '3', '3', '2', '1', '3', '3', '3', '3', '2', '2', '3', '1', '2', '3', '3', '3', '3', '2', '3', '3', '1', '3', '1', '1', '3', '3', '3', '3', '1', '1', '3', '3', '1', '3', '1', '3', '3', '3', '3', '3', '1', '1', '2', '1', '3', '3', '3', '3', '1', '1', '3', '1', '2', '3', '2', '3', '1', '3', '3', '1', '3', '3', '2', '1', '3', '2', '2', '3', '3', '3', '3', '2', '1', '1', '3', '1', '1', '3', '3', '2', '1', '1', '2', '2', '3', '2', '1', '2', '3', '3', '3', '1', '1', '1', '1', '3', '3', '3', '2', '3', '3', '3', '3', '3', '3', '3', '2', '1', '1', '3', '3', '3', '2', '1', '3', '3', '2', '1', '2', '1', '3', '1', '2', '1', '3', '3', '3', '1', '3', '3', '2', '3', '2', '3', '3', '1', '2', '3', '1', '3', '1', '3', '3', '1', '2', '1', '3', '3', '3', '3', '3', '2', '3', '3', '2', '2', '3', '1', '3', '3', '3', '1', '2', '1', '3', '3', '1', '3', '1', '1', '3', '2', '3', '2', '3', '3', '3', '1', '3', '3', '3', '1', '3', '1', '3', '3', '3', '2', '3', '3', '3', '2', '3', '3', '2', '1', '1', '3', '1', '3', '3', '2', '2', '3', '3', '1', '2', '1', '2', '2', '2', '3', '3', '3', '3', '1', '3', '1', '3', '3', '2', '2', '3', '3', '3', '1', '1', '3', '3', '3', '1', '2', '3', '3', '1', '3', '1', '1', '3', '3', '3', '2', '2', '1', '1', '3', '1', '1', '1', '3', '2', '3', '1', '2', '3', '3', '2', '3', '2', '2', '1', '3', '2', '3', '2', '3', '1', '3', '2', '2', '2', '3', '3', '1', '3', '3', '1', '1', '1', '3', '3', '1', '3', '2', '1', '3', '2', '3', '3', '3', '2', '2', '3', '2', '3', '1', '3', '3', '3', '1', '3', '1', '1', '3', '3', '3', '3', '3', '2', '3', '2', '3', '3', '3', '3', '1', '3', '1', '1', '3', '3', '3', '3', '3', '3', '1', '3', '2', '3', '1', '3', '2', '1', '3', '3', '3', '2', '2', '1', '3', '3', '3', '1', '3', '2', '1', '3', '3', '2', '3', '3', '1', '3', '2', '3', '3', '1', '3', '1', '3', '3', '3', '3', '2', '3', '1', '3', '2', '3', '3', '3', '1', '3', '3', '3', '1', '3', '2', '1', '3', '3', '3', '3', '3', '2', '1', '3', '3', '3', '1', '2', '3', '1', '1', '3', '3', '3', '2', '1', '3', '2', '2', '2', '1', '3', '3', '3', '1', '1', '3', '2', '3', '3', '3', '3', '1', '2', '3', '3', '2', '3', '3', '2', '1', '3', '1', '3'], ['Braund, Mr. Owen Harris', 'Cumings, Mrs. John Bradley (Florence Briggs Thayer)', 'Heikkinen, Miss. Laina', 'Futrelle, Mrs. Jacques Heath (Lily May Peel)', 'Allen, Mr. William Henry', 'Moran, Mr. James', 'McCarthy, Mr. Timothy J', 'Palsson, Master. Gosta Leonard', 'Johnson, Mrs. Oscar W (Elisabeth Vilhelmina Berg)', 'Nasser, Mrs. Nicholas (Adele Achem)', 'Sandstrom, Miss. Marguerite Rut', 'Bonnell, Miss. Elizabeth', 'Saundercock, Mr. William Henry', 'Andersson, Mr. Anders Johan', 'Vestrom, Miss. Hulda Amanda Adolfina', 'Hewlett, Mrs. (Mary D Kingcome) ', 'Rice, Master. Eugene', 'Williams, Mr. Charles Eugene', 'Vander Planke, Mrs. Julius (Emelia Maria Vandemoortele)', 'Masselmani, Mrs. Fatima', 'Fynney, Mr. Joseph J', 'Beesley, Mr. Lawrence', 'McGowan, Miss. Anna \"Annie\"', 'Sloper, Mr. William Thompson', 'Palsson, Miss. Torborg Danira', 'Asplund, Mrs. Carl Oscar (Selma Augusta Emilia Johansson)', 'Emir, Mr. Farred Chehab', 'Fortune, Mr. Charles Alexander', 'O\\'Dwyer, Miss. Ellen \"Nellie\"', 'Todoroff, Mr. Lalio', 'Uruchurtu, Don. Manuel E', 'Spencer, Mrs. William Augustus (Marie Eugenie)', 'Glynn, Miss. Mary Agatha', 'Wheadon, Mr. Edward H', 'Meyer, Mr. Edgar Joseph', 'Holverson, Mr. Alexander Oskar', 'Mamee, Mr. Hanna', 'Cann, Mr. Ernest Charles', 'Vander Planke, Miss. Augusta Maria', 'Nicola-Yarred, Miss. Jamila', 'Ahlin, Mrs. Johan (Johanna Persdotter Larsson)', 'Turpin, Mrs. William John Robert (Dorothy Ann Wonnacott)', 'Kraeff, Mr. Theodor', 'Laroche, Miss. Simonne Marie Anne Andree', 'Devaney, Miss. Margaret Delia', 'Rogers, Mr. William John', 'Lennon, Mr. Denis', \"O'Driscoll, Miss. Bridget\", 'Samaan, Mr. Youssef', 'Arnold-Franchi, Mrs. Josef (Josefine Franchi)', 'Panula, Master. Juha Niilo', 'Nosworthy, Mr. Richard Cater', 'Harper, Mrs. Henry Sleeper (Myna Haxtun)', 'Faunthorpe, Mrs. Lizzie (Elizabeth Anne Wilkinson)', 'Ostby, Mr. Engelhart Cornelius', 'Woolner, Mr. Hugh', 'Rugg, Miss. Emily', 'Novel, Mr. Mansouer', 'West, Miss. Constance Mirium', 'Goodwin, Master. William Frederick', 'Sirayanian, Mr. Orsen', 'Icard, Miss. Amelie', 'Harris, Mr. Henry Birkhardt', 'Skoog, Master. Harald', 'Stewart, Mr. Albert A', 'Moubarek, Master. Gerios', 'Nye, Mrs. (Elizabeth Ramell)', 'Crease, Mr. Ernest James', 'Andersson, Miss. Erna Alexandra', 'Kink, Mr. Vincenz', 'Jenkin, Mr. Stephen Curnow', 'Goodwin, Miss. Lillian Amy', 'Hood, Mr. Ambrose Jr', 'Chronopoulos, Mr. Apostolos', 'Bing, Mr. Lee', 'Moen, Mr. Sigurd Hansen', 'Staneff, Mr. Ivan', 'Moutal, Mr. Rahamin Haim', 'Caldwell, Master. Alden Gates', 'Dowdell, Miss. Elizabeth', 'Waelens, Mr. Achille', 'Sheerlinck, Mr. Jan Baptist', 'McDermott, Miss. Brigdet Delia', 'Carrau, Mr. Francisco M', 'Ilett, Miss. Bertha', 'Backstrom, Mrs. Karl Alfred (Maria Mathilda Gustafsson)', 'Ford, Mr. William Neal', 'Slocovski, Mr. Selman Francis', 'Fortune, Miss. Mabel Helen', 'Celotti, Mr. Francesco', 'Christmann, Mr. Emil', 'Andreasson, Mr. Paul Edvin', 'Chaffee, Mr. Herbert Fuller', 'Dean, Mr. Bertram Frank', 'Coxon, Mr. Daniel', 'Shorney, Mr. Charles Joseph', 'Goldschmidt, Mr. George B', 'Greenfield, Mr. William Bertram', 'Doling, Mrs. John T (Ada Julia Bone)', 'Kantor, Mr. Sinai', 'Petranec, Miss. Matilda', 'Petroff, Mr. Pastcho (\"Pentcho\")', 'White, Mr. Richard Frasar', 'Johansson, Mr. Gustaf Joel', 'Gustafsson, Mr. Anders Vilhelm', 'Mionoff, Mr. Stoytcho', 'Salkjelsvik, Miss. Anna Kristine', 'Moss, Mr. Albert Johan', 'Rekic, Mr. Tido', 'Moran, Miss. Bertha', 'Porter, Mr. Walter Chamberlain', 'Zabour, Miss. Hileni', 'Barton, Mr. David John', 'Jussila, Miss. Katriina', 'Attalah, Miss. Malake', 'Pekoniemi, Mr. Edvard', 'Connors, Mr. Patrick', 'Turpin, Mr. William John Robert', 'Baxter, Mr. Quigg Edmond', 'Andersson, Miss. Ellis Anna Maria', 'Hickman, Mr. Stanley George', 'Moore, Mr. Leonard Charles', 'Nasser, Mr. Nicholas', 'Webber, Miss. Susan', 'White, Mr. Percival Wayland', 'Nicola-Yarred, Master. Elias', 'McMahon, Mr. Martin', 'Madsen, Mr. Fridtjof Arne', 'Peter, Miss. Anna', 'Ekstrom, Mr. Johan', 'Drazenoic, Mr. Jozef', 'Coelho, Mr. Domingos Fernandeo', 'Robins, Mrs. Alexander A (Grace Charity Laury)', 'Weisz, Mrs. Leopold (Mathilde Francoise Pede)', 'Sobey, Mr. Samuel James Hayden', 'Richard, Mr. Emile', 'Newsom, Miss. Helen Monypeny', 'Futrelle, Mr. Jacques Heath', 'Osen, Mr. Olaf Elon', 'Giglio, Mr. Victor', 'Boulos, Mrs. Joseph (Sultana)', 'Nysten, Miss. Anna Sofia', 'Hakkarainen, Mrs. Pekka Pietari (Elin Matilda Dolck)', 'Burke, Mr. Jeremiah', 'Andrew, Mr. Edgardo Samuel', 'Nicholls, Mr. Joseph Charles', 'Andersson, Mr. August Edvard (\"Wennerstrom\")', 'Ford, Miss. Robina Maggie \"Ruby\"', 'Navratil, Mr. Michel (\"Louis M Hoffman\")', 'Byles, Rev. Thomas Roussel Davids', 'Bateman, Rev. Robert James', 'Pears, Mrs. Thomas (Edith Wearne)', 'Meo, Mr. Alfonzo', 'van Billiard, Mr. Austin Blyler', 'Olsen, Mr. Ole Martin', 'Williams, Mr. Charles Duane', 'Gilnagh, Miss. Katherine \"Katie\"', 'Corn, Mr. Harry', 'Smiljanic, Mr. Mile', 'Sage, Master. Thomas Henry', 'Cribb, Mr. John Hatfield', 'Watt, Mrs. James (Elizabeth \"Bessie\" Inglis Milne)', 'Bengtsson, Mr. John Viktor', 'Calic, Mr. Jovo', 'Panula, Master. Eino Viljami', 'Goldsmith, Master. Frank John William \"Frankie\"', 'Chibnall, Mrs. (Edith Martha Bowerman)', 'Skoog, Mrs. William (Anna Bernhardina Karlsson)', 'Baumann, Mr. John D', 'Ling, Mr. Lee', 'Van der hoef, Mr. Wyckoff', 'Rice, Master. Arthur', 'Johnson, Miss. Eleanor Ileen', 'Sivola, Mr. Antti Wilhelm', 'Smith, Mr. James Clinch', 'Klasen, Mr. Klas Albin', 'Lefebre, Master. Henry Forbes', 'Isham, Miss. Ann Elizabeth', 'Hale, Mr. Reginald', 'Leonard, Mr. Lionel', 'Sage, Miss. Constance Gladys', 'Pernot, Mr. Rene', 'Asplund, Master. Clarence Gustaf Hugo', 'Becker, Master. Richard F', 'Kink-Heilmann, Miss. Luise Gretchen', 'Rood, Mr. Hugh Roscoe', 'O\\'Brien, Mrs. Thomas (Johanna \"Hannah\" Godfrey)', 'Romaine, Mr. Charles Hallace (\"Mr C Rolmane\")', 'Bourke, Mr. John', 'Turcin, Mr. Stjepan', 'Pinsky, Mrs. (Rosa)', 'Carbines, Mr. William', 'Andersen-Jensen, Miss. Carla Christine Nielsine', 'Navratil, Master. Michel M', 'Brown, Mrs. James Joseph (Margaret Tobin)', 'Lurette, Miss. Elise', 'Mernagh, Mr. Robert', 'Olsen, Mr. Karl Siegwart Andreas', 'Madigan, Miss. Margaret \"Maggie\"', 'Yrois, Miss. Henriette (\"Mrs Harbeck\")', 'Vande Walle, Mr. Nestor Cyriel', 'Sage, Mr. Frederick', 'Johanson, Mr. Jakob Alfred', 'Youseff, Mr. Gerious', 'Cohen, Mr. Gurshon \"Gus\"', 'Strom, Miss. Telma Matilda', 'Backstrom, Mr. Karl Alfred', 'Albimona, Mr. Nassef Cassem', 'Carr, Miss. Helen \"Ellen\"', 'Blank, Mr. Henry', 'Ali, Mr. Ahmed', 'Cameron, Miss. Clear Annie', 'Perkin, Mr. John Henry', 'Givard, Mr. Hans Kristensen', 'Kiernan, Mr. Philip', 'Newell, Miss. Madeleine', 'Honkanen, Miss. Eliina', 'Jacobsohn, Mr. Sidney Samuel', 'Bazzani, Miss. Albina', 'Harris, Mr. Walter', 'Sunderland, Mr. Victor Francis', 'Bracken, Mr. James H', 'Green, Mr. George Henry', 'Nenkoff, Mr. Christo', 'Hoyt, Mr. Frederick Maxfield', 'Berglund, Mr. Karl Ivar Sven', 'Mellors, Mr. William John', 'Lovell, Mr. John Hall (\"Henry\")', 'Fahlstrom, Mr. Arne Jonas', 'Lefebre, Miss. Mathilde', 'Harris, Mrs. Henry Birkhardt (Irene Wallach)', 'Larsson, Mr. Bengt Edvin', 'Sjostedt, Mr. Ernst Adolf', 'Asplund, Miss. Lillian Gertrud', 'Leyson, Mr. Robert William Norman', 'Harknett, Miss. Alice Phoebe', 'Hold, Mr. Stephen', 'Collyer, Miss. Marjorie \"Lottie\"', 'Pengelly, Mr. Frederick William', 'Hunt, Mr. George Henry', 'Zabour, Miss. Thamine', 'Murphy, Miss. Katherine \"Kate\"', 'Coleridge, Mr. Reginald Charles', 'Maenpaa, Mr. Matti Alexanteri', 'Attalah, Mr. Sleiman', 'Minahan, Dr. William Edward', 'Lindahl, Miss. Agda Thorilda Viktoria', 'Hamalainen, Mrs. William (Anna)', 'Beckwith, Mr. Richard Leonard', 'Carter, Rev. Ernest Courtenay', 'Reed, Mr. James George', 'Strom, Mrs. Wilhelm (Elna Matilda Persson)', 'Stead, Mr. William Thomas', 'Lobb, Mr. William Arthur', 'Rosblom, Mrs. Viktor (Helena Wilhelmina)', 'Touma, Mrs. Darwis (Hanne Youssef Razi)', 'Thorne, Mrs. Gertrude Maybelle', 'Cherry, Miss. Gladys', 'Ward, Miss. Anna', 'Parrish, Mrs. (Lutie Davis)', 'Smith, Mr. Thomas', 'Asplund, Master. Edvin Rojj Felix', 'Taussig, Mr. Emil', 'Harrison, Mr. William', 'Henry, Miss. Delia', 'Reeves, Mr. David', 'Panula, Mr. Ernesti Arvid', 'Persson, Mr. Ernst Ulrik', 'Graham, Mrs. William Thompson (Edith Junkins)', 'Bissette, Miss. Amelia', 'Cairns, Mr. Alexander', 'Tornquist, Mr. William Henry', 'Mellinger, Mrs. (Elizabeth Anne Maidment)', 'Natsch, Mr. Charles H', 'Healy, Miss. Hanora \"Nora\"', 'Andrews, Miss. Kornelia Theodosia', 'Lindblom, Miss. Augusta Charlotta', 'Parkes, Mr. Francis \"Frank\"', 'Rice, Master. Eric', 'Abbott, Mrs. Stanton (Rosa Hunt)', 'Duane, Mr. Frank', 'Olsson, Mr. Nils Johan Goransson', 'de Pelsmaeker, Mr. Alfons', 'Dorking, Mr. Edward Arthur', 'Smith, Mr. Richard William', 'Stankovic, Mr. Ivan', 'de Mulder, Mr. Theodore', 'Naidenoff, Mr. Penko', 'Hosono, Mr. Masabumi', 'Connolly, Miss. Kate', 'Barber, Miss. Ellen \"Nellie\"', 'Bishop, Mrs. Dickinson H (Helen Walton)', 'Levy, Mr. Rene Jacques', 'Haas, Miss. Aloisia', 'Mineff, Mr. Ivan', 'Lewy, Mr. Ervin G', 'Hanna, Mr. Mansour', 'Allison, Miss. Helen Loraine', 'Saalfeld, Mr. Adolphe', 'Baxter, Mrs. James (Helene DeLaudeniere Chaput)', 'Kelly, Miss. Anna Katherine \"Annie Kate\"', 'McCoy, Mr. Bernard', 'Johnson, Mr. William Cahoone Jr', 'Keane, Miss. Nora A', 'Williams, Mr. Howard Hugh \"Harry\"', 'Allison, Master. Hudson Trevor', 'Fleming, Miss. Margaret', 'Penasco y Castellana, Mrs. Victor de Satode (Maria Josefa Perez de Soto y Vallejo)', 'Abelson, Mr. Samuel', 'Francatelli, Miss. Laura Mabel', 'Hays, Miss. Margaret Bechstein', 'Ryerson, Miss. Emily Borie', 'Lahtinen, Mrs. William (Anna Sylfven)', 'Hendekovic, Mr. Ignjac', 'Hart, Mr. Benjamin', 'Nilsson, Miss. Helmina Josefina', 'Kantor, Mrs. Sinai (Miriam Sternin)', 'Moraweck, Dr. Ernest', 'Wick, Miss. Mary Natalie', 'Spedden, Mrs. Frederic Oakley (Margaretta Corning Stone)', 'Dennis, Mr. Samuel', 'Danoff, Mr. Yoto', 'Slayter, Miss. Hilda Mary', 'Caldwell, Mrs. Albert Francis (Sylvia Mae Harbaugh)', 'Sage, Mr. George John Jr', 'Young, Miss. Marie Grice', 'Nysveen, Mr. Johan Hansen', 'Ball, Mrs. (Ada E Hall)', 'Goldsmith, Mrs. Frank John (Emily Alice Brown)', 'Hippach, Miss. Jean Gertrude', 'McCoy, Miss. Agnes', 'Partner, Mr. Austen', 'Graham, Mr. George Edward', 'Vander Planke, Mr. Leo Edmondus', 'Frauenthal, Mrs. Henry William (Clara Heinsheimer)', 'Denkoff, Mr. Mitto', 'Pears, Mr. Thomas Clinton', 'Burns, Miss. Elizabeth Margaret', 'Dahl, Mr. Karl Edwart', 'Blackwell, Mr. Stephen Weart', 'Navratil, Master. Edmond Roger', 'Fortune, Miss. Alice Elizabeth', 'Collander, Mr. Erik Gustaf', 'Sedgwick, Mr. Charles Frederick Waddington', 'Fox, Mr. Stanley Hubert', 'Brown, Miss. Amelia \"Mildred\"', 'Smith, Miss. Marion Elsie', 'Davison, Mrs. Thomas Henry (Mary E Finck)', 'Coutts, Master. William Loch \"William\"', 'Dimic, Mr. Jovan', 'Odahl, Mr. Nils Martin', 'Williams-Lambert, Mr. Fletcher Fellows', 'Elias, Mr. Tannous', 'Arnold-Franchi, Mr. Josef', 'Yousif, Mr. Wazli', 'Vanden Steen, Mr. Leo Peter', 'Bowerman, Miss. Elsie Edith', 'Funk, Miss. Annie Clemmer', 'McGovern, Miss. Mary', 'Mockler, Miss. Helen Mary \"Ellie\"', 'Skoog, Mr. Wilhelm', 'del Carlo, Mr. Sebastiano', 'Barbara, Mrs. (Catherine David)', 'Asim, Mr. Adola', \"O'Brien, Mr. Thomas\", 'Adahl, Mr. Mauritz Nils Martin', 'Warren, Mrs. Frank Manley (Anna Sophia Atkinson)', 'Moussa, Mrs. (Mantoura Boulos)', 'Jermyn, Miss. Annie', 'Aubart, Mme. Leontine Pauline', 'Harder, Mr. George Achilles', 'Wiklund, Mr. Jakob Alfred', 'Beavan, Mr. William Thomas', 'Ringhini, Mr. Sante', 'Palsson, Miss. Stina Viola', 'Meyer, Mrs. Edgar Joseph (Leila Saks)', 'Landergren, Miss. Aurora Adelia', 'Widener, Mr. Harry Elkins', 'Betros, Mr. Tannous', 'Gustafsson, Mr. Karl Gideon', 'Bidois, Miss. Rosalie', 'Nakid, Miss. Maria (\"Mary\")', 'Tikkanen, Mr. Juho', 'Holverson, Mrs. Alexander Oskar (Mary Aline Towner)', 'Plotcharsky, Mr. Vasil', 'Davies, Mr. Charles Henry', 'Goodwin, Master. Sidney Leonard', 'Buss, Miss. Kate', 'Sadlier, Mr. Matthew', 'Lehmann, Miss. Bertha', 'Carter, Mr. William Ernest', 'Jansson, Mr. Carl Olof', 'Gustafsson, Mr. Johan Birger', 'Newell, Miss. Marjorie', 'Sandstrom, Mrs. Hjalmar (Agnes Charlotta Bengtsson)', 'Johansson, Mr. Erik', 'Olsson, Miss. Elina', 'McKane, Mr. Peter David', 'Pain, Dr. Alfred', 'Trout, Mrs. William H (Jessie L)', 'Niskanen, Mr. Juha', 'Adams, Mr. John', 'Jussila, Miss. Mari Aina', 'Hakkarainen, Mr. Pekka Pietari', 'Oreskovic, Miss. Marija', 'Gale, Mr. Shadrach', 'Widegren, Mr. Carl/Charles Peter', 'Richards, Master. William Rowe', 'Birkeland, Mr. Hans Martin Monsen', 'Lefebre, Miss. Ida', 'Sdycoff, Mr. Todor', 'Hart, Mr. Henry', 'Minahan, Miss. Daisy E', 'Cunningham, Mr. Alfred Fleming', 'Sundman, Mr. Johan Julian', 'Meek, Mrs. Thomas (Annie Louise Rowley)', 'Drew, Mrs. James Vivian (Lulu Thorne Christian)', 'Silven, Miss. Lyyli Karoliina', 'Matthews, Mr. William John', 'Van Impe, Miss. Catharina', 'Gheorgheff, Mr. Stanio', 'Charters, Mr. David', 'Zimmerman, Mr. Leo', 'Danbom, Mrs. Ernst Gilbert (Anna Sigrid Maria Brogren)', 'Rosblom, Mr. Viktor Richard', 'Wiseman, Mr. Phillippe', 'Clarke, Mrs. Charles V (Ada Maria Winfield)', 'Phillips, Miss. Kate Florence (\"Mrs Kate Louise Phillips Marshall\")', 'Flynn, Mr. James', 'Pickard, Mr. Berk (Berk Trembisky)', 'Bjornstrom-Steffansson, Mr. Mauritz Hakan', 'Thorneycroft, Mrs. Percival (Florence Kate White)', 'Louch, Mrs. Charles Alexander (Alice Adelaide Slow)', 'Kallio, Mr. Nikolai Erland', 'Silvey, Mr. William Baird', 'Carter, Miss. Lucile Polk', 'Ford, Miss. Doolina Margaret \"Daisy\"', 'Richards, Mrs. Sidney (Emily Hocking)', 'Fortune, Mr. Mark', 'Kvillner, Mr. Johan Henrik Johannesson', 'Hart, Mrs. Benjamin (Esther Ada Bloomfield)', 'Hampe, Mr. Leon', 'Petterson, Mr. Johan Emil', 'Reynaldo, Ms. Encarnacion', 'Johannesen-Bratthammer, Mr. Bernt', 'Dodge, Master. Washington', 'Mellinger, Miss. Madeleine Violet', 'Seward, Mr. Frederic Kimber', 'Baclini, Miss. Marie Catherine', 'Peuchen, Major. Arthur Godfrey', 'West, Mr. Edwy Arthur', 'Hagland, Mr. Ingvald Olai Olsen', 'Foreman, Mr. Benjamin Laventall', 'Goldenberg, Mr. Samuel L', 'Peduzzi, Mr. Joseph', 'Jalsevac, Mr. Ivan', 'Millet, Mr. Francis Davis', 'Kenyon, Mrs. Frederick R (Marion)', 'Toomey, Miss. Ellen', \"O'Connor, Mr. Maurice\", 'Anderson, Mr. Harry', 'Morley, Mr. William', 'Gee, Mr. Arthur H', 'Milling, Mr. Jacob Christian', 'Maisner, Mr. Simon', 'Goncalves, Mr. Manuel Estanslas', 'Campbell, Mr. William', 'Smart, Mr. John Montgomery', 'Scanlan, Mr. James', 'Baclini, Miss. Helene Barbara', 'Keefe, Mr. Arthur', 'Cacic, Mr. Luka', 'West, Mrs. Edwy Arthur (Ada Mary Worth)', 'Jerwan, Mrs. Amin S (Marie Marthe Thuillard)', 'Strandberg, Miss. Ida Sofia', 'Clifford, Mr. George Quincy', 'Renouf, Mr. Peter Henry', 'Braund, Mr. Lewis Richard', 'Karlsson, Mr. Nils August', 'Hirvonen, Miss. Hildur E', 'Goodwin, Master. Harold Victor', 'Frost, Mr. Anthony Wood \"Archie\"', 'Rouse, Mr. Richard Henry', 'Turkula, Mrs. (Hedwig)', 'Bishop, Mr. Dickinson H', 'Lefebre, Miss. Jeannie', 'Hoyt, Mrs. Frederick Maxfield (Jane Anne Forby)', 'Kent, Mr. Edward Austin', 'Somerton, Mr. Francis William', 'Coutts, Master. Eden Leslie \"Neville\"', 'Hagland, Mr. Konrad Mathias Reiersen', 'Windelov, Mr. Einar', 'Molson, Mr. Harry Markland', 'Artagaveytia, Mr. Ramon', 'Stanley, Mr. Edward Roland', 'Yousseff, Mr. Gerious', 'Eustis, Miss. Elizabeth Mussey', 'Shellard, Mr. Frederick William', 'Allison, Mrs. Hudson J C (Bessie Waldo Daniels)', 'Svensson, Mr. Olof', 'Calic, Mr. Petar', 'Canavan, Miss. Mary', \"O'Sullivan, Miss. Bridget Mary\", 'Laitinen, Miss. Kristina Sofia', 'Maioni, Miss. Roberta', 'Penasco y Castellana, Mr. Victor de Satode', 'Quick, Mrs. Frederick Charles (Jane Richards)', 'Bradley, Mr. George (\"George Arthur Brayton\")', 'Olsen, Mr. Henry Margido', 'Lang, Mr. Fang', 'Daly, Mr. Eugene Patrick', 'Webber, Mr. James', 'McGough, Mr. James Robert', 'Rothschild, Mrs. Martin (Elizabeth L. Barrett)', 'Coleff, Mr. Satio', 'Walker, Mr. William Anderson', 'Lemore, Mrs. (Amelia Milley)', 'Ryan, Mr. Patrick', 'Angle, Mrs. William A (Florence \"Mary\" Agnes Hughes)', 'Pavlovic, Mr. Stefo', 'Perreault, Miss. Anne', 'Vovk, Mr. Janko', 'Lahoud, Mr. Sarkis', 'Hippach, Mrs. Louis Albert (Ida Sophia Fischer)', 'Kassem, Mr. Fared', 'Farrell, Mr. James', 'Ridsdale, Miss. Lucy', 'Farthing, Mr. John', 'Salonen, Mr. Johan Werner', 'Hocking, Mr. Richard George', 'Quick, Miss. Phyllis May', 'Toufik, Mr. Nakli', 'Elias, Mr. Joseph Jr', 'Peter, Mrs. Catherine (Catherine Rizk)', 'Cacic, Miss. Marija', 'Hart, Miss. Eva Miriam', 'Butt, Major. Archibald Willingham', 'LeRoy, Miss. Bertha', 'Risien, Mr. Samuel Beard', 'Frolicher, Miss. Hedwig Margaritha', 'Crosby, Miss. Harriet R', 'Andersson, Miss. Ingeborg Constanzia', 'Andersson, Miss. Sigrid Elisabeth', 'Beane, Mr. Edward', 'Douglas, Mr. Walter Donald', 'Nicholson, Mr. Arthur Ernest', 'Beane, Mrs. Edward (Ethel Clarke)', 'Padro y Manent, Mr. Julian', 'Goldsmith, Mr. Frank John', 'Davies, Master. John Morgan Jr', 'Thayer, Mr. John Borland Jr', 'Sharp, Mr. Percival James R', \"O'Brien, Mr. Timothy\", 'Leeni, Mr. Fahim (\"Philip Zenni\")', 'Ohman, Miss. Velin', 'Wright, Mr. George', 'Duff Gordon, Lady. (Lucille Christiana Sutherland) (\"Mrs Morgan\")', 'Robbins, Mr. Victor', 'Taussig, Mrs. Emil (Tillie Mandelbaum)', 'de Messemaeker, Mrs. Guillaume Joseph (Emma)', 'Morrow, Mr. Thomas Rowan', 'Sivic, Mr. Husein', 'Norman, Mr. Robert Douglas', 'Simmons, Mr. John', 'Meanwell, Miss. (Marion Ogden)', 'Davies, Mr. Alfred J', 'Stoytcheff, Mr. Ilia', 'Palsson, Mrs. Nils (Alma Cornelia Berglund)', 'Doharr, Mr. Tannous', 'Jonsson, Mr. Carl', 'Harris, Mr. George', 'Appleton, Mrs. Edward Dale (Charlotte Lamson)', 'Flynn, Mr. John Irwin (\"Irving\")', 'Kelly, Miss. Mary', 'Rush, Mr. Alfred George John', 'Patchett, Mr. George', 'Garside, Miss. Ethel', 'Silvey, Mrs. William Baird (Alice Munger)', 'Caram, Mrs. Joseph (Maria Elias)', 'Jussila, Mr. Eiriik', 'Christy, Miss. Julie Rachel', 'Thayer, Mrs. John Borland (Marian Longstreth Morris)', 'Downton, Mr. William James', 'Ross, Mr. John Hugo', 'Paulner, Mr. Uscher', 'Taussig, Miss. Ruth', 'Jarvis, Mr. John Denzil', 'Frolicher-Stehli, Mr. Maxmillian', 'Gilinski, Mr. Eliezer', 'Murdlin, Mr. Joseph', 'Rintamaki, Mr. Matti', 'Stephenson, Mrs. Walter Bertram (Martha Eustis)', 'Elsbury, Mr. William James', 'Bourke, Miss. Mary', 'Chapman, Mr. John Henry', 'Van Impe, Mr. Jean Baptiste', 'Leitch, Miss. Jessie Wills', 'Johnson, Mr. Alfred', 'Boulos, Mr. Hanna', 'Duff Gordon, Sir. Cosmo Edmund (\"Mr Morgan\")', 'Jacobsohn, Mrs. Sidney Samuel (Amy Frances Christy)', 'Slabenoff, Mr. Petco', 'Harrington, Mr. Charles H', 'Torber, Mr. Ernst William', 'Homer, Mr. Harry (\"Mr E Haven\")', 'Lindell, Mr. Edvard Bengtsson', 'Karaic, Mr. Milan', 'Daniel, Mr. Robert Williams', 'Laroche, Mrs. Joseph (Juliette Marie Louise Lafargue)', 'Shutes, Miss. Elizabeth W', 'Andersson, Mrs. Anders Johan (Alfrida Konstantia Brogren)', 'Jardin, Mr. Jose Neto', 'Murphy, Miss. Margaret Jane', 'Horgan, Mr. John', 'Brocklebank, Mr. William Alfred', 'Herman, Miss. Alice', 'Danbom, Mr. Ernst Gilbert', 'Lobb, Mrs. William Arthur (Cordelia K Stanlick)', 'Becker, Miss. Marion Louise', 'Gavey, Mr. Lawrence', 'Yasbeck, Mr. Antoni', 'Kimball, Mr. Edwin Nelson Jr', 'Nakid, Mr. Sahid', 'Hansen, Mr. Henry Damsgaard', 'Bowen, Mr. David John \"Dai\"', 'Sutton, Mr. Frederick', 'Kirkland, Rev. Charles Leonard', 'Longley, Miss. Gretchen Fiske', 'Bostandyeff, Mr. Guentcho', \"O'Connell, Mr. Patrick D\", 'Barkworth, Mr. Algernon Henry Wilson', 'Lundahl, Mr. Johan Svensson', 'Stahelin-Maeglin, Dr. Max', 'Parr, Mr. William Henry Marsh', 'Skoog, Miss. Mabel', 'Davis, Miss. Mary', 'Leinonen, Mr. Antti Gustaf', 'Collyer, Mr. Harvey', 'Panula, Mrs. Juha (Maria Emilia Ojala)', 'Thorneycroft, Mr. Percival', 'Jensen, Mr. Hans Peder', 'Sagesser, Mlle. Emma', 'Skoog, Miss. Margit Elizabeth', 'Foo, Mr. Choong', 'Baclini, Miss. Eugenie', 'Harper, Mr. Henry Sleeper', 'Cor, Mr. Liudevit', 'Simonius-Blumer, Col. Oberst Alfons', 'Willey, Mr. Edward', 'Stanley, Miss. Amy Zillah Elsie', 'Mitkoff, Mr. Mito', 'Doling, Miss. Elsie', 'Kalvik, Mr. Johannes Halvorsen', 'O\\'Leary, Miss. Hanora \"Norah\"', 'Hegarty, Miss. Hanora \"Nora\"', 'Hickman, Mr. Leonard Mark', 'Radeff, Mr. Alexander', 'Bourke, Mrs. John (Catherine)', 'Eitemiller, Mr. George Floyd', 'Newell, Mr. Arthur Webster', 'Frauenthal, Dr. Henry William', 'Badt, Mr. Mohamed', 'Colley, Mr. Edward Pomeroy', 'Coleff, Mr. Peju', 'Lindqvist, Mr. Eino William', 'Hickman, Mr. Lewis', 'Butler, Mr. Reginald Fenton', 'Rommetvedt, Mr. Knud Paust', 'Cook, Mr. Jacob', 'Taylor, Mrs. Elmer Zebley (Juliet Cummins Wright)', 'Brown, Mrs. Thomas William Solomon (Elizabeth Catherine Ford)', 'Davidson, Mr. Thornton', 'Mitchell, Mr. Henry Michael', 'Wilhelms, Mr. Charles', 'Watson, Mr. Ennis Hastings', 'Edvardsson, Mr. Gustaf Hjalmar', 'Sawyer, Mr. Frederick Charles', 'Turja, Miss. Anna Sofia', 'Goodwin, Mrs. Frederick (Augusta Tyler)', 'Cardeza, Mr. Thomas Drake Martinez', 'Peters, Miss. Katie', 'Hassab, Mr. Hammad', 'Olsvigen, Mr. Thor Anderson', 'Goodwin, Mr. Charles Edward', 'Brown, Mr. Thomas William Solomon', 'Laroche, Mr. Joseph Philippe Lemercier', 'Panula, Mr. Jaako Arnold', 'Dakic, Mr. Branko', 'Fischer, Mr. Eberhard Thelander', 'Madill, Miss. Georgette Alexandra', 'Dick, Mr. Albert Adrian', 'Karun, Miss. Manca', 'Lam, Mr. Ali', 'Saad, Mr. Khalil', 'Weir, Col. John', 'Chapman, Mr. Charles Henry', 'Kelly, Mr. James', 'Mullens, Miss. Katherine \"Katie\"', 'Thayer, Mr. John Borland', 'Humblen, Mr. Adolf Mathias Nicolai Olsen', 'Astor, Mrs. John Jacob (Madeleine Talmadge Force)', 'Silverthorne, Mr. Spencer Victor', 'Barbara, Miss. Saiide', 'Gallagher, Mr. Martin', 'Hansen, Mr. Henrik Juul', 'Morley, Mr. Henry Samuel (\"Mr Henry Marshall\")', 'Kelly, Mrs. Florence \"Fannie\"', 'Calderhead, Mr. Edward Pennington', 'Cleaver, Miss. Alice', 'Moubarek, Master. Halim Gonios (\"William George\")', 'Mayne, Mlle. Berthe Antonine (\"Mrs de Villiers\")', 'Klaber, Mr. Herman', 'Taylor, Mr. Elmer Zebley', 'Larsson, Mr. August Viktor', 'Greenberg, Mr. Samuel', 'Soholt, Mr. Peter Andreas Lauritz Andersen', 'Endres, Miss. Caroline Louise', 'Troutt, Miss. Edwina Celia \"Winnie\"', 'McEvoy, Mr. Michael', 'Johnson, Mr. Malkolm Joackim', 'Harper, Miss. Annie Jessie \"Nina\"', 'Jensen, Mr. Svend Lauritz', 'Gillespie, Mr. William Henry', 'Hodges, Mr. Henry Price', 'Chambers, Mr. Norman Campbell', 'Oreskovic, Mr. Luka', 'Renouf, Mrs. Peter Henry (Lillian Jefferys)', 'Mannion, Miss. Margareth', 'Bryhl, Mr. Kurt Arnold Gottfrid', 'Ilmakangas, Miss. Pieta Sofia', 'Allen, Miss. Elisabeth Walton', 'Hassan, Mr. Houssein G N', 'Knight, Mr. Robert J', 'Berriman, Mr. William John', 'Troupiansky, Mr. Moses Aaron', 'Williams, Mr. Leslie', 'Ford, Mrs. Edward (Margaret Ann Watson)', 'Lesurer, Mr. Gustave J', 'Ivanoff, Mr. Kanio', 'Nankoff, Mr. Minko', 'Hawksford, Mr. Walter James', 'Cavendish, Mr. Tyrell William', 'Ryerson, Miss. Susan Parker \"Suzette\"', 'McNamee, Mr. Neal', 'Stranden, Mr. Juho', 'Crosby, Capt. Edward Gifford', 'Abbott, Mr. Rossmore Edward', 'Sinkkonen, Miss. Anna', 'Marvin, Mr. Daniel Warner', 'Connaghton, Mr. Michael', 'Wells, Miss. Joan', 'Moor, Master. Meier', 'Vande Velde, Mr. Johannes Joseph', 'Jonkoff, Mr. Lalio', 'Herman, Mrs. Samuel (Jane Laver)', 'Hamalainen, Master. Viljo', 'Carlsson, Mr. August Sigfrid', 'Bailey, Mr. Percy Andrew', 'Theobald, Mr. Thomas Leonard', 'Rothes, the Countess. of (Lucy Noel Martha Dyer-Edwards)', 'Garfirth, Mr. John', 'Nirva, Mr. Iisakki Antino Aijo', 'Barah, Mr. Hanna Assi', 'Carter, Mrs. William Ernest (Lucile Polk)', 'Eklund, Mr. Hans Linus', 'Hogeboom, Mrs. John C (Anna Andrews)', 'Brewe, Dr. Arthur Jackson', 'Mangan, Miss. Mary', 'Moran, Mr. Daniel J', 'Gronnestad, Mr. Daniel Danielsen', 'Lievens, Mr. Rene Aime', 'Jensen, Mr. Niels Peder', 'Mack, Mrs. (Mary)', 'Elias, Mr. Dibo', 'Hocking, Mrs. Elizabeth (Eliza Needs)', 'Myhrman, Mr. Pehr Fabian Oliver Malkolm', 'Tobin, Mr. Roger', 'Emanuel, Miss. Virginia Ethel', 'Kilgannon, Mr. Thomas J', 'Robert, Mrs. Edward Scott (Elisabeth Walton McMillan)', 'Ayoub, Miss. Banoura', 'Dick, Mrs. Albert Adrian (Vera Gillespie)', 'Long, Mr. Milton Clyde', 'Johnston, Mr. Andrew G', 'Ali, Mr. William', 'Harmer, Mr. Abraham (David Lishin)', 'Sjoblom, Miss. Anna Sofia', 'Rice, Master. George Hugh', 'Dean, Master. Bertram Vere', 'Guggenheim, Mr. Benjamin', 'Keane, Mr. Andrew \"Andy\"', 'Gaskell, Mr. Alfred', 'Sage, Miss. Stella Anna', 'Hoyt, Mr. William Fisher', 'Dantcheff, Mr. Ristiu', 'Otter, Mr. Richard', 'Leader, Dr. Alice (Farnham)', 'Osman, Mrs. Mara', 'Ibrahim Shawah, Mr. Yousseff', 'Van Impe, Mrs. Jean Baptiste (Rosalie Paula Govaert)', 'Ponesell, Mr. Martin', 'Collyer, Mrs. Harvey (Charlotte Annie Tate)', 'Carter, Master. William Thornton II', 'Thomas, Master. Assad Alexander', 'Hedman, Mr. Oskar Arvid', 'Johansson, Mr. Karl Johan', 'Andrews, Mr. Thomas Jr', 'Pettersson, Miss. Ellen Natalia', 'Meyer, Mr. August', 'Chambers, Mrs. Norman Campbell (Bertha Griggs)', 'Alexander, Mr. William', 'Lester, Mr. James', 'Slemen, Mr. Richard James', 'Andersson, Miss. Ebba Iris Alfrida', 'Tomlin, Mr. Ernest Portage', 'Fry, Mr. Richard', 'Heininen, Miss. Wendla Maria', 'Mallet, Mr. Albert', 'Holm, Mr. John Fredrik Alexander', 'Skoog, Master. Karl Thorsten', 'Hays, Mrs. Charles Melville (Clara Jennings Gregg)', 'Lulic, Mr. Nikola', 'Reuchlin, Jonkheer. John George', 'Moor, Mrs. (Beila)', 'Panula, Master. Urho Abraham', 'Flynn, Mr. John', 'Lam, Mr. Len', 'Mallet, Master. Andre', 'McCormack, Mr. Thomas Joseph', 'Stone, Mrs. George Nelson (Martha Evelyn)', 'Yasbeck, Mrs. Antoni (Selini Alexander)', 'Richards, Master. George Sibley', 'Saad, Mr. Amin', 'Augustsson, Mr. Albert', 'Allum, Mr. Owen George', 'Compton, Miss. Sara Rebecca', 'Pasic, Mr. Jakob', 'Sirota, Mr. Maurice', 'Chip, Mr. Chang', 'Marechal, Mr. Pierre', 'Alhomaki, Mr. Ilmari Rudolf', 'Mudd, Mr. Thomas Charles', 'Serepeca, Miss. Augusta', 'Lemberopolous, Mr. Peter L', 'Culumovic, Mr. Jeso', 'Abbing, Mr. Anthony', 'Sage, Mr. Douglas Bullen', 'Markoff, Mr. Marin', 'Harper, Rev. John', 'Goldenberg, Mrs. Samuel L (Edwiga Grabowska)', 'Andersson, Master. Sigvard Harald Elias', 'Svensson, Mr. Johan', 'Boulos, Miss. Nourelain', 'Lines, Miss. Mary Conover', 'Carter, Mrs. Ernest Courtenay (Lilian Hughes)', 'Aks, Mrs. Sam (Leah Rosen)', 'Wick, Mrs. George Dennick (Mary Hitchcock)', 'Daly, Mr. Peter Denis ', 'Baclini, Mrs. Solomon (Latifa Qurban)', 'Razi, Mr. Raihed', 'Hansen, Mr. Claus Peter', 'Giles, Mr. Frederick Edward', 'Swift, Mrs. Frederick Joel (Margaret Welles Barron)', 'Sage, Miss. Dorothy Edith \"Dolly\"', 'Gill, Mr. John William', 'Bystrom, Mrs. (Karolina)', 'Duran y More, Miss. Asuncion', 'Roebling, Mr. Washington Augustus II', 'van Melkebeke, Mr. Philemon', 'Johnson, Master. Harold Theodor', 'Balkic, Mr. Cerin', 'Beckwith, Mrs. Richard Leonard (Sallie Monypeny)', 'Carlsson, Mr. Frans Olof', 'Vander Cruyssen, Mr. Victor', 'Abelson, Mrs. Samuel (Hannah Wizosky)', 'Najib, Miss. Adele Kiamie \"Jane\"', 'Gustafsson, Mr. Alfred Ossian', 'Petroff, Mr. Nedelio', 'Laleff, Mr. Kristo', 'Potter, Mrs. Thomas Jr (Lily Alexenia Wilson)', 'Shelley, Mrs. William (Imanita Parrish Hall)', 'Markun, Mr. Johann', 'Dahlberg, Miss. Gerda Ulrika', 'Banfield, Mr. Frederick James', 'Sutehall, Mr. Henry Jr', 'Rice, Mrs. William (Margaret Norton)', 'Montvila, Rev. Juozas', 'Graham, Miss. Margaret Edith', 'Johnston, Miss. Catherine Helen \"Carrie\"', 'Behr, Mr. Karl Howell', 'Dooley, Mr. Patrick'], ['male', 'female', 'female', 'female', 'male', 'male', 'male', 'male', 'female', 'female', 'female', 'female', 'male', 'male', 'female', 'female', 'male', 'male', 'female', 'female', 'male', 'male', 'female', 'male', 'female', 'female', 'male', 'male', 'female', 'male', 'male', 'female', 'female', 'male', 'male', 'male', 'male', 'male', 'female', 'female', 'female', 'female', 'male', 'female', 'female', 'male', 'male', 'female', 'male', 'female', 'male', 'male', 'female', 'female', 'male', 'male', 'female', 'male', 'female', 'male', 'male', 'female', 'male', 'male', 'male', 'male', 'female', 'male', 'female', 'male', 'male', 'female', 'male', 'male', 'male', 'male', 'male', 'male', 'male', 'female', 'male', 'male', 'female', 'male', 'female', 'female', 'male', 'male', 'female', 'male', 'male', 'male', 'male', 'male', 'male', 'male', 'male', 'male', 'female', 'male', 'female', 'male', 'male', 'male', 'male', 'male', 'female', 'male', 'male', 'female', 'male', 'female', 'male', 'female', 'female', 'male', 'male', 'male', 'male', 'female', 'male', 'male', 'male', 'female', 'male', 'male', 'male', 'male', 'female', 'male', 'male', 'male', 'female', 'female', 'male', 'male', 'female', 'male', 'male', 'male', 'female', 'female', 'female', 'male', 'male', 'male', 'male', 'female', 'male', 'male', 'male', 'female', 'male', 'male', 'male', 'male', 'female', 'male', 'male', 'male', 'male', 'female', 'male', 'male', 'male', 'male', 'female', 'female', 'male', 'male', 'male', 'male', 'female', 'male', 'male', 'male', 'male', 'female', 'male', 'male', 'female', 'male', 'male', 'male', 'female', 'male', 'female', 'male', 'male', 'male', 'female', 'male', 'female', 'male', 'female', 'female', 'male', 'male', 'female', 'female', 'male', 'male', 'male', 'male', 'male', 'female', 'male', 'male', 'female', 'male', 'male', 'female', 'male', 'male', 'male', 'female', 'female', 'male', 'female', 'male', 'male', 'male', 'male', 'male', 'male', 'male', 'male', 'male', 'male', 'female', 'female', 'male', 'male', 'female', 'male', 'female', 'male', 'female', 'male', 'male', 'female', 'female', 'male', 'male', 'male', 'male', 'female', 'female', 'male', 'male', 'male', 'female', 'male', 'male', 'female', 'female', 'female', 'female', 'female', 'female', 'male', 'male', 'male', 'male', 'female', 'male', 'male', 'male', 'female', 'female', 'male', 'male', 'female', 'male', 'female', 'female', 'female', 'male', 'male', 'female', 'male', 'male', 'male', 'male', 'male', 'male', 'male', 'male', 'male', 'female', 'female', 'female', 'male', 'female', 'male', 'male', 'male', 'female', 'male', 'female', 'female', 'male', 'male', 'female', 'male', 'male', 'female', 'female', 'male', 'female', 'female', 'female', 'female', 'male', 'male', 'female', 'female', 'male', 'female', 'female', 'male', 'male', 'female', 'female', 'male', 'female', 'male', 'female', 'female', 'female', 'female', 'male', 'male', 'male', 'female', 'male', 'male', 'female', 'male', 'male', 'male', 'female', 'male', 'male', 'male', 'female', 'female', 'female', 'male', 'male', 'male', 'male', 'male', 'male', 'male', 'male', 'female', 'female', 'female', 'female', 'male', 'male', 'female', 'male', 'male', 'male', 'female', 'female', 'female', 'female', 'male', 'male', 'male', 'male', 'female', 'female', 'female', 'male', 'male', 'male', 'female', 'female', 'male', 'female', 'male', 'male', 'male', 'female', 'male', 'female', 'male', 'male', 'male', 'female', 'female', 'male', 'female', 'male', 'male', 'female', 'male', 'male', 'female', 'male', 'female', 'male', 'male', 'male', 'male', 'female', 'male', 'male', 'female', 'male', 'male', 'female', 'female', 'female', 'male', 'female', 'male', 'male', 'male', 'female', 'male', 'male', 'female', 'female', 'male', 'male', 'male', 'female', 'female', 'male', 'male', 'female', 'female', 'female', 'male', 'male', 'female', 'male', 'male', 'female', 'male', 'male', 'female', 'male', 'female', 'male', 'male', 'male', 'male', 'male', 'male', 'male', 'male', 'female', 'female', 'male', 'male', 'male', 'male', 'male', 'male', 'male', 'male', 'male', 'male', 'female', 'male', 'male', 'female', 'female', 'female', 'male', 'male', 'male', 'male', 'female', 'male', 'male', 'male', 'female', 'male', 'female', 'female', 'male', 'male', 'male', 'male', 'male', 'male', 'male', 'male', 'male', 'female', 'male', 'female', 'male', 'male', 'female', 'female', 'female', 'female', 'male', 'female', 'male', 'male', 'male', 'male', 'male', 'male', 'female', 'male', 'male', 'female', 'male', 'female', 'male', 'female', 'male', 'male', 'female', 'male', 'male', 'female', 'male', 'male', 'male', 'female', 'male', 'male', 'female', 'female', 'female', 'male', 'female', 'male', 'female', 'female', 'female', 'female', 'male', 'male', 'male', 'female', 'male', 'male', 'male', 'male', 'male', 'male', 'male', 'female', 'male', 'female', 'male', 'female', 'female', 'male', 'male', 'male', 'male', 'female', 'male', 'male', 'female', 'male', 'male', 'male', 'female', 'male', 'female', 'male', 'male', 'female', 'female', 'female', 'male', 'female', 'female', 'male', 'male', 'male', 'female', 'male', 'male', 'male', 'male', 'male', 'female', 'male', 'female', 'male', 'male', 'female', 'male', 'male', 'male', 'female', 'male', 'male', 'male', 'male', 'male', 'male', 'male', 'female', 'female', 'female', 'male', 'female', 'male', 'male', 'female', 'male', 'female', 'female', 'male', 'male', 'male', 'male', 'male', 'male', 'male', 'male', 'female', 'male', 'male', 'male', 'male', 'male', 'male', 'female', 'female', 'male', 'male', 'female', 'male', 'male', 'female', 'female', 'male', 'female', 'male', 'male', 'male', 'male', 'female', 'male', 'female', 'male', 'female', 'female', 'male', 'male', 'female', 'male', 'male', 'male', 'male', 'male', 'male', 'male', 'male', 'male', 'male', 'male', 'female', 'female', 'male', 'male', 'male', 'male', 'male', 'male', 'female', 'female', 'male', 'female', 'male', 'male', 'male', 'male', 'male', 'male', 'male', 'male', 'female', 'male', 'female', 'male', 'male', 'male', 'male', 'male', 'female', 'male', 'male', 'female', 'male', 'female', 'male', 'male', 'male', 'female', 'male', 'female', 'male', 'female', 'male', 'male', 'male', 'male', 'male', 'female', 'female', 'male', 'male', 'female', 'male', 'male', 'male', 'male', 'male', 'female', 'female', 'male', 'female', 'female', 'male', 'male', 'male', 'male', 'male', 'female', 'male', 'male', 'male', 'male', 'male', 'female', 'male', 'male', 'male', 'male', 'female', 'male', 'male', 'female', 'male', 'male', 'male', 'female', 'male', 'male', 'male', 'male', 'female', 'male', 'male', 'male', 'female', 'male', 'female', 'male', 'female', 'male', 'male', 'male', 'male', 'female', 'male', 'female', 'male', 'male', 'female', 'male', 'female', 'female', 'female', 'male', 'male', 'male', 'male', 'female', 'male', 'male', 'male', 'male', 'male', 'female', 'male', 'male', 'male', 'female', 'female', 'male', 'female', 'male', 'female', 'male', 'male', 'male', 'male', 'male', 'female', 'male', 'female', 'male', 'male', 'male', 'female', 'male', 'male', 'female', 'male', 'male', 'male', 'female', 'male', 'male', 'female', 'male', 'male', 'male', 'male', 'male', 'female', 'female', 'male', 'male', 'male', 'male', 'female', 'male', 'male', 'male', 'male', 'male', 'male', 'female', 'male', 'male', 'male', 'male', 'male', 'male', 'female', 'male', 'male', 'female', 'female', 'female', 'female', 'female', 'male', 'female', 'male', 'male', 'male', 'female', 'female', 'male', 'female', 'female', 'male', 'male', 'male', 'male', 'female', 'male', 'male', 'female', 'female', 'male', 'male', 'male', 'female', 'female', 'male', 'female', 'male', 'male', 'female', 'male', 'female', 'female', 'male', 'male'], ['22.0', '38.0', '26.0', '35.0', '35.0', 'nan', '54.0', '2.0', '27.0', '14.0', '4.0', '58.0', '20.0', '39.0', '14.0', '55.0', '2.0', 'nan', '31.0', 'nan', '35.0', '34.0', '15.0', '28.0', '8.0', '38.0', 'nan', '19.0', 'nan', 'nan', '40.0', 'nan', 'nan', '66.0', '28.0', '42.0', 'nan', '21.0', '18.0', '14.0', '40.0', '27.0', 'nan', '3.0', '19.0', 'nan', 'nan', 'nan', 'nan', '18.0', '7.0', '21.0', '49.0', '29.0', '65.0', 'nan', '21.0', '28.5', '5.0', '11.0', '22.0', '38.0', '45.0', '4.0', 'nan', 'nan', '29.0', '19.0', '17.0', '26.0', '32.0', '16.0', '21.0', '26.0', '32.0', '25.0', 'nan', 'nan', '0.83', '30.0', '22.0', '29.0', 'nan', '28.0', '17.0', '33.0', '16.0', 'nan', '23.0', '24.0', '29.0', '20.0', '46.0', '26.0', '59.0', 'nan', '71.0', '23.0', '34.0', '34.0', '28.0', 'nan', '21.0', '33.0', '37.0', '28.0', '21.0', 'nan', '38.0', 'nan', '47.0', '14.5', '22.0', '20.0', '17.0', '21.0', '70.5', '29.0', '24.0', '2.0', '21.0', 'nan', '32.5', '32.5', '54.0', '12.0', 'nan', '24.0', 'nan', '45.0', '33.0', '20.0', '47.0', '29.0', '25.0', '23.0', '19.0', '37.0', '16.0', '24.0', 'nan', '22.0', '24.0', '19.0', '18.0', '19.0', '27.0', '9.0', '36.5', '42.0', '51.0', '22.0', '55.5', '40.5', 'nan', '51.0', '16.0', '30.0', 'nan', 'nan', '44.0', '40.0', '26.0', '17.0', '1.0', '9.0', 'nan', '45.0', 'nan', '28.0', '61.0', '4.0', '1.0', '21.0', '56.0', '18.0', 'nan', '50.0', '30.0', '36.0', 'nan', 'nan', '9.0', '1.0', '4.0', 'nan', 'nan', '45.0', '40.0', '36.0', '32.0', '19.0', '19.0', '3.0', '44.0', '58.0', 'nan', '42.0', 'nan', '24.0', '28.0', 'nan', '34.0', '45.5', '18.0', '2.0', '32.0', '26.0', '16.0', '40.0', '24.0', '35.0', '22.0', '30.0', 'nan', '31.0', '27.0', '42.0', '32.0', '30.0', '16.0', '27.0', '51.0', 'nan', '38.0', '22.0', '19.0', '20.5', '18.0', 'nan', '35.0', '29.0', '59.0', '5.0', '24.0', 'nan', '44.0', '8.0', '19.0', '33.0', 'nan', 'nan', '29.0', '22.0', '30.0', '44.0', '25.0', '24.0', '37.0', '54.0', 'nan', '29.0', '62.0', '30.0', '41.0', '29.0', 'nan', '30.0', '35.0', '50.0', 'nan', '3.0', '52.0', '40.0', 'nan', '36.0', '16.0', '25.0', '58.0', '35.0', 'nan', '25.0', '41.0', '37.0', 'nan', '63.0', '45.0', 'nan', '7.0', '35.0', '65.0', '28.0', '16.0', '19.0', 'nan', '33.0', '30.0', '22.0', '42.0', '22.0', '26.0', '19.0', '36.0', '24.0', '24.0', 'nan', '23.5', '2.0', 'nan', '50.0', 'nan', 'nan', '19.0', 'nan', 'nan', '0.92', 'nan', '17.0', '30.0', '30.0', '24.0', '18.0', '26.0', '28.0', '43.0', '26.0', '24.0', '54.0', '31.0', '40.0', '22.0', '27.0', '30.0', '22.0', 'nan', '36.0', '61.0', '36.0', '31.0', '16.0', 'nan', '45.5', '38.0', '16.0', 'nan', 'nan', '29.0', '41.0', '45.0', '45.0', '2.0', '24.0', '28.0', '25.0', '36.0', '24.0', '40.0', 'nan', '3.0', '42.0', '23.0', 'nan', '15.0', '25.0', 'nan', '28.0', '22.0', '38.0', 'nan', 'nan', '40.0', '29.0', '45.0', '35.0', 'nan', '30.0', '60.0', 'nan', 'nan', '24.0', '25.0', '18.0', '19.0', '22.0', '3.0', 'nan', '22.0', '27.0', '20.0', '19.0', '42.0', '1.0', '32.0', '35.0', 'nan', '18.0', '1.0', '36.0', 'nan', '17.0', '36.0', '21.0', '28.0', '23.0', '24.0', '22.0', '31.0', '46.0', '23.0', '28.0', '39.0', '26.0', '21.0', '28.0', '20.0', '34.0', '51.0', '3.0', '21.0', 'nan', 'nan', 'nan', '33.0', 'nan', '44.0', 'nan', '34.0', '18.0', '30.0', '10.0', 'nan', '21.0', '29.0', '28.0', '18.0', 'nan', '28.0', '19.0', 'nan', '32.0', '28.0', 'nan', '42.0', '17.0', '50.0', '14.0', '21.0', '24.0', '64.0', '31.0', '45.0', '20.0', '25.0', '28.0', 'nan', '4.0', '13.0', '34.0', '5.0', '52.0', '36.0', 'nan', '30.0', '49.0', 'nan', '29.0', '65.0', 'nan', '50.0', 'nan', '48.0', '34.0', '47.0', '48.0', 'nan', '38.0', 'nan', '56.0', 'nan', '0.75', 'nan', '38.0', '33.0', '23.0', '22.0', 'nan', '34.0', '29.0', '22.0', '2.0', '9.0', 'nan', '50.0', '63.0', '25.0', 'nan', '35.0', '58.0', '30.0', '9.0', 'nan', '21.0', '55.0', '71.0', '21.0', 'nan', '54.0', 'nan', '25.0', '24.0', '17.0', '21.0', 'nan', '37.0', '16.0', '18.0', '33.0', 'nan', '28.0', '26.0', '29.0', 'nan', '36.0', '54.0', '24.0', '47.0', '34.0', 'nan', '36.0', '32.0', '30.0', '22.0', 'nan', '44.0', 'nan', '40.5', '50.0', 'nan', '39.0', '23.0', '2.0', 'nan', '17.0', 'nan', '30.0', '7.0', '45.0', '30.0', 'nan', '22.0', '36.0', '9.0', '11.0', '32.0', '50.0', '64.0', '19.0', 'nan', '33.0', '8.0', '17.0', '27.0', 'nan', '22.0', '22.0', '62.0', '48.0', 'nan', '39.0', '36.0', 'nan', '40.0', '28.0', 'nan', 'nan', '24.0', '19.0', '29.0', 'nan', '32.0', '62.0', '53.0', '36.0', 'nan', '16.0', '19.0', '34.0', '39.0', 'nan', '32.0', '25.0', '39.0', '54.0', '36.0', 'nan', '18.0', '47.0', '60.0', '22.0', 'nan', '35.0', '52.0', '47.0', 'nan', '37.0', '36.0', 'nan', '49.0', 'nan', '49.0', '24.0', 'nan', 'nan', '44.0', '35.0', '36.0', '30.0', '27.0', '22.0', '40.0', '39.0', 'nan', 'nan', 'nan', '35.0', '24.0', '34.0', '26.0', '4.0', '26.0', '27.0', '42.0', '20.0', '21.0', '21.0', '61.0', '57.0', '21.0', '26.0', 'nan', '80.0', '51.0', '32.0', 'nan', '9.0', '28.0', '32.0', '31.0', '41.0', 'nan', '20.0', '24.0', '2.0', 'nan', '0.75', '48.0', '19.0', '56.0', 'nan', '23.0', 'nan', '18.0', '21.0', 'nan', '18.0', '24.0', 'nan', '32.0', '23.0', '58.0', '50.0', '40.0', '47.0', '36.0', '20.0', '32.0', '25.0', 'nan', '43.0', 'nan', '40.0', '31.0', '70.0', '31.0', 'nan', '18.0', '24.5', '18.0', '43.0', '36.0', 'nan', '27.0', '20.0', '14.0', '60.0', '25.0', '14.0', '19.0', '18.0', '15.0', '31.0', '4.0', 'nan', '25.0', '60.0', '52.0', '44.0', 'nan', '49.0', '42.0', '18.0', '35.0', '18.0', '25.0', '26.0', '39.0', '45.0', '42.0', '22.0', 'nan', '24.0', 'nan', '48.0', '29.0', '52.0', '19.0', '38.0', '27.0', 'nan', '33.0', '6.0', '17.0', '34.0', '50.0', '27.0', '20.0', '30.0', 'nan', '25.0', '25.0', '29.0', '11.0', 'nan', '23.0', '23.0', '28.5', '48.0', '35.0', 'nan', 'nan', 'nan', '36.0', '21.0', '24.0', '31.0', '70.0', '16.0', '30.0', '19.0', '31.0', '4.0', '6.0', '33.0', '23.0', '48.0', '0.67', '28.0', '18.0', '34.0', '33.0', 'nan', '41.0', '20.0', '36.0', '16.0', '51.0', 'nan', '30.5', 'nan', '32.0', '24.0', '48.0', '57.0', 'nan', '54.0', '18.0', 'nan', '5.0', 'nan', '43.0', '13.0', '17.0', '29.0', 'nan', '25.0', '25.0', '18.0', '8.0', '1.0', '46.0', 'nan', '16.0', 'nan', 'nan', '25.0', '39.0', '49.0', '31.0', '30.0', '30.0', '34.0', '31.0', '11.0', '0.42', '27.0', '31.0', '39.0', '18.0', '39.0', '33.0', '26.0', '39.0', '35.0', '6.0', '30.5', 'nan', '23.0', '31.0', '43.0', '10.0', '52.0', '27.0', '38.0', '27.0', '2.0', 'nan', 'nan', '1.0', 'nan', '62.0', '15.0', '0.83', 'nan', '23.0', '18.0', '39.0', '21.0', 'nan', '32.0', 'nan', '20.0', '16.0', '30.0', '34.5', '17.0', '42.0', 'nan', '35.0', '28.0', 'nan', '4.0', '74.0', '9.0', '16.0', '44.0', '18.0', '45.0', '51.0', '24.0', 'nan', '41.0', '21.0', '48.0', 'nan', '24.0', '42.0', '27.0', '31.0', 'nan', '4.0', '26.0', '47.0', '33.0', '47.0', '28.0', '15.0', '20.0', '19.0', 'nan', '56.0', '25.0', '33.0', '22.0', '28.0', '25.0', '39.0', '27.0', '19.0', 'nan', '26.0', '32.0'], ['1', '1', '0', '1', '0', '0', '0', '3', '0', '1', '1', '0', '0', '1', '0', '0', '4', '0', '1', '0', '0', '0', '0', '0', '3', '1', '0', '3', '0', '0', '0', '1', '0', '0', '1', '1', '0', '0', '2', '1', '1', '1', '0', '1', '0', '0', '1', '0', '2', '1', '4', '0', '1', '1', '0', '0', '0', '0', '1', '5', '0', '0', '1', '3', '0', '1', '0', '0', '4', '2', '0', '5', '0', '1', '0', '0', '0', '0', '0', '0', '0', '0', '0', '0', '0', '3', '1', '0', '3', '0', '0', '0', '1', '1', '0', '0', '0', '0', '0', '1', '0', '0', '0', '0', '2', '0', '0', '0', '0', '1', '0', '1', '0', '1', '0', '0', '0', '1', '0', '4', '2', '0', '1', '0', '0', '1', '0', '0', '1', '0', '0', '0', '1', '1', '0', '0', '0', '1', '0', '0', '0', '0', '1', '0', '0', '1', '0', '2', '0', '0', '0', '1', '0', '0', '0', '0', '0', '0', '0', '8', '0', '0', '0', '0', '4', '0', '0', '1', '0', '0', '0', '4', '1', '0', '0', '1', '3', '0', '0', '0', '8', '0', '4', '2', '0', '0', '1', '0', '1', '0', '0', '0', '1', '1', '0', '0', '0', '0', '0', '0', '0', '8', '0', '0', '0', '0', '1', '0', '0', '0', '0', '0', '0', '0', '1', '1', '0', '1', '0', '0', '0', '0', '0', '0', '1', '0', '0', '0', '0', '3', '1', '0', '0', '4', '0', '0', '1', '0', '0', '0', '1', '1', '0', '0', '0', '2', '0', '0', '1', '1', '0', '1', '0', '1', '0', '0', '0', '0', '0', '0', '0', '4', '1', '0', '0', '0', '4', '1', '0', '0', '0', '0', '0', '0', '0', '1', '0', '0', '4', '1', '0', '0', '0', '0', '0', '0', '0', '0', '0', '0', '0', '1', '0', '0', '0', '0', '0', '1', '0', '0', '0', '2', '0', '0', '0', '1', '0', '1', '1', '0', '0', '2', '1', '0', '1', '0', '1', '0', '0', '1', '0', '0', '0', '1', '8', '0', '0', '0', '1', '0', '2', '0', '0', '2', '1', '0', '1', '0', '0', '0', '1', '3', '0', '0', '0', '0', '0', '1', '1', '0', '0', '0', '1', '1', '0', '0', '0', '0', '0', '0', '1', '1', '0', '0', '1', '0', '1', '0', '0', '0', '1', '1', '0', '0', '3', '1', '0', '0', '0', '0', '0', '0', '0', '1', '0', '0', '5', '0', '0', '0', '1', '0', '2', '1', '0', '0', '0', '0', '0', '0', '0', '0', '1', '1', '0', '1', '0', '1', '0', '3', '0', '0', '1', '0', '0', '0', '1', '0', '0', '0', '0', '0', '0', '1', '1', '0', '1', '0', '0', '0', '0', '1', '1', '0', '1', '1', '2', '2', '1', '0', '1', '0', '1', '0', '0', '0', '0', '0', '2', '0', '1', '1', '0', '1', '0', '0', '0', '1', '0', '0', '0', '0', '0', '0', '0', '0', '0', '0', '0', '2', '0', '0', '1', '0', '0', '0', '1', '1', '0', '0', '5', '0', '0', '0', '1', '3', '1', '0', '0', '1', '1', '0', '0', '0', '0', '0', '1', '0', '1', '0', '0', '0', '0', '0', '0', '1', '0', '0', '0', '0', '0', '0', '0', '1', '0', '0', '0', '0', '1', '0', '0', '0', '0', '0', '0', '0', '0', '0', '0', '2', '1', '0', '1', '0', '0', '0', '0', '0', '0', '0', '0', '4', '4', '1', '1', '0', '1', '0', '1', '1', '0', '0', '0', '0', '0', '0', '1', '0', '1', '1', '0', '0', '0', '0', '0', '2', '0', '0', '0', '0', '0', '2', '0', '0', '0', '0', '0', '1', '1', '0', '1', '1', '0', '0', '0', '0', '0', '1', '0', '0', '0', '1', '0', '0', '1', '1', '0', '0', '0', '1', '2', '0', '0', '0', '0', '1', '0', '0', '1', '0', '1', '0', '1', '0', '0', '1', '1', '1', '2', '0', '1', '1', '1', '0', '0', '0', '0', '0', '0', '0', '0', '0', '0', '0', '3', '0', '0', '1', '0', '1', '0', '0', '3', '0', '2', '1', '0', '0', '0', '0', '0', '0', '0', '0', '0', '2', '0', '1', '0', '0', '2', '0', '0', '0', '1', '2', '0', '0', '0', '1', '1', '1', '0', '0', '0', '0', '0', '0', '1', '0', '0', '0', '0', '5', '1', '1', '4', '0', '0', '0', '1', '0', '0', '0', '0', '0', '0', '0', '1', '0', '1', '0', '0', '0', '1', '0', '0', '0', '0', '1', '0', '0', '1', '0', '0', '0', '0', '0', '0', '0', '0', '1', '0', '0', '1', '0', '3', '0', '1', '1', '0', '0', '0', '0', '0', '0', '1', '0', '0', '0', '0', '1', '2', '1', '0', '1', '1', '0', '1', '0', '1', '0', '0', '0', '1', '1', '0', '0', '0', '0', '0', '0', '0', '1', '0', '1', '0', '0', '1', '0', '0', '0', '0', '0', '1', '0', '0', '0', '0', '0', '0', '1', '0', '1', '0', '0', '0', '4', '1', '0', '0', '0', '8', '0', '0', '0', '0', '0', '0', '1', '0', '1', '1', '0', '0', '0', '0', '0', '0', '1', '0', '0', '0', '4', '0', '0', '0', '1', '0', '3', '1', '0', '0', '0', '4', '0', '0', '0', '0', '0', '1', '1', '0', '0', '0', '1', '0', '0', '0', '0', '0', '0', '0', '0', '0', '0', '8', '0', '0', '1', '4', '0', '1', '0', '1', '0', '1', '0', '0', '0', '2', '1', '0', '8', '0', '0', '1', '0', '0', '1', '0', '1', '0', '0', '1', '0', '0', '0', '0', '0', '0', '0', '0', '0', '0', '0', '0', '0', '1', '0', '0'], ['0', '0', '0', '0', '0', '0', '0', '1', '2', '0', '1', '0', '0', '5', '0', '0', '1', '0', '0', '0', '0', '0', '0', '0', '1', '5', '0', '2', '0', '0', '0', '0', '0', '0', '0', '0', '0', '0', '0', '0', '0', '0', '0', '2', '0', '0', '0', '0', '0', '0', '1', '0', '0', '0', '1', '0', '0', '0', '2', '2', '0', '0', '0', '2', '0', '1', '0', '0', '2', '0', '0', '2', '0', '0', '0', '0', '0', '0', '2', '0', '0', '0', '0', '0', '0', '0', '3', '0', '2', '0', '0', '0', '0', '2', '0', '0', '0', '1', '1', '0', '0', '0', '1', '0', '0', '0', '0', '0', '0', '0', '0', '0', '0', '0', '0', '0', '0', '0', '1', '2', '0', '0', '0', '0', '1', '0', '0', '0', '1', '0', '0', '0', '0', '0', '0', '0', '2', '0', '0', '0', '2', '0', '0', '0', '0', '1', '0', '2', '2', '0', '0', '0', '0', '2', '0', '1', '0', '0', '0', '2', '1', '0', '0', '0', '1', '2', '1', '4', '0', '0', '0', '1', '1', '0', '0', '1', '1', '0', '0', '0', '2', '0', '2', '1', '2', '0', '0', '0', '1', '0', '0', '0', '0', '1', '0', '0', '0', '1', '0', '0', '0', '2', '0', '0', '0', '1', '0', '0', '0', '0', '0', '0', '0', '0', '0', '0', '0', '0', '0', '0', '0', '0', '0', '0', '0', '0', '0', '0', '0', '1', '0', '0', '0', '2', '0', '0', '0', '2', '0', '0', '0', '0', '0', '0', '0', '0', '0', '2', '1', '0', '0', '1', '0', '0', '2', '2', '0', '0', '0', '1', '0', '2', '1', '0', '0', '0', '1', '0', '1', '0', '0', '0', '1', '1', '0', '0', '0', '0', '1', '1', '0', '0', '0', '0', '0', '0', '0', '0', '0', '0', '0', '0', '0', '0', '0', '0', '0', '2', '0', '1', '0', '0', '0', '0', '0', '2', '0', '0', '0', '0', '0', '2', '1', '0', '1', '0', '0', '0', '2', '1', '0', '0', '0', '1', '2', '0', '0', '0', '1', '1', '0', '0', '1', '0', '0', '0', '0', '0', '0', '0', '1', '2', '0', '0', '0', '0', '0', '0', '1', '0', '0', '0', '1', '0', '0', '0', '1', '0', '0', '0', '4', '0', '1', '0', '0', '0', '0', '0', '0', '0', '0', '0', '0', '0', '1', '0', '0', '2', '0', '0', '0', '2', '0', '0', '0', '0', '2', '0', '0', '0', '2', '0', '0', '0', '2', '0', '0', '0', '0', '0', '0', '0', '0', '0', '0', '0', '0', '1', '0', '1', '0', '0', '0', '0', '0', '0', '1', '2', '0', '2', '0', '0', '0', '1', '1', '0', '0', '0', '0', '0', '0', '0', '0', '0', '0', '2', '2', '3', '4', '0', '1', '0', '0', '0', '0', '2', '1', '0', '1', '0', '2', '0', '0', '0', '0', '0', '0', '0', '0', '0', '0', '0', '0', '0', '0', '0', '0', '0', '0', '1', '0', '0', '2', '0', '0', '0', '0', '0', '0', '1', '2', '0', '0', '0', '0', '1', '0', '0', '0', '1', '0', '0', '0', '0', '0', '0', '0', '0', '2', '0', '0', '0', '0', '0', '0', '0', '2', '0', '0', '0', '0', '0', '0', '0', '0', '0', '0', '0', '0', '0', '0', '0', '0', '1', '0', '0', '0', '0', '0', '1', '1', '0', '1', '2', '0', '2', '0', '0', '0', '2', '2', '2', '2', '0', '0', '0', '0', '0', '1', '1', '2', '0', '0', '0', '0', '0', '0', '0', '1', '0', '0', '0', '0', '0', '0', '0', '0', '4', '0', '0', '0', '0', '0', '0', '0', '0', '0', '0', '0', '0', '1', '1', '0', '0', '0', '2', '0', '1', '0', '0', '0', '0', '0', '2', '0', '1', '0', '0', '0', '0', '1', '0', '0', '0', '0', '0', '0', '0', '2', '0', '5', '0', '0', '0', '0', '2', '1', '0', '1', '0', '0', '0', '1', '0', '0', '0', '0', '0', '0', '0', '0', '0', '0', '0', '2', '0', '0', '1', '5', '0', '0', '0', '2', '0', '1', '0', '0', '0', '0', '0', '0', '1', '0', '0', '0', '0', '0', '1', '0', '2', '0', '0', '0', '0', '0', '0', '0', '0', '0', '0', '1', '0', '0', '0', '0', '0', '0', '0', '6', '1', '0', '0', '0', '2', '1', '2', '1', '0', '0', '1', '0', '1', '0', '0', '0', '0', '0', '0', '1', '0', '0', '0', '1', '0', '0', '0', '0', '0', '0', '1', '0', '0', '0', '0', '0', '0', '0', '0', '0', '0', '1', '0', '0', '0', '0', '0', '0', '0', '0', '0', '0', '0', '0', '0', '0', '0', '3', '0', '0', '0', '0', '0', '2', '0', '0', '1', '1', '0', '0', '0', '1', '1', '0', '0', '2', '1', '0', '0', '0', '0', '0', '0', '0', '2', '0', '0', '0', '0', '0', '0', '0', '0', '0', '0', '3', '0', '0', '0', '0', '1', '0', '0', '0', '2', '0', '0', '0', '1', '2', '0', '0', '0', '2', '0', '0', '0', '0', '0', '0', '1', '0', '1', '2', '1', '0', '0', '0', '0', '0', '0', '0', '0', '0', '2', '0', '0', '0', '1', '0', '2', '1', '0', '0', '1', '1', '0', '0', '2', '0', '0', '0', '1', '0', '0', '0', '1', '0', '0', '0', '0', '0', '0', '0', '0', '0', '0', '2', '0', '1', '0', '2', '0', '1', '1', '0', '1', '1', '0', '3', '0', '0', '0', '0', '2', '0', '0', '0', '0', '0', '1', '0', '1', '0', '0', '0', '0', '0', '0', '0', '1', '1', '0', '0', '0', '0', '5', '0', '0', '2', '0', '0'], ['A/5 21171', 'PC 17599', 'STON/O2. 3101282', '113803', '373450', '330877', '17463', '349909', '347742', '237736', 'PP 9549', '113783', 'A/5. 2151', '347082', '350406', '248706', '382652', '244373', '345763', '2649', '239865', '248698', '330923', '113788', '349909', '347077', '2631', '19950', '330959', '349216', 'PC 17601', 'PC 17569', '335677', 'C.A. 24579', 'PC 17604', '113789', '2677', 'A./5. 2152', '345764', '2651', '7546', '11668', '349253', 'SC/Paris 2123', '330958', 'S.C./A.4. 23567', '370371', '14311', '2662', '349237', '3101295', 'A/4. 39886', 'PC 17572', '2926', '113509', '19947', 'C.A. 31026', '2697', 'C.A. 34651', 'CA 2144', '2669', '113572', '36973', '347088', 'PC 17605', '2661', 'C.A. 29395', 'S.P. 3464', '3101281', '315151', 'C.A. 33111', 'CA 2144', 'S.O.C. 14879', '2680', '1601', '348123', '349208', '374746', '248738', '364516', '345767', '345779', '330932', '113059', 'SO/C 14885', '3101278', 'W./C. 6608', 'SOTON/OQ 392086', '19950', '343275', '343276', '347466', 'W.E.P. 5734', 'C.A. 2315', '364500', '374910', 'PC 17754', 'PC 17759', '231919', '244367', '349245', '349215', '35281', '7540', '3101276', '349207', '343120', '312991', '349249', '371110', '110465', '2665', '324669', '4136', '2627', 'STON/O 2. 3101294', '370369', '11668', 'PC 17558', '347082', 'S.O.C. 14879', 'A4. 54510', '237736', '27267', '35281', '2651', '370372', 'C 17369', '2668', '347061', '349241', 'SOTON/O.Q. 3101307', 'A/5. 3337', '228414', 'C.A. 29178', 'SC/PARIS 2133', '11752', '113803', '7534', 'PC 17593', '2678', '347081', 'STON/O2. 3101279', '365222', '231945', 'C.A. 33112', '350043', 'W./C. 6608', '230080', '244310', 'S.O.P. 1166', '113776', 'A.5. 11206', 'A/5. 851', 'Fa 265302', 'PC 17597', '35851', 'SOTON/OQ 392090', '315037', 'CA. 2343', '371362', 'C.A. 33595', '347068', '315093', '3101295', '363291', '113505', '347088', 'PC 17318', '1601', '111240', '382652', '347742', 'STON/O 2. 3101280', '17764', '350404', '4133', 'PC 17595', '250653', 'LINE', 'CA. 2343', 'SC/PARIS 2131', '347077', '230136', '315153', '113767', '370365', '111428', '364849', '349247', '234604', '28424', '350046', '230080', 'PC 17610', 'PC 17569', '368703', '4579', '370370', '248747', '345770', 'CA. 2343', '3101264', '2628', 'A/5 3540', '347054', '3101278', '2699', '367231', '112277', 'SOTON/O.Q. 3101311', 'F.C.C. 13528', 'A/5 21174', '250646', '367229', '35273', 'STON/O2. 3101283', '243847', '11813', 'W/C 14208', 'SOTON/OQ 392089', '220367', '21440', '349234', '19943', 'PP 4348', 'SW/PP 751', 'A/5 21173', '236171', '4133', '36973', '347067', '237442', '347077', 'C.A. 29566', 'W./C. 6609', '26707', 'C.A. 31921', '28665', 'SCO/W 1585', '2665', '367230', 'W./C. 14263', 'STON/O 2. 3101275', '2694', '19928', '347071', '250649', '11751', '244252', '362316', '347054', '113514', 'A/5. 3336', '370129', '2650', 'PC 17585', '110152', 'PC 17755', '230433', '384461', '347077', '110413', '112059', '382649', 'C.A. 17248', '3101295', '347083', 'PC 17582', 'PC 17760', '113798', 'LINE', '250644', 'PC 17596', '370375', '13502', '347073', '239853', '382652', 'C.A. 2673', '336439', '347464', '345778', 'A/5. 10482', '113056', '349239', '345774', '349206', '237798', '370373', '19877', '11967', 'SC/Paris 2163', '349236', '349233', 'PC 17612', '2693', '113781', '19988', 'PC 17558', '9234', '367226', 'LINE', '226593', 'A/5 2466', '113781', '17421', 'PC 17758', 'P/PP 3381', 'PC 17485', '11767', 'PC 17608', '250651', '349243', 'F.C.C. 13529', '347470', '244367', '29011', '36928', '16966', 'A/5 21172', '349219', '234818', '248738', 'CA. 2343', 'PC 17760', '345364', '28551', '363291', '111361', '367226', '113043', 'PC 17582', '345764', 'PC 17611', '349225', '113776', '16966', '7598', '113784', '230080', '19950', '248740', '244361', '229236', '248733', '31418', '386525', 'C.A. 37671', '315088', '7267', '113510', '2695', '349237', '2647', '345783', '113505', '237671', '330931', '330980', '347088', 'SC/PARIS 2167', '2691', 'SOTON/O.Q. 3101310', '370365', 'C 7076', '110813', '2626', '14313', 'PC 17477', '11765', '3101267', '323951', 'PC 17760', '349909', 'PC 17604', 'C 7077', '113503', '2648', '347069', 'PC 17757', '2653', 'STON/O 2. 3101293', '113789', '349227', 'S.O.C. 14879', 'CA 2144', '27849', '367655', 'SC 1748', '113760', '350034', '3101277', '35273', 'PP 9549', '350052', '350407', '28403', '244278', '240929', 'STON/O 2. 3101289', '341826', '4137', 'STON/O2. 3101279', '315096', '28664', '347064', '29106', '312992', '4133', '349222', '394140', '19928', '239853', 'STON/O 2. 3101269', '343095', '28220', '250652', '28228', '345773', '349254', 'A/5. 13032', '315082', '347080', '370129', 'A/4. 34244', '2003', '250655', '364851', 'SOTON/O.Q. 392078', '110564', '376564', 'SC/AH 3085', 'STON/O 2. 3101274', '13507', '113760', 'W./C. 6608', '29106', '19950', 'C.A. 18723', 'F.C.C. 13529', '345769', '347076', '230434', '65306', '33638', '250644', '113794', '2666', '113786', 'C.A. 34651', '65303', '113051', '17453', 'A/5 2817', '349240', '13509', '17464', 'F.C.C. 13531', '371060', '19952', '364506', '111320', '234360', 'A/S 2816', 'SOTON/O.Q. 3101306', '239853', '113792', '36209', '2666', '323592', '315089', 'C.A. 34651', 'SC/AH Basle 541', '7553', '110465', '31027', '3460', '350060', '3101298', 'CA 2144', '239854', 'A/5 3594', '4134', '11967', '4133', '19943', '11771', 'A.5. 18509', 'C.A. 37671', '65304', 'SOTON/OQ 3101317', '113787', 'PC 17609', 'A/4 45380', '2627', '36947', 'C.A. 6212', '113781', '350035', '315086', '364846', '330909', '4135', '110152', 'PC 17758', '26360', '111427', 'C 4001', '1601', '382651', 'SOTON/OQ 3101316', 'PC 17473', 'PC 17603', '349209', '36967', 'C.A. 34260', '371110', '226875', '349242', '12749', '349252', '2624', '111361', '2700', '367232', 'W./C. 14258', 'PC 17483', '3101296', '29104', '26360', '2641', '2690', '2668', '315084', 'F.C.C. 13529', '113050', 'PC 17761', '364498', '13568', 'WE/P 5735', '347082', '347082', '2908', 'PC 17761', '693', '2908', 'SC/PARIS 2146', '363291', 'C.A. 33112', '17421', '244358', '330979', '2620', '347085', '113807', '11755', 'PC 17757', '110413', '345572', '372622', '349251', '218629', 'SOTON/OQ 392082', 'SOTON/O.Q. 392087', 'A/4 48871', '349205', '349909', '2686', '350417', 'S.W./PP 752', '11769', 'PC 17474', '14312', 'A/4. 20589', '358585', '243880', '13507', '2689', 'STON/O 2. 3101286', '237789', '17421', '28403', '13049', '3411', '110413', '237565', '13567', '14973', 'A./5. 3235', 'STON/O 2. 3101273', '36947', 'A/5 3902', '364848', 'SC/AH 29037', '345773', '248727', 'LINE', '2664', 'PC 17485', '243847', '349214', '113796', '364511', '111426', '349910', '349246', '113804', 'SC/Paris 2123', 'PC 17582', '347082', 'SOTON/O.Q. 3101305', '367230', '370377', '364512', '220845', '347080', 'A/5. 3336', '230136', '31028', '2659', '11753', '2653', '350029', '54636', '36963', '219533', '13502', '349224', '334912', '27042', '347743', '13214', '112052', '347088', '237668', 'STON/O 2. 3101292', 'C.A. 31921', '3101295', '376564', '350050', 'PC 17477', '347088', '1601', '2666', 'PC 17572', '349231', '13213', 'S.O./P.P. 751', 'CA. 2314', '349221', '231919', '8475', '330919', '365226', 'S.O.C. 14879', '349223', '364849', '29751', '35273', 'PC 17611', '2623', '5727', '349210', 'STON/O 2. 3101285', 'S.O.C. 14879', '234686', '312993', 'A/5 3536', '19996', '29750', 'F.C. 12750', 'C.A. 24580', '244270', '239856', '349912', '342826', '4138', 'CA 2144', 'PC 17755', '330935', 'PC 17572', '6563', 'CA 2144', '29750', 'SC/Paris 2123', '3101295', '349228', '350036', '24160', '17474', '349256', '1601', '2672', '113800', '248731', '363592', '35852', '17421', '348121', 'PC 17757', 'PC 17475', '2691', '36864', '350025', '250655', '223596', 'PC 17476', '113781', '2661', 'PC 17482', '113028', '19996', '7545', '250647', '348124', 'PC 17757', '34218', '36568', '347062', '248727', '350048', '12233', '250643', '113806', '315094', '31027', '36866', '236853', 'STON/O2. 3101271', '24160', '2699', '239855', '28425', '233639', '54636', 'W./C. 6608', 'PC 17755', '349201', '349218', '16988', '19877', 'PC 17608', '376566', 'STON/O 2. 3101288', 'WE/P 5735', 'C.A. 2673', '250648', '113773', '335097', '29103', '392096', '345780', '349204', '220845', '250649', '350042', '29108', '363294', '110152', '358585', 'SOTON/O2 3101272', '2663', '113760', '347074', '13502', '112379', '364850', '371110', '8471', '345781', '350047', 'S.O./P.P. 3', '2674', '29105', '347078', '383121', '364516', '36865', '24160', '2687', '17474', '113501', 'W./C. 6607', 'SOTON/O.Q. 3101312', '374887', '3101265', '382652', 'C.A. 2315', 'PC 17593', '12460', '239865', 'CA. 2343', 'PC 17600', '349203', '28213', '17465', '349244', '2685', '345773', '250647', 'C.A. 31921', '113760', '2625', '347089', '347063', '112050', '347087', '248723', '113806', '3474', 'A/4 48871', '28206', '347082', '364499', '112058', 'STON/O2. 3101290', 'S.C./PARIS 2079', 'C 7075', '347088', '12749', '315098', '19972', '392096', '3101295', '368323', '1601', 'S.C./PARIS 2079', '367228', '113572', '2659', '29106', '2671', '347468', '2223', 'PC 17756', '315097', '392092', '1601', '11774', 'SOTON/O2 3101287', 'S.O./P.P. 3', '113798', '2683', '315090', 'C.A. 5547', 'CA. 2343', '349213', '248727', '17453', '347082', '347060', '2678', 'PC 17592', '244252', '392091', '36928', '113055', '2666', '2629', '350026', '28134', '17466', 'CA. 2343', '233866', '236852', 'SC/PARIS 2149', 'PC 17590', '345777', '347742', '349248', '11751', '695', '345765', 'P/PP 3381', '2667', '7534', '349212', '349217', '11767', '230433', '349257', '7552', 'C.A./SOTON 34068', 'SOTON/OQ 392076', '382652', '211536', '112053', 'W./C. 6607', '111369', '370376'], ['7.25', '71.2833', '7.925', '53.1', '8.05', '8.4583', '51.8625', '21.075', '11.1333', '30.0708', '16.7', '26.55', '8.05', '31.275', '7.8542', '16.0', '29.125', '13.0', '18.0', '7.225', '26.0', '13.0', '8.0292', '35.5', '21.075', '31.3875', '7.225', '263.0', '7.8792', '7.8958', '27.7208', '146.5208', '7.75', '10.5', '82.1708', '52.0', '7.2292', '8.05', '18.0', '11.2417', '9.475', '21.0', '7.8958', '41.5792', '7.8792', '8.05', '15.5', '7.75', '21.6792', '17.8', '39.6875', '7.8', '76.7292', '26.0', '61.9792', '35.5', '10.5', '7.2292', '27.75', '46.9', '7.2292', '80.0', '83.475', '27.9', '27.7208', '15.2458', '10.5', '8.1583', '7.925', '8.6625', '10.5', '46.9', '73.5', '14.4542', '56.4958', '7.65', '7.8958', '8.05', '29.0', '12.475', '9.0', '9.5', '7.7875', '47.1', '10.5', '15.85', '34.375', '8.05', '263.0', '8.05', '8.05', '7.8542', '61.175', '20.575', '7.25', '8.05', '34.6542', '63.3583', '23.0', '26.0', '7.8958', '7.8958', '77.2875', '8.6542', '7.925', '7.8958', '7.65', '7.775', '7.8958', '24.15', '52.0', '14.4542', '8.05', '9.825', '14.4583', '7.925', '7.75', '21.0', '247.5208', '31.275', '73.5', '8.05', '30.0708', '13.0', '77.2875', '11.2417', '7.75', '7.1417', '22.3583', '6.975', '7.8958', '7.05', '14.5', '26.0', '13.0', '15.0458', '26.2833', '53.1', '9.2167', '79.2', '15.2458', '7.75', '15.85', '6.75', '11.5', '36.75', '7.7958', '34.375', '26.0', '13.0', '12.525', '66.6', '8.05', '14.5', '7.3125', '61.3792', '7.7333', '8.05', '8.6625', '69.55', '16.1', '15.75', '7.775', '8.6625', '39.6875', '20.525', '55.0', '27.9', '25.925', '56.4958', '33.5', '29.125', '11.1333', '7.925', '30.6958', '7.8542', '25.4667', '28.7125', '13.0', '0.0', '69.55', '15.05', '31.3875', '39.0', '22.025', '50.0', '15.5', '26.55', '15.5', '7.8958', '13.0', '13.0', '7.8542', '26.0', '27.7208', '146.5208', '7.75', '8.4042', '7.75', '13.0', '9.5', '69.55', '6.4958', '7.225', '8.05', '10.4625', '15.85', '18.7875', '7.75', '31.0', '7.05', '21.0', '7.25', '13.0', '7.75', '113.275', '7.925', '27.0', '76.2917', '10.5', '8.05', '13.0', '8.05', '7.8958', '90.0', '9.35', '10.5', '7.25', '13.0', '25.4667', '83.475', '7.775', '13.5', '31.3875', '10.5', '7.55', '26.0', '26.25', '10.5', '12.275', '14.4542', '15.5', '10.5', '7.125', '7.225', '90.0', '7.775', '14.5', '52.5542', '26.0', '7.25', '10.4625', '26.55', '16.1', '20.2125', '15.2458', '79.2', '86.5', '512.3292', '26.0', '7.75', '31.3875', '79.65', '0.0', '7.75', '10.5', '39.6875', '7.775', '153.4625', '135.6333', '31.0', '0.0', '19.5', '29.7', '7.75', '77.9583', '7.75', '0.0', '29.125', '20.25', '7.75', '7.8542', '9.5', '8.05', '26.0', '8.6625', '9.5', '7.8958', '13.0', '7.75', '78.85', '91.0792', '12.875', '8.85', '7.8958', '27.7208', '7.2292', '151.55', '30.5', '247.5208', '7.75', '23.25', '0.0', '12.35', '8.05', '151.55', '110.8833', '108.9', '24.0', '56.9292', '83.1583', '262.375', '26.0', '7.8958', '26.25', '7.8542', '26.0', '14.0', '164.8667', '134.5', '7.25', '7.8958', '12.35', '29.0', '69.55', '135.6333', '6.2375', '13.0', '20.525', '57.9792', '23.25', '28.5', '153.4625', '18.0', '133.65', '7.8958', '66.6', '134.5', '8.05', '35.5', '26.0', '263.0', '13.0', '13.0', '13.0', '13.0', '13.0', '16.1', '15.9', '8.6625', '9.225', '35.0', '7.2292', '17.8', '7.225', '9.5', '55.0', '13.0', '7.8792', '7.8792', '27.9', '27.7208', '14.4542', '7.05', '15.5', '7.25', '75.25', '7.2292', '7.75', '69.3', '55.4417', '6.4958', '8.05', '135.6333', '21.075', '82.1708', '7.25', '211.5', '4.0125', '7.775', '227.525', '15.7417', '7.925', '52.0', '7.8958', '73.5', '46.9', '13.0', '7.7292', '12.0', '120.0', '7.7958', '7.925', '113.275', '16.7', '7.7958', '7.8542', '26.0', '10.5', '12.65', '7.925', '8.05', '9.825', '15.85', '8.6625', '21.0', '7.75', '18.75', '7.775', '25.4667', '7.8958', '6.8583', '90.0', '0.0', '7.925', '8.05', '32.5', '13.0', '13.0', '24.15', '7.8958', '7.7333', '7.875', '14.4', '20.2125', '7.25', '26.0', '26.0', '7.75', '8.05', '26.55', '16.1', '26.0', '7.125', '55.9', '120.0', '34.375', '18.75', '263.0', '10.5', '26.25', '9.5', '7.775', '13.0', '8.1125', '81.8583', '19.5', '26.55', '19.2583', '30.5', '27.75', '19.9667', '27.75', '89.1042', '8.05', '7.8958', '26.55', '51.8625', '10.5', '7.75', '26.55', '8.05', '38.5', '13.0', '8.05', '7.05', '0.0', '26.55', '7.725', '19.2583', '7.25', '8.6625', '27.75', '13.7917', '9.8375', '52.0', '21.0', '7.0458', '7.5208', '12.2875', '46.9', '0.0', '8.05', '9.5875', '91.0792', '25.4667', '90.0', '29.7', '8.05', '15.9', '19.9667', '7.25', '30.5', '49.5042', '8.05', '14.4583', '78.2667', '15.1', '151.55', '7.7958', '8.6625', '7.75', '7.6292', '9.5875', '86.5', '108.9', '26.0', '26.55', '22.525', '56.4958', '7.75', '8.05', '26.2875', '59.4', '7.4958', '34.0208', '10.5', '24.15', '26.0', '7.8958', '93.5', '7.8958', '7.225', '57.9792', '7.2292', '7.75', '10.5', '221.7792', '7.925', '11.5', '26.0', '7.2292', '7.2292', '22.3583', '8.6625', '26.25', '26.55', '106.425', '14.5', '49.5', '71.0', '31.275', '31.275', '26.0', '106.425', '26.0', '26.0', '13.8625', '20.525', '36.75', '110.8833', '26.0', '7.8292', '7.225', '7.775', '26.55', '39.6', '227.525', '79.65', '17.4', '7.75', '7.8958', '13.5', '8.05', '8.05', '24.15', '7.8958', '21.075', '7.2292', '7.8542', '10.5', '51.4792', '26.3875', '7.75', '8.05', '14.5', '13.0', '55.9', '14.4583', '7.925', '30.0', '110.8833', '26.0', '40.125', '8.7125', '79.65', '15.0', '79.2', '8.05', '8.05', '7.125', '78.2667', '7.25', '7.75', '26.0', '24.15', '33.0', '0.0', '7.225', '56.9292', '27.0', '7.8958', '42.4', '8.05', '26.55', '15.55', '7.8958', '30.5', '41.5792', '153.4625', '31.275', '7.05', '15.5', '7.75', '8.05', '65.0', '14.4', '16.1', '39.0', '10.5', '14.4542', '52.5542', '15.7417', '7.8542', '16.1', '32.3208', '12.35', '77.9583', '7.8958', '7.7333', '30.0', '7.0542', '30.5', '0.0', '27.9', '13.0', '7.925', '26.25', '39.6875', '16.1', '7.8542', '69.3', '27.9', '56.4958', '19.2583', '76.7292', '7.8958', '35.5', '7.55', '7.55', '7.8958', '23.0', '8.4333', '7.8292', '6.75', '73.5', '7.8958', '15.5', '13.0', '113.275', '133.65', '7.225', '25.5875', '7.4958', '7.925', '73.5', '13.0', '7.775', '8.05', '52.0', '39.0', '52.0', '10.5', '13.0', '0.0', '7.775', '8.05', '9.8417', '46.9', '512.3292', '8.1375', '76.7292', '9.225', '46.9', '39.0', '41.5792', '39.6875', '10.1708', '7.7958', '211.3375', '57.0', '13.4167', '56.4958', '7.225', '26.55', '13.5', '8.05', '7.7333', '110.8833', '7.65', '227.525', '26.2875', '14.4542', '7.7417', '7.8542', '26.0', '13.5', '26.2875', '151.55', '15.2458', '49.5042', '26.55', '52.0', '9.4833', '13.0', '7.65', '227.525', '10.5', '15.5', '7.775', '33.0', '7.0542', '13.0', '13.0', '53.1', '8.6625', '21.0', '7.7375', '26.0', '7.925', '211.3375', '18.7875', '0.0', '13.0', '13.0', '16.1', '34.375', '512.3292', '7.8958', '7.8958', '30.0', '78.85', '262.375', '16.1', '7.925', '71.0', '20.25', '13.0', '53.1', '7.75', '23.0', '12.475', '9.5', '7.8958', '65.0', '14.5', '7.7958', '11.5', '8.05', '86.5', '14.5', '7.125', '7.2292', '120.0', '7.775', '77.9583', '39.6', '7.75', '24.15', '8.3625', '9.5', '7.8542', '10.5', '7.225', '23.0', '7.75', '7.75', '12.475', '7.7375', '211.3375', '7.2292', '57.0', '30.0', '23.45', '7.05', '7.25', '7.4958', '29.125', '20.575', '79.2', '7.75', '26.0', '69.55', '30.6958', '7.8958', '13.0', '25.9292', '8.6833', '7.2292', '24.15', '13.0', '26.25', '120.0', '8.5167', '6.975', '7.775', '0.0', '7.775', '13.0', '53.1', '7.8875', '24.15', '10.5', '31.275', '8.05', '0.0', '7.925', '37.0042', '6.45', '27.9', '93.5', '8.6625', '0.0', '12.475', '39.6875', '6.95', '56.4958', '37.0042', '7.75', '80.0', '14.4542', '18.75', '7.2292', '7.8542', '8.3', '83.1583', '8.6625', '8.05', '56.4958', '29.7', '7.925', '10.5', '31.0', '6.4375', '8.6625', '7.55', '69.55', '7.8958', '33.0', '89.1042', '31.275', '7.775', '15.2458', '39.4', '26.0', '9.35', '164.8667', '26.55', '19.2583', '7.2292', '14.1083', '11.5', '25.9292', '69.55', '13.0', '13.0', '13.8583', '50.4958', '9.5', '11.1333', '7.8958', '52.5542', '5.0', '9.0', '24.0', '7.225', '9.8458', '7.8958', '7.8958', '83.1583', '26.0', '7.8958', '10.5167', '10.5', '7.05', '29.125', '13.0', '30.0', '23.45', '30.0', '7.75'], ['nan', 'C85', 'nan', 'C123', 'nan', 'nan', 'E46', 'nan', 'nan', 'nan', 'G6', 'C103', 'nan', 'nan', 'nan', 'nan', 'nan', 'nan', 'nan', 'nan', 'nan', 'D56', 'nan', 'A6', 'nan', 'nan', 'nan', 'C23 C25 C27', 'nan', 'nan', 'nan', 'B78', 'nan', 'nan', 'nan', 'nan', 'nan', 'nan', 'nan', 'nan', 'nan', 'nan', 'nan', 'nan', 'nan', 'nan', 'nan', 'nan', 'nan', 'nan', 'nan', 'nan', 'D33', 'nan', 'B30', 'C52', 'nan', 'nan', 'nan', 'nan', 'nan', 'B28', 'C83', 'nan', 'nan', 'nan', 'F33', 'nan', 'nan', 'nan', 'nan', 'nan', 'nan', 'nan', 'nan', 'F G73', 'nan', 'nan', 'nan', 'nan', 'nan', 'nan', 'nan', 'nan', 'nan', 'nan', 'nan', 'nan', 'C23 C25 C27', 'nan', 'nan', 'nan', 'E31', 'nan', 'nan', 'nan', 'A5', 'D10 D12', 'nan', 'nan', 'nan', 'nan', 'D26', 'nan', 'nan', 'nan', 'nan', 'nan', 'nan', 'nan', 'C110', 'nan', 'nan', 'nan', 'nan', 'nan', 'nan', 'nan', 'B58 B60', 'nan', 'nan', 'nan', 'nan', 'E101', 'D26', 'nan', 'nan', 'nan', 'F E69', 'nan', 'nan', 'nan', 'nan', 'nan', 'nan', 'nan', 'D47', 'C123', 'nan', 'B86', 'nan', 'nan', 'nan', 'nan', 'nan', 'nan', 'nan', 'nan', 'F2', 'nan', 'nan', 'C2', 'nan', 'nan', 'nan', 'nan', 'nan', 'nan', 'nan', 'nan', 'nan', 'nan', 'nan', 'nan', 'nan', 'nan', 'E33', 'nan', 'nan', 'nan', 'B19', 'nan', 'nan', 'nan', 'A7', 'nan', 'nan', 'C49', 'nan', 'nan', 'nan', 'nan', 'nan', 'F4', 'nan', 'A32', 'nan', 'nan', 'nan', 'nan', 'nan', 'nan', 'nan', 'F2', 'B4', 'B80', 'nan', 'nan', 'nan', 'nan', 'nan', 'nan', 'nan', 'nan', 'nan', 'G6', 'nan', 'nan', 'nan', 'A31', 'nan', 'nan', 'nan', 'nan', 'nan', 'D36', 'nan', 'nan', 'D15', 'nan', 'nan', 'nan', 'nan', 'nan', 'C93', 'nan', 'nan', 'nan', 'nan', 'nan', 'C83', 'nan', 'nan', 'nan', 'nan', 'nan', 'nan', 'nan', 'nan', 'nan', 'nan', 'nan', 'nan', 'nan', 'nan', 'C78', 'nan', 'nan', 'D35', 'nan', 'nan', 'G6', 'C87', 'nan', 'nan', 'nan', 'nan', 'B77', 'nan', 'nan', 'nan', 'nan', 'E67', 'B94', 'nan', 'nan', 'nan', 'nan', 'C125', 'C99', 'nan', 'nan', 'nan', 'C118', 'nan', 'D7', 'nan', 'nan', 'nan', 'nan', 'nan', 'nan', 'nan', 'nan', 'A19', 'nan', 'nan', 'nan', 'nan', 'nan', 'nan', 'B49', 'D', 'nan', 'nan', 'nan', 'nan', 'C22 C26', 'C106', 'B58 B60', 'nan', 'nan', 'nan', 'E101', 'nan', 'C22 C26', 'nan', 'C65', 'nan', 'E36', 'C54', 'B57 B59 B63 B66', 'nan', 'nan', 'nan', 'nan', 'nan', 'nan', 'C7', 'E34', 'nan', 'nan', 'nan', 'nan', 'nan', 'C32', 'nan', 'D', 'nan', 'B18', 'nan', 'C124', 'C91', 'nan', 'nan', 'nan', 'C2', 'E40', 'nan', 'T', 'F2', 'C23 C25 C27', 'nan', 'nan', 'nan', 'F33', 'nan', 'nan', 'nan', 'nan', 'nan', 'C128', 'nan', 'nan', 'nan', 'nan', 'E33', 'nan', 'nan', 'nan', 'nan', 'nan', 'nan', 'nan', 'nan', 'nan', 'D37', 'nan', 'nan', 'B35', 'E50', 'nan', 'nan', 'nan', 'nan', 'nan', 'nan', 'C82', 'nan', 'nan', 'nan', 'nan', 'nan', 'nan', 'nan', 'nan', 'nan', 'nan', 'nan', 'nan', 'B96 B98', 'nan', 'nan', 'D36', 'G6', 'nan', 'nan', 'nan', 'nan', 'nan', 'nan', 'nan', 'nan', 'nan', 'nan', 'nan', 'nan', 'nan', 'nan', 'nan', 'nan', 'nan', 'C78', 'nan', 'nan', 'nan', 'nan', 'nan', 'nan', 'nan', 'nan', 'nan', 'nan', 'nan', 'nan', 'nan', 'nan', 'nan', 'nan', 'E10', 'C52', 'nan', 'nan', 'nan', 'E44', 'B96 B98', 'nan', 'nan', 'C23 C25 C27', 'nan', 'nan', 'nan', 'nan', 'nan', 'nan', 'A34', 'nan', 'nan', 'nan', 'C104', 'nan', 'nan', 'C111', 'C92', 'nan', 'nan', 'E38', 'D21', 'nan', 'nan', 'E12', 'nan', 'E63', 'nan', 'nan', 'nan', 'nan', 'nan', 'nan', 'nan', 'nan', 'nan', 'nan', 'D', 'nan', 'A14', 'nan', 'nan', 'nan', 'nan', 'nan', 'nan', 'nan', 'nan', 'B49', 'nan', 'C93', 'B37', 'nan', 'nan', 'nan', 'nan', 'C30', 'nan', 'nan', 'nan', 'D20', 'nan', 'C22 C26', 'nan', 'nan', 'nan', 'nan', 'nan', 'B79', 'C65', 'nan', 'nan', 'nan', 'nan', 'nan', 'nan', 'E25', 'nan', 'nan', 'D46', 'F33', 'nan', 'nan', 'nan', 'B73', 'nan', 'nan', 'B18', 'nan', 'nan', 'nan', 'C95', 'nan', 'nan', 'nan', 'nan', 'nan', 'nan', 'nan', 'nan', 'B38', 'nan', 'nan', 'B39', 'B22', 'nan', 'nan', 'nan', 'C86', 'nan', 'nan', 'nan', 'nan', 'nan', 'C70', 'nan', 'nan', 'nan', 'nan', 'nan', 'A16', 'nan', 'E67', 'nan', 'nan', 'nan', 'nan', 'nan', 'nan', 'nan', 'nan', 'nan', 'nan', 'nan', 'nan', 'C101', 'E25', 'nan', 'nan', 'nan', 'nan', 'E44', 'nan', 'nan', 'nan', 'C68', 'nan', 'A10', 'nan', 'E68', 'nan', 'B41', 'nan', 'nan', 'nan', 'D20', 'nan', 'nan', 'nan', 'nan', 'nan', 'nan', 'nan', 'A20', 'nan', 'nan', 'nan', 'nan', 'nan', 'nan', 'nan', 'nan', 'nan', 'C125', 'nan', 'nan', 'nan', 'nan', 'nan', 'nan', 'nan', 'nan', 'F4', 'nan', 'nan', 'D19', 'nan', 'nan', 'nan', 'D50', 'nan', 'D9', 'nan', 'nan', 'A23', 'nan', 'B50', 'nan', 'nan', 'nan', 'nan', 'nan', 'nan', 'nan', 'nan', 'B35', 'nan', 'nan', 'nan', 'D33', 'nan', 'A26', 'nan', 'nan', 'nan', 'nan', 'nan', 'nan', 'nan', 'nan', 'nan', 'nan', 'nan', 'D48', 'nan', 'nan', 'E58', 'nan', 'nan', 'nan', 'nan', 'nan', 'nan', 'C126', 'nan', 'B71', 'nan', 'nan', 'nan', 'nan', 'nan', 'nan', 'nan', 'B51 B53 B55', 'nan', 'D49', 'nan', 'nan', 'nan', 'nan', 'nan', 'nan', 'nan', 'B5', 'B20', 'nan', 'nan', 'nan', 'nan', 'nan', 'nan', 'nan', 'C68', 'F G63', 'C62 C64', 'E24', 'nan', 'nan', 'nan', 'nan', 'nan', 'E24', 'nan', 'nan', 'C90', 'C124', 'C126', 'nan', 'nan', 'F G73', 'C45', 'E101', 'nan', 'nan', 'nan', 'nan', 'nan', 'nan', 'E8', 'nan', 'nan', 'nan', 'nan', 'nan', 'B5', 'nan', 'nan', 'nan', 'nan', 'nan', 'nan', 'B101', 'nan', 'nan', 'D45', 'C46', 'B57 B59 B63 B66', 'nan', 'nan', 'B22', 'nan', 'nan', 'D30', 'nan', 'nan', 'E121', 'nan', 'nan', 'nan', 'nan', 'nan', 'nan', 'nan', 'B77', 'nan', 'nan', 'nan', 'B96 B98', 'nan', 'D11', 'nan', 'nan', 'nan', 'nan', 'nan', 'nan', 'E77', 'nan', 'nan', 'nan', 'F38', 'nan', 'nan', 'B3', 'nan', 'B20', 'D6', 'nan', 'nan', 'nan', 'nan', 'nan', 'nan', 'B82 B84', 'nan', 'nan', 'nan', 'nan', 'nan', 'nan', 'D17', 'nan', 'nan', 'nan', 'nan', 'nan', 'B96 B98', 'nan', 'nan', 'nan', 'A36', 'nan', 'nan', 'E8', 'nan', 'nan', 'nan', 'nan', 'nan', 'B102', 'nan', 'nan', 'nan', 'nan', 'B69', 'nan', 'nan', 'E121', 'nan', 'nan', 'nan', 'nan', 'nan', 'B28', 'nan', 'nan', 'nan', 'nan', 'nan', 'E49', 'nan', 'nan', 'nan', 'C47', 'nan', 'nan', 'nan', 'nan', 'nan', 'nan', 'nan', 'nan', 'nan', 'C92', 'nan', 'nan', 'nan', 'D28', 'nan', 'nan', 'nan', 'E17', 'nan', 'nan', 'nan', 'nan', 'D17', 'nan', 'nan', 'nan', 'nan', 'A24', 'nan', 'nan', 'nan', 'D35', 'B51 B53 B55', 'nan', 'nan', 'nan', 'nan', 'nan', 'nan', 'C50', 'nan', 'nan', 'nan', 'nan', 'nan', 'nan', 'nan', 'B42', 'nan', 'C148', 'nan'], ['S', 'C', 'S', 'S', 'S', 'Q', 'S', 'S', 'S', 'C', 'S', 'S', 'S', 'S', 'S', 'S', 'Q', 'S', 'S', 'C', 'S', 'S', 'Q', 'S', 'S', 'S', 'C', 'S', 'Q', 'S', 'C', 'C', 'Q', 'S', 'C', 'S', 'C', 'S', 'S', 'C', 'S', 'S', 'C', 'C', 'Q', 'S', 'Q', 'Q', 'C', 'S', 'S', 'S', 'C', 'S', 'C', 'S', 'S', 'C', 'S', 'S', 'C', 'nan', 'S', 'S', 'C', 'C', 'S', 'S', 'S', 'S', 'S', 'S', 'S', 'C', 'S', 'S', 'S', 'S', 'S', 'S', 'S', 'S', 'Q', 'S', 'S', 'S', 'S', 'S', 'S', 'S', 'S', 'S', 'S', 'S', 'S', 'S', 'C', 'C', 'S', 'S', 'S', 'S', 'S', 'S', 'S', 'S', 'S', 'S', 'S', 'Q', 'S', 'C', 'S', 'S', 'C', 'S', 'Q', 'S', 'C', 'S', 'S', 'S', 'C', 'S', 'S', 'C', 'Q', 'S', 'C', 'S', 'C', 'S', 'S', 'S', 'S', 'C', 'S', 'S', 'S', 'C', 'C', 'S', 'S', 'Q', 'S', 'S', 'S', 'S', 'S', 'S', 'S', 'S', 'S', 'S', 'S', 'C', 'Q', 'S', 'S', 'S', 'S', 'S', 'S', 'S', 'S', 'S', 'S', 'S', 'S', 'S', 'S', 'Q', 'S', 'S', 'C', 'S', 'S', 'C', 'S', 'S', 'S', 'C', 'S', 'S', 'S', 'S', 'Q', 'S', 'Q', 'S', 'S', 'S', 'S', 'S', 'C', 'C', 'Q', 'S', 'Q', 'S', 'S', 'S', 'S', 'C', 'S', 'S', 'S', 'C', 'Q', 'C', 'S', 'S', 'S', 'S', 'Q', 'C', 'S', 'S', 'C', 'S', 'S', 'S', 'S', 'S', 'S', 'S', 'S', 'S', 'S', 'S', 'S', 'S', 'S', 'S', 'S', 'S', 'S', 'S', 'S', 'S', 'C', 'Q', 'S', 'S', 'C', 'Q', 'S', 'S', 'S', 'S', 'S', 'S', 'S', 'S', 'S', 'C', 'C', 'S', 'C', 'S', 'Q', 'S', 'S', 'S', 'Q', 'S', 'S', 'S', 'S', 'S', 'S', 'S', 'S', 'C', 'Q', 'S', 'S', 'S', 'Q', 'S', 'Q', 'S', 'S', 'S', 'S', 'C', 'S', 'S', 'S', 'Q', 'S', 'C', 'C', 'S', 'S', 'C', 'C', 'S', 'S', 'C', 'Q', 'Q', 'S', 'Q', 'S', 'S', 'C', 'C', 'C', 'C', 'C', 'C', 'S', 'S', 'S', 'S', 'S', 'S', 'S', 'C', 'S', 'S', 'Q', 'S', 'S', 'C', 'S', 'S', 'S', 'C', 'Q', 'S', 'S', 'S', 'S', 'S', 'S', 'C', 'S', 'S', 'S', 'S', 'S', 'S', 'S', 'S', 'S', 'S', 'S', 'S', 'S', 'S', 'C', 'S', 'C', 'S', 'S', 'S', 'Q', 'Q', 'S', 'C', 'C', 'S', 'Q', 'S', 'C', 'C', 'Q', 'C', 'C', 'S', 'S', 'C', 'S', 'C', 'S', 'C', 'C', 'S', 'C', 'C', 'S', 'S', 'S', 'S', 'S', 'S', 'Q', 'C', 'S', 'S', 'S', 'C', 'S', 'S', 'S', 'S', 'S', 'S', 'S', 'S', 'S', 'S', 'S', 'S', 'S', 'S', 'S', 'S', 'S', 'Q', 'Q', 'S', 'S', 'S', 'S', 'S', 'S', 'S', 'C', 'Q', 'S', 'S', 'S', 'S', 'S', 'S', 'Q', 'S', 'S', 'S', 'S', 'S', 'S', 'S', 'S', 'S', 'S', 'S', 'S', 'S', 'S', 'S', 'S', 'S', 'S', 'S', 'C', 'S', 'S', 'S', 'C', 'C', 'S', 'C', 'S', 'S', 'S', 'Q', 'S', 'S', 'S', 'S', 'S', 'S', 'S', 'S', 'Q', 'C', 'S', 'S', 'S', 'C', 'S', 'S', 'S', 'S', 'S', 'S', 'S', 'S', 'S', 'S', 'C', 'S', 'S', 'C', 'S', 'S', 'S', 'S', 'S', 'C', 'S', 'C', 'C', 'S', 'S', 'S', 'S', 'Q', 'Q', 'S', 'S', 'C', 'S', 'S', 'S', 'S', 'Q', 'S', 'S', 'C', 'S', 'S', 'S', 'Q', 'S', 'S', 'S', 'S', 'C', 'C', 'C', 'Q', 'S', 'S', 'S', 'S', 'S', 'C', 'C', 'C', 'S', 'S', 'S', 'C', 'S', 'C', 'S', 'S', 'S', 'S', 'C', 'S', 'S', 'C', 'S', 'S', 'C', 'S', 'Q', 'C', 'S', 'S', 'C', 'C', 'S', 'S', 'Q', 'S', 'S', 'S', 'S', 'S', 'S', 'S', 'C', 'S', 'S', 'S', 'S', 'Q', 'S', 'S', 'S', 'S', 'C', 'S', 'S', 'C', 'S', 'C', 'C', 'S', 'S', 'C', 'S', 'S', 'S', 'C', 'S', 'Q', 'S', 'S', 'S', 'S', 'C', 'C', 'S', 'S', 'S', 'S', 'C', 'S', 'S', 'S', 'C', 'S', 'S', 'S', 'Q', 'Q', 'S', 'S', 'S', 'S', 'S', 'S', 'C', 'S', 'C', 'S', 'S', 'S', 'Q', 'S', 'S', 'Q', 'S', 'S', 'C', 'S', 'S', 'S', 'S', 'S', 'S', 'S', 'S', 'C', 'S', 'S', 'C', 'C', 'S', 'C', 'S', 'S', 'S', 'S', 'S', 'Q', 'Q', 'S', 'S', 'Q', 'S', 'C', 'S', 'C', 'S', 'S', 'S', 'S', 'S', 'S', 'S', 'S', 'S', 'S', 'S', 'S', 'S', 'S', 'S', 'S', 'S', 'C', 'Q', 'C', 'S', 'S', 'S', 'C', 'S', 'S', 'S', 'S', 'S', 'C', 'S', 'C', 'S', 'S', 'S', 'Q', 'C', 'S', 'C', 'S', 'C', 'Q', 'S', 'S', 'S', 'S', 'S', 'C', 'C', 'S', 'S', 'S', 'S', 'S', 'C', 'S', 'Q', 'S', 'S', 'S', 'S', 'S', 'S', 'S', 'S', 'Q', 'S', 'S', 'S', 'C', 'S', 'S', 'S', 'S', 'S', 'C', 'S', 'S', 'S', 'S', 'C', 'S', 'S', 'S', 'S', 'S', 'S', 'Q', 'S', 'S', 'S', 'S', 'S', 'S', 'S', 'S', 'S', 'S', 'S', 'S', 'C', 'S', 'S', 'S', 'C', 'Q', 'Q', 'S', 'S', 'S', 'S', 'C', 'S', 'S', 'Q', 'S', 'Q', 'S', 'C', 'S', 'S', 'S', 'S', 'S', 'S', 'Q', 'S', 'C', 'Q', 'S', 'S', 'C', 'S', 'S', 'S', 'S', 'C', 'S', 'S', 'S', 'S', 'C', 'S', 'S', 'S', 'S', 'S', 'S', 'S', 'S', 'S', 'S', 'S', 'S', 'S', 'C', 'S', 'S', 'S', 'S', 'S', 'S', 'S', 'Q', 'S', 'C', 'Q', 'nan', 'C', 'S', 'C', 'S', 'S', 'C', 'S', 'S', 'S', 'C', 'S', 'S', 'C', 'C', 'S', 'S', 'S', 'C', 'S', 'C', 'S', 'S', 'C', 'S', 'S', 'S', 'S', 'S', 'C', 'C', 'S', 'S', 'S', 'S', 'S', 'S', 'C', 'S', 'S', 'S', 'S', 'S', 'S', 'S', 'C', 'C', 'S', 'S', 'S', 'C', 'S', 'S', 'S', 'S', 'S', 'Q', 'S', 'S', 'S', 'C', 'Q']]\n"
     ]
    }
   ],
   "source": [
    "# 행방향으로 리스트화\n",
    "tdf_list2=tdf.values.tolist()\n",
    "tdf_list2_col = np.transpose(tdf_list2)\n",
    "# 열방향으로 리스트화  (무자형으로 데이터가 리스트됨)\n",
    "print(tdf_list2_col.tolist())"
   ]
  },
  {
   "cell_type": "code",
   "execution_count": 161,
   "id": "cc2f04e4",
   "metadata": {
    "collapsed": true
   },
   "outputs": [
    {
     "name": "stdout",
     "output_type": "stream",
     "text": [
      "[[1, 2, 3, 4, 5, 6, 7, 8, 9, 10, 11, 12, 13, 14, 15, 16, 17, 18, 19, 20, 21, 22, 23, 24, 25, 26, 27, 28, 29, 30, 31, 32, 33, 34, 35, 36, 37, 38, 39, 40, 41, 42, 43, 44, 45, 46, 47, 48, 49, 50, 51, 52, 53, 54, 55, 56, 57, 58, 59, 60, 61, 62, 63, 64, 65, 66, 67, 68, 69, 70, 71, 72, 73, 74, 75, 76, 77, 78, 79, 80, 81, 82, 83, 84, 85, 86, 87, 88, 89, 90, 91, 92, 93, 94, 95, 96, 97, 98, 99, 100, 101, 102, 103, 104, 105, 106, 107, 108, 109, 110, 111, 112, 113, 114, 115, 116, 117, 118, 119, 120, 121, 122, 123, 124, 125, 126, 127, 128, 129, 130, 131, 132, 133, 134, 135, 136, 137, 138, 139, 140, 141, 142, 143, 144, 145, 146, 147, 148, 149, 150, 151, 152, 153, 154, 155, 156, 157, 158, 159, 160, 161, 162, 163, 164, 165, 166, 167, 168, 169, 170, 171, 172, 173, 174, 175, 176, 177, 178, 179, 180, 181, 182, 183, 184, 185, 186, 187, 188, 189, 190, 191, 192, 193, 194, 195, 196, 197, 198, 199, 200, 201, 202, 203, 204, 205, 206, 207, 208, 209, 210, 211, 212, 213, 214, 215, 216, 217, 218, 219, 220, 221, 222, 223, 224, 225, 226, 227, 228, 229, 230, 231, 232, 233, 234, 235, 236, 237, 238, 239, 240, 241, 242, 243, 244, 245, 246, 247, 248, 249, 250, 251, 252, 253, 254, 255, 256, 257, 258, 259, 260, 261, 262, 263, 264, 265, 266, 267, 268, 269, 270, 271, 272, 273, 274, 275, 276, 277, 278, 279, 280, 281, 282, 283, 284, 285, 286, 287, 288, 289, 290, 291, 292, 293, 294, 295, 296, 297, 298, 299, 300, 301, 302, 303, 304, 305, 306, 307, 308, 309, 310, 311, 312, 313, 314, 315, 316, 317, 318, 319, 320, 321, 322, 323, 324, 325, 326, 327, 328, 329, 330, 331, 332, 333, 334, 335, 336, 337, 338, 339, 340, 341, 342, 343, 344, 345, 346, 347, 348, 349, 350, 351, 352, 353, 354, 355, 356, 357, 358, 359, 360, 361, 362, 363, 364, 365, 366, 367, 368, 369, 370, 371, 372, 373, 374, 375, 376, 377, 378, 379, 380, 381, 382, 383, 384, 385, 386, 387, 388, 389, 390, 391, 392, 393, 394, 395, 396, 397, 398, 399, 400, 401, 402, 403, 404, 405, 406, 407, 408, 409, 410, 411, 412, 413, 414, 415, 416, 417, 418, 419, 420, 421, 422, 423, 424, 425, 426, 427, 428, 429, 430, 431, 432, 433, 434, 435, 436, 437, 438, 439, 440, 441, 442, 443, 444, 445, 446, 447, 448, 449, 450, 451, 452, 453, 454, 455, 456, 457, 458, 459, 460, 461, 462, 463, 464, 465, 466, 467, 468, 469, 470, 471, 472, 473, 474, 475, 476, 477, 478, 479, 480, 481, 482, 483, 484, 485, 486, 487, 488, 489, 490, 491, 492, 493, 494, 495, 496, 497, 498, 499, 500, 501, 502, 503, 504, 505, 506, 507, 508, 509, 510, 511, 512, 513, 514, 515, 516, 517, 518, 519, 520, 521, 522, 523, 524, 525, 526, 527, 528, 529, 530, 531, 532, 533, 534, 535, 536, 537, 538, 539, 540, 541, 542, 543, 544, 545, 546, 547, 548, 549, 550, 551, 552, 553, 554, 555, 556, 557, 558, 559, 560, 561, 562, 563, 564, 565, 566, 567, 568, 569, 570, 571, 572, 573, 574, 575, 576, 577, 578, 579, 580, 581, 582, 583, 584, 585, 586, 587, 588, 589, 590, 591, 592, 593, 594, 595, 596, 597, 598, 599, 600, 601, 602, 603, 604, 605, 606, 607, 608, 609, 610, 611, 612, 613, 614, 615, 616, 617, 618, 619, 620, 621, 622, 623, 624, 625, 626, 627, 628, 629, 630, 631, 632, 633, 634, 635, 636, 637, 638, 639, 640, 641, 642, 643, 644, 645, 646, 647, 648, 649, 650, 651, 652, 653, 654, 655, 656, 657, 658, 659, 660, 661, 662, 663, 664, 665, 666, 667, 668, 669, 670, 671, 672, 673, 674, 675, 676, 677, 678, 679, 680, 681, 682, 683, 684, 685, 686, 687, 688, 689, 690, 691, 692, 693, 694, 695, 696, 697, 698, 699, 700, 701, 702, 703, 704, 705, 706, 707, 708, 709, 710, 711, 712, 713, 714, 715, 716, 717, 718, 719, 720, 721, 722, 723, 724, 725, 726, 727, 728, 729, 730, 731, 732, 733, 734, 735, 736, 737, 738, 739, 740, 741, 742, 743, 744, 745, 746, 747, 748, 749, 750, 751, 752, 753, 754, 755, 756, 757, 758, 759, 760, 761, 762, 763, 764, 765, 766, 767, 768, 769, 770, 771, 772, 773, 774, 775, 776, 777, 778, 779, 780, 781, 782, 783, 784, 785, 786, 787, 788, 789, 790, 791, 792, 793, 794, 795, 796, 797, 798, 799, 800, 801, 802, 803, 804, 805, 806, 807, 808, 809, 810, 811, 812, 813, 814, 815, 816, 817, 818, 819, 820, 821, 822, 823, 824, 825, 826, 827, 828, 829, 830, 831, 832, 833, 834, 835, 836, 837, 838, 839, 840, 841, 842, 843, 844, 845, 846, 847, 848, 849, 850, 851, 852, 853, 854, 855, 856, 857, 858, 859, 860, 861, 862, 863, 864, 865, 866, 867, 868, 869, 870, 871, 872, 873, 874, 875, 876, 877, 878, 879, 880, 881, 882, 883, 884, 885, 886, 887, 888, 889, 890, 891], [0, 1, 1, 1, 0, 0, 0, 0, 1, 1, 1, 1, 0, 0, 0, 1, 0, 1, 0, 1, 0, 1, 1, 1, 0, 1, 0, 0, 1, 0, 0, 1, 1, 0, 0, 0, 1, 0, 0, 1, 0, 0, 0, 1, 1, 0, 0, 1, 0, 0, 0, 0, 1, 1, 0, 1, 1, 0, 1, 0, 0, 1, 0, 0, 0, 1, 1, 0, 1, 0, 0, 0, 0, 0, 1, 0, 0, 0, 1, 1, 0, 1, 1, 0, 1, 1, 0, 0, 1, 0, 0, 0, 0, 0, 0, 0, 0, 1, 1, 0, 0, 0, 0, 0, 0, 0, 1, 1, 0, 1, 0, 0, 0, 0, 0, 0, 0, 0, 0, 0, 0, 0, 0, 1, 0, 1, 0, 1, 1, 0, 0, 0, 0, 1, 0, 0, 1, 0, 0, 0, 0, 1, 1, 0, 0, 0, 1, 0, 0, 0, 0, 1, 0, 0, 0, 0, 1, 0, 0, 0, 0, 1, 0, 0, 0, 1, 1, 0, 0, 0, 0, 0, 1, 0, 0, 0, 0, 0, 0, 0, 0, 0, 0, 1, 1, 0, 1, 1, 0, 0, 1, 0, 1, 1, 1, 1, 0, 0, 1, 0, 0, 0, 0, 0, 1, 0, 0, 1, 1, 1, 0, 1, 0, 0, 0, 1, 1, 0, 1, 0, 1, 0, 0, 0, 1, 0, 1, 0, 0, 0, 1, 0, 0, 1, 0, 0, 0, 1, 0, 0, 0, 1, 0, 0, 0, 0, 0, 1, 1, 0, 0, 0, 0, 0, 0, 1, 1, 1, 1, 1, 0, 1, 0, 0, 0, 0, 0, 1, 1, 1, 0, 1, 1, 0, 1, 1, 0, 0, 0, 1, 0, 0, 0, 1, 0, 0, 1, 0, 1, 1, 1, 1, 0, 0, 0, 0, 0, 0, 1, 1, 1, 1, 0, 1, 0, 1, 1, 1, 0, 1, 1, 1, 0, 0, 0, 1, 1, 0, 1, 1, 0, 0, 1, 1, 0, 1, 0, 1, 1, 1, 1, 0, 0, 0, 1, 0, 0, 1, 1, 0, 1, 1, 0, 0, 0, 1, 1, 1, 1, 0, 0, 0, 0, 0, 0, 0, 1, 0, 1, 1, 0, 0, 0, 0, 0, 0, 1, 1, 1, 1, 1, 0, 0, 0, 0, 1, 1, 0, 0, 0, 1, 1, 0, 1, 0, 0, 0, 1, 0, 1, 1, 1, 0, 1, 1, 0, 0, 0, 0, 1, 1, 0, 0, 0, 0, 0, 0, 1, 0, 0, 0, 0, 1, 0, 1, 0, 1, 1, 0, 0, 0, 0, 0, 0, 0, 0, 1, 1, 0, 1, 1, 1, 1, 0, 0, 1, 0, 1, 0, 0, 1, 0, 0, 1, 1, 1, 1, 1, 1, 1, 0, 0, 0, 1, 0, 1, 0, 1, 1, 0, 1, 0, 0, 0, 0, 0, 0, 0, 0, 1, 0, 0, 1, 1, 0, 0, 0, 0, 0, 1, 0, 0, 0, 1, 1, 0, 1, 0, 0, 1, 0, 0, 0, 0, 0, 0, 1, 0, 0, 0, 0, 0, 0, 0, 1, 0, 1, 1, 0, 1, 1, 0, 1, 1, 0, 0, 1, 0, 1, 0, 1, 0, 0, 1, 0, 0, 1, 0, 0, 0, 1, 0, 0, 1, 0, 1, 0, 1, 0, 1, 1, 0, 0, 1, 0, 0, 1, 1, 0, 1, 1, 0, 0, 1, 1, 0, 1, 0, 1, 1, 0, 0, 0, 0, 0, 0, 0, 0, 0, 1, 1, 1, 1, 1, 0, 0, 1, 1, 0, 1, 1, 1, 0, 0, 0, 1, 0, 1, 0, 0, 0, 1, 0, 0, 0, 0, 1, 0, 0, 1, 1, 0, 0, 0, 1, 0, 0, 1, 1, 1, 0, 0, 1, 0, 0, 1, 0, 0, 1, 0, 0, 1, 1, 0, 0, 0, 0, 1, 0, 0, 1, 0, 1, 0, 0, 1, 0, 0, 0, 0, 0, 1, 0, 1, 1, 1, 0, 1, 0, 1, 0, 1, 0, 1, 0, 0, 0, 0, 0, 0, 1, 0, 0, 0, 1, 0, 0, 0, 0, 1, 1, 0, 0, 1, 0, 0, 0, 1, 0, 1, 0, 1, 0, 0, 0, 0, 0, 0, 0, 1, 1, 1, 1, 0, 0, 0, 0, 1, 0, 0, 1, 1, 0, 0, 0, 0, 1, 1, 1, 1, 1, 0, 1, 0, 0, 0, 1, 1, 0, 0, 1, 0, 0, 0, 1, 0, 1, 1, 0, 0, 1, 0, 0, 0, 0, 0, 0, 1, 0, 0, 1, 0, 1, 0, 1, 0, 0, 1, 0, 0, 1, 1, 0, 0, 1, 1, 0, 0, 0, 1, 0, 0, 1, 1, 0, 1, 0, 0, 0, 0, 0, 0, 0, 0, 1, 0, 0, 1, 0, 1, 1, 1, 0, 0, 0, 0, 1, 0, 1, 0, 0, 0, 0, 0, 0, 0, 1, 1, 0, 0, 0, 1, 1, 1, 1, 0, 0, 0, 0, 1, 0, 0, 0, 0, 0, 0, 0, 0, 0, 0, 1, 1, 0, 1, 0, 0, 0, 1, 1, 1, 1, 1, 0, 0, 0, 1, 0, 0, 1, 1, 0, 0, 1, 0, 0, 0, 0, 0, 0, 1, 0, 0, 0, 1, 0, 1, 1, 1, 1, 0, 0, 0, 1, 0, 0, 1, 1, 0, 0, 1, 0, 1, 0, 0, 1, 1, 0, 0, 0, 1, 1, 0, 0, 0, 0, 0, 0, 1, 0, 1, 0], [3, 1, 3, 1, 3, 3, 1, 3, 3, 2, 3, 1, 3, 3, 3, 2, 3, 2, 3, 3, 2, 2, 3, 1, 3, 3, 3, 1, 3, 3, 1, 1, 3, 2, 1, 1, 3, 3, 3, 3, 3, 2, 3, 2, 3, 3, 3, 3, 3, 3, 3, 3, 1, 2, 1, 1, 2, 3, 2, 3, 3, 1, 1, 3, 1, 3, 2, 3, 3, 3, 2, 3, 2, 3, 3, 3, 3, 3, 2, 3, 3, 3, 3, 1, 2, 3, 3, 3, 1, 3, 3, 3, 1, 3, 3, 3, 1, 1, 2, 2, 3, 3, 1, 3, 3, 3, 3, 3, 3, 3, 1, 3, 3, 3, 3, 3, 3, 2, 1, 3, 2, 3, 2, 2, 1, 3, 3, 3, 3, 3, 3, 3, 3, 2, 2, 2, 1, 1, 3, 1, 3, 3, 3, 3, 2, 2, 3, 3, 2, 2, 2, 1, 3, 3, 3, 1, 3, 3, 3, 3, 3, 2, 3, 3, 3, 3, 1, 3, 1, 3, 1, 3, 3, 3, 1, 3, 3, 1, 2, 3, 3, 2, 3, 2, 3, 1, 3, 1, 3, 3, 2, 2, 3, 2, 1, 1, 3, 3, 3, 2, 3, 3, 3, 3, 3, 3, 3, 3, 3, 1, 3, 2, 3, 2, 3, 1, 3, 2, 1, 2, 3, 2, 3, 3, 1, 3, 2, 3, 2, 3, 1, 3, 2, 3, 2, 3, 2, 2, 2, 2, 3, 3, 2, 3, 3, 1, 3, 2, 1, 2, 3, 3, 1, 3, 3, 3, 1, 1, 1, 2, 3, 3, 1, 1, 3, 2, 3, 3, 1, 1, 1, 3, 2, 1, 3, 1, 3, 2, 3, 3, 3, 3, 3, 3, 1, 3, 3, 3, 2, 3, 1, 1, 2, 3, 3, 1, 3, 1, 1, 1, 3, 3, 3, 2, 3, 1, 1, 1, 2, 1, 1, 1, 2, 3, 2, 3, 2, 2, 1, 1, 3, 3, 2, 2, 3, 1, 3, 2, 3, 1, 3, 1, 1, 3, 1, 3, 1, 1, 3, 1, 2, 1, 2, 2, 2, 2, 2, 3, 3, 3, 3, 1, 3, 3, 3, 3, 1, 2, 3, 3, 3, 2, 3, 3, 3, 3, 1, 3, 3, 1, 1, 3, 3, 1, 3, 1, 3, 1, 3, 3, 1, 3, 3, 1, 3, 2, 3, 2, 3, 2, 1, 3, 3, 1, 3, 3, 3, 2, 2, 2, 3, 3, 3, 3, 3, 2, 3, 2, 3, 3, 3, 3, 1, 2, 3, 3, 2, 2, 2, 3, 3, 3, 3, 3, 3, 3, 2, 2, 3, 3, 1, 3, 2, 3, 1, 1, 3, 2, 1, 2, 2, 3, 3, 2, 3, 1, 2, 1, 3, 1, 2, 3, 1, 1, 3, 3, 1, 1, 2, 3, 1, 3, 1, 2, 3, 3, 2, 1, 3, 3, 3, 3, 2, 2, 3, 1, 2, 3, 3, 3, 3, 2, 3, 3, 1, 3, 1, 1, 3, 3, 3, 3, 1, 1, 3, 3, 1, 3, 1, 3, 3, 3, 3, 3, 1, 1, 2, 1, 3, 3, 3, 3, 1, 1, 3, 1, 2, 3, 2, 3, 1, 3, 3, 1, 3, 3, 2, 1, 3, 2, 2, 3, 3, 3, 3, 2, 1, 1, 3, 1, 1, 3, 3, 2, 1, 1, 2, 2, 3, 2, 1, 2, 3, 3, 3, 1, 1, 1, 1, 3, 3, 3, 2, 3, 3, 3, 3, 3, 3, 3, 2, 1, 1, 3, 3, 3, 2, 1, 3, 3, 2, 1, 2, 1, 3, 1, 2, 1, 3, 3, 3, 1, 3, 3, 2, 3, 2, 3, 3, 1, 2, 3, 1, 3, 1, 3, 3, 1, 2, 1, 3, 3, 3, 3, 3, 2, 3, 3, 2, 2, 3, 1, 3, 3, 3, 1, 2, 1, 3, 3, 1, 3, 1, 1, 3, 2, 3, 2, 3, 3, 3, 1, 3, 3, 3, 1, 3, 1, 3, 3, 3, 2, 3, 3, 3, 2, 3, 3, 2, 1, 1, 3, 1, 3, 3, 2, 2, 3, 3, 1, 2, 1, 2, 2, 2, 3, 3, 3, 3, 1, 3, 1, 3, 3, 2, 2, 3, 3, 3, 1, 1, 3, 3, 3, 1, 2, 3, 3, 1, 3, 1, 1, 3, 3, 3, 2, 2, 1, 1, 3, 1, 1, 1, 3, 2, 3, 1, 2, 3, 3, 2, 3, 2, 2, 1, 3, 2, 3, 2, 3, 1, 3, 2, 2, 2, 3, 3, 1, 3, 3, 1, 1, 1, 3, 3, 1, 3, 2, 1, 3, 2, 3, 3, 3, 2, 2, 3, 2, 3, 1, 3, 3, 3, 1, 3, 1, 1, 3, 3, 3, 3, 3, 2, 3, 2, 3, 3, 3, 3, 1, 3, 1, 1, 3, 3, 3, 3, 3, 3, 1, 3, 2, 3, 1, 3, 2, 1, 3, 3, 3, 2, 2, 1, 3, 3, 3, 1, 3, 2, 1, 3, 3, 2, 3, 3, 1, 3, 2, 3, 3, 1, 3, 1, 3, 3, 3, 3, 2, 3, 1, 3, 2, 3, 3, 3, 1, 3, 3, 3, 1, 3, 2, 1, 3, 3, 3, 3, 3, 2, 1, 3, 3, 3, 1, 2, 3, 1, 1, 3, 3, 3, 2, 1, 3, 2, 2, 2, 1, 3, 3, 3, 1, 1, 3, 2, 3, 3, 3, 3, 1, 2, 3, 3, 2, 3, 3, 2, 1, 3, 1, 3], ['Braund, Mr. Owen Harris', 'Cumings, Mrs. John Bradley (Florence Briggs Thayer)', 'Heikkinen, Miss. Laina', 'Futrelle, Mrs. Jacques Heath (Lily May Peel)', 'Allen, Mr. William Henry', 'Moran, Mr. James', 'McCarthy, Mr. Timothy J', 'Palsson, Master. Gosta Leonard', 'Johnson, Mrs. Oscar W (Elisabeth Vilhelmina Berg)', 'Nasser, Mrs. Nicholas (Adele Achem)', 'Sandstrom, Miss. Marguerite Rut', 'Bonnell, Miss. Elizabeth', 'Saundercock, Mr. William Henry', 'Andersson, Mr. Anders Johan', 'Vestrom, Miss. Hulda Amanda Adolfina', 'Hewlett, Mrs. (Mary D Kingcome) ', 'Rice, Master. Eugene', 'Williams, Mr. Charles Eugene', 'Vander Planke, Mrs. Julius (Emelia Maria Vandemoortele)', 'Masselmani, Mrs. Fatima', 'Fynney, Mr. Joseph J', 'Beesley, Mr. Lawrence', 'McGowan, Miss. Anna \"Annie\"', 'Sloper, Mr. William Thompson', 'Palsson, Miss. Torborg Danira', 'Asplund, Mrs. Carl Oscar (Selma Augusta Emilia Johansson)', 'Emir, Mr. Farred Chehab', 'Fortune, Mr. Charles Alexander', 'O\\'Dwyer, Miss. Ellen \"Nellie\"', 'Todoroff, Mr. Lalio', 'Uruchurtu, Don. Manuel E', 'Spencer, Mrs. William Augustus (Marie Eugenie)', 'Glynn, Miss. Mary Agatha', 'Wheadon, Mr. Edward H', 'Meyer, Mr. Edgar Joseph', 'Holverson, Mr. Alexander Oskar', 'Mamee, Mr. Hanna', 'Cann, Mr. Ernest Charles', 'Vander Planke, Miss. Augusta Maria', 'Nicola-Yarred, Miss. Jamila', 'Ahlin, Mrs. Johan (Johanna Persdotter Larsson)', 'Turpin, Mrs. William John Robert (Dorothy Ann Wonnacott)', 'Kraeff, Mr. Theodor', 'Laroche, Miss. Simonne Marie Anne Andree', 'Devaney, Miss. Margaret Delia', 'Rogers, Mr. William John', 'Lennon, Mr. Denis', \"O'Driscoll, Miss. Bridget\", 'Samaan, Mr. Youssef', 'Arnold-Franchi, Mrs. Josef (Josefine Franchi)', 'Panula, Master. Juha Niilo', 'Nosworthy, Mr. Richard Cater', 'Harper, Mrs. Henry Sleeper (Myna Haxtun)', 'Faunthorpe, Mrs. Lizzie (Elizabeth Anne Wilkinson)', 'Ostby, Mr. Engelhart Cornelius', 'Woolner, Mr. Hugh', 'Rugg, Miss. Emily', 'Novel, Mr. Mansouer', 'West, Miss. Constance Mirium', 'Goodwin, Master. William Frederick', 'Sirayanian, Mr. Orsen', 'Icard, Miss. Amelie', 'Harris, Mr. Henry Birkhardt', 'Skoog, Master. Harald', 'Stewart, Mr. Albert A', 'Moubarek, Master. Gerios', 'Nye, Mrs. (Elizabeth Ramell)', 'Crease, Mr. Ernest James', 'Andersson, Miss. Erna Alexandra', 'Kink, Mr. Vincenz', 'Jenkin, Mr. Stephen Curnow', 'Goodwin, Miss. Lillian Amy', 'Hood, Mr. Ambrose Jr', 'Chronopoulos, Mr. Apostolos', 'Bing, Mr. Lee', 'Moen, Mr. Sigurd Hansen', 'Staneff, Mr. Ivan', 'Moutal, Mr. Rahamin Haim', 'Caldwell, Master. Alden Gates', 'Dowdell, Miss. Elizabeth', 'Waelens, Mr. Achille', 'Sheerlinck, Mr. Jan Baptist', 'McDermott, Miss. Brigdet Delia', 'Carrau, Mr. Francisco M', 'Ilett, Miss. Bertha', 'Backstrom, Mrs. Karl Alfred (Maria Mathilda Gustafsson)', 'Ford, Mr. William Neal', 'Slocovski, Mr. Selman Francis', 'Fortune, Miss. Mabel Helen', 'Celotti, Mr. Francesco', 'Christmann, Mr. Emil', 'Andreasson, Mr. Paul Edvin', 'Chaffee, Mr. Herbert Fuller', 'Dean, Mr. Bertram Frank', 'Coxon, Mr. Daniel', 'Shorney, Mr. Charles Joseph', 'Goldschmidt, Mr. George B', 'Greenfield, Mr. William Bertram', 'Doling, Mrs. John T (Ada Julia Bone)', 'Kantor, Mr. Sinai', 'Petranec, Miss. Matilda', 'Petroff, Mr. Pastcho (\"Pentcho\")', 'White, Mr. Richard Frasar', 'Johansson, Mr. Gustaf Joel', 'Gustafsson, Mr. Anders Vilhelm', 'Mionoff, Mr. Stoytcho', 'Salkjelsvik, Miss. Anna Kristine', 'Moss, Mr. Albert Johan', 'Rekic, Mr. Tido', 'Moran, Miss. Bertha', 'Porter, Mr. Walter Chamberlain', 'Zabour, Miss. Hileni', 'Barton, Mr. David John', 'Jussila, Miss. Katriina', 'Attalah, Miss. Malake', 'Pekoniemi, Mr. Edvard', 'Connors, Mr. Patrick', 'Turpin, Mr. William John Robert', 'Baxter, Mr. Quigg Edmond', 'Andersson, Miss. Ellis Anna Maria', 'Hickman, Mr. Stanley George', 'Moore, Mr. Leonard Charles', 'Nasser, Mr. Nicholas', 'Webber, Miss. Susan', 'White, Mr. Percival Wayland', 'Nicola-Yarred, Master. Elias', 'McMahon, Mr. Martin', 'Madsen, Mr. Fridtjof Arne', 'Peter, Miss. Anna', 'Ekstrom, Mr. Johan', 'Drazenoic, Mr. Jozef', 'Coelho, Mr. Domingos Fernandeo', 'Robins, Mrs. Alexander A (Grace Charity Laury)', 'Weisz, Mrs. Leopold (Mathilde Francoise Pede)', 'Sobey, Mr. Samuel James Hayden', 'Richard, Mr. Emile', 'Newsom, Miss. Helen Monypeny', 'Futrelle, Mr. Jacques Heath', 'Osen, Mr. Olaf Elon', 'Giglio, Mr. Victor', 'Boulos, Mrs. Joseph (Sultana)', 'Nysten, Miss. Anna Sofia', 'Hakkarainen, Mrs. Pekka Pietari (Elin Matilda Dolck)', 'Burke, Mr. Jeremiah', 'Andrew, Mr. Edgardo Samuel', 'Nicholls, Mr. Joseph Charles', 'Andersson, Mr. August Edvard (\"Wennerstrom\")', 'Ford, Miss. Robina Maggie \"Ruby\"', 'Navratil, Mr. Michel (\"Louis M Hoffman\")', 'Byles, Rev. Thomas Roussel Davids', 'Bateman, Rev. Robert James', 'Pears, Mrs. Thomas (Edith Wearne)', 'Meo, Mr. Alfonzo', 'van Billiard, Mr. Austin Blyler', 'Olsen, Mr. Ole Martin', 'Williams, Mr. Charles Duane', 'Gilnagh, Miss. Katherine \"Katie\"', 'Corn, Mr. Harry', 'Smiljanic, Mr. Mile', 'Sage, Master. Thomas Henry', 'Cribb, Mr. John Hatfield', 'Watt, Mrs. James (Elizabeth \"Bessie\" Inglis Milne)', 'Bengtsson, Mr. John Viktor', 'Calic, Mr. Jovo', 'Panula, Master. Eino Viljami', 'Goldsmith, Master. Frank John William \"Frankie\"', 'Chibnall, Mrs. (Edith Martha Bowerman)', 'Skoog, Mrs. William (Anna Bernhardina Karlsson)', 'Baumann, Mr. John D', 'Ling, Mr. Lee', 'Van der hoef, Mr. Wyckoff', 'Rice, Master. Arthur', 'Johnson, Miss. Eleanor Ileen', 'Sivola, Mr. Antti Wilhelm', 'Smith, Mr. James Clinch', 'Klasen, Mr. Klas Albin', 'Lefebre, Master. Henry Forbes', 'Isham, Miss. Ann Elizabeth', 'Hale, Mr. Reginald', 'Leonard, Mr. Lionel', 'Sage, Miss. Constance Gladys', 'Pernot, Mr. Rene', 'Asplund, Master. Clarence Gustaf Hugo', 'Becker, Master. Richard F', 'Kink-Heilmann, Miss. Luise Gretchen', 'Rood, Mr. Hugh Roscoe', 'O\\'Brien, Mrs. Thomas (Johanna \"Hannah\" Godfrey)', 'Romaine, Mr. Charles Hallace (\"Mr C Rolmane\")', 'Bourke, Mr. John', 'Turcin, Mr. Stjepan', 'Pinsky, Mrs. (Rosa)', 'Carbines, Mr. William', 'Andersen-Jensen, Miss. Carla Christine Nielsine', 'Navratil, Master. Michel M', 'Brown, Mrs. James Joseph (Margaret Tobin)', 'Lurette, Miss. Elise', 'Mernagh, Mr. Robert', 'Olsen, Mr. Karl Siegwart Andreas', 'Madigan, Miss. Margaret \"Maggie\"', 'Yrois, Miss. Henriette (\"Mrs Harbeck\")', 'Vande Walle, Mr. Nestor Cyriel', 'Sage, Mr. Frederick', 'Johanson, Mr. Jakob Alfred', 'Youseff, Mr. Gerious', 'Cohen, Mr. Gurshon \"Gus\"', 'Strom, Miss. Telma Matilda', 'Backstrom, Mr. Karl Alfred', 'Albimona, Mr. Nassef Cassem', 'Carr, Miss. Helen \"Ellen\"', 'Blank, Mr. Henry', 'Ali, Mr. Ahmed', 'Cameron, Miss. Clear Annie', 'Perkin, Mr. John Henry', 'Givard, Mr. Hans Kristensen', 'Kiernan, Mr. Philip', 'Newell, Miss. Madeleine', 'Honkanen, Miss. Eliina', 'Jacobsohn, Mr. Sidney Samuel', 'Bazzani, Miss. Albina', 'Harris, Mr. Walter', 'Sunderland, Mr. Victor Francis', 'Bracken, Mr. James H', 'Green, Mr. George Henry', 'Nenkoff, Mr. Christo', 'Hoyt, Mr. Frederick Maxfield', 'Berglund, Mr. Karl Ivar Sven', 'Mellors, Mr. William John', 'Lovell, Mr. John Hall (\"Henry\")', 'Fahlstrom, Mr. Arne Jonas', 'Lefebre, Miss. Mathilde', 'Harris, Mrs. Henry Birkhardt (Irene Wallach)', 'Larsson, Mr. Bengt Edvin', 'Sjostedt, Mr. Ernst Adolf', 'Asplund, Miss. Lillian Gertrud', 'Leyson, Mr. Robert William Norman', 'Harknett, Miss. Alice Phoebe', 'Hold, Mr. Stephen', 'Collyer, Miss. Marjorie \"Lottie\"', 'Pengelly, Mr. Frederick William', 'Hunt, Mr. George Henry', 'Zabour, Miss. Thamine', 'Murphy, Miss. Katherine \"Kate\"', 'Coleridge, Mr. Reginald Charles', 'Maenpaa, Mr. Matti Alexanteri', 'Attalah, Mr. Sleiman', 'Minahan, Dr. William Edward', 'Lindahl, Miss. Agda Thorilda Viktoria', 'Hamalainen, Mrs. William (Anna)', 'Beckwith, Mr. Richard Leonard', 'Carter, Rev. Ernest Courtenay', 'Reed, Mr. James George', 'Strom, Mrs. Wilhelm (Elna Matilda Persson)', 'Stead, Mr. William Thomas', 'Lobb, Mr. William Arthur', 'Rosblom, Mrs. Viktor (Helena Wilhelmina)', 'Touma, Mrs. Darwis (Hanne Youssef Razi)', 'Thorne, Mrs. Gertrude Maybelle', 'Cherry, Miss. Gladys', 'Ward, Miss. Anna', 'Parrish, Mrs. (Lutie Davis)', 'Smith, Mr. Thomas', 'Asplund, Master. Edvin Rojj Felix', 'Taussig, Mr. Emil', 'Harrison, Mr. William', 'Henry, Miss. Delia', 'Reeves, Mr. David', 'Panula, Mr. Ernesti Arvid', 'Persson, Mr. Ernst Ulrik', 'Graham, Mrs. William Thompson (Edith Junkins)', 'Bissette, Miss. Amelia', 'Cairns, Mr. Alexander', 'Tornquist, Mr. William Henry', 'Mellinger, Mrs. (Elizabeth Anne Maidment)', 'Natsch, Mr. Charles H', 'Healy, Miss. Hanora \"Nora\"', 'Andrews, Miss. Kornelia Theodosia', 'Lindblom, Miss. Augusta Charlotta', 'Parkes, Mr. Francis \"Frank\"', 'Rice, Master. Eric', 'Abbott, Mrs. Stanton (Rosa Hunt)', 'Duane, Mr. Frank', 'Olsson, Mr. Nils Johan Goransson', 'de Pelsmaeker, Mr. Alfons', 'Dorking, Mr. Edward Arthur', 'Smith, Mr. Richard William', 'Stankovic, Mr. Ivan', 'de Mulder, Mr. Theodore', 'Naidenoff, Mr. Penko', 'Hosono, Mr. Masabumi', 'Connolly, Miss. Kate', 'Barber, Miss. Ellen \"Nellie\"', 'Bishop, Mrs. Dickinson H (Helen Walton)', 'Levy, Mr. Rene Jacques', 'Haas, Miss. Aloisia', 'Mineff, Mr. Ivan', 'Lewy, Mr. Ervin G', 'Hanna, Mr. Mansour', 'Allison, Miss. Helen Loraine', 'Saalfeld, Mr. Adolphe', 'Baxter, Mrs. James (Helene DeLaudeniere Chaput)', 'Kelly, Miss. Anna Katherine \"Annie Kate\"', 'McCoy, Mr. Bernard', 'Johnson, Mr. William Cahoone Jr', 'Keane, Miss. Nora A', 'Williams, Mr. Howard Hugh \"Harry\"', 'Allison, Master. Hudson Trevor', 'Fleming, Miss. Margaret', 'Penasco y Castellana, Mrs. Victor de Satode (Maria Josefa Perez de Soto y Vallejo)', 'Abelson, Mr. Samuel', 'Francatelli, Miss. Laura Mabel', 'Hays, Miss. Margaret Bechstein', 'Ryerson, Miss. Emily Borie', 'Lahtinen, Mrs. William (Anna Sylfven)', 'Hendekovic, Mr. Ignjac', 'Hart, Mr. Benjamin', 'Nilsson, Miss. Helmina Josefina', 'Kantor, Mrs. Sinai (Miriam Sternin)', 'Moraweck, Dr. Ernest', 'Wick, Miss. Mary Natalie', 'Spedden, Mrs. Frederic Oakley (Margaretta Corning Stone)', 'Dennis, Mr. Samuel', 'Danoff, Mr. Yoto', 'Slayter, Miss. Hilda Mary', 'Caldwell, Mrs. Albert Francis (Sylvia Mae Harbaugh)', 'Sage, Mr. George John Jr', 'Young, Miss. Marie Grice', 'Nysveen, Mr. Johan Hansen', 'Ball, Mrs. (Ada E Hall)', 'Goldsmith, Mrs. Frank John (Emily Alice Brown)', 'Hippach, Miss. Jean Gertrude', 'McCoy, Miss. Agnes', 'Partner, Mr. Austen', 'Graham, Mr. George Edward', 'Vander Planke, Mr. Leo Edmondus', 'Frauenthal, Mrs. Henry William (Clara Heinsheimer)', 'Denkoff, Mr. Mitto', 'Pears, Mr. Thomas Clinton', 'Burns, Miss. Elizabeth Margaret', 'Dahl, Mr. Karl Edwart', 'Blackwell, Mr. Stephen Weart', 'Navratil, Master. Edmond Roger', 'Fortune, Miss. Alice Elizabeth', 'Collander, Mr. Erik Gustaf', 'Sedgwick, Mr. Charles Frederick Waddington', 'Fox, Mr. Stanley Hubert', 'Brown, Miss. Amelia \"Mildred\"', 'Smith, Miss. Marion Elsie', 'Davison, Mrs. Thomas Henry (Mary E Finck)', 'Coutts, Master. William Loch \"William\"', 'Dimic, Mr. Jovan', 'Odahl, Mr. Nils Martin', 'Williams-Lambert, Mr. Fletcher Fellows', 'Elias, Mr. Tannous', 'Arnold-Franchi, Mr. Josef', 'Yousif, Mr. Wazli', 'Vanden Steen, Mr. Leo Peter', 'Bowerman, Miss. Elsie Edith', 'Funk, Miss. Annie Clemmer', 'McGovern, Miss. Mary', 'Mockler, Miss. Helen Mary \"Ellie\"', 'Skoog, Mr. Wilhelm', 'del Carlo, Mr. Sebastiano', 'Barbara, Mrs. (Catherine David)', 'Asim, Mr. Adola', \"O'Brien, Mr. Thomas\", 'Adahl, Mr. Mauritz Nils Martin', 'Warren, Mrs. Frank Manley (Anna Sophia Atkinson)', 'Moussa, Mrs. (Mantoura Boulos)', 'Jermyn, Miss. Annie', 'Aubart, Mme. Leontine Pauline', 'Harder, Mr. George Achilles', 'Wiklund, Mr. Jakob Alfred', 'Beavan, Mr. William Thomas', 'Ringhini, Mr. Sante', 'Palsson, Miss. Stina Viola', 'Meyer, Mrs. Edgar Joseph (Leila Saks)', 'Landergren, Miss. Aurora Adelia', 'Widener, Mr. Harry Elkins', 'Betros, Mr. Tannous', 'Gustafsson, Mr. Karl Gideon', 'Bidois, Miss. Rosalie', 'Nakid, Miss. Maria (\"Mary\")', 'Tikkanen, Mr. Juho', 'Holverson, Mrs. Alexander Oskar (Mary Aline Towner)', 'Plotcharsky, Mr. Vasil', 'Davies, Mr. Charles Henry', 'Goodwin, Master. Sidney Leonard', 'Buss, Miss. Kate', 'Sadlier, Mr. Matthew', 'Lehmann, Miss. Bertha', 'Carter, Mr. William Ernest', 'Jansson, Mr. Carl Olof', 'Gustafsson, Mr. Johan Birger', 'Newell, Miss. Marjorie', 'Sandstrom, Mrs. Hjalmar (Agnes Charlotta Bengtsson)', 'Johansson, Mr. Erik', 'Olsson, Miss. Elina', 'McKane, Mr. Peter David', 'Pain, Dr. Alfred', 'Trout, Mrs. William H (Jessie L)', 'Niskanen, Mr. Juha', 'Adams, Mr. John', 'Jussila, Miss. Mari Aina', 'Hakkarainen, Mr. Pekka Pietari', 'Oreskovic, Miss. Marija', 'Gale, Mr. Shadrach', 'Widegren, Mr. Carl/Charles Peter', 'Richards, Master. William Rowe', 'Birkeland, Mr. Hans Martin Monsen', 'Lefebre, Miss. Ida', 'Sdycoff, Mr. Todor', 'Hart, Mr. Henry', 'Minahan, Miss. Daisy E', 'Cunningham, Mr. Alfred Fleming', 'Sundman, Mr. Johan Julian', 'Meek, Mrs. Thomas (Annie Louise Rowley)', 'Drew, Mrs. James Vivian (Lulu Thorne Christian)', 'Silven, Miss. Lyyli Karoliina', 'Matthews, Mr. William John', 'Van Impe, Miss. Catharina', 'Gheorgheff, Mr. Stanio', 'Charters, Mr. David', 'Zimmerman, Mr. Leo', 'Danbom, Mrs. Ernst Gilbert (Anna Sigrid Maria Brogren)', 'Rosblom, Mr. Viktor Richard', 'Wiseman, Mr. Phillippe', 'Clarke, Mrs. Charles V (Ada Maria Winfield)', 'Phillips, Miss. Kate Florence (\"Mrs Kate Louise Phillips Marshall\")', 'Flynn, Mr. James', 'Pickard, Mr. Berk (Berk Trembisky)', 'Bjornstrom-Steffansson, Mr. Mauritz Hakan', 'Thorneycroft, Mrs. Percival (Florence Kate White)', 'Louch, Mrs. Charles Alexander (Alice Adelaide Slow)', 'Kallio, Mr. Nikolai Erland', 'Silvey, Mr. William Baird', 'Carter, Miss. Lucile Polk', 'Ford, Miss. Doolina Margaret \"Daisy\"', 'Richards, Mrs. Sidney (Emily Hocking)', 'Fortune, Mr. Mark', 'Kvillner, Mr. Johan Henrik Johannesson', 'Hart, Mrs. Benjamin (Esther Ada Bloomfield)', 'Hampe, Mr. Leon', 'Petterson, Mr. Johan Emil', 'Reynaldo, Ms. Encarnacion', 'Johannesen-Bratthammer, Mr. Bernt', 'Dodge, Master. Washington', 'Mellinger, Miss. Madeleine Violet', 'Seward, Mr. Frederic Kimber', 'Baclini, Miss. Marie Catherine', 'Peuchen, Major. Arthur Godfrey', 'West, Mr. Edwy Arthur', 'Hagland, Mr. Ingvald Olai Olsen', 'Foreman, Mr. Benjamin Laventall', 'Goldenberg, Mr. Samuel L', 'Peduzzi, Mr. Joseph', 'Jalsevac, Mr. Ivan', 'Millet, Mr. Francis Davis', 'Kenyon, Mrs. Frederick R (Marion)', 'Toomey, Miss. Ellen', \"O'Connor, Mr. Maurice\", 'Anderson, Mr. Harry', 'Morley, Mr. William', 'Gee, Mr. Arthur H', 'Milling, Mr. Jacob Christian', 'Maisner, Mr. Simon', 'Goncalves, Mr. Manuel Estanslas', 'Campbell, Mr. William', 'Smart, Mr. John Montgomery', 'Scanlan, Mr. James', 'Baclini, Miss. Helene Barbara', 'Keefe, Mr. Arthur', 'Cacic, Mr. Luka', 'West, Mrs. Edwy Arthur (Ada Mary Worth)', 'Jerwan, Mrs. Amin S (Marie Marthe Thuillard)', 'Strandberg, Miss. Ida Sofia', 'Clifford, Mr. George Quincy', 'Renouf, Mr. Peter Henry', 'Braund, Mr. Lewis Richard', 'Karlsson, Mr. Nils August', 'Hirvonen, Miss. Hildur E', 'Goodwin, Master. Harold Victor', 'Frost, Mr. Anthony Wood \"Archie\"', 'Rouse, Mr. Richard Henry', 'Turkula, Mrs. (Hedwig)', 'Bishop, Mr. Dickinson H', 'Lefebre, Miss. Jeannie', 'Hoyt, Mrs. Frederick Maxfield (Jane Anne Forby)', 'Kent, Mr. Edward Austin', 'Somerton, Mr. Francis William', 'Coutts, Master. Eden Leslie \"Neville\"', 'Hagland, Mr. Konrad Mathias Reiersen', 'Windelov, Mr. Einar', 'Molson, Mr. Harry Markland', 'Artagaveytia, Mr. Ramon', 'Stanley, Mr. Edward Roland', 'Yousseff, Mr. Gerious', 'Eustis, Miss. Elizabeth Mussey', 'Shellard, Mr. Frederick William', 'Allison, Mrs. Hudson J C (Bessie Waldo Daniels)', 'Svensson, Mr. Olof', 'Calic, Mr. Petar', 'Canavan, Miss. Mary', \"O'Sullivan, Miss. Bridget Mary\", 'Laitinen, Miss. Kristina Sofia', 'Maioni, Miss. Roberta', 'Penasco y Castellana, Mr. Victor de Satode', 'Quick, Mrs. Frederick Charles (Jane Richards)', 'Bradley, Mr. George (\"George Arthur Brayton\")', 'Olsen, Mr. Henry Margido', 'Lang, Mr. Fang', 'Daly, Mr. Eugene Patrick', 'Webber, Mr. James', 'McGough, Mr. James Robert', 'Rothschild, Mrs. Martin (Elizabeth L. Barrett)', 'Coleff, Mr. Satio', 'Walker, Mr. William Anderson', 'Lemore, Mrs. (Amelia Milley)', 'Ryan, Mr. Patrick', 'Angle, Mrs. William A (Florence \"Mary\" Agnes Hughes)', 'Pavlovic, Mr. Stefo', 'Perreault, Miss. Anne', 'Vovk, Mr. Janko', 'Lahoud, Mr. Sarkis', 'Hippach, Mrs. Louis Albert (Ida Sophia Fischer)', 'Kassem, Mr. Fared', 'Farrell, Mr. James', 'Ridsdale, Miss. Lucy', 'Farthing, Mr. John', 'Salonen, Mr. Johan Werner', 'Hocking, Mr. Richard George', 'Quick, Miss. Phyllis May', 'Toufik, Mr. Nakli', 'Elias, Mr. Joseph Jr', 'Peter, Mrs. Catherine (Catherine Rizk)', 'Cacic, Miss. Marija', 'Hart, Miss. Eva Miriam', 'Butt, Major. Archibald Willingham', 'LeRoy, Miss. Bertha', 'Risien, Mr. Samuel Beard', 'Frolicher, Miss. Hedwig Margaritha', 'Crosby, Miss. Harriet R', 'Andersson, Miss. Ingeborg Constanzia', 'Andersson, Miss. Sigrid Elisabeth', 'Beane, Mr. Edward', 'Douglas, Mr. Walter Donald', 'Nicholson, Mr. Arthur Ernest', 'Beane, Mrs. Edward (Ethel Clarke)', 'Padro y Manent, Mr. Julian', 'Goldsmith, Mr. Frank John', 'Davies, Master. John Morgan Jr', 'Thayer, Mr. John Borland Jr', 'Sharp, Mr. Percival James R', \"O'Brien, Mr. Timothy\", 'Leeni, Mr. Fahim (\"Philip Zenni\")', 'Ohman, Miss. Velin', 'Wright, Mr. George', 'Duff Gordon, Lady. (Lucille Christiana Sutherland) (\"Mrs Morgan\")', 'Robbins, Mr. Victor', 'Taussig, Mrs. Emil (Tillie Mandelbaum)', 'de Messemaeker, Mrs. Guillaume Joseph (Emma)', 'Morrow, Mr. Thomas Rowan', 'Sivic, Mr. Husein', 'Norman, Mr. Robert Douglas', 'Simmons, Mr. John', 'Meanwell, Miss. (Marion Ogden)', 'Davies, Mr. Alfred J', 'Stoytcheff, Mr. Ilia', 'Palsson, Mrs. Nils (Alma Cornelia Berglund)', 'Doharr, Mr. Tannous', 'Jonsson, Mr. Carl', 'Harris, Mr. George', 'Appleton, Mrs. Edward Dale (Charlotte Lamson)', 'Flynn, Mr. John Irwin (\"Irving\")', 'Kelly, Miss. Mary', 'Rush, Mr. Alfred George John', 'Patchett, Mr. George', 'Garside, Miss. Ethel', 'Silvey, Mrs. William Baird (Alice Munger)', 'Caram, Mrs. Joseph (Maria Elias)', 'Jussila, Mr. Eiriik', 'Christy, Miss. Julie Rachel', 'Thayer, Mrs. John Borland (Marian Longstreth Morris)', 'Downton, Mr. William James', 'Ross, Mr. John Hugo', 'Paulner, Mr. Uscher', 'Taussig, Miss. Ruth', 'Jarvis, Mr. John Denzil', 'Frolicher-Stehli, Mr. Maxmillian', 'Gilinski, Mr. Eliezer', 'Murdlin, Mr. Joseph', 'Rintamaki, Mr. Matti', 'Stephenson, Mrs. Walter Bertram (Martha Eustis)', 'Elsbury, Mr. William James', 'Bourke, Miss. Mary', 'Chapman, Mr. John Henry', 'Van Impe, Mr. Jean Baptiste', 'Leitch, Miss. Jessie Wills', 'Johnson, Mr. Alfred', 'Boulos, Mr. Hanna', 'Duff Gordon, Sir. Cosmo Edmund (\"Mr Morgan\")', 'Jacobsohn, Mrs. Sidney Samuel (Amy Frances Christy)', 'Slabenoff, Mr. Petco', 'Harrington, Mr. Charles H', 'Torber, Mr. Ernst William', 'Homer, Mr. Harry (\"Mr E Haven\")', 'Lindell, Mr. Edvard Bengtsson', 'Karaic, Mr. Milan', 'Daniel, Mr. Robert Williams', 'Laroche, Mrs. Joseph (Juliette Marie Louise Lafargue)', 'Shutes, Miss. Elizabeth W', 'Andersson, Mrs. Anders Johan (Alfrida Konstantia Brogren)', 'Jardin, Mr. Jose Neto', 'Murphy, Miss. Margaret Jane', 'Horgan, Mr. John', 'Brocklebank, Mr. William Alfred', 'Herman, Miss. Alice', 'Danbom, Mr. Ernst Gilbert', 'Lobb, Mrs. William Arthur (Cordelia K Stanlick)', 'Becker, Miss. Marion Louise', 'Gavey, Mr. Lawrence', 'Yasbeck, Mr. Antoni', 'Kimball, Mr. Edwin Nelson Jr', 'Nakid, Mr. Sahid', 'Hansen, Mr. Henry Damsgaard', 'Bowen, Mr. David John \"Dai\"', 'Sutton, Mr. Frederick', 'Kirkland, Rev. Charles Leonard', 'Longley, Miss. Gretchen Fiske', 'Bostandyeff, Mr. Guentcho', \"O'Connell, Mr. Patrick D\", 'Barkworth, Mr. Algernon Henry Wilson', 'Lundahl, Mr. Johan Svensson', 'Stahelin-Maeglin, Dr. Max', 'Parr, Mr. William Henry Marsh', 'Skoog, Miss. Mabel', 'Davis, Miss. Mary', 'Leinonen, Mr. Antti Gustaf', 'Collyer, Mr. Harvey', 'Panula, Mrs. Juha (Maria Emilia Ojala)', 'Thorneycroft, Mr. Percival', 'Jensen, Mr. Hans Peder', 'Sagesser, Mlle. Emma', 'Skoog, Miss. Margit Elizabeth', 'Foo, Mr. Choong', 'Baclini, Miss. Eugenie', 'Harper, Mr. Henry Sleeper', 'Cor, Mr. Liudevit', 'Simonius-Blumer, Col. Oberst Alfons', 'Willey, Mr. Edward', 'Stanley, Miss. Amy Zillah Elsie', 'Mitkoff, Mr. Mito', 'Doling, Miss. Elsie', 'Kalvik, Mr. Johannes Halvorsen', 'O\\'Leary, Miss. Hanora \"Norah\"', 'Hegarty, Miss. Hanora \"Nora\"', 'Hickman, Mr. Leonard Mark', 'Radeff, Mr. Alexander', 'Bourke, Mrs. John (Catherine)', 'Eitemiller, Mr. George Floyd', 'Newell, Mr. Arthur Webster', 'Frauenthal, Dr. Henry William', 'Badt, Mr. Mohamed', 'Colley, Mr. Edward Pomeroy', 'Coleff, Mr. Peju', 'Lindqvist, Mr. Eino William', 'Hickman, Mr. Lewis', 'Butler, Mr. Reginald Fenton', 'Rommetvedt, Mr. Knud Paust', 'Cook, Mr. Jacob', 'Taylor, Mrs. Elmer Zebley (Juliet Cummins Wright)', 'Brown, Mrs. Thomas William Solomon (Elizabeth Catherine Ford)', 'Davidson, Mr. Thornton', 'Mitchell, Mr. Henry Michael', 'Wilhelms, Mr. Charles', 'Watson, Mr. Ennis Hastings', 'Edvardsson, Mr. Gustaf Hjalmar', 'Sawyer, Mr. Frederick Charles', 'Turja, Miss. Anna Sofia', 'Goodwin, Mrs. Frederick (Augusta Tyler)', 'Cardeza, Mr. Thomas Drake Martinez', 'Peters, Miss. Katie', 'Hassab, Mr. Hammad', 'Olsvigen, Mr. Thor Anderson', 'Goodwin, Mr. Charles Edward', 'Brown, Mr. Thomas William Solomon', 'Laroche, Mr. Joseph Philippe Lemercier', 'Panula, Mr. Jaako Arnold', 'Dakic, Mr. Branko', 'Fischer, Mr. Eberhard Thelander', 'Madill, Miss. Georgette Alexandra', 'Dick, Mr. Albert Adrian', 'Karun, Miss. Manca', 'Lam, Mr. Ali', 'Saad, Mr. Khalil', 'Weir, Col. John', 'Chapman, Mr. Charles Henry', 'Kelly, Mr. James', 'Mullens, Miss. Katherine \"Katie\"', 'Thayer, Mr. John Borland', 'Humblen, Mr. Adolf Mathias Nicolai Olsen', 'Astor, Mrs. John Jacob (Madeleine Talmadge Force)', 'Silverthorne, Mr. Spencer Victor', 'Barbara, Miss. Saiide', 'Gallagher, Mr. Martin', 'Hansen, Mr. Henrik Juul', 'Morley, Mr. Henry Samuel (\"Mr Henry Marshall\")', 'Kelly, Mrs. Florence \"Fannie\"', 'Calderhead, Mr. Edward Pennington', 'Cleaver, Miss. Alice', 'Moubarek, Master. Halim Gonios (\"William George\")', 'Mayne, Mlle. Berthe Antonine (\"Mrs de Villiers\")', 'Klaber, Mr. Herman', 'Taylor, Mr. Elmer Zebley', 'Larsson, Mr. August Viktor', 'Greenberg, Mr. Samuel', 'Soholt, Mr. Peter Andreas Lauritz Andersen', 'Endres, Miss. Caroline Louise', 'Troutt, Miss. Edwina Celia \"Winnie\"', 'McEvoy, Mr. Michael', 'Johnson, Mr. Malkolm Joackim', 'Harper, Miss. Annie Jessie \"Nina\"', 'Jensen, Mr. Svend Lauritz', 'Gillespie, Mr. William Henry', 'Hodges, Mr. Henry Price', 'Chambers, Mr. Norman Campbell', 'Oreskovic, Mr. Luka', 'Renouf, Mrs. Peter Henry (Lillian Jefferys)', 'Mannion, Miss. Margareth', 'Bryhl, Mr. Kurt Arnold Gottfrid', 'Ilmakangas, Miss. Pieta Sofia', 'Allen, Miss. Elisabeth Walton', 'Hassan, Mr. Houssein G N', 'Knight, Mr. Robert J', 'Berriman, Mr. William John', 'Troupiansky, Mr. Moses Aaron', 'Williams, Mr. Leslie', 'Ford, Mrs. Edward (Margaret Ann Watson)', 'Lesurer, Mr. Gustave J', 'Ivanoff, Mr. Kanio', 'Nankoff, Mr. Minko', 'Hawksford, Mr. Walter James', 'Cavendish, Mr. Tyrell William', 'Ryerson, Miss. Susan Parker \"Suzette\"', 'McNamee, Mr. Neal', 'Stranden, Mr. Juho', 'Crosby, Capt. Edward Gifford', 'Abbott, Mr. Rossmore Edward', 'Sinkkonen, Miss. Anna', 'Marvin, Mr. Daniel Warner', 'Connaghton, Mr. Michael', 'Wells, Miss. Joan', 'Moor, Master. Meier', 'Vande Velde, Mr. Johannes Joseph', 'Jonkoff, Mr. Lalio', 'Herman, Mrs. Samuel (Jane Laver)', 'Hamalainen, Master. Viljo', 'Carlsson, Mr. August Sigfrid', 'Bailey, Mr. Percy Andrew', 'Theobald, Mr. Thomas Leonard', 'Rothes, the Countess. of (Lucy Noel Martha Dyer-Edwards)', 'Garfirth, Mr. John', 'Nirva, Mr. Iisakki Antino Aijo', 'Barah, Mr. Hanna Assi', 'Carter, Mrs. William Ernest (Lucile Polk)', 'Eklund, Mr. Hans Linus', 'Hogeboom, Mrs. John C (Anna Andrews)', 'Brewe, Dr. Arthur Jackson', 'Mangan, Miss. Mary', 'Moran, Mr. Daniel J', 'Gronnestad, Mr. Daniel Danielsen', 'Lievens, Mr. Rene Aime', 'Jensen, Mr. Niels Peder', 'Mack, Mrs. (Mary)', 'Elias, Mr. Dibo', 'Hocking, Mrs. Elizabeth (Eliza Needs)', 'Myhrman, Mr. Pehr Fabian Oliver Malkolm', 'Tobin, Mr. Roger', 'Emanuel, Miss. Virginia Ethel', 'Kilgannon, Mr. Thomas J', 'Robert, Mrs. Edward Scott (Elisabeth Walton McMillan)', 'Ayoub, Miss. Banoura', 'Dick, Mrs. Albert Adrian (Vera Gillespie)', 'Long, Mr. Milton Clyde', 'Johnston, Mr. Andrew G', 'Ali, Mr. William', 'Harmer, Mr. Abraham (David Lishin)', 'Sjoblom, Miss. Anna Sofia', 'Rice, Master. George Hugh', 'Dean, Master. Bertram Vere', 'Guggenheim, Mr. Benjamin', 'Keane, Mr. Andrew \"Andy\"', 'Gaskell, Mr. Alfred', 'Sage, Miss. Stella Anna', 'Hoyt, Mr. William Fisher', 'Dantcheff, Mr. Ristiu', 'Otter, Mr. Richard', 'Leader, Dr. Alice (Farnham)', 'Osman, Mrs. Mara', 'Ibrahim Shawah, Mr. Yousseff', 'Van Impe, Mrs. Jean Baptiste (Rosalie Paula Govaert)', 'Ponesell, Mr. Martin', 'Collyer, Mrs. Harvey (Charlotte Annie Tate)', 'Carter, Master. William Thornton II', 'Thomas, Master. Assad Alexander', 'Hedman, Mr. Oskar Arvid', 'Johansson, Mr. Karl Johan', 'Andrews, Mr. Thomas Jr', 'Pettersson, Miss. Ellen Natalia', 'Meyer, Mr. August', 'Chambers, Mrs. Norman Campbell (Bertha Griggs)', 'Alexander, Mr. William', 'Lester, Mr. James', 'Slemen, Mr. Richard James', 'Andersson, Miss. Ebba Iris Alfrida', 'Tomlin, Mr. Ernest Portage', 'Fry, Mr. Richard', 'Heininen, Miss. Wendla Maria', 'Mallet, Mr. Albert', 'Holm, Mr. John Fredrik Alexander', 'Skoog, Master. Karl Thorsten', 'Hays, Mrs. Charles Melville (Clara Jennings Gregg)', 'Lulic, Mr. Nikola', 'Reuchlin, Jonkheer. John George', 'Moor, Mrs. (Beila)', 'Panula, Master. Urho Abraham', 'Flynn, Mr. John', 'Lam, Mr. Len', 'Mallet, Master. Andre', 'McCormack, Mr. Thomas Joseph', 'Stone, Mrs. George Nelson (Martha Evelyn)', 'Yasbeck, Mrs. Antoni (Selini Alexander)', 'Richards, Master. George Sibley', 'Saad, Mr. Amin', 'Augustsson, Mr. Albert', 'Allum, Mr. Owen George', 'Compton, Miss. Sara Rebecca', 'Pasic, Mr. Jakob', 'Sirota, Mr. Maurice', 'Chip, Mr. Chang', 'Marechal, Mr. Pierre', 'Alhomaki, Mr. Ilmari Rudolf', 'Mudd, Mr. Thomas Charles', 'Serepeca, Miss. Augusta', 'Lemberopolous, Mr. Peter L', 'Culumovic, Mr. Jeso', 'Abbing, Mr. Anthony', 'Sage, Mr. Douglas Bullen', 'Markoff, Mr. Marin', 'Harper, Rev. John', 'Goldenberg, Mrs. Samuel L (Edwiga Grabowska)', 'Andersson, Master. Sigvard Harald Elias', 'Svensson, Mr. Johan', 'Boulos, Miss. Nourelain', 'Lines, Miss. Mary Conover', 'Carter, Mrs. Ernest Courtenay (Lilian Hughes)', 'Aks, Mrs. Sam (Leah Rosen)', 'Wick, Mrs. George Dennick (Mary Hitchcock)', 'Daly, Mr. Peter Denis ', 'Baclini, Mrs. Solomon (Latifa Qurban)', 'Razi, Mr. Raihed', 'Hansen, Mr. Claus Peter', 'Giles, Mr. Frederick Edward', 'Swift, Mrs. Frederick Joel (Margaret Welles Barron)', 'Sage, Miss. Dorothy Edith \"Dolly\"', 'Gill, Mr. John William', 'Bystrom, Mrs. (Karolina)', 'Duran y More, Miss. Asuncion', 'Roebling, Mr. Washington Augustus II', 'van Melkebeke, Mr. Philemon', 'Johnson, Master. Harold Theodor', 'Balkic, Mr. Cerin', 'Beckwith, Mrs. Richard Leonard (Sallie Monypeny)', 'Carlsson, Mr. Frans Olof', 'Vander Cruyssen, Mr. Victor', 'Abelson, Mrs. Samuel (Hannah Wizosky)', 'Najib, Miss. Adele Kiamie \"Jane\"', 'Gustafsson, Mr. Alfred Ossian', 'Petroff, Mr. Nedelio', 'Laleff, Mr. Kristo', 'Potter, Mrs. Thomas Jr (Lily Alexenia Wilson)', 'Shelley, Mrs. William (Imanita Parrish Hall)', 'Markun, Mr. Johann', 'Dahlberg, Miss. Gerda Ulrika', 'Banfield, Mr. Frederick James', 'Sutehall, Mr. Henry Jr', 'Rice, Mrs. William (Margaret Norton)', 'Montvila, Rev. Juozas', 'Graham, Miss. Margaret Edith', 'Johnston, Miss. Catherine Helen \"Carrie\"', 'Behr, Mr. Karl Howell', 'Dooley, Mr. Patrick'], ['male', 'female', 'female', 'female', 'male', 'male', 'male', 'male', 'female', 'female', 'female', 'female', 'male', 'male', 'female', 'female', 'male', 'male', 'female', 'female', 'male', 'male', 'female', 'male', 'female', 'female', 'male', 'male', 'female', 'male', 'male', 'female', 'female', 'male', 'male', 'male', 'male', 'male', 'female', 'female', 'female', 'female', 'male', 'female', 'female', 'male', 'male', 'female', 'male', 'female', 'male', 'male', 'female', 'female', 'male', 'male', 'female', 'male', 'female', 'male', 'male', 'female', 'male', 'male', 'male', 'male', 'female', 'male', 'female', 'male', 'male', 'female', 'male', 'male', 'male', 'male', 'male', 'male', 'male', 'female', 'male', 'male', 'female', 'male', 'female', 'female', 'male', 'male', 'female', 'male', 'male', 'male', 'male', 'male', 'male', 'male', 'male', 'male', 'female', 'male', 'female', 'male', 'male', 'male', 'male', 'male', 'female', 'male', 'male', 'female', 'male', 'female', 'male', 'female', 'female', 'male', 'male', 'male', 'male', 'female', 'male', 'male', 'male', 'female', 'male', 'male', 'male', 'male', 'female', 'male', 'male', 'male', 'female', 'female', 'male', 'male', 'female', 'male', 'male', 'male', 'female', 'female', 'female', 'male', 'male', 'male', 'male', 'female', 'male', 'male', 'male', 'female', 'male', 'male', 'male', 'male', 'female', 'male', 'male', 'male', 'male', 'female', 'male', 'male', 'male', 'male', 'female', 'female', 'male', 'male', 'male', 'male', 'female', 'male', 'male', 'male', 'male', 'female', 'male', 'male', 'female', 'male', 'male', 'male', 'female', 'male', 'female', 'male', 'male', 'male', 'female', 'male', 'female', 'male', 'female', 'female', 'male', 'male', 'female', 'female', 'male', 'male', 'male', 'male', 'male', 'female', 'male', 'male', 'female', 'male', 'male', 'female', 'male', 'male', 'male', 'female', 'female', 'male', 'female', 'male', 'male', 'male', 'male', 'male', 'male', 'male', 'male', 'male', 'male', 'female', 'female', 'male', 'male', 'female', 'male', 'female', 'male', 'female', 'male', 'male', 'female', 'female', 'male', 'male', 'male', 'male', 'female', 'female', 'male', 'male', 'male', 'female', 'male', 'male', 'female', 'female', 'female', 'female', 'female', 'female', 'male', 'male', 'male', 'male', 'female', 'male', 'male', 'male', 'female', 'female', 'male', 'male', 'female', 'male', 'female', 'female', 'female', 'male', 'male', 'female', 'male', 'male', 'male', 'male', 'male', 'male', 'male', 'male', 'male', 'female', 'female', 'female', 'male', 'female', 'male', 'male', 'male', 'female', 'male', 'female', 'female', 'male', 'male', 'female', 'male', 'male', 'female', 'female', 'male', 'female', 'female', 'female', 'female', 'male', 'male', 'female', 'female', 'male', 'female', 'female', 'male', 'male', 'female', 'female', 'male', 'female', 'male', 'female', 'female', 'female', 'female', 'male', 'male', 'male', 'female', 'male', 'male', 'female', 'male', 'male', 'male', 'female', 'male', 'male', 'male', 'female', 'female', 'female', 'male', 'male', 'male', 'male', 'male', 'male', 'male', 'male', 'female', 'female', 'female', 'female', 'male', 'male', 'female', 'male', 'male', 'male', 'female', 'female', 'female', 'female', 'male', 'male', 'male', 'male', 'female', 'female', 'female', 'male', 'male', 'male', 'female', 'female', 'male', 'female', 'male', 'male', 'male', 'female', 'male', 'female', 'male', 'male', 'male', 'female', 'female', 'male', 'female', 'male', 'male', 'female', 'male', 'male', 'female', 'male', 'female', 'male', 'male', 'male', 'male', 'female', 'male', 'male', 'female', 'male', 'male', 'female', 'female', 'female', 'male', 'female', 'male', 'male', 'male', 'female', 'male', 'male', 'female', 'female', 'male', 'male', 'male', 'female', 'female', 'male', 'male', 'female', 'female', 'female', 'male', 'male', 'female', 'male', 'male', 'female', 'male', 'male', 'female', 'male', 'female', 'male', 'male', 'male', 'male', 'male', 'male', 'male', 'male', 'female', 'female', 'male', 'male', 'male', 'male', 'male', 'male', 'male', 'male', 'male', 'male', 'female', 'male', 'male', 'female', 'female', 'female', 'male', 'male', 'male', 'male', 'female', 'male', 'male', 'male', 'female', 'male', 'female', 'female', 'male', 'male', 'male', 'male', 'male', 'male', 'male', 'male', 'male', 'female', 'male', 'female', 'male', 'male', 'female', 'female', 'female', 'female', 'male', 'female', 'male', 'male', 'male', 'male', 'male', 'male', 'female', 'male', 'male', 'female', 'male', 'female', 'male', 'female', 'male', 'male', 'female', 'male', 'male', 'female', 'male', 'male', 'male', 'female', 'male', 'male', 'female', 'female', 'female', 'male', 'female', 'male', 'female', 'female', 'female', 'female', 'male', 'male', 'male', 'female', 'male', 'male', 'male', 'male', 'male', 'male', 'male', 'female', 'male', 'female', 'male', 'female', 'female', 'male', 'male', 'male', 'male', 'female', 'male', 'male', 'female', 'male', 'male', 'male', 'female', 'male', 'female', 'male', 'male', 'female', 'female', 'female', 'male', 'female', 'female', 'male', 'male', 'male', 'female', 'male', 'male', 'male', 'male', 'male', 'female', 'male', 'female', 'male', 'male', 'female', 'male', 'male', 'male', 'female', 'male', 'male', 'male', 'male', 'male', 'male', 'male', 'female', 'female', 'female', 'male', 'female', 'male', 'male', 'female', 'male', 'female', 'female', 'male', 'male', 'male', 'male', 'male', 'male', 'male', 'male', 'female', 'male', 'male', 'male', 'male', 'male', 'male', 'female', 'female', 'male', 'male', 'female', 'male', 'male', 'female', 'female', 'male', 'female', 'male', 'male', 'male', 'male', 'female', 'male', 'female', 'male', 'female', 'female', 'male', 'male', 'female', 'male', 'male', 'male', 'male', 'male', 'male', 'male', 'male', 'male', 'male', 'male', 'female', 'female', 'male', 'male', 'male', 'male', 'male', 'male', 'female', 'female', 'male', 'female', 'male', 'male', 'male', 'male', 'male', 'male', 'male', 'male', 'female', 'male', 'female', 'male', 'male', 'male', 'male', 'male', 'female', 'male', 'male', 'female', 'male', 'female', 'male', 'male', 'male', 'female', 'male', 'female', 'male', 'female', 'male', 'male', 'male', 'male', 'male', 'female', 'female', 'male', 'male', 'female', 'male', 'male', 'male', 'male', 'male', 'female', 'female', 'male', 'female', 'female', 'male', 'male', 'male', 'male', 'male', 'female', 'male', 'male', 'male', 'male', 'male', 'female', 'male', 'male', 'male', 'male', 'female', 'male', 'male', 'female', 'male', 'male', 'male', 'female', 'male', 'male', 'male', 'male', 'female', 'male', 'male', 'male', 'female', 'male', 'female', 'male', 'female', 'male', 'male', 'male', 'male', 'female', 'male', 'female', 'male', 'male', 'female', 'male', 'female', 'female', 'female', 'male', 'male', 'male', 'male', 'female', 'male', 'male', 'male', 'male', 'male', 'female', 'male', 'male', 'male', 'female', 'female', 'male', 'female', 'male', 'female', 'male', 'male', 'male', 'male', 'male', 'female', 'male', 'female', 'male', 'male', 'male', 'female', 'male', 'male', 'female', 'male', 'male', 'male', 'female', 'male', 'male', 'female', 'male', 'male', 'male', 'male', 'male', 'female', 'female', 'male', 'male', 'male', 'male', 'female', 'male', 'male', 'male', 'male', 'male', 'male', 'female', 'male', 'male', 'male', 'male', 'male', 'male', 'female', 'male', 'male', 'female', 'female', 'female', 'female', 'female', 'male', 'female', 'male', 'male', 'male', 'female', 'female', 'male', 'female', 'female', 'male', 'male', 'male', 'male', 'female', 'male', 'male', 'female', 'female', 'male', 'male', 'male', 'female', 'female', 'male', 'female', 'male', 'male', 'female', 'male', 'female', 'female', 'male', 'male'], [22.0, 38.0, 26.0, 35.0, 35.0, nan, 54.0, 2.0, 27.0, 14.0, 4.0, 58.0, 20.0, 39.0, 14.0, 55.0, 2.0, nan, 31.0, nan, 35.0, 34.0, 15.0, 28.0, 8.0, 38.0, nan, 19.0, nan, nan, 40.0, nan, nan, 66.0, 28.0, 42.0, nan, 21.0, 18.0, 14.0, 40.0, 27.0, nan, 3.0, 19.0, nan, nan, nan, nan, 18.0, 7.0, 21.0, 49.0, 29.0, 65.0, nan, 21.0, 28.5, 5.0, 11.0, 22.0, 38.0, 45.0, 4.0, nan, nan, 29.0, 19.0, 17.0, 26.0, 32.0, 16.0, 21.0, 26.0, 32.0, 25.0, nan, nan, 0.83, 30.0, 22.0, 29.0, nan, 28.0, 17.0, 33.0, 16.0, nan, 23.0, 24.0, 29.0, 20.0, 46.0, 26.0, 59.0, nan, 71.0, 23.0, 34.0, 34.0, 28.0, nan, 21.0, 33.0, 37.0, 28.0, 21.0, nan, 38.0, nan, 47.0, 14.5, 22.0, 20.0, 17.0, 21.0, 70.5, 29.0, 24.0, 2.0, 21.0, nan, 32.5, 32.5, 54.0, 12.0, nan, 24.0, nan, 45.0, 33.0, 20.0, 47.0, 29.0, 25.0, 23.0, 19.0, 37.0, 16.0, 24.0, nan, 22.0, 24.0, 19.0, 18.0, 19.0, 27.0, 9.0, 36.5, 42.0, 51.0, 22.0, 55.5, 40.5, nan, 51.0, 16.0, 30.0, nan, nan, 44.0, 40.0, 26.0, 17.0, 1.0, 9.0, nan, 45.0, nan, 28.0, 61.0, 4.0, 1.0, 21.0, 56.0, 18.0, nan, 50.0, 30.0, 36.0, nan, nan, 9.0, 1.0, 4.0, nan, nan, 45.0, 40.0, 36.0, 32.0, 19.0, 19.0, 3.0, 44.0, 58.0, nan, 42.0, nan, 24.0, 28.0, nan, 34.0, 45.5, 18.0, 2.0, 32.0, 26.0, 16.0, 40.0, 24.0, 35.0, 22.0, 30.0, nan, 31.0, 27.0, 42.0, 32.0, 30.0, 16.0, 27.0, 51.0, nan, 38.0, 22.0, 19.0, 20.5, 18.0, nan, 35.0, 29.0, 59.0, 5.0, 24.0, nan, 44.0, 8.0, 19.0, 33.0, nan, nan, 29.0, 22.0, 30.0, 44.0, 25.0, 24.0, 37.0, 54.0, nan, 29.0, 62.0, 30.0, 41.0, 29.0, nan, 30.0, 35.0, 50.0, nan, 3.0, 52.0, 40.0, nan, 36.0, 16.0, 25.0, 58.0, 35.0, nan, 25.0, 41.0, 37.0, nan, 63.0, 45.0, nan, 7.0, 35.0, 65.0, 28.0, 16.0, 19.0, nan, 33.0, 30.0, 22.0, 42.0, 22.0, 26.0, 19.0, 36.0, 24.0, 24.0, nan, 23.5, 2.0, nan, 50.0, nan, nan, 19.0, nan, nan, 0.92, nan, 17.0, 30.0, 30.0, 24.0, 18.0, 26.0, 28.0, 43.0, 26.0, 24.0, 54.0, 31.0, 40.0, 22.0, 27.0, 30.0, 22.0, nan, 36.0, 61.0, 36.0, 31.0, 16.0, nan, 45.5, 38.0, 16.0, nan, nan, 29.0, 41.0, 45.0, 45.0, 2.0, 24.0, 28.0, 25.0, 36.0, 24.0, 40.0, nan, 3.0, 42.0, 23.0, nan, 15.0, 25.0, nan, 28.0, 22.0, 38.0, nan, nan, 40.0, 29.0, 45.0, 35.0, nan, 30.0, 60.0, nan, nan, 24.0, 25.0, 18.0, 19.0, 22.0, 3.0, nan, 22.0, 27.0, 20.0, 19.0, 42.0, 1.0, 32.0, 35.0, nan, 18.0, 1.0, 36.0, nan, 17.0, 36.0, 21.0, 28.0, 23.0, 24.0, 22.0, 31.0, 46.0, 23.0, 28.0, 39.0, 26.0, 21.0, 28.0, 20.0, 34.0, 51.0, 3.0, 21.0, nan, nan, nan, 33.0, nan, 44.0, nan, 34.0, 18.0, 30.0, 10.0, nan, 21.0, 29.0, 28.0, 18.0, nan, 28.0, 19.0, nan, 32.0, 28.0, nan, 42.0, 17.0, 50.0, 14.0, 21.0, 24.0, 64.0, 31.0, 45.0, 20.0, 25.0, 28.0, nan, 4.0, 13.0, 34.0, 5.0, 52.0, 36.0, nan, 30.0, 49.0, nan, 29.0, 65.0, nan, 50.0, nan, 48.0, 34.0, 47.0, 48.0, nan, 38.0, nan, 56.0, nan, 0.75, nan, 38.0, 33.0, 23.0, 22.0, nan, 34.0, 29.0, 22.0, 2.0, 9.0, nan, 50.0, 63.0, 25.0, nan, 35.0, 58.0, 30.0, 9.0, nan, 21.0, 55.0, 71.0, 21.0, nan, 54.0, nan, 25.0, 24.0, 17.0, 21.0, nan, 37.0, 16.0, 18.0, 33.0, nan, 28.0, 26.0, 29.0, nan, 36.0, 54.0, 24.0, 47.0, 34.0, nan, 36.0, 32.0, 30.0, 22.0, nan, 44.0, nan, 40.5, 50.0, nan, 39.0, 23.0, 2.0, nan, 17.0, nan, 30.0, 7.0, 45.0, 30.0, nan, 22.0, 36.0, 9.0, 11.0, 32.0, 50.0, 64.0, 19.0, nan, 33.0, 8.0, 17.0, 27.0, nan, 22.0, 22.0, 62.0, 48.0, nan, 39.0, 36.0, nan, 40.0, 28.0, nan, nan, 24.0, 19.0, 29.0, nan, 32.0, 62.0, 53.0, 36.0, nan, 16.0, 19.0, 34.0, 39.0, nan, 32.0, 25.0, 39.0, 54.0, 36.0, nan, 18.0, 47.0, 60.0, 22.0, nan, 35.0, 52.0, 47.0, nan, 37.0, 36.0, nan, 49.0, nan, 49.0, 24.0, nan, nan, 44.0, 35.0, 36.0, 30.0, 27.0, 22.0, 40.0, 39.0, nan, nan, nan, 35.0, 24.0, 34.0, 26.0, 4.0, 26.0, 27.0, 42.0, 20.0, 21.0, 21.0, 61.0, 57.0, 21.0, 26.0, nan, 80.0, 51.0, 32.0, nan, 9.0, 28.0, 32.0, 31.0, 41.0, nan, 20.0, 24.0, 2.0, nan, 0.75, 48.0, 19.0, 56.0, nan, 23.0, nan, 18.0, 21.0, nan, 18.0, 24.0, nan, 32.0, 23.0, 58.0, 50.0, 40.0, 47.0, 36.0, 20.0, 32.0, 25.0, nan, 43.0, nan, 40.0, 31.0, 70.0, 31.0, nan, 18.0, 24.5, 18.0, 43.0, 36.0, nan, 27.0, 20.0, 14.0, 60.0, 25.0, 14.0, 19.0, 18.0, 15.0, 31.0, 4.0, nan, 25.0, 60.0, 52.0, 44.0, nan, 49.0, 42.0, 18.0, 35.0, 18.0, 25.0, 26.0, 39.0, 45.0, 42.0, 22.0, nan, 24.0, nan, 48.0, 29.0, 52.0, 19.0, 38.0, 27.0, nan, 33.0, 6.0, 17.0, 34.0, 50.0, 27.0, 20.0, 30.0, nan, 25.0, 25.0, 29.0, 11.0, nan, 23.0, 23.0, 28.5, 48.0, 35.0, nan, nan, nan, 36.0, 21.0, 24.0, 31.0, 70.0, 16.0, 30.0, 19.0, 31.0, 4.0, 6.0, 33.0, 23.0, 48.0, 0.67, 28.0, 18.0, 34.0, 33.0, nan, 41.0, 20.0, 36.0, 16.0, 51.0, nan, 30.5, nan, 32.0, 24.0, 48.0, 57.0, nan, 54.0, 18.0, nan, 5.0, nan, 43.0, 13.0, 17.0, 29.0, nan, 25.0, 25.0, 18.0, 8.0, 1.0, 46.0, nan, 16.0, nan, nan, 25.0, 39.0, 49.0, 31.0, 30.0, 30.0, 34.0, 31.0, 11.0, 0.42, 27.0, 31.0, 39.0, 18.0, 39.0, 33.0, 26.0, 39.0, 35.0, 6.0, 30.5, nan, 23.0, 31.0, 43.0, 10.0, 52.0, 27.0, 38.0, 27.0, 2.0, nan, nan, 1.0, nan, 62.0, 15.0, 0.83, nan, 23.0, 18.0, 39.0, 21.0, nan, 32.0, nan, 20.0, 16.0, 30.0, 34.5, 17.0, 42.0, nan, 35.0, 28.0, nan, 4.0, 74.0, 9.0, 16.0, 44.0, 18.0, 45.0, 51.0, 24.0, nan, 41.0, 21.0, 48.0, nan, 24.0, 42.0, 27.0, 31.0, nan, 4.0, 26.0, 47.0, 33.0, 47.0, 28.0, 15.0, 20.0, 19.0, nan, 56.0, 25.0, 33.0, 22.0, 28.0, 25.0, 39.0, 27.0, 19.0, nan, 26.0, 32.0], [1, 1, 0, 1, 0, 0, 0, 3, 0, 1, 1, 0, 0, 1, 0, 0, 4, 0, 1, 0, 0, 0, 0, 0, 3, 1, 0, 3, 0, 0, 0, 1, 0, 0, 1, 1, 0, 0, 2, 1, 1, 1, 0, 1, 0, 0, 1, 0, 2, 1, 4, 0, 1, 1, 0, 0, 0, 0, 1, 5, 0, 0, 1, 3, 0, 1, 0, 0, 4, 2, 0, 5, 0, 1, 0, 0, 0, 0, 0, 0, 0, 0, 0, 0, 0, 3, 1, 0, 3, 0, 0, 0, 1, 1, 0, 0, 0, 0, 0, 1, 0, 0, 0, 0, 2, 0, 0, 0, 0, 1, 0, 1, 0, 1, 0, 0, 0, 1, 0, 4, 2, 0, 1, 0, 0, 1, 0, 0, 1, 0, 0, 0, 1, 1, 0, 0, 0, 1, 0, 0, 0, 0, 1, 0, 0, 1, 0, 2, 0, 0, 0, 1, 0, 0, 0, 0, 0, 0, 0, 8, 0, 0, 0, 0, 4, 0, 0, 1, 0, 0, 0, 4, 1, 0, 0, 1, 3, 0, 0, 0, 8, 0, 4, 2, 0, 0, 1, 0, 1, 0, 0, 0, 1, 1, 0, 0, 0, 0, 0, 0, 0, 8, 0, 0, 0, 0, 1, 0, 0, 0, 0, 0, 0, 0, 1, 1, 0, 1, 0, 0, 0, 0, 0, 0, 1, 0, 0, 0, 0, 3, 1, 0, 0, 4, 0, 0, 1, 0, 0, 0, 1, 1, 0, 0, 0, 2, 0, 0, 1, 1, 0, 1, 0, 1, 0, 0, 0, 0, 0, 0, 0, 4, 1, 0, 0, 0, 4, 1, 0, 0, 0, 0, 0, 0, 0, 1, 0, 0, 4, 1, 0, 0, 0, 0, 0, 0, 0, 0, 0, 0, 0, 1, 0, 0, 0, 0, 0, 1, 0, 0, 0, 2, 0, 0, 0, 1, 0, 1, 1, 0, 0, 2, 1, 0, 1, 0, 1, 0, 0, 1, 0, 0, 0, 1, 8, 0, 0, 0, 1, 0, 2, 0, 0, 2, 1, 0, 1, 0, 0, 0, 1, 3, 0, 0, 0, 0, 0, 1, 1, 0, 0, 0, 1, 1, 0, 0, 0, 0, 0, 0, 1, 1, 0, 0, 1, 0, 1, 0, 0, 0, 1, 1, 0, 0, 3, 1, 0, 0, 0, 0, 0, 0, 0, 1, 0, 0, 5, 0, 0, 0, 1, 0, 2, 1, 0, 0, 0, 0, 0, 0, 0, 0, 1, 1, 0, 1, 0, 1, 0, 3, 0, 0, 1, 0, 0, 0, 1, 0, 0, 0, 0, 0, 0, 1, 1, 0, 1, 0, 0, 0, 0, 1, 1, 0, 1, 1, 2, 2, 1, 0, 1, 0, 1, 0, 0, 0, 0, 0, 2, 0, 1, 1, 0, 1, 0, 0, 0, 1, 0, 0, 0, 0, 0, 0, 0, 0, 0, 0, 0, 2, 0, 0, 1, 0, 0, 0, 1, 1, 0, 0, 5, 0, 0, 0, 1, 3, 1, 0, 0, 1, 1, 0, 0, 0, 0, 0, 1, 0, 1, 0, 0, 0, 0, 0, 0, 1, 0, 0, 0, 0, 0, 0, 0, 1, 0, 0, 0, 0, 1, 0, 0, 0, 0, 0, 0, 0, 0, 0, 0, 2, 1, 0, 1, 0, 0, 0, 0, 0, 0, 0, 0, 4, 4, 1, 1, 0, 1, 0, 1, 1, 0, 0, 0, 0, 0, 0, 1, 0, 1, 1, 0, 0, 0, 0, 0, 2, 0, 0, 0, 0, 0, 2, 0, 0, 0, 0, 0, 1, 1, 0, 1, 1, 0, 0, 0, 0, 0, 1, 0, 0, 0, 1, 0, 0, 1, 1, 0, 0, 0, 1, 2, 0, 0, 0, 0, 1, 0, 0, 1, 0, 1, 0, 1, 0, 0, 1, 1, 1, 2, 0, 1, 1, 1, 0, 0, 0, 0, 0, 0, 0, 0, 0, 0, 0, 3, 0, 0, 1, 0, 1, 0, 0, 3, 0, 2, 1, 0, 0, 0, 0, 0, 0, 0, 0, 0, 2, 0, 1, 0, 0, 2, 0, 0, 0, 1, 2, 0, 0, 0, 1, 1, 1, 0, 0, 0, 0, 0, 0, 1, 0, 0, 0, 0, 5, 1, 1, 4, 0, 0, 0, 1, 0, 0, 0, 0, 0, 0, 0, 1, 0, 1, 0, 0, 0, 1, 0, 0, 0, 0, 1, 0, 0, 1, 0, 0, 0, 0, 0, 0, 0, 0, 1, 0, 0, 1, 0, 3, 0, 1, 1, 0, 0, 0, 0, 0, 0, 1, 0, 0, 0, 0, 1, 2, 1, 0, 1, 1, 0, 1, 0, 1, 0, 0, 0, 1, 1, 0, 0, 0, 0, 0, 0, 0, 1, 0, 1, 0, 0, 1, 0, 0, 0, 0, 0, 1, 0, 0, 0, 0, 0, 0, 1, 0, 1, 0, 0, 0, 4, 1, 0, 0, 0, 8, 0, 0, 0, 0, 0, 0, 1, 0, 1, 1, 0, 0, 0, 0, 0, 0, 1, 0, 0, 0, 4, 0, 0, 0, 1, 0, 3, 1, 0, 0, 0, 4, 0, 0, 0, 0, 0, 1, 1, 0, 0, 0, 1, 0, 0, 0, 0, 0, 0, 0, 0, 0, 0, 8, 0, 0, 1, 4, 0, 1, 0, 1, 0, 1, 0, 0, 0, 2, 1, 0, 8, 0, 0, 1, 0, 0, 1, 0, 1, 0, 0, 1, 0, 0, 0, 0, 0, 0, 0, 0, 0, 0, 0, 0, 0, 1, 0, 0], [0, 0, 0, 0, 0, 0, 0, 1, 2, 0, 1, 0, 0, 5, 0, 0, 1, 0, 0, 0, 0, 0, 0, 0, 1, 5, 0, 2, 0, 0, 0, 0, 0, 0, 0, 0, 0, 0, 0, 0, 0, 0, 0, 2, 0, 0, 0, 0, 0, 0, 1, 0, 0, 0, 1, 0, 0, 0, 2, 2, 0, 0, 0, 2, 0, 1, 0, 0, 2, 0, 0, 2, 0, 0, 0, 0, 0, 0, 2, 0, 0, 0, 0, 0, 0, 0, 3, 0, 2, 0, 0, 0, 0, 2, 0, 0, 0, 1, 1, 0, 0, 0, 1, 0, 0, 0, 0, 0, 0, 0, 0, 0, 0, 0, 0, 0, 0, 0, 1, 2, 0, 0, 0, 0, 1, 0, 0, 0, 1, 0, 0, 0, 0, 0, 0, 0, 2, 0, 0, 0, 2, 0, 0, 0, 0, 1, 0, 2, 2, 0, 0, 0, 0, 2, 0, 1, 0, 0, 0, 2, 1, 0, 0, 0, 1, 2, 1, 4, 0, 0, 0, 1, 1, 0, 0, 1, 1, 0, 0, 0, 2, 0, 2, 1, 2, 0, 0, 0, 1, 0, 0, 0, 0, 1, 0, 0, 0, 1, 0, 0, 0, 2, 0, 0, 0, 1, 0, 0, 0, 0, 0, 0, 0, 0, 0, 0, 0, 0, 0, 0, 0, 0, 0, 0, 0, 0, 0, 0, 0, 1, 0, 0, 0, 2, 0, 0, 0, 2, 0, 0, 0, 0, 0, 0, 0, 0, 0, 2, 1, 0, 0, 1, 0, 0, 2, 2, 0, 0, 0, 1, 0, 2, 1, 0, 0, 0, 1, 0, 1, 0, 0, 0, 1, 1, 0, 0, 0, 0, 1, 1, 0, 0, 0, 0, 0, 0, 0, 0, 0, 0, 0, 0, 0, 0, 0, 0, 0, 2, 0, 1, 0, 0, 0, 0, 0, 2, 0, 0, 0, 0, 0, 2, 1, 0, 1, 0, 0, 0, 2, 1, 0, 0, 0, 1, 2, 0, 0, 0, 1, 1, 0, 0, 1, 0, 0, 0, 0, 0, 0, 0, 1, 2, 0, 0, 0, 0, 0, 0, 1, 0, 0, 0, 1, 0, 0, 0, 1, 0, 0, 0, 4, 0, 1, 0, 0, 0, 0, 0, 0, 0, 0, 0, 0, 0, 1, 0, 0, 2, 0, 0, 0, 2, 0, 0, 0, 0, 2, 0, 0, 0, 2, 0, 0, 0, 2, 0, 0, 0, 0, 0, 0, 0, 0, 0, 0, 0, 0, 1, 0, 1, 0, 0, 0, 0, 0, 0, 1, 2, 0, 2, 0, 0, 0, 1, 1, 0, 0, 0, 0, 0, 0, 0, 0, 0, 0, 2, 2, 3, 4, 0, 1, 0, 0, 0, 0, 2, 1, 0, 1, 0, 2, 0, 0, 0, 0, 0, 0, 0, 0, 0, 0, 0, 0, 0, 0, 0, 0, 0, 0, 1, 0, 0, 2, 0, 0, 0, 0, 0, 0, 1, 2, 0, 0, 0, 0, 1, 0, 0, 0, 1, 0, 0, 0, 0, 0, 0, 0, 0, 2, 0, 0, 0, 0, 0, 0, 0, 2, 0, 0, 0, 0, 0, 0, 0, 0, 0, 0, 0, 0, 0, 0, 0, 0, 1, 0, 0, 0, 0, 0, 1, 1, 0, 1, 2, 0, 2, 0, 0, 0, 2, 2, 2, 2, 0, 0, 0, 0, 0, 1, 1, 2, 0, 0, 0, 0, 0, 0, 0, 1, 0, 0, 0, 0, 0, 0, 0, 0, 4, 0, 0, 0, 0, 0, 0, 0, 0, 0, 0, 0, 0, 1, 1, 0, 0, 0, 2, 0, 1, 0, 0, 0, 0, 0, 2, 0, 1, 0, 0, 0, 0, 1, 0, 0, 0, 0, 0, 0, 0, 2, 0, 5, 0, 0, 0, 0, 2, 1, 0, 1, 0, 0, 0, 1, 0, 0, 0, 0, 0, 0, 0, 0, 0, 0, 0, 2, 0, 0, 1, 5, 0, 0, 0, 2, 0, 1, 0, 0, 0, 0, 0, 0, 1, 0, 0, 0, 0, 0, 1, 0, 2, 0, 0, 0, 0, 0, 0, 0, 0, 0, 0, 1, 0, 0, 0, 0, 0, 0, 0, 6, 1, 0, 0, 0, 2, 1, 2, 1, 0, 0, 1, 0, 1, 0, 0, 0, 0, 0, 0, 1, 0, 0, 0, 1, 0, 0, 0, 0, 0, 0, 1, 0, 0, 0, 0, 0, 0, 0, 0, 0, 0, 1, 0, 0, 0, 0, 0, 0, 0, 0, 0, 0, 0, 0, 0, 0, 0, 3, 0, 0, 0, 0, 0, 2, 0, 0, 1, 1, 0, 0, 0, 1, 1, 0, 0, 2, 1, 0, 0, 0, 0, 0, 0, 0, 2, 0, 0, 0, 0, 0, 0, 0, 0, 0, 0, 3, 0, 0, 0, 0, 1, 0, 0, 0, 2, 0, 0, 0, 1, 2, 0, 0, 0, 2, 0, 0, 0, 0, 0, 0, 1, 0, 1, 2, 1, 0, 0, 0, 0, 0, 0, 0, 0, 0, 2, 0, 0, 0, 1, 0, 2, 1, 0, 0, 1, 1, 0, 0, 2, 0, 0, 0, 1, 0, 0, 0, 1, 0, 0, 0, 0, 0, 0, 0, 0, 0, 0, 2, 0, 1, 0, 2, 0, 1, 1, 0, 1, 1, 0, 3, 0, 0, 0, 0, 2, 0, 0, 0, 0, 0, 1, 0, 1, 0, 0, 0, 0, 0, 0, 0, 1, 1, 0, 0, 0, 0, 5, 0, 0, 2, 0, 0], ['A/5 21171', 'PC 17599', 'STON/O2. 3101282', '113803', '373450', '330877', '17463', '349909', '347742', '237736', 'PP 9549', '113783', 'A/5. 2151', '347082', '350406', '248706', '382652', '244373', '345763', '2649', '239865', '248698', '330923', '113788', '349909', '347077', '2631', '19950', '330959', '349216', 'PC 17601', 'PC 17569', '335677', 'C.A. 24579', 'PC 17604', '113789', '2677', 'A./5. 2152', '345764', '2651', '7546', '11668', '349253', 'SC/Paris 2123', '330958', 'S.C./A.4. 23567', '370371', '14311', '2662', '349237', '3101295', 'A/4. 39886', 'PC 17572', '2926', '113509', '19947', 'C.A. 31026', '2697', 'C.A. 34651', 'CA 2144', '2669', '113572', '36973', '347088', 'PC 17605', '2661', 'C.A. 29395', 'S.P. 3464', '3101281', '315151', 'C.A. 33111', 'CA 2144', 'S.O.C. 14879', '2680', '1601', '348123', '349208', '374746', '248738', '364516', '345767', '345779', '330932', '113059', 'SO/C 14885', '3101278', 'W./C. 6608', 'SOTON/OQ 392086', '19950', '343275', '343276', '347466', 'W.E.P. 5734', 'C.A. 2315', '364500', '374910', 'PC 17754', 'PC 17759', '231919', '244367', '349245', '349215', '35281', '7540', '3101276', '349207', '343120', '312991', '349249', '371110', '110465', '2665', '324669', '4136', '2627', 'STON/O 2. 3101294', '370369', '11668', 'PC 17558', '347082', 'S.O.C. 14879', 'A4. 54510', '237736', '27267', '35281', '2651', '370372', 'C 17369', '2668', '347061', '349241', 'SOTON/O.Q. 3101307', 'A/5. 3337', '228414', 'C.A. 29178', 'SC/PARIS 2133', '11752', '113803', '7534', 'PC 17593', '2678', '347081', 'STON/O2. 3101279', '365222', '231945', 'C.A. 33112', '350043', 'W./C. 6608', '230080', '244310', 'S.O.P. 1166', '113776', 'A.5. 11206', 'A/5. 851', 'Fa 265302', 'PC 17597', '35851', 'SOTON/OQ 392090', '315037', 'CA. 2343', '371362', 'C.A. 33595', '347068', '315093', '3101295', '363291', '113505', '347088', 'PC 17318', '1601', '111240', '382652', '347742', 'STON/O 2. 3101280', '17764', '350404', '4133', 'PC 17595', '250653', 'LINE', 'CA. 2343', 'SC/PARIS 2131', '347077', '230136', '315153', '113767', '370365', '111428', '364849', '349247', '234604', '28424', '350046', '230080', 'PC 17610', 'PC 17569', '368703', '4579', '370370', '248747', '345770', 'CA. 2343', '3101264', '2628', 'A/5 3540', '347054', '3101278', '2699', '367231', '112277', 'SOTON/O.Q. 3101311', 'F.C.C. 13528', 'A/5 21174', '250646', '367229', '35273', 'STON/O2. 3101283', '243847', '11813', 'W/C 14208', 'SOTON/OQ 392089', '220367', '21440', '349234', '19943', 'PP 4348', 'SW/PP 751', 'A/5 21173', '236171', '4133', '36973', '347067', '237442', '347077', 'C.A. 29566', 'W./C. 6609', '26707', 'C.A. 31921', '28665', 'SCO/W 1585', '2665', '367230', 'W./C. 14263', 'STON/O 2. 3101275', '2694', '19928', '347071', '250649', '11751', '244252', '362316', '347054', '113514', 'A/5. 3336', '370129', '2650', 'PC 17585', '110152', 'PC 17755', '230433', '384461', '347077', '110413', '112059', '382649', 'C.A. 17248', '3101295', '347083', 'PC 17582', 'PC 17760', '113798', 'LINE', '250644', 'PC 17596', '370375', '13502', '347073', '239853', '382652', 'C.A. 2673', '336439', '347464', '345778', 'A/5. 10482', '113056', '349239', '345774', '349206', '237798', '370373', '19877', '11967', 'SC/Paris 2163', '349236', '349233', 'PC 17612', '2693', '113781', '19988', 'PC 17558', '9234', '367226', 'LINE', '226593', 'A/5 2466', '113781', '17421', 'PC 17758', 'P/PP 3381', 'PC 17485', '11767', 'PC 17608', '250651', '349243', 'F.C.C. 13529', '347470', '244367', '29011', '36928', '16966', 'A/5 21172', '349219', '234818', '248738', 'CA. 2343', 'PC 17760', '345364', '28551', '363291', '111361', '367226', '113043', 'PC 17582', '345764', 'PC 17611', '349225', '113776', '16966', '7598', '113784', '230080', '19950', '248740', '244361', '229236', '248733', '31418', '386525', 'C.A. 37671', '315088', '7267', '113510', '2695', '349237', '2647', '345783', '113505', '237671', '330931', '330980', '347088', 'SC/PARIS 2167', '2691', 'SOTON/O.Q. 3101310', '370365', 'C 7076', '110813', '2626', '14313', 'PC 17477', '11765', '3101267', '323951', 'PC 17760', '349909', 'PC 17604', 'C 7077', '113503', '2648', '347069', 'PC 17757', '2653', 'STON/O 2. 3101293', '113789', '349227', 'S.O.C. 14879', 'CA 2144', '27849', '367655', 'SC 1748', '113760', '350034', '3101277', '35273', 'PP 9549', '350052', '350407', '28403', '244278', '240929', 'STON/O 2. 3101289', '341826', '4137', 'STON/O2. 3101279', '315096', '28664', '347064', '29106', '312992', '4133', '349222', '394140', '19928', '239853', 'STON/O 2. 3101269', '343095', '28220', '250652', '28228', '345773', '349254', 'A/5. 13032', '315082', '347080', '370129', 'A/4. 34244', '2003', '250655', '364851', 'SOTON/O.Q. 392078', '110564', '376564', 'SC/AH 3085', 'STON/O 2. 3101274', '13507', '113760', 'W./C. 6608', '29106', '19950', 'C.A. 18723', 'F.C.C. 13529', '345769', '347076', '230434', '65306', '33638', '250644', '113794', '2666', '113786', 'C.A. 34651', '65303', '113051', '17453', 'A/5 2817', '349240', '13509', '17464', 'F.C.C. 13531', '371060', '19952', '364506', '111320', '234360', 'A/S 2816', 'SOTON/O.Q. 3101306', '239853', '113792', '36209', '2666', '323592', '315089', 'C.A. 34651', 'SC/AH Basle 541', '7553', '110465', '31027', '3460', '350060', '3101298', 'CA 2144', '239854', 'A/5 3594', '4134', '11967', '4133', '19943', '11771', 'A.5. 18509', 'C.A. 37671', '65304', 'SOTON/OQ 3101317', '113787', 'PC 17609', 'A/4 45380', '2627', '36947', 'C.A. 6212', '113781', '350035', '315086', '364846', '330909', '4135', '110152', 'PC 17758', '26360', '111427', 'C 4001', '1601', '382651', 'SOTON/OQ 3101316', 'PC 17473', 'PC 17603', '349209', '36967', 'C.A. 34260', '371110', '226875', '349242', '12749', '349252', '2624', '111361', '2700', '367232', 'W./C. 14258', 'PC 17483', '3101296', '29104', '26360', '2641', '2690', '2668', '315084', 'F.C.C. 13529', '113050', 'PC 17761', '364498', '13568', 'WE/P 5735', '347082', '347082', '2908', 'PC 17761', '693', '2908', 'SC/PARIS 2146', '363291', 'C.A. 33112', '17421', '244358', '330979', '2620', '347085', '113807', '11755', 'PC 17757', '110413', '345572', '372622', '349251', '218629', 'SOTON/OQ 392082', 'SOTON/O.Q. 392087', 'A/4 48871', '349205', '349909', '2686', '350417', 'S.W./PP 752', '11769', 'PC 17474', '14312', 'A/4. 20589', '358585', '243880', '13507', '2689', 'STON/O 2. 3101286', '237789', '17421', '28403', '13049', '3411', '110413', '237565', '13567', '14973', 'A./5. 3235', 'STON/O 2. 3101273', '36947', 'A/5 3902', '364848', 'SC/AH 29037', '345773', '248727', 'LINE', '2664', 'PC 17485', '243847', '349214', '113796', '364511', '111426', '349910', '349246', '113804', 'SC/Paris 2123', 'PC 17582', '347082', 'SOTON/O.Q. 3101305', '367230', '370377', '364512', '220845', '347080', 'A/5. 3336', '230136', '31028', '2659', '11753', '2653', '350029', '54636', '36963', '219533', '13502', '349224', '334912', '27042', '347743', '13214', '112052', '347088', '237668', 'STON/O 2. 3101292', 'C.A. 31921', '3101295', '376564', '350050', 'PC 17477', '347088', '1601', '2666', 'PC 17572', '349231', '13213', 'S.O./P.P. 751', 'CA. 2314', '349221', '231919', '8475', '330919', '365226', 'S.O.C. 14879', '349223', '364849', '29751', '35273', 'PC 17611', '2623', '5727', '349210', 'STON/O 2. 3101285', 'S.O.C. 14879', '234686', '312993', 'A/5 3536', '19996', '29750', 'F.C. 12750', 'C.A. 24580', '244270', '239856', '349912', '342826', '4138', 'CA 2144', 'PC 17755', '330935', 'PC 17572', '6563', 'CA 2144', '29750', 'SC/Paris 2123', '3101295', '349228', '350036', '24160', '17474', '349256', '1601', '2672', '113800', '248731', '363592', '35852', '17421', '348121', 'PC 17757', 'PC 17475', '2691', '36864', '350025', '250655', '223596', 'PC 17476', '113781', '2661', 'PC 17482', '113028', '19996', '7545', '250647', '348124', 'PC 17757', '34218', '36568', '347062', '248727', '350048', '12233', '250643', '113806', '315094', '31027', '36866', '236853', 'STON/O2. 3101271', '24160', '2699', '239855', '28425', '233639', '54636', 'W./C. 6608', 'PC 17755', '349201', '349218', '16988', '19877', 'PC 17608', '376566', 'STON/O 2. 3101288', 'WE/P 5735', 'C.A. 2673', '250648', '113773', '335097', '29103', '392096', '345780', '349204', '220845', '250649', '350042', '29108', '363294', '110152', '358585', 'SOTON/O2 3101272', '2663', '113760', '347074', '13502', '112379', '364850', '371110', '8471', '345781', '350047', 'S.O./P.P. 3', '2674', '29105', '347078', '383121', '364516', '36865', '24160', '2687', '17474', '113501', 'W./C. 6607', 'SOTON/O.Q. 3101312', '374887', '3101265', '382652', 'C.A. 2315', 'PC 17593', '12460', '239865', 'CA. 2343', 'PC 17600', '349203', '28213', '17465', '349244', '2685', '345773', '250647', 'C.A. 31921', '113760', '2625', '347089', '347063', '112050', '347087', '248723', '113806', '3474', 'A/4 48871', '28206', '347082', '364499', '112058', 'STON/O2. 3101290', 'S.C./PARIS 2079', 'C 7075', '347088', '12749', '315098', '19972', '392096', '3101295', '368323', '1601', 'S.C./PARIS 2079', '367228', '113572', '2659', '29106', '2671', '347468', '2223', 'PC 17756', '315097', '392092', '1601', '11774', 'SOTON/O2 3101287', 'S.O./P.P. 3', '113798', '2683', '315090', 'C.A. 5547', 'CA. 2343', '349213', '248727', '17453', '347082', '347060', '2678', 'PC 17592', '244252', '392091', '36928', '113055', '2666', '2629', '350026', '28134', '17466', 'CA. 2343', '233866', '236852', 'SC/PARIS 2149', 'PC 17590', '345777', '347742', '349248', '11751', '695', '345765', 'P/PP 3381', '2667', '7534', '349212', '349217', '11767', '230433', '349257', '7552', 'C.A./SOTON 34068', 'SOTON/OQ 392076', '382652', '211536', '112053', 'W./C. 6607', '111369', '370376'], [7.25, 71.2833, 7.925, 53.1, 8.05, 8.4583, 51.8625, 21.075, 11.1333, 30.0708, 16.7, 26.55, 8.05, 31.275, 7.8542, 16.0, 29.125, 13.0, 18.0, 7.225, 26.0, 13.0, 8.0292, 35.5, 21.075, 31.3875, 7.225, 263.0, 7.8792, 7.8958, 27.7208, 146.5208, 7.75, 10.5, 82.1708, 52.0, 7.2292, 8.05, 18.0, 11.2417, 9.475, 21.0, 7.8958, 41.5792, 7.8792, 8.05, 15.5, 7.75, 21.6792, 17.8, 39.6875, 7.8, 76.7292, 26.0, 61.9792, 35.5, 10.5, 7.2292, 27.75, 46.9, 7.2292, 80.0, 83.475, 27.9, 27.7208, 15.2458, 10.5, 8.1583, 7.925, 8.6625, 10.5, 46.9, 73.5, 14.4542, 56.4958, 7.65, 7.8958, 8.05, 29.0, 12.475, 9.0, 9.5, 7.7875, 47.1, 10.5, 15.85, 34.375, 8.05, 263.0, 8.05, 8.05, 7.8542, 61.175, 20.575, 7.25, 8.05, 34.6542, 63.3583, 23.0, 26.0, 7.8958, 7.8958, 77.2875, 8.6542, 7.925, 7.8958, 7.65, 7.775, 7.8958, 24.15, 52.0, 14.4542, 8.05, 9.825, 14.4583, 7.925, 7.75, 21.0, 247.5208, 31.275, 73.5, 8.05, 30.0708, 13.0, 77.2875, 11.2417, 7.75, 7.1417, 22.3583, 6.975, 7.8958, 7.05, 14.5, 26.0, 13.0, 15.0458, 26.2833, 53.1, 9.2167, 79.2, 15.2458, 7.75, 15.85, 6.75, 11.5, 36.75, 7.7958, 34.375, 26.0, 13.0, 12.525, 66.6, 8.05, 14.5, 7.3125, 61.3792, 7.7333, 8.05, 8.6625, 69.55, 16.1, 15.75, 7.775, 8.6625, 39.6875, 20.525, 55.0, 27.9, 25.925, 56.4958, 33.5, 29.125, 11.1333, 7.925, 30.6958, 7.8542, 25.4667, 28.7125, 13.0, 0.0, 69.55, 15.05, 31.3875, 39.0, 22.025, 50.0, 15.5, 26.55, 15.5, 7.8958, 13.0, 13.0, 7.8542, 26.0, 27.7208, 146.5208, 7.75, 8.4042, 7.75, 13.0, 9.5, 69.55, 6.4958, 7.225, 8.05, 10.4625, 15.85, 18.7875, 7.75, 31.0, 7.05, 21.0, 7.25, 13.0, 7.75, 113.275, 7.925, 27.0, 76.2917, 10.5, 8.05, 13.0, 8.05, 7.8958, 90.0, 9.35, 10.5, 7.25, 13.0, 25.4667, 83.475, 7.775, 13.5, 31.3875, 10.5, 7.55, 26.0, 26.25, 10.5, 12.275, 14.4542, 15.5, 10.5, 7.125, 7.225, 90.0, 7.775, 14.5, 52.5542, 26.0, 7.25, 10.4625, 26.55, 16.1, 20.2125, 15.2458, 79.2, 86.5, 512.3292, 26.0, 7.75, 31.3875, 79.65, 0.0, 7.75, 10.5, 39.6875, 7.775, 153.4625, 135.6333, 31.0, 0.0, 19.5, 29.7, 7.75, 77.9583, 7.75, 0.0, 29.125, 20.25, 7.75, 7.8542, 9.5, 8.05, 26.0, 8.6625, 9.5, 7.8958, 13.0, 7.75, 78.85, 91.0792, 12.875, 8.85, 7.8958, 27.7208, 7.2292, 151.55, 30.5, 247.5208, 7.75, 23.25, 0.0, 12.35, 8.05, 151.55, 110.8833, 108.9, 24.0, 56.9292, 83.1583, 262.375, 26.0, 7.8958, 26.25, 7.8542, 26.0, 14.0, 164.8667, 134.5, 7.25, 7.8958, 12.35, 29.0, 69.55, 135.6333, 6.2375, 13.0, 20.525, 57.9792, 23.25, 28.5, 153.4625, 18.0, 133.65, 7.8958, 66.6, 134.5, 8.05, 35.5, 26.0, 263.0, 13.0, 13.0, 13.0, 13.0, 13.0, 16.1, 15.9, 8.6625, 9.225, 35.0, 7.2292, 17.8, 7.225, 9.5, 55.0, 13.0, 7.8792, 7.8792, 27.9, 27.7208, 14.4542, 7.05, 15.5, 7.25, 75.25, 7.2292, 7.75, 69.3, 55.4417, 6.4958, 8.05, 135.6333, 21.075, 82.1708, 7.25, 211.5, 4.0125, 7.775, 227.525, 15.7417, 7.925, 52.0, 7.8958, 73.5, 46.9, 13.0, 7.7292, 12.0, 120.0, 7.7958, 7.925, 113.275, 16.7, 7.7958, 7.8542, 26.0, 10.5, 12.65, 7.925, 8.05, 9.825, 15.85, 8.6625, 21.0, 7.75, 18.75, 7.775, 25.4667, 7.8958, 6.8583, 90.0, 0.0, 7.925, 8.05, 32.5, 13.0, 13.0, 24.15, 7.8958, 7.7333, 7.875, 14.4, 20.2125, 7.25, 26.0, 26.0, 7.75, 8.05, 26.55, 16.1, 26.0, 7.125, 55.9, 120.0, 34.375, 18.75, 263.0, 10.5, 26.25, 9.5, 7.775, 13.0, 8.1125, 81.8583, 19.5, 26.55, 19.2583, 30.5, 27.75, 19.9667, 27.75, 89.1042, 8.05, 7.8958, 26.55, 51.8625, 10.5, 7.75, 26.55, 8.05, 38.5, 13.0, 8.05, 7.05, 0.0, 26.55, 7.725, 19.2583, 7.25, 8.6625, 27.75, 13.7917, 9.8375, 52.0, 21.0, 7.0458, 7.5208, 12.2875, 46.9, 0.0, 8.05, 9.5875, 91.0792, 25.4667, 90.0, 29.7, 8.05, 15.9, 19.9667, 7.25, 30.5, 49.5042, 8.05, 14.4583, 78.2667, 15.1, 151.55, 7.7958, 8.6625, 7.75, 7.6292, 9.5875, 86.5, 108.9, 26.0, 26.55, 22.525, 56.4958, 7.75, 8.05, 26.2875, 59.4, 7.4958, 34.0208, 10.5, 24.15, 26.0, 7.8958, 93.5, 7.8958, 7.225, 57.9792, 7.2292, 7.75, 10.5, 221.7792, 7.925, 11.5, 26.0, 7.2292, 7.2292, 22.3583, 8.6625, 26.25, 26.55, 106.425, 14.5, 49.5, 71.0, 31.275, 31.275, 26.0, 106.425, 26.0, 26.0, 13.8625, 20.525, 36.75, 110.8833, 26.0, 7.8292, 7.225, 7.775, 26.55, 39.6, 227.525, 79.65, 17.4, 7.75, 7.8958, 13.5, 8.05, 8.05, 24.15, 7.8958, 21.075, 7.2292, 7.8542, 10.5, 51.4792, 26.3875, 7.75, 8.05, 14.5, 13.0, 55.9, 14.4583, 7.925, 30.0, 110.8833, 26.0, 40.125, 8.7125, 79.65, 15.0, 79.2, 8.05, 8.05, 7.125, 78.2667, 7.25, 7.75, 26.0, 24.15, 33.0, 0.0, 7.225, 56.9292, 27.0, 7.8958, 42.4, 8.05, 26.55, 15.55, 7.8958, 30.5, 41.5792, 153.4625, 31.275, 7.05, 15.5, 7.75, 8.05, 65.0, 14.4, 16.1, 39.0, 10.5, 14.4542, 52.5542, 15.7417, 7.8542, 16.1, 32.3208, 12.35, 77.9583, 7.8958, 7.7333, 30.0, 7.0542, 30.5, 0.0, 27.9, 13.0, 7.925, 26.25, 39.6875, 16.1, 7.8542, 69.3, 27.9, 56.4958, 19.2583, 76.7292, 7.8958, 35.5, 7.55, 7.55, 7.8958, 23.0, 8.4333, 7.8292, 6.75, 73.5, 7.8958, 15.5, 13.0, 113.275, 133.65, 7.225, 25.5875, 7.4958, 7.925, 73.5, 13.0, 7.775, 8.05, 52.0, 39.0, 52.0, 10.5, 13.0, 0.0, 7.775, 8.05, 9.8417, 46.9, 512.3292, 8.1375, 76.7292, 9.225, 46.9, 39.0, 41.5792, 39.6875, 10.1708, 7.7958, 211.3375, 57.0, 13.4167, 56.4958, 7.225, 26.55, 13.5, 8.05, 7.7333, 110.8833, 7.65, 227.525, 26.2875, 14.4542, 7.7417, 7.8542, 26.0, 13.5, 26.2875, 151.55, 15.2458, 49.5042, 26.55, 52.0, 9.4833, 13.0, 7.65, 227.525, 10.5, 15.5, 7.775, 33.0, 7.0542, 13.0, 13.0, 53.1, 8.6625, 21.0, 7.7375, 26.0, 7.925, 211.3375, 18.7875, 0.0, 13.0, 13.0, 16.1, 34.375, 512.3292, 7.8958, 7.8958, 30.0, 78.85, 262.375, 16.1, 7.925, 71.0, 20.25, 13.0, 53.1, 7.75, 23.0, 12.475, 9.5, 7.8958, 65.0, 14.5, 7.7958, 11.5, 8.05, 86.5, 14.5, 7.125, 7.2292, 120.0, 7.775, 77.9583, 39.6, 7.75, 24.15, 8.3625, 9.5, 7.8542, 10.5, 7.225, 23.0, 7.75, 7.75, 12.475, 7.7375, 211.3375, 7.2292, 57.0, 30.0, 23.45, 7.05, 7.25, 7.4958, 29.125, 20.575, 79.2, 7.75, 26.0, 69.55, 30.6958, 7.8958, 13.0, 25.9292, 8.6833, 7.2292, 24.15, 13.0, 26.25, 120.0, 8.5167, 6.975, 7.775, 0.0, 7.775, 13.0, 53.1, 7.8875, 24.15, 10.5, 31.275, 8.05, 0.0, 7.925, 37.0042, 6.45, 27.9, 93.5, 8.6625, 0.0, 12.475, 39.6875, 6.95, 56.4958, 37.0042, 7.75, 80.0, 14.4542, 18.75, 7.2292, 7.8542, 8.3, 83.1583, 8.6625, 8.05, 56.4958, 29.7, 7.925, 10.5, 31.0, 6.4375, 8.6625, 7.55, 69.55, 7.8958, 33.0, 89.1042, 31.275, 7.775, 15.2458, 39.4, 26.0, 9.35, 164.8667, 26.55, 19.2583, 7.2292, 14.1083, 11.5, 25.9292, 69.55, 13.0, 13.0, 13.8583, 50.4958, 9.5, 11.1333, 7.8958, 52.5542, 5.0, 9.0, 24.0, 7.225, 9.8458, 7.8958, 7.8958, 83.1583, 26.0, 7.8958, 10.5167, 10.5, 7.05, 29.125, 13.0, 30.0, 23.45, 30.0, 7.75], [nan, 'C85', nan, 'C123', nan, nan, 'E46', nan, nan, nan, 'G6', 'C103', nan, nan, nan, nan, nan, nan, nan, nan, nan, 'D56', nan, 'A6', nan, nan, nan, 'C23 C25 C27', nan, nan, nan, 'B78', nan, nan, nan, nan, nan, nan, nan, nan, nan, nan, nan, nan, nan, nan, nan, nan, nan, nan, nan, nan, 'D33', nan, 'B30', 'C52', nan, nan, nan, nan, nan, 'B28', 'C83', nan, nan, nan, 'F33', nan, nan, nan, nan, nan, nan, nan, nan, 'F G73', nan, nan, nan, nan, nan, nan, nan, nan, nan, nan, nan, nan, 'C23 C25 C27', nan, nan, nan, 'E31', nan, nan, nan, 'A5', 'D10 D12', nan, nan, nan, nan, 'D26', nan, nan, nan, nan, nan, nan, nan, 'C110', nan, nan, nan, nan, nan, nan, nan, 'B58 B60', nan, nan, nan, nan, 'E101', 'D26', nan, nan, nan, 'F E69', nan, nan, nan, nan, nan, nan, nan, 'D47', 'C123', nan, 'B86', nan, nan, nan, nan, nan, nan, nan, nan, 'F2', nan, nan, 'C2', nan, nan, nan, nan, nan, nan, nan, nan, nan, nan, nan, nan, nan, nan, 'E33', nan, nan, nan, 'B19', nan, nan, nan, 'A7', nan, nan, 'C49', nan, nan, nan, nan, nan, 'F4', nan, 'A32', nan, nan, nan, nan, nan, nan, nan, 'F2', 'B4', 'B80', nan, nan, nan, nan, nan, nan, nan, nan, nan, 'G6', nan, nan, nan, 'A31', nan, nan, nan, nan, nan, 'D36', nan, nan, 'D15', nan, nan, nan, nan, nan, 'C93', nan, nan, nan, nan, nan, 'C83', nan, nan, nan, nan, nan, nan, nan, nan, nan, nan, nan, nan, nan, nan, 'C78', nan, nan, 'D35', nan, nan, 'G6', 'C87', nan, nan, nan, nan, 'B77', nan, nan, nan, nan, 'E67', 'B94', nan, nan, nan, nan, 'C125', 'C99', nan, nan, nan, 'C118', nan, 'D7', nan, nan, nan, nan, nan, nan, nan, nan, 'A19', nan, nan, nan, nan, nan, nan, 'B49', 'D', nan, nan, nan, nan, 'C22 C26', 'C106', 'B58 B60', nan, nan, nan, 'E101', nan, 'C22 C26', nan, 'C65', nan, 'E36', 'C54', 'B57 B59 B63 B66', nan, nan, nan, nan, nan, nan, 'C7', 'E34', nan, nan, nan, nan, nan, 'C32', nan, 'D', nan, 'B18', nan, 'C124', 'C91', nan, nan, nan, 'C2', 'E40', nan, 'T', 'F2', 'C23 C25 C27', nan, nan, nan, 'F33', nan, nan, nan, nan, nan, 'C128', nan, nan, nan, nan, 'E33', nan, nan, nan, nan, nan, nan, nan, nan, nan, 'D37', nan, nan, 'B35', 'E50', nan, nan, nan, nan, nan, nan, 'C82', nan, nan, nan, nan, nan, nan, nan, nan, nan, nan, nan, nan, 'B96 B98', nan, nan, 'D36', 'G6', nan, nan, nan, nan, nan, nan, nan, nan, nan, nan, nan, nan, nan, nan, nan, nan, nan, 'C78', nan, nan, nan, nan, nan, nan, nan, nan, nan, nan, nan, nan, nan, nan, nan, nan, 'E10', 'C52', nan, nan, nan, 'E44', 'B96 B98', nan, nan, 'C23 C25 C27', nan, nan, nan, nan, nan, nan, 'A34', nan, nan, nan, 'C104', nan, nan, 'C111', 'C92', nan, nan, 'E38', 'D21', nan, nan, 'E12', nan, 'E63', nan, nan, nan, nan, nan, nan, nan, nan, nan, nan, 'D', nan, 'A14', nan, nan, nan, nan, nan, nan, nan, nan, 'B49', nan, 'C93', 'B37', nan, nan, nan, nan, 'C30', nan, nan, nan, 'D20', nan, 'C22 C26', nan, nan, nan, nan, nan, 'B79', 'C65', nan, nan, nan, nan, nan, nan, 'E25', nan, nan, 'D46', 'F33', nan, nan, nan, 'B73', nan, nan, 'B18', nan, nan, nan, 'C95', nan, nan, nan, nan, nan, nan, nan, nan, 'B38', nan, nan, 'B39', 'B22', nan, nan, nan, 'C86', nan, nan, nan, nan, nan, 'C70', nan, nan, nan, nan, nan, 'A16', nan, 'E67', nan, nan, nan, nan, nan, nan, nan, nan, nan, nan, nan, nan, 'C101', 'E25', nan, nan, nan, nan, 'E44', nan, nan, nan, 'C68', nan, 'A10', nan, 'E68', nan, 'B41', nan, nan, nan, 'D20', nan, nan, nan, nan, nan, nan, nan, 'A20', nan, nan, nan, nan, nan, nan, nan, nan, nan, 'C125', nan, nan, nan, nan, nan, nan, nan, nan, 'F4', nan, nan, 'D19', nan, nan, nan, 'D50', nan, 'D9', nan, nan, 'A23', nan, 'B50', nan, nan, nan, nan, nan, nan, nan, nan, 'B35', nan, nan, nan, 'D33', nan, 'A26', nan, nan, nan, nan, nan, nan, nan, nan, nan, nan, nan, 'D48', nan, nan, 'E58', nan, nan, nan, nan, nan, nan, 'C126', nan, 'B71', nan, nan, nan, nan, nan, nan, nan, 'B51 B53 B55', nan, 'D49', nan, nan, nan, nan, nan, nan, nan, 'B5', 'B20', nan, nan, nan, nan, nan, nan, nan, 'C68', 'F G63', 'C62 C64', 'E24', nan, nan, nan, nan, nan, 'E24', nan, nan, 'C90', 'C124', 'C126', nan, nan, 'F G73', 'C45', 'E101', nan, nan, nan, nan, nan, nan, 'E8', nan, nan, nan, nan, nan, 'B5', nan, nan, nan, nan, nan, nan, 'B101', nan, nan, 'D45', 'C46', 'B57 B59 B63 B66', nan, nan, 'B22', nan, nan, 'D30', nan, nan, 'E121', nan, nan, nan, nan, nan, nan, nan, 'B77', nan, nan, nan, 'B96 B98', nan, 'D11', nan, nan, nan, nan, nan, nan, 'E77', nan, nan, nan, 'F38', nan, nan, 'B3', nan, 'B20', 'D6', nan, nan, nan, nan, nan, nan, 'B82 B84', nan, nan, nan, nan, nan, nan, 'D17', nan, nan, nan, nan, nan, 'B96 B98', nan, nan, nan, 'A36', nan, nan, 'E8', nan, nan, nan, nan, nan, 'B102', nan, nan, nan, nan, 'B69', nan, nan, 'E121', nan, nan, nan, nan, nan, 'B28', nan, nan, nan, nan, nan, 'E49', nan, nan, nan, 'C47', nan, nan, nan, nan, nan, nan, nan, nan, nan, 'C92', nan, nan, nan, 'D28', nan, nan, nan, 'E17', nan, nan, nan, nan, 'D17', nan, nan, nan, nan, 'A24', nan, nan, nan, 'D35', 'B51 B53 B55', nan, nan, nan, nan, nan, nan, 'C50', nan, nan, nan, nan, nan, nan, nan, 'B42', nan, 'C148', nan], ['S', 'C', 'S', 'S', 'S', 'Q', 'S', 'S', 'S', 'C', 'S', 'S', 'S', 'S', 'S', 'S', 'Q', 'S', 'S', 'C', 'S', 'S', 'Q', 'S', 'S', 'S', 'C', 'S', 'Q', 'S', 'C', 'C', 'Q', 'S', 'C', 'S', 'C', 'S', 'S', 'C', 'S', 'S', 'C', 'C', 'Q', 'S', 'Q', 'Q', 'C', 'S', 'S', 'S', 'C', 'S', 'C', 'S', 'S', 'C', 'S', 'S', 'C', nan, 'S', 'S', 'C', 'C', 'S', 'S', 'S', 'S', 'S', 'S', 'S', 'C', 'S', 'S', 'S', 'S', 'S', 'S', 'S', 'S', 'Q', 'S', 'S', 'S', 'S', 'S', 'S', 'S', 'S', 'S', 'S', 'S', 'S', 'S', 'C', 'C', 'S', 'S', 'S', 'S', 'S', 'S', 'S', 'S', 'S', 'S', 'S', 'Q', 'S', 'C', 'S', 'S', 'C', 'S', 'Q', 'S', 'C', 'S', 'S', 'S', 'C', 'S', 'S', 'C', 'Q', 'S', 'C', 'S', 'C', 'S', 'S', 'S', 'S', 'C', 'S', 'S', 'S', 'C', 'C', 'S', 'S', 'Q', 'S', 'S', 'S', 'S', 'S', 'S', 'S', 'S', 'S', 'S', 'S', 'C', 'Q', 'S', 'S', 'S', 'S', 'S', 'S', 'S', 'S', 'S', 'S', 'S', 'S', 'S', 'S', 'Q', 'S', 'S', 'C', 'S', 'S', 'C', 'S', 'S', 'S', 'C', 'S', 'S', 'S', 'S', 'Q', 'S', 'Q', 'S', 'S', 'S', 'S', 'S', 'C', 'C', 'Q', 'S', 'Q', 'S', 'S', 'S', 'S', 'C', 'S', 'S', 'S', 'C', 'Q', 'C', 'S', 'S', 'S', 'S', 'Q', 'C', 'S', 'S', 'C', 'S', 'S', 'S', 'S', 'S', 'S', 'S', 'S', 'S', 'S', 'S', 'S', 'S', 'S', 'S', 'S', 'S', 'S', 'S', 'S', 'S', 'C', 'Q', 'S', 'S', 'C', 'Q', 'S', 'S', 'S', 'S', 'S', 'S', 'S', 'S', 'S', 'C', 'C', 'S', 'C', 'S', 'Q', 'S', 'S', 'S', 'Q', 'S', 'S', 'S', 'S', 'S', 'S', 'S', 'S', 'C', 'Q', 'S', 'S', 'S', 'Q', 'S', 'Q', 'S', 'S', 'S', 'S', 'C', 'S', 'S', 'S', 'Q', 'S', 'C', 'C', 'S', 'S', 'C', 'C', 'S', 'S', 'C', 'Q', 'Q', 'S', 'Q', 'S', 'S', 'C', 'C', 'C', 'C', 'C', 'C', 'S', 'S', 'S', 'S', 'S', 'S', 'S', 'C', 'S', 'S', 'Q', 'S', 'S', 'C', 'S', 'S', 'S', 'C', 'Q', 'S', 'S', 'S', 'S', 'S', 'S', 'C', 'S', 'S', 'S', 'S', 'S', 'S', 'S', 'S', 'S', 'S', 'S', 'S', 'S', 'S', 'C', 'S', 'C', 'S', 'S', 'S', 'Q', 'Q', 'S', 'C', 'C', 'S', 'Q', 'S', 'C', 'C', 'Q', 'C', 'C', 'S', 'S', 'C', 'S', 'C', 'S', 'C', 'C', 'S', 'C', 'C', 'S', 'S', 'S', 'S', 'S', 'S', 'Q', 'C', 'S', 'S', 'S', 'C', 'S', 'S', 'S', 'S', 'S', 'S', 'S', 'S', 'S', 'S', 'S', 'S', 'S', 'S', 'S', 'S', 'S', 'Q', 'Q', 'S', 'S', 'S', 'S', 'S', 'S', 'S', 'C', 'Q', 'S', 'S', 'S', 'S', 'S', 'S', 'Q', 'S', 'S', 'S', 'S', 'S', 'S', 'S', 'S', 'S', 'S', 'S', 'S', 'S', 'S', 'S', 'S', 'S', 'S', 'S', 'C', 'S', 'S', 'S', 'C', 'C', 'S', 'C', 'S', 'S', 'S', 'Q', 'S', 'S', 'S', 'S', 'S', 'S', 'S', 'S', 'Q', 'C', 'S', 'S', 'S', 'C', 'S', 'S', 'S', 'S', 'S', 'S', 'S', 'S', 'S', 'S', 'C', 'S', 'S', 'C', 'S', 'S', 'S', 'S', 'S', 'C', 'S', 'C', 'C', 'S', 'S', 'S', 'S', 'Q', 'Q', 'S', 'S', 'C', 'S', 'S', 'S', 'S', 'Q', 'S', 'S', 'C', 'S', 'S', 'S', 'Q', 'S', 'S', 'S', 'S', 'C', 'C', 'C', 'Q', 'S', 'S', 'S', 'S', 'S', 'C', 'C', 'C', 'S', 'S', 'S', 'C', 'S', 'C', 'S', 'S', 'S', 'S', 'C', 'S', 'S', 'C', 'S', 'S', 'C', 'S', 'Q', 'C', 'S', 'S', 'C', 'C', 'S', 'S', 'Q', 'S', 'S', 'S', 'S', 'S', 'S', 'S', 'C', 'S', 'S', 'S', 'S', 'Q', 'S', 'S', 'S', 'S', 'C', 'S', 'S', 'C', 'S', 'C', 'C', 'S', 'S', 'C', 'S', 'S', 'S', 'C', 'S', 'Q', 'S', 'S', 'S', 'S', 'C', 'C', 'S', 'S', 'S', 'S', 'C', 'S', 'S', 'S', 'C', 'S', 'S', 'S', 'Q', 'Q', 'S', 'S', 'S', 'S', 'S', 'S', 'C', 'S', 'C', 'S', 'S', 'S', 'Q', 'S', 'S', 'Q', 'S', 'S', 'C', 'S', 'S', 'S', 'S', 'S', 'S', 'S', 'S', 'C', 'S', 'S', 'C', 'C', 'S', 'C', 'S', 'S', 'S', 'S', 'S', 'Q', 'Q', 'S', 'S', 'Q', 'S', 'C', 'S', 'C', 'S', 'S', 'S', 'S', 'S', 'S', 'S', 'S', 'S', 'S', 'S', 'S', 'S', 'S', 'S', 'S', 'S', 'C', 'Q', 'C', 'S', 'S', 'S', 'C', 'S', 'S', 'S', 'S', 'S', 'C', 'S', 'C', 'S', 'S', 'S', 'Q', 'C', 'S', 'C', 'S', 'C', 'Q', 'S', 'S', 'S', 'S', 'S', 'C', 'C', 'S', 'S', 'S', 'S', 'S', 'C', 'S', 'Q', 'S', 'S', 'S', 'S', 'S', 'S', 'S', 'S', 'Q', 'S', 'S', 'S', 'C', 'S', 'S', 'S', 'S', 'S', 'C', 'S', 'S', 'S', 'S', 'C', 'S', 'S', 'S', 'S', 'S', 'S', 'Q', 'S', 'S', 'S', 'S', 'S', 'S', 'S', 'S', 'S', 'S', 'S', 'S', 'C', 'S', 'S', 'S', 'C', 'Q', 'Q', 'S', 'S', 'S', 'S', 'C', 'S', 'S', 'Q', 'S', 'Q', 'S', 'C', 'S', 'S', 'S', 'S', 'S', 'S', 'Q', 'S', 'C', 'Q', 'S', 'S', 'C', 'S', 'S', 'S', 'S', 'C', 'S', 'S', 'S', 'S', 'C', 'S', 'S', 'S', 'S', 'S', 'S', 'S', 'S', 'S', 'S', 'S', 'S', 'S', 'C', 'S', 'S', 'S', 'S', 'S', 'S', 'S', 'Q', 'S', 'C', 'Q', nan, 'C', 'S', 'C', 'S', 'S', 'C', 'S', 'S', 'S', 'C', 'S', 'S', 'C', 'C', 'S', 'S', 'S', 'C', 'S', 'C', 'S', 'S', 'C', 'S', 'S', 'S', 'S', 'S', 'C', 'C', 'S', 'S', 'S', 'S', 'S', 'S', 'C', 'S', 'S', 'S', 'S', 'S', 'S', 'S', 'C', 'C', 'S', 'S', 'S', 'C', 'S', 'S', 'S', 'S', 'S', 'Q', 'S', 'S', 'S', 'C', 'Q']]\n"
     ]
    }
   ],
   "source": [
    "# 행방향으로 리스트화\n",
    "tdf_list2=tdf.values.tolist()\n",
    "# 열방향으로 리스트화\n",
    "tdf_list2_col = np.transpose(tdf).values.tolist()\n",
    "tdf_list2_col \n",
    "print(tdf_list2_col)"
   ]
  },
  {
   "cell_type": "code",
   "execution_count": 165,
   "id": "f8c7f40c",
   "metadata": {
    "collapsed": true
   },
   "outputs": [
    {
     "name": "stdout",
     "output_type": "stream",
     "text": [
      "{'PassengerId': [1, 2, 3, 4, 5, 6, 7, 8, 9, 10, 11, 12, 13, 14, 15, 16, 17, 18, 19, 20, 21, 22, 23, 24, 25, 26, 27, 28, 29, 30, 31, 32, 33, 34, 35, 36, 37, 38, 39, 40, 41, 42, 43, 44, 45, 46, 47, 48, 49, 50, 51, 52, 53, 54, 55, 56, 57, 58, 59, 60, 61, 62, 63, 64, 65, 66, 67, 68, 69, 70, 71, 72, 73, 74, 75, 76, 77, 78, 79, 80, 81, 82, 83, 84, 85, 86, 87, 88, 89, 90, 91, 92, 93, 94, 95, 96, 97, 98, 99, 100, 101, 102, 103, 104, 105, 106, 107, 108, 109, 110, 111, 112, 113, 114, 115, 116, 117, 118, 119, 120, 121, 122, 123, 124, 125, 126, 127, 128, 129, 130, 131, 132, 133, 134, 135, 136, 137, 138, 139, 140, 141, 142, 143, 144, 145, 146, 147, 148, 149, 150, 151, 152, 153, 154, 155, 156, 157, 158, 159, 160, 161, 162, 163, 164, 165, 166, 167, 168, 169, 170, 171, 172, 173, 174, 175, 176, 177, 178, 179, 180, 181, 182, 183, 184, 185, 186, 187, 188, 189, 190, 191, 192, 193, 194, 195, 196, 197, 198, 199, 200, 201, 202, 203, 204, 205, 206, 207, 208, 209, 210, 211, 212, 213, 214, 215, 216, 217, 218, 219, 220, 221, 222, 223, 224, 225, 226, 227, 228, 229, 230, 231, 232, 233, 234, 235, 236, 237, 238, 239, 240, 241, 242, 243, 244, 245, 246, 247, 248, 249, 250, 251, 252, 253, 254, 255, 256, 257, 258, 259, 260, 261, 262, 263, 264, 265, 266, 267, 268, 269, 270, 271, 272, 273, 274, 275, 276, 277, 278, 279, 280, 281, 282, 283, 284, 285, 286, 287, 288, 289, 290, 291, 292, 293, 294, 295, 296, 297, 298, 299, 300, 301, 302, 303, 304, 305, 306, 307, 308, 309, 310, 311, 312, 313, 314, 315, 316, 317, 318, 319, 320, 321, 322, 323, 324, 325, 326, 327, 328, 329, 330, 331, 332, 333, 334, 335, 336, 337, 338, 339, 340, 341, 342, 343, 344, 345, 346, 347, 348, 349, 350, 351, 352, 353, 354, 355, 356, 357, 358, 359, 360, 361, 362, 363, 364, 365, 366, 367, 368, 369, 370, 371, 372, 373, 374, 375, 376, 377, 378, 379, 380, 381, 382, 383, 384, 385, 386, 387, 388, 389, 390, 391, 392, 393, 394, 395, 396, 397, 398, 399, 400, 401, 402, 403, 404, 405, 406, 407, 408, 409, 410, 411, 412, 413, 414, 415, 416, 417, 418, 419, 420, 421, 422, 423, 424, 425, 426, 427, 428, 429, 430, 431, 432, 433, 434, 435, 436, 437, 438, 439, 440, 441, 442, 443, 444, 445, 446, 447, 448, 449, 450, 451, 452, 453, 454, 455, 456, 457, 458, 459, 460, 461, 462, 463, 464, 465, 466, 467, 468, 469, 470, 471, 472, 473, 474, 475, 476, 477, 478, 479, 480, 481, 482, 483, 484, 485, 486, 487, 488, 489, 490, 491, 492, 493, 494, 495, 496, 497, 498, 499, 500, 501, 502, 503, 504, 505, 506, 507, 508, 509, 510, 511, 512, 513, 514, 515, 516, 517, 518, 519, 520, 521, 522, 523, 524, 525, 526, 527, 528, 529, 530, 531, 532, 533, 534, 535, 536, 537, 538, 539, 540, 541, 542, 543, 544, 545, 546, 547, 548, 549, 550, 551, 552, 553, 554, 555, 556, 557, 558, 559, 560, 561, 562, 563, 564, 565, 566, 567, 568, 569, 570, 571, 572, 573, 574, 575, 576, 577, 578, 579, 580, 581, 582, 583, 584, 585, 586, 587, 588, 589, 590, 591, 592, 593, 594, 595, 596, 597, 598, 599, 600, 601, 602, 603, 604, 605, 606, 607, 608, 609, 610, 611, 612, 613, 614, 615, 616, 617, 618, 619, 620, 621, 622, 623, 624, 625, 626, 627, 628, 629, 630, 631, 632, 633, 634, 635, 636, 637, 638, 639, 640, 641, 642, 643, 644, 645, 646, 647, 648, 649, 650, 651, 652, 653, 654, 655, 656, 657, 658, 659, 660, 661, 662, 663, 664, 665, 666, 667, 668, 669, 670, 671, 672, 673, 674, 675, 676, 677, 678, 679, 680, 681, 682, 683, 684, 685, 686, 687, 688, 689, 690, 691, 692, 693, 694, 695, 696, 697, 698, 699, 700, 701, 702, 703, 704, 705, 706, 707, 708, 709, 710, 711, 712, 713, 714, 715, 716, 717, 718, 719, 720, 721, 722, 723, 724, 725, 726, 727, 728, 729, 730, 731, 732, 733, 734, 735, 736, 737, 738, 739, 740, 741, 742, 743, 744, 745, 746, 747, 748, 749, 750, 751, 752, 753, 754, 755, 756, 757, 758, 759, 760, 761, 762, 763, 764, 765, 766, 767, 768, 769, 770, 771, 772, 773, 774, 775, 776, 777, 778, 779, 780, 781, 782, 783, 784, 785, 786, 787, 788, 789, 790, 791, 792, 793, 794, 795, 796, 797, 798, 799, 800, 801, 802, 803, 804, 805, 806, 807, 808, 809, 810, 811, 812, 813, 814, 815, 816, 817, 818, 819, 820, 821, 822, 823, 824, 825, 826, 827, 828, 829, 830, 831, 832, 833, 834, 835, 836, 837, 838, 839, 840, 841, 842, 843, 844, 845, 846, 847, 848, 849, 850, 851, 852, 853, 854, 855, 856, 857, 858, 859, 860, 861, 862, 863, 864, 865, 866, 867, 868, 869, 870, 871, 872, 873, 874, 875, 876, 877, 878, 879, 880, 881, 882, 883, 884, 885, 886, 887, 888, 889, 890, 891], 'Survived': [0, 1, 1, 1, 0, 0, 0, 0, 1, 1, 1, 1, 0, 0, 0, 1, 0, 1, 0, 1, 0, 1, 1, 1, 0, 1, 0, 0, 1, 0, 0, 1, 1, 0, 0, 0, 1, 0, 0, 1, 0, 0, 0, 1, 1, 0, 0, 1, 0, 0, 0, 0, 1, 1, 0, 1, 1, 0, 1, 0, 0, 1, 0, 0, 0, 1, 1, 0, 1, 0, 0, 0, 0, 0, 1, 0, 0, 0, 1, 1, 0, 1, 1, 0, 1, 1, 0, 0, 1, 0, 0, 0, 0, 0, 0, 0, 0, 1, 1, 0, 0, 0, 0, 0, 0, 0, 1, 1, 0, 1, 0, 0, 0, 0, 0, 0, 0, 0, 0, 0, 0, 0, 0, 1, 0, 1, 0, 1, 1, 0, 0, 0, 0, 1, 0, 0, 1, 0, 0, 0, 0, 1, 1, 0, 0, 0, 1, 0, 0, 0, 0, 1, 0, 0, 0, 0, 1, 0, 0, 0, 0, 1, 0, 0, 0, 1, 1, 0, 0, 0, 0, 0, 1, 0, 0, 0, 0, 0, 0, 0, 0, 0, 0, 1, 1, 0, 1, 1, 0, 0, 1, 0, 1, 1, 1, 1, 0, 0, 1, 0, 0, 0, 0, 0, 1, 0, 0, 1, 1, 1, 0, 1, 0, 0, 0, 1, 1, 0, 1, 0, 1, 0, 0, 0, 1, 0, 1, 0, 0, 0, 1, 0, 0, 1, 0, 0, 0, 1, 0, 0, 0, 1, 0, 0, 0, 0, 0, 1, 1, 0, 0, 0, 0, 0, 0, 1, 1, 1, 1, 1, 0, 1, 0, 0, 0, 0, 0, 1, 1, 1, 0, 1, 1, 0, 1, 1, 0, 0, 0, 1, 0, 0, 0, 1, 0, 0, 1, 0, 1, 1, 1, 1, 0, 0, 0, 0, 0, 0, 1, 1, 1, 1, 0, 1, 0, 1, 1, 1, 0, 1, 1, 1, 0, 0, 0, 1, 1, 0, 1, 1, 0, 0, 1, 1, 0, 1, 0, 1, 1, 1, 1, 0, 0, 0, 1, 0, 0, 1, 1, 0, 1, 1, 0, 0, 0, 1, 1, 1, 1, 0, 0, 0, 0, 0, 0, 0, 1, 0, 1, 1, 0, 0, 0, 0, 0, 0, 1, 1, 1, 1, 1, 0, 0, 0, 0, 1, 1, 0, 0, 0, 1, 1, 0, 1, 0, 0, 0, 1, 0, 1, 1, 1, 0, 1, 1, 0, 0, 0, 0, 1, 1, 0, 0, 0, 0, 0, 0, 1, 0, 0, 0, 0, 1, 0, 1, 0, 1, 1, 0, 0, 0, 0, 0, 0, 0, 0, 1, 1, 0, 1, 1, 1, 1, 0, 0, 1, 0, 1, 0, 0, 1, 0, 0, 1, 1, 1, 1, 1, 1, 1, 0, 0, 0, 1, 0, 1, 0, 1, 1, 0, 1, 0, 0, 0, 0, 0, 0, 0, 0, 1, 0, 0, 1, 1, 0, 0, 0, 0, 0, 1, 0, 0, 0, 1, 1, 0, 1, 0, 0, 1, 0, 0, 0, 0, 0, 0, 1, 0, 0, 0, 0, 0, 0, 0, 1, 0, 1, 1, 0, 1, 1, 0, 1, 1, 0, 0, 1, 0, 1, 0, 1, 0, 0, 1, 0, 0, 1, 0, 0, 0, 1, 0, 0, 1, 0, 1, 0, 1, 0, 1, 1, 0, 0, 1, 0, 0, 1, 1, 0, 1, 1, 0, 0, 1, 1, 0, 1, 0, 1, 1, 0, 0, 0, 0, 0, 0, 0, 0, 0, 1, 1, 1, 1, 1, 0, 0, 1, 1, 0, 1, 1, 1, 0, 0, 0, 1, 0, 1, 0, 0, 0, 1, 0, 0, 0, 0, 1, 0, 0, 1, 1, 0, 0, 0, 1, 0, 0, 1, 1, 1, 0, 0, 1, 0, 0, 1, 0, 0, 1, 0, 0, 1, 1, 0, 0, 0, 0, 1, 0, 0, 1, 0, 1, 0, 0, 1, 0, 0, 0, 0, 0, 1, 0, 1, 1, 1, 0, 1, 0, 1, 0, 1, 0, 1, 0, 0, 0, 0, 0, 0, 1, 0, 0, 0, 1, 0, 0, 0, 0, 1, 1, 0, 0, 1, 0, 0, 0, 1, 0, 1, 0, 1, 0, 0, 0, 0, 0, 0, 0, 1, 1, 1, 1, 0, 0, 0, 0, 1, 0, 0, 1, 1, 0, 0, 0, 0, 1, 1, 1, 1, 1, 0, 1, 0, 0, 0, 1, 1, 0, 0, 1, 0, 0, 0, 1, 0, 1, 1, 0, 0, 1, 0, 0, 0, 0, 0, 0, 1, 0, 0, 1, 0, 1, 0, 1, 0, 0, 1, 0, 0, 1, 1, 0, 0, 1, 1, 0, 0, 0, 1, 0, 0, 1, 1, 0, 1, 0, 0, 0, 0, 0, 0, 0, 0, 1, 0, 0, 1, 0, 1, 1, 1, 0, 0, 0, 0, 1, 0, 1, 0, 0, 0, 0, 0, 0, 0, 1, 1, 0, 0, 0, 1, 1, 1, 1, 0, 0, 0, 0, 1, 0, 0, 0, 0, 0, 0, 0, 0, 0, 0, 1, 1, 0, 1, 0, 0, 0, 1, 1, 1, 1, 1, 0, 0, 0, 1, 0, 0, 1, 1, 0, 0, 1, 0, 0, 0, 0, 0, 0, 1, 0, 0, 0, 1, 0, 1, 1, 1, 1, 0, 0, 0, 1, 0, 0, 1, 1, 0, 0, 1, 0, 1, 0, 0, 1, 1, 0, 0, 0, 1, 1, 0, 0, 0, 0, 0, 0, 1, 0, 1, 0], 'Pclass': [3, 1, 3, 1, 3, 3, 1, 3, 3, 2, 3, 1, 3, 3, 3, 2, 3, 2, 3, 3, 2, 2, 3, 1, 3, 3, 3, 1, 3, 3, 1, 1, 3, 2, 1, 1, 3, 3, 3, 3, 3, 2, 3, 2, 3, 3, 3, 3, 3, 3, 3, 3, 1, 2, 1, 1, 2, 3, 2, 3, 3, 1, 1, 3, 1, 3, 2, 3, 3, 3, 2, 3, 2, 3, 3, 3, 3, 3, 2, 3, 3, 3, 3, 1, 2, 3, 3, 3, 1, 3, 3, 3, 1, 3, 3, 3, 1, 1, 2, 2, 3, 3, 1, 3, 3, 3, 3, 3, 3, 3, 1, 3, 3, 3, 3, 3, 3, 2, 1, 3, 2, 3, 2, 2, 1, 3, 3, 3, 3, 3, 3, 3, 3, 2, 2, 2, 1, 1, 3, 1, 3, 3, 3, 3, 2, 2, 3, 3, 2, 2, 2, 1, 3, 3, 3, 1, 3, 3, 3, 3, 3, 2, 3, 3, 3, 3, 1, 3, 1, 3, 1, 3, 3, 3, 1, 3, 3, 1, 2, 3, 3, 2, 3, 2, 3, 1, 3, 1, 3, 3, 2, 2, 3, 2, 1, 1, 3, 3, 3, 2, 3, 3, 3, 3, 3, 3, 3, 3, 3, 1, 3, 2, 3, 2, 3, 1, 3, 2, 1, 2, 3, 2, 3, 3, 1, 3, 2, 3, 2, 3, 1, 3, 2, 3, 2, 3, 2, 2, 2, 2, 3, 3, 2, 3, 3, 1, 3, 2, 1, 2, 3, 3, 1, 3, 3, 3, 1, 1, 1, 2, 3, 3, 1, 1, 3, 2, 3, 3, 1, 1, 1, 3, 2, 1, 3, 1, 3, 2, 3, 3, 3, 3, 3, 3, 1, 3, 3, 3, 2, 3, 1, 1, 2, 3, 3, 1, 3, 1, 1, 1, 3, 3, 3, 2, 3, 1, 1, 1, 2, 1, 1, 1, 2, 3, 2, 3, 2, 2, 1, 1, 3, 3, 2, 2, 3, 1, 3, 2, 3, 1, 3, 1, 1, 3, 1, 3, 1, 1, 3, 1, 2, 1, 2, 2, 2, 2, 2, 3, 3, 3, 3, 1, 3, 3, 3, 3, 1, 2, 3, 3, 3, 2, 3, 3, 3, 3, 1, 3, 3, 1, 1, 3, 3, 1, 3, 1, 3, 1, 3, 3, 1, 3, 3, 1, 3, 2, 3, 2, 3, 2, 1, 3, 3, 1, 3, 3, 3, 2, 2, 2, 3, 3, 3, 3, 3, 2, 3, 2, 3, 3, 3, 3, 1, 2, 3, 3, 2, 2, 2, 3, 3, 3, 3, 3, 3, 3, 2, 2, 3, 3, 1, 3, 2, 3, 1, 1, 3, 2, 1, 2, 2, 3, 3, 2, 3, 1, 2, 1, 3, 1, 2, 3, 1, 1, 3, 3, 1, 1, 2, 3, 1, 3, 1, 2, 3, 3, 2, 1, 3, 3, 3, 3, 2, 2, 3, 1, 2, 3, 3, 3, 3, 2, 3, 3, 1, 3, 1, 1, 3, 3, 3, 3, 1, 1, 3, 3, 1, 3, 1, 3, 3, 3, 3, 3, 1, 1, 2, 1, 3, 3, 3, 3, 1, 1, 3, 1, 2, 3, 2, 3, 1, 3, 3, 1, 3, 3, 2, 1, 3, 2, 2, 3, 3, 3, 3, 2, 1, 1, 3, 1, 1, 3, 3, 2, 1, 1, 2, 2, 3, 2, 1, 2, 3, 3, 3, 1, 1, 1, 1, 3, 3, 3, 2, 3, 3, 3, 3, 3, 3, 3, 2, 1, 1, 3, 3, 3, 2, 1, 3, 3, 2, 1, 2, 1, 3, 1, 2, 1, 3, 3, 3, 1, 3, 3, 2, 3, 2, 3, 3, 1, 2, 3, 1, 3, 1, 3, 3, 1, 2, 1, 3, 3, 3, 3, 3, 2, 3, 3, 2, 2, 3, 1, 3, 3, 3, 1, 2, 1, 3, 3, 1, 3, 1, 1, 3, 2, 3, 2, 3, 3, 3, 1, 3, 3, 3, 1, 3, 1, 3, 3, 3, 2, 3, 3, 3, 2, 3, 3, 2, 1, 1, 3, 1, 3, 3, 2, 2, 3, 3, 1, 2, 1, 2, 2, 2, 3, 3, 3, 3, 1, 3, 1, 3, 3, 2, 2, 3, 3, 3, 1, 1, 3, 3, 3, 1, 2, 3, 3, 1, 3, 1, 1, 3, 3, 3, 2, 2, 1, 1, 3, 1, 1, 1, 3, 2, 3, 1, 2, 3, 3, 2, 3, 2, 2, 1, 3, 2, 3, 2, 3, 1, 3, 2, 2, 2, 3, 3, 1, 3, 3, 1, 1, 1, 3, 3, 1, 3, 2, 1, 3, 2, 3, 3, 3, 2, 2, 3, 2, 3, 1, 3, 3, 3, 1, 3, 1, 1, 3, 3, 3, 3, 3, 2, 3, 2, 3, 3, 3, 3, 1, 3, 1, 1, 3, 3, 3, 3, 3, 3, 1, 3, 2, 3, 1, 3, 2, 1, 3, 3, 3, 2, 2, 1, 3, 3, 3, 1, 3, 2, 1, 3, 3, 2, 3, 3, 1, 3, 2, 3, 3, 1, 3, 1, 3, 3, 3, 3, 2, 3, 1, 3, 2, 3, 3, 3, 1, 3, 3, 3, 1, 3, 2, 1, 3, 3, 3, 3, 3, 2, 1, 3, 3, 3, 1, 2, 3, 1, 1, 3, 3, 3, 2, 1, 3, 2, 2, 2, 1, 3, 3, 3, 1, 1, 3, 2, 3, 3, 3, 3, 1, 2, 3, 3, 2, 3, 3, 2, 1, 3, 1, 3], 'Name': ['Braund, Mr. Owen Harris', 'Cumings, Mrs. John Bradley (Florence Briggs Thayer)', 'Heikkinen, Miss. Laina', 'Futrelle, Mrs. Jacques Heath (Lily May Peel)', 'Allen, Mr. William Henry', 'Moran, Mr. James', 'McCarthy, Mr. Timothy J', 'Palsson, Master. Gosta Leonard', 'Johnson, Mrs. Oscar W (Elisabeth Vilhelmina Berg)', 'Nasser, Mrs. Nicholas (Adele Achem)', 'Sandstrom, Miss. Marguerite Rut', 'Bonnell, Miss. Elizabeth', 'Saundercock, Mr. William Henry', 'Andersson, Mr. Anders Johan', 'Vestrom, Miss. Hulda Amanda Adolfina', 'Hewlett, Mrs. (Mary D Kingcome) ', 'Rice, Master. Eugene', 'Williams, Mr. Charles Eugene', 'Vander Planke, Mrs. Julius (Emelia Maria Vandemoortele)', 'Masselmani, Mrs. Fatima', 'Fynney, Mr. Joseph J', 'Beesley, Mr. Lawrence', 'McGowan, Miss. Anna \"Annie\"', 'Sloper, Mr. William Thompson', 'Palsson, Miss. Torborg Danira', 'Asplund, Mrs. Carl Oscar (Selma Augusta Emilia Johansson)', 'Emir, Mr. Farred Chehab', 'Fortune, Mr. Charles Alexander', 'O\\'Dwyer, Miss. Ellen \"Nellie\"', 'Todoroff, Mr. Lalio', 'Uruchurtu, Don. Manuel E', 'Spencer, Mrs. William Augustus (Marie Eugenie)', 'Glynn, Miss. Mary Agatha', 'Wheadon, Mr. Edward H', 'Meyer, Mr. Edgar Joseph', 'Holverson, Mr. Alexander Oskar', 'Mamee, Mr. Hanna', 'Cann, Mr. Ernest Charles', 'Vander Planke, Miss. Augusta Maria', 'Nicola-Yarred, Miss. Jamila', 'Ahlin, Mrs. Johan (Johanna Persdotter Larsson)', 'Turpin, Mrs. William John Robert (Dorothy Ann Wonnacott)', 'Kraeff, Mr. Theodor', 'Laroche, Miss. Simonne Marie Anne Andree', 'Devaney, Miss. Margaret Delia', 'Rogers, Mr. William John', 'Lennon, Mr. Denis', \"O'Driscoll, Miss. Bridget\", 'Samaan, Mr. Youssef', 'Arnold-Franchi, Mrs. Josef (Josefine Franchi)', 'Panula, Master. Juha Niilo', 'Nosworthy, Mr. Richard Cater', 'Harper, Mrs. Henry Sleeper (Myna Haxtun)', 'Faunthorpe, Mrs. Lizzie (Elizabeth Anne Wilkinson)', 'Ostby, Mr. Engelhart Cornelius', 'Woolner, Mr. Hugh', 'Rugg, Miss. Emily', 'Novel, Mr. Mansouer', 'West, Miss. Constance Mirium', 'Goodwin, Master. William Frederick', 'Sirayanian, Mr. Orsen', 'Icard, Miss. Amelie', 'Harris, Mr. Henry Birkhardt', 'Skoog, Master. Harald', 'Stewart, Mr. Albert A', 'Moubarek, Master. Gerios', 'Nye, Mrs. (Elizabeth Ramell)', 'Crease, Mr. Ernest James', 'Andersson, Miss. Erna Alexandra', 'Kink, Mr. Vincenz', 'Jenkin, Mr. Stephen Curnow', 'Goodwin, Miss. Lillian Amy', 'Hood, Mr. Ambrose Jr', 'Chronopoulos, Mr. Apostolos', 'Bing, Mr. Lee', 'Moen, Mr. Sigurd Hansen', 'Staneff, Mr. Ivan', 'Moutal, Mr. Rahamin Haim', 'Caldwell, Master. Alden Gates', 'Dowdell, Miss. Elizabeth', 'Waelens, Mr. Achille', 'Sheerlinck, Mr. Jan Baptist', 'McDermott, Miss. Brigdet Delia', 'Carrau, Mr. Francisco M', 'Ilett, Miss. Bertha', 'Backstrom, Mrs. Karl Alfred (Maria Mathilda Gustafsson)', 'Ford, Mr. William Neal', 'Slocovski, Mr. Selman Francis', 'Fortune, Miss. Mabel Helen', 'Celotti, Mr. Francesco', 'Christmann, Mr. Emil', 'Andreasson, Mr. Paul Edvin', 'Chaffee, Mr. Herbert Fuller', 'Dean, Mr. Bertram Frank', 'Coxon, Mr. Daniel', 'Shorney, Mr. Charles Joseph', 'Goldschmidt, Mr. George B', 'Greenfield, Mr. William Bertram', 'Doling, Mrs. John T (Ada Julia Bone)', 'Kantor, Mr. Sinai', 'Petranec, Miss. Matilda', 'Petroff, Mr. Pastcho (\"Pentcho\")', 'White, Mr. Richard Frasar', 'Johansson, Mr. Gustaf Joel', 'Gustafsson, Mr. Anders Vilhelm', 'Mionoff, Mr. Stoytcho', 'Salkjelsvik, Miss. Anna Kristine', 'Moss, Mr. Albert Johan', 'Rekic, Mr. Tido', 'Moran, Miss. Bertha', 'Porter, Mr. Walter Chamberlain', 'Zabour, Miss. Hileni', 'Barton, Mr. David John', 'Jussila, Miss. Katriina', 'Attalah, Miss. Malake', 'Pekoniemi, Mr. Edvard', 'Connors, Mr. Patrick', 'Turpin, Mr. William John Robert', 'Baxter, Mr. Quigg Edmond', 'Andersson, Miss. Ellis Anna Maria', 'Hickman, Mr. Stanley George', 'Moore, Mr. Leonard Charles', 'Nasser, Mr. Nicholas', 'Webber, Miss. Susan', 'White, Mr. Percival Wayland', 'Nicola-Yarred, Master. Elias', 'McMahon, Mr. Martin', 'Madsen, Mr. Fridtjof Arne', 'Peter, Miss. Anna', 'Ekstrom, Mr. Johan', 'Drazenoic, Mr. Jozef', 'Coelho, Mr. Domingos Fernandeo', 'Robins, Mrs. Alexander A (Grace Charity Laury)', 'Weisz, Mrs. Leopold (Mathilde Francoise Pede)', 'Sobey, Mr. Samuel James Hayden', 'Richard, Mr. Emile', 'Newsom, Miss. Helen Monypeny', 'Futrelle, Mr. Jacques Heath', 'Osen, Mr. Olaf Elon', 'Giglio, Mr. Victor', 'Boulos, Mrs. Joseph (Sultana)', 'Nysten, Miss. Anna Sofia', 'Hakkarainen, Mrs. Pekka Pietari (Elin Matilda Dolck)', 'Burke, Mr. Jeremiah', 'Andrew, Mr. Edgardo Samuel', 'Nicholls, Mr. Joseph Charles', 'Andersson, Mr. August Edvard (\"Wennerstrom\")', 'Ford, Miss. Robina Maggie \"Ruby\"', 'Navratil, Mr. Michel (\"Louis M Hoffman\")', 'Byles, Rev. Thomas Roussel Davids', 'Bateman, Rev. Robert James', 'Pears, Mrs. Thomas (Edith Wearne)', 'Meo, Mr. Alfonzo', 'van Billiard, Mr. Austin Blyler', 'Olsen, Mr. Ole Martin', 'Williams, Mr. Charles Duane', 'Gilnagh, Miss. Katherine \"Katie\"', 'Corn, Mr. Harry', 'Smiljanic, Mr. Mile', 'Sage, Master. Thomas Henry', 'Cribb, Mr. John Hatfield', 'Watt, Mrs. James (Elizabeth \"Bessie\" Inglis Milne)', 'Bengtsson, Mr. John Viktor', 'Calic, Mr. Jovo', 'Panula, Master. Eino Viljami', 'Goldsmith, Master. Frank John William \"Frankie\"', 'Chibnall, Mrs. (Edith Martha Bowerman)', 'Skoog, Mrs. William (Anna Bernhardina Karlsson)', 'Baumann, Mr. John D', 'Ling, Mr. Lee', 'Van der hoef, Mr. Wyckoff', 'Rice, Master. Arthur', 'Johnson, Miss. Eleanor Ileen', 'Sivola, Mr. Antti Wilhelm', 'Smith, Mr. James Clinch', 'Klasen, Mr. Klas Albin', 'Lefebre, Master. Henry Forbes', 'Isham, Miss. Ann Elizabeth', 'Hale, Mr. Reginald', 'Leonard, Mr. Lionel', 'Sage, Miss. Constance Gladys', 'Pernot, Mr. Rene', 'Asplund, Master. Clarence Gustaf Hugo', 'Becker, Master. Richard F', 'Kink-Heilmann, Miss. Luise Gretchen', 'Rood, Mr. Hugh Roscoe', 'O\\'Brien, Mrs. Thomas (Johanna \"Hannah\" Godfrey)', 'Romaine, Mr. Charles Hallace (\"Mr C Rolmane\")', 'Bourke, Mr. John', 'Turcin, Mr. Stjepan', 'Pinsky, Mrs. (Rosa)', 'Carbines, Mr. William', 'Andersen-Jensen, Miss. Carla Christine Nielsine', 'Navratil, Master. Michel M', 'Brown, Mrs. James Joseph (Margaret Tobin)', 'Lurette, Miss. Elise', 'Mernagh, Mr. Robert', 'Olsen, Mr. Karl Siegwart Andreas', 'Madigan, Miss. Margaret \"Maggie\"', 'Yrois, Miss. Henriette (\"Mrs Harbeck\")', 'Vande Walle, Mr. Nestor Cyriel', 'Sage, Mr. Frederick', 'Johanson, Mr. Jakob Alfred', 'Youseff, Mr. Gerious', 'Cohen, Mr. Gurshon \"Gus\"', 'Strom, Miss. Telma Matilda', 'Backstrom, Mr. Karl Alfred', 'Albimona, Mr. Nassef Cassem', 'Carr, Miss. Helen \"Ellen\"', 'Blank, Mr. Henry', 'Ali, Mr. Ahmed', 'Cameron, Miss. Clear Annie', 'Perkin, Mr. John Henry', 'Givard, Mr. Hans Kristensen', 'Kiernan, Mr. Philip', 'Newell, Miss. Madeleine', 'Honkanen, Miss. Eliina', 'Jacobsohn, Mr. Sidney Samuel', 'Bazzani, Miss. Albina', 'Harris, Mr. Walter', 'Sunderland, Mr. Victor Francis', 'Bracken, Mr. James H', 'Green, Mr. George Henry', 'Nenkoff, Mr. Christo', 'Hoyt, Mr. Frederick Maxfield', 'Berglund, Mr. Karl Ivar Sven', 'Mellors, Mr. William John', 'Lovell, Mr. John Hall (\"Henry\")', 'Fahlstrom, Mr. Arne Jonas', 'Lefebre, Miss. Mathilde', 'Harris, Mrs. Henry Birkhardt (Irene Wallach)', 'Larsson, Mr. Bengt Edvin', 'Sjostedt, Mr. Ernst Adolf', 'Asplund, Miss. Lillian Gertrud', 'Leyson, Mr. Robert William Norman', 'Harknett, Miss. Alice Phoebe', 'Hold, Mr. Stephen', 'Collyer, Miss. Marjorie \"Lottie\"', 'Pengelly, Mr. Frederick William', 'Hunt, Mr. George Henry', 'Zabour, Miss. Thamine', 'Murphy, Miss. Katherine \"Kate\"', 'Coleridge, Mr. Reginald Charles', 'Maenpaa, Mr. Matti Alexanteri', 'Attalah, Mr. Sleiman', 'Minahan, Dr. William Edward', 'Lindahl, Miss. Agda Thorilda Viktoria', 'Hamalainen, Mrs. William (Anna)', 'Beckwith, Mr. Richard Leonard', 'Carter, Rev. Ernest Courtenay', 'Reed, Mr. James George', 'Strom, Mrs. Wilhelm (Elna Matilda Persson)', 'Stead, Mr. William Thomas', 'Lobb, Mr. William Arthur', 'Rosblom, Mrs. Viktor (Helena Wilhelmina)', 'Touma, Mrs. Darwis (Hanne Youssef Razi)', 'Thorne, Mrs. Gertrude Maybelle', 'Cherry, Miss. Gladys', 'Ward, Miss. Anna', 'Parrish, Mrs. (Lutie Davis)', 'Smith, Mr. Thomas', 'Asplund, Master. Edvin Rojj Felix', 'Taussig, Mr. Emil', 'Harrison, Mr. William', 'Henry, Miss. Delia', 'Reeves, Mr. David', 'Panula, Mr. Ernesti Arvid', 'Persson, Mr. Ernst Ulrik', 'Graham, Mrs. William Thompson (Edith Junkins)', 'Bissette, Miss. Amelia', 'Cairns, Mr. Alexander', 'Tornquist, Mr. William Henry', 'Mellinger, Mrs. (Elizabeth Anne Maidment)', 'Natsch, Mr. Charles H', 'Healy, Miss. Hanora \"Nora\"', 'Andrews, Miss. Kornelia Theodosia', 'Lindblom, Miss. Augusta Charlotta', 'Parkes, Mr. Francis \"Frank\"', 'Rice, Master. Eric', 'Abbott, Mrs. Stanton (Rosa Hunt)', 'Duane, Mr. Frank', 'Olsson, Mr. Nils Johan Goransson', 'de Pelsmaeker, Mr. Alfons', 'Dorking, Mr. Edward Arthur', 'Smith, Mr. Richard William', 'Stankovic, Mr. Ivan', 'de Mulder, Mr. Theodore', 'Naidenoff, Mr. Penko', 'Hosono, Mr. Masabumi', 'Connolly, Miss. Kate', 'Barber, Miss. Ellen \"Nellie\"', 'Bishop, Mrs. Dickinson H (Helen Walton)', 'Levy, Mr. Rene Jacques', 'Haas, Miss. Aloisia', 'Mineff, Mr. Ivan', 'Lewy, Mr. Ervin G', 'Hanna, Mr. Mansour', 'Allison, Miss. Helen Loraine', 'Saalfeld, Mr. Adolphe', 'Baxter, Mrs. James (Helene DeLaudeniere Chaput)', 'Kelly, Miss. Anna Katherine \"Annie Kate\"', 'McCoy, Mr. Bernard', 'Johnson, Mr. William Cahoone Jr', 'Keane, Miss. Nora A', 'Williams, Mr. Howard Hugh \"Harry\"', 'Allison, Master. Hudson Trevor', 'Fleming, Miss. Margaret', 'Penasco y Castellana, Mrs. Victor de Satode (Maria Josefa Perez de Soto y Vallejo)', 'Abelson, Mr. Samuel', 'Francatelli, Miss. Laura Mabel', 'Hays, Miss. Margaret Bechstein', 'Ryerson, Miss. Emily Borie', 'Lahtinen, Mrs. William (Anna Sylfven)', 'Hendekovic, Mr. Ignjac', 'Hart, Mr. Benjamin', 'Nilsson, Miss. Helmina Josefina', 'Kantor, Mrs. Sinai (Miriam Sternin)', 'Moraweck, Dr. Ernest', 'Wick, Miss. Mary Natalie', 'Spedden, Mrs. Frederic Oakley (Margaretta Corning Stone)', 'Dennis, Mr. Samuel', 'Danoff, Mr. Yoto', 'Slayter, Miss. Hilda Mary', 'Caldwell, Mrs. Albert Francis (Sylvia Mae Harbaugh)', 'Sage, Mr. George John Jr', 'Young, Miss. Marie Grice', 'Nysveen, Mr. Johan Hansen', 'Ball, Mrs. (Ada E Hall)', 'Goldsmith, Mrs. Frank John (Emily Alice Brown)', 'Hippach, Miss. Jean Gertrude', 'McCoy, Miss. Agnes', 'Partner, Mr. Austen', 'Graham, Mr. George Edward', 'Vander Planke, Mr. Leo Edmondus', 'Frauenthal, Mrs. Henry William (Clara Heinsheimer)', 'Denkoff, Mr. Mitto', 'Pears, Mr. Thomas Clinton', 'Burns, Miss. Elizabeth Margaret', 'Dahl, Mr. Karl Edwart', 'Blackwell, Mr. Stephen Weart', 'Navratil, Master. Edmond Roger', 'Fortune, Miss. Alice Elizabeth', 'Collander, Mr. Erik Gustaf', 'Sedgwick, Mr. Charles Frederick Waddington', 'Fox, Mr. Stanley Hubert', 'Brown, Miss. Amelia \"Mildred\"', 'Smith, Miss. Marion Elsie', 'Davison, Mrs. Thomas Henry (Mary E Finck)', 'Coutts, Master. William Loch \"William\"', 'Dimic, Mr. Jovan', 'Odahl, Mr. Nils Martin', 'Williams-Lambert, Mr. Fletcher Fellows', 'Elias, Mr. Tannous', 'Arnold-Franchi, Mr. Josef', 'Yousif, Mr. Wazli', 'Vanden Steen, Mr. Leo Peter', 'Bowerman, Miss. Elsie Edith', 'Funk, Miss. Annie Clemmer', 'McGovern, Miss. Mary', 'Mockler, Miss. Helen Mary \"Ellie\"', 'Skoog, Mr. Wilhelm', 'del Carlo, Mr. Sebastiano', 'Barbara, Mrs. (Catherine David)', 'Asim, Mr. Adola', \"O'Brien, Mr. Thomas\", 'Adahl, Mr. Mauritz Nils Martin', 'Warren, Mrs. Frank Manley (Anna Sophia Atkinson)', 'Moussa, Mrs. (Mantoura Boulos)', 'Jermyn, Miss. Annie', 'Aubart, Mme. Leontine Pauline', 'Harder, Mr. George Achilles', 'Wiklund, Mr. Jakob Alfred', 'Beavan, Mr. William Thomas', 'Ringhini, Mr. Sante', 'Palsson, Miss. Stina Viola', 'Meyer, Mrs. Edgar Joseph (Leila Saks)', 'Landergren, Miss. Aurora Adelia', 'Widener, Mr. Harry Elkins', 'Betros, Mr. Tannous', 'Gustafsson, Mr. Karl Gideon', 'Bidois, Miss. Rosalie', 'Nakid, Miss. Maria (\"Mary\")', 'Tikkanen, Mr. Juho', 'Holverson, Mrs. Alexander Oskar (Mary Aline Towner)', 'Plotcharsky, Mr. Vasil', 'Davies, Mr. Charles Henry', 'Goodwin, Master. Sidney Leonard', 'Buss, Miss. Kate', 'Sadlier, Mr. Matthew', 'Lehmann, Miss. Bertha', 'Carter, Mr. William Ernest', 'Jansson, Mr. Carl Olof', 'Gustafsson, Mr. Johan Birger', 'Newell, Miss. Marjorie', 'Sandstrom, Mrs. Hjalmar (Agnes Charlotta Bengtsson)', 'Johansson, Mr. Erik', 'Olsson, Miss. Elina', 'McKane, Mr. Peter David', 'Pain, Dr. Alfred', 'Trout, Mrs. William H (Jessie L)', 'Niskanen, Mr. Juha', 'Adams, Mr. John', 'Jussila, Miss. Mari Aina', 'Hakkarainen, Mr. Pekka Pietari', 'Oreskovic, Miss. Marija', 'Gale, Mr. Shadrach', 'Widegren, Mr. Carl/Charles Peter', 'Richards, Master. William Rowe', 'Birkeland, Mr. Hans Martin Monsen', 'Lefebre, Miss. Ida', 'Sdycoff, Mr. Todor', 'Hart, Mr. Henry', 'Minahan, Miss. Daisy E', 'Cunningham, Mr. Alfred Fleming', 'Sundman, Mr. Johan Julian', 'Meek, Mrs. Thomas (Annie Louise Rowley)', 'Drew, Mrs. James Vivian (Lulu Thorne Christian)', 'Silven, Miss. Lyyli Karoliina', 'Matthews, Mr. William John', 'Van Impe, Miss. Catharina', 'Gheorgheff, Mr. Stanio', 'Charters, Mr. David', 'Zimmerman, Mr. Leo', 'Danbom, Mrs. Ernst Gilbert (Anna Sigrid Maria Brogren)', 'Rosblom, Mr. Viktor Richard', 'Wiseman, Mr. Phillippe', 'Clarke, Mrs. Charles V (Ada Maria Winfield)', 'Phillips, Miss. Kate Florence (\"Mrs Kate Louise Phillips Marshall\")', 'Flynn, Mr. James', 'Pickard, Mr. Berk (Berk Trembisky)', 'Bjornstrom-Steffansson, Mr. Mauritz Hakan', 'Thorneycroft, Mrs. Percival (Florence Kate White)', 'Louch, Mrs. Charles Alexander (Alice Adelaide Slow)', 'Kallio, Mr. Nikolai Erland', 'Silvey, Mr. William Baird', 'Carter, Miss. Lucile Polk', 'Ford, Miss. Doolina Margaret \"Daisy\"', 'Richards, Mrs. Sidney (Emily Hocking)', 'Fortune, Mr. Mark', 'Kvillner, Mr. Johan Henrik Johannesson', 'Hart, Mrs. Benjamin (Esther Ada Bloomfield)', 'Hampe, Mr. Leon', 'Petterson, Mr. Johan Emil', 'Reynaldo, Ms. Encarnacion', 'Johannesen-Bratthammer, Mr. Bernt', 'Dodge, Master. Washington', 'Mellinger, Miss. Madeleine Violet', 'Seward, Mr. Frederic Kimber', 'Baclini, Miss. Marie Catherine', 'Peuchen, Major. Arthur Godfrey', 'West, Mr. Edwy Arthur', 'Hagland, Mr. Ingvald Olai Olsen', 'Foreman, Mr. Benjamin Laventall', 'Goldenberg, Mr. Samuel L', 'Peduzzi, Mr. Joseph', 'Jalsevac, Mr. Ivan', 'Millet, Mr. Francis Davis', 'Kenyon, Mrs. Frederick R (Marion)', 'Toomey, Miss. Ellen', \"O'Connor, Mr. Maurice\", 'Anderson, Mr. Harry', 'Morley, Mr. William', 'Gee, Mr. Arthur H', 'Milling, Mr. Jacob Christian', 'Maisner, Mr. Simon', 'Goncalves, Mr. Manuel Estanslas', 'Campbell, Mr. William', 'Smart, Mr. John Montgomery', 'Scanlan, Mr. James', 'Baclini, Miss. Helene Barbara', 'Keefe, Mr. Arthur', 'Cacic, Mr. Luka', 'West, Mrs. Edwy Arthur (Ada Mary Worth)', 'Jerwan, Mrs. Amin S (Marie Marthe Thuillard)', 'Strandberg, Miss. Ida Sofia', 'Clifford, Mr. George Quincy', 'Renouf, Mr. Peter Henry', 'Braund, Mr. Lewis Richard', 'Karlsson, Mr. Nils August', 'Hirvonen, Miss. Hildur E', 'Goodwin, Master. Harold Victor', 'Frost, Mr. Anthony Wood \"Archie\"', 'Rouse, Mr. Richard Henry', 'Turkula, Mrs. (Hedwig)', 'Bishop, Mr. Dickinson H', 'Lefebre, Miss. Jeannie', 'Hoyt, Mrs. Frederick Maxfield (Jane Anne Forby)', 'Kent, Mr. Edward Austin', 'Somerton, Mr. Francis William', 'Coutts, Master. Eden Leslie \"Neville\"', 'Hagland, Mr. Konrad Mathias Reiersen', 'Windelov, Mr. Einar', 'Molson, Mr. Harry Markland', 'Artagaveytia, Mr. Ramon', 'Stanley, Mr. Edward Roland', 'Yousseff, Mr. Gerious', 'Eustis, Miss. Elizabeth Mussey', 'Shellard, Mr. Frederick William', 'Allison, Mrs. Hudson J C (Bessie Waldo Daniels)', 'Svensson, Mr. Olof', 'Calic, Mr. Petar', 'Canavan, Miss. Mary', \"O'Sullivan, Miss. Bridget Mary\", 'Laitinen, Miss. Kristina Sofia', 'Maioni, Miss. Roberta', 'Penasco y Castellana, Mr. Victor de Satode', 'Quick, Mrs. Frederick Charles (Jane Richards)', 'Bradley, Mr. George (\"George Arthur Brayton\")', 'Olsen, Mr. Henry Margido', 'Lang, Mr. Fang', 'Daly, Mr. Eugene Patrick', 'Webber, Mr. James', 'McGough, Mr. James Robert', 'Rothschild, Mrs. Martin (Elizabeth L. Barrett)', 'Coleff, Mr. Satio', 'Walker, Mr. William Anderson', 'Lemore, Mrs. (Amelia Milley)', 'Ryan, Mr. Patrick', 'Angle, Mrs. William A (Florence \"Mary\" Agnes Hughes)', 'Pavlovic, Mr. Stefo', 'Perreault, Miss. Anne', 'Vovk, Mr. Janko', 'Lahoud, Mr. Sarkis', 'Hippach, Mrs. Louis Albert (Ida Sophia Fischer)', 'Kassem, Mr. Fared', 'Farrell, Mr. James', 'Ridsdale, Miss. Lucy', 'Farthing, Mr. John', 'Salonen, Mr. Johan Werner', 'Hocking, Mr. Richard George', 'Quick, Miss. Phyllis May', 'Toufik, Mr. Nakli', 'Elias, Mr. Joseph Jr', 'Peter, Mrs. Catherine (Catherine Rizk)', 'Cacic, Miss. Marija', 'Hart, Miss. Eva Miriam', 'Butt, Major. Archibald Willingham', 'LeRoy, Miss. Bertha', 'Risien, Mr. Samuel Beard', 'Frolicher, Miss. Hedwig Margaritha', 'Crosby, Miss. Harriet R', 'Andersson, Miss. Ingeborg Constanzia', 'Andersson, Miss. Sigrid Elisabeth', 'Beane, Mr. Edward', 'Douglas, Mr. Walter Donald', 'Nicholson, Mr. Arthur Ernest', 'Beane, Mrs. Edward (Ethel Clarke)', 'Padro y Manent, Mr. Julian', 'Goldsmith, Mr. Frank John', 'Davies, Master. John Morgan Jr', 'Thayer, Mr. John Borland Jr', 'Sharp, Mr. Percival James R', \"O'Brien, Mr. Timothy\", 'Leeni, Mr. Fahim (\"Philip Zenni\")', 'Ohman, Miss. Velin', 'Wright, Mr. George', 'Duff Gordon, Lady. (Lucille Christiana Sutherland) (\"Mrs Morgan\")', 'Robbins, Mr. Victor', 'Taussig, Mrs. Emil (Tillie Mandelbaum)', 'de Messemaeker, Mrs. Guillaume Joseph (Emma)', 'Morrow, Mr. Thomas Rowan', 'Sivic, Mr. Husein', 'Norman, Mr. Robert Douglas', 'Simmons, Mr. John', 'Meanwell, Miss. (Marion Ogden)', 'Davies, Mr. Alfred J', 'Stoytcheff, Mr. Ilia', 'Palsson, Mrs. Nils (Alma Cornelia Berglund)', 'Doharr, Mr. Tannous', 'Jonsson, Mr. Carl', 'Harris, Mr. George', 'Appleton, Mrs. Edward Dale (Charlotte Lamson)', 'Flynn, Mr. John Irwin (\"Irving\")', 'Kelly, Miss. Mary', 'Rush, Mr. Alfred George John', 'Patchett, Mr. George', 'Garside, Miss. Ethel', 'Silvey, Mrs. William Baird (Alice Munger)', 'Caram, Mrs. Joseph (Maria Elias)', 'Jussila, Mr. Eiriik', 'Christy, Miss. Julie Rachel', 'Thayer, Mrs. John Borland (Marian Longstreth Morris)', 'Downton, Mr. William James', 'Ross, Mr. John Hugo', 'Paulner, Mr. Uscher', 'Taussig, Miss. Ruth', 'Jarvis, Mr. John Denzil', 'Frolicher-Stehli, Mr. Maxmillian', 'Gilinski, Mr. Eliezer', 'Murdlin, Mr. Joseph', 'Rintamaki, Mr. Matti', 'Stephenson, Mrs. Walter Bertram (Martha Eustis)', 'Elsbury, Mr. William James', 'Bourke, Miss. Mary', 'Chapman, Mr. John Henry', 'Van Impe, Mr. Jean Baptiste', 'Leitch, Miss. Jessie Wills', 'Johnson, Mr. Alfred', 'Boulos, Mr. Hanna', 'Duff Gordon, Sir. Cosmo Edmund (\"Mr Morgan\")', 'Jacobsohn, Mrs. Sidney Samuel (Amy Frances Christy)', 'Slabenoff, Mr. Petco', 'Harrington, Mr. Charles H', 'Torber, Mr. Ernst William', 'Homer, Mr. Harry (\"Mr E Haven\")', 'Lindell, Mr. Edvard Bengtsson', 'Karaic, Mr. Milan', 'Daniel, Mr. Robert Williams', 'Laroche, Mrs. Joseph (Juliette Marie Louise Lafargue)', 'Shutes, Miss. Elizabeth W', 'Andersson, Mrs. Anders Johan (Alfrida Konstantia Brogren)', 'Jardin, Mr. Jose Neto', 'Murphy, Miss. Margaret Jane', 'Horgan, Mr. John', 'Brocklebank, Mr. William Alfred', 'Herman, Miss. Alice', 'Danbom, Mr. Ernst Gilbert', 'Lobb, Mrs. William Arthur (Cordelia K Stanlick)', 'Becker, Miss. Marion Louise', 'Gavey, Mr. Lawrence', 'Yasbeck, Mr. Antoni', 'Kimball, Mr. Edwin Nelson Jr', 'Nakid, Mr. Sahid', 'Hansen, Mr. Henry Damsgaard', 'Bowen, Mr. David John \"Dai\"', 'Sutton, Mr. Frederick', 'Kirkland, Rev. Charles Leonard', 'Longley, Miss. Gretchen Fiske', 'Bostandyeff, Mr. Guentcho', \"O'Connell, Mr. Patrick D\", 'Barkworth, Mr. Algernon Henry Wilson', 'Lundahl, Mr. Johan Svensson', 'Stahelin-Maeglin, Dr. Max', 'Parr, Mr. William Henry Marsh', 'Skoog, Miss. Mabel', 'Davis, Miss. Mary', 'Leinonen, Mr. Antti Gustaf', 'Collyer, Mr. Harvey', 'Panula, Mrs. Juha (Maria Emilia Ojala)', 'Thorneycroft, Mr. Percival', 'Jensen, Mr. Hans Peder', 'Sagesser, Mlle. Emma', 'Skoog, Miss. Margit Elizabeth', 'Foo, Mr. Choong', 'Baclini, Miss. Eugenie', 'Harper, Mr. Henry Sleeper', 'Cor, Mr. Liudevit', 'Simonius-Blumer, Col. Oberst Alfons', 'Willey, Mr. Edward', 'Stanley, Miss. Amy Zillah Elsie', 'Mitkoff, Mr. Mito', 'Doling, Miss. Elsie', 'Kalvik, Mr. Johannes Halvorsen', 'O\\'Leary, Miss. Hanora \"Norah\"', 'Hegarty, Miss. Hanora \"Nora\"', 'Hickman, Mr. Leonard Mark', 'Radeff, Mr. Alexander', 'Bourke, Mrs. John (Catherine)', 'Eitemiller, Mr. George Floyd', 'Newell, Mr. Arthur Webster', 'Frauenthal, Dr. Henry William', 'Badt, Mr. Mohamed', 'Colley, Mr. Edward Pomeroy', 'Coleff, Mr. Peju', 'Lindqvist, Mr. Eino William', 'Hickman, Mr. Lewis', 'Butler, Mr. Reginald Fenton', 'Rommetvedt, Mr. Knud Paust', 'Cook, Mr. Jacob', 'Taylor, Mrs. Elmer Zebley (Juliet Cummins Wright)', 'Brown, Mrs. Thomas William Solomon (Elizabeth Catherine Ford)', 'Davidson, Mr. Thornton', 'Mitchell, Mr. Henry Michael', 'Wilhelms, Mr. Charles', 'Watson, Mr. Ennis Hastings', 'Edvardsson, Mr. Gustaf Hjalmar', 'Sawyer, Mr. Frederick Charles', 'Turja, Miss. Anna Sofia', 'Goodwin, Mrs. Frederick (Augusta Tyler)', 'Cardeza, Mr. Thomas Drake Martinez', 'Peters, Miss. Katie', 'Hassab, Mr. Hammad', 'Olsvigen, Mr. Thor Anderson', 'Goodwin, Mr. Charles Edward', 'Brown, Mr. Thomas William Solomon', 'Laroche, Mr. Joseph Philippe Lemercier', 'Panula, Mr. Jaako Arnold', 'Dakic, Mr. Branko', 'Fischer, Mr. Eberhard Thelander', 'Madill, Miss. Georgette Alexandra', 'Dick, Mr. Albert Adrian', 'Karun, Miss. Manca', 'Lam, Mr. Ali', 'Saad, Mr. Khalil', 'Weir, Col. John', 'Chapman, Mr. Charles Henry', 'Kelly, Mr. James', 'Mullens, Miss. Katherine \"Katie\"', 'Thayer, Mr. John Borland', 'Humblen, Mr. Adolf Mathias Nicolai Olsen', 'Astor, Mrs. John Jacob (Madeleine Talmadge Force)', 'Silverthorne, Mr. Spencer Victor', 'Barbara, Miss. Saiide', 'Gallagher, Mr. Martin', 'Hansen, Mr. Henrik Juul', 'Morley, Mr. Henry Samuel (\"Mr Henry Marshall\")', 'Kelly, Mrs. Florence \"Fannie\"', 'Calderhead, Mr. Edward Pennington', 'Cleaver, Miss. Alice', 'Moubarek, Master. Halim Gonios (\"William George\")', 'Mayne, Mlle. Berthe Antonine (\"Mrs de Villiers\")', 'Klaber, Mr. Herman', 'Taylor, Mr. Elmer Zebley', 'Larsson, Mr. August Viktor', 'Greenberg, Mr. Samuel', 'Soholt, Mr. Peter Andreas Lauritz Andersen', 'Endres, Miss. Caroline Louise', 'Troutt, Miss. Edwina Celia \"Winnie\"', 'McEvoy, Mr. Michael', 'Johnson, Mr. Malkolm Joackim', 'Harper, Miss. Annie Jessie \"Nina\"', 'Jensen, Mr. Svend Lauritz', 'Gillespie, Mr. William Henry', 'Hodges, Mr. Henry Price', 'Chambers, Mr. Norman Campbell', 'Oreskovic, Mr. Luka', 'Renouf, Mrs. Peter Henry (Lillian Jefferys)', 'Mannion, Miss. Margareth', 'Bryhl, Mr. Kurt Arnold Gottfrid', 'Ilmakangas, Miss. Pieta Sofia', 'Allen, Miss. Elisabeth Walton', 'Hassan, Mr. Houssein G N', 'Knight, Mr. Robert J', 'Berriman, Mr. William John', 'Troupiansky, Mr. Moses Aaron', 'Williams, Mr. Leslie', 'Ford, Mrs. Edward (Margaret Ann Watson)', 'Lesurer, Mr. Gustave J', 'Ivanoff, Mr. Kanio', 'Nankoff, Mr. Minko', 'Hawksford, Mr. Walter James', 'Cavendish, Mr. Tyrell William', 'Ryerson, Miss. Susan Parker \"Suzette\"', 'McNamee, Mr. Neal', 'Stranden, Mr. Juho', 'Crosby, Capt. Edward Gifford', 'Abbott, Mr. Rossmore Edward', 'Sinkkonen, Miss. Anna', 'Marvin, Mr. Daniel Warner', 'Connaghton, Mr. Michael', 'Wells, Miss. Joan', 'Moor, Master. Meier', 'Vande Velde, Mr. Johannes Joseph', 'Jonkoff, Mr. Lalio', 'Herman, Mrs. Samuel (Jane Laver)', 'Hamalainen, Master. Viljo', 'Carlsson, Mr. August Sigfrid', 'Bailey, Mr. Percy Andrew', 'Theobald, Mr. Thomas Leonard', 'Rothes, the Countess. of (Lucy Noel Martha Dyer-Edwards)', 'Garfirth, Mr. John', 'Nirva, Mr. Iisakki Antino Aijo', 'Barah, Mr. Hanna Assi', 'Carter, Mrs. William Ernest (Lucile Polk)', 'Eklund, Mr. Hans Linus', 'Hogeboom, Mrs. John C (Anna Andrews)', 'Brewe, Dr. Arthur Jackson', 'Mangan, Miss. Mary', 'Moran, Mr. Daniel J', 'Gronnestad, Mr. Daniel Danielsen', 'Lievens, Mr. Rene Aime', 'Jensen, Mr. Niels Peder', 'Mack, Mrs. (Mary)', 'Elias, Mr. Dibo', 'Hocking, Mrs. Elizabeth (Eliza Needs)', 'Myhrman, Mr. Pehr Fabian Oliver Malkolm', 'Tobin, Mr. Roger', 'Emanuel, Miss. Virginia Ethel', 'Kilgannon, Mr. Thomas J', 'Robert, Mrs. Edward Scott (Elisabeth Walton McMillan)', 'Ayoub, Miss. Banoura', 'Dick, Mrs. Albert Adrian (Vera Gillespie)', 'Long, Mr. Milton Clyde', 'Johnston, Mr. Andrew G', 'Ali, Mr. William', 'Harmer, Mr. Abraham (David Lishin)', 'Sjoblom, Miss. Anna Sofia', 'Rice, Master. George Hugh', 'Dean, Master. Bertram Vere', 'Guggenheim, Mr. Benjamin', 'Keane, Mr. Andrew \"Andy\"', 'Gaskell, Mr. Alfred', 'Sage, Miss. Stella Anna', 'Hoyt, Mr. William Fisher', 'Dantcheff, Mr. Ristiu', 'Otter, Mr. Richard', 'Leader, Dr. Alice (Farnham)', 'Osman, Mrs. Mara', 'Ibrahim Shawah, Mr. Yousseff', 'Van Impe, Mrs. Jean Baptiste (Rosalie Paula Govaert)', 'Ponesell, Mr. Martin', 'Collyer, Mrs. Harvey (Charlotte Annie Tate)', 'Carter, Master. William Thornton II', 'Thomas, Master. Assad Alexander', 'Hedman, Mr. Oskar Arvid', 'Johansson, Mr. Karl Johan', 'Andrews, Mr. Thomas Jr', 'Pettersson, Miss. Ellen Natalia', 'Meyer, Mr. August', 'Chambers, Mrs. Norman Campbell (Bertha Griggs)', 'Alexander, Mr. William', 'Lester, Mr. James', 'Slemen, Mr. Richard James', 'Andersson, Miss. Ebba Iris Alfrida', 'Tomlin, Mr. Ernest Portage', 'Fry, Mr. Richard', 'Heininen, Miss. Wendla Maria', 'Mallet, Mr. Albert', 'Holm, Mr. John Fredrik Alexander', 'Skoog, Master. Karl Thorsten', 'Hays, Mrs. Charles Melville (Clara Jennings Gregg)', 'Lulic, Mr. Nikola', 'Reuchlin, Jonkheer. John George', 'Moor, Mrs. (Beila)', 'Panula, Master. Urho Abraham', 'Flynn, Mr. John', 'Lam, Mr. Len', 'Mallet, Master. Andre', 'McCormack, Mr. Thomas Joseph', 'Stone, Mrs. George Nelson (Martha Evelyn)', 'Yasbeck, Mrs. Antoni (Selini Alexander)', 'Richards, Master. George Sibley', 'Saad, Mr. Amin', 'Augustsson, Mr. Albert', 'Allum, Mr. Owen George', 'Compton, Miss. Sara Rebecca', 'Pasic, Mr. Jakob', 'Sirota, Mr. Maurice', 'Chip, Mr. Chang', 'Marechal, Mr. Pierre', 'Alhomaki, Mr. Ilmari Rudolf', 'Mudd, Mr. Thomas Charles', 'Serepeca, Miss. Augusta', 'Lemberopolous, Mr. Peter L', 'Culumovic, Mr. Jeso', 'Abbing, Mr. Anthony', 'Sage, Mr. Douglas Bullen', 'Markoff, Mr. Marin', 'Harper, Rev. John', 'Goldenberg, Mrs. Samuel L (Edwiga Grabowska)', 'Andersson, Master. Sigvard Harald Elias', 'Svensson, Mr. Johan', 'Boulos, Miss. Nourelain', 'Lines, Miss. Mary Conover', 'Carter, Mrs. Ernest Courtenay (Lilian Hughes)', 'Aks, Mrs. Sam (Leah Rosen)', 'Wick, Mrs. George Dennick (Mary Hitchcock)', 'Daly, Mr. Peter Denis ', 'Baclini, Mrs. Solomon (Latifa Qurban)', 'Razi, Mr. Raihed', 'Hansen, Mr. Claus Peter', 'Giles, Mr. Frederick Edward', 'Swift, Mrs. Frederick Joel (Margaret Welles Barron)', 'Sage, Miss. Dorothy Edith \"Dolly\"', 'Gill, Mr. John William', 'Bystrom, Mrs. (Karolina)', 'Duran y More, Miss. Asuncion', 'Roebling, Mr. Washington Augustus II', 'van Melkebeke, Mr. Philemon', 'Johnson, Master. Harold Theodor', 'Balkic, Mr. Cerin', 'Beckwith, Mrs. Richard Leonard (Sallie Monypeny)', 'Carlsson, Mr. Frans Olof', 'Vander Cruyssen, Mr. Victor', 'Abelson, Mrs. Samuel (Hannah Wizosky)', 'Najib, Miss. Adele Kiamie \"Jane\"', 'Gustafsson, Mr. Alfred Ossian', 'Petroff, Mr. Nedelio', 'Laleff, Mr. Kristo', 'Potter, Mrs. Thomas Jr (Lily Alexenia Wilson)', 'Shelley, Mrs. William (Imanita Parrish Hall)', 'Markun, Mr. Johann', 'Dahlberg, Miss. Gerda Ulrika', 'Banfield, Mr. Frederick James', 'Sutehall, Mr. Henry Jr', 'Rice, Mrs. William (Margaret Norton)', 'Montvila, Rev. Juozas', 'Graham, Miss. Margaret Edith', 'Johnston, Miss. Catherine Helen \"Carrie\"', 'Behr, Mr. Karl Howell', 'Dooley, Mr. Patrick'], 'Sex': ['male', 'female', 'female', 'female', 'male', 'male', 'male', 'male', 'female', 'female', 'female', 'female', 'male', 'male', 'female', 'female', 'male', 'male', 'female', 'female', 'male', 'male', 'female', 'male', 'female', 'female', 'male', 'male', 'female', 'male', 'male', 'female', 'female', 'male', 'male', 'male', 'male', 'male', 'female', 'female', 'female', 'female', 'male', 'female', 'female', 'male', 'male', 'female', 'male', 'female', 'male', 'male', 'female', 'female', 'male', 'male', 'female', 'male', 'female', 'male', 'male', 'female', 'male', 'male', 'male', 'male', 'female', 'male', 'female', 'male', 'male', 'female', 'male', 'male', 'male', 'male', 'male', 'male', 'male', 'female', 'male', 'male', 'female', 'male', 'female', 'female', 'male', 'male', 'female', 'male', 'male', 'male', 'male', 'male', 'male', 'male', 'male', 'male', 'female', 'male', 'female', 'male', 'male', 'male', 'male', 'male', 'female', 'male', 'male', 'female', 'male', 'female', 'male', 'female', 'female', 'male', 'male', 'male', 'male', 'female', 'male', 'male', 'male', 'female', 'male', 'male', 'male', 'male', 'female', 'male', 'male', 'male', 'female', 'female', 'male', 'male', 'female', 'male', 'male', 'male', 'female', 'female', 'female', 'male', 'male', 'male', 'male', 'female', 'male', 'male', 'male', 'female', 'male', 'male', 'male', 'male', 'female', 'male', 'male', 'male', 'male', 'female', 'male', 'male', 'male', 'male', 'female', 'female', 'male', 'male', 'male', 'male', 'female', 'male', 'male', 'male', 'male', 'female', 'male', 'male', 'female', 'male', 'male', 'male', 'female', 'male', 'female', 'male', 'male', 'male', 'female', 'male', 'female', 'male', 'female', 'female', 'male', 'male', 'female', 'female', 'male', 'male', 'male', 'male', 'male', 'female', 'male', 'male', 'female', 'male', 'male', 'female', 'male', 'male', 'male', 'female', 'female', 'male', 'female', 'male', 'male', 'male', 'male', 'male', 'male', 'male', 'male', 'male', 'male', 'female', 'female', 'male', 'male', 'female', 'male', 'female', 'male', 'female', 'male', 'male', 'female', 'female', 'male', 'male', 'male', 'male', 'female', 'female', 'male', 'male', 'male', 'female', 'male', 'male', 'female', 'female', 'female', 'female', 'female', 'female', 'male', 'male', 'male', 'male', 'female', 'male', 'male', 'male', 'female', 'female', 'male', 'male', 'female', 'male', 'female', 'female', 'female', 'male', 'male', 'female', 'male', 'male', 'male', 'male', 'male', 'male', 'male', 'male', 'male', 'female', 'female', 'female', 'male', 'female', 'male', 'male', 'male', 'female', 'male', 'female', 'female', 'male', 'male', 'female', 'male', 'male', 'female', 'female', 'male', 'female', 'female', 'female', 'female', 'male', 'male', 'female', 'female', 'male', 'female', 'female', 'male', 'male', 'female', 'female', 'male', 'female', 'male', 'female', 'female', 'female', 'female', 'male', 'male', 'male', 'female', 'male', 'male', 'female', 'male', 'male', 'male', 'female', 'male', 'male', 'male', 'female', 'female', 'female', 'male', 'male', 'male', 'male', 'male', 'male', 'male', 'male', 'female', 'female', 'female', 'female', 'male', 'male', 'female', 'male', 'male', 'male', 'female', 'female', 'female', 'female', 'male', 'male', 'male', 'male', 'female', 'female', 'female', 'male', 'male', 'male', 'female', 'female', 'male', 'female', 'male', 'male', 'male', 'female', 'male', 'female', 'male', 'male', 'male', 'female', 'female', 'male', 'female', 'male', 'male', 'female', 'male', 'male', 'female', 'male', 'female', 'male', 'male', 'male', 'male', 'female', 'male', 'male', 'female', 'male', 'male', 'female', 'female', 'female', 'male', 'female', 'male', 'male', 'male', 'female', 'male', 'male', 'female', 'female', 'male', 'male', 'male', 'female', 'female', 'male', 'male', 'female', 'female', 'female', 'male', 'male', 'female', 'male', 'male', 'female', 'male', 'male', 'female', 'male', 'female', 'male', 'male', 'male', 'male', 'male', 'male', 'male', 'male', 'female', 'female', 'male', 'male', 'male', 'male', 'male', 'male', 'male', 'male', 'male', 'male', 'female', 'male', 'male', 'female', 'female', 'female', 'male', 'male', 'male', 'male', 'female', 'male', 'male', 'male', 'female', 'male', 'female', 'female', 'male', 'male', 'male', 'male', 'male', 'male', 'male', 'male', 'male', 'female', 'male', 'female', 'male', 'male', 'female', 'female', 'female', 'female', 'male', 'female', 'male', 'male', 'male', 'male', 'male', 'male', 'female', 'male', 'male', 'female', 'male', 'female', 'male', 'female', 'male', 'male', 'female', 'male', 'male', 'female', 'male', 'male', 'male', 'female', 'male', 'male', 'female', 'female', 'female', 'male', 'female', 'male', 'female', 'female', 'female', 'female', 'male', 'male', 'male', 'female', 'male', 'male', 'male', 'male', 'male', 'male', 'male', 'female', 'male', 'female', 'male', 'female', 'female', 'male', 'male', 'male', 'male', 'female', 'male', 'male', 'female', 'male', 'male', 'male', 'female', 'male', 'female', 'male', 'male', 'female', 'female', 'female', 'male', 'female', 'female', 'male', 'male', 'male', 'female', 'male', 'male', 'male', 'male', 'male', 'female', 'male', 'female', 'male', 'male', 'female', 'male', 'male', 'male', 'female', 'male', 'male', 'male', 'male', 'male', 'male', 'male', 'female', 'female', 'female', 'male', 'female', 'male', 'male', 'female', 'male', 'female', 'female', 'male', 'male', 'male', 'male', 'male', 'male', 'male', 'male', 'female', 'male', 'male', 'male', 'male', 'male', 'male', 'female', 'female', 'male', 'male', 'female', 'male', 'male', 'female', 'female', 'male', 'female', 'male', 'male', 'male', 'male', 'female', 'male', 'female', 'male', 'female', 'female', 'male', 'male', 'female', 'male', 'male', 'male', 'male', 'male', 'male', 'male', 'male', 'male', 'male', 'male', 'female', 'female', 'male', 'male', 'male', 'male', 'male', 'male', 'female', 'female', 'male', 'female', 'male', 'male', 'male', 'male', 'male', 'male', 'male', 'male', 'female', 'male', 'female', 'male', 'male', 'male', 'male', 'male', 'female', 'male', 'male', 'female', 'male', 'female', 'male', 'male', 'male', 'female', 'male', 'female', 'male', 'female', 'male', 'male', 'male', 'male', 'male', 'female', 'female', 'male', 'male', 'female', 'male', 'male', 'male', 'male', 'male', 'female', 'female', 'male', 'female', 'female', 'male', 'male', 'male', 'male', 'male', 'female', 'male', 'male', 'male', 'male', 'male', 'female', 'male', 'male', 'male', 'male', 'female', 'male', 'male', 'female', 'male', 'male', 'male', 'female', 'male', 'male', 'male', 'male', 'female', 'male', 'male', 'male', 'female', 'male', 'female', 'male', 'female', 'male', 'male', 'male', 'male', 'female', 'male', 'female', 'male', 'male', 'female', 'male', 'female', 'female', 'female', 'male', 'male', 'male', 'male', 'female', 'male', 'male', 'male', 'male', 'male', 'female', 'male', 'male', 'male', 'female', 'female', 'male', 'female', 'male', 'female', 'male', 'male', 'male', 'male', 'male', 'female', 'male', 'female', 'male', 'male', 'male', 'female', 'male', 'male', 'female', 'male', 'male', 'male', 'female', 'male', 'male', 'female', 'male', 'male', 'male', 'male', 'male', 'female', 'female', 'male', 'male', 'male', 'male', 'female', 'male', 'male', 'male', 'male', 'male', 'male', 'female', 'male', 'male', 'male', 'male', 'male', 'male', 'female', 'male', 'male', 'female', 'female', 'female', 'female', 'female', 'male', 'female', 'male', 'male', 'male', 'female', 'female', 'male', 'female', 'female', 'male', 'male', 'male', 'male', 'female', 'male', 'male', 'female', 'female', 'male', 'male', 'male', 'female', 'female', 'male', 'female', 'male', 'male', 'female', 'male', 'female', 'female', 'male', 'male'], 'Age': [22.0, 38.0, 26.0, 35.0, 35.0, nan, 54.0, 2.0, 27.0, 14.0, 4.0, 58.0, 20.0, 39.0, 14.0, 55.0, 2.0, nan, 31.0, nan, 35.0, 34.0, 15.0, 28.0, 8.0, 38.0, nan, 19.0, nan, nan, 40.0, nan, nan, 66.0, 28.0, 42.0, nan, 21.0, 18.0, 14.0, 40.0, 27.0, nan, 3.0, 19.0, nan, nan, nan, nan, 18.0, 7.0, 21.0, 49.0, 29.0, 65.0, nan, 21.0, 28.5, 5.0, 11.0, 22.0, 38.0, 45.0, 4.0, nan, nan, 29.0, 19.0, 17.0, 26.0, 32.0, 16.0, 21.0, 26.0, 32.0, 25.0, nan, nan, 0.83, 30.0, 22.0, 29.0, nan, 28.0, 17.0, 33.0, 16.0, nan, 23.0, 24.0, 29.0, 20.0, 46.0, 26.0, 59.0, nan, 71.0, 23.0, 34.0, 34.0, 28.0, nan, 21.0, 33.0, 37.0, 28.0, 21.0, nan, 38.0, nan, 47.0, 14.5, 22.0, 20.0, 17.0, 21.0, 70.5, 29.0, 24.0, 2.0, 21.0, nan, 32.5, 32.5, 54.0, 12.0, nan, 24.0, nan, 45.0, 33.0, 20.0, 47.0, 29.0, 25.0, 23.0, 19.0, 37.0, 16.0, 24.0, nan, 22.0, 24.0, 19.0, 18.0, 19.0, 27.0, 9.0, 36.5, 42.0, 51.0, 22.0, 55.5, 40.5, nan, 51.0, 16.0, 30.0, nan, nan, 44.0, 40.0, 26.0, 17.0, 1.0, 9.0, nan, 45.0, nan, 28.0, 61.0, 4.0, 1.0, 21.0, 56.0, 18.0, nan, 50.0, 30.0, 36.0, nan, nan, 9.0, 1.0, 4.0, nan, nan, 45.0, 40.0, 36.0, 32.0, 19.0, 19.0, 3.0, 44.0, 58.0, nan, 42.0, nan, 24.0, 28.0, nan, 34.0, 45.5, 18.0, 2.0, 32.0, 26.0, 16.0, 40.0, 24.0, 35.0, 22.0, 30.0, nan, 31.0, 27.0, 42.0, 32.0, 30.0, 16.0, 27.0, 51.0, nan, 38.0, 22.0, 19.0, 20.5, 18.0, nan, 35.0, 29.0, 59.0, 5.0, 24.0, nan, 44.0, 8.0, 19.0, 33.0, nan, nan, 29.0, 22.0, 30.0, 44.0, 25.0, 24.0, 37.0, 54.0, nan, 29.0, 62.0, 30.0, 41.0, 29.0, nan, 30.0, 35.0, 50.0, nan, 3.0, 52.0, 40.0, nan, 36.0, 16.0, 25.0, 58.0, 35.0, nan, 25.0, 41.0, 37.0, nan, 63.0, 45.0, nan, 7.0, 35.0, 65.0, 28.0, 16.0, 19.0, nan, 33.0, 30.0, 22.0, 42.0, 22.0, 26.0, 19.0, 36.0, 24.0, 24.0, nan, 23.5, 2.0, nan, 50.0, nan, nan, 19.0, nan, nan, 0.92, nan, 17.0, 30.0, 30.0, 24.0, 18.0, 26.0, 28.0, 43.0, 26.0, 24.0, 54.0, 31.0, 40.0, 22.0, 27.0, 30.0, 22.0, nan, 36.0, 61.0, 36.0, 31.0, 16.0, nan, 45.5, 38.0, 16.0, nan, nan, 29.0, 41.0, 45.0, 45.0, 2.0, 24.0, 28.0, 25.0, 36.0, 24.0, 40.0, nan, 3.0, 42.0, 23.0, nan, 15.0, 25.0, nan, 28.0, 22.0, 38.0, nan, nan, 40.0, 29.0, 45.0, 35.0, nan, 30.0, 60.0, nan, nan, 24.0, 25.0, 18.0, 19.0, 22.0, 3.0, nan, 22.0, 27.0, 20.0, 19.0, 42.0, 1.0, 32.0, 35.0, nan, 18.0, 1.0, 36.0, nan, 17.0, 36.0, 21.0, 28.0, 23.0, 24.0, 22.0, 31.0, 46.0, 23.0, 28.0, 39.0, 26.0, 21.0, 28.0, 20.0, 34.0, 51.0, 3.0, 21.0, nan, nan, nan, 33.0, nan, 44.0, nan, 34.0, 18.0, 30.0, 10.0, nan, 21.0, 29.0, 28.0, 18.0, nan, 28.0, 19.0, nan, 32.0, 28.0, nan, 42.0, 17.0, 50.0, 14.0, 21.0, 24.0, 64.0, 31.0, 45.0, 20.0, 25.0, 28.0, nan, 4.0, 13.0, 34.0, 5.0, 52.0, 36.0, nan, 30.0, 49.0, nan, 29.0, 65.0, nan, 50.0, nan, 48.0, 34.0, 47.0, 48.0, nan, 38.0, nan, 56.0, nan, 0.75, nan, 38.0, 33.0, 23.0, 22.0, nan, 34.0, 29.0, 22.0, 2.0, 9.0, nan, 50.0, 63.0, 25.0, nan, 35.0, 58.0, 30.0, 9.0, nan, 21.0, 55.0, 71.0, 21.0, nan, 54.0, nan, 25.0, 24.0, 17.0, 21.0, nan, 37.0, 16.0, 18.0, 33.0, nan, 28.0, 26.0, 29.0, nan, 36.0, 54.0, 24.0, 47.0, 34.0, nan, 36.0, 32.0, 30.0, 22.0, nan, 44.0, nan, 40.5, 50.0, nan, 39.0, 23.0, 2.0, nan, 17.0, nan, 30.0, 7.0, 45.0, 30.0, nan, 22.0, 36.0, 9.0, 11.0, 32.0, 50.0, 64.0, 19.0, nan, 33.0, 8.0, 17.0, 27.0, nan, 22.0, 22.0, 62.0, 48.0, nan, 39.0, 36.0, nan, 40.0, 28.0, nan, nan, 24.0, 19.0, 29.0, nan, 32.0, 62.0, 53.0, 36.0, nan, 16.0, 19.0, 34.0, 39.0, nan, 32.0, 25.0, 39.0, 54.0, 36.0, nan, 18.0, 47.0, 60.0, 22.0, nan, 35.0, 52.0, 47.0, nan, 37.0, 36.0, nan, 49.0, nan, 49.0, 24.0, nan, nan, 44.0, 35.0, 36.0, 30.0, 27.0, 22.0, 40.0, 39.0, nan, nan, nan, 35.0, 24.0, 34.0, 26.0, 4.0, 26.0, 27.0, 42.0, 20.0, 21.0, 21.0, 61.0, 57.0, 21.0, 26.0, nan, 80.0, 51.0, 32.0, nan, 9.0, 28.0, 32.0, 31.0, 41.0, nan, 20.0, 24.0, 2.0, nan, 0.75, 48.0, 19.0, 56.0, nan, 23.0, nan, 18.0, 21.0, nan, 18.0, 24.0, nan, 32.0, 23.0, 58.0, 50.0, 40.0, 47.0, 36.0, 20.0, 32.0, 25.0, nan, 43.0, nan, 40.0, 31.0, 70.0, 31.0, nan, 18.0, 24.5, 18.0, 43.0, 36.0, nan, 27.0, 20.0, 14.0, 60.0, 25.0, 14.0, 19.0, 18.0, 15.0, 31.0, 4.0, nan, 25.0, 60.0, 52.0, 44.0, nan, 49.0, 42.0, 18.0, 35.0, 18.0, 25.0, 26.0, 39.0, 45.0, 42.0, 22.0, nan, 24.0, nan, 48.0, 29.0, 52.0, 19.0, 38.0, 27.0, nan, 33.0, 6.0, 17.0, 34.0, 50.0, 27.0, 20.0, 30.0, nan, 25.0, 25.0, 29.0, 11.0, nan, 23.0, 23.0, 28.5, 48.0, 35.0, nan, nan, nan, 36.0, 21.0, 24.0, 31.0, 70.0, 16.0, 30.0, 19.0, 31.0, 4.0, 6.0, 33.0, 23.0, 48.0, 0.67, 28.0, 18.0, 34.0, 33.0, nan, 41.0, 20.0, 36.0, 16.0, 51.0, nan, 30.5, nan, 32.0, 24.0, 48.0, 57.0, nan, 54.0, 18.0, nan, 5.0, nan, 43.0, 13.0, 17.0, 29.0, nan, 25.0, 25.0, 18.0, 8.0, 1.0, 46.0, nan, 16.0, nan, nan, 25.0, 39.0, 49.0, 31.0, 30.0, 30.0, 34.0, 31.0, 11.0, 0.42, 27.0, 31.0, 39.0, 18.0, 39.0, 33.0, 26.0, 39.0, 35.0, 6.0, 30.5, nan, 23.0, 31.0, 43.0, 10.0, 52.0, 27.0, 38.0, 27.0, 2.0, nan, nan, 1.0, nan, 62.0, 15.0, 0.83, nan, 23.0, 18.0, 39.0, 21.0, nan, 32.0, nan, 20.0, 16.0, 30.0, 34.5, 17.0, 42.0, nan, 35.0, 28.0, nan, 4.0, 74.0, 9.0, 16.0, 44.0, 18.0, 45.0, 51.0, 24.0, nan, 41.0, 21.0, 48.0, nan, 24.0, 42.0, 27.0, 31.0, nan, 4.0, 26.0, 47.0, 33.0, 47.0, 28.0, 15.0, 20.0, 19.0, nan, 56.0, 25.0, 33.0, 22.0, 28.0, 25.0, 39.0, 27.0, 19.0, nan, 26.0, 32.0], 'SibSp': [1, 1, 0, 1, 0, 0, 0, 3, 0, 1, 1, 0, 0, 1, 0, 0, 4, 0, 1, 0, 0, 0, 0, 0, 3, 1, 0, 3, 0, 0, 0, 1, 0, 0, 1, 1, 0, 0, 2, 1, 1, 1, 0, 1, 0, 0, 1, 0, 2, 1, 4, 0, 1, 1, 0, 0, 0, 0, 1, 5, 0, 0, 1, 3, 0, 1, 0, 0, 4, 2, 0, 5, 0, 1, 0, 0, 0, 0, 0, 0, 0, 0, 0, 0, 0, 3, 1, 0, 3, 0, 0, 0, 1, 1, 0, 0, 0, 0, 0, 1, 0, 0, 0, 0, 2, 0, 0, 0, 0, 1, 0, 1, 0, 1, 0, 0, 0, 1, 0, 4, 2, 0, 1, 0, 0, 1, 0, 0, 1, 0, 0, 0, 1, 1, 0, 0, 0, 1, 0, 0, 0, 0, 1, 0, 0, 1, 0, 2, 0, 0, 0, 1, 0, 0, 0, 0, 0, 0, 0, 8, 0, 0, 0, 0, 4, 0, 0, 1, 0, 0, 0, 4, 1, 0, 0, 1, 3, 0, 0, 0, 8, 0, 4, 2, 0, 0, 1, 0, 1, 0, 0, 0, 1, 1, 0, 0, 0, 0, 0, 0, 0, 8, 0, 0, 0, 0, 1, 0, 0, 0, 0, 0, 0, 0, 1, 1, 0, 1, 0, 0, 0, 0, 0, 0, 1, 0, 0, 0, 0, 3, 1, 0, 0, 4, 0, 0, 1, 0, 0, 0, 1, 1, 0, 0, 0, 2, 0, 0, 1, 1, 0, 1, 0, 1, 0, 0, 0, 0, 0, 0, 0, 4, 1, 0, 0, 0, 4, 1, 0, 0, 0, 0, 0, 0, 0, 1, 0, 0, 4, 1, 0, 0, 0, 0, 0, 0, 0, 0, 0, 0, 0, 1, 0, 0, 0, 0, 0, 1, 0, 0, 0, 2, 0, 0, 0, 1, 0, 1, 1, 0, 0, 2, 1, 0, 1, 0, 1, 0, 0, 1, 0, 0, 0, 1, 8, 0, 0, 0, 1, 0, 2, 0, 0, 2, 1, 0, 1, 0, 0, 0, 1, 3, 0, 0, 0, 0, 0, 1, 1, 0, 0, 0, 1, 1, 0, 0, 0, 0, 0, 0, 1, 1, 0, 0, 1, 0, 1, 0, 0, 0, 1, 1, 0, 0, 3, 1, 0, 0, 0, 0, 0, 0, 0, 1, 0, 0, 5, 0, 0, 0, 1, 0, 2, 1, 0, 0, 0, 0, 0, 0, 0, 0, 1, 1, 0, 1, 0, 1, 0, 3, 0, 0, 1, 0, 0, 0, 1, 0, 0, 0, 0, 0, 0, 1, 1, 0, 1, 0, 0, 0, 0, 1, 1, 0, 1, 1, 2, 2, 1, 0, 1, 0, 1, 0, 0, 0, 0, 0, 2, 0, 1, 1, 0, 1, 0, 0, 0, 1, 0, 0, 0, 0, 0, 0, 0, 0, 0, 0, 0, 2, 0, 0, 1, 0, 0, 0, 1, 1, 0, 0, 5, 0, 0, 0, 1, 3, 1, 0, 0, 1, 1, 0, 0, 0, 0, 0, 1, 0, 1, 0, 0, 0, 0, 0, 0, 1, 0, 0, 0, 0, 0, 0, 0, 1, 0, 0, 0, 0, 1, 0, 0, 0, 0, 0, 0, 0, 0, 0, 0, 2, 1, 0, 1, 0, 0, 0, 0, 0, 0, 0, 0, 4, 4, 1, 1, 0, 1, 0, 1, 1, 0, 0, 0, 0, 0, 0, 1, 0, 1, 1, 0, 0, 0, 0, 0, 2, 0, 0, 0, 0, 0, 2, 0, 0, 0, 0, 0, 1, 1, 0, 1, 1, 0, 0, 0, 0, 0, 1, 0, 0, 0, 1, 0, 0, 1, 1, 0, 0, 0, 1, 2, 0, 0, 0, 0, 1, 0, 0, 1, 0, 1, 0, 1, 0, 0, 1, 1, 1, 2, 0, 1, 1, 1, 0, 0, 0, 0, 0, 0, 0, 0, 0, 0, 0, 3, 0, 0, 1, 0, 1, 0, 0, 3, 0, 2, 1, 0, 0, 0, 0, 0, 0, 0, 0, 0, 2, 0, 1, 0, 0, 2, 0, 0, 0, 1, 2, 0, 0, 0, 1, 1, 1, 0, 0, 0, 0, 0, 0, 1, 0, 0, 0, 0, 5, 1, 1, 4, 0, 0, 0, 1, 0, 0, 0, 0, 0, 0, 0, 1, 0, 1, 0, 0, 0, 1, 0, 0, 0, 0, 1, 0, 0, 1, 0, 0, 0, 0, 0, 0, 0, 0, 1, 0, 0, 1, 0, 3, 0, 1, 1, 0, 0, 0, 0, 0, 0, 1, 0, 0, 0, 0, 1, 2, 1, 0, 1, 1, 0, 1, 0, 1, 0, 0, 0, 1, 1, 0, 0, 0, 0, 0, 0, 0, 1, 0, 1, 0, 0, 1, 0, 0, 0, 0, 0, 1, 0, 0, 0, 0, 0, 0, 1, 0, 1, 0, 0, 0, 4, 1, 0, 0, 0, 8, 0, 0, 0, 0, 0, 0, 1, 0, 1, 1, 0, 0, 0, 0, 0, 0, 1, 0, 0, 0, 4, 0, 0, 0, 1, 0, 3, 1, 0, 0, 0, 4, 0, 0, 0, 0, 0, 1, 1, 0, 0, 0, 1, 0, 0, 0, 0, 0, 0, 0, 0, 0, 0, 8, 0, 0, 1, 4, 0, 1, 0, 1, 0, 1, 0, 0, 0, 2, 1, 0, 8, 0, 0, 1, 0, 0, 1, 0, 1, 0, 0, 1, 0, 0, 0, 0, 0, 0, 0, 0, 0, 0, 0, 0, 0, 1, 0, 0], 'Parch': [0, 0, 0, 0, 0, 0, 0, 1, 2, 0, 1, 0, 0, 5, 0, 0, 1, 0, 0, 0, 0, 0, 0, 0, 1, 5, 0, 2, 0, 0, 0, 0, 0, 0, 0, 0, 0, 0, 0, 0, 0, 0, 0, 2, 0, 0, 0, 0, 0, 0, 1, 0, 0, 0, 1, 0, 0, 0, 2, 2, 0, 0, 0, 2, 0, 1, 0, 0, 2, 0, 0, 2, 0, 0, 0, 0, 0, 0, 2, 0, 0, 0, 0, 0, 0, 0, 3, 0, 2, 0, 0, 0, 0, 2, 0, 0, 0, 1, 1, 0, 0, 0, 1, 0, 0, 0, 0, 0, 0, 0, 0, 0, 0, 0, 0, 0, 0, 0, 1, 2, 0, 0, 0, 0, 1, 0, 0, 0, 1, 0, 0, 0, 0, 0, 0, 0, 2, 0, 0, 0, 2, 0, 0, 0, 0, 1, 0, 2, 2, 0, 0, 0, 0, 2, 0, 1, 0, 0, 0, 2, 1, 0, 0, 0, 1, 2, 1, 4, 0, 0, 0, 1, 1, 0, 0, 1, 1, 0, 0, 0, 2, 0, 2, 1, 2, 0, 0, 0, 1, 0, 0, 0, 0, 1, 0, 0, 0, 1, 0, 0, 0, 2, 0, 0, 0, 1, 0, 0, 0, 0, 0, 0, 0, 0, 0, 0, 0, 0, 0, 0, 0, 0, 0, 0, 0, 0, 0, 0, 0, 1, 0, 0, 0, 2, 0, 0, 0, 2, 0, 0, 0, 0, 0, 0, 0, 0, 0, 2, 1, 0, 0, 1, 0, 0, 2, 2, 0, 0, 0, 1, 0, 2, 1, 0, 0, 0, 1, 0, 1, 0, 0, 0, 1, 1, 0, 0, 0, 0, 1, 1, 0, 0, 0, 0, 0, 0, 0, 0, 0, 0, 0, 0, 0, 0, 0, 0, 0, 2, 0, 1, 0, 0, 0, 0, 0, 2, 0, 0, 0, 0, 0, 2, 1, 0, 1, 0, 0, 0, 2, 1, 0, 0, 0, 1, 2, 0, 0, 0, 1, 1, 0, 0, 1, 0, 0, 0, 0, 0, 0, 0, 1, 2, 0, 0, 0, 0, 0, 0, 1, 0, 0, 0, 1, 0, 0, 0, 1, 0, 0, 0, 4, 0, 1, 0, 0, 0, 0, 0, 0, 0, 0, 0, 0, 0, 1, 0, 0, 2, 0, 0, 0, 2, 0, 0, 0, 0, 2, 0, 0, 0, 2, 0, 0, 0, 2, 0, 0, 0, 0, 0, 0, 0, 0, 0, 0, 0, 0, 1, 0, 1, 0, 0, 0, 0, 0, 0, 1, 2, 0, 2, 0, 0, 0, 1, 1, 0, 0, 0, 0, 0, 0, 0, 0, 0, 0, 2, 2, 3, 4, 0, 1, 0, 0, 0, 0, 2, 1, 0, 1, 0, 2, 0, 0, 0, 0, 0, 0, 0, 0, 0, 0, 0, 0, 0, 0, 0, 0, 0, 0, 1, 0, 0, 2, 0, 0, 0, 0, 0, 0, 1, 2, 0, 0, 0, 0, 1, 0, 0, 0, 1, 0, 0, 0, 0, 0, 0, 0, 0, 2, 0, 0, 0, 0, 0, 0, 0, 2, 0, 0, 0, 0, 0, 0, 0, 0, 0, 0, 0, 0, 0, 0, 0, 0, 1, 0, 0, 0, 0, 0, 1, 1, 0, 1, 2, 0, 2, 0, 0, 0, 2, 2, 2, 2, 0, 0, 0, 0, 0, 1, 1, 2, 0, 0, 0, 0, 0, 0, 0, 1, 0, 0, 0, 0, 0, 0, 0, 0, 4, 0, 0, 0, 0, 0, 0, 0, 0, 0, 0, 0, 0, 1, 1, 0, 0, 0, 2, 0, 1, 0, 0, 0, 0, 0, 2, 0, 1, 0, 0, 0, 0, 1, 0, 0, 0, 0, 0, 0, 0, 2, 0, 5, 0, 0, 0, 0, 2, 1, 0, 1, 0, 0, 0, 1, 0, 0, 0, 0, 0, 0, 0, 0, 0, 0, 0, 2, 0, 0, 1, 5, 0, 0, 0, 2, 0, 1, 0, 0, 0, 0, 0, 0, 1, 0, 0, 0, 0, 0, 1, 0, 2, 0, 0, 0, 0, 0, 0, 0, 0, 0, 0, 1, 0, 0, 0, 0, 0, 0, 0, 6, 1, 0, 0, 0, 2, 1, 2, 1, 0, 0, 1, 0, 1, 0, 0, 0, 0, 0, 0, 1, 0, 0, 0, 1, 0, 0, 0, 0, 0, 0, 1, 0, 0, 0, 0, 0, 0, 0, 0, 0, 0, 1, 0, 0, 0, 0, 0, 0, 0, 0, 0, 0, 0, 0, 0, 0, 0, 3, 0, 0, 0, 0, 0, 2, 0, 0, 1, 1, 0, 0, 0, 1, 1, 0, 0, 2, 1, 0, 0, 0, 0, 0, 0, 0, 2, 0, 0, 0, 0, 0, 0, 0, 0, 0, 0, 3, 0, 0, 0, 0, 1, 0, 0, 0, 2, 0, 0, 0, 1, 2, 0, 0, 0, 2, 0, 0, 0, 0, 0, 0, 1, 0, 1, 2, 1, 0, 0, 0, 0, 0, 0, 0, 0, 0, 2, 0, 0, 0, 1, 0, 2, 1, 0, 0, 1, 1, 0, 0, 2, 0, 0, 0, 1, 0, 0, 0, 1, 0, 0, 0, 0, 0, 0, 0, 0, 0, 0, 2, 0, 1, 0, 2, 0, 1, 1, 0, 1, 1, 0, 3, 0, 0, 0, 0, 2, 0, 0, 0, 0, 0, 1, 0, 1, 0, 0, 0, 0, 0, 0, 0, 1, 1, 0, 0, 0, 0, 5, 0, 0, 2, 0, 0], 'Ticket': ['A/5 21171', 'PC 17599', 'STON/O2. 3101282', '113803', '373450', '330877', '17463', '349909', '347742', '237736', 'PP 9549', '113783', 'A/5. 2151', '347082', '350406', '248706', '382652', '244373', '345763', '2649', '239865', '248698', '330923', '113788', '349909', '347077', '2631', '19950', '330959', '349216', 'PC 17601', 'PC 17569', '335677', 'C.A. 24579', 'PC 17604', '113789', '2677', 'A./5. 2152', '345764', '2651', '7546', '11668', '349253', 'SC/Paris 2123', '330958', 'S.C./A.4. 23567', '370371', '14311', '2662', '349237', '3101295', 'A/4. 39886', 'PC 17572', '2926', '113509', '19947', 'C.A. 31026', '2697', 'C.A. 34651', 'CA 2144', '2669', '113572', '36973', '347088', 'PC 17605', '2661', 'C.A. 29395', 'S.P. 3464', '3101281', '315151', 'C.A. 33111', 'CA 2144', 'S.O.C. 14879', '2680', '1601', '348123', '349208', '374746', '248738', '364516', '345767', '345779', '330932', '113059', 'SO/C 14885', '3101278', 'W./C. 6608', 'SOTON/OQ 392086', '19950', '343275', '343276', '347466', 'W.E.P. 5734', 'C.A. 2315', '364500', '374910', 'PC 17754', 'PC 17759', '231919', '244367', '349245', '349215', '35281', '7540', '3101276', '349207', '343120', '312991', '349249', '371110', '110465', '2665', '324669', '4136', '2627', 'STON/O 2. 3101294', '370369', '11668', 'PC 17558', '347082', 'S.O.C. 14879', 'A4. 54510', '237736', '27267', '35281', '2651', '370372', 'C 17369', '2668', '347061', '349241', 'SOTON/O.Q. 3101307', 'A/5. 3337', '228414', 'C.A. 29178', 'SC/PARIS 2133', '11752', '113803', '7534', 'PC 17593', '2678', '347081', 'STON/O2. 3101279', '365222', '231945', 'C.A. 33112', '350043', 'W./C. 6608', '230080', '244310', 'S.O.P. 1166', '113776', 'A.5. 11206', 'A/5. 851', 'Fa 265302', 'PC 17597', '35851', 'SOTON/OQ 392090', '315037', 'CA. 2343', '371362', 'C.A. 33595', '347068', '315093', '3101295', '363291', '113505', '347088', 'PC 17318', '1601', '111240', '382652', '347742', 'STON/O 2. 3101280', '17764', '350404', '4133', 'PC 17595', '250653', 'LINE', 'CA. 2343', 'SC/PARIS 2131', '347077', '230136', '315153', '113767', '370365', '111428', '364849', '349247', '234604', '28424', '350046', '230080', 'PC 17610', 'PC 17569', '368703', '4579', '370370', '248747', '345770', 'CA. 2343', '3101264', '2628', 'A/5 3540', '347054', '3101278', '2699', '367231', '112277', 'SOTON/O.Q. 3101311', 'F.C.C. 13528', 'A/5 21174', '250646', '367229', '35273', 'STON/O2. 3101283', '243847', '11813', 'W/C 14208', 'SOTON/OQ 392089', '220367', '21440', '349234', '19943', 'PP 4348', 'SW/PP 751', 'A/5 21173', '236171', '4133', '36973', '347067', '237442', '347077', 'C.A. 29566', 'W./C. 6609', '26707', 'C.A. 31921', '28665', 'SCO/W 1585', '2665', '367230', 'W./C. 14263', 'STON/O 2. 3101275', '2694', '19928', '347071', '250649', '11751', '244252', '362316', '347054', '113514', 'A/5. 3336', '370129', '2650', 'PC 17585', '110152', 'PC 17755', '230433', '384461', '347077', '110413', '112059', '382649', 'C.A. 17248', '3101295', '347083', 'PC 17582', 'PC 17760', '113798', 'LINE', '250644', 'PC 17596', '370375', '13502', '347073', '239853', '382652', 'C.A. 2673', '336439', '347464', '345778', 'A/5. 10482', '113056', '349239', '345774', '349206', '237798', '370373', '19877', '11967', 'SC/Paris 2163', '349236', '349233', 'PC 17612', '2693', '113781', '19988', 'PC 17558', '9234', '367226', 'LINE', '226593', 'A/5 2466', '113781', '17421', 'PC 17758', 'P/PP 3381', 'PC 17485', '11767', 'PC 17608', '250651', '349243', 'F.C.C. 13529', '347470', '244367', '29011', '36928', '16966', 'A/5 21172', '349219', '234818', '248738', 'CA. 2343', 'PC 17760', '345364', '28551', '363291', '111361', '367226', '113043', 'PC 17582', '345764', 'PC 17611', '349225', '113776', '16966', '7598', '113784', '230080', '19950', '248740', '244361', '229236', '248733', '31418', '386525', 'C.A. 37671', '315088', '7267', '113510', '2695', '349237', '2647', '345783', '113505', '237671', '330931', '330980', '347088', 'SC/PARIS 2167', '2691', 'SOTON/O.Q. 3101310', '370365', 'C 7076', '110813', '2626', '14313', 'PC 17477', '11765', '3101267', '323951', 'PC 17760', '349909', 'PC 17604', 'C 7077', '113503', '2648', '347069', 'PC 17757', '2653', 'STON/O 2. 3101293', '113789', '349227', 'S.O.C. 14879', 'CA 2144', '27849', '367655', 'SC 1748', '113760', '350034', '3101277', '35273', 'PP 9549', '350052', '350407', '28403', '244278', '240929', 'STON/O 2. 3101289', '341826', '4137', 'STON/O2. 3101279', '315096', '28664', '347064', '29106', '312992', '4133', '349222', '394140', '19928', '239853', 'STON/O 2. 3101269', '343095', '28220', '250652', '28228', '345773', '349254', 'A/5. 13032', '315082', '347080', '370129', 'A/4. 34244', '2003', '250655', '364851', 'SOTON/O.Q. 392078', '110564', '376564', 'SC/AH 3085', 'STON/O 2. 3101274', '13507', '113760', 'W./C. 6608', '29106', '19950', 'C.A. 18723', 'F.C.C. 13529', '345769', '347076', '230434', '65306', '33638', '250644', '113794', '2666', '113786', 'C.A. 34651', '65303', '113051', '17453', 'A/5 2817', '349240', '13509', '17464', 'F.C.C. 13531', '371060', '19952', '364506', '111320', '234360', 'A/S 2816', 'SOTON/O.Q. 3101306', '239853', '113792', '36209', '2666', '323592', '315089', 'C.A. 34651', 'SC/AH Basle 541', '7553', '110465', '31027', '3460', '350060', '3101298', 'CA 2144', '239854', 'A/5 3594', '4134', '11967', '4133', '19943', '11771', 'A.5. 18509', 'C.A. 37671', '65304', 'SOTON/OQ 3101317', '113787', 'PC 17609', 'A/4 45380', '2627', '36947', 'C.A. 6212', '113781', '350035', '315086', '364846', '330909', '4135', '110152', 'PC 17758', '26360', '111427', 'C 4001', '1601', '382651', 'SOTON/OQ 3101316', 'PC 17473', 'PC 17603', '349209', '36967', 'C.A. 34260', '371110', '226875', '349242', '12749', '349252', '2624', '111361', '2700', '367232', 'W./C. 14258', 'PC 17483', '3101296', '29104', '26360', '2641', '2690', '2668', '315084', 'F.C.C. 13529', '113050', 'PC 17761', '364498', '13568', 'WE/P 5735', '347082', '347082', '2908', 'PC 17761', '693', '2908', 'SC/PARIS 2146', '363291', 'C.A. 33112', '17421', '244358', '330979', '2620', '347085', '113807', '11755', 'PC 17757', '110413', '345572', '372622', '349251', '218629', 'SOTON/OQ 392082', 'SOTON/O.Q. 392087', 'A/4 48871', '349205', '349909', '2686', '350417', 'S.W./PP 752', '11769', 'PC 17474', '14312', 'A/4. 20589', '358585', '243880', '13507', '2689', 'STON/O 2. 3101286', '237789', '17421', '28403', '13049', '3411', '110413', '237565', '13567', '14973', 'A./5. 3235', 'STON/O 2. 3101273', '36947', 'A/5 3902', '364848', 'SC/AH 29037', '345773', '248727', 'LINE', '2664', 'PC 17485', '243847', '349214', '113796', '364511', '111426', '349910', '349246', '113804', 'SC/Paris 2123', 'PC 17582', '347082', 'SOTON/O.Q. 3101305', '367230', '370377', '364512', '220845', '347080', 'A/5. 3336', '230136', '31028', '2659', '11753', '2653', '350029', '54636', '36963', '219533', '13502', '349224', '334912', '27042', '347743', '13214', '112052', '347088', '237668', 'STON/O 2. 3101292', 'C.A. 31921', '3101295', '376564', '350050', 'PC 17477', '347088', '1601', '2666', 'PC 17572', '349231', '13213', 'S.O./P.P. 751', 'CA. 2314', '349221', '231919', '8475', '330919', '365226', 'S.O.C. 14879', '349223', '364849', '29751', '35273', 'PC 17611', '2623', '5727', '349210', 'STON/O 2. 3101285', 'S.O.C. 14879', '234686', '312993', 'A/5 3536', '19996', '29750', 'F.C. 12750', 'C.A. 24580', '244270', '239856', '349912', '342826', '4138', 'CA 2144', 'PC 17755', '330935', 'PC 17572', '6563', 'CA 2144', '29750', 'SC/Paris 2123', '3101295', '349228', '350036', '24160', '17474', '349256', '1601', '2672', '113800', '248731', '363592', '35852', '17421', '348121', 'PC 17757', 'PC 17475', '2691', '36864', '350025', '250655', '223596', 'PC 17476', '113781', '2661', 'PC 17482', '113028', '19996', '7545', '250647', '348124', 'PC 17757', '34218', '36568', '347062', '248727', '350048', '12233', '250643', '113806', '315094', '31027', '36866', '236853', 'STON/O2. 3101271', '24160', '2699', '239855', '28425', '233639', '54636', 'W./C. 6608', 'PC 17755', '349201', '349218', '16988', '19877', 'PC 17608', '376566', 'STON/O 2. 3101288', 'WE/P 5735', 'C.A. 2673', '250648', '113773', '335097', '29103', '392096', '345780', '349204', '220845', '250649', '350042', '29108', '363294', '110152', '358585', 'SOTON/O2 3101272', '2663', '113760', '347074', '13502', '112379', '364850', '371110', '8471', '345781', '350047', 'S.O./P.P. 3', '2674', '29105', '347078', '383121', '364516', '36865', '24160', '2687', '17474', '113501', 'W./C. 6607', 'SOTON/O.Q. 3101312', '374887', '3101265', '382652', 'C.A. 2315', 'PC 17593', '12460', '239865', 'CA. 2343', 'PC 17600', '349203', '28213', '17465', '349244', '2685', '345773', '250647', 'C.A. 31921', '113760', '2625', '347089', '347063', '112050', '347087', '248723', '113806', '3474', 'A/4 48871', '28206', '347082', '364499', '112058', 'STON/O2. 3101290', 'S.C./PARIS 2079', 'C 7075', '347088', '12749', '315098', '19972', '392096', '3101295', '368323', '1601', 'S.C./PARIS 2079', '367228', '113572', '2659', '29106', '2671', '347468', '2223', 'PC 17756', '315097', '392092', '1601', '11774', 'SOTON/O2 3101287', 'S.O./P.P. 3', '113798', '2683', '315090', 'C.A. 5547', 'CA. 2343', '349213', '248727', '17453', '347082', '347060', '2678', 'PC 17592', '244252', '392091', '36928', '113055', '2666', '2629', '350026', '28134', '17466', 'CA. 2343', '233866', '236852', 'SC/PARIS 2149', 'PC 17590', '345777', '347742', '349248', '11751', '695', '345765', 'P/PP 3381', '2667', '7534', '349212', '349217', '11767', '230433', '349257', '7552', 'C.A./SOTON 34068', 'SOTON/OQ 392076', '382652', '211536', '112053', 'W./C. 6607', '111369', '370376'], 'Fare': [7.25, 71.2833, 7.925, 53.1, 8.05, 8.4583, 51.8625, 21.075, 11.1333, 30.0708, 16.7, 26.55, 8.05, 31.275, 7.8542, 16.0, 29.125, 13.0, 18.0, 7.225, 26.0, 13.0, 8.0292, 35.5, 21.075, 31.3875, 7.225, 263.0, 7.8792, 7.8958, 27.7208, 146.5208, 7.75, 10.5, 82.1708, 52.0, 7.2292, 8.05, 18.0, 11.2417, 9.475, 21.0, 7.8958, 41.5792, 7.8792, 8.05, 15.5, 7.75, 21.6792, 17.8, 39.6875, 7.8, 76.7292, 26.0, 61.9792, 35.5, 10.5, 7.2292, 27.75, 46.9, 7.2292, 80.0, 83.475, 27.9, 27.7208, 15.2458, 10.5, 8.1583, 7.925, 8.6625, 10.5, 46.9, 73.5, 14.4542, 56.4958, 7.65, 7.8958, 8.05, 29.0, 12.475, 9.0, 9.5, 7.7875, 47.1, 10.5, 15.85, 34.375, 8.05, 263.0, 8.05, 8.05, 7.8542, 61.175, 20.575, 7.25, 8.05, 34.6542, 63.3583, 23.0, 26.0, 7.8958, 7.8958, 77.2875, 8.6542, 7.925, 7.8958, 7.65, 7.775, 7.8958, 24.15, 52.0, 14.4542, 8.05, 9.825, 14.4583, 7.925, 7.75, 21.0, 247.5208, 31.275, 73.5, 8.05, 30.0708, 13.0, 77.2875, 11.2417, 7.75, 7.1417, 22.3583, 6.975, 7.8958, 7.05, 14.5, 26.0, 13.0, 15.0458, 26.2833, 53.1, 9.2167, 79.2, 15.2458, 7.75, 15.85, 6.75, 11.5, 36.75, 7.7958, 34.375, 26.0, 13.0, 12.525, 66.6, 8.05, 14.5, 7.3125, 61.3792, 7.7333, 8.05, 8.6625, 69.55, 16.1, 15.75, 7.775, 8.6625, 39.6875, 20.525, 55.0, 27.9, 25.925, 56.4958, 33.5, 29.125, 11.1333, 7.925, 30.6958, 7.8542, 25.4667, 28.7125, 13.0, 0.0, 69.55, 15.05, 31.3875, 39.0, 22.025, 50.0, 15.5, 26.55, 15.5, 7.8958, 13.0, 13.0, 7.8542, 26.0, 27.7208, 146.5208, 7.75, 8.4042, 7.75, 13.0, 9.5, 69.55, 6.4958, 7.225, 8.05, 10.4625, 15.85, 18.7875, 7.75, 31.0, 7.05, 21.0, 7.25, 13.0, 7.75, 113.275, 7.925, 27.0, 76.2917, 10.5, 8.05, 13.0, 8.05, 7.8958, 90.0, 9.35, 10.5, 7.25, 13.0, 25.4667, 83.475, 7.775, 13.5, 31.3875, 10.5, 7.55, 26.0, 26.25, 10.5, 12.275, 14.4542, 15.5, 10.5, 7.125, 7.225, 90.0, 7.775, 14.5, 52.5542, 26.0, 7.25, 10.4625, 26.55, 16.1, 20.2125, 15.2458, 79.2, 86.5, 512.3292, 26.0, 7.75, 31.3875, 79.65, 0.0, 7.75, 10.5, 39.6875, 7.775, 153.4625, 135.6333, 31.0, 0.0, 19.5, 29.7, 7.75, 77.9583, 7.75, 0.0, 29.125, 20.25, 7.75, 7.8542, 9.5, 8.05, 26.0, 8.6625, 9.5, 7.8958, 13.0, 7.75, 78.85, 91.0792, 12.875, 8.85, 7.8958, 27.7208, 7.2292, 151.55, 30.5, 247.5208, 7.75, 23.25, 0.0, 12.35, 8.05, 151.55, 110.8833, 108.9, 24.0, 56.9292, 83.1583, 262.375, 26.0, 7.8958, 26.25, 7.8542, 26.0, 14.0, 164.8667, 134.5, 7.25, 7.8958, 12.35, 29.0, 69.55, 135.6333, 6.2375, 13.0, 20.525, 57.9792, 23.25, 28.5, 153.4625, 18.0, 133.65, 7.8958, 66.6, 134.5, 8.05, 35.5, 26.0, 263.0, 13.0, 13.0, 13.0, 13.0, 13.0, 16.1, 15.9, 8.6625, 9.225, 35.0, 7.2292, 17.8, 7.225, 9.5, 55.0, 13.0, 7.8792, 7.8792, 27.9, 27.7208, 14.4542, 7.05, 15.5, 7.25, 75.25, 7.2292, 7.75, 69.3, 55.4417, 6.4958, 8.05, 135.6333, 21.075, 82.1708, 7.25, 211.5, 4.0125, 7.775, 227.525, 15.7417, 7.925, 52.0, 7.8958, 73.5, 46.9, 13.0, 7.7292, 12.0, 120.0, 7.7958, 7.925, 113.275, 16.7, 7.7958, 7.8542, 26.0, 10.5, 12.65, 7.925, 8.05, 9.825, 15.85, 8.6625, 21.0, 7.75, 18.75, 7.775, 25.4667, 7.8958, 6.8583, 90.0, 0.0, 7.925, 8.05, 32.5, 13.0, 13.0, 24.15, 7.8958, 7.7333, 7.875, 14.4, 20.2125, 7.25, 26.0, 26.0, 7.75, 8.05, 26.55, 16.1, 26.0, 7.125, 55.9, 120.0, 34.375, 18.75, 263.0, 10.5, 26.25, 9.5, 7.775, 13.0, 8.1125, 81.8583, 19.5, 26.55, 19.2583, 30.5, 27.75, 19.9667, 27.75, 89.1042, 8.05, 7.8958, 26.55, 51.8625, 10.5, 7.75, 26.55, 8.05, 38.5, 13.0, 8.05, 7.05, 0.0, 26.55, 7.725, 19.2583, 7.25, 8.6625, 27.75, 13.7917, 9.8375, 52.0, 21.0, 7.0458, 7.5208, 12.2875, 46.9, 0.0, 8.05, 9.5875, 91.0792, 25.4667, 90.0, 29.7, 8.05, 15.9, 19.9667, 7.25, 30.5, 49.5042, 8.05, 14.4583, 78.2667, 15.1, 151.55, 7.7958, 8.6625, 7.75, 7.6292, 9.5875, 86.5, 108.9, 26.0, 26.55, 22.525, 56.4958, 7.75, 8.05, 26.2875, 59.4, 7.4958, 34.0208, 10.5, 24.15, 26.0, 7.8958, 93.5, 7.8958, 7.225, 57.9792, 7.2292, 7.75, 10.5, 221.7792, 7.925, 11.5, 26.0, 7.2292, 7.2292, 22.3583, 8.6625, 26.25, 26.55, 106.425, 14.5, 49.5, 71.0, 31.275, 31.275, 26.0, 106.425, 26.0, 26.0, 13.8625, 20.525, 36.75, 110.8833, 26.0, 7.8292, 7.225, 7.775, 26.55, 39.6, 227.525, 79.65, 17.4, 7.75, 7.8958, 13.5, 8.05, 8.05, 24.15, 7.8958, 21.075, 7.2292, 7.8542, 10.5, 51.4792, 26.3875, 7.75, 8.05, 14.5, 13.0, 55.9, 14.4583, 7.925, 30.0, 110.8833, 26.0, 40.125, 8.7125, 79.65, 15.0, 79.2, 8.05, 8.05, 7.125, 78.2667, 7.25, 7.75, 26.0, 24.15, 33.0, 0.0, 7.225, 56.9292, 27.0, 7.8958, 42.4, 8.05, 26.55, 15.55, 7.8958, 30.5, 41.5792, 153.4625, 31.275, 7.05, 15.5, 7.75, 8.05, 65.0, 14.4, 16.1, 39.0, 10.5, 14.4542, 52.5542, 15.7417, 7.8542, 16.1, 32.3208, 12.35, 77.9583, 7.8958, 7.7333, 30.0, 7.0542, 30.5, 0.0, 27.9, 13.0, 7.925, 26.25, 39.6875, 16.1, 7.8542, 69.3, 27.9, 56.4958, 19.2583, 76.7292, 7.8958, 35.5, 7.55, 7.55, 7.8958, 23.0, 8.4333, 7.8292, 6.75, 73.5, 7.8958, 15.5, 13.0, 113.275, 133.65, 7.225, 25.5875, 7.4958, 7.925, 73.5, 13.0, 7.775, 8.05, 52.0, 39.0, 52.0, 10.5, 13.0, 0.0, 7.775, 8.05, 9.8417, 46.9, 512.3292, 8.1375, 76.7292, 9.225, 46.9, 39.0, 41.5792, 39.6875, 10.1708, 7.7958, 211.3375, 57.0, 13.4167, 56.4958, 7.225, 26.55, 13.5, 8.05, 7.7333, 110.8833, 7.65, 227.525, 26.2875, 14.4542, 7.7417, 7.8542, 26.0, 13.5, 26.2875, 151.55, 15.2458, 49.5042, 26.55, 52.0, 9.4833, 13.0, 7.65, 227.525, 10.5, 15.5, 7.775, 33.0, 7.0542, 13.0, 13.0, 53.1, 8.6625, 21.0, 7.7375, 26.0, 7.925, 211.3375, 18.7875, 0.0, 13.0, 13.0, 16.1, 34.375, 512.3292, 7.8958, 7.8958, 30.0, 78.85, 262.375, 16.1, 7.925, 71.0, 20.25, 13.0, 53.1, 7.75, 23.0, 12.475, 9.5, 7.8958, 65.0, 14.5, 7.7958, 11.5, 8.05, 86.5, 14.5, 7.125, 7.2292, 120.0, 7.775, 77.9583, 39.6, 7.75, 24.15, 8.3625, 9.5, 7.8542, 10.5, 7.225, 23.0, 7.75, 7.75, 12.475, 7.7375, 211.3375, 7.2292, 57.0, 30.0, 23.45, 7.05, 7.25, 7.4958, 29.125, 20.575, 79.2, 7.75, 26.0, 69.55, 30.6958, 7.8958, 13.0, 25.9292, 8.6833, 7.2292, 24.15, 13.0, 26.25, 120.0, 8.5167, 6.975, 7.775, 0.0, 7.775, 13.0, 53.1, 7.8875, 24.15, 10.5, 31.275, 8.05, 0.0, 7.925, 37.0042, 6.45, 27.9, 93.5, 8.6625, 0.0, 12.475, 39.6875, 6.95, 56.4958, 37.0042, 7.75, 80.0, 14.4542, 18.75, 7.2292, 7.8542, 8.3, 83.1583, 8.6625, 8.05, 56.4958, 29.7, 7.925, 10.5, 31.0, 6.4375, 8.6625, 7.55, 69.55, 7.8958, 33.0, 89.1042, 31.275, 7.775, 15.2458, 39.4, 26.0, 9.35, 164.8667, 26.55, 19.2583, 7.2292, 14.1083, 11.5, 25.9292, 69.55, 13.0, 13.0, 13.8583, 50.4958, 9.5, 11.1333, 7.8958, 52.5542, 5.0, 9.0, 24.0, 7.225, 9.8458, 7.8958, 7.8958, 83.1583, 26.0, 7.8958, 10.5167, 10.5, 7.05, 29.125, 13.0, 30.0, 23.45, 30.0, 7.75], 'Cabin': [nan, 'C85', nan, 'C123', nan, nan, 'E46', nan, nan, nan, 'G6', 'C103', nan, nan, nan, nan, nan, nan, nan, nan, nan, 'D56', nan, 'A6', nan, nan, nan, 'C23 C25 C27', nan, nan, nan, 'B78', nan, nan, nan, nan, nan, nan, nan, nan, nan, nan, nan, nan, nan, nan, nan, nan, nan, nan, nan, nan, 'D33', nan, 'B30', 'C52', nan, nan, nan, nan, nan, 'B28', 'C83', nan, nan, nan, 'F33', nan, nan, nan, nan, nan, nan, nan, nan, 'F G73', nan, nan, nan, nan, nan, nan, nan, nan, nan, nan, nan, nan, 'C23 C25 C27', nan, nan, nan, 'E31', nan, nan, nan, 'A5', 'D10 D12', nan, nan, nan, nan, 'D26', nan, nan, nan, nan, nan, nan, nan, 'C110', nan, nan, nan, nan, nan, nan, nan, 'B58 B60', nan, nan, nan, nan, 'E101', 'D26', nan, nan, nan, 'F E69', nan, nan, nan, nan, nan, nan, nan, 'D47', 'C123', nan, 'B86', nan, nan, nan, nan, nan, nan, nan, nan, 'F2', nan, nan, 'C2', nan, nan, nan, nan, nan, nan, nan, nan, nan, nan, nan, nan, nan, nan, 'E33', nan, nan, nan, 'B19', nan, nan, nan, 'A7', nan, nan, 'C49', nan, nan, nan, nan, nan, 'F4', nan, 'A32', nan, nan, nan, nan, nan, nan, nan, 'F2', 'B4', 'B80', nan, nan, nan, nan, nan, nan, nan, nan, nan, 'G6', nan, nan, nan, 'A31', nan, nan, nan, nan, nan, 'D36', nan, nan, 'D15', nan, nan, nan, nan, nan, 'C93', nan, nan, nan, nan, nan, 'C83', nan, nan, nan, nan, nan, nan, nan, nan, nan, nan, nan, nan, nan, nan, 'C78', nan, nan, 'D35', nan, nan, 'G6', 'C87', nan, nan, nan, nan, 'B77', nan, nan, nan, nan, 'E67', 'B94', nan, nan, nan, nan, 'C125', 'C99', nan, nan, nan, 'C118', nan, 'D7', nan, nan, nan, nan, nan, nan, nan, nan, 'A19', nan, nan, nan, nan, nan, nan, 'B49', 'D', nan, nan, nan, nan, 'C22 C26', 'C106', 'B58 B60', nan, nan, nan, 'E101', nan, 'C22 C26', nan, 'C65', nan, 'E36', 'C54', 'B57 B59 B63 B66', nan, nan, nan, nan, nan, nan, 'C7', 'E34', nan, nan, nan, nan, nan, 'C32', nan, 'D', nan, 'B18', nan, 'C124', 'C91', nan, nan, nan, 'C2', 'E40', nan, 'T', 'F2', 'C23 C25 C27', nan, nan, nan, 'F33', nan, nan, nan, nan, nan, 'C128', nan, nan, nan, nan, 'E33', nan, nan, nan, nan, nan, nan, nan, nan, nan, 'D37', nan, nan, 'B35', 'E50', nan, nan, nan, nan, nan, nan, 'C82', nan, nan, nan, nan, nan, nan, nan, nan, nan, nan, nan, nan, 'B96 B98', nan, nan, 'D36', 'G6', nan, nan, nan, nan, nan, nan, nan, nan, nan, nan, nan, nan, nan, nan, nan, nan, nan, 'C78', nan, nan, nan, nan, nan, nan, nan, nan, nan, nan, nan, nan, nan, nan, nan, nan, 'E10', 'C52', nan, nan, nan, 'E44', 'B96 B98', nan, nan, 'C23 C25 C27', nan, nan, nan, nan, nan, nan, 'A34', nan, nan, nan, 'C104', nan, nan, 'C111', 'C92', nan, nan, 'E38', 'D21', nan, nan, 'E12', nan, 'E63', nan, nan, nan, nan, nan, nan, nan, nan, nan, nan, 'D', nan, 'A14', nan, nan, nan, nan, nan, nan, nan, nan, 'B49', nan, 'C93', 'B37', nan, nan, nan, nan, 'C30', nan, nan, nan, 'D20', nan, 'C22 C26', nan, nan, nan, nan, nan, 'B79', 'C65', nan, nan, nan, nan, nan, nan, 'E25', nan, nan, 'D46', 'F33', nan, nan, nan, 'B73', nan, nan, 'B18', nan, nan, nan, 'C95', nan, nan, nan, nan, nan, nan, nan, nan, 'B38', nan, nan, 'B39', 'B22', nan, nan, nan, 'C86', nan, nan, nan, nan, nan, 'C70', nan, nan, nan, nan, nan, 'A16', nan, 'E67', nan, nan, nan, nan, nan, nan, nan, nan, nan, nan, nan, nan, 'C101', 'E25', nan, nan, nan, nan, 'E44', nan, nan, nan, 'C68', nan, 'A10', nan, 'E68', nan, 'B41', nan, nan, nan, 'D20', nan, nan, nan, nan, nan, nan, nan, 'A20', nan, nan, nan, nan, nan, nan, nan, nan, nan, 'C125', nan, nan, nan, nan, nan, nan, nan, nan, 'F4', nan, nan, 'D19', nan, nan, nan, 'D50', nan, 'D9', nan, nan, 'A23', nan, 'B50', nan, nan, nan, nan, nan, nan, nan, nan, 'B35', nan, nan, nan, 'D33', nan, 'A26', nan, nan, nan, nan, nan, nan, nan, nan, nan, nan, nan, 'D48', nan, nan, 'E58', nan, nan, nan, nan, nan, nan, 'C126', nan, 'B71', nan, nan, nan, nan, nan, nan, nan, 'B51 B53 B55', nan, 'D49', nan, nan, nan, nan, nan, nan, nan, 'B5', 'B20', nan, nan, nan, nan, nan, nan, nan, 'C68', 'F G63', 'C62 C64', 'E24', nan, nan, nan, nan, nan, 'E24', nan, nan, 'C90', 'C124', 'C126', nan, nan, 'F G73', 'C45', 'E101', nan, nan, nan, nan, nan, nan, 'E8', nan, nan, nan, nan, nan, 'B5', nan, nan, nan, nan, nan, nan, 'B101', nan, nan, 'D45', 'C46', 'B57 B59 B63 B66', nan, nan, 'B22', nan, nan, 'D30', nan, nan, 'E121', nan, nan, nan, nan, nan, nan, nan, 'B77', nan, nan, nan, 'B96 B98', nan, 'D11', nan, nan, nan, nan, nan, nan, 'E77', nan, nan, nan, 'F38', nan, nan, 'B3', nan, 'B20', 'D6', nan, nan, nan, nan, nan, nan, 'B82 B84', nan, nan, nan, nan, nan, nan, 'D17', nan, nan, nan, nan, nan, 'B96 B98', nan, nan, nan, 'A36', nan, nan, 'E8', nan, nan, nan, nan, nan, 'B102', nan, nan, nan, nan, 'B69', nan, nan, 'E121', nan, nan, nan, nan, nan, 'B28', nan, nan, nan, nan, nan, 'E49', nan, nan, nan, 'C47', nan, nan, nan, nan, nan, nan, nan, nan, nan, 'C92', nan, nan, nan, 'D28', nan, nan, nan, 'E17', nan, nan, nan, nan, 'D17', nan, nan, nan, nan, 'A24', nan, nan, nan, 'D35', 'B51 B53 B55', nan, nan, nan, nan, nan, nan, 'C50', nan, nan, nan, nan, nan, nan, nan, 'B42', nan, 'C148', nan], 'Embarked': ['S', 'C', 'S', 'S', 'S', 'Q', 'S', 'S', 'S', 'C', 'S', 'S', 'S', 'S', 'S', 'S', 'Q', 'S', 'S', 'C', 'S', 'S', 'Q', 'S', 'S', 'S', 'C', 'S', 'Q', 'S', 'C', 'C', 'Q', 'S', 'C', 'S', 'C', 'S', 'S', 'C', 'S', 'S', 'C', 'C', 'Q', 'S', 'Q', 'Q', 'C', 'S', 'S', 'S', 'C', 'S', 'C', 'S', 'S', 'C', 'S', 'S', 'C', nan, 'S', 'S', 'C', 'C', 'S', 'S', 'S', 'S', 'S', 'S', 'S', 'C', 'S', 'S', 'S', 'S', 'S', 'S', 'S', 'S', 'Q', 'S', 'S', 'S', 'S', 'S', 'S', 'S', 'S', 'S', 'S', 'S', 'S', 'S', 'C', 'C', 'S', 'S', 'S', 'S', 'S', 'S', 'S', 'S', 'S', 'S', 'S', 'Q', 'S', 'C', 'S', 'S', 'C', 'S', 'Q', 'S', 'C', 'S', 'S', 'S', 'C', 'S', 'S', 'C', 'Q', 'S', 'C', 'S', 'C', 'S', 'S', 'S', 'S', 'C', 'S', 'S', 'S', 'C', 'C', 'S', 'S', 'Q', 'S', 'S', 'S', 'S', 'S', 'S', 'S', 'S', 'S', 'S', 'S', 'C', 'Q', 'S', 'S', 'S', 'S', 'S', 'S', 'S', 'S', 'S', 'S', 'S', 'S', 'S', 'S', 'Q', 'S', 'S', 'C', 'S', 'S', 'C', 'S', 'S', 'S', 'C', 'S', 'S', 'S', 'S', 'Q', 'S', 'Q', 'S', 'S', 'S', 'S', 'S', 'C', 'C', 'Q', 'S', 'Q', 'S', 'S', 'S', 'S', 'C', 'S', 'S', 'S', 'C', 'Q', 'C', 'S', 'S', 'S', 'S', 'Q', 'C', 'S', 'S', 'C', 'S', 'S', 'S', 'S', 'S', 'S', 'S', 'S', 'S', 'S', 'S', 'S', 'S', 'S', 'S', 'S', 'S', 'S', 'S', 'S', 'S', 'C', 'Q', 'S', 'S', 'C', 'Q', 'S', 'S', 'S', 'S', 'S', 'S', 'S', 'S', 'S', 'C', 'C', 'S', 'C', 'S', 'Q', 'S', 'S', 'S', 'Q', 'S', 'S', 'S', 'S', 'S', 'S', 'S', 'S', 'C', 'Q', 'S', 'S', 'S', 'Q', 'S', 'Q', 'S', 'S', 'S', 'S', 'C', 'S', 'S', 'S', 'Q', 'S', 'C', 'C', 'S', 'S', 'C', 'C', 'S', 'S', 'C', 'Q', 'Q', 'S', 'Q', 'S', 'S', 'C', 'C', 'C', 'C', 'C', 'C', 'S', 'S', 'S', 'S', 'S', 'S', 'S', 'C', 'S', 'S', 'Q', 'S', 'S', 'C', 'S', 'S', 'S', 'C', 'Q', 'S', 'S', 'S', 'S', 'S', 'S', 'C', 'S', 'S', 'S', 'S', 'S', 'S', 'S', 'S', 'S', 'S', 'S', 'S', 'S', 'S', 'C', 'S', 'C', 'S', 'S', 'S', 'Q', 'Q', 'S', 'C', 'C', 'S', 'Q', 'S', 'C', 'C', 'Q', 'C', 'C', 'S', 'S', 'C', 'S', 'C', 'S', 'C', 'C', 'S', 'C', 'C', 'S', 'S', 'S', 'S', 'S', 'S', 'Q', 'C', 'S', 'S', 'S', 'C', 'S', 'S', 'S', 'S', 'S', 'S', 'S', 'S', 'S', 'S', 'S', 'S', 'S', 'S', 'S', 'S', 'S', 'Q', 'Q', 'S', 'S', 'S', 'S', 'S', 'S', 'S', 'C', 'Q', 'S', 'S', 'S', 'S', 'S', 'S', 'Q', 'S', 'S', 'S', 'S', 'S', 'S', 'S', 'S', 'S', 'S', 'S', 'S', 'S', 'S', 'S', 'S', 'S', 'S', 'S', 'C', 'S', 'S', 'S', 'C', 'C', 'S', 'C', 'S', 'S', 'S', 'Q', 'S', 'S', 'S', 'S', 'S', 'S', 'S', 'S', 'Q', 'C', 'S', 'S', 'S', 'C', 'S', 'S', 'S', 'S', 'S', 'S', 'S', 'S', 'S', 'S', 'C', 'S', 'S', 'C', 'S', 'S', 'S', 'S', 'S', 'C', 'S', 'C', 'C', 'S', 'S', 'S', 'S', 'Q', 'Q', 'S', 'S', 'C', 'S', 'S', 'S', 'S', 'Q', 'S', 'S', 'C', 'S', 'S', 'S', 'Q', 'S', 'S', 'S', 'S', 'C', 'C', 'C', 'Q', 'S', 'S', 'S', 'S', 'S', 'C', 'C', 'C', 'S', 'S', 'S', 'C', 'S', 'C', 'S', 'S', 'S', 'S', 'C', 'S', 'S', 'C', 'S', 'S', 'C', 'S', 'Q', 'C', 'S', 'S', 'C', 'C', 'S', 'S', 'Q', 'S', 'S', 'S', 'S', 'S', 'S', 'S', 'C', 'S', 'S', 'S', 'S', 'Q', 'S', 'S', 'S', 'S', 'C', 'S', 'S', 'C', 'S', 'C', 'C', 'S', 'S', 'C', 'S', 'S', 'S', 'C', 'S', 'Q', 'S', 'S', 'S', 'S', 'C', 'C', 'S', 'S', 'S', 'S', 'C', 'S', 'S', 'S', 'C', 'S', 'S', 'S', 'Q', 'Q', 'S', 'S', 'S', 'S', 'S', 'S', 'C', 'S', 'C', 'S', 'S', 'S', 'Q', 'S', 'S', 'Q', 'S', 'S', 'C', 'S', 'S', 'S', 'S', 'S', 'S', 'S', 'S', 'C', 'S', 'S', 'C', 'C', 'S', 'C', 'S', 'S', 'S', 'S', 'S', 'Q', 'Q', 'S', 'S', 'Q', 'S', 'C', 'S', 'C', 'S', 'S', 'S', 'S', 'S', 'S', 'S', 'S', 'S', 'S', 'S', 'S', 'S', 'S', 'S', 'S', 'S', 'C', 'Q', 'C', 'S', 'S', 'S', 'C', 'S', 'S', 'S', 'S', 'S', 'C', 'S', 'C', 'S', 'S', 'S', 'Q', 'C', 'S', 'C', 'S', 'C', 'Q', 'S', 'S', 'S', 'S', 'S', 'C', 'C', 'S', 'S', 'S', 'S', 'S', 'C', 'S', 'Q', 'S', 'S', 'S', 'S', 'S', 'S', 'S', 'S', 'Q', 'S', 'S', 'S', 'C', 'S', 'S', 'S', 'S', 'S', 'C', 'S', 'S', 'S', 'S', 'C', 'S', 'S', 'S', 'S', 'S', 'S', 'Q', 'S', 'S', 'S', 'S', 'S', 'S', 'S', 'S', 'S', 'S', 'S', 'S', 'C', 'S', 'S', 'S', 'C', 'Q', 'Q', 'S', 'S', 'S', 'S', 'C', 'S', 'S', 'Q', 'S', 'Q', 'S', 'C', 'S', 'S', 'S', 'S', 'S', 'S', 'Q', 'S', 'C', 'Q', 'S', 'S', 'C', 'S', 'S', 'S', 'S', 'C', 'S', 'S', 'S', 'S', 'C', 'S', 'S', 'S', 'S', 'S', 'S', 'S', 'S', 'S', 'S', 'S', 'S', 'S', 'C', 'S', 'S', 'S', 'S', 'S', 'S', 'S', 'Q', 'S', 'C', 'Q', nan, 'C', 'S', 'C', 'S', 'S', 'C', 'S', 'S', 'S', 'C', 'S', 'S', 'C', 'C', 'S', 'S', 'S', 'C', 'S', 'C', 'S', 'S', 'C', 'S', 'S', 'S', 'S', 'S', 'C', 'C', 'S', 'S', 'S', 'S', 'S', 'S', 'C', 'S', 'S', 'S', 'S', 'S', 'S', 'S', 'C', 'C', 'S', 'S', 'S', 'C', 'S', 'S', 'S', 'S', 'S', 'Q', 'S', 'S', 'S', 'C', 'Q']}\n"
     ]
    }
   ],
   "source": [
    "# 데이터 프레임을 딕셔너리로 변환\n",
    "tdf_dict = tdf.to_dict('list')\n",
    "print(tdf_dict)"
   ]
  },
  {
   "cell_type": "code",
   "execution_count": 172,
   "id": "a3552424",
   "metadata": {
    "collapsed": true
   },
   "outputs": [
    {
     "name": "stdout",
     "output_type": "stream",
     "text": [
      "[[1 0 3 ... 7.25 nan 'S']\n",
      " [2 1 1 ... 71.2833 'C85' 'C']\n",
      " [3 1 3 ... 7.925 nan 'S']\n",
      " ...\n",
      " [889 0 3 ... 23.45 nan 'S']\n",
      " [890 1 1 ... 30.0 'C148' 'C']\n",
      " [891 0 3 ... 7.75 nan 'Q']]\n",
      "-------------------------------\n",
      "[[1 2 3 ... 889 890 891]\n",
      " [0 1 1 ... 0 1 0]\n",
      " [3 1 3 ... 3 1 3]\n",
      " ...\n",
      " [7.25 71.2833 7.925 ... 23.45 30.0 7.75]\n",
      " [nan 'C85' nan ... nan 'C148' nan]\n",
      " ['S' 'C' 'S' ... 'S' 'C' 'Q']]\n"
     ]
    }
   ],
   "source": [
    "# 데이터 프레임을 배열로 변환\n",
    "tdf_array = tdf.values\n",
    "print(tdf_array)\n",
    "print('-------------------------------')\n",
    "# 열방향으로 배열\n",
    "tdf_array_col = np.transpose(tdf).values\n",
    "print(tdf_array_col)"
   ]
  },
  {
   "cell_type": "code",
   "execution_count": 176,
   "id": "49fcf357",
   "metadata": {
    "collapsed": true
   },
   "outputs": [
    {
     "data": {
      "text/html": [
       "<div>\n",
       "<style scoped>\n",
       "    .dataframe tbody tr th:only-of-type {\n",
       "        vertical-align: middle;\n",
       "    }\n",
       "\n",
       "    .dataframe tbody tr th {\n",
       "        vertical-align: top;\n",
       "    }\n",
       "\n",
       "    .dataframe thead th {\n",
       "        text-align: right;\n",
       "    }\n",
       "</style>\n",
       "<table border=\"1\" class=\"dataframe\">\n",
       "  <thead>\n",
       "    <tr style=\"text-align: right;\">\n",
       "      <th></th>\n",
       "      <th>PassengerId</th>\n",
       "      <th>Survived</th>\n",
       "      <th>Pclass</th>\n",
       "      <th>Name</th>\n",
       "      <th>Sex</th>\n",
       "      <th>Age</th>\n",
       "      <th>SibSp</th>\n",
       "      <th>Parch</th>\n",
       "      <th>Ticket</th>\n",
       "      <th>Fare</th>\n",
       "      <th>Cabin</th>\n",
       "      <th>Embarked</th>\n",
       "    </tr>\n",
       "  </thead>\n",
       "  <tbody>\n",
       "    <tr>\n",
       "      <th>0</th>\n",
       "      <td>1</td>\n",
       "      <td>0</td>\n",
       "      <td>3</td>\n",
       "      <td>Braund, Mr. Owen Harris</td>\n",
       "      <td>male</td>\n",
       "      <td>22.0</td>\n",
       "      <td>1</td>\n",
       "      <td>0</td>\n",
       "      <td>A/5 21171</td>\n",
       "      <td>7.2500</td>\n",
       "      <td>NaN</td>\n",
       "      <td>S</td>\n",
       "    </tr>\n",
       "    <tr>\n",
       "      <th>1</th>\n",
       "      <td>2</td>\n",
       "      <td>1</td>\n",
       "      <td>1</td>\n",
       "      <td>Cumings, Mrs. John Bradley (Florence Briggs Th...</td>\n",
       "      <td>female</td>\n",
       "      <td>38.0</td>\n",
       "      <td>1</td>\n",
       "      <td>0</td>\n",
       "      <td>PC 17599</td>\n",
       "      <td>71.2833</td>\n",
       "      <td>C85</td>\n",
       "      <td>C</td>\n",
       "    </tr>\n",
       "    <tr>\n",
       "      <th>2</th>\n",
       "      <td>3</td>\n",
       "      <td>1</td>\n",
       "      <td>3</td>\n",
       "      <td>Heikkinen, Miss. Laina</td>\n",
       "      <td>female</td>\n",
       "      <td>26.0</td>\n",
       "      <td>0</td>\n",
       "      <td>0</td>\n",
       "      <td>STON/O2. 3101282</td>\n",
       "      <td>7.9250</td>\n",
       "      <td>NaN</td>\n",
       "      <td>S</td>\n",
       "    </tr>\n",
       "    <tr>\n",
       "      <th>3</th>\n",
       "      <td>4</td>\n",
       "      <td>1</td>\n",
       "      <td>1</td>\n",
       "      <td>Futrelle, Mrs. Jacques Heath (Lily May Peel)</td>\n",
       "      <td>female</td>\n",
       "      <td>35.0</td>\n",
       "      <td>1</td>\n",
       "      <td>0</td>\n",
       "      <td>113803</td>\n",
       "      <td>53.1000</td>\n",
       "      <td>C123</td>\n",
       "      <td>S</td>\n",
       "    </tr>\n",
       "    <tr>\n",
       "      <th>4</th>\n",
       "      <td>5</td>\n",
       "      <td>0</td>\n",
       "      <td>3</td>\n",
       "      <td>Allen, Mr. William Henry</td>\n",
       "      <td>male</td>\n",
       "      <td>35.0</td>\n",
       "      <td>0</td>\n",
       "      <td>0</td>\n",
       "      <td>373450</td>\n",
       "      <td>8.0500</td>\n",
       "      <td>NaN</td>\n",
       "      <td>S</td>\n",
       "    </tr>\n",
       "    <tr>\n",
       "      <th>...</th>\n",
       "      <td>...</td>\n",
       "      <td>...</td>\n",
       "      <td>...</td>\n",
       "      <td>...</td>\n",
       "      <td>...</td>\n",
       "      <td>...</td>\n",
       "      <td>...</td>\n",
       "      <td>...</td>\n",
       "      <td>...</td>\n",
       "      <td>...</td>\n",
       "      <td>...</td>\n",
       "      <td>...</td>\n",
       "    </tr>\n",
       "    <tr>\n",
       "      <th>886</th>\n",
       "      <td>887</td>\n",
       "      <td>0</td>\n",
       "      <td>2</td>\n",
       "      <td>Montvila, Rev. Juozas</td>\n",
       "      <td>male</td>\n",
       "      <td>27.0</td>\n",
       "      <td>0</td>\n",
       "      <td>0</td>\n",
       "      <td>211536</td>\n",
       "      <td>13.0000</td>\n",
       "      <td>NaN</td>\n",
       "      <td>S</td>\n",
       "    </tr>\n",
       "    <tr>\n",
       "      <th>887</th>\n",
       "      <td>888</td>\n",
       "      <td>1</td>\n",
       "      <td>1</td>\n",
       "      <td>Graham, Miss. Margaret Edith</td>\n",
       "      <td>female</td>\n",
       "      <td>19.0</td>\n",
       "      <td>0</td>\n",
       "      <td>0</td>\n",
       "      <td>112053</td>\n",
       "      <td>30.0000</td>\n",
       "      <td>B42</td>\n",
       "      <td>S</td>\n",
       "    </tr>\n",
       "    <tr>\n",
       "      <th>888</th>\n",
       "      <td>889</td>\n",
       "      <td>0</td>\n",
       "      <td>3</td>\n",
       "      <td>Johnston, Miss. Catherine Helen \"Carrie\"</td>\n",
       "      <td>female</td>\n",
       "      <td>NaN</td>\n",
       "      <td>1</td>\n",
       "      <td>2</td>\n",
       "      <td>W./C. 6607</td>\n",
       "      <td>23.4500</td>\n",
       "      <td>NaN</td>\n",
       "      <td>S</td>\n",
       "    </tr>\n",
       "    <tr>\n",
       "      <th>889</th>\n",
       "      <td>890</td>\n",
       "      <td>1</td>\n",
       "      <td>1</td>\n",
       "      <td>Behr, Mr. Karl Howell</td>\n",
       "      <td>male</td>\n",
       "      <td>26.0</td>\n",
       "      <td>0</td>\n",
       "      <td>0</td>\n",
       "      <td>111369</td>\n",
       "      <td>30.0000</td>\n",
       "      <td>C148</td>\n",
       "      <td>C</td>\n",
       "    </tr>\n",
       "    <tr>\n",
       "      <th>890</th>\n",
       "      <td>891</td>\n",
       "      <td>0</td>\n",
       "      <td>3</td>\n",
       "      <td>Dooley, Mr. Patrick</td>\n",
       "      <td>male</td>\n",
       "      <td>32.0</td>\n",
       "      <td>0</td>\n",
       "      <td>0</td>\n",
       "      <td>370376</td>\n",
       "      <td>7.7500</td>\n",
       "      <td>NaN</td>\n",
       "      <td>Q</td>\n",
       "    </tr>\n",
       "  </tbody>\n",
       "</table>\n",
       "<p>891 rows × 12 columns</p>\n",
       "</div>"
      ],
      "text/plain": [
       "     PassengerId  Survived  Pclass  \\\n",
       "0              1         0       3   \n",
       "1              2         1       1   \n",
       "2              3         1       3   \n",
       "3              4         1       1   \n",
       "4              5         0       3   \n",
       "..           ...       ...     ...   \n",
       "886          887         0       2   \n",
       "887          888         1       1   \n",
       "888          889         0       3   \n",
       "889          890         1       1   \n",
       "890          891         0       3   \n",
       "\n",
       "                                                  Name     Sex   Age  SibSp  \\\n",
       "0                              Braund, Mr. Owen Harris    male  22.0      1   \n",
       "1    Cumings, Mrs. John Bradley (Florence Briggs Th...  female  38.0      1   \n",
       "2                               Heikkinen, Miss. Laina  female  26.0      0   \n",
       "3         Futrelle, Mrs. Jacques Heath (Lily May Peel)  female  35.0      1   \n",
       "4                             Allen, Mr. William Henry    male  35.0      0   \n",
       "..                                                 ...     ...   ...    ...   \n",
       "886                              Montvila, Rev. Juozas    male  27.0      0   \n",
       "887                       Graham, Miss. Margaret Edith  female  19.0      0   \n",
       "888           Johnston, Miss. Catherine Helen \"Carrie\"  female   NaN      1   \n",
       "889                              Behr, Mr. Karl Howell    male  26.0      0   \n",
       "890                                Dooley, Mr. Patrick    male  32.0      0   \n",
       "\n",
       "     Parch            Ticket     Fare Cabin Embarked  \n",
       "0        0         A/5 21171   7.2500   NaN        S  \n",
       "1        0          PC 17599  71.2833   C85        C  \n",
       "2        0  STON/O2. 3101282   7.9250   NaN        S  \n",
       "3        0            113803  53.1000  C123        S  \n",
       "4        0            373450   8.0500   NaN        S  \n",
       "..     ...               ...      ...   ...      ...  \n",
       "886      0            211536  13.0000   NaN        S  \n",
       "887      0            112053  30.0000   B42        S  \n",
       "888      2        W./C. 6607  23.4500   NaN        S  \n",
       "889      0            111369  30.0000  C148        C  \n",
       "890      0            370376   7.7500   NaN        Q  \n",
       "\n",
       "[891 rows x 12 columns]"
      ]
     },
     "execution_count": 176,
     "metadata": {},
     "output_type": "execute_result"
    }
   ],
   "source": [
    "# 리스트 데이터프레임으로 만들기\n",
    "li_tdf = pd.DataFrame(tdf_list2, columns=columns)\n",
    "li_tdf"
   ]
  },
  {
   "cell_type": "code",
   "execution_count": 178,
   "id": "247c9180",
   "metadata": {
    "collapsed": true
   },
   "outputs": [
    {
     "data": {
      "text/html": [
       "<div>\n",
       "<style scoped>\n",
       "    .dataframe tbody tr th:only-of-type {\n",
       "        vertical-align: middle;\n",
       "    }\n",
       "\n",
       "    .dataframe tbody tr th {\n",
       "        vertical-align: top;\n",
       "    }\n",
       "\n",
       "    .dataframe thead th {\n",
       "        text-align: right;\n",
       "    }\n",
       "</style>\n",
       "<table border=\"1\" class=\"dataframe\">\n",
       "  <thead>\n",
       "    <tr style=\"text-align: right;\">\n",
       "      <th></th>\n",
       "      <th>PassengerId</th>\n",
       "      <th>Survived</th>\n",
       "      <th>Pclass</th>\n",
       "      <th>Name</th>\n",
       "      <th>Sex</th>\n",
       "      <th>Age</th>\n",
       "      <th>SibSp</th>\n",
       "      <th>Parch</th>\n",
       "      <th>Ticket</th>\n",
       "      <th>Fare</th>\n",
       "      <th>Cabin</th>\n",
       "      <th>Embarked</th>\n",
       "    </tr>\n",
       "  </thead>\n",
       "  <tbody>\n",
       "    <tr>\n",
       "      <th>0</th>\n",
       "      <td>1</td>\n",
       "      <td>0</td>\n",
       "      <td>3</td>\n",
       "      <td>Braund, Mr. Owen Harris</td>\n",
       "      <td>male</td>\n",
       "      <td>22.0</td>\n",
       "      <td>1</td>\n",
       "      <td>0</td>\n",
       "      <td>A/5 21171</td>\n",
       "      <td>7.25</td>\n",
       "      <td>NaN</td>\n",
       "      <td>S</td>\n",
       "    </tr>\n",
       "    <tr>\n",
       "      <th>1</th>\n",
       "      <td>2</td>\n",
       "      <td>1</td>\n",
       "      <td>1</td>\n",
       "      <td>Cumings, Mrs. John Bradley (Florence Briggs Th...</td>\n",
       "      <td>female</td>\n",
       "      <td>38.0</td>\n",
       "      <td>1</td>\n",
       "      <td>0</td>\n",
       "      <td>PC 17599</td>\n",
       "      <td>71.2833</td>\n",
       "      <td>C85</td>\n",
       "      <td>C</td>\n",
       "    </tr>\n",
       "    <tr>\n",
       "      <th>2</th>\n",
       "      <td>3</td>\n",
       "      <td>1</td>\n",
       "      <td>3</td>\n",
       "      <td>Heikkinen, Miss. Laina</td>\n",
       "      <td>female</td>\n",
       "      <td>26.0</td>\n",
       "      <td>0</td>\n",
       "      <td>0</td>\n",
       "      <td>STON/O2. 3101282</td>\n",
       "      <td>7.925</td>\n",
       "      <td>NaN</td>\n",
       "      <td>S</td>\n",
       "    </tr>\n",
       "    <tr>\n",
       "      <th>3</th>\n",
       "      <td>4</td>\n",
       "      <td>1</td>\n",
       "      <td>1</td>\n",
       "      <td>Futrelle, Mrs. Jacques Heath (Lily May Peel)</td>\n",
       "      <td>female</td>\n",
       "      <td>35.0</td>\n",
       "      <td>1</td>\n",
       "      <td>0</td>\n",
       "      <td>113803</td>\n",
       "      <td>53.1</td>\n",
       "      <td>C123</td>\n",
       "      <td>S</td>\n",
       "    </tr>\n",
       "    <tr>\n",
       "      <th>4</th>\n",
       "      <td>5</td>\n",
       "      <td>0</td>\n",
       "      <td>3</td>\n",
       "      <td>Allen, Mr. William Henry</td>\n",
       "      <td>male</td>\n",
       "      <td>35.0</td>\n",
       "      <td>0</td>\n",
       "      <td>0</td>\n",
       "      <td>373450</td>\n",
       "      <td>8.05</td>\n",
       "      <td>NaN</td>\n",
       "      <td>S</td>\n",
       "    </tr>\n",
       "    <tr>\n",
       "      <th>...</th>\n",
       "      <td>...</td>\n",
       "      <td>...</td>\n",
       "      <td>...</td>\n",
       "      <td>...</td>\n",
       "      <td>...</td>\n",
       "      <td>...</td>\n",
       "      <td>...</td>\n",
       "      <td>...</td>\n",
       "      <td>...</td>\n",
       "      <td>...</td>\n",
       "      <td>...</td>\n",
       "      <td>...</td>\n",
       "    </tr>\n",
       "    <tr>\n",
       "      <th>886</th>\n",
       "      <td>887</td>\n",
       "      <td>0</td>\n",
       "      <td>2</td>\n",
       "      <td>Montvila, Rev. Juozas</td>\n",
       "      <td>male</td>\n",
       "      <td>27.0</td>\n",
       "      <td>0</td>\n",
       "      <td>0</td>\n",
       "      <td>211536</td>\n",
       "      <td>13.0</td>\n",
       "      <td>NaN</td>\n",
       "      <td>S</td>\n",
       "    </tr>\n",
       "    <tr>\n",
       "      <th>887</th>\n",
       "      <td>888</td>\n",
       "      <td>1</td>\n",
       "      <td>1</td>\n",
       "      <td>Graham, Miss. Margaret Edith</td>\n",
       "      <td>female</td>\n",
       "      <td>19.0</td>\n",
       "      <td>0</td>\n",
       "      <td>0</td>\n",
       "      <td>112053</td>\n",
       "      <td>30.0</td>\n",
       "      <td>B42</td>\n",
       "      <td>S</td>\n",
       "    </tr>\n",
       "    <tr>\n",
       "      <th>888</th>\n",
       "      <td>889</td>\n",
       "      <td>0</td>\n",
       "      <td>3</td>\n",
       "      <td>Johnston, Miss. Catherine Helen \"Carrie\"</td>\n",
       "      <td>female</td>\n",
       "      <td>NaN</td>\n",
       "      <td>1</td>\n",
       "      <td>2</td>\n",
       "      <td>W./C. 6607</td>\n",
       "      <td>23.45</td>\n",
       "      <td>NaN</td>\n",
       "      <td>S</td>\n",
       "    </tr>\n",
       "    <tr>\n",
       "      <th>889</th>\n",
       "      <td>890</td>\n",
       "      <td>1</td>\n",
       "      <td>1</td>\n",
       "      <td>Behr, Mr. Karl Howell</td>\n",
       "      <td>male</td>\n",
       "      <td>26.0</td>\n",
       "      <td>0</td>\n",
       "      <td>0</td>\n",
       "      <td>111369</td>\n",
       "      <td>30.0</td>\n",
       "      <td>C148</td>\n",
       "      <td>C</td>\n",
       "    </tr>\n",
       "    <tr>\n",
       "      <th>890</th>\n",
       "      <td>891</td>\n",
       "      <td>0</td>\n",
       "      <td>3</td>\n",
       "      <td>Dooley, Mr. Patrick</td>\n",
       "      <td>male</td>\n",
       "      <td>32.0</td>\n",
       "      <td>0</td>\n",
       "      <td>0</td>\n",
       "      <td>370376</td>\n",
       "      <td>7.75</td>\n",
       "      <td>NaN</td>\n",
       "      <td>Q</td>\n",
       "    </tr>\n",
       "  </tbody>\n",
       "</table>\n",
       "<p>891 rows × 12 columns</p>\n",
       "</div>"
      ],
      "text/plain": [
       "    PassengerId Survived Pclass  \\\n",
       "0             1        0      3   \n",
       "1             2        1      1   \n",
       "2             3        1      3   \n",
       "3             4        1      1   \n",
       "4             5        0      3   \n",
       "..          ...      ...    ...   \n",
       "886         887        0      2   \n",
       "887         888        1      1   \n",
       "888         889        0      3   \n",
       "889         890        1      1   \n",
       "890         891        0      3   \n",
       "\n",
       "                                                  Name     Sex   Age SibSp  \\\n",
       "0                              Braund, Mr. Owen Harris    male  22.0     1   \n",
       "1    Cumings, Mrs. John Bradley (Florence Briggs Th...  female  38.0     1   \n",
       "2                               Heikkinen, Miss. Laina  female  26.0     0   \n",
       "3         Futrelle, Mrs. Jacques Heath (Lily May Peel)  female  35.0     1   \n",
       "4                             Allen, Mr. William Henry    male  35.0     0   \n",
       "..                                                 ...     ...   ...   ...   \n",
       "886                              Montvila, Rev. Juozas    male  27.0     0   \n",
       "887                       Graham, Miss. Margaret Edith  female  19.0     0   \n",
       "888           Johnston, Miss. Catherine Helen \"Carrie\"  female   NaN     1   \n",
       "889                              Behr, Mr. Karl Howell    male  26.0     0   \n",
       "890                                Dooley, Mr. Patrick    male  32.0     0   \n",
       "\n",
       "    Parch            Ticket     Fare Cabin Embarked  \n",
       "0       0         A/5 21171     7.25   NaN        S  \n",
       "1       0          PC 17599  71.2833   C85        C  \n",
       "2       0  STON/O2. 3101282    7.925   NaN        S  \n",
       "3       0            113803     53.1  C123        S  \n",
       "4       0            373450     8.05   NaN        S  \n",
       "..    ...               ...      ...   ...      ...  \n",
       "886     0            211536     13.0   NaN        S  \n",
       "887     0            112053     30.0   B42        S  \n",
       "888     2        W./C. 6607    23.45   NaN        S  \n",
       "889     0            111369     30.0  C148        C  \n",
       "890     0            370376     7.75   NaN        Q  \n",
       "\n",
       "[891 rows x 12 columns]"
      ]
     },
     "execution_count": 178,
     "metadata": {},
     "output_type": "execute_result"
    }
   ],
   "source": [
    "# 배열을 데이터프레임으로 만들기\n",
    "ar_tdf = pd.DataFrame(tdf_array, columns=columns)\n",
    "ar_tdf"
   ]
  },
  {
   "cell_type": "code",
   "execution_count": 181,
   "id": "81d75d65",
   "metadata": {
    "collapsed": true
   },
   "outputs": [
    {
     "data": {
      "text/html": [
       "<div>\n",
       "<style scoped>\n",
       "    .dataframe tbody tr th:only-of-type {\n",
       "        vertical-align: middle;\n",
       "    }\n",
       "\n",
       "    .dataframe tbody tr th {\n",
       "        vertical-align: top;\n",
       "    }\n",
       "\n",
       "    .dataframe thead th {\n",
       "        text-align: right;\n",
       "    }\n",
       "</style>\n",
       "<table border=\"1\" class=\"dataframe\">\n",
       "  <thead>\n",
       "    <tr style=\"text-align: right;\">\n",
       "      <th></th>\n",
       "      <th>PassengerId</th>\n",
       "      <th>Survived</th>\n",
       "      <th>Pclass</th>\n",
       "      <th>Name</th>\n",
       "      <th>Sex</th>\n",
       "      <th>Age</th>\n",
       "      <th>SibSp</th>\n",
       "      <th>Parch</th>\n",
       "      <th>Ticket</th>\n",
       "      <th>Fare</th>\n",
       "      <th>Cabin</th>\n",
       "      <th>Embarked</th>\n",
       "    </tr>\n",
       "  </thead>\n",
       "  <tbody>\n",
       "    <tr>\n",
       "      <th>0</th>\n",
       "      <td>1</td>\n",
       "      <td>0</td>\n",
       "      <td>3</td>\n",
       "      <td>Braund, Mr. Owen Harris</td>\n",
       "      <td>male</td>\n",
       "      <td>22.0</td>\n",
       "      <td>1</td>\n",
       "      <td>0</td>\n",
       "      <td>A/5 21171</td>\n",
       "      <td>7.2500</td>\n",
       "      <td>NaN</td>\n",
       "      <td>S</td>\n",
       "    </tr>\n",
       "    <tr>\n",
       "      <th>1</th>\n",
       "      <td>2</td>\n",
       "      <td>1</td>\n",
       "      <td>1</td>\n",
       "      <td>Cumings, Mrs. John Bradley (Florence Briggs Th...</td>\n",
       "      <td>female</td>\n",
       "      <td>38.0</td>\n",
       "      <td>1</td>\n",
       "      <td>0</td>\n",
       "      <td>PC 17599</td>\n",
       "      <td>71.2833</td>\n",
       "      <td>C85</td>\n",
       "      <td>C</td>\n",
       "    </tr>\n",
       "    <tr>\n",
       "      <th>2</th>\n",
       "      <td>3</td>\n",
       "      <td>1</td>\n",
       "      <td>3</td>\n",
       "      <td>Heikkinen, Miss. Laina</td>\n",
       "      <td>female</td>\n",
       "      <td>26.0</td>\n",
       "      <td>0</td>\n",
       "      <td>0</td>\n",
       "      <td>STON/O2. 3101282</td>\n",
       "      <td>7.9250</td>\n",
       "      <td>NaN</td>\n",
       "      <td>S</td>\n",
       "    </tr>\n",
       "    <tr>\n",
       "      <th>3</th>\n",
       "      <td>4</td>\n",
       "      <td>1</td>\n",
       "      <td>1</td>\n",
       "      <td>Futrelle, Mrs. Jacques Heath (Lily May Peel)</td>\n",
       "      <td>female</td>\n",
       "      <td>35.0</td>\n",
       "      <td>1</td>\n",
       "      <td>0</td>\n",
       "      <td>113803</td>\n",
       "      <td>53.1000</td>\n",
       "      <td>C123</td>\n",
       "      <td>S</td>\n",
       "    </tr>\n",
       "    <tr>\n",
       "      <th>4</th>\n",
       "      <td>5</td>\n",
       "      <td>0</td>\n",
       "      <td>3</td>\n",
       "      <td>Allen, Mr. William Henry</td>\n",
       "      <td>male</td>\n",
       "      <td>35.0</td>\n",
       "      <td>0</td>\n",
       "      <td>0</td>\n",
       "      <td>373450</td>\n",
       "      <td>8.0500</td>\n",
       "      <td>NaN</td>\n",
       "      <td>S</td>\n",
       "    </tr>\n",
       "    <tr>\n",
       "      <th>...</th>\n",
       "      <td>...</td>\n",
       "      <td>...</td>\n",
       "      <td>...</td>\n",
       "      <td>...</td>\n",
       "      <td>...</td>\n",
       "      <td>...</td>\n",
       "      <td>...</td>\n",
       "      <td>...</td>\n",
       "      <td>...</td>\n",
       "      <td>...</td>\n",
       "      <td>...</td>\n",
       "      <td>...</td>\n",
       "    </tr>\n",
       "    <tr>\n",
       "      <th>886</th>\n",
       "      <td>887</td>\n",
       "      <td>0</td>\n",
       "      <td>2</td>\n",
       "      <td>Montvila, Rev. Juozas</td>\n",
       "      <td>male</td>\n",
       "      <td>27.0</td>\n",
       "      <td>0</td>\n",
       "      <td>0</td>\n",
       "      <td>211536</td>\n",
       "      <td>13.0000</td>\n",
       "      <td>NaN</td>\n",
       "      <td>S</td>\n",
       "    </tr>\n",
       "    <tr>\n",
       "      <th>887</th>\n",
       "      <td>888</td>\n",
       "      <td>1</td>\n",
       "      <td>1</td>\n",
       "      <td>Graham, Miss. Margaret Edith</td>\n",
       "      <td>female</td>\n",
       "      <td>19.0</td>\n",
       "      <td>0</td>\n",
       "      <td>0</td>\n",
       "      <td>112053</td>\n",
       "      <td>30.0000</td>\n",
       "      <td>B42</td>\n",
       "      <td>S</td>\n",
       "    </tr>\n",
       "    <tr>\n",
       "      <th>888</th>\n",
       "      <td>889</td>\n",
       "      <td>0</td>\n",
       "      <td>3</td>\n",
       "      <td>Johnston, Miss. Catherine Helen \"Carrie\"</td>\n",
       "      <td>female</td>\n",
       "      <td>NaN</td>\n",
       "      <td>1</td>\n",
       "      <td>2</td>\n",
       "      <td>W./C. 6607</td>\n",
       "      <td>23.4500</td>\n",
       "      <td>NaN</td>\n",
       "      <td>S</td>\n",
       "    </tr>\n",
       "    <tr>\n",
       "      <th>889</th>\n",
       "      <td>890</td>\n",
       "      <td>1</td>\n",
       "      <td>1</td>\n",
       "      <td>Behr, Mr. Karl Howell</td>\n",
       "      <td>male</td>\n",
       "      <td>26.0</td>\n",
       "      <td>0</td>\n",
       "      <td>0</td>\n",
       "      <td>111369</td>\n",
       "      <td>30.0000</td>\n",
       "      <td>C148</td>\n",
       "      <td>C</td>\n",
       "    </tr>\n",
       "    <tr>\n",
       "      <th>890</th>\n",
       "      <td>891</td>\n",
       "      <td>0</td>\n",
       "      <td>3</td>\n",
       "      <td>Dooley, Mr. Patrick</td>\n",
       "      <td>male</td>\n",
       "      <td>32.0</td>\n",
       "      <td>0</td>\n",
       "      <td>0</td>\n",
       "      <td>370376</td>\n",
       "      <td>7.7500</td>\n",
       "      <td>NaN</td>\n",
       "      <td>Q</td>\n",
       "    </tr>\n",
       "  </tbody>\n",
       "</table>\n",
       "<p>891 rows × 12 columns</p>\n",
       "</div>"
      ],
      "text/plain": [
       "     PassengerId  Survived  Pclass  \\\n",
       "0              1         0       3   \n",
       "1              2         1       1   \n",
       "2              3         1       3   \n",
       "3              4         1       1   \n",
       "4              5         0       3   \n",
       "..           ...       ...     ...   \n",
       "886          887         0       2   \n",
       "887          888         1       1   \n",
       "888          889         0       3   \n",
       "889          890         1       1   \n",
       "890          891         0       3   \n",
       "\n",
       "                                                  Name     Sex   Age  SibSp  \\\n",
       "0                              Braund, Mr. Owen Harris    male  22.0      1   \n",
       "1    Cumings, Mrs. John Bradley (Florence Briggs Th...  female  38.0      1   \n",
       "2                               Heikkinen, Miss. Laina  female  26.0      0   \n",
       "3         Futrelle, Mrs. Jacques Heath (Lily May Peel)  female  35.0      1   \n",
       "4                             Allen, Mr. William Henry    male  35.0      0   \n",
       "..                                                 ...     ...   ...    ...   \n",
       "886                              Montvila, Rev. Juozas    male  27.0      0   \n",
       "887                       Graham, Miss. Margaret Edith  female  19.0      0   \n",
       "888           Johnston, Miss. Catherine Helen \"Carrie\"  female   NaN      1   \n",
       "889                              Behr, Mr. Karl Howell    male  26.0      0   \n",
       "890                                Dooley, Mr. Patrick    male  32.0      0   \n",
       "\n",
       "     Parch            Ticket     Fare Cabin Embarked  \n",
       "0        0         A/5 21171   7.2500   NaN        S  \n",
       "1        0          PC 17599  71.2833   C85        C  \n",
       "2        0  STON/O2. 3101282   7.9250   NaN        S  \n",
       "3        0            113803  53.1000  C123        S  \n",
       "4        0            373450   8.0500   NaN        S  \n",
       "..     ...               ...      ...   ...      ...  \n",
       "886      0            211536  13.0000   NaN        S  \n",
       "887      0            112053  30.0000   B42        S  \n",
       "888      2        W./C. 6607  23.4500   NaN        S  \n",
       "889      0            111369  30.0000  C148        C  \n",
       "890      0            370376   7.7500   NaN        Q  \n",
       "\n",
       "[891 rows x 12 columns]"
      ]
     },
     "execution_count": 181,
     "metadata": {},
     "output_type": "execute_result"
    }
   ],
   "source": [
    "# 딕셔너리를 데이터 프레임으로 변환\n",
    "dict_dtf = pd.DataFrame(tdf_dict)\n",
    "dict_dtf"
   ]
  },
  {
   "cell_type": "code",
   "execution_count": null,
   "id": "a8d2c297",
   "metadata": {},
   "outputs": [],
   "source": []
  },
  {
   "cell_type": "markdown",
   "id": "dda98a13",
   "metadata": {},
   "source": [
    "#### 과제_0913_6\n",
    "- tdf를 전처리 및 탐색적 분석(시각화, 통계적 기법)을 통하여 분석용 데이터셋으로 만드세요."
   ]
  },
  {
   "cell_type": "code",
   "execution_count": 200,
   "id": "701227a7",
   "metadata": {
    "scrolled": false
   },
   "outputs": [
    {
     "name": "stdout",
     "output_type": "stream",
     "text": [
      "<class 'pandas.core.frame.DataFrame'>\n",
      "RangeIndex: 891 entries, 0 to 890\n",
      "Data columns (total 12 columns):\n",
      " #   Column       Non-Null Count  Dtype  \n",
      "---  ------       --------------  -----  \n",
      " 0   PassengerId  891 non-null    int64  \n",
      " 1   Survived     891 non-null    int64  \n",
      " 2   Pclass       891 non-null    int64  \n",
      " 3   Name         891 non-null    object \n",
      " 4   Sex          891 non-null    object \n",
      " 5   Age          714 non-null    float64\n",
      " 6   SibSp        891 non-null    int64  \n",
      " 7   Parch        891 non-null    int64  \n",
      " 8   Ticket       891 non-null    object \n",
      " 9   Fare         891 non-null    float64\n",
      " 10  Cabin        204 non-null    object \n",
      " 11  Embarked     889 non-null    object \n",
      "dtypes: float64(2), int64(5), object(5)\n",
      "memory usage: 83.7+ KB\n"
     ]
    }
   ],
   "source": [
    "tdf.info()"
   ]
  },
  {
   "cell_type": "code",
   "execution_count": 201,
   "id": "61997db6",
   "metadata": {
    "collapsed": true
   },
   "outputs": [
    {
     "data": {
      "text/html": [
       "<div>\n",
       "<style scoped>\n",
       "    .dataframe tbody tr th:only-of-type {\n",
       "        vertical-align: middle;\n",
       "    }\n",
       "\n",
       "    .dataframe tbody tr th {\n",
       "        vertical-align: top;\n",
       "    }\n",
       "\n",
       "    .dataframe thead th {\n",
       "        text-align: right;\n",
       "    }\n",
       "</style>\n",
       "<table border=\"1\" class=\"dataframe\">\n",
       "  <thead>\n",
       "    <tr style=\"text-align: right;\">\n",
       "      <th></th>\n",
       "      <th>PassengerId</th>\n",
       "      <th>Survived</th>\n",
       "      <th>Pclass</th>\n",
       "      <th>Age</th>\n",
       "      <th>SibSp</th>\n",
       "      <th>Parch</th>\n",
       "      <th>Fare</th>\n",
       "    </tr>\n",
       "  </thead>\n",
       "  <tbody>\n",
       "    <tr>\n",
       "      <th>PassengerId</th>\n",
       "      <td>1.000000</td>\n",
       "      <td>-0.005007</td>\n",
       "      <td>-0.035144</td>\n",
       "      <td>0.036847</td>\n",
       "      <td>-0.057527</td>\n",
       "      <td>-0.001652</td>\n",
       "      <td>0.012658</td>\n",
       "    </tr>\n",
       "    <tr>\n",
       "      <th>Survived</th>\n",
       "      <td>-0.005007</td>\n",
       "      <td>1.000000</td>\n",
       "      <td>-0.338481</td>\n",
       "      <td>-0.077221</td>\n",
       "      <td>-0.035322</td>\n",
       "      <td>0.081629</td>\n",
       "      <td>0.257307</td>\n",
       "    </tr>\n",
       "    <tr>\n",
       "      <th>Pclass</th>\n",
       "      <td>-0.035144</td>\n",
       "      <td>-0.338481</td>\n",
       "      <td>1.000000</td>\n",
       "      <td>-0.369226</td>\n",
       "      <td>0.083081</td>\n",
       "      <td>0.018443</td>\n",
       "      <td>-0.549500</td>\n",
       "    </tr>\n",
       "    <tr>\n",
       "      <th>Age</th>\n",
       "      <td>0.036847</td>\n",
       "      <td>-0.077221</td>\n",
       "      <td>-0.369226</td>\n",
       "      <td>1.000000</td>\n",
       "      <td>-0.308247</td>\n",
       "      <td>-0.189119</td>\n",
       "      <td>0.096067</td>\n",
       "    </tr>\n",
       "    <tr>\n",
       "      <th>SibSp</th>\n",
       "      <td>-0.057527</td>\n",
       "      <td>-0.035322</td>\n",
       "      <td>0.083081</td>\n",
       "      <td>-0.308247</td>\n",
       "      <td>1.000000</td>\n",
       "      <td>0.414838</td>\n",
       "      <td>0.159651</td>\n",
       "    </tr>\n",
       "    <tr>\n",
       "      <th>Parch</th>\n",
       "      <td>-0.001652</td>\n",
       "      <td>0.081629</td>\n",
       "      <td>0.018443</td>\n",
       "      <td>-0.189119</td>\n",
       "      <td>0.414838</td>\n",
       "      <td>1.000000</td>\n",
       "      <td>0.216225</td>\n",
       "    </tr>\n",
       "    <tr>\n",
       "      <th>Fare</th>\n",
       "      <td>0.012658</td>\n",
       "      <td>0.257307</td>\n",
       "      <td>-0.549500</td>\n",
       "      <td>0.096067</td>\n",
       "      <td>0.159651</td>\n",
       "      <td>0.216225</td>\n",
       "      <td>1.000000</td>\n",
       "    </tr>\n",
       "  </tbody>\n",
       "</table>\n",
       "</div>"
      ],
      "text/plain": [
       "             PassengerId  Survived    Pclass       Age     SibSp     Parch  \\\n",
       "PassengerId     1.000000 -0.005007 -0.035144  0.036847 -0.057527 -0.001652   \n",
       "Survived       -0.005007  1.000000 -0.338481 -0.077221 -0.035322  0.081629   \n",
       "Pclass         -0.035144 -0.338481  1.000000 -0.369226  0.083081  0.018443   \n",
       "Age             0.036847 -0.077221 -0.369226  1.000000 -0.308247 -0.189119   \n",
       "SibSp          -0.057527 -0.035322  0.083081 -0.308247  1.000000  0.414838   \n",
       "Parch          -0.001652  0.081629  0.018443 -0.189119  0.414838  1.000000   \n",
       "Fare            0.012658  0.257307 -0.549500  0.096067  0.159651  0.216225   \n",
       "\n",
       "                 Fare  \n",
       "PassengerId  0.012658  \n",
       "Survived     0.257307  \n",
       "Pclass      -0.549500  \n",
       "Age          0.096067  \n",
       "SibSp        0.159651  \n",
       "Parch        0.216225  \n",
       "Fare         1.000000  "
      ]
     },
     "execution_count": 201,
     "metadata": {},
     "output_type": "execute_result"
    }
   ],
   "source": [
    "tdf.corr()"
   ]
  },
  {
   "cell_type": "code",
   "execution_count": 205,
   "id": "7e121024",
   "metadata": {
    "collapsed": true
   },
   "outputs": [
    {
     "data": {
      "text/html": [
       "<div>\n",
       "<style scoped>\n",
       "    .dataframe tbody tr th:only-of-type {\n",
       "        vertical-align: middle;\n",
       "    }\n",
       "\n",
       "    .dataframe tbody tr th {\n",
       "        vertical-align: top;\n",
       "    }\n",
       "\n",
       "    .dataframe thead th {\n",
       "        text-align: right;\n",
       "    }\n",
       "</style>\n",
       "<table border=\"1\" class=\"dataframe\">\n",
       "  <thead>\n",
       "    <tr style=\"text-align: right;\">\n",
       "      <th></th>\n",
       "      <th>PassengerId</th>\n",
       "      <th>Survived</th>\n",
       "      <th>Pclass</th>\n",
       "      <th>Name</th>\n",
       "      <th>Sex</th>\n",
       "      <th>Age</th>\n",
       "      <th>SibSp</th>\n",
       "      <th>Parch</th>\n",
       "      <th>Ticket</th>\n",
       "      <th>Fare</th>\n",
       "      <th>Embarked</th>\n",
       "    </tr>\n",
       "  </thead>\n",
       "  <tbody>\n",
       "    <tr>\n",
       "      <th>0</th>\n",
       "      <td>1</td>\n",
       "      <td>0</td>\n",
       "      <td>3</td>\n",
       "      <td>Braund, Mr. Owen Harris</td>\n",
       "      <td>male</td>\n",
       "      <td>22.0</td>\n",
       "      <td>1</td>\n",
       "      <td>0</td>\n",
       "      <td>A/5 21171</td>\n",
       "      <td>7.2500</td>\n",
       "      <td>S</td>\n",
       "    </tr>\n",
       "    <tr>\n",
       "      <th>1</th>\n",
       "      <td>2</td>\n",
       "      <td>1</td>\n",
       "      <td>1</td>\n",
       "      <td>Cumings, Mrs. John Bradley (Florence Briggs Th...</td>\n",
       "      <td>female</td>\n",
       "      <td>38.0</td>\n",
       "      <td>1</td>\n",
       "      <td>0</td>\n",
       "      <td>PC 17599</td>\n",
       "      <td>71.2833</td>\n",
       "      <td>C</td>\n",
       "    </tr>\n",
       "    <tr>\n",
       "      <th>2</th>\n",
       "      <td>3</td>\n",
       "      <td>1</td>\n",
       "      <td>3</td>\n",
       "      <td>Heikkinen, Miss. Laina</td>\n",
       "      <td>female</td>\n",
       "      <td>26.0</td>\n",
       "      <td>0</td>\n",
       "      <td>0</td>\n",
       "      <td>STON/O2. 3101282</td>\n",
       "      <td>7.9250</td>\n",
       "      <td>S</td>\n",
       "    </tr>\n",
       "    <tr>\n",
       "      <th>3</th>\n",
       "      <td>4</td>\n",
       "      <td>1</td>\n",
       "      <td>1</td>\n",
       "      <td>Futrelle, Mrs. Jacques Heath (Lily May Peel)</td>\n",
       "      <td>female</td>\n",
       "      <td>35.0</td>\n",
       "      <td>1</td>\n",
       "      <td>0</td>\n",
       "      <td>113803</td>\n",
       "      <td>53.1000</td>\n",
       "      <td>S</td>\n",
       "    </tr>\n",
       "    <tr>\n",
       "      <th>4</th>\n",
       "      <td>5</td>\n",
       "      <td>0</td>\n",
       "      <td>3</td>\n",
       "      <td>Allen, Mr. William Henry</td>\n",
       "      <td>male</td>\n",
       "      <td>35.0</td>\n",
       "      <td>0</td>\n",
       "      <td>0</td>\n",
       "      <td>373450</td>\n",
       "      <td>8.0500</td>\n",
       "      <td>S</td>\n",
       "    </tr>\n",
       "  </tbody>\n",
       "</table>\n",
       "</div>"
      ],
      "text/plain": [
       "   PassengerId  Survived  Pclass  \\\n",
       "0            1         0       3   \n",
       "1            2         1       1   \n",
       "2            3         1       3   \n",
       "3            4         1       1   \n",
       "4            5         0       3   \n",
       "\n",
       "                                                Name     Sex   Age  SibSp  \\\n",
       "0                            Braund, Mr. Owen Harris    male  22.0      1   \n",
       "1  Cumings, Mrs. John Bradley (Florence Briggs Th...  female  38.0      1   \n",
       "2                             Heikkinen, Miss. Laina  female  26.0      0   \n",
       "3       Futrelle, Mrs. Jacques Heath (Lily May Peel)  female  35.0      1   \n",
       "4                           Allen, Mr. William Henry    male  35.0      0   \n",
       "\n",
       "   Parch            Ticket     Fare Embarked  \n",
       "0      0         A/5 21171   7.2500        S  \n",
       "1      0          PC 17599  71.2833        C  \n",
       "2      0  STON/O2. 3101282   7.9250        S  \n",
       "3      0            113803  53.1000        S  \n",
       "4      0            373450   8.0500        S  "
      ]
     },
     "execution_count": 205,
     "metadata": {},
     "output_type": "execute_result"
    }
   ],
   "source": [
    "# 불필요 컬럼 삭제\n",
    "tdf = pd.read_csv('titanic_train.csv')\n",
    "tdf1 = tdf.drop(['Cabin'], axis = 1)\n",
    "tdf1.head()"
   ]
  },
  {
   "cell_type": "code",
   "execution_count": 207,
   "id": "a225eaa7",
   "metadata": {
    "collapsed": true
   },
   "outputs": [
    {
     "data": {
      "text/html": [
       "<div>\n",
       "<style scoped>\n",
       "    .dataframe tbody tr th:only-of-type {\n",
       "        vertical-align: middle;\n",
       "    }\n",
       "\n",
       "    .dataframe tbody tr th {\n",
       "        vertical-align: top;\n",
       "    }\n",
       "\n",
       "    .dataframe thead th {\n",
       "        text-align: right;\n",
       "    }\n",
       "</style>\n",
       "<table border=\"1\" class=\"dataframe\">\n",
       "  <thead>\n",
       "    <tr style=\"text-align: right;\">\n",
       "      <th></th>\n",
       "      <th>PassengerId</th>\n",
       "      <th>Survived</th>\n",
       "      <th>Pclass</th>\n",
       "      <th>Name</th>\n",
       "      <th>Sex</th>\n",
       "      <th>Age</th>\n",
       "      <th>SibSp</th>\n",
       "      <th>Parch</th>\n",
       "      <th>Ticket</th>\n",
       "      <th>Fare</th>\n",
       "      <th>Embarked</th>\n",
       "      <th>family</th>\n",
       "    </tr>\n",
       "  </thead>\n",
       "  <tbody>\n",
       "    <tr>\n",
       "      <th>0</th>\n",
       "      <td>1</td>\n",
       "      <td>0</td>\n",
       "      <td>3</td>\n",
       "      <td>Braund, Mr. Owen Harris</td>\n",
       "      <td>male</td>\n",
       "      <td>22.0</td>\n",
       "      <td>1</td>\n",
       "      <td>0</td>\n",
       "      <td>A/5 21171</td>\n",
       "      <td>7.2500</td>\n",
       "      <td>S</td>\n",
       "      <td>1</td>\n",
       "    </tr>\n",
       "    <tr>\n",
       "      <th>1</th>\n",
       "      <td>2</td>\n",
       "      <td>1</td>\n",
       "      <td>1</td>\n",
       "      <td>Cumings, Mrs. John Bradley (Florence Briggs Th...</td>\n",
       "      <td>female</td>\n",
       "      <td>38.0</td>\n",
       "      <td>1</td>\n",
       "      <td>0</td>\n",
       "      <td>PC 17599</td>\n",
       "      <td>71.2833</td>\n",
       "      <td>C</td>\n",
       "      <td>1</td>\n",
       "    </tr>\n",
       "    <tr>\n",
       "      <th>2</th>\n",
       "      <td>3</td>\n",
       "      <td>1</td>\n",
       "      <td>3</td>\n",
       "      <td>Heikkinen, Miss. Laina</td>\n",
       "      <td>female</td>\n",
       "      <td>26.0</td>\n",
       "      <td>0</td>\n",
       "      <td>0</td>\n",
       "      <td>STON/O2. 3101282</td>\n",
       "      <td>7.9250</td>\n",
       "      <td>S</td>\n",
       "      <td>0</td>\n",
       "    </tr>\n",
       "    <tr>\n",
       "      <th>3</th>\n",
       "      <td>4</td>\n",
       "      <td>1</td>\n",
       "      <td>1</td>\n",
       "      <td>Futrelle, Mrs. Jacques Heath (Lily May Peel)</td>\n",
       "      <td>female</td>\n",
       "      <td>35.0</td>\n",
       "      <td>1</td>\n",
       "      <td>0</td>\n",
       "      <td>113803</td>\n",
       "      <td>53.1000</td>\n",
       "      <td>S</td>\n",
       "      <td>1</td>\n",
       "    </tr>\n",
       "    <tr>\n",
       "      <th>4</th>\n",
       "      <td>5</td>\n",
       "      <td>0</td>\n",
       "      <td>3</td>\n",
       "      <td>Allen, Mr. William Henry</td>\n",
       "      <td>male</td>\n",
       "      <td>35.0</td>\n",
       "      <td>0</td>\n",
       "      <td>0</td>\n",
       "      <td>373450</td>\n",
       "      <td>8.0500</td>\n",
       "      <td>S</td>\n",
       "      <td>0</td>\n",
       "    </tr>\n",
       "  </tbody>\n",
       "</table>\n",
       "</div>"
      ],
      "text/plain": [
       "   PassengerId  Survived  Pclass  \\\n",
       "0            1         0       3   \n",
       "1            2         1       1   \n",
       "2            3         1       3   \n",
       "3            4         1       1   \n",
       "4            5         0       3   \n",
       "\n",
       "                                                Name     Sex   Age  SibSp  \\\n",
       "0                            Braund, Mr. Owen Harris    male  22.0      1   \n",
       "1  Cumings, Mrs. John Bradley (Florence Briggs Th...  female  38.0      1   \n",
       "2                             Heikkinen, Miss. Laina  female  26.0      0   \n",
       "3       Futrelle, Mrs. Jacques Heath (Lily May Peel)  female  35.0      1   \n",
       "4                           Allen, Mr. William Henry    male  35.0      0   \n",
       "\n",
       "   Parch            Ticket     Fare Embarked  family  \n",
       "0      0         A/5 21171   7.2500        S       1  \n",
       "1      0          PC 17599  71.2833        C       1  \n",
       "2      0  STON/O2. 3101282   7.9250        S       0  \n",
       "3      0            113803  53.1000        S       1  \n",
       "4      0            373450   8.0500        S       0  "
      ]
     },
     "execution_count": 207,
     "metadata": {},
     "output_type": "execute_result"
    }
   ],
   "source": [
    "# family 컬럼 만들기(sibsp+parch)\n",
    "tdf1['family'] = tdf1['SibSp'] + tdf1['Parch']\n",
    "tdf1.head()"
   ]
  },
  {
   "cell_type": "code",
   "execution_count": 213,
   "id": "affd27ed",
   "metadata": {},
   "outputs": [
    {
     "data": {
      "text/html": [
       "<div>\n",
       "<style scoped>\n",
       "    .dataframe tbody tr th:only-of-type {\n",
       "        vertical-align: middle;\n",
       "    }\n",
       "\n",
       "    .dataframe tbody tr th {\n",
       "        vertical-align: top;\n",
       "    }\n",
       "\n",
       "    .dataframe thead th {\n",
       "        text-align: right;\n",
       "    }\n",
       "</style>\n",
       "<table border=\"1\" class=\"dataframe\">\n",
       "  <thead>\n",
       "    <tr style=\"text-align: right;\">\n",
       "      <th></th>\n",
       "      <th>PassengerId</th>\n",
       "      <th>Survived</th>\n",
       "      <th>Pclass</th>\n",
       "      <th>Name</th>\n",
       "      <th>Sex</th>\n",
       "      <th>Age</th>\n",
       "      <th>SibSp</th>\n",
       "      <th>Parch</th>\n",
       "      <th>Ticket</th>\n",
       "      <th>Fare</th>\n",
       "      <th>Embarked</th>\n",
       "      <th>family</th>\n",
       "    </tr>\n",
       "  </thead>\n",
       "  <tbody>\n",
       "    <tr>\n",
       "      <th>5</th>\n",
       "      <td>6</td>\n",
       "      <td>0</td>\n",
       "      <td>3</td>\n",
       "      <td>Moran, Mr. James</td>\n",
       "      <td>male</td>\n",
       "      <td>NaN</td>\n",
       "      <td>0</td>\n",
       "      <td>0</td>\n",
       "      <td>330877</td>\n",
       "      <td>8.4583</td>\n",
       "      <td>Q</td>\n",
       "      <td>0</td>\n",
       "    </tr>\n",
       "    <tr>\n",
       "      <th>17</th>\n",
       "      <td>18</td>\n",
       "      <td>1</td>\n",
       "      <td>2</td>\n",
       "      <td>Williams, Mr. Charles Eugene</td>\n",
       "      <td>male</td>\n",
       "      <td>NaN</td>\n",
       "      <td>0</td>\n",
       "      <td>0</td>\n",
       "      <td>244373</td>\n",
       "      <td>13.0000</td>\n",
       "      <td>S</td>\n",
       "      <td>0</td>\n",
       "    </tr>\n",
       "    <tr>\n",
       "      <th>19</th>\n",
       "      <td>20</td>\n",
       "      <td>1</td>\n",
       "      <td>3</td>\n",
       "      <td>Masselmani, Mrs. Fatima</td>\n",
       "      <td>female</td>\n",
       "      <td>NaN</td>\n",
       "      <td>0</td>\n",
       "      <td>0</td>\n",
       "      <td>2649</td>\n",
       "      <td>7.2250</td>\n",
       "      <td>C</td>\n",
       "      <td>0</td>\n",
       "    </tr>\n",
       "    <tr>\n",
       "      <th>26</th>\n",
       "      <td>27</td>\n",
       "      <td>0</td>\n",
       "      <td>3</td>\n",
       "      <td>Emir, Mr. Farred Chehab</td>\n",
       "      <td>male</td>\n",
       "      <td>NaN</td>\n",
       "      <td>0</td>\n",
       "      <td>0</td>\n",
       "      <td>2631</td>\n",
       "      <td>7.2250</td>\n",
       "      <td>C</td>\n",
       "      <td>0</td>\n",
       "    </tr>\n",
       "    <tr>\n",
       "      <th>28</th>\n",
       "      <td>29</td>\n",
       "      <td>1</td>\n",
       "      <td>3</td>\n",
       "      <td>O'Dwyer, Miss. Ellen \"Nellie\"</td>\n",
       "      <td>female</td>\n",
       "      <td>NaN</td>\n",
       "      <td>0</td>\n",
       "      <td>0</td>\n",
       "      <td>330959</td>\n",
       "      <td>7.8792</td>\n",
       "      <td>Q</td>\n",
       "      <td>0</td>\n",
       "    </tr>\n",
       "    <tr>\n",
       "      <th>...</th>\n",
       "      <td>...</td>\n",
       "      <td>...</td>\n",
       "      <td>...</td>\n",
       "      <td>...</td>\n",
       "      <td>...</td>\n",
       "      <td>...</td>\n",
       "      <td>...</td>\n",
       "      <td>...</td>\n",
       "      <td>...</td>\n",
       "      <td>...</td>\n",
       "      <td>...</td>\n",
       "      <td>...</td>\n",
       "    </tr>\n",
       "    <tr>\n",
       "      <th>859</th>\n",
       "      <td>860</td>\n",
       "      <td>0</td>\n",
       "      <td>3</td>\n",
       "      <td>Razi, Mr. Raihed</td>\n",
       "      <td>male</td>\n",
       "      <td>NaN</td>\n",
       "      <td>0</td>\n",
       "      <td>0</td>\n",
       "      <td>2629</td>\n",
       "      <td>7.2292</td>\n",
       "      <td>C</td>\n",
       "      <td>0</td>\n",
       "    </tr>\n",
       "    <tr>\n",
       "      <th>863</th>\n",
       "      <td>864</td>\n",
       "      <td>0</td>\n",
       "      <td>3</td>\n",
       "      <td>Sage, Miss. Dorothy Edith \"Dolly\"</td>\n",
       "      <td>female</td>\n",
       "      <td>NaN</td>\n",
       "      <td>8</td>\n",
       "      <td>2</td>\n",
       "      <td>CA. 2343</td>\n",
       "      <td>69.5500</td>\n",
       "      <td>S</td>\n",
       "      <td>10</td>\n",
       "    </tr>\n",
       "    <tr>\n",
       "      <th>868</th>\n",
       "      <td>869</td>\n",
       "      <td>0</td>\n",
       "      <td>3</td>\n",
       "      <td>van Melkebeke, Mr. Philemon</td>\n",
       "      <td>male</td>\n",
       "      <td>NaN</td>\n",
       "      <td>0</td>\n",
       "      <td>0</td>\n",
       "      <td>345777</td>\n",
       "      <td>9.5000</td>\n",
       "      <td>S</td>\n",
       "      <td>0</td>\n",
       "    </tr>\n",
       "    <tr>\n",
       "      <th>878</th>\n",
       "      <td>879</td>\n",
       "      <td>0</td>\n",
       "      <td>3</td>\n",
       "      <td>Laleff, Mr. Kristo</td>\n",
       "      <td>male</td>\n",
       "      <td>NaN</td>\n",
       "      <td>0</td>\n",
       "      <td>0</td>\n",
       "      <td>349217</td>\n",
       "      <td>7.8958</td>\n",
       "      <td>S</td>\n",
       "      <td>0</td>\n",
       "    </tr>\n",
       "    <tr>\n",
       "      <th>888</th>\n",
       "      <td>889</td>\n",
       "      <td>0</td>\n",
       "      <td>3</td>\n",
       "      <td>Johnston, Miss. Catherine Helen \"Carrie\"</td>\n",
       "      <td>female</td>\n",
       "      <td>NaN</td>\n",
       "      <td>1</td>\n",
       "      <td>2</td>\n",
       "      <td>W./C. 6607</td>\n",
       "      <td>23.4500</td>\n",
       "      <td>S</td>\n",
       "      <td>3</td>\n",
       "    </tr>\n",
       "  </tbody>\n",
       "</table>\n",
       "<p>177 rows × 12 columns</p>\n",
       "</div>"
      ],
      "text/plain": [
       "     PassengerId  Survived  Pclass                                      Name  \\\n",
       "5              6         0       3                          Moran, Mr. James   \n",
       "17            18         1       2              Williams, Mr. Charles Eugene   \n",
       "19            20         1       3                   Masselmani, Mrs. Fatima   \n",
       "26            27         0       3                   Emir, Mr. Farred Chehab   \n",
       "28            29         1       3             O'Dwyer, Miss. Ellen \"Nellie\"   \n",
       "..           ...       ...     ...                                       ...   \n",
       "859          860         0       3                          Razi, Mr. Raihed   \n",
       "863          864         0       3         Sage, Miss. Dorothy Edith \"Dolly\"   \n",
       "868          869         0       3               van Melkebeke, Mr. Philemon   \n",
       "878          879         0       3                        Laleff, Mr. Kristo   \n",
       "888          889         0       3  Johnston, Miss. Catherine Helen \"Carrie\"   \n",
       "\n",
       "        Sex  Age  SibSp  Parch      Ticket     Fare Embarked  family  \n",
       "5      male  NaN      0      0      330877   8.4583        Q       0  \n",
       "17     male  NaN      0      0      244373  13.0000        S       0  \n",
       "19   female  NaN      0      0        2649   7.2250        C       0  \n",
       "26     male  NaN      0      0        2631   7.2250        C       0  \n",
       "28   female  NaN      0      0      330959   7.8792        Q       0  \n",
       "..      ...  ...    ...    ...         ...      ...      ...     ...  \n",
       "859    male  NaN      0      0        2629   7.2292        C       0  \n",
       "863  female  NaN      8      2    CA. 2343  69.5500        S      10  \n",
       "868    male  NaN      0      0      345777   9.5000        S       0  \n",
       "878    male  NaN      0      0      349217   7.8958        S       0  \n",
       "888  female  NaN      1      2  W./C. 6607  23.4500        S       3  \n",
       "\n",
       "[177 rows x 12 columns]"
      ]
     },
     "execution_count": 213,
     "metadata": {},
     "output_type": "execute_result"
    }
   ],
   "source": [
    "# age null값 채우기\n",
    "tdf1[tdf1['Age'].isnull()]"
   ]
  },
  {
   "cell_type": "code",
   "execution_count": 214,
   "id": "ef47a86f",
   "metadata": {
    "collapsed": true
   },
   "outputs": [
    {
     "data": {
      "text/html": [
       "<div>\n",
       "<style scoped>\n",
       "    .dataframe tbody tr th:only-of-type {\n",
       "        vertical-align: middle;\n",
       "    }\n",
       "\n",
       "    .dataframe tbody tr th {\n",
       "        vertical-align: top;\n",
       "    }\n",
       "\n",
       "    .dataframe thead tr th {\n",
       "        text-align: left;\n",
       "    }\n",
       "\n",
       "    .dataframe thead tr:last-of-type th {\n",
       "        text-align: right;\n",
       "    }\n",
       "</style>\n",
       "<table border=\"1\" class=\"dataframe\">\n",
       "  <thead>\n",
       "    <tr>\n",
       "      <th></th>\n",
       "      <th></th>\n",
       "      <th></th>\n",
       "      <th>mean</th>\n",
       "      <th>max</th>\n",
       "      <th>min</th>\n",
       "      <th>std</th>\n",
       "    </tr>\n",
       "    <tr>\n",
       "      <th></th>\n",
       "      <th></th>\n",
       "      <th></th>\n",
       "      <th>Age</th>\n",
       "      <th>Age</th>\n",
       "      <th>Age</th>\n",
       "      <th>Age</th>\n",
       "    </tr>\n",
       "    <tr>\n",
       "      <th>Survived</th>\n",
       "      <th>Pclass</th>\n",
       "      <th>Sex</th>\n",
       "      <th></th>\n",
       "      <th></th>\n",
       "      <th></th>\n",
       "      <th></th>\n",
       "    </tr>\n",
       "  </thead>\n",
       "  <tbody>\n",
       "    <tr>\n",
       "      <th rowspan=\"6\" valign=\"top\">0</th>\n",
       "      <th rowspan=\"2\" valign=\"top\">1</th>\n",
       "      <th>female</th>\n",
       "      <td>26.0</td>\n",
       "      <td>50.0</td>\n",
       "      <td>2.0</td>\n",
       "      <td>24.0</td>\n",
       "    </tr>\n",
       "    <tr>\n",
       "      <th>male</th>\n",
       "      <td>45.0</td>\n",
       "      <td>71.0</td>\n",
       "      <td>18.0</td>\n",
       "      <td>14.0</td>\n",
       "    </tr>\n",
       "    <tr>\n",
       "      <th rowspan=\"2\" valign=\"top\">2</th>\n",
       "      <th>female</th>\n",
       "      <td>36.0</td>\n",
       "      <td>57.0</td>\n",
       "      <td>24.0</td>\n",
       "      <td>13.0</td>\n",
       "    </tr>\n",
       "    <tr>\n",
       "      <th>male</th>\n",
       "      <td>33.0</td>\n",
       "      <td>70.0</td>\n",
       "      <td>16.0</td>\n",
       "      <td>12.0</td>\n",
       "    </tr>\n",
       "    <tr>\n",
       "      <th rowspan=\"2\" valign=\"top\">3</th>\n",
       "      <th>female</th>\n",
       "      <td>24.0</td>\n",
       "      <td>48.0</td>\n",
       "      <td>2.0</td>\n",
       "      <td>13.0</td>\n",
       "    </tr>\n",
       "    <tr>\n",
       "      <th>male</th>\n",
       "      <td>27.0</td>\n",
       "      <td>74.0</td>\n",
       "      <td>1.0</td>\n",
       "      <td>12.0</td>\n",
       "    </tr>\n",
       "    <tr>\n",
       "      <th rowspan=\"6\" valign=\"top\">1</th>\n",
       "      <th rowspan=\"2\" valign=\"top\">1</th>\n",
       "      <th>female</th>\n",
       "      <td>35.0</td>\n",
       "      <td>63.0</td>\n",
       "      <td>14.0</td>\n",
       "      <td>13.0</td>\n",
       "    </tr>\n",
       "    <tr>\n",
       "      <th>male</th>\n",
       "      <td>36.0</td>\n",
       "      <td>80.0</td>\n",
       "      <td>1.0</td>\n",
       "      <td>15.0</td>\n",
       "    </tr>\n",
       "    <tr>\n",
       "      <th rowspan=\"2\" valign=\"top\">2</th>\n",
       "      <th>female</th>\n",
       "      <td>28.0</td>\n",
       "      <td>55.0</td>\n",
       "      <td>2.0</td>\n",
       "      <td>13.0</td>\n",
       "    </tr>\n",
       "    <tr>\n",
       "      <th>male</th>\n",
       "      <td>16.0</td>\n",
       "      <td>62.0</td>\n",
       "      <td>1.0</td>\n",
       "      <td>20.0</td>\n",
       "    </tr>\n",
       "    <tr>\n",
       "      <th rowspan=\"2\" valign=\"top\">3</th>\n",
       "      <th>female</th>\n",
       "      <td>19.0</td>\n",
       "      <td>63.0</td>\n",
       "      <td>1.0</td>\n",
       "      <td>12.0</td>\n",
       "    </tr>\n",
       "    <tr>\n",
       "      <th>male</th>\n",
       "      <td>22.0</td>\n",
       "      <td>45.0</td>\n",
       "      <td>0.0</td>\n",
       "      <td>12.0</td>\n",
       "    </tr>\n",
       "  </tbody>\n",
       "</table>\n",
       "</div>"
      ],
      "text/plain": [
       "                        mean   max   min   std\n",
       "                         Age   Age   Age   Age\n",
       "Survived Pclass Sex                           \n",
       "0        1      female  26.0  50.0   2.0  24.0\n",
       "                male    45.0  71.0  18.0  14.0\n",
       "         2      female  36.0  57.0  24.0  13.0\n",
       "                male    33.0  70.0  16.0  12.0\n",
       "         3      female  24.0  48.0   2.0  13.0\n",
       "                male    27.0  74.0   1.0  12.0\n",
       "1        1      female  35.0  63.0  14.0  13.0\n",
       "                male    36.0  80.0   1.0  15.0\n",
       "         2      female  28.0  55.0   2.0  13.0\n",
       "                male    16.0  62.0   1.0  20.0\n",
       "         3      female  19.0  63.0   1.0  12.0\n",
       "                male    22.0  45.0   0.0  12.0"
      ]
     },
     "execution_count": 214,
     "metadata": {},
     "output_type": "execute_result"
    }
   ],
   "source": [
    "pv_age = tdf1.pivot_table(index = ['Survived','Pclass','Sex'],values = ['Age'],aggfunc= ['mean','max','min','std']).round()\n",
    "pv_age"
   ]
  },
  {
   "cell_type": "code",
   "execution_count": 216,
   "id": "10e87199",
   "metadata": {},
   "outputs": [
    {
     "data": {
      "text/html": [
       "<div>\n",
       "<style scoped>\n",
       "    .dataframe tbody tr th:only-of-type {\n",
       "        vertical-align: middle;\n",
       "    }\n",
       "\n",
       "    .dataframe tbody tr th {\n",
       "        vertical-align: top;\n",
       "    }\n",
       "\n",
       "    .dataframe thead th {\n",
       "        text-align: right;\n",
       "    }\n",
       "</style>\n",
       "<table border=\"1\" class=\"dataframe\">\n",
       "  <thead>\n",
       "    <tr style=\"text-align: right;\">\n",
       "      <th></th>\n",
       "      <th>PassengerId</th>\n",
       "      <th>Survived</th>\n",
       "      <th>Pclass</th>\n",
       "      <th>Name</th>\n",
       "      <th>Sex</th>\n",
       "      <th>Age</th>\n",
       "      <th>SibSp</th>\n",
       "      <th>Parch</th>\n",
       "      <th>Ticket</th>\n",
       "      <th>Fare</th>\n",
       "      <th>Embarked</th>\n",
       "      <th>family</th>\n",
       "    </tr>\n",
       "  </thead>\n",
       "  <tbody>\n",
       "    <tr>\n",
       "      <th>6</th>\n",
       "      <td>7</td>\n",
       "      <td>0</td>\n",
       "      <td>1</td>\n",
       "      <td>McCarthy, Mr. Timothy J</td>\n",
       "      <td>male</td>\n",
       "      <td>54.0</td>\n",
       "      <td>0</td>\n",
       "      <td>0</td>\n",
       "      <td>17463</td>\n",
       "      <td>51.8625</td>\n",
       "      <td>S</td>\n",
       "      <td>0</td>\n",
       "    </tr>\n",
       "    <tr>\n",
       "      <th>27</th>\n",
       "      <td>28</td>\n",
       "      <td>0</td>\n",
       "      <td>1</td>\n",
       "      <td>Fortune, Mr. Charles Alexander</td>\n",
       "      <td>male</td>\n",
       "      <td>19.0</td>\n",
       "      <td>3</td>\n",
       "      <td>2</td>\n",
       "      <td>19950</td>\n",
       "      <td>263.0000</td>\n",
       "      <td>S</td>\n",
       "      <td>5</td>\n",
       "    </tr>\n",
       "    <tr>\n",
       "      <th>30</th>\n",
       "      <td>31</td>\n",
       "      <td>0</td>\n",
       "      <td>1</td>\n",
       "      <td>Uruchurtu, Don. Manuel E</td>\n",
       "      <td>male</td>\n",
       "      <td>40.0</td>\n",
       "      <td>0</td>\n",
       "      <td>0</td>\n",
       "      <td>PC 17601</td>\n",
       "      <td>27.7208</td>\n",
       "      <td>C</td>\n",
       "      <td>0</td>\n",
       "    </tr>\n",
       "    <tr>\n",
       "      <th>34</th>\n",
       "      <td>35</td>\n",
       "      <td>0</td>\n",
       "      <td>1</td>\n",
       "      <td>Meyer, Mr. Edgar Joseph</td>\n",
       "      <td>male</td>\n",
       "      <td>28.0</td>\n",
       "      <td>1</td>\n",
       "      <td>0</td>\n",
       "      <td>PC 17604</td>\n",
       "      <td>82.1708</td>\n",
       "      <td>C</td>\n",
       "      <td>1</td>\n",
       "    </tr>\n",
       "    <tr>\n",
       "      <th>35</th>\n",
       "      <td>36</td>\n",
       "      <td>0</td>\n",
       "      <td>1</td>\n",
       "      <td>Holverson, Mr. Alexander Oskar</td>\n",
       "      <td>male</td>\n",
       "      <td>42.0</td>\n",
       "      <td>1</td>\n",
       "      <td>0</td>\n",
       "      <td>113789</td>\n",
       "      <td>52.0000</td>\n",
       "      <td>S</td>\n",
       "      <td>1</td>\n",
       "    </tr>\n",
       "    <tr>\n",
       "      <th>...</th>\n",
       "      <td>...</td>\n",
       "      <td>...</td>\n",
       "      <td>...</td>\n",
       "      <td>...</td>\n",
       "      <td>...</td>\n",
       "      <td>...</td>\n",
       "      <td>...</td>\n",
       "      <td>...</td>\n",
       "      <td>...</td>\n",
       "      <td>...</td>\n",
       "      <td>...</td>\n",
       "      <td>...</td>\n",
       "    </tr>\n",
       "    <tr>\n",
       "      <th>806</th>\n",
       "      <td>807</td>\n",
       "      <td>0</td>\n",
       "      <td>1</td>\n",
       "      <td>Andrews, Mr. Thomas Jr</td>\n",
       "      <td>male</td>\n",
       "      <td>39.0</td>\n",
       "      <td>0</td>\n",
       "      <td>0</td>\n",
       "      <td>112050</td>\n",
       "      <td>0.0000</td>\n",
       "      <td>S</td>\n",
       "      <td>0</td>\n",
       "    </tr>\n",
       "    <tr>\n",
       "      <th>815</th>\n",
       "      <td>816</td>\n",
       "      <td>0</td>\n",
       "      <td>1</td>\n",
       "      <td>Fry, Mr. Richard</td>\n",
       "      <td>male</td>\n",
       "      <td>NaN</td>\n",
       "      <td>0</td>\n",
       "      <td>0</td>\n",
       "      <td>112058</td>\n",
       "      <td>0.0000</td>\n",
       "      <td>S</td>\n",
       "      <td>0</td>\n",
       "    </tr>\n",
       "    <tr>\n",
       "      <th>822</th>\n",
       "      <td>823</td>\n",
       "      <td>0</td>\n",
       "      <td>1</td>\n",
       "      <td>Reuchlin, Jonkheer. John George</td>\n",
       "      <td>male</td>\n",
       "      <td>38.0</td>\n",
       "      <td>0</td>\n",
       "      <td>0</td>\n",
       "      <td>19972</td>\n",
       "      <td>0.0000</td>\n",
       "      <td>S</td>\n",
       "      <td>0</td>\n",
       "    </tr>\n",
       "    <tr>\n",
       "      <th>867</th>\n",
       "      <td>868</td>\n",
       "      <td>0</td>\n",
       "      <td>1</td>\n",
       "      <td>Roebling, Mr. Washington Augustus II</td>\n",
       "      <td>male</td>\n",
       "      <td>31.0</td>\n",
       "      <td>0</td>\n",
       "      <td>0</td>\n",
       "      <td>PC 17590</td>\n",
       "      <td>50.4958</td>\n",
       "      <td>S</td>\n",
       "      <td>0</td>\n",
       "    </tr>\n",
       "    <tr>\n",
       "      <th>872</th>\n",
       "      <td>873</td>\n",
       "      <td>0</td>\n",
       "      <td>1</td>\n",
       "      <td>Carlsson, Mr. Frans Olof</td>\n",
       "      <td>male</td>\n",
       "      <td>33.0</td>\n",
       "      <td>0</td>\n",
       "      <td>0</td>\n",
       "      <td>695</td>\n",
       "      <td>5.0000</td>\n",
       "      <td>S</td>\n",
       "      <td>0</td>\n",
       "    </tr>\n",
       "  </tbody>\n",
       "</table>\n",
       "<p>77 rows × 12 columns</p>\n",
       "</div>"
      ],
      "text/plain": [
       "     PassengerId  Survived  Pclass                                  Name  \\\n",
       "6              7         0       1               McCarthy, Mr. Timothy J   \n",
       "27            28         0       1        Fortune, Mr. Charles Alexander   \n",
       "30            31         0       1              Uruchurtu, Don. Manuel E   \n",
       "34            35         0       1               Meyer, Mr. Edgar Joseph   \n",
       "35            36         0       1        Holverson, Mr. Alexander Oskar   \n",
       "..           ...       ...     ...                                   ...   \n",
       "806          807         0       1                Andrews, Mr. Thomas Jr   \n",
       "815          816         0       1                      Fry, Mr. Richard   \n",
       "822          823         0       1       Reuchlin, Jonkheer. John George   \n",
       "867          868         0       1  Roebling, Mr. Washington Augustus II   \n",
       "872          873         0       1              Carlsson, Mr. Frans Olof   \n",
       "\n",
       "      Sex   Age  SibSp  Parch    Ticket      Fare Embarked  family  \n",
       "6    male  54.0      0      0     17463   51.8625        S       0  \n",
       "27   male  19.0      3      2     19950  263.0000        S       5  \n",
       "30   male  40.0      0      0  PC 17601   27.7208        C       0  \n",
       "34   male  28.0      1      0  PC 17604   82.1708        C       1  \n",
       "35   male  42.0      1      0    113789   52.0000        S       1  \n",
       "..    ...   ...    ...    ...       ...       ...      ...     ...  \n",
       "806  male  39.0      0      0    112050    0.0000        S       0  \n",
       "815  male   NaN      0      0    112058    0.0000        S       0  \n",
       "822  male  38.0      0      0     19972    0.0000        S       0  \n",
       "867  male  31.0      0      0  PC 17590   50.4958        S       0  \n",
       "872  male  33.0      0      0       695    5.0000        S       0  \n",
       "\n",
       "[77 rows x 12 columns]"
      ]
     },
     "metadata": {},
     "output_type": "display_data"
    }
   ],
   "source": [
    "display(tdf1[(tdf1['Survived']==0)&(tdf1['Pclass']==1)&(tdf1['Sex']=='male')])\n"
   ]
  },
  {
   "cell_type": "code",
   "execution_count": null,
   "id": "1fc2c0a4",
   "metadata": {},
   "outputs": [],
   "source": []
  },
  {
   "cell_type": "markdown",
   "id": "e9174a08",
   "metadata": {},
   "source": [
    "## 사이킷런을 이용하여 붗꽃(iris) 데이터 품종 예측하기 86p"
   ]
  },
  {
   "cell_type": "code",
   "execution_count": 218,
   "id": "f91be3c3",
   "metadata": {},
   "outputs": [],
   "source": [
    "from sklearn.datasets import load_iris\n",
    "from sklearn.tree import DecisionTreeClassifier\n",
    "from sklearn.model_selection import train_test_split"
   ]
  },
  {
   "cell_type": "code",
   "execution_count": 102,
   "id": "9961c39b",
   "metadata": {},
   "outputs": [
    {
     "data": {
      "text/plain": [
       "dict_keys(['data', 'target', 'frame', 'target_names', 'DESCR', 'feature_names', 'filename', 'data_module'])"
      ]
     },
     "execution_count": 102,
     "metadata": {},
     "output_type": "execute_result"
    }
   ],
   "source": [
    "iris = load_iris()\n",
    "iris.keys()"
   ]
  },
  {
   "cell_type": "code",
   "execution_count": 104,
   "id": "1320fe90",
   "metadata": {
    "collapsed": true
   },
   "outputs": [
    {
     "name": "stdout",
     "output_type": "stream",
     "text": [
      "['sepal length (cm)', 'sepal width (cm)', 'petal length (cm)', 'petal width (cm)'] \n",
      "\n",
      "['setosa' 'versicolor' 'virginica'] \n",
      "\n",
      "[[5.1 3.5 1.4 0.2]\n",
      " [4.9 3.  1.4 0.2]\n",
      " [4.7 3.2 1.3 0.2]\n",
      " [4.6 3.1 1.5 0.2]\n",
      " [5.  3.6 1.4 0.2]\n",
      " [5.4 3.9 1.7 0.4]\n",
      " [4.6 3.4 1.4 0.3]\n",
      " [5.  3.4 1.5 0.2]\n",
      " [4.4 2.9 1.4 0.2]\n",
      " [4.9 3.1 1.5 0.1]\n",
      " [5.4 3.7 1.5 0.2]\n",
      " [4.8 3.4 1.6 0.2]\n",
      " [4.8 3.  1.4 0.1]\n",
      " [4.3 3.  1.1 0.1]\n",
      " [5.8 4.  1.2 0.2]\n",
      " [5.7 4.4 1.5 0.4]\n",
      " [5.4 3.9 1.3 0.4]\n",
      " [5.1 3.5 1.4 0.3]\n",
      " [5.7 3.8 1.7 0.3]\n",
      " [5.1 3.8 1.5 0.3]\n",
      " [5.4 3.4 1.7 0.2]\n",
      " [5.1 3.7 1.5 0.4]\n",
      " [4.6 3.6 1.  0.2]\n",
      " [5.1 3.3 1.7 0.5]\n",
      " [4.8 3.4 1.9 0.2]\n",
      " [5.  3.  1.6 0.2]\n",
      " [5.  3.4 1.6 0.4]\n",
      " [5.2 3.5 1.5 0.2]\n",
      " [5.2 3.4 1.4 0.2]\n",
      " [4.7 3.2 1.6 0.2]\n",
      " [4.8 3.1 1.6 0.2]\n",
      " [5.4 3.4 1.5 0.4]\n",
      " [5.2 4.1 1.5 0.1]\n",
      " [5.5 4.2 1.4 0.2]\n",
      " [4.9 3.1 1.5 0.2]\n",
      " [5.  3.2 1.2 0.2]\n",
      " [5.5 3.5 1.3 0.2]\n",
      " [4.9 3.6 1.4 0.1]\n",
      " [4.4 3.  1.3 0.2]\n",
      " [5.1 3.4 1.5 0.2]\n",
      " [5.  3.5 1.3 0.3]\n",
      " [4.5 2.3 1.3 0.3]\n",
      " [4.4 3.2 1.3 0.2]\n",
      " [5.  3.5 1.6 0.6]\n",
      " [5.1 3.8 1.9 0.4]\n",
      " [4.8 3.  1.4 0.3]\n",
      " [5.1 3.8 1.6 0.2]\n",
      " [4.6 3.2 1.4 0.2]\n",
      " [5.3 3.7 1.5 0.2]\n",
      " [5.  3.3 1.4 0.2]\n",
      " [7.  3.2 4.7 1.4]\n",
      " [6.4 3.2 4.5 1.5]\n",
      " [6.9 3.1 4.9 1.5]\n",
      " [5.5 2.3 4.  1.3]\n",
      " [6.5 2.8 4.6 1.5]\n",
      " [5.7 2.8 4.5 1.3]\n",
      " [6.3 3.3 4.7 1.6]\n",
      " [4.9 2.4 3.3 1. ]\n",
      " [6.6 2.9 4.6 1.3]\n",
      " [5.2 2.7 3.9 1.4]\n",
      " [5.  2.  3.5 1. ]\n",
      " [5.9 3.  4.2 1.5]\n",
      " [6.  2.2 4.  1. ]\n",
      " [6.1 2.9 4.7 1.4]\n",
      " [5.6 2.9 3.6 1.3]\n",
      " [6.7 3.1 4.4 1.4]\n",
      " [5.6 3.  4.5 1.5]\n",
      " [5.8 2.7 4.1 1. ]\n",
      " [6.2 2.2 4.5 1.5]\n",
      " [5.6 2.5 3.9 1.1]\n",
      " [5.9 3.2 4.8 1.8]\n",
      " [6.1 2.8 4.  1.3]\n",
      " [6.3 2.5 4.9 1.5]\n",
      " [6.1 2.8 4.7 1.2]\n",
      " [6.4 2.9 4.3 1.3]\n",
      " [6.6 3.  4.4 1.4]\n",
      " [6.8 2.8 4.8 1.4]\n",
      " [6.7 3.  5.  1.7]\n",
      " [6.  2.9 4.5 1.5]\n",
      " [5.7 2.6 3.5 1. ]\n",
      " [5.5 2.4 3.8 1.1]\n",
      " [5.5 2.4 3.7 1. ]\n",
      " [5.8 2.7 3.9 1.2]\n",
      " [6.  2.7 5.1 1.6]\n",
      " [5.4 3.  4.5 1.5]\n",
      " [6.  3.4 4.5 1.6]\n",
      " [6.7 3.1 4.7 1.5]\n",
      " [6.3 2.3 4.4 1.3]\n",
      " [5.6 3.  4.1 1.3]\n",
      " [5.5 2.5 4.  1.3]\n",
      " [5.5 2.6 4.4 1.2]\n",
      " [6.1 3.  4.6 1.4]\n",
      " [5.8 2.6 4.  1.2]\n",
      " [5.  2.3 3.3 1. ]\n",
      " [5.6 2.7 4.2 1.3]\n",
      " [5.7 3.  4.2 1.2]\n",
      " [5.7 2.9 4.2 1.3]\n",
      " [6.2 2.9 4.3 1.3]\n",
      " [5.1 2.5 3.  1.1]\n",
      " [5.7 2.8 4.1 1.3]\n",
      " [6.3 3.3 6.  2.5]\n",
      " [5.8 2.7 5.1 1.9]\n",
      " [7.1 3.  5.9 2.1]\n",
      " [6.3 2.9 5.6 1.8]\n",
      " [6.5 3.  5.8 2.2]\n",
      " [7.6 3.  6.6 2.1]\n",
      " [4.9 2.5 4.5 1.7]\n",
      " [7.3 2.9 6.3 1.8]\n",
      " [6.7 2.5 5.8 1.8]\n",
      " [7.2 3.6 6.1 2.5]\n",
      " [6.5 3.2 5.1 2. ]\n",
      " [6.4 2.7 5.3 1.9]\n",
      " [6.8 3.  5.5 2.1]\n",
      " [5.7 2.5 5.  2. ]\n",
      " [5.8 2.8 5.1 2.4]\n",
      " [6.4 3.2 5.3 2.3]\n",
      " [6.5 3.  5.5 1.8]\n",
      " [7.7 3.8 6.7 2.2]\n",
      " [7.7 2.6 6.9 2.3]\n",
      " [6.  2.2 5.  1.5]\n",
      " [6.9 3.2 5.7 2.3]\n",
      " [5.6 2.8 4.9 2. ]\n",
      " [7.7 2.8 6.7 2. ]\n",
      " [6.3 2.7 4.9 1.8]\n",
      " [6.7 3.3 5.7 2.1]\n",
      " [7.2 3.2 6.  1.8]\n",
      " [6.2 2.8 4.8 1.8]\n",
      " [6.1 3.  4.9 1.8]\n",
      " [6.4 2.8 5.6 2.1]\n",
      " [7.2 3.  5.8 1.6]\n",
      " [7.4 2.8 6.1 1.9]\n",
      " [7.9 3.8 6.4 2. ]\n",
      " [6.4 2.8 5.6 2.2]\n",
      " [6.3 2.8 5.1 1.5]\n",
      " [6.1 2.6 5.6 1.4]\n",
      " [7.7 3.  6.1 2.3]\n",
      " [6.3 3.4 5.6 2.4]\n",
      " [6.4 3.1 5.5 1.8]\n",
      " [6.  3.  4.8 1.8]\n",
      " [6.9 3.1 5.4 2.1]\n",
      " [6.7 3.1 5.6 2.4]\n",
      " [6.9 3.1 5.1 2.3]\n",
      " [5.8 2.7 5.1 1.9]\n",
      " [6.8 3.2 5.9 2.3]\n",
      " [6.7 3.3 5.7 2.5]\n",
      " [6.7 3.  5.2 2.3]\n",
      " [6.3 2.5 5.  1.9]\n",
      " [6.5 3.  5.2 2. ]\n",
      " [6.2 3.4 5.4 2.3]\n",
      " [5.9 3.  5.1 1.8]] \n",
      "\n",
      "[0 0 0 0 0 0 0 0 0 0 0 0 0 0 0 0 0 0 0 0 0 0 0 0 0 0 0 0 0 0 0 0 0 0 0 0 0\n",
      " 0 0 0 0 0 0 0 0 0 0 0 0 0 1 1 1 1 1 1 1 1 1 1 1 1 1 1 1 1 1 1 1 1 1 1 1 1\n",
      " 1 1 1 1 1 1 1 1 1 1 1 1 1 1 1 1 1 1 1 1 1 1 1 1 1 1 2 2 2 2 2 2 2 2 2 2 2\n",
      " 2 2 2 2 2 2 2 2 2 2 2 2 2 2 2 2 2 2 2 2 2 2 2 2 2 2 2 2 2 2 2 2 2 2 2 2 2\n",
      " 2 2]\n"
     ]
    }
   ],
   "source": [
    "iris_data = iris.data\n",
    "iris_label = iris.target\n",
    "print(iris.feature_names,'\\n')\n",
    "print(iris.target_names,'\\n')\n",
    "print(iris_data,'\\n')\n",
    "print(iris_label)"
   ]
  },
  {
   "cell_type": "code",
   "execution_count": 105,
   "id": "1f2aca9f",
   "metadata": {},
   "outputs": [
    {
     "data": {
      "text/html": [
       "<div>\n",
       "<style scoped>\n",
       "    .dataframe tbody tr th:only-of-type {\n",
       "        vertical-align: middle;\n",
       "    }\n",
       "\n",
       "    .dataframe tbody tr th {\n",
       "        vertical-align: top;\n",
       "    }\n",
       "\n",
       "    .dataframe thead th {\n",
       "        text-align: right;\n",
       "    }\n",
       "</style>\n",
       "<table border=\"1\" class=\"dataframe\">\n",
       "  <thead>\n",
       "    <tr style=\"text-align: right;\">\n",
       "      <th></th>\n",
       "      <th>sepal length (cm)</th>\n",
       "      <th>sepal width (cm)</th>\n",
       "      <th>petal length (cm)</th>\n",
       "      <th>petal width (cm)</th>\n",
       "      <th>label</th>\n",
       "    </tr>\n",
       "  </thead>\n",
       "  <tbody>\n",
       "    <tr>\n",
       "      <th>0</th>\n",
       "      <td>5.1</td>\n",
       "      <td>3.5</td>\n",
       "      <td>1.4</td>\n",
       "      <td>0.2</td>\n",
       "      <td>0</td>\n",
       "    </tr>\n",
       "    <tr>\n",
       "      <th>1</th>\n",
       "      <td>4.9</td>\n",
       "      <td>3.0</td>\n",
       "      <td>1.4</td>\n",
       "      <td>0.2</td>\n",
       "      <td>0</td>\n",
       "    </tr>\n",
       "    <tr>\n",
       "      <th>2</th>\n",
       "      <td>4.7</td>\n",
       "      <td>3.2</td>\n",
       "      <td>1.3</td>\n",
       "      <td>0.2</td>\n",
       "      <td>0</td>\n",
       "    </tr>\n",
       "    <tr>\n",
       "      <th>3</th>\n",
       "      <td>4.6</td>\n",
       "      <td>3.1</td>\n",
       "      <td>1.5</td>\n",
       "      <td>0.2</td>\n",
       "      <td>0</td>\n",
       "    </tr>\n",
       "    <tr>\n",
       "      <th>4</th>\n",
       "      <td>5.0</td>\n",
       "      <td>3.6</td>\n",
       "      <td>1.4</td>\n",
       "      <td>0.2</td>\n",
       "      <td>0</td>\n",
       "    </tr>\n",
       "  </tbody>\n",
       "</table>\n",
       "</div>"
      ],
      "text/plain": [
       "   sepal length (cm)  sepal width (cm)  petal length (cm)  petal width (cm)  \\\n",
       "0                5.1               3.5                1.4               0.2   \n",
       "1                4.9               3.0                1.4               0.2   \n",
       "2                4.7               3.2                1.3               0.2   \n",
       "3                4.6               3.1                1.5               0.2   \n",
       "4                5.0               3.6                1.4               0.2   \n",
       "\n",
       "   label  \n",
       "0      0  \n",
       "1      0  \n",
       "2      0  \n",
       "3      0  \n",
       "4      0  "
      ]
     },
     "execution_count": 105,
     "metadata": {},
     "output_type": "execute_result"
    }
   ],
   "source": [
    "idf = pd.DataFrame(iris_data, columns=iris.feature_names)\n",
    "idf['label'] = iris.target\n",
    "idf.head()\n"
   ]
  },
  {
   "cell_type": "markdown",
   "id": "fdc7a7f8",
   "metadata": {},
   "source": [
    "#### 과제_0913_7\n",
    "- idf에 학습용, 평가용 데이터를 8:2로 나누어서 분류 모델링(dt) 및 정확도 평가를 수행하세요"
   ]
  },
  {
   "cell_type": "code",
   "execution_count": 221,
   "id": "5d283eff",
   "metadata": {},
   "outputs": [],
   "source": [
    "x_train, x_test, y_train, y_test = train_test_split(iris_data, iris_label,\n",
    "                                                   test_size=0.2)"
   ]
  },
  {
   "cell_type": "code",
   "execution_count": 222,
   "id": "6611c9d1",
   "metadata": {},
   "outputs": [],
   "source": [
    "dt_clf = DecisionTreeClassifier()"
   ]
  },
  {
   "cell_type": "code",
   "execution_count": 223,
   "id": "a0f0cb94",
   "metadata": {},
   "outputs": [
    {
     "data": {
      "text/plain": [
       "DecisionTreeClassifier()"
      ]
     },
     "execution_count": 223,
     "metadata": {},
     "output_type": "execute_result"
    }
   ],
   "source": [
    "dt_clf.fit(x_train, y_train)"
   ]
  },
  {
   "cell_type": "code",
   "execution_count": 224,
   "id": "68f9d29e",
   "metadata": {},
   "outputs": [],
   "source": [
    "pred = dt_clf.predict(x_test)"
   ]
  },
  {
   "cell_type": "code",
   "execution_count": 228,
   "id": "fadac3d2",
   "metadata": {},
   "outputs": [
    {
     "name": "stdout",
     "output_type": "stream",
     "text": [
      "예측정확도: 0.966667\n"
     ]
    }
   ],
   "source": [
    "from sklearn.metrics import accuracy_score\n",
    "print('예측정확도: {0:4f}'.format(accuracy_score(y_test,pred)))"
   ]
  },
  {
   "cell_type": "code",
   "execution_count": null,
   "id": "3aa5c605",
   "metadata": {},
   "outputs": [],
   "source": []
  }
 ],
 "metadata": {
  "kernelspec": {
   "display_name": "Python 3 (ipykernel)",
   "language": "python",
   "name": "python3"
  },
  "language_info": {
   "codemirror_mode": {
    "name": "ipython",
    "version": 3
   },
   "file_extension": ".py",
   "mimetype": "text/x-python",
   "name": "python",
   "nbconvert_exporter": "python",
   "pygments_lexer": "ipython3",
   "version": "3.8.13"
  },
  "toc": {
   "base_numbering": 1,
   "nav_menu": {},
   "number_sections": true,
   "sideBar": true,
   "skip_h1_title": false,
   "title_cell": "Table of Contents",
   "title_sidebar": "Contents",
   "toc_cell": false,
   "toc_position": {},
   "toc_section_display": true,
   "toc_window_display": true
  }
 },
 "nbformat": 4,
 "nbformat_minor": 5
}
