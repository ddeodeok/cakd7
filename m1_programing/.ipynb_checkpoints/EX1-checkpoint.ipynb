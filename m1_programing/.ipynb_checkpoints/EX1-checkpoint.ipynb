{
 "cells": [
  {
   "cell_type": "code",
   "execution_count": 18,
   "id": "72ae5465",
   "metadata": {
    "collapsed": true
   },
   "outputs": [
    {
     "name": "stdout",
     "output_type": "stream",
     "text": [
      "Requirement already satisfied: jupyter_contrib_nbextensions in c:\\users\\ejrgu\\anaconda3\\envs\\bigdata3\\lib\\site-packages (0.5.1)"
     ]
    },
    {
     "name": "stderr",
     "output_type": "stream",
     "text": [
      "[I 22:55:05 InstallContribNbextensionsApp] jupyter contrib nbextension install \n",
      "[I 22:55:05 InstallContribNbextensionsApp] Installing jupyter_contrib_nbextensions nbextension files to jupyter data directory\n",
      "[I 22:55:05 InstallContribNbextensionsApp] Installing C:\\Users\\ejrgu\\anaconda3\\envs\\bigdata3\\lib\\site-packages\\jupyter_contrib_nbextensions\\nbextensions\\addbefore -> addbefore\n",
      "[I 22:55:05 InstallContribNbextensionsApp] Making directory: C:\\ProgramData\\jupyter\\nbextensions\\addbefore\\\n",
      "[I 22:55:05 InstallContribNbextensionsApp] Copying: C:\\Users\\ejrgu\\anaconda3\\envs\\bigdata3\\lib\\site-packages\\jupyter_contrib_nbextensions\\nbextensions\\addbefore\\addbefore.yaml -> C:\\ProgramData\\jupyter\\nbextensions\\addbefore\\addbefore.yaml\n",
      "[I 22:55:05 InstallContribNbextensionsApp] Copying: C:\\Users\\ejrgu\\anaconda3\\envs\\bigdata3\\lib\\site-packages\\jupyter_contrib_nbextensions\\nbextensions\\addbefore\\icon.png -> C:\\ProgramData\\jupyter\\nbextensions\\addbefore\\icon.png\n",
      "[I 22:55:05 InstallContribNbextensionsApp] Copying: C:\\Users\\ejrgu\\anaconda3\\envs\\bigdata3\\lib\\site-packages\\jupyter_contrib_nbextensions\\nbextensions\\addbefore\\main.js -> C:\\ProgramData\\jupyter\\nbextensions\\addbefore\\main.js\n",
      "[I 22:55:05 InstallContribNbextensionsApp] Copying: C:\\Users\\ejrgu\\anaconda3\\envs\\bigdata3\\lib\\site-packages\\jupyter_contrib_nbextensions\\nbextensions\\addbefore\\readme.md -> C:\\ProgramData\\jupyter\\nbextensions\\addbefore\\readme.md\n",
      "[I 22:55:05 InstallContribNbextensionsApp] - Validating: ok\n",
      "[I 22:55:05 InstallContribNbextensionsApp] Installing C:\\Users\\ejrgu\\anaconda3\\envs\\bigdata3\\lib\\site-packages\\jupyter_contrib_nbextensions\\nbextensions\\autosavetime -> autosavetime\n",
      "[I 22:55:05 InstallContribNbextensionsApp] Making directory: C:\\ProgramData\\jupyter\\nbextensions\\autosavetime\\\n",
      "[I 22:55:05 InstallContribNbextensionsApp] Copying: C:\\Users\\ejrgu\\anaconda3\\envs\\bigdata3\\lib\\site-packages\\jupyter_contrib_nbextensions\\nbextensions\\autosavetime\\autosavetime.yaml -> C:\\ProgramData\\jupyter\\nbextensions\\autosavetime\\autosavetime.yaml\n",
      "[I 22:55:05 InstallContribNbextensionsApp] Copying: C:\\Users\\ejrgu\\anaconda3\\envs\\bigdata3\\lib\\site-packages\\jupyter_contrib_nbextensions\\nbextensions\\autosavetime\\icon.png -> C:\\ProgramData\\jupyter\\nbextensions\\autosavetime\\icon.png\n",
      "[I 22:55:05 InstallContribNbextensionsApp] Copying: C:\\Users\\ejrgu\\anaconda3\\envs\\bigdata3\\lib\\site-packages\\jupyter_contrib_nbextensions\\nbextensions\\autosavetime\\main.js -> C:\\ProgramData\\jupyter\\nbextensions\\autosavetime\\main.js\n",
      "[I 22:55:05 InstallContribNbextensionsApp] Copying: C:\\Users\\ejrgu\\anaconda3\\envs\\bigdata3\\lib\\site-packages\\jupyter_contrib_nbextensions\\nbextensions\\autosavetime\\README.md -> C:\\ProgramData\\jupyter\\nbextensions\\autosavetime\\README.md\n",
      "[I 22:55:05 InstallContribNbextensionsApp] - Validating: ok\n",
      "[I 22:55:05 InstallContribNbextensionsApp] Installing C:\\Users\\ejrgu\\anaconda3\\envs\\bigdata3\\lib\\site-packages\\jupyter_contrib_nbextensions\\nbextensions\\autoscroll -> autoscroll\n",
      "[I 22:55:05 InstallContribNbextensionsApp] Making directory: C:\\ProgramData\\jupyter\\nbextensions\\autoscroll\\\n",
      "[I 22:55:05 InstallContribNbextensionsApp] Copying: C:\\Users\\ejrgu\\anaconda3\\envs\\bigdata3\\lib\\site-packages\\jupyter_contrib_nbextensions\\nbextensions\\autoscroll\\autoscroll.yaml -> C:\\ProgramData\\jupyter\\nbextensions\\autoscroll\\autoscroll.yaml\n",
      "[I 22:55:05 InstallContribNbextensionsApp] Copying: C:\\Users\\ejrgu\\anaconda3\\envs\\bigdata3\\lib\\site-packages\\jupyter_contrib_nbextensions\\nbextensions\\autoscroll\\icon.png -> C:\\ProgramData\\jupyter\\nbextensions\\autoscroll\\icon.png\n",
      "[I 22:55:05 InstallContribNbextensionsApp] Copying: C:\\Users\\ejrgu\\anaconda3\\envs\\bigdata3\\lib\\site-packages\\jupyter_contrib_nbextensions\\nbextensions\\autoscroll\\main.js -> C:\\ProgramData\\jupyter\\nbextensions\\autoscroll\\main.js\n",
      "[I 22:55:05 InstallContribNbextensionsApp] Copying: C:\\Users\\ejrgu\\anaconda3\\envs\\bigdata3\\lib\\site-packages\\jupyter_contrib_nbextensions\\nbextensions\\autoscroll\\README.md -> C:\\ProgramData\\jupyter\\nbextensions\\autoscroll\\README.md\n",
      "[I 22:55:05 InstallContribNbextensionsApp] - Validating: ok\n",
      "[I 22:55:05 InstallContribNbextensionsApp] Installing C:\\Users\\ejrgu\\anaconda3\\envs\\bigdata3\\lib\\site-packages\\jupyter_contrib_nbextensions\\nbextensions\\cell_filter -> cell_filter\n",
      "[I 22:55:05 InstallContribNbextensionsApp] Making directory: C:\\ProgramData\\jupyter\\nbextensions\\cell_filter\\\n"
     ]
    },
    {
     "name": "stdout",
     "output_type": "stream",
     "text": [
      "\n",
      "Requirement already satisfied: tornado in c:\\users\\ejrgu\\anaconda3\\envs\\bigdata3\\lib\\site-packages (from jupyter_contrib_nbextensions) (6.1)\n",
      "Requirement already satisfied: jupyter-highlight-selected-word>=0.1.1 in c:\\users\\ejrgu\\anaconda3\\envs\\bigdata3\\lib\\site-packages (from jupyter_contrib_nbextensions) (0.2.0)\n",
      "Requirement already satisfied: ipython-genutils in c:\\users\\ejrgu\\anaconda3\\envs\\bigdata3\\lib\\site-packages (from jupyter_contrib_nbextensions) (0.2.0)\n",
      "Requirement already satisfied: jupyter-contrib-core>=0.3.3 in c:\\users\\ejrgu\\anaconda3\\envs\\bigdata3\\lib\\site-packages (from jupyter_contrib_nbextensions) (0.4.0)\n",
      "Requirement already satisfied: nbconvert>=4.2 in c:\\users\\ejrgu\\anaconda3\\envs\\bigdata3\\lib\\site-packages (from jupyter_contrib_nbextensions) (6.4.4)\n",
      "Requirement already satisfied: lxml in c:\\users\\ejrgu\\anaconda3\\envs\\bigdata3\\lib\\site-packages (from jupyter_contrib_nbextensions) (4.9.1)\n",
      "Requirement already satisfied: jupyter-nbextensions-configurator>=0.4.0 in c:\\users\\ejrgu\\anaconda3\\envs\\bigdata3\\lib\\site-packages (from jupyter_contrib_nbextensions) (0.5.0)\n",
      "Requirement already satisfied: notebook>=4.0 in c:\\users\\ejrgu\\anaconda3\\envs\\bigdata3\\lib\\site-packages (from jupyter_contrib_nbextensions) (6.4.12)\n",
      "Requirement already satisfied: pyyaml in c:\\users\\ejrgu\\anaconda3\\envs\\bigdata3\\lib\\site-packages (from jupyter_contrib_nbextensions) (6.0)\n",
      "Requirement already satisfied: jupyter-latex-envs>=1.3.8 in c:\\users\\ejrgu\\anaconda3\\envs\\bigdata3\\lib\\site-packages (from jupyter_contrib_nbextensions) (1.4.6)\n",
      "Requirement already satisfied: traitlets>=4.1 in c:\\users\\ejrgu\\anaconda3\\envs\\bigdata3\\lib\\site-packages (from jupyter_contrib_nbextensions) (5.1.1)\n",
      "Requirement already satisfied: jupyter-core in c:\\users\\ejrgu\\anaconda3\\envs\\bigdata3\\lib\\site-packages (from jupyter_contrib_nbextensions) (4.10.0)\n",
      "Requirement already satisfied: setuptools in c:\\users\\ejrgu\\anaconda3\\envs\\bigdata3\\lib\\site-packages (from jupyter-contrib-core>=0.3.3->jupyter_contrib_nbextensions) (61.2.0)\n",
      "Requirement already satisfied: ipython in c:\\users\\ejrgu\\anaconda3\\envs\\bigdata3\\lib\\site-packages (from jupyter-latex-envs>=1.3.8->jupyter_contrib_nbextensions) (7.31.1)\n",
      "Requirement already satisfied: jupyterlab-pygments in c:\\users\\ejrgu\\anaconda3\\envs\\bigdata3\\lib\\site-packages (from nbconvert>=4.2->jupyter_contrib_nbextensions) (0.1.2)\n",
      "Requirement already satisfied: entrypoints>=0.2.2 in c:\\users\\ejrgu\\anaconda3\\envs\\bigdata3\\lib\\site-packages (from nbconvert>=4.2->jupyter_contrib_nbextensions) (0.4)\n",
      "Requirement already satisfied: pygments>=2.4.1 in c:\\users\\ejrgu\\anaconda3\\envs\\bigdata3\\lib\\site-packages (from nbconvert>=4.2->jupyter_contrib_nbextensions) (2.11.2)\n",
      "Requirement already satisfied: mistune<2,>=0.8.1 in c:\\users\\ejrgu\\anaconda3\\envs\\bigdata3\\lib\\site-packages (from nbconvert>=4.2->jupyter_contrib_nbextensions) (0.8.4)\n",
      "Requirement already satisfied: nbformat>=4.4 in c:\\users\\ejrgu\\anaconda3\\envs\\bigdata3\\lib\\site-packages (from nbconvert>=4.2->jupyter_contrib_nbextensions) (5.3.0)\n",
      "Requirement already satisfied: jinja2>=2.4 in c:\\users\\ejrgu\\anaconda3\\envs\\bigdata3\\lib\\site-packages (from nbconvert>=4.2->jupyter_contrib_nbextensions) (3.0.3)\n",
      "Requirement already satisfied: bleach in c:\\users\\ejrgu\\anaconda3\\envs\\bigdata3\\lib\\site-packages (from nbconvert>=4.2->jupyter_contrib_nbextensions) (4.1.0)\n",
      "Requirement already satisfied: pandocfilters>=1.4.1 in c:\\users\\ejrgu\\anaconda3\\envs\\bigdata3\\lib\\site-packages (from nbconvert>=4.2->jupyter_contrib_nbextensions) (1.5.0)\n",
      "Requirement already satisfied: testpath in c:\\users\\ejrgu\\anaconda3\\envs\\bigdata3\\lib\\site-packages (from nbconvert>=4.2->jupyter_contrib_nbextensions) (0.6.0)\n",
      "Requirement already satisfied: defusedxml in c:\\users\\ejrgu\\anaconda3\\envs\\bigdata3\\lib\\site-packages (from nbconvert>=4.2->jupyter_contrib_nbextensions) (0.7.1)\n",
      "Requirement already satisfied: beautifulsoup4 in c:\\users\\ejrgu\\anaconda3\\envs\\bigdata3\\lib\\site-packages (from nbconvert>=4.2->jupyter_contrib_nbextensions) (4.11.1)\n",
      "Requirement already satisfied: nbclient<0.6.0,>=0.5.0 in c:\\users\\ejrgu\\anaconda3\\envs\\bigdata3\\lib\\site-packages (from nbconvert>=4.2->jupyter_contrib_nbextensions) (0.5.13)\n",
      "Requirement already satisfied: Send2Trash>=1.8.0 in c:\\users\\ejrgu\\anaconda3\\envs\\bigdata3\\lib\\site-packages (from notebook>=4.0->jupyter_contrib_nbextensions) (1.8.0)\n",
      "Requirement already satisfied: jupyter-client>=5.3.4 in c:\\users\\ejrgu\\anaconda3\\envs\\bigdata3\\lib\\site-packages (from notebook>=4.0->jupyter_contrib_nbextensions) (7.2.2)\n",
      "Requirement already satisfied: terminado>=0.8.3 in c:\\users\\ejrgu\\anaconda3\\envs\\bigdata3\\lib\\site-packages (from notebook>=4.0->jupyter_contrib_nbextensions) (0.13.1)\n",
      "Requirement already satisfied: nest-asyncio>=1.5 in c:\\users\\ejrgu\\anaconda3\\envs\\bigdata3\\lib\\site-packages (from notebook>=4.0->jupyter_contrib_nbextensions) (1.5.5)\n",
      "Requirement already satisfied: argon2-cffi in c:\\users\\ejrgu\\anaconda3\\envs\\bigdata3\\lib\\site-packages (from notebook>=4.0->jupyter_contrib_nbextensions) (21.3.0)\n",
      "Requirement already satisfied: ipykernel in c:\\users\\ejrgu\\anaconda3\\envs\\bigdata3\\lib\\site-packages (from notebook>=4.0->jupyter_contrib_nbextensions) (6.9.1)\n",
      "Requirement already satisfied: pyzmq>=17 in c:\\users\\ejrgu\\anaconda3\\envs\\bigdata3\\lib\\site-packages (from notebook>=4.0->jupyter_contrib_nbextensions) (23.2.0)\n",
      "Requirement already satisfied: prometheus-client in c:\\users\\ejrgu\\anaconda3\\envs\\bigdata3\\lib\\site-packages (from notebook>=4.0->jupyter_contrib_nbextensions) (0.13.1)\n",
      "Requirement already satisfied: pywin32>=1.0 in c:\\users\\ejrgu\\anaconda3\\envs\\bigdata3\\lib\\site-packages (from jupyter-core->jupyter_contrib_nbextensions) (302)\n",
      "Requirement already satisfied: MarkupSafe>=2.0 in c:\\users\\ejrgu\\anaconda3\\envs\\bigdata3\\lib\\site-packages (from jinja2>=2.4->nbconvert>=4.2->jupyter_contrib_nbextensions) (2.1.1)\n",
      "Requirement already satisfied: python-dateutil>=2.8.2 in c:\\users\\ejrgu\\anaconda3\\envs\\bigdata3\\lib\\site-packages (from jupyter-client>=5.3.4->notebook>=4.0->jupyter_contrib_nbextensions) (2.8.2)\n",
      "Requirement already satisfied: jsonschema>=2.6 in c:\\users\\ejrgu\\anaconda3\\envs\\bigdata3\\lib\\site-packages (from nbformat>=4.4->nbconvert>=4.2->jupyter_contrib_nbextensions) (4.4.0)\n",
      "Requirement already satisfied: fastjsonschema in c:\\users\\ejrgu\\anaconda3\\envs\\bigdata3\\lib\\site-packages (from nbformat>=4.4->nbconvert>=4.2->jupyter_contrib_nbextensions) (2.15.1)\n",
      "Requirement already satisfied: pywinpty>=1.1.0 in c:\\users\\ejrgu\\anaconda3\\envs\\bigdata3\\lib\\site-packages (from terminado>=0.8.3->notebook>=4.0->jupyter_contrib_nbextensions) (2.0.2)\n",
      "Requirement already satisfied: typing-extensions in c:\\users\\ejrgu\\anaconda3\\envs\\bigdata3\\lib\\site-packages (from argon2-cffi->notebook>=4.0->jupyter_contrib_nbextensions) (4.1.1)\n",
      "Requirement already satisfied: argon2-cffi-bindings in c:\\users\\ejrgu\\anaconda3\\envs\\bigdata3\\lib\\site-packages (from argon2-cffi->notebook>=4.0->jupyter_contrib_nbextensions) (21.2.0)\n",
      "Requirement already satisfied: soupsieve>1.2 in c:\\users\\ejrgu\\anaconda3\\envs\\bigdata3\\lib\\site-packages (from beautifulsoup4->nbconvert>=4.2->jupyter_contrib_nbextensions) (2.3.1)\n",
      "Requirement already satisfied: six>=1.9.0 in c:\\users\\ejrgu\\anaconda3\\envs\\bigdata3\\lib\\site-packages (from bleach->nbconvert>=4.2->jupyter_contrib_nbextensions) (1.16.0)\n",
      "Requirement already satisfied: packaging in c:\\users\\ejrgu\\anaconda3\\envs\\bigdata3\\lib\\site-packages (from bleach->nbconvert>=4.2->jupyter_contrib_nbextensions) (21.3)\n",
      "Requirement already satisfied: webencodings in c:\\users\\ejrgu\\anaconda3\\envs\\bigdata3\\lib\\site-packages (from bleach->nbconvert>=4.2->jupyter_contrib_nbextensions) (0.5.1)\n",
      "Requirement already satisfied: debugpy<2.0,>=1.0.0 in c:\\users\\ejrgu\\anaconda3\\envs\\bigdata3\\lib\\site-packages (from ipykernel->notebook>=4.0->jupyter_contrib_nbextensions) (1.5.1)\n",
      "Requirement already satisfied: matplotlib-inline<0.2.0,>=0.1.0 in c:\\users\\ejrgu\\anaconda3\\envs\\bigdata3\\lib\\site-packages (from ipykernel->notebook>=4.0->jupyter_contrib_nbextensions) (0.1.2)\n",
      "Requirement already satisfied: pickleshare in c:\\users\\ejrgu\\anaconda3\\envs\\bigdata3\\lib\\site-packages (from ipython->jupyter-latex-envs>=1.3.8->jupyter_contrib_nbextensions) (0.7.5)\n",
      "Requirement already satisfied: backcall in c:\\users\\ejrgu\\anaconda3\\envs\\bigdata3\\lib\\site-packages (from ipython->jupyter-latex-envs>=1.3.8->jupyter_contrib_nbextensions) (0.2.0)\n",
      "Requirement already satisfied: colorama in c:\\users\\ejrgu\\anaconda3\\envs\\bigdata3\\lib\\site-packages (from ipython->jupyter-latex-envs>=1.3.8->jupyter_contrib_nbextensions) (0.4.5)\n",
      "Requirement already satisfied: decorator in c:\\users\\ejrgu\\anaconda3\\envs\\bigdata3\\lib\\site-packages (from ipython->jupyter-latex-envs>=1.3.8->jupyter_contrib_nbextensions) (5.1.1)\n",
      "Requirement already satisfied: prompt-toolkit!=3.0.0,!=3.0.1,<3.1.0,>=2.0.0 in c:\\users\\ejrgu\\anaconda3\\envs\\bigdata3\\lib\\site-packages (from ipython->jupyter-latex-envs>=1.3.8->jupyter_contrib_nbextensions) (3.0.20)\n",
      "Requirement already satisfied: jedi>=0.16 in c:\\users\\ejrgu\\anaconda3\\envs\\bigdata3\\lib\\site-packages (from ipython->jupyter-latex-envs>=1.3.8->jupyter_contrib_nbextensions) (0.18.1)\n",
      "Requirement already satisfied: parso<0.9.0,>=0.8.0 in c:\\users\\ejrgu\\anaconda3\\envs\\bigdata3\\lib\\site-packages (from jedi>=0.16->ipython->jupyter-latex-envs>=1.3.8->jupyter_contrib_nbextensions) (0.8.3)\n",
      "Requirement already satisfied: importlib-resources>=1.4.0 in c:\\users\\ejrgu\\anaconda3\\envs\\bigdata3\\lib\\site-packages (from jsonschema>=2.6->nbformat>=4.4->nbconvert>=4.2->jupyter_contrib_nbextensions) (5.2.0)\n",
      "Requirement already satisfied: pyrsistent!=0.17.0,!=0.17.1,!=0.17.2,>=0.14.0 in c:\\users\\ejrgu\\anaconda3\\envs\\bigdata3\\lib\\site-packages (from jsonschema>=2.6->nbformat>=4.4->nbconvert>=4.2->jupyter_contrib_nbextensions) (0.18.0)\n",
      "Requirement already satisfied: attrs>=17.4.0 in c:\\users\\ejrgu\\anaconda3\\envs\\bigdata3\\lib\\site-packages (from jsonschema>=2.6->nbformat>=4.4->nbconvert>=4.2->jupyter_contrib_nbextensions) (21.4.0)\n",
      "Requirement already satisfied: importlib-metadata in c:\\users\\ejrgu\\anaconda3\\envs\\bigdata3\\lib\\site-packages (from jsonschema>=2.6->nbformat>=4.4->nbconvert>=4.2->jupyter_contrib_nbextensions) (4.11.3)\n",
      "Requirement already satisfied: wcwidth in c:\\users\\ejrgu\\anaconda3\\envs\\bigdata3\\lib\\site-packages (from prompt-toolkit!=3.0.0,!=3.0.1,<3.1.0,>=2.0.0->ipython->jupyter-latex-envs>=1.3.8->jupyter_contrib_nbextensions) (0.2.5)\n",
      "Requirement already satisfied: cffi>=1.0.1 in c:\\users\\ejrgu\\anaconda3\\envs\\bigdata3\\lib\\site-packages (from argon2-cffi-bindings->argon2-cffi->notebook>=4.0->jupyter_contrib_nbextensions) (1.15.0)\n",
      "Requirement already satisfied: pyparsing!=3.0.5,>=2.0.2 in c:\\users\\ejrgu\\anaconda3\\envs\\bigdata3\\lib\\site-packages (from packaging->bleach->nbconvert>=4.2->jupyter_contrib_nbextensions) (3.0.4)\n",
      "Requirement already satisfied: pycparser in c:\\users\\ejrgu\\anaconda3\\envs\\bigdata3\\lib\\site-packages (from cffi>=1.0.1->argon2-cffi-bindings->argon2-cffi->notebook>=4.0->jupyter_contrib_nbextensions) (2.21)\n",
      "Requirement already satisfied: zipp>=3.1.0 in c:\\users\\ejrgu\\anaconda3\\envs\\bigdata3\\lib\\site-packages (from importlib-resources>=1.4.0->jsonschema>=2.6->nbformat>=4.4->nbconvert>=4.2->jupyter_contrib_nbextensions) (3.8.0)\n"
     ]
    },
    {
     "name": "stderr",
     "output_type": "stream",
     "text": [
      "[I 22:55:05 InstallContribNbextensionsApp] Copying: C:\\Users\\ejrgu\\anaconda3\\envs\\bigdata3\\lib\\site-packages\\jupyter_contrib_nbextensions\\nbextensions\\cell_filter\\cell_filter.js -> C:\\ProgramData\\jupyter\\nbextensions\\cell_filter\\cell_filter.js\n",
      "[I 22:55:05 InstallContribNbextensionsApp] Copying: C:\\Users\\ejrgu\\anaconda3\\envs\\bigdata3\\lib\\site-packages\\jupyter_contrib_nbextensions\\nbextensions\\cell_filter\\cell_filter.yml -> C:\\ProgramData\\jupyter\\nbextensions\\cell_filter\\cell_filter.yml\n",
      "[I 22:55:05 InstallContribNbextensionsApp] Copying: C:\\Users\\ejrgu\\anaconda3\\envs\\bigdata3\\lib\\site-packages\\jupyter_contrib_nbextensions\\nbextensions\\cell_filter\\README.md -> C:\\ProgramData\\jupyter\\nbextensions\\cell_filter\\README.md\n",
      "[I 22:55:05 InstallContribNbextensionsApp] - Validating: ok\n",
      "[I 22:55:05 InstallContribNbextensionsApp] Installing C:\\Users\\ejrgu\\anaconda3\\envs\\bigdata3\\lib\\site-packages\\jupyter_contrib_nbextensions\\nbextensions\\codefolding -> codefolding\n",
      "[I 22:55:05 InstallContribNbextensionsApp] Making directory: C:\\ProgramData\\jupyter\\nbextensions\\codefolding\\\n",
      "[I 22:55:05 InstallContribNbextensionsApp] Copying: C:\\Users\\ejrgu\\anaconda3\\envs\\bigdata3\\lib\\site-packages\\jupyter_contrib_nbextensions\\nbextensions\\codefolding\\codefolding.yaml -> C:\\ProgramData\\jupyter\\nbextensions\\codefolding\\codefolding.yaml\n",
      "[I 22:55:05 InstallContribNbextensionsApp] Copying: C:\\Users\\ejrgu\\anaconda3\\envs\\bigdata3\\lib\\site-packages\\jupyter_contrib_nbextensions\\nbextensions\\codefolding\\codefolding_editor.png -> C:\\ProgramData\\jupyter\\nbextensions\\codefolding\\codefolding_editor.png\n",
      "[I 22:55:05 InstallContribNbextensionsApp] Copying: C:\\Users\\ejrgu\\anaconda3\\envs\\bigdata3\\lib\\site-packages\\jupyter_contrib_nbextensions\\nbextensions\\codefolding\\codefolding_editor.yaml -> C:\\ProgramData\\jupyter\\nbextensions\\codefolding\\codefolding_editor.yaml\n",
      "[I 22:55:05 InstallContribNbextensionsApp] Copying: C:\\Users\\ejrgu\\anaconda3\\envs\\bigdata3\\lib\\site-packages\\jupyter_contrib_nbextensions\\nbextensions\\codefolding\\codefolding_firstline_folded.png -> C:\\ProgramData\\jupyter\\nbextensions\\codefolding\\codefolding_firstline_folded.png\n",
      "[I 22:55:05 InstallContribNbextensionsApp] Copying: C:\\Users\\ejrgu\\anaconda3\\envs\\bigdata3\\lib\\site-packages\\jupyter_contrib_nbextensions\\nbextensions\\codefolding\\codefolding_firstline_unfolded.png -> C:\\ProgramData\\jupyter\\nbextensions\\codefolding\\codefolding_firstline_unfolded.png\n",
      "[I 22:55:05 InstallContribNbextensionsApp] Copying: C:\\Users\\ejrgu\\anaconda3\\envs\\bigdata3\\lib\\site-packages\\jupyter_contrib_nbextensions\\nbextensions\\codefolding\\codefolding_indent_folded_1.png -> C:\\ProgramData\\jupyter\\nbextensions\\codefolding\\codefolding_indent_folded_1.png\n",
      "[I 22:55:05 InstallContribNbextensionsApp] Copying: C:\\Users\\ejrgu\\anaconda3\\envs\\bigdata3\\lib\\site-packages\\jupyter_contrib_nbextensions\\nbextensions\\codefolding\\codefolding_indent_folded_2.png -> C:\\ProgramData\\jupyter\\nbextensions\\codefolding\\codefolding_indent_folded_2.png\n",
      "[I 22:55:05 InstallContribNbextensionsApp] Copying: C:\\Users\\ejrgu\\anaconda3\\envs\\bigdata3\\lib\\site-packages\\jupyter_contrib_nbextensions\\nbextensions\\codefolding\\codefolding_indent_unfolded.png -> C:\\ProgramData\\jupyter\\nbextensions\\codefolding\\codefolding_indent_unfolded.png\n",
      "[I 22:55:05 InstallContribNbextensionsApp] Copying: C:\\Users\\ejrgu\\anaconda3\\envs\\bigdata3\\lib\\site-packages\\jupyter_contrib_nbextensions\\nbextensions\\codefolding\\edit.js -> C:\\ProgramData\\jupyter\\nbextensions\\codefolding\\edit.js\n",
      "[I 22:55:05 InstallContribNbextensionsApp] Copying: C:\\Users\\ejrgu\\anaconda3\\envs\\bigdata3\\lib\\site-packages\\jupyter_contrib_nbextensions\\nbextensions\\codefolding\\firstline-fold.js -> C:\\ProgramData\\jupyter\\nbextensions\\codefolding\\firstline-fold.js\n",
      "[I 22:55:05 InstallContribNbextensionsApp] Copying: C:\\Users\\ejrgu\\anaconda3\\envs\\bigdata3\\lib\\site-packages\\jupyter_contrib_nbextensions\\nbextensions\\codefolding\\foldgutter.css -> C:\\ProgramData\\jupyter\\nbextensions\\codefolding\\foldgutter.css\n",
      "[I 22:55:05 InstallContribNbextensionsApp] Copying: C:\\Users\\ejrgu\\anaconda3\\envs\\bigdata3\\lib\\site-packages\\jupyter_contrib_nbextensions\\nbextensions\\codefolding\\icon.png -> C:\\ProgramData\\jupyter\\nbextensions\\codefolding\\icon.png\n",
      "[I 22:55:05 InstallContribNbextensionsApp] Copying: C:\\Users\\ejrgu\\anaconda3\\envs\\bigdata3\\lib\\site-packages\\jupyter_contrib_nbextensions\\nbextensions\\codefolding\\magic-fold.js -> C:\\ProgramData\\jupyter\\nbextensions\\codefolding\\magic-fold.js\n",
      "[I 22:55:05 InstallContribNbextensionsApp] Copying: C:\\Users\\ejrgu\\anaconda3\\envs\\bigdata3\\lib\\site-packages\\jupyter_contrib_nbextensions\\nbextensions\\codefolding\\magic-folded.png -> C:\\ProgramData\\jupyter\\nbextensions\\codefolding\\magic-folded.png\n",
      "[I 22:55:05 InstallContribNbextensionsApp] Copying: C:\\Users\\ejrgu\\anaconda3\\envs\\bigdata3\\lib\\site-packages\\jupyter_contrib_nbextensions\\nbextensions\\codefolding\\magic-unfolded.png -> C:\\ProgramData\\jupyter\\nbextensions\\codefolding\\magic-unfolded.png\n",
      "[I 22:55:05 InstallContribNbextensionsApp] Copying: C:\\Users\\ejrgu\\anaconda3\\envs\\bigdata3\\lib\\site-packages\\jupyter_contrib_nbextensions\\nbextensions\\codefolding\\main.js -> C:\\ProgramData\\jupyter\\nbextensions\\codefolding\\main.js\n",
      "[I 22:55:05 InstallContribNbextensionsApp] Copying: C:\\Users\\ejrgu\\anaconda3\\envs\\bigdata3\\lib\\site-packages\\jupyter_contrib_nbextensions\\nbextensions\\codefolding\\readme.md -> C:\\ProgramData\\jupyter\\nbextensions\\codefolding\\readme.md\n",
      "[I 22:55:05 InstallContribNbextensionsApp] - Validating: ok\n",
      "[I 22:55:05 InstallContribNbextensionsApp] Installing C:\\Users\\ejrgu\\anaconda3\\envs\\bigdata3\\lib\\site-packages\\jupyter_contrib_nbextensions\\nbextensions\\codefolding -> codefolding\n",
      "[I 22:55:05 InstallContribNbextensionsApp] Up to date: C:\\ProgramData\\jupyter\\nbextensions\\codefolding\\codefolding.yaml\n",
      "[I 22:55:05 InstallContribNbextensionsApp] Up to date: C:\\ProgramData\\jupyter\\nbextensions\\codefolding\\codefolding_editor.png\n",
      "[I 22:55:05 InstallContribNbextensionsApp] Up to date: C:\\ProgramData\\jupyter\\nbextensions\\codefolding\\codefolding_editor.yaml\n",
      "[I 22:55:05 InstallContribNbextensionsApp] Up to date: C:\\ProgramData\\jupyter\\nbextensions\\codefolding\\codefolding_firstline_folded.png\n",
      "[I 22:55:05 InstallContribNbextensionsApp] Up to date: C:\\ProgramData\\jupyter\\nbextensions\\codefolding\\codefolding_firstline_unfolded.png\n",
      "[I 22:55:05 InstallContribNbextensionsApp] Up to date: C:\\ProgramData\\jupyter\\nbextensions\\codefolding\\codefolding_indent_folded_1.png\n",
      "[I 22:55:05 InstallContribNbextensionsApp] Up to date: C:\\ProgramData\\jupyter\\nbextensions\\codefolding\\codefolding_indent_folded_2.png\n",
      "[I 22:55:05 InstallContribNbextensionsApp] Up to date: C:\\ProgramData\\jupyter\\nbextensions\\codefolding\\codefolding_indent_unfolded.png\n",
      "[I 22:55:05 InstallContribNbextensionsApp] Up to date: C:\\ProgramData\\jupyter\\nbextensions\\codefolding\\edit.js\n",
      "[I 22:55:05 InstallContribNbextensionsApp] Up to date: C:\\ProgramData\\jupyter\\nbextensions\\codefolding\\firstline-fold.js\n",
      "[I 22:55:05 InstallContribNbextensionsApp] Up to date: C:\\ProgramData\\jupyter\\nbextensions\\codefolding\\foldgutter.css\n",
      "[I 22:55:05 InstallContribNbextensionsApp] Up to date: C:\\ProgramData\\jupyter\\nbextensions\\codefolding\\icon.png\n",
      "[I 22:55:05 InstallContribNbextensionsApp] Up to date: C:\\ProgramData\\jupyter\\nbextensions\\codefolding\\magic-fold.js\n",
      "[I 22:55:05 InstallContribNbextensionsApp] Up to date: C:\\ProgramData\\jupyter\\nbextensions\\codefolding\\magic-folded.png\n",
      "[I 22:55:05 InstallContribNbextensionsApp] Up to date: C:\\ProgramData\\jupyter\\nbextensions\\codefolding\\magic-unfolded.png\n",
      "[I 22:55:05 InstallContribNbextensionsApp] Up to date: C:\\ProgramData\\jupyter\\nbextensions\\codefolding\\main.js\n",
      "[I 22:55:05 InstallContribNbextensionsApp] Up to date: C:\\ProgramData\\jupyter\\nbextensions\\codefolding\\readme.md\n",
      "[I 22:55:05 InstallContribNbextensionsApp] - Validating: ok\n",
      "[I 22:55:05 InstallContribNbextensionsApp] Installing C:\\Users\\ejrgu\\anaconda3\\envs\\bigdata3\\lib\\site-packages\\jupyter_contrib_nbextensions\\nbextensions\\codemirror_mode_extensions -> codemirror_mode_extensions\n",
      "[I 22:55:05 InstallContribNbextensionsApp] Making directory: C:\\ProgramData\\jupyter\\nbextensions\\codemirror_mode_extensions\\\n",
      "[I 22:55:05 InstallContribNbextensionsApp] Copying: C:\\Users\\ejrgu\\anaconda3\\envs\\bigdata3\\lib\\site-packages\\jupyter_contrib_nbextensions\\nbextensions\\codemirror_mode_extensions\\codemirror_mode_extensions.yaml -> C:\\ProgramData\\jupyter\\nbextensions\\codemirror_mode_extensions\\codemirror_mode_extensions.yaml\n",
      "[I 22:55:05 InstallContribNbextensionsApp] Copying: C:\\Users\\ejrgu\\anaconda3\\envs\\bigdata3\\lib\\site-packages\\jupyter_contrib_nbextensions\\nbextensions\\codemirror_mode_extensions\\main.js -> C:\\ProgramData\\jupyter\\nbextensions\\codemirror_mode_extensions\\main.js\n",
      "[I 22:55:05 InstallContribNbextensionsApp] - Validating: ok\n",
      "[I 22:55:05 InstallContribNbextensionsApp] Installing C:\\Users\\ejrgu\\anaconda3\\envs\\bigdata3\\lib\\site-packages\\jupyter_contrib_nbextensions\\nbextensions\\code_font_size -> code_font_size\n",
      "[I 22:55:05 InstallContribNbextensionsApp] Making directory: C:\\ProgramData\\jupyter\\nbextensions\\code_font_size\\\n",
      "[I 22:55:05 InstallContribNbextensionsApp] Copying: C:\\Users\\ejrgu\\anaconda3\\envs\\bigdata3\\lib\\site-packages\\jupyter_contrib_nbextensions\\nbextensions\\code_font_size\\code_font_size.js -> C:\\ProgramData\\jupyter\\nbextensions\\code_font_size\\code_font_size.js\n",
      "[I 22:55:05 InstallContribNbextensionsApp] Copying: C:\\Users\\ejrgu\\anaconda3\\envs\\bigdata3\\lib\\site-packages\\jupyter_contrib_nbextensions\\nbextensions\\code_font_size\\code_font_size.yaml -> C:\\ProgramData\\jupyter\\nbextensions\\code_font_size\\code_font_size.yaml\n",
      "[I 22:55:05 InstallContribNbextensionsApp] Copying: C:\\Users\\ejrgu\\anaconda3\\envs\\bigdata3\\lib\\site-packages\\jupyter_contrib_nbextensions\\nbextensions\\code_font_size\\README.md -> C:\\ProgramData\\jupyter\\nbextensions\\code_font_size\\README.md\n",
      "[I 22:55:05 InstallContribNbextensionsApp] - Validating: ok\n",
      "[I 22:55:05 InstallContribNbextensionsApp] Installing C:\\Users\\ejrgu\\anaconda3\\envs\\bigdata3\\lib\\site-packages\\jupyter_contrib_nbextensions\\nbextensions\\code_prettify -> code_prettify\n",
      "[I 22:55:05 InstallContribNbextensionsApp] Making directory: C:\\ProgramData\\jupyter\\nbextensions\\code_prettify\\\n",
      "[I 22:55:05 InstallContribNbextensionsApp] Copying: C:\\Users\\ejrgu\\anaconda3\\envs\\bigdata3\\lib\\site-packages\\jupyter_contrib_nbextensions\\nbextensions\\code_prettify\\2to3.js -> C:\\ProgramData\\jupyter\\nbextensions\\code_prettify\\2to3.js\n",
      "[I 22:55:05 InstallContribNbextensionsApp] Copying: C:\\Users\\ejrgu\\anaconda3\\envs\\bigdata3\\lib\\site-packages\\jupyter_contrib_nbextensions\\nbextensions\\code_prettify\\2to3.yaml -> C:\\ProgramData\\jupyter\\nbextensions\\code_prettify\\2to3.yaml\n",
      "[I 22:55:05 InstallContribNbextensionsApp] Copying: C:\\Users\\ejrgu\\anaconda3\\envs\\bigdata3\\lib\\site-packages\\jupyter_contrib_nbextensions\\nbextensions\\code_prettify\\autopep8.js -> C:\\ProgramData\\jupyter\\nbextensions\\code_prettify\\autopep8.js\n",
      "[I 22:55:05 InstallContribNbextensionsApp] Copying: C:\\Users\\ejrgu\\anaconda3\\envs\\bigdata3\\lib\\site-packages\\jupyter_contrib_nbextensions\\nbextensions\\code_prettify\\autopep8.yaml -> C:\\ProgramData\\jupyter\\nbextensions\\code_prettify\\autopep8.yaml\n",
      "[I 22:55:05 InstallContribNbextensionsApp] Copying: C:\\Users\\ejrgu\\anaconda3\\envs\\bigdata3\\lib\\site-packages\\jupyter_contrib_nbextensions\\nbextensions\\code_prettify\\code_prettify.js -> C:\\ProgramData\\jupyter\\nbextensions\\code_prettify\\code_prettify.js\n",
      "[I 22:55:05 InstallContribNbextensionsApp] Copying: C:\\Users\\ejrgu\\anaconda3\\envs\\bigdata3\\lib\\site-packages\\jupyter_contrib_nbextensions\\nbextensions\\code_prettify\\code_prettify.yaml -> C:\\ProgramData\\jupyter\\nbextensions\\code_prettify\\code_prettify.yaml\n",
      "[I 22:55:05 InstallContribNbextensionsApp] Copying: C:\\Users\\ejrgu\\anaconda3\\envs\\bigdata3\\lib\\site-packages\\jupyter_contrib_nbextensions\\nbextensions\\code_prettify\\demo-jv.gif -> C:\\ProgramData\\jupyter\\nbextensions\\code_prettify\\demo-jv.gif\n",
      "[I 22:55:05 InstallContribNbextensionsApp] Copying: C:\\Users\\ejrgu\\anaconda3\\envs\\bigdata3\\lib\\site-packages\\jupyter_contrib_nbextensions\\nbextensions\\code_prettify\\demo-py.gif -> C:\\ProgramData\\jupyter\\nbextensions\\code_prettify\\demo-py.gif\n",
      "[I 22:55:05 InstallContribNbextensionsApp] Copying: C:\\Users\\ejrgu\\anaconda3\\envs\\bigdata3\\lib\\site-packages\\jupyter_contrib_nbextensions\\nbextensions\\code_prettify\\demo-R.gif -> C:\\ProgramData\\jupyter\\nbextensions\\code_prettify\\demo-R.gif\n",
      "[I 22:55:05 InstallContribNbextensionsApp] Copying: C:\\Users\\ejrgu\\anaconda3\\envs\\bigdata3\\lib\\site-packages\\jupyter_contrib_nbextensions\\nbextensions\\code_prettify\\demo_2to3.gif -> C:\\ProgramData\\jupyter\\nbextensions\\code_prettify\\demo_2to3.gif\n",
      "[I 22:55:05 InstallContribNbextensionsApp] Copying: C:\\Users\\ejrgu\\anaconda3\\envs\\bigdata3\\lib\\site-packages\\jupyter_contrib_nbextensions\\nbextensions\\code_prettify\\isort.js -> C:\\ProgramData\\jupyter\\nbextensions\\code_prettify\\isort.js\n",
      "[I 22:55:05 InstallContribNbextensionsApp] Copying: C:\\Users\\ejrgu\\anaconda3\\envs\\bigdata3\\lib\\site-packages\\jupyter_contrib_nbextensions\\nbextensions\\code_prettify\\isort.yaml -> C:\\ProgramData\\jupyter\\nbextensions\\code_prettify\\isort.yaml\n",
      "[I 22:55:05 InstallContribNbextensionsApp] Copying: C:\\Users\\ejrgu\\anaconda3\\envs\\bigdata3\\lib\\site-packages\\jupyter_contrib_nbextensions\\nbextensions\\code_prettify\\kernel_exec_on_cell.js -> C:\\ProgramData\\jupyter\\nbextensions\\code_prettify\\kernel_exec_on_cell.js\n",
      "[I 22:55:05 InstallContribNbextensionsApp] Copying: C:\\Users\\ejrgu\\anaconda3\\envs\\bigdata3\\lib\\site-packages\\jupyter_contrib_nbextensions\\nbextensions\\code_prettify\\README.md -> C:\\ProgramData\\jupyter\\nbextensions\\code_prettify\\README.md\n",
      "[I 22:55:05 InstallContribNbextensionsApp] Copying: C:\\Users\\ejrgu\\anaconda3\\envs\\bigdata3\\lib\\site-packages\\jupyter_contrib_nbextensions\\nbextensions\\code_prettify\\README_2to3.md -> C:\\ProgramData\\jupyter\\nbextensions\\code_prettify\\README_2to3.md\n",
      "[I 22:55:05 InstallContribNbextensionsApp] Copying: C:\\Users\\ejrgu\\anaconda3\\envs\\bigdata3\\lib\\site-packages\\jupyter_contrib_nbextensions\\nbextensions\\code_prettify\\README_autopep8.md -> C:\\ProgramData\\jupyter\\nbextensions\\code_prettify\\README_autopep8.md\n",
      "[I 22:55:05 InstallContribNbextensionsApp] Copying: C:\\Users\\ejrgu\\anaconda3\\envs\\bigdata3\\lib\\site-packages\\jupyter_contrib_nbextensions\\nbextensions\\code_prettify\\README_code_prettify.md -> C:\\ProgramData\\jupyter\\nbextensions\\code_prettify\\README_code_prettify.md\n",
      "[I 22:55:05 InstallContribNbextensionsApp] Copying: C:\\Users\\ejrgu\\anaconda3\\envs\\bigdata3\\lib\\site-packages\\jupyter_contrib_nbextensions\\nbextensions\\code_prettify\\README_isort.md -> C:\\ProgramData\\jupyter\\nbextensions\\code_prettify\\README_isort.md\n",
      "[I 22:55:05 InstallContribNbextensionsApp] - Validating: ok\n",
      "[I 22:55:05 InstallContribNbextensionsApp] Installing C:\\Users\\ejrgu\\anaconda3\\envs\\bigdata3\\lib\\site-packages\\jupyter_contrib_nbextensions\\nbextensions\\code_prettify -> code_prettify\n",
      "[I 22:55:05 InstallContribNbextensionsApp] Up to date: C:\\ProgramData\\jupyter\\nbextensions\\code_prettify\\2to3.js\n",
      "[I 22:55:05 InstallContribNbextensionsApp] Up to date: C:\\ProgramData\\jupyter\\nbextensions\\code_prettify\\2to3.yaml\n",
      "[I 22:55:05 InstallContribNbextensionsApp] Up to date: C:\\ProgramData\\jupyter\\nbextensions\\code_prettify\\autopep8.js\n",
      "[I 22:55:05 InstallContribNbextensionsApp] Up to date: C:\\ProgramData\\jupyter\\nbextensions\\code_prettify\\autopep8.yaml\n",
      "[I 22:55:05 InstallContribNbextensionsApp] Up to date: C:\\ProgramData\\jupyter\\nbextensions\\code_prettify\\code_prettify.js\n",
      "[I 22:55:05 InstallContribNbextensionsApp] Up to date: C:\\ProgramData\\jupyter\\nbextensions\\code_prettify\\code_prettify.yaml\n",
      "[I 22:55:05 InstallContribNbextensionsApp] Up to date: C:\\ProgramData\\jupyter\\nbextensions\\code_prettify\\demo-jv.gif\n",
      "[I 22:55:05 InstallContribNbextensionsApp] Up to date: C:\\ProgramData\\jupyter\\nbextensions\\code_prettify\\demo-py.gif\n",
      "[I 22:55:05 InstallContribNbextensionsApp] Up to date: C:\\ProgramData\\jupyter\\nbextensions\\code_prettify\\demo-R.gif\n",
      "[I 22:55:05 InstallContribNbextensionsApp] Up to date: C:\\ProgramData\\jupyter\\nbextensions\\code_prettify\\demo_2to3.gif\n",
      "[I 22:55:05 InstallContribNbextensionsApp] Up to date: C:\\ProgramData\\jupyter\\nbextensions\\code_prettify\\isort.js\n",
      "[I 22:55:05 InstallContribNbextensionsApp] Up to date: C:\\ProgramData\\jupyter\\nbextensions\\code_prettify\\isort.yaml\n",
      "[I 22:55:05 InstallContribNbextensionsApp] Up to date: C:\\ProgramData\\jupyter\\nbextensions\\code_prettify\\kernel_exec_on_cell.js\n",
      "[I 22:55:05 InstallContribNbextensionsApp] Up to date: C:\\ProgramData\\jupyter\\nbextensions\\code_prettify\\README.md\n",
      "[I 22:55:05 InstallContribNbextensionsApp] Up to date: C:\\ProgramData\\jupyter\\nbextensions\\code_prettify\\README_2to3.md\n",
      "[I 22:55:05 InstallContribNbextensionsApp] Up to date: C:\\ProgramData\\jupyter\\nbextensions\\code_prettify\\README_autopep8.md\n",
      "[I 22:55:05 InstallContribNbextensionsApp] Up to date: C:\\ProgramData\\jupyter\\nbextensions\\code_prettify\\README_code_prettify.md\n",
      "[I 22:55:05 InstallContribNbextensionsApp] Up to date: C:\\ProgramData\\jupyter\\nbextensions\\code_prettify\\README_isort.md\n",
      "[I 22:55:05 InstallContribNbextensionsApp] - Validating: ok\n",
      "[I 22:55:05 InstallContribNbextensionsApp] Installing C:\\Users\\ejrgu\\anaconda3\\envs\\bigdata3\\lib\\site-packages\\jupyter_contrib_nbextensions\\nbextensions\\code_prettify -> code_prettify\n",
      "[I 22:55:05 InstallContribNbextensionsApp] Up to date: C:\\ProgramData\\jupyter\\nbextensions\\code_prettify\\2to3.js\n",
      "[I 22:55:05 InstallContribNbextensionsApp] Up to date: C:\\ProgramData\\jupyter\\nbextensions\\code_prettify\\2to3.yaml\n",
      "[I 22:55:05 InstallContribNbextensionsApp] Up to date: C:\\ProgramData\\jupyter\\nbextensions\\code_prettify\\autopep8.js\n",
      "[I 22:55:05 InstallContribNbextensionsApp] Up to date: C:\\ProgramData\\jupyter\\nbextensions\\code_prettify\\autopep8.yaml\n",
      "[I 22:55:05 InstallContribNbextensionsApp] Up to date: C:\\ProgramData\\jupyter\\nbextensions\\code_prettify\\code_prettify.js\n",
      "[I 22:55:05 InstallContribNbextensionsApp] Up to date: C:\\ProgramData\\jupyter\\nbextensions\\code_prettify\\code_prettify.yaml\n",
      "[I 22:55:05 InstallContribNbextensionsApp] Up to date: C:\\ProgramData\\jupyter\\nbextensions\\code_prettify\\demo-jv.gif\n",
      "[I 22:55:05 InstallContribNbextensionsApp] Up to date: C:\\ProgramData\\jupyter\\nbextensions\\code_prettify\\demo-py.gif\n",
      "[I 22:55:05 InstallContribNbextensionsApp] Up to date: C:\\ProgramData\\jupyter\\nbextensions\\code_prettify\\demo-R.gif\n",
      "[I 22:55:05 InstallContribNbextensionsApp] Up to date: C:\\ProgramData\\jupyter\\nbextensions\\code_prettify\\demo_2to3.gif\n",
      "[I 22:55:05 InstallContribNbextensionsApp] Up to date: C:\\ProgramData\\jupyter\\nbextensions\\code_prettify\\isort.js\n",
      "[I 22:55:05 InstallContribNbextensionsApp] Up to date: C:\\ProgramData\\jupyter\\nbextensions\\code_prettify\\isort.yaml\n",
      "[I 22:55:05 InstallContribNbextensionsApp] Up to date: C:\\ProgramData\\jupyter\\nbextensions\\code_prettify\\kernel_exec_on_cell.js\n",
      "[I 22:55:05 InstallContribNbextensionsApp] Up to date: C:\\ProgramData\\jupyter\\nbextensions\\code_prettify\\README.md\n",
      "[I 22:55:05 InstallContribNbextensionsApp] Up to date: C:\\ProgramData\\jupyter\\nbextensions\\code_prettify\\README_2to3.md\n",
      "[I 22:55:05 InstallContribNbextensionsApp] Up to date: C:\\ProgramData\\jupyter\\nbextensions\\code_prettify\\README_autopep8.md\n",
      "[I 22:55:05 InstallContribNbextensionsApp] Up to date: C:\\ProgramData\\jupyter\\nbextensions\\code_prettify\\README_code_prettify.md\n",
      "[I 22:55:05 InstallContribNbextensionsApp] Up to date: C:\\ProgramData\\jupyter\\nbextensions\\code_prettify\\README_isort.md\n",
      "[I 22:55:05 InstallContribNbextensionsApp] - Validating: ok\n",
      "[I 22:55:05 InstallContribNbextensionsApp] Installing C:\\Users\\ejrgu\\anaconda3\\envs\\bigdata3\\lib\\site-packages\\jupyter_contrib_nbextensions\\nbextensions\\code_prettify -> code_prettify\n",
      "[I 22:55:05 InstallContribNbextensionsApp] Up to date: C:\\ProgramData\\jupyter\\nbextensions\\code_prettify\\2to3.js\n",
      "[I 22:55:05 InstallContribNbextensionsApp] Up to date: C:\\ProgramData\\jupyter\\nbextensions\\code_prettify\\2to3.yaml\n",
      "[I 22:55:05 InstallContribNbextensionsApp] Up to date: C:\\ProgramData\\jupyter\\nbextensions\\code_prettify\\autopep8.js\n",
      "[I 22:55:05 InstallContribNbextensionsApp] Up to date: C:\\ProgramData\\jupyter\\nbextensions\\code_prettify\\autopep8.yaml\n",
      "[I 22:55:05 InstallContribNbextensionsApp] Up to date: C:\\ProgramData\\jupyter\\nbextensions\\code_prettify\\code_prettify.js\n",
      "[I 22:55:05 InstallContribNbextensionsApp] Up to date: C:\\ProgramData\\jupyter\\nbextensions\\code_prettify\\code_prettify.yaml\n",
      "[I 22:55:05 InstallContribNbextensionsApp] Up to date: C:\\ProgramData\\jupyter\\nbextensions\\code_prettify\\demo-jv.gif\n",
      "[I 22:55:05 InstallContribNbextensionsApp] Up to date: C:\\ProgramData\\jupyter\\nbextensions\\code_prettify\\demo-py.gif\n",
      "[I 22:55:05 InstallContribNbextensionsApp] Up to date: C:\\ProgramData\\jupyter\\nbextensions\\code_prettify\\demo-R.gif\n",
      "[I 22:55:05 InstallContribNbextensionsApp] Up to date: C:\\ProgramData\\jupyter\\nbextensions\\code_prettify\\demo_2to3.gif\n",
      "[I 22:55:05 InstallContribNbextensionsApp] Up to date: C:\\ProgramData\\jupyter\\nbextensions\\code_prettify\\isort.js\n",
      "[I 22:55:05 InstallContribNbextensionsApp] Up to date: C:\\ProgramData\\jupyter\\nbextensions\\code_prettify\\isort.yaml\n",
      "[I 22:55:05 InstallContribNbextensionsApp] Up to date: C:\\ProgramData\\jupyter\\nbextensions\\code_prettify\\kernel_exec_on_cell.js\n",
      "[I 22:55:05 InstallContribNbextensionsApp] Up to date: C:\\ProgramData\\jupyter\\nbextensions\\code_prettify\\README.md\n",
      "[I 22:55:05 InstallContribNbextensionsApp] Up to date: C:\\ProgramData\\jupyter\\nbextensions\\code_prettify\\README_2to3.md\n",
      "[I 22:55:05 InstallContribNbextensionsApp] Up to date: C:\\ProgramData\\jupyter\\nbextensions\\code_prettify\\README_autopep8.md\n",
      "[I 22:55:05 InstallContribNbextensionsApp] Up to date: C:\\ProgramData\\jupyter\\nbextensions\\code_prettify\\README_code_prettify.md\n",
      "[I 22:55:05 InstallContribNbextensionsApp] Up to date: C:\\ProgramData\\jupyter\\nbextensions\\code_prettify\\README_isort.md\n",
      "[I 22:55:05 InstallContribNbextensionsApp] - Validating: ok\n",
      "[I 22:55:05 InstallContribNbextensionsApp] Installing C:\\Users\\ejrgu\\anaconda3\\envs\\bigdata3\\lib\\site-packages\\jupyter_contrib_nbextensions\\nbextensions\\collapsible_headings -> collapsible_headings\n",
      "[I 22:55:05 InstallContribNbextensionsApp] Making directory: C:\\ProgramData\\jupyter\\nbextensions\\collapsible_headings\\\n",
      "[I 22:55:05 InstallContribNbextensionsApp] Copying: C:\\Users\\ejrgu\\anaconda3\\envs\\bigdata3\\lib\\site-packages\\jupyter_contrib_nbextensions\\nbextensions\\collapsible_headings\\collapsible_headings.yaml -> C:\\ProgramData\\jupyter\\nbextensions\\collapsible_headings\\collapsible_headings.yaml\n",
      "[I 22:55:05 InstallContribNbextensionsApp] Copying: C:\\Users\\ejrgu\\anaconda3\\envs\\bigdata3\\lib\\site-packages\\jupyter_contrib_nbextensions\\nbextensions\\collapsible_headings\\icon.png -> C:\\ProgramData\\jupyter\\nbextensions\\collapsible_headings\\icon.png\n",
      "[I 22:55:05 InstallContribNbextensionsApp] Copying: C:\\Users\\ejrgu\\anaconda3\\envs\\bigdata3\\lib\\site-packages\\jupyter_contrib_nbextensions\\nbextensions\\collapsible_headings\\main.css -> C:\\ProgramData\\jupyter\\nbextensions\\collapsible_headings\\main.css\n",
      "[I 22:55:05 InstallContribNbextensionsApp] Copying: C:\\Users\\ejrgu\\anaconda3\\envs\\bigdata3\\lib\\site-packages\\jupyter_contrib_nbextensions\\nbextensions\\collapsible_headings\\main.js -> C:\\ProgramData\\jupyter\\nbextensions\\collapsible_headings\\main.js\n",
      "[I 22:55:05 InstallContribNbextensionsApp] Copying: C:\\Users\\ejrgu\\anaconda3\\envs\\bigdata3\\lib\\site-packages\\jupyter_contrib_nbextensions\\nbextensions\\collapsible_headings\\readme.md -> C:\\ProgramData\\jupyter\\nbextensions\\collapsible_headings\\readme.md\n",
      "[I 22:55:05 InstallContribNbextensionsApp] Copying: C:\\Users\\ejrgu\\anaconda3\\envs\\bigdata3\\lib\\site-packages\\jupyter_contrib_nbextensions\\nbextensions\\collapsible_headings\\screenshot.png -> C:\\ProgramData\\jupyter\\nbextensions\\collapsible_headings\\screenshot.png\n",
      "[I 22:55:05 InstallContribNbextensionsApp] - Validating: ok\n",
      "[I 22:55:05 InstallContribNbextensionsApp] Installing C:\\Users\\ejrgu\\anaconda3\\envs\\bigdata3\\lib\\site-packages\\jupyter_contrib_nbextensions\\nbextensions\\comment-uncomment -> comment-uncomment\n",
      "[I 22:55:05 InstallContribNbextensionsApp] Making directory: C:\\ProgramData\\jupyter\\nbextensions\\comment-uncomment\\\n",
      "[I 22:55:05 InstallContribNbextensionsApp] Copying: C:\\Users\\ejrgu\\anaconda3\\envs\\bigdata3\\lib\\site-packages\\jupyter_contrib_nbextensions\\nbextensions\\comment-uncomment\\comment-uncomment.yaml -> C:\\ProgramData\\jupyter\\nbextensions\\comment-uncomment\\comment-uncomment.yaml\n",
      "[I 22:55:05 InstallContribNbextensionsApp] Copying: C:\\Users\\ejrgu\\anaconda3\\envs\\bigdata3\\lib\\site-packages\\jupyter_contrib_nbextensions\\nbextensions\\comment-uncomment\\icon.png -> C:\\ProgramData\\jupyter\\nbextensions\\comment-uncomment\\icon.png\n",
      "[I 22:55:05 InstallContribNbextensionsApp] Copying: C:\\Users\\ejrgu\\anaconda3\\envs\\bigdata3\\lib\\site-packages\\jupyter_contrib_nbextensions\\nbextensions\\comment-uncomment\\main.js -> C:\\ProgramData\\jupyter\\nbextensions\\comment-uncomment\\main.js\n",
      "[I 22:55:05 InstallContribNbextensionsApp] Copying: C:\\Users\\ejrgu\\anaconda3\\envs\\bigdata3\\lib\\site-packages\\jupyter_contrib_nbextensions\\nbextensions\\comment-uncomment\\readme.md -> C:\\ProgramData\\jupyter\\nbextensions\\comment-uncomment\\readme.md\n",
      "[I 22:55:05 InstallContribNbextensionsApp] - Validating: ok\n",
      "[I 22:55:05 InstallContribNbextensionsApp] Installing C:\\Users\\ejrgu\\anaconda3\\envs\\bigdata3\\lib\\site-packages\\jupyter_contrib_nbextensions\\nbextensions\\contrib_nbextensions_help_item -> contrib_nbextensions_help_item\n",
      "[I 22:55:05 InstallContribNbextensionsApp] Making directory: C:\\ProgramData\\jupyter\\nbextensions\\contrib_nbextensions_help_item\\\n",
      "[I 22:55:05 InstallContribNbextensionsApp] Copying: C:\\Users\\ejrgu\\anaconda3\\envs\\bigdata3\\lib\\site-packages\\jupyter_contrib_nbextensions\\nbextensions\\contrib_nbextensions_help_item\\contrib_nbextensions_help_item.yaml -> C:\\ProgramData\\jupyter\\nbextensions\\contrib_nbextensions_help_item\\contrib_nbextensions_help_item.yaml\n",
      "[I 22:55:05 InstallContribNbextensionsApp] Copying: C:\\Users\\ejrgu\\anaconda3\\envs\\bigdata3\\lib\\site-packages\\jupyter_contrib_nbextensions\\nbextensions\\contrib_nbextensions_help_item\\main.js -> C:\\ProgramData\\jupyter\\nbextensions\\contrib_nbextensions_help_item\\main.js\n",
      "[I 22:55:05 InstallContribNbextensionsApp] Copying: C:\\Users\\ejrgu\\anaconda3\\envs\\bigdata3\\lib\\site-packages\\jupyter_contrib_nbextensions\\nbextensions\\contrib_nbextensions_help_item\\README.md -> C:\\ProgramData\\jupyter\\nbextensions\\contrib_nbextensions_help_item\\README.md\n",
      "[I 22:55:05 InstallContribNbextensionsApp] - Validating: ok\n",
      "[I 22:55:05 InstallContribNbextensionsApp] Installing C:\\Users\\ejrgu\\anaconda3\\envs\\bigdata3\\lib\\site-packages\\jupyter_contrib_nbextensions\\nbextensions\\datestamper -> datestamper\n",
      "[I 22:55:05 InstallContribNbextensionsApp] Making directory: C:\\ProgramData\\jupyter\\nbextensions\\datestamper\\\n",
      "[I 22:55:05 InstallContribNbextensionsApp] Copying: C:\\Users\\ejrgu\\anaconda3\\envs\\bigdata3\\lib\\site-packages\\jupyter_contrib_nbextensions\\nbextensions\\datestamper\\icon.png -> C:\\ProgramData\\jupyter\\nbextensions\\datestamper\\icon.png\n",
      "[I 22:55:05 InstallContribNbextensionsApp] Copying: C:\\Users\\ejrgu\\anaconda3\\envs\\bigdata3\\lib\\site-packages\\jupyter_contrib_nbextensions\\nbextensions\\datestamper\\main.js -> C:\\ProgramData\\jupyter\\nbextensions\\datestamper\\main.js\n",
      "[I 22:55:05 InstallContribNbextensionsApp] Copying: C:\\Users\\ejrgu\\anaconda3\\envs\\bigdata3\\lib\\site-packages\\jupyter_contrib_nbextensions\\nbextensions\\datestamper\\main.yaml -> C:\\ProgramData\\jupyter\\nbextensions\\datestamper\\main.yaml\n",
      "[I 22:55:05 InstallContribNbextensionsApp] Copying: C:\\Users\\ejrgu\\anaconda3\\envs\\bigdata3\\lib\\site-packages\\jupyter_contrib_nbextensions\\nbextensions\\datestamper\\readme.md -> C:\\ProgramData\\jupyter\\nbextensions\\datestamper\\readme.md\n",
      "[I 22:55:05 InstallContribNbextensionsApp] - Validating: ok\n",
      "[I 22:55:05 InstallContribNbextensionsApp] Installing C:\\Users\\ejrgu\\anaconda3\\envs\\bigdata3\\lib\\site-packages\\jupyter_contrib_nbextensions\\nbextensions\\equation-numbering -> equation-numbering\n",
      "[I 22:55:05 InstallContribNbextensionsApp] Making directory: C:\\ProgramData\\jupyter\\nbextensions\\equation-numbering\\\n",
      "[I 22:55:05 InstallContribNbextensionsApp] Copying: C:\\Users\\ejrgu\\anaconda3\\envs\\bigdata3\\lib\\site-packages\\jupyter_contrib_nbextensions\\nbextensions\\equation-numbering\\button.png -> C:\\ProgramData\\jupyter\\nbextensions\\equation-numbering\\button.png\n",
      "[I 22:55:05 InstallContribNbextensionsApp] Copying: C:\\Users\\ejrgu\\anaconda3\\envs\\bigdata3\\lib\\site-packages\\jupyter_contrib_nbextensions\\nbextensions\\equation-numbering\\icon.png -> C:\\ProgramData\\jupyter\\nbextensions\\equation-numbering\\icon.png\n",
      "[I 22:55:05 InstallContribNbextensionsApp] Copying: C:\\Users\\ejrgu\\anaconda3\\envs\\bigdata3\\lib\\site-packages\\jupyter_contrib_nbextensions\\nbextensions\\equation-numbering\\info.yaml -> C:\\ProgramData\\jupyter\\nbextensions\\equation-numbering\\info.yaml\n",
      "[I 22:55:05 InstallContribNbextensionsApp] Copying: C:\\Users\\ejrgu\\anaconda3\\envs\\bigdata3\\lib\\site-packages\\jupyter_contrib_nbextensions\\nbextensions\\equation-numbering\\main.js -> C:\\ProgramData\\jupyter\\nbextensions\\equation-numbering\\main.js\n",
      "[I 22:55:05 InstallContribNbextensionsApp] Copying: C:\\Users\\ejrgu\\anaconda3\\envs\\bigdata3\\lib\\site-packages\\jupyter_contrib_nbextensions\\nbextensions\\equation-numbering\\readme.md -> C:\\ProgramData\\jupyter\\nbextensions\\equation-numbering\\readme.md\n",
      "[I 22:55:05 InstallContribNbextensionsApp] - Validating: ok\n",
      "[I 22:55:05 InstallContribNbextensionsApp] Installing C:\\Users\\ejrgu\\anaconda3\\envs\\bigdata3\\lib\\site-packages\\jupyter_contrib_nbextensions\\nbextensions\\execute_time -> execute_time\n",
      "[I 22:55:05 InstallContribNbextensionsApp] Making directory: C:\\ProgramData\\jupyter\\nbextensions\\execute_time\\\n",
      "[I 22:55:05 InstallContribNbextensionsApp] Copying: C:\\Users\\ejrgu\\anaconda3\\envs\\bigdata3\\lib\\site-packages\\jupyter_contrib_nbextensions\\nbextensions\\execute_time\\ExecuteTime.css -> C:\\ProgramData\\jupyter\\nbextensions\\execute_time\\ExecuteTime.css\n",
      "[I 22:55:05 InstallContribNbextensionsApp] Copying: C:\\Users\\ejrgu\\anaconda3\\envs\\bigdata3\\lib\\site-packages\\jupyter_contrib_nbextensions\\nbextensions\\execute_time\\ExecuteTime.js -> C:\\ProgramData\\jupyter\\nbextensions\\execute_time\\ExecuteTime.js\n",
      "[I 22:55:05 InstallContribNbextensionsApp] Copying: C:\\Users\\ejrgu\\anaconda3\\envs\\bigdata3\\lib\\site-packages\\jupyter_contrib_nbextensions\\nbextensions\\execute_time\\ExecuteTime.yaml -> C:\\ProgramData\\jupyter\\nbextensions\\execute_time\\ExecuteTime.yaml\n",
      "[I 22:55:05 InstallContribNbextensionsApp] Copying: C:\\Users\\ejrgu\\anaconda3\\envs\\bigdata3\\lib\\site-packages\\jupyter_contrib_nbextensions\\nbextensions\\execute_time\\execution-timings-box.png -> C:\\ProgramData\\jupyter\\nbextensions\\execute_time\\execution-timings-box.png\n",
      "[I 22:55:05 InstallContribNbextensionsApp] Copying: C:\\Users\\ejrgu\\anaconda3\\envs\\bigdata3\\lib\\site-packages\\jupyter_contrib_nbextensions\\nbextensions\\execute_time\\execution-timings-menu.png -> C:\\ProgramData\\jupyter\\nbextensions\\execute_time\\execution-timings-menu.png\n",
      "[I 22:55:05 InstallContribNbextensionsApp] Copying: C:\\Users\\ejrgu\\anaconda3\\envs\\bigdata3\\lib\\site-packages\\jupyter_contrib_nbextensions\\nbextensions\\execute_time\\icon.png -> C:\\ProgramData\\jupyter\\nbextensions\\execute_time\\icon.png\n",
      "[I 22:55:05 InstallContribNbextensionsApp] Copying: C:\\Users\\ejrgu\\anaconda3\\envs\\bigdata3\\lib\\site-packages\\jupyter_contrib_nbextensions\\nbextensions\\execute_time\\readme.md -> C:\\ProgramData\\jupyter\\nbextensions\\execute_time\\readme.md\n",
      "[I 22:55:05 InstallContribNbextensionsApp] - Validating: ok\n",
      "[I 22:55:05 InstallContribNbextensionsApp] Installing C:\\Users\\ejrgu\\anaconda3\\envs\\bigdata3\\lib\\site-packages\\jupyter_contrib_nbextensions\\nbextensions\\execution_dependencies -> execution_dependencies\n",
      "[I 22:55:05 InstallContribNbextensionsApp] Making directory: C:\\ProgramData\\jupyter\\nbextensions\\execution_dependencies\\\n",
      "[I 22:55:05 InstallContribNbextensionsApp] Copying: C:\\Users\\ejrgu\\anaconda3\\envs\\bigdata3\\lib\\site-packages\\jupyter_contrib_nbextensions\\nbextensions\\execution_dependencies\\execution_dependencies.js -> C:\\ProgramData\\jupyter\\nbextensions\\execution_dependencies\\execution_dependencies.js\n",
      "[I 22:55:05 InstallContribNbextensionsApp] Copying: C:\\Users\\ejrgu\\anaconda3\\envs\\bigdata3\\lib\\site-packages\\jupyter_contrib_nbextensions\\nbextensions\\execution_dependencies\\execution_dependencies.yml -> C:\\ProgramData\\jupyter\\nbextensions\\execution_dependencies\\execution_dependencies.yml\n",
      "[I 22:55:05 InstallContribNbextensionsApp] Copying: C:\\Users\\ejrgu\\anaconda3\\envs\\bigdata3\\lib\\site-packages\\jupyter_contrib_nbextensions\\nbextensions\\execution_dependencies\\README.md -> C:\\ProgramData\\jupyter\\nbextensions\\execution_dependencies\\README.md\n",
      "[I 22:55:05 InstallContribNbextensionsApp] - Validating: ok\n",
      "[I 22:55:05 InstallContribNbextensionsApp] Installing C:\\Users\\ejrgu\\anaconda3\\envs\\bigdata3\\lib\\site-packages\\jupyter_contrib_nbextensions\\nbextensions\\exercise -> exercise\n",
      "[I 22:55:05 InstallContribNbextensionsApp] Making directory: C:\\ProgramData\\jupyter\\nbextensions\\exercise\\\n",
      "[I 22:55:05 InstallContribNbextensionsApp] Copying: C:\\Users\\ejrgu\\anaconda3\\envs\\bigdata3\\lib\\site-packages\\jupyter_contrib_nbextensions\\nbextensions\\exercise\\exercise.yaml -> C:\\ProgramData\\jupyter\\nbextensions\\exercise\\exercise.yaml\n",
      "[I 22:55:05 InstallContribNbextensionsApp] Copying: C:\\Users\\ejrgu\\anaconda3\\envs\\bigdata3\\lib\\site-packages\\jupyter_contrib_nbextensions\\nbextensions\\exercise\\history.md -> C:\\ProgramData\\jupyter\\nbextensions\\exercise\\history.md\n",
      "[I 22:55:05 InstallContribNbextensionsApp] Copying: C:\\Users\\ejrgu\\anaconda3\\envs\\bigdata3\\lib\\site-packages\\jupyter_contrib_nbextensions\\nbextensions\\exercise\\icon.png -> C:\\ProgramData\\jupyter\\nbextensions\\exercise\\icon.png\n",
      "[I 22:55:05 InstallContribNbextensionsApp] Copying: C:\\Users\\ejrgu\\anaconda3\\envs\\bigdata3\\lib\\site-packages\\jupyter_contrib_nbextensions\\nbextensions\\exercise\\image.gif -> C:\\ProgramData\\jupyter\\nbextensions\\exercise\\image.gif\n",
      "[I 22:55:05 InstallContribNbextensionsApp] Copying: C:\\Users\\ejrgu\\anaconda3\\envs\\bigdata3\\lib\\site-packages\\jupyter_contrib_nbextensions\\nbextensions\\exercise\\main.css -> C:\\ProgramData\\jupyter\\nbextensions\\exercise\\main.css\n",
      "[I 22:55:05 InstallContribNbextensionsApp] Copying: C:\\Users\\ejrgu\\anaconda3\\envs\\bigdata3\\lib\\site-packages\\jupyter_contrib_nbextensions\\nbextensions\\exercise\\main.js -> C:\\ProgramData\\jupyter\\nbextensions\\exercise\\main.js\n",
      "[I 22:55:05 InstallContribNbextensionsApp] Copying: C:\\Users\\ejrgu\\anaconda3\\envs\\bigdata3\\lib\\site-packages\\jupyter_contrib_nbextensions\\nbextensions\\exercise\\readme.md -> C:\\ProgramData\\jupyter\\nbextensions\\exercise\\readme.md\n",
      "[I 22:55:05 InstallContribNbextensionsApp] - Validating: ok\n",
      "[I 22:55:05 InstallContribNbextensionsApp] Installing C:\\Users\\ejrgu\\anaconda3\\envs\\bigdata3\\lib\\site-packages\\jupyter_contrib_nbextensions\\nbextensions\\exercise2 -> exercise2\n",
      "[I 22:55:05 InstallContribNbextensionsApp] Making directory: C:\\ProgramData\\jupyter\\nbextensions\\exercise2\\\n",
      "[I 22:55:05 InstallContribNbextensionsApp] Copying: C:\\Users\\ejrgu\\anaconda3\\envs\\bigdata3\\lib\\site-packages\\jupyter_contrib_nbextensions\\nbextensions\\exercise2\\exercise2.yaml -> C:\\ProgramData\\jupyter\\nbextensions\\exercise2\\exercise2.yaml\n",
      "[I 22:55:05 InstallContribNbextensionsApp] Copying: C:\\Users\\ejrgu\\anaconda3\\envs\\bigdata3\\lib\\site-packages\\jupyter_contrib_nbextensions\\nbextensions\\exercise2\\icon.png -> C:\\ProgramData\\jupyter\\nbextensions\\exercise2\\icon.png\n",
      "[I 22:55:05 InstallContribNbextensionsApp] Copying: C:\\Users\\ejrgu\\anaconda3\\envs\\bigdata3\\lib\\site-packages\\jupyter_contrib_nbextensions\\nbextensions\\exercise2\\image.gif -> C:\\ProgramData\\jupyter\\nbextensions\\exercise2\\image.gif\n",
      "[I 22:55:05 InstallContribNbextensionsApp] Copying: C:\\Users\\ejrgu\\anaconda3\\envs\\bigdata3\\lib\\site-packages\\jupyter_contrib_nbextensions\\nbextensions\\exercise2\\main.css -> C:\\ProgramData\\jupyter\\nbextensions\\exercise2\\main.css\n",
      "[I 22:55:05 InstallContribNbextensionsApp] Copying: C:\\Users\\ejrgu\\anaconda3\\envs\\bigdata3\\lib\\site-packages\\jupyter_contrib_nbextensions\\nbextensions\\exercise2\\main.js -> C:\\ProgramData\\jupyter\\nbextensions\\exercise2\\main.js\n",
      "[I 22:55:05 InstallContribNbextensionsApp] Copying: C:\\Users\\ejrgu\\anaconda3\\envs\\bigdata3\\lib\\site-packages\\jupyter_contrib_nbextensions\\nbextensions\\exercise2\\readme.md -> C:\\ProgramData\\jupyter\\nbextensions\\exercise2\\readme.md\n",
      "[I 22:55:05 InstallContribNbextensionsApp] - Validating: ok\n",
      "[I 22:55:05 InstallContribNbextensionsApp] Installing C:\\Users\\ejrgu\\anaconda3\\envs\\bigdata3\\lib\\site-packages\\jupyter_contrib_nbextensions\\nbextensions\\export_embedded -> export_embedded\n",
      "[I 22:55:05 InstallContribNbextensionsApp] Making directory: C:\\ProgramData\\jupyter\\nbextensions\\export_embedded\\\n",
      "[I 22:55:05 InstallContribNbextensionsApp] Copying: C:\\Users\\ejrgu\\anaconda3\\envs\\bigdata3\\lib\\site-packages\\jupyter_contrib_nbextensions\\nbextensions\\export_embedded\\export_embedded.yaml -> C:\\ProgramData\\jupyter\\nbextensions\\export_embedded\\export_embedded.yaml\n",
      "[I 22:55:05 InstallContribNbextensionsApp] Copying: C:\\Users\\ejrgu\\anaconda3\\envs\\bigdata3\\lib\\site-packages\\jupyter_contrib_nbextensions\\nbextensions\\export_embedded\\icon.png -> C:\\ProgramData\\jupyter\\nbextensions\\export_embedded\\icon.png\n",
      "[I 22:55:05 InstallContribNbextensionsApp] Copying: C:\\Users\\ejrgu\\anaconda3\\envs\\bigdata3\\lib\\site-packages\\jupyter_contrib_nbextensions\\nbextensions\\export_embedded\\main.js -> C:\\ProgramData\\jupyter\\nbextensions\\export_embedded\\main.js\n",
      "[I 22:55:05 InstallContribNbextensionsApp] Copying: C:\\Users\\ejrgu\\anaconda3\\envs\\bigdata3\\lib\\site-packages\\jupyter_contrib_nbextensions\\nbextensions\\export_embedded\\readme.md -> C:\\ProgramData\\jupyter\\nbextensions\\export_embedded\\readme.md\n",
      "[I 22:55:05 InstallContribNbextensionsApp] - Validating: ok\n",
      "[I 22:55:05 InstallContribNbextensionsApp] Installing C:\\Users\\ejrgu\\anaconda3\\envs\\bigdata3\\lib\\site-packages\\jupyter_contrib_nbextensions\\nbextensions\\freeze -> freeze\n",
      "[I 22:55:05 InstallContribNbextensionsApp] Making directory: C:\\ProgramData\\jupyter\\nbextensions\\freeze\\\n",
      "[I 22:55:05 InstallContribNbextensionsApp] Copying: C:\\Users\\ejrgu\\anaconda3\\envs\\bigdata3\\lib\\site-packages\\jupyter_contrib_nbextensions\\nbextensions\\freeze\\config.yaml -> C:\\ProgramData\\jupyter\\nbextensions\\freeze\\config.yaml\n",
      "[I 22:55:05 InstallContribNbextensionsApp] Copying: C:\\Users\\ejrgu\\anaconda3\\envs\\bigdata3\\lib\\site-packages\\jupyter_contrib_nbextensions\\nbextensions\\freeze\\icon.png -> C:\\ProgramData\\jupyter\\nbextensions\\freeze\\icon.png\n",
      "[I 22:55:05 InstallContribNbextensionsApp] Copying: C:\\Users\\ejrgu\\anaconda3\\envs\\bigdata3\\lib\\site-packages\\jupyter_contrib_nbextensions\\nbextensions\\freeze\\main.js -> C:\\ProgramData\\jupyter\\nbextensions\\freeze\\main.js\n",
      "[I 22:55:05 InstallContribNbextensionsApp] Copying: C:\\Users\\ejrgu\\anaconda3\\envs\\bigdata3\\lib\\site-packages\\jupyter_contrib_nbextensions\\nbextensions\\freeze\\readme.md -> C:\\ProgramData\\jupyter\\nbextensions\\freeze\\readme.md\n",
      "[I 22:55:05 InstallContribNbextensionsApp] - Validating: ok\n",
      "[I 22:55:05 InstallContribNbextensionsApp] Installing C:\\Users\\ejrgu\\anaconda3\\envs\\bigdata3\\lib\\site-packages\\jupyter_contrib_nbextensions\\nbextensions\\gist_it -> gist_it\n",
      "[I 22:55:05 InstallContribNbextensionsApp] Making directory: C:\\ProgramData\\jupyter\\nbextensions\\gist_it\\\n",
      "[I 22:55:05 InstallContribNbextensionsApp] Copying: C:\\Users\\ejrgu\\anaconda3\\envs\\bigdata3\\lib\\site-packages\\jupyter_contrib_nbextensions\\nbextensions\\gist_it\\gist_it.yaml -> C:\\ProgramData\\jupyter\\nbextensions\\gist_it\\gist_it.yaml\n",
      "[I 22:55:05 InstallContribNbextensionsApp] Copying: C:\\Users\\ejrgu\\anaconda3\\envs\\bigdata3\\lib\\site-packages\\jupyter_contrib_nbextensions\\nbextensions\\gist_it\\icon.png -> C:\\ProgramData\\jupyter\\nbextensions\\gist_it\\icon.png\n",
      "[I 22:55:05 InstallContribNbextensionsApp] Copying: C:\\Users\\ejrgu\\anaconda3\\envs\\bigdata3\\lib\\site-packages\\jupyter_contrib_nbextensions\\nbextensions\\gist_it\\main.js -> C:\\ProgramData\\jupyter\\nbextensions\\gist_it\\main.js\n",
      "[I 22:55:05 InstallContribNbextensionsApp] Copying: C:\\Users\\ejrgu\\anaconda3\\envs\\bigdata3\\lib\\site-packages\\jupyter_contrib_nbextensions\\nbextensions\\gist_it\\readme.md -> C:\\ProgramData\\jupyter\\nbextensions\\gist_it\\readme.md\n",
      "[I 22:55:05 InstallContribNbextensionsApp] - Validating: ok\n",
      "[I 22:55:05 InstallContribNbextensionsApp] Installing C:\\Users\\ejrgu\\anaconda3\\envs\\bigdata3\\lib\\site-packages\\jupyter_contrib_nbextensions\\nbextensions\\help_panel -> help_panel\n",
      "[I 22:55:05 InstallContribNbextensionsApp] Making directory: C:\\ProgramData\\jupyter\\nbextensions\\help_panel\\\n",
      "[I 22:55:05 InstallContribNbextensionsApp] Copying: C:\\Users\\ejrgu\\anaconda3\\envs\\bigdata3\\lib\\site-packages\\jupyter_contrib_nbextensions\\nbextensions\\help_panel\\help_panel.css -> C:\\ProgramData\\jupyter\\nbextensions\\help_panel\\help_panel.css\n",
      "[I 22:55:05 InstallContribNbextensionsApp] Copying: C:\\Users\\ejrgu\\anaconda3\\envs\\bigdata3\\lib\\site-packages\\jupyter_contrib_nbextensions\\nbextensions\\help_panel\\help_panel.js -> C:\\ProgramData\\jupyter\\nbextensions\\help_panel\\help_panel.js\n",
      "[I 22:55:05 InstallContribNbextensionsApp] Copying: C:\\Users\\ejrgu\\anaconda3\\envs\\bigdata3\\lib\\site-packages\\jupyter_contrib_nbextensions\\nbextensions\\help_panel\\help_panel.yaml -> C:\\ProgramData\\jupyter\\nbextensions\\help_panel\\help_panel.yaml\n",
      "[I 22:55:05 InstallContribNbextensionsApp] Copying: C:\\Users\\ejrgu\\anaconda3\\envs\\bigdata3\\lib\\site-packages\\jupyter_contrib_nbextensions\\nbextensions\\help_panel\\help_panel_ext.png -> C:\\ProgramData\\jupyter\\nbextensions\\help_panel\\help_panel_ext.png\n",
      "[I 22:55:05 InstallContribNbextensionsApp] Copying: C:\\Users\\ejrgu\\anaconda3\\envs\\bigdata3\\lib\\site-packages\\jupyter_contrib_nbextensions\\nbextensions\\help_panel\\help_panel_ext_fullscreen.png -> C:\\ProgramData\\jupyter\\nbextensions\\help_panel\\help_panel_ext_fullscreen.png\n",
      "[I 22:55:05 InstallContribNbextensionsApp] Copying: C:\\Users\\ejrgu\\anaconda3\\envs\\bigdata3\\lib\\site-packages\\jupyter_contrib_nbextensions\\nbextensions\\help_panel\\icon.png -> C:\\ProgramData\\jupyter\\nbextensions\\help_panel\\icon.png\n",
      "[I 22:55:05 InstallContribNbextensionsApp] Copying: C:\\Users\\ejrgu\\anaconda3\\envs\\bigdata3\\lib\\site-packages\\jupyter_contrib_nbextensions\\nbextensions\\help_panel\\readme.md -> C:\\ProgramData\\jupyter\\nbextensions\\help_panel\\readme.md\n",
      "[I 22:55:05 InstallContribNbextensionsApp] Making directory: C:\\ProgramData\\jupyter\\nbextensions\\help_panel\\img\n",
      "[I 22:55:05 InstallContribNbextensionsApp] Copying: C:\\Users\\ejrgu\\anaconda3\\envs\\bigdata3\\lib\\site-packages\\jupyter_contrib_nbextensions\\nbextensions\\help_panel\\img\\handle-v.png -> C:\\ProgramData\\jupyter\\nbextensions\\help_panel\\img\\handle-v.png\n",
      "[I 22:55:05 InstallContribNbextensionsApp] - Validating: ok\n",
      "[I 22:55:05 InstallContribNbextensionsApp] Installing C:\\Users\\ejrgu\\anaconda3\\envs\\bigdata3\\lib\\site-packages\\jupyter_contrib_nbextensions\\nbextensions\\hide_header -> hide_header\n",
      "[I 22:55:05 InstallContribNbextensionsApp] Making directory: C:\\ProgramData\\jupyter\\nbextensions\\hide_header\\\n",
      "[I 22:55:05 InstallContribNbextensionsApp] Copying: C:\\Users\\ejrgu\\anaconda3\\envs\\bigdata3\\lib\\site-packages\\jupyter_contrib_nbextensions\\nbextensions\\hide_header\\hide_header.yaml -> C:\\ProgramData\\jupyter\\nbextensions\\hide_header\\hide_header.yaml\n",
      "[I 22:55:05 InstallContribNbextensionsApp] Copying: C:\\Users\\ejrgu\\anaconda3\\envs\\bigdata3\\lib\\site-packages\\jupyter_contrib_nbextensions\\nbextensions\\hide_header\\main.js -> C:\\ProgramData\\jupyter\\nbextensions\\hide_header\\main.js\n",
      "[I 22:55:05 InstallContribNbextensionsApp] Copying: C:\\Users\\ejrgu\\anaconda3\\envs\\bigdata3\\lib\\site-packages\\jupyter_contrib_nbextensions\\nbextensions\\hide_header\\README.md -> C:\\ProgramData\\jupyter\\nbextensions\\hide_header\\README.md\n",
      "[I 22:55:05 InstallContribNbextensionsApp] - Validating: ok\n",
      "[I 22:55:05 InstallContribNbextensionsApp] Installing C:\\Users\\ejrgu\\anaconda3\\envs\\bigdata3\\lib\\site-packages\\jupyter_contrib_nbextensions\\nbextensions\\hide_input -> hide_input\n",
      "[I 22:55:05 InstallContribNbextensionsApp] Making directory: C:\\ProgramData\\jupyter\\nbextensions\\hide_input\\\n",
      "[I 22:55:05 InstallContribNbextensionsApp] Copying: C:\\Users\\ejrgu\\anaconda3\\envs\\bigdata3\\lib\\site-packages\\jupyter_contrib_nbextensions\\nbextensions\\hide_input\\hide-input.yaml -> C:\\ProgramData\\jupyter\\nbextensions\\hide_input\\hide-input.yaml\n",
      "[I 22:55:05 InstallContribNbextensionsApp] Copying: C:\\Users\\ejrgu\\anaconda3\\envs\\bigdata3\\lib\\site-packages\\jupyter_contrib_nbextensions\\nbextensions\\hide_input\\icon.png -> C:\\ProgramData\\jupyter\\nbextensions\\hide_input\\icon.png\n",
      "[I 22:55:05 InstallContribNbextensionsApp] Copying: C:\\Users\\ejrgu\\anaconda3\\envs\\bigdata3\\lib\\site-packages\\jupyter_contrib_nbextensions\\nbextensions\\hide_input\\main.js -> C:\\ProgramData\\jupyter\\nbextensions\\hide_input\\main.js\n",
      "[I 22:55:05 InstallContribNbextensionsApp] Copying: C:\\Users\\ejrgu\\anaconda3\\envs\\bigdata3\\lib\\site-packages\\jupyter_contrib_nbextensions\\nbextensions\\hide_input\\readme.md -> C:\\ProgramData\\jupyter\\nbextensions\\hide_input\\readme.md\n",
      "[I 22:55:05 InstallContribNbextensionsApp] - Validating: ok\n",
      "[I 22:55:05 InstallContribNbextensionsApp] Installing C:\\Users\\ejrgu\\anaconda3\\envs\\bigdata3\\lib\\site-packages\\jupyter_contrib_nbextensions\\nbextensions\\hide_input_all -> hide_input_all\n",
      "[I 22:55:05 InstallContribNbextensionsApp] Making directory: C:\\ProgramData\\jupyter\\nbextensions\\hide_input_all\\\n",
      "[I 22:55:05 InstallContribNbextensionsApp] Copying: C:\\Users\\ejrgu\\anaconda3\\envs\\bigdata3\\lib\\site-packages\\jupyter_contrib_nbextensions\\nbextensions\\hide_input_all\\hide_input_all.yaml -> C:\\ProgramData\\jupyter\\nbextensions\\hide_input_all\\hide_input_all.yaml\n",
      "[I 22:55:05 InstallContribNbextensionsApp] Copying: C:\\Users\\ejrgu\\anaconda3\\envs\\bigdata3\\lib\\site-packages\\jupyter_contrib_nbextensions\\nbextensions\\hide_input_all\\hide_input_all_hide.png -> C:\\ProgramData\\jupyter\\nbextensions\\hide_input_all\\hide_input_all_hide.png\n",
      "[I 22:55:05 InstallContribNbextensionsApp] Copying: C:\\Users\\ejrgu\\anaconda3\\envs\\bigdata3\\lib\\site-packages\\jupyter_contrib_nbextensions\\nbextensions\\hide_input_all\\hide_input_all_show.png -> C:\\ProgramData\\jupyter\\nbextensions\\hide_input_all\\hide_input_all_show.png\n",
      "[I 22:55:05 InstallContribNbextensionsApp] Copying: C:\\Users\\ejrgu\\anaconda3\\envs\\bigdata3\\lib\\site-packages\\jupyter_contrib_nbextensions\\nbextensions\\hide_input_all\\icon.png -> C:\\ProgramData\\jupyter\\nbextensions\\hide_input_all\\icon.png\n",
      "[I 22:55:06 InstallContribNbextensionsApp] Copying: C:\\Users\\ejrgu\\anaconda3\\envs\\bigdata3\\lib\\site-packages\\jupyter_contrib_nbextensions\\nbextensions\\hide_input_all\\main.js -> C:\\ProgramData\\jupyter\\nbextensions\\hide_input_all\\main.js\n",
      "[I 22:55:06 InstallContribNbextensionsApp] Copying: C:\\Users\\ejrgu\\anaconda3\\envs\\bigdata3\\lib\\site-packages\\jupyter_contrib_nbextensions\\nbextensions\\hide_input_all\\readme.md -> C:\\ProgramData\\jupyter\\nbextensions\\hide_input_all\\readme.md\n",
      "[I 22:55:06 InstallContribNbextensionsApp] - Validating: ok\n",
      "[I 22:55:06 InstallContribNbextensionsApp] Installing C:\\Users\\ejrgu\\anaconda3\\envs\\bigdata3\\lib\\site-packages\\jupyter_contrib_nbextensions\\nbextensions\\highlighter -> highlighter\n",
      "[I 22:55:06 InstallContribNbextensionsApp] Making directory: C:\\ProgramData\\jupyter\\nbextensions\\highlighter\\\n",
      "[I 22:55:06 InstallContribNbextensionsApp] Copying: C:\\Users\\ejrgu\\anaconda3\\envs\\bigdata3\\lib\\site-packages\\jupyter_contrib_nbextensions\\nbextensions\\highlighter\\demo_highlighter.html -> C:\\ProgramData\\jupyter\\nbextensions\\highlighter\\demo_highlighter.html\n",
      "[I 22:55:06 InstallContribNbextensionsApp] Copying: C:\\Users\\ejrgu\\anaconda3\\envs\\bigdata3\\lib\\site-packages\\jupyter_contrib_nbextensions\\nbextensions\\highlighter\\demo_highlighter.ipynb -> C:\\ProgramData\\jupyter\\nbextensions\\highlighter\\demo_highlighter.ipynb\n",
      "[I 22:55:06 InstallContribNbextensionsApp] Copying: C:\\Users\\ejrgu\\anaconda3\\envs\\bigdata3\\lib\\site-packages\\jupyter_contrib_nbextensions\\nbextensions\\highlighter\\export_highlights.html -> C:\\ProgramData\\jupyter\\nbextensions\\highlighter\\export_highlights.html\n",
      "[I 22:55:06 InstallContribNbextensionsApp] Copying: C:\\Users\\ejrgu\\anaconda3\\envs\\bigdata3\\lib\\site-packages\\jupyter_contrib_nbextensions\\nbextensions\\highlighter\\export_highlights.ipynb -> C:\\ProgramData\\jupyter\\nbextensions\\highlighter\\export_highlights.ipynb\n",
      "[I 22:55:06 InstallContribNbextensionsApp] Copying: C:\\Users\\ejrgu\\anaconda3\\envs\\bigdata3\\lib\\site-packages\\jupyter_contrib_nbextensions\\nbextensions\\highlighter\\export_highlights.pdf -> C:\\ProgramData\\jupyter\\nbextensions\\highlighter\\export_highlights.pdf\n",
      "[I 22:55:06 InstallContribNbextensionsApp] Copying: C:\\Users\\ejrgu\\anaconda3\\envs\\bigdata3\\lib\\site-packages\\jupyter_contrib_nbextensions\\nbextensions\\highlighter\\export_highlights.tex -> C:\\ProgramData\\jupyter\\nbextensions\\highlighter\\export_highlights.tex\n",
      "[I 22:55:06 InstallContribNbextensionsApp] Copying: C:\\Users\\ejrgu\\anaconda3\\envs\\bigdata3\\lib\\site-packages\\jupyter_contrib_nbextensions\\nbextensions\\highlighter\\highlighter.css -> C:\\ProgramData\\jupyter\\nbextensions\\highlighter\\highlighter.css\n",
      "[I 22:55:06 InstallContribNbextensionsApp] Copying: C:\\Users\\ejrgu\\anaconda3\\envs\\bigdata3\\lib\\site-packages\\jupyter_contrib_nbextensions\\nbextensions\\highlighter\\highlighter.js -> C:\\ProgramData\\jupyter\\nbextensions\\highlighter\\highlighter.js\n",
      "[I 22:55:06 InstallContribNbextensionsApp] Copying: C:\\Users\\ejrgu\\anaconda3\\envs\\bigdata3\\lib\\site-packages\\jupyter_contrib_nbextensions\\nbextensions\\highlighter\\highlighter.yaml -> C:\\ProgramData\\jupyter\\nbextensions\\highlighter\\highlighter.yaml\n",
      "[I 22:55:06 InstallContribNbextensionsApp] Copying: C:\\Users\\ejrgu\\anaconda3\\envs\\bigdata3\\lib\\site-packages\\jupyter_contrib_nbextensions\\nbextensions\\highlighter\\icon.png -> C:\\ProgramData\\jupyter\\nbextensions\\highlighter\\icon.png\n",
      "[I 22:55:06 InstallContribNbextensionsApp] Copying: C:\\Users\\ejrgu\\anaconda3\\envs\\bigdata3\\lib\\site-packages\\jupyter_contrib_nbextensions\\nbextensions\\highlighter\\image.gif -> C:\\ProgramData\\jupyter\\nbextensions\\highlighter\\image.gif\n",
      "[I 22:55:06 InstallContribNbextensionsApp] Copying: C:\\Users\\ejrgu\\anaconda3\\envs\\bigdata3\\lib\\site-packages\\jupyter_contrib_nbextensions\\nbextensions\\highlighter\\readme.md -> C:\\ProgramData\\jupyter\\nbextensions\\highlighter\\readme.md\n",
      "[I 22:55:06 InstallContribNbextensionsApp] Copying: C:\\Users\\ejrgu\\anaconda3\\envs\\bigdata3\\lib\\site-packages\\jupyter_contrib_nbextensions\\nbextensions\\highlighter\\tst_highlights.html -> C:\\ProgramData\\jupyter\\nbextensions\\highlighter\\tst_highlights.html\n",
      "[I 22:55:06 InstallContribNbextensionsApp] Copying: C:\\Users\\ejrgu\\anaconda3\\envs\\bigdata3\\lib\\site-packages\\jupyter_contrib_nbextensions\\nbextensions\\highlighter\\tst_highlights.ipynb -> C:\\ProgramData\\jupyter\\nbextensions\\highlighter\\tst_highlights.ipynb\n",
      "[I 22:55:06 InstallContribNbextensionsApp] Copying: C:\\Users\\ejrgu\\anaconda3\\envs\\bigdata3\\lib\\site-packages\\jupyter_contrib_nbextensions\\nbextensions\\highlighter\\tst_highlights.pdf -> C:\\ProgramData\\jupyter\\nbextensions\\highlighter\\tst_highlights.pdf\n",
      "[I 22:55:06 InstallContribNbextensionsApp] Copying: C:\\Users\\ejrgu\\anaconda3\\envs\\bigdata3\\lib\\site-packages\\jupyter_contrib_nbextensions\\nbextensions\\highlighter\\tst_highlights.tex -> C:\\ProgramData\\jupyter\\nbextensions\\highlighter\\tst_highlights.tex\n",
      "[I 22:55:06 InstallContribNbextensionsApp] - Validating: ok\n",
      "[I 22:55:06 InstallContribNbextensionsApp] Installing C:\\Users\\ejrgu\\anaconda3\\envs\\bigdata3\\lib\\site-packages\\jupyter_contrib_nbextensions\\nbextensions\\hinterland -> hinterland\n",
      "[I 22:55:06 InstallContribNbextensionsApp] Making directory: C:\\ProgramData\\jupyter\\nbextensions\\hinterland\\\n",
      "[I 22:55:06 InstallContribNbextensionsApp] Copying: C:\\Users\\ejrgu\\anaconda3\\envs\\bigdata3\\lib\\site-packages\\jupyter_contrib_nbextensions\\nbextensions\\hinterland\\hinterland.js -> C:\\ProgramData\\jupyter\\nbextensions\\hinterland\\hinterland.js\n",
      "[I 22:55:06 InstallContribNbextensionsApp] Copying: C:\\Users\\ejrgu\\anaconda3\\envs\\bigdata3\\lib\\site-packages\\jupyter_contrib_nbextensions\\nbextensions\\hinterland\\hinterland.yaml -> C:\\ProgramData\\jupyter\\nbextensions\\hinterland\\hinterland.yaml\n",
      "[I 22:55:06 InstallContribNbextensionsApp] Copying: C:\\Users\\ejrgu\\anaconda3\\envs\\bigdata3\\lib\\site-packages\\jupyter_contrib_nbextensions\\nbextensions\\hinterland\\README.md -> C:\\ProgramData\\jupyter\\nbextensions\\hinterland\\README.md\n",
      "[I 22:55:06 InstallContribNbextensionsApp] - Validating: ok\n",
      "[I 22:55:06 InstallContribNbextensionsApp] Installing C:\\Users\\ejrgu\\anaconda3\\envs\\bigdata3\\lib\\site-packages\\jupyter_contrib_nbextensions\\nbextensions\\init_cell -> init_cell\n",
      "[I 22:55:06 InstallContribNbextensionsApp] Making directory: C:\\ProgramData\\jupyter\\nbextensions\\init_cell\\\n",
      "[I 22:55:06 InstallContribNbextensionsApp] Copying: C:\\Users\\ejrgu\\anaconda3\\envs\\bigdata3\\lib\\site-packages\\jupyter_contrib_nbextensions\\nbextensions\\init_cell\\cell_toolbar_menu.png -> C:\\ProgramData\\jupyter\\nbextensions\\init_cell\\cell_toolbar_menu.png\n",
      "[I 22:55:06 InstallContribNbextensionsApp] Copying: C:\\Users\\ejrgu\\anaconda3\\envs\\bigdata3\\lib\\site-packages\\jupyter_contrib_nbextensions\\nbextensions\\init_cell\\icon.png -> C:\\ProgramData\\jupyter\\nbextensions\\init_cell\\icon.png\n",
      "[I 22:55:06 InstallContribNbextensionsApp] Copying: C:\\Users\\ejrgu\\anaconda3\\envs\\bigdata3\\lib\\site-packages\\jupyter_contrib_nbextensions\\nbextensions\\init_cell\\init_cell.yaml -> C:\\ProgramData\\jupyter\\nbextensions\\init_cell\\init_cell.yaml\n",
      "[I 22:55:06 InstallContribNbextensionsApp] Copying: C:\\Users\\ejrgu\\anaconda3\\envs\\bigdata3\\lib\\site-packages\\jupyter_contrib_nbextensions\\nbextensions\\init_cell\\main.js -> C:\\ProgramData\\jupyter\\nbextensions\\init_cell\\main.js\n",
      "[I 22:55:06 InstallContribNbextensionsApp] Copying: C:\\Users\\ejrgu\\anaconda3\\envs\\bigdata3\\lib\\site-packages\\jupyter_contrib_nbextensions\\nbextensions\\init_cell\\README.md -> C:\\ProgramData\\jupyter\\nbextensions\\init_cell\\README.md\n",
      "[I 22:55:06 InstallContribNbextensionsApp] - Validating: ok\n",
      "[I 22:55:06 InstallContribNbextensionsApp] Installing C:\\Users\\ejrgu\\anaconda3\\envs\\bigdata3\\lib\\site-packages\\jupyter_contrib_nbextensions\\nbextensions\\keyboard_shortcut_editor -> keyboard_shortcut_editor\n",
      "[I 22:55:06 InstallContribNbextensionsApp] Making directory: C:\\ProgramData\\jupyter\\nbextensions\\keyboard_shortcut_editor\\\n",
      "[I 22:55:06 InstallContribNbextensionsApp] Copying: C:\\Users\\ejrgu\\anaconda3\\envs\\bigdata3\\lib\\site-packages\\jupyter_contrib_nbextensions\\nbextensions\\keyboard_shortcut_editor\\icon.png -> C:\\ProgramData\\jupyter\\nbextensions\\keyboard_shortcut_editor\\icon.png\n",
      "[I 22:55:06 InstallContribNbextensionsApp] Copying: C:\\Users\\ejrgu\\anaconda3\\envs\\bigdata3\\lib\\site-packages\\jupyter_contrib_nbextensions\\nbextensions\\keyboard_shortcut_editor\\keyboard_shortcut_editor.yaml -> C:\\ProgramData\\jupyter\\nbextensions\\keyboard_shortcut_editor\\keyboard_shortcut_editor.yaml\n",
      "[I 22:55:06 InstallContribNbextensionsApp] Copying: C:\\Users\\ejrgu\\anaconda3\\envs\\bigdata3\\lib\\site-packages\\jupyter_contrib_nbextensions\\nbextensions\\keyboard_shortcut_editor\\kse_components.js -> C:\\ProgramData\\jupyter\\nbextensions\\keyboard_shortcut_editor\\kse_components.js\n",
      "[I 22:55:06 InstallContribNbextensionsApp] Copying: C:\\Users\\ejrgu\\anaconda3\\envs\\bigdata3\\lib\\site-packages\\jupyter_contrib_nbextensions\\nbextensions\\keyboard_shortcut_editor\\main.css -> C:\\ProgramData\\jupyter\\nbextensions\\keyboard_shortcut_editor\\main.css\n",
      "[I 22:55:06 InstallContribNbextensionsApp] Copying: C:\\Users\\ejrgu\\anaconda3\\envs\\bigdata3\\lib\\site-packages\\jupyter_contrib_nbextensions\\nbextensions\\keyboard_shortcut_editor\\main.js -> C:\\ProgramData\\jupyter\\nbextensions\\keyboard_shortcut_editor\\main.js\n",
      "[I 22:55:06 InstallContribNbextensionsApp] Copying: C:\\Users\\ejrgu\\anaconda3\\envs\\bigdata3\\lib\\site-packages\\jupyter_contrib_nbextensions\\nbextensions\\keyboard_shortcut_editor\\quickhelp_shim.js -> C:\\ProgramData\\jupyter\\nbextensions\\keyboard_shortcut_editor\\quickhelp_shim.js\n",
      "[I 22:55:06 InstallContribNbextensionsApp] Copying: C:\\Users\\ejrgu\\anaconda3\\envs\\bigdata3\\lib\\site-packages\\jupyter_contrib_nbextensions\\nbextensions\\keyboard_shortcut_editor\\README.md -> C:\\ProgramData\\jupyter\\nbextensions\\keyboard_shortcut_editor\\README.md\n",
      "[I 22:55:06 InstallContribNbextensionsApp] Copying: C:\\Users\\ejrgu\\anaconda3\\envs\\bigdata3\\lib\\site-packages\\jupyter_contrib_nbextensions\\nbextensions\\keyboard_shortcut_editor\\readme_add_new_link.png -> C:\\ProgramData\\jupyter\\nbextensions\\keyboard_shortcut_editor\\readme_add_new_link.png\n",
      "[I 22:55:06 InstallContribNbextensionsApp] Copying: C:\\Users\\ejrgu\\anaconda3\\envs\\bigdata3\\lib\\site-packages\\jupyter_contrib_nbextensions\\nbextensions\\keyboard_shortcut_editor\\readme_add_new_select_action.png -> C:\\ProgramData\\jupyter\\nbextensions\\keyboard_shortcut_editor\\readme_add_new_select_action.png\n",
      "[I 22:55:06 InstallContribNbextensionsApp] Copying: C:\\Users\\ejrgu\\anaconda3\\envs\\bigdata3\\lib\\site-packages\\jupyter_contrib_nbextensions\\nbextensions\\keyboard_shortcut_editor\\readme_comma.png -> C:\\ProgramData\\jupyter\\nbextensions\\keyboard_shortcut_editor\\readme_comma.png\n",
      "[I 22:55:06 InstallContribNbextensionsApp] Copying: C:\\Users\\ejrgu\\anaconda3\\envs\\bigdata3\\lib\\site-packages\\jupyter_contrib_nbextensions\\nbextensions\\keyboard_shortcut_editor\\readme_conflict.png -> C:\\ProgramData\\jupyter\\nbextensions\\keyboard_shortcut_editor\\readme_conflict.png\n",
      "[I 22:55:06 InstallContribNbextensionsApp] Copying: C:\\Users\\ejrgu\\anaconda3\\envs\\bigdata3\\lib\\site-packages\\jupyter_contrib_nbextensions\\nbextensions\\keyboard_shortcut_editor\\readme_dropdown.png -> C:\\ProgramData\\jupyter\\nbextensions\\keyboard_shortcut_editor\\readme_dropdown.png\n",
      "[I 22:55:06 InstallContribNbextensionsApp] Copying: C:\\Users\\ejrgu\\anaconda3\\envs\\bigdata3\\lib\\site-packages\\jupyter_contrib_nbextensions\\nbextensions\\keyboard_shortcut_editor\\readme_menu_item.png -> C:\\ProgramData\\jupyter\\nbextensions\\keyboard_shortcut_editor\\readme_menu_item.png\n",
      "[I 22:55:06 InstallContribNbextensionsApp] Copying: C:\\Users\\ejrgu\\anaconda3\\envs\\bigdata3\\lib\\site-packages\\jupyter_contrib_nbextensions\\nbextensions\\keyboard_shortcut_editor\\readme_reset_disabled.png -> C:\\ProgramData\\jupyter\\nbextensions\\keyboard_shortcut_editor\\readme_reset_disabled.png\n",
      "[I 22:55:06 InstallContribNbextensionsApp] Copying: C:\\Users\\ejrgu\\anaconda3\\envs\\bigdata3\\lib\\site-packages\\jupyter_contrib_nbextensions\\nbextensions\\keyboard_shortcut_editor\\readme_shortcut_editor_blank.png -> C:\\ProgramData\\jupyter\\nbextensions\\keyboard_shortcut_editor\\readme_shortcut_editor_blank.png\n",
      "[I 22:55:06 InstallContribNbextensionsApp] Copying: C:\\Users\\ejrgu\\anaconda3\\envs\\bigdata3\\lib\\site-packages\\jupyter_contrib_nbextensions\\nbextensions\\keyboard_shortcut_editor\\readme_shortcut_editor_success.png -> C:\\ProgramData\\jupyter\\nbextensions\\keyboard_shortcut_editor\\readme_shortcut_editor_success.png\n",
      "[I 22:55:06 InstallContribNbextensionsApp] Copying: C:\\Users\\ejrgu\\anaconda3\\envs\\bigdata3\\lib\\site-packages\\jupyter_contrib_nbextensions\\nbextensions\\keyboard_shortcut_editor\\readme_undefined_key.png -> C:\\ProgramData\\jupyter\\nbextensions\\keyboard_shortcut_editor\\readme_undefined_key.png\n",
      "[I 22:55:06 InstallContribNbextensionsApp] - Validating: ok\n",
      "[I 22:55:06 InstallContribNbextensionsApp] Installing C:\\Users\\ejrgu\\anaconda3\\envs\\bigdata3\\lib\\site-packages\\jupyter_contrib_nbextensions\\nbextensions\\limit_output -> limit_output\n",
      "[I 22:55:06 InstallContribNbextensionsApp] Making directory: C:\\ProgramData\\jupyter\\nbextensions\\limit_output\\\n",
      "[I 22:55:06 InstallContribNbextensionsApp] Copying: C:\\Users\\ejrgu\\anaconda3\\envs\\bigdata3\\lib\\site-packages\\jupyter_contrib_nbextensions\\nbextensions\\limit_output\\icon.png -> C:\\ProgramData\\jupyter\\nbextensions\\limit_output\\icon.png\n",
      "[I 22:55:06 InstallContribNbextensionsApp] Copying: C:\\Users\\ejrgu\\anaconda3\\envs\\bigdata3\\lib\\site-packages\\jupyter_contrib_nbextensions\\nbextensions\\limit_output\\limit-output.yaml -> C:\\ProgramData\\jupyter\\nbextensions\\limit_output\\limit-output.yaml\n",
      "[I 22:55:06 InstallContribNbextensionsApp] Copying: C:\\Users\\ejrgu\\anaconda3\\envs\\bigdata3\\lib\\site-packages\\jupyter_contrib_nbextensions\\nbextensions\\limit_output\\main.js -> C:\\ProgramData\\jupyter\\nbextensions\\limit_output\\main.js\n",
      "[I 22:55:06 InstallContribNbextensionsApp] Copying: C:\\Users\\ejrgu\\anaconda3\\envs\\bigdata3\\lib\\site-packages\\jupyter_contrib_nbextensions\\nbextensions\\limit_output\\readme.md -> C:\\ProgramData\\jupyter\\nbextensions\\limit_output\\readme.md\n",
      "[I 22:55:06 InstallContribNbextensionsApp] - Validating: ok\n",
      "[I 22:55:06 InstallContribNbextensionsApp] Installing C:\\Users\\ejrgu\\anaconda3\\envs\\bigdata3\\lib\\site-packages\\jupyter_contrib_nbextensions\\nbextensions\\livemdpreview -> livemdpreview\n",
      "[I 22:55:06 InstallContribNbextensionsApp] Making directory: C:\\ProgramData\\jupyter\\nbextensions\\livemdpreview\\\n",
      "[I 22:55:06 InstallContribNbextensionsApp] Copying: C:\\Users\\ejrgu\\anaconda3\\envs\\bigdata3\\lib\\site-packages\\jupyter_contrib_nbextensions\\nbextensions\\livemdpreview\\livemdpreview.js -> C:\\ProgramData\\jupyter\\nbextensions\\livemdpreview\\livemdpreview.js\n",
      "[I 22:55:06 InstallContribNbextensionsApp] Copying: C:\\Users\\ejrgu\\anaconda3\\envs\\bigdata3\\lib\\site-packages\\jupyter_contrib_nbextensions\\nbextensions\\livemdpreview\\livemdpreview.yml -> C:\\ProgramData\\jupyter\\nbextensions\\livemdpreview\\livemdpreview.yml\n",
      "[I 22:55:06 InstallContribNbextensionsApp] - Validating: ok\n",
      "[I 22:55:06 InstallContribNbextensionsApp] Installing C:\\Users\\ejrgu\\anaconda3\\envs\\bigdata3\\lib\\site-packages\\jupyter_contrib_nbextensions\\nbextensions\\load_tex_macros -> load_tex_macros\n",
      "[I 22:55:06 InstallContribNbextensionsApp] Making directory: C:\\ProgramData\\jupyter\\nbextensions\\load_tex_macros\\\n",
      "[I 22:55:06 InstallContribNbextensionsApp] Copying: C:\\Users\\ejrgu\\anaconda3\\envs\\bigdata3\\lib\\site-packages\\jupyter_contrib_nbextensions\\nbextensions\\load_tex_macros\\icon.png -> C:\\ProgramData\\jupyter\\nbextensions\\load_tex_macros\\icon.png\n",
      "[I 22:55:06 InstallContribNbextensionsApp] Copying: C:\\Users\\ejrgu\\anaconda3\\envs\\bigdata3\\lib\\site-packages\\jupyter_contrib_nbextensions\\nbextensions\\load_tex_macros\\load_tex_macros.yaml -> C:\\ProgramData\\jupyter\\nbextensions\\load_tex_macros\\load_tex_macros.yaml\n",
      "[I 22:55:06 InstallContribNbextensionsApp] Copying: C:\\Users\\ejrgu\\anaconda3\\envs\\bigdata3\\lib\\site-packages\\jupyter_contrib_nbextensions\\nbextensions\\load_tex_macros\\main.js -> C:\\ProgramData\\jupyter\\nbextensions\\load_tex_macros\\main.js\n",
      "[I 22:55:06 InstallContribNbextensionsApp] Copying: C:\\Users\\ejrgu\\anaconda3\\envs\\bigdata3\\lib\\site-packages\\jupyter_contrib_nbextensions\\nbextensions\\load_tex_macros\\readme.md -> C:\\ProgramData\\jupyter\\nbextensions\\load_tex_macros\\readme.md\n",
      "[I 22:55:06 InstallContribNbextensionsApp] - Validating: ok\n",
      "[I 22:55:06 InstallContribNbextensionsApp] Installing C:\\Users\\ejrgu\\anaconda3\\envs\\bigdata3\\lib\\site-packages\\jupyter_contrib_nbextensions\\nbextensions\\move_selected_cells -> move_selected_cells\n",
      "[I 22:55:06 InstallContribNbextensionsApp] Making directory: C:\\ProgramData\\jupyter\\nbextensions\\move_selected_cells\\\n",
      "[I 22:55:06 InstallContribNbextensionsApp] Copying: C:\\Users\\ejrgu\\anaconda3\\envs\\bigdata3\\lib\\site-packages\\jupyter_contrib_nbextensions\\nbextensions\\move_selected_cells\\main.js -> C:\\ProgramData\\jupyter\\nbextensions\\move_selected_cells\\main.js\n",
      "[I 22:55:06 InstallContribNbextensionsApp] Copying: C:\\Users\\ejrgu\\anaconda3\\envs\\bigdata3\\lib\\site-packages\\jupyter_contrib_nbextensions\\nbextensions\\move_selected_cells\\move_selected_cells.yaml -> C:\\ProgramData\\jupyter\\nbextensions\\move_selected_cells\\move_selected_cells.yaml\n",
      "[I 22:55:06 InstallContribNbextensionsApp] Copying: C:\\Users\\ejrgu\\anaconda3\\envs\\bigdata3\\lib\\site-packages\\jupyter_contrib_nbextensions\\nbextensions\\move_selected_cells\\README.md -> C:\\ProgramData\\jupyter\\nbextensions\\move_selected_cells\\README.md\n",
      "[I 22:55:06 InstallContribNbextensionsApp] - Validating: ok\n",
      "[I 22:55:06 InstallContribNbextensionsApp] Installing C:\\Users\\ejrgu\\anaconda3\\envs\\bigdata3\\lib\\site-packages\\jupyter_contrib_nbextensions\\nbextensions\\navigation-hotkeys -> navigation-hotkeys\n",
      "[I 22:55:06 InstallContribNbextensionsApp] Making directory: C:\\ProgramData\\jupyter\\nbextensions\\navigation-hotkeys\\\n",
      "[I 22:55:06 InstallContribNbextensionsApp] Copying: C:\\Users\\ejrgu\\anaconda3\\envs\\bigdata3\\lib\\site-packages\\jupyter_contrib_nbextensions\\nbextensions\\navigation-hotkeys\\hotkeys.yaml -> C:\\ProgramData\\jupyter\\nbextensions\\navigation-hotkeys\\hotkeys.yaml\n",
      "[I 22:55:06 InstallContribNbextensionsApp] Copying: C:\\Users\\ejrgu\\anaconda3\\envs\\bigdata3\\lib\\site-packages\\jupyter_contrib_nbextensions\\nbextensions\\navigation-hotkeys\\icon.png -> C:\\ProgramData\\jupyter\\nbextensions\\navigation-hotkeys\\icon.png\n",
      "[I 22:55:06 InstallContribNbextensionsApp] Copying: C:\\Users\\ejrgu\\anaconda3\\envs\\bigdata3\\lib\\site-packages\\jupyter_contrib_nbextensions\\nbextensions\\navigation-hotkeys\\main.js -> C:\\ProgramData\\jupyter\\nbextensions\\navigation-hotkeys\\main.js\n",
      "[I 22:55:06 InstallContribNbextensionsApp] Copying: C:\\Users\\ejrgu\\anaconda3\\envs\\bigdata3\\lib\\site-packages\\jupyter_contrib_nbextensions\\nbextensions\\navigation-hotkeys\\readme.md -> C:\\ProgramData\\jupyter\\nbextensions\\navigation-hotkeys\\readme.md\n",
      "[I 22:55:06 InstallContribNbextensionsApp] - Validating: ok\n",
      "[I 22:55:06 InstallContribNbextensionsApp] Installing C:\\Users\\ejrgu\\anaconda3\\envs\\bigdata3\\lib\\site-packages\\jupyter_contrib_nbextensions\\nbextensions\\nbTranslate -> nbTranslate\n",
      "[I 22:55:06 InstallContribNbextensionsApp] Making directory: C:\\ProgramData\\jupyter\\nbextensions\\nbTranslate\\\n",
      "[I 22:55:06 InstallContribNbextensionsApp] Copying: C:\\Users\\ejrgu\\anaconda3\\envs\\bigdata3\\lib\\site-packages\\jupyter_contrib_nbextensions\\nbextensions\\nbTranslate\\demo1.gif -> C:\\ProgramData\\jupyter\\nbextensions\\nbTranslate\\demo1.gif\n",
      "[I 22:55:06 InstallContribNbextensionsApp] Copying: C:\\Users\\ejrgu\\anaconda3\\envs\\bigdata3\\lib\\site-packages\\jupyter_contrib_nbextensions\\nbextensions\\nbTranslate\\demo2.gif -> C:\\ProgramData\\jupyter\\nbextensions\\nbTranslate\\demo2.gif\n",
      "[I 22:55:06 InstallContribNbextensionsApp] Copying: C:\\Users\\ejrgu\\anaconda3\\envs\\bigdata3\\lib\\site-packages\\jupyter_contrib_nbextensions\\nbextensions\\nbTranslate\\languages.js -> C:\\ProgramData\\jupyter\\nbextensions\\nbTranslate\\languages.js\n",
      "[I 22:55:06 InstallContribNbextensionsApp] Copying: C:\\Users\\ejrgu\\anaconda3\\envs\\bigdata3\\lib\\site-packages\\jupyter_contrib_nbextensions\\nbextensions\\nbTranslate\\main.js -> C:\\ProgramData\\jupyter\\nbextensions\\nbTranslate\\main.js\n",
      "[I 22:55:06 InstallContribNbextensionsApp] Copying: C:\\Users\\ejrgu\\anaconda3\\envs\\bigdata3\\lib\\site-packages\\jupyter_contrib_nbextensions\\nbextensions\\nbTranslate\\mutils.js -> C:\\ProgramData\\jupyter\\nbextensions\\nbTranslate\\mutils.js\n",
      "[I 22:55:06 InstallContribNbextensionsApp] Copying: C:\\Users\\ejrgu\\anaconda3\\envs\\bigdata3\\lib\\site-packages\\jupyter_contrib_nbextensions\\nbextensions\\nbTranslate\\nbTranslate.js -> C:\\ProgramData\\jupyter\\nbextensions\\nbTranslate\\nbTranslate.js\n",
      "[I 22:55:06 InstallContribNbextensionsApp] Copying: C:\\Users\\ejrgu\\anaconda3\\envs\\bigdata3\\lib\\site-packages\\jupyter_contrib_nbextensions\\nbextensions\\nbTranslate\\nbTranslate.yaml -> C:\\ProgramData\\jupyter\\nbextensions\\nbTranslate\\nbTranslate.yaml\n",
      "[I 22:55:06 InstallContribNbextensionsApp] Copying: C:\\Users\\ejrgu\\anaconda3\\envs\\bigdata3\\lib\\site-packages\\jupyter_contrib_nbextensions\\nbextensions\\nbTranslate\\README.md -> C:\\ProgramData\\jupyter\\nbextensions\\nbTranslate\\README.md\n",
      "[I 22:55:06 InstallContribNbextensionsApp] - Validating: ok\n",
      "[I 22:55:06 InstallContribNbextensionsApp] Installing C:\\Users\\ejrgu\\anaconda3\\envs\\bigdata3\\lib\\site-packages\\jupyter_contrib_nbextensions\\nbextensions\\notify -> notify\n",
      "[I 22:55:06 InstallContribNbextensionsApp] Making directory: C:\\ProgramData\\jupyter\\nbextensions\\notify\\\n",
      "[I 22:55:06 InstallContribNbextensionsApp] Copying: C:\\Users\\ejrgu\\anaconda3\\envs\\bigdata3\\lib\\site-packages\\jupyter_contrib_nbextensions\\nbextensions\\notify\\notification.png -> C:\\ProgramData\\jupyter\\nbextensions\\notify\\notification.png\n",
      "[I 22:55:06 InstallContribNbextensionsApp] Copying: C:\\Users\\ejrgu\\anaconda3\\envs\\bigdata3\\lib\\site-packages\\jupyter_contrib_nbextensions\\nbextensions\\notify\\notify.js -> C:\\ProgramData\\jupyter\\nbextensions\\notify\\notify.js\n",
      "[I 22:55:06 InstallContribNbextensionsApp] Copying: C:\\Users\\ejrgu\\anaconda3\\envs\\bigdata3\\lib\\site-packages\\jupyter_contrib_nbextensions\\nbextensions\\notify\\notify.mp3 -> C:\\ProgramData\\jupyter\\nbextensions\\notify\\notify.mp3\n",
      "[I 22:55:06 InstallContribNbextensionsApp] Copying: C:\\Users\\ejrgu\\anaconda3\\envs\\bigdata3\\lib\\site-packages\\jupyter_contrib_nbextensions\\nbextensions\\notify\\notify.yaml -> C:\\ProgramData\\jupyter\\nbextensions\\notify\\notify.yaml\n",
      "[I 22:55:06 InstallContribNbextensionsApp] Copying: C:\\Users\\ejrgu\\anaconda3\\envs\\bigdata3\\lib\\site-packages\\jupyter_contrib_nbextensions\\nbextensions\\notify\\readme.md -> C:\\ProgramData\\jupyter\\nbextensions\\notify\\readme.md\n",
      "[I 22:55:06 InstallContribNbextensionsApp] - Validating: ok\n",
      "[I 22:55:06 InstallContribNbextensionsApp] Installing C:\\Users\\ejrgu\\anaconda3\\envs\\bigdata3\\lib\\site-packages\\jupyter_contrib_nbextensions\\nbextensions\\printview -> printview\n",
      "[I 22:55:06 InstallContribNbextensionsApp] Making directory: C:\\ProgramData\\jupyter\\nbextensions\\printview\\\n",
      "[I 22:55:06 InstallContribNbextensionsApp] Copying: C:\\Users\\ejrgu\\anaconda3\\envs\\bigdata3\\lib\\site-packages\\jupyter_contrib_nbextensions\\nbextensions\\printview\\icon.png -> C:\\ProgramData\\jupyter\\nbextensions\\printview\\icon.png\n",
      "[I 22:55:06 InstallContribNbextensionsApp] Copying: C:\\Users\\ejrgu\\anaconda3\\envs\\bigdata3\\lib\\site-packages\\jupyter_contrib_nbextensions\\nbextensions\\printview\\main.js -> C:\\ProgramData\\jupyter\\nbextensions\\printview\\main.js\n",
      "[I 22:55:07 InstallContribNbextensionsApp] Copying: C:\\Users\\ejrgu\\anaconda3\\envs\\bigdata3\\lib\\site-packages\\jupyter_contrib_nbextensions\\nbextensions\\printview\\printview-button.png -> C:\\ProgramData\\jupyter\\nbextensions\\printview\\printview-button.png\n",
      "[I 22:55:07 InstallContribNbextensionsApp] Copying: C:\\Users\\ejrgu\\anaconda3\\envs\\bigdata3\\lib\\site-packages\\jupyter_contrib_nbextensions\\nbextensions\\printview\\printview.yaml -> C:\\ProgramData\\jupyter\\nbextensions\\printview\\printview.yaml\n",
      "[I 22:55:07 InstallContribNbextensionsApp] Copying: C:\\Users\\ejrgu\\anaconda3\\envs\\bigdata3\\lib\\site-packages\\jupyter_contrib_nbextensions\\nbextensions\\printview\\readme.md -> C:\\ProgramData\\jupyter\\nbextensions\\printview\\readme.md\n",
      "[I 22:55:07 InstallContribNbextensionsApp] - Validating: ok\n",
      "[I 22:55:07 InstallContribNbextensionsApp] Installing C:\\Users\\ejrgu\\anaconda3\\envs\\bigdata3\\lib\\site-packages\\jupyter_contrib_nbextensions\\nbextensions\\python-markdown -> python-markdown\n",
      "[I 22:55:07 InstallContribNbextensionsApp] Making directory: C:\\ProgramData\\jupyter\\nbextensions\\python-markdown\\\n",
      "[I 22:55:07 InstallContribNbextensionsApp] Copying: C:\\Users\\ejrgu\\anaconda3\\envs\\bigdata3\\lib\\site-packages\\jupyter_contrib_nbextensions\\nbextensions\\python-markdown\\main.css -> C:\\ProgramData\\jupyter\\nbextensions\\python-markdown\\main.css\n",
      "[I 22:55:07 InstallContribNbextensionsApp] Copying: C:\\Users\\ejrgu\\anaconda3\\envs\\bigdata3\\lib\\site-packages\\jupyter_contrib_nbextensions\\nbextensions\\python-markdown\\main.js -> C:\\ProgramData\\jupyter\\nbextensions\\python-markdown\\main.js\n",
      "[I 22:55:07 InstallContribNbextensionsApp] Copying: C:\\Users\\ejrgu\\anaconda3\\envs\\bigdata3\\lib\\site-packages\\jupyter_contrib_nbextensions\\nbextensions\\python-markdown\\python-markdown-post.png -> C:\\ProgramData\\jupyter\\nbextensions\\python-markdown\\python-markdown-post.png\n",
      "[I 22:55:07 InstallContribNbextensionsApp] Copying: C:\\Users\\ejrgu\\anaconda3\\envs\\bigdata3\\lib\\site-packages\\jupyter_contrib_nbextensions\\nbextensions\\python-markdown\\python-markdown-pre.png -> C:\\ProgramData\\jupyter\\nbextensions\\python-markdown\\python-markdown-pre.png\n",
      "[I 22:55:07 InstallContribNbextensionsApp] Copying: C:\\Users\\ejrgu\\anaconda3\\envs\\bigdata3\\lib\\site-packages\\jupyter_contrib_nbextensions\\nbextensions\\python-markdown\\python-markdown.png -> C:\\ProgramData\\jupyter\\nbextensions\\python-markdown\\python-markdown.png\n",
      "[I 22:55:07 InstallContribNbextensionsApp] Copying: C:\\Users\\ejrgu\\anaconda3\\envs\\bigdata3\\lib\\site-packages\\jupyter_contrib_nbextensions\\nbextensions\\python-markdown\\python-markdown.yaml -> C:\\ProgramData\\jupyter\\nbextensions\\python-markdown\\python-markdown.yaml\n",
      "[I 22:55:07 InstallContribNbextensionsApp] Copying: C:\\Users\\ejrgu\\anaconda3\\envs\\bigdata3\\lib\\site-packages\\jupyter_contrib_nbextensions\\nbextensions\\python-markdown\\readme.md -> C:\\ProgramData\\jupyter\\nbextensions\\python-markdown\\readme.md\n",
      "[I 22:55:07 InstallContribNbextensionsApp] Copying: C:\\Users\\ejrgu\\anaconda3\\envs\\bigdata3\\lib\\site-packages\\jupyter_contrib_nbextensions\\nbextensions\\python-markdown\\trusted.png -> C:\\ProgramData\\jupyter\\nbextensions\\python-markdown\\trusted.png\n",
      "[I 22:55:07 InstallContribNbextensionsApp] Copying: C:\\Users\\ejrgu\\anaconda3\\envs\\bigdata3\\lib\\site-packages\\jupyter_contrib_nbextensions\\nbextensions\\python-markdown\\untrusted.png -> C:\\ProgramData\\jupyter\\nbextensions\\python-markdown\\untrusted.png\n",
      "[I 22:55:07 InstallContribNbextensionsApp] - Validating: ok\n",
      "[I 22:55:07 InstallContribNbextensionsApp] Installing C:\\Users\\ejrgu\\anaconda3\\envs\\bigdata3\\lib\\site-packages\\jupyter_contrib_nbextensions\\nbextensions\\qtconsole -> qtconsole\n",
      "[I 22:55:07 InstallContribNbextensionsApp] Making directory: C:\\ProgramData\\jupyter\\nbextensions\\qtconsole\\\n",
      "[I 22:55:07 InstallContribNbextensionsApp] Copying: C:\\Users\\ejrgu\\anaconda3\\envs\\bigdata3\\lib\\site-packages\\jupyter_contrib_nbextensions\\nbextensions\\qtconsole\\qtconsole.js -> C:\\ProgramData\\jupyter\\nbextensions\\qtconsole\\qtconsole.js\n",
      "[I 22:55:07 InstallContribNbextensionsApp] Copying: C:\\Users\\ejrgu\\anaconda3\\envs\\bigdata3\\lib\\site-packages\\jupyter_contrib_nbextensions\\nbextensions\\qtconsole\\qtconsole.yaml -> C:\\ProgramData\\jupyter\\nbextensions\\qtconsole\\qtconsole.yaml\n",
      "[I 22:55:07 InstallContribNbextensionsApp] Copying: C:\\Users\\ejrgu\\anaconda3\\envs\\bigdata3\\lib\\site-packages\\jupyter_contrib_nbextensions\\nbextensions\\qtconsole\\README.md -> C:\\ProgramData\\jupyter\\nbextensions\\qtconsole\\README.md\n",
      "[I 22:55:07 InstallContribNbextensionsApp] - Validating: ok\n",
      "[I 22:55:07 InstallContribNbextensionsApp] Installing C:\\Users\\ejrgu\\anaconda3\\envs\\bigdata3\\lib\\site-packages\\jupyter_contrib_nbextensions\\nbextensions\\rubberband -> rubberband\n",
      "[I 22:55:07 InstallContribNbextensionsApp] Making directory: C:\\ProgramData\\jupyter\\nbextensions\\rubberband\\\n",
      "[I 22:55:07 InstallContribNbextensionsApp] Copying: C:\\Users\\ejrgu\\anaconda3\\envs\\bigdata3\\lib\\site-packages\\jupyter_contrib_nbextensions\\nbextensions\\rubberband\\icon.png -> C:\\ProgramData\\jupyter\\nbextensions\\rubberband\\icon.png\n",
      "[I 22:55:07 InstallContribNbextensionsApp] Copying: C:\\Users\\ejrgu\\anaconda3\\envs\\bigdata3\\lib\\site-packages\\jupyter_contrib_nbextensions\\nbextensions\\rubberband\\main.css -> C:\\ProgramData\\jupyter\\nbextensions\\rubberband\\main.css\n",
      "[I 22:55:07 InstallContribNbextensionsApp] Copying: C:\\Users\\ejrgu\\anaconda3\\envs\\bigdata3\\lib\\site-packages\\jupyter_contrib_nbextensions\\nbextensions\\rubberband\\main.js -> C:\\ProgramData\\jupyter\\nbextensions\\rubberband\\main.js\n",
      "[I 22:55:07 InstallContribNbextensionsApp] Copying: C:\\Users\\ejrgu\\anaconda3\\envs\\bigdata3\\lib\\site-packages\\jupyter_contrib_nbextensions\\nbextensions\\rubberband\\readme.md -> C:\\ProgramData\\jupyter\\nbextensions\\rubberband\\readme.md\n",
      "[I 22:55:07 InstallContribNbextensionsApp] Copying: C:\\Users\\ejrgu\\anaconda3\\envs\\bigdata3\\lib\\site-packages\\jupyter_contrib_nbextensions\\nbextensions\\rubberband\\rubberband.yaml -> C:\\ProgramData\\jupyter\\nbextensions\\rubberband\\rubberband.yaml\n",
      "[I 22:55:07 InstallContribNbextensionsApp] - Validating: ok\n",
      "[I 22:55:07 InstallContribNbextensionsApp] Installing C:\\Users\\ejrgu\\anaconda3\\envs\\bigdata3\\lib\\site-packages\\jupyter_contrib_nbextensions\\nbextensions\\ruler -> ruler\n",
      "[I 22:55:07 InstallContribNbextensionsApp] Making directory: C:\\ProgramData\\jupyter\\nbextensions\\ruler\\\n",
      "[I 22:55:07 InstallContribNbextensionsApp] Copying: C:\\Users\\ejrgu\\anaconda3\\envs\\bigdata3\\lib\\site-packages\\jupyter_contrib_nbextensions\\nbextensions\\ruler\\edit.js -> C:\\ProgramData\\jupyter\\nbextensions\\ruler\\edit.js\n",
      "[I 22:55:07 InstallContribNbextensionsApp] Copying: C:\\Users\\ejrgu\\anaconda3\\envs\\bigdata3\\lib\\site-packages\\jupyter_contrib_nbextensions\\nbextensions\\ruler\\icon.png -> C:\\ProgramData\\jupyter\\nbextensions\\ruler\\icon.png\n",
      "[I 22:55:07 InstallContribNbextensionsApp] Copying: C:\\Users\\ejrgu\\anaconda3\\envs\\bigdata3\\lib\\site-packages\\jupyter_contrib_nbextensions\\nbextensions\\ruler\\main.js -> C:\\ProgramData\\jupyter\\nbextensions\\ruler\\main.js\n",
      "[I 22:55:07 InstallContribNbextensionsApp] Copying: C:\\Users\\ejrgu\\anaconda3\\envs\\bigdata3\\lib\\site-packages\\jupyter_contrib_nbextensions\\nbextensions\\ruler\\readme.md -> C:\\ProgramData\\jupyter\\nbextensions\\ruler\\readme.md\n",
      "[I 22:55:07 InstallContribNbextensionsApp] Copying: C:\\Users\\ejrgu\\anaconda3\\envs\\bigdata3\\lib\\site-packages\\jupyter_contrib_nbextensions\\nbextensions\\ruler\\ruler.yaml -> C:\\ProgramData\\jupyter\\nbextensions\\ruler\\ruler.yaml\n",
      "[I 22:55:07 InstallContribNbextensionsApp] Copying: C:\\Users\\ejrgu\\anaconda3\\envs\\bigdata3\\lib\\site-packages\\jupyter_contrib_nbextensions\\nbextensions\\ruler\\ruler_editor.yaml -> C:\\ProgramData\\jupyter\\nbextensions\\ruler\\ruler_editor.yaml\n",
      "[I 22:55:07 InstallContribNbextensionsApp] - Validating: ok\n",
      "[I 22:55:07 InstallContribNbextensionsApp] Installing C:\\Users\\ejrgu\\anaconda3\\envs\\bigdata3\\lib\\site-packages\\jupyter_contrib_nbextensions\\nbextensions\\ruler -> ruler\n",
      "[I 22:55:07 InstallContribNbextensionsApp] Up to date: C:\\ProgramData\\jupyter\\nbextensions\\ruler\\edit.js\n",
      "[I 22:55:07 InstallContribNbextensionsApp] Up to date: C:\\ProgramData\\jupyter\\nbextensions\\ruler\\icon.png\n",
      "[I 22:55:07 InstallContribNbextensionsApp] Up to date: C:\\ProgramData\\jupyter\\nbextensions\\ruler\\main.js\n",
      "[I 22:55:07 InstallContribNbextensionsApp] Up to date: C:\\ProgramData\\jupyter\\nbextensions\\ruler\\readme.md\n",
      "[I 22:55:07 InstallContribNbextensionsApp] Up to date: C:\\ProgramData\\jupyter\\nbextensions\\ruler\\ruler.yaml\n",
      "[I 22:55:07 InstallContribNbextensionsApp] Up to date: C:\\ProgramData\\jupyter\\nbextensions\\ruler\\ruler_editor.yaml\n",
      "[I 22:55:07 InstallContribNbextensionsApp] - Validating: ok\n",
      "[I 22:55:07 InstallContribNbextensionsApp] Installing C:\\Users\\ejrgu\\anaconda3\\envs\\bigdata3\\lib\\site-packages\\jupyter_contrib_nbextensions\\nbextensions\\runtools -> runtools\n",
      "[I 22:55:07 InstallContribNbextensionsApp] Making directory: C:\\ProgramData\\jupyter\\nbextensions\\runtools\\\n",
      "[I 22:55:07 InstallContribNbextensionsApp] Copying: C:\\Users\\ejrgu\\anaconda3\\envs\\bigdata3\\lib\\site-packages\\jupyter_contrib_nbextensions\\nbextensions\\runtools\\annotations.odg -> C:\\ProgramData\\jupyter\\nbextensions\\runtools\\annotations.odg\n",
      "[I 22:55:07 InstallContribNbextensionsApp] Copying: C:\\Users\\ejrgu\\anaconda3\\envs\\bigdata3\\lib\\site-packages\\jupyter_contrib_nbextensions\\nbextensions\\runtools\\cellstate.js -> C:\\ProgramData\\jupyter\\nbextensions\\runtools\\cellstate.js\n",
      "[I 22:55:07 InstallContribNbextensionsApp] Copying: C:\\Users\\ejrgu\\anaconda3\\envs\\bigdata3\\lib\\site-packages\\jupyter_contrib_nbextensions\\nbextensions\\runtools\\demo.gif -> C:\\ProgramData\\jupyter\\nbextensions\\runtools\\demo.gif\n",
      "[I 22:55:07 InstallContribNbextensionsApp] Copying: C:\\Users\\ejrgu\\anaconda3\\envs\\bigdata3\\lib\\site-packages\\jupyter_contrib_nbextensions\\nbextensions\\runtools\\gutter.css -> C:\\ProgramData\\jupyter\\nbextensions\\runtools\\gutter.css\n",
      "[I 22:55:07 InstallContribNbextensionsApp] Copying: C:\\Users\\ejrgu\\anaconda3\\envs\\bigdata3\\lib\\site-packages\\jupyter_contrib_nbextensions\\nbextensions\\runtools\\icon.png -> C:\\ProgramData\\jupyter\\nbextensions\\runtools\\icon.png\n",
      "[I 22:55:07 InstallContribNbextensionsApp] Copying: C:\\Users\\ejrgu\\anaconda3\\envs\\bigdata3\\lib\\site-packages\\jupyter_contrib_nbextensions\\nbextensions\\runtools\\main.css -> C:\\ProgramData\\jupyter\\nbextensions\\runtools\\main.css\n",
      "[I 22:55:07 InstallContribNbextensionsApp] Copying: C:\\Users\\ejrgu\\anaconda3\\envs\\bigdata3\\lib\\site-packages\\jupyter_contrib_nbextensions\\nbextensions\\runtools\\main.js -> C:\\ProgramData\\jupyter\\nbextensions\\runtools\\main.js\n",
      "[I 22:55:07 InstallContribNbextensionsApp] Copying: C:\\Users\\ejrgu\\anaconda3\\envs\\bigdata3\\lib\\site-packages\\jupyter_contrib_nbextensions\\nbextensions\\runtools\\readme.md -> C:\\ProgramData\\jupyter\\nbextensions\\runtools\\readme.md\n",
      "[I 22:55:07 InstallContribNbextensionsApp] Copying: C:\\Users\\ejrgu\\anaconda3\\envs\\bigdata3\\lib\\site-packages\\jupyter_contrib_nbextensions\\nbextensions\\runtools\\runtools.yaml -> C:\\ProgramData\\jupyter\\nbextensions\\runtools\\runtools.yaml\n",
      "[I 22:55:07 InstallContribNbextensionsApp] Copying: C:\\Users\\ejrgu\\anaconda3\\envs\\bigdata3\\lib\\site-packages\\jupyter_contrib_nbextensions\\nbextensions\\runtools\\runtools_execute.png -> C:\\ProgramData\\jupyter\\nbextensions\\runtools\\runtools_execute.png\n",
      "[I 22:55:07 InstallContribNbextensionsApp] Copying: C:\\Users\\ejrgu\\anaconda3\\envs\\bigdata3\\lib\\site-packages\\jupyter_contrib_nbextensions\\nbextensions\\runtools\\runtools_lock.png -> C:\\ProgramData\\jupyter\\nbextensions\\runtools\\runtools_lock.png\n",
      "[I 22:55:07 InstallContribNbextensionsApp] Copying: C:\\Users\\ejrgu\\anaconda3\\envs\\bigdata3\\lib\\site-packages\\jupyter_contrib_nbextensions\\nbextensions\\runtools\\runtools_marker.png -> C:\\ProgramData\\jupyter\\nbextensions\\runtools\\runtools_marker.png\n",
      "[I 22:55:07 InstallContribNbextensionsApp] Copying: C:\\Users\\ejrgu\\anaconda3\\envs\\bigdata3\\lib\\site-packages\\jupyter_contrib_nbextensions\\nbextensions\\runtools\\runtools_nb.png -> C:\\ProgramData\\jupyter\\nbextensions\\runtools\\runtools_nb.png\n",
      "[I 22:55:07 InstallContribNbextensionsApp] Copying: C:\\Users\\ejrgu\\anaconda3\\envs\\bigdata3\\lib\\site-packages\\jupyter_contrib_nbextensions\\nbextensions\\runtools\\runtools_show_hide.png -> C:\\ProgramData\\jupyter\\nbextensions\\runtools\\runtools_show_hide.png\n",
      "[I 22:55:07 InstallContribNbextensionsApp] - Validating: ok\n",
      "[I 22:55:07 InstallContribNbextensionsApp] Installing C:\\Users\\ejrgu\\anaconda3\\envs\\bigdata3\\lib\\site-packages\\jupyter_contrib_nbextensions\\nbextensions\\scratchpad -> scratchpad\n",
      "[I 22:55:07 InstallContribNbextensionsApp] Making directory: C:\\ProgramData\\jupyter\\nbextensions\\scratchpad\\\n",
      "[I 22:55:07 InstallContribNbextensionsApp] Copying: C:\\Users\\ejrgu\\anaconda3\\envs\\bigdata3\\lib\\site-packages\\jupyter_contrib_nbextensions\\nbextensions\\scratchpad\\demo.gif -> C:\\ProgramData\\jupyter\\nbextensions\\scratchpad\\demo.gif\n",
      "[I 22:55:07 InstallContribNbextensionsApp] Copying: C:\\Users\\ejrgu\\anaconda3\\envs\\bigdata3\\lib\\site-packages\\jupyter_contrib_nbextensions\\nbextensions\\scratchpad\\LICENSE -> C:\\ProgramData\\jupyter\\nbextensions\\scratchpad\\LICENSE\n",
      "[I 22:55:07 InstallContribNbextensionsApp] Copying: C:\\Users\\ejrgu\\anaconda3\\envs\\bigdata3\\lib\\site-packages\\jupyter_contrib_nbextensions\\nbextensions\\scratchpad\\main.js -> C:\\ProgramData\\jupyter\\nbextensions\\scratchpad\\main.js\n",
      "[I 22:55:07 InstallContribNbextensionsApp] Copying: C:\\Users\\ejrgu\\anaconda3\\envs\\bigdata3\\lib\\site-packages\\jupyter_contrib_nbextensions\\nbextensions\\scratchpad\\README.md -> C:\\ProgramData\\jupyter\\nbextensions\\scratchpad\\README.md\n",
      "[I 22:55:07 InstallContribNbextensionsApp] Copying: C:\\Users\\ejrgu\\anaconda3\\envs\\bigdata3\\lib\\site-packages\\jupyter_contrib_nbextensions\\nbextensions\\scratchpad\\scratchpad.css -> C:\\ProgramData\\jupyter\\nbextensions\\scratchpad\\scratchpad.css\n",
      "[I 22:55:07 InstallContribNbextensionsApp] Copying: C:\\Users\\ejrgu\\anaconda3\\envs\\bigdata3\\lib\\site-packages\\jupyter_contrib_nbextensions\\nbextensions\\scratchpad\\scratchpad.yaml -> C:\\ProgramData\\jupyter\\nbextensions\\scratchpad\\scratchpad.yaml\n",
      "[I 22:55:07 InstallContribNbextensionsApp] - Validating: ok\n",
      "[I 22:55:07 InstallContribNbextensionsApp] Installing C:\\Users\\ejrgu\\anaconda3\\envs\\bigdata3\\lib\\site-packages\\jupyter_contrib_nbextensions\\nbextensions\\scroll_down -> scroll_down\n",
      "[I 22:55:07 InstallContribNbextensionsApp] Making directory: C:\\ProgramData\\jupyter\\nbextensions\\scroll_down\\\n",
      "[I 22:55:07 InstallContribNbextensionsApp] Copying: C:\\Users\\ejrgu\\anaconda3\\envs\\bigdata3\\lib\\site-packages\\jupyter_contrib_nbextensions\\nbextensions\\scroll_down\\config.yaml -> C:\\ProgramData\\jupyter\\nbextensions\\scroll_down\\config.yaml\n",
      "[I 22:55:07 InstallContribNbextensionsApp] Copying: C:\\Users\\ejrgu\\anaconda3\\envs\\bigdata3\\lib\\site-packages\\jupyter_contrib_nbextensions\\nbextensions\\scroll_down\\icon.png -> C:\\ProgramData\\jupyter\\nbextensions\\scroll_down\\icon.png\n",
      "[I 22:55:07 InstallContribNbextensionsApp] Copying: C:\\Users\\ejrgu\\anaconda3\\envs\\bigdata3\\lib\\site-packages\\jupyter_contrib_nbextensions\\nbextensions\\scroll_down\\main.js -> C:\\ProgramData\\jupyter\\nbextensions\\scroll_down\\main.js\n",
      "[I 22:55:07 InstallContribNbextensionsApp] Copying: C:\\Users\\ejrgu\\anaconda3\\envs\\bigdata3\\lib\\site-packages\\jupyter_contrib_nbextensions\\nbextensions\\scroll_down\\readme.md -> C:\\ProgramData\\jupyter\\nbextensions\\scroll_down\\readme.md\n",
      "[I 22:55:07 InstallContribNbextensionsApp] - Validating: ok\n",
      "[I 22:55:07 InstallContribNbextensionsApp] Installing C:\\Users\\ejrgu\\anaconda3\\envs\\bigdata3\\lib\\site-packages\\jupyter_contrib_nbextensions\\nbextensions\\select_keymap -> select_keymap\n",
      "[I 22:55:07 InstallContribNbextensionsApp] Making directory: C:\\ProgramData\\jupyter\\nbextensions\\select_keymap\\\n",
      "[I 22:55:07 InstallContribNbextensionsApp] Copying: C:\\Users\\ejrgu\\anaconda3\\envs\\bigdata3\\lib\\site-packages\\jupyter_contrib_nbextensions\\nbextensions\\select_keymap\\main.js -> C:\\ProgramData\\jupyter\\nbextensions\\select_keymap\\main.js\n",
      "[I 22:55:07 InstallContribNbextensionsApp] Copying: C:\\Users\\ejrgu\\anaconda3\\envs\\bigdata3\\lib\\site-packages\\jupyter_contrib_nbextensions\\nbextensions\\select_keymap\\README.md -> C:\\ProgramData\\jupyter\\nbextensions\\select_keymap\\README.md\n",
      "[I 22:55:07 InstallContribNbextensionsApp] Copying: C:\\Users\\ejrgu\\anaconda3\\envs\\bigdata3\\lib\\site-packages\\jupyter_contrib_nbextensions\\nbextensions\\select_keymap\\select_keymap.png -> C:\\ProgramData\\jupyter\\nbextensions\\select_keymap\\select_keymap.png\n",
      "[I 22:55:07 InstallContribNbextensionsApp] Copying: C:\\Users\\ejrgu\\anaconda3\\envs\\bigdata3\\lib\\site-packages\\jupyter_contrib_nbextensions\\nbextensions\\select_keymap\\select_keymap.yaml -> C:\\ProgramData\\jupyter\\nbextensions\\select_keymap\\select_keymap.yaml\n",
      "[I 22:55:07 InstallContribNbextensionsApp] - Validating: ok\n",
      "[I 22:55:07 InstallContribNbextensionsApp] Installing C:\\Users\\ejrgu\\anaconda3\\envs\\bigdata3\\lib\\site-packages\\jupyter_contrib_nbextensions\\nbextensions\\skill -> skill\n",
      "[I 22:55:07 InstallContribNbextensionsApp] Making directory: C:\\ProgramData\\jupyter\\nbextensions\\skill\\\n",
      "[I 22:55:07 InstallContribNbextensionsApp] Copying: C:\\Users\\ejrgu\\anaconda3\\envs\\bigdata3\\lib\\site-packages\\jupyter_contrib_nbextensions\\nbextensions\\skill\\main.js -> C:\\ProgramData\\jupyter\\nbextensions\\skill\\main.js\n",
      "[I 22:55:07 InstallContribNbextensionsApp] Copying: C:\\Users\\ejrgu\\anaconda3\\envs\\bigdata3\\lib\\site-packages\\jupyter_contrib_nbextensions\\nbextensions\\skill\\README.md -> C:\\ProgramData\\jupyter\\nbextensions\\skill\\README.md\n",
      "[I 22:55:07 InstallContribNbextensionsApp] Copying: C:\\Users\\ejrgu\\anaconda3\\envs\\bigdata3\\lib\\site-packages\\jupyter_contrib_nbextensions\\nbextensions\\skill\\skill.js -> C:\\ProgramData\\jupyter\\nbextensions\\skill\\skill.js\n",
      "[I 22:55:07 InstallContribNbextensionsApp] Copying: C:\\Users\\ejrgu\\anaconda3\\envs\\bigdata3\\lib\\site-packages\\jupyter_contrib_nbextensions\\nbextensions\\skill\\skill.yaml -> C:\\ProgramData\\jupyter\\nbextensions\\skill\\skill.yaml\n",
      "[I 22:55:07 InstallContribNbextensionsApp] - Validating: ok\n",
      "[I 22:55:07 InstallContribNbextensionsApp] Installing C:\\Users\\ejrgu\\anaconda3\\envs\\bigdata3\\lib\\site-packages\\jupyter_contrib_nbextensions\\nbextensions\\skip-traceback -> skip-traceback\n",
      "[I 22:55:07 InstallContribNbextensionsApp] Making directory: C:\\ProgramData\\jupyter\\nbextensions\\skip-traceback\\\n",
      "[I 22:55:07 InstallContribNbextensionsApp] Copying: C:\\Users\\ejrgu\\anaconda3\\envs\\bigdata3\\lib\\site-packages\\jupyter_contrib_nbextensions\\nbextensions\\skip-traceback\\icon.png -> C:\\ProgramData\\jupyter\\nbextensions\\skip-traceback\\icon.png\n",
      "[I 22:55:07 InstallContribNbextensionsApp] Copying: C:\\Users\\ejrgu\\anaconda3\\envs\\bigdata3\\lib\\site-packages\\jupyter_contrib_nbextensions\\nbextensions\\skip-traceback\\main.js -> C:\\ProgramData\\jupyter\\nbextensions\\skip-traceback\\main.js\n",
      "[I 22:55:07 InstallContribNbextensionsApp] Copying: C:\\Users\\ejrgu\\anaconda3\\envs\\bigdata3\\lib\\site-packages\\jupyter_contrib_nbextensions\\nbextensions\\skip-traceback\\readme.md -> C:\\ProgramData\\jupyter\\nbextensions\\skip-traceback\\readme.md\n",
      "[I 22:55:07 InstallContribNbextensionsApp] Copying: C:\\Users\\ejrgu\\anaconda3\\envs\\bigdata3\\lib\\site-packages\\jupyter_contrib_nbextensions\\nbextensions\\skip-traceback\\skip-traceback.png -> C:\\ProgramData\\jupyter\\nbextensions\\skip-traceback\\skip-traceback.png\n",
      "[I 22:55:07 InstallContribNbextensionsApp] Copying: C:\\Users\\ejrgu\\anaconda3\\envs\\bigdata3\\lib\\site-packages\\jupyter_contrib_nbextensions\\nbextensions\\skip-traceback\\skip-traceback.yaml -> C:\\ProgramData\\jupyter\\nbextensions\\skip-traceback\\skip-traceback.yaml\n",
      "[I 22:55:07 InstallContribNbextensionsApp] Copying: C:\\Users\\ejrgu\\anaconda3\\envs\\bigdata3\\lib\\site-packages\\jupyter_contrib_nbextensions\\nbextensions\\skip-traceback\\traceback.png -> C:\\ProgramData\\jupyter\\nbextensions\\skip-traceback\\traceback.png\n",
      "[I 22:55:07 InstallContribNbextensionsApp] - Validating: ok\n",
      "[I 22:55:07 InstallContribNbextensionsApp] Installing C:\\Users\\ejrgu\\anaconda3\\envs\\bigdata3\\lib\\site-packages\\jupyter_contrib_nbextensions\\nbextensions\\snippets -> snippets\n",
      "[I 22:55:07 InstallContribNbextensionsApp] Making directory: C:\\ProgramData\\jupyter\\nbextensions\\snippets\\\n",
      "[I 22:55:07 InstallContribNbextensionsApp] Copying: C:\\Users\\ejrgu\\anaconda3\\envs\\bigdata3\\lib\\site-packages\\jupyter_contrib_nbextensions\\nbextensions\\snippets\\main.js -> C:\\ProgramData\\jupyter\\nbextensions\\snippets\\main.js\n",
      "[I 22:55:07 InstallContribNbextensionsApp] Copying: C:\\Users\\ejrgu\\anaconda3\\envs\\bigdata3\\lib\\site-packages\\jupyter_contrib_nbextensions\\nbextensions\\snippets\\README.md -> C:\\ProgramData\\jupyter\\nbextensions\\snippets\\README.md\n",
      "[I 22:55:07 InstallContribNbextensionsApp] Copying: C:\\Users\\ejrgu\\anaconda3\\envs\\bigdata3\\lib\\site-packages\\jupyter_contrib_nbextensions\\nbextensions\\snippets\\snippets-demo.gif -> C:\\ProgramData\\jupyter\\nbextensions\\snippets\\snippets-demo.gif\n",
      "[I 22:55:07 InstallContribNbextensionsApp] Copying: C:\\Users\\ejrgu\\anaconda3\\envs\\bigdata3\\lib\\site-packages\\jupyter_contrib_nbextensions\\nbextensions\\snippets\\snippets.json -> C:\\ProgramData\\jupyter\\nbextensions\\snippets\\snippets.json\n",
      "[I 22:55:07 InstallContribNbextensionsApp] Copying: C:\\Users\\ejrgu\\anaconda3\\envs\\bigdata3\\lib\\site-packages\\jupyter_contrib_nbextensions\\nbextensions\\snippets\\snippets.yaml -> C:\\ProgramData\\jupyter\\nbextensions\\snippets\\snippets.yaml\n",
      "[I 22:55:07 InstallContribNbextensionsApp] - Validating: ok\n",
      "[I 22:55:07 InstallContribNbextensionsApp] Installing C:\\Users\\ejrgu\\anaconda3\\envs\\bigdata3\\lib\\site-packages\\jupyter_contrib_nbextensions\\nbextensions\\snippets_menu -> snippets_menu\n",
      "[I 22:55:07 InstallContribNbextensionsApp] Making directory: C:\\ProgramData\\jupyter\\nbextensions\\snippets_menu\\\n",
      "[I 22:55:07 InstallContribNbextensionsApp] Copying: C:\\Users\\ejrgu\\anaconda3\\envs\\bigdata3\\lib\\site-packages\\jupyter_contrib_nbextensions\\nbextensions\\snippets_menu\\config.yaml -> C:\\ProgramData\\jupyter\\nbextensions\\snippets_menu\\config.yaml\n",
      "[I 22:55:07 InstallContribNbextensionsApp] Copying: C:\\Users\\ejrgu\\anaconda3\\envs\\bigdata3\\lib\\site-packages\\jupyter_contrib_nbextensions\\nbextensions\\snippets_menu\\examples_for_custom.js -> C:\\ProgramData\\jupyter\\nbextensions\\snippets_menu\\examples_for_custom.js\n",
      "[I 22:55:07 InstallContribNbextensionsApp] Copying: C:\\Users\\ejrgu\\anaconda3\\envs\\bigdata3\\lib\\site-packages\\jupyter_contrib_nbextensions\\nbextensions\\snippets_menu\\main.js -> C:\\ProgramData\\jupyter\\nbextensions\\snippets_menu\\main.js\n",
      "[I 22:55:07 InstallContribNbextensionsApp] Copying: C:\\Users\\ejrgu\\anaconda3\\envs\\bigdata3\\lib\\site-packages\\jupyter_contrib_nbextensions\\nbextensions\\snippets_menu\\readme.md -> C:\\ProgramData\\jupyter\\nbextensions\\snippets_menu\\readme.md\n",
      "[I 22:55:07 InstallContribNbextensionsApp] Copying: C:\\Users\\ejrgu\\anaconda3\\envs\\bigdata3\\lib\\site-packages\\jupyter_contrib_nbextensions\\nbextensions\\snippets_menu\\screenshot1.png -> C:\\ProgramData\\jupyter\\nbextensions\\snippets_menu\\screenshot1.png\n",
      "[I 22:55:07 InstallContribNbextensionsApp] Copying: C:\\Users\\ejrgu\\anaconda3\\envs\\bigdata3\\lib\\site-packages\\jupyter_contrib_nbextensions\\nbextensions\\snippets_menu\\screenshot2.png -> C:\\ProgramData\\jupyter\\nbextensions\\snippets_menu\\screenshot2.png\n",
      "[I 22:55:07 InstallContribNbextensionsApp] Copying: C:\\Users\\ejrgu\\anaconda3\\envs\\bigdata3\\lib\\site-packages\\jupyter_contrib_nbextensions\\nbextensions\\snippets_menu\\screenshot3.png -> C:\\ProgramData\\jupyter\\nbextensions\\snippets_menu\\screenshot3.png\n",
      "[I 22:55:07 InstallContribNbextensionsApp] Copying: C:\\Users\\ejrgu\\anaconda3\\envs\\bigdata3\\lib\\site-packages\\jupyter_contrib_nbextensions\\nbextensions\\snippets_menu\\snippets_menu.css -> C:\\ProgramData\\jupyter\\nbextensions\\snippets_menu\\snippets_menu.css\n",
      "[I 22:55:07 InstallContribNbextensionsApp] Copying: C:\\Users\\ejrgu\\anaconda3\\envs\\bigdata3\\lib\\site-packages\\jupyter_contrib_nbextensions\\nbextensions\\snippets_menu\\snippets_submenu_markdown.js -> C:\\ProgramData\\jupyter\\nbextensions\\snippets_menu\\snippets_submenu_markdown.js\n",
      "[I 22:55:07 InstallContribNbextensionsApp] Copying: C:\\Users\\ejrgu\\anaconda3\\envs\\bigdata3\\lib\\site-packages\\jupyter_contrib_nbextensions\\nbextensions\\snippets_menu\\snippets_submenu_python.js -> C:\\ProgramData\\jupyter\\nbextensions\\snippets_menu\\snippets_submenu_python.js\n",
      "[I 22:55:07 InstallContribNbextensionsApp] Copying: C:\\Users\\ejrgu\\anaconda3\\envs\\bigdata3\\lib\\site-packages\\jupyter_contrib_nbextensions\\nbextensions\\snippets_menu\\thumbnail.png -> C:\\ProgramData\\jupyter\\nbextensions\\snippets_menu\\thumbnail.png\n",
      "[I 22:55:07 InstallContribNbextensionsApp] Making directory: C:\\ProgramData\\jupyter\\nbextensions\\snippets_menu\\snippets_submenus_python\n",
      "[I 22:55:07 InstallContribNbextensionsApp] Copying: C:\\Users\\ejrgu\\anaconda3\\envs\\bigdata3\\lib\\site-packages\\jupyter_contrib_nbextensions\\nbextensions\\snippets_menu\\snippets_submenus_python\\astropy.js -> C:\\ProgramData\\jupyter\\nbextensions\\snippets_menu\\snippets_submenus_python\\astropy.js\n",
      "[I 22:55:07 InstallContribNbextensionsApp] Copying: C:\\Users\\ejrgu\\anaconda3\\envs\\bigdata3\\lib\\site-packages\\jupyter_contrib_nbextensions\\nbextensions\\snippets_menu\\snippets_submenus_python\\h5py.js -> C:\\ProgramData\\jupyter\\nbextensions\\snippets_menu\\snippets_submenus_python\\h5py.js\n",
      "[I 22:55:07 InstallContribNbextensionsApp] Copying: C:\\Users\\ejrgu\\anaconda3\\envs\\bigdata3\\lib\\site-packages\\jupyter_contrib_nbextensions\\nbextensions\\snippets_menu\\snippets_submenus_python\\matplotlib.js -> C:\\ProgramData\\jupyter\\nbextensions\\snippets_menu\\snippets_submenus_python\\matplotlib.js\n",
      "[I 22:55:07 InstallContribNbextensionsApp] Copying: C:\\Users\\ejrgu\\anaconda3\\envs\\bigdata3\\lib\\site-packages\\jupyter_contrib_nbextensions\\nbextensions\\snippets_menu\\snippets_submenus_python\\numba.js -> C:\\ProgramData\\jupyter\\nbextensions\\snippets_menu\\snippets_submenus_python\\numba.js\n",
      "[I 22:55:07 InstallContribNbextensionsApp] Copying: C:\\Users\\ejrgu\\anaconda3\\envs\\bigdata3\\lib\\site-packages\\jupyter_contrib_nbextensions\\nbextensions\\snippets_menu\\snippets_submenus_python\\numpy.js -> C:\\ProgramData\\jupyter\\nbextensions\\snippets_menu\\snippets_submenus_python\\numpy.js\n",
      "[I 22:55:07 InstallContribNbextensionsApp] Copying: C:\\Users\\ejrgu\\anaconda3\\envs\\bigdata3\\lib\\site-packages\\jupyter_contrib_nbextensions\\nbextensions\\snippets_menu\\snippets_submenus_python\\numpy_polynomial.js -> C:\\ProgramData\\jupyter\\nbextensions\\snippets_menu\\snippets_submenus_python\\numpy_polynomial.js\n",
      "[I 22:55:07 InstallContribNbextensionsApp] Copying: C:\\Users\\ejrgu\\anaconda3\\envs\\bigdata3\\lib\\site-packages\\jupyter_contrib_nbextensions\\nbextensions\\snippets_menu\\snippets_submenus_python\\numpy_ufuncs.js -> C:\\ProgramData\\jupyter\\nbextensions\\snippets_menu\\snippets_submenus_python\\numpy_ufuncs.js\n",
      "[I 22:55:07 InstallContribNbextensionsApp] Copying: C:\\Users\\ejrgu\\anaconda3\\envs\\bigdata3\\lib\\site-packages\\jupyter_contrib_nbextensions\\nbextensions\\snippets_menu\\snippets_submenus_python\\pandas.js -> C:\\ProgramData\\jupyter\\nbextensions\\snippets_menu\\snippets_submenus_python\\pandas.js\n",
      "[I 22:55:07 InstallContribNbextensionsApp] Copying: C:\\Users\\ejrgu\\anaconda3\\envs\\bigdata3\\lib\\site-packages\\jupyter_contrib_nbextensions\\nbextensions\\snippets_menu\\snippets_submenus_python\\python.js -> C:\\ProgramData\\jupyter\\nbextensions\\snippets_menu\\snippets_submenus_python\\python.js\n",
      "[I 22:55:07 InstallContribNbextensionsApp] Copying: C:\\Users\\ejrgu\\anaconda3\\envs\\bigdata3\\lib\\site-packages\\jupyter_contrib_nbextensions\\nbextensions\\snippets_menu\\snippets_submenus_python\\python_regex.js -> C:\\ProgramData\\jupyter\\nbextensions\\snippets_menu\\snippets_submenus_python\\python_regex.js\n",
      "[I 22:55:07 InstallContribNbextensionsApp] Copying: C:\\Users\\ejrgu\\anaconda3\\envs\\bigdata3\\lib\\site-packages\\jupyter_contrib_nbextensions\\nbextensions\\snippets_menu\\snippets_submenus_python\\scipy.js -> C:\\ProgramData\\jupyter\\nbextensions\\snippets_menu\\snippets_submenus_python\\scipy.js\n",
      "[I 22:55:07 InstallContribNbextensionsApp] Copying: C:\\Users\\ejrgu\\anaconda3\\envs\\bigdata3\\lib\\site-packages\\jupyter_contrib_nbextensions\\nbextensions\\snippets_menu\\snippets_submenus_python\\scipy_constants.js -> C:\\ProgramData\\jupyter\\nbextensions\\snippets_menu\\snippets_submenus_python\\scipy_constants.js\n",
      "[I 22:55:07 InstallContribNbextensionsApp] Copying: C:\\Users\\ejrgu\\anaconda3\\envs\\bigdata3\\lib\\site-packages\\jupyter_contrib_nbextensions\\nbextensions\\snippets_menu\\snippets_submenus_python\\scipy_special.js -> C:\\ProgramData\\jupyter\\nbextensions\\snippets_menu\\snippets_submenus_python\\scipy_special.js\n",
      "[I 22:55:07 InstallContribNbextensionsApp] Copying: C:\\Users\\ejrgu\\anaconda3\\envs\\bigdata3\\lib\\site-packages\\jupyter_contrib_nbextensions\\nbextensions\\snippets_menu\\snippets_submenus_python\\sympy.js -> C:\\ProgramData\\jupyter\\nbextensions\\snippets_menu\\snippets_submenus_python\\sympy.js\n",
      "[I 22:55:07 InstallContribNbextensionsApp] Copying: C:\\Users\\ejrgu\\anaconda3\\envs\\bigdata3\\lib\\site-packages\\jupyter_contrib_nbextensions\\nbextensions\\snippets_menu\\snippets_submenus_python\\sympy_assumptions.js -> C:\\ProgramData\\jupyter\\nbextensions\\snippets_menu\\snippets_submenus_python\\sympy_assumptions.js\n",
      "[I 22:55:07 InstallContribNbextensionsApp] Copying: C:\\Users\\ejrgu\\anaconda3\\envs\\bigdata3\\lib\\site-packages\\jupyter_contrib_nbextensions\\nbextensions\\snippets_menu\\snippets_submenus_python\\sympy_functions.js -> C:\\ProgramData\\jupyter\\nbextensions\\snippets_menu\\snippets_submenus_python\\sympy_functions.js\n",
      "[I 22:55:07 InstallContribNbextensionsApp] - Validating: ok\n",
      "[I 22:55:07 InstallContribNbextensionsApp] Installing C:\\Users\\ejrgu\\anaconda3\\envs\\bigdata3\\lib\\site-packages\\jupyter_contrib_nbextensions\\nbextensions\\spellchecker -> spellchecker\n",
      "[I 22:55:07 InstallContribNbextensionsApp] Making directory: C:\\ProgramData\\jupyter\\nbextensions\\spellchecker\\\n",
      "[I 22:55:07 InstallContribNbextensionsApp] Copying: C:\\Users\\ejrgu\\anaconda3\\envs\\bigdata3\\lib\\site-packages\\jupyter_contrib_nbextensions\\nbextensions\\spellchecker\\config.yaml -> C:\\ProgramData\\jupyter\\nbextensions\\spellchecker\\config.yaml\n",
      "[I 22:55:07 InstallContribNbextensionsApp] Copying: C:\\Users\\ejrgu\\anaconda3\\envs\\bigdata3\\lib\\site-packages\\jupyter_contrib_nbextensions\\nbextensions\\spellchecker\\download_new_dict.py -> C:\\ProgramData\\jupyter\\nbextensions\\spellchecker\\download_new_dict.py\n",
      "[I 22:55:07 InstallContribNbextensionsApp] Copying: C:\\Users\\ejrgu\\anaconda3\\envs\\bigdata3\\lib\\site-packages\\jupyter_contrib_nbextensions\\nbextensions\\spellchecker\\main.css -> C:\\ProgramData\\jupyter\\nbextensions\\spellchecker\\main.css\n",
      "[I 22:55:07 InstallContribNbextensionsApp] Copying: C:\\Users\\ejrgu\\anaconda3\\envs\\bigdata3\\lib\\site-packages\\jupyter_contrib_nbextensions\\nbextensions\\spellchecker\\main.js -> C:\\ProgramData\\jupyter\\nbextensions\\spellchecker\\main.js\n",
      "[I 22:55:07 InstallContribNbextensionsApp] Copying: C:\\Users\\ejrgu\\anaconda3\\envs\\bigdata3\\lib\\site-packages\\jupyter_contrib_nbextensions\\nbextensions\\spellchecker\\README.md -> C:\\ProgramData\\jupyter\\nbextensions\\spellchecker\\README.md\n",
      "[I 22:55:07 InstallContribNbextensionsApp] Copying: C:\\Users\\ejrgu\\anaconda3\\envs\\bigdata3\\lib\\site-packages\\jupyter_contrib_nbextensions\\nbextensions\\spellchecker\\screenshot.png -> C:\\ProgramData\\jupyter\\nbextensions\\spellchecker\\screenshot.png\n",
      "[I 22:55:07 InstallContribNbextensionsApp] Making directory: C:\\ProgramData\\jupyter\\nbextensions\\spellchecker\\typo\n",
      "[I 22:55:07 InstallContribNbextensionsApp] Copying: C:\\Users\\ejrgu\\anaconda3\\envs\\bigdata3\\lib\\site-packages\\jupyter_contrib_nbextensions\\nbextensions\\spellchecker\\typo\\LICENSE.txt -> C:\\ProgramData\\jupyter\\nbextensions\\spellchecker\\typo\\LICENSE.txt\n",
      "[I 22:55:07 InstallContribNbextensionsApp] Copying: C:\\Users\\ejrgu\\anaconda3\\envs\\bigdata3\\lib\\site-packages\\jupyter_contrib_nbextensions\\nbextensions\\spellchecker\\typo\\typo.js -> C:\\ProgramData\\jupyter\\nbextensions\\spellchecker\\typo\\typo.js\n",
      "[I 22:55:07 InstallContribNbextensionsApp] Making directory: C:\\ProgramData\\jupyter\\nbextensions\\spellchecker\\__pycache__\n",
      "[I 22:55:07 InstallContribNbextensionsApp] Copying: C:\\Users\\ejrgu\\anaconda3\\envs\\bigdata3\\lib\\site-packages\\jupyter_contrib_nbextensions\\nbextensions\\spellchecker\\__pycache__\\download_new_dict.cpython-37.pyc -> C:\\ProgramData\\jupyter\\nbextensions\\spellchecker\\__pycache__\\download_new_dict.cpython-37.pyc\n",
      "[I 22:55:07 InstallContribNbextensionsApp] - Validating: ok\n",
      "[I 22:55:07 InstallContribNbextensionsApp] Installing C:\\Users\\ejrgu\\anaconda3\\envs\\bigdata3\\lib\\site-packages\\jupyter_contrib_nbextensions\\nbextensions\\splitcell -> splitcell\n",
      "[I 22:55:07 InstallContribNbextensionsApp] Making directory: C:\\ProgramData\\jupyter\\nbextensions\\splitcell\\\n",
      "[I 22:55:07 InstallContribNbextensionsApp] Copying: C:\\Users\\ejrgu\\anaconda3\\envs\\bigdata3\\lib\\site-packages\\jupyter_contrib_nbextensions\\nbextensions\\splitcell\\icon.png -> C:\\ProgramData\\jupyter\\nbextensions\\splitcell\\icon.png\n",
      "[I 22:55:07 InstallContribNbextensionsApp] Copying: C:\\Users\\ejrgu\\anaconda3\\envs\\bigdata3\\lib\\site-packages\\jupyter_contrib_nbextensions\\nbextensions\\splitcell\\readme.md -> C:\\ProgramData\\jupyter\\nbextensions\\splitcell\\readme.md\n",
      "[I 22:55:07 InstallContribNbextensionsApp] Copying: C:\\Users\\ejrgu\\anaconda3\\envs\\bigdata3\\lib\\site-packages\\jupyter_contrib_nbextensions\\nbextensions\\splitcell\\splitcell.js -> C:\\ProgramData\\jupyter\\nbextensions\\splitcell\\splitcell.js\n",
      "[I 22:55:07 InstallContribNbextensionsApp] Copying: C:\\Users\\ejrgu\\anaconda3\\envs\\bigdata3\\lib\\site-packages\\jupyter_contrib_nbextensions\\nbextensions\\splitcell\\splitcell.yaml -> C:\\ProgramData\\jupyter\\nbextensions\\splitcell\\splitcell.yaml\n",
      "[I 22:55:07 InstallContribNbextensionsApp] - Validating: ok\n",
      "[I 22:55:07 InstallContribNbextensionsApp] Installing C:\\Users\\ejrgu\\anaconda3\\envs\\bigdata3\\lib\\site-packages\\jupyter_contrib_nbextensions\\nbextensions\\table_beautifier -> table_beautifier\n",
      "[I 22:55:07 InstallContribNbextensionsApp] Making directory: C:\\ProgramData\\jupyter\\nbextensions\\table_beautifier\\\n",
      "[I 22:55:07 InstallContribNbextensionsApp] Copying: C:\\Users\\ejrgu\\anaconda3\\envs\\bigdata3\\lib\\site-packages\\jupyter_contrib_nbextensions\\nbextensions\\table_beautifier\\main.css -> C:\\ProgramData\\jupyter\\nbextensions\\table_beautifier\\main.css\n",
      "[I 22:55:07 InstallContribNbextensionsApp] Copying: C:\\Users\\ejrgu\\anaconda3\\envs\\bigdata3\\lib\\site-packages\\jupyter_contrib_nbextensions\\nbextensions\\table_beautifier\\main.js -> C:\\ProgramData\\jupyter\\nbextensions\\table_beautifier\\main.js\n",
      "[I 22:55:07 InstallContribNbextensionsApp] Copying: C:\\Users\\ejrgu\\anaconda3\\envs\\bigdata3\\lib\\site-packages\\jupyter_contrib_nbextensions\\nbextensions\\table_beautifier\\README.md -> C:\\ProgramData\\jupyter\\nbextensions\\table_beautifier\\README.md\n",
      "[I 22:55:07 InstallContribNbextensionsApp] Copying: C:\\Users\\ejrgu\\anaconda3\\envs\\bigdata3\\lib\\site-packages\\jupyter_contrib_nbextensions\\nbextensions\\table_beautifier\\table_beautifier.yaml -> C:\\ProgramData\\jupyter\\nbextensions\\table_beautifier\\table_beautifier.yaml\n",
      "[I 22:55:07 InstallContribNbextensionsApp] - Validating: ok\n",
      "[I 22:55:07 InstallContribNbextensionsApp] Installing C:\\Users\\ejrgu\\anaconda3\\envs\\bigdata3\\lib\\site-packages\\jupyter_contrib_nbextensions\\nbextensions\\toc2 -> toc2\n",
      "[I 22:55:07 InstallContribNbextensionsApp] Making directory: C:\\ProgramData\\jupyter\\nbextensions\\toc2\\\n",
      "[I 22:55:07 InstallContribNbextensionsApp] Copying: C:\\Users\\ejrgu\\anaconda3\\envs\\bigdata3\\lib\\site-packages\\jupyter_contrib_nbextensions\\nbextensions\\toc2\\demo.gif -> C:\\ProgramData\\jupyter\\nbextensions\\toc2\\demo.gif\n",
      "[I 22:55:07 InstallContribNbextensionsApp] Copying: C:\\Users\\ejrgu\\anaconda3\\envs\\bigdata3\\lib\\site-packages\\jupyter_contrib_nbextensions\\nbextensions\\toc2\\demo2.gif -> C:\\ProgramData\\jupyter\\nbextensions\\toc2\\demo2.gif\n",
      "[I 22:55:07 InstallContribNbextensionsApp] Copying: C:\\Users\\ejrgu\\anaconda3\\envs\\bigdata3\\lib\\site-packages\\jupyter_contrib_nbextensions\\nbextensions\\toc2\\demo3.gif -> C:\\ProgramData\\jupyter\\nbextensions\\toc2\\demo3.gif\n",
      "[I 22:55:07 InstallContribNbextensionsApp] Copying: C:\\Users\\ejrgu\\anaconda3\\envs\\bigdata3\\lib\\site-packages\\jupyter_contrib_nbextensions\\nbextensions\\toc2\\demo_dark.png -> C:\\ProgramData\\jupyter\\nbextensions\\toc2\\demo_dark.png\n",
      "[I 22:55:07 InstallContribNbextensionsApp] Copying: C:\\Users\\ejrgu\\anaconda3\\envs\\bigdata3\\lib\\site-packages\\jupyter_contrib_nbextensions\\nbextensions\\toc2\\icon.png -> C:\\ProgramData\\jupyter\\nbextensions\\toc2\\icon.png\n",
      "[I 22:55:07 InstallContribNbextensionsApp] Copying: C:\\Users\\ejrgu\\anaconda3\\envs\\bigdata3\\lib\\site-packages\\jupyter_contrib_nbextensions\\nbextensions\\toc2\\image.png -> C:\\ProgramData\\jupyter\\nbextensions\\toc2\\image.png\n",
      "[I 22:55:07 InstallContribNbextensionsApp] Copying: C:\\Users\\ejrgu\\anaconda3\\envs\\bigdata3\\lib\\site-packages\\jupyter_contrib_nbextensions\\nbextensions\\toc2\\main.css -> C:\\ProgramData\\jupyter\\nbextensions\\toc2\\main.css\n",
      "[I 22:55:07 InstallContribNbextensionsApp] Copying: C:\\Users\\ejrgu\\anaconda3\\envs\\bigdata3\\lib\\site-packages\\jupyter_contrib_nbextensions\\nbextensions\\toc2\\main.js -> C:\\ProgramData\\jupyter\\nbextensions\\toc2\\main.js\n",
      "[I 22:55:07 InstallContribNbextensionsApp] Copying: C:\\Users\\ejrgu\\anaconda3\\envs\\bigdata3\\lib\\site-packages\\jupyter_contrib_nbextensions\\nbextensions\\toc2\\README.md -> C:\\ProgramData\\jupyter\\nbextensions\\toc2\\README.md\n",
      "[I 22:55:07 InstallContribNbextensionsApp] Copying: C:\\Users\\ejrgu\\anaconda3\\envs\\bigdata3\\lib\\site-packages\\jupyter_contrib_nbextensions\\nbextensions\\toc2\\toc2.js -> C:\\ProgramData\\jupyter\\nbextensions\\toc2\\toc2.js\n",
      "[I 22:55:07 InstallContribNbextensionsApp] Copying: C:\\Users\\ejrgu\\anaconda3\\envs\\bigdata3\\lib\\site-packages\\jupyter_contrib_nbextensions\\nbextensions\\toc2\\toc2.yaml -> C:\\ProgramData\\jupyter\\nbextensions\\toc2\\toc2.yaml\n",
      "[I 22:55:07 InstallContribNbextensionsApp] - Validating: ok\n",
      "[I 22:55:07 InstallContribNbextensionsApp] Installing C:\\Users\\ejrgu\\anaconda3\\envs\\bigdata3\\lib\\site-packages\\jupyter_contrib_nbextensions\\nbextensions\\toggle_all_line_numbers -> toggle_all_line_numbers\n",
      "[I 22:55:07 InstallContribNbextensionsApp] Making directory: C:\\ProgramData\\jupyter\\nbextensions\\toggle_all_line_numbers\\\n",
      "[I 22:55:07 InstallContribNbextensionsApp] Copying: C:\\Users\\ejrgu\\anaconda3\\envs\\bigdata3\\lib\\site-packages\\jupyter_contrib_nbextensions\\nbextensions\\toggle_all_line_numbers\\icon.png -> C:\\ProgramData\\jupyter\\nbextensions\\toggle_all_line_numbers\\icon.png\n",
      "[I 22:55:07 InstallContribNbextensionsApp] Copying: C:\\Users\\ejrgu\\anaconda3\\envs\\bigdata3\\lib\\site-packages\\jupyter_contrib_nbextensions\\nbextensions\\toggle_all_line_numbers\\main.js -> C:\\ProgramData\\jupyter\\nbextensions\\toggle_all_line_numbers\\main.js\n",
      "[I 22:55:07 InstallContribNbextensionsApp] Copying: C:\\Users\\ejrgu\\anaconda3\\envs\\bigdata3\\lib\\site-packages\\jupyter_contrib_nbextensions\\nbextensions\\toggle_all_line_numbers\\main.yaml -> C:\\ProgramData\\jupyter\\nbextensions\\toggle_all_line_numbers\\main.yaml\n",
      "[I 22:55:07 InstallContribNbextensionsApp] Copying: C:\\Users\\ejrgu\\anaconda3\\envs\\bigdata3\\lib\\site-packages\\jupyter_contrib_nbextensions\\nbextensions\\toggle_all_line_numbers\\readme.md -> C:\\ProgramData\\jupyter\\nbextensions\\toggle_all_line_numbers\\readme.md\n",
      "[I 22:55:07 InstallContribNbextensionsApp] - Validating: ok\n",
      "[I 22:55:07 InstallContribNbextensionsApp] Installing C:\\Users\\ejrgu\\anaconda3\\envs\\bigdata3\\lib\\site-packages\\jupyter_contrib_nbextensions\\nbextensions\\tree-filter -> tree-filter\n",
      "[I 22:55:07 InstallContribNbextensionsApp] Making directory: C:\\ProgramData\\jupyter\\nbextensions\\tree-filter\\\n",
      "[I 22:55:07 InstallContribNbextensionsApp] Copying: C:\\Users\\ejrgu\\anaconda3\\envs\\bigdata3\\lib\\site-packages\\jupyter_contrib_nbextensions\\nbextensions\\tree-filter\\demo.gif -> C:\\ProgramData\\jupyter\\nbextensions\\tree-filter\\demo.gif\n",
      "[I 22:55:07 InstallContribNbextensionsApp] Copying: C:\\Users\\ejrgu\\anaconda3\\envs\\bigdata3\\lib\\site-packages\\jupyter_contrib_nbextensions\\nbextensions\\tree-filter\\index.js -> C:\\ProgramData\\jupyter\\nbextensions\\tree-filter\\index.js\n",
      "[I 22:55:07 InstallContribNbextensionsApp] Copying: C:\\Users\\ejrgu\\anaconda3\\envs\\bigdata3\\lib\\site-packages\\jupyter_contrib_nbextensions\\nbextensions\\tree-filter\\readme.md -> C:\\ProgramData\\jupyter\\nbextensions\\tree-filter\\readme.md\n",
      "[I 22:55:07 InstallContribNbextensionsApp] Copying: C:\\Users\\ejrgu\\anaconda3\\envs\\bigdata3\\lib\\site-packages\\jupyter_contrib_nbextensions\\nbextensions\\tree-filter\\tree-filter.yaml -> C:\\ProgramData\\jupyter\\nbextensions\\tree-filter\\tree-filter.yaml\n",
      "[I 22:55:07 InstallContribNbextensionsApp] - Validating: ok\n",
      "[I 22:55:07 InstallContribNbextensionsApp] Installing C:\\Users\\ejrgu\\anaconda3\\envs\\bigdata3\\lib\\site-packages\\jupyter_contrib_nbextensions\\nbextensions\\varInspector -> varInspector\n",
      "[I 22:55:07 InstallContribNbextensionsApp] Making directory: C:\\ProgramData\\jupyter\\nbextensions\\varInspector\\\n",
      "[I 22:55:07 InstallContribNbextensionsApp] Copying: C:\\Users\\ejrgu\\anaconda3\\envs\\bigdata3\\lib\\site-packages\\jupyter_contrib_nbextensions\\nbextensions\\varInspector\\demo.gif -> C:\\ProgramData\\jupyter\\nbextensions\\varInspector\\demo.gif\n",
      "[I 22:55:07 InstallContribNbextensionsApp] Copying: C:\\Users\\ejrgu\\anaconda3\\envs\\bigdata3\\lib\\site-packages\\jupyter_contrib_nbextensions\\nbextensions\\varInspector\\icon.png -> C:\\ProgramData\\jupyter\\nbextensions\\varInspector\\icon.png\n",
      "[I 22:55:07 InstallContribNbextensionsApp] Copying: C:\\Users\\ejrgu\\anaconda3\\envs\\bigdata3\\lib\\site-packages\\jupyter_contrib_nbextensions\\nbextensions\\varInspector\\jquery.tablesorter.min.js -> C:\\ProgramData\\jupyter\\nbextensions\\varInspector\\jquery.tablesorter.min.js\n",
      "[I 22:55:07 InstallContribNbextensionsApp] Copying: C:\\Users\\ejrgu\\anaconda3\\envs\\bigdata3\\lib\\site-packages\\jupyter_contrib_nbextensions\\nbextensions\\varInspector\\main.css -> C:\\ProgramData\\jupyter\\nbextensions\\varInspector\\main.css\n",
      "[I 22:55:07 InstallContribNbextensionsApp] Copying: C:\\Users\\ejrgu\\anaconda3\\envs\\bigdata3\\lib\\site-packages\\jupyter_contrib_nbextensions\\nbextensions\\varInspector\\main.js -> C:\\ProgramData\\jupyter\\nbextensions\\varInspector\\main.js\n",
      "[I 22:55:07 InstallContribNbextensionsApp] Copying: C:\\Users\\ejrgu\\anaconda3\\envs\\bigdata3\\lib\\site-packages\\jupyter_contrib_nbextensions\\nbextensions\\varInspector\\README.md -> C:\\ProgramData\\jupyter\\nbextensions\\varInspector\\README.md\n",
      "[I 22:55:07 InstallContribNbextensionsApp] Copying: C:\\Users\\ejrgu\\anaconda3\\envs\\bigdata3\\lib\\site-packages\\jupyter_contrib_nbextensions\\nbextensions\\varInspector\\tablesorter_LICENSE.txt -> C:\\ProgramData\\jupyter\\nbextensions\\varInspector\\tablesorter_LICENSE.txt\n",
      "[I 22:55:07 InstallContribNbextensionsApp] Copying: C:\\Users\\ejrgu\\anaconda3\\envs\\bigdata3\\lib\\site-packages\\jupyter_contrib_nbextensions\\nbextensions\\varInspector\\varInspector.yaml -> C:\\ProgramData\\jupyter\\nbextensions\\varInspector\\varInspector.yaml\n",
      "[I 22:55:07 InstallContribNbextensionsApp] Copying: C:\\Users\\ejrgu\\anaconda3\\envs\\bigdata3\\lib\\site-packages\\jupyter_contrib_nbextensions\\nbextensions\\varInspector\\var_list.py -> C:\\ProgramData\\jupyter\\nbextensions\\varInspector\\var_list.py\n",
      "[I 22:55:07 InstallContribNbextensionsApp] Copying: C:\\Users\\ejrgu\\anaconda3\\envs\\bigdata3\\lib\\site-packages\\jupyter_contrib_nbextensions\\nbextensions\\varInspector\\var_list.r -> C:\\ProgramData\\jupyter\\nbextensions\\varInspector\\var_list.r\n",
      "[I 22:55:07 InstallContribNbextensionsApp] Making directory: C:\\ProgramData\\jupyter\\nbextensions\\varInspector\\__pycache__\n",
      "[I 22:55:07 InstallContribNbextensionsApp] Copying: C:\\Users\\ejrgu\\anaconda3\\envs\\bigdata3\\lib\\site-packages\\jupyter_contrib_nbextensions\\nbextensions\\varInspector\\__pycache__\\var_list.cpython-37.pyc -> C:\\ProgramData\\jupyter\\nbextensions\\varInspector\\__pycache__\\var_list.cpython-37.pyc\n",
      "[I 22:55:07 InstallContribNbextensionsApp] - Validating: ok\n",
      "[I 22:55:07 InstallContribNbextensionsApp] Installing C:\\Users\\ejrgu\\anaconda3\\envs\\bigdata3\\lib\\site-packages\\jupyter_contrib_nbextensions\\nbextensions\\zenmode -> zenmode\n",
      "[I 22:55:07 InstallContribNbextensionsApp] Making directory: C:\\ProgramData\\jupyter\\nbextensions\\zenmode\\\n",
      "[I 22:55:07 InstallContribNbextensionsApp] Copying: C:\\Users\\ejrgu\\anaconda3\\envs\\bigdata3\\lib\\site-packages\\jupyter_contrib_nbextensions\\nbextensions\\zenmode\\main.css -> C:\\ProgramData\\jupyter\\nbextensions\\zenmode\\main.css\n",
      "[I 22:55:07 InstallContribNbextensionsApp] Copying: C:\\Users\\ejrgu\\anaconda3\\envs\\bigdata3\\lib\\site-packages\\jupyter_contrib_nbextensions\\nbextensions\\zenmode\\main.js -> C:\\ProgramData\\jupyter\\nbextensions\\zenmode\\main.js\n",
      "[I 22:55:07 InstallContribNbextensionsApp] Copying: C:\\Users\\ejrgu\\anaconda3\\envs\\bigdata3\\lib\\site-packages\\jupyter_contrib_nbextensions\\nbextensions\\zenmode\\README.md -> C:\\ProgramData\\jupyter\\nbextensions\\zenmode\\README.md\n",
      "[I 22:55:07 InstallContribNbextensionsApp] Copying: C:\\Users\\ejrgu\\anaconda3\\envs\\bigdata3\\lib\\site-packages\\jupyter_contrib_nbextensions\\nbextensions\\zenmode\\zenmode.yaml -> C:\\ProgramData\\jupyter\\nbextensions\\zenmode\\zenmode.yaml\n",
      "[I 22:55:07 InstallContribNbextensionsApp] Making directory: C:\\ProgramData\\jupyter\\nbextensions\\zenmode\\images\n",
      "[I 22:55:07 InstallContribNbextensionsApp] Copying: C:\\Users\\ejrgu\\anaconda3\\envs\\bigdata3\\lib\\site-packages\\jupyter_contrib_nbextensions\\nbextensions\\zenmode\\images\\back1.jpg -> C:\\ProgramData\\jupyter\\nbextensions\\zenmode\\images\\back1.jpg\n",
      "[I 22:55:07 InstallContribNbextensionsApp] Copying: C:\\Users\\ejrgu\\anaconda3\\envs\\bigdata3\\lib\\site-packages\\jupyter_contrib_nbextensions\\nbextensions\\zenmode\\images\\back11.jpg -> C:\\ProgramData\\jupyter\\nbextensions\\zenmode\\images\\back11.jpg\n",
      "[I 22:55:07 InstallContribNbextensionsApp] Copying: C:\\Users\\ejrgu\\anaconda3\\envs\\bigdata3\\lib\\site-packages\\jupyter_contrib_nbextensions\\nbextensions\\zenmode\\images\\back12.jpg -> C:\\ProgramData\\jupyter\\nbextensions\\zenmode\\images\\back12.jpg\n",
      "[I 22:55:07 InstallContribNbextensionsApp] Copying: C:\\Users\\ejrgu\\anaconda3\\envs\\bigdata3\\lib\\site-packages\\jupyter_contrib_nbextensions\\nbextensions\\zenmode\\images\\back2.jpg -> C:\\ProgramData\\jupyter\\nbextensions\\zenmode\\images\\back2.jpg\n",
      "[I 22:55:07 InstallContribNbextensionsApp] Copying: C:\\Users\\ejrgu\\anaconda3\\envs\\bigdata3\\lib\\site-packages\\jupyter_contrib_nbextensions\\nbextensions\\zenmode\\images\\back21.jpg -> C:\\ProgramData\\jupyter\\nbextensions\\zenmode\\images\\back21.jpg\n",
      "[I 22:55:07 InstallContribNbextensionsApp] Copying: C:\\Users\\ejrgu\\anaconda3\\envs\\bigdata3\\lib\\site-packages\\jupyter_contrib_nbextensions\\nbextensions\\zenmode\\images\\back22.jpg -> C:\\ProgramData\\jupyter\\nbextensions\\zenmode\\images\\back22.jpg\n",
      "[I 22:55:07 InstallContribNbextensionsApp] Copying: C:\\Users\\ejrgu\\anaconda3\\envs\\bigdata3\\lib\\site-packages\\jupyter_contrib_nbextensions\\nbextensions\\zenmode\\images\\back3.jpg -> C:\\ProgramData\\jupyter\\nbextensions\\zenmode\\images\\back3.jpg\n",
      "[I 22:55:07 InstallContribNbextensionsApp] Copying: C:\\Users\\ejrgu\\anaconda3\\envs\\bigdata3\\lib\\site-packages\\jupyter_contrib_nbextensions\\nbextensions\\zenmode\\images\\ipynblogo0.png -> C:\\ProgramData\\jupyter\\nbextensions\\zenmode\\images\\ipynblogo0.png\n",
      "[I 22:55:07 InstallContribNbextensionsApp] Copying: C:\\Users\\ejrgu\\anaconda3\\envs\\bigdata3\\lib\\site-packages\\jupyter_contrib_nbextensions\\nbextensions\\zenmode\\images\\ipynblogo1.png -> C:\\ProgramData\\jupyter\\nbextensions\\zenmode\\images\\ipynblogo1.png\n",
      "[I 22:55:07 InstallContribNbextensionsApp] - Validating: ok\n",
      "[I 22:55:07 InstallContribNbextensionsApp] Installing C:\\Users\\ejrgu\\anaconda3\\envs\\bigdata3\\lib\\site-packages\\jupyter_highlight_selected_word\\static\\highlight_selected_word -> highlight_selected_word\n",
      "[I 22:55:07 InstallContribNbextensionsApp] Making directory: C:\\ProgramData\\jupyter\\nbextensions\\highlight_selected_word\\\n",
      "[I 22:55:07 InstallContribNbextensionsApp] Copying: C:\\Users\\ejrgu\\anaconda3\\envs\\bigdata3\\lib\\site-packages\\jupyter_highlight_selected_word\\static\\highlight_selected_word\\configurator.yaml -> C:\\ProgramData\\jupyter\\nbextensions\\highlight_selected_word\\configurator.yaml\n",
      "[I 22:55:07 InstallContribNbextensionsApp] Copying: C:\\Users\\ejrgu\\anaconda3\\envs\\bigdata3\\lib\\site-packages\\jupyter_highlight_selected_word\\static\\highlight_selected_word\\main.js -> C:\\ProgramData\\jupyter\\nbextensions\\highlight_selected_word\\main.js\n",
      "[I 22:55:07 InstallContribNbextensionsApp] Copying: C:\\Users\\ejrgu\\anaconda3\\envs\\bigdata3\\lib\\site-packages\\jupyter_highlight_selected_word\\static\\highlight_selected_word\\README.md -> C:\\ProgramData\\jupyter\\nbextensions\\highlight_selected_word\\README.md\n",
      "[I 22:55:07 InstallContribNbextensionsApp] - Validating: ok\n",
      "[I 22:55:07 InstallContribNbextensionsApp] Installing C:\\Users\\ejrgu\\anaconda3\\envs\\bigdata3\\lib\\site-packages\\latex_envs\\static -> latex_envs\n",
      "[I 22:55:07 InstallContribNbextensionsApp] Making directory: C:\\ProgramData\\jupyter\\nbextensions\\latex_envs\\\n",
      "[I 22:55:07 InstallContribNbextensionsApp] Copying: C:\\Users\\ejrgu\\anaconda3\\envs\\bigdata3\\lib\\site-packages\\latex_envs\\static\\bibInNb4.js -> C:\\ProgramData\\jupyter\\nbextensions\\latex_envs\\bibInNb4.js\n",
      "[I 22:55:07 InstallContribNbextensionsApp] Copying: C:\\Users\\ejrgu\\anaconda3\\envs\\bigdata3\\lib\\site-packages\\latex_envs\\static\\bibtex2.js -> C:\\ProgramData\\jupyter\\nbextensions\\latex_envs\\bibtex2.js\n",
      "[I 22:55:07 InstallContribNbextensionsApp] Copying: C:\\Users\\ejrgu\\anaconda3\\envs\\bigdata3\\lib\\site-packages\\latex_envs\\static\\configuration_toolbar.png -> C:\\ProgramData\\jupyter\\nbextensions\\latex_envs\\configuration_toolbar.png\n",
      "[I 22:55:07 InstallContribNbextensionsApp] Copying: C:\\Users\\ejrgu\\anaconda3\\envs\\bigdata3\\lib\\site-packages\\latex_envs\\static\\envsLatex.js -> C:\\ProgramData\\jupyter\\nbextensions\\latex_envs\\envsLatex.js\n",
      "[I 22:55:07 InstallContribNbextensionsApp] Copying: C:\\Users\\ejrgu\\anaconda3\\envs\\bigdata3\\lib\\site-packages\\latex_envs\\static\\envsLatex.json -> C:\\ProgramData\\jupyter\\nbextensions\\latex_envs\\envsLatex.json\n",
      "[I 22:55:07 InstallContribNbextensionsApp] Copying: C:\\Users\\ejrgu\\anaconda3\\envs\\bigdata3\\lib\\site-packages\\latex_envs\\static\\example.png -> C:\\ProgramData\\jupyter\\nbextensions\\latex_envs\\example.png\n",
      "[I 22:55:07 InstallContribNbextensionsApp] Copying: C:\\Users\\ejrgu\\anaconda3\\envs\\bigdata3\\lib\\site-packages\\latex_envs\\static\\example_user_envs.json -> C:\\ProgramData\\jupyter\\nbextensions\\latex_envs\\example_user_envs.json\n",
      "[I 22:55:07 InstallContribNbextensionsApp] Copying: C:\\Users\\ejrgu\\anaconda3\\envs\\bigdata3\\lib\\site-packages\\latex_envs\\static\\icon.png -> C:\\ProgramData\\jupyter\\nbextensions\\latex_envs\\icon.png\n",
      "[I 22:55:07 InstallContribNbextensionsApp] Copying: C:\\Users\\ejrgu\\anaconda3\\envs\\bigdata3\\lib\\site-packages\\latex_envs\\static\\initNb.js -> C:\\ProgramData\\jupyter\\nbextensions\\latex_envs\\initNb.js\n",
      "[I 22:55:07 InstallContribNbextensionsApp] Copying: C:\\Users\\ejrgu\\anaconda3\\envs\\bigdata3\\lib\\site-packages\\latex_envs\\static\\latex_envs.css -> C:\\ProgramData\\jupyter\\nbextensions\\latex_envs\\latex_envs.css\n",
      "[I 22:55:07 InstallContribNbextensionsApp] Copying: C:\\Users\\ejrgu\\anaconda3\\envs\\bigdata3\\lib\\site-packages\\latex_envs\\static\\latex_envs.js -> C:\\ProgramData\\jupyter\\nbextensions\\latex_envs\\latex_envs.js\n",
      "[I 22:55:08 InstallContribNbextensionsApp] Copying: C:\\Users\\ejrgu\\anaconda3\\envs\\bigdata3\\lib\\site-packages\\latex_envs\\static\\latex_envs.yaml -> C:\\ProgramData\\jupyter\\nbextensions\\latex_envs\\latex_envs.yaml\n",
      "[I 22:55:08 InstallContribNbextensionsApp] Copying: C:\\Users\\ejrgu\\anaconda3\\envs\\bigdata3\\lib\\site-packages\\latex_envs\\static\\main_toolbar.png -> C:\\ProgramData\\jupyter\\nbextensions\\latex_envs\\main_toolbar.png\n",
      "[I 22:55:08 InstallContribNbextensionsApp] Copying: C:\\Users\\ejrgu\\anaconda3\\envs\\bigdata3\\lib\\site-packages\\latex_envs\\static\\README.md -> C:\\ProgramData\\jupyter\\nbextensions\\latex_envs\\README.md\n",
      "[I 22:55:08 InstallContribNbextensionsApp] Copying: C:\\Users\\ejrgu\\anaconda3\\envs\\bigdata3\\lib\\site-packages\\latex_envs\\static\\thmsInNb4.js -> C:\\ProgramData\\jupyter\\nbextensions\\latex_envs\\thmsInNb4.js\n",
      "[I 22:55:08 InstallContribNbextensionsApp] Making directory: C:\\ProgramData\\jupyter\\nbextensions\\latex_envs\\doc\n",
      "[I 22:55:08 InstallContribNbextensionsApp] Copying: C:\\Users\\ejrgu\\anaconda3\\envs\\bigdata3\\lib\\site-packages\\latex_envs\\static\\doc\\biblio_ipython.bib -> C:\\ProgramData\\jupyter\\nbextensions\\latex_envs\\doc\\biblio_ipython.bib\n",
      "[I 22:55:08 InstallContribNbextensionsApp] Copying: C:\\Users\\ejrgu\\anaconda3\\envs\\bigdata3\\lib\\site-packages\\latex_envs\\static\\doc\\configuration_toolbar.png -> C:\\ProgramData\\jupyter\\nbextensions\\latex_envs\\doc\\configuration_toolbar.png\n",
      "[I 22:55:08 InstallContribNbextensionsApp] Copying: C:\\Users\\ejrgu\\anaconda3\\envs\\bigdata3\\lib\\site-packages\\latex_envs\\static\\doc\\config_toolbar.png -> C:\\ProgramData\\jupyter\\nbextensions\\latex_envs\\doc\\config_toolbar.png\n",
      "[I 22:55:08 InstallContribNbextensionsApp] Copying: C:\\Users\\ejrgu\\anaconda3\\envs\\bigdata3\\lib\\site-packages\\latex_envs\\static\\doc\\documentation.pdf -> C:\\ProgramData\\jupyter\\nbextensions\\latex_envs\\doc\\documentation.pdf\n",
      "[I 22:55:08 InstallContribNbextensionsApp] Copying: C:\\Users\\ejrgu\\anaconda3\\envs\\bigdata3\\lib\\site-packages\\latex_envs\\static\\doc\\documentation.tex -> C:\\ProgramData\\jupyter\\nbextensions\\latex_envs\\doc\\documentation.tex\n",
      "[I 22:55:08 InstallContribNbextensionsApp] Copying: C:\\Users\\ejrgu\\anaconda3\\envs\\bigdata3\\lib\\site-packages\\latex_envs\\static\\doc\\example.png -> C:\\ProgramData\\jupyter\\nbextensions\\latex_envs\\doc\\example.png\n",
      "[I 22:55:08 InstallContribNbextensionsApp] Copying: C:\\Users\\ejrgu\\anaconda3\\envs\\bigdata3\\lib\\site-packages\\latex_envs\\static\\doc\\header.tex -> C:\\ProgramData\\jupyter\\nbextensions\\latex_envs\\doc\\header.tex\n",
      "[I 22:55:08 InstallContribNbextensionsApp] Copying: C:\\Users\\ejrgu\\anaconda3\\envs\\bigdata3\\lib\\site-packages\\latex_envs\\static\\doc\\IEEEtran.bst -> C:\\ProgramData\\jupyter\\nbextensions\\latex_envs\\doc\\IEEEtran.bst\n",
      "[I 22:55:08 InstallContribNbextensionsApp] Copying: C:\\Users\\ejrgu\\anaconda3\\envs\\bigdata3\\lib\\site-packages\\latex_envs\\static\\doc\\LaTeX_envs_menu.png -> C:\\ProgramData\\jupyter\\nbextensions\\latex_envs\\doc\\LaTeX_envs_menu.png\n",
      "[I 22:55:08 InstallContribNbextensionsApp] Copying: C:\\Users\\ejrgu\\anaconda3\\envs\\bigdata3\\lib\\site-packages\\latex_envs\\static\\doc\\latex_env_doc.html -> C:\\ProgramData\\jupyter\\nbextensions\\latex_envs\\doc\\latex_env_doc.html\n",
      "[I 22:55:08 InstallContribNbextensionsApp] Copying: C:\\Users\\ejrgu\\anaconda3\\envs\\bigdata3\\lib\\site-packages\\latex_envs\\static\\doc\\latex_env_doc.ipynb -> C:\\ProgramData\\jupyter\\nbextensions\\latex_envs\\doc\\latex_env_doc.ipynb\n",
      "[I 22:55:08 InstallContribNbextensionsApp] Copying: C:\\Users\\ejrgu\\anaconda3\\envs\\bigdata3\\lib\\site-packages\\latex_envs\\static\\doc\\latex_env_doc.tex -> C:\\ProgramData\\jupyter\\nbextensions\\latex_envs\\doc\\latex_env_doc.tex\n",
      "[I 22:55:08 InstallContribNbextensionsApp] Copying: C:\\Users\\ejrgu\\anaconda3\\envs\\bigdata3\\lib\\site-packages\\latex_envs\\static\\doc\\main_toolbar.png -> C:\\ProgramData\\jupyter\\nbextensions\\latex_envs\\doc\\main_toolbar.png\n",
      "[I 22:55:08 InstallContribNbextensionsApp] Copying: C:\\Users\\ejrgu\\anaconda3\\envs\\bigdata3\\lib\\site-packages\\latex_envs\\static\\doc\\README.md -> C:\\ProgramData\\jupyter\\nbextensions\\latex_envs\\doc\\README.md\n",
      "[I 22:55:08 InstallContribNbextensionsApp] Copying: C:\\Users\\ejrgu\\anaconda3\\envs\\bigdata3\\lib\\site-packages\\latex_envs\\static\\doc\\Toggles.png -> C:\\ProgramData\\jupyter\\nbextensions\\latex_envs\\doc\\Toggles.png\n",
      "[I 22:55:08 InstallContribNbextensionsApp] Making directory: C:\\ProgramData\\jupyter\\nbextensions\\latex_envs\\doc\\.ipynb_checkpoints\n",
      "[I 22:55:08 InstallContribNbextensionsApp] Copying: C:\\Users\\ejrgu\\anaconda3\\envs\\bigdata3\\lib\\site-packages\\latex_envs\\static\\doc\\.ipynb_checkpoints\\latex_env_doc-checkpoint.ipynb -> C:\\ProgramData\\jupyter\\nbextensions\\latex_envs\\doc\\.ipynb_checkpoints\\latex_env_doc-checkpoint.ipynb\n",
      "[I 22:55:08 InstallContribNbextensionsApp] Making directory: C:\\ProgramData\\jupyter\\nbextensions\\latex_envs\\doc\\latex_env_doc_files\n",
      "[I 22:55:08 InstallContribNbextensionsApp] Copying: C:\\Users\\ejrgu\\anaconda3\\envs\\bigdata3\\lib\\site-packages\\latex_envs\\static\\doc\\latex_env_doc_files\\latex_env_doc_23_2.png -> C:\\ProgramData\\jupyter\\nbextensions\\latex_envs\\doc\\latex_env_doc_files\\latex_env_doc_23_2.png\n",
      "[I 22:55:08 InstallContribNbextensionsApp] Copying: C:\\Users\\ejrgu\\anaconda3\\envs\\bigdata3\\lib\\site-packages\\latex_envs\\static\\doc\\latex_env_doc_files\\latex_env_doc_24_2.png -> C:\\ProgramData\\jupyter\\nbextensions\\latex_envs\\doc\\latex_env_doc_files\\latex_env_doc_24_2.png\n",
      "[I 22:55:08 InstallContribNbextensionsApp] Copying: C:\\Users\\ejrgu\\anaconda3\\envs\\bigdata3\\lib\\site-packages\\latex_envs\\static\\doc\\latex_env_doc_files\\latex_env_doc_26_2.png -> C:\\ProgramData\\jupyter\\nbextensions\\latex_envs\\doc\\latex_env_doc_files\\latex_env_doc_26_2.png\n",
      "[I 22:55:08 InstallContribNbextensionsApp] Copying: C:\\Users\\ejrgu\\anaconda3\\envs\\bigdata3\\lib\\site-packages\\latex_envs\\static\\doc\\latex_env_doc_files\\latex_env_doc_27_2.png -> C:\\ProgramData\\jupyter\\nbextensions\\latex_envs\\doc\\latex_env_doc_files\\latex_env_doc_27_2.png\n",
      "[I 22:55:08 InstallContribNbextensionsApp] Copying: C:\\Users\\ejrgu\\anaconda3\\envs\\bigdata3\\lib\\site-packages\\latex_envs\\static\\doc\\latex_env_doc_files\\latex_env_doc_41_0.png -> C:\\ProgramData\\jupyter\\nbextensions\\latex_envs\\doc\\latex_env_doc_files\\latex_env_doc_41_0.png\n",
      "[I 22:55:08 InstallContribNbextensionsApp] Copying: C:\\Users\\ejrgu\\anaconda3\\envs\\bigdata3\\lib\\site-packages\\latex_envs\\static\\doc\\latex_env_doc_files\\latex_env_doc_42_0.png -> C:\\ProgramData\\jupyter\\nbextensions\\latex_envs\\doc\\latex_env_doc_files\\latex_env_doc_42_0.png\n",
      "[I 22:55:08 InstallContribNbextensionsApp] Copying: C:\\Users\\ejrgu\\anaconda3\\envs\\bigdata3\\lib\\site-packages\\latex_envs\\static\\doc\\latex_env_doc_files\\latex_env_doc_43_0.png -> C:\\ProgramData\\jupyter\\nbextensions\\latex_envs\\doc\\latex_env_doc_files\\latex_env_doc_43_0.png\n",
      "[I 22:55:08 InstallContribNbextensionsApp] Copying: C:\\Users\\ejrgu\\anaconda3\\envs\\bigdata3\\lib\\site-packages\\latex_envs\\static\\doc\\latex_env_doc_files\\latex_env_doc_44_0.png -> C:\\ProgramData\\jupyter\\nbextensions\\latex_envs\\doc\\latex_env_doc_files\\latex_env_doc_44_0.png\n",
      "[I 22:55:08 InstallContribNbextensionsApp] Copying: C:\\Users\\ejrgu\\anaconda3\\envs\\bigdata3\\lib\\site-packages\\latex_envs\\static\\doc\\latex_env_doc_files\\latex_env_doc_45_0.png -> C:\\ProgramData\\jupyter\\nbextensions\\latex_envs\\doc\\latex_env_doc_files\\latex_env_doc_45_0.png\n",
      "[I 22:55:08 InstallContribNbextensionsApp] Copying: C:\\Users\\ejrgu\\anaconda3\\envs\\bigdata3\\lib\\site-packages\\latex_envs\\static\\doc\\latex_env_doc_files\\latex_env_doc_46_0.png -> C:\\ProgramData\\jupyter\\nbextensions\\latex_envs\\doc\\latex_env_doc_files\\latex_env_doc_46_0.png\n",
      "[I 22:55:08 InstallContribNbextensionsApp] Copying: C:\\Users\\ejrgu\\anaconda3\\envs\\bigdata3\\lib\\site-packages\\latex_envs\\static\\doc\\latex_env_doc_files\\latex_env_doc_47_0.png -> C:\\ProgramData\\jupyter\\nbextensions\\latex_envs\\doc\\latex_env_doc_files\\latex_env_doc_47_0.png\n",
      "[I 22:55:08 InstallContribNbextensionsApp] Copying: C:\\Users\\ejrgu\\anaconda3\\envs\\bigdata3\\lib\\site-packages\\latex_envs\\static\\doc\\latex_env_doc_files\\latex_env_doc_48_0.png -> C:\\ProgramData\\jupyter\\nbextensions\\latex_envs\\doc\\latex_env_doc_files\\latex_env_doc_48_0.png\n",
      "[I 22:55:08 InstallContribNbextensionsApp] Copying: C:\\Users\\ejrgu\\anaconda3\\envs\\bigdata3\\lib\\site-packages\\latex_envs\\static\\doc\\latex_env_doc_files\\latex_env_doc_49_0.png -> C:\\ProgramData\\jupyter\\nbextensions\\latex_envs\\doc\\latex_env_doc_files\\latex_env_doc_49_0.png\n",
      "[I 22:55:08 InstallContribNbextensionsApp] Copying: C:\\Users\\ejrgu\\anaconda3\\envs\\bigdata3\\lib\\site-packages\\latex_envs\\static\\doc\\latex_env_doc_files\\latex_env_doc_50_0.png -> C:\\ProgramData\\jupyter\\nbextensions\\latex_envs\\doc\\latex_env_doc_files\\latex_env_doc_50_0.png\n",
      "[I 22:55:08 InstallContribNbextensionsApp] Copying: C:\\Users\\ejrgu\\anaconda3\\envs\\bigdata3\\lib\\site-packages\\latex_envs\\static\\doc\\latex_env_doc_files\\latex_env_doc_51_0.png -> C:\\ProgramData\\jupyter\\nbextensions\\latex_envs\\doc\\latex_env_doc_files\\latex_env_doc_51_0.png\n",
      "[I 22:55:08 InstallContribNbextensionsApp] Copying: C:\\Users\\ejrgu\\anaconda3\\envs\\bigdata3\\lib\\site-packages\\latex_envs\\static\\doc\\latex_env_doc_files\\latex_env_doc_52_0.png -> C:\\ProgramData\\jupyter\\nbextensions\\latex_envs\\doc\\latex_env_doc_files\\latex_env_doc_52_0.png\n",
      "[I 22:55:08 InstallContribNbextensionsApp] - Validating: ok\n",
      "[I 22:55:08 InstallContribNbextensionsApp] Installing jupyter_contrib_nbextensions items to config in C:\\ProgramData\\jupyter\n",
      "Enabling: jupyter_nbextensions_configurator\n",
      "- Writing config: C:\\ProgramData\\jupyter\n",
      "    - Validating...\n",
      "      jupyter_nbextensions_configurator 0.4.1 ok\n",
      "Enabling notebook nbextension nbextensions_configurator/config_menu/main...\n",
      "Enabling tree nbextension nbextensions_configurator/tree_tab/main...\n",
      "[I 22:55:08 InstallContribNbextensionsApp] Enabling notebook extension contrib_nbextensions_help_item/main...\n",
      "[I 22:55:08 InstallContribNbextensionsApp]       - Validating: ok\n",
      "[I 22:55:08 InstallContribNbextensionsApp] - Editing config: C:\\ProgramData\\jupyter\\jupyter_nbconvert_config.json\n",
      "[I 22:55:08 InstallContribNbextensionsApp] --  Configuring nbconvert template path\n",
      "[I 22:55:08 InstallContribNbextensionsApp] --  Configuring nbconvert preprocessors\n",
      "[I 22:55:08 InstallContribNbextensionsApp] - Writing config: C:\\ProgramData\\jupyter\\jupyter_nbconvert_config.json\n",
      "[I 22:55:08 InstallContribNbextensionsApp] --  Writing updated config file C:\\ProgramData\\jupyter\\jupyter_nbconvert_config.json\n"
     ]
    }
   ],
   "source": [
    "!pip install jupyter_contrib_nbextensions && jupyter contrib nbextension install\n"
   ]
  },
  {
   "cell_type": "markdown",
   "id": "7df0b7a6",
   "metadata": {},
   "source": [
    "#### 남녀 파트너 정해주기 프로그램(zip)\n",
    "같은 수의 남녀 모임에서 파트너를 랜덤하게 정해주는 프로그램을 만들어 보세요\n",
    "\n",
    "male = ['철수','갑돌','로미오','이몽룡','온돌']\n",
    "\n",
    "female = ['미미','갑순','줄리엣','성춘향','평강']"
   ]
  },
  {
   "cell_type": "markdown",
   "id": "5e68030f",
   "metadata": {},
   "source": [
    "#### 사용자가 입력한 횟수만큼 로또 변호를 출력하는 프로그램을 작성하세요. (중복 금지)\n",
    "[도전과제] 발표자를 원하는 수만큼 랜덤하게 출력하는 프로그램을 작성하세요."
   ]
  },
  {
   "cell_type": "code",
   "execution_count": null,
   "id": "31170ad1",
   "metadata": {},
   "outputs": [],
   "source": [
    "import random \n",
    "import numpy as np\n",
    "\n",
    "\n",
    "list = ['박영권','김현지','김덕현','변서연','한지웅','양주희','이호원','정지은','이정현A',\n",
    "         '이정현B','이명진','이상윤','조승현','강유한','김영선','최애림','김민섭','박혜린',\n",
    "         '윤정준','김진형','정승기','진청아','신창훈','김병석','박세희']\n",
    "\n",
    "\n",
    "\n",
    "print(\"=============== CAKD7 발표자 랜덤 뽑기 입니다.===============\"'\\n')\n",
    "                        \n",
    "get_ran_num = int(input(\" 발표 인원을 입력해주세요 >  \"'\\n')) \n",
    "\n",
    "\n",
    "lucky_guy = random.sample(list,get_ran_num)\n",
    "\n",
    "print(\" \")\n",
    "for i in range(get_ran_num):\n",
    "    print(f'{i+1}번 문제 발표자는 {lucky_guy[i]} 입니다.')"
   ]
  },
  {
   "cell_type": "markdown",
   "id": "75a72514",
   "metadata": {},
   "source": [
    "#### 입력받은 문자열의 각 문자를 그 다음 문자로 변경하여 출력하세요. abc -> bca"
   ]
  },
  {
   "cell_type": "markdown",
   "id": "85c3682e",
   "metadata": {},
   "source": [
    "#### url에서 호스트 도메인을 추출하여 출력하세요.\n",
    "url = 'http://news.naver.com/main/read.nhn?mode=LSD&mid=shm&sid1=105&oid=028&aid=0002334601'"
   ]
  },
  {
   "cell_type": "markdown",
   "id": "3f5621e8",
   "metadata": {},
   "source": [
    "#### url에서 쿼리문을 추출하여 출력하세요.\n",
    "url에서 '?'뒤에 표시되는 문자열을 쿼리 문자열이라고 하며 변수=값 사이 &로 구분되어 나열된다.\n",
    "url = 'http://news.naver.com/main/read.nhn?mode=LSD&mid=shm&sid1=105&oid=028&aid=0002334601'"
   ]
  },
  {
   "cell_type": "markdown",
   "id": "d4949bbc",
   "metadata": {},
   "source": [
    "#### 텍스트 파일(mydata.txt)을 읽고 파일의 내용에서 나타나는 문자들에 대해 자주 나타나는 문자들을 아래와 같이 순서대로 출력하세요.\n",
    "```\n",
    "[ ] -> [177]회 나타남\n",
    "[e] -> [97]회 나타남\n",
    "[t] -> [85]회 나타남\n",
    "```"
   ]
  },
  {
   "cell_type": "markdown",
   "id": "23524a7b",
   "metadata": {},
   "source": [
    "#### 두개의 수를 입력한 후 두개의 수에 대한 사칙연산을 수행하세요.(0을 입력한 경우 다시 입력하도록 조치)\n",
    "Cal4 클래스를 만들어서 작성"
   ]
  },
  {
   "cell_type": "markdown",
   "id": "22d3d21f",
   "metadata": {},
   "source": [
    "#### Order 클래스를 상속받아 extraOrder 클래스에서 메소드 오버라이딩하여 출력가격에 원이 추가되도록 출력하세요."
   ]
  },
  {
   "cell_type": "code",
   "execution_count": null,
   "id": "da111ccd",
   "metadata": {},
   "outputs": [],
   "source": [
    "class Order: \n",
    "    def __init__(self, name): \n",
    "        self.customer = 0 \n",
    "        self.name = name \n",
    "    def order(self, price): \n",
    "        self.customer += price \n",
    "        return self.customer\n",
    "    \n",
    "order = Order('kevin')\n",
    "print(order.order(1000))"
   ]
  },
  {
   "cell_type": "markdown",
   "id": "56897d60",
   "metadata": {},
   "source": [
    "#### 업무미팅이 2시임을 알려주는 자동 이메일을 클래스 AutoEmail을 작성하여 아래와 같이 출력하세요.\n",
    "안녕하세요. Kevin님, 업무미팅은 2시입니다."
   ]
  },
  {
   "cell_type": "markdown",
   "id": "53b59629",
   "metadata": {},
   "source": [
    "#### 정규 표현식을 사용하여 text에서 전화번호만 출력하세요.\n",
    "text=\"문의사항이 있으면 032-232-3245으로 연락주시기 바랍니다.\""
   ]
  },
  {
   "cell_type": "code",
   "execution_count": 1,
   "id": "96340e61",
   "metadata": {},
   "outputs": [
    {
     "data": {
      "text/plain": [
       "['032', '232', '3245']"
      ]
     },
     "execution_count": 1,
     "metadata": {},
     "output_type": "execute_result"
    }
   ],
   "source": [
    "import re\n",
    "text=\"문의사항이 있으면 032-232-3245으로 연락주시기 바랍니다.\"\n",
    "p = re.compile(\"[0-9]+\")\n",
    "p.findall(text)"
   ]
  },
  {
   "cell_type": "markdown",
   "id": "84d7ab62",
   "metadata": {},
   "source": [
    "#### 정규표현식을 사용하여 text에서 에러가 들어간 부분만 포함하는 리스트를 출력하세요.\n",
    "text=\"에러 1122,레퍼런스 오류, 에러 1033, 아규먼트 오류, 에러 xxx\""
   ]
  },
  {
   "cell_type": "code",
   "execution_count": 2,
   "id": "48ea8279",
   "metadata": {},
   "outputs": [
    {
     "data": {
      "text/plain": [
       "['에러 1122', '에러 1033', '에러 xxx']"
      ]
     },
     "execution_count": 2,
     "metadata": {},
     "output_type": "execute_result"
    }
   ],
   "source": [
    "text=\"에러 1122,레퍼런스 오류, 에러 1033, 아규먼트 오류, 에러 xxx\"\n",
    "p=re.compile(\"에러\\s[\\dx]+\")\n",
    "p.findall(text)"
   ]
  },
  {
   "cell_type": "markdown",
   "id": "0b6ae992",
   "metadata": {},
   "source": [
    "#### 정규표현식을 사용하여 text에서 지역코드만 출력하세요.\n",
    "text=\"문의사항이 있으면 032-232-3245으로 연락 주시기 바랍니다.\""
   ]
  },
  {
   "cell_type": "code",
   "execution_count": 3,
   "id": "35d1eaff",
   "metadata": {},
   "outputs": [
    {
     "data": {
      "text/plain": [
       "'032'"
      ]
     },
     "execution_count": 3,
     "metadata": {},
     "output_type": "execute_result"
    }
   ],
   "source": [
    "text=\"문의사항이 있으면 032-232-3245으로 연락 주시기 바랍니다.\"\n",
    "p=re.compile(\"[\\d]{3}\")\n",
    "p.search(text).group()"
   ]
  },
  {
   "cell_type": "markdown",
   "id": "71812953",
   "metadata": {},
   "source": [
    "#### 정규표현식을 사용하여 text에서 지역코드 제외한 번호만 출력하세요.\n",
    "text=\"문의사항이 있으면 032-232-3245으로 연락주시기 바랍니다.\""
   ]
  },
  {
   "cell_type": "code",
   "execution_count": 7,
   "id": "d78b1f2d",
   "metadata": {},
   "outputs": [
    {
     "data": {
      "text/plain": [
       "[]"
      ]
     },
     "execution_count": 7,
     "metadata": {},
     "output_type": "execute_result"
    }
   ],
   "source": [
    "text=\"문의사항이 있으면 032-232-3245으로 연락주시기 바랍니다.\"\n",
    "p=re.compile(\"(?<=-)\\d{3,4}\")\n",
    "p.findall(text)"
   ]
  },
  {
   "cell_type": "markdown",
   "id": "92442f51",
   "metadata": {},
   "source": [
    "#### Q14.'abcdefghij' 에 대하여 중첩을 적용한 서브그룹 5개로 컴파일하여 group()함수를 이용하여 'abcdefghi'와 e'를 출력하세요\n"
   ]
  },
  {
   "cell_type": "code",
   "execution_count": 5,
   "id": "83e40081",
   "metadata": {},
   "outputs": [
    {
     "data": {
      "text/plain": [
       "('abdefghi', 'e')"
      ]
     },
     "execution_count": 5,
     "metadata": {},
     "output_type": "execute_result"
    }
   ],
   "source": [
    "text='abdefghij'\n",
    "p=re.compile(\"(((abd)(e)(fghi))j)\")\n",
    "p.search(text).group(2), p.search(text).group(4)"
   ]
  },
  {
   "cell_type": "code",
   "execution_count": 8,
   "id": "de17d441",
   "metadata": {},
   "outputs": [
    {
     "name": "stdout",
     "output_type": "stream",
     "text": [
      "abcdefghi\n"
     ]
    },
    {
     "data": {
      "text/plain": [
       "'e'"
      ]
     },
     "execution_count": 8,
     "metadata": {},
     "output_type": "execute_result"
    }
   ],
   "source": [
    "p = re.compile('(a(b(c(d(e)f)g)h)i)j')\n",
    "m = p.match('abcdefghij')\n",
    "# print(m.group(0))\n",
    "print(m.group(1))\n",
    "m.group(5)\n"
   ]
  },
  {
   "cell_type": "markdown",
   "id": "25938a9b",
   "metadata": {},
   "source": [
    "#### 위문제에서 모든 서브 그룹에 대한 문자열을 포함하는 튜플을 출력하세요."
   ]
  },
  {
   "cell_type": "code",
   "execution_count": 6,
   "id": "4c3b6b0e",
   "metadata": {},
   "outputs": [
    {
     "data": {
      "text/plain": [
       "('abdefghij', 'abdefghi', 'abd', 'e', 'fghi')"
      ]
     },
     "execution_count": 6,
     "metadata": {},
     "output_type": "execute_result"
    }
   ],
   "source": [
    "p.search(text).groups()"
   ]
  },
  {
   "cell_type": "markdown",
   "id": "e8e93800",
   "metadata": {},
   "source": [
    "#### Q. 이름으로 그룹을 참조하여 'Lots of punctuation 에서 Lots를 출력하세요.\n",
    "``` 그룹에 이름을 지정하여```"
   ]
  },
  {
   "cell_type": "code",
   "execution_count": 17,
   "id": "835c1e38",
   "metadata": {},
   "outputs": [
    {
     "data": {
      "text/plain": [
       "{'first': 'Lots', 'second': 'of', 'third': 'punctuation'}"
      ]
     },
     "metadata": {},
     "output_type": "display_data"
    },
    {
     "name": "stdout",
     "output_type": "stream",
     "text": [
      "Lots\n"
     ]
    }
   ],
   "source": [
    "import re\n",
    "p=re.compile(r\"(?P<first>\\w+)\\s+((?P<second>\\w+)\\s+(?P<third>\\w+))\")\n",
    "m=p.search(\"Lots of punctuation\")\n",
    "display(m.groupdict())\n",
    "print(m.group(\"first\"))"
   ]
  },
  {
   "cell_type": "markdown",
   "id": "89512d41",
   "metadata": {},
   "source": [
    "#### Q. 'Paris is very very beautiful.'에서 'very very'를 출력하세요.\n"
   ]
  },
  {
   "cell_type": "code",
   "execution_count": 30,
   "id": "33ef9023",
   "metadata": {},
   "outputs": [
    {
     "data": {
      "text/plain": [
       "'very very '"
      ]
     },
     "execution_count": 30,
     "metadata": {},
     "output_type": "execute_result"
    }
   ],
   "source": [
    "p=re.compile(r\"(very\\s){2}\")\n",
    "m=p.search('Paris is very very beautiful.')\n",
    "m.group()"
   ]
  },
  {
   "cell_type": "markdown",
   "id": "f0b54f0f",
   "metadata": {},
   "source": [
    "#### Q. 정규표현식을 작성하여 아래와 같이 출력하세요.\n",
    "['1 apple, 5 oranges, 3 boys, 4 girls; 10 army| 11 mr']"
   ]
  },
  {
   "cell_type": "code",
   "execution_count": 38,
   "id": "1ae3217b",
   "metadata": {},
   "outputs": [
    {
     "name": "stdout",
     "output_type": "stream",
     "text": [
      "['1 apple', '5 oranges', '3 boys', '4 girls', '10 army', '11 mr']\n"
     ]
    }
   ],
   "source": [
    "# Q\n",
    "import re\n",
    "li = '1 apple, 5 oranges, 3 boys, 4 girls; 10 army| 11 mr'\n",
    "regex = re.compile(r\"\\d+\\s\\w+\")\n",
    "list = regex.findall(li)\n",
    "print(list)\n"
   ]
  },
  {
   "cell_type": "markdown",
   "id": "103826f0",
   "metadata": {},
   "source": [
    "#### Q text에서 'H,h'만 출력하세요."
   ]
  },
  {
   "cell_type": "code",
   "execution_count": 42,
   "id": "8bb2db3d",
   "metadata": {},
   "outputs": [],
   "source": [
    "text = 'Hello my friend! Life is short you need Python!'"
   ]
  },
  {
   "cell_type": "code",
   "execution_count": 56,
   "id": "efc8569e",
   "metadata": {},
   "outputs": [
    {
     "data": {
      "text/plain": [
       "['H', 'h', 'h']"
      ]
     },
     "execution_count": 56,
     "metadata": {},
     "output_type": "execute_result"
    }
   ],
   "source": [
    "text = 'Hello my friend! Life is short you need Python!'\n",
    "p=re.compile('h',re.I)\n",
    "m=p.findall(text)\n",
    "m"
   ]
  },
  {
   "cell_type": "markdown",
   "id": "25fa88e5",
   "metadata": {},
   "source": [
    "#### Q. text에서 'H,h'가 아닌 것 모두를 출력하세요."
   ]
  },
  {
   "cell_type": "code",
   "execution_count": 60,
   "id": "f3e4015c",
   "metadata": {},
   "outputs": [
    {
     "data": {
      "text/plain": [
       "['ello my friend! Life is s', 'ort you need Pyt', 'on!']"
      ]
     },
     "execution_count": 60,
     "metadata": {},
     "output_type": "execute_result"
    }
   ],
   "source": [
    "text = 'Hello my friend! Life is short you need Python!'\n",
    "p=re.compile('[^h]+',re.I)\n",
    "m=p.findall(text)\n",
    "m"
   ]
  },
  {
   "cell_type": "markdown",
   "id": "8ffe6a62",
   "metadata": {},
   "source": [
    "#### Q. 'we are going home'에서 home만 출력하세요.\n"
   ]
  },
  {
   "cell_type": "code",
   "execution_count": 6,
   "id": "f95db928",
   "metadata": {},
   "outputs": [
    {
     "data": {
      "text/plain": [
       "'home'"
      ]
     },
     "execution_count": 6,
     "metadata": {},
     "output_type": "execute_result"
    }
   ],
   "source": [
    "import re\n",
    "text='we are going home'\n",
    "p=re.compile('home')\n",
    "m=p.search(text).group()\n",
    "m"
   ]
  },
  {
   "cell_type": "markdown",
   "id": "07a22170",
   "metadata": {},
   "source": [
    "#### Q. '199305, 1923A, a93247'에서 '199305'만 출력하세요.\n"
   ]
  },
  {
   "cell_type": "code",
   "execution_count": 18,
   "id": "fa8d477c",
   "metadata": {},
   "outputs": [
    {
     "data": {
      "text/plain": [
       "'199305'"
      ]
     },
     "execution_count": 18,
     "metadata": {},
     "output_type": "execute_result"
    }
   ],
   "source": [
    "li =  '199305, 1923A, a93247'\n",
    "p=re.compile('[0-9]+')\n",
    "m=p.search(li)\n",
    "m.group()"
   ]
  },
  {
   "cell_type": "markdown",
   "id": "61bd7800",
   "metadata": {},
   "source": [
    "#### Q. '12345abc'에서 'abc'만 출력하세요."
   ]
  },
  {
   "cell_type": "code",
   "execution_count": 13,
   "id": "fba33747",
   "metadata": {},
   "outputs": [
    {
     "name": "stdout",
     "output_type": "stream",
     "text": [
      "abc\n"
     ]
    }
   ],
   "source": [
    "text='12345abc'\n",
    "p=re.compile('[a-z]+')\n",
    "m=p.findall(text)\n",
    "print(m[0])"
   ]
  },
  {
   "cell_type": "markdown",
   "id": "b5dd5751",
   "metadata": {},
   "source": [
    "#### Q. '12345abc'에서 'a'만 출력하세요.\n"
   ]
  },
  {
   "cell_type": "code",
   "execution_count": 10,
   "id": "161ffd5d",
   "metadata": {},
   "outputs": [
    {
     "data": {
      "text/plain": [
       "'a'"
      ]
     },
     "execution_count": 10,
     "metadata": {},
     "output_type": "execute_result"
    }
   ],
   "source": [
    "text='12345abc'\n",
    "m= re.search('[a-z]',text)\n",
    "m.group(0)"
   ]
  },
  {
   "cell_type": "markdown",
   "id": "74012e81",
   "metadata": {},
   "source": [
    "#### Q. 'abc12345Abc'에서 'A'만 출력하세요.\n"
   ]
  },
  {
   "cell_type": "code",
   "execution_count": 21,
   "id": "82333032",
   "metadata": {},
   "outputs": [
    {
     "data": {
      "text/plain": [
       "'A'"
      ]
     },
     "execution_count": 21,
     "metadata": {},
     "output_type": "execute_result"
    }
   ],
   "source": [
    "text='abc12345ABC'\n",
    "p=re.compile('[A-Z]')\n",
    "m=p.search(text)\n",
    "m.group()"
   ]
  },
  {
   "cell_type": "code",
   "execution_count": 22,
   "id": "ef6fd045",
   "metadata": {},
   "outputs": [
    {
     "data": {
      "text/plain": [
       "'a'"
      ]
     },
     "execution_count": 22,
     "metadata": {},
     "output_type": "execute_result"
    }
   ],
   "source": [
    "m=re.search('[a-z]',text)\n",
    "m.group()"
   ]
  },
  {
   "cell_type": "markdown",
   "id": "24304c09",
   "metadata": {},
   "source": [
    "#### Q. 'Banker'에서 'anker',    /// 'banker123'에서 'banker'를 출력하세요\n"
   ]
  },
  {
   "cell_type": "code",
   "execution_count": 40,
   "id": "5188f493",
   "metadata": {},
   "outputs": [
    {
     "name": "stdout",
     "output_type": "stream",
     "text": [
      "anker\n",
      "banker\n"
     ]
    }
   ],
   "source": [
    "text='Banker'\n",
    "text2='banker123'\n",
    "p=re.compile(r'[a-z]+')\n",
    "m=p.search(text)\n",
    "print(m.group())\n",
    "p2=re.compile(r'[a-z]+')\n",
    "m2=p2.search(text2)\n",
    "print(m2.group())"
   ]
  },
  {
   "cell_type": "markdown",
   "id": "90dc4a9c",
   "metadata": {},
   "source": [
    "#### Q. 'KOREA 대한민국'에서 '대'만 출력하세요.\n"
   ]
  },
  {
   "cell_type": "code",
   "execution_count": 34,
   "id": "9192798b",
   "metadata": {},
   "outputs": [
    {
     "data": {
      "text/plain": [
       "'대'"
      ]
     },
     "execution_count": 34,
     "metadata": {},
     "output_type": "execute_result"
    }
   ],
   "source": [
    "text='KOREA대한민국'\n",
    "import re\n",
    "p=re.compile('[가-힣]')\n",
    "m=p.search(text)\n",
    "m.group()"
   ]
  },
  {
   "cell_type": "markdown",
   "id": "7a5b467e",
   "metadata": {},
   "source": [
    "#### Q. 'aaaaBBBcccDDDeee'을 모두 출력하세요.\n",
    "text = 'aaaBBccDDeeaaaaBBBcccDDDeeeeeeDDDcccBBBaaaa'\n"
   ]
  },
  {
   "cell_type": "code",
   "execution_count": 50,
   "id": "096e247e",
   "metadata": {},
   "outputs": [
    {
     "data": {
      "text/plain": [
       "'aaaaBBBcccDDDeee'"
      ]
     },
     "execution_count": 50,
     "metadata": {},
     "output_type": "execute_result"
    }
   ],
   "source": [
    "text = 'aaaBBccDDeeaaaaBBBcccDDDeeeeeeDDDcccBBBaaaa'\n",
    "p=re.compile(r'a{4}.+De{3}')\n",
    "m=p.search(text)\n",
    "m.group()"
   ]
  },
  {
   "cell_type": "markdown",
   "id": "b65d59d6",
   "metadata": {},
   "source": [
    "#### Q. 아래의 경우에서 \\<html>만 출력하세요"
   ]
  },
  {
   "cell_type": "code",
   "execution_count": 3,
   "id": "69ed2e40",
   "metadata": {},
   "outputs": [
    {
     "name": "stdout",
     "output_type": "stream",
     "text": [
      "59\n"
     ]
    },
    {
     "data": {
      "text/plain": [
       "'<html>'"
      ]
     },
     "execution_count": 3,
     "metadata": {},
     "output_type": "execute_result"
    }
   ],
   "source": [
    "# Q\n",
    "# pattern = re.compile('<.*>')\n",
    "import re\n",
    "pattern = re.compile('<.*?>')\n",
    "# pattern = re.compile('<html>')\n",
    "text = '<html><head><title>Title</title></head><body></body></html>'\n",
    "\n",
    "print(len(text))\n",
    "p = pattern.search(text)\n",
    "p.group()"
   ]
  },
  {
   "cell_type": "code",
   "execution_count": null,
   "id": "7dab5449",
   "metadata": {},
   "outputs": [],
   "source": [
    "pattern = re.compile('<.*>')\n",
    "\n",
    "print(len(text))\n",
    "p = pattern.search(text)\n"
   ]
  },
  {
   "cell_type": "markdown",
   "id": "95a7aeff",
   "metadata": {},
   "source": [
    "#### Q. '1234a1234'에서  '1', '2', '3', '4'를 모두 출력하세요.\n"
   ]
  },
  {
   "cell_type": "code",
   "execution_count": 43,
   "id": "9c1cf0e2",
   "metadata": {},
   "outputs": [
    {
     "data": {
      "text/plain": [
       "['1', '2', '3', '4', '1', '2', '3', '4']"
      ]
     },
     "execution_count": 43,
     "metadata": {},
     "output_type": "execute_result"
    }
   ],
   "source": [
    "text='1234a1234'\n",
    "p=re.compile('[0-9]')\n",
    "m=p.findall(text)\n",
    "m\n"
   ]
  },
  {
   "cell_type": "markdown",
   "id": "cacaaf67",
   "metadata": {},
   "source": [
    "<!-- #### Q31 -->"
   ]
  },
  {
   "cell_type": "code",
   "execution_count": null,
   "id": "f0eff13e",
   "metadata": {},
   "outputs": [],
   "source": []
  },
  {
   "cell_type": "markdown",
   "id": "affed0f0",
   "metadata": {},
   "source": [
    "#### Q32. text에서 전체문장 모두 출력하세요.\n"
   ]
  },
  {
   "cell_type": "code",
   "execution_count": 20,
   "id": "ffc73349",
   "metadata": {
    "scrolled": true
   },
   "outputs": [
    {
     "name": "stdout",
     "output_type": "stream",
     "text": [
      "what are you doing?\n",
      "it is going to be late for school\n",
      "we need to hurry up\n"
     ]
    }
   ],
   "source": [
    "# Q.\n",
    "text = \"what are you doing?\\nit is going to be late for school\\nwe need to hurry up\"\n",
    "regex = re.compile('\\D*')\n",
    "mo = regex.search(text)\n",
    "print(mo.group())\n"
   ]
  },
  {
   "cell_type": "code",
   "execution_count": 21,
   "id": "1dadf7ba",
   "metadata": {},
   "outputs": [
    {
     "name": "stdout",
     "output_type": "stream",
     "text": [
      "what are you doing?\n",
      "it is going to be late for school\n",
      "we need to hurry up\n"
     ]
    }
   ],
   "source": [
    "regex = re.compile('.*',re.DOTALL)\n",
    "mo = regex.search(text)\n",
    "print(mo.group())"
   ]
  },
  {
   "cell_type": "markdown",
   "id": "bc48f5b4",
   "metadata": {},
   "source": [
    "#### Q33. text에서 대소문자 구분없이 전체문장 모두 출력하세요\n",
    "text = 'Friend fRiend friEnd FRIEND'\n"
   ]
  },
  {
   "cell_type": "code",
   "execution_count": 26,
   "id": "3f9b82db",
   "metadata": {},
   "outputs": [
    {
     "name": "stdout",
     "output_type": "stream",
     "text": [
      "Friend fRiend friEnd FRIEND\n"
     ]
    }
   ],
   "source": [
    "import re\n",
    "text = 'Friend fRiend friEnd FRIEND'\n",
    "p = re.compile('[a-zA-Z\\s]+')\n",
    "m = p.search(text)\n",
    "print(m.group())"
   ]
  },
  {
   "cell_type": "code",
   "execution_count": 31,
   "id": "0474927d",
   "metadata": {},
   "outputs": [
    {
     "name": "stdout",
     "output_type": "stream",
     "text": [
      "Friend\n",
      "\n",
      "fRiend\n",
      "\n",
      "friEnd\n",
      "\n",
      "FRIEND\n",
      "\n"
     ]
    }
   ],
   "source": [
    "text = 'Friend fRiend friEnd FRIEND'\n",
    "regex = re.compile('[a-z]*',re.I)\n",
    "mo = regex.findall(text)\n",
    "for i in mo:\n",
    "    print(i)"
   ]
  },
  {
   "cell_type": "markdown",
   "id": "7bb99a24",
   "metadata": {},
   "source": [
    "#### Q34. 1609160537.371015을 \"Sat Jun 26 08:35:03 2021\" 포멧으로 출력하세요.\n"
   ]
  },
  {
   "cell_type": "code",
   "execution_count": 30,
   "id": "4d70fae9",
   "metadata": {},
   "outputs": [
    {
     "data": {
      "text/plain": [
       "'Mon Dec 28 22:02:17 2020'"
      ]
     },
     "execution_count": 30,
     "metadata": {},
     "output_type": "execute_result"
    }
   ],
   "source": [
    "import time\n",
    "from datetime import datetime\n",
    "a =1609160537.371015\n",
    "time1 = time.ctime(a)\n",
    "time1"
   ]
  },
  {
   "cell_type": "code",
   "execution_count": 32,
   "id": "967586bb",
   "metadata": {},
   "outputs": [
    {
     "name": "stdout",
     "output_type": "stream",
     "text": [
      "2020-12-28 22:02:17.371015\n"
     ]
    },
    {
     "data": {
      "text/plain": [
       "'Mon Dec 28 22:02:17 2020'"
      ]
     },
     "execution_count": 32,
     "metadata": {},
     "output_type": "execute_result"
    }
   ],
   "source": [
    "d = datetime.fromtimestamp(1609160537.371015)\n",
    "print(d)\n",
    "d.strftime('%c')"
   ]
  },
  {
   "cell_type": "code",
   "execution_count": 33,
   "id": "56dec38d",
   "metadata": {},
   "outputs": [
    {
     "data": {
      "text/plain": [
       "'Mon Dec 28 22:02:17 2020'"
      ]
     },
     "execution_count": 33,
     "metadata": {},
     "output_type": "execute_result"
    }
   ],
   "source": [
    "from datetime import datetime\n",
    "\n",
    "time = datetime.fromtimestamp(int(1609160537.371015))\n",
    "time = time.strftime(\"%a %b %d %H:%M:%S %Y\")\n",
    "time\n"
   ]
  },
  {
   "cell_type": "markdown",
   "id": "842ed389",
   "metadata": {},
   "source": [
    "#### Q35. 현재 날짜와 시간을 \"Sat Jun 26 08:35:03 2021\" 포멧으로 출력하세요.\n"
   ]
  },
  {
   "cell_type": "code",
   "execution_count": 10,
   "id": "4ff140f2",
   "metadata": {
    "scrolled": true
   },
   "outputs": [
    {
     "data": {
      "text/plain": [
       "'Tue Jul 26 08:51:56 2022'"
      ]
     },
     "execution_count": 10,
     "metadata": {},
     "output_type": "execute_result"
    }
   ],
   "source": [
    "import time\n",
    "nt = time.ctime()\n",
    "nt"
   ]
  },
  {
   "cell_type": "code",
   "execution_count": 36,
   "id": "f8da6338",
   "metadata": {},
   "outputs": [
    {
     "data": {
      "text/plain": [
       "'Tue Jul 26 09:21:25 2022'"
      ]
     },
     "execution_count": 36,
     "metadata": {},
     "output_type": "execute_result"
    }
   ],
   "source": [
    "import time\n",
    "t = time.time()\n",
    "d = datetime.fromtimestamp(t)\n",
    "d.strftime('%c')"
   ]
  },
  {
   "cell_type": "markdown",
   "id": "7a7cc260",
   "metadata": {},
   "source": [
    "ctime() 함수는 주어진 timestamp를 현지 시간대 기준으로 소위 미국에서 흔히 사용되는 요 월 일 시:분:초 년 포멧으로 변환해줍니다. 그냥 간단하게 timestamp가 나타내는 날짜와 시간을 확인해보는 용도로 쓰기에 좋습니다.\n"
   ]
  },
  {
   "cell_type": "code",
   "execution_count": null,
   "id": "7b25ce17",
   "metadata": {},
   "outputs": [],
   "source": []
  },
  {
   "cell_type": "code",
   "execution_count": null,
   "id": "7f17335c",
   "metadata": {},
   "outputs": [],
   "source": []
  },
  {
   "cell_type": "markdown",
   "id": "d09a3153",
   "metadata": {},
   "source": [
    "#### Q36. 현재 시간을 년-월-일 시:분:초로 출력하세요.\n"
   ]
  },
  {
   "cell_type": "code",
   "execution_count": 4,
   "id": "f2869fd6-b64f-4536-a778-89c04e87a3f6",
   "metadata": {},
   "outputs": [
    {
     "name": "stdout",
     "output_type": "stream",
     "text": [
      "2022-07-27 09:15:29\n"
     ]
    }
   ],
   "source": [
    "from datetime import datetime\n",
    "nowtime_S=datetime.now()\n",
    "nowtime = nowtime_S.strftime('%Y-%m-%d %H:%M:%S')\n",
    "print(nowtime)\n"
   ]
  },
  {
   "cell_type": "markdown",
   "id": "be153cad",
   "metadata": {},
   "source": [
    "#### Q37. 현재 시간을 time.time을 불러와서 년-월-일 시:분:초로 출력하세요.\n"
   ]
  },
  {
   "cell_type": "code",
   "execution_count": 6,
   "id": "b884d3e9-bee4-4648-9e1e-1930930eb12f",
   "metadata": {},
   "outputs": [
    {
     "data": {
      "text/plain": [
       "'2022-07-27 09:15:33'"
      ]
     },
     "execution_count": 6,
     "metadata": {},
     "output_type": "execute_result"
    }
   ],
   "source": [
    "import time\n",
    "nowtime_S=time.time()\n",
    "nowtime = datetime.fromtimestamp(nowtime_S)\n",
    "time2 = nowtime.strftime('%Y-%m-%d %H:%M:%S')\n",
    "time2"
   ]
  },
  {
   "cell_type": "markdown",
   "id": "0991c101",
   "metadata": {},
   "source": [
    "#### Q38. 올해 경과된 날짜수 계산하세요"
   ]
  },
  {
   "cell_type": "code",
   "execution_count": 11,
   "id": "b3ad7141-d80f-40fe-afca-e7502b582263",
   "metadata": {},
   "outputs": [
    {
     "name": "stdout",
     "output_type": "stream",
     "text": [
      "오늘은 2022년 1월 1일 이후 207일째 되는 날 입니다.\n"
     ]
    }
   ],
   "source": [
    "since_time = datetime.strptime('20220101','%Y%m%d')\n",
    "nowtime = datetime.now()\n",
    "result = nowtime - since_time\n",
    "result.days\n",
    "print(f'오늘은 2022년 1월 1일 이후 {result.days}일째 되는 날 입니다.')"
   ]
  },
  {
   "cell_type": "markdown",
   "id": "fe2e5082",
   "metadata": {},
   "source": [
    "#### Q39. 현재 요일을 \"2021-6-26 오늘은 토요일입니다.\"와 같은 형식으로 출력하세요.\n",
    "\n"
   ]
  },
  {
   "cell_type": "code",
   "execution_count": 12,
   "id": "0d9bc91a-657c-4b29-bc2c-3daaa78cdb69",
   "metadata": {},
   "outputs": [
    {
     "name": "stdout",
     "output_type": "stream",
     "text": [
      "2022-7-27 오늘은 수요일입니다.\n"
     ]
    }
   ],
   "source": [
    "import datetime\n",
    "today= datetime.date.today()\n",
    "y = today.year\n",
    "m = today.month\n",
    "d = today.day\n",
    "# w = today.weekday()\n",
    "\n",
    "def get_yoil(y,m,d):\n",
    "    days = ['월','화','수','목','금','토','일']\n",
    "    return days[datetime.date(y,m,d).weekday()]\n",
    "w = get_yoil(y,m,d)\n",
    "print(f'{y}-{m}-{d} 오늘은 {w}요일입니다.')"
   ]
  },
  {
   "cell_type": "markdown",
   "id": "8305898d",
   "metadata": {},
   "source": [
    "#### Q40. 1에서 백만까지 더하는데 걸리는 프로그램 실행 시간을 밀리초(ms) 단위로 구하세요."
   ]
  },
  {
   "cell_type": "code",
   "execution_count": 1,
   "id": "06493be7",
   "metadata": {},
   "outputs": [
    {
     "name": "stdout",
     "output_type": "stream",
     "text": [
      "0.09947sec\n"
     ]
    }
   ],
   "source": [
    "import time\n",
    "\n",
    "start = time.time()\n",
    "for i in range(1,1000001):\n",
    "    i += i\n",
    "end = time.time()\n",
    "\n",
    "print(f\"{end-start:.5f}sec\")\n"
   ]
  },
  {
   "cell_type": "code",
   "execution_count": 2,
   "id": "5ae883b0-af72-4a51-be02-ce8e670ff1d6",
   "metadata": {
    "scrolled": true
   },
   "outputs": [
    {
     "name": "stdout",
     "output_type": "stream",
     "text": [
      "0.03297sec\n"
     ]
    }
   ],
   "source": [
    "import time\n",
    "\n",
    "start = time.time()\n",
    "sum(range(1,1000001))\n",
    "end = time.time()\n",
    "\n",
    "print(f\"{end-start:.5f}sec\")\n"
   ]
  },
  {
   "cell_type": "markdown",
   "id": "15bf8068",
   "metadata": {},
   "source": [
    "#### Q41. 아래 코드를 보완하여 발생 가능한 모든 예외(정수, 인덱스, 미리 파악하지 못한 예외)를 처리한 후 마지막에  '모든 예외처리 완료'를 출력하세요.\n"
   ]
  },
  {
   "cell_type": "code",
   "execution_count": 19,
   "id": "df60d157",
   "metadata": {},
   "outputs": [
    {
     "name": "stdout",
     "output_type": "stream",
     "text": [
      "정수 입력> 456\n",
      "인덱스 애러\n",
      "모든 예외처리 완료\n"
     ]
    }
   ],
   "source": [
    "# Q. \n",
    "try:\n",
    "    list_num = [52,273,32,72,100]\n",
    "\n",
    "    num_input = int(input('정수 입력> '))\n",
    "    print(f'{num_input}번째 요소: {list_num[num_input-1]}')\n",
    "except IndexError:\n",
    "    print('인덱스 애러')\n",
    "except ValueError:\n",
    "    print('정수 애러')\n",
    "finally :\n",
    "        print('모든 예외처리 완료')"
   ]
  },
  {
   "cell_type": "markdown",
   "id": "3e9fc571",
   "metadata": {},
   "source": [
    "#### Q42. 기본가격 1000원인 2개의 상품에 대하여 임의의 추가 가격을 입력시 가격 조정한 결과를 반환하는 Price 클래스를 생성 후 객체를 만들어 price1, price2를 수행하세요. \n",
    "- price1 : 기본가격 + 추가가격\n",
    "- price2 : (기본가격 + 추가가격) * 90%\n"
   ]
  },
  {
   "cell_type": "code",
   "execution_count": 14,
   "id": "19eb7f88",
   "metadata": {},
   "outputs": [
    {
     "name": "stdout",
     "output_type": "stream",
     "text": [
      "1100\n",
      "990.0\n"
     ]
    }
   ],
   "source": [
    "class Price:\n",
    "    def __init__(self):\n",
    "        self.price1 = 1000\n",
    "        self.price2 = 1000\n",
    "    def getPrice1(self,addPrice):\n",
    "        return self.price1 + addPrice\n",
    "    def getPrice2(self,addPrice):\n",
    "        return (self.price2 + addPrice) * 0.9\n",
    "\n",
    "price = Price()\n",
    "print(price.getPrice1(100))\n",
    "print(price.getPrice2(100))"
   ]
  },
  {
   "cell_type": "markdown",
   "id": "d523af5a",
   "metadata": {},
   "source": [
    "#### Q43. strings를 문자의 크기 순서로 내림차순 정렬하세요\n",
    "strings = ['a', 'ca', 'bar', 'aaaa', 'ababa']\n"
   ]
  },
  {
   "cell_type": "code",
   "execution_count": 40,
   "id": "b389039e",
   "metadata": {},
   "outputs": [
    {
     "data": {
      "text/plain": [
       "['ababa', 'aaaa', 'bar', 'ca', 'a']"
      ]
     },
     "execution_count": 40,
     "metadata": {},
     "output_type": "execute_result"
    }
   ],
   "source": [
    "strings = ['a', 'ca', 'bar', 'aaaa', 'ababa']\n",
    "strings.sort(key = lambda x:len(x),reverse=True)\n",
    "# strings.sort(reverse=True)\n",
    "strings"
   ]
  },
  {
   "cell_type": "code",
   "execution_count": 41,
   "id": "d4503de3",
   "metadata": {},
   "outputs": [
    {
     "name": "stdout",
     "output_type": "stream",
     "text": [
      "['ababa', 'aaaa', 'bar', 'ca', 'a']\n"
     ]
    }
   ],
   "source": [
    "strings = ['a', 'ca', 'bar', 'aaaa', 'ababa']\n",
    "strings.sort(key=len)\n",
    "strings.reverse() # 역정렬\n",
    "print(strings)\n"
   ]
  },
  {
   "cell_type": "markdown",
   "id": "30670580",
   "metadata": {},
   "source": [
    "#### Q44. strings를 다양한 문자가 포함된 순서로 정렬하세요\n"
   ]
  },
  {
   "cell_type": "code",
   "execution_count": 32,
   "id": "32ce8a94",
   "metadata": {},
   "outputs": [
    {
     "data": {
      "text/plain": [
       "['card', 'bar', 'abab', 'foo', 'aaaa']"
      ]
     },
     "execution_count": 32,
     "metadata": {},
     "output_type": "execute_result"
    }
   ],
   "source": [
    "# Q.\n",
    "strings = ['foo', 'card', 'bar', 'aaaa', 'abab']\n",
    "strings.sort(key = lambda x:len(set(x)),reverse=False)\n",
    "strings.reverse()\n",
    "strings\n"
   ]
  },
  {
   "cell_type": "markdown",
   "id": "1696b3a5",
   "metadata": {},
   "source": [
    "#### Q45. 'abcde' 를 'edcba'로 바꾸어 출력하세요.(5가지 방법)\n"
   ]
  },
  {
   "cell_type": "code",
   "execution_count": 3,
   "id": "d06e495a",
   "metadata": {
    "scrolled": true
   },
   "outputs": [
    {
     "name": "stdout",
     "output_type": "stream",
     "text": [
      "edcba\n",
      "edcba\n",
      "edcba\n",
      "edcba\n"
     ]
    }
   ],
   "source": [
    "text='abcde'\n",
    "print(text[::-1])   #1 슬라이싱\n",
    "\n",
    "print(\"\".join(reversed(text))) # 2 reversed 활용\n",
    "\n",
    "text_r = ''\n",
    "for i in text:         # 포문 활용\n",
    "    text_r = i + text_r\n",
    "print(text_r)\n",
    "\n",
    "textli=list(text)    # reverse 활용\n",
    "textli.reverse()\n",
    "print(''.join(textli))\n"
   ]
  },
  {
   "cell_type": "markdown",
   "id": "6561416a",
   "metadata": {},
   "source": [
    "#### Q46. numbers 내부에 들어 있는 숫자가 몇 번 등장하는지를 출력하는 코드를 작성하세요.\n",
    "numbers = [3,6,3,5,8,2,9,7,4,3,6,3,5,8,2,9,7,4]\n"
   ]
  },
  {
   "cell_type": "code",
   "execution_count": 58,
   "id": "69ea64c7",
   "metadata": {},
   "outputs": [
    {
     "name": "stdout",
     "output_type": "stream",
     "text": [
      "3은(는) 4번 등장\n",
      "6은(는) 2번 등장\n",
      "5은(는) 2번 등장\n",
      "8은(는) 2번 등장\n",
      "2은(는) 2번 등장\n",
      "9은(는) 2번 등장\n",
      "7은(는) 2번 등장\n",
      "4은(는) 2번 등장\n"
     ]
    }
   ],
   "source": [
    "numbers = [3,6,3,5,8,2,9,7,4,3,6,3,5,8,2,9,7,4]\n",
    "li = []\n",
    "for i in numbers:\n",
    "    if i in li:\n",
    "        pass\n",
    "    else :\n",
    "        li.append(i)\n",
    "        print(f'{i}은(는) {numbers.count(i)}번 등장')"
   ]
  },
  {
   "cell_type": "markdown",
   "id": "13c3c0e7",
   "metadata": {},
   "source": [
    "#### Q47. 코딩을 한줄로 작성해서 동일한 결과를 출력하세요\n"
   ]
  },
  {
   "cell_type": "code",
   "execution_count": 47,
   "id": "359498e7",
   "metadata": {
    "scrolled": true
   },
   "outputs": [
    {
     "name": "stdout",
     "output_type": "stream",
     "text": [
      "[0, 4, 16, 36, 64, 100, 144, 196, 256, 324]\n"
     ]
    }
   ],
   "source": [
    "# Q.\n",
    "list = []\n",
    "for i in range(0,20,2):\n",
    "    list.append(i*i)\n",
    "print(list)\n"
   ]
  },
  {
   "cell_type": "code",
   "execution_count": 2,
   "id": "7a528bc4",
   "metadata": {},
   "outputs": [
    {
     "data": {
      "text/plain": [
       "[0, 4, 16, 36, 64, 100, 144, 196, 256, 324]"
      ]
     },
     "execution_count": 2,
     "metadata": {},
     "output_type": "execute_result"
    }
   ],
   "source": [
    "li=[i*i for i in range(0,20,2)]\n",
    "li"
   ]
  },
  {
   "cell_type": "code",
   "execution_count": null,
   "id": "f8b7f9dd",
   "metadata": {},
   "outputs": [],
   "source": [
    " [i*i for i in range(0,20,2)]"
   ]
  },
  {
   "cell_type": "code",
   "execution_count": 6,
   "id": "132df523-2d26-4e4f-8efa-04eaba4183e8",
   "metadata": {},
   "outputs": [
    {
     "data": {
      "text/plain": [
       "[0, 4, 16, 36, 64, 100, 144, 196, 256, 324]"
      ]
     },
     "execution_count": 6,
     "metadata": {},
     "output_type": "execute_result"
    }
   ],
   "source": [
    "list(map(lambda x: x*x,range(0,20,2)))"
   ]
  },
  {
   "cell_type": "markdown",
   "id": "147088ad",
   "metadata": {},
   "source": [
    "#### Q48. 반복문으로 팩토리얼을 구하는 사용자 함수를 작성하고 5!, 10!를 구하세요.\n"
   ]
  },
  {
   "cell_type": "code",
   "execution_count": 12,
   "id": "9b5ec439",
   "metadata": {
    "scrolled": true
   },
   "outputs": [
    {
     "name": "stdout",
     "output_type": "stream",
     "text": [
      "120\n",
      "3628800\n"
     ]
    }
   ],
   "source": [
    "def my1_factorial(n):\n",
    "    result = 1\n",
    "    for i in range(1, n+1, 1):\n",
    "        result *= i      #result = result * item\n",
    "    print(result)\n",
    "\n",
    "my1_factorial(5)\n",
    "my1_factorial(10)"
   ]
  },
  {
   "cell_type": "markdown",
   "id": "d402bdb2",
   "metadata": {},
   "source": [
    "#### Q49. 재귀란 '자기자신을 호출하는 것'을 의미한다. 재귀함수를 이용해서 팩토리얼을 구하는 사용자 함수를 작성하고 1!, 5!, 10!를 구하세요.\n",
    "factorial(n) = n * factorial(n-1) (n >= 1)\n"
   ]
  },
  {
   "cell_type": "code",
   "execution_count": 15,
   "id": "e5a127b6",
   "metadata": {},
   "outputs": [
    {
     "name": "stdout",
     "output_type": "stream",
     "text": [
      "1\n",
      "120\n",
      "3628800\n"
     ]
    }
   ],
   "source": [
    "def my_factorial(n):\n",
    "    if(n >= 1):\n",
    "        return n * my_factorial(n - 1)\n",
    "    else:\n",
    "        return 1\n",
    "print(my_factorial(1))\n",
    "print(my_factorial(5))\n",
    "print(my_factorial(10))"
   ]
  },
  {
   "cell_type": "code",
   "execution_count": 3,
   "id": "3e53eefb",
   "metadata": {},
   "outputs": [
    {
     "name": "stdout",
     "output_type": "stream",
     "text": [
      "1\n",
      "120\n",
      "3628800\n"
     ]
    }
   ],
   "source": [
    "def my_factorial(n):\n",
    "    if(n ==0):\n",
    "        return 1\n",
    "    else:\n",
    "        return n * my_factorial(n - 1)\n",
    "print(my_factorial(1))\n",
    "print(my_factorial(5))\n",
    "print(my_factorial(10))"
   ]
  },
  {
   "cell_type": "markdown",
   "id": "c468e7b5",
   "metadata": {},
   "source": [
    "#### Q50. list a의 모든 원소를 실수형으로 바꾸어 출력하세요\n"
   ]
  },
  {
   "cell_type": "code",
   "execution_count": 4,
   "id": "e6b503e6",
   "metadata": {},
   "outputs": [
    {
     "data": {
      "text/plain": [
       "[1.0, 2.0, 3.0, 4.0, 5.0]"
      ]
     },
     "execution_count": 4,
     "metadata": {},
     "output_type": "execute_result"
    }
   ],
   "source": [
    "a = [1,2,3,4,5]\n",
    "list(map(float,a))"
   ]
  },
  {
   "cell_type": "markdown",
   "id": "a92317d9",
   "metadata": {},
   "source": [
    "#### [도전과제] 문자열 리스트 states를 정형화하여 아래와 같이 출력하세요.\n",
    "(정규표현식)"
   ]
  },
  {
   "cell_type": "markdown",
   "id": "5c56062d",
   "metadata": {},
   "source": [
    "```\n",
    "states = ['   Alabama ', 'Georgia!', 'Georgia', 'georgia', 'FlOrIda',\n",
    "          'south   carolina##', 'West virginia?']\n",
    "[출력]\n",
    "['Alabama',\n",
    " 'Georgia',\n",
    " 'Georgia',\n",
    " 'Georgia',\n",
    " 'Florida',\n",
    " 'South   Carolina',\n",
    " 'West Virginia']\n",
    "```"
   ]
  },
  {
   "cell_type": "code",
   "execution_count": 2,
   "id": "4b0133c0",
   "metadata": {},
   "outputs": [
    {
     "data": {
      "text/plain": [
       "['Alabama',\n",
       " 'Georgia',\n",
       " 'Georgia',\n",
       " 'Georgia',\n",
       " 'Florida',\n",
       " 'South   Carolina',\n",
       " 'West Virginia']"
      ]
     },
     "execution_count": 2,
     "metadata": {},
     "output_type": "execute_result"
    }
   ],
   "source": [
    "import re\n",
    "states = ['   Alabama ', 'Georgia!', 'Georgia', 'georgia', 'FlOrIda',\n",
    "          'south   carolina##', 'West virginia?']\n",
    "[re.sub('[!#?]+','',i).strip().title() for i in states]"
   ]
  },
  {
   "cell_type": "markdown",
   "id": "7b672a3d",
   "metadata": {},
   "source": [
    "#### Q51. 게시물의 총 건수와 한 페이지에 보여 줄 게시물 수를 입력시 총 페이지 수를 출력하는 프로그램\n"
   ]
  },
  {
   "cell_type": "code",
   "execution_count": 173,
   "id": "c140935e",
   "metadata": {},
   "outputs": [
    {
     "name": "stdout",
     "output_type": "stream",
     "text": [
      "게시물 총 건수:100\n",
      "한페이지 보여줄 게시물수:9\n",
      "총 페이지 수:12\n"
     ]
    }
   ],
   "source": [
    "# 사용자 함수를 만들어서 하자\n",
    "# 인풋을 게시물총수 숫자입력\n",
    "# 한버에 보여주\n",
    "# 페이지수를 몇개하라는 건지 결과\n",
    "def table():\n",
    "    allpost = int(input('게시물 총 건수:'))\n",
    "    pagepost = int(input('한페이지 보여줄 게시물수:'))\n",
    "    if allpost%pagepost !=0:\n",
    "        result= allpost//pagepost +1\n",
    "    else:\n",
    "        result = allpost//pagepost\n",
    "    return print(f'총 페이지 수:{result}')\n",
    "table()"
   ]
  },
  {
   "cell_type": "markdown",
   "id": "fafef53c",
   "metadata": {},
   "source": [
    "#### Q52. 랜덤하게 1000명의 이름, 키와 몸무게 만들어 저장한 후 다시 불러내어 다음과 같이 출력하세요.\n",
    "\n",
    "- 이름 :라바\n",
    "- 몸무게: 80\n",
    "- 키: 146\n",
    "- BMI: 37.53049352598987\n",
    "- 결과: 과체중\n"
   ]
  },
  {
   "cell_type": "code",
   "execution_count": 132,
   "id": "8722e871",
   "metadata": {},
   "outputs": [],
   "source": [
    "import random\n",
    "import numpy as np\n",
    "import pandas as pd\n",
    "first_name = '김이박최정강조윤장임왕구한강양'\n",
    "middle_name = '민덕정현우진중민섭형석호지원혜림서연지웅'\n",
    "last_name = '민덕정현우진중민섭형석호원혜지림서연지웅'\n",
    "def random_name():\n",
    "    result = ''\n",
    "    result += random.choice(first_name)\n",
    "    result += random.choice(middle_name)\n",
    "    result += random.choice(last_name)\n",
    "    return result\n",
    "namelist=[]\n",
    "for i in range(1000):\n",
    "    namelist.append(random_name())\n",
    "namese = pd.Series(namelist)\n",
    "weightlist=pd.Series(np.random.randint(40,100,1000))\n",
    "talllist=pd.Series(np.random.randint(150,190,1000))\n",
    "bmilist = weightlist/((talllist/100)**2)"
   ]
  },
  {
   "cell_type": "code",
   "execution_count": 141,
   "id": "f552dc37",
   "metadata": {},
   "outputs": [
    {
     "data": {
      "text/html": [
       "<div>\n",
       "<style scoped>\n",
       "    .dataframe tbody tr th:only-of-type {\n",
       "        vertical-align: middle;\n",
       "    }\n",
       "\n",
       "    .dataframe tbody tr th {\n",
       "        vertical-align: top;\n",
       "    }\n",
       "\n",
       "    .dataframe thead th {\n",
       "        text-align: right;\n",
       "    }\n",
       "</style>\n",
       "<table border=\"1\" class=\"dataframe\">\n",
       "  <thead>\n",
       "    <tr style=\"text-align: right;\">\n",
       "      <th></th>\n",
       "      <th>이름</th>\n",
       "      <th>몸무게</th>\n",
       "      <th>키</th>\n",
       "      <th>BMI</th>\n",
       "      <th>결과</th>\n",
       "    </tr>\n",
       "  </thead>\n",
       "  <tbody>\n",
       "    <tr>\n",
       "      <th>0</th>\n",
       "      <td>강민정</td>\n",
       "      <td>59</td>\n",
       "      <td>150</td>\n",
       "      <td>26.222222</td>\n",
       "      <td>비만</td>\n",
       "    </tr>\n",
       "    <tr>\n",
       "      <th>1</th>\n",
       "      <td>양지연</td>\n",
       "      <td>92</td>\n",
       "      <td>184</td>\n",
       "      <td>27.173913</td>\n",
       "      <td>비만</td>\n",
       "    </tr>\n",
       "    <tr>\n",
       "      <th>2</th>\n",
       "      <td>이혜석</td>\n",
       "      <td>44</td>\n",
       "      <td>188</td>\n",
       "      <td>12.449072</td>\n",
       "      <td>저체중</td>\n",
       "    </tr>\n",
       "    <tr>\n",
       "      <th>3</th>\n",
       "      <td>김지서</td>\n",
       "      <td>49</td>\n",
       "      <td>161</td>\n",
       "      <td>18.903592</td>\n",
       "      <td>정상</td>\n",
       "    </tr>\n",
       "    <tr>\n",
       "      <th>4</th>\n",
       "      <td>이섭정</td>\n",
       "      <td>62</td>\n",
       "      <td>189</td>\n",
       "      <td>17.356737</td>\n",
       "      <td>저체중</td>\n",
       "    </tr>\n",
       "  </tbody>\n",
       "</table>\n",
       "</div>"
      ],
      "text/plain": [
       "    이름  몸무게    키        BMI   결과\n",
       "0  강민정   59  150  26.222222   비만\n",
       "1  양지연   92  184  27.173913   비만\n",
       "2  이혜석   44  188  12.449072  저체중\n",
       "3  김지서   49  161  18.903592   정상\n",
       "4  이섭정   62  189  17.356737  저체중"
      ]
     },
     "execution_count": 141,
     "metadata": {},
     "output_type": "execute_result"
    }
   ],
   "source": [
    "totaldf = pd.concat([namese,weightlist,talllist,bmilist],axis=1)\n",
    "totaldf.rename(columns={0:'이름',1:'몸무게',2:'키',3:'BMI'},inplace=True)\n",
    "def get_result(x):\n",
    "    if x<= 18.5:\n",
    "        x='저체중'\n",
    "    elif x< 23:\n",
    "        x='정상'\n",
    "    elif x< 25:\n",
    "        x='과체중'\n",
    "    elif x<=30 :\n",
    "        x='비만'\n",
    "    else:\n",
    "        x= '고도비만'\n",
    "    return x\n",
    "totaldf['결과'] = totaldf.BMI.apply(get_result)\n",
    "totaldf.head()"
   ]
  },
  {
   "cell_type": "code",
   "execution_count": 151,
   "id": "6df31a7d",
   "metadata": {},
   "outputs": [],
   "source": [
    "totaldf.to_csv('total.csv')\n",
    "df = pd.read_csv('total.csv',index_col=0)"
   ]
  },
  {
   "cell_type": "code",
   "execution_count": 157,
   "id": "22593a61",
   "metadata": {},
   "outputs": [
    {
     "data": {
      "text/plain": [
       "이름           강민정\n",
       "몸무게           59\n",
       "키            150\n",
       "BMI    26.222222\n",
       "결과            비만\n",
       "Name: 0, dtype: object"
      ]
     },
     "execution_count": 157,
     "metadata": {},
     "output_type": "execute_result"
    }
   ],
   "source": [
    "df.iloc[0,:]"
   ]
  },
  {
   "cell_type": "markdown",
   "id": "e6c7d6fb",
   "metadata": {},
   "source": [
    "#### Q53.입력한 숫자를 천 단위로 구분하여 출력하세요."
   ]
  },
  {
   "cell_type": "code",
   "execution_count": 10,
   "id": "7daa40fe",
   "metadata": {},
   "outputs": [
    {
     "name": "stdout",
     "output_type": "stream",
     "text": [
      "숫자 입력:1234564657879\n",
      "1,234,564,657,879\n"
     ]
    }
   ],
   "source": [
    "number = int(input('숫자 입력:'))\n",
    "print(format(number,','))"
   ]
  },
  {
   "cell_type": "markdown",
   "id": "d2653471",
   "metadata": {},
   "source": [
    "#### Q. 카운터에서 거스름돈으로 사용할 500원, 100원, 50원, 10원짜리 동전이 무한히 존재한다고 가정한다. 손님에게 거슬러 줘야할 돈이 N원일 때 거슬러 줘야 할 동전의 최소 개수를 구하세요. 단, 거슬러 줘야 할 돈 N은 항상 10의 배수이다. N은 2750원이다."
   ]
  },
  {
   "cell_type": "code",
   "execution_count": 22,
   "id": "804ce6cf",
   "metadata": {},
   "outputs": [
    {
     "name": "stdout",
     "output_type": "stream",
     "text": [
      "거스름돈:2750\n"
     ]
    },
    {
     "data": {
      "text/plain": [
       "8"
      ]
     },
     "execution_count": 22,
     "metadata": {},
     "output_type": "execute_result"
    }
   ],
   "source": [
    "change=int(input('거스름돈:'))\n",
    "five = 500\n",
    "one = 100\n",
    "smallfive = 50\n",
    "smallone = 10\n",
    "fivenum = change//five\n",
    "onenum = (change%five)//one\n",
    "smallfivenum = (change%five%one)//smallfive\n",
    "smallonenum = (change%five%one%smallfive)//smallone\n",
    "li = [fivenum,onenum,smallfivenum,smallonenum]\n",
    "result = sum(li)\n",
    "result\n",
    "\n"
   ]
  },
  {
   "cell_type": "code",
   "execution_count": 23,
   "id": "86c489ae",
   "metadata": {},
   "outputs": [
    {
     "name": "stdout",
     "output_type": "stream",
     "text": [
      "8\n"
     ]
    }
   ],
   "source": [
    "n = 2750\n",
    "count = 0\n",
    "\n",
    "# 큰 단위의 화폐부터 차례대로 확인하기\n",
    "coin_types = [500, 100, 50, 10]\n",
    "\n",
    "for coin in coin_types:\n",
    "    count += n // coin # 해당 화폐로 거슬러 줄 수 있는 동전의 개수 세기\n",
    "    n %= coin\n",
    "\n",
    "print(count)\n"
   ]
  },
  {
   "cell_type": "markdown",
   "id": "c8ab42f9",
   "metadata": {},
   "source": [
    "#### Q55. data/mydata.txt 파일에 있는 단어 개수를 출력하세요.\n"
   ]
  },
  {
   "cell_type": "code",
   "execution_count": 32,
   "id": "fb809a4a",
   "metadata": {},
   "outputs": [
    {
     "data": {
      "text/plain": [
       "213"
      ]
     },
     "execution_count": 32,
     "metadata": {},
     "output_type": "execute_result"
    }
   ],
   "source": [
    "from collections import Counter\n",
    "import re\n",
    "with open('mydata.txt','r') as f:\n",
    "    tx =f.read()\n",
    "tx1=Counter(tx.split())\n",
    "tx2 = sum(tx1.values())\n",
    "tx2"
   ]
  },
  {
   "cell_type": "code",
   "execution_count": 7,
   "id": "29d01c86",
   "metadata": {},
   "outputs": [
    {
     "name": "stdout",
     "output_type": "stream",
     "text": [
      "단어수:213\n",
      "['a', 'lot', 'of', 'things', 'occur', 'each', 'day', \"we've\", 'got', 'to', 'live', 'with', 'on', 'our', 'way', \"there's\", 'so', 'much', 'misery', 'on', 'the', 'screen', 'with', 'commercials', 'in', 'between', 'and', 'the', 'russians', \"won't\", 'be', 'so', 'late', 'uncle', 'sam', \"don't\", 'want', 'to', 'wait', 'no', 'matter', 'if', \"you're\", 'black', 'or', 'white', 'you', 'never', 'ever', 'had', 'a', 'right', 'and', 'look', 'up', 'to', 'the', 'eternal', 'skies', 'see', 'warfare', 'even', 'there', 'what', 'once', 'has', 'been', 'a', 'paradise', 'now', 'destruction', 'and', 'despair', 'in', 'other', 'worlds', 'the', 'children', 'die', 'lacking', 'food', 'ill', 'from', 'a', 'fly', 'oppressed', 'by', 'troops', 'to', 'tame', 'their', 'land', \"it's\", 'all', 'the', 'same', 'again', 'if', 'any', 'man', 'is', 'free', 'on', 'earth', 'then', 'tormentors', 'steal', 'his', 'birth', 'they', 'slam', 'gun', 'butts', 'in', 'his', 'face', 'and', 'leave', 'his', 'woman', 'choked', 'in', 'mace', 'so', 'stand', 'up', 'for', 'our', 'human', 'rights', 'push', 'back', 'this', 'pest', 'of', 'hate', 'raise', 'you', 'voice', 'pass', 'on', 'the', 'light', 'unite!', \"it's\", 'not', 'too', 'late', 'how', 'many', 'tears', 'flow', 'away', 'to', 'become', 'a', 'sea', 'of', 'fears', 'how', 'many', 'hearts', 'are', 'torn', 'apart', 'till', 'another', 'torment', 'starts', 'but', 'before', 'the', 'world', 'turns', 'into', 'a', 'sun', 'all', 'cruelty', 'and', 'violence', 'on', 'earth', 'will', 'be', 'dead', 'and', 'gone', 'so', 'stand', 'up', 'for', 'our', 'human', 'rights', 'push', 'back', 'this', 'pest', 'of', 'hate', 'raise', 'you', 'voice', 'pass', 'on', 'the', 'light', 'unite!', \"it's\", 'not', 'too', 'late']\n"
     ]
    }
   ],
   "source": [
    "with open(\"mydata.txt\", \"r\") as f:\n",
    "    data = f.read()\n",
    "    tmp = data.split()\n",
    "    print(f'단어수:{len(tmp)}')\n",
    "    print(tmp)"
   ]
  },
  {
   "cell_type": "code",
   "execution_count": 8,
   "id": "e77b51f1",
   "metadata": {
    "scrolled": true
   },
   "outputs": [
    {
     "name": "stdout",
     "output_type": "stream",
     "text": [
      "221\n",
      "['a', 'lot', 'of', 'things', 'occur', 'each', 'day', 'we', 've', 'got', 'to', 'live', 'with', 'on', 'our', 'way', 'there', 's', 'so', 'much', 'misery', 'on', 'the', 'screen', 'with', 'commercials', 'in', 'between', 'and', 'the', 'russians', 'won', 't', 'be', 'so', 'late', 'uncle', 'sam', 'don', 't', 'want', 'to', 'wait', 'no', 'matter', 'if', 'you', 're', 'black', 'or', 'white', 'you', 'never', 'ever', 'had', 'a', 'right', 'and', 'look', 'up', 'to', 'the', 'eternal', 'skies', 'see', 'warfare', 'even', 'there', 'what', 'once', 'has', 'been', 'a', 'paradise', 'now', 'destruction', 'and', 'despair', 'in', 'other', 'worlds', 'the', 'children', 'die', 'lacking', 'food', 'ill', 'from', 'a', 'fly', 'oppressed', 'by', 'troops', 'to', 'tame', 'their', 'land', 'it', 's', 'all', 'the', 'same', 'again', 'if', 'any', 'man', 'is', 'free', 'on', 'earth', 'then', 'tormentors', 'steal', 'his', 'birth', 'they', 'slam', 'gun', 'butts', 'in', 'his', 'face', 'and', 'leave', 'his', 'woman', 'choked', 'in', 'mace', 'so', 'stand', 'up', 'for', 'our', 'human', 'rights', 'push', 'back', 'this', 'pest', 'of', 'hate', 'raise', 'you', 'voice', 'pass', 'on', 'the', 'light', 'unite', 'it', 's', 'not', 'too', 'late', 'how', 'many', 'tears', 'flow', 'away', 'to', 'become', 'a', 'sea', 'of', 'fears', 'how', 'many', 'hearts', 'are', 'torn', 'apart', 'till', 'another', 'torment', 'starts', 'but', 'before', 'the', 'world', 'turns', 'into', 'a', 'sun', 'all', 'cruelty', 'and', 'violence', 'on', 'earth', 'will', 'be', 'dead', 'and', 'gone', 'so', 'stand', 'up', 'for', 'our', 'human', 'rights', 'push', 'back', 'this', 'pest', 'of', 'hate', 'raise', 'you', 'voice', 'pass', 'on', 'the', 'light', 'unite', 'it', 's', 'not', 'too', 'late']\n"
     ]
    }
   ],
   "source": [
    "import re\n",
    "li = []\n",
    "with open(\"mydata.txt\", \"r\") as f:\n",
    "    lines = f.readlines() # 한 줄씩 단어를 찾는다.\n",
    "    for line in lines:\n",
    "        line = re.sub('\\W', ' ', line) # 단어가 아닌 것을 공백으로 만들어라\n",
    "        li.append(line.strip()) # li에 넣는데 양쪽 공백을 없애라\n",
    "        \n",
    "li = ' '.join(li) # 불필요한 공백을 제거\n",
    "li = li.split(' ')\n",
    "try:\n",
    "    for _ in range(len(li)):\n",
    "        li.remove('') # 공백만 있는 것을 제거해라\n",
    "except:\n",
    "    pass # 공백만 있는 것이 없으면 끝내라\n",
    "print(len(li)) # 개수를 세는 것이고\n",
    "print(li) # 단어를 보여주는 것\n"
   ]
  },
  {
   "cell_type": "markdown",
   "id": "5b0bd816",
   "metadata": {},
   "source": [
    "#### Q56. 파일이름과 특정 단어을 인자로 입력하면 그 파일에 있는 특정 단어의 개수를 반환하는 사용자 함수를 이용하여 mydata 파일에서 how의 개수를 출력하세요.\n"
   ]
  },
  {
   "cell_type": "code",
   "execution_count": 10,
   "id": "281e5b4e",
   "metadata": {
    "scrolled": true
   },
   "outputs": [
    {
     "name": "stdout",
     "output_type": "stream",
     "text": [
      "찾을 단어를 입력하세요.How\n",
      "How가 0개 있습니다.\n"
     ]
    }
   ],
   "source": [
    "\n",
    "def wordCount():\n",
    "    x = input('찾을 단어를 입력하세요.')\n",
    "    word_count = 0\n",
    "    for i in li:\n",
    "        if x == i : # input 값이 리스트 안에 있는 i랑 같다면\n",
    "            word_count += 1 # word_count안에 하나씩 추가해라\n",
    "    print(f'{x}가 {word_count}개 있습니다.')\n",
    "    \n",
    "wordCount()\n"
   ]
  },
  {
   "cell_type": "code",
   "execution_count": 12,
   "id": "fbadf2d0",
   "metadata": {},
   "outputs": [
    {
     "name": "stdout",
     "output_type": "stream",
     "text": [
      "filename:mydata.txt\n"
     ]
    },
    {
     "ename": "FileNotFoundError",
     "evalue": "[Errno 2] No such file or directory: 'filename'",
     "output_type": "error",
     "traceback": [
      "\u001b[1;31m---------------------------------------------------------------------------\u001b[0m",
      "\u001b[1;31mFileNotFoundError\u001b[0m                         Traceback (most recent call last)",
      "Input \u001b[1;32mIn [12]\u001b[0m, in \u001b[0;36m<cell line: 4>\u001b[1;34m()\u001b[0m\n\u001b[0;32m      2\u001b[0m \u001b[38;5;28;01mimport\u001b[39;00m \u001b[38;5;21;01mre\u001b[39;00m\n\u001b[0;32m      3\u001b[0m filename \u001b[38;5;241m=\u001b[39m\u001b[38;5;28minput\u001b[39m(\u001b[38;5;124m'\u001b[39m\u001b[38;5;124mfilename:\u001b[39m\u001b[38;5;124m'\u001b[39m)\n\u001b[1;32m----> 4\u001b[0m \u001b[38;5;28;01mwith\u001b[39;00m \u001b[38;5;28;43mopen\u001b[39;49m\u001b[43m(\u001b[49m\u001b[38;5;124;43m'\u001b[39;49m\u001b[38;5;124;43mfilename\u001b[39;49m\u001b[38;5;124;43m'\u001b[39;49m\u001b[43m,\u001b[49m\u001b[38;5;124;43m'\u001b[39;49m\u001b[38;5;124;43mr\u001b[39;49m\u001b[38;5;124;43m'\u001b[39;49m\u001b[43m)\u001b[49m \u001b[38;5;28;01mas\u001b[39;00m f:\n\u001b[0;32m      5\u001b[0m     tx \u001b[38;5;241m=\u001b[39mf\u001b[38;5;241m.\u001b[39mread()\n\u001b[0;32m      6\u001b[0m tx1\u001b[38;5;241m=\u001b[39mCounter(tx\u001b[38;5;241m.\u001b[39msplit())\n",
      "\u001b[1;31mFileNotFoundError\u001b[0m: [Errno 2] No such file or directory: 'filename'"
     ]
    }
   ],
   "source": [
    "from collections import Counter\n",
    "import re\n",
    "filename =input('filename:')\n",
    "with open('filename','r') as f:\n",
    "    tx =f.read()\n",
    "tx1=Counter(tx.split())\n",
    "tx2 = sum(tx1.values())\n",
    "tx2"
   ]
  },
  {
   "cell_type": "code",
   "execution_count": 13,
   "id": "9acfeb41",
   "metadata": {},
   "outputs": [
    {
     "name": "stdout",
     "output_type": "stream",
     "text": [
      "filename을 입력하세요: mydata.txt\n",
      "filename에서 개수를 구할 단어를 입력하세요: how\n",
      "how의 개수: 2\n"
     ]
    }
   ],
   "source": [
    "def countWord(filename, word):\n",
    "    with open(filename, 'r') as f:\n",
    "        text = f.read()\n",
    "        text = text.lower()\n",
    "        pos = text.find(word)\n",
    "        count = 0\n",
    "        while pos != -1:\n",
    "            count += 1\n",
    "            pos = text.find(word, pos+1)\n",
    "    return count\n",
    "\n",
    "filename = input('filename을 입력하세요: ')\n",
    "word = input('filename에서 개수를 구할 단어를 입력하세요: ').lower()\n",
    "ret = countWord(filename, word)\n",
    "print(f'{word}의 개수: {ret}')\n"
   ]
  },
  {
   "cell_type": "markdown",
   "id": "7e4ffa92",
   "metadata": {},
   "source": [
    "#### Q59.\n",
    "문자열을 입력받아 같은 문자가 연속적으로 반복되는 경우에 그 반복 횟수를 표시해 문자열을 압축하여 표시하세요.\n",
    "- 예) \"aaabbcccccca\" -> a3b2c6a1\n"
   ]
  },
  {
   "cell_type": "code",
   "execution_count": 15,
   "id": "9c317d4e",
   "metadata": {},
   "outputs": [
    {
     "name": "stdout",
     "output_type": "stream",
     "text": [
      "문자입력:aaabbcccccca\n",
      "a3b2c6a1\n"
     ]
    }
   ],
   "source": [
    "text = input('문자입력:')\n",
    "#초기값을 설정합니다.\n",
    "result = text[0] #반복문 실행되는 동안 문자열 형태로 반환되는 결과들을 담을 변수\n",
    "count = 0 #반복되서 나오는 문자 수만큼 카운팅되는 값을 담을 변수\n",
    "\n",
    "for i in text:\n",
    "    if i == result[-1]: #result변수 마지막 문자와 비교합니다. else에서 result변수에 값이 추가되기 때문에 마지막 문자[-1]와 비교.\n",
    "        count += 1\n",
    "    else:\n",
    "        result += str(count) + i #마지막 글자와 i가 다를 경우 카운팅된 값을 문자열 형태로 result 변수 마지막에 추가 해주고 i를 마지막 문자로 추가합니다.\n",
    "        count = 1\n",
    "result += str(count) #결과들이 담긴 변수에 마지막으로 카운팅된 값을 문자열 형태로 추가합니다.\n",
    "\n",
    "print(result)\n",
    "        "
   ]
  },
  {
   "cell_type": "code",
   "execution_count": 16,
   "id": "ce147a2c",
   "metadata": {},
   "outputs": [
    {
     "name": "stdout",
     "output_type": "stream",
     "text": [
      "문자입력:aaabbccccca\n"
     ]
    },
    {
     "data": {
      "text/plain": [
       "'a3b2c5a1'"
      ]
     },
     "execution_count": 16,
     "metadata": {},
     "output_type": "execute_result"
    }
   ],
   "source": [
    "from itertools import groupby\n",
    "text = input('문자입력:')\n",
    "result = \"\".join('%s%s' % (x, len(list(y))) for x, y in groupby(text))\n",
    "result"
   ]
  },
  {
   "cell_type": "code",
   "execution_count": 5,
   "id": "482552cd",
   "metadata": {},
   "outputs": [
    {
     "name": "stdout",
     "output_type": "stream",
     "text": [
      "a 2\n",
      "b 3\n",
      "c 2\n",
      "d 1\n"
     ]
    }
   ],
   "source": [
    "from itertools import groupby\n",
    "text = 'aabbbccd'\n",
    "for x, y in groupby(text):\n",
    "    print(x,len(list(y)))\n",
    "    "
   ]
  },
  {
   "cell_type": "markdown",
   "id": "aa021123",
   "metadata": {},
   "source": [
    "#### Q62.\n",
    "N개의 요소로 이루어진 배열이 있을 때 주어진 수들을 M번 더하여 가장 큰 수를 만드는 프로그램을 작성하세요. 단 배열의 특정한 인덱스(번호)에 해당하는 수가 연속해서 K번을 초과하여 더해질 수 없는 것이 특징이다.\n",
    "프로그램은 다음 조건을 만족하는 N, M, K를 공백으로 일차 입력하고 N개의 배열을 공백으로 이차 입력하면 결과물을 출력하는 방식으로 수행함.\n",
    "- 2 <= N <= 1000\n",
    "- 1 <= M <= 10000\n",
    "- 1 <= K <= 10000\n",
    "(조건에 맞는 식 사용)"
   ]
  },
  {
   "cell_type": "code",
   "execution_count": 2,
   "id": "b07a470e",
   "metadata": {
    "scrolled": true
   },
   "outputs": [
    {
     "name": "stdout",
     "output_type": "stream",
     "text": [
      "1 2 3\n"
     ]
    },
    {
     "data": {
      "text/plain": [
       "5"
      ]
     },
     "execution_count": 2,
     "metadata": {},
     "output_type": "execute_result"
    }
   ],
   "source": [
    "N,M,K= input().split()\n",
    "while Ture:\n",
    "    for i in range(N):\n",
    "        li=input(int('요소입력:'))\n",
    "        if li[i]>=2 & li[i]<=1000:\n",
    "            continue\n",
    "        len(li)==N\n",
    "    \n",
    "li=[1,2,3,4,5]\n",
    "for i in M:\n",
    "    \n",
    "max(li)"
   ]
  },
  {
   "cell_type": "markdown",
   "id": "3092a0cb",
   "metadata": {},
   "source": [
    "- 예림님"
   ]
  },
  {
   "cell_type": "code",
   "execution_count": 3,
   "id": "e32ebbd2",
   "metadata": {},
   "outputs": [
    {
     "name": "stdout",
     "output_type": "stream",
     "text": [
      "N M K(왼쪽과 같은 형식으로 숫자를 입력하세요.)5 30 6\n",
      "5 30 6\n",
      "n n n n n(왼쪽과 같은 형식으로 배열을 입력하세요.)1 2 3 4 5\n",
      "90\n"
     ]
    }
   ],
   "source": [
    "while True:\n",
    "    ip = input('N M K(왼쪽과 같은 형식으로 숫자를 입력하세요.)').split(' ')\n",
    "    N = int(ip[0])\n",
    "    M = int(ip[1])\n",
    "    K = int(ip[2])\n",
    "    result = 0\n",
    "    print(N,M,K)\n",
    "    \n",
    "    if (2 <= N <=1000) & (1 <= M <= 10000) & (1 <= K <= 10000):\n",
    "        pass\n",
    "    else:\n",
    "        print('''\n",
    "        아래의 조건에 맞게 입력해주세요.\n",
    "        2 <= N <= 1000\n",
    "        1 <= M <= 10000\n",
    "        1 <= K <= 10000\n",
    "        ''')\n",
    "        continue\n",
    "        \n",
    "    Ni = list(map(int, input('n n n n n(왼쪽과 같은 형식으로 배열을 입력하세요.)').split(' ')))\n",
    "    if N != len(Ni):\n",
    "        print('배열의 갯수가 다릅니다 다시 입력해 주세요')\n",
    "        continue\n",
    "    else:\n",
    "        if M <= K:\n",
    "            result = max(Ni)*M\n",
    "        else:\n",
    "            for i in range(1,M+1):\n",
    "                if i % K == 0:\n",
    "                    result += max(Ni)\n",
    "                    Ni.remove(max(Ni))\n",
    "                else:\n",
    "                    result += max(Ni)\n",
    "    print(result)\n",
    "    break"
   ]
  },
  {
   "cell_type": "markdown",
   "id": "e1abc6da",
   "metadata": {},
   "source": [
    "- 강사님"
   ]
  },
  {
   "cell_type": "code",
   "execution_count": 4,
   "id": "ce910122",
   "metadata": {},
   "outputs": [
    {
     "name": "stdout",
     "output_type": "stream",
     "text": [
      "5 40 4\n",
      "1 2 3 4 5\n",
      "192\n"
     ]
    }
   ],
   "source": [
    "# N, M, K를 공백을 기준으로 구분하여 입력 받기\n",
    "n, m, k = map(int, input().split())\n",
    "# N개의 수를 공백을 기준으로 구분하여 입력 받기\n",
    "data = list(map(int, input().split()))\n",
    "\n",
    "data.sort() # 입력 받은 수들 정렬하기\n",
    "first = data[n - 1] # 가장 큰 수\n",
    "second = data[n - 2] # 두 번째로 큰 수\n",
    "\n",
    "# 가장 큰 수가 더해지는 횟수 계산\n",
    "count = int(m / (k + 1)) * k\n",
    "count += m % (k + 1)\n",
    "\n",
    "result = 0\n",
    "result += (count) * first # 가장 큰 수 더하기\n",
    "result += (m - count) * second # 두 번째로 큰 수 더하기\n",
    "\n",
    "print(result) # 최종 답안 출력\n"
   ]
  },
  {
   "cell_type": "markdown",
   "id": "d6a414c9",
   "metadata": {},
   "source": [
    "#### Q61. file1, 2의 파일 크기를 각각 구하세요.\n",
    "\n",
    "- file1 = 'data/stockcode.txt'\n",
    "- file2 = 'data/img_sample.jpg'\n"
   ]
  },
  {
   "cell_type": "code",
   "execution_count": 8,
   "id": "aaf32680",
   "metadata": {},
   "outputs": [
    {
     "name": "stdout",
     "output_type": "stream",
     "text": [
      "File1 size : 16339 bytes\n",
      "File2 size : 170005 bytes\n"
     ]
    }
   ],
   "source": [
    "from pathlib import Path\n",
    "Path(r'data/stockcode.txt').stat()\n",
    "file1_size =Path(r'data/stockcode.txt').stat().st_size\n",
    "#파일 경로를 원시 문자열로 만들려면 앞에r을 배치해야합니다. \n",
    "#그렇지 않으면C:\\\\test\\\\file1.txt와 같이 백 슬래시를 이스케이프해야합니다.\n",
    "Path(r'data/img_sample.jpg').stat()\n",
    "file2_size =Path(r'data/img_sample.jpg').stat().st_size\n",
    "print(\"File1 size :\", file1_size,\"bytes\")\n",
    "print(\"File2 size :\", file2_size,\"bytes\")"
   ]
  },
  {
   "cell_type": "code",
   "execution_count": 6,
   "id": "41fad5d2",
   "metadata": {},
   "outputs": [
    {
     "name": "stdout",
     "output_type": "stream",
     "text": [
      "File1 Size: 16339 bytes\n",
      "File2 size: 170005 bytes\n"
     ]
    }
   ],
   "source": [
    "import os\n",
    "file1_size = os.path.getsize(r'data/stockcode.txt') \n",
    "file2_size = os.path.getsize(r'data/img_sample.jpg')\n",
    "print('File1 Size:', file1_size, 'bytes')\n",
    "print('File2 size:', file2_size, 'bytes')"
   ]
  },
  {
   "cell_type": "code",
   "execution_count": 25,
   "id": "93f5c3ef",
   "metadata": {},
   "outputs": [
    {
     "data": {
      "text/plain": [
       "16339"
      ]
     },
     "execution_count": 25,
     "metadata": {},
     "output_type": "execute_result"
    }
   ],
   "source": [
    "size = os.path.getsize('data/stockcode.txt')\n",
    "size"
   ]
  },
  {
   "cell_type": "markdown",
   "id": "33af7d12",
   "metadata": {},
   "source": [
    "#### Q62.\n",
    "stockcode.txt의 105바이트 위치에서 500바이트를 읽어 그 내용은 stock_part.txt에 저장 한 후 출력하세요."
   ]
  },
  {
   "cell_type": "code",
   "execution_count": 22,
   "id": "5ab56cf4",
   "metadata": {},
   "outputs": [
    {
     "data": {
      "text/plain": [
       "' 유한양행\\n000101 유한양행우\\n000120 대한통운\\n000140 하이트홀딩스\\n000141 하이트홀딩스우\\n000150 두산\\n000151 두산우\\n000152 두산2우B\\n000180 성창기업지주\\n000210 대림산업\\n000211 대림산업우\\n000220 유유제약\\n000221 유유제약1우\\n000222 유유제약2우B\\n000230 일동제약\\n000240 한국타이어\\n000270 기아차\\n000300 대유신소재\\n000320 디피아이홀딩스\\n000321 디피아이홀딩스우\\n000322 디피아이홀딩스2B\\n000360 삼환기업\\n000361 삼환기업우\\n000370 한화손해보험\\n000390 삼화페인트\\n000400 롯데손해보험\\n000420 로케트전기\\n000421 로케트전우\\n000430 대원강업\\n000470 그린손해보험\\n000480 조선내화\\n000490 대동공업\\n000500 가온전선\\n000520 삼일제약\\n000540 흥국쌍용화재\\n000541 흥국쌍용화재우\\n000542 흥국쌍용화재2우B\\n000590 조선선재\\n00061'"
      ]
     },
     "execution_count": 22,
     "metadata": {},
     "output_type": "execute_result"
    }
   ],
   "source": [
    "f = open('data/stockcode.txt') # 파일읽기\n",
    "s = f.read() \n",
    "f.seek(105)\n",
    "f.read(500)\n"
   ]
  },
  {
   "cell_type": "code",
   "execution_count": 29,
   "id": "c437ce25",
   "metadata": {
    "collapsed": true
   },
   "outputs": [
    {
     "name": "stdout",
     "output_type": "stream",
     "text": [
      "body\n"
     ]
    },
    {
     "ename": "FileNotFoundError",
     "evalue": "[WinError 2] 지정된 파일을 찾을 수 없습니다: 'storck_part.txt'",
     "output_type": "error",
     "traceback": [
      "\u001b[1;31m---------------------------------------------------------------------------\u001b[0m",
      "\u001b[1;31mFileNotFoundError\u001b[0m                         Traceback (most recent call last)",
      "Input \u001b[1;32mIn [29]\u001b[0m, in \u001b[0;36m<cell line: 10>\u001b[1;34m()\u001b[0m\n\u001b[0;32m      8\u001b[0m \u001b[38;5;28;01mwith\u001b[39;00m \u001b[38;5;28mopen\u001b[39m(\u001b[38;5;124m'\u001b[39m\u001b[38;5;124mstock_part.txt\u001b[39m\u001b[38;5;124m'\u001b[39m,\u001b[38;5;124m'\u001b[39m\u001b[38;5;124mr\u001b[39m\u001b[38;5;124m'\u001b[39m) \u001b[38;5;28;01mas\u001b[39;00m f:\n\u001b[0;32m      9\u001b[0m     \u001b[38;5;28mprint\u001b[39m(f\u001b[38;5;241m.\u001b[39mread())\n\u001b[1;32m---> 10\u001b[0m \u001b[43mos\u001b[49m\u001b[38;5;241;43m.\u001b[39;49m\u001b[43mpath\u001b[49m\u001b[38;5;241;43m.\u001b[39;49m\u001b[43mgetsize\u001b[49m\u001b[43m(\u001b[49m\u001b[38;5;124;43m'\u001b[39;49m\u001b[38;5;124;43mstorck_part.txt\u001b[39;49m\u001b[38;5;124;43m'\u001b[39;49m\u001b[43m)\u001b[49m\n",
      "File \u001b[1;32m~\\Anaconda3\\envs\\cakd7\\lib\\genericpath.py:50\u001b[0m, in \u001b[0;36mgetsize\u001b[1;34m(filename)\u001b[0m\n\u001b[0;32m     48\u001b[0m \u001b[38;5;28;01mdef\u001b[39;00m \u001b[38;5;21mgetsize\u001b[39m(filename):\n\u001b[0;32m     49\u001b[0m     \u001b[38;5;124;03m\"\"\"Return the size of a file, reported by os.stat().\"\"\"\u001b[39;00m\n\u001b[1;32m---> 50\u001b[0m     \u001b[38;5;28;01mreturn\u001b[39;00m \u001b[43mos\u001b[49m\u001b[38;5;241;43m.\u001b[39;49m\u001b[43mstat\u001b[49m\u001b[43m(\u001b[49m\u001b[43mfilename\u001b[49m\u001b[43m)\u001b[49m\u001b[38;5;241m.\u001b[39mst_size\n",
      "\u001b[1;31mFileNotFoundError\u001b[0m: [WinError 2] 지정된 파일을 찾을 수 없습니다: 'storck_part.txt'"
     ]
    }
   ],
   "source": [
    "import os\n",
    "with open('data/stockcode.txt','rb') as f:\n",
    "    f.seek(105)\n",
    "    body = f.read(500)\n",
    "    # print(f.read(500))\n",
    "with open('stock_part.txt','w') as f:\n",
    "    f.write('body')\n",
    "with open('stock_part.txt','r') as f:\n",
    "    print(f.read())\n",
    "os.path.getsize('storck_part.txt')"
   ]
  },
  {
   "cell_type": "markdown",
   "id": "33fefc87",
   "metadata": {},
   "source": [
    "#### Q63.\n",
    "네이버 검색에서 관심 주제와 기사 수를 입력하면 그만큼 출력하는 크롤링 프로그램을 작성하여 다음 사항을 수행하세요.\n",
    "\n",
    "- 기사 제목과 링크를 데이터프레임으로 가져온 후 본문 내용에서 한글 단어만 출력하여 형태소 분석\n",
    "- 최근 국내 'AI'와 관련하여 가장 많이 언급되는 단어에 대한 빈도분석 및 시각화\n",
    "- AI 분야에서의 유의할 만한 트랜드 정보 및 인사이트 도출\n",
    "\n"
   ]
  },
  {
   "cell_type": "code",
   "execution_count": null,
   "id": "d00d056a",
   "metadata": {},
   "outputs": [],
   "source": [
    "sp_nws1 > div > div > div > div > a\n",
    "//*[@id=\"sp_nws1\"]/div[1]/div/div[2]/div/a"
   ]
  },
  {
   "cell_type": "code",
   "execution_count": 43,
   "id": "fc123250",
   "metadata": {},
   "outputs": [
    {
     "name": "stdout",
     "output_type": "stream",
     "text": [
      "검색 할 내용을 입력하세요.AI\n",
      "원하는 기사의 수를 입력하세요.50\n"
     ]
    },
    {
     "data": {
      "text/html": [
       "<div>\n",
       "<style scoped>\n",
       "    .dataframe tbody tr th:only-of-type {\n",
       "        vertical-align: middle;\n",
       "    }\n",
       "\n",
       "    .dataframe tbody tr th {\n",
       "        vertical-align: top;\n",
       "    }\n",
       "\n",
       "    .dataframe thead th {\n",
       "        text-align: right;\n",
       "    }\n",
       "</style>\n",
       "<table border=\"1\" class=\"dataframe\">\n",
       "  <thead>\n",
       "    <tr style=\"text-align: right;\">\n",
       "      <th></th>\n",
       "      <th>text</th>\n",
       "    </tr>\n",
       "  </thead>\n",
       "  <tbody>\n",
       "    <tr>\n",
       "      <th>0</th>\n",
       "      <td>\\n\\n\\n\\n\\nKT, 가톨릭대 서울성모병원 CI. /각 업체        KT는...</td>\n",
       "    </tr>\n",
       "    <tr>\n",
       "      <th>1</th>\n",
       "      <td>\\n\\t\\t\\t(청주=연합뉴스) 박재천 기자 = 김영환 충북지사는 8일 세종에서 이...</td>\n",
       "    </tr>\n",
       "    <tr>\n",
       "      <th>2</th>\n",
       "      <td>\\n'삼성 AI 챌린지'…신소재·컴퓨터 부문 국내 대학생에게 멘토링삼성전자가 인공지...</td>\n",
       "    </tr>\n",
       "    <tr>\n",
       "      <th>3</th>\n",
       "      <td>\\n대학생·대학원생 대상 공모전, 반도체·디스플레이 인력 발굴\\n\\n\\n\\n삼성전자...</td>\n",
       "    </tr>\n",
       "    <tr>\n",
       "      <th>4</th>\n",
       "      <td>\\n스타트업 '지속가능발전소'와 협업ESG 리스크 모니터링 서비스 제공중견기업 관련...</td>\n",
       "    </tr>\n",
       "  </tbody>\n",
       "</table>\n",
       "</div>"
      ],
      "text/plain": [
       "                                                text\n",
       "0  \\n\\n\\n\\n\\nKT, 가톨릭대 서울성모병원 CI. /각 업체        KT는...\n",
       "1  \\n\\t\\t\\t(청주=연합뉴스) 박재천 기자 = 김영환 충북지사는 8일 세종에서 이...\n",
       "2  \\n'삼성 AI 챌린지'…신소재·컴퓨터 부문 국내 대학생에게 멘토링삼성전자가 인공지...\n",
       "3  \\n대학생·대학원생 대상 공모전, 반도체·디스플레이 인력 발굴\\n\\n\\n\\n삼성전자...\n",
       "4  \\n스타트업 '지속가능발전소'와 협업ESG 리스크 모니터링 서비스 제공중견기업 관련..."
      ]
     },
     "execution_count": 43,
     "metadata": {},
     "output_type": "execute_result"
    }
   ],
   "source": [
    "from urllib.parse import quote\n",
    "import urllib\n",
    "from bs4 import BeautifulSoup\n",
    "import re\n",
    "import pandas as pd\n",
    "df_1 = pd.DataFrame(columns=['text'])\n",
    "\n",
    "\n",
    "query = quote(input('검색 할 내용을 입력하세요.'))\n",
    "cnt = int(input('원하는 기사의 수를 입력하세요.'))\n",
    "start = 1\n",
    "ind = 0\n",
    "url_link =[]\n",
    "text_all =[]\n",
    "while cnt > len(url_link):\n",
    "    url = f'https://search.naver.com/search.naver?where=news&query={query}&start={str(start)}'\n",
    "    html = urllib.request.urlopen(url)\n",
    "    bs = BeautifulSoup(html,'lxml')\n",
    "    mask = bs.select('.list_news > li > div > div > div > div > a.info')\n",
    "    for x in mask:\n",
    "        if (cnt >len(url_link)) & (x.get_text() == '네이버뉴스'):\n",
    "            url_link.append(x['href'])\n",
    "    start += 10\n",
    "    \n",
    "\n",
    "for url in url_link:\n",
    "    response = urllib.request.urlopen(url)\n",
    "    soup = BeautifulSoup(response, 'lxml')\n",
    "    text = soup.select_one('#dic_area')\n",
    "    if text == None:\n",
    "        text_all.append([])\n",
    "    else:\n",
    "        text_all.append(text.text)\n",
    "\n",
    "df_1['text'] = text_all\n",
    "df_1.head()"
   ]
  },
  {
   "cell_type": "code",
   "execution_count": 46,
   "id": "d14a6480",
   "metadata": {},
   "outputs": [
    {
     "data": {
      "text/html": [
       "<div>\n",
       "<style scoped>\n",
       "    .dataframe tbody tr th:only-of-type {\n",
       "        vertical-align: middle;\n",
       "    }\n",
       "\n",
       "    .dataframe tbody tr th {\n",
       "        vertical-align: top;\n",
       "    }\n",
       "\n",
       "    .dataframe thead th {\n",
       "        text-align: right;\n",
       "    }\n",
       "</style>\n",
       "<table border=\"1\" class=\"dataframe\">\n",
       "  <thead>\n",
       "    <tr style=\"text-align: right;\">\n",
       "      <th></th>\n",
       "      <th>index</th>\n",
       "      <th>cnt</th>\n",
       "    </tr>\n",
       "  </thead>\n",
       "  <tbody>\n",
       "    <tr>\n",
       "      <th>0</th>\n",
       "      <td>기업</td>\n",
       "      <td>107</td>\n",
       "    </tr>\n",
       "    <tr>\n",
       "      <th>1</th>\n",
       "      <td>기술</td>\n",
       "      <td>100</td>\n",
       "    </tr>\n",
       "    <tr>\n",
       "      <th>2</th>\n",
       "      <td>교육</td>\n",
       "      <td>99</td>\n",
       "    </tr>\n",
       "    <tr>\n",
       "      <th>3</th>\n",
       "      <td>분야</td>\n",
       "      <td>73</td>\n",
       "    </tr>\n",
       "    <tr>\n",
       "      <th>4</th>\n",
       "      <td>서비스</td>\n",
       "      <td>71</td>\n",
       "    </tr>\n",
       "  </tbody>\n",
       "</table>\n",
       "</div>"
      ],
      "text/plain": [
       "  index  cnt\n",
       "0    기업  107\n",
       "1    기술  100\n",
       "2    교육   99\n",
       "3    분야   73\n",
       "4   서비스   71"
      ]
     },
     "execution_count": 46,
     "metadata": {},
     "output_type": "execute_result"
    }
   ],
   "source": [
    "target = df_1['text'].values #배열\n",
    "text_list = target.tolist() # 리스트로 변환\n",
    "# text = ' '.join(text_list)\n",
    "# text\n",
    "stopword = ['인공','지능','개발','활용','통해','이번',\n",
    "            '위해','진행','예정','기자','평가','지난','현재',\n",
    "            '라며','확인','방식','실제','이용',\n",
    "            '뉴스','이미지','의미','출시','발생','내용','발표','상품','지난해',\n",
    "            '시작','때문','최초','단계','가지','스케','통한','하나',\n",
    "            '가장','더욱','직접','뉴시스','모든','추천','광고','또한',\n",
    "            '실시간','기사','모두','기간','홈페이지','검색','누구','우선',\n",
    "            '연합뉴스','앞서','그동안','이데일리','지난달','대부분','여기',\n",
    "            '작년','번역','미디어아트','업데이트','파이낸셜뉴스','페이지',\n",
    "            '무엇','이름']\n",
    "noun = []\n",
    "for d in text_list:\n",
    "    morphs = Okt().pos(d)\n",
    "    for j,k in morphs:\n",
    "        if(len(j) >1 ) & (k == 'Noun'):\n",
    "            noun.append(j)\n",
    "count = Counter(noun)\n",
    "data = dict(count.most_common())\n",
    "for i in stopword:\n",
    "    if i in data:\n",
    "        data.pop(i)\n",
    "series = pd.Series(data)\n",
    "df = pd.DataFrame(series, columns=['cnt'])\n",
    "df10 = df.sort_values(by='cnt',ascending=False)[:50]\n",
    "df10.reset_index(inplace=True)\n",
    "df10.head()"
   ]
  },
  {
   "cell_type": "code",
   "execution_count": 51,
   "id": "f40ff92b",
   "metadata": {
    "scrolled": true
   },
   "outputs": [
    {
     "data": {
      "text/plain": [
       "<AxesSubplot:xlabel='index', ylabel='cnt'>"
      ]
     },
     "execution_count": 51,
     "metadata": {},
     "output_type": "execute_result"
    },
    {
     "data": {
      "image/png": "[encoded data removed]",
      "text/plain": [
       "<Figure size 432x288 with 1 Axes>"
      ]
     },
     "metadata": {
      "needs_background": "light"
     },
     "output_type": "display_data"
    }
   ],
   "source": [
    "sns.barplot(x='index',y='cnt',data=df10.iloc[:][0:10],orient='v')"
   ]
  },
  {
   "cell_type": "code",
   "execution_count": 48,
   "id": "62ae3e6a",
   "metadata": {},
   "outputs": [
    {
     "data": {
      "text/plain": [
       "(-0.5, 5999.5, 2299.5, -0.5)"
      ]
     },
     "execution_count": 48,
     "metadata": {},
     "output_type": "execute_result"
    },
    {
     "data": {
      "image/png": "[encoded data removed]",
      "text/plain": [
       "<Figure size 720x576 with 1 Axes>"
      ]
     },
     "metadata": {
      "needs_background": "light"
     },
     "output_type": "display_data"
    }
   ],
   "source": [
    "from wordcloud import WordCloud\n",
    "import matplotlib.pyplot as plt\n",
    "wordcloud = WordCloud(font_path='../visualization/dataset/malgun.ttf',background_color='black',\n",
    "                     colormap='flare',width=6000, height=2300).generate_from_frequencies(data)\n",
    "plt.figure(figsize=(10,8))\n",
    "plt.imshow(wordcloud)\n",
    "plt.axis('off')"
   ]
  },
  {
   "cell_type": "code",
   "execution_count": null,
   "id": "77b6ce6f",
   "metadata": {},
   "outputs": [],
   "source": []
  },
  {
   "cell_type": "code",
   "execution_count": null,
   "id": "5d9b32d0",
   "metadata": {},
   "outputs": [],
   "source": []
  },
  {
   "cell_type": "code",
   "execution_count": 4,
   "id": "06f47519",
   "metadata": {
    "collapsed": true
   },
   "outputs": [
    {
     "name": "stdout",
     "output_type": "stream",
     "text": [
      "[('\\n\\n\\n\\n\\n', 'Foreign'), ('KT', 'Alpha'), (',', 'Punctuation'), ('가톨릭대', 'Noun'), ('서', 'Modifier'), ('울', 'Modifier'), ('성', 'Modifier'), ('모', 'Modifier'), ('병원', 'Noun'), ('CI', 'Alpha'), ('.', 'Punctuation'), ('/', 'Punctuation'), ('각', 'Noun'), ('업체', 'Noun'), ('KT', 'Alpha'), ('는', 'Verb'), ('가톨릭대', 'Noun'), ('서', 'Modifier'), ('울', 'Modifier'), ('성', 'Modifier'), ('모', 'Modifier'), ('병원', 'Noun'), ('과', 'Josa'), ('1', 'Number'), ('형', 'Noun'), ('당뇨', 'Noun'), ('환자', 'Noun'), ('를', 'Josa'), ('위', 'Noun'), ('한', 'Josa'), ('디지털', 'Noun'), ('트윈', 'Noun'), ('기술', 'Noun'), ('을', 'Josa'), ('개발', 'Noun'), ('한다고', 'Verb'), ('8일', 'Number'), ('밝혔다', 'Verb'), ('.', 'Punctuation'), ('디지털', 'Noun'), ('트윈', 'Noun'), ('은', 'Josa'), ('가상공간', 'Noun'), ('에', 'Josa'), ('현실', 'Noun'), ('과', 'Josa'), ('똑같은', 'Adjective'), ('쌍둥이', 'Noun'), ('를', 'Josa'), ('만들어', 'Verb'), ('발생', 'Noun'), ('할', 'Verb'), ('수', 'Noun'), ('있는', 'Adjective'), ('상황', 'Noun'), ('을', 'Josa'), ('시뮬레이션', 'Noun'), ('해', 'Verb'), ('결과', 'Noun'), ('를', 'Josa'), ('예측', 'Noun'), ('하는', 'Verb'), ('기술', 'Noun'), ('이다', 'Josa'), ('.', 'Punctuation'), ('KT', 'Alpha'), ('와', 'Verb'), ('서', 'Modifier'), ('울', 'Modifier'), ('성', 'Modifier'), ('모', 'Modifier'), ('병원', 'Noun'), ('은', 'Josa'), ('각각', 'Noun'), ('AI', 'Alpha'), ('(', 'Punctuation'), ('인공', 'Noun'), ('지능', 'Noun'), (')', 'Punctuation'), ('역량', 'Noun'), ('과', 'Josa'), ('의료', 'Noun'), ('데이터', 'Noun'), ('를', 'Josa'), ('결합', 'Noun'), ('한다는', 'Modifier'), ('계획', 'Noun'), ('이다', 'Josa'), ('.', 'Punctuation'), ('우선', 'Noun'), ('KT', 'Alpha'), ('는', 'Verb'), ('서', 'Modifier'), ('울', 'Modifier'), ('성', 'Modifier'), ('모', 'Modifier'), ('병원', 'Noun'), ('이', 'Josa'), ('연속', 'Noun'), ('혈당', 'Noun'), ('측정기', 'Noun'), ('와', 'Josa'), ('식이', 'Noun'), ('앱', 'Noun'), ('(', 'Punctuation'), ('Food', 'Alpha'), ('Tag', 'Alpha'), ('),', 'Punctuation'), ('활동', 'Noun'), ('량', 'Noun'), ('계', 'Noun'), ('(', 'Punctuation'), ('Activity', 'Alpha'), ('Tracker', 'Alpha'), ('),', 'Punctuation'), ('인슐린', 'Noun'), ('펌프', 'Noun'), ('등', 'Noun'), ('으로', 'Josa'), ('수집', 'Noun'), ('한', 'Josa'), ('당뇨', 'Noun'), ('환자', 'Noun'), ('의', 'Josa'), ('라이프', 'Noun'), ('로그', 'Noun'), ('를', 'Josa'), ('활용', 'Noun'), ('해', 'Verb'), ('AI', 'Alpha'), ('식이', 'Noun'), ('관리', 'Noun'), ('솔루션', 'Noun'), ('과', 'Josa'), ('진화', 'Noun'), ('형', 'Suffix'), ('인공', 'Noun'), ('췌장', 'Noun'), ('알고리즘', 'Noun'), ('을', 'Josa'), ('개발', 'Noun'), ('한다', 'Verb'), ('.', 'Punctuation'), ('AI', 'Alpha'), ('식이', 'Noun'), ('관리', 'Noun'), ('솔루션', 'Noun'), ('은', 'Josa'), ('AI', 'Alpha'), ('영상', 'Noun'), ('인식', 'Noun'), ('기술', 'Noun'), ('로', 'Josa'), ('음식', 'Noun'), ('의', 'Josa'), ('종류', 'Noun'), ('와', 'Josa'), ('영양성분', 'Noun'), (',', 'Punctuation'), ('칼로리', 'Noun'), ('등', 'Noun'), ('을', 'Josa'), ('자동', 'Noun'), ('인식', 'Noun'), ('해', 'Verb'), ('식단', 'Noun'), ('관리', 'Noun'), ('를', 'Josa'), ('돕는', 'Verb'), ('기술', 'Noun'), ('이다', 'Josa'), ('.', 'Punctuation'), ('진화', 'Noun'), ('형', 'Suffix'), ('인공', 'Noun'), ('췌장', 'Noun'), ('알고리즘', 'Noun'), ('은', 'Josa'), ('AI', 'Alpha'), ('알고리즘', 'Noun'), ('을', 'Josa'), ('이용', 'Noun'), ('해', 'Verb'), ('환자', 'Noun'), ('의', 'Josa'), ('혈당', 'Noun'), ('에', 'Josa'), ('맞게', 'Verb'), ('주입', 'Noun'), ('될', 'Verb'), ('인슐린', 'Noun'), ('의', 'Josa'), ('양', 'Noun'), ('을', 'Josa'), ('분석', 'Noun'), ('하는', 'Verb'), ('기술', 'Noun'), ('이다', 'Josa'), ('.', 'Punctuation'), ('KT', 'Alpha'), ('는', 'Verb'), ('이', 'Noun'), ('기술', 'Noun'), ('들', 'Suffix'), ('로', 'Josa'), ('디지털', 'Noun'), ('트윈', 'Noun'), ('을', 'Josa'), ('구현', 'Noun'), ('하면', 'Verb'), ('당뇨', 'Noun'), ('환자', 'Noun'), ('의', 'Josa'), ('상태', 'Noun'), ('를', 'Josa'), ('예측', 'Noun'), ('해', 'Verb'), ('당뇨', 'Noun'), ('를', 'Josa'), ('효과', 'Noun'), ('적', 'Suffix'), ('으로', 'Josa'), ('관리', 'Noun'), ('할', 'Verb'), ('수', 'Noun'), ('있을', 'Adjective'), ('것', 'Noun'), ('으로', 'Josa'), ('기대했다', 'Adjective'), ('.', 'Punctuation'), ('한자', 'Noun'), ('경', 'Noun'), ('KT', 'Alpha'), ('융합기술원', 'Noun'), ('컨버전', 'Noun'), ('스', 'Noun'), ('연구소', 'Noun'), ('상무', 'Noun'), ('는', 'Josa'), ('“', 'Foreign'), ('산업', 'Noun'), ('AI', 'Alpha'), ('역량', 'Noun'), ('을', 'Josa'), ('바탕', 'Noun'), ('으로', 'Josa'), ('의료', 'Noun'), ('분야', 'Noun'), ('의', 'Josa'), ('여러', 'Noun'), ('업체', 'Noun'), ('와', 'Josa'), ('협력', 'Noun'), ('할', 'Verb'), ('계획', 'Noun'), ('이다', 'Josa'), ('”', 'Foreign'), ('라며', 'Noun'), ('“', 'Foreign'), ('이를', 'Verb'), ('통해', 'Noun'), ('환자', 'Noun'), ('에게', 'Josa'), ('실질', 'Noun'), ('적', 'Suffix'), ('인', 'Josa'), ('도움', 'Noun'), ('을', 'Josa'), ('줄', 'Noun'), ('수', 'Noun'), ('있는', 'Adjective'), ('기술', 'Noun'), ('을', 'Josa'), ('개발', 'Noun'), ('하고', 'Josa'), (',', 'Punctuation'), ('일상', 'Noun'), ('에서', 'Josa'), ('헬', 'Noun'), ('스케', 'Noun'), ('어', 'Suffix'), ('서비스', 'Noun'), ('를', 'Josa'), ('확대', 'Noun'), ('하도록', 'Verb'), ('노력', 'Noun'), ('하겠다', 'Verb'), ('”', 'Foreign'), ('라고', 'Josa'), ('말', 'Noun'), ('했다', 'Verb'), ('.', 'Punctuation'), ('\\n \\n', 'Foreign'), (\"'\", 'Punctuation'), ('삼성', 'Noun'), ('AI', 'Alpha'), ('챌', 'Verb'), ('린지', 'Noun'), (\"'…\", 'Punctuation'), ('신소재', 'Noun'), ('·', 'Punctuation'), ('컴퓨터', 'Noun'), ('부문', 'Noun'), ('국내', 'Noun'), ('대학생', 'Noun'), ('에게', 'Josa'), ('멘토링', 'Noun'), ('삼', 'Modifier'), ('성', 'Modifier'), ('전자', 'Noun'), ('가', 'Josa'), ('인공', 'Noun'), ('지능', 'Noun'), ('(', 'Punctuation'), ('AI', 'Alpha'), (')', 'Punctuation'), ('분야', 'Noun'), ('우수', 'Noun'), ('인력', 'Noun'), ('을', 'Josa'), ('발굴', 'Noun'), ('해', 'Verb'), ('반도체', 'Noun'), ('·', 'Punctuation'), ('디스플레이', 'Noun'), ('를', 'Josa'), ('연구', 'Noun'), ('하기로', 'Verb'), ('했다', 'Verb'), ('.', 'Punctuation'), ('삼', 'Modifier'), ('성', 'Modifier'), ('전자', 'Noun'), ('는', 'Josa'), ('다음', 'Noun'), ('달', 'Noun'), ('16일', 'Number'), ('까지', 'Foreign'), ('대학생', 'Noun'), ('경진', 'Noun'), ('대회', 'Noun'), ('‘', 'Foreign'), ('삼성', 'Noun'), ('AI', 'Alpha'), ('챌', 'Verb'), ('린지', 'Noun'), ('’', 'Punctuation'), ('를', 'Noun'), ('개최', 'Noun'), ('한다고', 'Verb'), ('7일', 'Number'), ('밝혔다', 'Verb'), ('.', 'Punctuation'), ('공모', 'Noun'), ('과제', 'Noun'), ('는', 'Josa'), ('AI', 'Alpha'), ('기술', 'Noun'), ('을', 'Josa'), ('활용', 'Noun'), ('한', 'Josa'), ('신소재', 'Noun'), ('연구', 'Noun'), ('와', 'Josa'), ('컴퓨터', 'Noun'), ('비전이다', 'Verb'), ('.', 'Punctuation'), ('\\n\\n\\n\\n', 'Foreign'), ('삼성', 'Noun'), ('전자', 'Noun'), ('AI', 'Alpha'), ('챌', 'Verb'), ('린지', 'Noun'), ('포스터', 'Noun'), ('(', 'Punctuation'), ('자료', 'Noun'), (':', 'Punctuation'), ('삼성', 'Noun'), ('전자', 'Noun'), (')', 'Punctuation'), ('신소재', 'Noun'), ('연구', 'Noun'), ('주제', 'Noun'), ('는', 'Josa'), ('‘', 'Foreign'), ('유기', 'Noun'), ('분자', 'Noun'), ('구조', 'Noun'), ('로부터', 'Noun'), ('재', 'Noun'), ('편성', 'Noun'), ('에너지', 'Noun'), ('를', 'Josa'), ('예측', 'Noun'), ('하는', 'Verb'), ('알고리즘', 'Noun'), ('개발', 'Noun'), ('’', 'Punctuation'), ('이다', 'Josa'), ('.', 'Punctuation'), ('유기', 'Noun'), ('디스플레이', 'Noun'), ('소재', 'Noun'), ('발광', 'Noun'), ('효율', 'Noun'), ('에', 'Josa'), ('영향', 'Noun'), ('을', 'Josa'), ('주는', 'Verb'), ('것', 'Noun'), ('으로', 'Josa'), ('알려진', 'Verb'), ('분자', 'Noun'), ('구조', 'Noun'), ('변화', 'Noun'), ('에너지', 'Noun'), ('를', 'Josa'), ('예측', 'Noun'), ('하는', 'Verb'), ('AI', 'Alpha'), ('모델', 'Noun'), ('을', 'Josa'), ('개발', 'Noun'), ('해야', 'Verb'), ('한다', 'Verb'), ('.', 'Punctuation'), ('삼', 'Modifier'), ('성', 'Modifier'), ('전자', 'Noun'), ('는', 'Josa'), ('효율', 'Noun'), ('이', 'Josa'), ('높고', 'Adjective'), ('수명', 'Noun'), ('이', 'Josa'), ('긴', 'Verb'), ('유기', 'Noun'), ('디스플레이', 'Noun'), ('발광', 'Noun'), ('소재', 'Noun'), ('를', 'Josa'), ('찾는데', 'Verb'), ('드는', 'Verb'), ('시간', 'Noun'), ('과', 'Josa'), ('비용', 'Noun'), ('이', 'Josa'), ('줄어들', 'Verb'), ('것', 'Noun'), ('으로', 'Josa'), ('기대했다', 'Adjective'), ('.', 'Punctuation'), ('컴퓨터', 'Noun'), ('비전', 'Verb'), ('부문', 'Noun'), ('은', 'Josa'), ('전자현미경', 'Noun'), ('(', 'Punctuation'), ('SEM', 'Alpha'), (')', 'Punctuation'), ('이미지', 'Noun'), ('로', 'Josa'), ('깊이', 'Noun'), ('를', 'Josa'), ('예측', 'Noun'), ('하는', 'Verb'), ('알고리즘', 'Noun'), ('을', 'Josa'), ('개발', 'Noun'), ('해야', 'Verb'), ('한다', 'Verb'), ('.', 'Punctuation'), ('2', 'Number'), ('차원', 'Noun'), ('전자', 'Noun'), ('현미경', 'Noun'), ('영상', 'Noun'), ('에서', 'Josa'), ('반도체', 'Noun'), ('3', 'Number'), ('차원', 'Noun'), ('구조', 'Noun'), ('깊이', 'Noun'), ('를', 'Josa'), ('계', 'Noun'), ('측', 'Suffix'), ('하고', 'Josa'), ('반도체', 'Noun'), ('공정', 'Noun'), ('에서', 'Josa'), ('활용', 'Noun'), ('할', 'Verb'), ('수', 'Noun'), ('있는', 'Adjective'), ('AI', 'Alpha'), ('알고리즘', 'Noun'), ('을', 'Josa'), ('찾아야', 'Verb'), ('한다', 'Verb'), ('.', 'Punctuation'), ('응모', 'Noun'), ('결과', 'Noun'), ('는', 'Josa'), ('10월', 'Number'), ('7일', 'Number'), ('삼성', 'Noun'), ('전자', 'Noun'), ('종합', 'Noun'), ('기술', 'Noun'), ('원', 'Suffix'), ('홈페이지', 'Noun'), ('에', 'Josa'), ('발표', 'Noun'), ('한다', 'Verb'), ('.', 'Punctuation'), ('11월', 'Number'), ('‘', 'Foreign'), ('삼성', 'Noun'), ('AI', 'Alpha'), ('포럼', 'Noun'), ('’', 'Punctuation'), ('에서', 'Josa'), ('시상', 'Noun'), ('한', 'Josa'), ('다', 'Adverb'), ('.', 'Punctuation'), ('부문', 'Noun'), ('별', 'Noun'), ('최우수상', 'Noun'), ('을', 'Josa'), ('포함', 'Noun'), ('해', 'Verb'), ('총', 'Noun'), ('8', 'Number'), ('개', 'Noun'), ('수상', 'Noun'), ('팀', 'Noun'), ('에', 'Josa'), ('상금', 'Noun'), ('과', 'Josa'), ('함께', 'Adverb'), ('삼성', 'Noun'), ('전자', 'Noun'), ('AI', 'Alpha'), ('연구원', 'Noun'), ('과', 'Josa'), ('만날', 'Noun'), ('기회', 'Noun'), ('를', 'Josa'), ('준다', 'Verb'), ('.', 'Punctuation'), ('종합', 'Noun'), ('기술', 'Noun'), ('원', 'Suffix'), ('연구소', 'Noun'), ('를', 'Josa'), ('둘러보고', 'Verb'), ('수상자', 'Noun'), ('가', 'Josa'), ('교류', 'Noun'), ('하는', 'Verb'), ('‘', 'Foreign'), ('삼성', 'Noun'), ('AI', 'Alpha'), ('챌', 'Verb'), ('린지', 'Noun'), ('캠프', 'Noun'), ('’', 'Punctuation'), ('에도', 'Josa'), ('참가', 'Noun'), ('할', 'Verb'), ('수', 'Noun'), ('있다', 'Adjective'), ('.', 'Punctuation'), ('최창규', 'Noun'), ('삼성', 'Noun'), ('전자', 'Noun'), ('종합', 'Noun'), ('기술', 'Noun'), ('원', 'Suffix'), ('AI', 'Alpha'), ('연', 'Modifier'), ('구', 'Modifier'), ('센터', 'Noun'), ('장', 'Suffix'), ('(', 'Punctuation'), ('부사', 'Noun'), ('장', 'Suffix'), (')', 'Punctuation'), ('은', 'Noun'), ('“', 'Foreign'), ('종합', 'Noun'), ('기술', 'Noun'), ('원', 'Suffix'), ('은', 'Josa'), ('반도체', 'Noun'), ('를', 'Josa'), ('중심', 'Noun'), ('으로', 'Josa'), ('소재', 'Noun'), (',', 'Punctuation'), ('카메라', 'Noun'), (',', 'Punctuation'), ('자율', 'Noun'), ('주행', 'Noun'), ('등', 'Noun'), ('에', 'Josa'), ('AI', 'Alpha'), ('기술', 'Noun'), ('을', 'Josa'), ('적용', 'Noun'), ('하고', 'Josa'), ('있다', 'Adjective'), ('”', 'Foreign'), ('며', 'Noun'), ('“', 'Foreign'), ('AI', 'Alpha'), ('로', 'Noun'), ('기술', 'Noun'), ('의', 'Josa'), ('한계', 'Noun'), ('를', 'Josa'), ('뛰어넘을', 'Verb'), ('대학생', 'Noun'), ('이', 'Josa'), ('많이', 'Adverb'), ('참여', 'Noun'), ('하기', 'Verb'), ('바란다', 'Verb'), ('”', 'Foreign'), ('고', 'Noun'), ('말', 'Noun'), ('했다', 'Verb'), ('.', 'Punctuation'), ('\\n \\n\\n\\n\\n\\n', 'Foreign'), ('농정원', 'Noun'), (',', 'Punctuation'), ('스마트', 'Noun'), ('농업', 'Noun'), ('AI', 'Alpha'), ('경진', 'Noun'), ('대회', 'Noun'), ('[', 'Punctuation'), ('농림', 'Noun'), ('수산', 'Noun'), ('식품', 'Noun'), ('교육', 'Noun'), ('문화', 'Noun'), ('정보원', 'Noun'), ('제공', 'Noun'), ('.', 'Punctuation'), ('재판매', 'Noun'), ('및', 'Noun'), ('DB', 'Alpha'), ('금지', 'Noun'), ('](', 'Punctuation'), ('서울', 'Noun'), ('=', 'Punctuation'), ('연합뉴스', 'Noun'), (')', 'Punctuation'), ('이영섭', 'Noun'), ('기자', 'Noun'), ('=', 'Punctuation'), ('농림축산식품부', 'Noun'), ('와', 'Josa'), ('농촌진흥청', 'Noun'), (',', 'Punctuation'), ('농림', 'Noun'), ('수산', 'Noun'), ('식품', 'Noun'), ('교육', 'Noun'), ('문화', 'Noun'), ('정보원', 'Noun'), ('(', 'Punctuation'), ('농정원', 'Noun'), (')', 'Punctuation'), ('은', 'Noun'), ('오는', 'Verb'), ('28일', 'Number'), ('까지', 'Foreign'), (\"'\", 'Punctuation'), ('2022', 'Number'), ('스마트', 'Noun'), ('농업', 'Noun'), ('인공', 'Noun'), ('지능', 'Noun'), ('경진', 'Noun'), ('대회', 'Noun'), (\"'\", 'Punctuation'), ('참가자', 'Noun'), ('를', 'Josa'), ('모집', 'Noun'), ('한다고', 'Verb'), ('8일', 'Number'), ('밝혔다', 'Verb'), ('.', 'Punctuation'), ('이', 'Noun'), ('대회', 'Noun'), ('는', 'Josa'), ('농업', 'Noun'), ('분야', 'Noun'), ('에', 'Josa'), ('대한', 'Noun'), ('데이터', 'Noun'), ('·', 'Punctuation'), ('인공', 'Noun'), ('지능', 'Noun'), ('(', 'Punctuation'), ('AI', 'Alpha'), (')', 'Punctuation'), ('기업', 'Noun'), ('과', 'Josa'), ('학계', 'Noun'), ('의', 'Josa'), ('관심', 'Noun'), ('을', 'Josa'), ('높이', 'Noun'), ('고', 'Josa'), ('농업', 'Noun'), ('현장', 'Noun'), ('에서', 'Josa'), ('AI', 'Alpha'), ('를', 'Noun'), ('활용', 'Noun'), ('해', 'Verb'), ('해결', 'Noun'), ('할', 'Verb'), ('수', 'Noun'), ('있는', 'Adjective'), ('과제', 'Noun'), ('를', 'Josa'), ('발굴', 'Noun'), ('하기', 'Verb'), ('위해', 'Noun'), ('개최', 'Noun'), ('된다', 'Verb'), ('.', 'Punctuation'), ('예선', 'Noun'), ('기간', 'Noun'), ('인', 'Josa'), ('29일', 'Number'), ('부터', 'Foreign'), ('내달', 'Noun'), ('23일', 'Number'), ('까지', 'Foreign'), ('생육', 'Noun'), ('예측', 'Noun'), ('해커', 'Noun'), ('톤', 'Noun'), ('(', 'Punctuation'), ('한정', 'Noun'), ('시간', 'Noun'), ('안', 'Noun'), ('에', 'Josa'), ('결과', 'Noun'), ('모델', 'Noun'), ('을', 'Josa'), ('만들어내는', 'Verb'), ('과제', 'Noun'), (')', 'Punctuation'), ('과', 'Noun'), ('재배', 'Noun'), ('전략', 'Noun'), ('기획', 'Noun'), ('안', 'Noun'), ('평가', 'Noun'), ('를', 'Josa'), ('거쳐', 'Verb'), ('본선', 'Noun'), ('에', 'Josa'), ('진출', 'Noun'), ('할', 'Verb'), ('4', 'Number'), ('개', 'Noun'), ('팀', 'Noun'), ('을', 'Josa'), ('선정', 'Noun'), ('한다', 'Verb'), ('.', 'Punctuation'), ('이', 'Noun'), ('들', 'Suffix'), ('팀', 'Noun'), ('은', 'Josa'), ('이후', 'Noun'), ('약', 'Noun'), ('2', 'Number'), ('달', 'Noun'), ('반', 'Noun'), ('동안', 'Noun'), ('대회', 'Noun'), ('온실', 'Noun'), ('에서', 'Josa'), ('AI', 'Alpha'), ('기술', 'Noun'), ('을', 'Josa'), ('활용', 'Noun'), ('해', 'Verb'), ('토마토', 'Noun'), ('를', 'Josa'), ('재배', 'Noun'), ('하는', 'Verb'), ('방식', 'Noun'), ('으로', 'Josa'), ('본선', 'Noun'), ('을', 'Josa'), ('치른다', 'Verb'), ('.', 'Punctuation'), ('농업', 'Noun'), ('분야', 'Noun'), ('인공', 'Noun'), ('지능', 'Noun'), ('기술', 'Noun'), ('에', 'Josa'), ('관심', 'Noun'), ('있는', 'Adjective'), ('19', 'Number'), ('세', 'Noun'), ('이상', 'Noun'), ('내', 'Determiner'), ('외국인', 'Noun'), ('은', 'Josa'), ('누구', 'Noun'), ('나', 'Josa'), ('3', 'Number'), ('∼', 'Foreign'), ('10', 'Number'), ('인', 'Noun'), ('규모', 'Noun'), ('의', 'Josa'), ('팀', 'Noun'), ('을', 'Josa'), ('구성', 'Noun'), ('해', 'Verb'), ('참가', 'Noun'), ('할', 'Verb'), ('수', 'Noun'), ('있다', 'Adjective'), ('.', 'Punctuation'), ('대회', 'Noun'), ('총상', 'Noun'), ('금은', 'Noun'), ('1억원', 'Number'), ('이다', 'Foreign'), ('.', 'Punctuation'), ('대회', 'Noun'), ('관련', 'Noun'), ('세부', 'Noun'), ('내용', 'Noun'), ('은', 'Josa'), ('공식', 'Noun'), ('누리집', 'Noun'), ('(https://aifactory.space/page/epis', 'URL'), (')', 'Punctuation'), ('에서', 'Josa'), ('확인', 'Noun'), ('할', 'Verb'), ('수', 'Noun'), ('있다', 'Adjective'), ('.', 'Punctuation'), ('younglee@yna.co.kr', 'Email'), ('\\n \\n', 'Foreign'), ('대학생', 'Noun'), ('·', 'Punctuation'), ('대학원생', 'Noun'), ('대상', 'Noun'), ('공모전', 'Noun'), (',', 'Punctuation'), ('반도체', 'Noun'), ('·', 'Punctuation'), ('디스플레이', 'Noun'), ('인력', 'Noun'), ('발굴', 'Noun'), ('\\n\\n\\n\\n', 'Foreign'), ('삼성', 'Noun'), ('전자', 'Noun'), ('AI', 'Alpha'), ('챌', 'Verb'), ('린지', 'Noun'), ('포스터', 'Noun'), ('.', 'Punctuation'), ('/', 'Punctuation'), ('삼성', 'Noun'), ('전자', 'Noun'), ('제공', 'Noun'), ('\\t\\t\\t\\t\\t\\t\\t\\t\\t\\t', 'Foreign'), ('삼', 'Modifier'), ('성', 'Modifier'), ('전자', 'Noun'), ('가', 'Josa'), ('국내', 'Noun'), ('대학', 'Noun'), ('·', 'Punctuation'), ('대학원생', 'Noun'), ('을', 'Josa'), ('대상', 'Noun'), ('으로', 'Josa'), ('‘', 'Foreign'), ('2022', 'Number'), ('삼성', 'Noun'), ('AI', 'Alpha'), ('챌', 'Verb'), ('린지', 'Noun'), ('’', 'Punctuation'), ('를', 'Noun'), ('개최', 'Noun'), ('한다고', 'Verb'), ('7일', 'Number'), ('밝혔다', 'Verb'), ('.', 'Punctuation'), ('삼성', 'Noun'), ('AI', 'Alpha'), ('챌', 'Verb'), ('린지', 'Noun'), ('는', 'Josa'), ('인공', 'Noun'), ('지능', 'Noun'), ('(', 'Punctuation'), ('AI', 'Alpha'), (')', 'Punctuation'), ('분야', 'Noun'), ('우수', 'Noun'), ('인력', 'Noun'), ('발굴', 'Noun'), ('과', 'Josa'), ('반도체', 'Noun'), ('·', 'Punctuation'), ('디스플레이', 'Noun'), ('분야', 'Noun'), ('연구', 'Noun'), ('를', 'Josa'), ('위해', 'Noun'), ('개최', 'Noun'), ('하는', 'Verb'), ('공모전', 'Noun'), ('으로', 'Josa'), ('지난해', 'Noun'), ('처음', 'Noun'), ('열렸다', 'Verb'), ('.', 'Punctuation'), ('이번', 'Noun'), ('대회', 'Noun'), ('종목', 'Noun'), ('은', 'Josa'), ('AI', 'Alpha'), ('기술', 'Noun'), ('을', 'Josa'), ('활용', 'Noun'), ('한', 'Josa'), ('신소재', 'Noun'), ('연구', 'Noun'), ('와', 'Josa'), ('컴퓨터', 'Noun'), ('비전', 'Verb'), ('두', 'Noun'), ('가지', 'Noun'), ('다', 'Josa'), ('.', 'Punctuation'), ('신소재', 'Noun'), ('연구', 'Noun'), ('부문', 'Noun'), ('의', 'Josa'), ('주제', 'Noun'), ('는', 'Josa'), ('‘', 'Foreign'), ('유기', 'Noun'), ('분자', 'Noun'), ('구조', 'Noun'), ('로부터', 'Noun'), ('재', 'Noun'), ('편성', 'Noun'), ('에너지', 'Noun'), ('를', 'Josa'), ('예측', 'Noun'), ('하는', 'Verb'), ('알고리즘', 'Noun'), ('개발', 'Noun'), ('’', 'Punctuation'), ('이고', 'Josa'), (',', 'Punctuation'), ('컴퓨터', 'Noun'), ('비전', 'Verb'), ('부문', 'Noun'), ('은', 'Josa'), ('‘', 'Foreign'), ('전자현미경', 'Noun'), ('이미지', 'Noun'), ('로부터', 'Noun'), ('깊이', 'Noun'), ('를', 'Josa'), ('예측', 'Noun'), ('하는', 'Verb'), ('알고리즘', 'Noun'), ('개발', 'Noun'), ('’', 'Punctuation'), ('이다', 'Josa'), ('.', 'Punctuation'), ('삼', 'Modifier'), ('성', 'Modifier'), ('전자', 'Noun'), ('는', 'Josa'), ('주제', 'Noun'), ('별로', 'Noun'), ('최우수상', 'Noun'), ('·', 'Punctuation'), ('우수상', 'Noun'), ('각', 'Noun'), ('1', 'Number'), ('팀', 'Noun'), (',', 'Punctuation'), ('장려상', 'Noun'), ('2', 'Number'), ('팀', 'Noun'), ('등', 'Noun'), ('총', 'Noun'), ('8', 'Number'), ('팀', 'Noun'), ('을', 'Josa'), ('선발', 'Noun'), ('할', 'Verb'), ('계획', 'Noun'), ('이다', 'Josa'), ('.', 'Punctuation'), ('상금', 'Noun'), ('은', 'Josa'), ('최우수상', 'Noun'), ('1000만원', 'Number'), (',', 'Punctuation'), ('우수상', 'Noun'), ('500만원', 'Number'), (',', 'Punctuation'), ('장려상', 'Noun'), ('300만원', 'Number'), ('이다', 'Foreign'), ('.', 'Punctuation'), ('또한', 'Noun'), ('수상', 'Noun'), ('팀', 'Noun'), ('은', 'Josa'), ('삼성', 'Noun'), ('전자', 'Noun'), ('AI', 'Alpha'), ('연구', 'Noun'), ('리더', 'Noun'), ('들', 'Suffix'), ('로부터', 'Noun'), ('멘토링', 'Noun'), ('을', 'Josa'), ('받게', 'Verb'), ('된다', 'Verb'), ('.', 'Punctuation'), ('응모', 'Noun'), ('기간', 'Noun'), ('은', 'Josa'), ('8일', 'Number'), ('부터', 'Foreign'), ('다음', 'Noun'), ('달', 'Noun'), ('16일', 'Number'), ('까지이며', 'Foreign'), (',', 'Punctuation'), ('응모', 'Noun'), ('결과', 'Noun'), ('는', 'Josa'), ('10월', 'Number'), ('7일', 'Number'), ('공개', 'Noun'), ('될', 'Verb'), ('예정', 'Noun'), ('이다', 'Josa'), ('.', 'Punctuation'), ('\\n \\n', 'Foreign'), ('스타트업', 'Noun'), (\"'\", 'Punctuation'), ('지속', 'Noun'), ('가능', 'Noun'), ('발전소', 'Noun'), (\"'\", 'Punctuation'), ('와', 'Verb'), ('협업', 'Noun'), ('ESG', 'Alpha'), ('리스크', 'Noun'), ('모니터링', 'Noun'), ('서비스', 'Noun'), ('제공', 'Noun'), ('중견', 'Noun'), ('기업', 'Noun'), ('관련', 'Noun'), ('언론', 'Noun'), ('기사', 'Noun'), ('분석', 'Noun'), ('해', 'Verb'), ('ESG', 'Alpha'), ('리스크', 'Noun'), ('요인', 'Noun'), ('분석', 'Noun'), ('[', 'Punctuation'), ('이데일리', 'Noun'), ('함', 'Noun'), ('정선', 'Noun'), ('기자', 'Noun'), (']', 'Punctuation'), ('코트라', 'Noun'), ('(', 'Punctuation'), ('KOTRA', 'Alpha'), (')', 'Punctuation'), ('는', 'Verb'), ('소셜', 'Noun'), ('핀', 'Noun'), ('테크', 'Noun'), ('스타트업', 'Noun'), ('인', 'Josa'), ('지', 'Modifier'), ('속', 'Modifier'), ('가능', 'Noun'), ('발전소', 'Noun'), ('와', 'Josa'), ('함께', 'Adverb'), ('8월', 'Number'), ('부터', 'Foreign'), ('국내', 'Noun'), ('중견', 'Noun'), ('기업', 'Noun'), ('이', 'Josa'), ('선제', 'Noun'), ('적', 'Suffix'), ('으로', 'Josa'), ('ESG', 'Alpha'), ('(', 'Punctuation'), ('환경', 'Noun'), ('·', 'Punctuation'), ('사회', 'Noun'), ('·', 'Punctuation'), ('지배구조', 'Noun'), (')', 'Punctuation'), ('리스크', 'Noun'), ('에', 'Josa'), ('대응', 'Noun'), ('할', 'Verb'), ('수', 'Noun'), ('있도록', 'Adjective'), ('‘', 'Foreign'), ('중견', 'Noun'), ('기업', 'Noun'), ('ESG', 'Alpha'), ('리스크', 'Noun'), ('모니터링', 'Noun'), ('서비스', 'Noun'), ('’', 'Punctuation'), ('를', 'Noun'), ('제공', 'Noun'), ('한', 'Josa'), ('다', 'Adverb'), ('고', 'Noun'), ('8일', 'Number'), ('밝혔다', 'Verb'), ('.', 'Punctuation'), ('최근', 'Noun'), ('선진국', 'Noun'), ('을', 'Josa'), ('중심', 'Noun'), ('으로', 'Josa'), ('기업', 'Noun'), ('의', 'Josa'), ('지', 'Modifier'), ('속', 'Modifier'), ('가능', 'Noun'), ('경영', 'Noun'), ('을', 'Josa'), ('위', 'Noun'), ('한', 'Josa'), ('환경', 'Noun'), ('·', 'Punctuation'), ('사회', 'Noun'), ('에', 'Josa'), ('대한', 'Noun'), ('책임', 'Noun'), ('을', 'Josa'), ('강조', 'Noun'), ('하는', 'Verb'), ('분위기', 'Noun'), ('가', 'Josa'), ('두드러지고', 'Adjective'), ('있으며', 'Adjective'), (',', 'Punctuation'), ('이', 'Noun'), ('에', 'Josa'), ('따라', 'Verb'), ('많은', 'Adjective'), ('글로벌', 'Noun'), ('기업', 'Noun'), ('이', 'Josa'), ('공급망', 'Noun'), ('협력', 'Noun'), ('사', 'Noun'), ('에도', 'Josa'), ('강도', 'Noun'), ('높은', 'Adjective'), ('ESG', 'Alpha'), ('경영', 'Noun'), ('을', 'Josa'), ('요구', 'Noun'), ('하는', 'Verb'), ('추세', 'Noun'), ('다', 'Josa'), ('.', 'Punctuation'), ('코트', 'Noun'), ('라는', 'Josa'), ('지', 'Modifier'), ('속', 'Modifier'), ('가능', 'Noun'), ('발전소', 'Noun'), ('와', 'Josa'), ('함께', 'Adverb'), ('국내', 'Noun'), ('약', 'Noun'), ('1000', 'Number'), ('여', 'Noun'), ('개사', 'Noun'), ('의', 'Josa'), ('중견', 'Noun'), ('기업', 'Noun'), ('과', 'Josa'), ('관련', 'Noun'), ('된', 'Verb'), ('언론', 'Noun'), ('기사', 'Noun'), ('를', 'Josa'), ('인공', 'Noun'), ('지능', 'Noun'), ('(', 'Punctuation'), ('AI', 'Alpha'), (')', 'Punctuation'), ('알고리즘', 'Noun'), ('으로', 'Josa'), ('분석', 'Noun'), ('해', 'Verb'), ('ESG', 'Alpha'), ('관련', 'Noun'), ('잠재', 'Noun'), ('적', 'Suffix'), ('인', 'Josa'), ('리스크', 'Noun'), ('모니터링', 'Noun'), ('을', 'Josa'), ('시행', 'Noun'), ('하고', 'Josa'), ('그', 'Noun'), ('결과', 'Noun'), ('를', 'Josa'), ('3500', 'Number'), ('여', 'Noun'), ('명의', 'Noun'), ('중견', 'Noun'), ('기업', 'Noun'), ('종사', 'Noun'), ('자', 'Suffix'), ('와', 'Josa'), ('유관', 'Noun'), ('기관', 'Noun'), ('이', 'Josa'), ('구독', 'Noun'), ('하고', 'Josa'), ('있는', 'Adjective'), ('‘', 'Foreign'), ('월드', 'Noun'), ('챔프', 'Noun'), ('뉴스레터', 'Noun'), ('’', 'Punctuation'), ('를', 'Noun'), ('통해', 'Noun'), ('제공', 'Noun'), ('할', 'Verb'), ('예정', 'Noun'), ('이다', 'Josa'), ('.', 'Punctuation'), ('해당', 'Noun'), ('서비스', 'Noun'), ('는', 'Josa'), ('뉴스', 'Noun'), ('미디어', 'Noun'), ('에', 'Josa'), ('보도', 'Noun'), ('된', 'Verb'), ('기업', 'Noun'), ('의', 'Josa'), ('ESG', 'Alpha'), ('사건', 'Noun'), ('사고', 'Noun'), ('를', 'Josa'), ('매일', 'Noun'), ('수집', 'Noun'), ('해', 'Verb'), ('인공', 'Noun'), ('지능', 'Noun'), ('을', 'Josa'), ('통해', 'Noun'), ('분석', 'Noun'), ('하고', 'Josa'), ('기업', 'Noun'), ('의', 'Josa'), ('ESG', 'Alpha'), ('리스크', 'Noun'), ('를', 'Josa'), ('감지', 'Noun'), ('하는', 'Verb'), ('지', 'Modifier'), ('속', 'Modifier'), ('가능', 'Noun'), ('발전소', 'Noun'), ('의', 'Josa'), ('특허', 'Noun'), ('기술', 'Noun'), ('이다', 'Josa'), ('.', 'Punctuation'), ('매일', 'Noun'), ('90', 'Number'), ('개', 'Noun'), ('의', 'Josa'), ('언론사', 'Noun'), ('가', 'Josa'), ('보도', 'Noun'), ('하는', 'Verb'), ('1만', 'Number'), ('5000', 'Number'), ('여건', 'Noun'), ('의', 'Josa'), ('뉴스', 'Noun'), ('기사', 'Noun'), ('를', 'Josa'), ('자연어', 'Noun'), ('처리', 'Noun'), ('와', 'Josa'), ('감성', 'Noun'), ('분석', 'Noun'), ('과', 'Josa'), ('같은', 'Adjective'), ('AI', 'Alpha'), ('알고리즘', 'Noun'), ('으로', 'Josa'), ('분석', 'Noun'), ('하고', 'Josa'), (',', 'Punctuation'), ('17', 'Number'), ('개', 'Noun'), ('의', 'Josa'), ('ESG', 'Alpha'), ('관련', 'Noun'), ('이슈', 'Noun'), ('로', 'Josa'), ('분류', 'Noun'), ('한', 'Josa'), ('후', 'Noun'), ('기사', 'Noun'), ('의', 'Josa'), ('발행', 'Noun'), ('패턴', 'Noun'), ('·', 'Punctuation'), ('사건', 'Noun'), ('의', 'Josa'), ('진행', 'Noun'), ('속도', 'Noun'), ('·', 'Punctuation'), ('빈', 'Noun'), ('도수', 'Noun'), ('등', 'Noun'), ('을', 'Josa'), ('종합', 'Noun'), ('적', 'Suffix'), ('으로', 'Josa'), ('평가', 'Noun'), ('해', 'Verb'), ('위험', 'Noun'), ('요소', 'Noun'), ('로', 'Josa'), ('작용', 'Noun'), ('할', 'Verb'), ('수', 'Noun'), ('있는', 'Adjective'), ('잠재', 'Noun'), ('적', 'Suffix'), ('원인', 'Noun'), ('을', 'Josa'), ('미리', 'Noun'), ('파악', 'Noun'), ('하는', 'Verb'), ('방식', 'Noun'), ('이다', 'Josa'), ('.', 'Punctuation'), ('실제', 'Noun'), ('로', 'Josa'), ('지난', 'Noun'), ('7월', 'Number'), ('한', 'Verb'), ('달', 'Noun'), ('간', 'Suffix'), ('1000', 'Number'), ('개', 'Noun'), ('중견', 'Noun'), ('기업', 'Noun'), ('에', 'Josa'), ('대한', 'Noun'), ('언론', 'Noun'), ('기사', 'Noun'), ('를', 'Josa'), ('분석', 'Noun'), ('한', 'Josa'), ('결과', 'Noun'), (',', 'Punctuation'), ('ESG', 'Alpha'), ('관련', 'Noun'), ('기사', 'Noun'), ('가', 'Josa'), ('가장', 'Noun'), ('많이', 'Adverb'), ('보도', 'Noun'), ('된', 'Verb'), ('분야', 'Noun'), ('는', 'Josa'), ('소비재', 'Noun'), ('서비스', 'Noun'), ('와', 'Josa'), ('소비재', 'Noun'), ('제조', 'Noun'), (',', 'Punctuation'), ('소재', 'Noun'), ('순', 'Noun'), ('으로', 'Josa'), ('조사', 'Noun'), ('됐으며', 'Verb'), ('환경', 'Noun'), ('·', 'Punctuation'), ('사회', 'Noun'), ('·', 'Punctuation'), ('지배구조', 'Noun'), ('중', 'Noun'), ('사회', 'Noun'), ('분야', 'Noun'), ('리스크', 'Noun'), ('가', 'Josa'), ('가장', 'Noun'), ('많이', 'Adverb'), ('발생', 'Noun'), ('하는', 'Verb'), ('양상', 'Noun'), ('을', 'Josa'), ('보였다', 'Verb'), ('.', 'Punctuation'), ('세부', 'Noun'), ('적', 'Suffix'), ('으로는', 'Josa'), ('예고', 'Noun'), ('없이', 'Adverb'), ('찾아온', 'Verb'), ('무더위', 'Noun'), ('로', 'Josa'), ('인해', 'Adjective'), ('대', 'Modifier'), ('두', 'Modifier'), ('한', 'Modifier'), ('현장', 'Noun'), ('근무', 'Noun'), ('환경', 'Noun'), ('이슈', 'Noun'), ('와', 'Josa'), ('소비재', 'Noun'), ('와', 'Josa'), ('관련', 'Noun'), ('된', 'Verb'), ('서비스', 'Noun'), ('책임', 'Noun'), ('이슈', 'Noun'), ('등', 'Noun'), ('이', 'Josa'), ('최근', 'Noun'), ('중견', 'Noun'), ('기업', 'Noun'), ('이', 'Josa'), ('주목', 'Noun'), ('해야', 'Verb'), ('할', 'Verb'), ('ESG', 'Alpha'), ('잠재', 'Noun'), ('위험', 'Noun'), ('요소', 'Noun'), ('라는', 'Josa'), ('평가', 'Noun'), ('다', 'Josa'), ('.', 'Punctuation'), ('이', 'Noun'), ('와', 'Josa'), ('함께', 'Adverb'), ('코트', 'Noun'), ('라는', 'Josa'), ('‘', 'Foreign'), ('중견', 'Noun'), ('기업', 'Noun'), ('글로벌', 'Noun'), ('지원', 'Noun'), ('사업', 'Noun'), ('’', 'Punctuation'), ('에', 'Josa'), ('참가', 'Noun'), ('하고', 'Josa'), ('있는', 'Adjective'), ('기업', 'Noun'), ('을', 'Josa'), ('대상', 'Noun'), ('으로', 'Josa'), ('‘', 'Foreign'), ('ESG', 'Alpha'), ('영문', 'Noun'), ('평가', 'Noun'), ('보고서', 'Noun'), ('작성', 'Noun'), ('서비스', 'Noun'), ('’', 'Punctuation'), ('도', 'Noun'), ('지원', 'Noun'), ('할', 'Verb'), ('예정', 'Noun'), ('이다', 'Josa'), ('.', 'Punctuation'), ('기업', 'Noun'), ('의', 'Josa'), ('ESG', 'Alpha'), ('관련', 'Noun'), ('비', 'Noun'), ('재무', 'Noun'), ('적', 'Suffix'), ('성과', 'Noun'), ('를', 'Josa'), ('분석', 'Noun'), ('하고', 'Josa'), ('기업', 'Noun'), ('이', 'Josa'), ('그', 'Noun'), ('결과', 'Noun'), ('를', 'Josa'), ('글로벌', 'Noun'), ('파트너', 'Noun'), ('사', 'Noun'), ('와의', 'Josa'), ('협력', 'Noun'), ('또는', 'Adverb'), ('신규', 'Noun'), ('파트너', 'Noun'), ('발굴', 'Noun'), ('에', 'Josa'), ('활용', 'Noun'), ('할', 'Verb'), ('수', 'Noun'), ('있도록', 'Adjective'), ('영문', 'Noun'), ('보고서', 'Noun'), ('로', 'Josa'), ('제공', 'Noun'), ('하는', 'Verb'), ('내용', 'Noun'), ('이다', 'Josa'), ('.', 'Punctuation'), ('참여', 'Noun'), ('기업', 'Noun'), ('은', 'Josa'), ('ESG', 'Alpha'), ('전문가', 'Noun'), ('를', 'Josa'), ('통해', 'Noun'), ('분석', 'Noun'), ('결과', 'Noun'), ('로', 'Josa'), ('도출', 'Noun'), ('된', 'Verb'), ('ESG', 'Alpha'), ('관련', 'Noun'), ('기회', 'Noun'), ('요인', 'Noun'), ('과', 'Josa'), ('개선', 'Noun'), ('의견', 'Noun'), ('등', 'Noun'), ('에', 'Josa'), ('대한', 'Noun'), ('피드백', 'Noun'), ('을', 'Josa'), ('받을', 'Verb'), ('수', 'Noun'), ('있다', 'Adjective'), ('.', 'Punctuation'), ('코트라', 'Noun'), ('에', 'Josa'), ('따르면', 'Verb'), ('대부분', 'Noun'), ('의', 'Josa'), ('국내', 'Noun'), ('중소', 'Noun'), ('·', 'Punctuation'), ('중견', 'Noun'), ('기업', 'Noun'), ('은', 'Josa'), ('ESG', 'Alpha'), ('경영', 'Noun'), ('에', 'Josa'), ('대한', 'Noun'), ('필요성', 'Noun'), ('을', 'Josa'), ('느끼고', 'Verb'), ('있으나', 'Adjective'), (',', 'Punctuation'), ('정작', 'Noun'), ('수출', 'Noun'), ('에', 'Josa'), ('필요한', 'Adjective'), ('ESG', 'Alpha'), ('준비', 'Noun'), ('는', 'Josa'), ('다소', 'Noun'), ('아쉬운', 'Adjective'), ('실정', 'Noun'), ('인', 'Josa'), ('것', 'Noun'), ('으로', 'Josa'), ('나타났다', 'Verb'), ('.', 'Punctuation'), ('대', 'Modifier'), ('한', 'Modifier'), ('상공회의소', 'Noun'), ('(', 'Punctuation'), ('회장', 'Noun'), ('최태원', 'Noun'), (')', 'Punctuation'), ('가', 'Verb'), ('국내', 'Noun'), ('수출', 'Noun'), ('기업', 'Noun'), ('300', 'Number'), ('개사', 'Noun'), ('를', 'Josa'), ('대상', 'Noun'), ('으로', 'Josa'), ('조사', 'Noun'), ('·', 'Punctuation'), ('분석', 'Noun'), ('한', 'Josa'), ('‘', 'Foreign'), ('수출', 'Noun'), ('기업', 'Noun'), ('의', 'Josa'), ('공급망', 'Noun'), ('실사', 'Noun'), ('대응', 'Noun'), ('현황', 'Noun'), ('과', 'Josa'), ('과제', 'Noun'), ('’', 'Punctuation'), ('보고서', 'Noun'), ('에', 'Josa'), ('따르면', 'Verb'), (',', 'Punctuation'), ('응답', 'Noun'), ('기업', 'Noun'), ('의', 'Josa'), ('52.2%', 'Number'), ('가', 'Verb'), ('‘', 'Foreign'), ('아직', 'Adverb'), ('ESG', 'Alpha'), ('관리', 'Noun'), ('수준', 'Noun'), ('이', 'Josa'), ('미흡해', 'Adjective'), ('원', 'Modifier'), ('청', 'Noun'), ('기업', 'Noun'), ('과의', 'Josa'), ('계약', 'Noun'), ('이나', 'Josa'), ('수주', 'Noun'), ('가', 'Josa'), ('파기', 'Noun'), ('될까', 'Verb'), ('우려', 'Noun'), ('가', 'Josa'), ('있다', 'Adjective'), ('’', 'Punctuation'), ('고', 'Noun'), ('답', 'Noun'), ('했다', 'Verb'), ('.', 'Punctuation'), ('코트라', 'Noun'), ('가', 'Josa'), ('연초', 'Noun'), ('에', 'Josa'), ('사업', 'Noun'), ('참가', 'Noun'), ('강소', 'Noun'), ('·', 'Punctuation'), ('중견', 'Noun'), ('기업', 'Noun'), ('을', 'Josa'), ('대상', 'Noun'), ('으로', 'Josa'), ('시행', 'Noun'), ('한', 'Josa'), ('자체', 'Noun'), ('설문조사', 'Noun'), ('에서도', 'Josa'), ('43.2%', 'Number'), ('의', 'Noun'), ('기업', 'Noun'), ('이', 'Josa'), ('‘', 'Foreign'), ('2022년', 'Number'), ('수출', 'Noun'), ('중견', 'Noun'), ('기업', 'Noun'), ('에', 'Josa'), ('가장', 'Noun'), ('필요한', 'Adjective'), ('맞춤', 'Noun'), ('형', 'Suffix'), ('지원', 'Noun'), ('서비스', 'Noun'), ('’', 'Punctuation'), ('로', 'Noun'), ('‘', 'Foreign'), ('ESG', 'Alpha'), ('경영', 'Noun'), ('지원', 'Noun'), ('’', 'Punctuation'), ('을', 'Josa'), ('손꼽았다', 'Verb'), ('.', 'Punctuation'), ('김윤태', 'Noun'), ('코트라', 'Noun'), ('중소', 'Noun'), ('중견', 'Noun'), ('기업', 'Noun'), ('본부장', 'Noun'), ('은', 'Josa'), ('“', 'Foreign'), ('ESG', 'Alpha'), ('관리', 'Noun'), ('는', 'Josa'), ('우리', 'Noun'), ('해외', 'Noun'), ('진출', 'Noun'), ('기업', 'Noun'), ('의', 'Josa'), ('새로운', 'Adjective'), ('공급망', 'Noun'), ('이슈', 'Noun'), ('로', 'Josa'), ('떠오르고', 'Verb'), ('있고', 'Adjective'), ('수출', 'Noun'), ('형', 'Suffix'), ('중견', 'Noun'), ('기업', 'Noun'), ('에는', 'Josa'), ('필수', 'Noun'), ('조건', 'Noun'), ('이', 'Josa'), ('될', 'Verb'), ('것', 'Noun'), ('”', 'Foreign'), ('이', 'Determiner'), ('라며', 'Noun'), ('“', 'Foreign'), ('코트', 'Noun'), ('라는', 'Josa'), ('우리', 'Noun'), ('중견', 'Noun'), ('기업', 'Noun'), ('의', 'Josa'), ('ESG', 'Alpha'), ('관리', 'Noun'), ('역량', 'Noun'), ('제', 'Modifier'), ('고', 'Noun'), ('와', 'Josa'), ('글로벌', 'Noun'), ('기업', 'Noun'), ('으로', 'Josa'), ('성장하기', 'Adjective'), ('위', 'Noun'), ('한', 'Josa'), ('다양한', 'Adjective'), ('경영', 'Noun'), ('지원', 'Noun'), ('서비스', 'Noun'), ('를', 'Josa'), ('지원', 'Noun'), ('할', 'Verb'), ('예정', 'Noun'), ('”', 'Foreign'), ('이라고', 'Josa'), ('말', 'Noun'), ('했다', 'Verb'), ('.', 'Punctuation'), ('코트', 'Noun'), ('라는', 'Josa'), ('오는', 'Verb'), ('10월', 'Number'), ('‘', 'Foreign'), ('중견', 'Noun'), ('기업', 'Noun'), ('플러스', 'Noun'), ('(+)', 'Punctuation'), ('포럼', 'Noun'), ('’', 'Punctuation'), ('을', 'Josa'), ('통해', 'Noun'), ('글로벌', 'Noun'), ('기업', 'Noun'), ('의', 'Josa'), ('ESG', 'Alpha'), ('관계자', 'Noun'), ('를', 'Josa'), ('초대', 'Noun'), ('하는', 'Verb'), ('행사', 'Noun'), ('를', 'Josa'), ('진행', 'Noun'), ('하고', 'Josa'), ('있다', 'Adjective'), ('.', 'Punctuation'), ('\\n \\n', 'Foreign'), ('기사', 'Noun'), ('내용', 'Noun'), ('요약', 'Noun'), ('병원', 'Noun'), ('업무', 'Noun'), ('자동화', 'Noun'), ('에', 'Josa'), ('클로', 'Verb'), ('바', 'Noun'), ('AI', 'Alpha'), ('콜', 'Noun'), ('솔루션', 'Noun'), ('도입', 'Noun'), ('AI', 'Alpha'), ('관련', 'Noun'), ('연구', 'Noun'), ('과제', 'Noun'), ('발굴', 'Noun'), ('및', 'Noun'), ('진행', 'Noun'), ('공동', 'Noun'), ('참여', 'Noun'), ('\\n\\n\\n\\n', 'Foreign'), ('네이버', 'Noun'), ('는', 'Josa'), ('지난', 'Noun'), ('5일', 'Number'), ('충북대학교병원', 'Noun'), ('에서', 'Josa'), ('업무', 'Noun'), ('협약', 'Noun'), ('식', 'Suffix'), ('을', 'Josa'), ('개최', 'Noun'), ('하고', 'Josa'), ('최영석', 'Noun'), ('충북대학교병원', 'Noun'), ('장', 'Suffix'), (',', 'Punctuation'), ('한정호', 'Noun'), ('기획', 'Noun'), ('조정', 'Noun'), ('실장', 'Noun'), (',', 'Punctuation'), ('전현정', 'Noun'), ('의료', 'Noun'), ('정보', 'Noun'), ('센터', 'Noun'), ('장', 'Suffix'), (',', 'Punctuation'), ('나', 'Noun'), ('군호', 'Noun'), ('네이버', 'Noun'), ('헬', 'Noun'), ('스케', 'Noun'), ('어', 'Suffix'), ('연구소장', 'Noun'), (',', 'Punctuation'), ('김필수', 'Noun'), ('리더', 'Noun'), ('등', 'Noun'), ('이', 'Josa'), ('참석', 'Noun'), ('해', 'Verb'), ('상호', 'Noun'), ('협력', 'Noun'), ('을', 'Josa'), ('약속', 'Noun'), ('했다고', 'Verb'), ('8일', 'Number'), ('밝혔다', 'Verb'), ('.', 'Punctuation'), ('사진', 'Noun'), ('은', 'Josa'), ('왼쪽', 'Noun'), ('부터', 'Josa'), ('충북대학교병원', 'Noun'), ('김기석', 'Noun'), ('의료', 'Noun'), ('정보', 'Noun'), ('과', 'Josa'), ('팀', 'Noun'), ('장', 'Suffix'), (',', 'Punctuation'), ('전현정', 'Noun'), ('의료', 'Noun'), ('정보', 'Noun'), ('센터', 'Noun'), ('장', 'Suffix'), (',', 'Punctuation'), ('한정호', 'Noun'), ('기획', 'Noun'), ('조정', 'Noun'), ('실장', 'Noun'), (',', 'Punctuation'), ('최영석', 'Noun'), ('병원', 'Noun'), ('장', 'Suffix'), (',', 'Punctuation'), ('네이버', 'Noun'), ('나', 'Noun'), ('군호', 'Noun'), ('헬', 'Noun'), ('스케', 'Noun'), ('어', 'Suffix'), ('연구소장', 'Noun'), (',', 'Punctuation'), ('김필수', 'Noun'), ('리더', 'Noun'), (',', 'Punctuation'), ('옥', 'Noun'), ('상훈', 'Noun'), ('부장', 'Noun'), (',', 'Punctuation'), ('강', 'Noun'), ('하연', 'Noun'), ('선임', 'Noun'), ('이', 'Josa'), ('업무', 'Noun'), ('협약', 'Noun'), ('체결', 'Noun'), ('후', 'Noun'), ('기념', 'Noun'), ('촬영', 'Noun'), ('을', 'Josa'), ('하는', 'Verb'), ('모습', 'Noun'), ('.', 'Punctuation'), ('(', 'Punctuation'), ('사진', 'Noun'), ('=', 'Punctuation'), ('네이버', 'Noun'), ('제공', 'Noun'), (')', 'Punctuation'), ('2022.08', 'Number'), ('.', 'Punctuation'), ('08', 'Number'), ('*', 'Punctuation'), ('재판매', 'Noun'), ('및', 'Noun'), ('DB', 'Alpha'), ('금지', 'Noun'), ('[', 'Punctuation'), ('서울', 'Noun'), ('=', 'Punctuation'), ('뉴시스', 'Noun'), (']', 'Punctuation'), ('최은수', 'Noun'), ('기자', 'Noun'), ('=', 'Punctuation'), ('네이버', 'Noun'), ('와', 'Josa'), ('네이버', 'Noun'), ('클라우드', 'Noun'), (',', 'Punctuation'), ('충북대학교병원', 'Noun'), ('이', 'Josa'), ('인공', 'Noun'), ('지능', 'Noun'), ('(', 'Punctuation'), ('AI', 'Alpha'), (')', 'Punctuation'), ('을', 'Josa'), ('활용', 'Noun'), ('한', 'Josa'), ('스마트', 'Noun'), ('병원', 'Noun'), ('구축', 'Noun'), ('을', 'Josa'), ('위해', 'Noun'), ('협력', 'Noun'), ('한다', 'Verb'), ('.', 'Punctuation'), ('네이버', 'Noun'), ('는', 'Josa'), ('지난', 'Noun'), ('5일', 'Number'), ('충북대학교병원', 'Noun'), ('에서', 'Josa'), ('업무', 'Noun'), ('협약', 'Noun'), ('식', 'Suffix'), ('을', 'Josa'), ('개최', 'Noun'), ('하고', 'Josa'), ('최영석', 'Noun'), ('충북대학교병원', 'Noun'), ('장', 'Suffix'), (',', 'Punctuation'), ('한정호', 'Noun'), ('기획', 'Noun'), ('조정', 'Noun'), ('실장', 'Noun'), (',', 'Punctuation'), ('전현정', 'Noun'), ('의료', 'Noun'), ('정보', 'Noun'), ('센터', 'Noun'), ('장', 'Suffix'), (',', 'Punctuation'), ('나', 'Noun'), ('군호', 'Noun'), ('네이버', 'Noun'), ('헬', 'Noun'), ('스케', 'Noun'), ('어', 'Suffix'), ('연구소장', 'Noun'), (',', 'Punctuation'), ('김필수', 'Noun'), ('리더', 'Noun'), ('등', 'Noun'), ('이', 'Josa'), ('참석', 'Noun'), ('해', 'Verb'), ('상호', 'Noun'), ('협력', 'Noun'), ('을', 'Josa'), ('약속', 'Noun'), ('했다고', 'Verb'), ('8일', 'Number'), ('밝혔다', 'Verb'), ('.', 'Punctuation'), ('이번', 'Noun'), ('업무', 'Noun'), ('협약', 'Noun'), ('을', 'Josa'), ('통해', 'Noun'), ('3', 'Number'), ('사는', 'Verb'), ('▲', 'Foreign'), ('병원', 'Noun'), ('업무', 'Noun'), ('자동화', 'Noun'), ('및', 'Noun'), ('효율', 'Noun'), ('화', 'Suffix'), ('를', 'Josa'), ('위', 'Noun'), ('한', 'Josa'), ('클로', 'Verb'), ('바', 'Noun'), ('AI', 'Alpha'), ('콜', 'Noun'), ('솔루션', 'Noun'), ('도입', 'Noun'), (',', 'Punctuation'), ('▲', 'Foreign'), ('의료', 'Noun'), ('진', 'Noun'), ('간', 'Suffix'), ('협업', 'Noun'), ('및', 'Noun'), ('정보', 'Noun'), ('공유', 'Noun'), ('를', 'Josa'), ('위', 'Noun'), ('한', 'Josa'), ('네이버', 'Noun'), ('웍스', 'Noun'), ('그룹', 'Noun'), ('웨어', 'Noun'), ('도입', 'Noun'), (',', 'Punctuation'), ('▲', 'Foreign'), ('웨일', 'Noun'), ('북', 'Noun'), ('스마트', 'Noun'), ('태블릿', 'Noun'), ('을', 'Josa'), ('활용', 'Noun'), ('한', 'Josa'), ('스마트', 'Noun'), ('병동', 'Noun'), ('시범', 'Noun'), ('사업', 'Noun'), ('추진', 'Noun'), ('등', 'Noun'), ('스마트', 'Noun'), ('병원', 'Noun'), ('구축', 'Noun'), ('을', 'Josa'), ('위', 'Noun'), ('한', 'Josa'), ('AI', 'Alpha'), ('사업', 'Noun'), ('에', 'Josa'), ('포괄', 'Noun'), ('적', 'Suffix'), ('으로', 'Josa'), ('협력', 'Noun'), ('할', 'Verb'), ('예정', 'Noun'), ('이다', 'Josa'), ('.', 'Punctuation'), ('AI', 'Alpha'), ('관련', 'Noun'), ('연구', 'Noun'), ('과제', 'Noun'), ('의', 'Josa'), ('발굴', 'Noun'), ('및', 'Noun'), ('진행', 'Noun'), ('에도', 'Josa'), ('공동', 'Noun'), ('참여', 'Noun'), ('한다', 'Verb'), ('.', 'Punctuation'), ('나', 'Noun'), ('군호', 'Noun'), ('네이버', 'Noun'), ('헬', 'Noun'), ('스케', 'Noun'), ('어', 'Suffix'), ('연구소장', 'Noun'), ('은', 'Josa'), ('“', 'Foreign'), ('네이버', 'Noun'), ('의', 'Josa'), ('우수한', 'Adjective'), ('AI', 'Alpha'), ('기술', 'Noun'), ('과', 'Josa'), ('클라우드', 'Noun'), ('를', 'Josa'), ('포함', 'Noun'), ('한', 'Josa'), ('다양한', 'Adjective'), ('네이버', 'Noun'), ('솔루션', 'Noun'), ('도입', 'Noun'), ('을', 'Josa'), ('통해', 'Noun'), (',', 'Punctuation'), ('의료', 'Noun'), ('진의', 'Noun'), ('업무', 'Noun'), ('효율', 'Noun'), ('을', 'Josa'), ('높이는', 'Verb'), ('데', 'Noun'), ('기여', 'Noun'), ('하고', 'Josa'), (',', 'Punctuation'), ('병원', 'Noun'), ('을', 'Josa'), ('방문', 'Noun'), ('하는', 'Verb'), ('환자', 'Noun'), ('에게는', 'Josa'), ('양질', 'Noun'), ('의', 'Josa'), ('의료', 'Noun'), ('서비스', 'Noun'), ('를', 'Josa'), ('제공', 'Noun'), ('할', 'Verb'), ('수', 'Noun'), ('있을', 'Adjective'), ('것', 'Noun'), ('으로', 'Josa'), ('기대한다', 'Adjective'), ('\"', 'Punctuation'), ('고', 'Noun'), ('말', 'Noun'), ('했다', 'Verb'), ('.', 'Punctuation'), ('최영석', 'Noun'), ('충북대학교병원', 'Noun'), ('장', 'Suffix'), ('은', 'Josa'), ('\"', 'Punctuation'), ('중증', 'Noun'), ('질환', 'Noun'), ('을', 'Josa'), ('책임지는', 'Verb'), ('권역', 'Noun'), ('공공', 'Modifier'), ('의료', 'Noun'), ('기관', 'Noun'), ('으로서', 'Josa'), ('환자', 'Noun'), ('입장', 'Noun'), ('에서는', 'Josa'), ('편리하고', 'Adjective'), ('친근하게', 'Adjective'), ('병원', 'Noun'), ('을', 'Josa'), ('이용', 'Noun'), ('하고', 'Josa'), (',', 'Punctuation'), ('의료', 'Noun'), ('진', 'Noun'), ('은', 'Josa'), ('환자', 'Noun'), ('의', 'Josa'), ('질환', 'Noun'), ('을', 'Josa'), ('미리', 'Noun'), ('파악', 'Noun'), ('하여', 'Verb'), ('맞춤', 'Noun'), ('형', 'Suffix'), ('진료', 'Noun'), ('를', 'Josa'), ('제', 'Modifier'), ('공함', 'Noun'), ('으로써', 'Josa'), ('업무', 'Noun'), ('를', 'Josa'), ('효율', 'Noun'), ('적', 'Suffix'), ('으로', 'Josa'), ('처리', 'Noun'), ('하도록', 'Verb'), ('돕는', 'Verb'), ('것', 'Noun'), ('이', 'Josa'), ('이번', 'Noun'), ('협약', 'Noun'), ('의', 'Josa'), ('본질', 'Noun'), ('\"', 'Punctuation'), ('이라고', 'Josa'), ('밝혔다', 'Verb'), ('.', 'Punctuation'), ('\\n \\n\\n\\n\\n\\n', 'Foreign'), ('이미희', 'Noun'), ('KT', 'Alpha'), ('C', 'Alpha'), ('레벨', 'Noun'), ('컨설팅', 'Noun'), ('본부장', 'Noun'), ('(', 'Punctuation'), ('왼쪽', 'Noun'), (')', 'Punctuation'), ('과', 'Noun'), ('전', 'Modifier'), ('준수', 'Noun'), ('NIPA', 'Alpha'), ('글로벌', 'Noun'), ('성장', 'Noun'), ('본부', 'Noun'), ('장이', 'Suffix'), ('업무', 'Noun'), ('협약', 'Noun'), ('을', 'Josa'), ('체결', 'Noun'), ('하고', 'Josa'), ('있다', 'Adjective'), ('.', 'Punctuation'), ('KT', 'Alpha'), ('가', 'Verb'), ('정보통', 'Noun'), ('신', 'Modifier'), ('산업', 'Noun'), ('진흥', 'Noun'), ('원', 'Suffix'), ('(', 'Punctuation'), ('NIPA', 'Alpha'), (')', 'Punctuation'), ('과', 'Noun'), ('디지털', 'Noun'), ('전환', 'Noun'), ('(', 'Punctuation'), ('DX', 'Alpha'), (')', 'Punctuation'), ('관련', 'Noun'), ('사업', 'Noun'), ('추진', 'Noun'), ('및', 'Noun'), ('인공', 'Noun'), ('지능', 'Noun'), ('(', 'Punctuation'), ('AI', 'Alpha'), (')·', 'Punctuation'), ('DX', 'Alpha'), ('분야', 'Noun'), ('인재', 'Noun'), ('양성', 'Noun'), ('을', 'Josa'), ('주요', 'Noun'), ('내용', 'Noun'), ('으로', 'Josa'), ('하는', 'Verb'), ('업무', 'Noun'), ('협약', 'Noun'), ('을', 'Josa'), ('체결', 'Noun'), ('했다', 'Verb'), ('.', 'Punctuation'), ('KT', 'Alpha'), ('와', 'Verb'), ('NIPA', 'Alpha'), ('는', 'Verb'), ('이번', 'Noun'), ('협약', 'Noun'), ('을', 'Josa'), ('통해', 'Noun'), ('△', 'Foreign'), ('정보통', 'Noun'), ('신', 'Modifier'), ('기술', 'Noun'), ('(', 'Punctuation'), ('ICT', 'Alpha'), (')', 'Punctuation'), ('신', 'Modifier'), ('사업', 'Noun'), ('분야', 'Noun'), ('중견', 'Noun'), ('·', 'Punctuation'), ('중소', 'Noun'), ('·', 'Punctuation'), ('벤처기업', 'Noun'), ('육성', 'Noun'), ('△', 'Foreign'), ('교육', 'Noun'), ('및', 'Noun'), ('자격', 'Noun'), ('분야', 'Noun'), ('AI', 'Alpha'), ('·', 'Punctuation'), ('DX', 'Alpha'), ('인재', 'Noun'), ('양성', 'Noun'), ('을', 'Josa'), ('함께', 'Adverb'), ('추진', 'Noun'), ('한', 'Josa'), ('다', 'Adverb'), ('.', 'Punctuation'), ('KT', 'Alpha'), ('는', 'Verb'), ('중견', 'Noun'), ('·', 'Punctuation'), ('중소', 'Noun'), ('·', 'Punctuation'), ('벤처기업', 'Noun'), ('에', 'Josa'), ('AI', 'Alpha'), ('와', 'Verb'), ('빅데이터', 'Noun'), (',', 'Punctuation'), ('클라우드', 'Noun'), ('등', 'Noun'), ('ICT', 'Alpha'), ('역량', 'Noun'), ('을', 'Josa'), ('지원', 'Noun'), ('할', 'Verb'), ('예정', 'Noun'), ('이다', 'Josa'), ('.', 'Punctuation'), ('또', 'Noun'), ('KT', 'Alpha'), ('클라우드', 'Noun'), ('인큐', 'Noun'), ('베이', 'Noun'), ('션', 'Noun'), ('프로그램', 'Noun'), ('을', 'Josa'), ('통한', 'Noun'), ('공동', 'Noun'), ('상품', 'Noun'), ('출시', 'Noun'), (',', 'Punctuation'), ('KT', 'Alpha'), ('클라우드', 'Noun'), ('마켓', 'Noun'), ('플', 'Exclamation'), ('레이스', 'Noun'), ('등재', 'Noun'), (',', 'Punctuation'), ('KT', 'Alpha'), ('마케팅', 'Noun'), ('채널', 'Noun'), ('홍보', 'Noun'), ('등', 'Noun'), ('을', 'Josa'), ('지원', 'Noun'), ('한', 'Josa'), ('다', 'Adverb'), ('.', 'Punctuation'), ('양', 'Modifier'), ('측은', 'Noun'), ('AI', 'Alpha'), ('·', 'Punctuation'), ('DX', 'Alpha'), ('인재', 'Noun'), ('양성', 'Noun'), ('을', 'Josa'), ('위해', 'Noun'), ('개발', 'Noun'), ('전문가', 'Noun'), ('초청', 'Noun'), ('특강', 'Noun'), (',', 'Punctuation'), ('교육장', 'Noun'), ('무료', 'Noun'), ('대관', 'Noun'), (',', 'Punctuation'), ('교육', 'Noun'), ('프로그램', 'Noun'), ('홍보', 'Noun'), ('등', 'Noun'), ('교육', 'Noun'), ('혁신', 'Noun'), ('활동', 'Noun'), ('도', 'Josa'), ('진행', 'Noun'), ('한다', 'Verb'), ('.', 'Punctuation'), ('NIPA', 'Alpha'), ('는', 'Verb'), ('제조', 'Noun'), (',', 'Punctuation'), ('유통', 'Noun'), (',', 'Punctuation'), ('금융', 'Noun'), ('등', 'Noun'), ('주요', 'Noun'), ('산업', 'Noun'), ('과', 'Josa'), ('연', 'Modifier'), ('계', 'Noun'), ('한', 'Josa'), ('DX', 'Alpha'), ('사업', 'Noun'), ('을', 'Josa'), ('적극', 'Noun'), ('추진', 'Noun'), ('하고', 'Josa'), ('있다', 'Adjective'), ('.', 'Punctuation'), ('DX', 'Alpha'), ('전문', 'Noun'), ('기업', 'Noun'), ('을', 'Josa'), ('육성', 'Noun'), ('하는', 'Verb'), (\"'\", 'Punctuation'), ('산업', 'Noun'), ('연', 'Modifier'), ('계', 'Noun'), ('형', 'Suffix'), ('디지털', 'Noun'), ('전문', 'Noun'), ('기업', 'Noun'), ('육성', 'Noun'), (\"',\", 'Punctuation'), ('비대', 'Noun'), ('면', 'Josa'), ('산업', 'Noun'), ('의', 'Josa'), ('일상', 'Noun'), ('화', 'Suffix'), ('를', 'Josa'), ('촉진', 'Noun'), ('하기', 'Verb'), ('위', 'Noun'), ('한', 'Josa'), (\"'\", 'Punctuation'), ('생활', 'Noun'), ('밀착', 'Noun'), ('분야', 'Noun'), ('비대', 'Noun'), ('면', 'Josa'), ('선도', 'Noun'), ('서비스', 'Noun'), ('활성화', 'Noun'), (\"'\", 'Punctuation'), ('등', 'Noun'), ('이', 'Josa'), ('대표', 'Noun'), ('사업', 'Noun'), ('이다', 'Josa'), ('.', 'Punctuation'), ('이미희', 'Noun'), ('KT', 'Alpha'), ('C', 'Alpha'), ('레벨', 'Noun'), ('컨설팅', 'Noun'), ('본부장', 'Noun'), ('은', 'Josa'), ('“', 'Foreign'), ('KT', 'Alpha'), ('는', 'Verb'), ('중소기업', 'Noun'), ('과', 'Josa'), ('중견', 'Noun'), ('기업', 'Noun'), ('의', 'Josa'), ('혁신', 'Noun'), ('을', 'Josa'), ('지원', 'Noun'), ('하고', 'Josa'), (',', 'Punctuation'), ('AI', 'Alpha'), ('와', 'Verb'), ('DX', 'Alpha'), ('인재', 'Noun'), ('양성', 'Noun'), ('을', 'Josa'), ('주도하는', 'Adjective'), ('다양한', 'Adjective'), ('사업', 'Noun'), ('을', 'Josa'), ('진행', 'Noun'), ('하겠다', 'Verb'), ('”', 'Foreign'), ('고', 'Noun'), ('말', 'Noun'), ('했다', 'Verb'), ('.', 'Punctuation'), ('\\n \\n\\n\\n\\n\\n', 'Foreign'), ('대구', 'Noun'), ('영진전문대', 'Noun'), ('AI', 'Alpha'), ('융합', 'Noun'), ('기계', 'Noun'), ('계열', 'Noun'), ('이우영', 'Noun'), ('·', 'Punctuation'), ('안', 'Noun'), ('진영', 'Noun'), ('·', 'Punctuation'), ('신형식', 'Noun'), ('·', 'Punctuation'), ('김찬', 'Noun'), ('혁', 'Noun'), ('·', 'Punctuation'), ('임재', 'Noun'), ('형', 'Suffix'), ('·', 'Punctuation'), ('김승엽', 'Noun'), ('학생', 'Noun'), ('이', 'Josa'), (\"'\", 'Punctuation'), ('클라우드', 'Noun'), ('플랫폼', 'Noun'), ('을', 'Josa'), ('이용', 'Noun'), ('한', 'Josa'), ('식물', 'Noun'), ('재배', 'Noun'), ('용', 'Noun'), ('데이터', 'Noun'), ('공유', 'Noun'), ('스마트', 'Noun'), ('팜에', 'Verb'), ('대한', 'Noun'), ('연구', 'Noun'), (\"'\", 'Punctuation'), ('논문', 'Noun'), ('으로', 'Josa'), ('제어', 'Noun'), ('로봇', 'Noun'), ('시스템', 'Noun'), ('학회', 'Noun'), ('학술', 'Noun'), ('대회', 'Noun'), ('학부', 'Noun'), ('생', 'Noun'), ('논문', 'Noun'), ('경진', 'Noun'), ('대회', 'Noun'), ('에서', 'Josa'), ('우수', 'Noun'), ('논문', 'Noun'), ('상', 'Suffix'), ('을', 'Josa'), ('받았다', 'Verb'), ('.', 'Punctuation'), ('(', 'Punctuation'), ('영진전문대', 'Noun'), ('제공', 'Noun'), (')', 'Punctuation'), ('ⓒ', 'Foreign'), ('뉴스', 'Noun'), ('1', 'Number'), ('(', 'Punctuation'), ('대구', 'Noun'), ('=', 'Punctuation'), ('뉴스', 'Noun'), ('1', 'Number'), (')', 'Punctuation'), ('공정식', 'Noun'), ('기자', 'Noun'), ('=', 'Punctuation'), ('대구', 'Noun'), ('영진전문대', 'Noun'), ('는', 'Josa'), ('8일', 'Number'), ('AI', 'Alpha'), ('융합', 'Noun'), ('기계', 'Noun'), ('계열', 'Noun'), ('학생', 'Noun'), ('들', 'Suffix'), ('이', 'Josa'), ('제어', 'Noun'), ('로봇', 'Noun'), ('시스템', 'Noun'), ('학회', 'Noun'), ('학술', 'Noun'), ('대회', 'Noun'), ('학부', 'Noun'), ('생', 'Noun'), ('논문', 'Noun'), ('경진', 'Noun'), ('대회', 'Noun'), ('에서', 'Josa'), ('전문대', 'Noun'), ('생으로', 'Noun'), ('는', 'Josa'), ('유일하게', 'Adjective'), ('우수', 'Noun'), ('논문', 'Noun'), ('상', 'Suffix'), ('을', 'Josa'), ('받았다고', 'Verb'), ('밝혔다', 'Verb'), ('.', 'Punctuation'), ('영진전문대', 'Noun'), ('AI', 'Alpha'), ('융합', 'Noun'), ('기계', 'Noun'), ('계열', 'Noun'), ('2', 'Number'), ('학년', 'Noun'), ('이우영', 'Noun'), ('학생', 'Noun'), ('등', 'Noun'), ('6', 'Number'), ('명', 'Noun'), ('은', 'Josa'), ('최근', 'Noun'), ('제어', 'Noun'), ('·', 'Punctuation'), ('로봇', 'Noun'), ('·', 'Punctuation'), ('시스템', 'Noun'), ('학회', 'Noun'), ('가', 'Josa'), ('주최', 'Noun'), ('한', 'Josa'), ('ICROS', 'Alpha'), ('2022', 'Number'), ('학술', 'Noun'), ('대회', 'Noun'), ('에서', 'Josa'), (\"'\", 'Punctuation'), ('클라우드', 'Noun'), ('플랫폼', 'Noun'), ('을', 'Josa'), ('이용', 'Noun'), ('한', 'Josa'), ('식물', 'Noun'), ('재배', 'Noun'), ('용', 'Noun'), ('데이터', 'Noun'), ('공유', 'Noun'), ('스마트', 'Noun'), ('팜에', 'Verb'), ('대한', 'Noun'), ('연구', 'Noun'), (\"'\", 'Punctuation'), ('논문', 'Noun'), ('으로', 'Josa'), ('우수', 'Noun'), ('논문', 'Noun'), ('상', 'Suffix'), ('을', 'Josa'), ('수상했다', 'Adjective'), ('.', 'Punctuation'), ('전국', 'Noun'), ('대학', 'Noun'), ('을', 'Josa'), ('비롯', 'Noun'), ('해', 'Verb'), ('연구소', 'Noun'), ('와', 'Josa'), ('산', 'Noun'), ('업체', 'Noun'), ('가', 'Josa'), ('참여', 'Noun'), ('하는', 'Verb'), ('ICROS', 'Alpha'), ('2022', 'Number'), ('에는', 'Josa'), ('총', 'Noun'), ('370', 'Number'), ('여', 'Modifier'), ('편의', 'Noun'), ('논문', 'Noun'), ('이', 'Josa'), ('발표', 'Noun'), ('됐으며', 'Verb'), (',', 'Punctuation'), ('전문대', 'Noun'), ('중', 'Noun'), ('영진전문대', 'Noun'), ('AI', 'Alpha'), ('융합', 'Noun'), ('기계', 'Noun'), ('계열', 'Noun'), ('학생', 'Noun'), ('들', 'Suffix'), ('이', 'Josa'), ('유일하게', 'Adjective'), ('참가', 'Noun'), ('했다', 'Verb'), ('.', 'Punctuation'), ('이', 'Noun'), ('들', 'Suffix'), ('은', 'Josa'), ('논문', 'Noun'), ('에서', 'Josa'), ('개별', 'Noun'), ('사용', 'Noun'), ('에', 'Josa'), ('국한', 'Noun'), ('된', 'Verb'), ('국내', 'Noun'), ('스마트', 'Noun'), ('팜', 'Verb'), ('시스템', 'Noun'), ('의', 'Josa'), ('데이터', 'Noun'), ('를', 'Josa'), ('공유', 'Noun'), ('할', 'Verb'), ('수', 'Noun'), ('있도록', 'Adjective'), ('앱', 'Noun'), ('·', 'Punctuation'), ('서버', 'Noun'), ('·', 'Punctuation'), ('데이터베이스', 'Noun'), ('를', 'Josa'), ('구축', 'Noun'), ('해', 'Verb'), ('스마트', 'Noun'), ('팜', 'Verb'), ('운영자', 'Noun'), ('들', 'Suffix'), ('이', 'Josa'), ('서버', 'Noun'), ('에', 'Josa'), ('축적', 'Noun'), ('된', 'Verb'), ('정보', 'Noun'), ('를', 'Josa'), ('공동', 'Noun'), ('활용', 'Noun'), ('하는', 'Verb'), ('지능', 'Noun'), ('형', 'Suffix'), ('제어', 'Noun'), ('시스템', 'Noun'), ('구현', 'Noun'), ('을', 'Josa'), ('제안', 'Noun'), ('했다', 'Verb'), ('.', 'Punctuation'), ('임재', 'Noun'), ('형', 'Suffix'), ('학생', 'Noun'), ('은', 'Josa'), ('\"', 'Punctuation'), ('식물', 'Noun'), ('의', 'Josa'), ('생육', 'Noun'), ('상태', 'Noun'), ('데이터', 'Noun'), ('를', 'Josa'), ('자동', 'Noun'), ('으로', 'Josa'), ('측정', 'Noun'), (',', 'Punctuation'), ('수집', 'Noun'), ('한', 'Josa'), ('후', 'Noun'), ('데이터', 'Noun'), ('를', 'Josa'), ('클라우드', 'Noun'), ('서버', 'Noun'), ('에', 'Josa'), ('저장', 'Noun'), ('하고', 'Josa'), ('여기', 'Noun'), ('에', 'Josa'), ('누적', 'Noun'), ('된', 'Verb'), ('데이터', 'Noun'), ('중', 'Noun'), ('스마트', 'Noun'), ('팜', 'Verb'), ('재배', 'Noun'), ('자', 'Suffix'), ('가', 'Josa'), ('자신', 'Noun'), ('의', 'Josa'), ('생육', 'Noun'), ('환경', 'Noun'), ('에', 'Josa'), ('맞는', 'Verb'), ('데이터', 'Noun'), ('를', 'Josa'), ('받아', 'Verb'), ('활용', 'Noun'), ('함', 'Noun'), ('으로써', 'Josa'), ('최적화', 'Noun'), ('된', 'Verb'), ('식물', 'Noun'), ('재배', 'Noun'), ('를', 'Josa'), ('도모', 'Noun'), ('하고자', 'Verb'), ('했다', 'Verb'), ('\"', 'Punctuation'), ('고', 'Noun'), ('말', 'Noun'), ('했다', 'Verb'), ('.', 'Punctuation'), ('\\n\\t\\t \\n', 'Foreign'), ('시카고', 'Noun'), ('구역', 'Noun'), ('별', 'Noun'), ('범죄', 'Noun'), ('발생', 'Noun'), ('확률', 'Noun'), ('AI', 'Alpha'), (',', 'Punctuation'), ('높은', 'Adjective'), ('정확도', 'Noun'), ('예측', 'Noun'), ('불구', 'Noun'), ('유색인종', 'Noun'), (',', 'Punctuation'), ('빈곤층', 'Noun'), ('과잉', 'Noun'), ('대표', 'Noun'), ('채용', 'Noun'), ('시', 'Noun'), ('민감', 'Noun'), ('정보', 'Noun'), ('배제', 'Noun'), ('해도', 'Verb'), ('성', 'Noun'), ('·', 'Punctuation'), ('인종', 'Noun'), ('추정', 'Noun'), ('가능', 'Noun'), ('대리', 'Noun'), ('지표', 'Noun'), ('로', 'Josa'), ('‘', 'Foreign'), ('비', 'Noun'), ('의도', 'Noun'), ('적', 'Suffix'), ('차별', 'Noun'), ('’', 'Punctuation'), ('만들어', 'Verb'), ('내', 'Determiner'), ('인공', 'Noun'), ('지능', 'Noun'), ('이', 'Josa'), ('학습', 'Noun'), ('하는', 'Verb'), ('데이터', 'Noun'), ('차별', 'Noun'), ('만연한', 'Adjective'), ('사회', 'Noun'), ('현실', 'Noun'), ('반영', 'Noun'), ('\\n\\n\\n\\n', 'Foreign'), ('미래', 'Noun'), ('범죄', 'Noun'), ('예측', 'Noun'), ('으로', 'Josa'), ('화제', 'Noun'), ('를', 'Josa'), ('모았던', 'Verb'), ('영화', 'Noun'), ('‘', 'Foreign'), ('마이', 'Noun'), ('너리', 'Noun'), ('티', 'Noun'), ('리포트', 'Noun'), ('’(', 'Punctuation'), ('2002', 'Number'), (')', 'Punctuation'), ('에서는', 'Josa'), ('초능력자', 'Noun'), ('의', 'Josa'), ('뇌', 'Noun'), ('를', 'Josa'), ('통해', 'Noun'), ('예측', 'Noun'), ('했지만', 'Verb'), ('오늘날', 'Noun'), ('은', 'Josa'), ('빅데이터', 'Noun'), ('와', 'Josa'), ('인공', 'Noun'), ('지능', 'Noun'), ('(', 'Punctuation'), ('AI', 'Alpha'), (')', 'Punctuation'), ('이', 'Noun'), ('예측', 'Noun'), ('을', 'Josa'), ('맡는다', 'Verb'), ('.', 'Punctuation'), ('2002년', 'Number'), ('개봉', 'Noun'), ('한', 'Josa'), ('톰', 'Noun'), ('크루즈', 'Noun'), ('주연', 'Noun'), ('의', 'Josa'), ('<', 'Punctuation'), ('마이', 'Noun'), ('너리', 'Noun'), ('티', 'Noun'), ('리포트', 'Noun'), ('>', 'Punctuation'), ('는', 'Verb'), ('미래', 'Noun'), ('범죄', 'Noun'), ('예측', 'Noun'), ('을', 'Josa'), ('소재', 'Noun'), ('로', 'Josa'), ('한', 'Verb'), ('영화', 'Noun'), ('다', 'Josa'), ('.', 'Punctuation'), ('‘', 'Foreign'), ('프리', 'Noun'), ('크', 'Verb'), ('라임', 'Noun'), ('’', 'Punctuation'), ('이라는', 'Josa'), ('시스템', 'Noun'), ('을', 'Josa'), ('통해', 'Noun'), ('범죄', 'Noun'), ('장소', 'Noun'), (',', 'Punctuation'), ('시간', 'Noun'), (',', 'Punctuation'), ('인물', 'Noun'), ('까지', 'Josa'), ('예측', 'Noun'), ('한다는', 'Modifier'), ('영화', 'Noun'), ('속', 'Noun'), ('상상', 'Noun'), ('이', 'Josa'), ('현실', 'Noun'), ('로', 'Josa'), ('다가오고', 'Verb'), ('있다', 'Adjective'), ('.', 'Punctuation'), ('영화', 'Noun'), ('에서는', 'Josa'), ('초능력자', 'Noun'), ('의', 'Josa'), ('뇌', 'Noun'), ('를', 'Josa'), ('통해', 'Noun'), ('예측', 'Noun'), ('했지만', 'Verb'), ('오늘날', 'Noun'), ('은', 'Josa'), ('빅데이터', 'Noun'), ('와', 'Josa'), ('인공', 'Noun'), ('지능', 'Noun'), ('(', 'Punctuation'), ('AI', 'Alpha'), (')', 'Punctuation'), ('이', 'Noun'), ('예측', 'Noun'), ('을', 'Josa'), ('맡는다', 'Verb'), ('.', 'Punctuation'), ('지난달', 'Noun'), ('2일', 'Number'), ('영국', 'Noun'), ('과학', 'Noun'), ('전문', 'Noun'), ('지', 'Josa'), ('<', 'Punctuation'), ('뉴', 'Noun'), ('사이', 'Modifier'), ('언', 'Modifier'), ('티스', 'Noun'), ('트', 'Noun'), ('>', 'Punctuation'), ('는', 'Verb'), ('미국', 'Noun'), ('시카고대', 'Noun'), ('연', 'Modifier'), ('구진', 'Noun'), ('이', 'Josa'), ('과거', 'Noun'), ('범죄', 'Noun'), ('발생', 'Noun'), ('률', 'Noun'), ('데이터', 'Noun'), ('를', 'Josa'), ('근거', 'Noun'), ('로', 'Josa'), ('미래', 'Noun'), ('범죄', 'Noun'), ('가', 'Josa'), ('발생', 'Noun'), ('할', 'Verb'), ('가능성', 'Noun'), ('이', 'Josa'), ('큰', 'Verb'), ('지역', 'Noun'), ('을', 'Josa'), ('정확하게', 'Adjective'), ('예측', 'Noun'), ('했지만', 'Verb'), (',', 'Punctuation'), ('유색인종', 'Noun'), ('에', 'Josa'), ('대한', 'Noun'), ('차별', 'Noun'), ('등', 'Noun'), ('인종', 'Noun'), ('적', 'Suffix'), ('편견', 'Noun'), ('이', 'Josa'), ('작용', 'Noun'), ('할', 'Verb'), ('수', 'Noun'), ('있다고', 'Adjective'), ('보도', 'Noun'), ('했다', 'Verb'), ('.', 'Punctuation'), ('인공', 'Noun'), ('지능', 'Noun'), ('을', 'Josa'), ('통한', 'Noun'), ('의사결정', 'Noun'), ('은', 'Josa'), ('치안', 'Noun'), ('·', 'Punctuation'), ('사법', 'Noun'), ('·', 'Punctuation'), ('채용', 'Noun'), ('등', 'Noun'), ('다양한', 'Adjective'), ('분야', 'Noun'), ('로', 'Josa'), ('퍼지고', 'Verb'), ('있다', 'Adjective'), ('.', 'Punctuation'), ('자원', 'Noun'), ('의', 'Josa'), ('효율', 'Noun'), ('적', 'Suffix'), ('배분', 'Noun'), (',', 'Punctuation'), ('사람', 'Noun'), ('의', 'Josa'), ('자의', 'Noun'), ('적', 'Suffix'), ('판단', 'Noun'), ('에서', 'Josa'), ('벗어난', 'Verb'), ('공정한', 'Adjective'), ('결과', 'Noun'), ('에', 'Josa'), ('대한', 'Noun'), ('기대', 'Noun'), ('와', 'Josa'), ('달리', 'Noun'), ('알고리즘', 'Noun'), ('의사결정', 'Noun'), ('이', 'Josa'), ('성별', 'Noun'), ('·', 'Punctuation'), ('인종', 'Noun'), ('등', 'Noun'), ('에', 'Josa'), ('대한', 'Noun'), ('차별', 'Noun'), ('을', 'Josa'), ('강화할', 'Adjective'), ('수', 'Noun'), ('있다는', 'Adjective'), ('우려', 'Noun'), ('가', 'Josa'), ('크다', 'Verb'), ('.', 'Punctuation'), ('■', 'Foreign'), ('범죄', 'Noun'), ('예측', 'Noun'), ('의', 'Josa'), ('인종', 'Noun'), ('적', 'Suffix'), ('편향', 'Noun'), ('성', 'Suffix'), ('\\xa0', 'Foreign'), ('범죄', 'Noun'), ('예측', 'Noun'), ('을', 'Josa'), ('위해', 'Noun'), ('시카고대', 'Noun'), ('연', 'Modifier'), ('구진', 'Noun'), ('이', 'Josa'), ('택', 'Noun'), ('한', 'Josa'), ('방식', 'Noun'), ('은', 'Josa'), ('시카고', 'Noun'), ('시내', 'Noun'), ('를', 'Josa'), ('일정한', 'Adjective'), ('크기', 'Noun'), ('로', 'Josa'), ('구획', 'Noun'), ('한', 'Josa'), ('뒤', 'Noun'), ('2014~2016년', 'Number'), ('발생', 'Noun'), ('한', 'Josa'), ('구획', 'Noun'), ('별', 'Noun'), ('범죄', 'Noun'), ('데이터', 'Noun'), ('를', 'Josa'), ('학습', 'Noun'), ('시키고', 'Verb'), ('학습', 'Noun'), ('기간', 'Noun'), ('이후', 'Noun'), ('의', 'Josa'), ('범죄', 'Noun'), ('발생', 'Noun'), ('률', 'Noun'), ('을', 'Josa'), ('예측', 'Noun'), ('하는', 'Verb'), ('것', 'Noun'), ('이다', 'Josa'), ('.', 'Punctuation'), ('범죄', 'Noun'), ('보고서', 'Noun'), (',', 'Punctuation'), ('체포', 'Noun'), ('기록', 'Noun'), ('및', 'Noun'), ('번호판', 'Noun'), ('이미지', 'Noun'), ('와', 'Josa'), ('같은', 'Adjective'), ('데이터', 'Noun'), ('를', 'Josa'), ('통해', 'Noun'), ('일주일', 'Noun'), ('내', 'Noun'), ('특정', 'Noun'), ('구역', 'Noun'), ('에서', 'Josa'), ('범죄', 'Noun'), ('가', 'Josa'), ('발생', 'Noun'), ('할', 'Verb'), ('가능성', 'Noun'), ('을', 'Josa'), ('예측', 'Noun'), ('했는데', 'Verb'), (',', 'Punctuation'), ('예측', 'Noun'), ('정확도', 'Noun'), ('가', 'Josa'), ('무려', 'Noun'), ('90%', 'Number'), ('였다', 'Verb'), ('.', 'Punctuation'), ('치안', 'Noun'), ('관련', 'Noun'), ('예산', 'Noun'), ('이', 'Josa'), ('한정', 'Noun'), ('되어', 'Verb'), ('있고', 'Adjective'), ('백인', 'Noun'), ('경찰', 'Noun'), ('의', 'Josa'), ('인종차별', 'Noun'), ('비판', 'Noun'), ('이', 'Josa'), ('높은', 'Adjective'), ('미국', 'Noun'), ('에서', 'Josa'), ('인공', 'Noun'), ('지능', 'Noun'), ('을', 'Josa'), ('통한', 'Noun'), ('범죄', 'Noun'), ('예측', 'Noun'), ('은', 'Josa'), ('편향', 'Noun'), ('에서', 'Josa'), ('벗어난', 'Verb'), ('공정한', 'Adjective'), ('의사결정', 'Noun'), ('의', 'Josa'), ('대안', 'Noun'), ('으로', 'Josa'), ('주목', 'Noun'), ('을', 'Josa'), ('받았다', 'Verb'), ('.', 'Punctuation'), ('하지만', 'Conjunction'), ('인공', 'Noun'), ('지능', 'Noun'), ('이', 'Josa'), ('작성', 'Noun'), ('한', 'Josa'), ('목록', 'Noun'), ('에', 'Josa'), ('시카고', 'Noun'), ('내', 'Noun'), ('20~29', 'Number'), ('살', 'Noun'), ('흑인', 'Noun'), ('남성', 'Noun'), ('의', 'Josa'), ('56%', 'Number'), ('가', 'Verb'), ('잠재', 'Noun'), ('적', 'Suffix'), ('범죄자', 'Noun'), ('로', 'Josa'), ('올라', 'Verb'), ('있을', 'Adjective'), ('정도', 'Noun'), ('로', 'Josa'), ('인종', 'Noun'), ('적', 'Suffix'), ('편향', 'Noun'), ('이', 'Josa'), ('심각하다는', 'Adjective'), ('점', 'Noun'), ('이', 'Josa'), ('드러나면서', 'Verb'), ('인공', 'Noun'), ('지능', 'Noun'), ('의', 'Josa'), ('공', 'Modifier'), ('정성', 'Noun'), ('이', 'Josa'), ('도마', 'Noun'), ('위', 'Noun'), ('에', 'Josa'), ('올랐다', 'Verb'), ('.', 'Punctuation'), ('인공', 'Noun'), ('지능', 'Noun'), ('이', 'Josa'), ('학습', 'Noun'), ('하는', 'Verb'), ('범죄', 'Noun'), ('데이터', 'Noun'), ('의', 'Josa'), ('질', 'Noun'), ('이', 'Josa'), ('낮다는', 'Adjective'), ('것', 'Noun'), ('이', 'Josa'), ('유력한', 'Adjective'), ('이유', 'Noun'), ('로', 'Josa'), ('꼽힌다', 'Verb'), ('.', 'Punctuation'), ('뉴욕대', 'Noun'), ('인종', 'Noun'), ('불평등', 'Noun'), ('법', 'Noun'), ('센터', 'Noun'), ('소장', 'Noun'), ('인', 'Josa'), ('빈센트', 'Noun'), ('서덜랜드', 'Noun'), ('는', 'Josa'), ('<', 'Punctuation'), ('워싱턴포스트', 'Noun'), ('>', 'Punctuation'), ('인터뷰', 'Noun'), ('에서', 'Josa'), ('“', 'Foreign'), ('역사', 'Noun'), ('적', 'Suffix'), ('으로', 'Josa'), ('미국', 'Noun'), ('의', 'Josa'), ('경찰', 'Noun'), ('데이터', 'Noun'), ('는', 'Josa'), ('편향', 'Noun'), ('되어', 'Verb'), ('있다', 'Adjective'), ('”', 'Foreign'), ('며', 'Noun'), ('범죄', 'Noun'), ('관련', 'Noun'), ('데이터', 'Noun'), ('는', 'Josa'), ('유색인종', 'Noun'), ('과', 'Josa'), ('저', 'Determiner'), ('소득', 'Noun'), ('층', 'Noun'), ('을', 'Josa'), ('과잉', 'Noun'), ('대표', 'Noun'), ('하고', 'Josa'), (',', 'Punctuation'), ('이', 'Noun'), ('데이터', 'Noun'), ('를', 'Josa'), ('학습', 'Noun'), ('한', 'Josa'), ('알고리즘', 'Noun'), ('은', 'Josa'), ('이', 'Noun'), ('들', 'Suffix'), ('의', 'Josa'), ('범죄', 'Noun'), ('가능성', 'Noun'), ('을', 'Josa'), ('높게', 'Adjective'), ('예측', 'Noun'), ('하는', 'Verb'), ('방식', 'Noun'), ('으로', 'Josa'), ('작', 'Modifier'), ('동해', 'Noun'), ('차별', 'Noun'), ('이', 'Josa'), ('강화', 'Noun'), ('된다고', 'Verb'), ('말', 'Noun'), ('했다', 'Verb'), ('.', 'Punctuation'), ('즉', 'Noun'), (',', 'Punctuation'), ('흑인', 'Noun'), ('이나', 'Josa'), ('소수', 'Noun'), ('인종', 'Noun'), ('거주지', 'Noun'), ('의', 'Josa'), ('범죄', 'Noun'), ('율', 'Noun'), ('이', 'Josa'), ('높다는', 'Adjective'), ('기존', 'Noun'), ('데이터', 'Noun'), ('에', 'Josa'), ('기반', 'Noun'), ('해', 'Verb'), ('이', 'Noun'), ('지역', 'Noun'), ('에', 'Josa'), ('경찰', 'Noun'), ('력', 'Suffix'), ('을', 'Josa'), ('많이', 'Adverb'), ('배치', 'Noun'), ('하면', 'Verb'), ('검', 'Noun'), ('문', 'Modifier'), ('검색', 'Noun'), ('이', 'Josa'), ('더', 'Noun'), ('늘어나고', 'Verb'), ('검거', 'Noun'), ('율도', 'Noun'), ('높아진다', 'Verb'), ('.', 'Punctuation'), ('데이터', 'Noun'), ('의', 'Josa'), ('‘', 'Foreign'), ('자기', 'Noun'), ('예언', 'Noun'), ('적', 'Suffix'), ('실현', 'Noun'), ('’', 'Punctuation'), ('인', 'Noun'), ('셈', 'Noun'), ('이다', 'Josa'), ('.', 'Punctuation'), ('효율', 'Noun'), ('적', 'Suffix'), ('으로', 'Josa'), ('보이는', 'Verb'), ('알고리즘', 'Noun'), ('의', 'Josa'), ('결과', 'Noun'), (',', 'Punctuation'), ('흑인', 'Noun'), ('거주지', 'Noun'), ('의', 'Josa'), ('범죄', 'Noun'), ('율', 'Noun'), ('은', 'Josa'), ('더', 'Noun'), ('높아지는', 'Verb'), ('역설', 'Noun'), ('이', 'Josa'), ('발생', 'Noun'), ('한다', 'Verb'), ('.', 'Punctuation'), ('재범', 'Noun'), ('률', 'Noun'), (',', 'Punctuation'), ('가석방', 'Noun'), ('결정', 'Noun'), ('등', 'Noun'), ('에서도', 'Josa'), ('알고리즘', 'Noun'), ('의', 'Josa'), ('차별성', 'Noun'), ('문제', 'Noun'), ('가', 'Josa'), ('대두', 'Noun'), ('한', 'Josa'), ('다', 'Adverb'), ('.', 'Punctuation'), ('2016년', 'Number'), ('미국', 'Noun'), ('의', 'Josa'), ('탐사보도', 'Noun'), ('매체', 'Noun'), ('<', 'Punctuation'), ('프로퍼블리카', 'Noun'), ('>', 'Punctuation'), ('는', 'Verb'), ('출소', 'Verb'), ('후', 'Noun'), ('재범', 'Noun'), ('가능성', 'Noun'), ('을', 'Josa'), ('인공', 'Noun'), ('지능', 'Noun'), ('이', 'Josa'), ('제대로', 'Noun'), ('예측', 'Noun'), ('했는지', 'Verb'), ('검증', 'Noun'), ('한', 'Josa'), ('결과', 'Noun'), (',', 'Punctuation'), ('백인', 'Noun'), ('은', 'Josa'), ('인공', 'Noun'), ('지능', 'Noun'), ('의', 'Josa'), ('예상', 'Noun'), ('보다', 'Josa'), ('재범', 'Noun'), ('률', 'Noun'), ('이', 'Josa'), ('크게', 'Noun'), ('높았고', 'Adjective'), ('흑인', 'Noun'), ('은', 'Josa'), ('반대', 'Noun'), ('였다', 'Verb'), ('.', 'Punctuation'), ('■', 'Foreign'), ('채용', 'Noun'), ('에서', 'Josa'), ('불거진', 'Verb'), ('차별', 'Noun'), ('논란', 'Noun'), ('\\xa0', 'Foreign'), ('기업', 'Noun'), ('채용', 'Noun'), ('에서도', 'Josa'), ('알고리즘', 'Noun'), ('의', 'Josa'), ('차별', 'Noun'), (',', 'Punctuation'), ('편향', 'Noun'), ('성', 'Suffix'), ('논란', 'Noun'), ('이', 'Josa'), ('불거진다', 'Verb'), ('.', 'Punctuation'), ('지난', 'Noun'), ('5월', 'Number'), ('미국', 'Noun'), ('법률', 'Noun'), ('전문', 'Noun'), ('매체', 'Noun'), ('<', 'Punctuation'), ('내셔널', 'Noun'), ('로', 'Noun'), ('리뷰', 'Noun'), ('>', 'Punctuation'), ('에', 'Josa'), ('따르면', 'Verb'), ('미국', 'Noun'), ('에서', 'Josa'), ('고용주', 'Noun'), ('의', 'Josa'), ('약', 'Noun'), ('4분', 'Number'), ('의', 'Foreign'), ('1', 'Number'), ('이', 'Noun'), ('채용', 'Noun'), ('과정', 'Noun'), ('에서', 'Josa'), ('인공', 'Noun'), ('지능', 'Noun'), ('을', 'Josa'), ('사용', 'Noun'), ('한', 'Josa'), ('다', 'Adverb'), ('.', 'Punctuation'), ('이력서', 'Noun'), ('선별', 'Noun'), (',', 'Punctuation'), ('온라인', 'Noun'), ('테스트', 'Noun'), ('분석', 'Noun'), (',', 'Punctuation'), ('지원', 'Noun'), ('자의', 'Noun'), ('표정', 'Noun'), (',', 'Punctuation'), ('신체', 'Noun'), ('언어', 'Noun'), (',', 'Punctuation'), ('단어', 'Noun'), ('선택', 'Noun'), (',', 'Punctuation'), ('면접', 'Noun'), ('중', 'Noun'), ('목소리', 'Noun'), ('톤', 'Noun'), ('평가', 'Noun'), ('등', 'Noun'), ('을', 'Josa'), ('통해', 'Noun'), ('효율', 'Noun'), ('적이면서도', 'Verb'), ('공정한', 'Adjective'), ('채용', 'Noun'), ('을', 'Josa'), ('시도', 'Noun'), ('하고', 'Josa'), ('있다지만', 'Adjective'), ('여성', 'Noun'), (',', 'Punctuation'), ('유색인종', 'Noun'), ('배제', 'Noun'), ('등', 'Noun'), ('‘', 'Foreign'), ('비', 'Noun'), ('의도', 'Noun'), ('적', 'Suffix'), ('’', 'Punctuation'), ('차별', 'Noun'), ('로', 'Josa'), ('이어질', 'Verb'), ('위험성', 'Noun'), ('이', 'Josa'), ('있다고', 'Adjective'), ('보도', 'Noun'), ('했다', 'Verb'), ('.', 'Punctuation'), ('아마존', 'Noun'), ('이', 'Josa'), ('구직', 'Noun'), ('자의', 'Noun'), ('이력서', 'Noun'), ('를', 'Josa'), ('평가', 'Noun'), ('하기', 'Verb'), ('위해', 'Noun'), ('훈련', 'Noun'), ('해온', 'Verb'), ('알고리즘', 'Noun'), ('이', 'Josa'), ('성', 'Noun'), ('차별', 'Noun'), ('논란', 'Noun'), ('으로', 'Josa'), ('2017년', 'Number'), ('개발', 'Noun'), ('을', 'Josa'), ('중단', 'Noun'), ('한', 'Josa'), ('것', 'Noun'), ('은', 'Josa'), ('널리', 'Noun'), ('알려진', 'Verb'), ('사례', 'Noun'), ('다', 'Josa'), ('.', 'Punctuation'), ('이', 'Noun'), ('알고리즘', 'Noun'), ('은', 'Josa'), ('연령', 'Noun'), (',', 'Punctuation'), ('성', 'Noun'), (',', 'Punctuation'), ('출신', 'Noun'), ('학교', 'Noun'), (',', 'Punctuation'), ('출신', 'Noun'), ('지', 'Josa'), ('등', 'Noun'), ('차별', 'Noun'), ('의', 'Josa'), ('요소', 'Noun'), ('를', 'Josa'), ('배제', 'Noun'), ('한', 'Determiner'), ('다지', 'Noun'), ('만', 'Josa'), (',', 'Punctuation'), ('‘', 'Foreign'), ('여성', 'Noun'), ('체스', 'Noun'), ('클럽', 'Noun'), ('’,', 'Punctuation'), ('‘', 'Foreign'), ('여성', 'Noun'), ('대학', 'Noun'), ('’', 'Punctuation'), ('등', 'Noun'), ('여성', 'Noun'), ('이', 'Josa'), ('언급', 'Noun'), ('된', 'Verb'), ('지', 'Modifier'), ('원서', 'Noun'), ('를', 'Josa'), ('채용', 'Noun'), ('대상', 'Noun'), ('에서', 'Josa'), ('배제', 'Noun'), ('하는', 'Verb'), ('방식', 'Noun'), ('으로', 'Josa'), ('성별', 'Noun'), ('편향', 'Noun'), ('적', 'Suffix'), ('인', 'Josa'), ('결과', 'Noun'), ('를', 'Josa'), ('보였다', 'Verb'), ('.', 'Punctuation'), ('■', 'Foreign'), ('AI', 'Alpha'), ('가', 'Verb'), ('차별', 'Noun'), ('을', 'Josa'), ('학습', 'Noun'), ('하는', 'Verb'), ('구조', 'Noun'), ('\\xa0', 'Foreign'), ('빅데이터', 'Noun'), ('에', 'Josa'), ('기반', 'Noun'), ('한', 'Josa'), ('알고리즘', 'Noun'), ('은', 'Josa'), ('성별', 'Noun'), (',', 'Punctuation'), ('인종', 'Noun'), (',', 'Punctuation'), ('사회', 'Noun'), ('경제', 'Noun'), ('적', 'Suffix'), ('배경', 'Noun'), ('과', 'Josa'), ('같은', 'Adjective'), ('민감한', 'Adjective'), ('변수', 'Noun'), ('를', 'Josa'), ('배제', 'Noun'), ('하는', 'Verb'), ('경우', 'Noun'), ('에도', 'Josa'), ('‘', 'Foreign'), ('비', 'Noun'), ('의도', 'Noun'), ('적', 'Suffix'), ('’', 'Punctuation'), ('인', 'Noun'), ('차별', 'Noun'), ('이', 'Josa'), ('나타날', 'Verb'), ('수', 'Noun'), ('있다', 'Adjective'), ('.', 'Punctuation'), ('민감', 'Noun'), ('정보', 'Noun'), ('를', 'Josa'), ('추정', 'Noun'), ('할', 'Verb'), ('수', 'Noun'), ('있는', 'Adjective'), ('대리', 'Noun'), ('지표', 'Noun'), ('라는', 'Josa'), ('우회', 'Noun'), ('적', 'Suffix'), ('방법', 'Noun'), ('을', 'Josa'), ('통', 'Noun'), ('해서다', 'Verb'), ('.', 'Punctuation'), ('예컨대', 'Adverb'), ('구직', 'Noun'), ('자', 'Suffix'), ('에게', 'Josa'), ('부모', 'Noun'), ('직업', 'Noun'), ('을', 'Josa'), ('묻지', 'Verb'), ('않더라도', 'Verb'), ('거주지', 'Noun'), ('정보', 'Noun'), (',', 'Punctuation'), ('소비', 'Noun'), ('패턴', 'Noun'), (',', 'Punctuation'), ('취미', 'Noun'), ('활동', 'Noun'), ('등', 'Noun'), ('에', 'Josa'), ('대한', 'Noun'), ('정보', 'Noun'), ('를', 'Josa'), ('결', 'Noun'), ('합해', 'Verb'), ('추정', 'Noun'), ('해낸다', 'Verb'), ('.', 'Punctuation'), ('고학', 'Noun'), ('수', 'Noun'), ('서울대', 'Noun'), ('법학', 'Noun'), ('전문', 'Noun'), ('대학원', 'Noun'), ('교수', 'Noun'), ('는', 'Josa'), ('저서', 'Noun'), ('＜', 'Foreign'), ('AI', 'Alpha'), ('는', 'Verb'), ('차별', 'Noun'), ('을', 'Josa'), ('인간', 'Noun'), ('에게서', 'Josa'), ('배운다', 'Verb'), ('＞', 'Foreign'), ('에서', 'Josa'), ('인공', 'Noun'), ('지능', 'Noun'), ('이', 'Josa'), ('학습', 'Noun'), ('하는', 'Verb'), ('데이터', 'Noun'), ('가', 'Josa'), ('편향', 'Noun'), (',', 'Punctuation'), ('차별', 'Noun'), ('이', 'Josa'), ('담긴', 'Verb'), ('과거', 'Noun'), ('의', 'Josa'), ('데이터', 'Noun'), ('라는', 'Josa'), ('점', 'Noun'), ('을', 'Josa'), ('강조', 'Noun'), ('한다', 'Verb'), ('.', 'Punctuation'), ('범죄', 'Noun'), ('예측', 'Noun'), ('도구', 'Noun'), ('와', 'Josa'), ('같이', 'Adverb'), ('특정', 'Noun'), ('인종', 'Noun'), (',', 'Punctuation'), ('사회', 'Noun'), ('경', 'Modifier'), ('제', 'Modifier'), ('집단', 'Noun'), ('을', 'Josa'), ('차별', 'Noun'), ('하는', 'Verb'), ('데이터', 'Noun'), ('자체', 'Noun'), ('가', 'Josa'), ('문제', 'Noun'), ('인데', 'Josa'), ('일부', 'Noun'), ('민감한', 'Adjective'), ('데이터', 'Noun'), ('를', 'Josa'), ('배제', 'Noun'), ('한', 'Josa'), ('다', 'Adverb'), ('고', 'Noun'), ('문제', 'Noun'), ('가', 'Josa'), ('풀리지', 'Verb'), ('않는다', 'Verb'), ('.', 'Punctuation'), ('인공', 'Noun'), ('지능', 'Noun'), ('의', 'Josa'), ('차별', 'Noun'), ('은', 'Josa'), ('인간', 'Noun'), ('으로부터', 'Josa'), ('학습', 'Noun'), ('한', 'Josa'), ('것', 'Noun'), ('이며', 'Josa'), ('인공', 'Noun'), ('지능', 'Noun'), ('은', 'Josa'), ('이를', 'Verb'), ('증폭', 'Noun'), ('하고', 'Josa'), ('지속', 'Noun'), ('시킬', 'Verb'), ('위협', 'Noun'), ('이', 'Josa'), ('적잖다', 'Verb'), ('.', 'Punctuation'), ('차별', 'Noun'), ('이', 'Josa'), ('만연한', 'Adjective'), ('사회', 'Noun'), ('를', 'Josa'), ('방치', 'Noun'), ('한', 'Josa'), ('채', 'Noun'), ('공정한', 'Adjective'), ('알고리즘', 'Noun'), ('을', 'Josa'), ('기대하기는', 'Adjective'), ('어렵다', 'Adjective'), ('.', 'Punctuation'), ('\\n \\n', 'Foreign'), ('지난해', 'Noun'), ('공개', 'Noun'), ('한', 'Josa'), ('아스트로', 'Noun'), ('역량', 'Noun'), ('향상', 'Noun'), ('기대', 'Noun'), ('…', 'Punctuation'), ('신', 'Modifier'), ('사업', 'Noun'), ('확장', 'Noun'), ('청', 'Noun'), ('신호', 'Noun'), ('아마존', 'Noun'), ('이', 'Josa'), ('인공', 'Noun'), ('지능', 'Noun'), ('(', 'Punctuation'), ('AI', 'Alpha'), (')', 'Punctuation'), ('로봇청소기', 'Noun'), ('‘', 'Foreign'), ('룸바', 'Noun'), (\"'\", 'Punctuation'), ('로', 'Noun'), ('유명한', 'Adjective'), ('아이로봇', 'Noun'), ('을', 'Josa'), ('인수', 'Noun'), ('했다', 'Verb'), ('.', 'Punctuation'), ('아마존', 'Noun'), ('이', 'Josa'), ('추진', 'Noun'), ('한', 'Josa'), ('인수', 'Noun'), ('중', 'Noun'), ('4', 'Number'), ('번', 'Noun'), ('째', 'Suffix'), ('로', 'Josa'), ('큰', 'Verb'), ('규모', 'Noun'), ('로', 'Josa'), ('이뤄졌다', 'Verb'), ('.', 'Punctuation'), ('앞서', 'Noun'), ('로봇청소기', 'Noun'), ('를', 'Josa'), ('선보인', 'Verb'), ('아마존', 'Noun'), ('이기', 'Noun'), ('에', 'Josa'), ('신', 'Modifier'), ('사업', 'Noun'), ('화장', 'Noun'), ('에도', 'Josa'), ('속도', 'Noun'), ('가', 'Josa'), ('늘어날', 'Verb'), ('전망', 'Noun'), ('이다', 'Josa'), ('.', 'Punctuation'), ('\\n\\n\\n\\n', 'Foreign'), ('아마존', 'Noun'), ('가정', 'Noun'), ('용', 'Noun'), ('로봇', 'Noun'), (\"'\", 'Punctuation'), ('아스트로', 'Noun'), (\"'\", 'Punctuation'), ('[', 'Punctuation'), ('사진', 'Noun'), ('=', 'Punctuation'), ('아마존', 'Noun'), (']', 'Punctuation'), ('6일', 'Number'), ('(', 'Punctuation'), ('현지', 'Noun'), ('시간', 'Noun'), (')', 'Punctuation'), ('테크', 'Noun'), ('크런치', 'Noun'), ('등', 'Noun'), ('미국', 'Noun'), ('주요', 'Noun'), ('IT', 'Alpha'), ('매체', 'Noun'), ('들', 'Suffix'), ('에', 'Josa'), ('따르면', 'Verb'), ('아마존', 'Noun'), ('은', 'Josa'), ('아이로봇', 'Noun'), ('을', 'Josa'), ('17억달러', 'Number'), ('(', 'Punctuation'), ('약', 'Noun'), ('2조', 'Number'), ('2천억원', 'Number'), (')', 'Punctuation'), ('에', 'Josa'), ('인수', 'Noun'), ('한', 'Josa'), ('다', 'Adverb'), ('.', 'Punctuation'), ('아이로봇', 'Noun'), ('은', 'Josa'), ('지난', 'Noun'), ('2002년', 'Number'), ('로봇청소기', 'Noun'), ('‘', 'Foreign'), ('룸바', 'Noun'), ('’', 'Punctuation'), ('를', 'Noun'), ('출시', 'Noun'), ('한', 'Josa'), ('기업', 'Noun'), ('이다', 'Josa'), ('.', 'Punctuation'), ('지난', 'Noun'), ('1990년', 'Number'), ('미국', 'Noun'), ('MIT', 'Alpha'), ('인공', 'Noun'), ('지능', 'Noun'), ('연구소', 'Noun'), ('회원', 'Noun'), ('인', 'Josa'), ('콜린', 'Noun'), ('앵글', 'Noun'), (',', 'Punctuation'), ('루드', 'Noun'), ('니', 'Josa'), ('브룩스', 'Noun'), (',', 'Punctuation'), ('헬렌', 'Noun'), ('그레이', 'Noun'), ('너', 'Noun'), ('를', 'Josa'), ('통해', 'Noun'), ('설립', 'Noun'), ('됐다', 'Verb'), ('.', 'Punctuation'), ('신종', 'Noun'), ('코로나', 'Noun'), ('바이러스', 'Noun'), ('감염증', 'Noun'), ('(', 'Punctuation'), ('코로나', 'Noun'), ('19', 'Number'), (')', 'Punctuation'), ('여파', 'Noun'), ('로', 'Josa'), ('인해', 'Adjective'), ('급격한', 'Adjective'), ('매출', 'Noun'), ('성장', 'Noun'), ('을', 'Josa'), ('보였으나', 'Verb'), (',', 'Punctuation'), ('코로나', 'Noun'), ('19', 'Number'), ('가', 'Verb'), ('완화', 'Noun'), ('되자', 'Verb'), ('다시', 'Noun'), ('어려움', 'Noun'), ('을', 'Josa'), ('겪은', 'Verb'), ('바', 'Noun'), ('있다', 'Adjective'), ('.', 'Punctuation'), ('브룩', 'Noun'), ('과', 'Josa'), ('그레이', 'Noun'), ('너', 'Noun'), ('가', 'Josa'), ('떠난', 'Verb'), ('후', 'Noun'), ('에도', 'Josa'), ('콜린', 'Noun'), ('앵글', 'Noun'), ('은', 'Josa'), ('CEO', 'Alpha'), ('로', 'Noun'), ('남았으며', 'Verb'), (',', 'Punctuation'), ('이번', 'Noun'), ('아마존', 'Noun'), ('인수', 'Noun'), ('후', 'Noun'), ('에도', 'Josa'), ('남게', 'Verb'), ('된다', 'Verb'), ('.', 'Punctuation'), ('그', 'Noun'), ('는', 'Josa'), ('아마존', 'Noun'), ('이', 'Josa'), ('자신', 'Noun'), ('들', 'Suffix'), ('의', 'Josa'), ('연구개발', 'Noun'), ('방향', 'Noun'), ('에', 'Josa'), ('큰', 'Verb'), ('힘', 'Noun'), ('을', 'Josa'), ('줄', 'Noun'), ('수', 'Noun'), ('있을', 'Adjective'), ('것', 'Noun'), ('으로', 'Josa'), ('기대하고', 'Adjective'), ('있다', 'Adjective'), ('.', 'Punctuation'), ('아마존', 'Noun'), ('입장', 'Noun'), ('에서도', 'Josa'), ('기대', 'Noun'), ('가', 'Josa'), ('크다', 'Verb'), ('.', 'Punctuation'), ('아마존', 'Noun'), ('은', 'Josa'), ('물류', 'Noun'), ('분야', 'Noun'), ('에서', 'Josa'), ('인공', 'Noun'), ('지능', 'Noun'), ('과', 'Josa'), ('로봇', 'Noun'), ('을', 'Josa'), ('활용', 'Noun'), ('하고', 'Josa'), ('있기는', 'Adjective'), ('하나', 'Noun'), ('엔드투엔드', 'Noun'), ('서비스', 'Noun'), ('에', 'Josa'), ('대해', 'Noun'), ('서는', 'Verb'), ('계기', 'Noun'), ('가', 'Josa'), ('필요하다', 'Adjective'), ('.', 'Punctuation'), ('지난해', 'Noun'), ('룸바', 'Noun'), ('와', 'Josa'), ('비슷한', 'Adjective'), ('AI', 'Alpha'), ('로봇청소기', 'Noun'), ('아스트로', 'Noun'), ('를', 'Josa'), ('공개', 'Noun'), ('하기는', 'Verb'), ('했으나', 'Verb'), ('아직', 'Adverb'), ('시작', 'Noun'), ('에', 'Josa'), ('불과하다', 'Adjective'), ('.', 'Punctuation'), ('앞서', 'Noun'), ('아마존', 'Noun'), ('은', 'Josa'), ('아이로봇', 'Noun'), ('과', 'Josa'), ('함께', 'Adverb'), ('자체', 'Noun'), ('AI', 'Alpha'), ('플랫폼', 'Noun'), ('인', 'Josa'), ('알렉사', 'Noun'), ('와', 'Josa'), ('AWS', 'Alpha'), ('서버', 'Noun'), ('등', 'Noun'), ('을', 'Josa'), ('통해', 'Noun'), ('룸바', 'Noun'), ('를', 'Josa'), ('발전', 'Noun'), ('시켜', 'Verb'), ('왔다', 'Verb'), ('.', 'Punctuation'), ('이번', 'Noun'), ('인수', 'Noun'), ('역시', 'Noun'), ('도', 'Josa'), ('이', 'Noun'), ('같은', 'Adjective'), ('협력', 'Noun'), ('에서', 'Josa'), ('발현', 'Noun'), ('된', 'Verb'), ('것', 'Noun'), ('으로', 'Josa'), ('알려졌다', 'Verb'), ('.', 'Punctuation'), ('아마존', 'Noun'), ('은', 'Josa'), ('미래', 'Noun'), ('가정', 'Noun'), ('역시', 'Noun'), ('도', 'Josa'), ('거대한', 'Adjective'), ('로봇', 'Noun'), ('플랫폼', 'Noun'), ('이', 'Josa'), ('될', 'Verb'), ('것', 'Noun'), ('이며', 'Josa'), (',', 'Punctuation'), ('그', 'Noun'), ('에', 'Josa'), ('따라', 'Verb'), ('홈', 'Noun'), ('AI', 'Alpha'), ('로봇', 'Noun'), ('비전을', 'Verb'), ('꿈꾸고', 'Verb'), ('있다', 'Adjective'), ('.', 'Punctuation'), ('\\n \\n', 'Foreign'), ('기사', 'Noun'), ('내용', 'Noun'), ('요약', 'Noun'), ('병원', 'Noun'), ('업무', 'Noun'), ('자동화', 'Noun'), ('에', 'Josa'), ('클로', 'Verb'), ('바', 'Noun'), ('AI', 'Alpha'), ('콜', 'Noun'), ('솔루션', 'Noun'), ('도입', 'Noun'), ('AI', 'Alpha'), ('관련', 'Noun'), ('연구', 'Noun'), ('과제', 'Noun'), ('발굴', 'Noun'), ('및', 'Noun'), ('진행', 'Noun'), ('공동', 'Noun'), ('참여', 'Noun'), ('\\n\\n\\n\\n', 'Foreign'), ('네이버', 'Noun'), ('는', 'Josa'), ('지난', 'Noun'), ('5일', 'Number'), ('충북대학교병원', 'Noun'), ('에서', 'Josa'), ('업무', 'Noun'), ('협약', 'Noun'), ('식', 'Suffix'), ('을', 'Josa'), ('개최', 'Noun'), ('하고', 'Josa'), ('최영석', 'Noun'), ('충북대학교병원', 'Noun'), ('장', 'Suffix'), (',', 'Punctuation'), ('한정호', 'Noun'), ('기획', 'Noun'), ('조정', 'Noun'), ('실장', 'Noun'), (',', 'Punctuation'), ('전현정', 'Noun'), ('의료', 'Noun'), ('정보', 'Noun'), ('센터', 'Noun'), ('장', 'Suffix'), (',', 'Punctuation'), ('나', 'Noun'), ('군호', 'Noun'), ('네이버', 'Noun'), ('헬', 'Noun'), ('스케', 'Noun'), ('어', 'Suffix'), ('연구소장', 'Noun'), (',', 'Punctuation'), ('김필수', 'Noun'), ('리더', 'Noun'), ('등', 'Noun'), ('이', 'Josa'), ('참석', 'Noun'), ('해', 'Verb'), ('상호', 'Noun'), ('협력', 'Noun'), ('을', 'Josa'), ('약속', 'Noun'), ('했다고', 'Verb'), ('8일', 'Number'), ('밝혔다', 'Verb'), ('.', 'Punctuation'), ('사진', 'Noun'), ('은', 'Josa'), ('왼쪽', 'Noun'), ('부터', 'Josa'), ('충북대학교병원', 'Noun'), ('김기석', 'Noun'), ('의료', 'Noun'), ('정보', 'Noun'), ('과', 'Josa'), ('팀', 'Noun'), ('장', 'Suffix'), (',', 'Punctuation'), ('전현정', 'Noun'), ('의료', 'Noun'), ('정보', 'Noun'), ('센터', 'Noun'), ('장', 'Suffix'), (',', 'Punctuation'), ('한정호', 'Noun'), ('기획', 'Noun'), ('조정', 'Noun'), ('실장', 'Noun'), (',', 'Punctuation'), ('최영석', 'Noun'), ('병원', 'Noun'), ('장', 'Suffix'), (',', 'Punctuation'), ('네이버', 'Noun'), ('나', 'Noun'), ('군호', 'Noun'), ('헬', 'Noun'), ('스케', 'Noun'), ('어', 'Suffix'), ('연구소장', 'Noun'), (',', 'Punctuation'), ('김필수', 'Noun'), ('리더', 'Noun'), (',', 'Punctuation'), ('옥', 'Noun'), ('상훈', 'Noun'), ('부장', 'Noun'), (',', 'Punctuation'), ('강', 'Noun'), ('하연', 'Noun'), ('선임', 'Noun'), ('이', 'Josa'), ('업무', 'Noun'), ('협약', 'Noun'), ('체결', 'Noun'), ('후', 'Noun'), ('기념', 'Noun'), ('촬영', 'Noun'), ('을', 'Josa'), ('하는', 'Verb'), ('모습', 'Noun'), ('.', 'Punctuation'), ('(', 'Punctuation'), ('사진', 'Noun'), ('=', 'Punctuation'), ('네이버', 'Noun'), ('제공', 'Noun'), (')', 'Punctuation'), ('2022.08', 'Number'), ('.', 'Punctuation'), ('08', 'Number'), ('*', 'Punctuation'), ('재판매', 'Noun'), ('및', 'Noun'), ('DB', 'Alpha'), ('금지', 'Noun'), ('[', 'Punctuation'), ('서울', 'Noun'), ('=', 'Punctuation'), ('뉴시스', 'Noun'), (']', 'Punctuation'), ('최은수', 'Noun'), ('기자', 'Noun'), ('=', 'Punctuation'), ('네이버', 'Noun'), ('와', 'Josa'), ('네이버', 'Noun'), ('클라우드', 'Noun'), (',', 'Punctuation'), ('충북대학교병원', 'Noun'), ('이', 'Josa'), ('인공', 'Noun'), ('지능', 'Noun'), ('(', 'Punctuation'), ('AI', 'Alpha'), (')', 'Punctuation'), ('을', 'Josa'), ('활용', 'Noun'), ('한', 'Josa'), ('스마트', 'Noun'), ('병원', 'Noun'), ('구축', 'Noun'), ('을', 'Josa'), ('위해', 'Noun'), ('협력', 'Noun'), ('한다', 'Verb'), ('.', 'Punctuation'), ('네이버', 'Noun'), ('는', 'Josa'), ('지난', 'Noun'), ('5일', 'Number'), ('충북대학교병원', 'Noun'), ('에서', 'Josa'), ('업무', 'Noun'), ('협약', 'Noun'), ('식', 'Suffix'), ('을', 'Josa'), ('개최', 'Noun'), ('하고', 'Josa'), ('최영석', 'Noun'), ('충북대학교병원', 'Noun'), ('장', 'Suffix'), (',', 'Punctuation'), ('한정호', 'Noun'), ('기획', 'Noun'), ('조정', 'Noun'), ('실장', 'Noun'), (',', 'Punctuation'), ('전현정', 'Noun'), ('의료', 'Noun'), ('정보', 'Noun'), ('센터', 'Noun'), ('장', 'Suffix'), (',', 'Punctuation'), ('나', 'Noun'), ('군호', 'Noun'), ('네이버', 'Noun'), ('헬', 'Noun'), ('스케', 'Noun'), ('어', 'Suffix'), ('연구소장', 'Noun'), (',', 'Punctuation'), ('김필수', 'Noun'), ('리더', 'Noun'), ('등', 'Noun'), ('이', 'Josa'), ('참석', 'Noun'), ('해', 'Verb'), ('상호', 'Noun'), ('협력', 'Noun'), ('을', 'Josa'), ('약속', 'Noun'), ('했다고', 'Verb'), ('8일', 'Number'), ('밝혔다', 'Verb'), ('.', 'Punctuation'), ('이번', 'Noun'), ('업무', 'Noun'), ('협약', 'Noun'), ('을', 'Josa'), ('통해', 'Noun'), ('3', 'Number'), ('사는', 'Verb'), ('▲', 'Foreign'), ('병원', 'Noun'), ('업무', 'Noun'), ('자동화', 'Noun'), ('및', 'Noun'), ('효율', 'Noun'), ('화', 'Suffix'), ('를', 'Josa'), ('위', 'Noun'), ('한', 'Josa'), ('클로', 'Verb'), ('바', 'Noun'), ('AI', 'Alpha'), ('콜', 'Noun'), ('솔루션', 'Noun'), ('도입', 'Noun'), (',', 'Punctuation'), ('▲', 'Foreign'), ('의료', 'Noun'), ('진', 'Noun'), ('간', 'Suffix'), ('협업', 'Noun'), ('및', 'Noun'), ('정보', 'Noun'), ('공유', 'Noun'), ('를', 'Josa'), ('위', 'Noun'), ('한', 'Josa'), ('네이버', 'Noun'), ('웍스', 'Noun'), ('그룹', 'Noun'), ('웨어', 'Noun'), ('도입', 'Noun'), (',', 'Punctuation'), ('▲', 'Foreign'), ('웨일', 'Noun'), ('북', 'Noun'), ('스마트', 'Noun'), ('태블릿', 'Noun'), ('을', 'Josa'), ('활용', 'Noun'), ('한', 'Josa'), ('스마트', 'Noun'), ('병동', 'Noun'), ('시범', 'Noun'), ('사업', 'Noun'), ('추진', 'Noun'), ('등', 'Noun'), ('스마트', 'Noun'), ('병원', 'Noun'), ('구축', 'Noun'), ('을', 'Josa'), ('위', 'Noun'), ('한', 'Josa'), ('AI', 'Alpha'), ('사업', 'Noun'), ('에', 'Josa'), ('포괄', 'Noun'), ('적', 'Suffix'), ('으로', 'Josa'), ('협력', 'Noun'), ('할', 'Verb'), ('예정', 'Noun'), ('이다', 'Josa'), ('.', 'Punctuation'), ('AI', 'Alpha'), ('관련', 'Noun'), ('연구', 'Noun'), ('과제', 'Noun'), ('의', 'Josa'), ('발굴', 'Noun'), ('및', 'Noun'), ('진행', 'Noun'), ('에도', 'Josa'), ('공동', 'Noun'), ('참여', 'Noun'), ('한다', 'Verb'), ('.', 'Punctuation'), ('나', 'Noun'), ('군호', 'Noun'), ('네이버', 'Noun'), ('헬', 'Noun'), ('스케', 'Noun'), ('어', 'Suffix'), ('연구소장', 'Noun'), ('은', 'Josa'), ('“', 'Foreign'), ('네이버', 'Noun'), ('의', 'Josa'), ('우수한', 'Adjective'), ('AI', 'Alpha'), ('기술', 'Noun'), ('과', 'Josa'), ('클라우드', 'Noun'), ('를', 'Josa'), ('포함', 'Noun'), ('한', 'Josa'), ('다양한', 'Adjective'), ('네이버', 'Noun'), ('솔루션', 'Noun'), ('도입', 'Noun'), ('을', 'Josa'), ('통해', 'Noun'), (',', 'Punctuation'), ('의료', 'Noun'), ('진의', 'Noun'), ('업무', 'Noun'), ('효율', 'Noun'), ('을', 'Josa'), ('높이는', 'Verb'), ('데', 'Noun'), ('기여', 'Noun'), ('하고', 'Josa'), (',', 'Punctuation'), ('병원', 'Noun'), ('을', 'Josa'), ('방문', 'Noun'), ('하는', 'Verb'), ('환자', 'Noun'), ('에게는', 'Josa'), ('양질', 'Noun'), ('의', 'Josa'), ('의료', 'Noun'), ('서비스', 'Noun'), ('를', 'Josa'), ('제공', 'Noun'), ('할', 'Verb'), ('수', 'Noun'), ('있을', 'Adjective'), ('것', 'Noun'), ('으로', 'Josa'), ('기대한다', 'Adjective'), ('\"', 'Punctuation'), ('고', 'Noun'), ('말', 'Noun'), ('했다', 'Verb'), ('.', 'Punctuation'), ('최영석', 'Noun'), ('충북대학교병원', 'Noun'), ('장', 'Suffix'), ('은', 'Josa'), ('\"', 'Punctuation'), ('중증', 'Noun'), ('질환', 'Noun'), ('을', 'Josa'), ('책임지는', 'Verb'), ('권역', 'Noun'), ('공공', 'Modifier'), ('의료', 'Noun'), ('기관', 'Noun'), ('으로서', 'Josa'), ('환자', 'Noun'), ('입장', 'Noun'), ('에서는', 'Josa'), ('편리하고', 'Adjective'), ('친근하게', 'Adjective'), ('병원', 'Noun'), ('을', 'Josa'), ('이용', 'Noun'), ('하고', 'Josa'), (',', 'Punctuation'), ('의료', 'Noun'), ('진', 'Noun'), ('은', 'Josa'), ('환자', 'Noun'), ('의', 'Josa'), ('질환', 'Noun'), ('을', 'Josa'), ('미리', 'Noun'), ('파악', 'Noun'), ('하여', 'Verb'), ('맞춤', 'Noun'), ('형', 'Suffix'), ('진료', 'Noun'), ('를', 'Josa'), ('제', 'Modifier'), ('공함', 'Noun'), ('으로써', 'Josa'), ('업무', 'Noun'), ('를', 'Josa'), ('효율', 'Noun'), ('적', 'Suffix'), ('으로', 'Josa'), ('처리', 'Noun'), ('하도록', 'Verb'), ('돕는', 'Verb'), ('것', 'Noun'), ('이', 'Josa'), ('이번', 'Noun'), ('협약', 'Noun'), ('의', 'Josa'), ('본질', 'Noun'), ('\"', 'Punctuation'), ('이라고', 'Josa'), ('밝혔다', 'Verb'), ('.', 'Punctuation'), ('\\n \\n', 'Foreign'), ('이매진', 'Noun'), ('컵', 'Noun'), ('주니어', 'Noun'), ('대회', 'Noun'), ('전국', 'Noun'), ('TOP', 'Alpha'), ('3', 'Number'), ('마이크로소프트', 'Noun'), ('(', 'Punctuation'), ('MS', 'Alpha'), (')', 'Punctuation'), ('주최', 'Noun'), ('IT', 'Alpha'), ('경진', 'Noun'), ('대회', 'Noun'), ('에서', 'Josa'), ('국내', 'Noun'), ('TOP', 'Alpha'), ('3', 'Number'), ('에', 'Josa'), ('영남', 'Noun'), ('중', 'Suffix'), (',', 'Punctuation'), ('대구', 'Noun'), ('고', 'Josa'), ('소프트웨어', 'Noun'), ('(', 'Punctuation'), ('SW', 'Alpha'), (')', 'Punctuation'), ('\\u2008', 'Foreign'), ('동아리', 'Noun'), ('가', 'Josa'), ('선정', 'Noun'), ('됐다', 'Verb'), ('.', 'Punctuation'), ('이', 'Noun'), ('들', 'Suffix'), ('동아리', 'Noun'), ('는', 'Josa'), ('대구시', 'Noun'), ('교육청', 'Noun'), ('이', 'Josa'), ('지난해', 'Noun'), ('부터', 'Josa'), ('운영', 'Noun'), ('해', 'Verb'), ('온', 'Noun'), ('SW', 'Alpha'), ('융합', 'Noun'), ('자율', 'Noun'), ('동아리', 'Noun'), ('지원', 'Noun'), ('사업', 'Noun'), ('20', 'Number'), ('개', 'Noun'), ('팀', 'Noun'), ('중', 'Noun'), ('2', 'Number'), ('개', 'Noun'), ('팀', 'Noun'), ('이다', 'Josa'), ('.', 'Punctuation'), ('8일', 'Number'), ('\\u2008', 'Foreign'), ('대구시', 'Noun'), ('교육청', 'Noun'), ('에', 'Josa'), ('\\u2008', 'Foreign'), ('따르면', 'Verb'), ('\\u2008', 'Foreign'), ('지난', 'Noun'), ('\\u2008', 'Foreign'), ('5일', 'Number'), ('\\u2008', 'Foreign'), ('MS', 'Alpha'), ('\\u2008', 'Foreign'), ('주최', 'Noun'), ('\\u2008', 'Foreign'), (\"'\", 'Punctuation'), ('이매진', 'Noun'), ('컵', 'Noun'), ('주니어', 'Noun'), (\"'\", 'Punctuation'), ('에서', 'Josa'), ('\\u2008', 'Foreign'), ('국내', 'Noun'), ('\\u2008', 'Foreign'), ('TOP', 'Alpha'), ('3', 'Number'), ('에', 'Josa'), ('영남', 'Noun'), ('중학교', 'Noun'), ('SW', 'Alpha'), ('자율', 'Noun'), ('동아리', 'Noun'), (\"'\", 'Punctuation'), ('영남', 'Noun'), ('짱', 'Suffix'), (\"'\", 'Punctuation'), ('팀', 'Noun'), ('과', 'Josa'), ('대구', 'Noun'), ('고등학교', 'Noun'), ('SW', 'Alpha'), ('자율', 'Noun'), ('동아리', 'Noun'), (\"'\", 'Punctuation'), ('AI', 'Alpha'), ('for', 'Alpha'), ('All', 'Alpha'), (\"'\", 'Punctuation'), ('이', 'Noun'), ('\\u2008', 'Foreign'), ('수상했다', 'Adjective'), ('.', 'Punctuation'), ('올해', 'Noun'), ('로', 'Josa'), ('3회', 'Number'), ('째를', 'Foreign'), ('맞이', 'Noun'), ('한', 'Josa'), ('대회', 'Noun'), ('는', 'Josa'), ('13', 'Number'), ('세', 'Noun'), ('부터', 'Josa'), ('18', 'Number'), ('세', 'Noun'), ('까지', 'Josa'), ('학생', 'Noun'), ('들', 'Suffix'), ('을', 'Josa'), ('대상', 'Noun'), ('으로', 'Josa'), ('마이크로소프트', 'Noun'), ('사가', 'Noun'), ('주체', 'Noun'), ('하는', 'Verb'), ('글로벌', 'Noun'), ('인공', 'Noun'), ('지능', 'Noun'), ('(', 'Punctuation'), ('AI', 'Alpha'), (')', 'Punctuation'), ('아이디어', 'Noun'), ('경진', 'Noun'), ('대회', 'Noun'), ('로', 'Josa'), ('한국', 'Noun'), ('은', 'Josa'), ('올해', 'Noun'), ('약', 'Noun'), ('40', 'Number'), ('여', 'Noun'), ('개', 'Noun'), ('팀', 'Noun'), ('(', 'Punctuation'), ('학생', 'Noun'), ('160', 'Number'), ('명', 'Noun'), (',', 'Punctuation'), ('지도', 'Noun'), ('교사', 'Noun'), ('40', 'Number'), ('명', 'Noun'), (')', 'Punctuation'), ('이', 'Noun'), ('참가', 'Noun'), ('했다', 'Verb'), ('.', 'Punctuation'), ('대회', 'Noun'), ('에', 'Josa'), ('참가', 'Noun'), ('한', 'Josa'), ('학생', 'Noun'), ('들', 'Suffix'), ('은', 'Josa'), ('주어진', 'Verb'), ('학습', 'Noun'), ('자료', 'Noun'), ('를', 'Josa'), ('활용', 'Noun'), ('하여', 'Verb'), ('토론', 'Noun'), ('을', 'Josa'), ('통해', 'Noun'), ('해결', 'Noun'), ('해야', 'Verb'), ('할', 'Verb'), ('문제', 'Noun'), ('를', 'Josa'), ('도출', 'Noun'), ('하고', 'Josa'), (',', 'Punctuation'), ('인공', 'Noun'), ('지능', 'Noun'), ('기술', 'Noun'), ('이', 'Josa'), ('어떻게', 'Adjective'), ('문제', 'Noun'), ('들', 'Suffix'), ('을', 'Josa'), ('해결', 'Noun'), ('하는', 'Verb'), ('방법', 'Noun'), ('은', 'Josa'), ('물론', 'Adverb'), ('더불어', 'Verb'), ('살아갈', 'Verb'), ('수', 'Noun'), ('있는', 'Adjective'), ('방안', 'Noun'), ('에', 'Josa'), ('대한', 'Noun'), ('AI', 'Alpha'), ('솔루션', 'Noun'), ('을', 'Josa'), ('제안', 'Noun'), ('하게', 'Verb'), ('된다', 'Verb'), ('.', 'Punctuation'), ('영남', 'Noun'), ('중학교', 'Noun'), ('김후옥', 'Noun'), ('지도', 'Noun'), ('교사', 'Noun'), ('와', 'Josa'), ('박진석', 'Noun'), ('(', 'Punctuation'), ('3', 'Number'), ('학년', 'Noun'), ('),', 'Punctuation'), ('강지환', 'Noun'), ('(', 'Punctuation'), ('2', 'Number'), ('학년', 'Noun'), ('),', 'Punctuation'), ('김건희', 'Noun'), ('(', 'Punctuation'), ('2', 'Number'), ('학년', 'Noun'), ('),', 'Punctuation'), ('조현민', 'Noun'), ('(', 'Punctuation'), ('2', 'Number'), ('학년', 'Noun'), (')', 'Punctuation'), ('학생', 'Noun'), ('들', 'Suffix'), ('은', 'Josa'), ('더', 'Noun'), ('많은', 'Adjective'), ('사람', 'Noun'), ('들', 'Suffix'), ('에게', 'Josa'), ('더', 'Noun'), ('많은', 'Adjective'), ('편의', 'Noun'), ('를', 'Josa'), ('제공', 'Noun'), ('하는', 'Verb'), ('차세대', 'Noun'), ('AI', 'Alpha'), ('기반', 'Noun'), ('교통', 'Noun'), ('시스템', 'Noun'), ('AI', 'Alpha'), ('솔류션', 'Noun'), ('을', 'Josa'), ('제안', 'Noun'), ('했다', 'Verb'), ('.', 'Punctuation'), ('대구', 'Noun'), ('고등학교', 'Noun'), ('박주희', 'Noun'), ('지도', 'Noun'), ('교사', 'Noun'), ('와', 'Josa'), ('김지윤', 'Noun'), ('(', 'Punctuation'), ('3', 'Number'), ('학년', 'Noun'), ('),', 'Punctuation'), ('나윤', 'Noun'), ('환', 'Noun'), ('(', 'Punctuation'), ('3', 'Number'), ('학년', 'Noun'), ('),', 'Punctuation'), ('이수혁', 'Noun'), ('(', 'Punctuation'), ('3', 'Number'), ('학년', 'Noun'), ('),', 'Punctuation'), ('황주', 'Noun'), ('혁', 'Noun'), ('(', 'Punctuation'), ('3', 'Number'), ('학년', 'Noun'), (')', 'Punctuation'), ('학생', 'Noun'), ('으로', 'Josa'), ('구성', 'Noun'), ('된', 'Verb'), (\"'\", 'Punctuation'), ('AI', 'Alpha'), ('for', 'Alpha'), ('All', 'Alpha'), (\"'\", 'Punctuation'), ('팀', 'Noun'), ('은', 'Josa'), ('색각', 'Noun'), ('이상자', 'Noun'), ('를', 'Josa'), ('돕는', 'Verb'), ('색', 'Noun'), ('감지', 'Noun'), ('응용', 'Noun'), ('프로그램', 'Noun'), ('을', 'Josa'), ('\\u2008', 'Foreign'), ('제안', 'Noun'), ('했다', 'Verb'), ('.', 'Punctuation'), ('영남', 'Noun'), ('중학교', 'Noun'), ('박진석', 'Noun'), ('학생', 'Noun'), ('은', 'Josa'), ('\"', 'Punctuation'), ('시험', 'Noun'), ('기간', 'Noun'), ('과', 'Josa'), ('겹', 'Noun'), ('쳐서', 'Verb'), ('시간', 'Noun'), ('이', 'Josa'), ('부족해', 'Adjective'), ('늦은', 'Verb'), ('밤', 'Noun'), ('까지', 'Josa'), ('회의', 'Noun'), ('하다', 'Verb'), ('보니', 'Verb'), ('피곤하고', 'Adjective'), ('힘들', 'Adjective'), ('기도', 'Noun'), ('했지만', 'Verb'), ('서로', 'Noun'), ('의', 'Josa'), ('의견', 'Noun'), ('에', 'Josa'), ('자극받아', 'Verb'), ('아이디어', 'Noun'), ('가', 'Josa'), ('계속', 'Noun'), ('이어졌을', 'Verb'), ('때', 'Noun'), ('는', 'Josa'), ('정말', 'Noun'), ('재미있었다', 'Adjective'), ('.', 'Punctuation'), ('”', 'Foreign'), ('며', 'Noun'), (',', 'Punctuation'), ('“', 'Foreign'), ('대회', 'Noun'), ('참여', 'Noun'), ('만으로도', 'Josa'), ('좋은', 'Adjective'), ('경험', 'Noun'), ('인데', 'Josa'), ('결과', 'Noun'), ('까지', 'Josa'), ('잘', 'Verb'), ('나와서', 'Verb'), ('너무', 'Adverb'), ('기쁘다', 'Adjective'), ('\"', 'Punctuation'), ('고', 'Noun'), ('소감', 'Noun'), ('을', 'Josa'), ('밝혔다', 'Verb'), ('.', 'Punctuation'), ('대구', 'Noun'), ('고등학교', 'Noun'), ('김지윤', 'Noun'), ('학생', 'Noun'), ('은', 'Josa'), ('\"', 'Punctuation'), ('지인', 'Noun'), ('과의', 'Josa'), ('인터뷰', 'Noun'), ('를', 'Josa'), ('통해', 'Noun'), ('실제', 'Noun'), ('색각', 'Noun'), ('이상자', 'Noun'), ('들', 'Suffix'), ('이', 'Josa'), ('느끼는', 'Verb'), ('어려움', 'Noun'), ('을', 'Josa'), ('알', 'Noun'), ('수', 'Noun'), ('있었고', 'Adjective'), (',', 'Punctuation'), ('팀원', 'Noun'), ('들', 'Suffix'), ('과', 'Josa'), ('아이디어', 'Noun'), ('도출', 'Noun'), ('을', 'Josa'), ('통해', 'Noun'), ('인공', 'Noun'), ('지능', 'Noun'), ('을', 'Josa'), ('적용', 'Noun'), ('한', 'Josa'), ('색각', 'Noun'), ('이상자', 'Noun'), ('들', 'Suffix'), ('을', 'Josa'), ('위', 'Noun'), ('한', 'Josa'), ('색상', 'Noun'), ('감지', 'Noun'), ('프로그램', 'Noun'), ('을', 'Josa'), ('제안', 'Noun'), ('하게', 'Verb'), ('되어', 'Verb'), ('기쁘다', 'Adjective'), ('\"', 'Punctuation'), ('고', 'Noun'), ('소감', 'Noun'), ('을', 'Josa'), ('밝혔다', 'Verb'), ('.', 'Punctuation'), ('강은희', 'Noun'), ('교육감', 'Noun'), ('은', 'Josa'), ('\"', 'Punctuation'), ('이번', 'Noun'), ('대회', 'Noun'), ('에서', 'Josa'), ('수상한', 'Noun'), ('학생', 'Noun'), ('들', 'Suffix'), ('에게', 'Josa'), ('축하', 'Noun'), ('를', 'Josa'), ('보낸다', 'Verb'), ('\"', 'Punctuation'), ('며', 'Noun'), (',', 'Punctuation'), ('\"', 'Punctuation'), ('앞', 'Noun'), ('으로도', 'Josa'), ('SW', 'Alpha'), ('·', 'Punctuation'), ('AI', 'Alpha'), ('기반', 'Noun'), ('교육', 'Noun'), ('의', 'Josa'), ('활성화', 'Noun'), ('를', 'Josa'), ('위해', 'Noun'), ('지속', 'Noun'), ('적', 'Suffix'), ('으로', 'Josa'), ('노력', 'Noun'), ('하겠다', 'Verb'), ('\"', 'Punctuation'), ('고', 'Noun'), ('말', 'Noun'), ('했다', 'Verb'), ('.', 'Punctuation'), ('▲', 'Foreign'), ('영남', 'Noun'), ('중', 'Suffix'), ('·', 'Punctuation'), ('대구', 'Noun'), ('고', 'Josa'), (',', 'Punctuation'), ('마이크로소프트', 'Noun'), ('주최', 'Noun'), ('이매진', 'Noun'), ('컵', 'Noun'), ('주니어', 'Noun'), ('TOP', 'Alpha'), ('3', 'Number'), ('선정', 'Noun'), ('(', 'Punctuation'), ('왼쪽', 'Noun'), ('부터', 'Josa'), ('대구', 'Noun'), ('고', 'Josa'), (',', 'Punctuation'), ('오른쪽', 'Noun'), ('영남', 'Noun'), ('중', 'Suffix'), (')', 'Punctuation'), ('ⓒ', 'Foreign'), ('대구시', 'Noun'), ('교육청', 'Noun'), ('\\n \\n', 'Foreign'), ('룰루', 'Noun'), ('랩', 'Noun'), (',', 'Punctuation'), ('200억', 'Number'), ('투자', 'Noun'), ('유치', 'Noun'), ('성', 'Modifier'), ('공', 'Modifier'), ('삼', 'Modifier'), ('성', 'Modifier'), ('전자', 'Noun'), ('사내', 'Noun'), ('벤', 'Verb'), ('처', 'Noun'), ('로', 'Josa'), ('독립', 'Noun'), ('후', 'Noun'), ('美', 'Foreign'), ('CES', 'Alpha'), ('서', 'Verb'), ('4년', 'Number'), ('연속', 'Foreign'), ('혁신', 'Noun'), ('상', 'Suffix'), ('받아', 'Verb'), ('5년', 'Number'), ('예', 'Modifier'), ('열', 'Noun'), ('마치', 'Noun'), ('고', 'Josa'), ('올', 'Verb'), ('본격', 'Noun'), ('사업', 'Noun'), ('피부', 'Noun'), ('영상', 'Noun'), ('찍으면', 'Verb'), ('AI', 'Alpha'), ('가', 'Verb'), ('분석', 'Noun'), ('향후', 'Noun'), ('3년', 'Number'), ('간', 'Foreign'), ('1억', 'Number'), ('개', 'Foreign'), ('데이터', 'Noun'), ('확보', 'Noun'), ('인공', 'Noun'), ('지능', 'Noun'), ('결', 'Noun'), ('합해', 'Verb'), ('맞춤', 'Noun'), ('서비스', 'Noun'), ('2년', 'Number'), ('내', 'Foreign'), ('매출', 'Noun'), ('200억', 'Number'), ('·', 'Punctuation'), ('상장', 'Noun'), ('목표', 'Noun'), ('\\n\\n\\n\\n ', 'Foreign'), ('\"', 'Punctuation'), ('미국', 'Noun'), ('나스닥', 'Noun'), ('에', 'Josa'), ('상장', 'Noun'), ('된', 'Verb'), ('글로벌', 'Noun'), ('경쟁', 'Noun'), ('사', 'Noun'), ('대비', 'Noun'), ('10', 'Number'), ('배', 'Noun'), ('가량', 'Noun'), ('많은', 'Adjective'), ('피부', 'Noun'), ('데이터', 'Noun'), ('를', 'Josa'), ('보유', 'Noun'), ('하고', 'Josa'), ('있다', 'Adjective'), ('.', 'Punctuation'), ('3년', 'Number'), ('이내', 'Noun'), ('로', 'Josa'), ('1억', 'Number'), ('여', 'Foreign'), ('건', 'Noun'), ('에', 'Josa'), ('이르게', 'Verb'), ('될', 'Verb'), ('피부', 'Noun'), ('데이터', 'Noun'), ('에', 'Josa'), ('기반', 'Noun'), ('한', 'Josa'), ('다', 'Adverb'), ('면', 'Noun'), ('뷰티', 'Noun'), ('분야', 'Noun'), ('를', 'Josa'), ('넘어서', 'Verb'), ('암', 'Noun'), ('과', 'Josa'), ('같은', 'Adjective'), ('각종', 'Noun'), ('질병', 'Noun'), ('조기', 'Noun'), ('진단', 'Noun'), ('·', 'Punctuation'), ('예측', 'Noun'), ('분야', 'Noun'), ('까지', 'Josa'), ('선도', 'Noun'), ('할', 'Verb'), ('것', 'Noun'), ('이다', 'Josa'), ('.\"', 'Punctuation'), ('인공', 'Noun'), ('지능', 'Noun'), ('(', 'Punctuation'), ('AI', 'Alpha'), (')', 'Punctuation'), ('피부', 'Noun'), ('데이터', 'Noun'), ('기반', 'Noun'), ('헬', 'Noun'), ('스케', 'Noun'), ('어', 'Suffix'), ('기업', 'Noun'), ('룰루', 'Noun'), ('랩', 'Noun'), ('의', 'Josa'), ('최용준', 'Noun'), ('대표', 'Noun'), ('(', 'Punctuation'), ('36', 'Number'), ('·', 'Punctuation'), ('사진', 'Noun'), (')', 'Punctuation'), ('는', 'Verb'), ('최근', 'Noun'), ('매일경제', 'Noun'), ('와의', 'Josa'), ('인터뷰', 'Noun'), ('에서', 'Josa'), ('\"', 'Punctuation'), ('AI', 'Alpha'), ('기반', 'Noun'), ('피부', 'Noun'), ('분석', 'Noun'), ('솔루션', 'Noun'), ('을', 'Josa'), ('뷰티', 'Noun'), ('업계', 'Noun'), ('최초', 'Noun'), ('로', 'Josa'), ('출시', 'Noun'), ('한', 'Josa'), ('것', 'Noun'), ('은', 'Josa'), ('방대한', 'Adjective'), ('피부', 'Noun'), ('데이터', 'Noun'), ('를', 'Josa'), ('선제', 'Noun'), ('적', 'Suffix'), ('으로', 'Josa'), ('확보', 'Noun'), ('해', 'Verb'), (\"'\", 'Punctuation'), ('질병', 'Noun'), ('조기', 'Noun'), ('진단', 'Noun'), ('·', 'Punctuation'), ('예측', 'Noun'), (\"'\", 'Punctuation'), ('분야', 'Noun'), ('로', 'Josa'), ('뻗어가기', 'Verb'), ('위', 'Noun'), ('한', 'Josa'), ('전략', 'Noun'), ('\"', 'Punctuation'), ('이', 'Determiner'), ('라며', 'Noun'), ('이같이', 'Adverb'), ('밝혔다', 'Verb'), ('.', 'Punctuation'), ('룰루', 'Noun'), ('랩', 'Noun'), ('은', 'Josa'), ('코넬대', 'Noun'), ('생명공학', 'Noun'), ('과를', 'Josa'), ('졸업', 'Noun'), ('한', 'Josa'), ('최', 'Noun'), ('대표', 'Noun'), ('가', 'Josa'), ('삼성', 'Noun'), ('전자', 'Noun'), ('입사', 'Noun'), ('후', 'Noun'), ('사내', 'Noun'), ('벤', 'Verb'), ('처', 'Noun'), ('에', 'Josa'), ('제안', 'Noun'), ('한', 'Josa'), ('피부', 'Noun'), ('데이터', 'Noun'), ('기반', 'Noun'), ('AI', 'Alpha'), ('뷰티', 'Noun'), ('·', 'Punctuation'), ('진단', 'Noun'), ('·', 'Punctuation'), ('예측', 'Noun'), ('사업', 'Noun'), ('을', 'Josa'), ('스핀오프', 'Noun'), ('(', 'Punctuation'), ('회사', 'Noun'), ('분할', 'Noun'), (')', 'Punctuation'), ('해', 'Noun'), ('2017년', 'Number'), ('5월', 'Number'), ('설립', 'Noun'), ('됐다', 'Verb'), ('.', 'Punctuation'), ('이', 'Noun'), ('회사', 'Noun'), ('는', 'Josa'), ('지난', 'Noun'), ('상반기', 'Noun'), ('코스닥', 'Noun'), ('상장', 'Noun'), ('에', 'Josa'), ('성공한', 'Adjective'), ('AI', 'Alpha'), ('의료', 'Noun'), ('기업', 'Noun'), ('루닛', 'Noun'), ('의', 'Josa'), ('사례', 'Noun'), ('처럼', 'Josa'), ('최근', 'Noun'), ('벤처캐피털', 'Noun'), ('(', 'Punctuation'), ('VC', 'Alpha'), (')', 'Punctuation'), ('업계', 'Noun'), (\"'\", 'Punctuation'), ('뜨거운', 'Adjective'), ('감자', 'Noun'), (\"'\", 'Punctuation'), ('로', 'Noun'), ('부상', 'Noun'), ('했다', 'Verb'), ('.', 'Punctuation'), ('미국', 'Noun'), ('라스베이거스', 'Noun'), ('에서', 'Josa'), ('매해', 'Adverb'), ('열리는', 'Verb'), ('국제', 'Noun'), ('전자제품', 'Noun'), ('박람회', 'Noun'), ('(', 'Punctuation'), ('CES', 'Alpha'), (')', 'Punctuation'), ('에서', 'Josa'), ('2019년', 'Number'), ('부터', 'Foreign'), ('올', 'Verb'), ('상반기', 'Noun'), ('까지', 'Josa'), ('4년', 'Number'), ('연속', 'Noun'), (\"'\", 'Punctuation'), ('혁신', 'Noun'), ('상', 'Suffix'), (\"'\", 'Punctuation'), ('을', 'Josa'), ('받았고', 'Verb'), ('최근', 'Noun'), ('에는', 'Josa'), ('200억원', 'Number'), ('규모', 'Noun'), ('시리즈', 'Noun'), ('C', 'Alpha'), ('투자', 'Noun'), ('를', 'Josa'), ('성', 'Modifier'), ('공리', 'Noun'), ('에', 'Josa'), ('유치했다', 'Adjective'), ('.', 'Punctuation'), ('룰루', 'Noun'), ('랩', 'Noun'), ('첫', 'Noun'), ('제품', 'Noun'), (\"'\", 'Punctuation'), ('루미', 'Noun'), ('니', 'Josa'), (\"'\", 'Punctuation'), ('는', 'Verb'), ('최', 'Noun'), ('대표', 'Noun'), ('가', 'Josa'), ('삼성', 'Noun'), ('전자', 'Noun'), ('사내', 'Noun'), ('벤', 'Verb'), ('처', 'Noun'), ('에', 'Josa'), ('아이디어', 'Noun'), ('를', 'Josa'), ('제시', 'Noun'), ('한', 'Josa'), ('것', 'Noun'), ('을', 'Josa'), ('계기', 'Noun'), ('로', 'Josa'), ('탄생', 'Noun'), ('했다', 'Verb'), ('.', 'Punctuation'), ('2016년', 'Number'), ('사내', 'Noun'), ('벤', 'Verb'), ('처', 'Noun'), ('에서', 'Josa'), ('프로토타입', 'Noun'), ('을', 'Josa'), ('만들고', 'Verb'), ('이듬해', 'Noun'), ('룰루', 'Noun'), ('랩', 'Noun'), ('창업', 'Noun'), ('후', 'Noun'), ('상용', 'Noun'), ('화', 'Suffix'), ('에', 'Josa'), ('성공했다', 'Adjective'), ('.', 'Punctuation'), ('이', 'Noun'), ('제품', 'Noun'), ('은', 'Josa'), ('뷰티', 'Noun'), ('업계', 'Noun'), ('최초', 'Noun'), ('AI', 'Alpha'), ('기반', 'Noun'), ('피부', 'Noun'), ('분석', 'Noun'), ('솔루션', 'Noun'), ('으로', 'Josa'), (',', 'Punctuation'), ('손바닥', 'Noun'), ('만', 'Josa'), ('한', 'Verb'), ('디바이스', 'Noun'), ('로', 'Josa'), ('피부', 'Noun'), ('를', 'Josa'), ('스캔', 'Noun'), ('하면', 'Verb'), ('AI', 'Alpha'), ('사용자', 'Noun'), ('의', 'Josa'), ('피부', 'Noun'), ('상태', 'Noun'), ('를', 'Josa'), ('정밀', 'Noun'), ('분석', 'Noun'), ('한다', 'Verb'), ('.', 'Punctuation'), ('그런', 'Adjective'), ('다음', 'Noun'), ('피부', 'Noun'), ('상태', 'Noun'), ('가', 'Josa'), ('어떤지', 'Adjective'), (',', 'Punctuation'), ('어떤', 'Adjective'), ('화장품', 'Noun'), ('과', 'Josa'), ('건강', 'Noun'), ('식품', 'Noun'), ('을', 'Josa'), ('쓰면', 'Verb'), ('피부', 'Noun'), ('개선', 'Noun'), ('이', 'Josa'), ('도움', 'Noun'), ('이', 'Josa'), ('될지를', 'Verb'), ('추천', 'Noun'), ('해준다', 'Verb'), ('.', 'Punctuation'), ('최', 'Noun'), ('대표', 'Noun'), ('는', 'Josa'), ('\"', 'Punctuation'), ('지난', 'Noun'), ('5년', 'Number'), ('간', 'Foreign'), ('뷰티', 'Noun'), ('분야', 'Noun'), ('부터', 'Josa'), ('진출', 'Noun'), ('해', 'Verb'), ('100만', 'Number'), ('여', 'Foreign'), ('건의', 'Noun'), ('피부', 'Noun'), ('데이터', 'Noun'), ('를', 'Josa'), ('쌓아가고', 'Verb'), ('기술', 'Noun'), ('을', 'Josa'), ('고도화', 'Noun'), ('하는', 'Verb'), ('데', 'Noun'), ('주력', 'Noun'), ('했다', 'Verb'), ('\"', 'Punctuation'), ('면서', 'Noun'), ('\"', 'Punctuation'), ('지난해', 'Noun'), ('부터는', 'Josa'), ('하드웨어', 'Noun'), ('(', 'Punctuation'), ('디바이스', 'Noun'), (')', 'Punctuation'), ('없이도', 'Adjective'), ('스마트폰', 'Noun'), ('으로', 'Josa'), ('정확한', 'Adjective'), ('AI', 'Alpha'), ('분석', 'Noun'), ('이', 'Josa'), ('가능할', 'Adjective'), ('정도', 'Noun'), ('로', 'Josa'), ('기술', 'Noun'), ('력', 'Suffix'), ('을', 'Josa'), ('끌어', 'Verb'), ('올렸기', 'Verb'), ('때문', 'Noun'), ('에', 'Josa'), ('올해', 'Noun'), ('부터는', 'Josa'), ('소비자', 'Noun'), ('형', 'Suffix'), ('솔루션', 'Noun'), ('으로', 'Josa'), ('비즈니스', 'Noun'), ('를', 'Josa'), ('본격', 'Noun'), ('전개', 'Noun'), ('하게', 'Verb'), ('됐다', 'Verb'), ('\"', 'Punctuation'), ('고', 'Noun'), ('말', 'Noun'), ('했다', 'Verb'), ('.', 'Punctuation'), ('이어', 'Verb'), ('\"', 'Punctuation'), ('10~30', 'Number'), ('대를', 'Verb'), ('대상', 'Noun'), ('으로는', 'Josa'), ('올', 'Verb'), ('8월', 'Number'), ('룰루', 'Noun'), ('랩', 'Noun'), ('자체', 'Noun'), ('애플리케이션', 'Noun'), ('을', 'Josa'), ('출시', 'Noun'), ('할', 'Verb'), ('예정', 'Noun'), ('이고', 'Josa'), (',', 'Punctuation'), ('40', 'Number'), ('대', 'Verb'), ('중반', 'Noun'), ('이상', 'Noun'), ('연령', 'Noun'), ('대', 'Suffix'), ('를', 'Josa'), ('대상', 'Noun'), ('으로는', 'Josa'), ('스마트', 'Noun'), ('미러', 'Noun'), ('형태', 'Noun'), ('의', 'Josa'), ('AI', 'Alpha'), ('피부', 'Noun'), ('분석', 'Noun'), ('솔루션', 'Noun'), ('을', 'Josa'), ('이미', 'Adverb'), ('지난', 'Noun'), ('6월', 'Number'), ('부터', 'Foreign'), ('판매', 'Noun'), ('하고', 'Josa'), ('있다', 'Adjective'), ('\"', 'Punctuation'), ('고', 'Noun'), ('말', 'Noun'), ('했다', 'Verb'), ('.', 'Punctuation'), ('그러면서', 'Adjective'), ('그', 'Noun'), ('는', 'Josa'), ('\"', 'Punctuation'), ('내년', 'Noun'), ('이면', 'Noun'), ('남성', 'Noun'), ('두피', 'Noun'), ('를', 'Josa'), ('케어', 'Noun'), ('하는', 'Verb'), ('AI', 'Alpha'), ('솔루션', 'Noun'), ('이', 'Josa'), ('출시', 'Noun'), ('돼', 'Verb'), ('해외', 'Noun'), ('3', 'Number'), ('개', 'Noun'), ('국가', 'Noun'), ('에', 'Josa'), ('출시', 'Noun'), ('및', 'Noun'), ('확대', 'Noun'), ('가', 'Josa'), ('이뤄진다', 'Verb'), ('\"', 'Punctuation'), ('면서', 'Noun'), ('\"', 'Punctuation'), ('해당', 'Noun'), ('국가', 'Noun'), ('들', 'Suffix'), ('과', 'Josa'), ('협업', 'Noun'), ('하면서', 'Verb'), ('수십만', 'Modifier'), ('명', 'Noun'), ('을', 'Josa'), ('대상', 'Noun'), ('으로', 'Josa'), ('하는', 'Verb'), ('임', 'Noun'), ('상', 'Suffix'), ('·', 'Punctuation'), ('연구개발', 'Noun'), ('도', 'Josa'), ('본격', 'Noun'), ('화한다', 'Adjective'), ('\"', 'Punctuation'), ('고', 'Noun'), ('밝혔다', 'Verb'), ('.', 'Punctuation'), ('최', 'Noun'), ('대표', 'Noun'), ('는', 'Josa'), ('올해', 'Noun'), ('가', 'Josa'), ('AI', 'Alpha'), ('뷰티', 'Noun'), ('업계', 'Noun'), ('진출', 'Noun'), ('에서', 'Josa'), ('질병', 'Noun'), ('조기', 'Noun'), ('진단', 'Noun'), ('·', 'Punctuation'), ('예측', 'Noun'), ('분야', 'Noun'), ('로', 'Josa'), ('본격', 'Noun'), ('이행', 'Noun'), ('하는', 'Verb'), ('분기점', 'Noun'), ('으로', 'Josa'), ('보고', 'Noun'), ('있다', 'Adjective'), ('.', 'Punctuation'), ('최', 'Noun'), ('대표', 'Noun'), ('는', 'Josa'), ('\"', 'Punctuation'), ('궁극', 'Noun'), ('적', 'Suffix'), ('으로', 'Josa'), ('글로벌', 'Noun'), ('헬', 'Noun'), ('스케', 'Noun'), ('어', 'Suffix'), ('업체', 'Noun'), ('로', 'Josa'), ('나아가기', 'Verb'), ('위해', 'Noun'), ('피부', 'Noun'), ('데이터', 'Noun'), ('와', 'Josa'), ('만성', 'Noun'), ('질환', 'Noun'), ('지표', 'Noun'), ('데이터', 'Noun'), ('간', 'Noun'), ('융합', 'Noun'), ('을', 'Josa'), ('바탕', 'Noun'), ('으로', 'Josa'), ('한', 'Verb'), ('솔루션', 'Noun'), ('을', 'Josa'), ('개발', 'Noun'), ('중', 'Noun'), ('\"', 'Punctuation'), ('이', 'Determiner'), ('라며', 'Noun'), ('\"', 'Punctuation'), ('건선', 'Noun'), (',', 'Punctuation'), ('아토피', 'Noun'), ('등', 'Noun'), ('피부질환', 'Noun'), ('15', 'Number'), ('종', 'Noun'), ('에', 'Josa'), ('대해', 'Noun'), ('서는', 'Verb'), ('국내', 'Noun'), ('유수', 'Noun'), ('대학병원', 'Noun'), ('과', 'Josa'), ('솔루션', 'Noun'), ('개발', 'Noun'), ('을', 'Josa'), ('공동', 'Noun'), ('으로', 'Josa'), ('진행', 'Noun'), ('하고', 'Josa'), ('있다', 'Adjective'), ('\"', 'Punctuation'), ('고', 'Noun'), ('밝혔다', 'Verb'), ('.', 'Punctuation'), ('최', 'Noun'), ('대표', 'Noun'), ('는', 'Josa'), ('\"', 'Punctuation'), ('룰루', 'Noun'), ('랩', 'Noun'), ('솔루션', 'Noun'), ('의', 'Josa'), ('장점', 'Noun'), ('은', 'Josa'), ('피부질환', 'Noun'), ('진단', 'Noun'), (',', 'Punctuation'), ('예측', 'Noun'), ('에만', 'Josa'), ('국한', 'Noun'), ('하지', 'Verb'), ('않는다는', 'Verb'), ('것', 'Noun'), ('\"', 'Punctuation'), ('이', 'Determiner'), ('라며', 'Noun'), ('\"', 'Punctuation'), ('얼굴', 'Noun'), ('영상', 'Noun'), ('을', 'Josa'), ('통해', 'Noun'), ('근육', 'Noun'), ('변화', 'Noun'), ('까지', 'Josa'), ('추적', 'Noun'), ('하기', 'Verb'), ('때문', 'Noun'), ('에', 'Josa'), ('치매', 'Noun'), ('나', 'Josa'), ('파킨슨병', 'Noun'), ('같은', 'Adjective'), ('노인성', 'Noun'), ('질환', 'Noun'), ('까지', 'Josa'), ('커버', 'Noun'), ('하게', 'Verb'), ('될', 'Verb'), ('것', 'Noun'), ('\"', 'Punctuation'), ('이라고', 'Josa'), ('말', 'Noun'), ('했다', 'Verb'), ('.', 'Punctuation'), ('룰루', 'Noun'), ('랩', 'Noun'), ('의', 'Josa'), ('비전은', 'Verb'), (\"'\", 'Punctuation'), ('피부', 'Noun'), ('데이터', 'Noun'), ('를', 'Josa'), ('핵심', 'Noun'), ('바이오', 'Noun'), ('마커', 'Adverb'), ('로', 'Noun'), ('활용', 'Noun'), ('해', 'Verb'), ('질병', 'Noun'), ('을', 'Josa'), ('조기', 'Noun'), ('진단', 'Noun'), ('하고', 'Josa'), ('예측', 'Noun'), ('함', 'Noun'), ('으로써', 'Josa'), ('전', 'Noun'), ('세계', 'Noun'), ('사람', 'Noun'), ('들', 'Suffix'), ('의', 'Josa'), ('건강한', 'Adjective'), ('삶', 'Noun'), ('을', 'Josa'), ('추구', 'Noun'), ('한다는', 'Modifier'), ('것', 'Noun'), (\"'\", 'Punctuation'), ('이다', 'Josa'), ('.', 'Punctuation'), ('최', 'Noun'), ('대표', 'Noun'), ('는', 'Josa'), ('올해', 'Noun'), ('비즈니스', 'Noun'), ('모델', 'Noun'), ('이', 'Josa'), ('추가', 'Noun'), ('되고', 'Verb'), ('해외', 'Noun'), ('시장', 'Noun'), ('이', 'Josa'), ('확대', 'Noun'), ('되면서', 'Verb'), ('룰루', 'Noun'), ('랩', 'Noun'), ('의', 'Josa'), ('외형', 'Noun'), ('성장', 'Noun'), ('이', 'Josa'), ('본격', 'Noun'), ('화', 'Suffix'), ('될', 'Verb'), ('것', 'Noun'), ('으로', 'Josa'), ('기대한다', 'Adjective'), ('.', 'Punctuation'), ('이', 'Noun'), ('회사', 'Noun'), ('지난해', 'Noun'), ('매출', 'Noun'), ('액', 'Noun'), ('은', 'Josa'), ('50억원', 'Number'), ('으로', 'Foreign'), (',', 'Punctuation'), ('내년', 'Noun'), ('이면', 'Noun'), ('200억원', 'Number'), ('가량', 'Foreign'), ('매출', 'Noun'), ('을', 'Josa'), ('일으킬', 'Verb'), ('것', 'Noun'), ('으로', 'Josa'), ('보인다', 'Verb'), ('.', 'Punctuation'), ('2023년', 'Number'), ('국내', 'Noun'), ('기술', 'Noun'), ('특례', 'Noun'), ('상장', 'Noun'), ('을', 'Josa'), ('위', 'Noun'), ('한', 'Josa'), ('기술', 'Noun'), ('성', 'Suffix'), ('평가', 'Noun'), ('를', 'Josa'), ('진행', 'Noun'), ('하고', 'Josa'), ('2024년', 'Number'), ('기업', 'Noun'), ('공개', 'Noun'), ('(', 'Punctuation'), ('IPO', 'Alpha'), (')', 'Punctuation'), ('를', 'Noun'), ('추진', 'Noun'), ('할', 'Verb'), ('계획', 'Noun'), ('이다', 'Josa'), ('.', 'Punctuation'), ('\\n \\n', 'Foreign'), ('신소재', 'Noun'), ('연구', 'Noun'), ('·', 'Punctuation'), ('컴퓨터', 'Noun'), ('비전', 'Verb'), ('부문', 'Noun'), ('공모', 'Noun'), ('(', 'Punctuation'), ('서울', 'Noun'), ('=', 'Punctuation'), ('연합뉴스', 'Noun'), (')', 'Punctuation'), ('김기훈', 'Noun'), ('기자', 'Noun'), ('=', 'Punctuation'), ('삼', 'Modifier'), ('성', 'Modifier'), ('전자', 'Noun'), ('는', 'Josa'), ('인공', 'Noun'), ('지능', 'Noun'), ('(', 'Punctuation'), ('AI', 'Alpha'), (')', 'Punctuation'), ('분야', 'Noun'), ('우수', 'Noun'), ('인력', 'Noun'), ('발굴', 'Noun'), ('과', 'Josa'), ('반도체', 'Noun'), ('·', 'Punctuation'), ('디스플레이', 'Noun'), ('분야', 'Noun'), ('연구', 'Noun'), ('를', 'Josa'), ('위해', 'Noun'), ('국내', 'Noun'), ('대학', 'Noun'), ('·', 'Punctuation'), ('대학원생', 'Noun'), ('을', 'Josa'), ('대상', 'Noun'), ('으로', 'Josa'), (\"'\", 'Punctuation'), ('2022', 'Number'), ('삼성', 'Noun'), ('AI', 'Alpha'), ('챌', 'Verb'), ('린지', 'Noun'), (\"'\", 'Punctuation'), ('를', 'Noun'), ('개최', 'Noun'), ('한다고', 'Verb'), ('7일', 'Number'), ('밝혔다', 'Verb'), ('.', 'Punctuation'), ('지난해', 'Noun'), ('에', 'Josa'), ('이어', 'Verb'), ('두', 'Noun'), ('번', 'Noun'), ('째', 'Suffix'), ('로', 'Josa'), ('진행', 'Noun'), ('되는', 'Verb'), ('올해', 'Noun'), (\"'\", 'Punctuation'), ('삼성', 'Noun'), ('AI', 'Alpha'), ('챌', 'Verb'), ('린지', 'Noun'), (\"'\", 'Punctuation'), ('는', 'Verb'), ('공모', 'Noun'), ('부문', 'Noun'), ('을', 'Josa'), ('2', 'Number'), ('개', 'Noun'), ('로', 'Josa'), ('늘리고', 'Verb'), (',', 'Punctuation'), ('시상', 'Noun'), ('규모', 'Noun'), ('도', 'Josa'), ('확대', 'Noun'), ('했다', 'Verb'), ('.', 'Punctuation'), ('이번', 'Noun'), ('공모전', 'Noun'), ('은', 'Josa'), ('AI', 'Alpha'), ('기술', 'Noun'), ('을', 'Josa'), ('활용', 'Noun'), ('한', 'Josa'), ('신소재', 'Noun'), ('연구', 'Noun'), ('와', 'Josa'), ('컴퓨터', 'Noun'), ('비전으로', 'Verb'), ('나뉘어', 'Verb'), ('진행', 'Noun'), ('된다', 'Verb'), ('.', 'Punctuation'), ('신소재', 'Noun'), ('연구', 'Noun'), ('부문', 'Noun'), ('의', 'Josa'), ('주제', 'Noun'), ('는', 'Josa'), (\"'\", 'Punctuation'), ('유기', 'Noun'), ('분자', 'Noun'), ('구조', 'Noun'), ('로부터', 'Noun'), ('재', 'Noun'), ('편성', 'Noun'), ('에너지', 'Noun'), ('(', 'Punctuation'), ('Reorganization', 'Alpha'), ('Energy', 'Alpha'), (')', 'Punctuation'), ('를', 'Noun'), ('예측', 'Noun'), ('하는', 'Verb'), ('알고리즘', 'Noun'), ('개발', 'Noun'), (\"'\", 'Punctuation'), ('이고', 'Josa'), (',', 'Punctuation'), ('컴퓨터', 'Noun'), ('비전', 'Verb'), ('부문', 'Noun'), ('은', 'Josa'), (\"'\", 'Punctuation'), ('전자현미경', 'Noun'), ('(', 'Punctuation'), ('SEM', 'Alpha'), (')', 'Punctuation'), ('이미지', 'Noun'), ('로부터', 'Noun'), ('깊이', 'Noun'), ('를', 'Josa'), ('예측', 'Noun'), ('하는', 'Verb'), ('알고리즘', 'Noun'), ('개발', 'Noun'), (\"'\", 'Punctuation'), ('이다', 'Josa'), ('.', 'Punctuation'), ('응모', 'Noun'), ('기간', 'Noun'), ('은', 'Josa'), ('8일', 'Number'), ('부터', 'Foreign'), ('다음', 'Noun'), ('달', 'Noun'), ('16일', 'Number'), ('까지다', 'Foreign'), ('.', 'Punctuation'), ('응모', 'Noun'), ('결과', 'Noun'), ('는', 'Josa'), ('10월', 'Number'), ('7일', 'Number'), ('삼성', 'Noun'), ('전자', 'Noun'), ('종합', 'Noun'), ('기술', 'Noun'), ('원', 'Suffix'), ('홈페이지', 'Noun'), ('(https://www.sait.samsung.co.kr', 'URL'), (')', 'Punctuation'), ('를', 'Noun'), ('통해', 'Noun'), ('발표', 'Noun'), ('된다', 'Verb'), ('.', 'Punctuation'), ('시상식', 'Noun'), ('은', 'Josa'), ('11월', 'Number'), (\"'\", 'Punctuation'), ('삼성', 'Noun'), ('AI', 'Alpha'), ('포럼', 'Noun'), (\"'\", 'Punctuation'), ('에서', 'Josa'), ('진행', 'Noun'), ('된다', 'Verb'), ('.', 'Punctuation'), ('\\n\\n\\n\\n', 'Foreign'), (\"'\", 'Punctuation'), ('2022', 'Number'), ('삼성', 'Noun'), ('AI', 'Alpha'), ('챌', 'Verb'), ('린지', 'Noun'), (\"'[\", 'Punctuation'), ('삼성', 'Noun'), ('전자', 'Noun'), ('제공', 'Noun'), ('.', 'Punctuation'), ('재판매', 'Noun'), ('및', 'Noun'), ('DB', 'Alpha'), ('금지', 'Noun'), (']', 'Punctuation'), ('총', 'Noun'), ('8', 'Number'), ('개', 'Noun'), ('수상', 'Noun'), ('팀', 'Noun'), ('에는', 'Josa'), ('상금', 'Noun'), ('과', 'Josa'), ('함께', 'Adverb'), ('삼성', 'Noun'), ('전자', 'Noun'), ('AI', 'Alpha'), ('연구', 'Noun'), ('리더', 'Noun'), ('들', 'Suffix'), ('과의', 'Josa'), ('네트워킹', 'Noun'), ('과', 'Josa'), ('멘토링', 'Noun'), ('세션', 'Noun'), ('이', 'Josa'), ('별도', 'Noun'), ('로', 'Josa'), ('제공', 'Noun'), ('된다', 'Verb'), ('.', 'Punctuation'), ('또', 'Noun'), ('지난해', 'Noun'), ('와', 'Josa'), ('올해', 'Noun'), ('수상자', 'Noun'), ('들', 'Suffix'), ('에게', 'Josa'), ('종합', 'Noun'), ('기술', 'Noun'), ('원', 'Suffix'), ('연구소', 'Noun'), ('투어', 'Noun'), ('와', 'Josa'), ('함께', 'Adverb'), ('수상자', 'Noun'), ('들', 'Suffix'), ('이', 'Josa'), ('서로', 'Noun'), ('교류', 'Noun'), ('할', 'Verb'), ('수', 'Noun'), ('있는', 'Adjective'), (\"'\", 'Punctuation'), ('삼성', 'Noun'), ('AI', 'Alpha'), ('챌', 'Verb'), ('린지', 'Noun'), ('캠프', 'Noun'), (\"'\", 'Punctuation'), ('참가', 'Noun'), ('기회', 'Noun'), ('도', 'Josa'), ('주어진다', 'Verb'), ('.', 'Punctuation'), ('이번', 'Noun'), ('AI', 'Alpha'), ('챌', 'Verb'), ('린지', 'Noun'), ('에', 'Josa'), ('대한', 'Noun'), ('자세한', 'Adjective'), ('정보', 'Noun'), ('는', 'Josa'), ('삼성', 'Noun'), ('전자', 'Noun'), ('종합', 'Noun'), ('기술', 'Noun'), ('원', 'Suffix'), ('홈페이지', 'Noun'), ('에서', 'Josa'), ('확인', 'Noun'), ('할', 'Verb'), ('수', 'Noun'), ('있다', 'Adjective'), ('.', 'Punctuation'), ('kihun@yna.co.kr', 'Email'), ('\\n \\n', 'Foreign'), ('9', 'Number'), ('개', 'Noun'), ('시', 'Noun'), ('·', 'Punctuation'), ('도', 'Noun'), ('-', 'Punctuation'), ('복지부', 'Noun'), ('1', 'Number'), ('인', 'Noun'), ('가구', 'Noun'), ('관리', 'Noun'), ('부산', 'Noun'), ('·', 'Punctuation'), ('울산', 'Noun'), (',', 'Punctuation'), ('전', 'Modifier'), ('기', 'Modifier'), ('사', 'Modifier'), ('용량', 'Noun'), ('등', 'Noun'), ('점검', 'Noun'), ('옥천', 'Noun'), (',', 'Punctuation'), ('이웃', 'Noun'), ('매칭', 'Noun'), ('돌봄', 'Verb'), ('체계', 'Noun'), ('구축', 'Noun'), ('1', 'Number'), ('인', 'Noun'), ('가구', 'Noun'), ('와', 'Josa'), ('사회', 'Noun'), ('적', 'Suffix'), ('고립', 'Noun'), ('가구', 'Noun'), ('증가', 'Noun'), ('로', 'Josa'), ('혼자', 'Noun'), ('외롭게', 'Adjective'), ('살다', 'Verb'), ('죽음', 'Noun'), ('을', 'Josa'), ('맞이', 'Noun'), ('하는', 'Verb'), ('고독사', 'Noun'), ('가', 'Josa'), ('늘', 'Noun'), ('고', 'Josa'), ('있는', 'Adjective'), ('가운데', 'Noun'), ('전국', 'Noun'), ('지방자치단체', 'Noun'), ('들', 'Suffix'), ('이', 'Josa'), ('고독사', 'Noun'), ('방지', 'Noun'), ('를', 'Josa'), ('위해', 'Noun'), ('다양한', 'Adjective'), ('아이디어', 'Noun'), ('실험', 'Noun'), ('에', 'Josa'), ('나서', 'Verb'), ('주목', 'Noun'), ('된다', 'Verb'), ('.', 'Punctuation'), ('‘', 'Foreign'), ('인공', 'Noun'), ('지능', 'Noun'), ('(', 'Punctuation'), ('AI', 'Alpha'), (')', 'Punctuation'), ('을', 'Josa'), ('이용', 'Noun'), ('한', 'Josa'), ('정서', 'Noun'), ('대화', 'Noun'), ('’', 'Punctuation'), ('‘', 'Foreign'), ('전기', 'Noun'), ('사', 'Modifier'), ('용량', 'Noun'), ('을', 'Josa'), ('통한', 'Noun'), ('안부', 'Noun'), ('확인', 'Noun'), ('’', 'Punctuation'), ('‘', 'Foreign'), ('반려', 'Noun'), ('식물', 'Noun'), ('키우기', 'Verb'), ('’', 'Punctuation'), ('‘', 'Foreign'), ('목욕', 'Noun'), ('쿠폰', 'Noun'), ('지급', 'Noun'), ('’', 'Punctuation'), ('등', 'Noun'), ('다양한', 'Adjective'), ('방법', 'Noun'), ('이', 'Josa'), ('시도', 'Noun'), ('되고', 'Verb'), ('있다', 'Adjective'), ('.', 'Punctuation'), ('8일', 'Number'), ('지자체', 'Noun'), ('에', 'Josa'), ('따르면', 'Verb'), ('서울', 'Noun'), (',', 'Punctuation'), ('부산', 'Noun'), (',', 'Punctuation'), ('울산', 'Noun'), (',', 'Punctuation'), ('경기', 'Noun'), (',', 'Punctuation'), ('충북', 'Noun'), ('등', 'Noun'), ('전국', 'Noun'), ('9', 'Number'), ('개', 'Noun'), ('시', 'Noun'), ('·', 'Punctuation'), ('도', 'Noun'), ('는', 'Josa'), ('이', 'Determiner'), ('달', 'Noun'), ('부터', 'Josa'), ('보건복지부', 'Noun'), ('와', 'Josa'), ('함께', 'Adverb'), ('1', 'Number'), ('인', 'Noun'), ('가구', 'Noun'), ('실태', 'Noun'), ('조사', 'Noun'), ('와', 'Josa'), ('함께', 'Adverb'), ('‘', 'Foreign'), ('고독사', 'Noun'), ('예방', 'Noun'), ('과', 'Josa'), ('관리', 'Noun'), ('시범', 'Noun'), ('사업', 'Noun'), ('’', 'Punctuation'), ('에', 'Josa'), ('들어간다', 'Verb'), ('.', 'Punctuation'), ('이', 'Noun'), ('사업', 'Noun'), ('은', 'Josa'), ('고독사', 'Noun'), ('예방', 'Noun'), ('을', 'Josa'), ('위해', 'Noun'), ('전국', 'Noun'), ('적', 'Suffix'), ('으로', 'Josa'), ('적용', 'Noun'), ('이', 'Josa'), ('가능한', 'Adjective'), ('모델', 'Noun'), ('을', 'Josa'), ('찾는', 'Verb'), ('것', 'Noun'), ('을', 'Josa'), ('목표', 'Noun'), ('로', 'Josa'), ('내년', 'Noun'), ('말', 'Noun'), ('까지', 'Josa'), ('계속', 'Noun'), ('된다', 'Verb'), ('.', 'Punctuation'), ('부산시', 'Noun'), ('의', 'Josa'), ('경우', 'Noun'), ('고독사', 'Noun'), ('예방', 'Noun'), ('을', 'Josa'), ('위해', 'Noun'), ('전기', 'Noun'), ('사', 'Modifier'), ('용량', 'Noun'), ('을', 'Josa'), ('점검', 'Noun'), ('하는', 'Verb'), ('방식', 'Noun'), ('을', 'Josa'), ('채용', 'Noun'), ('했다', 'Verb'), ('.', 'Punctuation'), ('전기', 'Noun'), ('사', 'Modifier'), ('용량', 'Noun'), ('확인', 'Noun'), ('이', 'Josa'), ('가능한', 'Adjective'), ('스마트', 'Noun'), ('플러그', 'Noun'), ('를', 'Josa'), ('활용', 'Noun'), ('해', 'Verb'), ('사회', 'Noun'), ('적', 'Suffix'), ('고립', 'Noun'), ('자', 'Suffix'), ('안부', 'Noun'), ('를', 'Josa'), ('수시로', 'Adverb'), ('확인', 'Noun'), ('할', 'Verb'), ('계획', 'Noun'), ('이다', 'Josa'), ('.', 'Punctuation'), ('목욕', 'Noun'), ('쿠폰', 'Noun'), ('지원', 'Noun'), ('을', 'Josa'), ('통해', 'Noun'), ('안부', 'Noun'), ('확인', 'Noun'), ('과', 'Josa'), ('생활', 'Noun'), ('지원', 'Noun'), ('을', 'Josa'), ('함께', 'Adverb'), ('하는', 'Verb'), ('사업', 'Noun'), ('도', 'Josa'), ('전개', 'Noun'), ('할', 'Verb'), ('방침', 'Noun'), ('이다', 'Josa'), ('.', 'Punctuation'), ('경북', 'Noun'), ('구미시', 'Noun'), ('는', 'Josa'), ('정서', 'Noun'), ('적', 'Suffix'), ('대화', 'Noun'), ('가', 'Josa'), ('가능한', 'Adjective'), ('AI', 'Alpha'), ('스피커', 'Noun'), ('설치', 'Noun'), ('를', 'Josa'), ('통해', 'Noun'), ('고독사', 'Noun'), ('위험', 'Noun'), ('자', 'Suffix'), ('에', 'Josa'), ('대한', 'Noun'), ('돌봄', 'Verb'), ('서비스', 'Noun'), ('를', 'Josa'), ('제공', 'Noun'), ('한', 'Josa'), ('다', 'Adverb'), ('.', 'Punctuation'), ('문경시', 'Noun'), ('는', 'Josa'), ('반려', 'Noun'), ('식물', 'Noun'), ('키우기', 'Verb'), (',', 'Punctuation'), ('반찬', 'Noun'), ('지원', 'Noun'), (',', 'Punctuation'), ('요리', 'Noun'), ('교실', 'Noun'), ('등', 'Noun'), ('으로', 'Josa'), ('‘', 'Foreign'), ('1', 'Number'), ('인', 'Noun'), ('가구', 'Noun'), ('사회', 'Noun'), ('관계', 'Noun'), ('형성', 'Noun'), ('특', 'Noun'), ('화', 'Suffix'), ('사업', 'Noun'), ('’', 'Punctuation'), ('을', 'Josa'), ('추진', 'Noun'), ('한', 'Josa'), ('다', 'Adverb'), ('.', 'Punctuation'), ('울', 'Modifier'), ('산시', 'Noun'), ('는', 'Josa'), ('노인', 'Noun'), ('·', 'Punctuation'), ('장애인', 'Noun'), ('등', 'Noun'), ('고', 'Modifier'), ('위험', 'Noun'), ('1', 'Number'), ('인', 'Noun'), ('가구', 'Noun'), ('를', 'Josa'), ('대상', 'Noun'), ('으로', 'Josa'), ('전기', 'Noun'), ('와', 'Josa'), ('휴대전화', 'Noun'), ('사용', 'Noun'), ('여부', 'Noun'), ('를', 'Josa'), ('확인', 'Noun'), ('하는', 'Verb'), ('스마트', 'Noun'), ('플러그', 'Noun'), ('와', 'Josa'), ('안심', 'Noun'), ('살핌이', 'Verb'), ('앱', 'Noun'), ('을', 'Josa'), ('통해', 'Noun'), ('수시로', 'Adverb'), ('안부', 'Noun'), ('를', 'Josa'), ('확인', 'Noun'), (',', 'Punctuation'), ('고독사', 'Noun'), ('위험', 'Noun'), ('자', 'Suffix'), ('조기', 'Noun'), ('발견', 'Noun'), ('을', 'Josa'), ('시도', 'Noun'), ('하고', 'Josa'), ('있다', 'Adjective'), ('.', 'Punctuation'), ('위험', 'Noun'), ('요소', 'Noun'), ('가', 'Josa'), ('발견', 'Noun'), ('되면', 'Verb'), ('즉각', 'Noun'), ('상담', 'Noun'), ('을', 'Josa'), ('통해', 'Noun'), ('치료', 'Noun'), ('등', 'Noun'), ('대책', 'Noun'), ('마련', 'Noun'), ('에', 'Josa'), ('나선다', 'Verb'), ('.', 'Punctuation'), ('충북', 'Noun'), ('옥천군', 'Noun'), ('은', 'Josa'), ('AI', 'Alpha'), ('스마트', 'Noun'), ('인형', 'Noun'), ('을', 'Josa'), ('보급', 'Noun'), ('해', 'Verb'), ('취약', 'Noun'), ('계층', 'Noun'), ('의', 'Josa'), ('말벗', 'Noun'), ('이', 'Josa'), ('되거나', 'Verb'), ('안전', 'Noun'), ('정보', 'Noun'), ('를', 'Josa'), ('제공', 'Noun'), ('하는', 'Verb'), ('한편', 'Noun'), ('이웃', 'Noun'), ('과', 'Josa'), ('일대일', 'Noun'), ('매칭', 'Noun'), ('을', 'Josa'), ('통해', 'Noun'), ('돌봄', 'Verb'), ('체계', 'Noun'), ('를', 'Josa'), ('구축', 'Noun'), ('한다', 'Verb'), ('.', 'Punctuation'), ('진천군', 'Noun'), ('은', 'Josa'), ('1', 'Number'), ('인', 'Noun'), ('가구', 'Noun'), ('취약', 'Noun'), ('계층', 'Noun'), ('대상', 'Noun'), ('으로', 'Josa'), ('이동통신', 'Noun'), ('모니터링', 'Noun'), ('을', 'Josa'), ('실시', 'Noun'), ('할', 'Verb'), ('예정', 'Noun'), ('이다', 'Josa'), ('.', 'Punctuation'), ('일정', 'Noun'), ('기간', 'Noun'), ('통화', 'Noun'), ('가', 'Josa'), ('없을', 'Adjective'), ('경우', 'Noun'), ('직접', 'Noun'), ('가구', 'Noun'), ('를', 'Josa'), ('방문', 'Noun'), ('한다', 'Verb'), ('.', 'Punctuation'), ('강원', 'Noun'), ('강릉시', 'Noun'), ('는', 'Josa'), ('장애', 'Noun'), ('·', 'Punctuation'), ('중증', 'Noun'), ('질환', 'Noun'), ('자', 'Suffix'), ('1', 'Number'), ('인', 'Noun'), ('가구', 'Noun'), ('를', 'Josa'), ('대상', 'Noun'), ('으로', 'Josa'), ('약', 'Noun'), ('먹을', 'Verb'), ('시간', 'Noun'), ('알림', 'Noun'), (',', 'Punctuation'), ('말벗', 'Noun'), ('대화', 'Noun'), ('등', 'Noun'), ('AI', 'Alpha'), ('를', 'Noun'), ('활용', 'Noun'), ('한', 'Josa'), ('맞춤', 'Noun'), ('형', 'Suffix'), ('서비스', 'Noun'), ('를', 'Josa'), ('제공', 'Noun'), ('한', 'Josa'), ('다', 'Adverb'), ('.', 'Punctuation'), ('울산', 'Noun'), ('=', 'Punctuation'), ('곽시열', 'Noun'), ('기자', 'Noun'), ('sykwak@munhwa.com', 'Email'), ('\\n\\t\\t \\n\\n\\n\\n\\n', 'Foreign'), ('KT', 'Alpha'), ('대', 'Modifier'), ('구', 'Modifier'), ('경북', 'Noun'), ('광역', 'Noun'), ('본', 'Modifier'), ('부가', 'Noun'), ('라마', 'Noun'), ('다', 'Josa'), ('문경새재', 'Noun'), ('호텔', 'Noun'), ('에', 'Josa'), ('인공', 'Noun'), ('지능', 'Noun'), ('기반', 'Noun'), ('호텔', 'Noun'), ('인포테인먼트', 'Noun'), ('솔루션', 'Noun'), ('을', 'Josa'), ('적용', 'Noun'), ('한', 'Josa'), ('KT', 'Alpha'), ('AI', 'Alpha'), ('호텔', 'Noun'), ('서비스', 'Noun'), ('를', 'Josa'), ('제공', 'Noun'), ('한', 'Josa'), ('다', 'Adverb'), ('.', 'Punctuation'), ('KT', 'Alpha'), ('제공', 'Noun'), ('KT', 'Alpha'), ('대', 'Modifier'), ('구', 'Modifier'), ('경북', 'Noun'), ('광역', 'Noun'), ('본', 'Modifier'), ('부가', 'Noun'), ('AICC', 'Alpha'), ('(', 'Punctuation'), ('AI', 'Alpha'), ('Contact', 'Alpha'), ('Center', 'Alpha'), (':', 'Punctuation'), ('인공', 'Noun'), ('지능', 'Noun'), ('고객', 'Noun'), ('센터', 'Noun'), ('),', 'Punctuation'), ('AI', 'Alpha'), ('로봇', 'Noun'), (',', 'Punctuation'), ('AI', 'Alpha'), ('호텔', 'Noun'), ('등', 'Noun'), ('인공', 'Noun'), ('지능', 'Noun'), ('을', 'Josa'), ('기반', 'Noun'), ('으로', 'Josa'), ('하는', 'Verb'), ('다양한', 'Adjective'), ('서비스', 'Noun'), ('를', 'Josa'), ('지역', 'Noun'), ('에', 'Josa'), ('보급', 'Noun'), ('하고', 'Josa'), ('있다', 'Adjective'), ('.', 'Punctuation'), ('AICC', 'Alpha'), ('(', 'Punctuation'), ('인공', 'Noun'), ('지능', 'Noun'), ('고객', 'Noun'), ('센터', 'Noun'), (')', 'Punctuation'), ('는', 'Verb'), ('음성인식', 'Noun'), (',', 'Punctuation'), ('음성합성', 'Noun'), (',', 'Punctuation'), ('텍스트', 'Noun'), ('분석', 'Noun'), (',', 'Punctuation'), ('대화', 'Noun'), ('엔진', 'Noun'), ('등', 'Noun'), ('의', 'Josa'), ('기술', 'Noun'), ('을', 'Josa'), ('바탕', 'Noun'), ('으로', 'Josa'), ('고객', 'Noun'), ('센터', 'Noun'), ('의', 'Josa'), ('전체', 'Noun'), ('업무', 'Noun'), ('를', 'Josa'), ('최적화', 'Noun'), ('하는', 'Verb'), ('시스템', 'Noun'), ('이다', 'Josa'), ('.', 'Punctuation'), ('KT', 'Alpha'), ('AICC', 'Alpha'), ('상품', 'Noun'), ('은', 'Josa'), ('크게', 'Noun'), ('세', 'Noun'), ('가지', 'Noun'), ('로', 'Josa'), ('▷', 'Foreign'), ('AI', 'Alpha'), ('상담', 'Noun'), ('▷', 'Foreign'), ('고객', 'Noun'), ('센터', 'Noun'), ('업무', 'Noun'), ('자동화', 'Noun'), ('▷', 'Foreign'), ('비즈니스', 'Noun'), ('성과', 'Noun'), ('향상', 'Noun'), ('등', 'Noun'), ('이다', 'Josa'), ('.', 'Punctuation'), ('KT', 'Alpha'), ('AICC', 'Alpha'), ('는', 'Verb'), ('이런', 'Adjective'), ('상품', 'Noun'), ('을', 'Josa'), ('활용', 'Noun'), ('해', 'Verb'), ('대구', 'Noun'), ('경북', 'Noun'), ('지역', 'Noun'), ('의', 'Josa'), ('음식점', 'Noun'), (',', 'Punctuation'), ('꽃', 'Noun'), ('배달', 'Noun'), ('업체', 'Noun'), (',', 'Punctuation'), ('스포츠', 'Noun'), ('센터', 'Noun'), (',', 'Punctuation'), ('어린이집', 'Noun'), ('등', 'Noun'), ('1천', 'Number'), ('여', 'Foreign'), ('곳', 'Noun'), ('이', 'Josa'), ('넘는', 'Verb'), ('고객', 'Noun'), ('을', 'Josa'), ('확보', 'Noun'), ('하고', 'Josa'), ('있다', 'Adjective'), ('.', 'Punctuation'), ('커피', 'Noun'), ('전문점', 'Noun'), (\"'\", 'Punctuation'), ('커피', 'Noun'), ('명가', 'Noun'), (\"'\", 'Punctuation'), ('전국', 'Noun'), ('40', 'Number'), ('여개', 'Noun'), ('매장', 'Noun'), ('전체', 'Noun'), ('에', 'Josa'), ('해당', 'Noun'), ('서비스', 'Noun'), ('를', 'Josa'), ('도입', 'Noun'), ('한', 'Josa'), ('바', 'Noun'), ('있다', 'Adjective'), ('.', 'Punctuation'), ('경북', 'Noun'), ('신용', 'Noun'), ('보증', 'Noun'), ('재단', 'Noun'), ('은', 'Josa'), ('AICC', 'Alpha'), ('를', 'Noun'), ('통해', 'Noun'), ('간단한', 'Adjective'), ('보증', 'Noun'), ('상담', 'Noun'), ('예약', 'Noun'), ('을', 'Josa'), ('비롯', 'Noun'), ('해', 'Verb'), ('재단', 'Noun'), ('지점', 'Noun'), ('안내', 'Noun'), (',', 'Punctuation'), ('보증', 'Noun'), ('신청', 'Noun'), ('시', 'Noun'), ('필요', 'Noun'), ('서류', 'Noun'), ('등', 'Noun'), ('을', 'Josa'), ('24시간', 'Number'), ('안내', 'Noun'), ('한', 'Josa'), ('다', 'Adverb'), ('.', 'Punctuation'), ('KT', 'Alpha'), ('대', 'Modifier'), ('구', 'Modifier'), ('경북', 'Noun'), ('본부', 'Noun'), ('는', 'Josa'), ('디지털', 'Noun'), ('혁신', 'Noun'), ('(', 'Punctuation'), ('DX', 'Alpha'), ('·', 'Punctuation'), ('Digital', 'Alpha'), ('Transformation', 'Alpha'), (')', 'Punctuation'), ('가속', 'Noun'), ('화', 'Suffix'), ('를', 'Josa'), ('위해', 'Noun'), ('로봇', 'Noun'), ('사업', 'Noun'), ('에도', 'Josa'), ('적극', 'Noun'), ('나서고', 'Verb'), ('있다', 'Adjective'), ('.', 'Punctuation'), ('지난해', 'Noun'), ('AI', 'Alpha'), ('서비스로봇', 'Noun'), ('을', 'Josa'), ('도입', 'Noun'), ('한', 'Josa'), ('수산', 'Noun'), ('식당', 'Noun'), ('(', 'Punctuation'), ('경북', 'Noun'), ('안동시', 'Noun'), ('풍산읍', 'Noun'), (')', 'Punctuation'), ('의', 'Noun'), ('경우', 'Noun'), ('하루', 'Noun'), ('평균', 'Noun'), ('50회', 'Number'), ('이상', 'Noun'), ('의', 'Josa'), ('서빙', 'Noun'), ('에', 'Josa'), ('활용', 'Noun'), ('하며', 'Verb'), ('인건비', 'Noun'), ('를', 'Josa'), ('절감', 'Noun'), ('하고', 'Josa'), ('있다', 'Adjective'), ('.', 'Punctuation'), ('경주', 'Noun'), ('코오롱', 'Noun'), ('호텔', 'Noun'), ('뷔페', 'Noun'), ('식당', 'Noun'), ('에서는', 'Josa'), ('로봇', 'Noun'), ('을', 'Josa'), ('퇴', 'Noun'), ('식용', 'Noun'), ('으로', 'Josa'), ('사용', 'Noun'), ('중이', 'Noun'), ('다', 'Josa'), ('.', 'Punctuation'), ('무거운', 'Adjective'), ('식기', 'Noun'), ('들', 'Suffix'), ('을', 'Josa'), ('쉽게', 'Verb'), ('옮길', 'Verb'), ('수', 'Noun'), ('있어', 'Adjective'), ('직원', 'Noun'), ('들', 'Suffix'), ('은', 'Josa'), ('업무', 'Noun'), ('강도', 'Noun'), ('를', 'Josa'), ('줄', 'Noun'), ('이고', 'Josa'), ('고객', 'Noun'), ('응대', 'Noun'), ('에', 'Josa'), ('집중', 'Noun'), ('할', 'Verb'), ('수', 'Noun'), ('있어', 'Adjective'), ('인기', 'Noun'), ('다', 'Josa'), ('.', 'Punctuation'), ('최근', 'Noun'), ('라마', 'Noun'), ('다', 'Josa'), ('문경새재', 'Noun'), ('호텔', 'Noun'), ('이', 'Josa'), ('인공', 'Noun'), ('지능', 'Noun'), ('기반', 'Noun'), ('호텔', 'Noun'), ('인포테인먼트', 'Noun'), ('솔루션', 'Noun'), ('을', 'Josa'), ('적용', 'Noun'), ('한', 'Josa'), ('AI', 'Alpha'), ('호텔', 'Noun'), ('서비스', 'Noun'), ('협약', 'Noun'), ('을', 'Josa'), ('맺었다', 'Verb'), ('.', 'Punctuation'), ('AI', 'Alpha'), ('호텔', 'Noun'), ('로봇', 'Noun'), ('은', 'Josa'), ('호텔', 'Noun'), ('을', 'Josa'), ('오가며', 'Verb'), ('투숙', 'Noun'), ('객', 'Noun'), ('들', 'Suffix'), ('에게', 'Josa'), ('편의', 'Noun'), ('용품', 'Noun'), ('을', 'Josa'), ('배달', 'Noun'), ('하고', 'Josa'), ('있다', 'Adjective'), ('.', 'Punctuation'), ('호텔', 'Noun'), ('투숙', 'Noun'), ('객', 'Noun'), ('이', 'Josa'), ('수건', 'Noun'), (',', 'Punctuation'), ('생수', 'Noun'), ('등', 'Noun'), ('편의', 'Noun'), ('용품', 'Noun'), ('을', 'Josa'), ('요청', 'Noun'), ('하면', 'Verb'), ('로봇', 'Noun'), ('이', 'Josa'), ('찾아와', 'Verb'), ('배달', 'Noun'), ('해준다', 'Verb'), ('.', 'Punctuation'), ('AI', 'Alpha'), ('방역', 'Noun'), ('산업', 'Noun'), ('에도', 'Josa'), ('진출', 'Noun'), ('한다', 'Verb'), ('.', 'Punctuation'), ('8일', 'Number'), ('생활', 'Noun'), ('위생', 'Noun'), ('방역', 'Noun'), ('전문', 'Noun'), ('기업인', 'Noun'), ('㈜', 'Foreign'), ('세존', 'Noun'), ('(', 'Punctuation'), ('대표', 'Noun'), ('이두', 'Noun'), ('성', 'Suffix'), (')', 'Punctuation'), ('과', 'Noun'), ('AI', 'Alpha'), ('(', 'Punctuation'), ('인공', 'Noun'), ('지능', 'Noun'), (')·', 'Punctuation'), ('DX', 'Alpha'), ('(', 'Punctuation'), ('디지털', 'Noun'), ('혁신', 'Noun'), (')', 'Punctuation'), ('기술', 'Noun'), ('기반', 'Noun'), ('사업', 'Noun'), ('협력', 'Noun'), ('협약', 'Noun'), ('을', 'Josa'), ('체결', 'Noun'), ('했다', 'Verb'), ('.', 'Punctuation'), ('대구시', 'Noun'), ('달서구', 'Noun'), ('에', 'Josa'), ('위치', 'Noun'), ('한', 'Josa'), ('㈜', 'Foreign'), ('세존', 'Noun'), ('은', 'Josa'), ('생활환경', 'Noun'), ('에', 'Josa'), ('유해한', 'Adjective'), ('해충', 'Noun'), ('과', 'Josa'), ('세균', 'Noun'), ('방제', 'Noun'), ('인프라', 'Noun'), ('를', 'Josa'), ('보유', 'Noun'), ('하고', 'Josa'), ('전국', 'Noun'), ('에', 'Josa'), ('5천', 'Number'), ('여', 'Foreign'), ('고객', 'Noun'), ('사', 'Noun'), ('들', 'Suffix'), ('을', 'Josa'), ('케어', 'Noun'), ('하는', 'Verb'), ('위생', 'Noun'), ('전문', 'Noun'), ('기업', 'Noun'), ('이다', 'Josa'), ('.', 'Punctuation'), ('두', 'Noun'), ('회사', 'Noun'), ('는', 'Josa'), ('코로나', 'Noun'), ('시대', 'Noun'), ('의', 'Josa'), ('변화', 'Noun'), ('하는', 'Verb'), ('방역', 'Noun'), ('환경', 'Noun'), ('에', 'Josa'), ('맞춰', 'Verb'), ('세존', 'Noun'), ('의', 'Josa'), ('최신', 'Noun'), ('소독', 'Noun'), ('및', 'Noun'), ('방역', 'Noun'), ('기술', 'Noun'), ('에', 'Josa'), (\"'\", 'Punctuation'), ('KT', 'Alpha'), ('AI', 'Alpha'), ('방역', 'Noun'), ('로봇', 'Noun'), (\"'\", 'Punctuation'), ('을', 'Josa'), ('접목', 'Noun'), ('한', 'Josa'), ('첨단', 'Noun'), ('위생', 'Noun'), ('관리', 'Noun'), ('솔루션', 'Noun'), ('으로', 'Josa'), ('차별', 'Noun'), ('화', 'Suffix'), ('된', 'Verb'), ('친환경', 'Noun'), ('방역', 'Noun'), ('서비스', 'Noun'), ('를', 'Josa'), ('제', 'Modifier'), ('공', 'Modifier'), ('한다는', 'Modifier'), ('계획', 'Noun'), ('이다', 'Josa'), ('.', 'Punctuation'), ('안창용', 'Noun'), ('KT', 'Alpha'), ('대구', 'Noun'), ('경북', 'Noun'), ('본부', 'Noun'), ('전무', 'Noun'), ('는', 'Josa'), ('\"', 'Punctuation'), ('KT', 'Alpha'), ('는', 'Verb'), ('고객', 'Noun'), ('경험', 'Noun'), ('을', 'Josa'), ('혁신', 'Noun'), ('하는', 'Verb'), ('방역', 'Noun'), ('로봇', 'Noun'), ('서비스', 'Noun'), ('를', 'Josa'), ('통해', 'Noun'), ('국민', 'Noun'), ('들', 'Suffix'), ('이', 'Josa'), ('보다', 'Verb'), ('안전하고', 'Adjective'), ('건강한', 'Adjective'), ('일상', 'Noun'), ('을', 'Josa'), ('영위', 'Noun'), ('하도록', 'Verb'), ('최선', 'Noun'), ('을', 'Josa'), ('다', 'Adverb'), ('하겠다', 'Verb'), ('\"', 'Punctuation'), ('고', 'Noun'), ('했다', 'Verb'), ('.', 'Punctuation'), ('\\n \\n\\n\\n\\n\\n', 'Foreign'), ('이미희', 'Noun'), ('KT', 'Alpha'), ('C', 'Alpha'), ('레벨', 'Noun'), ('컨설팅', 'Noun'), ('본부장', 'Noun'), ('(', 'Punctuation'), ('왼쪽', 'Noun'), (')', 'Punctuation'), ('과', 'Noun'), ('전', 'Modifier'), ('준수', 'Noun'), ('NIPA', 'Alpha'), ('글로벌', 'Noun'), ('성장', 'Noun'), ('본부', 'Noun'), ('장이', 'Suffix'), ('업무', 'Noun'), ('협약', 'Noun'), ('을', 'Josa'), ('체결', 'Noun'), ('하고', 'Josa'), ('있다', 'Adjective'), ('.', 'Punctuation'), ('KT', 'Alpha'), ('가', 'Verb'), ('정보통', 'Noun'), ('신', 'Modifier'), ('산업', 'Noun'), ('진흥', 'Noun'), ('원', 'Suffix'), ('(', 'Punctuation'), ('NIPA', 'Alpha'), (')', 'Punctuation'), ('과', 'Noun'), ('디지털', 'Noun'), ('전환', 'Noun'), ('(', 'Punctuation'), ('DX', 'Alpha'), (')', 'Punctuation'), ('관련', 'Noun'), ('사업', 'Noun'), ('추진', 'Noun'), ('및', 'Noun'), ('인공', 'Noun'), ('지능', 'Noun'), ('(', 'Punctuation'), ('AI', 'Alpha'), (')·', 'Punctuation'), ('DX', 'Alpha'), ('분야', 'Noun'), ('인재', 'Noun'), ('양성', 'Noun'), ('을', 'Josa'), ('주요', 'Noun'), ('내용', 'Noun'), ('으로', 'Josa'), ('하는', 'Verb'), ('업무', 'Noun'), ('협약', 'Noun'), ('을', 'Josa'), ('체결', 'Noun'), ('했다', 'Verb'), ('.', 'Punctuation'), ('KT', 'Alpha'), ('와', 'Verb'), ('NIPA', 'Alpha'), ('는', 'Verb'), ('이번', 'Noun'), ('협약', 'Noun'), ('을', 'Josa'), ('통해', 'Noun'), ('△', 'Foreign'), ('정보통', 'Noun'), ('신', 'Modifier'), ('기술', 'Noun'), ('(', 'Punctuation'), ('ICT', 'Alpha'), (')', 'Punctuation'), ('신', 'Modifier'), ('사업', 'Noun'), ('분야', 'Noun'), ('중견', 'Noun'), ('·', 'Punctuation'), ('중소', 'Noun'), ('·', 'Punctuation'), ('벤처기업', 'Noun'), ('육성', 'Noun'), ('△', 'Foreign'), ('교육', 'Noun'), ('및', 'Noun'), ('자격', 'Noun'), ('분야', 'Noun'), ('AI', 'Alpha'), ('·', 'Punctuation'), ('DX', 'Alpha'), ('인재', 'Noun'), ('양성', 'Noun'), ('을', 'Josa'), ('함께', 'Adverb'), ('추진', 'Noun'), ('한', 'Josa'), ('다', 'Adverb'), ('.', 'Punctuation'), ('KT', 'Alpha'), ('는', 'Verb'), ('중견', 'Noun'), ('·', 'Punctuation'), ('중소', 'Noun'), ('·', 'Punctuation'), ('벤처기업', 'Noun'), ('에', 'Josa'), ('AI', 'Alpha'), ('와', 'Verb'), ('빅데이터', 'Noun'), (',', 'Punctuation'), ('클라우드', 'Noun'), ('등', 'Noun'), ('ICT', 'Alpha'), ('역량', 'Noun'), ('을', 'Josa'), ('지원', 'Noun'), ('할', 'Verb'), ('예정', 'Noun'), ('이다', 'Josa'), ('.', 'Punctuation'), ('또', 'Noun'), ('KT', 'Alpha'), ('클라우드', 'Noun'), ('인큐', 'Noun'), ('베이', 'Noun'), ('션', 'Noun'), ('프로그램', 'Noun'), ('을', 'Josa'), ('통한', 'Noun'), ('공동', 'Noun'), ('상품', 'Noun'), ('출시', 'Noun'), (',', 'Punctuation'), ('KT', 'Alpha'), ('클라우드', 'Noun'), ('마켓', 'Noun'), ('플', 'Exclamation'), ('레이스', 'Noun'), ('등재', 'Noun'), (',', 'Punctuation'), ('KT', 'Alpha'), ('마케팅', 'Noun'), ('채널', 'Noun'), ('홍보', 'Noun'), ('등', 'Noun'), ('을', 'Josa'), ('지원', 'Noun'), ('한', 'Josa'), ('다', 'Adverb'), ('.', 'Punctuation'), ('양', 'Modifier'), ('측은', 'Noun'), ('AI', 'Alpha'), ('·', 'Punctuation'), ('DX', 'Alpha'), ('인재', 'Noun'), ('양성', 'Noun'), ('을', 'Josa'), ('위해', 'Noun'), ('개발', 'Noun'), ('전문가', 'Noun'), ('초청', 'Noun'), ('특강', 'Noun'), (',', 'Punctuation'), ('교육장', 'Noun'), ('무료', 'Noun'), ('대관', 'Noun'), (',', 'Punctuation'), ('교육', 'Noun'), ('프로그램', 'Noun'), ('홍보', 'Noun'), ('등', 'Noun'), ('교육', 'Noun'), ('혁신', 'Noun'), ('활동', 'Noun'), ('도', 'Josa'), ('진행', 'Noun'), ('한다', 'Verb'), ('.', 'Punctuation'), ('NIPA', 'Alpha'), ('는', 'Verb'), ('제조', 'Noun'), (',', 'Punctuation'), ('유통', 'Noun'), (',', 'Punctuation'), ('금융', 'Noun'), ('등', 'Noun'), ('주요', 'Noun'), ('산업', 'Noun'), ('과', 'Josa'), ('연', 'Modifier'), ('계', 'Noun'), ('한', 'Josa'), ('DX', 'Alpha'), ('사업', 'Noun'), ('을', 'Josa'), ('적극', 'Noun'), ('추진', 'Noun'), ('하고', 'Josa'), ('있다', 'Adjective'), ('.', 'Punctuation'), ('DX', 'Alpha'), ('전문', 'Noun'), ('기업', 'Noun'), ('을', 'Josa'), ('육성', 'Noun'), ('하는', 'Verb'), (\"'\", 'Punctuation'), ('산업', 'Noun'), ('연', 'Modifier'), ('계', 'Noun'), ('형', 'Suffix'), ('디지털', 'Noun'), ('전문', 'Noun'), ('기업', 'Noun'), ('육성', 'Noun'), (\"',\", 'Punctuation'), ('비대', 'Noun'), ('면', 'Josa'), ('산업', 'Noun'), ('의', 'Josa'), ('일상', 'Noun'), ('화', 'Suffix'), ('를', 'Josa'), ('촉진', 'Noun'), ('하기', 'Verb'), ('위', 'Noun'), ('한', 'Josa'), (\"'\", 'Punctuation'), ('생활', 'Noun'), ('밀착', 'Noun'), ('분야', 'Noun'), ('비대', 'Noun'), ('면', 'Josa'), ('선도', 'Noun'), ('서비스', 'Noun'), ('활성화', 'Noun'), (\"'\", 'Punctuation'), ('등', 'Noun'), ('이', 'Josa'), ('대표', 'Noun'), ('사업', 'Noun'), ('이다', 'Josa'), ('.', 'Punctuation'), ('이미희', 'Noun'), ('KT', 'Alpha'), ('C', 'Alpha'), ('레벨', 'Noun'), ('컨설팅', 'Noun'), ('본부장', 'Noun'), ('은', 'Josa'), ('“', 'Foreign'), ('KT', 'Alpha'), ('는', 'Verb'), ('중소기업', 'Noun'), ('과', 'Josa'), ('중견', 'Noun'), ('기업', 'Noun'), ('의', 'Josa'), ('혁신', 'Noun'), ('을', 'Josa'), ('지원', 'Noun'), ('하고', 'Josa'), (',', 'Punctuation'), ('AI', 'Alpha'), ('와', 'Verb'), ('DX', 'Alpha'), ('인재', 'Noun'), ('양성', 'Noun'), ('을', 'Josa'), ('주도하는', 'Adjective'), ('다양한', 'Adjective'), ('사업', 'Noun'), ('을', 'Josa'), ('진행', 'Noun'), ('하겠다', 'Verb'), ('”', 'Foreign'), ('고', 'Noun'), ('말', 'Noun'), ('했다', 'Verb'), ('.', 'Punctuation'), ('\\n \\n', 'Foreign'), ('오늘', 'Noun'), ('부터', 'Josa'), (\"'\", 'Punctuation'), ('87', 'Number'), ('개', 'Noun'), ('분야', 'Noun'), (\"'\", 'Punctuation'), ('인재', 'Noun'), ('모집', 'Noun'), ('전', 'Modifier'), ('동화', 'Noun'), ('통합', 'Noun'), ('제어', 'Noun'), ('개발', 'Noun'), ('대폭', 'Noun'), ('확대', 'Noun'), ('AI', 'Alpha'), ('로', 'Noun'), ('지원', 'Noun'), ('자', 'Suffix'), ('비언', 'Noun'), ('어적', 'Adverb'), ('요소', 'Noun'), ('분석', 'Noun'), ('\\n\\n\\n\\n', 'Foreign'), ('현', 'Modifier'), ('대', 'Modifier'), ('자동차', 'Noun'), ('는', 'Josa'), ('오는', 'Verb'), ('8~21일', 'Number'), ('채용', 'Noun'), ('홈페이지', 'Noun'), ('를', 'Josa'), ('통해', 'Noun'), ('연구개발', 'Noun'), ('(', 'Punctuation'), ('R', 'Alpha'), ('&', 'Punctuation'), ('D', 'Alpha'), (')', 'Punctuation'), ('본부', 'Noun'), ('경력', 'Noun'), ('채용', 'Noun'), ('모집', 'Noun'), ('에', 'Josa'), ('나선다', 'Verb'), ('.', 'Punctuation'), ('현대차', 'Noun'), ('제공', 'Noun'), ('현', 'Modifier'), ('대', 'Modifier'), ('자동차', 'Noun'), ('는', 'Josa'), ('오는', 'Verb'), ('8~21일', 'Number'), ('채용', 'Noun'), ('홈페이지', 'Noun'), ('를', 'Josa'), ('통해', 'Noun'), ('연구개발', 'Noun'), ('(', 'Punctuation'), ('R', 'Alpha'), ('&', 'Punctuation'), ('D', 'Alpha'), (')', 'Punctuation'), ('본부', 'Noun'), ('경력', 'Noun'), ('채용', 'Noun'), ('모집', 'Noun'), ('에', 'Josa'), ('나선다고', 'Verb'), ('7일', 'Number'), ('밝혔다', 'Verb'), ('.', 'Punctuation'), ('모집', 'Noun'), ('부문', 'Noun'), ('은', 'Josa'), ('전', 'Modifier'), ('동화', 'Noun'), ('·', 'Punctuation'), ('배터리', 'Noun'), (',', 'Punctuation'), ('차량', 'Noun'), ('아키텍처', 'Noun'), (',', 'Punctuation'), ('차량', 'Noun'), ('통합', 'Noun'), ('제어', 'Noun'), ('하드웨어', 'Noun'), ('(', 'Punctuation'), ('HW', 'Alpha'), (')·', 'Punctuation'), ('소프트웨어', 'Noun'), ('(', 'Punctuation'), ('SW', 'Alpha'), (')', 'Punctuation'), ('개발', 'Noun'), ('등', 'Noun'), ('총', 'Noun'), ('87', 'Number'), ('개', 'Noun'), ('분야', 'Noun'), ('로', 'Josa'), ('채용', 'Noun'), ('규모', 'Noun'), ('는', 'Josa'), ('세', 'Modifier'), ('자릿수', 'Noun'), ('수준', 'Noun'), ('이다', 'Josa'), ('.', 'Punctuation'), ('회사', 'Noun'), ('는', 'Josa'), ('친환', 'Noun'), ('경차', 'Noun'), ('전환', 'Noun'), ('시대', 'Noun'), ('에', 'Josa'), ('발', 'Noun'), ('맞춰', 'Verb'), ('전', 'Modifier'), ('동화', 'Noun'), ('통합', 'Noun'), ('제어', 'Noun'), ('개발', 'Noun'), ('분야', 'Noun'), ('채용', 'Noun'), ('규모', 'Noun'), ('를', 'Josa'), ('대폭', 'Noun'), ('확대', 'Noun'), ('했다고', 'Verb'), ('설명', 'Noun'), ('했다', 'Verb'), ('.', 'Punctuation'), ('기존', 'Noun'), ('사업', 'Noun'), ('영역', 'Noun'), ('인', 'Josa'), ('고성능', 'Noun'), ('차', 'Noun'), ('뿐', 'Suffix'), ('아니라', 'Adjective'), ('로보틱스', 'Noun'), (',', 'Punctuation'), ('수', 'Modifier'), ('소', 'Modifier'), ('연료', 'Noun'), ('전지', 'Noun'), ('등', 'Noun'), ('신', 'Modifier'), ('사업', 'Noun'), ('추진', 'Noun'), ('동력', 'Noun'), ('을', 'Josa'), ('확보', 'Noun'), ('하기', 'Verb'), ('위', 'Noun'), ('한', 'Josa'), ('R', 'Alpha'), ('&', 'Punctuation'), ('D', 'Alpha'), ('우수', 'Noun'), ('인력', 'Noun'), ('선점', 'Noun'), ('을', 'Josa'), ('목표', 'Noun'), ('로', 'Josa'), ('한다', 'Verb'), ('.', 'Punctuation'), ('이번', 'Noun'), ('채용', 'Noun'), ('은', 'Josa'), ('평가', 'Noun'), ('객관성', 'Noun'), ('을', 'Josa'), ('높이기', 'Verb'), ('위해', 'Noun'), ('인공', 'Noun'), ('지능', 'Noun'), ('(', 'Punctuation'), ('AI', 'Alpha'), (')', 'Punctuation'), ('을', 'Josa'), ('활용', 'Noun'), ('한', 'Josa'), ('사전', 'Noun'), ('인터뷰', 'Noun'), ('를', 'Josa'), ('진행', 'Noun'), ('한다', 'Verb'), ('.', 'Punctuation'), ('지원', 'Noun'), ('자', 'Suffix'), ('에게', 'Josa'), ('질문', 'Noun'), ('을', 'Josa'), ('하면', 'Verb'), ('응답', 'Noun'), ('과정', 'Noun'), ('에서', 'Josa'), ('지원', 'Noun'), ('자의', 'Noun'), ('표정', 'Noun'), (',', 'Punctuation'), ('행동', 'Noun'), (',', 'Punctuation'), ('음성', 'Noun'), ('등', 'Noun'), ('비언', 'Noun'), ('어적', 'Adverb'), ('요소', 'Noun'), ('를', 'Josa'), ('AI', 'Alpha'), ('를', 'Noun'), ('통해', 'Noun'), ('분석', 'Noun'), ('하는', 'Verb'), ('방식', 'Noun'), ('이다', 'Josa'), ('.', 'Punctuation'), ('현대차', 'Noun'), ('는', 'Josa'), ('지원', 'Noun'), ('자', 'Suffix'), ('를', 'Josa'), ('보다', 'Verb'), ('면밀하고', 'Adjective'), ('정확히', 'Adjective'), ('평가', 'Noun'), ('하기', 'Verb'), ('위해', 'Noun'), ('기존', 'Noun'), ('에', 'Josa'), ('서류', 'Noun'), ('전형', 'Noun'), ('과', 'Josa'), ('직무', 'Noun'), ('면접', 'Noun'), ('사이', 'Noun'), ('에', 'Josa'), ('진행', 'Noun'), ('하던', 'Verb'), ('전화', 'Noun'), ('인터뷰', 'Noun'), ('방식', 'Noun'), ('을', 'Josa'), ('AI', 'Alpha'), ('활용', 'Noun'), ('화상', 'Noun'), ('인터뷰', 'Noun'), ('방식', 'Noun'), ('으로', 'Josa'), ('변경', 'Noun'), ('했다', 'Verb'), ('.', 'Punctuation'), ('현대차', 'Noun'), ('는', 'Josa'), ('작년', 'Noun'), ('9월', 'Number'), ('부터', 'Foreign'), ('소프트웨어', 'Noun'), ('경력', 'Noun'), ('개발자', 'Noun'), ('를', 'Josa'), ('매월', 'Noun'), ('모집', 'Noun'), ('·', 'Punctuation'), ('채용', 'Noun'), ('하고', 'Josa'), ('있다', 'Adjective'), ('.', 'Punctuation'), ('대졸', 'Noun'), ('신입', 'Noun'), ('채용', 'Noun'), ('의', 'Josa'), ('경우', 'Noun'), ('지난달', 'Noun'), ('부터', 'Josa'), ('매', 'Noun'), ('홀수', 'Noun'), ('월', 'Noun'), ('의', 'Josa'), ('1일', 'Number'), ('마다', 'Foreign'), ('채용', 'Noun'), ('홈페이지', 'Noun'), ('를', 'Josa'), ('통해', 'Noun'), ('일괄', 'Noun'), ('모집', 'Noun'), ('하고', 'Josa'), ('있으며', 'Adjective'), (',', 'Punctuation'), ('다음', 'Noun'), ('달', 'Noun'), ('모집', 'Noun'), ('공고', 'Noun'), ('를', 'Josa'), ('게시', 'Noun'), ('할', 'Verb'), ('예정', 'Noun'), ('이다', 'Josa'), ('.', 'Punctuation'), ('현대차', 'Noun'), ('관계자', 'Noun'), ('는', 'Josa'), ('\"', 'Punctuation'), ('이번', 'Noun'), ('대규모', 'Noun'), ('경력', 'Noun'), ('채용', 'Noun'), ('은', 'Josa'), ('전', 'Modifier'), ('동화', 'Noun'), ('를', 'Josa'), ('비롯', 'Noun'), ('해', 'Verb'), ('급변', 'Noun'), ('하고', 'Josa'), ('있는', 'Adjective'), ('미래', 'Noun'), ('모빌리티', 'Noun'), ('생태계', 'Noun'), ('에서', 'Josa'), ('연구개발', 'Noun'), ('역량', 'Noun'), ('을', 'Josa'), ('확보', 'Noun'), ('하기', 'Verb'), ('위', 'Noun'), ('한', 'Josa'), ('것', 'Noun'), ('\"', 'Punctuation'), ('이', 'Determiner'), ('라며', 'Noun'), ('\"', 'Punctuation'), ('기존', 'Noun'), ('사업', 'Noun'), ('영역', 'Noun'), ('뿐', 'Suffix'), ('아니라', 'Adjective'), ('신', 'Modifier'), ('사업', 'Noun'), ('부문', 'Noun'), ('R', 'Alpha'), ('&', 'Punctuation'), ('D', 'Alpha'), ('역량', 'Noun'), ('강화', 'Noun'), ('를', 'Josa'), ('통해', 'Noun'), ('모빌리티', 'Noun'), ('시장', 'Noun'), ('을', 'Josa'), ('선도', 'Noun'), ('할', 'Verb'), ('수', 'Noun'), ('있을', 'Adjective'), ('것', 'Noun'), ('으로', 'Josa'), ('기대한다', 'Adjective'), ('\"', 'Punctuation'), ('고', 'Noun'), ('밝혔다', 'Verb'), ('.', 'Punctuation'), ('영진전문대', 'Noun'), ('AI', 'Alpha'), ('융합', 'Noun'), ('기계', 'Noun'), ('계열', 'Noun'), ('재학생', 'Noun'), ('들', 'Suffix'), ('이', 'Josa'), ('ICROS', 'Alpha'), ('2022', 'Number'), ('에서', 'Josa'), ('우수', 'Noun'), ('논문', 'Noun'), ('상', 'Suffix'), ('을', 'Josa'), ('받았다', 'Verb'), ('.', 'Punctuation'), ('사진', 'Noun'), ('은', 'Josa'), ('입상한', 'Adjective'), ('학생', 'Noun'), ('들', 'Suffix'), ('이', 'Josa'), ('논문', 'Noun'), ('상장', 'Noun'), ('을', 'Josa'), ('들고', 'Verb'), ('계열', 'Noun'), ('교수', 'Noun'), ('들', 'Suffix'), ('과', 'Josa'), ('함께', 'Adverb'), ('포즈', 'Noun'), ('를', 'Josa'), ('취하', 'Noun'), ('고', 'Josa'), ('있다', 'Adjective'), ('.', 'Punctuation'), ('*', 'Punctuation'), ('재판매', 'Noun'), ('및', 'Noun'), ('DB', 'Alpha'), ('금지', 'Noun'), ('[', 'Punctuation'), ('대구', 'Noun'), ('=', 'Punctuation'), ('뉴시스', 'Noun'), (']', 'Punctuation'), ('나', 'Noun'), ('호용', 'Noun'), ('기자', 'Noun'), ('=', 'Punctuation'), ('영진전문대', 'Noun'), ('학교', 'Noun'), ('는', 'Josa'), ('이', 'Noun'), ('대학', 'Noun'), ('AI', 'Alpha'), ('융합', 'Noun'), ('기계', 'Noun'), ('계열', 'Noun'), ('재학생', 'Noun'), ('들', 'Suffix'), ('이', 'Josa'), ('제어', 'Noun'), ('로봇', 'Noun'), ('시스템', 'Noun'), ('학회', 'Noun'), ('(', 'Punctuation'), ('ICROS', 'Alpha'), ('2022', 'Number'), (')', 'Punctuation'), ('학술', 'Noun'), ('대회', 'Noun'), ('학부', 'Noun'), ('생', 'Noun'), ('논문', 'Noun'), ('경진', 'Noun'), ('대회', 'Noun'), ('에서', 'Josa'), ('우수', 'Noun'), ('논문', 'Noun'), ('상', 'Suffix'), ('을', 'Josa'), ('받았다고', 'Verb'), ('8일', 'Number'), ('밝혔다', 'Verb'), ('.', 'Punctuation'), ('AI', 'Alpha'), ('융합', 'Noun'), ('기계', 'Noun'), ('계열', 'Noun'), ('2', 'Number'), ('학년', 'Noun'), ('에', 'Josa'), ('재학', 'Noun'), ('중인', 'Noun'), ('이우영', 'Noun'), ('씨', 'Noun'), ('등', 'Noun'), ('6', 'Number'), ('명', 'Noun'), ('은', 'Josa'), ('최근', 'Noun'), ('(', 'Punctuation'), ('사', 'Noun'), (')', 'Punctuation'), ('제어', 'Noun'), ('·', 'Punctuation'), ('로봇', 'Noun'), ('·', 'Punctuation'), ('시스템', 'Noun'), ('학회', 'Noun'), ('가', 'Josa'), ('주최', 'Noun'), ('한', 'Josa'), ('ICROS', 'Alpha'), ('(', 'Punctuation'), ('ICROS', 'Alpha'), (':', 'Punctuation'), ('Institute', 'Alpha'), ('of', 'Alpha'), ('Control', 'Alpha'), (',', 'Punctuation'), ('Robotics', 'Alpha'), ('and', 'Alpha'), ('Systems', 'Alpha'), (')', 'Punctuation'), ('2022', 'Number'), ('학술', 'Noun'), ('대회', 'Noun'), ('에서', 'Josa'), ('‘', 'Foreign'), ('클라우드', 'Noun'), ('플랫폼', 'Noun'), ('을', 'Josa'), ('이용', 'Noun'), ('한', 'Josa'), ('식물', 'Noun'), ('재배', 'Noun'), ('용', 'Noun'), ('데이터', 'Noun'), ('공유', 'Noun'), ('스마트', 'Noun'), ('팜에', 'Verb'), ('대한', 'Noun'), ('연구', 'Noun'), ('’', 'Punctuation'), ('논문', 'Noun'), ('으로', 'Josa'), ('우수', 'Noun'), ('논문', 'Noun'), ('상', 'Suffix'), ('을', 'Josa'), ('받았다', 'Verb'), ('.', 'Punctuation'), ('ICROS', 'Alpha'), ('2022', 'Number'), ('는', 'Verb'), ('전국', 'Noun'), ('각', 'Noun'), ('대학', 'Noun'), ('과', 'Josa'), ('연구소', 'Noun'), (',', 'Punctuation'), ('산', 'Noun'), ('업체', 'Noun'), ('에서', 'Josa'), ('투고', 'Noun'), ('한', 'Josa'), ('370', 'Number'), ('여', 'Noun'), ('편의', 'Noun'), ('논문', 'Noun'), ('을', 'Josa'), ('발표', 'Noun'), ('됐고', 'Verb'), (',', 'Punctuation'), ('AI', 'Alpha'), ('융합', 'Noun'), ('기계', 'Noun'), ('계열', 'Noun'), ('학생', 'Noun'), ('2', 'Number'), ('개', 'Noun'), ('팀', 'Noun'), ('은', 'Josa'), ('전문', 'Noun'), ('대로는', 'Josa'), ('유일하게', 'Adjective'), ('이', 'Noun'), ('대회', 'Noun'), ('에', 'Josa'), ('참가', 'Noun'), ('했다', 'Verb'), ('.', 'Punctuation'), ('클라우드', 'Noun'), ('플랫폼', 'Noun'), ('을', 'Josa'), ('이용', 'Noun'), ('한', 'Josa'), ('식물', 'Noun'), ('재배', 'Noun'), ('용', 'Noun'), ('데이터', 'Noun'), ('공유', 'Noun'), ('스마트', 'Noun'), ('팜에', 'Verb'), ('대한', 'Noun'), ('연구', 'Noun'), ('논문', 'Noun'), ('은', 'Josa'), ('이우영', 'Noun'), ('·', 'Punctuation'), ('안', 'Noun'), ('진영', 'Noun'), ('·', 'Punctuation'), ('신형식', 'Noun'), ('·', 'Punctuation'), ('김찬', 'Noun'), ('혁', 'Noun'), ('·', 'Punctuation'), ('임재', 'Noun'), ('형', 'Suffix'), ('·', 'Punctuation'), ('김승엽씨', 'Noun'), ('가', 'Josa'), ('참여', 'Noun'), ('했다', 'Verb'), ('.', 'Punctuation'), ('이', 'Noun'), ('들', 'Suffix'), ('은', 'Josa'), ('논문', 'Noun'), ('에서', 'Josa'), ('국내', 'Noun'), ('스마트', 'Noun'), ('팜', 'Verb'), ('시스템', 'Noun'), ('이', 'Josa'), ('개별', 'Noun'), ('사용', 'Noun'), ('에', 'Josa'), ('국한', 'Noun'), ('된', 'Verb'), ('데', 'Noun'), ('따라', 'Verb'), ('이', 'Noun'), ('들', 'Suffix'), ('데이터', 'Noun'), ('를', 'Josa'), ('공유', 'Noun'), ('할', 'Verb'), ('수', 'Noun'), ('있는', 'Adjective'), ('앱', 'Noun'), ('·', 'Punctuation'), ('서버', 'Noun'), ('·', 'Punctuation'), ('데이터베이스', 'Noun'), ('를', 'Josa'), ('구축', 'Noun'), ('한', 'Josa'), ('후', 'Noun'), ('스마트', 'Noun'), ('팜', 'Verb'), ('운영자', 'Noun'), ('들', 'Suffix'), ('이', 'Josa'), ('서버', 'Noun'), ('에', 'Josa'), ('축적', 'Noun'), ('된', 'Verb'), ('정보', 'Noun'), ('를', 'Josa'), ('공동', 'Noun'), ('활용', 'Noun'), ('하는', 'Verb'), ('진', 'Noun'), ('일보', 'Noun'), ('한', 'Josa'), ('지능', 'Noun'), ('형', 'Suffix'), ('제어', 'Noun'), ('시스템', 'Noun'), ('구현', 'Noun'), ('을', 'Josa'), ('제안', 'Noun'), ('했다', 'Verb'), ('.', 'Punctuation'), ('임', 'Noun'), ('재형', 'Noun'), ('씨', 'Suffix'), ('는', 'Josa'), ('“', 'Foreign'), ('식물', 'Noun'), ('의', 'Josa'), ('생육', 'Noun'), ('상태', 'Noun'), ('데이터', 'Noun'), ('를', 'Josa'), ('자동', 'Noun'), ('으로', 'Josa'), ('측정', 'Noun'), (',', 'Punctuation'), ('수집', 'Noun'), ('한', 'Josa'), ('후', 'Noun'), ('데이터', 'Noun'), ('를', 'Josa'), ('클라우드', 'Noun'), ('서버', 'Noun'), ('에', 'Josa'), ('저장', 'Noun'), ('하고', 'Josa'), ('여기', 'Noun'), ('에', 'Josa'), ('누적', 'Noun'), ('된', 'Verb'), ('데이터', 'Noun'), ('중', 'Noun'), ('스마트', 'Noun'), ('팜', 'Verb'), ('재배', 'Noun'), ('자', 'Suffix'), ('가', 'Josa'), ('자신', 'Noun'), ('의', 'Josa'), ('생육', 'Noun'), ('환경', 'Noun'), ('에', 'Josa'), ('맞는', 'Verb'), ('데이터', 'Noun'), ('를', 'Josa'), ('받아', 'Verb'), ('활용', 'Noun'), ('함', 'Noun'), ('으로써', 'Josa'), ('최적화', 'Noun'), ('된', 'Verb'), ('식물', 'Noun'), ('재배', 'Noun'), ('를', 'Josa'), ('도모', 'Noun'), ('하고자', 'Verb'), ('했다', 'Verb'), ('”', 'Foreign'), ('고', 'Noun'), ('했다', 'Verb'), ('.', 'Punctuation'), ('이', 'Noun'), ('들', 'Suffix'), ('은', 'Josa'), ('논문', 'Noun'), ('작성', 'Noun'), ('에', 'Josa'), ('그치지', 'Verb'), ('않고', 'Verb'), (',', 'Punctuation'), ('실제', 'Noun'), ('로', 'Josa'), ('이를', 'Verb'), ('구현', 'Noun'), ('할', 'Verb'), ('수', 'Noun'), ('있는', 'Adjective'), ('기초', 'Noun'), ('단계', 'Noun'), ('인', 'Josa'), ('관련', 'Noun'), ('앱', 'Noun'), ('과', 'Josa'), ('데이터베이스', 'Noun'), ('를', 'Josa'), ('개발', 'Noun'), ('하기도', 'Verb'), ('했다', 'Verb'), ('.', 'Punctuation'), ('이우영', 'Noun'), ('씨', 'Suffix'), ('는', 'Josa'), ('“', 'Foreign'), ('논문', 'Noun'), ('작성', 'Noun'), ('을', 'Josa'), ('위해', 'Noun'), ('한', 'Verb'), ('달', 'Noun'), ('동안', 'Noun'), ('밤', 'Noun'), ('을', 'Josa'), ('새워가면서', 'Verb'), ('동기', 'Noun'), ('들', 'Suffix'), ('이', 'Josa'), ('함께', 'Adverb'), ('참고문헌', 'Noun'), ('조사', 'Noun'), ('와', 'Josa'), ('작성', 'Noun'), (',', 'Punctuation'), ('앱', 'Noun'), ('개발', 'Noun'), ('에', 'Josa'), ('집중', 'Noun'), ('했다', 'Verb'), ('”', 'Foreign'), ('면서', 'Noun'), ('“', 'Foreign'), ('상', 'Noun'), ('을', 'Josa'), ('받아', 'Verb'), ('기쁘지만', 'Adjective'), (',', 'Punctuation'), ('그', 'Noun'), ('보다도', 'Josa'), ('좋은', 'Adjective'), ('경험', 'Noun'), ('을', 'Josa'), ('할', 'Verb'), ('수', 'Noun'), ('있었던', 'Adjective'), ('것', 'Noun'), ('이', 'Josa'), ('앞', 'Noun'), ('으로', 'Josa'), ('삶', 'Noun'), ('의', 'Josa'), ('큰', 'Verb'), ('자양', 'Noun'), ('분', 'Suffix'), ('이', 'Josa'), ('될', 'Verb'), ('것', 'Noun'), ('같다', 'Adjective'), ('”', 'Foreign'), ('고', 'Noun'), ('흐뭇해', 'Adjective'), ('했다', 'Verb'), ('.', 'Punctuation'), ('이번', 'Noun'), ('학술', 'Noun'), ('대회', 'Noun'), ('참가', 'Noun'), ('와', 'Josa'), ('우수', 'Noun'), ('논문', 'Noun'), ('상', 'Suffix'), ('수상', 'Noun'), ('을', 'Josa'), ('계기', 'Noun'), ('로', 'Josa'), ('영진전문대', 'Noun'), ('는', 'Josa'), ('국내', 'Noun'), ('·', 'Punctuation'), ('해외', 'Noun'), ('취업', 'Noun'), ('명문', 'Noun'), ('전문대', 'Noun'), ('로서', 'Noun'), ('위상', 'Noun'), ('에', 'Josa'), ('더해', 'Adjective'), ('학술', 'Noun'), ('적', 'Suffix'), ('인', 'Josa'), ('분야', 'Noun'), ('에도', 'Josa'), ('새롭게', 'Adjective'), ('평가', 'Noun'), ('를', 'Josa'), ('받게', 'Verb'), ('됐다', 'Verb'), ('.', 'Punctuation'), ('\\n \\n', 'Foreign'), ('\"', 'Punctuation'), ('일자리', 'Noun'), ('뺏는다', 'Verb'), ('\"', 'Punctuation'), ('던', 'Noun'), ('AI', 'Alpha'), ('상담', 'Noun'), ('원', 'Suffix'), ('콜센터', 'Noun'), ('퇴직', 'Noun'), ('률', 'Noun'), ('30%', 'Number'), ('줄였다', 'Verb'), ('KT', 'Alpha'), ('콜센터', 'Noun'), (',', 'Punctuation'), ('AI', 'Alpha'), ('기반', 'Noun'), ('상담', 'Noun'), ('도입', 'Noun'), ('감정노동', 'Noun'), ('줄며', 'Verb'), ('스트레스', 'Noun'), ('감소', 'Noun'), ('카카오', 'Noun'), ('도', 'Josa'), ('퇴직', 'Noun'), ('률', 'Noun'), ('절반', 'Noun'), ('으로', 'Josa'), ('뚝', 'Noun'), ('상담시', 'Noun'), ('간', 'Suffix'), ('늘', 'Noun'), ('고', 'Josa'), ('재', 'Noun'), ('문의', 'Noun'), ('는', 'Josa'), ('줄어', 'Verb'), ('정보', 'Noun'), ('탐색', 'Noun'), ('도', 'Josa'), ('지원', 'Noun'), ('해', 'Verb'), ('품질', 'Noun'), ('향상', 'Noun'), ('“', 'Foreign'), ('사람', 'Noun'), ('잡아먹는', 'Verb'), ('인공', 'Noun'), ('지능', 'Noun'), ('(', 'Punctuation'), ('AI', 'Alpha'), (')', 'Punctuation'), ('인', 'Noun'), ('줄', 'Noun'), ('알았는데', 'Verb'), ('살리는', 'Verb'), ('AI', 'Alpha'), ('네', 'Noun'), ('.', 'Punctuation'), ('”', 'Foreign'), ('전국', 'Noun'), ('최대', 'Noun'), ('규모', 'Noun'), ('콜센터', 'Noun'), ('인', 'Josa'), ('KT', 'Alpha'), ('고객', 'Noun'), ('센터', 'Noun'), ('에서', 'Josa'), ('나오는', 'Verb'), ('얘기', 'Noun'), ('다', 'Josa'), ('.', 'Punctuation'), ('총', 'Noun'), ('7000', 'Number'), ('명', 'Noun'), ('가량', 'Noun'), ('이', 'Josa'), ('근무', 'Noun'), ('하는', 'Verb'), ('이', 'Noun'), ('콜센터', 'Noun'), ('는', 'Josa'), ('올', 'Verb'), ('상반기', 'Noun'), ('직원', 'Noun'), ('퇴직', 'Noun'), ('률', 'Noun'), ('이', 'Josa'), ('전', 'Modifier'), ('년', 'Noun'), ('대비', 'Noun'), ('30%', 'Number'), ('낮아졌다', 'Verb'), ('.', 'Punctuation'), ('AI', 'Alpha'), ('솔루션', 'Noun'), ('이', 'Josa'), ('궂은일', 'Noun'), ('을', 'Josa'), ('많이', 'Adverb'), ('가져간', 'Verb'), ('덕이', 'Noun'), ('다', 'Josa'), ('.', 'Punctuation'), ('\\n\\n\\n\\n', 'Foreign'), ('8일', 'Number'), ('업계', 'Noun'), ('에', 'Josa'), ('따르면', 'Verb'), ('KT', 'Alpha'), ('콜센터', 'Noun'), ('는', 'Josa'), ('작년', 'Noun'), ('5월', 'Number'), ('부터', 'Foreign'), ('AI', 'Alpha'), ('기반', 'Noun'), ('음성', 'Noun'), ('·', 'Punctuation'), ('채팅', 'Noun'), ('상담', 'Noun'), ('을', 'Josa'), ('도입', 'Noun'), ('했다', 'Verb'), ('.', 'Punctuation'), ('1년', 'Number'), ('만에', 'Josa'), ('직원', 'Noun'), ('퇴직', 'Noun'), ('률', 'Noun'), ('이', 'Josa'), ('기존', 'Noun'), ('2.6%', 'Number'), ('에서', 'Josa'), ('1.8%', 'Number'), ('로', 'Noun'), ('줄었다', 'Verb'), ('.', 'Punctuation'), ('학업', 'Noun'), ('·', 'Punctuation'), ('결혼', 'Noun'), ('등', 'Noun'), ('이유', 'Noun'), ('를', 'Josa'), ('제외', 'Noun'), ('하면', 'Verb'), ('단순', 'Noun'), ('스트레스', 'Noun'), ('를', 'Josa'), ('사유', 'Noun'), ('로', 'Josa'), ('일', 'Noun'), ('을', 'Josa'), ('그만두는', 'Verb'), ('사람', 'Noun'), ('이', 'Josa'), ('거의', 'Noun'), ('없을', 'Adjective'), ('정도', 'Noun'), ('라는', 'Josa'), ('게', 'Noun'), ('회사', 'Noun'), ('측', 'Suffix'), ('설명', 'Noun'), ('이다', 'Josa'), ('.', 'Punctuation'), ('2019년', 'Number'), ('부터', 'Foreign'), ('고객', 'Noun'), ('센터', 'Noun'), ('에', 'Josa'), ('AI', 'Alpha'), ('채팅', 'Noun'), ('상담', 'Noun'), ('을', 'Josa'), ('도입', 'Noun'), ('한', 'Josa'), ('카카오', 'Noun'), ('도', 'Josa'), ('비슷한', 'Adjective'), ('분위기', 'Noun'), ('다', 'Josa'), ('.', 'Punctuation'), ('AI', 'Alpha'), ('상담', 'Noun'), ('기능', 'Noun'), ('도입', 'Noun'), ('후', 'Noun'), ('퇴직', 'Noun'), ('률', 'Noun'), ('이', 'Josa'), ('약', 'Noun'), ('절반', 'Noun'), ('으로', 'Josa'), ('줄었다', 'Verb'), ('.', 'Punctuation'), ('최근', 'Noun'), ('온갖', 'Noun'), ('분야', 'Noun'), ('에서', 'Josa'), ('퇴사', 'Noun'), ('가', 'Josa'), ('줄', 'Noun'), ('을', 'Josa'), ('잇고', 'Verb'), ('있는', 'Adjective'), ('것', 'Noun'), ('과', 'Josa'), ('대조', 'Noun'), ('적', 'Suffix'), ('이다', 'Josa'), ('.', 'Punctuation'), ('두', 'Noun'), ('기업', 'Noun'), ('모두', 'Noun'), ('AI', 'Alpha'), ('가', 'Verb'), ('콜센터', 'Noun'), ('근무', 'Noun'), ('자의', 'Noun'), ('감정노동', 'Noun'), ('건수', 'Noun'), ('를', 'Josa'), ('줄', 'Noun'), ('여준', 'Noun'), ('게', 'Noun'), ('주효', 'Noun'), ('했다', 'Verb'), ('.', 'Punctuation'), ('단순', 'Noun'), ('·', 'Punctuation'), ('반복', 'Noun'), ('상담', 'Noun'), ('업무', 'Noun'), ('는', 'Josa'), ('아예', 'Noun'), ('AI', 'Alpha'), ('가', 'Verb'), ('전부', 'Noun'), ('맡아', 'Verb'), ('끝내는', 'Verb'), ('경우', 'Noun'), ('가', 'Josa'), ('많다', 'Adjective'), ('.', 'Punctuation'), ('개인정보', 'Noun'), ('·', 'Punctuation'), ('전산', 'Noun'), ('결제', 'Noun'), ('기록', 'Noun'), ('인증', 'Noun'), ('등', 'Noun'), ('을', 'Josa'), ('AI', 'Alpha'), ('가', 'Verb'), ('수초', 'Noun'), ('만에', 'Josa'), ('끝내면서', 'Verb'), ('이용자', 'Noun'), ('들', 'Suffix'), ('이', 'Josa'), ('상담', 'Noun'), ('받기', 'Verb'), ('위해', 'Noun'), ('기다리는', 'Verb'), ('시간', 'Noun'), ('도', 'Josa'), ('짧아졌다', 'Verb'), ('.', 'Punctuation'), ('카카오', 'Noun'), ('는', 'Josa'), ('이용자', 'Noun'), ('상담', 'Noun'), ('연결', 'Noun'), ('률', 'Noun'), ('이', 'Josa'), ('AI', 'Alpha'), ('도입', 'Noun'), ('전', 'Noun'), ('50%', 'Number'), ('에서', 'Josa'), ('올', 'Verb'), ('상반기', 'Noun'), ('기준', 'Noun'), ('93.4%', 'Number'), ('로', 'Noun'), ('올랐다', 'Verb'), ('.', 'Punctuation'), ('AI', 'Alpha'), ('는', 'Verb'), ('주말', 'Noun'), ('까지', 'Josa'), ('하루', 'Noun'), ('24시간', 'Number'), ('문의', 'Noun'), ('응대', 'Noun'), ('를', 'Josa'), ('할', 'Verb'), ('수', 'Noun'), ('있다', 'Adjective'), ('.', 'Punctuation'), ('업무', 'Noun'), ('에', 'Josa'), ('따르는', 'Verb'), ('긴장', 'Noun'), ('과', 'Josa'), ('압박', 'Noun'), ('감도', 'Verb'), ('줄어든다', 'Verb'), ('.', 'Punctuation'), ('그동안', 'Noun'), ('콜센터', 'Noun'), ('상담사', 'Noun'), ('는', 'Josa'), ('전화', 'Noun'), ('로', 'Josa'), ('이용자', 'Noun'), ('의', 'Josa'), ('이야기', 'Noun'), ('를', 'Josa'), ('들으며', 'Verb'), ('상담', 'Noun'), ('내용', 'Noun'), ('을', 'Josa'), ('키', 'Noun'), ('보드', 'Noun'), ('로', 'Josa'), ('받아치고', 'Verb'), (',', 'Punctuation'), ('동시', 'Noun'), ('에', 'Josa'), ('관련', 'Noun'), ('정보', 'Noun'), ('를', 'Josa'), ('검색', 'Noun'), ('해야', 'Verb'), ('했다', 'Verb'), ('.', 'Punctuation'), ('이', 'Noun'), ('중', 'Noun'), ('검색', 'Noun'), ('업무', 'Noun'), ('가', 'Josa'), ('떨어져', 'Verb'), ('나갔다', 'Verb'), ('.', 'Punctuation'), ('AI', 'Alpha'), ('챗봇', 'Noun'), ('(', 'Punctuation'), ('채팅', 'Noun'), ('서비스', 'Noun'), (')', 'Punctuation'), ('등', 'Noun'), ('이', 'Josa'), ('상담사', 'Noun'), ('가', 'Josa'), ('따로', 'Adverb'), ('검색', 'Noun'), ('하지', 'Verb'), ('않아도', 'Verb'), ('답변', 'Noun'), ('에', 'Josa'), ('필요한', 'Adjective'), ('정보', 'Noun'), ('를', 'Josa'), ('추려', 'Verb'), ('준다', 'Verb'), ('.', 'Punctuation'), ('KT', 'Alpha'), ('의', 'Noun'), ('경우', 'Noun'), ('유', 'Noun'), ('·', 'Punctuation'), ('무선', 'Noun'), ('통신', 'Noun'), (',', 'Punctuation'), ('인터넷', 'Noun'), ('TV', 'Alpha'), ('(', 'Punctuation'), ('IPTV', 'Alpha'), ('),', 'Punctuation'), ('부가', 'Noun'), ('서비스', 'Noun'), (',', 'Punctuation'), ('결합', 'Noun'), ('할인', 'Noun'), ('등', 'Noun'), ('각', 'Noun'), ('분야', 'Noun'), ('에', 'Josa'), ('걸쳐', 'Verb'), ('상담', 'Noun'), ('분류', 'Noun'), ('코드', 'Noun'), ('가', 'Josa'), ('1700', 'Number'), ('개', 'Noun'), ('에', 'Josa'), ('달', 'Noun'), ('한', 'Josa'), ('다', 'Adverb'), ('.', 'Punctuation'), ('기존', 'Noun'), ('엔', 'Josa'), ('상담사', 'Noun'), ('가', 'Josa'), ('대부분', 'Noun'), ('을', 'Josa'), ('외워', 'Verb'), ('대응', 'Noun'), ('했지만', 'Verb'), ('이', 'Determiner'), ('젠', 'Noun'), ('AI', 'Alpha'), ('가', 'Verb'), ('이용자', 'Noun'), ('와', 'Josa'), ('상담사', 'Noun'), ('의', 'Josa'), ('대화', 'Noun'), ('내용', 'Noun'), ('만', 'Josa'), ('듣고도', 'Verb'), ('분류', 'Noun'), ('코드', 'Noun'), ('서너', 'Noun'), ('개', 'Noun'), ('를', 'Josa'), ('알아서', 'Verb'), ('추천', 'Noun'), ('해준다', 'Verb'), ('.', 'Punctuation'), ('신입', 'Noun'), ('상담사', 'Noun'), ('가', 'Josa'), ('어려워', 'Adjective'), ('할', 'Verb'), ('만', 'Noun'), ('한', 'Josa'), ('내', 'Determiner'), ('용이', 'Noun'), ('라면', 'Noun'), ('근', 'Modifier'), ('속', 'Modifier'), ('기간', 'Noun'), ('이', 'Josa'), ('긴', 'Verb'), ('숙련', 'Noun'), ('자', 'Suffix'), ('에게', 'Josa'), ('전화', 'Noun'), ('를', 'Josa'), ('연결해', 'Adjective'), ('주기도', 'Noun'), ('한다', 'Verb'), ('.', 'Punctuation'), ('콜센터', 'Noun'), ('근', 'Modifier'), ('무자', 'Noun'), ('들', 'Suffix'), ('이', 'Josa'), ('“', 'Foreign'), ('AI', 'Alpha'), ('가', 'Verb'), ('‘', 'Foreign'), ('멘털', 'Noun'), ('케어', 'Noun'), ('(', 'Punctuation'), ('심정', 'Noun'), ('관리', 'Noun'), (')’', 'Punctuation'), ('를', 'Noun'), ('해준다', 'Verb'), ('”', 'Foreign'), ('고', 'Noun'), ('입', 'Noun'), ('을', 'Josa'), ('모으는', 'Verb'), ('이유', 'Noun'), ('다', 'Josa'), ('.', 'Punctuation'), ('이용자', 'Noun'), ('의', 'Josa'), ('만족도', 'Noun'), ('는', 'Josa'), ('더', 'Noun'), ('높아졌다', 'Verb'), ('.', 'Punctuation'), ('KT', 'Alpha'), ('콜센터', 'Noun'), ('의', 'Josa'), ('경우', 'Noun'), ('AI', 'Alpha'), ('도입', 'Noun'), ('이후', 'Noun'), ('상담', 'Noun'), ('을', 'Josa'), ('끝낸', 'Verb'), ('이용자', 'Noun'), ('가', 'Josa'), ('문제', 'Noun'), ('를', 'Josa'), ('해결', 'Noun'), ('하지', 'Verb'), ('못', 'VerbPrefix'), ('해', 'Verb'), ('같은', 'Adjective'), ('내용', 'Noun'), ('으로', 'Josa'), ('다시', 'Noun'), ('전화', 'Noun'), ('를', 'Josa'), ('거', 'Noun'), ('는', 'Josa'), ('횟수', 'Noun'), ('가', 'Josa'), ('월', 'Noun'), ('평균', 'Noun'), ('17만', 'Number'), ('건', 'Noun'), ('줄었다', 'Verb'), ('.', 'Punctuation'), ('상담', 'Noun'), ('자', 'Suffix'), ('들이', 'Verb'), ('개개인', 'Noun'), ('에', 'Josa'), ('쓰는', 'Verb'), ('평균', 'Noun'), ('상담', 'Noun'), ('시간', 'Noun'), ('은', 'Josa'), ('도입', 'Noun'), ('전', 'Noun'), ('189초', 'Number'), ('에서', 'Foreign'), ('도입', 'Noun'), ('후', 'Noun'), ('207초', 'Number'), ('로', 'Foreign'), ('늘었다', 'Verb'), ('.', 'Punctuation'), ('간단한', 'Adjective'), ('건', 'Noun'), ('은', 'Josa'), ('AI', 'Alpha'), ('가', 'Verb'), ('빨리', 'Adverb'), ('끝내고', 'Verb'), (',', 'Punctuation'), ('복잡한', 'Adjective'), ('건', 'Noun'), ('은', 'Josa'), ('이전', 'Noun'), ('에', 'Josa'), ('비해', 'Verb'), ('더욱', 'Noun'), ('공', 'Noun'), ('을', 'Josa'), ('들여', 'Verb'), ('추가', 'Noun'), ('로', 'Josa'), ('알아볼', 'Verb'), ('수', 'Noun'), ('있게', 'Adjective'), ('됐다는', 'Verb'), ('설명', 'Noun'), ('이다', 'Josa'), ('.', 'Punctuation'), ('AI', 'Alpha'), ('도입', 'Noun'), ('에', 'Josa'), ('따라', 'Verb'), ('기존', 'Noun'), ('근로자', 'Noun'), ('들', 'Suffix'), ('이', 'Josa'), ('더', 'Noun'), ('부가가치', 'Noun'), ('가', 'Josa'), ('높은', 'Adjective'), ('업무', 'Noun'), ('로', 'Josa'), ('옮겨가는', 'Verb'), ('사례', 'Noun'), ('도', 'Josa'), ('나오고', 'Verb'), ('있다', 'Adjective'), ('.', 'Punctuation'), ('KT', 'Alpha'), ('는', 'Verb'), ('경력', 'Noun'), ('이', 'Josa'), ('많은', 'Adjective'), ('일부', 'Noun'), ('콜센터', 'Noun'), ('상담사', 'Noun'), ('에게', 'Josa'), ('AI', 'Alpha'), ('컨택', 'Noun'), ('센터', 'Noun'), ('(', 'Punctuation'), ('AICC', 'Alpha'), (')', 'Punctuation'), ('컨설팅', 'Noun'), ('등', 'Noun'), ('을', 'Josa'), ('맡기고', 'Verb'), ('있다', 'Adjective'), ('.', 'Punctuation'), ('영업', 'Noun'), ('업무', 'Noun'), ('를', 'Josa'), ('맡는', 'Verb'), ('사례', 'Noun'), ('도', 'Josa'), ('있다', 'Adjective'), ('.', 'Punctuation'), ('KT', 'Alpha'), ('관계자', 'Noun'), ('는', 'Josa'), ('“', 'Foreign'), ('상담', 'Noun'), ('인력', 'Noun'), ('일부', 'Noun'), ('를', 'Josa'), ('영업', 'Noun'), ('업무', 'Noun'), ('로', 'Josa'), ('전환', 'Noun'), ('해', 'Verb'), ('총', 'Noun'), ('13만', 'Number'), ('시간', 'Noun'), ('에', 'Josa'), ('달', 'Noun'), ('하는', 'Verb'), ('영업', 'Noun'), ('시간', 'Noun'), ('을', 'Josa'), ('추가', 'Noun'), ('로', 'Josa'), ('확보', 'Noun'), ('했다', 'Verb'), ('”', 'Foreign'), ('고', 'Noun'), ('말', 'Noun'), ('했다', 'Verb'), ('.', 'Punctuation'), ('\\n', 'Foreign')]\n",
      "['가톨릭대', '병원', '업체', '가톨릭대', '병원', '당뇨', '환자', '디지털', '트윈', '기술', '개발', '디지털', '트윈', '가상공간', '현실', '쌍둥이', '발생', '상황', '시뮬레이션', '결과', '예측', '기술', '병원', '각각', '인공', '지능', '역량', '의료', '데이터', '결합', '계획', '우선', '병원', '연속', '혈당', '측정기', '식이', '활동', '인슐린', '펌프', '수집', '당뇨', '환자', '라이프', '로그', '활용', '식이', '관리', '솔루션', '진화', '인공', '췌장', '알고리즘', '개발', '식이', '관리', '솔루션', '영상', '인식', '기술', '음식', '종류', '영양성분', '칼로리', '자동', '인식', '식단', '관리', '기술', '진화', '인공', '췌장', '알고리즘', '알고리즘', '이용', '환자', '혈당', '주입', '인슐린', '분석', '기술', '기술', '디지털', '트윈', '구현', '당뇨', '환자', '상태', '예측', '당뇨', '효과', '관리', '한자', '융합기술원', '컨버전', '연구소', '상무', '산업', '역량', '바탕', '의료', '분야', '여러', '업체', '협력', '계획', '라며', '통해', '환자', '실질', '도움', '기술', '개발', '일상', '스케', '서비스', '확대', '노력', '삼성', '린지', '신소재', '컴퓨터', '부문', '국내', '대학생', '멘토링', '전자', '인공', '지능', '분야', '우수', '인력', '발굴', '반도체', '디스플레이', '연구', '전자', '다음', '대학생', '경진', '대회', '삼성', '린지', '개최', '공모', '과제', '기술', '활용', '신소재', '연구', '컴퓨터', '삼성', '전자', '린지', '포스터', '자료', '삼성', '전자', '신소재', '연구', '주제', '유기', '분자', '구조', '로부터', '편성', '에너지', '예측', '알고리즘', '개발', '유기', '디스플레이', '소재', '발광', '효율', '영향', '분자', '구조', '변화', '에너지', '예측', '모델', '개발', '전자', '효율', '수명', '유기', '디스플레이', '발광', '소재', '시간', '비용', '컴퓨터', '부문', '전자현미경', '이미지', '깊이', '예측', '알고리즘', '개발', '차원', '전자', '현미경', '영상', '반도체', '차원', '구조', '깊이', '반도체', '공정', '활용', '알고리즘', '응모', '결과', '삼성', '전자', '종합', '기술', '홈페이지', '발표', '삼성', '포럼', '시상', '부문', '최우수상', '포함', '수상', '상금', '삼성', '전자', '연구원', '만날', '기회', '종합', '기술', '연구소', '수상자', '교류', '삼성', '린지', '캠프', '참가', '최창규', '삼성', '전자', '종합', '기술', '센터', '부사', '종합', '기술', '반도체', '중심', '소재', '카메라', '자율', '주행', '기술', '적용', '기술', '한계', '대학생', '참여', '농정원', '스마트', '농업', '경진', '대회', '농림', '수산', '식품', '교육', '문화', '정보원', '제공', '재판매', '금지', '서울', '연합뉴스', '이영섭', '기자', '농림축산식품부', '농촌진흥청', '농림', '수산', '식품', '교육', '문화', '정보원', '농정원', '스마트', '농업', '인공', '지능', '경진', '대회', '참가자', '모집', '대회', '농업', '분야', '대한', '데이터', '인공', '지능', '기업', '학계', '관심', '높이', '농업', '현장', '활용', '해결', '과제', '발굴', '위해', '개최', '예선', '기간', '내달', '생육', '예측', '해커', '한정', '시간', '결과', '모델', '과제', '재배', '전략', '기획', '평가', '본선', '진출', '선정', '이후', '동안', '대회', '온실', '기술', '활용', '토마토', '재배', '방식', '본선', '농업', '분야', '인공', '지능', '기술', '관심', '이상', '외국인', '누구', '규모', '구성', '참가', '대회', '총상', '금은', '대회', '관련', '세부', '내용', '공식', '누리집', '확인', '대학생', '대학원생', '대상', '공모전', '반도체', '디스플레이', '인력', '발굴', '삼성', '전자', '린지', '포스터', '삼성', '전자', '제공', '전자', '국내', '대학', '대학원생', '대상', '삼성', '린지', '개최', '삼성', '린지', '인공', '지능', '분야', '우수', '인력', '발굴', '반도체', '디스플레이', '분야', '연구', '위해', '개최', '공모전', '지난해', '처음', '이번', '대회', '종목', '기술', '활용', '신소재', '연구', '컴퓨터', '가지', '신소재', '연구', '부문', '주제', '유기', '분자', '구조', '로부터', '편성', '에너지', '예측', '알고리즘', '개발', '컴퓨터', '부문', '전자현미경', '이미지', '로부터', '깊이', '예측', '알고리즘', '개발', '전자', '주제', '별로', '최우수상', '우수상', '장려상', '선발', '계획', '상금', '최우수상', '우수상', '장려상', '또한', '수상', '삼성', '전자', '연구', '리더', '로부터', '멘토링', '응모', '기간', '다음', '응모', '결과', '공개', '예정', '스타트업', '지속', '가능', '발전소', '협업', '리스크', '모니터링', '서비스', '제공', '중견', '기업', '관련', '언론', '기사', '분석', '리스크', '요인', '분석', '이데일리', '정선', '기자', '코트라', '소셜', '테크', '스타트업', '가능', '발전소', '국내', '중견', '기업', '선제', '환경', '사회', '지배구조', '리스크', '대응', '중견', '기업', '리스크', '모니터링', '서비스', '제공', '최근', '선진국', '중심', '기업', '가능', '경영', '환경', '사회', '대한', '책임', '강조', '분위기', '글로벌', '기업', '공급망', '협력', '강도', '경영', '요구', '추세', '코트', '가능', '발전소', '국내', '개사', '중견', '기업', '관련', '언론', '기사', '인공', '지능', '알고리즘', '분석', '관련', '잠재', '리스크', '모니터링', '시행', '결과', '명의', '중견', '기업', '종사', '유관', '기관', '구독', '월드', '챔프', '뉴스레터', '통해', '제공', '예정', '해당', '서비스', '뉴스', '미디어', '보도', '기업', '사건', '사고', '매일', '수집', '인공', '지능', '통해', '분석', '기업', '리스크', '감지', '가능', '발전소', '특허', '기술', '매일', '언론사', '보도', '여건', '뉴스', '기사', '자연어', '처리', '감성', '분석', '알고리즘', '분석', '관련', '이슈', '분류', '기사', '발행', '패턴', '사건', '진행', '속도', '도수', '종합', '평가', '위험', '요소', '작용', '잠재', '원인', '미리', '파악', '방식', '실제', '지난', '중견', '기업', '대한', '언론', '기사', '분석', '결과', '관련', '기사', '가장', '보도', '분야', '소비재', '서비스', '소비재', '제조', '소재', '조사', '환경', '사회', '지배구조', '사회', '분야', '리스크', '가장', '발생', '양상', '세부', '예고', '무더위', '현장', '근무', '환경', '이슈', '소비재', '관련', '서비스', '책임', '이슈', '최근', '중견', '기업', '주목', '잠재', '위험', '요소', '평가', '코트', '중견', '기업', '글로벌', '지원', '사업', '참가', '기업', '대상', '영문', '평가', '보고서', '작성', '서비스', '지원', '예정', '기업', '관련', '재무', '성과', '분석', '기업', '결과', '글로벌', '파트너', '협력', '신규', '파트너', '발굴', '활용', '영문', '보고서', '제공', '내용', '참여', '기업', '전문가', '통해', '분석', '결과', '도출', '관련', '기회', '요인', '개선', '의견', '대한', '피드백', '코트라', '대부분', '국내', '중소', '중견', '기업', '경영', '대한', '필요성', '정작', '수출', '준비', '다소', '실정', '상공회의소', '회장', '최태원', '국내', '수출', '기업', '개사', '대상', '조사', '분석', '수출', '기업', '공급망', '실사', '대응', '현황', '과제', '보고서', '응답', '기업', '관리', '수준', '기업', '계약', '수주', '파기', '우려', '코트라', '연초', '사업', '참가', '강소', '중견', '기업', '대상', '시행', '자체', '설문조사', '기업', '수출', '중견', '기업', '가장', '맞춤', '지원', '서비스', '경영', '지원', '김윤태', '코트라', '중소', '중견', '기업', '본부장', '관리', '우리', '해외', '진출', '기업', '공급망', '이슈', '수출', '중견', '기업', '필수', '조건', '라며', '코트', '우리', '중견', '기업', '관리', '역량', '글로벌', '기업', '경영', '지원', '서비스', '지원', '예정', '코트', '중견', '기업', '플러스', '포럼', '통해', '글로벌', '기업', '관계자', '초대', '행사', '진행', '기사', '내용', '요약', '병원', '업무', '자동화', '솔루션', '도입', '관련', '연구', '과제', '발굴', '진행', '공동', '참여', '네이버', '지난', '충북대학교병원', '업무', '협약', '개최', '최영석', '충북대학교병원', '한정호', '기획', '조정', '실장', '전현정', '의료', '정보', '센터', '군호', '네이버', '스케', '연구소장', '김필수', '리더', '참석', '상호', '협력', '약속', '사진', '왼쪽', '충북대학교병원', '김기석', '의료', '정보', '전현정', '의료', '정보', '센터', '한정호', '기획', '조정', '실장', '최영석', '병원', '네이버', '군호', '스케', '연구소장', '김필수', '리더', '상훈', '부장', '하연', '선임', '업무', '협약', '체결', '기념', '촬영', '모습', '사진', '네이버', '제공', '재판매', '금지', '서울', '뉴시스', '최은수', '기자', '네이버', '네이버', '클라우드', '충북대학교병원', '인공', '지능', '활용', '스마트', '병원', '구축', '위해', '협력', '네이버', '지난', '충북대학교병원', '업무', '협약', '개최', '최영석', '충북대학교병원', '한정호', '기획', '조정', '실장', '전현정', '의료', '정보', '센터', '군호', '네이버', '스케', '연구소장', '김필수', '리더', '참석', '상호', '협력', '약속', '이번', '업무', '협약', '통해', '병원', '업무', '자동화', '효율', '솔루션', '도입', '의료', '협업', '정보', '공유', '네이버', '웍스', '그룹', '웨어', '도입', '웨일', '스마트', '태블릿', '활용', '스마트', '병동', '시범', '사업', '추진', '스마트', '병원', '구축', '사업', '포괄', '협력', '예정', '관련', '연구', '과제', '발굴', '진행', '공동', '참여', '군호', '네이버', '스케', '연구소장', '네이버', '기술', '클라우드', '포함', '네이버', '솔루션', '도입', '통해', '의료', '진의', '업무', '효율', '기여', '병원', '방문', '환자', '양질', '의료', '서비스', '제공', '최영석', '충북대학교병원', '중증', '질환', '권역', '의료', '기관', '환자', '입장', '병원', '이용', '의료', '환자', '질환', '미리', '파악', '맞춤', '진료', '공함', '업무', '효율', '처리', '이번', '협약', '본질', '이미희', '레벨', '컨설팅', '본부장', '왼쪽', '준수', '글로벌', '성장', '본부', '업무', '협약', '체결', '정보통', '산업', '진흥', '디지털', '전환', '관련', '사업', '추진', '인공', '지능', '분야', '인재', '양성', '주요', '내용', '업무', '협약', '체결', '이번', '협약', '통해', '정보통', '기술', '사업', '분야', '중견', '중소', '벤처기업', '육성', '교육', '자격', '분야', '인재', '양성', '추진', '중견', '중소', '벤처기업', '빅데이터', '클라우드', '역량', '지원', '예정', '클라우드', '인큐', '베이', '프로그램', '통한', '공동', '상품', '출시', '클라우드', '마켓', '레이스', '등재', '마케팅', '채널', '홍보', '지원', '측은', '인재', '양성', '위해', '개발', '전문가', '초청', '특강', '교육장', '무료', '대관', '교육', '프로그램', '홍보', '교육', '혁신', '활동', '진행', '제조', '유통', '금융', '주요', '산업', '사업', '적극', '추진', '전문', '기업', '육성', '산업', '디지털', '전문', '기업', '육성', '비대', '산업', '일상', '촉진', '생활', '밀착', '분야', '비대', '선도', '서비스', '활성화', '대표', '사업', '이미희', '레벨', '컨설팅', '본부장', '중소기업', '중견', '기업', '혁신', '지원', '인재', '양성', '사업', '진행', '대구', '영진전문대', '융합', '기계', '계열', '이우영', '진영', '신형식', '김찬', '임재', '김승엽', '학생', '클라우드', '플랫폼', '이용', '식물', '재배', '데이터', '공유', '스마트', '대한', '연구', '논문', '제어', '로봇', '시스템', '학회', '학술', '대회', '학부', '논문', '경진', '대회', '우수', '논문', '영진전문대', '제공', '뉴스', '대구', '뉴스', '공정식', '기자', '대구', '영진전문대', '융합', '기계', '계열', '학생', '제어', '로봇', '시스템', '학회', '학술', '대회', '학부', '논문', '경진', '대회', '전문대', '생으로', '우수', '논문', '영진전문대', '융합', '기계', '계열', '학년', '이우영', '학생', '최근', '제어', '로봇', '시스템', '학회', '주최', '학술', '대회', '클라우드', '플랫폼', '이용', '식물', '재배', '데이터', '공유', '스마트', '대한', '연구', '논문', '우수', '논문', '전국', '대학', '비롯', '연구소', '업체', '참여', '편의', '논문', '발표', '전문대', '영진전문대', '융합', '기계', '계열', '학생', '참가', '논문', '개별', '사용', '국한', '국내', '스마트', '시스템', '데이터', '공유', '서버', '데이터베이스', '구축', '스마트', '운영자', '서버', '축적', '정보', '공동', '활용', '지능', '제어', '시스템', '구현', '제안', '임재', '학생', '식물', '생육', '상태', '데이터', '자동', '측정', '수집', '데이터', '클라우드', '서버', '저장', '여기', '누적', '데이터', '스마트', '재배', '자신', '생육', '환경', '데이터', '활용', '최적화', '식물', '재배', '도모', '시카고', '구역', '범죄', '발생', '확률', '정확도', '예측', '불구', '유색인종', '빈곤층', '과잉', '대표', '채용', '민감', '정보', '배제', '인종', '추정', '가능', '대리', '지표', '의도', '차별', '인공', '지능', '학습', '데이터', '차별', '사회', '현실', '반영', '미래', '범죄', '예측', '화제', '영화', '마이', '너리', '리포트', '초능력자', '통해', '예측', '오늘날', '빅데이터', '인공', '지능', '예측', '개봉', '크루즈', '주연', '마이', '너리', '리포트', '미래', '범죄', '예측', '소재', '영화', '프리', '라임', '시스템', '통해', '범죄', '장소', '시간', '인물', '예측', '영화', '상상', '현실', '영화', '초능력자', '통해', '예측', '오늘날', '빅데이터', '인공', '지능', '예측', '지난달', '영국', '과학', '전문', '티스', '미국', '시카고대', '구진', '과거', '범죄', '발생', '데이터', '근거', '미래', '범죄', '발생', '가능성', '지역', '예측', '유색인종', '대한', '차별', '인종', '편견', '작용', '보도', '인공', '지능', '통한', '의사결정', '치안', '사법', '채용', '분야', '자원', '효율', '배분', '사람', '자의', '판단', '결과', '대한', '기대', '달리', '알고리즘', '의사결정', '성별', '인종', '대한', '차별', '우려', '범죄', '예측', '인종', '편향', '범죄', '예측', '위해', '시카고대', '구진', '방식', '시카고', '시내', '크기', '구획', '발생', '구획', '범죄', '데이터', '학습', '학습', '기간', '이후', '범죄', '발생', '예측', '범죄', '보고서', '체포', '기록', '번호판', '이미지', '데이터', '통해', '일주일', '특정', '구역', '범죄', '발생', '가능성', '예측', '예측', '정확도', '무려', '치안', '관련', '예산', '한정', '백인', '경찰', '인종차별', '비판', '미국', '인공', '지능', '통한', '범죄', '예측', '편향', '의사결정', '대안', '주목', '인공', '지능', '작성', '목록', '시카고', '흑인', '남성', '잠재', '범죄자', '정도', '인종', '편향', '인공', '지능', '정성', '도마', '인공', '지능', '학습', '범죄', '데이터', '이유', '뉴욕대', '인종', '불평등', '센터', '소장', '빈센트', '서덜랜드', '워싱턴포스트', '인터뷰', '역사', '미국', '경찰', '데이터', '편향', '범죄', '관련', '데이터', '유색인종', '소득', '과잉', '대표', '데이터', '학습', '알고리즘', '범죄', '가능성', '예측', '방식', '동해', '차별', '강화', '흑인', '소수', '인종', '거주지', '범죄', '기존', '데이터', '기반', '지역', '경찰', '배치', '검색', '검거', '율도', '데이터', '자기', '예언', '실현', '효율', '알고리즘', '결과', '흑인', '거주지', '범죄', '역설', '발생', '재범', '가석방', '결정', '알고리즘', '차별성', '문제', '대두', '미국', '탐사보도', '매체', '프로퍼블리카', '재범', '가능성', '인공', '지능', '제대로', '예측', '검증', '결과', '백인', '인공', '지능', '예상', '재범', '크게', '흑인', '반대', '채용', '차별', '논란', '기업', '채용', '알고리즘', '차별', '편향', '논란', '지난', '미국', '법률', '전문', '매체', '내셔널', '리뷰', '미국', '고용주', '채용', '과정', '인공', '지능', '사용', '이력서', '선별', '온라인', '테스트', '분석', '지원', '자의', '표정', '신체', '언어', '단어', '선택', '면접', '목소리', '평가', '통해', '효율', '채용', '시도', '여성', '유색인종', '배제', '의도', '차별', '위험성', '보도', '아마존', '구직', '자의', '이력서', '평가', '위해', '훈련', '알고리즘', '차별', '논란', '개발', '중단', '널리', '사례', '알고리즘', '연령', '출신', '학교', '출신', '차별', '요소', '배제', '다지', '여성', '체스', '클럽', '여성', '대학', '여성', '언급', '원서', '채용', '대상', '배제', '방식', '성별', '편향', '결과', '차별', '학습', '구조', '빅데이터', '기반', '알고리즘', '성별', '인종', '사회', '경제', '배경', '변수', '배제', '경우', '의도', '차별', '민감', '정보', '추정', '대리', '지표', '우회', '방법', '구직', '부모', '직업', '거주지', '정보', '소비', '패턴', '취미', '활동', '대한', '정보', '추정', '고학', '서울대', '법학', '전문', '대학원', '교수', '저서', '차별', '인간', '인공', '지능', '학습', '데이터', '편향', '차별', '과거', '데이터', '강조', '범죄', '예측', '도구', '특정', '인종', '사회', '집단', '차별', '데이터', '자체', '문제', '일부', '데이터', '배제', '문제', '인공', '지능', '차별', '인간', '학습', '인공', '지능', '증폭', '지속', '위협', '차별', '사회', '방치', '알고리즘', '지난해', '공개', '아스트로', '역량', '향상', '기대', '사업', '확장', '신호', '아마존', '인공', '지능', '로봇청소기', '룸바', '아이로봇', '인수', '아마존', '추진', '인수', '규모', '앞서', '로봇청소기', '아마존', '이기', '사업', '화장', '속도', '전망', '아마존', '가정', '로봇', '아스트로', '사진', '아마존', '현지', '시간', '테크', '크런치', '미국', '주요', '매체', '아마존', '아이로봇', '인수', '아이로봇', '지난', '로봇청소기', '룸바', '출시', '기업', '지난', '미국', '인공', '지능', '연구소', '회원', '콜린', '앵글', '루드', '브룩스', '헬렌', '그레이', '통해', '설립', '신종', '코로나', '바이러스', '감염증', '코로나', '여파', '매출', '성장', '코로나', '완화', '다시', '어려움', '브룩', '그레이', '콜린', '앵글', '이번', '아마존', '인수', '아마존', '자신', '연구개발', '방향', '아마존', '입장', '기대', '아마존', '물류', '분야', '인공', '지능', '로봇', '활용', '하나', '엔드투엔드', '서비스', '대해', '계기', '지난해', '룸바', '로봇청소기', '아스트로', '공개', '시작', '앞서', '아마존', '아이로봇', '자체', '플랫폼', '알렉사', '서버', '통해', '룸바', '발전', '이번', '인수', '역시', '협력', '발현', '아마존', '미래', '가정', '역시', '로봇', '플랫폼', '로봇', '기사', '내용', '요약', '병원', '업무', '자동화', '솔루션', '도입', '관련', '연구', '과제', '발굴', '진행', '공동', '참여', '네이버', '지난', '충북대학교병원', '업무', '협약', '개최', '최영석', '충북대학교병원', '한정호', '기획', '조정', '실장', '전현정', '의료', '정보', '센터', '군호', '네이버', '스케', '연구소장', '김필수', '리더', '참석', '상호', '협력', '약속', '사진', '왼쪽', '충북대학교병원', '김기석', '의료', '정보', '전현정', '의료', '정보', '센터', '한정호', '기획', '조정', '실장', '최영석', '병원', '네이버', '군호', '스케', '연구소장', '김필수', '리더', '상훈', '부장', '하연', '선임', '업무', '협약', '체결', '기념', '촬영', '모습', '사진', '네이버', '제공', '재판매', '금지', '서울', '뉴시스', '최은수', '기자', '네이버', '네이버', '클라우드', '충북대학교병원', '인공', '지능', '활용', '스마트', '병원', '구축', '위해', '협력', '네이버', '지난', '충북대학교병원', '업무', '협약', '개최', '최영석', '충북대학교병원', '한정호', '기획', '조정', '실장', '전현정', '의료', '정보', '센터', '군호', '네이버', '스케', '연구소장', '김필수', '리더', '참석', '상호', '협력', '약속', '이번', '업무', '협약', '통해', '병원', '업무', '자동화', '효율', '솔루션', '도입', '의료', '협업', '정보', '공유', '네이버', '웍스', '그룹', '웨어', '도입', '웨일', '스마트', '태블릿', '활용', '스마트', '병동', '시범', '사업', '추진', '스마트', '병원', '구축', '사업', '포괄', '협력', '예정', '관련', '연구', '과제', '발굴', '진행', '공동', '참여', '군호', '네이버', '스케', '연구소장', '네이버', '기술', '클라우드', '포함', '네이버', '솔루션', '도입', '통해', '의료', '진의', '업무', '효율', '기여', '병원', '방문', '환자', '양질', '의료', '서비스', '제공', '최영석', '충북대학교병원', '중증', '질환', '권역', '의료', '기관', '환자', '입장', '병원', '이용', '의료', '환자', '질환', '미리', '파악', '맞춤', '진료', '공함', '업무', '효율', '처리', '이번', '협약', '본질', '이매진', '주니어', '대회', '전국', '마이크로소프트', '주최', '경진', '대회', '국내', '영남', '대구', '소프트웨어', '동아리', '선정', '동아리', '대구시', '교육청', '지난해', '운영', '융합', '자율', '동아리', '지원', '사업', '대구시', '교육청', '지난', '주최', '이매진', '주니어', '국내', '영남', '중학교', '자율', '동아리', '영남', '대구', '고등학교', '자율', '동아리', '올해', '맞이', '대회', '학생', '대상', '마이크로소프트', '사가', '주체', '글로벌', '인공', '지능', '아이디어', '경진', '대회', '한국', '올해', '학생', '지도', '교사', '참가', '대회', '참가', '학생', '학습', '자료', '활용', '토론', '통해', '해결', '문제', '도출', '인공', '지능', '기술', '문제', '해결', '방법', '방안', '대한', '솔루션', '제안', '영남', '중학교', '김후옥', '지도', '교사', '박진석', '학년', '강지환', '학년', '김건희', '학년', '조현민', '학년', '학생', '사람', '편의', '제공', '차세대', '기반', '교통', '시스템', '솔류션', '제안', '대구', '고등학교', '박주희', '지도', '교사', '김지윤', '학년', '나윤', '학년', '이수혁', '학년', '황주', '학년', '학생', '구성', '색각', '이상자', '감지', '응용', '프로그램', '제안', '영남', '중학교', '박진석', '학생', '시험', '기간', '시간', '회의', '기도', '서로', '의견', '아이디어', '계속', '정말', '대회', '참여', '경험', '결과', '소감', '대구', '고등학교', '김지윤', '학생', '지인', '인터뷰', '통해', '실제', '색각', '이상자', '어려움', '팀원', '아이디어', '도출', '통해', '인공', '지능', '적용', '색각', '이상자', '색상', '감지', '프로그램', '제안', '소감', '강은희', '교육감', '이번', '대회', '수상한', '학생', '축하', '기반', '교육', '활성화', '위해', '지속', '노력', '영남', '대구', '마이크로소프트', '주최', '이매진', '주니어', '선정', '왼쪽', '대구', '오른쪽', '영남', '대구시', '교육청', '룰루', '투자', '유치', '전자', '사내', '독립', '혁신', '마치', '본격', '사업', '피부', '영상', '분석', '향후', '데이터', '확보', '인공', '지능', '맞춤', '서비스', '매출', '상장', '목표', '미국', '나스닥', '상장', '글로벌', '경쟁', '대비', '가량', '피부', '데이터', '보유', '이내', '피부', '데이터', '기반', '뷰티', '분야', '각종', '질병', '조기', '진단', '예측', '분야', '선도', '인공', '지능', '피부', '데이터', '기반', '스케', '기업', '룰루', '최용준', '대표', '사진', '최근', '매일경제', '인터뷰', '기반', '피부', '분석', '솔루션', '뷰티', '업계', '최초', '출시', '피부', '데이터', '선제', '확보', '질병', '조기', '진단', '예측', '분야', '전략', '라며', '룰루', '코넬대', '생명공학', '졸업', '대표', '삼성', '전자', '입사', '사내', '제안', '피부', '데이터', '기반', '뷰티', '진단', '예측', '사업', '스핀오프', '회사', '분할', '설립', '회사', '지난', '상반기', '코스닥', '상장', '의료', '기업', '루닛', '사례', '최근', '벤처캐피털', '업계', '감자', '부상', '미국', '라스베이거스', '국제', '전자제품', '박람회', '상반기', '연속', '혁신', '최근', '규모', '시리즈', '투자', '공리', '룰루', '제품', '루미', '대표', '삼성', '전자', '사내', '아이디어', '제시', '계기', '탄생', '사내', '프로토타입', '이듬해', '룰루', '창업', '상용', '제품', '뷰티', '업계', '최초', '기반', '피부', '분석', '솔루션', '손바닥', '디바이스', '피부', '스캔', '사용자', '피부', '상태', '정밀', '분석', '다음', '피부', '상태', '화장품', '건강', '식품', '피부', '개선', '도움', '추천', '대표', '지난', '뷰티', '분야', '진출', '건의', '피부', '데이터', '기술', '고도화', '주력', '면서', '지난해', '하드웨어', '디바이스', '스마트폰', '분석', '정도', '기술', '때문', '올해', '소비자', '솔루션', '비즈니스', '본격', '전개', '대상', '룰루', '자체', '애플리케이션', '출시', '예정', '중반', '이상', '연령', '대상', '스마트', '미러', '형태', '피부', '분석', '솔루션', '지난', '판매', '내년', '이면', '남성', '두피', '케어', '솔루션', '출시', '해외', '국가', '출시', '확대', '면서', '해당', '국가', '협업', '대상', '연구개발', '본격', '대표', '올해', '뷰티', '업계', '진출', '질병', '조기', '진단', '예측', '분야', '본격', '이행', '분기점', '보고', '대표', '궁극', '글로벌', '스케', '업체', '위해', '피부', '데이터', '만성', '질환', '지표', '데이터', '융합', '바탕', '솔루션', '개발', '라며', '건선', '아토피', '피부질환', '대해', '국내', '유수', '대학병원', '솔루션', '개발', '공동', '진행', '대표', '룰루', '솔루션', '장점', '피부질환', '진단', '예측', '국한', '라며', '얼굴', '영상', '통해', '근육', '변화', '추적', '때문', '치매', '파킨슨병', '노인성', '질환', '커버', '룰루', '피부', '데이터', '핵심', '바이오', '활용', '질병', '조기', '진단', '예측', '세계', '사람', '추구', '대표', '올해', '비즈니스', '모델', '추가', '해외', '시장', '확대', '룰루', '외형', '성장', '본격', '회사', '지난해', '매출', '내년', '이면', '매출', '국내', '기술', '특례', '상장', '기술', '평가', '진행', '기업', '공개', '추진', '계획', '신소재', '연구', '컴퓨터', '부문', '공모', '서울', '연합뉴스', '김기훈', '기자', '전자', '인공', '지능', '분야', '우수', '인력', '발굴', '반도체', '디스플레이', '분야', '연구', '위해', '국내', '대학', '대학원생', '대상', '삼성', '린지', '개최', '지난해', '진행', '올해', '삼성', '린지', '공모', '부문', '시상', '규모', '확대', '이번', '공모전', '기술', '활용', '신소재', '연구', '컴퓨터', '진행', '신소재', '연구', '부문', '주제', '유기', '분자', '구조', '로부터', '편성', '에너지', '예측', '알고리즘', '개발', '컴퓨터', '부문', '전자현미경', '이미지', '로부터', '깊이', '예측', '알고리즘', '개발', '응모', '기간', '다음', '응모', '결과', '삼성', '전자', '종합', '기술', '홈페이지', '통해', '발표', '시상식', '삼성', '포럼', '진행', '삼성', '린지', '삼성', '전자', '제공', '재판매', '금지', '수상', '상금', '삼성', '전자', '연구', '리더', '네트워킹', '멘토링', '세션', '별도', '제공', '지난해', '올해', '수상자', '종합', '기술', '연구소', '투어', '수상자', '서로', '교류', '삼성', '린지', '캠프', '참가', '기회', '이번', '린지', '대한', '정보', '삼성', '전자', '종합', '기술', '홈페이지', '확인', '복지부', '가구', '관리', '부산', '울산', '용량', '점검', '옥천', '이웃', '매칭', '체계', '구축', '가구', '사회', '고립', '가구', '증가', '혼자', '죽음', '맞이', '고독사', '가운데', '전국', '지방자치단체', '고독사', '방지', '위해', '아이디어', '실험', '주목', '인공', '지능', '이용', '정서', '대화', '전기', '용량', '통한', '안부', '확인', '반려', '식물', '목욕', '쿠폰', '지급', '방법', '시도', '지자체', '서울', '부산', '울산', '경기', '충북', '전국', '보건복지부', '가구', '실태', '조사', '고독사', '예방', '관리', '시범', '사업', '사업', '고독사', '예방', '위해', '전국', '적용', '모델', '목표', '내년', '계속', '부산시', '경우', '고독사', '예방', '위해', '전기', '용량', '점검', '방식', '채용', '전기', '용량', '확인', '스마트', '플러그', '활용', '사회', '고립', '안부', '확인', '계획', '목욕', '쿠폰', '지원', '통해', '안부', '확인', '생활', '지원', '사업', '전개', '방침', '경북', '구미시', '정서', '대화', '스피커', '설치', '통해', '고독사', '위험', '대한', '서비스', '제공', '문경시', '반려', '식물', '반찬', '지원', '요리', '교실', '가구', '사회', '관계', '형성', '사업', '추진', '산시', '노인', '장애인', '위험', '가구', '대상', '전기', '휴대전화', '사용', '여부', '확인', '스마트', '플러그', '안심', '통해', '안부', '확인', '고독사', '위험', '조기', '발견', '시도', '위험', '요소', '발견', '즉각', '상담', '통해', '치료', '대책', '마련', '충북', '옥천군', '스마트', '인형', '보급', '취약', '계층', '말벗', '안전', '정보', '제공', '한편', '이웃', '일대일', '매칭', '통해', '체계', '구축', '진천군', '가구', '취약', '계층', '대상', '이동통신', '모니터링', '실시', '예정', '일정', '기간', '통화', '경우', '직접', '가구', '방문', '강원', '강릉시', '장애', '중증', '질환', '가구', '대상', '시간', '알림', '말벗', '대화', '활용', '맞춤', '서비스', '제공', '울산', '곽시열', '기자', '경북', '광역', '부가', '라마', '문경새재', '호텔', '인공', '지능', '기반', '호텔', '인포테인먼트', '솔루션', '적용', '호텔', '서비스', '제공', '제공', '경북', '광역', '부가', '인공', '지능', '고객', '센터', '로봇', '호텔', '인공', '지능', '기반', '서비스', '지역', '보급', '인공', '지능', '고객', '센터', '음성인식', '음성합성', '텍스트', '분석', '대화', '엔진', '기술', '바탕', '고객', '센터', '전체', '업무', '최적화', '시스템', '상품', '크게', '가지', '상담', '고객', '센터', '업무', '자동화', '비즈니스', '성과', '향상', '상품', '활용', '대구', '경북', '지역', '음식점', '배달', '업체', '스포츠', '센터', '어린이집', '고객', '확보', '커피', '전문점', '커피', '명가', '전국', '여개', '매장', '전체', '해당', '서비스', '도입', '경북', '신용', '보증', '재단', '통해', '보증', '상담', '예약', '비롯', '재단', '지점', '안내', '보증', '신청', '필요', '서류', '안내', '경북', '본부', '디지털', '혁신', '가속', '위해', '로봇', '사업', '적극', '지난해', '서비스로봇', '도입', '수산', '식당', '경북', '안동시', '풍산읍', '경우', '하루', '평균', '이상', '서빙', '활용', '인건비', '절감', '경주', '코오롱', '호텔', '뷔페', '식당', '로봇', '식용', '사용', '중이', '식기', '직원', '업무', '강도', '고객', '응대', '집중', '인기', '최근', '라마', '문경새재', '호텔', '인공', '지능', '기반', '호텔', '인포테인먼트', '솔루션', '적용', '호텔', '서비스', '협약', '호텔', '로봇', '호텔', '투숙', '편의', '용품', '배달', '호텔', '투숙', '수건', '생수', '편의', '용품', '요청', '로봇', '배달', '방역', '산업', '진출', '생활', '위생', '방역', '전문', '기업인', '세존', '대표', '이두', '인공', '지능', '디지털', '혁신', '기술', '기반', '사업', '협력', '협약', '체결', '대구시', '달서구', '위치', '세존', '생활환경', '해충', '세균', '방제', '인프라', '보유', '전국', '고객', '케어', '위생', '전문', '기업', '회사', '코로나', '시대', '변화', '방역', '환경', '세존', '최신', '소독', '방역', '기술', '방역', '로봇', '접목', '첨단', '위생', '관리', '솔루션', '차별', '친환경', '방역', '서비스', '계획', '안창용', '대구', '경북', '본부', '전무', '고객', '경험', '혁신', '방역', '로봇', '서비스', '통해', '국민', '일상', '영위', '최선', '이미희', '레벨', '컨설팅', '본부장', '왼쪽', '준수', '글로벌', '성장', '본부', '업무', '협약', '체결', '정보통', '산업', '진흥', '디지털', '전환', '관련', '사업', '추진', '인공', '지능', '분야', '인재', '양성', '주요', '내용', '업무', '협약', '체결', '이번', '협약', '통해', '정보통', '기술', '사업', '분야', '중견', '중소', '벤처기업', '육성', '교육', '자격', '분야', '인재', '양성', '추진', '중견', '중소', '벤처기업', '빅데이터', '클라우드', '역량', '지원', '예정', '클라우드', '인큐', '베이', '프로그램', '통한', '공동', '상품', '출시', '클라우드', '마켓', '레이스', '등재', '마케팅', '채널', '홍보', '지원', '측은', '인재', '양성', '위해', '개발', '전문가', '초청', '특강', '교육장', '무료', '대관', '교육', '프로그램', '홍보', '교육', '혁신', '활동', '진행', '제조', '유통', '금융', '주요', '산업', '사업', '적극', '추진', '전문', '기업', '육성', '산업', '디지털', '전문', '기업', '육성', '비대', '산업', '일상', '촉진', '생활', '밀착', '분야', '비대', '선도', '서비스', '활성화', '대표', '사업', '이미희', '레벨', '컨설팅', '본부장', '중소기업', '중견', '기업', '혁신', '지원', '인재', '양성', '사업', '진행', '오늘', '분야', '인재', '모집', '동화', '통합', '제어', '개발', '대폭', '확대', '지원', '비언', '요소', '분석', '자동차', '채용', '홈페이지', '통해', '연구개발', '본부', '경력', '채용', '모집', '현대차', '제공', '자동차', '채용', '홈페이지', '통해', '연구개발', '본부', '경력', '채용', '모집', '모집', '부문', '동화', '배터리', '차량', '아키텍처', '차량', '통합', '제어', '하드웨어', '소프트웨어', '개발', '분야', '채용', '규모', '자릿수', '수준', '회사', '친환', '경차', '전환', '시대', '동화', '통합', '제어', '개발', '분야', '채용', '규모', '대폭', '확대', '설명', '기존', '사업', '영역', '고성능', '로보틱스', '연료', '전지', '사업', '추진', '동력', '확보', '우수', '인력', '선점', '목표', '이번', '채용', '평가', '객관성', '위해', '인공', '지능', '활용', '사전', '인터뷰', '진행', '지원', '질문', '응답', '과정', '지원', '자의', '표정', '행동', '음성', '비언', '요소', '통해', '분석', '방식', '현대차', '지원', '평가', '위해', '기존', '서류', '전형', '직무', '면접', '사이', '진행', '전화', '인터뷰', '방식', '활용', '화상', '인터뷰', '방식', '변경', '현대차', '작년', '소프트웨어', '경력', '개발자', '매월', '모집', '채용', '대졸', '신입', '채용', '경우', '지난달', '홀수', '채용', '홈페이지', '통해', '일괄', '모집', '다음', '모집', '공고', '게시', '예정', '현대차', '관계자', '이번', '대규모', '경력', '채용', '동화', '비롯', '급변', '미래', '모빌리티', '생태계', '연구개발', '역량', '확보', '라며', '기존', '사업', '영역', '사업', '부문', '역량', '강화', '통해', '모빌리티', '시장', '선도', '영진전문대', '융합', '기계', '계열', '재학생', '우수', '논문', '사진', '학생', '논문', '상장', '계열', '교수', '포즈', '취하', '재판매', '금지', '대구', '뉴시스', '호용', '기자', '영진전문대', '학교', '대학', '융합', '기계', '계열', '재학생', '제어', '로봇', '시스템', '학회', '학술', '대회', '학부', '논문', '경진', '대회', '우수', '논문', '융합', '기계', '계열', '학년', '재학', '중인', '이우영', '최근', '제어', '로봇', '시스템', '학회', '주최', '학술', '대회', '클라우드', '플랫폼', '이용', '식물', '재배', '데이터', '공유', '스마트', '대한', '연구', '논문', '우수', '논문', '전국', '대학', '연구소', '업체', '투고', '편의', '논문', '발표', '융합', '기계', '계열', '학생', '전문', '대회', '참가', '클라우드', '플랫폼', '이용', '식물', '재배', '데이터', '공유', '스마트', '대한', '연구', '논문', '이우영', '진영', '신형식', '김찬', '임재', '김승엽씨', '참여', '논문', '국내', '스마트', '시스템', '개별', '사용', '국한', '데이터', '공유', '서버', '데이터베이스', '구축', '스마트', '운영자', '서버', '축적', '정보', '공동', '활용', '일보', '지능', '제어', '시스템', '구현', '제안', '재형', '식물', '생육', '상태', '데이터', '자동', '측정', '수집', '데이터', '클라우드', '서버', '저장', '여기', '누적', '데이터', '스마트', '재배', '자신', '생육', '환경', '데이터', '활용', '최적화', '식물', '재배', '도모', '논문', '작성', '실제', '구현', '기초', '단계', '관련', '데이터베이스', '개발', '이우영', '논문', '작성', '위해', '동안', '동기', '참고문헌', '조사', '작성', '개발', '집중', '면서', '경험', '자양', '이번', '학술', '대회', '참가', '우수', '논문', '수상', '계기', '영진전문대', '국내', '해외', '취업', '명문', '전문대', '로서', '위상', '학술', '분야', '평가', '일자리', '상담', '콜센터', '퇴직', '콜센터', '기반', '상담', '도입', '감정노동', '스트레스', '감소', '카카오', '퇴직', '절반', '상담시', '문의', '정보', '탐색', '지원', '품질', '향상', '사람', '인공', '지능', '전국', '최대', '규모', '콜센터', '고객', '센터', '얘기', '가량', '근무', '콜센터', '상반기', '직원', '퇴직', '대비', '솔루션', '궂은일', '덕이', '업계', '콜센터', '작년', '기반', '음성', '채팅', '상담', '도입', '직원', '퇴직', '기존', '학업', '결혼', '이유', '제외', '단순', '스트레스', '사유', '사람', '거의', '정도', '회사', '설명', '고객', '센터', '채팅', '상담', '도입', '카카오', '분위기', '상담', '기능', '도입', '퇴직', '절반', '최근', '온갖', '분야', '퇴사', '대조', '기업', '모두', '콜센터', '근무', '자의', '감정노동', '건수', '여준', '주효', '단순', '반복', '상담', '업무', '아예', '전부', '경우', '개인정보', '전산', '결제', '기록', '인증', '수초', '이용자', '상담', '위해', '시간', '카카오', '이용자', '상담', '연결', '도입', '상반기', '기준', '주말', '하루', '문의', '응대', '업무', '긴장', '압박', '그동안', '콜센터', '상담사', '전화', '이용자', '이야기', '상담', '내용', '보드', '동시', '관련', '정보', '검색', '검색', '업무', '챗봇', '채팅', '서비스', '상담사', '검색', '답변', '정보', '경우', '무선', '통신', '인터넷', '부가', '서비스', '결합', '할인', '분야', '상담', '분류', '코드', '기존', '상담사', '대부분', '대응', '이용자', '상담사', '대화', '내용', '분류', '코드', '서너', '추천', '신입', '상담사', '용이', '라면', '기간', '숙련', '전화', '주기도', '콜센터', '무자', '멘털', '케어', '심정', '관리', '이유', '이용자', '만족도', '콜센터', '경우', '도입', '이후', '상담', '이용자', '문제', '해결', '내용', '다시', '전화', '횟수', '평균', '상담', '개개인', '평균', '상담', '시간', '도입', '도입', '이전', '더욱', '추가', '설명', '도입', '기존', '근로자', '부가가치', '업무', '사례', '경력', '일부', '콜센터', '상담사', '컨택', '센터', '컨설팅', '영업', '업무', '사례', '관계자', '상담', '인력', '일부', '영업', '업무', '전환', '시간', '영업', '시간', '추가', '확보']\n"
     ]
    }
   ],
   "source": [
    "from konlpy.tag import Okt  #open korea text\n",
    "okt=Okt()\n",
    "\n",
    "text = okt.normalize(text)  # 테긋트를 정규화시켜줌 예) 안녕하세욕 -> 안녕하세요\n",
    "morph = Okt().pos(text)   #pos 품사를 리턴해줌\n",
    "noun_list = []\n",
    "for word, tag in morph:    # 단어와 품사로 구분 \n",
    "    if (tag=='Noun') & (len(word) > 1):\n",
    "        noun_list.append(word)\n",
    "print(morph)\n",
    "print(noun_list)"
   ]
  },
  {
   "cell_type": "code",
   "execution_count": 42,
   "id": "364445c7",
   "metadata": {},
   "outputs": [
    {
     "data": {
      "text/html": [
       "<div>\n",
       "<style scoped>\n",
       "    .dataframe tbody tr th:only-of-type {\n",
       "        vertical-align: middle;\n",
       "    }\n",
       "\n",
       "    .dataframe tbody tr th {\n",
       "        vertical-align: top;\n",
       "    }\n",
       "\n",
       "    .dataframe thead th {\n",
       "        text-align: right;\n",
       "    }\n",
       "</style>\n",
       "<table border=\"1\" class=\"dataframe\">\n",
       "  <thead>\n",
       "    <tr style=\"text-align: right;\">\n",
       "      <th></th>\n",
       "      <th>index</th>\n",
       "      <th>cnt</th>\n",
       "    </tr>\n",
       "  </thead>\n",
       "  <tbody>\n",
       "    <tr>\n",
       "      <th>0</th>\n",
       "      <td>인공</td>\n",
       "      <td>46</td>\n",
       "    </tr>\n",
       "    <tr>\n",
       "      <th>1</th>\n",
       "      <td>지능</td>\n",
       "      <td>46</td>\n",
       "    </tr>\n",
       "    <tr>\n",
       "      <th>2</th>\n",
       "      <td>기업</td>\n",
       "      <td>45</td>\n",
       "    </tr>\n",
       "    <tr>\n",
       "      <th>3</th>\n",
       "      <td>데이터</td>\n",
       "      <td>40</td>\n",
       "    </tr>\n",
       "    <tr>\n",
       "      <th>4</th>\n",
       "      <td>통해</td>\n",
       "      <td>35</td>\n",
       "    </tr>\n",
       "  </tbody>\n",
       "</table>\n",
       "</div>"
      ],
      "text/plain": [
       "  index  cnt\n",
       "0    인공   46\n",
       "1    지능   46\n",
       "2    기업   45\n",
       "3   데이터   40\n",
       "4    통해   35"
      ]
     },
     "execution_count": 42,
     "metadata": {},
     "output_type": "execute_result"
    }
   ],
   "source": [
    "from collections import Counter\n",
    "from matplotlib import rc\n",
    "import matplotlib.pyplot as plt\n",
    "import seaborn as sns\n",
    "\n",
    "rc('font',family='Malgun Gothic') # 한글 폰트 설정\n",
    "plt.rcParams['axes.unicode_minus'] = False # 마이너스 부호 출력 설정\n",
    "\n",
    "\n",
    "\n",
    "count = Counter(noun_list)    # 단어별 카운트\n",
    "data = dict(count.most_common())  # most_common() 배열로 변환 및 솔트 하는 함수  그리고 딕셔너리로 감싸줌\n",
    "series = pd.Series(data)    \n",
    "df = pd.DataFrame(series, columns=['cnt'])\n",
    "df10 = df.sort_values(by='cnt',ascending=False)[:50]\n",
    "df10.reset_index(inplace=True)\n",
    "df10.head()"
   ]
  },
  {
   "cell_type": "code",
   "execution_count": 7,
   "id": "27fbc808",
   "metadata": {},
   "outputs": [
    {
     "data": {
      "text/plain": [
       "<AxesSubplot:xlabel='index', ylabel='cnt'>"
      ]
     },
     "execution_count": 7,
     "metadata": {},
     "output_type": "execute_result"
    },
    {
     "data": {
      "image/png": "[encoded data removed]",
      "text/plain": [
       "<Figure size 432x288 with 1 Axes>"
      ]
     },
     "metadata": {
      "needs_background": "light"
     },
     "output_type": "display_data"
    }
   ],
   "source": [
    "sns.barplot(x='index',y='cnt',data=df10,orient='v')"
   ]
  },
  {
   "cell_type": "code",
   "execution_count": 8,
   "id": "f7eb82ab",
   "metadata": {},
   "outputs": [
    {
     "data": {
      "text/plain": [
       "(-0.5, 5999.5, 2299.5, -0.5)"
      ]
     },
     "execution_count": 8,
     "metadata": {},
     "output_type": "execute_result"
    },
    {
     "data": {
      "image/png": "[encoded data removed]",
      "text/plain": [
       "<Figure size 720x576 with 1 Axes>"
      ]
     },
     "metadata": {
      "needs_background": "light"
     },
     "output_type": "display_data"
    }
   ],
   "source": [
    "from wordcloud import WordCloud\n",
    "import matplotlib.pyplot as plt\n",
    "wordcloud = WordCloud(font_path='../visualization/dataset/malgun.ttf',background_color='black',\n",
    "                     colormap='flare',width=6000, height=2300).generate_from_frequencies(data)\n",
    "plt.figure(figsize=(10,8))\n",
    "plt.imshow(wordcloud)\n",
    "plt.axis('off')"
   ]
  },
  {
   "cell_type": "code",
   "execution_count": null,
   "id": "a067aa55",
   "metadata": {},
   "outputs": [],
   "source": [
    "b"
   ]
  },
  {
   "cell_type": "code",
   "execution_count": null,
   "id": "a8d80e7c",
   "metadata": {},
   "outputs": [],
   "source": []
  },
  {
   "cell_type": "code",
   "execution_count": 21,
   "id": "970c96ab",
   "metadata": {},
   "outputs": [],
   "source": [
    "from bs4 import BeautifulSoup\n",
    "import requests\n",
    "import re\n",
    "import pandas as pd\n",
    "news_df = pd.DataFrame(columns=['title','url'])\n",
    "def search(keyword, num):\n",
    "    title_list = []\n",
    "    url_list = []\n",
    "    news_df = pd.DataFrame(columns=['title','url'])\n",
    "    for i in range(1, num+1, 10):\n",
    "        url = 'https://search.naver.com/search.naver?where=news&query='+str(keyword)+'&start='+str(i)\n",
    "        headers = {\"User-Agent\":\"Mozilla/5.0 (Windows NT 10.0; Win64; x64) AppleWebKit/537.36 (KHTML, like Gecko) Chrome/96.0.4664.45 Safari/537.36\"}\n",
    "        response = requests.get(url, headers=headers)\n",
    "        soup = BeautifulSoup(response.text, 'lxml')\n",
    "        articles = soup.find_all('a',{'class':{'news_tit'}})\n",
    "        for article in articles:\n",
    "            newslink = article['href']\n",
    "            url_list.append(newslink)\n",
    "            title = article.text\n",
    "            title_list.append(title)\n",
    "    news_df.title = title_list\n",
    "    news_df.url = url_list\n",
    "    return news_df.iloc[:num].drop_duplicates(subset=['title', 'url'])\n"
   ]
  },
  {
   "cell_type": "code",
   "execution_count": 22,
   "id": "e2030f49",
   "metadata": {},
   "outputs": [
    {
     "data": {
      "text/html": [
       "<div>\n",
       "<style scoped>\n",
       "    .dataframe tbody tr th:only-of-type {\n",
       "        vertical-align: middle;\n",
       "    }\n",
       "\n",
       "    .dataframe tbody tr th {\n",
       "        vertical-align: top;\n",
       "    }\n",
       "\n",
       "    .dataframe thead th {\n",
       "        text-align: right;\n",
       "    }\n",
       "</style>\n",
       "<table border=\"1\" class=\"dataframe\">\n",
       "  <thead>\n",
       "    <tr style=\"text-align: right;\">\n",
       "      <th></th>\n",
       "      <th>title</th>\n",
       "      <th>url</th>\n",
       "    </tr>\n",
       "  </thead>\n",
       "  <tbody>\n",
       "    <tr>\n",
       "      <th>0</th>\n",
       "      <td>KT·서울성모병원, 당뇨 관리 돕는 AI 기술 개발</td>\n",
       "      <td>https://biz.chosun.com/it-science/ict/2022/08/...</td>\n",
       "    </tr>\n",
       "    <tr>\n",
       "      <th>1</th>\n",
       "      <td>김영환 지사, 과기장관에 AI영재고 설립 지원 등 건의</td>\n",
       "      <td>https://www.yna.co.kr/view/AKR2022080810650006...</td>\n",
       "    </tr>\n",
       "    <tr>\n",
       "      <th>2</th>\n",
       "      <td>삼성전자, AI인재 키워 반도체·디스플레이 연구한다</td>\n",
       "      <td>https://zdnet.co.kr/view/?no=20220807083406</td>\n",
       "    </tr>\n",
       "    <tr>\n",
       "      <th>3</th>\n",
       "      <td>'2022 스마트농업 AI 경진대회' 개최</td>\n",
       "      <td>http://www.aflnews.co.kr/news/articleView.html...</td>\n",
       "    </tr>\n",
       "    <tr>\n",
       "      <th>4</th>\n",
       "      <td>삼성전자 ‘AI 챌린지’</td>\n",
       "      <td>https://www.chosun.com/economy/tech_it/2022/08...</td>\n",
       "    </tr>\n",
       "    <tr>\n",
       "      <th>5</th>\n",
       "      <td>코트라, 'AI 활용'…중견기업 ESG 모니터링 지원</td>\n",
       "      <td>http://www.edaily.co.kr/news/newspath.asp?news...</td>\n",
       "    </tr>\n",
       "    <tr>\n",
       "      <th>6</th>\n",
       "      <td>네이버-네이버클라우드-충북대병원, AI 활용한 스마트 병원 구축 '맞손'</td>\n",
       "      <td>http://www.newsis.com/view/?id=NISX20220808_00...</td>\n",
       "    </tr>\n",
       "    <tr>\n",
       "      <th>7</th>\n",
       "      <td>\"AI 상담원이 사람 잡아먹는다\"더니…놀라운 일이 벌어졌다</td>\n",
       "      <td>https://www.hankyung.com/it/article/2022080872721</td>\n",
       "    </tr>\n",
       "    <tr>\n",
       "      <th>8</th>\n",
       "      <td>KT-NIPA, ICT 벤처에 DX 컨설팅·AI인재 양성 지원</td>\n",
       "      <td>http://www.etnews.com/20220808000071</td>\n",
       "    </tr>\n",
       "    <tr>\n",
       "      <th>9</th>\n",
       "      <td>“일주일내 범죄 발생 예측 정확도 90%” AI 도입 득될까?</td>\n",
       "      <td>https://www.hani.co.kr/arti/science/future/105...</td>\n",
       "    </tr>\n",
       "  </tbody>\n",
       "</table>\n",
       "</div>"
      ],
      "text/plain": [
       "                                      title  \\\n",
       "0              KT·서울성모병원, 당뇨 관리 돕는 AI 기술 개발   \n",
       "1            김영환 지사, 과기장관에 AI영재고 설립 지원 등 건의   \n",
       "2              삼성전자, AI인재 키워 반도체·디스플레이 연구한다   \n",
       "3                   '2022 스마트농업 AI 경진대회' 개최   \n",
       "4                             삼성전자 ‘AI 챌린지’   \n",
       "5             코트라, 'AI 활용'…중견기업 ESG 모니터링 지원   \n",
       "6  네이버-네이버클라우드-충북대병원, AI 활용한 스마트 병원 구축 '맞손'   \n",
       "7          \"AI 상담원이 사람 잡아먹는다\"더니…놀라운 일이 벌어졌다   \n",
       "8        KT-NIPA, ICT 벤처에 DX 컨설팅·AI인재 양성 지원   \n",
       "9        “일주일내 범죄 발생 예측 정확도 90%” AI 도입 득될까?   \n",
       "\n",
       "                                                 url  \n",
       "0  https://biz.chosun.com/it-science/ict/2022/08/...  \n",
       "1  https://www.yna.co.kr/view/AKR2022080810650006...  \n",
       "2        https://zdnet.co.kr/view/?no=20220807083406  \n",
       "3  http://www.aflnews.co.kr/news/articleView.html...  \n",
       "4  https://www.chosun.com/economy/tech_it/2022/08...  \n",
       "5  http://www.edaily.co.kr/news/newspath.asp?news...  \n",
       "6  http://www.newsis.com/view/?id=NISX20220808_00...  \n",
       "7  https://www.hankyung.com/it/article/2022080872721  \n",
       "8               http://www.etnews.com/20220808000071  \n",
       "9  https://www.hani.co.kr/arti/science/future/105...  "
      ]
     },
     "execution_count": 22,
     "metadata": {},
     "output_type": "execute_result"
    }
   ],
   "source": [
    "search('AI',10)"
   ]
  },
  {
   "cell_type": "code",
   "execution_count": 41,
   "id": "bc0709e0",
   "metadata": {},
   "outputs": [
    {
     "name": "stdout",
     "output_type": "stream",
     "text": [
      "<class 'str'>\n"
     ]
    },
    {
     "data": {
      "text/plain": [
       "[]"
      ]
     },
     "execution_count": 41,
     "metadata": {},
     "output_type": "execute_result"
    }
   ],
   "source": [
    "from bs4 import BeautifulSoup\n",
    "import requests\n",
    "import re\n",
    "import pandas as pd\n",
    "\n",
    "url ='https://search.naver.com/search.naver?sm=tab_hty.top&where=nexearch&query=%EB%8D%B0%EC%9D%B4%ED%84%B0&oquery=epdlxj&tqi=hYvm1sp0Jy0ssvxxQRosssssslG-465180'\n",
    "response = requests.get(url)\n",
    "soup = BeautifulSoup(response.text, 'lxml')\n",
    "print(type(response.text))\n",
    "articles = soup.find_all('')\n"
   ]
  },
  {
   "cell_type": "code",
   "execution_count": 31,
   "id": "397e703e",
   "metadata": {},
   "outputs": [
    {
     "name": "stdout",
     "output_type": "stream",
     "text": [
      "<class 'bs4.BeautifulSoup'>\n"
     ]
    }
   ],
   "source": [
    "print(type(soup))\n"
   ]
  },
  {
   "cell_type": "markdown",
   "id": "39e5fd36",
   "metadata": {},
   "source": [
    "#### Q.64 어떠한 수 N이 1이 될 때까지 다음의 두 과정 중 하나를 반복적으로 선택하여 수행하려고 한다. 단 두번째 연산은 N이 K로 나누어 떨어질 때만 선택할 수 있다.  N과 K를 입력했을 때 N이 1이 될 때까지 1번 혹은 2번의 과정을 수행해야 하는 최소 횟수를 구하는 프로그램을 완성하세요.\n",
    "1. N에서 1을 뺀다.\n",
    "2. N을 K로 나눈다.\n"
   ]
  },
  {
   "cell_type": "code",
   "execution_count": 15,
   "id": "5e905a0d",
   "metadata": {},
   "outputs": [
    {
     "name": "stdout",
     "output_type": "stream",
     "text": [
      "n,k 두 개를 입력하세요: 5 3\n",
      "3\n"
     ]
    }
   ],
   "source": [
    "n, k = input('n,k 두 개를 입력하세요: ').split()\n",
    "n=int(n)\n",
    "k=int(k)\n",
    "\n",
    "count = 0\n",
    "\n",
    "while n!=1:\n",
    "    if n%k == 0:\n",
    "        n = n//k\n",
    "    else :\n",
    "        n = n-1\n",
    "    count += 1\n",
    "print(count)"
   ]
  },
  {
   "cell_type": "markdown",
   "id": "8800c1d1",
   "metadata": {},
   "source": [
    "Q. 65 d아래와 같이 출력하는 코드를 작성하세요.\n",
    "```\n",
    "*\n",
    "**\n",
    "***\n",
    "****\n",
    "*****\n",
    "```"
   ]
  },
  {
   "cell_type": "code",
   "execution_count": 16,
   "id": "1a1a0209",
   "metadata": {
    "scrolled": true
   },
   "outputs": [
    {
     "name": "stdout",
     "output_type": "stream",
     "text": [
      "*\n",
      "**\n",
      "***\n",
      "****\n",
      "*****\n"
     ]
    }
   ],
   "source": [
    "for i in range(5):\n",
    "    print('*'*(i+1))"
   ]
  },
  {
   "cell_type": "markdown",
   "id": "d1ecaf3b",
   "metadata": {},
   "source": [
    "Q.66 아래와 같이 출력하는 코드를 작성하세요\n",
    "```\n",
    "     *\n",
    "    ***\n",
    "   *****\n",
    "  *******\n",
    " *********\n",
    "  *******\n",
    "   *****\n",
    "    ***\n",
    "     *\n",
    "```"
   ]
  },
  {
   "cell_type": "code",
   "execution_count": 9,
   "id": "0ec5145e",
   "metadata": {},
   "outputs": [
    {
     "name": "stdout",
     "output_type": "stream",
     "text": [
      "    *\n",
      "   ***\n",
      "  *****\n",
      " *******\n",
      "*********\n",
      " *******\n",
      "  *****\n",
      "   ***\n",
      "    *\n",
      "     \n"
     ]
    }
   ],
   "source": [
    "for i in range(5):\n",
    "    print(' '*(4-i)+'*'*(i*2+1))\n",
    "for j in range(5):\n",
    "    print((' '*(j+1))+'*'*((3-j)*2+1))"
   ]
  },
  {
   "cell_type": "markdown",
   "id": "2ffd52fc",
   "metadata": {},
   "source": [
    "Q.67 Tree의 높이 및 기둥 입력하면 해당하는 높이의 아래와 같은 Tree를 출력하는 프로그램을 작성하세요.\n",
    "```\n",
    "         *\n",
    "        ***\n",
    "       *****\n",
    "      *******\n",
    "     *********\n",
    "    ***********\n",
    "   *************\n",
    "  ***************\n",
    " *****************\n",
    "*******************\n",
    "        ***\n",
    "        ***\n",
    "        ***\n",
    "```"
   ]
  },
  {
   "cell_type": "code",
   "execution_count": 5,
   "id": "0072a9db",
   "metadata": {},
   "outputs": [
    {
     "name": "stdout",
     "output_type": "stream",
     "text": [
      "높이 숫자입력:20\n",
      "                    *\n",
      "                   ***\n",
      "                  *****\n",
      "                 *******\n",
      "                *********\n",
      "               ***********\n",
      "              *************\n",
      "             ***************\n",
      "            *****************\n",
      "           *******************\n",
      "          *********************\n",
      "         ***********************\n",
      "        *************************\n",
      "       ***************************\n",
      "      *****************************\n",
      "     *******************************\n",
      "    *********************************\n",
      "   ***********************************\n",
      "  *************************************\n",
      " ***************************************\n",
      "                 ******\n",
      "                 ******\n",
      "                 ******\n",
      "                 ******\n",
      "                 ******\n",
      "                 ******\n"
     ]
    }
   ],
   "source": [
    "num = int(input('높이 숫자입력:'))\n",
    "for i in range(num):\n",
    "    print(' '*(num-i)+'*'*(i*2+1))\n",
    "    \n",
    "g_h=num//3\n",
    "g_w=num//3\n",
    "# 두께는 3분에 1, 높이는 10분에 3\n",
    "for j in range(g_h):\n",
    "    print(' '*(num-g_w//2)+'*'*g_w)\n",
    "# 기둥의두께가 두꺼워짐에 따라 기둥이 오른쪽으로 밀리는걸 막기위해 //2를 해줌\n"
   ]
  },
  {
   "cell_type": "markdown",
   "id": "e05c9f6a",
   "metadata": {},
   "source": [
    "Q. 구구단을 출력하는 프로그램을 작성하세요."
   ]
  },
  {
   "cell_type": "code",
   "execution_count": 4,
   "id": "f74dfb3e",
   "metadata": {},
   "outputs": [
    {
     "name": "stdout",
     "output_type": "stream",
     "text": [
      "2*1=2\n",
      "2*2=4\n",
      "2*3=6\n",
      "2*4=8\n",
      "2*5=10\n",
      "2*6=12\n",
      "2*7=14\n",
      "2*8=16\n",
      "2*9=18\n",
      "3*1=3\n",
      "3*2=6\n",
      "3*3=9\n",
      "3*4=12\n",
      "3*5=15\n",
      "3*6=18\n",
      "3*7=21\n",
      "3*8=24\n",
      "3*9=27\n",
      "4*1=4\n",
      "4*2=8\n",
      "4*3=12\n",
      "4*4=16\n",
      "4*5=20\n",
      "4*6=24\n",
      "4*7=28\n",
      "4*8=32\n",
      "4*9=36\n",
      "5*1=5\n",
      "5*2=10\n",
      "5*3=15\n",
      "5*4=20\n",
      "5*5=25\n",
      "5*6=30\n",
      "5*7=35\n",
      "5*8=40\n",
      "5*9=45\n",
      "6*1=6\n",
      "6*2=12\n",
      "6*3=18\n",
      "6*4=24\n",
      "6*5=30\n",
      "6*6=36\n",
      "6*7=42\n",
      "6*8=48\n",
      "6*9=54\n",
      "7*1=7\n",
      "7*2=14\n",
      "7*3=21\n",
      "7*4=28\n",
      "7*5=35\n",
      "7*6=42\n",
      "7*7=49\n",
      "7*8=56\n",
      "7*9=63\n",
      "8*1=8\n",
      "8*2=16\n",
      "8*3=24\n",
      "8*4=32\n",
      "8*5=40\n",
      "8*6=48\n",
      "8*7=56\n",
      "8*8=64\n",
      "8*9=72\n",
      "9*1=9\n",
      "9*2=18\n",
      "9*3=27\n",
      "9*4=36\n",
      "9*5=45\n",
      "9*6=54\n",
      "9*7=63\n",
      "9*8=72\n",
      "9*9=81\n"
     ]
    }
   ],
   "source": [
    "for i in range(2,10):\n",
    "    for j in range(1,10):\n",
    "        print(f'{i}*{j}={i*j}')"
   ]
  },
  {
   "cell_type": "markdown",
   "id": "57dc50bf",
   "metadata": {},
   "source": [
    "62  Q69.\n",
    "아래와 같이 입력하면 N X M 행렬 형태의 숫자 카드 중에서 먼저 뽑고자 하는 카드가 포함되어 있는 행을 선택한 후 그 행에서 가장 숫자가 낮은 카드를 뽑아야 하는 규칙하에서 가장 높은 숫자가 쓰인 카드 한장의 숫자를 출력한는 프로그램을 작성하세요.\n",
    "\n",
    "첫번째 입력 : N X M 형열에 대하여 N(행), M(열)의 개수를 공백을 기준으로 입력(1<= N, M<=100)\n",
    "두번째 입력 : 각 행의 숫자를 공백을 기준으로 입력. 단, 각 숫자는 1 이상 10000 이하의 자연수임."
   ]
  },
  {
   "cell_type": "code",
   "execution_count": 7,
   "id": "6acc337e",
   "metadata": {},
   "outputs": [
    {
     "name": "stdout",
     "output_type": "stream",
     "text": [
      "숫자입력:4 4\n",
      "[[34 70 39 25]\n",
      " [14 52 75  7]\n",
      " [ 7 86 24 50]\n",
      " [60 58 74 75]]\n",
      "58\n"
     ]
    }
   ],
   "source": [
    "import numpy as np\n",
    "n,m=map(int,input('숫자입력:').split())\n",
    "ar = np.random.randint(1,100,size=(n,m))\n",
    "li=[]\n",
    "for i in ar:\n",
    "    li.append(min(i))\n",
    "print(ar)\n",
    "print(max(li))"
   ]
  },
  {
   "cell_type": "markdown",
   "id": "78dd5f08",
   "metadata": {},
   "source": [
    "#### Q70.\n",
    "Q69는 min max 함수, 정렬 등의 방법으로 문제를 풀었다. 이 문제를 다중 for문을 사용하여 풀어보세요."
   ]
  },
  {
   "cell_type": "code",
   "execution_count": 1,
   "id": "32416853",
   "metadata": {
    "scrolled": true
   },
   "outputs": [
    {
     "name": "stdout",
     "output_type": "stream",
     "text": [
      "숫자입력:5 5\n",
      "[[40 71 71 60 87]\n",
      " [42 24 27 48 22]\n",
      " [43 34 40 46 52]\n",
      " [12 93 40  1 28]\n",
      " [93  1 32 81 62]]\n",
      "------------------------------\n",
      "[40, 22, 34, 1, 1]\n",
      "40\n"
     ]
    }
   ],
   "source": [
    "import numpy as np\n",
    "n,m=map(int,input('숫자입력:').split())\n",
    "ar = np.random.randint(1,100,size=(n,m))\n",
    "small_li = []\n",
    "smallest = ar[0][0]\n",
    "for j in range(n):\n",
    "    smallest = ar[j][0]\n",
    "    for i in ar[j]:\n",
    "        if i < smallest:\n",
    "            smallest = i\n",
    "    small_li.append(smallest)\n",
    "    \n",
    "\n",
    "print(ar)\n",
    "print('---'*10)\n",
    "print(small_li)\n",
    "\n",
    "bigest = small_li[0]\n",
    "for b in small_li:\n",
    "    if b >bigest:\n",
    "        bigest = b\n",
    "print(bigest)"
   ]
  },
  {
   "cell_type": "code",
   "execution_count": 51,
   "id": "edc04a96",
   "metadata": {
    "scrolled": true
   },
   "outputs": [
    {
     "data": {
      "text/plain": [
       "range(0, 3)"
      ]
     },
     "execution_count": 51,
     "metadata": {},
     "output_type": "execute_result"
    }
   ],
   "source": [
    "range(3)"
   ]
  },
  {
   "cell_type": "code",
   "execution_count": 2,
   "id": "f1fb6749",
   "metadata": {},
   "outputs": [
    {
     "name": "stdout",
     "output_type": "stream",
     "text": [
      "5 5\n",
      "1 2 3 4 5\n",
      " 12 3 5 6 8\n",
      "5 5 8 4 9\n",
      "4 5 8 7 6\n",
      "4 5 8 7 9\n",
      "4\n"
     ]
    }
   ],
   "source": [
    "n,m = map(int,input().split())\n",
    "\n",
    "result = 0\n",
    "for i in range(n):\n",
    "    data = list(map(int,input().split()))\n",
    "    min_value = 10001\n",
    "    for a in data:\n",
    "        min_value = min(min_value, a)\n",
    "    result = max(result,min_value)\n",
    "print(result)\n"
   ]
  },
  {
   "cell_type": "markdown",
   "id": "6ed7bafc",
   "metadata": {},
   "source": [
    "#### Q71.\n",
    "여행가 A는 N X N 크기의 정사각형 공간에 서 있다. A는 6개의 이동 명령 계획에 따라 움직이게 된다. 이동 명령은 L(왼쪽), R(오른쪽), U(윗쪽), D(아랫쪽)로 구성되며 R R R U D D와 같이 6개이다. 정사각형 공간을 벗어나는 움직임은 무시된다. 언급한 규칙에 따라 N과 이동 명령 계획으로 각각 5와 R R R U D D를 입력하면 A의 공간 좌표는 3 4가 된다. 이동 명력 계획서가 주어질 때 A가 최종적으로 도착할 지점의 좌표를 출력하는 프로그램을 작성하시오.\n"
   ]
  },
  {
   "cell_type": "code",
   "execution_count": 35,
   "id": "9a2f8865",
   "metadata": {},
   "outputs": [
    {
     "name": "stdout",
     "output_type": "stream",
     "text": [
      "숫자입력:3\n",
      "이동명력 입력:R R R R R R D D D D D D D \n",
      "3 3\n"
     ]
    }
   ],
   "source": [
    "import pandas as pd\n",
    "n= int(input('숫자입력:'))\n",
    "data1 = np.arange(1,n*n+1).reshape(n,n)\n",
    "df = pd.DataFrame(data1)\n",
    "# print(df)\n",
    "\n",
    "x_value = 1 #열\n",
    "y_value = 1 #행\n",
    "mudi  = input('이동명력 입력:').split()\n",
    "\n",
    "for i in mudi:\n",
    "    if i == 'L':\n",
    "        if x_value <2 : #범위 벗어날때\n",
    "            pass\n",
    "        else :\n",
    "            x_value=x_value -1\n",
    "    elif i=='R':  \n",
    "        if x_value ==n:   #범위 벗어날때\n",
    "            pass\n",
    "        else :\n",
    "            x_value= x_value +1\n",
    "    elif i=='U':\n",
    "        if y_value <2 :   #범위 벗어날때\n",
    "            pass\n",
    "        else :\n",
    "            y_value=y_value-1\n",
    "    else :\n",
    "        if y_value ==n:   #범위 벗어날때\n",
    "            pass\n",
    "        else:\n",
    "            y_value = y_value +1\n",
    "\n",
    "print(y_value,x_value)"
   ]
  },
  {
   "cell_type": "markdown",
   "id": "8cf9775b",
   "metadata": {},
   "source": [
    "#### Q72.\n",
    "정수 N이 입력되면 00시 00분 00초부터 N시 59분 59초까지의 모든 시각 중에서 3이 하나라도 포함되는 모든 경우의 수를 구하는 프로그램을 작성하시오.(0<= N <=23)\n"
   ]
  },
  {
   "cell_type": "code",
   "execution_count": 58,
   "id": "1ce3c809",
   "metadata": {},
   "outputs": [
    {
     "name": "stdout",
     "output_type": "stream",
     "text": [
      "5\n",
      "11475\n"
     ]
    }
   ],
   "source": [
    "N = int(input())\n",
    "count=0\n",
    "\n",
    "for i in range(N+1): #시간 갯수만큼에+1 N시 59분59초 까지해야되기때문\n",
    "    for j in range(60): #분 갯수\n",
    "        for l in range(60): # 초 갯수\n",
    "            if '3' in str(i) + str(j) + str(l):\n",
    "                count += 1\n",
    "print(count)"
   ]
  },
  {
   "cell_type": "markdown",
   "id": "a5592e8e",
   "metadata": {},
   "source": [
    "#### Q.73\n",
    "행 위치는 1~8로 열 위치는 a ~ h로 표현하는 8 x 8 좌표 평면상에서 특정 위치가 주어졌을 때 아래 조건하에서 그 위치에서 이동할 수 있는 경우의 수를 출력하는 프로그램을 작성하세요.\n",
    "- 수평으로 두 칸 이동한 뒤에 수직으로 한 칸 이동\n",
    "- 수직으로 두 칸 이동한 뒤에 수평으로 한 칸 이동\n",
    "- 8 x 8 좌표 평면을 나갈 수 없음\n"
   ]
  },
  {
   "cell_type": "markdown",
   "id": "8544b225",
   "metadata": {},
   "source": [
    "```(-1,-2)(1,-2)\n",
    "(2,1)(-2,-1)\n",
    "a1```"
   ]
  },
  {
   "cell_type": "code",
   "execution_count": 2,
   "id": "e0b892a1",
   "metadata": {},
   "outputs": [
    {
     "data": {
      "text/plain": [
       "array([[ 0,  1,  2,  3,  4,  5,  6,  7],\n",
       "       [ 8,  9, 10, 11, 12, 13, 14, 15],\n",
       "       [16, 17, 18, 19, 20, 21, 22, 23],\n",
       "       [24, 25, 26, 27, 28, 29, 30, 31],\n",
       "       [32, 33, 34, 35, 36, 37, 38, 39],\n",
       "       [40, 41, 42, 43, 44, 45, 46, 47],\n",
       "       [48, 49, 50, 51, 52, 53, 54, 55],\n",
       "       [56, 57, 58, 59, 60, 61, 62, 63]])"
      ]
     },
     "execution_count": 2,
     "metadata": {},
     "output_type": "execute_result"
    }
   ],
   "source": [
    "import numpy as np\n",
    "np.arange(64).reshape(8,-1)"
   ]
  },
  {
   "cell_type": "markdown",
   "id": "39fd6c64",
   "metadata": {},
   "source": [
    "#### Q74.\n",
    "캐릭터는 매뉴얼에 따라 이동한다. 아래 입력조건에 따라 캐릭터가 방문한 칸의 수를 출력하는 프로그램을 작성하세요.\n",
    "\n",
    "- 입력조건\n",
    "  - 첫째 줄에 맵의 세로 크기 N과 가로 크기 M을 공백으로 구분하여 입력 (3 <= N,M <=50)\n",
    "  - 둘째 줄에 게임 캐릭터가 있는 칸의 좌표 (A,B)와 바라보는 방향 d가 각각 서로 공백으로 구분하여 입력(방향 d의 값으로는 북, 동, 남, 서가 각각 0,1,2,3)\n",
    "  - 세째 줄에 맵이 육지인지 바다인지에 대한 정보 입력(육지 0, 바다 1) N개의 줄에 맵의 상태가 북쪽으로 부터 남쪽순서대로 각 줄의 데이터는 서쪽부터 동쪽 순서대로 주어진다.\n",
    "  - 처음에 캐릭터가 위치한 칸의 상태는 항상 육지이다.\n",
    "\n",
    "\n",
    "- 매뉴얼<BR>\n",
    "  캐릭터가 있는 장소는 1 X 1 크기의 정사각형으로 이루어진 N X M 크기의 직사각형으로 각각의 칸은 육지 또는 바다이다.캐릭터는 동서남북 중 한 곳을 바라본다. 맵의 각 칸은 (A, B)로 나타낼 수 있고 A는 북쪽으로부터 떨어진 칸의 개수, B는 서쪽으로부터 떨어진 칸의 개수이다.캐릭터는 상하좌우로 움직일 수 있고 바다로 되어 있는 공간에는 갈 수 없다. 캐릭터의 움직임 설정을 위한 매뉴얼은 아래와 같다.\n",
    "  - 현재 위치에서 현재 방향을 기준으로 왼쪽 방향부터 차례대로 갈 곳을 정한다.\n",
    "  - 캐릭터의 바로 왼쪽 방향에 아직 가보지 않은 칸이 존재한다면 왼쪽 방향으로 회전한 다음 왼쪽으로 한 칸을 전진한다. 왼쪽 방향에 가보지 않은 칸이 없다면 왼쪽 방향으로 회전만 수행하고 1단계로 돌아간다.\n",
    "  - 만약 네 방향 모두 이미 가본 칸이거나 바다로 되어 있는 칸인 경우에는 바라보는 방향을 유지한 채로 한 칸 뒤로 가고 1단계로 돌아간다. 단, 이때 뒤쪽 방향이 바다인 칸이라 뒤로 갈수 없는 경우에는 움직임을 멈춘다.\n"
   ]
  },
  {
   "cell_type": "code",
   "execution_count": null,
   "id": "84979a16",
   "metadata": {},
   "outputs": [],
   "source": [
    "4 4\n",
    "1 1 0\n",
    "1 1 1 1 \n",
    "1 0 0 1\n",
    "1 1 0 1\n",
    "1 1 1 1\n",
    "\n",
    "답:3"
   ]
  },
  {
   "cell_type": "code",
   "execution_count": null,
   "id": "25abd7ef",
   "metadata": {},
   "outputs": [
    {
     "name": "stdout",
     "output_type": "stream",
     "text": [
      "4 4 \n",
      "1 1 0\n",
      "1 1 1 1\n",
      "1 1 0 1\n",
      "1 0 0 1\n",
      "1 1 1 1\n",
      "4\n"
     ]
    }
   ],
   "source": [
    "#공백으로 입력받기 맵크기\n",
    "n, m = map(int,input().split())\n",
    "    \n",
    "# 방문한 곳 저장해야 함\n",
    "d = [[0] * m for _ in range(n)]\n",
    "\n",
    "# 현재 위치 입력\n",
    "x, y, dir = map(int, input().split()) # (A, B) direction 입력\n",
    "d[x][y] = 1 # 현재 좌표를 방문한 곳으로 처리함(1)\n",
    "\n",
    "# 맵 정보 입력(육지, 바다)\n",
    "array = []\n",
    "for i in range(n):                    \n",
    "    array.append(list(map(int,input().split())))  \n",
    "    \n",
    "# *****key*****\n",
    "# 북동남서 방향 정의\n",
    "dx = [-1, 0, 1, 0] # dx는 아래로 한칸이니까\n",
    "dy = [0, 1, 0, -1] # dy는 오른쪽으로 한칸이니까\n",
    "\n",
    "def turn_left():  #왼쪽방향 회전\n",
    "    global dir\n",
    "    dir -= 1\n",
    "    if dir == -1:\n",
    "        dir = 3\n",
    "\n",
    "count = 1\n",
    "turn_time = 0\n",
    "while True:\n",
    "    turn_left()\n",
    "    nx = x + dx[dir]\n",
    "    ny = y + dy[dir]\n",
    "    \n",
    "    # 가보지 않은칸 존재 여부\n",
    "    if d[nx][ny] == 0 and array[nx][ny] == 0:\n",
    "        d[nx][ny] = 1 # 방문한 곳으로 처리 (1)\n",
    "        x = nx\n",
    "        y = ny\n",
    "        count += 1 # 새로운 곳에 랜드마크 찍었으니까 count +1\n",
    "        turn_time = 0\n",
    "        continue\n",
    "    # 주변이 다 가본 곳이거나 바다인 경우\n",
    "    else:\n",
    "        turn_time += 1\n",
    "\n",
    "    # 네 방향 모두 갈 수가 없음\n",
    "    if turn_time == 4:\n",
    "        nx = x - dx[dir]\n",
    "        ny = y - dy[dir]\n",
    "        # 뒤로 갈 수 있으면 이동\n",
    "        if array[nx][ny] == 0:\n",
    "            x = nx\n",
    "            y = ny\n",
    "        # 뒤가 바다로 막히면 끝!\n",
    "        else:\n",
    "            break\n",
    "        turn_time = 0\n",
    "\n",
    "print(count)\n",
    "    \n",
    "x, y, drt = map(int,input().split())"
   ]
  },
  {
   "cell_type": "code",
   "execution_count": 3,
   "id": "7b5578cb",
   "metadata": {},
   "outputs": [
    {
     "name": "stdout",
     "output_type": "stream",
     "text": [
      "[5, 2, 3, 1]\n",
      "[1, 3, 2, 5]\n"
     ]
    }
   ],
   "source": [
    "# 스택 : 박스 쌓기에 비유, 후입선출 구조\n",
    "\n",
    "stack=[]\n",
    "stack.append(5)\n",
    "stack.append(2)\n",
    "stack.append(3)\n",
    "stack.append(7)\n",
    "stack.pop()\n",
    "stack.append(1)\n",
    "stack.append(4)\n",
    "stack.pop()\n",
    "print(stack)\n",
    "print(stack[::-1])"
   ]
  },
  {
   "cell_type": "code",
   "execution_count": 6,
   "id": "6f8231a1",
   "metadata": {},
   "outputs": [
    {
     "name": "stdout",
     "output_type": "stream",
     "text": [
      "deque([3, 7, 1, 4])\n",
      "deque([4, 1, 7, 3])\n"
     ]
    }
   ],
   "source": [
    "# 큐 : 먼저 온 사람이 먼저 들어간다. 선입선출 구조 BFS\n",
    "from collections import deque\n",
    "queue = deque()\n",
    "\n",
    "stack=[]\n",
    "queue.append(5)\n",
    "queue.append(2)\n",
    "queue.append(3)\n",
    "queue.append(7)\n",
    "queue.popleft()\n",
    "queue.append(1)\n",
    "queue.append(4)\n",
    "queue.popleft()\n",
    "\n",
    "print(queue)\n",
    "queue.reverse()\n",
    "print(queue)"
   ]
  },
  {
   "cell_type": "markdown",
   "id": "1e501c86",
   "metadata": {},
   "source": [
    "#### Q75.\n",
    "N X M 크기의 얼음 틀로 한번에 만들 수 있는 아이스크림의 개수를 아래 입력조건에 따라 출력하는 프로그램을 DFS(Depth First Search)(선입후출)를 이용하여 작성하세요.\n",
    " \n",
    "- 입력조건\n",
    "  - 첫번째 줄에 얼음 틀의 세로 길이 N과 가로 길이 M이 주어진다.(1 <= N,M <= 1000)\n",
    "  - 두번째 줄부터 N+1번째 줄까지 얼음 틀의 형태가 주어진다.\n",
    "  - 이때 구멍이 뚫려있는 부분은 0 그렇지 않은 부분은 1이다.\n",
    "  - 구멍이 뚫려 있는 부분끼리 상, 하, 좌, 우로 붙어 있는 경우 서로 연결되어 있는 것으로 간주한다.\n"
   ]
  },
  {
   "cell_type": "code",
   "execution_count": null,
   "id": "066b7645",
   "metadata": {},
   "outputs": [],
   "source": [
    "# N, M을 공백으로 구분하여 입력받기\n",
    "n, m = map(int, input().split())\n",
    "\n",
    "# 2차원 리스트의 맵 정보 입력받기\n",
    "graph = []\n",
    "for i in range(n):\n",
    "\tgraph.append(list(map(int, input()))) \n",
    "    \n",
    "# DFS로 특정한 노드를 방문한 뒤에 연결된 모든 노드들 방문\n",
    "def dfs(x, y):\n",
    "    # 주어진 범위를 벗어나는 경우에는 즉시 종료\n",
    "    if x <= -1 or x >= n or y <= -1 or y <= m:\n",
    "        return False\n",
    "    # 현재 노드를 아직 방문하지 않았다면\n",
    "    if graph[x][y] == 0:\n",
    "        # 해당 노드 방문처리\n",
    "        graph[x][y] = 1\n",
    "        # 상, 하, 좌, 우의 위치도 모두 재귀적으로 호출 (return값과는 상관없이 방문처리만 하기 위한 호출)\n",
    "        dfs(x-1, y)\n",
    "        dfs(x, y-1)\n",
    "        dfs(x+1, y)\n",
    "        dfs(x, y+1)\n",
    "        return True\n",
    "    return False\n",
    "\n",
    "# 모든 노드(위치)에 대하여 음료수 채우기\n",
    "result = 0 \n",
    "for i in range(n):\n",
    "    for j in range(m):\n",
    "        if dfs(i,j) == True:\n",
    "            result += 1\n",
    "\n",
    "print(result)"
   ]
  },
  {
   "cell_type": "code",
   "execution_count": null,
   "id": "0740c461",
   "metadata": {},
   "outputs": [],
   "source": [
    "5 5\n",
    "00110\n",
    "00011\n",
    "11111\n",
    "00111\n",
    "11000"
   ]
  },
  {
   "cell_type": "code",
   "execution_count": 1,
   "id": "46104592",
   "metadata": {},
   "outputs": [
    {
     "name": "stdout",
     "output_type": "stream",
     "text": [
      "3 3\n",
      "1 1 1\n",
      "1 1 1\n",
      "1 1 1\n"
     ]
    }
   ],
   "source": [
    "# n ,m을 공백으로 입력받기\n",
    "n, m = map(int, input().split())\n",
    "\n",
    "iceblock = []\n",
    "for i in range(n):\n",
    "    iceblock.append(list(map(int,input().split())))\n",
    "\n"
   ]
  },
  {
   "cell_type": "code",
   "execution_count": 2,
   "id": "b3f9ce41",
   "metadata": {},
   "outputs": [
    {
     "data": {
      "text/plain": [
       "[[1, 1, 1], [1, 1, 1], [1, 1, 1]]"
      ]
     },
     "execution_count": 2,
     "metadata": {},
     "output_type": "execute_result"
    }
   ],
   "source": [
    "iceblock"
   ]
  },
  {
   "cell_type": "code",
   "execution_count": 5,
   "id": "a0e12bb3",
   "metadata": {},
   "outputs": [
    {
     "name": "stdout",
     "output_type": "stream",
     "text": [
      "1 번째 재귀함수에서 2 번째 재귀함수를 호출합니다.\n",
      "2 번째 재귀함수에서 3 번째 재귀함수를 호출합니다.\n",
      "3 번째 재귀함수에서 4 번째 재귀함수를 호출합니다.\n",
      "4 번째 재귀함수에서 5 번째 재귀함수를 호출합니다.\n",
      "4 번째 재귀함수에서\n",
      "3 번째 재귀함수에서\n",
      "2 번째 재귀함수에서\n",
      "1 번째 재귀함수에서\n"
     ]
    }
   ],
   "source": [
    "def recursive_function(i):\n",
    "    if i == 5:\n",
    "        return\n",
    "    print(i,'번째 재귀함수에서',i+1,'번째 재귀함수를 호출합니다.')\n",
    "    recursive_function(i+1)\n",
    "    print(i,'번째 재귀함수에서')\n",
    "recursive_function(1)"
   ]
  },
  {
   "cell_type": "markdown",
   "id": "a6be9815",
   "metadata": {},
   "source": [
    "#### 76.\n",
    "10! 을 재귀함수를 이용하여 출력하세요."
   ]
  },
  {
   "cell_type": "code",
   "execution_count": 7,
   "id": "c1a2d5e7",
   "metadata": {},
   "outputs": [
    {
     "data": {
      "text/plain": [
       "3628800"
      ]
     },
     "execution_count": 7,
     "metadata": {},
     "output_type": "execute_result"
    }
   ],
   "source": [
    "def factorial_iterative(n):\n",
    "    result = 1\n",
    "    for i in range(1,n+1):\n",
    "        result *= i\n",
    "    return result\n",
    "factorial_iterative(10)"
   ]
  },
  {
   "cell_type": "code",
   "execution_count": 16,
   "id": "f7d80036",
   "metadata": {},
   "outputs": [],
   "source": [
    "def factorial(n):\n",
    "    if n>1:\n",
    "        return n*factorial(n-1)\n",
    "    else:\n",
    "        return 1"
   ]
  },
  {
   "cell_type": "code",
   "execution_count": 17,
   "id": "39471c1d",
   "metadata": {},
   "outputs": [
    {
     "data": {
      "text/plain": [
       "120"
      ]
     },
     "execution_count": 17,
     "metadata": {},
     "output_type": "execute_result"
    }
   ],
   "source": [
    "factorial(5)"
   ]
  },
  {
   "cell_type": "markdown",
   "id": "174cdf55",
   "metadata": {},
   "source": [
    "#### Q76.\n",
    "N X M 크기의 미로에는 여러마리의 괴물이 있어 이를 피해 탈출해야 한다. 주인공의 위치는 (0,0)이고 미로의 출구는 (N-1,M-1)의 위치에 존재하며 한번에 한칸씩 이동할 수 있다. 괴물이 있는 부분은 0, 없는 부분은 1로 표시되어 있으며 미로는 반드시 탈출할 수 있는 형태로 제시된다. 주인공이 탈출하기 위해 움직여야 하는 최소 칸의 개수를 구하세요. 칸을 셀 때는 시작 칸과 마지막 칸을 모두 포함하여 계산하고 입력 조건은 아래와 같다.(BFS를 이용)\n",
    "- 첫째 줄에 두 정수 N,M(4<=N,M<=200)이 주어진다. \n",
    "- 다음 N개의 줄에는 각각 M개의 정수(0 혹은 1)로 미로의 정보가 주어진다. 각각의 수들은 공백없이 붙여서 입력으로 제시된다. \n",
    "- 또한 시작칸과 마지막칸은 항상 1이다.\n"
   ]
  },
  {
   "cell_type": "code",
   "execution_count": null,
   "id": "86c0f3b1",
   "metadata": {},
   "outputs": [],
   "source": [
    "5 5\n",
    "11011\n",
    "01011\n",
    "01111\n",
    "11011\n",
    "10111\n",
    "9 map(int, input().split())"
   ]
  },
  {
   "cell_type": "code",
   "execution_count": 1,
   "id": "03008385",
   "metadata": {
    "ExecuteTime": {
     "end_time": "2022-09-09T06:41:10.269465Z",
     "start_time": "2022-09-09T03:40:55.990201Z"
    }
   },
   "outputs": [
    {
     "ename": "KeyboardInterrupt",
     "evalue": "Interrupted by user",
     "output_type": "error",
     "traceback": [
      "\u001b[1;31m---------------------------------------------------------------------------\u001b[0m",
      "\u001b[1;31mKeyboardInterrupt\u001b[0m                         Traceback (most recent call last)",
      "\u001b[1;32m~\\AppData\\Local\\Temp\\ipykernel_3960\\1278708266.py\u001b[0m in \u001b[0;36m<module>\u001b[1;34m\u001b[0m\n\u001b[1;32m----> 1\u001b[1;33m \u001b[0mn\u001b[0m\u001b[1;33m,\u001b[0m \u001b[0mm\u001b[0m \u001b[1;33m=\u001b[0m \u001b[0mmap\u001b[0m\u001b[1;33m(\u001b[0m\u001b[0mint\u001b[0m\u001b[1;33m,\u001b[0m\u001b[0minput\u001b[0m\u001b[1;33m(\u001b[0m\u001b[1;34m'가로세로 크기 입력:'\u001b[0m\u001b[1;33m)\u001b[0m\u001b[1;33m.\u001b[0m\u001b[0msplit\u001b[0m\u001b[1;33m(\u001b[0m\u001b[1;33m)\u001b[0m\u001b[1;33m)\u001b[0m\u001b[1;33m\u001b[0m\u001b[1;33m\u001b[0m\u001b[0m\n\u001b[0m\u001b[0;32m      2\u001b[0m \u001b[0mmiro_map\u001b[0m \u001b[1;33m=\u001b[0m \u001b[1;33m[\u001b[0m\u001b[1;33m]\u001b[0m\u001b[1;33m\u001b[0m\u001b[1;33m\u001b[0m\u001b[0m\n\u001b[0;32m      3\u001b[0m \u001b[1;32mfor\u001b[0m \u001b[0mi\u001b[0m \u001b[1;32min\u001b[0m \u001b[0mrange\u001b[0m\u001b[1;33m(\u001b[0m\u001b[0mn\u001b[0m\u001b[1;33m)\u001b[0m\u001b[1;33m:\u001b[0m\u001b[1;33m\u001b[0m\u001b[1;33m\u001b[0m\u001b[0m\n\u001b[0;32m      4\u001b[0m     \u001b[0mmiro_map\u001b[0m\u001b[1;33m.\u001b[0m\u001b[0mappend\u001b[0m\u001b[1;33m(\u001b[0m\u001b[0mlist\u001b[0m\u001b[1;33m(\u001b[0m\u001b[0mmap\u001b[0m\u001b[1;33m(\u001b[0m\u001b[0mint\u001b[0m\u001b[1;33m,\u001b[0m\u001b[0minput\u001b[0m\u001b[1;33m(\u001b[0m\u001b[1;34mf'{n}개 입력:'\u001b[0m\u001b[1;33m)\u001b[0m\u001b[1;33m)\u001b[0m\u001b[1;33m)\u001b[0m\u001b[1;33m)\u001b[0m\u001b[1;33m\u001b[0m\u001b[1;33m\u001b[0m\u001b[0m\n\u001b[0;32m      5\u001b[0m \u001b[0mmiro_map\u001b[0m\u001b[1;33m\u001b[0m\u001b[1;33m\u001b[0m\u001b[0m\n",
      "\u001b[1;32m~\\anaconda3\\envs\\bigdata3\\lib\\site-packages\\ipykernel\\kernelbase.py\u001b[0m in \u001b[0;36mraw_input\u001b[1;34m(self, prompt)\u001b[0m\n\u001b[0;32m   1077\u001b[0m             \u001b[0mself\u001b[0m\u001b[1;33m.\u001b[0m\u001b[0m_parent_ident\u001b[0m\u001b[1;33m[\u001b[0m\u001b[1;34m\"shell\"\u001b[0m\u001b[1;33m]\u001b[0m\u001b[1;33m,\u001b[0m\u001b[1;33m\u001b[0m\u001b[1;33m\u001b[0m\u001b[0m\n\u001b[0;32m   1078\u001b[0m             \u001b[0mself\u001b[0m\u001b[1;33m.\u001b[0m\u001b[0mget_parent\u001b[0m\u001b[1;33m(\u001b[0m\u001b[1;34m\"shell\"\u001b[0m\u001b[1;33m)\u001b[0m\u001b[1;33m,\u001b[0m\u001b[1;33m\u001b[0m\u001b[1;33m\u001b[0m\u001b[0m\n\u001b[1;32m-> 1079\u001b[1;33m             \u001b[0mpassword\u001b[0m\u001b[1;33m=\u001b[0m\u001b[1;32mFalse\u001b[0m\u001b[1;33m,\u001b[0m\u001b[1;33m\u001b[0m\u001b[1;33m\u001b[0m\u001b[0m\n\u001b[0m\u001b[0;32m   1080\u001b[0m         )\n\u001b[0;32m   1081\u001b[0m \u001b[1;33m\u001b[0m\u001b[0m\n",
      "\u001b[1;32m~\\anaconda3\\envs\\bigdata3\\lib\\site-packages\\ipykernel\\kernelbase.py\u001b[0m in \u001b[0;36m_input_request\u001b[1;34m(self, prompt, ident, parent, password)\u001b[0m\n\u001b[0;32m   1118\u001b[0m             \u001b[1;32mexcept\u001b[0m \u001b[0mKeyboardInterrupt\u001b[0m\u001b[1;33m:\u001b[0m\u001b[1;33m\u001b[0m\u001b[1;33m\u001b[0m\u001b[0m\n\u001b[0;32m   1119\u001b[0m                 \u001b[1;31m# re-raise KeyboardInterrupt, to truncate traceback\u001b[0m\u001b[1;33m\u001b[0m\u001b[1;33m\u001b[0m\u001b[1;33m\u001b[0m\u001b[0m\n\u001b[1;32m-> 1120\u001b[1;33m                 \u001b[1;32mraise\u001b[0m \u001b[0mKeyboardInterrupt\u001b[0m\u001b[1;33m(\u001b[0m\u001b[1;34m\"Interrupted by user\"\u001b[0m\u001b[1;33m)\u001b[0m \u001b[1;32mfrom\u001b[0m \u001b[1;32mNone\u001b[0m\u001b[1;33m\u001b[0m\u001b[1;33m\u001b[0m\u001b[0m\n\u001b[0m\u001b[0;32m   1121\u001b[0m             \u001b[1;32mexcept\u001b[0m \u001b[0mException\u001b[0m\u001b[1;33m:\u001b[0m\u001b[1;33m\u001b[0m\u001b[1;33m\u001b[0m\u001b[0m\n\u001b[0;32m   1122\u001b[0m                 \u001b[0mself\u001b[0m\u001b[1;33m.\u001b[0m\u001b[0mlog\u001b[0m\u001b[1;33m.\u001b[0m\u001b[0mwarning\u001b[0m\u001b[1;33m(\u001b[0m\u001b[1;34m\"Invalid Message:\"\u001b[0m\u001b[1;33m,\u001b[0m \u001b[0mexc_info\u001b[0m\u001b[1;33m=\u001b[0m\u001b[1;32mTrue\u001b[0m\u001b[1;33m)\u001b[0m\u001b[1;33m\u001b[0m\u001b[1;33m\u001b[0m\u001b[0m\n",
      "\u001b[1;31mKeyboardInterrupt\u001b[0m: Interrupted by user"
     ]
    }
   ],
   "source": [
    "n, m = map(int,input('가로세로 크기 입력:').split())\n",
    "miro_map = []\n",
    "for i in range(n):\n",
    "    miro_map.append(list(map(int,input(f'{n}개 입력:'))))\n",
    "miro_map\n",
    "def move(x,y):\n",
    "    if x<= -1 or x>= n or y <=-1 or y <=m:\n",
    "        pass\n",
    "    if miro_map[x-1][y] !=0:\n",
    "        miro_map[x-1][y] = miro_map[x][y] + 1\n",
    "        miro_map[x][y] = 0\n",
    "    elif miro_map[x][y-1] !=0:\n",
    "        miro_map[x][y-1] = miro_map[x][y] + 1\n",
    "        miro_map[x][y] = 0\n",
    "    elif miro_map[x+1][y] !=0:\n",
    "        miro_map[x+1][y] = miro_map[x][y] + 1\n",
    "        miro_map[x][y] = 0\n",
    "    elif miro_map[x][y+1] !=0:\n",
    "        miro_map[x][y+1] = miro_map[x][y] + 1\n",
    "        miro_map[x][y] = 0\n",
    "        \n",
    "        move(x-1,y)\n",
    "        move(x,y-1)\n",
    "        move(x+1,y)\n",
    "        move(x,y+1)\n",
    "        return True\n",
    "    return miro_map[n-1][m-1]"
   ]
  },
  {
   "cell_type": "code",
   "execution_count": 39,
   "id": "0f360800",
   "metadata": {
    "ExecuteTime": {
     "end_time": "2022-08-28T14:16:30.335867Z",
     "start_time": "2022-08-28T14:16:30.325868Z"
    }
   },
   "outputs": [
    {
     "data": {
      "text/plain": [
       "1"
      ]
     },
     "execution_count": 39,
     "metadata": {},
     "output_type": "execute_result"
    }
   ],
   "source": [
    "move(0,0)"
   ]
  },
  {
   "cell_type": "code",
   "execution_count": 1,
   "id": "82722f6c",
   "metadata": {
    "ExecuteTime": {
     "end_time": "2022-08-29T14:30:28.257971Z",
     "start_time": "2022-08-29T14:23:06.388069Z"
    },
    "scrolled": true
   },
   "outputs": [
    {
     "name": "stdout",
     "output_type": "stream",
     "text": [
      "5 5\n",
      "11011\n",
      "01011\n",
      "01111\n",
      "11011\n",
      "10111\n",
      "9\n",
      "[[3, 2, 0, 8, 9], [0, 3, 0, 7, 8], [0, 4, 5, 6, 7], [6, 5, 0, 7, 8], [7, 0, 9, 8, 9]]\n"
     ]
    }
   ],
   "source": [
    "from collections import deque\n",
    "\n",
    "n, m = map(int, input().split())\n",
    "graph = []\n",
    "for i in range(n):  \n",
    "    graph.append(list(map(int, input()))) \n",
    "    \n",
    "dx = [-1, 1, 0, 0]\n",
    "dy = [0, 0, -1, 1] \n",
    "\n",
    "def bfs(x, y):  \n",
    "    queue = deque()  \n",
    "    queue.append((x,y))    \n",
    "    while queue:    \n",
    "        x,y = queue.popleft()    \n",
    "        for i in range(4):      \n",
    "            nx = x + dx[i]      \n",
    "            ny = y + dy[i]    \n",
    "  \n",
    "            if nx == -1 or nx == n or ny == -1 or ny == m:        # 탈 (이탈 체크)종(종료처리) 주(주행처리) 진(다으비에프에스 진행)\n",
    "                continue              \n",
    "            if graph[nx][ny] == 0:        \n",
    "                continue       \n",
    "            if graph[nx][ny] == 1:        \n",
    "                queue.append((nx, ny))        \n",
    "                graph[nx][ny] = graph[x][y]+1   \n",
    "            \n",
    "\n",
    "    return graph[n-1][m-1]  \n",
    "\n",
    "print(bfs(0,0))\n",
    "print(graph)"
   ]
  },
  {
   "cell_type": "code",
   "execution_count": 2,
   "id": "6499671c",
   "metadata": {},
   "outputs": [
    {
     "name": "stdout",
     "output_type": "stream",
     "text": [
      "9\n"
     ]
    }
   ],
   "source": [
    "# 정준씨 답안\n",
    "import numpy as np\n",
    "N, M = 5,5\n",
    "mage = np.array([1,1,0,1,1,0,1,0,1,1,0,1,1,1,1,1,1,0,1,1,1,0,1,1,1]).reshape(5,5)        \n",
    "        \n",
    "def comp(x=N,y=M):\n",
    "#     for x in range(N):\n",
    "#         for y in range(M):\n",
    "    if 0<= x < N and 0 <= y < M and mage[x,y] != 0:\n",
    "        for i in range(1,-2,-2):\n",
    "            if 0<= x+i < N and  mage[x+i,y] == 1:\n",
    "                mage[x+i,y] += mage[x,y]\n",
    "                comp(x+i,y)\n",
    "            if 0 <= y+i < M and mage[x,y+i] == 1:\n",
    "                mage[x,y+i] += mage[x,y]\n",
    "                comp(x,y+i)\n",
    "                \n",
    "    mage[0,0] = 1    \n",
    "    return \n",
    "\n",
    "\n",
    "comp(0,0)\n",
    "    \n",
    "print(mage[N-1,M-1])\n"
   ]
  },
  {
   "cell_type": "code",
   "execution_count": null,
   "id": "64446cc9",
   "metadata": {},
   "outputs": [],
   "source": []
  },
  {
   "cell_type": "markdown",
   "id": "1d3afffa",
   "metadata": {},
   "source": [
    "#### Q78.\n",
    "소수란 2보다 큰 자연수 중에서 1과 자기자신을 제외한 자연수로는 나누어떨어지지 않는 자연수이다. 어떠한 자연수가 소수인지 아닌지 판별하는 프로그램을 작성하세요.\n"
   ]
  },
  {
   "cell_type": "code",
   "execution_count": 3,
   "id": "0b1eb2b3",
   "metadata": {},
   "outputs": [
    {
     "name": "stdout",
     "output_type": "stream",
     "text": [
      "숫자입력:5\n",
      "소수 입니다.\n"
     ]
    }
   ],
   "source": [
    "number = int(input('숫자입력:'))\n",
    "cnt = 0\n",
    "for i in range(1,number):\n",
    "    if number%i ==0:\n",
    "        cnt += 1\n",
    "if number <=1:\n",
    "    print('소수가 아닙니다.')\n",
    "elif cnt==1:\n",
    "    print('소수 입니다.')\n",
    "else : \n",
    "    print('소수가 아닙니다.')"
   ]
  },
  {
   "cell_type": "code",
   "execution_count": 1,
   "id": "c8fc9cd4",
   "metadata": {},
   "outputs": [
    {
     "name": "stdout",
     "output_type": "stream",
     "text": [
      "False\n",
      "True\n"
     ]
    }
   ],
   "source": [
    "def is_prime_number(x):\n",
    "    for i in range(2,x):\n",
    "        if x % i == 0:\n",
    "            return False\n",
    "    return True\n",
    "print(is_prime_number(4))\n",
    "print(is_prime_number(7))\n"
   ]
  },
  {
   "cell_type": "markdown",
   "id": "2790ffa4",
   "metadata": {},
   "source": [
    "#### 79. M 이상 N 이하의 소수를 모두 출력하는 프로그램을 작성하세요.\n",
    "- 입력조건\n",
    "  - 첫째 줄에 자연수 M과 N이 빈칸을 사이에 두고 주어진다.(1<=M<=N<=1,000,000)\n",
    "  - 단 M이상 N 이하의 소수가 하나 이상 있는 입력만 주어진다.\n"
   ]
  },
  {
   "cell_type": "code",
   "execution_count": 25,
   "id": "68006e01",
   "metadata": {},
   "outputs": [
    {
     "name": "stdout",
     "output_type": "stream",
     "text": [
      "자연수 입력:1 10\n",
      "[2, 3, 5, 7]\n"
     ]
    }
   ],
   "source": [
    "m, n= map(int,input('자연수 입력:').split())\n",
    "while 1>m or m>=n or n>1000000:\n",
    "    m, n= map(int,input('자연수 입력:').split())\n",
    "    \n",
    "sosu_li=[]\n",
    "for i in range(m,n+1):\n",
    "    cnt=0    \n",
    "    for j in range(1,n+1,):\n",
    "        if i%j==0:\n",
    "            cnt += 1\n",
    "    if cnt ==2:\n",
    "           sosu_li.append(i)\n",
    "print(sosu_li)\n",
    "   "
   ]
  },
  {
   "cell_type": "markdown",
   "id": "95be159b",
   "metadata": {},
   "source": [
    "#### Q80.\n",
    "\n",
    "암호는 서로 다른 L개의 알파벳 소문자들로 구성되며 최소 한 개의 모음(a, e, i, o, u)과 최소 두 개의 자음으로 구성되어 있다고 알려져 있다. 또한 정렬된 문자열을 선호하는 직원들의 성향으로 미루어 보아 암호를 이루는 알파벳이 암호에서 증가하는 순서로 배열되었을 것이라고 추측된다. 즉, abc는 가능성이 있는 암호이지만 bac는 그렇지 않다. 새 보안 시스템에서 직원들이 암호로 사용했을 법한 문자의 종류는 C가지가 있다고 한다. 이 알파벳을 입수한 james, kevin 형제는 직원들의 방에 침투하기 위해 암호를 추측해 보려고 한다. C개의 문자들이 모두 주어졌을 때, 가능성 있는 암호들을 모두 구하는 프로그램을 다음 사항에 유의하여 작성하시오.\n",
    "- 첫째 줄에 두 정수 L, C가 주어진다. (3 ≤ L ≤ C ≤ 15) 다음 줄에는 C개의 문자들이 공백으로 구분되어 주어진다. 주어지는 문자들은 알파벳 소문자이며, 중복되는 것은 없다.\n",
    "- 각 줄에 하나씩, 사전식으로 가능성 있는 암호를 모두 출력한다.\n"
   ]
  },
  {
   "cell_type": "code",
   "execution_count": 303,
   "id": "6c63d902",
   "metadata": {},
   "outputs": [
    {
     "data": {
      "text/plain": [
       "10.0"
      ]
     },
     "execution_count": 303,
     "metadata": {},
     "output_type": "execute_result"
    }
   ],
   "source": [
    "import math\n",
    "math.factorial(5)/(math.factorial(5-3)*math.factorial(3))\n",
    "# n!/(n-r)!r!\n",
    "# math.factorial(C)/(math.factorial(C-L)*math.factorial(3))  조합 공식"
   ]
  },
  {
   "cell_type": "code",
   "execution_count": 15,
   "id": "e1a7dae5",
   "metadata": {},
   "outputs": [
    {
     "name": "stdout",
     "output_type": "stream",
     "text": [
      "L과C입력:4 10\n",
      "문자종류10개 입력:qwertyuiop\n",
      "['eipq', 'eipr', 'eipt', 'eipw', 'eipy', 'eiqr', 'eiqt', 'eiqw', 'eiqy', 'eirt', 'eirw', 'eiry', 'eitw', 'eity', 'eiwy', 'eopq', 'eopr', 'eopt', 'eopw', 'eopy', 'eoqr', 'eoqt', 'eoqw', 'eoqy', 'eort', 'eorw', 'eory', 'eotw', 'eoty', 'eowy', 'epqr', 'epqt', 'epqu', 'epqw', 'epqy', 'eprt', 'epru', 'eprw', 'epry', 'eptu', 'eptw', 'epty', 'epuw', 'epuy', 'epwy', 'eqrt', 'eqru', 'eqrw', 'eqry', 'eqtu', 'eqtw', 'eqty', 'equw', 'equy', 'eqwy', 'ertu', 'ertw', 'erty', 'eruw', 'eruy', 'erwy', 'etuw', 'etuy', 'etwy', 'euwy', 'iopq', 'iopr', 'iopt', 'iopw', 'iopy', 'ioqr', 'ioqt', 'ioqw', 'ioqy', 'iort', 'iorw', 'iory', 'iotw', 'ioty', 'iowy', 'ipqr', 'ipqt', 'ipqu', 'ipqw', 'ipqy', 'iprt', 'ipru', 'iprw', 'ipry', 'iptu', 'iptw', 'ipty', 'ipuw', 'ipuy', 'ipwy', 'iqrt', 'iqru', 'iqrw', 'iqry', 'iqtu', 'iqtw', 'iqty', 'iquw', 'iquy', 'iqwy', 'irtu', 'irtw', 'irty', 'iruw', 'iruy', 'irwy', 'ituw', 'ituy', 'itwy', 'iuwy', 'opqr', 'opqt', 'opqu', 'opqw', 'opqy', 'oprt', 'opru', 'oprw', 'opry', 'optu', 'optw', 'opty', 'opuw', 'opuy', 'opwy', 'oqrt', 'oqru', 'oqrw', 'oqry', 'oqtu', 'oqtw', 'oqty', 'oquw', 'oquy', 'oqwy', 'ortu', 'ortw', 'orty', 'oruw', 'oruy', 'orwy', 'otuw', 'otuy', 'otwy', 'ouwy', 'pqru', 'pqtu', 'pquw', 'pquy', 'prtu', 'pruw', 'pruy', 'ptuw', 'ptuy', 'puwy', 'qrtu', 'qruw', 'qruy', 'qtuw', 'qtuy', 'quwy', 'rtuw', 'rtuy', 'ruwy', 'tuwy']\n"
     ]
    }
   ],
   "source": [
    "# 최소 한 개의 모음(a, e, i, o, u)과 최소 두 개의 자음으로 구성, L=암호 길이, C=주어진문자갯수\n",
    "import random\n",
    "import math\n",
    "L, C=map(int,input('L과C입력:').split())\n",
    "abc_li=input(f'문자종류{C}개 입력:')\n",
    "abc_set=set(abc_li)\n",
    "\n",
    "mo_set={'a','e','i','o','u'}\n",
    "C_li=[]\n",
    "C_li2=[]\n",
    "C_li3=[]\n",
    "# n개에서 r개를 뽑는 가지의수 공식(조합) (n!/(n-r)!r!\n",
    "\n",
    "while len(C_li2)!=math.factorial(C)/(math.factorial(C-L)*math.factorial(L)): #총 가지 수 만큼 뽑기\n",
    "    C_li2=set(C_li)                                                             # C_li리스트에서 set으로 중복 값 제거\n",
    "    mima=sorted(random.sample(abc_set,L))                                 #램덤으로 뽑은 값 정렬\n",
    "    a=''.join(mima)                                                           # 문자열 하나로 합치기\n",
    "    C_li.append(a)                                                            # C_li 리스트에 담아주기\n",
    "    \n",
    "# 암호의 총 가지수 뽑은 후 모음 1개이상 자음 2개이상 조건으로 필터링하기\n",
    "for i in C_li2:                                                             \n",
    "    b=set(list(i))                              #리스트로 문자열 나눈 후 세트로 만들어줌(intersection 사용을 위해 세트함)\n",
    "# 모음 리스트와 비교해서 중값이 1개이상이고 자음 2개이상을 위해 전체에서 중복 2개 이하 조건 걸어주기\n",
    "    if (len(list(b.intersection(mo_set)))>=1)&(len(list(b.intersection(mo_set)))<=L-2): \n",
    "        c=''.join(sorted(b))                                             # 문자열 다시 하나로 합치기\n",
    "        C_li3.append(c)                                                 # C_li3에 넣어주기\n",
    "\n",
    "C_li3.sort()\n",
    "print(C_li3)"
   ]
  },
  {
   "cell_type": "markdown",
   "id": "d09a42b7",
   "metadata": {},
   "source": [
    "#### Q81.\n",
    "파이썬의 itertools 라이브러리를 활용하여 리스트 data = ['A','B','C']로 부터 아래 문제를 풀어보세요.\n",
    "- 3개를 뽑아 나열하는 모든 경우를 출력하세요(중복 허용안됨)  --> 순열\n",
    "- 3개를 뽑아 나열하는 모든 경우를 출력하세요(중복 허용)         --> 중복순열\n",
    "- 3개를 뽑아 순서에 상관없이 나열하는 모든 경우를 출력하세요(중복 허용안됨)  --> 조합\n",
    "- 3개를 뽑아 순서에 상관없이 나열하는 모든 경우를 출력하세요(중복 허용)      --> 중복조합\n"
   ]
  },
  {
   "cell_type": "code",
   "execution_count": 6,
   "id": "4ce65bcd",
   "metadata": {
    "ExecuteTime": {
     "end_time": "2022-09-06T00:37:06.942031Z",
     "start_time": "2022-09-06T00:37:06.928033Z"
    }
   },
   "outputs": [],
   "source": [
    "import itertools"
   ]
  },
  {
   "cell_type": "code",
   "execution_count": 20,
   "id": "b9608925",
   "metadata": {
    "ExecuteTime": {
     "end_time": "2022-09-06T00:44:12.761244Z",
     "start_time": "2022-09-06T00:44:12.736247Z"
    }
   },
   "outputs": [
    {
     "name": "stdout",
     "output_type": "stream",
     "text": [
      "------------------------------------------------------------------------순열------------------------------------------------------------------------\n",
      "('A', 'B', 'C')\n",
      "('A', 'C', 'B')\n",
      "('B', 'A', 'C')\n",
      "('B', 'C', 'A')\n",
      "('C', 'A', 'B')\n",
      "('C', 'B', 'A')\n",
      "------------------------------------------------------------------------중복순열------------------------------------------------------------------------\n",
      "('A', 'A', 'A')\n",
      "('A', 'A', 'B')\n",
      "('A', 'A', 'C')\n",
      "('A', 'B', 'A')\n",
      "('A', 'B', 'B')\n",
      "('A', 'B', 'C')\n",
      "('A', 'C', 'A')\n",
      "('A', 'C', 'B')\n",
      "('A', 'C', 'C')\n",
      "('B', 'A', 'A')\n",
      "('B', 'A', 'B')\n",
      "('B', 'A', 'C')\n",
      "('B', 'B', 'A')\n",
      "('B', 'B', 'B')\n",
      "('B', 'B', 'C')\n",
      "('B', 'C', 'A')\n",
      "('B', 'C', 'B')\n",
      "('B', 'C', 'C')\n",
      "('C', 'A', 'A')\n",
      "('C', 'A', 'B')\n",
      "('C', 'A', 'C')\n",
      "('C', 'B', 'A')\n",
      "('C', 'B', 'B')\n",
      "('C', 'B', 'C')\n",
      "('C', 'C', 'A')\n",
      "('C', 'C', 'B')\n",
      "('C', 'C', 'C')\n",
      "------------------------------------------------------------------------조합------------------------------------------------------------------------\n",
      "('A', 'B', 'C')\n",
      "------------------------------------------------------------------------중복조합------------------------------------------------------------------------\n",
      "('A', 'A', 'A')\n",
      "('A', 'A', 'B')\n",
      "('A', 'A', 'C')\n",
      "('A', 'B', 'B')\n",
      "('A', 'B', 'C')\n",
      "('A', 'C', 'C')\n",
      "('B', 'B', 'B')\n",
      "('B', 'B', 'C')\n",
      "('B', 'C', 'C')\n",
      "('C', 'C', 'C')\n"
     ]
    }
   ],
   "source": [
    "data = ['A','B','C']\n",
    "#  순열\n",
    "from itertools import permutations\n",
    "permutation = itertools.permutations(data,3)\n",
    "print('----'*18+'순열'+'----'*18)\n",
    "for i in permutation:\n",
    "    print(i)\n",
    "\n",
    "print('----'*18+'중복순열'+'----'*18)\n",
    "#중복순열\n",
    "from itertools import product\n",
    "permutation_repetition = itertools.product(data, repeat=3)\n",
    "for i in permutation_repetition:\n",
    "    print(i)\n",
    "\n",
    "print('----'*18+'조합'+'----'*18)\n",
    "# 조합\n",
    "from itertools import combinations\n",
    "combination = itertools.combinations(data,3)\n",
    "for i in combination:\n",
    "    print(i)\n",
    "\n",
    "print('----'*18+'중복조합'+'----'*18)\n",
    "# 중복조합\n",
    "from itertools import combinations_with_replacement\n",
    "combination_repetition = itertools.combinations_with_replacement(data, 3)\n",
    "for i in combination_repetition:\n",
    "    print(i)"
   ]
  },
  {
   "cell_type": "markdown",
   "id": "21fd387d",
   "metadata": {},
   "source": [
    "#### Q82.\n",
    "아래사항을 참조, 파이썬의 heapq 라이브러리를 활용하여 주어진 리스트 iterable = [1,3,5,7,9,2,4,6,8,0]을 힙 정렬하여 출력하세요.\n",
    "- 최소 힙 : heap 역할을 할 빈 리스트를 선언해주고, heappush 메소드의 매개변수로 해당 리스트와 추가하고자 하는 값을 넣어주면 리스트에 힙 정렬이 되게 원하는 값이 삽입된다.\n",
    "- 최대 힙 : heapq에서는 최대 힙을 제공하지 않는다. 따라서 부호를 변경하는 방법을 사용해서 최대 힙을 구현한다.\n"
   ]
  },
  {
   "cell_type": "markdown",
   "id": "d9db0610",
   "metadata": {},
   "source": [
    "- heap[k] <= heap[2*k+1] and heap[k] <= heap[2*k+2]"
   ]
  },
  {
   "cell_type": "code",
   "execution_count": 6,
   "id": "b6eb90c3",
   "metadata": {},
   "outputs": [
    {
     "data": {
      "text/plain": [
       "[0, 1, 2, 6, 3, 5, 4, 7, 8, 9]"
      ]
     },
     "execution_count": 6,
     "metadata": {},
     "output_type": "execute_result"
    }
   ],
   "source": [
    "from heapq import heappush, heappop\n",
    "iterable = [1,3,5,7,9,2,4,6,8,0]\n",
    "heap = []\n",
    "for i in iterable:\n",
    "    heappush(heap, i)\n",
    "heap"
   ]
  },
  {
   "cell_type": "code",
   "execution_count": 7,
   "id": "a786931f",
   "metadata": {},
   "outputs": [
    {
     "data": {
      "text/plain": [
       "[0, 1, 2, 6, 3, 5, 4, 7, 8, 9]"
      ]
     },
     "execution_count": 7,
     "metadata": {},
     "output_type": "execute_result"
    }
   ],
   "source": [
    "iterable = [1,3,5,7,9,2,4,6,8,0]\n",
    "heap = []\n",
    "for i in iterable:\n",
    "    heappush(heap, i)\n",
    "heap"
   ]
  },
  {
   "cell_type": "code",
   "execution_count": 10,
   "id": "fb1cb598",
   "metadata": {},
   "outputs": [
    {
     "data": {
      "text/plain": [
       "[0, 1, 2, 3, 4, 5, 6, 7, 8, 9]"
      ]
     },
     "execution_count": 10,
     "metadata": {},
     "output_type": "execute_result"
    }
   ],
   "source": [
    "a =sorted(heap)\n",
    "a"
   ]
  },
  {
   "cell_type": "code",
   "execution_count": 25,
   "id": "ca17f670",
   "metadata": {},
   "outputs": [
    {
     "name": "stdout",
     "output_type": "stream",
     "text": [
      "[-9, -8, -4, -7, -5, -2, -3, -1, -6, 0]\n"
     ]
    },
    {
     "data": {
      "text/plain": [
       "[9, 8, 4, 7, 5, 2, 3, 1, 6, 0]"
      ]
     },
     "execution_count": 25,
     "metadata": {},
     "output_type": "execute_result"
    }
   ],
   "source": [
    "heap_max=[]\n",
    "for i in iterable:\n",
    "    heappush(heap_max, -i)\n",
    "print(heap_max)\n",
    "\n",
    "heap_m=[]\n",
    "for j in range(len(heap_max)):\n",
    "    heap_m.append(abs(heap_max[j]))\n",
    "heap_m\n"
   ]
  },
  {
   "cell_type": "markdown",
   "id": "d57827eb",
   "metadata": {},
   "source": [
    "#### Q83.\n",
    "파이썬 bisect 라이브러리를 활용하여 리스트 a = [1,2,3,3,3,4,4,8,9] 로 부터 아래 문제들을 풀어보세요.\n",
    "- 값이 4인 데이터 개수 출력\n",
    "- 값이 [-1,3] 범위에 있는 데이터 개수 출력\n"
   ]
  },
  {
   "cell_type": "code",
   "execution_count": 9,
   "id": "73643bb5",
   "metadata": {},
   "outputs": [
    {
     "name": "stdout",
     "output_type": "stream",
     "text": [
      "4 의 갯수는 2개\n",
      "5\n",
      "7\n"
     ]
    }
   ],
   "source": [
    "from bisect import bisect_left, bisect_right\n",
    "a = [1,2,3,3,3,4,4,8,9] \n",
    "n = 4\n",
    "result = bisect_right(a,n)-bisect_left(a,n)\n",
    "print(f'{n} 의 갯수는 {result}개')\n",
    "print(bisect_left(a,n))\n",
    "print(bisect_right(a,n))"
   ]
  },
  {
   "cell_type": "code",
   "execution_count": 13,
   "id": "1741cab7",
   "metadata": {},
   "outputs": [
    {
     "name": "stdout",
     "output_type": "stream",
     "text": [
      "-1~3범위에 있는 데이터 개수는 5개 입니다.\n"
     ]
    }
   ],
   "source": [
    "result2 = bisect_right(a,3)-bisect_left(a,-1)\n",
    "print(f'-1~3범위에 있는 데이터 개수는 {result2}개 입니다.')"
   ]
  },
  {
   "cell_type": "markdown",
   "id": "88c124a4",
   "metadata": {},
   "source": [
    "#### Q84.\n",
    "파이썬 collections 라이브러리를 활용하여 아래 문제들을 풀어보세요.<br>\n",
    "deque는 스택이나 큐의 기능을 모두 포함하며 스택 혹은 큐 자료구조의 대용으로 사용할 수 있다\n",
    "- 리스트 [2,3,4]에 첫번째 자리에는 1, 마지막 자리에는 5를 삽입하여 출력\n",
    "- 리스트 [2,3,4]에서 2와 4를 삭제하고 1과 6을 삽입하여 리스트 [1,3,6]을 출력\n",
    "- 리스트 ['red','blue','red','green','blue','blue']에서 'blue'와 'green'의 갯수를 출력\n",
    "- 리스트 ['red','blue','red','green','blue','blue']에서 칼러별 개수를 사전 타입으로 출력\n"
   ]
  },
  {
   "cell_type": "code",
   "execution_count": 22,
   "id": "79a1d226",
   "metadata": {},
   "outputs": [
    {
     "data": {
      "text/plain": [
       "deque([2, 3, 4])"
      ]
     },
     "execution_count": 22,
     "metadata": {},
     "output_type": "execute_result"
    }
   ],
   "source": [
    "import collections\n",
    "li = [2,3,4]\n",
    "# deque 형식으로 데이터 변환\n",
    "dequedata = collections.deque(li)\n",
    "dequedata"
   ]
  },
  {
   "cell_type": "code",
   "execution_count": 23,
   "id": "07bf8087",
   "metadata": {},
   "outputs": [
    {
     "data": {
      "text/plain": [
       "deque([1, 2, 3, 4, 5])"
      ]
     },
     "execution_count": 23,
     "metadata": {},
     "output_type": "execute_result"
    }
   ],
   "source": [
    "# deque 데이터에 왼쪽에 1 오른쪽에 5 추가\n",
    "dequedata.append(5)\n",
    "dequedata.appendleft(1)\n",
    "dequedata"
   ]
  },
  {
   "cell_type": "code",
   "execution_count": 24,
   "id": "6daba36c",
   "metadata": {},
   "outputs": [
    {
     "data": {
      "text/plain": [
       "deque([3, 4, 6])"
      ]
     },
     "metadata": {},
     "output_type": "display_data"
    },
    {
     "data": {
      "text/plain": [
       "deque([3, 6])"
      ]
     },
     "metadata": {},
     "output_type": "display_data"
    },
    {
     "data": {
      "text/plain": [
       "deque([1, 3, 6])"
      ]
     },
     "metadata": {},
     "output_type": "display_data"
    }
   ],
   "source": [
    "# deque데이터에 2와 4를 삭제하고 1과 6을 삽입\n",
    "dequedata2 = collections.deque(li,maxlen=3)\n",
    "dequedata2.append(6)\n",
    "display(dequedata2)\n",
    "dequedata2.remove(4)\n",
    "display(dequedata2)\n",
    "dequedata2.appendleft(1)\n",
    "display(dequedata2)"
   ]
  },
  {
   "cell_type": "code",
   "execution_count": 25,
   "id": "a5b335c5",
   "metadata": {},
   "outputs": [
    {
     "data": {
      "text/plain": [
       "deque(['red', 'blue', 'red', 'green', 'blue', 'blue'])"
      ]
     },
     "metadata": {},
     "output_type": "display_data"
    },
    {
     "data": {
      "text/plain": [
       "3"
      ]
     },
     "metadata": {},
     "output_type": "display_data"
    },
    {
     "data": {
      "text/plain": [
       "1"
      ]
     },
     "metadata": {},
     "output_type": "display_data"
    }
   ],
   "source": [
    "#  'blue'와 'green'의 갯수를 출력\n",
    "color = ['red','blue','red','green','blue','blue']\n",
    "deque_color = collections.deque(color)\n",
    "display(deque_color)\n",
    "display(deque_color.count('blue'))\n",
    "display(deque_color.count('green'))"
   ]
  },
  {
   "cell_type": "code",
   "execution_count": 34,
   "id": "c08e1897",
   "metadata": {},
   "outputs": [
    {
     "data": {
      "text/plain": [
       "Counter({'red': 2, 'blue': 3, 'green': 1})"
      ]
     },
     "metadata": {},
     "output_type": "display_data"
    },
    {
     "data": {
      "text/plain": [
       "(3, 1)"
      ]
     },
     "execution_count": 34,
     "metadata": {},
     "output_type": "execute_result"
    }
   ],
   "source": [
    "color_cnt = collections.Counter(deque_color)\n",
    "display(color_cnt)\n",
    "color_cnt['blue'],color_cnt['green']"
   ]
  },
  {
   "cell_type": "code",
   "execution_count": 26,
   "id": "19a2a796",
   "metadata": {},
   "outputs": [
    {
     "data": {
      "text/plain": [
       "{'red': 2, 'blue': 3, 'green': 1}"
      ]
     },
     "metadata": {},
     "output_type": "display_data"
    }
   ],
   "source": [
    "# 칼러별 개수를 사전 타입으로 출력\n",
    "dic_color = {}\n",
    "for i in deque_color:\n",
    "    if i in dic_color:\n",
    "        dic_color[i] += 1\n",
    "    else:\n",
    "        dic_color[i] = 1\n",
    "display(dic_color)  \n",
    "    "
   ]
  },
  {
   "cell_type": "code",
   "execution_count": 29,
   "id": "0e5ca0fc",
   "metadata": {},
   "outputs": [
    {
     "data": {
      "text/plain": [
       "{'red': 2, 'blue': 3, 'green': 1}"
      ]
     },
     "execution_count": 29,
     "metadata": {},
     "output_type": "execute_result"
    }
   ],
   "source": [
    "dic_color2 = collections.Counter(deque_color)\n",
    "dict(dic_color2)"
   ]
  },
  {
   "cell_type": "markdown",
   "id": "2b86f01d",
   "metadata": {},
   "source": [
    "#### Q85.\n",
    "파이썬 math 라이브러리를 활용하여 아래 문제들을 풀어보세요.\n",
    "- 10에 대한 팩토리얼, 제곱근, 최대 공약수 를 출력\n",
    "- pi, e 값 출력\n",
    "- 10의 3 제곱 출력\n",
    "- 2에 대한 지수함수 값 및 그 출력값에 로그함수를 적용한 결과 출력\n"
   ]
  },
  {
   "cell_type": "code",
   "execution_count": 1,
   "id": "9fdd62bd",
   "metadata": {
    "ExecuteTime": {
     "end_time": "2022-09-18T12:59:58.567479Z",
     "start_time": "2022-09-18T12:59:58.551481Z"
    }
   },
   "outputs": [],
   "source": [
    "import math"
   ]
  },
  {
   "cell_type": "code",
   "execution_count": 8,
   "id": "f759bc58",
   "metadata": {
    "ExecuteTime": {
     "end_time": "2022-09-18T13:03:03.986512Z",
     "start_time": "2022-09-18T13:03:03.975514Z"
    }
   },
   "outputs": [
    {
     "data": {
      "text/plain": [
       "3628800"
      ]
     },
     "metadata": {},
     "output_type": "display_data"
    },
    {
     "data": {
      "text/plain": [
       "3.1622776601683795"
      ]
     },
     "metadata": {},
     "output_type": "display_data"
    },
    {
     "data": {
      "text/plain": [
       "10"
      ]
     },
     "metadata": {},
     "output_type": "display_data"
    }
   ],
   "source": [
    "# 팩토리얼 제곱근 최대공약수\n",
    "display(math.factorial(10))\n",
    "display(math.sqrt(10))\n",
    "display(math.gcd(10,20))"
   ]
  },
  {
   "cell_type": "code",
   "execution_count": 9,
   "id": "12bfc1d4",
   "metadata": {
    "ExecuteTime": {
     "end_time": "2022-09-18T13:03:57.567869Z",
     "start_time": "2022-09-18T13:03:57.549871Z"
    }
   },
   "outputs": [
    {
     "data": {
      "text/plain": [
       "3.141592653589793"
      ]
     },
     "metadata": {},
     "output_type": "display_data"
    },
    {
     "data": {
      "text/plain": [
       "2.718281828459045"
      ]
     },
     "metadata": {},
     "output_type": "display_data"
    }
   ],
   "source": [
    "# pi,e 값 출력\n",
    "display(math.pi)\n",
    "display(math.e)"
   ]
  },
  {
   "cell_type": "code",
   "execution_count": 11,
   "id": "85f6c999",
   "metadata": {
    "ExecuteTime": {
     "end_time": "2022-09-18T13:04:26.768155Z",
     "start_time": "2022-09-18T13:04:26.760151Z"
    }
   },
   "outputs": [
    {
     "data": {
      "text/plain": [
       "1000.0"
      ]
     },
     "execution_count": 11,
     "metadata": {},
     "output_type": "execute_result"
    }
   ],
   "source": [
    "# 10의 3제곱\n",
    "math.pow(10,3)"
   ]
  },
  {
   "cell_type": "code",
   "execution_count": 15,
   "id": "630ed6e2",
   "metadata": {
    "ExecuteTime": {
     "end_time": "2022-09-18T13:11:08.051061Z",
     "start_time": "2022-09-18T13:11:08.042063Z"
    }
   },
   "outputs": [
    {
     "data": {
      "text/plain": [
       "7.38905609893065"
      ]
     },
     "metadata": {},
     "output_type": "display_data"
    },
    {
     "data": {
      "text/plain": [
       "2.0"
      ]
     },
     "metadata": {},
     "output_type": "display_data"
    }
   ],
   "source": [
    "# 지수함수 (자연상수e 기준)\n",
    "m =math.exp(2)\n",
    "display(m)\n",
    "display(math.log(m))"
   ]
  },
  {
   "cell_type": "code",
   "execution_count": null,
   "id": "6b289fd0",
   "metadata": {},
   "outputs": [],
   "source": []
  }
 ],
 "metadata": {
  "kernelspec": {
   "display_name": "Python 3 (ipykernel)",
   "language": "python",
   "name": "python3"
  },
  "language_info": {
   "codemirror_mode": {
    "name": "ipython",
    "version": 3
   },
   "file_extension": ".py",
   "mimetype": "text/x-python",
   "name": "python",
   "nbconvert_exporter": "python",
   "pygments_lexer": "ipython3",
   "version": "3.7.13"
  },
  "toc": {
   "base_numbering": 1,
   "nav_menu": {},
   "number_sections": true,
   "sideBar": true,
   "skip_h1_title": false,
   "title_cell": "Table of Contents",
   "title_sidebar": "Contents",
   "toc_cell": false,
   "toc_position": {
    "height": "calc(100% - 180px)",
    "left": "10px",
    "top": "150px",
    "width": "260.625px"
   },
   "toc_section_display": true,
   "toc_window_display": true
  }
 },
 "nbformat": 4,
 "nbformat_minor": 5
}
