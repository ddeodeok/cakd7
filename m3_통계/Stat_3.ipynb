{
 "cells": [
  {
   "cell_type": "markdown",
   "id": "87acad09",
   "metadata": {},
   "source": [
    "## 통계적 추정"
   ]
  },
  {
   "cell_type": "code",
   "execution_count": 2,
   "id": "69a2770e",
   "metadata": {
    "ExecuteTime": {
     "end_time": "2022-09-06T03:52:01.096531Z",
     "start_time": "2022-09-06T03:51:56.892234Z"
    }
   },
   "outputs": [
    {
     "data": {
      "text/plain": [
       "'%.3f'"
      ]
     },
     "execution_count": 2,
     "metadata": {},
     "output_type": "execute_result"
    }
   ],
   "source": [
    "import numpy as np\n",
    "import pandas as pd\n",
    "import matplotlib.pyplot as plt\n",
    "from scipy import stats\n",
    "\n",
    "%precision 3"
   ]
  },
  {
   "cell_type": "code",
   "execution_count": 3,
   "id": "cb937757",
   "metadata": {
    "ExecuteTime": {
     "end_time": "2022-09-06T03:52:01.141676Z",
     "start_time": "2022-09-06T03:52:01.098534Z"
    }
   },
   "outputs": [
    {
     "name": "stdout",
     "output_type": "stream",
     "text": [
      "   score\n",
      "0     76\n",
      "1     55\n",
      "2     80\n",
      "3     80\n",
      "4     74\n"
     ]
    },
    {
     "data": {
      "text/plain": [
       "(400, 1)"
      ]
     },
     "execution_count": 3,
     "metadata": {},
     "output_type": "execute_result"
    }
   ],
   "source": [
    "df = pd.read_csv('./ch4_scores400.csv')\n",
    "print(df.head())\n",
    "scores = np.array(df['score'])\n",
    "df.shape"
   ]
  },
  {
   "cell_type": "code",
   "execution_count": 4,
   "id": "422dd72e",
   "metadata": {
    "ExecuteTime": {
     "end_time": "2022-09-06T03:52:01.156678Z",
     "start_time": "2022-09-06T03:52:01.143677Z"
    }
   },
   "outputs": [
    {
     "data": {
      "text/plain": [
       "(69.53, 206.6691)"
      ]
     },
     "execution_count": 4,
     "metadata": {},
     "output_type": "execute_result"
    }
   ],
   "source": [
    "# 모평균, 모분산\n",
    "p_mean = np.mean(scores)\n",
    "p_var = np.var(scores)\n",
    "p_mean, p_var"
   ]
  },
  {
   "cell_type": "code",
   "execution_count": 5,
   "id": "639cf780",
   "metadata": {
    "ExecuteTime": {
     "end_time": "2022-09-06T03:52:01.456548Z",
     "start_time": "2022-09-06T03:52:01.158679Z"
    }
   },
   "outputs": [
    {
     "data": {
      "image/png": "[encoded data removed]",
      "text/plain": [
       "<Figure size 720x432 with 1 Axes>"
      ]
     },
     "metadata": {
      "needs_background": "light"
     },
     "output_type": "display_data"
    }
   ],
   "source": [
    "fig = plt.figure(figsize=(10,6))\n",
    "ax = fig.add_subplot(111)\n",
    "\n",
    "xs = np.arange(101)\n",
    "rv = stats.norm(p_mean, np.sqrt(p_var))\n",
    "ax.plot(xs, rv.pdf(xs), color='k')\n",
    "ax.hist(scores, bins=100, range=(0,100), density=True)\n",
    "\n",
    "plt.show()"
   ]
  },
  {
   "cell_type": "code",
   "execution_count": 6,
   "id": "781bc2ca",
   "metadata": {
    "ExecuteTime": {
     "end_time": "2022-09-06T03:52:01.471562Z",
     "start_time": "2022-09-06T03:52:01.457555Z"
    }
   },
   "outputs": [
    {
     "data": {
      "text/plain": [
       "array([49, 60, 72, 86, 52, 61, 77, 91, 80, 56, 69, 67, 90, 56, 75, 79, 60,\n",
       "       79, 68, 81], dtype=int64)"
      ]
     },
     "execution_count": 6,
     "metadata": {},
     "output_type": "execute_result"
    }
   ],
   "source": [
    "# A학생이 무작위 추출한 표본 크기가 20인 표본\n",
    "np.random.seed(0)\n",
    "n=20\n",
    "sample = np.random.choice(scores,n)\n",
    "sample"
   ]
  },
  {
   "cell_type": "code",
   "execution_count": 7,
   "id": "4a20fadb",
   "metadata": {
    "ExecuteTime": {
     "end_time": "2022-09-06T03:52:01.486574Z",
     "start_time": "2022-09-06T03:52:01.473563Z"
    }
   },
   "outputs": [],
   "source": [
    "# 표본크기가 20인 표본 10000개 추출\n",
    "np.random.seed(1111)\n",
    "n_samples = 10000\n",
    "samples = np.random.choice(scores, (n_samples, n))"
   ]
  },
  {
   "cell_type": "code",
   "execution_count": null,
   "id": "ce15951a",
   "metadata": {},
   "outputs": [],
   "source": []
  },
  {
   "cell_type": "markdown",
   "id": "4f9347ef",
   "metadata": {},
   "source": [
    "### 점추정\n",
    "- 모평균이나 모분산 등의 모수를 하나의 수치로 추정\n",
    "- 추정량의 기댓값이 추측하려는 모수가 되는 성질을 불편성(편향성)이라고 하며 불편성을 가진 추정량을 불편추정량이라고 한다.\n",
    "- 표본평균이 모평균을 잘 추정할 수 있는 근거 중 하나가 바로 이 불편성이다.\n",
    "- 표본크기 n을 증가시키면 추측하기 원하는 모수에 수렴해가는 성질을 일치성이라고 하며 일치성을 지닌 추정량을 일치추정량이라고 함\n",
    "- 표본평균은 불편성과 일치성을 모두 가지고 있기 때문에 모평균을 잘 추정한다고 말할 수 있다.\n"
   ]
  },
  {
   "cell_type": "code",
   "execution_count": 8,
   "id": "a76f2d48",
   "metadata": {
    "ExecuteTime": {
     "end_time": "2022-09-06T03:52:01.516428Z",
     "start_time": "2022-09-06T03:52:01.488575Z"
    }
   },
   "outputs": [
    {
     "name": "stdout",
     "output_type": "stream",
     "text": [
      "보평균: 69.53\n",
      "모분산: 207.18706766917293\n",
      "표본분산, 분산 : 69.53799999999998 206.67808263157895\n"
     ]
    }
   ],
   "source": [
    "df = pd.read_csv('./ch4_scores400.csv')\n",
    "print('보평균:',df.score.mean())\n",
    "\n",
    "np.random.seed(1111)\n",
    "n = 20\n",
    "n_samples = 10000\n",
    "samples = np.random.choice(scores, (n_samples,n))\n",
    "\n",
    "sample_means = np.mean(samples, axis=1)\n",
    "\n",
    "print('모분산:', df.score.var())\n",
    "sample_u_vars = np.var(samples, axis=1, ddof=1)\n",
    "print('표본분산, 분산 :', np.mean(sample_means), np.mean(sample_u_vars))"
   ]
  },
  {
   "cell_type": "code",
   "execution_count": 9,
   "id": "012f09cd",
   "metadata": {
    "ExecuteTime": {
     "end_time": "2022-09-06T03:52:01.531616Z",
     "start_time": "2022-09-06T03:52:01.518428Z"
    }
   },
   "outputs": [
    {
     "data": {
      "text/plain": [
       "69.53799999999998"
      ]
     },
     "execution_count": 9,
     "metadata": {},
     "output_type": "execute_result"
    }
   ],
   "source": [
    "# 표본평균의 평균\n",
    "sample_means = np.mean(samples, axis=1)\n",
    "np.mean(sample_means)"
   ]
  },
  {
   "cell_type": "code",
   "execution_count": 10,
   "id": "db7a929c",
   "metadata": {
    "ExecuteTime": {
     "end_time": "2022-09-06T03:52:01.561621Z",
     "start_time": "2022-09-06T03:52:01.533618Z"
    }
   },
   "outputs": [
    {
     "data": {
      "text/plain": [
       "69.542954"
      ]
     },
     "execution_count": 10,
     "metadata": {},
     "output_type": "execute_result"
    }
   ],
   "source": [
    "# 표본크기를 백만으로 할 때의 표본평균\n",
    "np.mean(np.random.choice(scores,int(1e6)))"
   ]
  },
  {
   "cell_type": "code",
   "execution_count": 11,
   "id": "206c4f2b",
   "metadata": {
    "ExecuteTime": {
     "end_time": "2022-09-06T03:52:01.576621Z",
     "start_time": "2022-09-06T03:52:01.563621Z"
    }
   },
   "outputs": [
    {
     "data": {
      "text/plain": [
       "70.4"
      ]
     },
     "execution_count": 11,
     "metadata": {},
     "output_type": "execute_result"
    }
   ],
   "source": [
    "# A학생이 추출한 표본의 표본평균\n",
    "np.random.seed(0)\n",
    "n=20\n",
    "sample = np.random.choice(scores,n)\n",
    "s_mean = np.mean(sample)\n",
    "s_mean"
   ]
  },
  {
   "cell_type": "code",
   "execution_count": 12,
   "id": "ea0013b3",
   "metadata": {
    "ExecuteTime": {
     "end_time": "2022-09-06T03:52:01.591623Z",
     "start_time": "2022-09-06T03:52:01.577621Z"
    }
   },
   "outputs": [
    {
     "data": {
      "text/plain": [
       "206.6691"
      ]
     },
     "execution_count": 12,
     "metadata": {},
     "output_type": "execute_result"
    }
   ],
   "source": [
    "np.var(scores)"
   ]
  },
  {
   "cell_type": "code",
   "execution_count": 13,
   "id": "d3368332",
   "metadata": {
    "ExecuteTime": {
     "end_time": "2022-09-06T03:52:01.606425Z",
     "start_time": "2022-09-06T03:52:01.593623Z"
    }
   },
   "outputs": [
    {
     "data": {
      "text/plain": [
       "196.34417850000003"
      ]
     },
     "execution_count": 13,
     "metadata": {},
     "output_type": "execute_result"
    }
   ],
   "source": [
    "# 표본분산이 모분산의 불편추정량이 되는지 대수법칙으로 확인\n",
    "sample_vars = np.var(samples, axis=1)\n",
    "np.mean(sample_vars)"
   ]
  },
  {
   "cell_type": "code",
   "execution_count": 14,
   "id": "4dd71018",
   "metadata": {
    "ExecuteTime": {
     "end_time": "2022-09-06T03:53:14.698576Z",
     "start_time": "2022-09-06T03:53:14.691577Z"
    }
   },
   "outputs": [
    {
     "data": {
      "text/plain": [
       "206.67808263157895"
      ]
     },
     "execution_count": 14,
     "metadata": {},
     "output_type": "execute_result"
    }
   ],
   "source": [
    "#  대수의 법칙 사용해서 불편분산의 기대값 확인하기\n",
    "sample_u_vars = np.var(samples, axis=1, ddof=1)\n",
    "np.mean(sample_u_vars)"
   ]
  },
  {
   "cell_type": "code",
   "execution_count": 15,
   "id": "c4df34f6",
   "metadata": {
    "ExecuteTime": {
     "end_time": "2022-09-06T03:53:46.043934Z",
     "start_time": "2022-09-06T03:53:46.014936Z"
    }
   },
   "outputs": [
    {
     "data": {
      "text/plain": [
       "207.12823418906518"
      ]
     },
     "execution_count": 15,
     "metadata": {},
     "output_type": "execute_result"
    }
   ],
   "source": [
    "# 표본크기 100만으로 확인하기\n",
    "np.var(np.random.choice(scores, int(1e6)), ddof=1)"
   ]
  },
  {
   "cell_type": "markdown",
   "id": "996a1ae3",
   "metadata": {},
   "source": [
    "### 구간추정"
   ]
  },
  {
   "cell_type": "markdown",
   "id": "183771e2",
   "metadata": {},
   "source": [
    "#### 정규분포의 모평균 구간추정 : 모분산을 알고 있는 경우"
   ]
  },
  {
   "cell_type": "code",
   "execution_count": 24,
   "id": "1f7e4e6d",
   "metadata": {
    "ExecuteTime": {
     "end_time": "2022-09-06T04:09:07.042623Z",
     "start_time": "2022-09-06T04:09:07.032627Z"
    }
   },
   "outputs": [
    {
     "data": {
      "text/plain": [
       "158.25263157894742"
      ]
     },
     "execution_count": 24,
     "metadata": {},
     "output_type": "execute_result"
    }
   ],
   "source": [
    "# A학생이 추출한 표본의 표본평균\n",
    "np.random.seed(0)\n",
    "n=20\n",
    "sample = np.random.choice(scores,n)\n",
    "s_mean = np.mean(sample)\n",
    "s_mean\n",
    "\n",
    "# A 학생 추출한 표본으로 불편분산 계산\n",
    "u_var = np.var(sample, ddof=1)\n",
    "u_var"
   ]
  },
  {
   "cell_type": "code",
   "execution_count": 23,
   "id": "ad213a9c",
   "metadata": {
    "ExecuteTime": {
     "end_time": "2022-09-06T04:07:42.314850Z",
     "start_time": "2022-09-06T04:07:42.304851Z"
    }
   },
   "outputs": [
    {
     "data": {
      "text/plain": [
       "(64.09956018535247, 76.70043981464754)"
      ]
     },
     "execution_count": 23,
     "metadata": {},
     "output_type": "execute_result"
    }
   ],
   "source": [
    "# A학생 표본 데이터로 모평균의 95% 신뢰구간 구하기\n",
    "rv = stats.norm()\n",
    "lcl = s_mean - rv.isf(0.025) * np.sqrt(p_var/n)\n",
    "ucl = s_mean - rv.isf(0.975) * np.sqrt(p_var/n)\n",
    "\n",
    "lcl, ucl"
   ]
  },
  {
   "cell_type": "code",
   "execution_count": 25,
   "id": "ee660597",
   "metadata": {
    "ExecuteTime": {
     "end_time": "2022-09-06T04:20:28.361960Z",
     "start_time": "2022-09-06T04:20:28.159377Z"
    }
   },
   "outputs": [
    {
     "data": {
      "image/png": "[encoded data removed]",
      "text/plain": [
       "<Figure size 720x432 with 1 Axes>"
      ]
     },
     "metadata": {
      "needs_background": "light"
     },
     "output_type": "display_data"
    }
   ],
   "source": [
    "# 신뢰구간의 계산 20번 수행하고 모평균을 몇번 포함하는지 그리기 ( 중앙 세로선 평균, 모평균 모함하지 않은 구간추정은 다른 색)\n",
    "fig = plt.figure(figsize=(10,6))\n",
    "ax = fig.add_subplot(111)\n",
    "\n",
    "rv = stats.norm()\n",
    "n_samples = 20\n",
    "ax.vlines(p_mean, 0,21)\n",
    "for i in range(n_samples):\n",
    "    sample_ = samples[i]\n",
    "    s_mean_ = np.mean(sample_)\n",
    "    lcl = s_mean_ - rv.isf(0.025) * np.sqrt(p_var/n)\n",
    "    ucl = s_mean_ - rv.isf(0.975) * np.sqrt(p_var/n)\n",
    "    if lcl <= p_mean <= ucl:\n",
    "        ax.scatter(s_mean_, n_samples-i, color='gray')\n",
    "        ax.hlines( n_samples-i, lcl, ucl, color='gray')\n",
    "    else:\n",
    "        ax.scatter(s_mean_, n_samples-i, color='b' )\n",
    "        ax.hlines(n_samples-i, lcl, ucl, color='b' )\n",
    "ax.set_xticks([p_mean])\n",
    "ax.set_xticklabels(['population mean'])\n",
    "\n",
    "plt.show()"
   ]
  },
  {
   "cell_type": "code",
   "execution_count": 29,
   "id": "1f084d89",
   "metadata": {
    "ExecuteTime": {
     "end_time": "2022-09-06T04:26:59.075646Z",
     "start_time": "2022-09-06T04:26:57.425646Z"
    }
   },
   "outputs": [
    {
     "data": {
      "text/plain": [
       "0.951"
      ]
     },
     "execution_count": 29,
     "metadata": {},
     "output_type": "execute_result"
    }
   ],
   "source": [
    "# 신뢰구간을 1만 번 계산하고 모평균이 포함된 것은 몇 %인지 시뮬레이션 으로 알아보기\n",
    "rv = stats.norm()\n",
    "cnt = 0\n",
    "\n",
    "for sample_ in samples:\n",
    "    s_mean_ = np.mean(sample_)\n",
    "    lcl = s_mean_ - rv.isf(0.025) * np.sqrt(p_var/n)\n",
    "    ucl = s_mean_ - rv.isf(0.975) * np.sqrt(p_var/n)\n",
    "    if lcl <= p_mean <= ucl:\n",
    "        cnt += 1\n",
    "cnt / len(samples)"
   ]
  },
  {
   "cell_type": "markdown",
   "id": "3422885d",
   "metadata": {},
   "source": [
    "#### 정규분포의 모분산 구간추정(모평균을 모름)"
   ]
  },
  {
   "cell_type": "code",
   "execution_count": null,
   "id": "8b605d9e",
   "metadata": {},
   "outputs": [],
   "source": []
  },
  {
   "cell_type": "code",
   "execution_count": null,
   "id": "77550d7b",
   "metadata": {},
   "outputs": [],
   "source": []
  },
  {
   "cell_type": "code",
   "execution_count": null,
   "id": "6c868e85",
   "metadata": {},
   "outputs": [],
   "source": []
  },
  {
   "cell_type": "code",
   "execution_count": 30,
   "id": "efc327a8",
   "metadata": {
    "ExecuteTime": {
     "end_time": "2022-09-06T04:40:05.409031Z",
     "start_time": "2022-09-06T04:40:05.399029Z"
    }
   },
   "outputs": [
    {
     "data": {
      "text/plain": [
       "array([11.303, 15.767, 18.102, ..., 19.435,  9.265, 18.625])"
      ]
     },
     "execution_count": 30,
     "metadata": {},
     "output_type": "execute_result"
    }
   ],
   "source": [
    "sample_y = sample_u_vars * (n-1) / p_var\n",
    "sample_y"
   ]
  },
  {
   "cell_type": "code",
   "execution_count": 33,
   "id": "eb6ca464",
   "metadata": {
    "ExecuteTime": {
     "end_time": "2022-09-06T04:40:22.657593Z",
     "start_time": "2022-09-06T04:40:22.478684Z"
    }
   },
   "outputs": [
    {
     "data": {
      "image/png": "[encoded data removed]",
      "text/plain": [
       "<Figure size 720x432 with 1 Axes>"
      ]
     },
     "metadata": {
      "needs_background": "light"
     },
     "output_type": "display_data"
    }
   ],
   "source": [
    "fig = plt.figure(figsize=(10, 6))\n",
    "ax = fig.add_subplot(111)\n",
    "\n",
    "xs = np.linspace(0, 40, 100)\n",
    "rv = stats.chi2(df=n-1)\n",
    "ax.plot(xs, rv.pdf(xs), color='k')\n",
    "hist, _, _ = ax.hist(sample_y, bins=100,\n",
    "                     range=(0, 40), density=True)\n",
    "\n",
    "plt.show()"
   ]
  },
  {
   "cell_type": "code",
   "execution_count": 34,
   "id": "10459c20",
   "metadata": {
    "ExecuteTime": {
     "end_time": "2022-09-06T04:40:28.679710Z",
     "start_time": "2022-09-06T04:40:28.670777Z"
    }
   },
   "outputs": [
    {
     "data": {
      "text/plain": [
       "(91.52471947132238, 337.5955129124592)"
      ]
     },
     "execution_count": 34,
     "metadata": {},
     "output_type": "execute_result"
    }
   ],
   "source": [
    "rv = stats.chi2(df=n-1)\n",
    "lcl = (n-1) * u_var / rv.isf(0.025)\n",
    "hcl = (n-1) * u_var / rv.isf(0.975)\n",
    "\n",
    "lcl, hcl"
   ]
  },
  {
   "cell_type": "code",
   "execution_count": 35,
   "id": "a5c683ec",
   "metadata": {
    "ExecuteTime": {
     "end_time": "2022-09-06T04:40:34.579644Z",
     "start_time": "2022-09-06T04:40:34.383657Z"
    }
   },
   "outputs": [
    {
     "data": {
      "image/png": "[encoded data removed]",
      "text/plain": [
       "<Figure size 720x720 with 1 Axes>"
      ]
     },
     "metadata": {
      "needs_background": "light"
     },
     "output_type": "display_data"
    }
   ],
   "source": [
    "fig = plt.figure(figsize=(10, 10))\n",
    "ax = fig.add_subplot(111)\n",
    "\n",
    "rv = stats.chi2(df=n-1)\n",
    "n_samples = 20\n",
    "ax.vlines(p_var, 0, 21)\n",
    "for i in range(n_samples):\n",
    "    sample_ = samples[i]\n",
    "    u_var_ = np.var(sample_, ddof=1)\n",
    "    lcl = (n-1) * u_var_ / rv.isf(0.025)\n",
    "    ucl = (n-1) * u_var_ / rv.isf(0.975)\n",
    "    if lcl <= p_var <= ucl:\n",
    "        ax.scatter(u_var_, n_samples-i, color='gray')\n",
    "        ax.hlines(n_samples-i, lcl, ucl, 'gray')\n",
    "    else:\n",
    "        ax.scatter(u_var_, n_samples-i, color='b')\n",
    "        ax.hlines(n_samples-i, lcl, ucl, 'b')\n",
    "ax.set_xticks([p_var])\n",
    "ax.set_xticklabels(['population variance'])\n",
    "\n",
    "plt.show()"
   ]
  },
  {
   "cell_type": "code",
   "execution_count": 36,
   "id": "ec7eb5a6",
   "metadata": {
    "ExecuteTime": {
     "end_time": "2022-09-06T04:40:43.458736Z",
     "start_time": "2022-09-06T04:40:41.880738Z"
    }
   },
   "outputs": [
    {
     "data": {
      "text/plain": [
       "0.964"
      ]
     },
     "execution_count": 36,
     "metadata": {},
     "output_type": "execute_result"
    }
   ],
   "source": [
    "rv = stats.chi2(df=n-1)\n",
    "cnt = 0\n",
    "for sample_ in samples:\n",
    "    u_var_ = np.var(sample_, ddof=1)\n",
    "    lcl = (n-1) * u_var_ / rv.isf(0.025)\n",
    "    ucl = (n-1) * u_var_ / rv.isf(0.975)\n",
    "    if lcl <= p_var <= ucl:\n",
    "        cnt += 1\n",
    "        \n",
    "cnt / len(samples)"
   ]
  },
  {
   "cell_type": "markdown",
   "id": "428c0e31",
   "metadata": {},
   "source": [
    "#### 정규분포의 모평균(모분산을 알지 못하는) 구간추정"
   ]
  },
  {
   "cell_type": "code",
   "execution_count": 37,
   "id": "8327c684",
   "metadata": {
    "ExecuteTime": {
     "end_time": "2022-09-06T04:41:21.213712Z",
     "start_time": "2022-09-06T04:41:21.204708Z"
    }
   },
   "outputs": [
    {
     "data": {
      "text/plain": [
       "(65.31244886603886, 77.08755113396114)"
      ]
     },
     "execution_count": 37,
     "metadata": {},
     "output_type": "execute_result"
    }
   ],
   "source": [
    "rv = stats.t(df=n-1)\n",
    "lcl = s_mean - rv.isf(0.025) * np.sqrt(u_var/n)\n",
    "ucl = s_mean - rv.isf(0.975) * np.sqrt(u_var/n)\n",
    "\n",
    "lcl, ucl"
   ]
  },
  {
   "cell_type": "markdown",
   "id": "5b52b532",
   "metadata": {},
   "source": [
    "#### 베르누이 분포의 모평균의 구간추정"
   ]
  },
  {
   "cell_type": "code",
   "execution_count": 39,
   "id": "f53ce0dc",
   "metadata": {
    "ExecuteTime": {
     "end_time": "2022-09-06T04:41:56.238367Z",
     "start_time": "2022-09-06T04:41:56.216370Z"
    }
   },
   "outputs": [
    {
     "data": {
      "text/plain": [
       "array([1, 0, 1, 1, 1, 1, 1, 0, 0, 1], dtype=int64)"
      ]
     },
     "execution_count": 39,
     "metadata": {},
     "output_type": "execute_result"
    }
   ],
   "source": [
    "enquete_df = pd.read_csv('./ch10_enquete.csv')\n",
    "enquete = np.array(enquete_df['known'])\n",
    "n = len(enquete)\n",
    "enquete[:10]"
   ]
  },
  {
   "cell_type": "code",
   "execution_count": 40,
   "id": "a6dc17ef",
   "metadata": {
    "ExecuteTime": {
     "end_time": "2022-09-06T04:42:01.307957Z",
     "start_time": "2022-09-06T04:42:01.288956Z"
    }
   },
   "outputs": [
    {
     "data": {
      "text/plain": [
       "0.709"
      ]
     },
     "execution_count": 40,
     "metadata": {},
     "output_type": "execute_result"
    }
   ],
   "source": [
    "s_mean = enquete.mean()\n",
    "s_mean"
   ]
  },
  {
   "cell_type": "code",
   "execution_count": 41,
   "id": "843fb63e",
   "metadata": {
    "ExecuteTime": {
     "end_time": "2022-09-06T04:42:05.716610Z",
     "start_time": "2022-09-06T04:42:05.696575Z"
    }
   },
   "outputs": [
    {
     "data": {
      "text/plain": [
       "(0.6808474522924337, 0.7371525477075662)"
      ]
     },
     "execution_count": 41,
     "metadata": {},
     "output_type": "execute_result"
    }
   ],
   "source": [
    "rv = stats.norm()\n",
    "lcl = s_mean - rv.isf(0.025) * np.sqrt(s_mean*(1-s_mean)/n)\n",
    "ucl = s_mean - rv.isf(0.975) * np.sqrt(s_mean*(1-s_mean)/n)\n",
    "\n",
    "lcl, ucl"
   ]
  },
  {
   "cell_type": "markdown",
   "id": "db3f0a07",
   "metadata": {},
   "source": [
    "#### 포아송 분포의 모평균의 구간추정"
   ]
  },
  {
   "cell_type": "code",
   "execution_count": 42,
   "id": "001f1773",
   "metadata": {
    "ExecuteTime": {
     "end_time": "2022-09-06T04:42:23.260419Z",
     "start_time": "2022-09-06T04:42:23.250421Z"
    }
   },
   "outputs": [
    {
     "data": {
      "text/plain": [
       "array([10, 11,  9,  9, 18, 13,  4, 10, 10,  8], dtype=int64)"
      ]
     },
     "execution_count": 42,
     "metadata": {},
     "output_type": "execute_result"
    }
   ],
   "source": [
    "n_access_df = pd.read_csv('./ch10_access.csv')\n",
    "n_access = np.array(n_access_df['access number'])\n",
    "n = len(n_access)\n",
    "n_access[:10]"
   ]
  },
  {
   "cell_type": "code",
   "execution_count": 43,
   "id": "94142219",
   "metadata": {
    "ExecuteTime": {
     "end_time": "2022-09-06T04:42:27.797639Z",
     "start_time": "2022-09-06T04:42:27.787639Z"
    }
   },
   "outputs": [
    {
     "data": {
      "text/plain": [
       "10.444444444444445"
      ]
     },
     "execution_count": 43,
     "metadata": {},
     "output_type": "execute_result"
    }
   ],
   "source": [
    "s_mean = n_access.mean()\n",
    "s_mean"
   ]
  },
  {
   "cell_type": "code",
   "execution_count": 44,
   "id": "9b5947e8",
   "metadata": {
    "ExecuteTime": {
     "end_time": "2022-09-06T04:42:32.684922Z",
     "start_time": "2022-09-06T04:42:32.667927Z"
    }
   },
   "outputs": [
    {
     "data": {
      "text/plain": [
       "(9.697953549598202, 11.190935339290688)"
      ]
     },
     "execution_count": 44,
     "metadata": {},
     "output_type": "execute_result"
    }
   ],
   "source": [
    "rv = stats.norm()\n",
    "lcl = s_mean - rv.isf(0.025) * np.sqrt(s_mean/n)\n",
    "ucl = s_mean - rv.isf(0.975) * np.sqrt(s_mean/n)\n",
    "\n",
    "lcl, ucl"
   ]
  },
  {
   "cell_type": "code",
   "execution_count": null,
   "id": "ef24c5b4",
   "metadata": {},
   "outputs": [],
   "source": []
  },
  {
   "cell_type": "markdown",
   "id": "8483cdd5",
   "metadata": {},
   "source": [
    "#### 과제 0905_1\n",
    "p266 ~ p291 예제 코드를 풀어보세요."
   ]
  },
  {
   "cell_type": "markdown",
   "id": "f0d7c9b2",
   "metadata": {},
   "source": [
    "#### 과제 0905_2\n",
    "- 다음 용어를 예를들어 설명하세요.\n",
    "  불편성, 일치성, 불편분산,\n",
    "- 카이제곱분포,t분포가 구간 추정에 활용된 사례를 만들어 설명하세요.\n",
    " "
   ]
  },
  {
   "cell_type": "markdown",
   "id": "01fca563",
   "metadata": {},
   "source": [
    "불편성:  표본으로부터 구한 통계량의 기대치가 추정하려 하는 모수의 실제 값에 같거나 가까워지는 성질을 의미.\n",
    "일치성 : 표본의 크기가 커감에 따라서 표본의 통계량이 모집단의 모수와 일치하게 될 경우"
   ]
  },
  {
   "cell_type": "code",
   "execution_count": null,
   "id": "2590fdbb",
   "metadata": {},
   "outputs": [],
   "source": []
  },
  {
   "cell_type": "code",
   "execution_count": null,
   "id": "1146e340",
   "metadata": {},
   "outputs": [],
   "source": []
  },
  {
   "cell_type": "code",
   "execution_count": null,
   "id": "9700e17c",
   "metadata": {},
   "outputs": [],
   "source": []
  },
  {
   "cell_type": "code",
   "execution_count": null,
   "id": "b0deadd8",
   "metadata": {},
   "outputs": [],
   "source": []
  },
  {
   "cell_type": "code",
   "execution_count": null,
   "id": "394c12e0",
   "metadata": {},
   "outputs": [],
   "source": []
  },
  {
   "cell_type": "code",
   "execution_count": null,
   "id": "8133e0a4",
   "metadata": {},
   "outputs": [],
   "source": []
  }
 ],
 "metadata": {
  "kernelspec": {
   "display_name": "Python 3 (ipykernel)",
   "language": "python",
   "name": "python3"
  },
  "language_info": {
   "codemirror_mode": {
    "name": "ipython",
    "version": 3
   },
   "file_extension": ".py",
   "mimetype": "text/x-python",
   "name": "python",
   "nbconvert_exporter": "python",
   "pygments_lexer": "ipython3",
   "version": "3.7.13"
  },
  "toc": {
   "base_numbering": 1,
   "nav_menu": {},
   "number_sections": true,
   "sideBar": true,
   "skip_h1_title": false,
   "title_cell": "Table of Contents",
   "title_sidebar": "Contents",
   "toc_cell": false,
   "toc_position": {},
   "toc_section_display": true,
   "toc_window_display": true
  }
 },
 "nbformat": 4,
 "nbformat_minor": 5
}
