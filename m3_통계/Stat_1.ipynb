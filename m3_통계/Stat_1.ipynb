{
 "cells": [
  {
   "cell_type": "markdown",
   "id": "0a51bd1f",
   "metadata": {},
   "source": [
    "## 1차원 데이터\n",
    "- 평균값(기댓값), 표본분산, 불편분산(ddof=1), 표준편차\n",
    "- 표본분산은 표본의 평균을 사용해서 분산을 계산한 값으로 분산을 과소 추정하는 경향이 있으며 그 경향을 없애기 위한 것이 불편분산임. 표본분산 보다 조금 큰 값이 된다.\n",
    "- 표준화 : 평균값이 큰 변수와 작은 변수가 섞여 있으면 다루기 어려우므로 표준화로 데이터를 비교하기 쉽게 한다.\n",
    "- 최댓값, 최솟값, 중앙값, 사분위수\n",
    "- 표본분산과 비편향 분산\n",
    "    - 분산은 표본 분산과 불편분산(unbiased variance)의 두 종류가 존재\n",
    "    - 표본 분산은 표본에서 계산된 분산이며 모집단에 비해 표본수가 적을 때는 표본 분산이 모분산보다 작아진다.\n",
    "    - 즉 표본 분산이 모집단 분산에 맞춰서 동일하게 보정한 것을 비편향 분산이라 한다.\n",
    "    - 통계학에서는 이 비편향분산을 사용하는 경우가 많다.\n",
    "    - 불편분산은 n대신 n-1로 나누어 구할 수 있다.\n",
    "    \n",
    "[표분분산이 분산을 과소 평가하는 이유]\n",
    "\n",
    "- 호수안에 물고기가 7마리가 있다. 몸길이 {1,2,3,4,5,6,7}, 모(집단)평균 4, 샘플링1 3마리{1,2,3} 표본평균 2, 샘플링2 {5,6,7} 표본평균 6\n",
    "- 이때 분산은 모평균을 모르기 때문에 표본평균과의 거리를 계산하며 분산을 과소평가 하게된다.\n",
    "- 표 본 분산 보다 조금 더 큰 값이 되도록 보정하기 위하여 N대신 N-1로 나누어 불편분산을 구할 수 있다.\n",
    "\n"
   ]
  },
  {
   "cell_type": "markdown",
   "id": "9e018b3c",
   "metadata": {},
   "source": [
    "#### Box plot 의미 해석\n",
    "\n",
    "* IQR(Inter Quartile Range): 제 3사분위수 - 제1사분위수\n",
    "* lower whisker: Q1 - 1.5 x IQR 이내인 값중에서 최솟값\n",
    "* upper whisker: Q3 + 1.5 x IQR 이내인 값중에서 최댓값\n",
    "* 이상치: lower whisker, upper whisker를 벗어나는 값\n"
   ]
  },
  {
   "cell_type": "code",
   "execution_count": 1,
   "id": "70d075d4",
   "metadata": {},
   "outputs": [],
   "source": [
    "import pandas as pd\n",
    "import numpy as np"
   ]
  },
  {
   "cell_type": "code",
   "execution_count": 41,
   "id": "bfd227cd",
   "metadata": {},
   "outputs": [
    {
     "data": {
      "text/html": [
       "<div>\n",
       "<style scoped>\n",
       "    .dataframe tbody tr th:only-of-type {\n",
       "        vertical-align: middle;\n",
       "    }\n",
       "\n",
       "    .dataframe tbody tr th {\n",
       "        vertical-align: top;\n",
       "    }\n",
       "\n",
       "    .dataframe thead th {\n",
       "        text-align: right;\n",
       "    }\n",
       "</style>\n",
       "<table border=\"1\" class=\"dataframe\">\n",
       "  <thead>\n",
       "    <tr style=\"text-align: right;\">\n",
       "      <th></th>\n",
       "      <th>english</th>\n",
       "      <th>mathematics</th>\n",
       "    </tr>\n",
       "    <tr>\n",
       "      <th>student number</th>\n",
       "      <th></th>\n",
       "      <th></th>\n",
       "    </tr>\n",
       "  </thead>\n",
       "  <tbody>\n",
       "    <tr>\n",
       "      <th>1</th>\n",
       "      <td>42</td>\n",
       "      <td>65</td>\n",
       "    </tr>\n",
       "    <tr>\n",
       "      <th>2</th>\n",
       "      <td>69</td>\n",
       "      <td>80</td>\n",
       "    </tr>\n",
       "    <tr>\n",
       "      <th>3</th>\n",
       "      <td>56</td>\n",
       "      <td>63</td>\n",
       "    </tr>\n",
       "    <tr>\n",
       "      <th>4</th>\n",
       "      <td>41</td>\n",
       "      <td>63</td>\n",
       "    </tr>\n",
       "    <tr>\n",
       "      <th>5</th>\n",
       "      <td>57</td>\n",
       "      <td>76</td>\n",
       "    </tr>\n",
       "  </tbody>\n",
       "</table>\n",
       "</div>"
      ],
      "text/plain": [
       "                english  mathematics\n",
       "student number                      \n",
       "1                    42           65\n",
       "2                    69           80\n",
       "3                    56           63\n",
       "4                    41           63\n",
       "5                    57           76"
      ]
     },
     "execution_count": 41,
     "metadata": {},
     "output_type": "execute_result"
    }
   ],
   "source": [
    "df = pd.read_csv('./ch2_scores_em.csv',index_col='student number')\n",
    "df.head()"
   ]
  },
  {
   "cell_type": "markdown",
   "id": "5503a454",
   "metadata": {},
   "source": [
    "### 영어 점수불러와 어레이와 학생이름 부여한 데이터프레임 만들기"
   ]
  },
  {
   "cell_type": "code",
   "execution_count": 12,
   "id": "2ad134aa",
   "metadata": {},
   "outputs": [
    {
     "data": {
      "text/plain": [
       "array([42, 69, 56, 41, 57, 48, 65, 49, 65, 58], dtype=int64)"
      ]
     },
     "execution_count": 12,
     "metadata": {},
     "output_type": "execute_result"
    }
   ],
   "source": [
    "scores = np.array(df['english'])[:10]\n",
    "scores"
   ]
  },
  {
   "cell_type": "code",
   "execution_count": 14,
   "id": "c1f28d3c",
   "metadata": {},
   "outputs": [
    {
     "data": {
      "text/html": [
       "<div>\n",
       "<style scoped>\n",
       "    .dataframe tbody tr th:only-of-type {\n",
       "        vertical-align: middle;\n",
       "    }\n",
       "\n",
       "    .dataframe tbody tr th {\n",
       "        vertical-align: top;\n",
       "    }\n",
       "\n",
       "    .dataframe thead th {\n",
       "        text-align: right;\n",
       "    }\n",
       "</style>\n",
       "<table border=\"1\" class=\"dataframe\">\n",
       "  <thead>\n",
       "    <tr style=\"text-align: right;\">\n",
       "      <th></th>\n",
       "      <th>score</th>\n",
       "    </tr>\n",
       "    <tr>\n",
       "      <th>student</th>\n",
       "      <th></th>\n",
       "    </tr>\n",
       "  </thead>\n",
       "  <tbody>\n",
       "    <tr>\n",
       "      <th>A</th>\n",
       "      <td>42</td>\n",
       "    </tr>\n",
       "    <tr>\n",
       "      <th>B</th>\n",
       "      <td>69</td>\n",
       "    </tr>\n",
       "    <tr>\n",
       "      <th>C</th>\n",
       "      <td>56</td>\n",
       "    </tr>\n",
       "    <tr>\n",
       "      <th>D</th>\n",
       "      <td>41</td>\n",
       "    </tr>\n",
       "    <tr>\n",
       "      <th>E</th>\n",
       "      <td>57</td>\n",
       "    </tr>\n",
       "    <tr>\n",
       "      <th>F</th>\n",
       "      <td>48</td>\n",
       "    </tr>\n",
       "    <tr>\n",
       "      <th>G</th>\n",
       "      <td>65</td>\n",
       "    </tr>\n",
       "    <tr>\n",
       "      <th>H</th>\n",
       "      <td>49</td>\n",
       "    </tr>\n",
       "    <tr>\n",
       "      <th>I</th>\n",
       "      <td>65</td>\n",
       "    </tr>\n",
       "    <tr>\n",
       "      <th>J</th>\n",
       "      <td>58</td>\n",
       "    </tr>\n",
       "  </tbody>\n",
       "</table>\n",
       "</div>"
      ],
      "text/plain": [
       "         score\n",
       "student       \n",
       "A           42\n",
       "B           69\n",
       "C           56\n",
       "D           41\n",
       "E           57\n",
       "F           48\n",
       "G           65\n",
       "H           49\n",
       "I           65\n",
       "J           58"
      ]
     },
     "execution_count": 14,
     "metadata": {},
     "output_type": "execute_result"
    }
   ],
   "source": [
    "scores_df = pd.DataFrame({'score':scores},\n",
    "                         index=pd.Index(['A','B','C','D','E','F','G','H','I','J'],\n",
    "                                       name = 'student'))\n",
    "scores_df"
   ]
  },
  {
   "cell_type": "markdown",
   "id": "b372c2c8",
   "metadata": {},
   "source": [
    "### 평균값"
   ]
  },
  {
   "cell_type": "code",
   "execution_count": 17,
   "id": "7154792f",
   "metadata": {},
   "outputs": [
    {
     "data": {
      "text/plain": [
       "55.0"
      ]
     },
     "metadata": {},
     "output_type": "display_data"
    },
    {
     "data": {
      "text/plain": [
       "score    55.0\n",
       "dtype: float64"
      ]
     },
     "metadata": {},
     "output_type": "display_data"
    }
   ],
   "source": [
    "display(np.mean(scores))\n",
    "display(scores_df.mean())"
   ]
  },
  {
   "cell_type": "markdown",
   "id": "bf8f1516",
   "metadata": {},
   "source": [
    "### 중앙값"
   ]
  },
  {
   "cell_type": "code",
   "execution_count": 24,
   "id": "e0c9b6a0",
   "metadata": {},
   "outputs": [
    {
     "data": {
      "text/plain": [
       "array([41, 42, 48, 49, 56, 57, 58, 65, 65, 69], dtype=int64)"
      ]
     },
     "execution_count": 24,
     "metadata": {},
     "output_type": "execute_result"
    }
   ],
   "source": [
    "sorted_scores = np.sort(scores)\n",
    "sorted_scores"
   ]
  },
  {
   "cell_type": "code",
   "execution_count": 27,
   "id": "2ffabea8",
   "metadata": {},
   "outputs": [
    {
     "data": {
      "text/plain": [
       "56.5"
      ]
     },
     "execution_count": 27,
     "metadata": {},
     "output_type": "execute_result"
    }
   ],
   "source": [
    "n = len(sorted_scores)\n",
    "if n% 2 == 0:\n",
    "    m0 = sorted_scores[n //2 -1]\n",
    "    m1 = sorted_scores[n //2]\n",
    "    median = (m0 + m1) /2\n",
    "else:\n",
    "    median = sorted_scores[(n+1)//2-1]\n",
    "median"
   ]
  },
  {
   "cell_type": "code",
   "execution_count": 25,
   "id": "43f99bdb",
   "metadata": {},
   "outputs": [
    {
     "data": {
      "text/plain": [
       "56.5"
      ]
     },
     "execution_count": 25,
     "metadata": {},
     "output_type": "execute_result"
    }
   ],
   "source": [
    "np.median(scores)"
   ]
  },
  {
   "cell_type": "code",
   "execution_count": 23,
   "id": "a5242c0a",
   "metadata": {},
   "outputs": [
    {
     "data": {
      "text/plain": [
       "score    56.5\n",
       "dtype: float64"
      ]
     },
     "execution_count": 23,
     "metadata": {},
     "output_type": "execute_result"
    }
   ],
   "source": [
    "scores_df.median()"
   ]
  },
  {
   "cell_type": "markdown",
   "id": "4c475c0f",
   "metadata": {},
   "source": [
    "### 최빈값"
   ]
  },
  {
   "cell_type": "code",
   "execution_count": 28,
   "id": "88818157",
   "metadata": {},
   "outputs": [
    {
     "data": {
      "text/plain": [
       "0    1\n",
       "dtype: int64"
      ]
     },
     "execution_count": 28,
     "metadata": {},
     "output_type": "execute_result"
    }
   ],
   "source": [
    "data = [1,1,1,2,2,3]\n",
    "pd.Series(data).mode()"
   ]
  },
  {
   "cell_type": "code",
   "execution_count": 32,
   "id": "fc0aaa82",
   "metadata": {},
   "outputs": [
    {
     "data": {
      "text/plain": [
       "0    1\n",
       "1    2\n",
       "2    3\n",
       "3    4\n",
       "4    5\n",
       "dtype: int64"
      ]
     },
     "execution_count": 32,
     "metadata": {},
     "output_type": "execute_result"
    }
   ],
   "source": [
    "data1 = [1,2,3,4,5]\n",
    "pd.Series(data1).mode()"
   ]
  },
  {
   "cell_type": "markdown",
   "id": "4c6c8314",
   "metadata": {},
   "source": [
    "### 편차"
   ]
  },
  {
   "cell_type": "code",
   "execution_count": 35,
   "id": "64ccaed9",
   "metadata": {},
   "outputs": [
    {
     "data": {
      "text/plain": [
       "array([-13.,  14.,   1., -14.,   2.,  -7.,  10.,  -6.,  10.,   3.])"
      ]
     },
     "execution_count": 35,
     "metadata": {},
     "output_type": "execute_result"
    }
   ],
   "source": [
    "mean = np.mean(scores)\n",
    "deviation = scores - mean\n",
    "deviation"
   ]
  },
  {
   "cell_type": "code",
   "execution_count": 40,
   "id": "2a85f675",
   "metadata": {},
   "outputs": [
    {
     "data": {
      "text/plain": [
       "array([-5.,  5.,  3., -1., -4.,  1.,  2., -2., -3.,  4.])"
      ]
     },
     "execution_count": 40,
     "metadata": {},
     "output_type": "execute_result"
    }
   ],
   "source": [
    "another_scores = [50, 60, 58, 54, 51, 56, 57, 53, 52, 59]\n",
    "another_mean = np.mean(another_scores)\n",
    "another_deviation = another_scores - another_mean\n",
    "another_deviation"
   ]
  },
  {
   "cell_type": "markdown",
   "id": "f8d1d7a2",
   "metadata": {},
   "source": [
    "#### 편차들의 평균 항상 0"
   ]
  },
  {
   "cell_type": "code",
   "execution_count": 42,
   "id": "d472ca20",
   "metadata": {},
   "outputs": [
    {
     "data": {
      "text/plain": [
       "0.0"
      ]
     },
     "execution_count": 42,
     "metadata": {},
     "output_type": "execute_result"
    }
   ],
   "source": [
    "np.mean(deviation)"
   ]
  },
  {
   "cell_type": "markdown",
   "id": "7429f65e",
   "metadata": {},
   "source": [
    "### 데이터 프레임에 편차까지 정리"
   ]
  },
  {
   "cell_type": "code",
   "execution_count": 43,
   "id": "c316c130",
   "metadata": {},
   "outputs": [
    {
     "data": {
      "text/html": [
       "<div>\n",
       "<style scoped>\n",
       "    .dataframe tbody tr th:only-of-type {\n",
       "        vertical-align: middle;\n",
       "    }\n",
       "\n",
       "    .dataframe tbody tr th {\n",
       "        vertical-align: top;\n",
       "    }\n",
       "\n",
       "    .dataframe thead th {\n",
       "        text-align: right;\n",
       "    }\n",
       "</style>\n",
       "<table border=\"1\" class=\"dataframe\">\n",
       "  <thead>\n",
       "    <tr style=\"text-align: right;\">\n",
       "      <th></th>\n",
       "      <th>score</th>\n",
       "      <th>deviation</th>\n",
       "    </tr>\n",
       "    <tr>\n",
       "      <th>student</th>\n",
       "      <th></th>\n",
       "      <th></th>\n",
       "    </tr>\n",
       "  </thead>\n",
       "  <tbody>\n",
       "    <tr>\n",
       "      <th>A</th>\n",
       "      <td>42</td>\n",
       "      <td>-13.0</td>\n",
       "    </tr>\n",
       "    <tr>\n",
       "      <th>B</th>\n",
       "      <td>69</td>\n",
       "      <td>14.0</td>\n",
       "    </tr>\n",
       "    <tr>\n",
       "      <th>C</th>\n",
       "      <td>56</td>\n",
       "      <td>1.0</td>\n",
       "    </tr>\n",
       "    <tr>\n",
       "      <th>D</th>\n",
       "      <td>41</td>\n",
       "      <td>-14.0</td>\n",
       "    </tr>\n",
       "    <tr>\n",
       "      <th>E</th>\n",
       "      <td>57</td>\n",
       "      <td>2.0</td>\n",
       "    </tr>\n",
       "    <tr>\n",
       "      <th>F</th>\n",
       "      <td>48</td>\n",
       "      <td>-7.0</td>\n",
       "    </tr>\n",
       "    <tr>\n",
       "      <th>G</th>\n",
       "      <td>65</td>\n",
       "      <td>10.0</td>\n",
       "    </tr>\n",
       "    <tr>\n",
       "      <th>H</th>\n",
       "      <td>49</td>\n",
       "      <td>-6.0</td>\n",
       "    </tr>\n",
       "    <tr>\n",
       "      <th>I</th>\n",
       "      <td>65</td>\n",
       "      <td>10.0</td>\n",
       "    </tr>\n",
       "    <tr>\n",
       "      <th>J</th>\n",
       "      <td>58</td>\n",
       "      <td>3.0</td>\n",
       "    </tr>\n",
       "  </tbody>\n",
       "</table>\n",
       "</div>"
      ],
      "text/plain": [
       "         score   deviation \n",
       "student                    \n",
       "A           42        -13.0\n",
       "B           69         14.0\n",
       "C           56          1.0\n",
       "D           41        -14.0\n",
       "E           57          2.0\n",
       "F           48         -7.0\n",
       "G           65         10.0\n",
       "H           49         -6.0\n",
       "I           65         10.0\n",
       "J           58          3.0"
      ]
     },
     "execution_count": 43,
     "metadata": {},
     "output_type": "execute_result"
    }
   ],
   "source": [
    "summary_df = scores_df.copy()\n",
    "summary_df[' deviation '] = deviation\n",
    "summary_df"
   ]
  },
  {
   "cell_type": "code",
   "execution_count": 44,
   "id": "4463836c",
   "metadata": {},
   "outputs": [
    {
     "data": {
      "text/plain": [
       "score          55.0\n",
       " deviation      0.0\n",
       "dtype: float64"
      ]
     },
     "execution_count": 44,
     "metadata": {},
     "output_type": "execute_result"
    }
   ],
   "source": [
    "summary_df.mean()"
   ]
  },
  {
   "cell_type": "markdown",
   "id": "12505a65",
   "metadata": {},
   "source": [
    "### 분산"
   ]
  },
  {
   "cell_type": "code",
   "execution_count": 45,
   "id": "2bac5a6d",
   "metadata": {},
   "outputs": [
    {
     "data": {
      "text/plain": [
       "86.0"
      ]
     },
     "execution_count": 45,
     "metadata": {},
     "output_type": "execute_result"
    }
   ],
   "source": [
    "np.mean(deviation ** 2)"
   ]
  },
  {
   "cell_type": "markdown",
   "id": "81430431",
   "metadata": {},
   "source": [
    "#### 넘파이 에서 분산값 ( 기본값 : 표본분산)"
   ]
  },
  {
   "cell_type": "code",
   "execution_count": 46,
   "id": "38110e5f",
   "metadata": {},
   "outputs": [
    {
     "data": {
      "text/plain": [
       "86.0"
      ]
     },
     "execution_count": 46,
     "metadata": {},
     "output_type": "execute_result"
    }
   ],
   "source": [
    "np.var(scores)"
   ]
  },
  {
   "cell_type": "markdown",
   "id": "58d4c840",
   "metadata": {},
   "source": [
    "#### 판다스에서의 분산값 ( 기본값: 불편분산)"
   ]
  },
  {
   "cell_type": "code",
   "execution_count": 47,
   "id": "10c4015f",
   "metadata": {},
   "outputs": [
    {
     "data": {
      "text/plain": [
       "score    95.555556\n",
       "dtype: float64"
      ]
     },
     "execution_count": 47,
     "metadata": {},
     "output_type": "execute_result"
    }
   ],
   "source": [
    "scores_df.var()"
   ]
  },
  {
   "cell_type": "code",
   "execution_count": 53,
   "id": "92561546",
   "metadata": {
    "scrolled": true
   },
   "outputs": [
    {
     "data": {
      "text/plain": [
       "score    86.0\n",
       "dtype: float64"
      ]
     },
     "execution_count": 53,
     "metadata": {},
     "output_type": "execute_result"
    }
   ],
   "source": [
    "# 판다스에서 표본분산으로 분산 구하기\n",
    "scores_df.var(ddof=0)"
   ]
  },
  {
   "cell_type": "code",
   "execution_count": 54,
   "id": "f0d73fb7",
   "metadata": {},
   "outputs": [
    {
     "data": {
      "text/html": [
       "<div>\n",
       "<style scoped>\n",
       "    .dataframe tbody tr th:only-of-type {\n",
       "        vertical-align: middle;\n",
       "    }\n",
       "\n",
       "    .dataframe tbody tr th {\n",
       "        vertical-align: top;\n",
       "    }\n",
       "\n",
       "    .dataframe thead th {\n",
       "        text-align: right;\n",
       "    }\n",
       "</style>\n",
       "<table border=\"1\" class=\"dataframe\">\n",
       "  <thead>\n",
       "    <tr style=\"text-align: right;\">\n",
       "      <th></th>\n",
       "      <th>score</th>\n",
       "      <th>deviation</th>\n",
       "      <th>square of deviation</th>\n",
       "    </tr>\n",
       "    <tr>\n",
       "      <th>student</th>\n",
       "      <th></th>\n",
       "      <th></th>\n",
       "      <th></th>\n",
       "    </tr>\n",
       "  </thead>\n",
       "  <tbody>\n",
       "    <tr>\n",
       "      <th>A</th>\n",
       "      <td>42</td>\n",
       "      <td>-13.0</td>\n",
       "      <td>169.0</td>\n",
       "    </tr>\n",
       "    <tr>\n",
       "      <th>B</th>\n",
       "      <td>69</td>\n",
       "      <td>14.0</td>\n",
       "      <td>196.0</td>\n",
       "    </tr>\n",
       "    <tr>\n",
       "      <th>C</th>\n",
       "      <td>56</td>\n",
       "      <td>1.0</td>\n",
       "      <td>1.0</td>\n",
       "    </tr>\n",
       "    <tr>\n",
       "      <th>D</th>\n",
       "      <td>41</td>\n",
       "      <td>-14.0</td>\n",
       "      <td>196.0</td>\n",
       "    </tr>\n",
       "    <tr>\n",
       "      <th>E</th>\n",
       "      <td>57</td>\n",
       "      <td>2.0</td>\n",
       "      <td>4.0</td>\n",
       "    </tr>\n",
       "    <tr>\n",
       "      <th>F</th>\n",
       "      <td>48</td>\n",
       "      <td>-7.0</td>\n",
       "      <td>49.0</td>\n",
       "    </tr>\n",
       "    <tr>\n",
       "      <th>G</th>\n",
       "      <td>65</td>\n",
       "      <td>10.0</td>\n",
       "      <td>100.0</td>\n",
       "    </tr>\n",
       "    <tr>\n",
       "      <th>H</th>\n",
       "      <td>49</td>\n",
       "      <td>-6.0</td>\n",
       "      <td>36.0</td>\n",
       "    </tr>\n",
       "    <tr>\n",
       "      <th>I</th>\n",
       "      <td>65</td>\n",
       "      <td>10.0</td>\n",
       "      <td>100.0</td>\n",
       "    </tr>\n",
       "    <tr>\n",
       "      <th>J</th>\n",
       "      <td>58</td>\n",
       "      <td>3.0</td>\n",
       "      <td>9.0</td>\n",
       "    </tr>\n",
       "  </tbody>\n",
       "</table>\n",
       "</div>"
      ],
      "text/plain": [
       "         score   deviation   square of deviation \n",
       "student                                          \n",
       "A           42        -13.0                 169.0\n",
       "B           69         14.0                 196.0\n",
       "C           56          1.0                   1.0\n",
       "D           41        -14.0                 196.0\n",
       "E           57          2.0                   4.0\n",
       "F           48         -7.0                  49.0\n",
       "G           65         10.0                 100.0\n",
       "H           49         -6.0                  36.0\n",
       "I           65         10.0                 100.0\n",
       "J           58          3.0                   9.0"
      ]
     },
     "execution_count": 54,
     "metadata": {},
     "output_type": "execute_result"
    }
   ],
   "source": [
    "summary_df['square of deviation '] = np.square(deviation)\n",
    "summary_df"
   ]
  },
  {
   "cell_type": "code",
   "execution_count": 55,
   "id": "e6a3480a",
   "metadata": {},
   "outputs": [
    {
     "data": {
      "text/plain": [
       "score                   55.0\n",
       " deviation               0.0\n",
       "square of deviation     86.0\n",
       "dtype: float64"
      ]
     },
     "execution_count": 55,
     "metadata": {},
     "output_type": "execute_result"
    }
   ],
   "source": [
    "summary_df.mean()"
   ]
  },
  {
   "cell_type": "markdown",
   "id": "5bf83051",
   "metadata": {},
   "source": [
    "### 표준편차"
   ]
  },
  {
   "cell_type": "code",
   "execution_count": 56,
   "id": "c90f9654",
   "metadata": {},
   "outputs": [
    {
     "data": {
      "text/plain": [
       "9.273618495495704"
      ]
     },
     "execution_count": 56,
     "metadata": {},
     "output_type": "execute_result"
    }
   ],
   "source": [
    "np.sqrt(np.var(scores, ddof=0))"
   ]
  },
  {
   "cell_type": "code",
   "execution_count": 57,
   "id": "8feba818",
   "metadata": {},
   "outputs": [
    {
     "data": {
      "text/plain": [
       "9.273618495495704"
      ]
     },
     "execution_count": 57,
     "metadata": {},
     "output_type": "execute_result"
    }
   ],
   "source": [
    "np.std(scores, ddof=0)"
   ]
  },
  {
   "cell_type": "markdown",
   "id": "9c69cdbb",
   "metadata": {},
   "source": [
    "### 범위\n",
    "- (분산과 표준편차와 달리 데이터의 전체가 아니라 최대값과 최소값으로 산포도 표현)"
   ]
  },
  {
   "cell_type": "code",
   "execution_count": 58,
   "id": "7dbb19d0",
   "metadata": {},
   "outputs": [
    {
     "data": {
      "text/plain": [
       "28"
      ]
     },
     "execution_count": 58,
     "metadata": {},
     "output_type": "execute_result"
    }
   ],
   "source": [
    "np.max(scores) - np.min(scores)"
   ]
  },
  {
   "cell_type": "markdown",
   "id": "4f053139",
   "metadata": {},
   "source": [
    "#### 사분위 범위( 상위수 % - 하위수%) 일반적으로 25%-75%"
   ]
  },
  {
   "cell_type": "code",
   "execution_count": 59,
   "id": "bfe05b4f",
   "metadata": {},
   "outputs": [
    {
     "data": {
      "text/plain": [
       "15.0"
      ]
     },
     "execution_count": 59,
     "metadata": {},
     "output_type": "execute_result"
    }
   ],
   "source": [
    "scores_Q1 = np.percentile(scores, 25)\n",
    "scores_Q3 = np.percentile(scores, 75)\n",
    "scores_IQR = scores_Q3 - scores_Q1\n",
    "scores_IQR"
   ]
  },
  {
   "cell_type": "code",
   "execution_count": 60,
   "id": "b0904874",
   "metadata": {},
   "outputs": [
    {
     "data": {
      "text/plain": [
       "count    10.000000\n",
       "mean     55.000000\n",
       "std       9.775252\n",
       "min      41.000000\n",
       "25%      48.250000\n",
       "50%      56.500000\n",
       "75%      63.250000\n",
       "max      69.000000\n",
       "dtype: float64"
      ]
     },
     "execution_count": 60,
     "metadata": {},
     "output_type": "execute_result"
    }
   ],
   "source": [
    "pd.Series(scores).describe()"
   ]
  },
  {
   "cell_type": "markdown",
   "id": "a37ba064",
   "metadata": {},
   "source": [
    "## 데이터 정규화"
   ]
  },
  {
   "cell_type": "markdown",
   "id": "7f3f29c2",
   "metadata": {},
   "source": [
    "### 표준화"
   ]
  },
  {
   "cell_type": "code",
   "execution_count": 1,
   "id": "c2b429fe",
   "metadata": {},
   "outputs": [
    {
     "data": {
      "text/html": [
       "<div>\n",
       "<style scoped>\n",
       "    .dataframe tbody tr th:only-of-type {\n",
       "        vertical-align: middle;\n",
       "    }\n",
       "\n",
       "    .dataframe tbody tr th {\n",
       "        vertical-align: top;\n",
       "    }\n",
       "\n",
       "    .dataframe thead th {\n",
       "        text-align: right;\n",
       "    }\n",
       "</style>\n",
       "<table border=\"1\" class=\"dataframe\">\n",
       "  <thead>\n",
       "    <tr style=\"text-align: right;\">\n",
       "      <th></th>\n",
       "      <th>student number</th>\n",
       "      <th>english</th>\n",
       "      <th>mathematics</th>\n",
       "    </tr>\n",
       "  </thead>\n",
       "  <tbody>\n",
       "    <tr>\n",
       "      <th>0</th>\n",
       "      <td>1</td>\n",
       "      <td>42</td>\n",
       "      <td>65</td>\n",
       "    </tr>\n",
       "    <tr>\n",
       "      <th>1</th>\n",
       "      <td>2</td>\n",
       "      <td>69</td>\n",
       "      <td>80</td>\n",
       "    </tr>\n",
       "    <tr>\n",
       "      <th>2</th>\n",
       "      <td>3</td>\n",
       "      <td>56</td>\n",
       "      <td>63</td>\n",
       "    </tr>\n",
       "    <tr>\n",
       "      <th>3</th>\n",
       "      <td>4</td>\n",
       "      <td>41</td>\n",
       "      <td>63</td>\n",
       "    </tr>\n",
       "    <tr>\n",
       "      <th>4</th>\n",
       "      <td>5</td>\n",
       "      <td>57</td>\n",
       "      <td>76</td>\n",
       "    </tr>\n",
       "  </tbody>\n",
       "</table>\n",
       "</div>"
      ],
      "text/plain": [
       "   student number  english  mathematics\n",
       "0               1       42           65\n",
       "1               2       69           80\n",
       "2               3       56           63\n",
       "3               4       41           63\n",
       "4               5       57           76"
      ]
     },
     "execution_count": 1,
     "metadata": {},
     "output_type": "execute_result"
    }
   ],
   "source": [
    "import pandas as pd\n",
    "import numpy as np\n",
    "\n",
    "df = pd.read_csv('./ch2_scores_em.csv')\n",
    "df.head()"
   ]
  },
  {
   "cell_type": "code",
   "execution_count": 2,
   "id": "9579e25e",
   "metadata": {},
   "outputs": [
    {
     "data": {
      "text/html": [
       "<div>\n",
       "<style scoped>\n",
       "    .dataframe tbody tr th:only-of-type {\n",
       "        vertical-align: middle;\n",
       "    }\n",
       "\n",
       "    .dataframe tbody tr th {\n",
       "        vertical-align: top;\n",
       "    }\n",
       "\n",
       "    .dataframe thead th {\n",
       "        text-align: right;\n",
       "    }\n",
       "</style>\n",
       "<table border=\"1\" class=\"dataframe\">\n",
       "  <thead>\n",
       "    <tr style=\"text-align: right;\">\n",
       "      <th></th>\n",
       "      <th>score</th>\n",
       "    </tr>\n",
       "    <tr>\n",
       "      <th>student</th>\n",
       "      <th></th>\n",
       "    </tr>\n",
       "  </thead>\n",
       "  <tbody>\n",
       "    <tr>\n",
       "      <th>A</th>\n",
       "      <td>42</td>\n",
       "    </tr>\n",
       "    <tr>\n",
       "      <th>B</th>\n",
       "      <td>69</td>\n",
       "    </tr>\n",
       "    <tr>\n",
       "      <th>C</th>\n",
       "      <td>56</td>\n",
       "    </tr>\n",
       "    <tr>\n",
       "      <th>D</th>\n",
       "      <td>41</td>\n",
       "    </tr>\n",
       "    <tr>\n",
       "      <th>E</th>\n",
       "      <td>57</td>\n",
       "    </tr>\n",
       "    <tr>\n",
       "      <th>F</th>\n",
       "      <td>48</td>\n",
       "    </tr>\n",
       "    <tr>\n",
       "      <th>G</th>\n",
       "      <td>65</td>\n",
       "    </tr>\n",
       "    <tr>\n",
       "      <th>H</th>\n",
       "      <td>49</td>\n",
       "    </tr>\n",
       "    <tr>\n",
       "      <th>I</th>\n",
       "      <td>65</td>\n",
       "    </tr>\n",
       "    <tr>\n",
       "      <th>J</th>\n",
       "      <td>58</td>\n",
       "    </tr>\n",
       "  </tbody>\n",
       "</table>\n",
       "</div>"
      ],
      "text/plain": [
       "         score\n",
       "student       \n",
       "A           42\n",
       "B           69\n",
       "C           56\n",
       "D           41\n",
       "E           57\n",
       "F           48\n",
       "G           65\n",
       "H           49\n",
       "I           65\n",
       "J           58"
      ]
     },
     "execution_count": 2,
     "metadata": {},
     "output_type": "execute_result"
    }
   ],
   "source": [
    "scores = np.array(df.english)[:10]\n",
    "scores_df = pd.DataFrame({'score':scores},\n",
    "                        index=pd.Index(['A','B','C','D','E','F','G','H','I','J'],name='student'))\n",
    "scores_df"
   ]
  },
  {
   "cell_type": "markdown",
   "id": "6c6e5c84",
   "metadata": {},
   "source": [
    "#### 데이터에서 평균을 빼고 표준편차로 나누는 작업을 표준화 라고 함, 이 데이터를 표준화변량 또는 Z점수 라고 함"
   ]
  },
  {
   "cell_type": "code",
   "execution_count": 3,
   "id": "878e330c",
   "metadata": {},
   "outputs": [
    {
     "data": {
      "text/plain": [
       "array([-1.40182605,  1.50965882,  0.10783277, -1.50965882,  0.21566555,\n",
       "       -0.75482941,  1.07832773, -0.64699664,  1.07832773,  0.32349832])"
      ]
     },
     "execution_count": 3,
     "metadata": {},
     "output_type": "execute_result"
    }
   ],
   "source": [
    "# (데이터-데이터평균)/표준편차 = 표준화변량|z점수\n",
    "z = (scores - np.mean(scores)) / np.std(scores) \n",
    "z"
   ]
  },
  {
   "cell_type": "code",
   "execution_count": 4,
   "id": "5e040bd0",
   "metadata": {},
   "outputs": [
    {
     "data": {
      "text/plain": [
       "(-1.6653345369377347e-17, 0.9999999999999999)"
      ]
     },
     "execution_count": 4,
     "metadata": {},
     "output_type": "execute_result"
    }
   ],
   "source": [
    "# 표준화된 데이터는 평균이 0, 표준편차가 1 \n",
    "np.mean(z), np.std(z, ddof=0)"
   ]
  },
  {
   "cell_type": "markdown",
   "id": "8aa5e406",
   "metadata": {},
   "source": [
    "### 편차값 (편차값은 평균이 50, 표준편차가 10이 되도록 정규화한 값)"
   ]
  },
  {
   "cell_type": "code",
   "execution_count": 5,
   "id": "8da54761",
   "metadata": {},
   "outputs": [
    {
     "data": {
      "text/plain": [
       "array([35.98173948, 65.09658825, 51.07832773, 34.90341175, 52.15665546,\n",
       "       42.45170588, 60.78327732, 43.53003361, 60.78327732, 53.2349832 ])"
      ]
     },
     "execution_count": 5,
     "metadata": {},
     "output_type": "execute_result"
    }
   ],
   "source": [
    "# z = 50 + 10 * (scores - np.mean(scores))/ np.std(scores)\n",
    "z = 50 + 10 * z \n",
    "z"
   ]
  },
  {
   "cell_type": "code",
   "execution_count": 6,
   "id": "f749bb73",
   "metadata": {},
   "outputs": [
    {
     "data": {
      "text/html": [
       "<div>\n",
       "<style scoped>\n",
       "    .dataframe tbody tr th:only-of-type {\n",
       "        vertical-align: middle;\n",
       "    }\n",
       "\n",
       "    .dataframe tbody tr th {\n",
       "        vertical-align: top;\n",
       "    }\n",
       "\n",
       "    .dataframe thead th {\n",
       "        text-align: right;\n",
       "    }\n",
       "</style>\n",
       "<table border=\"1\" class=\"dataframe\">\n",
       "  <thead>\n",
       "    <tr style=\"text-align: right;\">\n",
       "      <th></th>\n",
       "      <th>score</th>\n",
       "      <th>deviation_value</th>\n",
       "    </tr>\n",
       "    <tr>\n",
       "      <th>student</th>\n",
       "      <th></th>\n",
       "      <th></th>\n",
       "    </tr>\n",
       "  </thead>\n",
       "  <tbody>\n",
       "    <tr>\n",
       "      <th>A</th>\n",
       "      <td>42</td>\n",
       "      <td>35.981739</td>\n",
       "    </tr>\n",
       "    <tr>\n",
       "      <th>B</th>\n",
       "      <td>69</td>\n",
       "      <td>65.096588</td>\n",
       "    </tr>\n",
       "    <tr>\n",
       "      <th>C</th>\n",
       "      <td>56</td>\n",
       "      <td>51.078328</td>\n",
       "    </tr>\n",
       "    <tr>\n",
       "      <th>D</th>\n",
       "      <td>41</td>\n",
       "      <td>34.903412</td>\n",
       "    </tr>\n",
       "    <tr>\n",
       "      <th>E</th>\n",
       "      <td>57</td>\n",
       "      <td>52.156655</td>\n",
       "    </tr>\n",
       "    <tr>\n",
       "      <th>F</th>\n",
       "      <td>48</td>\n",
       "      <td>42.451706</td>\n",
       "    </tr>\n",
       "    <tr>\n",
       "      <th>G</th>\n",
       "      <td>65</td>\n",
       "      <td>60.783277</td>\n",
       "    </tr>\n",
       "    <tr>\n",
       "      <th>H</th>\n",
       "      <td>49</td>\n",
       "      <td>43.530034</td>\n",
       "    </tr>\n",
       "    <tr>\n",
       "      <th>I</th>\n",
       "      <td>65</td>\n",
       "      <td>60.783277</td>\n",
       "    </tr>\n",
       "    <tr>\n",
       "      <th>J</th>\n",
       "      <td>58</td>\n",
       "      <td>53.234983</td>\n",
       "    </tr>\n",
       "  </tbody>\n",
       "</table>\n",
       "</div>"
      ],
      "text/plain": [
       "         score  deviation_value\n",
       "student                        \n",
       "A           42        35.981739\n",
       "B           69        65.096588\n",
       "C           56        51.078328\n",
       "D           41        34.903412\n",
       "E           57        52.156655\n",
       "F           48        42.451706\n",
       "G           65        60.783277\n",
       "H           49        43.530034\n",
       "I           65        60.783277\n",
       "J           58        53.234983"
      ]
     },
     "execution_count": 6,
     "metadata": {},
     "output_type": "execute_result"
    }
   ],
   "source": [
    "scores_df['deviation_value'] = z\n",
    "scores_df"
   ]
  },
  {
   "cell_type": "markdown",
   "id": "edd0ee3f",
   "metadata": {},
   "source": [
    "## 1차원 데이터의 시각화"
   ]
  },
  {
   "cell_type": "code",
   "execution_count": 8,
   "id": "1091ebd5",
   "metadata": {},
   "outputs": [
    {
     "data": {
      "text/plain": [
       "array([42, 69, 56, 41, 57, 48, 65, 49, 65, 58, 70, 47, 51, 64, 62, 70, 71,\n",
       "       68, 73, 37, 65, 65, 61, 52, 57, 57, 75, 61, 47, 54, 66, 54, 54, 42,\n",
       "       37, 79, 56, 62, 62, 55, 63, 57, 57, 67, 55, 45, 66, 55, 64, 66],\n",
       "      dtype=int64)"
      ]
     },
     "execution_count": 8,
     "metadata": {},
     "output_type": "execute_result"
    }
   ],
   "source": [
    "import numpy as np\n",
    "english_scores = np.array(df['english'])\n",
    "english_scores"
   ]
  },
  {
   "cell_type": "code",
   "execution_count": 9,
   "id": "92a3af19",
   "metadata": {},
   "outputs": [
    {
     "data": {
      "text/plain": [
       "count    50.000000\n",
       "mean     58.380000\n",
       "std       9.799813\n",
       "min      37.000000\n",
       "25%      54.000000\n",
       "50%      57.500000\n",
       "75%      65.000000\n",
       "max      79.000000\n",
       "dtype: float64"
      ]
     },
     "execution_count": 9,
     "metadata": {},
     "output_type": "execute_result"
    }
   ],
   "source": [
    "# Series로 변환하여 describe를 표시\n",
    "pd.Series(english_scores).describe() "
   ]
  },
  {
   "cell_type": "markdown",
   "id": "f2214158",
   "metadata": {},
   "source": [
    "### 도수분포표"
   ]
  },
  {
   "cell_type": "code",
   "execution_count": 12,
   "id": "6a3f9cdc",
   "metadata": {},
   "outputs": [
    {
     "data": {
      "text/plain": [
       "array([ 0,  0,  0,  2,  8, 16, 18,  6,  0,  0], dtype=int64)"
      ]
     },
     "execution_count": 12,
     "metadata": {},
     "output_type": "execute_result"
    }
   ],
   "source": [
    "# bins = 계급 폭,  각클래스 구간 = 계급, 계급안의 값 수 = 도수, 총계급수=계급 수\n",
    "freq, _ = np.histogram(english_scores, bins=10, range=(0,100))\n",
    "freq"
   ]
  },
  {
   "cell_type": "code",
   "execution_count": 14,
   "id": "9d613954",
   "metadata": {},
   "outputs": [
    {
     "data": {
      "text/plain": [
       "['0~10',\n",
       " '10~20',\n",
       " '20~30',\n",
       " '30~40',\n",
       " '40~50',\n",
       " '50~60',\n",
       " '60~70',\n",
       " '70~80',\n",
       " '80~90',\n",
       " '90~100']"
      ]
     },
     "execution_count": 14,
     "metadata": {},
     "output_type": "execute_result"
    }
   ],
   "source": [
    "# 0~10, 10~20, ...이라는 문자열 리스트를 작성\n",
    "freq_class = [f'{i}~{i+10}' for i in range(0,100,10)]\n",
    "freq_class"
   ]
  },
  {
   "cell_type": "code",
   "execution_count": 15,
   "id": "a279a4f3",
   "metadata": {},
   "outputs": [
    {
     "data": {
      "text/html": [
       "<div>\n",
       "<style scoped>\n",
       "    .dataframe tbody tr th:only-of-type {\n",
       "        vertical-align: middle;\n",
       "    }\n",
       "\n",
       "    .dataframe tbody tr th {\n",
       "        vertical-align: top;\n",
       "    }\n",
       "\n",
       "    .dataframe thead th {\n",
       "        text-align: right;\n",
       "    }\n",
       "</style>\n",
       "<table border=\"1\" class=\"dataframe\">\n",
       "  <thead>\n",
       "    <tr style=\"text-align: right;\">\n",
       "      <th></th>\n",
       "      <th>frequency</th>\n",
       "    </tr>\n",
       "    <tr>\n",
       "      <th>class</th>\n",
       "      <th></th>\n",
       "    </tr>\n",
       "  </thead>\n",
       "  <tbody>\n",
       "    <tr>\n",
       "      <th>0~10</th>\n",
       "      <td>0</td>\n",
       "    </tr>\n",
       "    <tr>\n",
       "      <th>10~20</th>\n",
       "      <td>0</td>\n",
       "    </tr>\n",
       "    <tr>\n",
       "      <th>20~30</th>\n",
       "      <td>0</td>\n",
       "    </tr>\n",
       "    <tr>\n",
       "      <th>30~40</th>\n",
       "      <td>2</td>\n",
       "    </tr>\n",
       "    <tr>\n",
       "      <th>40~50</th>\n",
       "      <td>8</td>\n",
       "    </tr>\n",
       "    <tr>\n",
       "      <th>50~60</th>\n",
       "      <td>16</td>\n",
       "    </tr>\n",
       "    <tr>\n",
       "      <th>60~70</th>\n",
       "      <td>18</td>\n",
       "    </tr>\n",
       "    <tr>\n",
       "      <th>70~80</th>\n",
       "      <td>6</td>\n",
       "    </tr>\n",
       "    <tr>\n",
       "      <th>80~90</th>\n",
       "      <td>0</td>\n",
       "    </tr>\n",
       "    <tr>\n",
       "      <th>90~100</th>\n",
       "      <td>0</td>\n",
       "    </tr>\n",
       "  </tbody>\n",
       "</table>\n",
       "</div>"
      ],
      "text/plain": [
       "        frequency\n",
       "class            \n",
       "0~10            0\n",
       "10~20           0\n",
       "20~30           0\n",
       "30~40           2\n",
       "40~50           8\n",
       "50~60          16\n",
       "60~70          18\n",
       "70~80           6\n",
       "80~90           0\n",
       "90~100          0"
      ]
     },
     "execution_count": 15,
     "metadata": {},
     "output_type": "execute_result"
    }
   ],
   "source": [
    "# freq_class를 인덱스로 DataFrame을 작성\n",
    "freq_dist_df = pd.DataFrame({'frequency':freq},\n",
    "                           index=pd.Index(freq_class,\n",
    "                                         name='class'))\n",
    "freq_dist_df"
   ]
  },
  {
   "cell_type": "code",
   "execution_count": null,
   "id": "bc3d6c6d",
   "metadata": {},
   "outputs": [],
   "source": []
  },
  {
   "cell_type": "markdown",
   "id": "fbd56acf",
   "metadata": {},
   "source": [
    "- 계급값(각 계급의 중앙값)"
   ]
  },
  {
   "cell_type": "code",
   "execution_count": 16,
   "id": "0867a8c8",
   "metadata": {},
   "outputs": [
    {
     "data": {
      "text/plain": [
       "[5, 15, 25, 35, 45, 55, 65, 75, 85, 95]"
      ]
     },
     "execution_count": 16,
     "metadata": {},
     "output_type": "execute_result"
    }
   ],
   "source": [
    "class_value = [(i + (i+10))//2 for i in range(0,100,10)]\n",
    "class_value"
   ]
  },
  {
   "cell_type": "code",
   "execution_count": null,
   "id": "444f0b5c",
   "metadata": {},
   "outputs": [],
   "source": []
  },
  {
   "cell_type": "markdown",
   "id": "06a864a6",
   "metadata": {},
   "source": [
    "- 상대도수( 해당 계급의 데이터 차지 비율)"
   ]
  },
  {
   "cell_type": "code",
   "execution_count": 17,
   "id": "be86983f",
   "metadata": {},
   "outputs": [
    {
     "data": {
      "text/plain": [
       "array([0.  , 0.  , 0.  , 0.04, 0.16, 0.32, 0.36, 0.12, 0.  , 0.  ])"
      ]
     },
     "execution_count": 17,
     "metadata": {},
     "output_type": "execute_result"
    }
   ],
   "source": [
    "rel_freq = freq / freq.sum()\n",
    "rel_freq"
   ]
  },
  {
   "cell_type": "code",
   "execution_count": null,
   "id": "ce296a81",
   "metadata": {},
   "outputs": [],
   "source": []
  },
  {
   "cell_type": "markdown",
   "id": "a6c3083e",
   "metadata": {},
   "source": [
    "- 누적상대도수 (해당 계급까지의 상대도수의 누적합)"
   ]
  },
  {
   "cell_type": "code",
   "execution_count": 18,
   "id": "f6b36adb",
   "metadata": {},
   "outputs": [
    {
     "data": {
      "text/plain": [
       "array([0.  , 0.  , 0.  , 0.04, 0.2 , 0.52, 0.88, 1.  , 1.  , 1.  ])"
      ]
     },
     "execution_count": 18,
     "metadata": {},
     "output_type": "execute_result"
    }
   ],
   "source": [
    "cum_rel_freq = np.cumsum(rel_freq)\n",
    "cum_rel_freq"
   ]
  },
  {
   "cell_type": "markdown",
   "id": "23db0966",
   "metadata": {},
   "source": [
    "#### 계급값과 상대도수와 누적상대도수를 도수분포표에 추가"
   ]
  },
  {
   "cell_type": "code",
   "execution_count": 21,
   "id": "30da4f2c",
   "metadata": {},
   "outputs": [
    {
     "data": {
      "text/html": [
       "<div>\n",
       "<style scoped>\n",
       "    .dataframe tbody tr th:only-of-type {\n",
       "        vertical-align: middle;\n",
       "    }\n",
       "\n",
       "    .dataframe tbody tr th {\n",
       "        vertical-align: top;\n",
       "    }\n",
       "\n",
       "    .dataframe thead th {\n",
       "        text-align: right;\n",
       "    }\n",
       "</style>\n",
       "<table border=\"1\" class=\"dataframe\">\n",
       "  <thead>\n",
       "    <tr style=\"text-align: right;\">\n",
       "      <th></th>\n",
       "      <th>class value</th>\n",
       "      <th>frequency</th>\n",
       "      <th>relative frequency</th>\n",
       "      <th>cumulative relative frequency</th>\n",
       "    </tr>\n",
       "    <tr>\n",
       "      <th>class</th>\n",
       "      <th></th>\n",
       "      <th></th>\n",
       "      <th></th>\n",
       "      <th></th>\n",
       "    </tr>\n",
       "  </thead>\n",
       "  <tbody>\n",
       "    <tr>\n",
       "      <th>0~10</th>\n",
       "      <td>5</td>\n",
       "      <td>0</td>\n",
       "      <td>0.00</td>\n",
       "      <td>0.00</td>\n",
       "    </tr>\n",
       "    <tr>\n",
       "      <th>10~20</th>\n",
       "      <td>15</td>\n",
       "      <td>0</td>\n",
       "      <td>0.00</td>\n",
       "      <td>0.00</td>\n",
       "    </tr>\n",
       "    <tr>\n",
       "      <th>20~30</th>\n",
       "      <td>25</td>\n",
       "      <td>0</td>\n",
       "      <td>0.00</td>\n",
       "      <td>0.00</td>\n",
       "    </tr>\n",
       "    <tr>\n",
       "      <th>30~40</th>\n",
       "      <td>35</td>\n",
       "      <td>2</td>\n",
       "      <td>0.04</td>\n",
       "      <td>0.04</td>\n",
       "    </tr>\n",
       "    <tr>\n",
       "      <th>40~50</th>\n",
       "      <td>45</td>\n",
       "      <td>8</td>\n",
       "      <td>0.16</td>\n",
       "      <td>0.20</td>\n",
       "    </tr>\n",
       "    <tr>\n",
       "      <th>50~60</th>\n",
       "      <td>55</td>\n",
       "      <td>16</td>\n",
       "      <td>0.32</td>\n",
       "      <td>0.52</td>\n",
       "    </tr>\n",
       "    <tr>\n",
       "      <th>60~70</th>\n",
       "      <td>65</td>\n",
       "      <td>18</td>\n",
       "      <td>0.36</td>\n",
       "      <td>0.88</td>\n",
       "    </tr>\n",
       "    <tr>\n",
       "      <th>70~80</th>\n",
       "      <td>75</td>\n",
       "      <td>6</td>\n",
       "      <td>0.12</td>\n",
       "      <td>1.00</td>\n",
       "    </tr>\n",
       "    <tr>\n",
       "      <th>80~90</th>\n",
       "      <td>85</td>\n",
       "      <td>0</td>\n",
       "      <td>0.00</td>\n",
       "      <td>1.00</td>\n",
       "    </tr>\n",
       "    <tr>\n",
       "      <th>90~100</th>\n",
       "      <td>95</td>\n",
       "      <td>0</td>\n",
       "      <td>0.00</td>\n",
       "      <td>1.00</td>\n",
       "    </tr>\n",
       "  </tbody>\n",
       "</table>\n",
       "</div>"
      ],
      "text/plain": [
       "        class value  frequency  relative frequency  \\\n",
       "class                                                \n",
       "0~10              5          0                0.00   \n",
       "10~20            15          0                0.00   \n",
       "20~30            25          0                0.00   \n",
       "30~40            35          2                0.04   \n",
       "40~50            45          8                0.16   \n",
       "50~60            55         16                0.32   \n",
       "60~70            65         18                0.36   \n",
       "70~80            75          6                0.12   \n",
       "80~90            85          0                0.00   \n",
       "90~100           95          0                0.00   \n",
       "\n",
       "        cumulative relative frequency   \n",
       "class                                   \n",
       "0~10                              0.00  \n",
       "10~20                             0.00  \n",
       "20~30                             0.00  \n",
       "30~40                             0.04  \n",
       "40~50                             0.20  \n",
       "50~60                             0.52  \n",
       "60~70                             0.88  \n",
       "70~80                             1.00  \n",
       "80~90                             1.00  \n",
       "90~100                            1.00  "
      ]
     },
     "execution_count": 21,
     "metadata": {},
     "output_type": "execute_result"
    }
   ],
   "source": [
    "freq_dist_df['class value'] = class_value\n",
    "freq_dist_df['relative frequency'] = rel_freq\n",
    "freq_dist_df['cumulative relative frequency '] = cum_rel_freq\n",
    "freq_dist_df = freq_dist_df[['class value', 'frequency', 'relative frequency', 'cumulative relative frequency ']]\n",
    "freq_dist_df"
   ]
  },
  {
   "cell_type": "code",
   "execution_count": null,
   "id": "31c7fc34",
   "metadata": {},
   "outputs": [],
   "source": []
  },
  {
   "cell_type": "markdown",
   "id": "fb60e045",
   "metadata": {},
   "source": [
    "- 최빈값 (가장 많은값을 가진 계급)"
   ]
  },
  {
   "cell_type": "code",
   "execution_count": 22,
   "id": "54c16aee",
   "metadata": {},
   "outputs": [
    {
     "data": {
      "text/plain": [
       "65"
      ]
     },
     "execution_count": 22,
     "metadata": {},
     "output_type": "execute_result"
    }
   ],
   "source": [
    "freq_dist_df.loc[freq_dist_df['frequency'].idxmax(), 'class value']"
   ]
  },
  {
   "cell_type": "markdown",
   "id": "e88361b9",
   "metadata": {},
   "source": [
    "### 히스토그램"
   ]
  },
  {
   "cell_type": "code",
   "execution_count": 25,
   "id": "ced915b2",
   "metadata": {},
   "outputs": [],
   "source": [
    "import matplotlib.pyplot as plt\n",
    "# 그래프가 jupyter notebook 위에 표시\n",
    "%matplotlib inline  "
   ]
  },
  {
   "cell_type": "code",
   "execution_count": 29,
   "id": "43654a45",
   "metadata": {},
   "outputs": [
    {
     "data": {
      "image/png": "[encoded data removed]",
      "text/plain": [
       "<Figure size 720x432 with 1 Axes>"
      ]
     },
     "metadata": {
      "needs_background": "light"
     },
     "output_type": "display_data"
    }
   ],
   "source": [
    "# figsize로 가로 세로 크기 지정\n",
    "fig = plt.figure(figsize=(10,6))\n",
    "# 인수는 영역을 1x1개 지정, 하나의 영역에 그린다는 것을 의미\n",
    "ax = fig.add_subplot(111)\n",
    "\n",
    "# 계급수를 10으로 하여 히스토그램을 그림\n",
    "freq,_,_= ax.hist(english_scores, bins=10, range=(0,100))\n",
    "# x,y축에 레이블 부여\n",
    "ax.set_xlabel('score')\n",
    "ax.set_ylabel('person number')\n",
    "# x축을 0,10,20 ...100 , y축을 0,1,2, 눈금으로 구분\n",
    "ax.set_xticks(np.linspace(0,100,10+1))\n",
    "ax.set_yticks(np.arange(0,freq.max()+1))\n",
    "\n",
    "plt.show()"
   ]
  },
  {
   "cell_type": "code",
   "execution_count": null,
   "id": "184ae1d9",
   "metadata": {},
   "outputs": [],
   "source": []
  },
  {
   "cell_type": "markdown",
   "id": "da2c03c2",
   "metadata": {},
   "source": [
    "- 계급폭을 4로 즉 계급수를 25개로 히스토그램 출력하기"
   ]
  },
  {
   "cell_type": "code",
   "execution_count": 31,
   "id": "890ad9bb",
   "metadata": {},
   "outputs": [
    {
     "data": {
      "image/png": "[encoded data removed]",
      "text/plain": [
       "<Figure size 720x432 with 1 Axes>"
      ]
     },
     "metadata": {
      "needs_background": "light"
     },
     "output_type": "display_data"
    }
   ],
   "source": [
    "fig = plt.figure(figsize=(10,6))\n",
    "ax = fig.add_subplot(111)\n",
    "\n",
    "freq, _, _ = ax.hist(english_scores,bins=25,range=(0,100))\n",
    "ax.set_xlabel('score')\n",
    "ax.set_ylabel('person number')\n",
    "ax.set_xticks(np.linspace(0,100,25+1))\n",
    "ax.set_yticks(np.arange(0,freq.max()+1))\n",
    "\n",
    "plt.show()"
   ]
  },
  {
   "cell_type": "markdown",
   "id": "051c7f25",
   "metadata": {},
   "source": [
    "- add_subplot(111) fig틀 안의 몇개가 들어갈지 정하는것 마지막 1은 그래프의 위치 예시를 봅시다."
   ]
  },
  {
   "cell_type": "code",
   "execution_count": 33,
   "id": "f5d8b01a",
   "metadata": {},
   "outputs": [
    {
     "data": {
      "image/png": "[encoded data removed]",
      "text/plain": [
       "<Figure size 720x432 with 2 Axes>"
      ]
     },
     "metadata": {
      "needs_background": "light"
     },
     "output_type": "display_data"
    }
   ],
   "source": [
    "fig = plt.figure(figsize=(10,6))\n",
    "ax = fig.add_subplot(211)\n",
    "freq,_,_= ax.hist(english_scores, bins=10, range=(0,100))\n",
    "ax.set_xlabel('score')\n",
    "ax.set_ylabel('person number')\n",
    "ax.set_xticks(np.linspace(0,100,10+1))\n",
    "ax.set_yticks(np.arange(0,freq.max()+1))\n",
    "\n",
    "ax = fig.add_subplot(212)\n",
    "freq, _, _ = ax.hist(english_scores,bins=25,range=(0,100))\n",
    "ax.set_xlabel('score')\n",
    "ax.set_ylabel('person number')\n",
    "ax.set_xticks(np.linspace(0,100,25+1))\n",
    "ax.set_yticks(np.arange(0,freq.max()+1))\n",
    "\n",
    "plt.show()"
   ]
  },
  {
   "cell_type": "markdown",
   "id": "9bf5a46d",
   "metadata": {},
   "source": [
    "### 상대도수의 히스토그램을 누적상대도수 꺾은선 그래프와 같이 그리기"
   ]
  },
  {
   "cell_type": "code",
   "execution_count": 42,
   "id": "b0a38d02",
   "metadata": {},
   "outputs": [
    {
     "data": {
      "image/png": "[encoded data removed]",
      "text/plain": [
       "<Figure size 720x432 with 2 Axes>"
      ]
     },
     "metadata": {
      "needs_background": "light"
     },
     "output_type": "display_data"
    }
   ],
   "source": [
    "fig = plt.figure(figsize=(10,6))\n",
    "# add_subplot(111) fig틀 안에 몇개가 들어갈지를 정하는것 ()\n",
    "ax1 = fig.add_subplot(111)\n",
    "# Y축의 스케일이 다른 그래프를 ax1과 동일한 영역에 생성\n",
    "ax2 = ax1.twinx()\n",
    "\n",
    "# 상대도수의 히스토그램으로 하기 위해서는, 도수를 데이터의 수로 나눌 필요가 있음\n",
    "#  이것은 hist의 인수 weight를 지정하면 실현 가능\n",
    "weights = np.ones_like(english_scores) / len(english_scores)\n",
    "rel_freq, _, _ = ax1.hist(english_scores, bins=25,\n",
    "                         range=(0,100), weights=weights)\n",
    "\n",
    "cum_rel_freq = np.cumsum(rel_freq)\n",
    "class_value = [(i+(i+4))//2 for i in range(0,100,4)]\n",
    "#꺾은선 그래프를 그림\n",
    "# 인수 ls를 '--'로 하면 점선이 그려짐\n",
    "# 인수 marker를 'o' 으로 하면 데이터 점을 그림\n",
    "# 인수 color를 'gray' 로 하면 회색으로 지정\n",
    "ax2.plot(class_value, cum_rel_freq,\n",
    "        ls='--', marker='o', color='black')\n",
    "# 꺾은선 그래프의 눈금선을 제거(그래프 배경의 회색선)\n",
    "ax2.grid(visible=False)\n",
    "\n",
    "ax1.set_xlabel('score')\n",
    "ax1.set_ylabel('relative frequency')\n",
    "ax2.set_ylabel('cumulative relative frequency')\n",
    "ax1.set_xticks(np.linspace(0,100,25+1))\n",
    "\n",
    "plt.show()"
   ]
  },
  {
   "cell_type": "markdown",
   "id": "6513e231",
   "metadata": {},
   "source": [
    "### 상자그림 (box plot)"
   ]
  },
  {
   "cell_type": "code",
   "execution_count": 43,
   "id": "eae5786e",
   "metadata": {},
   "outputs": [
    {
     "data": {
      "image/png": "[encoded data removed]",
      "text/plain": [
       "<Figure size 360x432 with 1 Axes>"
      ]
     },
     "metadata": {
      "needs_background": "light"
     },
     "output_type": "display_data"
    }
   ],
   "source": [
    "fig = plt.figure(figsize=(5,6))\n",
    "ax = fig.add_subplot(111)\n",
    "ax.boxplot(english_scores, labels=['english'])\n",
    "\n",
    "plt.show()"
   ]
  },
  {
   "cell_type": "markdown",
   "id": "e5c767f9",
   "metadata": {},
   "source": [
    "## 2차원 데이터 정리"
   ]
  },
  {
   "cell_type": "code",
   "execution_count": 4,
   "id": "f4ff20c9",
   "metadata": {},
   "outputs": [],
   "source": [
    "import numpy as np\n",
    "import pandas as pd\n",
    "# 소수점 3자리까지 표시\n",
    "%precision 3\n",
    "pd.set_option('display.precision',3)"
   ]
  },
  {
   "cell_type": "code",
   "execution_count": 5,
   "id": "455f5581",
   "metadata": {},
   "outputs": [],
   "source": [
    "df= pd.read_csv('./ch2_scores_em.csv',\n",
    "               index_col='student number')"
   ]
  },
  {
   "cell_type": "code",
   "execution_count": 6,
   "id": "4aa32652",
   "metadata": {},
   "outputs": [
    {
     "data": {
      "text/html": [
       "<div>\n",
       "<style scoped>\n",
       "    .dataframe tbody tr th:only-of-type {\n",
       "        vertical-align: middle;\n",
       "    }\n",
       "\n",
       "    .dataframe tbody tr th {\n",
       "        vertical-align: top;\n",
       "    }\n",
       "\n",
       "    .dataframe thead th {\n",
       "        text-align: right;\n",
       "    }\n",
       "</style>\n",
       "<table border=\"1\" class=\"dataframe\">\n",
       "  <thead>\n",
       "    <tr style=\"text-align: right;\">\n",
       "      <th></th>\n",
       "      <th>english</th>\n",
       "      <th>mathematics</th>\n",
       "    </tr>\n",
       "    <tr>\n",
       "      <th>student</th>\n",
       "      <th></th>\n",
       "      <th></th>\n",
       "    </tr>\n",
       "  </thead>\n",
       "  <tbody>\n",
       "    <tr>\n",
       "      <th>A</th>\n",
       "      <td>42</td>\n",
       "      <td>65</td>\n",
       "    </tr>\n",
       "    <tr>\n",
       "      <th>B</th>\n",
       "      <td>69</td>\n",
       "      <td>80</td>\n",
       "    </tr>\n",
       "    <tr>\n",
       "      <th>C</th>\n",
       "      <td>56</td>\n",
       "      <td>63</td>\n",
       "    </tr>\n",
       "    <tr>\n",
       "      <th>D</th>\n",
       "      <td>41</td>\n",
       "      <td>63</td>\n",
       "    </tr>\n",
       "    <tr>\n",
       "      <th>E</th>\n",
       "      <td>57</td>\n",
       "      <td>76</td>\n",
       "    </tr>\n",
       "    <tr>\n",
       "      <th>F</th>\n",
       "      <td>48</td>\n",
       "      <td>60</td>\n",
       "    </tr>\n",
       "    <tr>\n",
       "      <th>G</th>\n",
       "      <td>65</td>\n",
       "      <td>81</td>\n",
       "    </tr>\n",
       "    <tr>\n",
       "      <th>H</th>\n",
       "      <td>49</td>\n",
       "      <td>66</td>\n",
       "    </tr>\n",
       "    <tr>\n",
       "      <th>I</th>\n",
       "      <td>65</td>\n",
       "      <td>78</td>\n",
       "    </tr>\n",
       "    <tr>\n",
       "      <th>J</th>\n",
       "      <td>58</td>\n",
       "      <td>82</td>\n",
       "    </tr>\n",
       "  </tbody>\n",
       "</table>\n",
       "</div>"
      ],
      "text/plain": [
       "         english  mathematics\n",
       "student                      \n",
       "A             42           65\n",
       "B             69           80\n",
       "C             56           63\n",
       "D             41           63\n",
       "E             57           76\n",
       "F             48           60\n",
       "G             65           81\n",
       "H             49           66\n",
       "I             65           78\n",
       "J             58           82"
      ]
     },
     "execution_count": 6,
     "metadata": {},
     "output_type": "execute_result"
    }
   ],
   "source": [
    "en_scores = np.array(df['english'])[:10]\n",
    "ma_scores = np.array(df['mathematics'])[:10]\n",
    "\n",
    "scores_df = pd.DataFrame({'english':en_scores,\n",
    "                         'mathematics':ma_scores},\n",
    "                        index=pd.Index(['A','B','C','D','E','F','G','H','I','J'],\n",
    "                                      name='student'))\n",
    "scores_df"
   ]
  },
  {
   "cell_type": "markdown",
   "id": "515d162c",
   "metadata": {},
   "source": [
    "### 도수분포표 만들기"
   ]
  },
  {
   "cell_type": "code",
   "execution_count": 7,
   "id": "06604b59",
   "metadata": {},
   "outputs": [
    {
     "data": {
      "text/html": [
       "<div>\n",
       "<style scoped>\n",
       "    .dataframe tbody tr th:only-of-type {\n",
       "        vertical-align: middle;\n",
       "    }\n",
       "\n",
       "    .dataframe tbody tr th {\n",
       "        vertical-align: top;\n",
       "    }\n",
       "\n",
       "    .dataframe thead th {\n",
       "        text-align: right;\n",
       "    }\n",
       "</style>\n",
       "<table border=\"1\" class=\"dataframe\">\n",
       "  <thead>\n",
       "    <tr style=\"text-align: right;\">\n",
       "      <th></th>\n",
       "      <th>english</th>\n",
       "      <th>mathematics</th>\n",
       "      <th>english_deviation</th>\n",
       "      <th>mathematics_deviation</th>\n",
       "      <th>product of deviations</th>\n",
       "    </tr>\n",
       "    <tr>\n",
       "      <th>student</th>\n",
       "      <th></th>\n",
       "      <th></th>\n",
       "      <th></th>\n",
       "      <th></th>\n",
       "      <th></th>\n",
       "    </tr>\n",
       "  </thead>\n",
       "  <tbody>\n",
       "    <tr>\n",
       "      <th>A</th>\n",
       "      <td>42</td>\n",
       "      <td>65</td>\n",
       "      <td>-13.0</td>\n",
       "      <td>-6.4</td>\n",
       "      <td>83.2</td>\n",
       "    </tr>\n",
       "    <tr>\n",
       "      <th>B</th>\n",
       "      <td>69</td>\n",
       "      <td>80</td>\n",
       "      <td>14.0</td>\n",
       "      <td>8.6</td>\n",
       "      <td>120.4</td>\n",
       "    </tr>\n",
       "    <tr>\n",
       "      <th>C</th>\n",
       "      <td>56</td>\n",
       "      <td>63</td>\n",
       "      <td>1.0</td>\n",
       "      <td>-8.4</td>\n",
       "      <td>-8.4</td>\n",
       "    </tr>\n",
       "    <tr>\n",
       "      <th>D</th>\n",
       "      <td>41</td>\n",
       "      <td>63</td>\n",
       "      <td>-14.0</td>\n",
       "      <td>-8.4</td>\n",
       "      <td>117.6</td>\n",
       "    </tr>\n",
       "    <tr>\n",
       "      <th>E</th>\n",
       "      <td>57</td>\n",
       "      <td>76</td>\n",
       "      <td>2.0</td>\n",
       "      <td>4.6</td>\n",
       "      <td>9.2</td>\n",
       "    </tr>\n",
       "    <tr>\n",
       "      <th>F</th>\n",
       "      <td>48</td>\n",
       "      <td>60</td>\n",
       "      <td>-7.0</td>\n",
       "      <td>-11.4</td>\n",
       "      <td>79.8</td>\n",
       "    </tr>\n",
       "    <tr>\n",
       "      <th>G</th>\n",
       "      <td>65</td>\n",
       "      <td>81</td>\n",
       "      <td>10.0</td>\n",
       "      <td>9.6</td>\n",
       "      <td>96.0</td>\n",
       "    </tr>\n",
       "    <tr>\n",
       "      <th>H</th>\n",
       "      <td>49</td>\n",
       "      <td>66</td>\n",
       "      <td>-6.0</td>\n",
       "      <td>-5.4</td>\n",
       "      <td>32.4</td>\n",
       "    </tr>\n",
       "    <tr>\n",
       "      <th>I</th>\n",
       "      <td>65</td>\n",
       "      <td>78</td>\n",
       "      <td>10.0</td>\n",
       "      <td>6.6</td>\n",
       "      <td>66.0</td>\n",
       "    </tr>\n",
       "    <tr>\n",
       "      <th>J</th>\n",
       "      <td>58</td>\n",
       "      <td>82</td>\n",
       "      <td>3.0</td>\n",
       "      <td>10.6</td>\n",
       "      <td>31.8</td>\n",
       "    </tr>\n",
       "  </tbody>\n",
       "</table>\n",
       "</div>"
      ],
      "text/plain": [
       "         english  mathematics  english_deviation  mathematics_deviation  \\\n",
       "student                                                                   \n",
       "A             42           65              -13.0                   -6.4   \n",
       "B             69           80               14.0                    8.6   \n",
       "C             56           63                1.0                   -8.4   \n",
       "D             41           63              -14.0                   -8.4   \n",
       "E             57           76                2.0                    4.6   \n",
       "F             48           60               -7.0                  -11.4   \n",
       "G             65           81               10.0                    9.6   \n",
       "H             49           66               -6.0                   -5.4   \n",
       "I             65           78               10.0                    6.6   \n",
       "J             58           82                3.0                   10.6   \n",
       "\n",
       "         product of deviations  \n",
       "student                         \n",
       "A                         83.2  \n",
       "B                        120.4  \n",
       "C                         -8.4  \n",
       "D                        117.6  \n",
       "E                          9.2  \n",
       "F                         79.8  \n",
       "G                         96.0  \n",
       "H                         32.4  \n",
       "I                         66.0  \n",
       "J                         31.8  "
      ]
     },
     "execution_count": 7,
     "metadata": {},
     "output_type": "execute_result"
    }
   ],
   "source": [
    "summary_df = scores_df.copy()\n",
    "summary_df['english_deviation']= summary_df['english'] - summary_df['english'].mean()\n",
    "summary_df['mathematics_deviation']= summary_df['mathematics'] - summary_df['mathematics'].mean()\n",
    "summary_df['product of deviations']= summary_df['english_deviation']*summary_df['mathematics_deviation']\n",
    "summary_df"
   ]
  },
  {
   "cell_type": "markdown",
   "id": "5766ce11",
   "metadata": {},
   "source": [
    "### 분산 평균값 (공분산?)"
   ]
  },
  {
   "cell_type": "code",
   "execution_count": 8,
   "id": "7f775003",
   "metadata": {},
   "outputs": [
    {
     "data": {
      "text/plain": [
       "62.8"
      ]
     },
     "execution_count": 8,
     "metadata": {},
     "output_type": "execute_result"
    }
   ],
   "source": [
    "summary_df['product of deviations'].mean()"
   ]
  },
  {
   "cell_type": "markdown",
   "id": "744092db",
   "metadata": {},
   "source": [
    "### Numpy cov함수로 공분산 구하기"
   ]
  },
  {
   "cell_type": "code",
   "execution_count": 9,
   "id": "62917aa5",
   "metadata": {},
   "outputs": [
    {
     "data": {
      "text/plain": [
       "array([[86.  , 62.8 ],\n",
       "       [62.8 , 68.44]])"
      ]
     },
     "execution_count": 9,
     "metadata": {},
     "output_type": "execute_result"
    }
   ],
   "source": [
    "cov_mat=np.cov(en_scores, ma_scores, ddof=0)\n",
    "cov_mat"
   ]
  },
  {
   "cell_type": "markdown",
   "id": "361e706e",
   "metadata": {},
   "source": [
    "#### [0,1]은 영어 공분산, [1,0] 수학 공분산 값"
   ]
  },
  {
   "cell_type": "code",
   "execution_count": 10,
   "id": "ad999f2b",
   "metadata": {},
   "outputs": [
    {
     "data": {
      "text/plain": [
       "(62.800000000000004, 62.800000000000004)"
      ]
     },
     "execution_count": 10,
     "metadata": {},
     "output_type": "execute_result"
    }
   ],
   "source": [
    "cov_mat[0,1],cov_mat[1,0]"
   ]
  },
  {
   "cell_type": "markdown",
   "id": "3e6fd277",
   "metadata": {},
   "source": [
    "#### [0,0] [1,1]은 영어 수학 분산 값"
   ]
  },
  {
   "cell_type": "code",
   "execution_count": 11,
   "id": "3fc52431",
   "metadata": {},
   "outputs": [
    {
     "data": {
      "text/plain": [
       "(86.0, 68.44000000000001)"
      ]
     },
     "execution_count": 11,
     "metadata": {},
     "output_type": "execute_result"
    }
   ],
   "source": [
    "cov_mat[0,0], cov_mat[1,1]"
   ]
  },
  {
   "cell_type": "markdown",
   "id": "b89ce3a5",
   "metadata": {},
   "source": [
    "#### 분산값 계산해보기"
   ]
  },
  {
   "cell_type": "code",
   "execution_count": 12,
   "id": "86680a2a",
   "metadata": {},
   "outputs": [
    {
     "data": {
      "text/plain": [
       "(86.0, 68.44000000000001)"
      ]
     },
     "execution_count": 12,
     "metadata": {},
     "output_type": "execute_result"
    }
   ],
   "source": [
    "np.var(en_scores, ddof=0), np.var(ma_scores, ddof=0)"
   ]
  },
  {
   "cell_type": "markdown",
   "id": "f366abf6",
   "metadata": {},
   "source": [
    "### 상관계수"
   ]
  },
  {
   "cell_type": "markdown",
   "id": "067343d6",
   "metadata": {},
   "source": [
    "#### 영어와 수학의 상관계수 구하기"
   ]
  },
  {
   "cell_type": "code",
   "execution_count": 62,
   "id": "d6045fba",
   "metadata": {},
   "outputs": [
    {
     "data": {
      "text/plain": [
       "0.819"
      ]
     },
     "execution_count": 62,
     "metadata": {},
     "output_type": "execute_result"
    }
   ],
   "source": [
    "np.cov(en_scores, ma_scores, ddof=0)[0,1]/(np.std(en_scores)*np.std(ma_scores))"
   ]
  },
  {
   "cell_type": "markdown",
   "id": "8e77a287",
   "metadata": {},
   "source": [
    "#### corrcoef 함수로 상관계수 구하기"
   ]
  },
  {
   "cell_type": "code",
   "execution_count": 63,
   "id": "c96fa58a",
   "metadata": {
    "scrolled": false
   },
   "outputs": [
    {
     "data": {
      "text/plain": [
       "array([[1.   , 0.819],\n",
       "       [0.819, 1.   ]])"
      ]
     },
     "execution_count": 63,
     "metadata": {},
     "output_type": "execute_result"
    }
   ],
   "source": [
    "# [0,1]은 영어 상관계수, [1,0] 수학 상관계수\n",
    "np.corrcoef(en_scores, ma_scores)"
   ]
  },
  {
   "cell_type": "markdown",
   "id": "a76dc1ab",
   "metadata": {},
   "source": [
    "#### Dataframe 의 경우 corr 메서드와 동일한 결과"
   ]
  },
  {
   "cell_type": "code",
   "execution_count": 64,
   "id": "6eecdc3e",
   "metadata": {
    "scrolled": false
   },
   "outputs": [
    {
     "data": {
      "text/html": [
       "<div>\n",
       "<style scoped>\n",
       "    .dataframe tbody tr th:only-of-type {\n",
       "        vertical-align: middle;\n",
       "    }\n",
       "\n",
       "    .dataframe tbody tr th {\n",
       "        vertical-align: top;\n",
       "    }\n",
       "\n",
       "    .dataframe thead th {\n",
       "        text-align: right;\n",
       "    }\n",
       "</style>\n",
       "<table border=\"1\" class=\"dataframe\">\n",
       "  <thead>\n",
       "    <tr style=\"text-align: right;\">\n",
       "      <th></th>\n",
       "      <th>english</th>\n",
       "      <th>mathematics</th>\n",
       "    </tr>\n",
       "  </thead>\n",
       "  <tbody>\n",
       "    <tr>\n",
       "      <th>english</th>\n",
       "      <td>1.000</td>\n",
       "      <td>0.819</td>\n",
       "    </tr>\n",
       "    <tr>\n",
       "      <th>mathematics</th>\n",
       "      <td>0.819</td>\n",
       "      <td>1.000</td>\n",
       "    </tr>\n",
       "  </tbody>\n",
       "</table>\n",
       "</div>"
      ],
      "text/plain": [
       "             english  mathematics\n",
       "english        1.000        0.819\n",
       "mathematics    0.819        1.000"
      ]
     },
     "execution_count": 64,
     "metadata": {},
     "output_type": "execute_result"
    }
   ],
   "source": [
    "scores_df.corr()"
   ]
  },
  {
   "cell_type": "code",
   "execution_count": null,
   "id": "f2ea71f5",
   "metadata": {},
   "outputs": [],
   "source": []
  },
  {
   "cell_type": "markdown",
   "id": "7e7a20ed",
   "metadata": {},
   "source": [
    "### 2차원 데이터의 시각화"
   ]
  },
  {
   "cell_type": "code",
   "execution_count": 65,
   "id": "3b120450",
   "metadata": {},
   "outputs": [],
   "source": [
    "import matplotlib.pyplot as plt\n",
    "%matplotlib inline"
   ]
  },
  {
   "cell_type": "markdown",
   "id": "5a25840c",
   "metadata": {},
   "source": [
    "#### 산점도"
   ]
  },
  {
   "cell_type": "code",
   "execution_count": 66,
   "id": "62a6eb42",
   "metadata": {},
   "outputs": [
    {
     "data": {
      "image/png": "[encoded data removed]",
      "text/plain": [
       "<Figure size 576x576 with 1 Axes>"
      ]
     },
     "metadata": {
      "needs_background": "light"
     },
     "output_type": "display_data"
    }
   ],
   "source": [
    "english_scores=np.array(df['english'])\n",
    "math_scores = np.array(df['mathematics'])\n",
    "\n",
    "fig=plt.figure(figsize=(8,8))\n",
    "ax = fig.add_subplot(111)\n",
    "#산점도\n",
    "ax.scatter(english_scores, math_scores)\n",
    "ax.set_xlabel('english')\n",
    "ax.set_ylabel('mathematics')\n",
    "\n",
    "plt.show()"
   ]
  },
  {
   "cell_type": "markdown",
   "id": "821ccc3c",
   "metadata": {},
   "source": [
    "#### 희귀직선( Matplotlib 에는 희귀직선 그리는 메서드 없어서 Numpy 사용)"
   ]
  },
  {
   "cell_type": "code",
   "execution_count": 13,
   "id": "6b5bb51e",
   "metadata": {
    "scrolled": true
   },
   "outputs": [
    {
     "ename": "NameError",
     "evalue": "name 'english_scores' is not defined",
     "output_type": "error",
     "traceback": [
      "\u001b[1;31m---------------------------------------------------------------------------\u001b[0m",
      "\u001b[1;31mNameError\u001b[0m                                 Traceback (most recent call last)",
      "\u001b[1;32m~\\AppData\\Local\\Temp\\ipykernel_17068\\1671708025.py\u001b[0m in \u001b[0;36m<module>\u001b[1;34m\u001b[0m\n\u001b[0;32m      1\u001b[0m \u001b[1;31m#계수 0과 1을 구한다.\u001b[0m\u001b[1;33m\u001b[0m\u001b[1;33m\u001b[0m\u001b[1;33m\u001b[0m\u001b[0m\n\u001b[1;32m----> 2\u001b[1;33m \u001b[0mpoly_fit\u001b[0m \u001b[1;33m=\u001b[0m \u001b[0mnp\u001b[0m\u001b[1;33m.\u001b[0m\u001b[0mpolyfit\u001b[0m\u001b[1;33m(\u001b[0m\u001b[0menglish_scores\u001b[0m\u001b[1;33m,\u001b[0m \u001b[0mmath_scores\u001b[0m\u001b[1;33m,\u001b[0m\u001b[1;36m1\u001b[0m\u001b[1;33m)\u001b[0m\u001b[1;33m\u001b[0m\u001b[1;33m\u001b[0m\u001b[0m\n\u001b[0m\u001b[0;32m      3\u001b[0m \u001b[1;31m#0+1 x를 반환하는 함수를 작성\u001b[0m\u001b[1;33m\u001b[0m\u001b[1;33m\u001b[0m\u001b[1;33m\u001b[0m\u001b[0m\n\u001b[0;32m      4\u001b[0m \u001b[0mpoly_1d\u001b[0m \u001b[1;33m=\u001b[0m \u001b[0mnp\u001b[0m\u001b[1;33m.\u001b[0m\u001b[0mpoly1d\u001b[0m\u001b[1;33m(\u001b[0m\u001b[0mpoly_fit\u001b[0m\u001b[1;33m)\u001b[0m\u001b[1;33m\u001b[0m\u001b[1;33m\u001b[0m\u001b[0m\n\u001b[0;32m      5\u001b[0m \u001b[1;31m#직선을 그리기 위해 x좌표를 생성\u001b[0m\u001b[1;33m\u001b[0m\u001b[1;33m\u001b[0m\u001b[1;33m\u001b[0m\u001b[0m\n",
      "\u001b[1;31mNameError\u001b[0m: name 'english_scores' is not defined"
     ]
    }
   ],
   "source": [
    "#계수 0과 1을 구한다.\n",
    "poly_fit = np.polyfit(english_scores, math_scores,1)\n",
    "#0+1 x를 반환하는 함수를 작성\n",
    "poly_1d = np.poly1d(poly_fit)\n",
    "#직선을 그리기 위해 x좌표를 생성\n",
    "xs= np.linspace(english_scores, math_scores,max())\n",
    "#xs 에 대응하는 y좌표를 구한다.\n",
    "ys = poly_1d(xs)\n",
    "\n",
    "fig = plt.figure(figsize=(8,8))\n",
    "ax = fig.add_subplot(111)\n",
    "ax.scatter(english_scores, math_scores, label='score')\n",
    "ax.ploot(xs, ys, color='black',\n",
    "        label=f'{poly_fit[1]:.2f}+ {poly_fit[0]:.2f}x')\n",
    "ax.set_xlabel('english')\n",
    "ax.set_ylabel('mathematics')\n",
    "#범례 표시\n",
    "ax.legend(loc='upper left')\n",
    "\n",
    "plt.show()"
   ]
  },
  {
   "cell_type": "markdown",
   "id": "b0f0613b",
   "metadata": {},
   "source": [
    "#### 히트맵"
   ]
  },
  {
   "cell_type": "code",
   "execution_count": 71,
   "id": "da31a13e",
   "metadata": {},
   "outputs": [
    {
     "data": {
      "image/png": "[encoded data removed]",
      "text/plain": [
       "<Figure size 720x576 with 2 Axes>"
      ]
     },
     "metadata": {
      "needs_background": "light"
     },
     "output_type": "display_data"
    }
   ],
   "source": [
    "fig = plt.figure(figsize=(10,8))\n",
    "ax = fig.add_subplot(111)\n",
    "\n",
    "c=ax.hist2d(english_scores, math_scores,\n",
    "           bins=[9,8], range=[(35,80),(55,95)])\n",
    "ax.set_xlabel('english')\n",
    "ax.set_ylabel('mathematics')\n",
    "ax.set_xticks(c[1])\n",
    "ax.set_yticks(c[2])\n",
    "#컬러 바 표시\n",
    "fig.colorbar(c[3], ax=ax)\n",
    "plt.show()"
   ]
  },
  {
   "cell_type": "code",
   "execution_count": null,
   "id": "857a64ee",
   "metadata": {},
   "outputs": [],
   "source": []
  },
  {
   "cell_type": "markdown",
   "id": "1bae66a7",
   "metadata": {},
   "source": [
    "### 앤스컴의 예  84p\n",
    "- (데이터 부석할 때는 가능하면 그림을 그려하는 것 예시로 보여줌)"
   ]
  },
  {
   "cell_type": "markdown",
   "id": "38b2e54b",
   "metadata": {},
   "source": [
    "- Numpy 형식 파일 읽어오기\n",
    "import numpy as np\n",
    "anscombe_data = np.load('./ch3_anscombe.npy')\n",
    "print(anscombe_data.shape) # 2차원이 4개 11행 2열 (4,11,2)\n",
    "anscombe_data[0]"
   ]
  },
  {
   "cell_type": "markdown",
   "id": "fe9090eb",
   "metadata": {},
   "source": [
    "- 아래 데이터표로 볼경우 data1 부터 4까지의 값들이 전부 같다. 하지만 시각화에선 다르다 그러기에 시각화"
   ]
  },
  {
   "cell_type": "code",
   "execution_count": 13,
   "id": "f1f92123",
   "metadata": {
    "scrolled": true
   },
   "outputs": [
    {
     "data": {
      "text/html": [
       "<div>\n",
       "<style scoped>\n",
       "    .dataframe tbody tr th:only-of-type {\n",
       "        vertical-align: middle;\n",
       "    }\n",
       "\n",
       "    .dataframe tbody tr th {\n",
       "        vertical-align: top;\n",
       "    }\n",
       "\n",
       "    .dataframe thead th {\n",
       "        text-align: right;\n",
       "    }\n",
       "</style>\n",
       "<table border=\"1\" class=\"dataframe\">\n",
       "  <thead>\n",
       "    <tr style=\"text-align: right;\">\n",
       "      <th></th>\n",
       "      <th>data1</th>\n",
       "      <th>data2</th>\n",
       "      <th>data3</th>\n",
       "      <th>data4</th>\n",
       "    </tr>\n",
       "  </thead>\n",
       "  <tbody>\n",
       "    <tr>\n",
       "      <th>x-mean</th>\n",
       "      <td>9.00</td>\n",
       "      <td>9.00</td>\n",
       "      <td>9.00</td>\n",
       "      <td>9.00</td>\n",
       "    </tr>\n",
       "    <tr>\n",
       "      <th>x_variance</th>\n",
       "      <td>10.00</td>\n",
       "      <td>10.00</td>\n",
       "      <td>10.00</td>\n",
       "      <td>10.00</td>\n",
       "    </tr>\n",
       "    <tr>\n",
       "      <th>y_mean</th>\n",
       "      <td>7.50</td>\n",
       "      <td>7.50</td>\n",
       "      <td>7.50</td>\n",
       "      <td>7.50</td>\n",
       "    </tr>\n",
       "    <tr>\n",
       "      <th>y_variance</th>\n",
       "      <td>3.75</td>\n",
       "      <td>3.75</td>\n",
       "      <td>3.75</td>\n",
       "      <td>3.75</td>\n",
       "    </tr>\n",
       "    <tr>\n",
       "      <th>x&amp;y_correlation</th>\n",
       "      <td>0.82</td>\n",
       "      <td>0.82</td>\n",
       "      <td>0.82</td>\n",
       "      <td>0.82</td>\n",
       "    </tr>\n",
       "    <tr>\n",
       "      <th>x&amp;y_regression line</th>\n",
       "      <td>3.00+0.50x</td>\n",
       "      <td>3.00+0.50x</td>\n",
       "      <td>3.00+0.50x</td>\n",
       "      <td>3.00+0.50x</td>\n",
       "    </tr>\n",
       "  </tbody>\n",
       "</table>\n",
       "</div>"
      ],
      "text/plain": [
       "                          data1       data2       data3       data4\n",
       "x-mean                     9.00        9.00        9.00        9.00\n",
       "x_variance                10.00       10.00       10.00       10.00\n",
       "y_mean                     7.50        7.50        7.50        7.50\n",
       "y_variance                 3.75        3.75        3.75        3.75\n",
       "x&y_correlation            0.82        0.82        0.82        0.82\n",
       "x&y_regression line  3.00+0.50x  3.00+0.50x  3.00+0.50x  3.00+0.50x"
      ]
     },
     "execution_count": 13,
     "metadata": {},
     "output_type": "execute_result"
    }
   ],
   "source": [
    "import pandas as pd\n",
    "stats_df = pd.DataFrame(index=['x-mean','x_variance','y_mean','y_variance','x&y_correlation','x&y_regression line'])\n",
    "for i, data in enumerate(anscombe_data):\n",
    "    dataX = data[:,0]\n",
    "    dataY = data[:,1]\n",
    "    poly_fit = np.polyfit(dataX, dataY, 1)\n",
    "    stats_df[f'data{i+1}']=\\\n",
    "            [f'{np.mean(dataX):.2f}',\n",
    "             f'{np.var(dataX):.2f}',\n",
    "             f'{np.mean(dataY):.2f}',\n",
    "             f'{np.var(dataY):.2f}',\n",
    "             f'{np.corrcoef(dataX,dataY)[0,1]:.2f}',\n",
    "             f'{poly_fit[1]:.2f}+{poly_fit[0]:.2f}x']\n",
    "stats_df  "
   ]
  },
  {
   "cell_type": "code",
   "execution_count": 16,
   "id": "93e0e72d",
   "metadata": {},
   "outputs": [
    {
     "data": {
      "image/png": "[encoded data removed]",
      "text/plain": [
       "<Figure size 720x720 with 4 Axes>"
      ]
     },
     "metadata": {
      "needs_background": "light"
     },
     "output_type": "display_data"
    }
   ],
   "source": [
    "import matplotlib.pyplot as plt\n",
    "\n",
    "fig, axes = plt.subplots(nrows=2, ncols=2, figsize=(10,10),\n",
    "                        sharex = True, sharey = True)\n",
    "\n",
    "xs = np.linspace(0,30,100)\n",
    "for i , data in enumerate(anscombe_data):\n",
    "    poly_fit = np.polyfit(data[:,0],data[:,1],1)\n",
    "    poly_1d = np.poly1d(poly_fit)\n",
    "    ys = poly_1d(xs)\n",
    "    # 그리는 영역을 선택\n",
    "    ax = axes[i//2, i%2]\n",
    "    ax.set_xlim([4,20])\n",
    "    ax.set_ylim([3,13])\n",
    "    # 타이틀을 부여\n",
    "    ax.set_title(f'data{i+1}')\n",
    "    ax.scatter(data[:,0], data[:,1])\n",
    "    ax.plot(xs, ys, color='black')\n",
    "    \n",
    "#그래프 사이의 간격을 좁힌다\n",
    "plt.tight_layout()\n",
    "plt.show()"
   ]
  },
  {
   "cell_type": "markdown",
   "id": "1b199856",
   "metadata": {},
   "source": [
    "#### polyfit함수 사용법\n",
    "poly(x,y,차수) 형태로 매우 간단하게 이용이 가능.\n",
    "polyfit (x,y,n)\n",
    "첫번째 값 : 기울기\n",
    "두번째 값 :  y축 절편을 구해줌(x가 0일때)\n",
    "만약 차수가 2개이면 기울기값을 2개 5개면 5개를 구해줌\n"
   ]
  },
  {
   "cell_type": "code",
   "execution_count": 17,
   "id": "43f2711a",
   "metadata": {},
   "outputs": [
    {
     "name": "stdout",
     "output_type": "stream",
     "text": [
      "[ 3.31428571 -3.6       ]\n"
     ]
    }
   ],
   "source": [
    "\n",
    "x = [1,2,3,4,5,6]\n",
    "y = [1,3,6,8,11,19]\n",
    "\n",
    "print(np.polyfit(x,y,1))\n",
    "# y = 3.314x - 3.6"
   ]
  },
  {
   "cell_type": "code",
   "execution_count": 18,
   "id": "4ec54fc2",
   "metadata": {},
   "outputs": [
    {
     "data": {
      "image/png": "[encoded data removed]",
      "text/plain": [
       "<Figure size 432x288 with 1 Axes>"
      ]
     },
     "metadata": {
      "needs_background": "light"
     },
     "output_type": "display_data"
    }
   ],
   "source": [
    "poly = np.polyfit(x,y,1)\n",
    "y_pred = np.array(x) * poly[0] + poly[1]\n",
    "\n",
    "plt.plot(x,y_pred, color = 'b')\n",
    "plt.scatter(x,y,color = 'r')\n",
    "plt.show()"
   ]
  },
  {
   "cell_type": "code",
   "execution_count": 24,
   "id": "dcb4bf98",
   "metadata": {
    "scrolled": true
   },
   "outputs": [
    {
     "name": "stdout",
     "output_type": "stream",
     "text": [
      "[ 0.53571429 -0.43571429  1.4       ]\n"
     ]
    },
    {
     "data": {
      "image/png": "[encoded data removed]",
      "text/plain": [
       "<Figure size 432x288 with 1 Axes>"
      ]
     },
     "metadata": {
      "needs_background": "light"
     },
     "output_type": "display_data"
    }
   ],
   "source": [
    "# 2차 회귀식 및 시각화\n",
    "print(np.polyfit(x,y,2))\n",
    "\n",
    "poly = np.polyfit(x,y,2)\n",
    "x_line = np.linspace(1,6,100)# 곡선을 완만하게 그리기 위한 linspace 객체 선언\n",
    "y_pred = x_line**2*poly[0] + x_line * poly[1] + poly[2]\n",
    "\n",
    "plt.plot(x_line, y_pred, color = 'b')\n",
    "plt.scatter(x,y,color = 'r')\n",
    "plt.show()"
   ]
  },
  {
   "cell_type": "code",
   "execution_count": 26,
   "id": "32892e01",
   "metadata": {},
   "outputs": [
    {
     "name": "stdout",
     "output_type": "stream",
     "text": [
      "[ -0.01666667   0.41666667  -3.41666667  12.08333333 -16.06666667\n",
      "   8.        ]\n"
     ]
    },
    {
     "data": {
      "image/png": "[encoded data removed]",
      "text/plain": [
       "<Figure size 432x288 with 1 Axes>"
      ]
     },
     "metadata": {
      "needs_background": "light"
     },
     "output_type": "display_data"
    }
   ],
   "source": [
    "poly = np.polyfit(x,y,5)\n",
    "print(poly)\n",
    "x_line = np.linspace(1,6,100)\n",
    "y_pred = np.zeros_like(x_line)  # 예측값을 담을 그릇(모듬값이 0인 배열)\n",
    "for i in range(6):\n",
    "    y_pred += x_line**(5-i) * poly[i]\n",
    "plt.plot(x_line, y_pred, color = 'b')\n",
    "plt.scatter(x,y,color='r')\n",
    "plt.show()"
   ]
  },
  {
   "cell_type": "markdown",
   "id": "425123bb",
   "metadata": {},
   "source": []
  },
  {
   "cell_type": "markdown",
   "id": "9ea44d99",
   "metadata": {},
   "source": [
    "## 추측통계의 기본"
   ]
  },
  {
   "cell_type": "code",
   "execution_count": 14,
   "id": "efc11fae",
   "metadata": {},
   "outputs": [],
   "source": [
    "import numpy as np\n",
    "import pandas as pd\n",
    "import matplotlib.pyplot as plt\n",
    "\n",
    "%precision 3\n",
    "%matplotlib inline"
   ]
  },
  {
   "cell_type": "code",
   "execution_count": 15,
   "id": "1c7c1f7c",
   "metadata": {},
   "outputs": [
    {
     "data": {
      "text/plain": [
       "array([76, 55, 80, 80, 74, 61, 81, 76, 23, 80], dtype=int64)"
      ]
     },
     "execution_count": 15,
     "metadata": {},
     "output_type": "execute_result"
    }
   ],
   "source": [
    "df = pd.read_csv('./ch4_scores400.csv')\n",
    "scores = np.array(df['score'])\n",
    "scores[:10]"
   ]
  },
  {
   "cell_type": "markdown",
   "id": "15f40c22",
   "metadata": {},
   "source": [
    "### 표본추출 방법 - 무작위추출"
   ]
  },
  {
   "cell_type": "code",
   "execution_count": 16,
   "id": "f1c7a189",
   "metadata": {},
   "outputs": [
    {
     "data": {
      "text/plain": [
       "array([1, 2, 1])"
      ]
     },
     "execution_count": 16,
     "metadata": {},
     "output_type": "execute_result"
    }
   ],
   "source": [
    "np.random.choice([1,2,3],3)"
   ]
  },
  {
   "cell_type": "code",
   "execution_count": 17,
   "id": "f10324fd",
   "metadata": {},
   "outputs": [
    {
     "data": {
      "text/plain": [
       "array([1, 2, 3])"
      ]
     },
     "execution_count": 17,
     "metadata": {},
     "output_type": "execute_result"
    }
   ],
   "source": [
    "# replace=False 를 주면 중복값 초이스를 하지 않음\n",
    "np.random.choice([1,2,3,],3, replace=False)"
   ]
  },
  {
   "cell_type": "markdown",
   "id": "5e821c42",
   "metadata": {},
   "source": [
    "- 무작위 추출해  표본평균 계산하기"
   ]
  },
  {
   "cell_type": "code",
   "execution_count": 18,
   "id": "8794520c",
   "metadata": {},
   "outputs": [
    {
     "data": {
      "text/plain": [
       "70.4"
      ]
     },
     "execution_count": 18,
     "metadata": {},
     "output_type": "execute_result"
    }
   ],
   "source": [
    "np.random.seed(0)\n",
    "sample = np.random.choice(scores, 20)\n",
    "sample.mean()"
   ]
  },
  {
   "cell_type": "code",
   "execution_count": 19,
   "id": "f6ca232c",
   "metadata": {},
   "outputs": [
    {
     "data": {
      "text/plain": [
       "69.53"
      ]
     },
     "execution_count": 19,
     "metadata": {},
     "output_type": "execute_result"
    }
   ],
   "source": [
    "scores.mean()"
   ]
  },
  {
   "cell_type": "code",
   "execution_count": 20,
   "id": "ab1e3eee",
   "metadata": {},
   "outputs": [
    {
     "name": "stdout",
     "output_type": "stream",
     "text": [
      "1번째 무작위 추출 표본평균 72.45\n",
      "2번째 무작위 추출 표본평균 63.7\n",
      "3번째 무작위 추출 표본평균 66.05\n",
      "4번째 무작위 추출 표본평균 71.7\n",
      "5번째 무작위 추출 표본평균 74.15\n"
     ]
    }
   ],
   "source": [
    "# 무작위추출을 실행시마다 결과 달라짐 그래서 표본평균도 달라지기에 몇번 반복 실행으로 결과보기\n",
    "for i in range(5):\n",
    "    sample = np.random.choice(scores,20)\n",
    "    print(f'{i+1}번째 무작위 추출 표본평균',sample.mean())\n"
   ]
  },
  {
   "cell_type": "markdown",
   "id": "8947a932",
   "metadata": {},
   "source": [
    "### 확률분포"
   ]
  },
  {
   "cell_type": "markdown",
   "id": "c046e215",
   "metadata": {},
   "source": [
    "#### 불공정 주사위 만들어 실험"
   ]
  },
  {
   "cell_type": "code",
   "execution_count": 21,
   "id": "07bc256c",
   "metadata": {},
   "outputs": [],
   "source": [
    "dice = [1,2,3,4,5,6]\n",
    "prob = [1/21, 2/21, 3/21, 4/21, 5/21, 6/21]"
   ]
  },
  {
   "cell_type": "code",
   "execution_count": 22,
   "id": "d4a86978",
   "metadata": {},
   "outputs": [
    {
     "data": {
      "text/plain": [
       "1"
      ]
     },
     "execution_count": 22,
     "metadata": {},
     "output_type": "execute_result"
    }
   ],
   "source": [
    "# 여기서 랜덤 초이스 안의 p는 확률을 설정해줌\n",
    "np.random.choice(dice,p=prob)"
   ]
  },
  {
   "cell_type": "markdown",
   "id": "d3a84668",
   "metadata": {},
   "source": [
    "#### 100번 실행해보기"
   ]
  },
  {
   "cell_type": "code",
   "execution_count": 23,
   "id": "04464d3e",
   "metadata": {},
   "outputs": [
    {
     "data": {
      "text/plain": [
       "array([4, 6, 4, 5, 5, 6, 6, 3, 5, 6, 5, 6, 6, 2, 3, 1, 6, 5, 6, 3, 4, 5,\n",
       "       3, 4, 3, 5, 5, 4, 4, 6, 4, 6, 5, 6, 5, 4, 6, 2, 6, 4, 5, 3, 4, 6,\n",
       "       5, 5, 5, 3, 4, 5, 4, 4, 6, 4, 4, 6, 6, 2, 2, 4, 5, 1, 6, 4, 3, 2,\n",
       "       2, 6, 3, 5, 4, 2, 4, 4, 6, 6, 1, 5, 3, 6, 6, 4, 2, 1, 6, 4, 4, 2,\n",
       "       4, 1, 3, 6, 6, 6, 4, 5, 4, 3, 3, 4])"
      ]
     },
     "execution_count": 23,
     "metadata": {},
     "output_type": "execute_result"
    }
   ],
   "source": [
    "num_trial = 100\n",
    "sample = np.random.choice(dice, num_trial, p=prob)\n",
    "sample"
   ]
  },
  {
   "cell_type": "markdown",
   "id": "8d1fb236",
   "metadata": {},
   "source": [
    "#### 도수분포표 와 히스토그램 만들기"
   ]
  },
  {
   "cell_type": "code",
   "execution_count": 24,
   "id": "ef855a43",
   "metadata": {},
   "outputs": [
    {
     "data": {
      "text/html": [
       "<div>\n",
       "<style scoped>\n",
       "    .dataframe tbody tr th:only-of-type {\n",
       "        vertical-align: middle;\n",
       "    }\n",
       "\n",
       "    .dataframe tbody tr th {\n",
       "        vertical-align: top;\n",
       "    }\n",
       "\n",
       "    .dataframe thead th {\n",
       "        text-align: right;\n",
       "    }\n",
       "</style>\n",
       "<table border=\"1\" class=\"dataframe\">\n",
       "  <thead>\n",
       "    <tr style=\"text-align: right;\">\n",
       "      <th></th>\n",
       "      <th>frequency</th>\n",
       "      <th>relative frequency</th>\n",
       "    </tr>\n",
       "    <tr>\n",
       "      <th>dice</th>\n",
       "      <th></th>\n",
       "      <th></th>\n",
       "    </tr>\n",
       "  </thead>\n",
       "  <tbody>\n",
       "    <tr>\n",
       "      <th>1</th>\n",
       "      <td>5</td>\n",
       "      <td>0.05</td>\n",
       "    </tr>\n",
       "    <tr>\n",
       "      <th>2</th>\n",
       "      <td>9</td>\n",
       "      <td>0.09</td>\n",
       "    </tr>\n",
       "    <tr>\n",
       "      <th>3</th>\n",
       "      <td>13</td>\n",
       "      <td>0.13</td>\n",
       "    </tr>\n",
       "    <tr>\n",
       "      <th>4</th>\n",
       "      <td>27</td>\n",
       "      <td>0.27</td>\n",
       "    </tr>\n",
       "    <tr>\n",
       "      <th>5</th>\n",
       "      <td>19</td>\n",
       "      <td>0.19</td>\n",
       "    </tr>\n",
       "    <tr>\n",
       "      <th>6</th>\n",
       "      <td>27</td>\n",
       "      <td>0.27</td>\n",
       "    </tr>\n",
       "  </tbody>\n",
       "</table>\n",
       "</div>"
      ],
      "text/plain": [
       "       frequency  relative frequency\n",
       "dice                                \n",
       "1              5                0.05\n",
       "2              9                0.09\n",
       "3             13                0.13\n",
       "4             27                0.27\n",
       "5             19                0.19\n",
       "6             27                0.27"
      ]
     },
     "execution_count": 24,
     "metadata": {},
     "output_type": "execute_result"
    }
   ],
   "source": [
    "freq,_ = np.histogram(sample, bins=6, range=(1,7))\n",
    "pd.DataFrame({' frequency': freq,\n",
    "             'relative frequency':freq/num_trial},\n",
    "            index=pd.Index(np.arange(1,7), name='dice'))"
   ]
  },
  {
   "cell_type": "code",
   "execution_count": 25,
   "id": "8aa5d782",
   "metadata": {},
   "outputs": [
    {
     "data": {
      "image/png": "[encoded data removed]",
      "text/plain": [
       "<Figure size 720x432 with 1 Axes>"
      ]
     },
     "metadata": {
      "needs_background": "light"
     },
     "output_type": "display_data"
    }
   ],
   "source": [
    "fig = plt.figure(figsize=(10,6))\n",
    "ax = fig.add_subplot(111)\n",
    "ax.hist(sample, bins=6, range=(1,7), density=True, rwidth=0.8)\n",
    "# 실제의 확률분포를 가로선으로 표시\n",
    "ax.hlines(prob, np.arange(1,7), np.arange(2,8), colors='black')\n",
    "# 막대그래프의 [1.5, 2.5 ...]에 눈금을 표시\n",
    "ax.set_xticks(np.linspace(1.5,6.5,6))\n",
    "# 주사위 눈의 값은 [1, 2, 3, 4, 5, 6]\n",
    "ax.set_xticklabels(np.arange(1,7))\n",
    "ax.set_xlabel('dice')\n",
    "ax.set_ylabel('relative frequency')\n",
    "plt.show()"
   ]
  },
  {
   "cell_type": "code",
   "execution_count": 26,
   "id": "682f891b",
   "metadata": {},
   "outputs": [
    {
     "data": {
      "image/png": "[encoded data removed]",
      "text/plain": [
       "<Figure size 720x432 with 1 Axes>"
      ]
     },
     "metadata": {
      "needs_background": "light"
     },
     "output_type": "display_data"
    }
   ],
   "source": [
    "# 10000번 실행해보기\n",
    "num_trial = 10000\n",
    "sample = np.random.choice(dice, num_trial, p=prob)\n",
    "\n",
    "fig = plt.figure(figsize=(10,6))\n",
    "ax = fig.add_subplot(111)\n",
    "ax.hist(sample, bins=6, range=(1,7), density=True, rwidth=0.8)\n",
    "ax.hlines(prob, np.arange(1,7), np.arange(2,8), colors='black')\n",
    "ax.set_xticks(np.linspace(1.5,6.5,6))\n",
    "ax.set_xticklabels(np.arange(1,7))\n",
    "ax.set_xlabel('dice')\n",
    "ax.set_ylabel('relative frequency')\n",
    "plt.show()"
   ]
  },
  {
   "cell_type": "markdown",
   "id": "9c71de78",
   "metadata": {},
   "source": [
    "### 추측통계의 확률"
   ]
  },
  {
   "cell_type": "code",
   "execution_count": 27,
   "id": "f60e7538",
   "metadata": {},
   "outputs": [
    {
     "data": {
      "image/png": "[encoded data removed]",
      "text/plain": [
       "<Figure size 720x432 with 1 Axes>"
      ]
     },
     "metadata": {
      "needs_background": "light"
     },
     "output_type": "display_data"
    }
   ],
   "source": [
    "\n",
    "fig = plt.figure(figsize=(10,6))\n",
    "ax = fig.add_subplot(111)\n",
    "ax.hist(scores, bins=100, range=(0,100), density=True)\n",
    "ax.set_xlim(20, 100)\n",
    "ax.set_ylim(0, 0.042)\n",
    "ax.set_xlabel( 'score' )\n",
    "ax.set_ylabel( ' relative frequency ')\n",
    "plt.show()"
   ]
  },
  {
   "cell_type": "code",
   "execution_count": 28,
   "id": "c6a97f42",
   "metadata": {},
   "outputs": [
    {
     "data": {
      "text/plain": [
       "89"
      ]
     },
     "execution_count": 28,
     "metadata": {},
     "output_type": "execute_result"
    }
   ],
   "source": [
    "np.random.choice(scores)"
   ]
  },
  {
   "cell_type": "code",
   "execution_count": 33,
   "id": "95a662bf",
   "metadata": {},
   "outputs": [
    {
     "data": {
      "image/png": "[encoded data removed]",
      "text/plain": [
       "<Figure size 720x432 with 1 Axes>"
      ]
     },
     "metadata": {
      "needs_background": "light"
     },
     "output_type": "display_data"
    }
   ],
   "source": [
    "# 10000개로 표본 추출하여 히스토그램으로 보기\n",
    "sample = np.random.choice(scores, 10000)\n",
    "\n",
    "fig = plt.figure(figsize=(10,6))\n",
    "ax = fig.add_subplot(111)\n",
    "ax.hist(sample, bins=100, range=(0,100), density=True)\n",
    "ax.set_xlim(20, 100)\n",
    "ax.set_ylim(0,0.042)\n",
    "ax.set_xlabel( ' score ')\n",
    "ax.set_ylabel('relative frequency')\n",
    "plt.show()"
   ]
  },
  {
   "cell_type": "code",
   "execution_count": 109,
   "id": "d4f17b6f",
   "metadata": {},
   "outputs": [
    {
     "data": {
      "image/png": "[encoded data removed]",
      "text/plain": [
       "<Figure size 720x432 with 1 Axes>"
      ]
     },
     "metadata": {
      "needs_background": "light"
     },
     "output_type": "display_data"
    }
   ],
   "source": [
    "sample_means = [np.random.choice(scores, 20).mean() for _ in range(10000)]\n",
    "\n",
    "fig = plt.figure(figsize=(10,6))\n",
    "ax = fig.add_subplot(111)\n",
    "ax.hist(sample_means, bins=100, range=(0,100), density=True)\n",
    "# 모평균을 세로선으로 표시\n",
    "ax.vlines(np.mean(scores),0,1, 'gray')\n",
    "ax.set_xlim(50,90)\n",
    "ax.set_ylim(0,0.13)\n",
    "ax.set_xlabel('score')\n",
    "ax.set_ylabel('relative frequency')\n",
    "plt.show()"
   ]
  },
  {
   "cell_type": "code",
   "execution_count": null,
   "id": "cf8041e6",
   "metadata": {},
   "outputs": [],
   "source": []
  },
  {
   "cell_type": "markdown",
   "id": "07fbb4e0",
   "metadata": {},
   "source": [
    "## 이산형 확률변수"
   ]
  },
  {
   "cell_type": "markdown",
   "id": "312d2376",
   "metadata": {},
   "source": [
    "### 1차원"
   ]
  },
  {
   "cell_type": "code",
   "execution_count": 1,
   "id": "b72d10a5",
   "metadata": {},
   "outputs": [
    {
     "data": {
      "text/plain": [
       "'%.3f'"
      ]
     },
     "execution_count": 1,
     "metadata": {},
     "output_type": "execute_result"
    }
   ],
   "source": [
    "import numpy as np\n",
    "import matplotlib.pyplot as plt\n",
    "%precision 3\n",
    "'%.3f'"
   ]
  },
  {
   "cell_type": "code",
   "execution_count": 2,
   "id": "56e76e13",
   "metadata": {},
   "outputs": [],
   "source": [
    "x_set = np.array([1,2,3,4,5,6])\n",
    "def f(x):\n",
    "    if x in x_set:\n",
    "        return x/21\n",
    "    else:\n",
    "        return 0"
   ]
  },
  {
   "cell_type": "code",
   "execution_count": 4,
   "id": "ef942370",
   "metadata": {},
   "outputs": [
    {
     "name": "stdout",
     "output_type": "stream",
     "text": [
      "[0.048 0.095 0.143 0.19  0.238 0.286] \n",
      "\n"
     ]
    },
    {
     "data": {
      "text/plain": [
       "{1: 0.048, 2: 0.095, 3: 0.143, 4: 0.190, 5: 0.238, 6: 0.286}"
      ]
     },
     "execution_count": 4,
     "metadata": {},
     "output_type": "execute_result"
    }
   ],
   "source": [
    "x = [x_set, f]\n",
    "prob = np.array([f(x_k) for x_k in x_set])\n",
    "print(prob,'\\n')\n",
    "dict(zip(x_set, prob))"
   ]
  },
  {
   "cell_type": "code",
   "execution_count": 11,
   "id": "d6824bab",
   "metadata": {},
   "outputs": [
    {
     "data": {
      "text/plain": [
       "Text(0, 0.5, 'probability')"
      ]
     },
     "execution_count": 11,
     "metadata": {},
     "output_type": "execute_result"
    },
    {
     "data": {
      "image/png": "[encoded data removed]",
      "text/plain": [
       "<Figure size 720x360 with 1 Axes>"
      ]
     },
     "metadata": {
      "needs_background": "light"
     },
     "output_type": "display_data"
    }
   ],
   "source": [
    "import seaborn as sns\n",
    "import warnings\n",
    "warnings.filterwarnings('ignore')\n",
    "\n",
    "fig = plt.figure(figsize=(10,5))\n",
    "ax = fig.add_subplot(111)\n",
    "sns.barplot(x_set,prob)\n",
    "plt.title('Bar Graph', fontsize=30)\n",
    "ax.set_xlabel('value')\n",
    "ax.set_ylabel('probability')"
   ]
  },
  {
   "cell_type": "code",
   "execution_count": 12,
   "id": "bea86af7",
   "metadata": {},
   "outputs": [
    {
     "data": {
      "text/plain": [
       "True"
      ]
     },
     "execution_count": 12,
     "metadata": {},
     "output_type": "execute_result"
    }
   ],
   "source": [
    "np.all(prob >= 0)"
   ]
  },
  {
   "cell_type": "code",
   "execution_count": 13,
   "id": "a62d338e",
   "metadata": {},
   "outputs": [
    {
     "data": {
      "text/plain": [
       "1.000"
      ]
     },
     "execution_count": 13,
     "metadata": {},
     "output_type": "execute_result"
    }
   ],
   "source": [
    "np.sum(prob)"
   ]
  },
  {
   "cell_type": "markdown",
   "id": "2fc045c3",
   "metadata": {},
   "source": [
    "- 누적분포함수"
   ]
  },
  {
   "cell_type": "code",
   "execution_count": 113,
   "id": "dbfd60a3",
   "metadata": {},
   "outputs": [],
   "source": [
    "def F(x):\n",
    "    return np.sum([f(x_k) for x_k in x_set if x_k <= x])"
   ]
  },
  {
   "cell_type": "code",
   "execution_count": 118,
   "id": "f65d69bb",
   "metadata": {},
   "outputs": [
    {
     "data": {
      "text/plain": [
       "0.238"
      ]
     },
     "execution_count": 118,
     "metadata": {},
     "output_type": "execute_result"
    }
   ],
   "source": [
    "# 분포함수(누적분포함수)를 통해 3이하가 되는 확률 구하기\n",
    "F(3)"
   ]
  },
  {
   "cell_type": "markdown",
   "id": "f548f125",
   "metadata": {},
   "source": [
    "- 확률변수의 변환"
   ]
  },
  {
   "cell_type": "code",
   "execution_count": 16,
   "id": "8c89b770",
   "metadata": {},
   "outputs": [
    {
     "data": {
      "text/plain": [
       "{5: 0.048, 7: 0.095, 9: 0.143, 11: 0.190, 13: 0.238, 15: 0.286}"
      ]
     },
     "execution_count": 16,
     "metadata": {},
     "output_type": "execute_result"
    }
   ],
   "source": [
    "# 확률변수 x에 2를 곱하고 3을 더한 2x + 3도 확률변수가 된다.\n",
    "y_set = np.array([2*x_k + 3 for x_k in x_set])\n",
    "prob = np.array([f(x_k) for x_k in x_set])\n",
    "dict(zip(y_set, prob))"
   ]
  },
  {
   "cell_type": "markdown",
   "id": "487ea673",
   "metadata": {},
   "source": [
    "### 1차원 이산형 확률변수의 지표"
   ]
  },
  {
   "cell_type": "markdown",
   "id": "39480e77",
   "metadata": {},
   "source": [
    "#### 기대값"
   ]
  },
  {
   "cell_type": "code",
   "execution_count": 45,
   "id": "a3c6af60",
   "metadata": {
    "scrolled": true
   },
   "outputs": [],
   "source": [
    "np.sum([x_k * f(x_k) for x_k in x_set])\n",
    "X = [x_set, f]"
   ]
  },
  {
   "cell_type": "code",
   "execution_count": 29,
   "id": "904dba4d",
   "metadata": {},
   "outputs": [
    {
     "name": "stdout",
     "output_type": "stream",
     "text": [
      "[6 4 1 ... 6 5 2]\n"
     ]
    },
    {
     "data": {
      "text/plain": [
       "3.500"
      ]
     },
     "execution_count": 29,
     "metadata": {},
     "output_type": "execute_result"
    }
   ],
   "source": [
    "# 확률변수의 기대값은 확률변수를 무제한 시행하여 얻은 실현값의 평균\n",
    "sample = np.random.choice(x_set, int(1e6),p=prob)  #1e6 -> 100만\n",
    "sample = np.random.choice(x_set, int(1e9))\n",
    "print(sample)\n",
    "np.mean(sample)"
   ]
  },
  {
   "cell_type": "code",
   "execution_count": 46,
   "id": "3e1c952d",
   "metadata": {},
   "outputs": [],
   "source": [
    "# 일반화\n",
    "def E(X, g=lambda x: x):\n",
    "    x_set, f = X\n",
    "    return np.sum([g(x_k) * f(x_k) for x_k in x_set])"
   ]
  },
  {
   "cell_type": "code",
   "execution_count": 47,
   "id": "923832c9",
   "metadata": {},
   "outputs": [
    {
     "data": {
      "text/plain": [
       "4.333"
      ]
     },
     "execution_count": 47,
     "metadata": {},
     "output_type": "execute_result"
    }
   ],
   "source": [
    "E(X)"
   ]
  },
  {
   "cell_type": "code",
   "execution_count": 48,
   "id": "d2fde704",
   "metadata": {},
   "outputs": [
    {
     "data": {
      "text/plain": [
       "11.667"
      ]
     },
     "execution_count": 48,
     "metadata": {},
     "output_type": "execute_result"
    }
   ],
   "source": [
    "E(x, g=lambda x: 2*x+3)"
   ]
  },
  {
   "cell_type": "code",
   "execution_count": 49,
   "id": "b7bbc0ab",
   "metadata": {},
   "outputs": [
    {
     "data": {
      "text/plain": [
       "11.667"
      ]
     },
     "execution_count": 49,
     "metadata": {},
     "output_type": "execute_result"
    }
   ],
   "source": [
    "# 기대값의 선형성\n",
    "2 * E(X) +3"
   ]
  },
  {
   "cell_type": "markdown",
   "id": "6d532635",
   "metadata": {},
   "source": [
    "#### 분산"
   ]
  },
  {
   "cell_type": "code",
   "execution_count": 66,
   "id": "be1cf796",
   "metadata": {},
   "outputs": [
    {
     "data": {
      "text/plain": [
       "2.222"
      ]
     },
     "execution_count": 66,
     "metadata": {},
     "output_type": "execute_result"
    }
   ],
   "source": [
    "mean = E(X)\n",
    "np.sum([(x_k - mean)**2* f(x_k) for x_k in x_set])"
   ]
  },
  {
   "cell_type": "code",
   "execution_count": 67,
   "id": "0479afaa",
   "metadata": {},
   "outputs": [],
   "source": [
    "def V(X, g=lambda x: x):\n",
    "    x_set, f = x\n",
    "    mean = E(x,g)\n",
    "    return np.sum([g(x_k - mean)**2*f(x_k) for x_k in x_set])"
   ]
  },
  {
   "cell_type": "code",
   "execution_count": 68,
   "id": "2731f0ae",
   "metadata": {},
   "outputs": [
    {
     "data": {
      "text/plain": [
       "2.222"
      ]
     },
     "execution_count": 68,
     "metadata": {},
     "output_type": "execute_result"
    }
   ],
   "source": [
    "V(X)"
   ]
  },
  {
   "cell_type": "code",
   "execution_count": 69,
   "id": "d9fafa1c",
   "metadata": {},
   "outputs": [
    {
     "data": {
      "text/plain": [
       "145.000"
      ]
     },
     "execution_count": 69,
     "metadata": {},
     "output_type": "execute_result"
    }
   ],
   "source": [
    "V(X, lambda x: 2*x + 3)"
   ]
  },
  {
   "cell_type": "code",
   "execution_count": 70,
   "id": "484a1a3e",
   "metadata": {},
   "outputs": [
    {
     "data": {
      "text/plain": [
       "8.889"
      ]
     },
     "execution_count": 70,
     "metadata": {},
     "output_type": "execute_result"
    }
   ],
   "source": [
    "2**2*V(X)"
   ]
  },
  {
   "cell_type": "markdown",
   "id": "df9c17de",
   "metadata": {},
   "source": [
    "### 2차원 이산형 확률변수"
   ]
  },
  {
   "cell_type": "code",
   "execution_count": 73,
   "id": "ff8b28c7",
   "metadata": {},
   "outputs": [],
   "source": [
    "x_set = np.arange(2,13)\n",
    "y_set = np.arange(1,7)\n",
    "def f_XY(x, y):\n",
    "    if 1 <= y <=6 and 1<= x - y <= 6:\n",
    "        return y* (x-y) / 441\n",
    "    else:\n",
    "        return 0"
   ]
  },
  {
   "cell_type": "code",
   "execution_count": 74,
   "id": "db5bf15e",
   "metadata": {},
   "outputs": [],
   "source": [
    "XY = [x_set, y_set, f_XY]"
   ]
  },
  {
   "cell_type": "code",
   "execution_count": 75,
   "id": "fcbc179e",
   "metadata": {},
   "outputs": [
    {
     "data": {
      "image/png": "[encoded data removed]",
      "text/plain": [
       "<Figure size 720x576 with 2 Axes>"
      ]
     },
     "metadata": {
      "needs_background": "light"
     },
     "output_type": "display_data"
    }
   ],
   "source": [
    "prob = np.array([[f_XY(x_i, y_j) for y_j in y_set] for x_i in x_set])\n",
    "\n",
    "fig = plt.figure(figsize=(10,8))\n",
    "ax = fig.add_subplot(111)\n",
    "\n",
    "c = ax.pcolor(prob)\n",
    "ax.set_xticks(np.arange(prob.shape[1]) + 0.5, minor=False)\n",
    "ax.set_yticks(np.arange(prob.shape[0]) + 0.5, minor=False)\n",
    "ax.set_xticklabels(np.arange(1,7), minor=False)\n",
    "ax.set_yticklabels(np.arange(2,13), minor=False)\n",
    "# y축을 내림차순의 숫자가 되게하여, 위 아래를 역전시킨다.\n",
    "ax.invert_yaxis()\n",
    "# x축 눈금을 그래프 위족에 표시\n",
    "ax.xaxis.tick_top()\n",
    "fig.colorbar(c, ax=ax)\n",
    "plt.show()"
   ]
  },
  {
   "cell_type": "code",
   "execution_count": 76,
   "id": "be54ccfe",
   "metadata": {},
   "outputs": [
    {
     "data": {
      "text/plain": [
       "True"
      ]
     },
     "execution_count": 76,
     "metadata": {},
     "output_type": "execute_result"
    }
   ],
   "source": [
    "np.all(prob >=0)"
   ]
  },
  {
   "cell_type": "code",
   "execution_count": 77,
   "id": "a0bb236e",
   "metadata": {},
   "outputs": [
    {
     "data": {
      "text/plain": [
       "1.000"
      ]
     },
     "execution_count": 77,
     "metadata": {},
     "output_type": "execute_result"
    }
   ],
   "source": [
    "np.sum(prob)"
   ]
  },
  {
   "cell_type": "code",
   "execution_count": 78,
   "id": "fa5c3a47",
   "metadata": {},
   "outputs": [],
   "source": [
    "# 주변확률 분포\n",
    "def f_X(x):\n",
    "    return np.sum([f_XY(x, y_k) for y_k in y_set])"
   ]
  },
  {
   "cell_type": "code",
   "execution_count": 79,
   "id": "213aec95",
   "metadata": {},
   "outputs": [],
   "source": [
    "def f_Y(y):\n",
    "    return np.sum([f_XY(x_k,y) for x_k in x_set])"
   ]
  },
  {
   "cell_type": "code",
   "execution_count": 80,
   "id": "fbf247b5",
   "metadata": {},
   "outputs": [],
   "source": [
    "X = [x_set, f_X]\n",
    "Y = [y_set, f_Y]"
   ]
  },
  {
   "cell_type": "code",
   "execution_count": 83,
   "id": "896c6c74",
   "metadata": {},
   "outputs": [
    {
     "data": {
      "image/png": "[encoded data removed]",
      "text/plain": [
       "<Figure size 864x288 with 2 Axes>"
      ]
     },
     "metadata": {
      "needs_background": "light"
     },
     "output_type": "display_data"
    }
   ],
   "source": [
    "prob_x = np.array([f_X(x_k) for x_k in x_set])\n",
    "prob_y = np.array([f_Y(y_k) for y_k in y_set])\n",
    "\n",
    "fig = plt.figure(figsize=(12,4))\n",
    "ax1 = fig.add_subplot(121)\n",
    "ax2 = fig.add_subplot(122)\n",
    "\n",
    "ax1.bar(x_set, prob_x)\n",
    "ax1.set_title('X_marginal probability distribution')\n",
    "ax1.set_xlabel('X_value')\n",
    "ax1.set_ylabel('probability')\n",
    "ax1.set_xticks(x_set)\n",
    "\n",
    "ax2.bar(y_set, prob_y)\n",
    "ax2.set_title('Y_marginal probability distribution')\n",
    "ax2.set_xlabel('Y_value')\n",
    "ax2.set_ylabel('probability')\n",
    "\n",
    "plt.show()"
   ]
  },
  {
   "cell_type": "markdown",
   "id": "ab241593",
   "metadata": {},
   "source": [
    "### 2차원 이산형 확률변수의 지표"
   ]
  },
  {
   "cell_type": "markdown",
   "id": "2775da82",
   "metadata": {},
   "source": [
    "- 기대값"
   ]
  },
  {
   "cell_type": "code",
   "execution_count": 84,
   "id": "b2f50051",
   "metadata": {},
   "outputs": [
    {
     "data": {
      "text/plain": [
       "8.667"
      ]
     },
     "execution_count": 84,
     "metadata": {},
     "output_type": "execute_result"
    }
   ],
   "source": [
    "np.sum([x_i * f_XY(x_i, y_j) for x_i in x_set for y_j in y_set])"
   ]
  },
  {
   "cell_type": "code",
   "execution_count": 86,
   "id": "d21cbe8b",
   "metadata": {},
   "outputs": [],
   "source": [
    "def E(XY, g):\n",
    "    x_set, Y_set, f_XY = XY\n",
    "    return np.sum([g(x_i, y_j) * f_XY(x_i, y_j)\n",
    "                  for x_i in x_set for y_j in y_set])"
   ]
  },
  {
   "cell_type": "code",
   "execution_count": 87,
   "id": "3645c4cd",
   "metadata": {},
   "outputs": [
    {
     "data": {
      "text/plain": [
       "8.667"
      ]
     },
     "execution_count": 87,
     "metadata": {},
     "output_type": "execute_result"
    }
   ],
   "source": [
    "mean_X = E(XY, lambda x, y:x)\n",
    "mean_X"
   ]
  },
  {
   "cell_type": "code",
   "execution_count": 88,
   "id": "d1b1403d",
   "metadata": {},
   "outputs": [
    {
     "data": {
      "text/plain": [
       "4.333"
      ]
     },
     "execution_count": 88,
     "metadata": {},
     "output_type": "execute_result"
    }
   ],
   "source": [
    "mean_Y= E(XY, lambda x, y:y)\n",
    "mean_Y"
   ]
  },
  {
   "cell_type": "code",
   "execution_count": 89,
   "id": "f74fa8bd",
   "metadata": {},
   "outputs": [],
   "source": [
    "a, b = 2, 3"
   ]
  },
  {
   "cell_type": "code",
   "execution_count": 90,
   "id": "22faccae",
   "metadata": {},
   "outputs": [
    {
     "data": {
      "text/plain": [
       "30.333"
      ]
     },
     "execution_count": 90,
     "metadata": {},
     "output_type": "execute_result"
    }
   ],
   "source": [
    "E(XY, lambda x, y : a*x + b*y)"
   ]
  },
  {
   "cell_type": "code",
   "execution_count": 91,
   "id": "eb458121",
   "metadata": {},
   "outputs": [
    {
     "data": {
      "text/plain": [
       "30.333"
      ]
     },
     "execution_count": 91,
     "metadata": {},
     "output_type": "execute_result"
    }
   ],
   "source": [
    "a* mean_X + b* mean_Y"
   ]
  },
  {
   "cell_type": "markdown",
   "id": "f0f24651",
   "metadata": {},
   "source": [
    "- 분산"
   ]
  },
  {
   "cell_type": "code",
   "execution_count": 95,
   "id": "260155e9",
   "metadata": {},
   "outputs": [
    {
     "data": {
      "text/plain": [
       "4.444"
      ]
     },
     "execution_count": 95,
     "metadata": {},
     "output_type": "execute_result"
    }
   ],
   "source": [
    "np.sum([(x_i-mean_X)**2 * f_XY(x_i, y_j) \n",
    "        for x_i in x_set for y_j in y_set])"
   ]
  },
  {
   "cell_type": "code",
   "execution_count": 97,
   "id": "08d5ef19",
   "metadata": {},
   "outputs": [],
   "source": [
    "# 분산의 함수로 구현\n",
    "def V(XY,g):\n",
    "    x_set, y_set, f_XY = XY\n",
    "    mean =E(XY, g)\n",
    "    return np.sum([(g(x_i, y_j)-mean)**2 * f_XY(x_i, y_j)\n",
    "                  for x_i in x_set for y_j in y_set])"
   ]
  },
  {
   "cell_type": "code",
   "execution_count": 98,
   "id": "2f21b2b3",
   "metadata": {},
   "outputs": [
    {
     "data": {
      "text/plain": [
       "4.444"
      ]
     },
     "execution_count": 98,
     "metadata": {},
     "output_type": "execute_result"
    }
   ],
   "source": [
    "# X와 Y의 분산값은\n",
    "var_X = V(XY, g=lambda x, y:x)\n",
    "var_X"
   ]
  },
  {
   "cell_type": "code",
   "execution_count": 99,
   "id": "be4d7504",
   "metadata": {},
   "outputs": [
    {
     "data": {
      "text/plain": [
       "2.222"
      ]
     },
     "execution_count": 99,
     "metadata": {},
     "output_type": "execute_result"
    }
   ],
   "source": [
    "var_Y = V(XY, g=lambda x, y:y)\n",
    "var_Y"
   ]
  },
  {
   "cell_type": "markdown",
   "id": "328c2856",
   "metadata": {},
   "source": [
    "- 공분산"
   ]
  },
  {
   "cell_type": "code",
   "execution_count": 102,
   "id": "d1144913",
   "metadata": {},
   "outputs": [],
   "source": [
    "def Cov(XY):\n",
    "    x_set, y_set, f_XY =XY\n",
    "    mean_X =E(XY, lambda x, y:x)\n",
    "    mean_Y = E(XY, lambda x, y:y)\n",
    "    return np.sum([(x_i-mean_X) * (y_j-mean_Y) * f_XY(x_i, y_j)\n",
    "                  for x_i in x_set for y_j in y_set])"
   ]
  },
  {
   "cell_type": "code",
   "execution_count": 103,
   "id": "363cdb16",
   "metadata": {},
   "outputs": [
    {
     "data": {
      "text/plain": [
       "2.222"
      ]
     },
     "execution_count": 103,
     "metadata": {},
     "output_type": "execute_result"
    }
   ],
   "source": [
    "cov_xy = Cov(XY)\n",
    "cov_xy"
   ]
  },
  {
   "cell_type": "code",
   "execution_count": 104,
   "id": "c528cdec",
   "metadata": {},
   "outputs": [
    {
     "data": {
      "text/plain": [
       "64.444"
      ]
     },
     "execution_count": 104,
     "metadata": {},
     "output_type": "execute_result"
    }
   ],
   "source": [
    "# 분산과 공분산의 공식\n",
    "V(XY, lambda x, y : a*x + b*y)"
   ]
  },
  {
   "cell_type": "code",
   "execution_count": 106,
   "id": "f81e7d7a",
   "metadata": {},
   "outputs": [
    {
     "data": {
      "text/plain": [
       "64.444"
      ]
     },
     "execution_count": 106,
     "metadata": {},
     "output_type": "execute_result"
    }
   ],
   "source": [
    "a**2 * var_X +  b**2 * var_Y + 2*a*b * cov_xy"
   ]
  },
  {
   "cell_type": "markdown",
   "id": "0962b49d",
   "metadata": {},
   "source": [
    "- 상관계수"
   ]
  },
  {
   "cell_type": "code",
   "execution_count": 108,
   "id": "66d9df88",
   "metadata": {},
   "outputs": [
    {
     "data": {
      "text/plain": [
       "0.707"
      ]
     },
     "execution_count": 108,
     "metadata": {},
     "output_type": "execute_result"
    }
   ],
   "source": [
    "cov_xy / np.sqrt(var_X * var_Y)"
   ]
  },
  {
   "cell_type": "code",
   "execution_count": 9,
   "id": "ca8f30e5",
   "metadata": {
    "ExecuteTime": {
     "end_time": "2022-08-28T14:23:07.852861Z",
     "start_time": "2022-08-28T14:22:55.223905Z"
    }
   },
   "outputs": [
    {
     "name": "stdout",
     "output_type": "stream",
     "text": [
      "Collecting scipy\n",
      "  Downloading scipy-1.7.3-cp37-cp37m-win_amd64.whl (34.1 MB)\n",
      "     --------------------------------------- 34.1/34.1 MB 34.4 MB/s eta 0:00:00\n",
      "Requirement already satisfied: numpy<1.23.0,>=1.16.5 in c:\\users\\ejrgu\\anaconda3\\envs\\bigdata3\\lib\\site-packages (from scipy) (1.21.6)\n",
      "Installing collected packages: scipy\n",
      "Successfully installed scipy-1.7.3\n",
      "Note: you may need to restart the kernel to use updated packages.\n"
     ]
    }
   ],
   "source": [
    "pip install scipy"
   ]
  },
  {
   "cell_type": "markdown",
   "id": "6d68ce84",
   "metadata": {},
   "source": [
    "## 대표적인 이산형 확률분포"
   ]
  },
  {
   "cell_type": "code",
   "execution_count": 10,
   "id": "1e215aa9",
   "metadata": {
    "ExecuteTime": {
     "end_time": "2022-08-28T14:23:12.028519Z",
     "start_time": "2022-08-28T14:23:11.472521Z"
    }
   },
   "outputs": [
    {
     "data": {
      "text/plain": [
       "'%.3f'"
      ]
     },
     "execution_count": 10,
     "metadata": {},
     "output_type": "execute_result"
    }
   ],
   "source": [
    "import numpy as np\n",
    "import matplotlib.pyplot as plt\n",
    "from scipy import stats\n",
    "%precision 3"
   ]
  },
  {
   "cell_type": "code",
   "execution_count": 11,
   "id": "d797fbfd",
   "metadata": {
    "ExecuteTime": {
     "end_time": "2022-08-28T14:23:12.945244Z",
     "start_time": "2022-08-28T14:23:12.929244Z"
    }
   },
   "outputs": [],
   "source": [
    "linestyles = ['-', '--', ':']\n",
    "\n",
    "def E(X, g=lambda x: x):\n",
    "    x_set, f = X\n",
    "    return np.sum([g(x_k) * f(x_k) for x_k in x_set])\n",
    "\n",
    "def V(X, g=lambda x: x):\n",
    "    x_set, f = X\n",
    "    mean = E(X, g)\n",
    "    return np.sum([(g(x_k)-mean)**2 * f(x_k) for x_k in x_set])\n",
    "\n",
    "def check_prob(X): # 확률변수를 인수로 가지며 기댓값과 분산 계산 결과를 반환\n",
    "    x_set, f = X\n",
    "    prob = np.array([f(x_k) for x_k in x_set])\n",
    "    assert np.all(prob >= 0), 'minus probability'     # assert  이 조건을 확신한다;;???\n",
    "    prob_sum = np.round(np.sum(prob), 6)\n",
    "    assert prob_sum == 1, f'sum of probability{prob_sum}'\n",
    "    print(f'expected value {E(X):.4}')\n",
    "    print(f'variance {(V(X)):.4}')\n",
    "    \n",
    "def plot_prob(X): # 확률변수를 인수로 가지며 그 확률변수의 확률함수와 기댓값을 그리기 위한 함수\n",
    "    x_set, f = X\n",
    "    prob = np.array([f(x_k) for x_k in x_set])\n",
    "    \n",
    "    fig = plt.figure(figsize=(6, 4))\n",
    "    ax = fig.add_subplot(111)\n",
    "    ax.bar(x_set, prob, label='prob')\n",
    "    ax.vlines(E(X), 0, 1, label='mean', color='black')\n",
    "    ax.set_xticks(np.append(x_set, E(X)))\n",
    "    ax.set_ylim(0, prob.max()*1.2)\n",
    "    ax.legend()\n",
    "    \n",
    "    plt.show()\n"
   ]
  },
  {
   "cell_type": "markdown",
   "id": "a3864e7c",
   "metadata": {},
   "source": [
    "### 베르누이 분포\n",
    "- 가장 기본적인 이산형 확률분포로 확률변수가 취할 수 있는 값이 0과 1밖에 없는 분포이다.\n",
    "- 베르누이 분포를 따르는 확률변수의 시행을 베르누이 시행이라하며 1이 나오면 성공 0이 나오면 실패라고 함\n",
    "- 동전을 던져 앞면이 나올 확률, 주사위를 한 번 굴려 6이 나오지 않을 확률\n"
   ]
  },
  {
   "cell_type": "code",
   "execution_count": 12,
   "id": "66c8465e",
   "metadata": {
    "ExecuteTime": {
     "end_time": "2022-08-28T14:23:13.920315Z",
     "start_time": "2022-08-28T14:23:13.904316Z"
    }
   },
   "outputs": [],
   "source": [
    "def Bern(p):\n",
    "    x_set =np.array([0,1])\n",
    "    def f(x):\n",
    "        if x in x_set:\n",
    "            return p ** x * (1-p) ** (1-x)\n",
    "        else:\n",
    "            return 0\n",
    "    return x_set, f"
   ]
  },
  {
   "cell_type": "code",
   "execution_count": 13,
   "id": "47ef1fc4",
   "metadata": {
    "ExecuteTime": {
     "end_time": "2022-08-28T14:23:14.265315Z",
     "start_time": "2022-08-28T14:23:14.249315Z"
    }
   },
   "outputs": [],
   "source": [
    "p =0.3\n",
    "X = Bern(p)"
   ]
  },
  {
   "cell_type": "code",
   "execution_count": 14,
   "id": "e8bb7dc3",
   "metadata": {
    "ExecuteTime": {
     "end_time": "2022-08-28T14:23:14.895314Z",
     "start_time": "2022-08-28T14:23:14.881316Z"
    }
   },
   "outputs": [
    {
     "name": "stdout",
     "output_type": "stream",
     "text": [
      "0.3\n"
     ]
    },
    {
     "data": {
      "text/plain": [
       "0.20999999999999996"
      ]
     },
     "execution_count": 14,
     "metadata": {},
     "output_type": "execute_result"
    }
   ],
   "source": [
    "print(E(X))\n",
    "V(X)"
   ]
  },
  {
   "cell_type": "code",
   "execution_count": 15,
   "id": "f7f422c9",
   "metadata": {
    "ExecuteTime": {
     "end_time": "2022-08-28T14:23:17.056749Z",
     "start_time": "2022-08-28T14:23:16.961890Z"
    }
   },
   "outputs": [
    {
     "name": "stdout",
     "output_type": "stream",
     "text": [
      "expected value 0.3\n",
      "variance 0.21\n"
     ]
    }
   ],
   "source": [
    "check_prob(X)"
   ]
  },
  {
   "cell_type": "code",
   "execution_count": 17,
   "id": "f4f1e8f2",
   "metadata": {
    "ExecuteTime": {
     "end_time": "2022-08-28T14:23:53.256238Z",
     "start_time": "2022-08-28T14:23:53.037239Z"
    }
   },
   "outputs": [
    {
     "data": {
      "image/png": "[encoded data removed]",
      "text/plain": [
       "<Figure size 432x288 with 1 Axes>"
      ]
     },
     "metadata": {
      "needs_background": "light"
     },
     "output_type": "display_data"
    }
   ],
   "source": [
    "plot_prob(X)"
   ]
  },
  {
   "cell_type": "code",
   "execution_count": 18,
   "id": "4042978a",
   "metadata": {
    "ExecuteTime": {
     "end_time": "2022-08-28T14:23:53.676239Z",
     "start_time": "2022-08-28T14:23:53.661240Z"
    }
   },
   "outputs": [],
   "source": [
    "rv = stats.bernoulli(p)"
   ]
  },
  {
   "cell_type": "code",
   "execution_count": 19,
   "id": "bc5ecad4",
   "metadata": {
    "ExecuteTime": {
     "end_time": "2022-08-28T14:23:54.246238Z",
     "start_time": "2022-08-28T14:23:54.229240Z"
    }
   },
   "outputs": [
    {
     "data": {
      "text/plain": [
       "(0.7, 0.3)"
      ]
     },
     "execution_count": 19,
     "metadata": {},
     "output_type": "execute_result"
    }
   ],
   "source": [
    "rv.pmf(0), rv.pmf(1)"
   ]
  },
  {
   "cell_type": "code",
   "execution_count": 20,
   "id": "6c83edc0",
   "metadata": {
    "ExecuteTime": {
     "end_time": "2022-08-28T14:23:54.831238Z",
     "start_time": "2022-08-28T14:23:54.821238Z"
    }
   },
   "outputs": [
    {
     "data": {
      "text/plain": [
       "array([0.7, 0.3])"
      ]
     },
     "execution_count": 20,
     "metadata": {},
     "output_type": "execute_result"
    }
   ],
   "source": [
    "rv.pmf([0,1])"
   ]
  },
  {
   "cell_type": "code",
   "execution_count": 21,
   "id": "0705afb1",
   "metadata": {
    "ExecuteTime": {
     "end_time": "2022-08-28T14:23:55.686238Z",
     "start_time": "2022-08-28T14:23:55.677239Z"
    }
   },
   "outputs": [
    {
     "data": {
      "text/plain": [
       "array([0.7, 1. ])"
      ]
     },
     "execution_count": 21,
     "metadata": {},
     "output_type": "execute_result"
    }
   ],
   "source": [
    "rv.cdf([0,1])"
   ]
  },
  {
   "cell_type": "code",
   "execution_count": 22,
   "id": "26fa3ecb",
   "metadata": {
    "ExecuteTime": {
     "end_time": "2022-08-28T14:23:57.561242Z",
     "start_time": "2022-08-28T14:23:57.550240Z"
    },
    "scrolled": true
   },
   "outputs": [
    {
     "data": {
      "text/plain": [
       "(0.3, 0.21)"
      ]
     },
     "execution_count": 22,
     "metadata": {},
     "output_type": "execute_result"
    }
   ],
   "source": [
    "rv.mean(), rv.var()"
   ]
  },
  {
   "cell_type": "markdown",
   "id": "add63572",
   "metadata": {},
   "source": [
    "### 이항분포\n",
    "성공 확률이 p인 베르누이 시행을 n번 했을 때의 성공 횟수가 따르는 분포  \n",
    "f(x) = $_{n}\\mathrm{C}_{x}p^x(1-p)^{n-x}$ $(x \\in \\{0,1,..,n\\}$)\n",
    "       \n",
    "       0                     (otherwise)"
   ]
  },
  {
   "cell_type": "code",
   "execution_count": 23,
   "id": "6907be1a",
   "metadata": {
    "ExecuteTime": {
     "end_time": "2022-08-28T14:24:31.311241Z",
     "start_time": "2022-08-28T14:24:31.306240Z"
    }
   },
   "outputs": [],
   "source": [
    "from scipy.special import comb\n",
    "\n",
    "def Bin(n,p):\n",
    "    x_set = np.arange(n+1)\n",
    "    def f(x):\n",
    "        if x in x_set:\n",
    "            return comb(n,x) * p **x * (1-p)**(n-x)\n",
    "        else:\n",
    "            return 0\n",
    "    return x_set, f\n"
   ]
  },
  {
   "cell_type": "code",
   "execution_count": 27,
   "id": "e410fae6",
   "metadata": {
    "ExecuteTime": {
     "end_time": "2022-08-28T14:25:00.697219Z",
     "start_time": "2022-08-28T14:25:00.684222Z"
    }
   },
   "outputs": [],
   "source": [
    "# 동전을 10번 던져 앞면이 3번 나오는 확률의 이항분포\n",
    "n = 10\n",
    "p = 0.3\n",
    "X = Bin(n,p)"
   ]
  },
  {
   "cell_type": "code",
   "execution_count": 28,
   "id": "4db1fc8b",
   "metadata": {
    "ExecuteTime": {
     "end_time": "2022-08-28T14:25:00.982220Z",
     "start_time": "2022-08-28T14:25:00.972222Z"
    }
   },
   "outputs": [
    {
     "name": "stdout",
     "output_type": "stream",
     "text": [
      "expected value 3.0\n",
      "variance 2.1\n"
     ]
    }
   ],
   "source": [
    "check_prob(X)"
   ]
  },
  {
   "cell_type": "code",
   "execution_count": 29,
   "id": "c9615a90",
   "metadata": {
    "ExecuteTime": {
     "end_time": "2022-08-28T14:25:01.987219Z",
     "start_time": "2022-08-28T14:25:01.869220Z"
    }
   },
   "outputs": [
    {
     "data": {
      "image/png": "[encoded data removed]",
      "text/plain": [
       "<Figure size 432x288 with 1 Axes>"
      ]
     },
     "metadata": {
      "needs_background": "light"
     },
     "output_type": "display_data"
    }
   ],
   "source": [
    "plot_prob(X)"
   ]
  },
  {
   "cell_type": "code",
   "execution_count": 31,
   "id": "7254d70a",
   "metadata": {
    "ExecuteTime": {
     "end_time": "2022-08-28T14:27:14.434905Z",
     "start_time": "2022-08-28T14:27:14.313906Z"
    }
   },
   "outputs": [
    {
     "data": {
      "image/png": "[encoded data removed]",
      "text/plain": [
       "<Figure size 720x432 with 1 Axes>"
      ]
     },
     "metadata": {
      "needs_background": "light"
     },
     "output_type": "display_data"
    }
   ],
   "source": [
    "fig = plt.figure(figsize=(10,6))\n",
    "ax = fig.add_subplot(111)\n",
    "\n",
    "x_set = np.arange(n+1)\n",
    "for p, ls in zip([0.2, 0.5, 0.7], linestyles):\n",
    "    rv = stats.binom(n, p)\n",
    "    ax.plot(x_set, rv.pmf(x_set),\n",
    "           label=f'p:{p}', ls=ls, color='gray')\n",
    "ax.set_xticks(x_set)\n",
    "ax.legend()\n",
    "\n",
    "plt.show()"
   ]
  },
  {
   "cell_type": "markdown",
   "id": "aec3038e",
   "metadata": {},
   "source": [
    "### 기하분포\n",
    "- 베르누이 시행에서 처음 성공할 때까지 반복한 시행 횟수가 따르는 분포\n",
    "- 기하분포의 파라미터는 베르누이 시행의 성공 확률 파라미터 p가 되며 파라미터 p의 기하분포를 Ge(p)로 표기  \n",
    "\n",
    "f(x) = $(1-p)^{x-1}p$ $(x \\in \\{0,1,2,3,..\\})$\n",
    "\n",
    "       0              (otherwise) \n",
    "       \n",
    "- 기하분포의 기댓값과 분산 : E(X) = 1/p, V(X) = (1-p)/$p^2$\n"
   ]
  },
  {
   "cell_type": "code",
   "execution_count": 33,
   "id": "e2bc5ce5",
   "metadata": {
    "ExecuteTime": {
     "end_time": "2022-08-28T14:28:14.113613Z",
     "start_time": "2022-08-28T14:28:14.104617Z"
    }
   },
   "outputs": [],
   "source": [
    "def Ge(p):\n",
    "    x_set = np.arange(1,30)\n",
    "    def f(x):\n",
    "        if x in x_set:\n",
    "            return p*(1-p)**(x-1)\n",
    "        else:\n",
    "            return 0\n",
    "    return x_set, f"
   ]
  },
  {
   "cell_type": "code",
   "execution_count": 34,
   "id": "e18d1457",
   "metadata": {
    "ExecuteTime": {
     "end_time": "2022-08-28T14:28:14.383475Z",
     "start_time": "2022-08-28T14:28:14.375472Z"
    }
   },
   "outputs": [],
   "source": [
    "p = 0.5\n",
    "X = Ge(p)"
   ]
  },
  {
   "cell_type": "code",
   "execution_count": 35,
   "id": "b74e3302",
   "metadata": {
    "ExecuteTime": {
     "end_time": "2022-08-28T14:28:14.878953Z",
     "start_time": "2022-08-28T14:28:14.873951Z"
    },
    "scrolled": true
   },
   "outputs": [
    {
     "name": "stdout",
     "output_type": "stream",
     "text": [
      "expected value 2.0\n",
      "variance 2.0\n"
     ]
    }
   ],
   "source": [
    "check_prob(X)"
   ]
  },
  {
   "cell_type": "code",
   "execution_count": 36,
   "id": "9ef9c8ff",
   "metadata": {
    "ExecuteTime": {
     "end_time": "2022-08-28T14:28:16.201806Z",
     "start_time": "2022-08-28T14:28:16.032806Z"
    },
    "scrolled": true
   },
   "outputs": [
    {
     "data": {
      "image/png": "[encoded data removed]",
      "text/plain": [
       "<Figure size 432x288 with 1 Axes>"
      ]
     },
     "metadata": {
      "needs_background": "light"
     },
     "output_type": "display_data"
    }
   ],
   "source": [
    "plot_prob(X)"
   ]
  },
  {
   "cell_type": "code",
   "execution_count": 41,
   "id": "73d82d94",
   "metadata": {
    "ExecuteTime": {
     "end_time": "2022-08-28T14:32:58.324492Z",
     "start_time": "2022-08-28T14:32:58.198494Z"
    }
   },
   "outputs": [
    {
     "data": {
      "image/png": "[encoded data removed]",
      "text/plain": [
       "<Figure size 720x432 with 1 Axes>"
      ]
     },
     "metadata": {
      "needs_background": "light"
     },
     "output_type": "display_data"
    }
   ],
   "source": [
    "fig = plt.figure(figsize=(10,6))\n",
    "ax = fig.add_subplot(111)\n",
    "\n",
    "x_set = np.arange(1,15)\n",
    "for p, ls in zip([0.2, 0.5, 0.8], linestyles):\n",
    "    rv = stats.geom(p)\n",
    "    ax.plot(x_set, rv.pmf(x_set),\n",
    "           label=f'p:{p}', ls=ls, color='gray')\n",
    "ax.set_xticks(x_set)\n",
    "ax.legend()\n",
    "\n",
    "plt.show()"
   ]
  },
  {
   "cell_type": "markdown",
   "id": "bd90583b",
   "metadata": {},
   "source": [
    "### 포아송 분포\n",
    "- 임의의 사건이 단위 시간당 발생하는 건수가 따르는 확률분포이며 포아송 분포의 파라미터는 $\\lambda$로 나타낸다.\n",
    "- 하루에 평균 2건의 교통사고가 발생하는 지역에서 하루 교통사고 발생 건수는 Poi(2)를 따른다.  \n",
    "P(X=0) = 2!/0! * $e^{-2}$ = 0.135\n",
    "\n",
    "- 포아송 분포의 기댓값과 분산을 모두 $\\lambda$ 가 된다.\n",
    "\n",
    "f(x) = $\\lambda^x/x!*e^{-\\lambda}$ $(x \\in \\{0,1,2,...\\})$\n",
    "\n",
    "       0               (otherwise)\n"
   ]
  },
  {
   "cell_type": "code",
   "execution_count": 48,
   "id": "dbd651df",
   "metadata": {
    "ExecuteTime": {
     "end_time": "2022-08-28T14:35:26.042951Z",
     "start_time": "2022-08-28T14:35:26.037953Z"
    }
   },
   "outputs": [],
   "source": [
    "from scipy.special import factorial\n",
    "\n",
    "def Poi(lam):\n",
    "    x_set = np.arange(20)\n",
    "    def f(x):\n",
    "        if x in x_set:\n",
    "            return np.power(lam,x) / factorial(x) * np.exp(-lam)\n",
    "        else :\n",
    "            return 0\n",
    "    return x_set, f"
   ]
  },
  {
   "cell_type": "code",
   "execution_count": 49,
   "id": "74b6f694",
   "metadata": {
    "ExecuteTime": {
     "end_time": "2022-08-28T14:35:26.223319Z",
     "start_time": "2022-08-28T14:35:26.216320Z"
    }
   },
   "outputs": [],
   "source": [
    "lam = 3\n",
    "X = Poi(lam)"
   ]
  },
  {
   "cell_type": "code",
   "execution_count": 50,
   "id": "92466ca6",
   "metadata": {
    "ExecuteTime": {
     "end_time": "2022-08-28T14:35:26.373808Z",
     "start_time": "2022-08-28T14:35:26.357808Z"
    }
   },
   "outputs": [
    {
     "name": "stdout",
     "output_type": "stream",
     "text": [
      "expected value 3.0\n",
      "variance 3.0\n"
     ]
    }
   ],
   "source": [
    "check_prob(X)"
   ]
  },
  {
   "cell_type": "code",
   "execution_count": 51,
   "id": "da893bb6",
   "metadata": {
    "ExecuteTime": {
     "end_time": "2022-08-28T14:35:26.643806Z",
     "start_time": "2022-08-28T14:35:26.497806Z"
    }
   },
   "outputs": [
    {
     "data": {
      "image/png": "[encoded data removed]",
      "text/plain": [
       "<Figure size 432x288 with 1 Axes>"
      ]
     },
     "metadata": {
      "needs_background": "light"
     },
     "output_type": "display_data"
    }
   ],
   "source": [
    "plot_prob(X)"
   ]
  },
  {
   "cell_type": "code",
   "execution_count": 53,
   "id": "a7674f3a",
   "metadata": {
    "ExecuteTime": {
     "end_time": "2022-08-28T14:35:43.716553Z",
     "start_time": "2022-08-28T14:35:43.592556Z"
    }
   },
   "outputs": [
    {
     "data": {
      "image/png": "[encoded data removed]",
      "text/plain": [
       "<Figure size 720x432 with 1 Axes>"
      ]
     },
     "metadata": {
      "needs_background": "light"
     },
     "output_type": "display_data"
    }
   ],
   "source": [
    "fig = plt.figure(figsize=(10,6))\n",
    "ax = fig.add_subplot(111)\n",
    "\n",
    "x_set = np.arange(20)\n",
    "for lam, ls in zip([3, 5, 8], linestyles):\n",
    "    rv = stats.poisson(lam)\n",
    "    ax.plot(x_set, rv.pmf(x_set),\n",
    "           label=f'lam:{lam}', ls=ls, color='gray')\n",
    "ax.set_xticks(x_set)\n",
    "ax.legend()\n",
    "\n",
    "plt.show()"
   ]
  },
  {
   "cell_type": "code",
   "execution_count": null,
   "id": "66005dc3",
   "metadata": {},
   "outputs": [],
   "source": []
  },
  {
   "cell_type": "code",
   "execution_count": null,
   "id": "c9c36cc2",
   "metadata": {},
   "outputs": [],
   "source": []
  },
  {
   "cell_type": "code",
   "execution_count": null,
   "id": "ba3a306c",
   "metadata": {},
   "outputs": [],
   "source": []
  }
 ],
 "metadata": {
  "kernelspec": {
   "display_name": "Python 3 (ipykernel)",
   "language": "python",
   "name": "python3"
  },
  "language_info": {
   "codemirror_mode": {
    "name": "ipython",
    "version": 3
   },
   "file_extension": ".py",
   "mimetype": "text/x-python",
   "name": "python",
   "nbconvert_exporter": "python",
   "pygments_lexer": "ipython3",
   "version": "3.7.13"
  },
  "toc": {
   "base_numbering": 1,
   "nav_menu": {},
   "number_sections": true,
   "sideBar": true,
   "skip_h1_title": false,
   "title_cell": "Table of Contents",
   "title_sidebar": "Contents",
   "toc_cell": false,
   "toc_position": {
    "height": "700px",
    "left": "0px",
    "top": "111.125px",
    "width": "400px"
   },
   "toc_section_display": true,
   "toc_window_display": false
  }
 },
 "nbformat": 4,
 "nbformat_minor": 5
}
