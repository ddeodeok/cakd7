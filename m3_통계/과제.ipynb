{
 "cells": [
  {
   "cell_type": "markdown",
   "id": "ea8beb62",
   "metadata": {},
   "source": [
    "## 220822 "
   ]
  },
  {
   "cell_type": "markdown",
   "id": "91db9823",
   "metadata": {},
   "source": [
    "### 과제1 ]교제 ~ 51page 코드 문제 풀기\n",
    "\n",
    "- Stat_1.ipynb 참조"
   ]
  },
  {
   "cell_type": "markdown",
   "id": "bab1f680",
   "metadata": {},
   "source": [
    "### 과제2 ] 20개 원소로 구성되는 배열을 만든후 평균, 편차 및 편차의 합을 구하세요"
   ]
  },
  {
   "cell_type": "code",
   "execution_count": 7,
   "id": "6f3019b6",
   "metadata": {},
   "outputs": [
    {
     "data": {
      "text/plain": [
       "array([ 0,  1,  2,  3,  4,  5,  6,  7,  8,  9, 10, 11, 12, 13, 14, 15, 16,\n",
       "       17, 18, 19])"
      ]
     },
     "execution_count": 7,
     "metadata": {},
     "output_type": "execute_result"
    }
   ],
   "source": [
    "import numpy as np\n",
    "ar = np.arange(20)\n",
    "ar"
   ]
  },
  {
   "cell_type": "code",
   "execution_count": 15,
   "id": "3381529a",
   "metadata": {},
   "outputs": [
    {
     "name": "stdout",
     "output_type": "stream",
     "text": [
      "평균 9.5\n",
      "편차 [-9.5 -8.5 -7.5 -6.5 -5.5 -4.5 -3.5 -2.5 -1.5 -0.5  0.5  1.5  2.5  3.5\n",
      "  4.5  5.5  6.5  7.5  8.5  9.5]\n",
      "편차합 0.0\n"
     ]
    }
   ],
   "source": [
    "ar_mean = ar.mean()\n",
    "ar_deviation = ar - ar_mean\n",
    "sum(ar_deviation)\n",
    "print('평균',ar_mean)\n",
    "print('편차',ar_deviation)\n",
    "print('편차합',sum(ar_deviation))"
   ]
  },
  {
   "cell_type": "markdown",
   "id": "5a28b69e",
   "metadata": {},
   "source": [
    "### 과제3 ] 중앙값 > 평균값 인 경우와 중앙값 < 평균값인 두가지 집합에서 나타나는 가능성이 있는 특징을 사례로 설명하세요."
   ]
  },
  {
   "cell_type": "code",
   "execution_count": null,
   "id": "42af2954",
   "metadata": {},
   "outputs": [],
   "source": [
    "- 중앙값> 평균값 인 경우 : 중국 1인당 GDP의 경우 \n",
    "    "
   ]
  },
  {
   "cell_type": "markdown",
   "id": "96afa1ea",
   "metadata": {},
   "source": [
    "### 과제4 ] 4분위를 이용하여 이상치를 구하는 사례를 생성하고 시각화 및 이상치 산출하는 과정을 설명하세요."
   ]
  },
  {
   "cell_type": "code",
   "execution_count": null,
   "id": "22e81fff",
   "metadata": {},
   "outputs": [],
   "source": []
  },
  {
   "cell_type": "markdown",
   "id": "61662436",
   "metadata": {},
   "source": [
    "### 과제5 ] 표본분산과 불편분산의 차이를 사례를 들어 설명하세요."
   ]
  },
  {
   "cell_type": "code",
   "execution_count": null,
   "id": "e0a1d5b0",
   "metadata": {},
   "outputs": [],
   "source": []
  }
 ],
 "metadata": {
  "kernelspec": {
   "display_name": "Python 3 (ipykernel)",
   "language": "python",
   "name": "python3"
  },
  "language_info": {
   "codemirror_mode": {
    "name": "ipython",
    "version": 3
   },
   "file_extension": ".py",
   "mimetype": "text/x-python",
   "name": "python",
   "nbconvert_exporter": "python",
   "pygments_lexer": "ipython3",
   "version": "3.8.13"
  },
  "toc": {
   "base_numbering": 1,
   "nav_menu": {},
   "number_sections": true,
   "sideBar": true,
   "skip_h1_title": false,
   "title_cell": "Table of Contents",
   "title_sidebar": "Contents",
   "toc_cell": false,
   "toc_position": {},
   "toc_section_display": true,
   "toc_window_display": false
  }
 },
 "nbformat": 4,
 "nbformat_minor": 5
}
