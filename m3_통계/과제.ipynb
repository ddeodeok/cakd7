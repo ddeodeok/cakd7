{
 "cells": [
  {
   "cell_type": "markdown",
   "id": "ea8beb62",
   "metadata": {},
   "source": [
    "## 과제 220822 "
   ]
  },
  {
   "cell_type": "markdown",
   "id": "91db9823",
   "metadata": {},
   "source": [
    "### 과제1 ]교제 ~ 51page 코드 문제 풀기\n",
    "\n",
    "- Stat_1.ipynb 참조"
   ]
  },
  {
   "cell_type": "markdown",
   "id": "bab1f680",
   "metadata": {},
   "source": [
    "### 과제2 ] 20개 원소로 구성되는 배열을 만든후 평균, 편차 및 편차의 합을 구하세요"
   ]
  },
  {
   "cell_type": "code",
   "execution_count": 7,
   "id": "6f3019b6",
   "metadata": {},
   "outputs": [
    {
     "data": {
      "text/plain": [
       "array([ 0,  1,  2,  3,  4,  5,  6,  7,  8,  9, 10, 11, 12, 13, 14, 15, 16,\n",
       "       17, 18, 19])"
      ]
     },
     "execution_count": 7,
     "metadata": {},
     "output_type": "execute_result"
    }
   ],
   "source": [
    "import numpy as np\n",
    "ar = np.arange(20)\n",
    "ar"
   ]
  },
  {
   "cell_type": "code",
   "execution_count": 15,
   "id": "3381529a",
   "metadata": {},
   "outputs": [
    {
     "name": "stdout",
     "output_type": "stream",
     "text": [
      "평균 9.5\n",
      "편차 [-9.5 -8.5 -7.5 -6.5 -5.5 -4.5 -3.5 -2.5 -1.5 -0.5  0.5  1.5  2.5  3.5\n",
      "  4.5  5.5  6.5  7.5  8.5  9.5]\n",
      "편차합 0.0\n"
     ]
    }
   ],
   "source": [
    "ar_mean = ar.mean()\n",
    "ar_deviation = ar - ar_mean\n",
    "sum(ar_deviation)\n",
    "print('평균',ar_mean)\n",
    "print('편차',ar_deviation)\n",
    "print('편차합',sum(ar_deviation))"
   ]
  },
  {
   "cell_type": "markdown",
   "id": "5a28b69e",
   "metadata": {},
   "source": [
    "### 과제3 ] 중앙값 > 평균값 인 경우와 중앙값 < 평균값인 두가지 집합에서 나타나는 가능성이 있는 특징을 사례로 설명하세요."
   ]
  },
  {
   "cell_type": "markdown",
   "id": "322d1501",
   "metadata": {},
   "source": [
    "- 중앙값< 평균값 인 경우 :  \n",
    "    빈부격차가 큰 중국 GDP의 경우 1인당 평균GDP는 만달러 정도 (평균값) 이지만 \n",
    "    상위 1프로가 중국 전체의 절반정도의 부를 가지고 있기때문에 빈부격차가 매우크다. \n",
    "    그러므로 중국 최고 부자들의 GDP가 3만달러만 넘어도 중앙값은 그것보다 50%이상 초과 될것이므로 \n",
    "    실제 중앙값은 훨씬 높은 값일 것이다.\n",
    "- 중앙값> 평균값 인 경우 :\n",
    "    한국은 젊은층들의 도시 이동으로 시골에는 평균 나이이 높다. \n",
    "    그러므로 대부분의 시골의 평균나이는 중앙값보다 높은 경우를 보인다.(단, 초등학교가 있는 시골에 한해서)\n",
    "    \n",
    "    "
   ]
  },
  {
   "cell_type": "markdown",
   "id": "96afa1ea",
   "metadata": {},
   "source": [
    "### 과제4 ] 4분위를 이용하여 이상치를 구하는 사례를 생성하고 시각화 및 이상치 산출하는 과정을 설명하세요."
   ]
  },
  {
   "cell_type": "code",
   "execution_count": 16,
   "id": "22e81fff",
   "metadata": {
    "scrolled": false
   },
   "outputs": [
    {
     "data": {
      "text/html": [
       "<div>\n",
       "<style scoped>\n",
       "    .dataframe tbody tr th:only-of-type {\n",
       "        vertical-align: middle;\n",
       "    }\n",
       "\n",
       "    .dataframe tbody tr th {\n",
       "        vertical-align: top;\n",
       "    }\n",
       "\n",
       "    .dataframe thead th {\n",
       "        text-align: right;\n",
       "    }\n",
       "</style>\n",
       "<table border=\"1\" class=\"dataframe\">\n",
       "  <thead>\n",
       "    <tr style=\"text-align: right;\">\n",
       "      <th></th>\n",
       "      <th>weight</th>\n",
       "    </tr>\n",
       "  </thead>\n",
       "  <tbody>\n",
       "    <tr>\n",
       "      <th>count</th>\n",
       "      <td>10.000000</td>\n",
       "    </tr>\n",
       "    <tr>\n",
       "      <th>mean</th>\n",
       "      <td>59.300000</td>\n",
       "    </tr>\n",
       "    <tr>\n",
       "      <th>std</th>\n",
       "      <td>24.193893</td>\n",
       "    </tr>\n",
       "    <tr>\n",
       "      <th>min</th>\n",
       "      <td>24.000000</td>\n",
       "    </tr>\n",
       "    <tr>\n",
       "      <th>25%</th>\n",
       "      <td>44.750000</td>\n",
       "    </tr>\n",
       "    <tr>\n",
       "      <th>50%</th>\n",
       "      <td>59.500000</td>\n",
       "    </tr>\n",
       "    <tr>\n",
       "      <th>75%</th>\n",
       "      <td>69.500000</td>\n",
       "    </tr>\n",
       "    <tr>\n",
       "      <th>max</th>\n",
       "      <td>110.000000</td>\n",
       "    </tr>\n",
       "  </tbody>\n",
       "</table>\n",
       "</div>"
      ],
      "text/plain": [
       "           weight\n",
       "count   10.000000\n",
       "mean    59.300000\n",
       "std     24.193893\n",
       "min     24.000000\n",
       "25%     44.750000\n",
       "50%     59.500000\n",
       "75%     69.500000\n",
       "max    110.000000"
      ]
     },
     "execution_count": 16,
     "metadata": {},
     "output_type": "execute_result"
    }
   ],
   "source": [
    "import numpy as np\n",
    "import pandas as pd\n",
    "weight_data = [55,65,44,36,64,77,110,24,47,71]\n",
    "wei_df = pd.DataFrame(weight_data,columns=['weight'])\n",
    "wei_df.describe()"
   ]
  },
  {
   "cell_type": "code",
   "execution_count": 23,
   "id": "ccc86f64",
   "metadata": {
    "collapsed": true
   },
   "outputs": [
    {
     "name": "stdout",
     "output_type": "stream",
     "text": [
      "Collecting matplotlib\n",
      "  Downloading matplotlib-3.5.3-cp37-cp37m-win_amd64.whl (7.2 MB)\n",
      "     ---------------------------------------- 7.2/7.2 MB 3.8 MB/s eta 0:00:00\n",
      "Requirement already satisfied: pyparsing>=2.2.1 in c:\\users\\ejrgu\\anaconda3\\envs\\bigdata3\\lib\\site-packages (from matplotlib) (3.0.4)\n",
      "Collecting kiwisolver>=1.0.1\n",
      "  Downloading kiwisolver-1.4.4-cp37-cp37m-win_amd64.whl (54 kB)\n",
      "     ---------------------------------------- 54.9/54.9 kB 2.8 MB/s eta 0:00:00\n",
      "Collecting pillow>=6.2.0\n",
      "  Downloading Pillow-9.2.0-cp37-cp37m-win_amd64.whl (3.3 MB)\n",
      "     ---------------------------------------- 3.3/3.3 MB 41.3 MB/s eta 0:00:00\n",
      "Collecting fonttools>=4.22.0\n",
      "  Using cached fonttools-4.36.0-py3-none-any.whl (950 kB)\n",
      "Requirement already satisfied: packaging>=20.0 in c:\\users\\ejrgu\\anaconda3\\envs\\bigdata3\\lib\\site-packages (from matplotlib) (21.3)\n",
      "Collecting cycler>=0.10\n",
      "  Using cached cycler-0.11.0-py3-none-any.whl (6.4 kB)\n",
      "Requirement already satisfied: numpy>=1.17 in c:\\users\\ejrgu\\anaconda3\\envs\\bigdata3\\lib\\site-packages (from matplotlib) (1.21.6)\n",
      "Requirement already satisfied: python-dateutil>=2.7 in c:\\users\\ejrgu\\anaconda3\\envs\\bigdata3\\lib\\site-packages (from matplotlib) (2.8.2)\n",
      "Requirement already satisfied: typing-extensions in c:\\users\\ejrgu\\anaconda3\\envs\\bigdata3\\lib\\site-packages (from kiwisolver>=1.0.1->matplotlib) (4.1.1)\n",
      "Requirement already satisfied: six>=1.5 in c:\\users\\ejrgu\\anaconda3\\envs\\bigdata3\\lib\\site-packages (from python-dateutil>=2.7->matplotlib) (1.16.0)\n",
      "Installing collected packages: pillow, kiwisolver, fonttools, cycler, matplotlib\n",
      "Successfully installed cycler-0.11.0 fonttools-4.36.0 kiwisolver-1.4.4 matplotlib-3.5.3 pillow-9.2.0\n"
     ]
    }
   ],
   "source": [
    "!pip install matplotlib"
   ]
  },
  {
   "cell_type": "markdown",
   "id": "efeeecfd",
   "metadata": {},
   "source": [
    "- 이상치\n",
    "```\n",
    "Q1 = df.describe()['25%']\n",
    "Q3 = df.describe()['75%']\n",
    "IQR = Q3 - Q1\n",
    "abv = df[(df.Close <= (Q1 - IQR*1.5)) | (df.Close >= (Q3+IQR*1.5))]\n",
    "abv```"
   ]
  },
  {
   "cell_type": "code",
   "execution_count": 31,
   "id": "f7483be1",
   "metadata": {
    "scrolled": true
   },
   "outputs": [
    {
     "data": {
      "text/html": [
       "<div>\n",
       "<style scoped>\n",
       "    .dataframe tbody tr th:only-of-type {\n",
       "        vertical-align: middle;\n",
       "    }\n",
       "\n",
       "    .dataframe tbody tr th {\n",
       "        vertical-align: top;\n",
       "    }\n",
       "\n",
       "    .dataframe thead th {\n",
       "        text-align: right;\n",
       "    }\n",
       "</style>\n",
       "<table border=\"1\" class=\"dataframe\">\n",
       "  <thead>\n",
       "    <tr style=\"text-align: right;\">\n",
       "      <th></th>\n",
       "      <th>weight</th>\n",
       "    </tr>\n",
       "  </thead>\n",
       "  <tbody>\n",
       "    <tr>\n",
       "      <th>6</th>\n",
       "      <td>110</td>\n",
       "    </tr>\n",
       "  </tbody>\n",
       "</table>\n",
       "</div>"
      ],
      "text/plain": [
       "   weight\n",
       "6     110"
      ]
     },
     "execution_count": 31,
     "metadata": {},
     "output_type": "execute_result"
    },
    {
     "data": {
      "image/png": "[encoded data removed]",
      "text/plain": [
       "<Figure size 432x288 with 1 Axes>"
      ]
     },
     "metadata": {
      "needs_background": "light"
     },
     "output_type": "display_data"
    }
   ],
   "source": [
    "wei_df.plot(kind='box')\n",
    "Q1 = wei_df.weight.describe()['25%']\n",
    "Q3 = wei_df.weight.describe()['75%']\n",
    "IQR = Q3-Q1\n",
    "abv = wei_df[(wei_df.weight <= (Q1 - IQR*1.5)) | (wei_df.weight >= (Q3+IQR*1.5))]\n",
    "abv"
   ]
  },
  {
   "cell_type": "markdown",
   "id": "61662436",
   "metadata": {},
   "source": [
    "### 과제5 ] 표본분산과 불편분산의 차이를 사례를 들어 설명하세요."
   ]
  },
  {
   "cell_type": "code",
   "execution_count": null,
   "id": "e0a1d5b0",
   "metadata": {},
   "outputs": [],
   "source": []
  },
  {
   "cell_type": "markdown",
   "id": "8a4ea19d",
   "metadata": {},
   "source": [
    "## 과제 220823"
   ]
  },
  {
   "cell_type": "markdown",
   "id": "2cb70364",
   "metadata": {},
   "source": [
    "### 과제 1. p52 ~ 83 예제 문제 풀어보기"
   ]
  },
  {
   "cell_type": "markdown",
   "id": "d49c5ca5",
   "metadata": {},
   "source": [
    "- Stat_1.ipynb 참조"
   ]
  },
  {
   "cell_type": "markdown",
   "id": "eacf42a6",
   "metadata": {},
   "source": [
    "### 과제 2. 일차원 데이터를 생성하여 다음을 수행하세요.\n",
    "- 도수분포표를 만들고 히스토그램으로 시각화하세요.(계급을 변경하여 2개를 작성)\n",
    "- 상대도수 및 누적상대도수를 도수분포표에 추가하고 히스토그램과 누적상대도수를 시각화하세요."
   ]
  },
  {
   "cell_type": "markdown",
   "id": "d5c099ec",
   "metadata": {},
   "source": [
    "#### 램덤으로 나이 데이터 만들어 도수분포표 만듬"
   ]
  },
  {
   "cell_type": "code",
   "execution_count": 3,
   "id": "2a3f9020",
   "metadata": {},
   "outputs": [
    {
     "data": {
      "text/plain": [
       "array([11, 11, 12,  6, 13, 13,  8,  8,  9,  8], dtype=int64)"
      ]
     },
     "execution_count": 3,
     "metadata": {},
     "output_type": "execute_result"
    }
   ],
   "source": [
    "import numpy as np\n",
    "import pandas as pd\n",
    "import random\n",
    "age_data = []\n",
    "for i in range(1,100):\n",
    "    age = random.randint(1,100)\n",
    "    age_data.append(age)\n",
    "age_df= pd.DataFrame(age_data,columns=['age'])\n",
    "\n",
    "age= np.array(age_df['age'])\n",
    "age\n",
    "# 계급 나누기\n",
    "freq, _=np.histogram(age, bins=10, range=(0,100))\n",
    "freq\n"
   ]
  },
  {
   "cell_type": "code",
   "execution_count": 63,
   "id": "5499f3d7",
   "metadata": {},
   "outputs": [
    {
     "data": {
      "text/plain": [
       "['0~10',\n",
       " '10~20',\n",
       " '20~30',\n",
       " '30~40',\n",
       " '40~50',\n",
       " '50~60',\n",
       " '60~70',\n",
       " '70~80',\n",
       " '80~90',\n",
       " '90~100']"
      ]
     },
     "execution_count": 63,
     "metadata": {},
     "output_type": "execute_result"
    }
   ],
   "source": [
    "# 10단위 문자열 리스트 작성\n",
    "freq_class = [f'{i}~{i+10}' for i in range(0,100,10)]\n",
    "freq_class"
   ]
  },
  {
   "cell_type": "code",
   "execution_count": 90,
   "id": "efd032c5",
   "metadata": {
    "scrolled": true
   },
   "outputs": [
    {
     "data": {
      "text/html": [
       "<div>\n",
       "<style scoped>\n",
       "    .dataframe tbody tr th:only-of-type {\n",
       "        vertical-align: middle;\n",
       "    }\n",
       "\n",
       "    .dataframe tbody tr th {\n",
       "        vertical-align: top;\n",
       "    }\n",
       "\n",
       "    .dataframe thead th {\n",
       "        text-align: right;\n",
       "    }\n",
       "</style>\n",
       "<table border=\"1\" class=\"dataframe\">\n",
       "  <thead>\n",
       "    <tr style=\"text-align: right;\">\n",
       "      <th></th>\n",
       "      <th>frequency</th>\n",
       "    </tr>\n",
       "  </thead>\n",
       "  <tbody>\n",
       "    <tr>\n",
       "      <th>0~10</th>\n",
       "      <td>7</td>\n",
       "    </tr>\n",
       "    <tr>\n",
       "      <th>10~20</th>\n",
       "      <td>10</td>\n",
       "    </tr>\n",
       "    <tr>\n",
       "      <th>20~30</th>\n",
       "      <td>12</td>\n",
       "    </tr>\n",
       "    <tr>\n",
       "      <th>30~40</th>\n",
       "      <td>9</td>\n",
       "    </tr>\n",
       "    <tr>\n",
       "      <th>40~50</th>\n",
       "      <td>12</td>\n",
       "    </tr>\n",
       "    <tr>\n",
       "      <th>50~60</th>\n",
       "      <td>4</td>\n",
       "    </tr>\n",
       "    <tr>\n",
       "      <th>60~70</th>\n",
       "      <td>13</td>\n",
       "    </tr>\n",
       "    <tr>\n",
       "      <th>70~80</th>\n",
       "      <td>11</td>\n",
       "    </tr>\n",
       "    <tr>\n",
       "      <th>80~90</th>\n",
       "      <td>10</td>\n",
       "    </tr>\n",
       "    <tr>\n",
       "      <th>90~100</th>\n",
       "      <td>11</td>\n",
       "    </tr>\n",
       "  </tbody>\n",
       "</table>\n",
       "</div>"
      ],
      "text/plain": [
       "        frequency\n",
       "0~10            7\n",
       "10~20          10\n",
       "20~30          12\n",
       "30~40           9\n",
       "40~50          12\n",
       "50~60           4\n",
       "60~70          13\n",
       "70~80          11\n",
       "80~90          10\n",
       "90~100         11"
      ]
     },
     "execution_count": 90,
     "metadata": {},
     "output_type": "execute_result"
    }
   ],
   "source": [
    "# freq_class  인덱스로 ~~~  집에서 pd.index 안됨 ㅠ\n",
    "freq_age_df = pd.DataFrame({'frequency':freq})\n",
    "freq_age_df = freq_age_df.rename(index={0:'0~10',1:'10~20',2:'20~30',3:'30~40',4:'40~50',5:'50~60',6:'60~70',7:'70~80',8:'80~90',\n",
    "                                        9:'90~100'})\n",
    "# freq_age_df = pd.DataFrame({'frequency':freq},\n",
    "#                            index=pd.Index(freq_class,\n",
    "#                                          name='class'))\n",
    "freq_age_df "
   ]
  },
  {
   "cell_type": "code",
   "execution_count": 83,
   "id": "b149fe16",
   "metadata": {},
   "outputs": [
    {
     "data": {
      "text/plain": [
       "[5, 15, 25, 35, 45, 55, 65, 75, 85, 95]"
      ]
     },
     "execution_count": 83,
     "metadata": {},
     "output_type": "execute_result"
    }
   ],
   "source": [
    "# 계급값\n",
    "class_value = [(i+(i+10))//2 for i in range(0,100,10)]\n",
    "class_value"
   ]
  },
  {
   "cell_type": "code",
   "execution_count": 84,
   "id": "196f35bc",
   "metadata": {},
   "outputs": [
    {
     "data": {
      "text/plain": [
       "array([0.07, 0.1 , 0.12, 0.09, 0.12, 0.04, 0.13, 0.11, 0.1 , 0.11])"
      ]
     },
     "execution_count": 84,
     "metadata": {},
     "output_type": "execute_result"
    }
   ],
   "source": [
    "# 상대도수\n",
    "rel_freq = freq/freq.sum()\n",
    "rel_freq.round(2)"
   ]
  },
  {
   "cell_type": "code",
   "execution_count": 85,
   "id": "469af765",
   "metadata": {},
   "outputs": [
    {
     "data": {
      "text/plain": [
       "array([0.07, 0.17, 0.29, 0.38, 0.51, 0.55, 0.68, 0.79, 0.89, 1.  ])"
      ]
     },
     "execution_count": 85,
     "metadata": {},
     "output_type": "execute_result"
    }
   ],
   "source": [
    "# 누적상대도수 \n",
    "cum_rel_freq = np.cumsum(rel_freq)\n",
    "cum_rel_freq.round(2)"
   ]
  },
  {
   "cell_type": "code",
   "execution_count": 86,
   "id": "cb3aa7e8",
   "metadata": {
    "scrolled": true
   },
   "outputs": [
    {
     "data": {
      "text/html": [
       "<div>\n",
       "<style scoped>\n",
       "    .dataframe tbody tr th:only-of-type {\n",
       "        vertical-align: middle;\n",
       "    }\n",
       "\n",
       "    .dataframe tbody tr th {\n",
       "        vertical-align: top;\n",
       "    }\n",
       "\n",
       "    .dataframe thead th {\n",
       "        text-align: right;\n",
       "    }\n",
       "</style>\n",
       "<table border=\"1\" class=\"dataframe\">\n",
       "  <thead>\n",
       "    <tr style=\"text-align: right;\">\n",
       "      <th></th>\n",
       "      <th>class value</th>\n",
       "      <th>frequency</th>\n",
       "      <th>relative frequency</th>\n",
       "      <th>cumulative relative frequency</th>\n",
       "    </tr>\n",
       "  </thead>\n",
       "  <tbody>\n",
       "    <tr>\n",
       "      <th>0~10</th>\n",
       "      <td>5</td>\n",
       "      <td>7</td>\n",
       "      <td>0.070707</td>\n",
       "      <td>0.070707</td>\n",
       "    </tr>\n",
       "    <tr>\n",
       "      <th>10~20</th>\n",
       "      <td>15</td>\n",
       "      <td>10</td>\n",
       "      <td>0.101010</td>\n",
       "      <td>0.171717</td>\n",
       "    </tr>\n",
       "    <tr>\n",
       "      <th>20~30</th>\n",
       "      <td>25</td>\n",
       "      <td>12</td>\n",
       "      <td>0.121212</td>\n",
       "      <td>0.292929</td>\n",
       "    </tr>\n",
       "    <tr>\n",
       "      <th>30~40</th>\n",
       "      <td>35</td>\n",
       "      <td>9</td>\n",
       "      <td>0.090909</td>\n",
       "      <td>0.383838</td>\n",
       "    </tr>\n",
       "    <tr>\n",
       "      <th>40~50</th>\n",
       "      <td>45</td>\n",
       "      <td>12</td>\n",
       "      <td>0.121212</td>\n",
       "      <td>0.505051</td>\n",
       "    </tr>\n",
       "    <tr>\n",
       "      <th>50~60</th>\n",
       "      <td>55</td>\n",
       "      <td>4</td>\n",
       "      <td>0.040404</td>\n",
       "      <td>0.545455</td>\n",
       "    </tr>\n",
       "    <tr>\n",
       "      <th>60~70</th>\n",
       "      <td>65</td>\n",
       "      <td>13</td>\n",
       "      <td>0.131313</td>\n",
       "      <td>0.676768</td>\n",
       "    </tr>\n",
       "    <tr>\n",
       "      <th>70~80</th>\n",
       "      <td>75</td>\n",
       "      <td>11</td>\n",
       "      <td>0.111111</td>\n",
       "      <td>0.787879</td>\n",
       "    </tr>\n",
       "    <tr>\n",
       "      <th>80~90</th>\n",
       "      <td>85</td>\n",
       "      <td>10</td>\n",
       "      <td>0.101010</td>\n",
       "      <td>0.888889</td>\n",
       "    </tr>\n",
       "    <tr>\n",
       "      <th>90~100</th>\n",
       "      <td>95</td>\n",
       "      <td>11</td>\n",
       "      <td>0.111111</td>\n",
       "      <td>1.000000</td>\n",
       "    </tr>\n",
       "  </tbody>\n",
       "</table>\n",
       "</div>"
      ],
      "text/plain": [
       "        class value  frequency  relative frequency  \\\n",
       "0~10              5          7            0.070707   \n",
       "10~20            15         10            0.101010   \n",
       "20~30            25         12            0.121212   \n",
       "30~40            35          9            0.090909   \n",
       "40~50            45         12            0.121212   \n",
       "50~60            55          4            0.040404   \n",
       "60~70            65         13            0.131313   \n",
       "70~80            75         11            0.111111   \n",
       "80~90            85         10            0.101010   \n",
       "90~100           95         11            0.111111   \n",
       "\n",
       "        cumulative relative frequency  \n",
       "0~10                         0.070707  \n",
       "10~20                        0.171717  \n",
       "20~30                        0.292929  \n",
       "30~40                        0.383838  \n",
       "40~50                        0.505051  \n",
       "50~60                        0.545455  \n",
       "60~70                        0.676768  \n",
       "70~80                        0.787879  \n",
       "80~90                        0.888889  \n",
       "90~100                       1.000000  "
      ]
     },
     "execution_count": 86,
     "metadata": {},
     "output_type": "execute_result"
    }
   ],
   "source": [
    "# 도수 분포표에 추가 \n",
    "freq_age_df['class value']=class_value\n",
    "freq_age_df['relative frequency'] = rel_freq\n",
    "freq_age_df['cumulative relative frequency'] = cum_rel_freq\n",
    "freq_age_df = freq_age_df[['class value', 'frequency', 'relative frequency', 'cumulative relative frequency']]\n",
    "freq_age_df"
   ]
  },
  {
   "cell_type": "code",
   "execution_count": 80,
   "id": "9eb4c2d6",
   "metadata": {},
   "outputs": [
    {
     "data": {
      "text/plain": [
       "65"
      ]
     },
     "execution_count": 80,
     "metadata": {},
     "output_type": "execute_result"
    }
   ],
   "source": [
    "# 최빈값 (가장 많은값을 가진 클래스)\n",
    "freq_age_df.loc[freq_age_df['frequency'].idxmax(), 'class value']"
   ]
  },
  {
   "cell_type": "markdown",
   "id": "0fc2bccb",
   "metadata": {},
   "source": [
    "#### 히스토그램"
   ]
  },
  {
   "cell_type": "code",
   "execution_count": 33,
   "id": "70709655",
   "metadata": {},
   "outputs": [],
   "source": [
    "import matplotlib.pyplot as plt\n",
    "%matplotlib inline"
   ]
  },
  {
   "cell_type": "code",
   "execution_count": 108,
   "id": "1bfc730d",
   "metadata": {},
   "outputs": [
    {
     "data": {
      "image/png": "[encoded data removed]",
      "text/plain": [
       "<Figure size 720x432 with 2 Axes>"
      ]
     },
     "metadata": {
      "needs_background": "light"
     },
     "output_type": "display_data"
    }
   ],
   "source": [
    "fig = plt.figure(figsize=(10,6))\n",
    "ax = fig.add_subplot(211)\n",
    "freq,_,_= ax.hist(age, bins=25, range=(0,100))\n",
    "ax.set_xlabel('age')\n",
    "ax.set_ylabel('person number')\n",
    "ax.set_xticks(np.linspace(0,100,10+1))\n",
    "ax.set_yticks(np.arange(0,freq.max()+1))\n",
    "\n",
    "ax = fig.add_subplot(212)\n",
    "freq, _, _ = ax.hist(age,bins=50,range=(0,100))\n",
    "ax.set_xlabel('age')\n",
    "ax.set_ylabel('person number')\n",
    "ax.set_xticks(np.linspace(0,100,25+1))\n",
    "ax.set_yticks(np.arange(0,freq.max()+1))\n",
    "\n",
    "plt.show()"
   ]
  },
  {
   "cell_type": "markdown",
   "id": "417a15e7",
   "metadata": {},
   "source": [
    "- 상대도수 및 누적상대도수를 도수분포표에 추가하고 히스토그램과 누적상대도수를 시각화하세요"
   ]
  },
  {
   "cell_type": "code",
   "execution_count": 101,
   "id": "3abfd2fa",
   "metadata": {},
   "outputs": [
    {
     "data": {
      "image/png": "[encoded data removed]",
      "text/plain": [
       "<Figure size 720x432 with 2 Axes>"
      ]
     },
     "metadata": {
      "needs_background": "light"
     },
     "output_type": "display_data"
    }
   ],
   "source": [
    "fig = plt.figure(figsize=(10,6))\n",
    "ax1 = fig.add_subplot(111)\n",
    "ax2 = ax1.twinx()\n",
    "# 상대도수의 히스토그램으로 하기 위해서는, 도수를 데이터의 수로 나눌 필요가 있음\n",
    "#  이것은 hist의 인수 weight를 지정하면 실현 가능\n",
    "weights = np.ones_like(age) / len(age)\n",
    "rel_freq, _, _ = ax1.hist(age, bins=25,\n",
    "                         range=(0,100), weights=weights)\n",
    "cum_rel_freq = np.cumsum(rel_freq)\n",
    "class_value = [(i+(i+4))//2 for i in range(0,100,4)]\n",
    "ax2.plot(class_value, cum_rel_freq,\n",
    "        ls='--', marker='o', color='black')\n",
    "ax1.set_xlabel('age')\n",
    "ax1.set_ylabel('relative frequency')\n",
    "ax2.set_ylabel('cumulative relative frequency')\n",
    "ax1.set_xticks(np.linspace(0,100,25+1))\n",
    "\n",
    "plt.show()"
   ]
  },
  {
   "cell_type": "code",
   "execution_count": null,
   "id": "37a4f18b",
   "metadata": {},
   "outputs": [],
   "source": []
  },
  {
   "cell_type": "markdown",
   "id": "5227dea8",
   "metadata": {},
   "source": [
    "### 과제 3. 이차원 데이터를 생성하여 다음을 수행하세요.(데이터 수 각1000개 이상)\n",
    "- 공분산 및 상관계수를 구하세요.\n",
    "- 이차원 데이터를 산점도, 히트맵으로 시각화한 후 인사이트를 기술하세요."
   ]
  },
  {
   "cell_type": "code",
   "execution_count": 47,
   "id": "2b3aa542",
   "metadata": {},
   "outputs": [
    {
     "data": {
      "text/html": [
       "<div>\n",
       "<style scoped>\n",
       "    .dataframe tbody tr th:only-of-type {\n",
       "        vertical-align: middle;\n",
       "    }\n",
       "\n",
       "    .dataframe tbody tr th {\n",
       "        vertical-align: top;\n",
       "    }\n",
       "\n",
       "    .dataframe thead th {\n",
       "        text-align: right;\n",
       "    }\n",
       "</style>\n",
       "<table border=\"1\" class=\"dataframe\">\n",
       "  <thead>\n",
       "    <tr style=\"text-align: right;\">\n",
       "      <th></th>\n",
       "      <th>height</th>\n",
       "      <th>weight</th>\n",
       "    </tr>\n",
       "  </thead>\n",
       "  <tbody>\n",
       "    <tr>\n",
       "      <th>0</th>\n",
       "      <td>150</td>\n",
       "      <td>31</td>\n",
       "    </tr>\n",
       "    <tr>\n",
       "      <th>1</th>\n",
       "      <td>185</td>\n",
       "      <td>71</td>\n",
       "    </tr>\n",
       "    <tr>\n",
       "      <th>2</th>\n",
       "      <td>161</td>\n",
       "      <td>49</td>\n",
       "    </tr>\n",
       "    <tr>\n",
       "      <th>3</th>\n",
       "      <td>154</td>\n",
       "      <td>36</td>\n",
       "    </tr>\n",
       "    <tr>\n",
       "      <th>4</th>\n",
       "      <td>150</td>\n",
       "      <td>32</td>\n",
       "    </tr>\n",
       "    <tr>\n",
       "      <th>...</th>\n",
       "      <td>...</td>\n",
       "      <td>...</td>\n",
       "    </tr>\n",
       "    <tr>\n",
       "      <th>994</th>\n",
       "      <td>156</td>\n",
       "      <td>42</td>\n",
       "    </tr>\n",
       "    <tr>\n",
       "      <th>995</th>\n",
       "      <td>190</td>\n",
       "      <td>78</td>\n",
       "    </tr>\n",
       "    <tr>\n",
       "      <th>996</th>\n",
       "      <td>158</td>\n",
       "      <td>41</td>\n",
       "    </tr>\n",
       "    <tr>\n",
       "      <th>997</th>\n",
       "      <td>197</td>\n",
       "      <td>59</td>\n",
       "    </tr>\n",
       "    <tr>\n",
       "      <th>998</th>\n",
       "      <td>173</td>\n",
       "      <td>47</td>\n",
       "    </tr>\n",
       "  </tbody>\n",
       "</table>\n",
       "<p>999 rows × 2 columns</p>\n",
       "</div>"
      ],
      "text/plain": [
       "     height  weight\n",
       "0       150      31\n",
       "1       185      71\n",
       "2       161      49\n",
       "3       154      36\n",
       "4       150      32\n",
       "..      ...     ...\n",
       "994     156      42\n",
       "995     190      78\n",
       "996     158      41\n",
       "997     197      59\n",
       "998     173      47\n",
       "\n",
       "[999 rows x 2 columns]"
      ]
     },
     "execution_count": 47,
     "metadata": {},
     "output_type": "execute_result"
    }
   ],
   "source": [
    "height_data = []\n",
    "for i in range(1,1000):\n",
    "    height = random.randint(150,200)\n",
    "    height_data.append(height)\n",
    "weight_data=[]  \n",
    "for w in height_data:\n",
    "    weight = round((w-100)*random.uniform(0.6,0.9))\n",
    "    weight_data.append(weight)\n",
    "\n",
    "height_df= pd.DataFrame(list(zip(height_data,weight_data)), columns = ['height','weight'])\n",
    "\n",
    "height = np.array(height_df['height'])\n",
    "weight = np.array(height_df['weight'])\n",
    "    \n",
    "height_df\n",
    "# height= np.array(height_df['height'])\n",
    "# height\n",
    "# # 계급 나누기\n",
    "# freq, _=np.histogram(height, bins=10, range=(150,200))\n",
    "# freq\n"
   ]
  },
  {
   "cell_type": "code",
   "execution_count": 48,
   "id": "e3b3a3e6",
   "metadata": {},
   "outputs": [
    {
     "data": {
      "text/html": [
       "<div>\n",
       "<style scoped>\n",
       "    .dataframe tbody tr th:only-of-type {\n",
       "        vertical-align: middle;\n",
       "    }\n",
       "\n",
       "    .dataframe tbody tr th {\n",
       "        vertical-align: top;\n",
       "    }\n",
       "\n",
       "    .dataframe thead th {\n",
       "        text-align: right;\n",
       "    }\n",
       "</style>\n",
       "<table border=\"1\" class=\"dataframe\">\n",
       "  <thead>\n",
       "    <tr style=\"text-align: right;\">\n",
       "      <th></th>\n",
       "      <th>height</th>\n",
       "      <th>weight</th>\n",
       "      <th>height_deviations</th>\n",
       "      <th>weight_deviations</th>\n",
       "      <th>product of deviations</th>\n",
       "    </tr>\n",
       "  </thead>\n",
       "  <tbody>\n",
       "    <tr>\n",
       "      <th>0</th>\n",
       "      <td>150</td>\n",
       "      <td>31</td>\n",
       "      <td>-24.635636</td>\n",
       "      <td>-24.933934</td>\n",
       "      <td>614.263311</td>\n",
       "    </tr>\n",
       "    <tr>\n",
       "      <th>1</th>\n",
       "      <td>185</td>\n",
       "      <td>71</td>\n",
       "      <td>10.364364</td>\n",
       "      <td>15.066066</td>\n",
       "      <td>156.150198</td>\n",
       "    </tr>\n",
       "    <tr>\n",
       "      <th>2</th>\n",
       "      <td>161</td>\n",
       "      <td>49</td>\n",
       "      <td>-13.635636</td>\n",
       "      <td>-6.933934</td>\n",
       "      <td>94.548597</td>\n",
       "    </tr>\n",
       "    <tr>\n",
       "      <th>3</th>\n",
       "      <td>154</td>\n",
       "      <td>36</td>\n",
       "      <td>-20.635636</td>\n",
       "      <td>-19.933934</td>\n",
       "      <td>411.349397</td>\n",
       "    </tr>\n",
       "    <tr>\n",
       "      <th>4</th>\n",
       "      <td>150</td>\n",
       "      <td>32</td>\n",
       "      <td>-24.635636</td>\n",
       "      <td>-23.933934</td>\n",
       "      <td>589.627676</td>\n",
       "    </tr>\n",
       "    <tr>\n",
       "      <th>...</th>\n",
       "      <td>...</td>\n",
       "      <td>...</td>\n",
       "      <td>...</td>\n",
       "      <td>...</td>\n",
       "      <td>...</td>\n",
       "    </tr>\n",
       "    <tr>\n",
       "      <th>994</th>\n",
       "      <td>156</td>\n",
       "      <td>42</td>\n",
       "      <td>-18.635636</td>\n",
       "      <td>-13.933934</td>\n",
       "      <td>259.667716</td>\n",
       "    </tr>\n",
       "    <tr>\n",
       "      <th>995</th>\n",
       "      <td>190</td>\n",
       "      <td>78</td>\n",
       "      <td>15.364364</td>\n",
       "      <td>22.066066</td>\n",
       "      <td>339.031079</td>\n",
       "    </tr>\n",
       "    <tr>\n",
       "      <th>996</th>\n",
       "      <td>158</td>\n",
       "      <td>41</td>\n",
       "      <td>-16.635636</td>\n",
       "      <td>-14.933934</td>\n",
       "      <td>248.435484</td>\n",
       "    </tr>\n",
       "    <tr>\n",
       "      <th>997</th>\n",
       "      <td>197</td>\n",
       "      <td>59</td>\n",
       "      <td>22.364364</td>\n",
       "      <td>3.066066</td>\n",
       "      <td>68.570619</td>\n",
       "    </tr>\n",
       "    <tr>\n",
       "      <th>998</th>\n",
       "      <td>173</td>\n",
       "      <td>47</td>\n",
       "      <td>-1.635636</td>\n",
       "      <td>-8.933934</td>\n",
       "      <td>14.612661</td>\n",
       "    </tr>\n",
       "  </tbody>\n",
       "</table>\n",
       "<p>999 rows × 5 columns</p>\n",
       "</div>"
      ],
      "text/plain": [
       "     height  weight  height_deviations  weight_deviations  \\\n",
       "0       150      31         -24.635636         -24.933934   \n",
       "1       185      71          10.364364          15.066066   \n",
       "2       161      49         -13.635636          -6.933934   \n",
       "3       154      36         -20.635636         -19.933934   \n",
       "4       150      32         -24.635636         -23.933934   \n",
       "..      ...     ...                ...                ...   \n",
       "994     156      42         -18.635636         -13.933934   \n",
       "995     190      78          15.364364          22.066066   \n",
       "996     158      41         -16.635636         -14.933934   \n",
       "997     197      59          22.364364           3.066066   \n",
       "998     173      47          -1.635636          -8.933934   \n",
       "\n",
       "     product of deviations  \n",
       "0               614.263311  \n",
       "1               156.150198  \n",
       "2                94.548597  \n",
       "3               411.349397  \n",
       "4               589.627676  \n",
       "..                     ...  \n",
       "994             259.667716  \n",
       "995             339.031079  \n",
       "996             248.435484  \n",
       "997              68.570619  \n",
       "998              14.612661  \n",
       "\n",
       "[999 rows x 5 columns]"
      ]
     },
     "execution_count": 48,
     "metadata": {},
     "output_type": "execute_result"
    }
   ],
   "source": [
    "df = height_df.copy()\n",
    "df['height_deviations']= df['height']-df['height'].mean()\n",
    "df['weight_deviations']=df['weight']-df['weight'].mean()\n",
    "df['product of deviations'] = df['height_deviations']*df['weight_deviations']\n",
    "df"
   ]
  },
  {
   "cell_type": "code",
   "execution_count": 49,
   "id": "97f11938",
   "metadata": {},
   "outputs": [
    {
     "data": {
      "text/plain": [
       "164.45340535730938"
      ]
     },
     "execution_count": 49,
     "metadata": {},
     "output_type": "execute_result"
    }
   ],
   "source": [
    "# 분산 평균값(공분산?)\n",
    "df['product of deviations'].mean()"
   ]
  },
  {
   "cell_type": "code",
   "execution_count": 50,
   "id": "43d3bd38",
   "metadata": {},
   "outputs": [
    {
     "data": {
      "text/plain": [
       "array([[220.97434572, 164.45340536],\n",
       "       [164.45340536, 166.0176573 ]])"
      ]
     },
     "execution_count": 50,
     "metadata": {},
     "output_type": "execute_result"
    }
   ],
   "source": [
    "# Numpy cov함수로 공분산 구하기 ..l ?? 왜값이 다르지..?\n",
    "cov_height=np.cov(height,weight, ddof=0)\n",
    "cov_height"
   ]
  },
  {
   "cell_type": "code",
   "execution_count": 51,
   "id": "dbdf57e1",
   "metadata": {},
   "outputs": [
    {
     "data": {
      "text/plain": [
       "(220.97434571708843, 166.01765729693656)"
      ]
     },
     "execution_count": 51,
     "metadata": {},
     "output_type": "execute_result"
    }
   ],
   "source": [
    "cov_height[0,0], cov_height[1,1]"
   ]
  },
  {
   "cell_type": "code",
   "execution_count": 52,
   "id": "2bdb4758",
   "metadata": {},
   "outputs": [
    {
     "data": {
      "text/plain": [
       "(220.97434571708848, 166.0176572969366)"
      ]
     },
     "execution_count": 52,
     "metadata": {},
     "output_type": "execute_result"
    }
   ],
   "source": [
    "np.var(height,ddof=0), np.var(weight, ddof=0)"
   ]
  },
  {
   "cell_type": "code",
   "execution_count": 53,
   "id": "894578ca",
   "metadata": {},
   "outputs": [
    {
     "data": {
      "text/plain": [
       "array([[1.        , 0.85860775],\n",
       "       [0.85860775, 1.        ]])"
      ]
     },
     "execution_count": 53,
     "metadata": {},
     "output_type": "execute_result"
    }
   ],
   "source": [
    "# corrcoef 함수로 상관계수 구하기\n",
    "np.corrcoef(height,weight)"
   ]
  },
  {
   "cell_type": "code",
   "execution_count": null,
   "id": "78aa3f2e",
   "metadata": {},
   "outputs": [],
   "source": []
  },
  {
   "cell_type": "code",
   "execution_count": 54,
   "id": "cae77c65",
   "metadata": {},
   "outputs": [
    {
     "data": {
      "image/png": "[encoded data removed]",
      "text/plain": [
       "<Figure size 576x576 with 1 Axes>"
      ]
     },
     "metadata": {
      "needs_background": "light"
     },
     "output_type": "display_data"
    }
   ],
   "source": [
    "# 산점도\n",
    "height = np.array(df['height'])\n",
    "weight = np.array(df['weight'])\n",
    "\n",
    "fig = plt.figure(figsize=(8,8))\n",
    "ax = fig.add_subplot(111)\n",
    "\n",
    "ax.scatter(height,weight)\n",
    "ax.set_xlabel('height')\n",
    "ax.set_ylabel('weight')\n",
    "plt.show()"
   ]
  },
  {
   "cell_type": "code",
   "execution_count": 55,
   "id": "a584fa83",
   "metadata": {},
   "outputs": [
    {
     "data": {
      "image/png": "[encoded data removed]",
      "text/plain": [
       "<Figure size 720x720 with 2 Axes>"
      ]
     },
     "metadata": {
      "needs_background": "light"
     },
     "output_type": "display_data"
    }
   ],
   "source": [
    "# 히트맵\n",
    "fig = plt.figure(figsize=(10,10))\n",
    "ax = fig.add_subplot(111)\n",
    "\n",
    "c = ax.hist2d(height,weight,\n",
    "             bins=[9,9], range=[(150,200),(40,90)])\n",
    "ax.set_xlabel('height')\n",
    "ax.set_ylabel('weight')\n",
    "ax.set_xticks(c[1])\n",
    "ax.set_yticks(c[2])\n",
    "\n",
    "fig.colorbar(c[3],ax=ax)\n",
    "plt.show()"
   ]
  },
  {
   "cell_type": "code",
   "execution_count": null,
   "id": "e4842671",
   "metadata": {},
   "outputs": [],
   "source": []
  },
  {
   "cell_type": "markdown",
   "id": "83a28cd8",
   "metadata": {},
   "source": [
    "## 과제 220824\n"
   ]
  },
  {
   "cell_type": "markdown",
   "id": "7b034680",
   "metadata": {},
   "source": [
    "### 과제 1. p84 ~ 110p 예제 문제 풀어보기\n",
    "Stat_1.ipynb 참조"
   ]
  },
  {
   "cell_type": "markdown",
   "id": "f6e3ebe3",
   "metadata": {},
   "source": [
    "### 과제 2. 적절한 데이터를 생성하고 polyfit을 이용하여 2,3차 방정식을 만든 후 산점도 및 회귀식을 시각화하여 그 의미를 해석하세요."
   ]
  },
  {
   "cell_type": "code",
   "execution_count": 133,
   "id": "816868df",
   "metadata": {
    "scrolled": true
   },
   "outputs": [
    {
     "name": "stdout",
     "output_type": "stream",
     "text": [
      "[-1.91769409e-03  1.43283033e+00 -1.34967142e+02]\n"
     ]
    }
   ],
   "source": [
    "import numpy as np\n",
    "import matplotlib.pyplot as plt\n",
    "import random\n",
    "\n",
    "height_data = []\n",
    "for i in range(1,1000):\n",
    "    height = random.randint(150,200)\n",
    "    height_data.append(height)\n",
    "weight_data=[]  \n",
    "for w in height_data:\n",
    "    weight = round((w-100)*random.uniform(0.6,0.9))\n",
    "    weight_data.append(weight)\n",
    "\n",
    "print(np.polyfit(height_data,weight_data,2))\n"
   ]
  },
  {
   "cell_type": "code",
   "execution_count": 4,
   "id": "a1f89f3b",
   "metadata": {},
   "outputs": [
    {
     "data": {
      "image/png": "[encoded data removed]",
      "text/plain": [
       "<Figure size 432x288 with 1 Axes>"
      ]
     },
     "metadata": {
      "needs_background": "light"
     },
     "output_type": "display_data"
    }
   ],
   "source": [
    "poly = np.polyfit(height_data,weight_data,2)\n",
    "#곡선을 완만하게 그리기 위한 linspace 객체 선언\n",
    "x_line = np.linspace(150,200,100)\n",
    "y_pred = x_line**2*poly[0] + x_line * poly[1] + poly[2]\n",
    "\n",
    "plt.plot(x_line, y_pred, color = 'b')\n",
    "plt.scatter(weight_data,height_data,color = 'r')\n",
    "plt.show()"
   ]
  },
  {
   "cell_type": "markdown",
   "id": "fb40ad1d",
   "metadata": {},
   "source": [
    "### 과제 3. \"어떤 모집단에서 표본을 랜덤하게 추출하여 표본평균을 구하면 그 표본평균은 모평균을 중심으로 분포한다\" 라는 주장을 사례를 만들어 설득력 있게 설명하세요."
   ]
  },
  {
   "cell_type": "code",
   "execution_count": 134,
   "id": "9215258b",
   "metadata": {},
   "outputs": [],
   "source": [
    "height_data = []\n",
    "for i in range(1,1000):\n",
    "    height = random.randint(150,200)\n",
    "    height_data.append(height)\n",
    "\n",
    "height = np.array(height_data)"
   ]
  },
  {
   "cell_type": "code",
   "execution_count": 136,
   "id": "39f5189f",
   "metadata": {},
   "outputs": [
    {
     "data": {
      "text/plain": [
       "176.5"
      ]
     },
     "execution_count": 136,
     "metadata": {},
     "output_type": "execute_result"
    }
   ],
   "source": [
    "# 표본 무작위 추출\n",
    "sample = np.random.choice(height,20)\n",
    "sample.mean()"
   ]
  },
  {
   "cell_type": "code",
   "execution_count": 140,
   "id": "537af6f8",
   "metadata": {},
   "outputs": [
    {
     "data": {
      "text/plain": [
       "173.9"
      ]
     },
     "execution_count": 140,
     "metadata": {},
     "output_type": "execute_result"
    }
   ],
   "source": [
    "height.mean().round(1)"
   ]
  },
  {
   "cell_type": "code",
   "execution_count": 144,
   "id": "972f6b12",
   "metadata": {},
   "outputs": [
    {
     "data": {
      "image/png": "[encoded data removed]",
      "text/plain": [
       "<Figure size 720x432 with 1 Axes>"
      ]
     },
     "metadata": {
      "needs_background": "light"
     },
     "output_type": "display_data"
    }
   ],
   "source": [
    "# 전체값을 히스토 그램으로 보기\n",
    "fig = plt.figure(figsize=(10,6))\n",
    "ax = fig.add_subplot(111)\n",
    "ax.hist(height, bins=50, range=(150,200), density=True)\n",
    "ax.set_xlim(150,200)\n",
    "ax.set_ylim(0,0.05)\n",
    "ax.set_xlabel('height')\n",
    "ax.set_ylabel('relative frequency')\n",
    "plt.show()"
   ]
  },
  {
   "cell_type": "code",
   "execution_count": 153,
   "id": "410bf603",
   "metadata": {},
   "outputs": [
    {
     "data": {
      "image/png": "[encoded data removed]",
      "text/plain": [
       "<Figure size 720x432 with 1 Axes>"
      ]
     },
     "metadata": {
      "needs_background": "light"
     },
     "output_type": "display_data"
    }
   ],
   "source": [
    "# 10000번 표본 추출 히스토그램 보기\n",
    "sample = np.random.choice(height, 10000)\n",
    "\n",
    "fig = plt.figure(figsize=(10,6))\n",
    "ax = fig.add_subplot(111)\n",
    "ax.hist(sample, bins=50, range=(150,200), density=True)\n",
    "ax.set_xlim(150,200)\n",
    "ax.set_ylim(0,0.05)\n",
    "ax.set_xlabel('height')\n",
    "ax.set_ylabel('relative frequency')\n",
    "plt.show()"
   ]
  },
  {
   "cell_type": "code",
   "execution_count": 161,
   "id": "afdb63a2",
   "metadata": {},
   "outputs": [
    {
     "data": {
      "image/png": "[encoded data removed]",
      "text/plain": [
       "<Figure size 720x432 with 1 Axes>"
      ]
     },
     "metadata": {
      "needs_background": "light"
     },
     "output_type": "display_data"
    }
   ],
   "source": [
    "sample_means = [np.random.choice(height, 20).mean() for _ in range(100000)]\n",
    "\n",
    "fig = plt.figure(figsize=(10,6))\n",
    "ax = fig.add_subplot(111)\n",
    "ax.hist(sample_means, bins=50, range=(150,200), density=True)\n",
    "# 모평균을 세로선으로 표시\n",
    "ax.vlines(np.mean(height),0,1, 'gray')\n",
    "ax.set_xlim(150,200)\n",
    "ax.set_ylim(0,0.13)\n",
    "ax.set_xlabel('height')\n",
    "ax.set_ylabel('relative frequency')\n",
    "plt.show()"
   ]
  },
  {
   "cell_type": "code",
   "execution_count": 162,
   "id": "603f5d81",
   "metadata": {},
   "outputs": [
    {
     "data": {
      "text/plain": [
       "array([198, 200, 198, 179, 168, 165, 188, 176, 171, 156])"
      ]
     },
     "execution_count": 162,
     "metadata": {},
     "output_type": "execute_result"
    }
   ],
   "source": [
    "np.random.choice(height,10)"
   ]
  },
  {
   "cell_type": "code",
   "execution_count": null,
   "id": "bd440c00",
   "metadata": {},
   "outputs": [],
   "source": []
  }
 ],
 "metadata": {
  "kernelspec": {
   "display_name": "Python 3 (ipykernel)",
   "language": "python",
   "name": "python3"
  },
  "language_info": {
   "codemirror_mode": {
    "name": "ipython",
    "version": 3
   },
   "file_extension": ".py",
   "mimetype": "text/x-python",
   "name": "python",
   "nbconvert_exporter": "python",
   "pygments_lexer": "ipython3",
   "version": "3.7.13"
  },
  "toc": {
   "base_numbering": 1,
   "nav_menu": {},
   "number_sections": true,
   "sideBar": true,
   "skip_h1_title": false,
   "title_cell": "Table of Contents",
   "title_sidebar": "Contents",
   "toc_cell": false,
   "toc_position": {},
   "toc_section_display": true,
   "toc_window_display": false
  }
 },
 "nbformat": 4,
 "nbformat_minor": 5
}
