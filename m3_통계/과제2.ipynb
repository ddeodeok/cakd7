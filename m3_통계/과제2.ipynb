{
 "cells": [
  {
   "cell_type": "markdown",
   "id": "dcb5acaf",
   "metadata": {},
   "source": [
    "## 과제 0829"
   ]
  },
  {
   "cell_type": "code",
   "execution_count": 6,
   "id": "4878381f",
   "metadata": {},
   "outputs": [],
   "source": [
    "import numpy as np\n",
    "import matplotlib.pyplot as plt\n",
    "import warnings\n",
    "\n",
    "warnings.filterwarnings('ignore')\n",
    "%precision 3\n",
    "%matplotlib inline"
   ]
  },
  {
   "cell_type": "markdown",
   "id": "d1712805",
   "metadata": {},
   "source": [
    "### 과제 1\n",
    "P173-180 예제 풀어보세요"
   ]
  },
  {
   "cell_type": "markdown",
   "id": "e13b2bf3",
   "metadata": {},
   "source": [
    "### 과제 2\n",
    "P181-187 예제 풀어보세요(colab 이용)"
   ]
  },
  {
   "cell_type": "markdown",
   "id": "09231212",
   "metadata": {},
   "source": [
    "### 과제 3\n",
    "미분, 적분 공부한 후 미적분 관계를 설명해보세요"
   ]
  },
  {
   "cell_type": "code",
   "execution_count": null,
   "id": "f8cf2d37",
   "metadata": {},
   "outputs": [],
   "source": []
  },
  {
   "cell_type": "markdown",
   "id": "a72e2c78",
   "metadata": {},
   "source": [
    "## 과제 0830\n"
   ]
  },
  {
   "cell_type": "code",
   "execution_count": 7,
   "id": "ab17eb1c",
   "metadata": {},
   "outputs": [],
   "source": [
    "import numpy as np\n",
    "import matplotlib.pyplot as plt\n",
    "from scipy import stats, integrate\n",
    "from scipy.optimize import minimize_scalar\n",
    "\n",
    "%precision 3\n",
    "%matplotlib inline\n",
    "linestyles = ['-', '--', ':']\n",
    "\n",
    "def E(X, g=lambda x: x):\n",
    "    x_range, f = X\n",
    "    def integrand(x):\n",
    "        return g(x) * f(x)\n",
    "    return integrate.quad(integrand, -np.inf, np.inf)[0]\n",
    "\n",
    "def V(X, g=lambda x: x):\n",
    "    x_range, f = X\n",
    "    mean = E(X, g)\n",
    "    def integrand(x):\n",
    "        return (g(x) - mean) ** 2 * f(x)\n",
    "    return integrate.quad(integrand, -np.inf, np.inf)[0]\n",
    "\n",
    "def check_prob(X):\n",
    "    x_range, f = X\n",
    "    f_min = minimize_scalar(f).fun\n",
    "    assert f_min >= 0, 'density function is minus value'\n",
    "    prob_sum = np.round(integrate.quad(f, -np.inf, np.inf)[0], 6)\n",
    "    assert prob_sum == 1, f'sum of probability is {prob_sum}'\n",
    "    print(f'expected vaue {E(X):.3f}')\n",
    "    print(f'variance {V(X):.3f}')\n",
    " # 확률변수와 구간을 인수로 취하고 그 확률변수의 밀도함수와 분포함수를 그리는 함수   \n",
    "def plot_prob(X, x_min, x_max):\n",
    "    x_range, f = X\n",
    "    def F(x):\n",
    "        return integrate.quad(f, -np.inf, x)[0]\n",
    "\n",
    "    xs = np.linspace(x_min, x_max, 100)\n",
    "\n",
    "    fig = plt.figure(figsize=(10, 6))\n",
    "    ax = fig.add_subplot(111)\n",
    "    ax.plot(xs, [f(x) for x in xs],\n",
    "            label='f(x)', color='gray')\n",
    "    ax.plot(xs, [F(x) for x in xs],\n",
    "            label='F(x)', ls='--', color='gray')\n",
    "\n",
    "    ax.legend()\n",
    "    plt.show()"
   ]
  },
  {
   "cell_type": "markdown",
   "id": "9a8003c5",
   "metadata": {},
   "source": [
    "###  과제 1\n",
    "p192 - 199 예제 풀어보세요(colab 이용)"
   ]
  },
  {
   "cell_type": "markdown",
   "id": "1e83a3fb",
   "metadata": {},
   "source": [
    "### 과제 2\n",
    "- 상기 누적분포함수를 그래프로 출력하세요.\n",
    "- 확률변수가 4일때 누적분포값(확률)\n",
    "- 확률이 0.5일때 확률변수를 구하세요"
   ]
  },
  {
   "cell_type": "code",
   "execution_count": 16,
   "id": "24b48199",
   "metadata": {
    "scrolled": true
   },
   "outputs": [
    {
     "data": {
      "text/plain": [
       "<matplotlib.collections.PolyCollection at 0x218baf72eb0>"
      ]
     },
     "execution_count": 16,
     "metadata": {},
     "output_type": "execute_result"
    },
    {
     "data": {
      "image/png": "[encoded data removed]",
      "text/plain": [
       "<Figure size 432x288 with 1 Axes>"
      ]
     },
     "metadata": {
      "needs_background": "light"
     },
     "output_type": "display_data"
    }
   ],
   "source": [
    "# x:1 ~ 7.1, 평균 4, 표준편차0.8인 누적분포함수 곡선을 출력\n",
    "x_plot = np.arange(1, 7.1, 0.1)\n",
    "plt.plot(x_plot, stats.norm.cdf(x=x_plot, loc=4, scale=0.8),color='black')\n",
    "plt.fill_between(x_plot, stats.norm.cdf(x_plot, loc=4,scale=0.8), alpha=0.5, color='b')"
   ]
  },
  {
   "cell_type": "code",
   "execution_count": 8,
   "id": "3a7d75db",
   "metadata": {},
   "outputs": [
    {
     "data": {
      "text/plain": [
       "0.500"
      ]
     },
     "execution_count": 8,
     "metadata": {},
     "output_type": "execute_result"
    }
   ],
   "source": [
    "#확률 변수 생성\n",
    "rv = stats.norm(4,0.8)\n",
    "rv.cdf(4)"
   ]
  },
  {
   "cell_type": "code",
   "execution_count": 9,
   "id": "b31826e5",
   "metadata": {},
   "outputs": [
    {
     "data": {
      "text/plain": [
       "4.000"
      ]
     },
     "execution_count": 9,
     "metadata": {},
     "output_type": "execute_result"
    }
   ],
   "source": [
    "rv.ppf(0.5)"
   ]
  },
  {
   "cell_type": "markdown",
   "id": "8e674a8a",
   "metadata": {},
   "source": [
    "### 과제 3\n",
    "- 상위 5% 확률의 확률변수를 구하세요\n",
    "- 하위 5% 확률의 확률변수를 구하세요"
   ]
  },
  {
   "cell_type": "code",
   "execution_count": 10,
   "id": "aed087f4",
   "metadata": {},
   "outputs": [
    {
     "data": {
      "text/plain": [
       "(5.316, 2.684)"
      ]
     },
     "execution_count": 10,
     "metadata": {},
     "output_type": "execute_result"
    }
   ],
   "source": [
    "rv.isf(0.05), rv.isf(0.95)"
   ]
  },
  {
   "cell_type": "code",
   "execution_count": null,
   "id": "0373a556",
   "metadata": {},
   "outputs": [],
   "source": [
    "# 상위5% 확률변수\n",
    "stats.norm.isf(0.05, loc=4, scale=0.8)\n",
    "# 하위 5% 확률변수\n",
    "stats.norm.isf(0.95, loc=4, scale=0.8)"
   ]
  },
  {
   "cell_type": "markdown",
   "id": "5c860dcc",
   "metadata": {},
   "source": [
    "### 과제 4\n",
    "1. 어느 회사에서 종업원들의 근무기간을 조사하였는데, 종업원들의 근무기간은 평균이 11년이고 표준편차가 4년인 정규분포를 따른다고 한다. 그럼 이 회사에서 14년 이상 근무한 종업원의 비율을 구하시오 \n",
    "\n",
    "2. 어느 전구회사의 전구의 수명은 평균 800일, 표준편차 30일인 정규분포를 따른다. 전구의 수명이 760일 이하일 확률 구하시오 \n",
    "\n",
    "3. 어느 고등학교 3학년 학생들의 수학 성적은 평균이 70점이고 분산이 64점인 정규분포를 따른다고 한다. 그럼 점수가 80점 이상이고 90점 이하일 확률을 구하시오\n"
   ]
  },
  {
   "cell_type": "code",
   "execution_count": 14,
   "id": "99741ad7",
   "metadata": {},
   "outputs": [
    {
     "data": {
      "text/plain": [
       "[<matplotlib.lines.Line2D at 0x218baebb400>]"
      ]
     },
     "execution_count": 14,
     "metadata": {},
     "output_type": "execute_result"
    },
    {
     "data": {
      "image/png": "[encoded data removed]",
      "text/plain": [
       "<Figure size 432x288 with 1 Axes>"
      ]
     },
     "metadata": {
      "needs_background": "light"
     },
     "output_type": "display_data"
    }
   ],
   "source": [
    "# x:1 ~ 22, 평균 11, 표준편차4인 정규분포함수 곡선을 출력\n",
    "x_plot = np.arange(1, 22, 1)\n",
    "plt.plot(x_plot, stats.norm.pdf(x=x_plot, loc=11, scale=4),color='black')"
   ]
  },
  {
   "cell_type": "code",
   "execution_count": 44,
   "id": "f0444cad",
   "metadata": {},
   "outputs": [
    {
     "data": {
      "text/plain": [
       "0.227"
      ]
     },
     "execution_count": 44,
     "metadata": {},
     "output_type": "execute_result"
    }
   ],
   "source": [
    "# 14년 이상 근무한 종업원의 비율\n",
    "rv1 = stats.norm(11,4)\n",
    "1-rv1.cdf(14)"
   ]
  },
  {
   "cell_type": "code",
   "execution_count": 42,
   "id": "fa2d8c55",
   "metadata": {},
   "outputs": [
    {
     "data": {
      "text/plain": [
       "0.227"
      ]
     },
     "execution_count": 42,
     "metadata": {},
     "output_type": "execute_result"
    }
   ],
   "source": [
    "rv1.sf(14)"
   ]
  },
  {
   "cell_type": "code",
   "execution_count": 33,
   "id": "d8ed9494",
   "metadata": {},
   "outputs": [
    {
     "data": {
      "text/plain": [
       "[<matplotlib.lines.Line2D at 0x1b4e1cdfe50>]"
      ]
     },
     "execution_count": 33,
     "metadata": {},
     "output_type": "execute_result"
    },
    {
     "data": {
      "image/png": "[encoded data removed]",
      "text/plain": [
       "<Figure size 432x288 with 1 Axes>"
      ]
     },
     "metadata": {
      "needs_background": "light"
     },
     "output_type": "display_data"
    }
   ],
   "source": [
    "# 평균 800일, 표준편차 30일 정규분포 \n",
    "x_plot2 = np.arange(700,900,10)\n",
    "plt.plot(x_plot2, stats.norm.pdf(x=x_plot2, loc=800, scale=30),color='black')"
   ]
  },
  {
   "cell_type": "code",
   "execution_count": 34,
   "id": "ec2060da",
   "metadata": {},
   "outputs": [
    {
     "data": {
      "text/plain": [
       "0.091"
      ]
     },
     "execution_count": 34,
     "metadata": {},
     "output_type": "execute_result"
    }
   ],
   "source": [
    "rv2 = stats.norm(800,30)\n",
    "rv2.cdf(760)"
   ]
  },
  {
   "cell_type": "code",
   "execution_count": 49,
   "id": "b6ebd350",
   "metadata": {},
   "outputs": [
    {
     "data": {
      "text/plain": [
       "[<matplotlib.lines.Line2D at 0x1b4e3ae30a0>]"
      ]
     },
     "execution_count": 49,
     "metadata": {},
     "output_type": "execute_result"
    },
    {
     "data": {
      "image/png": "[encoded data removed]",
      "text/plain": [
       "<Figure size 432x288 with 1 Axes>"
      ]
     },
     "metadata": {
      "needs_background": "light"
     },
     "output_type": "display_data"
    }
   ],
   "source": [
    "#평균이 70점이고 분산이 64점인 정규분포를 따른다고 한다. \n",
    "#그럼 점수가 80점 이상이고 90점 이하일 확률을 구하시오\n",
    "x_plot3 = np.arange(50,90,1)\n",
    "plt.plot(x_plot3,stats.norm.pdf(x=x_plot3, loc=70, scale=8),color='black')"
   ]
  },
  {
   "cell_type": "code",
   "execution_count": 53,
   "id": "322888f2",
   "metadata": {},
   "outputs": [
    {
     "data": {
      "text/plain": [
       "0.099"
      ]
     },
     "execution_count": 53,
     "metadata": {},
     "output_type": "execute_result"
    }
   ],
   "source": [
    "rv3 = stats.norm(70,np.sqrt(64))\n",
    "rv3.sf(80)-rv3.sf(90) #80점 이상 - 90점이상"
   ]
  },
  {
   "cell_type": "code",
   "execution_count": null,
   "id": "3a183f5b",
   "metadata": {},
   "outputs": [],
   "source": []
  },
  {
   "cell_type": "markdown",
   "id": "b4d46f1f",
   "metadata": {},
   "source": [
    "## 과제 0831"
   ]
  },
  {
   "cell_type": "markdown",
   "id": "c25d9f33",
   "metadata": {},
   "source": [
    "### 과제 0831_1\n",
    "상기 지수분포에서 lambda를 1, 2, 3으로 변환시켰읅 때 그래프의 변화 모습을 출력하고 의미를 설명하세요"
   ]
  },
  {
   "cell_type": "markdown",
   "id": "f4bd8a94",
   "metadata": {},
   "source": [
    "### 과제_0831_2\n",
    "p219-223 예제 코드로 작성하세요"
   ]
  },
  {
   "cell_type": "markdown",
   "id": "ef3fb3d5",
   "metadata": {},
   "source": [
    "### 과제 0831_3\n",
    "p224 ~ 228 예제 코드로 작성하세요."
   ]
  },
  {
   "cell_type": "markdown",
   "id": "7ec43c33",
   "metadata": {},
   "source": [
    "### 과제 0831_4\n",
    "p229 ~ 232 예제 코드로 작성하세요."
   ]
  },
  {
   "cell_type": "markdown",
   "id": "277549e6",
   "metadata": {},
   "source": [
    "## 과제 0901_1"
   ]
  },
  {
   "cell_type": "markdown",
   "id": "c025fe38",
   "metadata": {},
   "source": [
    "### 과제 0901_1\n",
    "p243-250"
   ]
  },
  {
   "cell_type": "markdown",
   "id": "ffb552cd",
   "metadata": {},
   "source": [
    "### 과제 0901_2\n",
    "p251-260"
   ]
  },
  {
   "cell_type": "markdown",
   "id": "da428e81",
   "metadata": {},
   "source": [
    "### 과제 0901_3\n",
    "중심극한정리와 대수의 법칙을 사례를 들어 설명하세요."
   ]
  },
  {
   "cell_type": "code",
   "execution_count": 3,
   "id": "8716f8fb",
   "metadata": {},
   "outputs": [
    {
     "name": "stdout",
     "output_type": "stream",
     "text": [
      "Collecting html5lib\n",
      "  Downloading html5lib-1.1-py2.py3-none-any.whl (112 kB)\n",
      "Requirement already satisfied: webencodings in c:\\users\\admin\\anaconda3\\envs\\cakd7\\lib\\site-packages (from html5lib) (0.5.1)\n",
      "Requirement already satisfied: six>=1.9 in c:\\users\\admin\\anaconda3\\envs\\cakd7\\lib\\site-packages (from html5lib) (1.16.0)\n",
      "Installing collected packages: html5lib\n",
      "Successfully installed html5lib-1.1\n"
     ]
    }
   ],
   "source": [
    "import pandas as pd\n",
    "!pip install html5lib"
   ]
  },
  {
   "cell_type": "code",
   "execution_count": 13,
   "id": "5903a63c",
   "metadata": {},
   "outputs": [
    {
     "ename": "ImportError",
     "evalue": "html5lib not found, please install it",
     "output_type": "error",
     "traceback": [
      "\u001b[1;31m---------------------------------------------------------------------------\u001b[0m",
      "\u001b[1;31mImportError\u001b[0m                               Traceback (most recent call last)",
      "Input \u001b[1;32mIn [13]\u001b[0m, in \u001b[0;36m<cell line: 1>\u001b[1;34m()\u001b[0m\n\u001b[1;32m----> 1\u001b[0m df \u001b[38;5;241m=\u001b[39m \u001b[43mpd\u001b[49m\u001b[38;5;241;43m.\u001b[39;49m\u001b[43mread_html\u001b[49m\u001b[43m(\u001b[49m\u001b[38;5;124;43m'\u001b[39;49m\u001b[38;5;124;43mhttps://st.scrdairy.com/5.3.2.90/#/reports/9\u001b[39;49m\u001b[38;5;124;43m'\u001b[39;49m\u001b[43m)\u001b[49m\n",
      "File \u001b[1;32m~\\Anaconda3\\envs\\cakd7\\lib\\site-packages\\pandas\\util\\_decorators.py:311\u001b[0m, in \u001b[0;36mdeprecate_nonkeyword_arguments.<locals>.decorate.<locals>.wrapper\u001b[1;34m(*args, **kwargs)\u001b[0m\n\u001b[0;32m    305\u001b[0m \u001b[38;5;28;01mif\u001b[39;00m \u001b[38;5;28mlen\u001b[39m(args) \u001b[38;5;241m>\u001b[39m num_allow_args:\n\u001b[0;32m    306\u001b[0m     warnings\u001b[38;5;241m.\u001b[39mwarn(\n\u001b[0;32m    307\u001b[0m         msg\u001b[38;5;241m.\u001b[39mformat(arguments\u001b[38;5;241m=\u001b[39marguments),\n\u001b[0;32m    308\u001b[0m         \u001b[38;5;167;01mFutureWarning\u001b[39;00m,\n\u001b[0;32m    309\u001b[0m         stacklevel\u001b[38;5;241m=\u001b[39mstacklevel,\n\u001b[0;32m    310\u001b[0m     )\n\u001b[1;32m--> 311\u001b[0m \u001b[38;5;28;01mreturn\u001b[39;00m \u001b[43mfunc\u001b[49m\u001b[43m(\u001b[49m\u001b[38;5;241;43m*\u001b[39;49m\u001b[43margs\u001b[49m\u001b[43m,\u001b[49m\u001b[43m \u001b[49m\u001b[38;5;241;43m*\u001b[39;49m\u001b[38;5;241;43m*\u001b[39;49m\u001b[43mkwargs\u001b[49m\u001b[43m)\u001b[49m\n",
      "File \u001b[1;32m~\\Anaconda3\\envs\\cakd7\\lib\\site-packages\\pandas\\io\\html.py:1113\u001b[0m, in \u001b[0;36mread_html\u001b[1;34m(io, match, flavor, header, index_col, skiprows, attrs, parse_dates, thousands, encoding, decimal, converters, na_values, keep_default_na, displayed_only)\u001b[0m\n\u001b[0;32m   1109\u001b[0m validate_header_arg(header)\n\u001b[0;32m   1111\u001b[0m io \u001b[38;5;241m=\u001b[39m stringify_path(io)\n\u001b[1;32m-> 1113\u001b[0m \u001b[38;5;28;01mreturn\u001b[39;00m \u001b[43m_parse\u001b[49m\u001b[43m(\u001b[49m\n\u001b[0;32m   1114\u001b[0m \u001b[43m    \u001b[49m\u001b[43mflavor\u001b[49m\u001b[38;5;241;43m=\u001b[39;49m\u001b[43mflavor\u001b[49m\u001b[43m,\u001b[49m\n\u001b[0;32m   1115\u001b[0m \u001b[43m    \u001b[49m\u001b[43mio\u001b[49m\u001b[38;5;241;43m=\u001b[39;49m\u001b[43mio\u001b[49m\u001b[43m,\u001b[49m\n\u001b[0;32m   1116\u001b[0m \u001b[43m    \u001b[49m\u001b[43mmatch\u001b[49m\u001b[38;5;241;43m=\u001b[39;49m\u001b[43mmatch\u001b[49m\u001b[43m,\u001b[49m\n\u001b[0;32m   1117\u001b[0m \u001b[43m    \u001b[49m\u001b[43mheader\u001b[49m\u001b[38;5;241;43m=\u001b[39;49m\u001b[43mheader\u001b[49m\u001b[43m,\u001b[49m\n\u001b[0;32m   1118\u001b[0m \u001b[43m    \u001b[49m\u001b[43mindex_col\u001b[49m\u001b[38;5;241;43m=\u001b[39;49m\u001b[43mindex_col\u001b[49m\u001b[43m,\u001b[49m\n\u001b[0;32m   1119\u001b[0m \u001b[43m    \u001b[49m\u001b[43mskiprows\u001b[49m\u001b[38;5;241;43m=\u001b[39;49m\u001b[43mskiprows\u001b[49m\u001b[43m,\u001b[49m\n\u001b[0;32m   1120\u001b[0m \u001b[43m    \u001b[49m\u001b[43mparse_dates\u001b[49m\u001b[38;5;241;43m=\u001b[39;49m\u001b[43mparse_dates\u001b[49m\u001b[43m,\u001b[49m\n\u001b[0;32m   1121\u001b[0m \u001b[43m    \u001b[49m\u001b[43mthousands\u001b[49m\u001b[38;5;241;43m=\u001b[39;49m\u001b[43mthousands\u001b[49m\u001b[43m,\u001b[49m\n\u001b[0;32m   1122\u001b[0m \u001b[43m    \u001b[49m\u001b[43mattrs\u001b[49m\u001b[38;5;241;43m=\u001b[39;49m\u001b[43mattrs\u001b[49m\u001b[43m,\u001b[49m\n\u001b[0;32m   1123\u001b[0m \u001b[43m    \u001b[49m\u001b[43mencoding\u001b[49m\u001b[38;5;241;43m=\u001b[39;49m\u001b[43mencoding\u001b[49m\u001b[43m,\u001b[49m\n\u001b[0;32m   1124\u001b[0m \u001b[43m    \u001b[49m\u001b[43mdecimal\u001b[49m\u001b[38;5;241;43m=\u001b[39;49m\u001b[43mdecimal\u001b[49m\u001b[43m,\u001b[49m\n\u001b[0;32m   1125\u001b[0m \u001b[43m    \u001b[49m\u001b[43mconverters\u001b[49m\u001b[38;5;241;43m=\u001b[39;49m\u001b[43mconverters\u001b[49m\u001b[43m,\u001b[49m\n\u001b[0;32m   1126\u001b[0m \u001b[43m    \u001b[49m\u001b[43mna_values\u001b[49m\u001b[38;5;241;43m=\u001b[39;49m\u001b[43mna_values\u001b[49m\u001b[43m,\u001b[49m\n\u001b[0;32m   1127\u001b[0m \u001b[43m    \u001b[49m\u001b[43mkeep_default_na\u001b[49m\u001b[38;5;241;43m=\u001b[39;49m\u001b[43mkeep_default_na\u001b[49m\u001b[43m,\u001b[49m\n\u001b[0;32m   1128\u001b[0m \u001b[43m    \u001b[49m\u001b[43mdisplayed_only\u001b[49m\u001b[38;5;241;43m=\u001b[39;49m\u001b[43mdisplayed_only\u001b[49m\u001b[43m,\u001b[49m\n\u001b[0;32m   1129\u001b[0m \u001b[43m\u001b[49m\u001b[43m)\u001b[49m\n",
      "File \u001b[1;32m~\\Anaconda3\\envs\\cakd7\\lib\\site-packages\\pandas\\io\\html.py:915\u001b[0m, in \u001b[0;36m_parse\u001b[1;34m(flavor, io, match, attrs, encoding, displayed_only, **kwargs)\u001b[0m\n\u001b[0;32m    913\u001b[0m retained \u001b[38;5;241m=\u001b[39m \u001b[38;5;28;01mNone\u001b[39;00m\n\u001b[0;32m    914\u001b[0m \u001b[38;5;28;01mfor\u001b[39;00m flav \u001b[38;5;129;01min\u001b[39;00m flavor:\n\u001b[1;32m--> 915\u001b[0m     parser \u001b[38;5;241m=\u001b[39m \u001b[43m_parser_dispatch\u001b[49m\u001b[43m(\u001b[49m\u001b[43mflav\u001b[49m\u001b[43m)\u001b[49m\n\u001b[0;32m    916\u001b[0m     p \u001b[38;5;241m=\u001b[39m parser(io, compiled_match, attrs, encoding, displayed_only)\n\u001b[0;32m    918\u001b[0m     \u001b[38;5;28;01mtry\u001b[39;00m:\n",
      "File \u001b[1;32m~\\Anaconda3\\envs\\cakd7\\lib\\site-packages\\pandas\\io\\html.py:864\u001b[0m, in \u001b[0;36m_parser_dispatch\u001b[1;34m(flavor)\u001b[0m\n\u001b[0;32m    862\u001b[0m \u001b[38;5;28;01mif\u001b[39;00m flavor \u001b[38;5;129;01min\u001b[39;00m (\u001b[38;5;124m\"\u001b[39m\u001b[38;5;124mbs4\u001b[39m\u001b[38;5;124m\"\u001b[39m, \u001b[38;5;124m\"\u001b[39m\u001b[38;5;124mhtml5lib\u001b[39m\u001b[38;5;124m\"\u001b[39m):\n\u001b[0;32m    863\u001b[0m     \u001b[38;5;28;01mif\u001b[39;00m \u001b[38;5;129;01mnot\u001b[39;00m _HAS_HTML5LIB:\n\u001b[1;32m--> 864\u001b[0m         \u001b[38;5;28;01mraise\u001b[39;00m \u001b[38;5;167;01mImportError\u001b[39;00m(\u001b[38;5;124m\"\u001b[39m\u001b[38;5;124mhtml5lib not found, please install it\u001b[39m\u001b[38;5;124m\"\u001b[39m)\n\u001b[0;32m    865\u001b[0m     \u001b[38;5;28;01mif\u001b[39;00m \u001b[38;5;129;01mnot\u001b[39;00m _HAS_BS4:\n\u001b[0;32m    866\u001b[0m         \u001b[38;5;28;01mraise\u001b[39;00m \u001b[38;5;167;01mImportError\u001b[39;00m(\u001b[38;5;124m\"\u001b[39m\u001b[38;5;124mBeautifulSoup4 (bs4) not found, please install it\u001b[39m\u001b[38;5;124m\"\u001b[39m)\n",
      "\u001b[1;31mImportError\u001b[0m: html5lib not found, please install it"
     ]
    }
   ],
   "source": [
    "df = pd.read_html('https://st.scrdairy.com/5.3.2.90/#/reports/9')\n"
   ]
  },
  {
   "cell_type": "code",
   "execution_count": null,
   "id": "d5c195ea",
   "metadata": {},
   "outputs": [],
   "source": []
  }
 ],
 "metadata": {
  "kernelspec": {
   "display_name": "Python 3 (ipykernel)",
   "language": "python",
   "name": "python3"
  },
  "language_info": {
   "codemirror_mode": {
    "name": "ipython",
    "version": 3
   },
   "file_extension": ".py",
   "mimetype": "text/x-python",
   "name": "python",
   "nbconvert_exporter": "python",
   "pygments_lexer": "ipython3",
   "version": "3.8.13"
  },
  "toc": {
   "base_numbering": 1,
   "nav_menu": {},
   "number_sections": true,
   "sideBar": true,
   "skip_h1_title": false,
   "title_cell": "Table of Contents",
   "title_sidebar": "Contents",
   "toc_cell": false,
   "toc_position": {},
   "toc_section_display": true,
   "toc_window_display": true
  }
 },
 "nbformat": 4,
 "nbformat_minor": 5
}
