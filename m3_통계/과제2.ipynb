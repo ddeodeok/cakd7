{
 "cells": [
  {
   "cell_type": "markdown",
   "id": "dcb5acaf",
   "metadata": {},
   "source": [
    "## 과제 0829"
   ]
  },
  {
   "cell_type": "code",
   "execution_count": 3,
   "id": "4878381f",
   "metadata": {},
   "outputs": [],
   "source": [
    "import numpy as np\n",
    "import matplotlib.pyplot as plt\n",
    "import warnings\n",
    "\n",
    "warnings.filterwarnings('ignore')\n",
    "%precision 3\n",
    "%matplotlib inline"
   ]
  },
  {
   "cell_type": "markdown",
   "id": "d1712805",
   "metadata": {},
   "source": [
    "### 과제 1\n",
    "P173-180 예제 풀어보세요"
   ]
  },
  {
   "cell_type": "markdown",
   "id": "e13b2bf3",
   "metadata": {},
   "source": [
    "### 과제 2\n",
    "P181-187 예제 풀어보세요(colab 이용)"
   ]
  },
  {
   "cell_type": "markdown",
   "id": "09231212",
   "metadata": {},
   "source": [
    "### 과제 3\n",
    "미분, 적분 공부한 후 미적분 관계를 설명해보세요"
   ]
  },
  {
   "cell_type": "code",
   "execution_count": null,
   "id": "f8cf2d37",
   "metadata": {},
   "outputs": [],
   "source": []
  },
  {
   "cell_type": "markdown",
   "id": "a72e2c78",
   "metadata": {},
   "source": [
    "## 과제 0830\n"
   ]
  },
  {
   "cell_type": "code",
   "execution_count": 1,
   "id": "ab17eb1c",
   "metadata": {},
   "outputs": [],
   "source": [
    "import numpy as np\n",
    "import matplotlib.pyplot as plt\n",
    "from scipy import stats, integrate\n",
    "from scipy.optimize import minimize_scalar\n",
    "\n",
    "%precision 3\n",
    "%matplotlib inline\n",
    "linestyles = ['-', '--', ':']\n",
    "\n",
    "def E(X, g=lambda x: x):\n",
    "    x_range, f = X\n",
    "    def integrand(x):\n",
    "        return g(x) * f(x)\n",
    "    return integrate.quad(integrand, -np.inf, np.inf)[0]\n",
    "\n",
    "def V(X, g=lambda x: x):\n",
    "    x_range, f = X\n",
    "    mean = E(X, g)\n",
    "    def integrand(x):\n",
    "        return (g(x) - mean) ** 2 * f(x)\n",
    "    return integrate.quad(integrand, -np.inf, np.inf)[0]\n",
    "\n",
    "def check_prob(X):\n",
    "    x_range, f = X\n",
    "    f_min = minimize_scalar(f).fun\n",
    "    assert f_min >= 0, 'density function is minus value'\n",
    "    prob_sum = np.round(integrate.quad(f, -np.inf, np.inf)[0], 6)\n",
    "    assert prob_sum == 1, f'sum of probability is {prob_sum}'\n",
    "    print(f'expected vaue {E(X):.3f}')\n",
    "    print(f'variance {V(X):.3f}')\n",
    " # 확률변수와 구간을 인수로 취하고 그 확률변수의 밀도함수와 분포함수를 그리는 함수   \n",
    "def plot_prob(X, x_min, x_max):\n",
    "    x_range, f = X\n",
    "    def F(x):\n",
    "        return integrate.quad(f, -np.inf, x)[0]\n",
    "\n",
    "    xs = np.linspace(x_min, x_max, 100)\n",
    "\n",
    "    fig = plt.figure(figsize=(10, 6))\n",
    "    ax = fig.add_subplot(111)\n",
    "    ax.plot(xs, [f(x) for x in xs],\n",
    "            label='f(x)', color='gray')\n",
    "    ax.plot(xs, [F(x) for x in xs],\n",
    "            label='F(x)', ls='--', color='gray')\n",
    "\n",
    "    ax.legend()\n",
    "    plt.show()"
   ]
  },
  {
   "cell_type": "markdown",
   "id": "9a8003c5",
   "metadata": {},
   "source": [
    "###  과제 1\n",
    "p192 - 199 예제 풀어보세요(colab 이용)"
   ]
  },
  {
   "cell_type": "markdown",
   "id": "1e83a3fb",
   "metadata": {},
   "source": [
    "### 과제 2\n",
    "- 상기 누적분포함수를 그래프로 출력하세요.\n",
    "- 확률변수가 4일때 누적분포값(확률)\n",
    "- 확률이 0.5일때 확률변수를 구하세요"
   ]
  },
  {
   "cell_type": "code",
   "execution_count": 4,
   "id": "24b48199",
   "metadata": {
    "scrolled": true
   },
   "outputs": [
    {
     "data": {
      "text/plain": [
       "[<matplotlib.lines.Line2D at 0x1b4e0dc11f0>]"
      ]
     },
     "execution_count": 4,
     "metadata": {},
     "output_type": "execute_result"
    },
    {
     "data": {
      "image/png": "[encoded data removed]",
      "text/plain": [
       "<Figure size 432x288 with 1 Axes>"
      ]
     },
     "metadata": {
      "needs_background": "light"
     },
     "output_type": "display_data"
    }
   ],
   "source": [
    "# x:1 ~ 7.1, 평균 4, 표준편차0.8인 누적분포함수 곡선을 출력\n",
    "x_plot = np.arange(1, 7.1, 0.1)\n",
    "plt.plot(x_plot, stats.norm.cdf(x=x_plot, loc=4, scale=0.8),color='black')"
   ]
  },
  {
   "cell_type": "code",
   "execution_count": 14,
   "id": "3a7d75db",
   "metadata": {},
   "outputs": [
    {
     "data": {
      "text/plain": [
       "0.500"
      ]
     },
     "execution_count": 14,
     "metadata": {},
     "output_type": "execute_result"
    }
   ],
   "source": [
    "#확률 변수 생성\n",
    "rv = stats.norm(4,0.8)\n",
    "rv.cdf(4)"
   ]
  },
  {
   "cell_type": "code",
   "execution_count": 15,
   "id": "b31826e5",
   "metadata": {},
   "outputs": [
    {
     "data": {
      "text/plain": [
       "4.000"
      ]
     },
     "execution_count": 15,
     "metadata": {},
     "output_type": "execute_result"
    }
   ],
   "source": [
    "rv.ppf(0.5)"
   ]
  },
  {
   "cell_type": "markdown",
   "id": "8e674a8a",
   "metadata": {},
   "source": [
    "### 과제 3\n",
    "- 상위 5% 확률의 확률변수를 구하세요\n",
    "- 하위 5% 확률의 확률변수를 구하세요"
   ]
  },
  {
   "cell_type": "code",
   "execution_count": 18,
   "id": "aed087f4",
   "metadata": {},
   "outputs": [
    {
     "data": {
      "text/plain": [
       "(5.316, 2.684)"
      ]
     },
     "execution_count": 18,
     "metadata": {},
     "output_type": "execute_result"
    }
   ],
   "source": [
    "rv.isf(0.05), rv.isf(0.95)"
   ]
  },
  {
   "cell_type": "markdown",
   "id": "5c860dcc",
   "metadata": {},
   "source": [
    "### 과제 4\n",
    "1. 어느 회사에서 종업원들의 근무기간을 조사하였는데, 종업원들의 근무기간은 평균이 11년이고 표준편차가 4년인 정규분포를 따른다고 한다. 그럼 이 회사에서 14년 이상 근무한 종업원의 비율을 구하시오 \n",
    "\n",
    "2. 어느 전구회사의 전구의 수명은 평균 800일, 표준편차 30일인 정규분포를 따른다. 전구의 수명이 760일 이하일 확률 구하시오 \n",
    "\n",
    "3. 어느 고등학교 3학년 학생들의 수학 성적은 평균이 70점이고 분산이 64점인 정규분포를 따른다고 한다. 그럼 점수가 80점 이상이고 90점 이하일 확률을 구하시오\n"
   ]
  },
  {
   "cell_type": "code",
   "execution_count": 26,
   "id": "99741ad7",
   "metadata": {},
   "outputs": [
    {
     "data": {
      "text/plain": [
       "[<matplotlib.lines.Line2D at 0x1b4e1b74cd0>]"
      ]
     },
     "execution_count": 26,
     "metadata": {},
     "output_type": "execute_result"
    },
    {
     "data": {
      "image/png": "[encoded data removed]",
      "text/plain": [
       "<Figure size 432x288 with 1 Axes>"
      ]
     },
     "metadata": {
      "needs_background": "light"
     },
     "output_type": "display_data"
    }
   ],
   "source": [
    "# x:1 ~ 22, 평균 11, 표준편차4인 정규분포함수 곡선을 출력\n",
    "x_plot = np.arange(1, 22, 1)\n",
    "plt.plot(x_plot, stats.norm.pdf(x=x_plot, loc=11, scale=4),color='black')"
   ]
  },
  {
   "cell_type": "code",
   "execution_count": 44,
   "id": "f0444cad",
   "metadata": {},
   "outputs": [
    {
     "data": {
      "text/plain": [
       "0.227"
      ]
     },
     "execution_count": 44,
     "metadata": {},
     "output_type": "execute_result"
    }
   ],
   "source": [
    "# 14년 이상 근무한 종업원의 비율\n",
    "rv1 = stats.norm(11,4)\n",
    "1-rv1.cdf(14)"
   ]
  },
  {
   "cell_type": "code",
   "execution_count": 42,
   "id": "fa2d8c55",
   "metadata": {},
   "outputs": [
    {
     "data": {
      "text/plain": [
       "0.227"
      ]
     },
     "execution_count": 42,
     "metadata": {},
     "output_type": "execute_result"
    }
   ],
   "source": [
    "rv1.sf(14)"
   ]
  },
  {
   "cell_type": "code",
   "execution_count": 33,
   "id": "d8ed9494",
   "metadata": {},
   "outputs": [
    {
     "data": {
      "text/plain": [
       "[<matplotlib.lines.Line2D at 0x1b4e1cdfe50>]"
      ]
     },
     "execution_count": 33,
     "metadata": {},
     "output_type": "execute_result"
    },
    {
     "data": {
      "image/png": "[encoded data removed]",
      "text/plain": [
       "<Figure size 432x288 with 1 Axes>"
      ]
     },
     "metadata": {
      "needs_background": "light"
     },
     "output_type": "display_data"
    }
   ],
   "source": [
    "# 평균 800일, 표준편차 30일 정규분포 \n",
    "x_plot2 = np.arange(700,900,10)\n",
    "plt.plot(x_plot2, stats.norm.pdf(x=x_plot2, loc=800, scale=30),color='black')"
   ]
  },
  {
   "cell_type": "code",
   "execution_count": 34,
   "id": "ec2060da",
   "metadata": {},
   "outputs": [
    {
     "data": {
      "text/plain": [
       "0.091"
      ]
     },
     "execution_count": 34,
     "metadata": {},
     "output_type": "execute_result"
    }
   ],
   "source": [
    "rv2 = stats.norm(800,30)\n",
    "rv2.cdf(760)"
   ]
  },
  {
   "cell_type": "code",
   "execution_count": 49,
   "id": "b6ebd350",
   "metadata": {},
   "outputs": [
    {
     "data": {
      "text/plain": [
       "[<matplotlib.lines.Line2D at 0x1b4e3ae30a0>]"
      ]
     },
     "execution_count": 49,
     "metadata": {},
     "output_type": "execute_result"
    },
    {
     "data": {
      "image/png": "[encoded data removed]",
      "text/plain": [
       "<Figure size 432x288 with 1 Axes>"
      ]
     },
     "metadata": {
      "needs_background": "light"
     },
     "output_type": "display_data"
    }
   ],
   "source": [
    "#평균이 70점이고 분산이 64점인 정규분포를 따른다고 한다. \n",
    "#그럼 점수가 80점 이상이고 90점 이하일 확률을 구하시오\n",
    "x_plot3 = np.arange(50,90,1)\n",
    "plt.plot(x_plot3,stats.norm.pdf(x=x_plot3, loc=70, scale=8),color='black')"
   ]
  },
  {
   "cell_type": "code",
   "execution_count": 53,
   "id": "322888f2",
   "metadata": {},
   "outputs": [
    {
     "data": {
      "text/plain": [
       "0.099"
      ]
     },
     "execution_count": 53,
     "metadata": {},
     "output_type": "execute_result"
    }
   ],
   "source": [
    "rv3 = stats.norm(70,np.sqrt(64))\n",
    "rv3.sf(80)-rv3.sf(90) #80점 이상 - 90점이상"
   ]
  },
  {
   "cell_type": "code",
   "execution_count": null,
   "id": "3a183f5b",
   "metadata": {},
   "outputs": [],
   "source": []
  },
  {
   "cell_type": "code",
   "execution_count": null,
   "id": "2c89ddf8",
   "metadata": {},
   "outputs": [],
   "source": []
  },
  {
   "cell_type": "code",
   "execution_count": null,
   "id": "11c55848",
   "metadata": {},
   "outputs": [],
   "source": []
  },
  {
   "cell_type": "code",
   "execution_count": null,
   "id": "cabfa346",
   "metadata": {},
   "outputs": [],
   "source": []
  },
  {
   "cell_type": "code",
   "execution_count": null,
   "id": "01ef0e81",
   "metadata": {},
   "outputs": [],
   "source": []
  }
 ],
 "metadata": {
  "kernelspec": {
   "display_name": "Python 3 (ipykernel)",
   "language": "python",
   "name": "python3"
  },
  "language_info": {
   "codemirror_mode": {
    "name": "ipython",
    "version": 3
   },
   "file_extension": ".py",
   "mimetype": "text/x-python",
   "name": "python",
   "nbconvert_exporter": "python",
   "pygments_lexer": "ipython3",
   "version": "3.8.13"
  },
  "toc": {
   "base_numbering": 1,
   "nav_menu": {},
   "number_sections": true,
   "sideBar": true,
   "skip_h1_title": false,
   "title_cell": "Table of Contents",
   "title_sidebar": "Contents",
   "toc_cell": false,
   "toc_position": {},
   "toc_section_display": true,
   "toc_window_display": false
  }
 },
 "nbformat": 4,
 "nbformat_minor": 5
}
