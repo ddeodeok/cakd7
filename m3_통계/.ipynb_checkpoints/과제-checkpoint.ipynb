{
 "cells": [
  {
   "cell_type": "markdown",
   "id": "ea8beb62",
   "metadata": {},
   "source": [
    "## 과제 220822 "
   ]
  },
  {
   "cell_type": "markdown",
   "id": "91db9823",
   "metadata": {},
   "source": [
    "### 과제1 ]교제 ~ 51page 코드 문제 풀기\n",
    "\n",
    "- Stat_1.ipynb 참조"
   ]
  },
  {
   "cell_type": "markdown",
   "id": "bab1f680",
   "metadata": {},
   "source": [
    "### 과제2 ] 20개 원소로 구성되는 배열을 만든후 평균, 편차 및 편차의 합을 구하세요"
   ]
  },
  {
   "cell_type": "code",
   "execution_count": 7,
   "id": "6f3019b6",
   "metadata": {},
   "outputs": [
    {
     "data": {
      "text/plain": [
       "array([ 0,  1,  2,  3,  4,  5,  6,  7,  8,  9, 10, 11, 12, 13, 14, 15, 16,\n",
       "       17, 18, 19])"
      ]
     },
     "execution_count": 7,
     "metadata": {},
     "output_type": "execute_result"
    }
   ],
   "source": [
    "import numpy as np\n",
    "ar = np.arange(20)\n",
    "ar"
   ]
  },
  {
   "cell_type": "code",
   "execution_count": 15,
   "id": "3381529a",
   "metadata": {},
   "outputs": [
    {
     "name": "stdout",
     "output_type": "stream",
     "text": [
      "평균 9.5\n",
      "편차 [-9.5 -8.5 -7.5 -6.5 -5.5 -4.5 -3.5 -2.5 -1.5 -0.5  0.5  1.5  2.5  3.5\n",
      "  4.5  5.5  6.5  7.5  8.5  9.5]\n",
      "편차합 0.0\n"
     ]
    }
   ],
   "source": [
    "ar_mean = ar.mean()\n",
    "ar_deviation = ar - ar_mean\n",
    "sum(ar_deviation)\n",
    "print('평균',ar_mean)\n",
    "print('편차',ar_deviation)\n",
    "print('편차합',sum(ar_deviation))"
   ]
  },
  {
   "cell_type": "markdown",
   "id": "5a28b69e",
   "metadata": {},
   "source": [
    "### 과제3 ] 중앙값 > 평균값 인 경우와 중앙값 < 평균값인 두가지 집합에서 나타나는 가능성이 있는 특징을 사례로 설명하세요."
   ]
  },
  {
   "cell_type": "markdown",
   "id": "322d1501",
   "metadata": {},
   "source": [
    "- 중앙값< 평균값 인 경우 :  \n",
    "    빈부격차가 큰 중국 GDP의 경우 1인당 평균GDP는 만달러 정도 (평균값) 이지만 \n",
    "    상위 1프로가 중국 전체의 절반정도의 부를 가지고 있기때문에 빈부격차가 매우크다. \n",
    "    그러므로 중국 최고 부자들의 GDP가 3만달러만 넘어도 중앙값은 그것보다 50%이상 초과 될것이므로 \n",
    "    실제 중앙값은 훨씬 높은 값일 것이다.\n",
    "- 중앙값> 평균값 인 경우 :\n",
    "    한국은 젊은층들의 도시 이동으로 시골에는 평균 나이이 높다. \n",
    "    그러므로 대부분의 시골의 평균나이는 중앙값보다 높은 경우를 보인다.(단, 초등학교가 있는 시골에 한해서)\n",
    "    \n",
    "    "
   ]
  },
  {
   "cell_type": "markdown",
   "id": "96afa1ea",
   "metadata": {},
   "source": [
    "### 과제4 ] 4분위를 이용하여 이상치를 구하는 사례를 생성하고 시각화 및 이상치 산출하는 과정을 설명하세요."
   ]
  },
  {
   "cell_type": "code",
   "execution_count": null,
   "id": "22e81fff",
   "metadata": {},
   "outputs": [],
   "source": []
  },
  {
   "cell_type": "markdown",
   "id": "61662436",
   "metadata": {},
   "source": [
    "### 과제5 ] 표본분산과 불편분산의 차이를 사례를 들어 설명하세요."
   ]
  },
  {
   "cell_type": "code",
   "execution_count": null,
   "id": "e0a1d5b0",
   "metadata": {},
   "outputs": [],
   "source": [
    "ㅠ"
   ]
  },
  {
   "cell_type": "markdown",
   "id": "8a4ea19d",
   "metadata": {},
   "source": [
    "## 과제 220823"
   ]
  },
  {
   "cell_type": "markdown",
   "id": "2cb70364",
   "metadata": {},
   "source": [
    "### 과제 1. p52 ~ 83 예제 문제 풀어보기"
   ]
  },
  {
   "cell_type": "markdown",
   "id": "d49c5ca5",
   "metadata": {},
   "source": [
    "- Stat_1.ipynb 참조"
   ]
  },
  {
   "cell_type": "markdown",
   "id": "eacf42a6",
   "metadata": {},
   "source": [
    "### 과제 2. 일차원 데이터를 생성하여 다음을 수행하세요.\n",
    "- 도수분포표를 만들고 히스토그램으로 시각화하세요.(계급을 변경하여 2개를 작성)\n",
    "- 상대도수 및 누적상대도수를 도수분포표에 추가하고 히스토그램과 누적상대도수를 시각화하세요."
   ]
  },
  {
   "cell_type": "markdown",
   "id": "5227dea8",
   "metadata": {},
   "source": [
    "### 과제 3. 이차원 데이터를 생성하여 다음을 수행하세요.(데이터 수 각1000개 이상)\n",
    "- 공분산 및 상관계수를 구하세요.\n",
    "- 이차원 데이터를 산점도, 히트맵으로 시각화한 후 인사이트를 기술하세요."
   ]
  },
  {
   "cell_type": "code",
   "execution_count": null,
   "id": "2b3aa542",
   "metadata": {},
   "outputs": [],
   "source": []
  }
 ],
 "metadata": {
  "kernelspec": {
   "display_name": "Python 3 (ipykernel)",
   "language": "python",
   "name": "python3"
  },
  "language_info": {
   "codemirror_mode": {
    "name": "ipython",
    "version": 3
   },
   "file_extension": ".py",
   "mimetype": "text/x-python",
   "name": "python",
   "nbconvert_exporter": "python",
   "pygments_lexer": "ipython3",
   "version": "3.8.13"
  },
  "toc": {
   "base_numbering": 1,
   "nav_menu": {},
   "number_sections": true,
   "sideBar": true,
   "skip_h1_title": false,
   "title_cell": "Table of Contents",
   "title_sidebar": "Contents",
   "toc_cell": false,
   "toc_position": {},
   "toc_section_display": true,
   "toc_window_display": false
  }
 },
 "nbformat": 4,
 "nbformat_minor": 5
}
