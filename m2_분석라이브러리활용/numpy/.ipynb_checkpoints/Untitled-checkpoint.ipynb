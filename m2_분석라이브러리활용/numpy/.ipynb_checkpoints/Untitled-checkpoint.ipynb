{
 "cells": [
  {
   "cell_type": "markdown",
   "id": "716569ff",
   "metadata": {},
   "source": [
    "### 과제(7월5일)-2\n",
    "- 2차원을 1,3차원으로 변경하여 출력하세요\n",
    "- 3차원을 1,2차원으로 변경하여 출력하세요.(데이터는 알아서 만들도록)"
   ]
  },
  {
   "cell_type": "code",
   "execution_count": 2,
   "id": "43c64982",
   "metadata": {},
   "outputs": [
    {
     "data": {
      "text/plain": [
       "array([ 0,  1,  2,  3,  4,  5,  6,  7,  8,  9, 10, 11, 12, 13, 14, 15, 16,\n",
       "       17, 18, 19, 20, 21, 22, 23, 24, 25, 26, 27, 28, 29])"
      ]
     },
     "metadata": {},
     "output_type": "display_data"
    },
    {
     "data": {
      "text/plain": [
       "array([[[ 0,  1,  2,  3,  4],\n",
       "        [ 5,  6,  7,  8,  9]],\n",
       "\n",
       "       [[10, 11, 12, 13, 14],\n",
       "        [15, 16, 17, 18, 19]],\n",
       "\n",
       "       [[20, 21, 22, 23, 24],\n",
       "        [25, 26, 27, 28, 29]]])"
      ]
     },
     "metadata": {},
     "output_type": "display_data"
    }
   ],
   "source": [
    "import numpy as np\n",
    "# 2차원을 1,3차원으로 변경하여 출력하세요\n",
    "ar2d=np.arange(30).reshape(6,5)\n",
    "ar2_1d=ar2d.reshape(-1)\n",
    "ar2_3d=ar2d.reshape(-1,2,5)\n",
    "display(ar2_1d)\n",
    "display(ar2_3d)"
   ]
  },
  {
   "cell_type": "code",
   "execution_count": 3,
   "id": "f5e81498",
   "metadata": {},
   "outputs": [
    {
     "data": {
      "text/plain": [
       "array([0, 1, 2, 3, 4, 5, 6, 7])"
      ]
     },
     "metadata": {},
     "output_type": "display_data"
    },
    {
     "data": {
      "text/plain": [
       "array([[0, 1, 2, 3],\n",
       "       [4, 5, 6, 7]])"
      ]
     },
     "metadata": {},
     "output_type": "display_data"
    }
   ],
   "source": [
    "# 3차원을 1,2차원으로 변경하여 출력하세요.(데이터는 알아서 만들도록)\n",
    "ar3d=np.arange(8).reshape(2,2,2)\n",
    "ar3d_1=ar3d.reshape(-1)\n",
    "ar3d_2=ar3d.reshape(-1,4)\n",
    "display(ar3d_1)\n",
    "display(ar3d_2)"
   ]
  },
  {
   "cell_type": "code",
   "execution_count": null,
   "id": "a0553731",
   "metadata": {},
   "outputs": [],
   "source": []
  }
 ],
 "metadata": {
  "kernelspec": {
   "display_name": "Python 3 (ipykernel)",
   "language": "python",
   "name": "python3"
  },
  "language_info": {
   "codemirror_mode": {
    "name": "ipython",
    "version": 3
   },
   "file_extension": ".py",
   "mimetype": "text/x-python",
   "name": "python",
   "nbconvert_exporter": "python",
   "pygments_lexer": "ipython3",
   "version": "3.8.13"
  },
  "toc": {
   "base_numbering": 1,
   "nav_menu": {},
   "number_sections": true,
   "sideBar": true,
   "skip_h1_title": false,
   "title_cell": "Table of Contents",
   "title_sidebar": "Contents",
   "toc_cell": false,
   "toc_position": {},
   "toc_section_display": true,
   "toc_window_display": false
  }
 },
 "nbformat": 4,
 "nbformat_minor": 5
}
