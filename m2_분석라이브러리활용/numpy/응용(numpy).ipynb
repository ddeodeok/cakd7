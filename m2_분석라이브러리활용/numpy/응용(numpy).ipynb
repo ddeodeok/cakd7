{
 "cells": [
  {
   "cell_type": "markdown",
   "id": "1cb392b2",
   "metadata": {},
   "source": [
    "# 7월6일"
   ]
  },
  {
   "cell_type": "code",
   "execution_count": 2,
   "id": "e2d90e33",
   "metadata": {},
   "outputs": [],
   "source": [
    "import random\n",
    "import numpy as np\n",
    "import pandas as pd\n",
    "pd.options.display.float_format = '{:.5f}'.format"
   ]
  },
  {
   "cell_type": "markdown",
   "id": "3dba19e6",
   "metadata": {},
   "source": [
    "[numpy random 함수]\n",
    "\n",
    "- np.random.seed : seed를 통한 난수 생성\n",
    "- np.random.randint : 정수 난수 1개 생성\n",
    "- np.random.rand : 0부터 1사이의 균일분포에서 난수 매트릭스 배열 생성\n",
    "- np.random.randn : 가우시안 표준 정규분포에서 난수 매트릭스 배열 생성\n",
    "- np.random.shuffle : 기존의 데이터의 순서 바꾸기\n",
    "- np.random.choice : 기존 데이터에서 sampling\n"
   ]
  },
  {
   "cell_type": "code",
   "execution_count": 2,
   "id": "8af381ce",
   "metadata": {},
   "outputs": [
    {
     "name": "stdout",
     "output_type": "stream",
     "text": [
      "0.3153092368984526 \n",
      "\n",
      "1 \n",
      "\n",
      "11.109540049783135 \n",
      "\n",
      "5 \n",
      "\n",
      "5 \n",
      "\n",
      "[4, 2, 3] \n",
      "\n",
      "[3, 5, 1, 2, 4]\n"
     ]
    }
   ],
   "source": [
    "# 파이썬 함수\n",
    "print(random.random(),'\\n') # 0.0<= x <1.0 사이 난수(램덤숫자)\n",
    "print(random.randint(1,10),'\\n') # 1<= x <=10 사이 정수중 난수(1,10포함)\n",
    "print(random.uniform(10,20),'\\n') # min,max 사이 float 리턴\n",
    "print(random.randrange(10),'\\n') # 0 < x <10 int 리턴\n",
    "print(random.choice([1,2,3,4,5]),'\\n') # 리스트 내부에 있는 요소 랜덤 선택\n",
    "# 리스트 요소 중복 안되게 리턴 random.sample(li,뽑을 숫자 갯수)\n",
    "li = [1,2,3,4,5]\n",
    "print(random.sample(li,3),'\\n') \n",
    "# 리스트 요소를 다시 섞어서 리턴\n",
    "random.shuffle(li)\n",
    "print(li)"
   ]
  },
  {
   "cell_type": "code",
   "execution_count": 154,
   "id": "1f4d4e83",
   "metadata": {},
   "outputs": [
    {
     "data": {
      "text/plain": [
       "0.5000558950887946"
      ]
     },
     "execution_count": 154,
     "metadata": {},
     "output_type": "execute_result"
    }
   ],
   "source": [
    "# 0 ~ 1사이의 균일분포\n",
    "r = np.random.rand(100000000) \n",
    "# print(r)\n",
    "r.mean()"
   ]
  },
  {
   "cell_type": "code",
   "execution_count": 155,
   "id": "8b1c75a8",
   "metadata": {},
   "outputs": [
    {
     "name": "stdout",
     "output_type": "stream",
     "text": [
      "[-0.58211075  1.27995893 -1.6742616  -0.69639507 -0.74436789 -0.56847233\n",
      "  1.57167417  1.50828978  0.72674188 -1.77368963]\n"
     ]
    },
    {
     "data": {
      "text/plain": [
       "-0.0952632511062698"
      ]
     },
     "execution_count": 155,
     "metadata": {},
     "output_type": "execute_result"
    }
   ],
   "source": [
    "# 표준 정규분포\n",
    "r = np.random.randn(10)\n",
    "print(r)\n",
    "r.mean()  # 점점 0에 가까워짐 범위 넓을수록 "
   ]
  },
  {
   "cell_type": "code",
   "execution_count": 156,
   "id": "13aae7d4",
   "metadata": {},
   "outputs": [
    {
     "data": {
      "text/plain": [
       "array([1.61227116, 1.20331492, 1.05564601, 1.81753921, 1.16988135,\n",
       "       1.82344777, 1.96902356, 1.00455216, 1.93951884, 1.41467065])"
      ]
     },
     "execution_count": 156,
     "metadata": {},
     "output_type": "execute_result"
    }
   ],
   "source": [
    "np.random.uniform(1.0,2.0,10)"
   ]
  },
  {
   "cell_type": "code",
   "execution_count": 157,
   "id": "986543d3",
   "metadata": {},
   "outputs": [
    {
     "data": {
      "text/plain": [
       "array([[0.65595545, 0.30124127, 0.50085256],\n",
       "       [0.67019811, 0.68875136, 0.28115258]])"
      ]
     },
     "execution_count": 157,
     "metadata": {},
     "output_type": "execute_result"
    }
   ],
   "source": [
    "# 행렬형태로 뽑기\n",
    "np.random.uniform(0,1,(2,3))"
   ]
  },
  {
   "cell_type": "code",
   "execution_count": 158,
   "id": "7eefea1e",
   "metadata": {},
   "outputs": [
    {
     "data": {
      "text/plain": [
       "array([[0.3938847 , 0.80548262, 0.31436184],\n",
       "       [0.85908758, 0.2393271 , 0.25165715]])"
      ]
     },
     "execution_count": 158,
     "metadata": {},
     "output_type": "execute_result"
    }
   ],
   "source": [
    "# 0-1사이의 난수 실수값으로 행렬 생성\n",
    "# uniform 함수의 최소값, 최대값을 0,1로 지정한 것과 같음\n",
    "np.random.random_sample((2,3))"
   ]
  },
  {
   "cell_type": "code",
   "execution_count": 159,
   "id": "f9c2739c",
   "metadata": {},
   "outputs": [
    {
     "data": {
      "text/html": [
       "<div>\n",
       "<style scoped>\n",
       "    .dataframe tbody tr th:only-of-type {\n",
       "        vertical-align: middle;\n",
       "    }\n",
       "\n",
       "    .dataframe tbody tr th {\n",
       "        vertical-align: top;\n",
       "    }\n",
       "\n",
       "    .dataframe thead th {\n",
       "        text-align: right;\n",
       "    }\n",
       "</style>\n",
       "<table border=\"1\" class=\"dataframe\">\n",
       "  <thead>\n",
       "    <tr style=\"text-align: right;\">\n",
       "      <th></th>\n",
       "      <th>id</th>\n",
       "      <th>gender</th>\n",
       "      <th>age</th>\n",
       "      <th>region</th>\n",
       "      <th>product</th>\n",
       "      <th>price</th>\n",
       "      <th>qty</th>\n",
       "      <th>time</th>\n",
       "    </tr>\n",
       "  </thead>\n",
       "  <tbody>\n",
       "    <tr>\n",
       "      <th>0</th>\n",
       "      <td>0.60122</td>\n",
       "      <td>0.03603</td>\n",
       "      <td>0.72640</td>\n",
       "      <td>0.49979</td>\n",
       "      <td>0.21823</td>\n",
       "      <td>0.65119</td>\n",
       "      <td>0.37438</td>\n",
       "      <td>0.06847</td>\n",
       "    </tr>\n",
       "    <tr>\n",
       "      <th>1</th>\n",
       "      <td>0.49060</td>\n",
       "      <td>0.96237</td>\n",
       "      <td>0.00489</td>\n",
       "      <td>0.00890</td>\n",
       "      <td>0.03039</td>\n",
       "      <td>0.78930</td>\n",
       "      <td>0.21699</td>\n",
       "      <td>0.69954</td>\n",
       "    </tr>\n",
       "    <tr>\n",
       "      <th>2</th>\n",
       "      <td>0.67952</td>\n",
       "      <td>0.76590</td>\n",
       "      <td>0.00362</td>\n",
       "      <td>0.98821</td>\n",
       "      <td>0.48950</td>\n",
       "      <td>0.24311</td>\n",
       "      <td>0.71509</td>\n",
       "      <td>0.81084</td>\n",
       "    </tr>\n",
       "    <tr>\n",
       "      <th>3</th>\n",
       "      <td>0.62169</td>\n",
       "      <td>0.03966</td>\n",
       "      <td>0.80522</td>\n",
       "      <td>0.99918</td>\n",
       "      <td>0.02476</td>\n",
       "      <td>0.72411</td>\n",
       "      <td>0.75817</td>\n",
       "      <td>0.59716</td>\n",
       "    </tr>\n",
       "  </tbody>\n",
       "</table>\n",
       "</div>"
      ],
      "text/plain": [
       "       id  gender     age  region  product   price     qty    time\n",
       "0 0.60122 0.03603 0.72640 0.49979  0.21823 0.65119 0.37438 0.06847\n",
       "1 0.49060 0.96237 0.00489 0.00890  0.03039 0.78930 0.21699 0.69954\n",
       "2 0.67952 0.76590 0.00362 0.98821  0.48950 0.24311 0.71509 0.81084\n",
       "3 0.62169 0.03966 0.80522 0.99918  0.02476 0.72411 0.75817 0.59716"
      ]
     },
     "execution_count": 159,
     "metadata": {},
     "output_type": "execute_result"
    }
   ],
   "source": [
    "# 배열을 df로 컬럼 이름 넣어서 변환\n",
    "ar = np.random.rand(4,8)\n",
    "df = pd.DataFrame(ar,columns=['id','gender','age','region','product','price','qty','time']\n",
    ")\n",
    "df"
   ]
  },
  {
   "cell_type": "markdown",
   "id": "e2efec94",
   "metadata": {},
   "source": [
    "- Q. id, gender, age 컬럼에 대하여 의미있는 값으로 변환하여 3개의 컬럼으로 구성된 df3를 출력하세요"
   ]
  },
  {
   "cell_type": "code",
   "execution_count": 160,
   "id": "35ca60e2",
   "metadata": {},
   "outputs": [],
   "source": [
    "df['id']= np.random.randint(1000,9999,4)\n",
    "df['gender']= np.random.choice(['male','female'],4)\n",
    "df['age']= np.random.randint(1,100,4)\n",
    "df3 = df[['id','gender','age']]"
   ]
  },
  {
   "cell_type": "code",
   "execution_count": 161,
   "id": "e5e73728",
   "metadata": {},
   "outputs": [
    {
     "data": {
      "text/html": [
       "<div>\n",
       "<style scoped>\n",
       "    .dataframe tbody tr th:only-of-type {\n",
       "        vertical-align: middle;\n",
       "    }\n",
       "\n",
       "    .dataframe tbody tr th {\n",
       "        vertical-align: top;\n",
       "    }\n",
       "\n",
       "    .dataframe thead th {\n",
       "        text-align: right;\n",
       "    }\n",
       "</style>\n",
       "<table border=\"1\" class=\"dataframe\">\n",
       "  <thead>\n",
       "    <tr style=\"text-align: right;\">\n",
       "      <th></th>\n",
       "      <th>id</th>\n",
       "      <th>gender</th>\n",
       "      <th>age</th>\n",
       "    </tr>\n",
       "  </thead>\n",
       "  <tbody>\n",
       "    <tr>\n",
       "      <th>0</th>\n",
       "      <td>5696</td>\n",
       "      <td>male</td>\n",
       "      <td>8</td>\n",
       "    </tr>\n",
       "    <tr>\n",
       "      <th>1</th>\n",
       "      <td>4854</td>\n",
       "      <td>male</td>\n",
       "      <td>75</td>\n",
       "    </tr>\n",
       "    <tr>\n",
       "      <th>2</th>\n",
       "      <td>2156</td>\n",
       "      <td>female</td>\n",
       "      <td>2</td>\n",
       "    </tr>\n",
       "    <tr>\n",
       "      <th>3</th>\n",
       "      <td>1356</td>\n",
       "      <td>male</td>\n",
       "      <td>88</td>\n",
       "    </tr>\n",
       "  </tbody>\n",
       "</table>\n",
       "</div>"
      ],
      "text/plain": [
       "     id  gender  age\n",
       "0  5696    male    8\n",
       "1  4854    male   75\n",
       "2  2156  female    2\n",
       "3  1356    male   88"
      ]
     },
     "execution_count": 161,
     "metadata": {},
     "output_type": "execute_result"
    }
   ],
   "source": [
    "df3"
   ]
  },
  {
   "cell_type": "code",
   "execution_count": 162,
   "id": "13b6fb23",
   "metadata": {},
   "outputs": [
    {
     "data": {
      "text/plain": [
       "-0.056092353722470636"
      ]
     },
     "execution_count": 162,
     "metadata": {},
     "output_type": "execute_result"
    }
   ],
   "source": [
    "# 배열에서 정렬한 후 50%에 해당하는 원소만 출력(가운데값 출력 의미)\n",
    "large_ar = np.random.randn(1000)\n",
    "large_ar.sort()\n",
    "large_ar[int(0.5*len(large_ar))]"
   ]
  },
  {
   "cell_type": "code",
   "execution_count": 163,
   "id": "7d0f7249",
   "metadata": {},
   "outputs": [
    {
     "data": {
      "text/plain": [
       "array(['Bob', 'Joe', 'Will'], dtype='<U4')"
      ]
     },
     "execution_count": 163,
     "metadata": {},
     "output_type": "execute_result"
    }
   ],
   "source": [
    "# 배열 집합 연산\n",
    "names = np.array(['Bob','Joe','Will','Joe','Joe'])\n",
    "np.unique(names)"
   ]
  },
  {
   "cell_type": "code",
   "execution_count": 164,
   "id": "8889c560",
   "metadata": {},
   "outputs": [
    {
     "data": {
      "text/plain": [
       "['Bob', 'Joe', 'Will']"
      ]
     },
     "execution_count": 164,
     "metadata": {},
     "output_type": "execute_result"
    }
   ],
   "source": [
    "sorted(set(names))"
   ]
  },
  {
   "cell_type": "code",
   "execution_count": 165,
   "id": "ab5d527f",
   "metadata": {},
   "outputs": [
    {
     "data": {
      "text/plain": [
       "array(['Bob', 'Joe', 'Joe', 'Joe', 'Will'], dtype='<U4')"
      ]
     },
     "execution_count": 165,
     "metadata": {},
     "output_type": "execute_result"
    }
   ],
   "source": [
    "names.sort()\n",
    "names"
   ]
  },
  {
   "cell_type": "code",
   "execution_count": 166,
   "id": "5b1cb38a",
   "metadata": {},
   "outputs": [
    {
     "data": {
      "text/plain": [
       "array([ True, False, False,  True,  True, False,  True])"
      ]
     },
     "execution_count": 166,
     "metadata": {},
     "output_type": "execute_result"
    }
   ],
   "source": [
    "# 첫번째 배열의 원소가 두번째 배열의 원소를 포함하는지 알려주는 블리언 배열을 반환\n",
    "values = np.array([6,0,0,3,2,5,6])\n",
    "np.in1d(values,[2,3,6])  #np.in1d(ar,[x,x,x...])"
   ]
  },
  {
   "cell_type": "code",
   "execution_count": 167,
   "id": "ee9d7a35",
   "metadata": {},
   "outputs": [],
   "source": [
    "# 배열 데이터의 입출력\n",
    "ar = np.arange(10)\n",
    "np.save('some_ar',ar)"
   ]
  },
  {
   "cell_type": "code",
   "execution_count": 168,
   "id": "f69baffe",
   "metadata": {},
   "outputs": [
    {
     "data": {
      "text/plain": [
       "array([0, 1, 2, 3, 4, 5, 6, 7, 8, 9])"
      ]
     },
     "execution_count": 168,
     "metadata": {},
     "output_type": "execute_result"
    }
   ],
   "source": [
    "np.load('some_ar.npy')"
   ]
  },
  {
   "cell_type": "code",
   "execution_count": 169,
   "id": "34004059",
   "metadata": {},
   "outputs": [],
   "source": [
    "# np.savez : 여러개의 배열을 압축된 형식으로 저장\n",
    "np.savez('ar_archive.npz',a=ar,b=ar)"
   ]
  },
  {
   "cell_type": "code",
   "execution_count": 170,
   "id": "68bc095d",
   "metadata": {},
   "outputs": [
    {
     "data": {
      "text/plain": [
       "array([0, 1, 2, 3, 4, 5, 6, 7, 8, 9])"
      ]
     },
     "execution_count": 170,
     "metadata": {},
     "output_type": "execute_result"
    }
   ],
   "source": [
    "arch = np.load('ar_archive.npz')\n",
    "arch['a']"
   ]
  },
  {
   "cell_type": "code",
   "execution_count": 171,
   "id": "a94daf44",
   "metadata": {},
   "outputs": [
    {
     "name": "stdout",
     "output_type": "stream",
     "text": [
      "[11 12 13 14 15 16 17 18 19] \n",
      "\n"
     ]
    },
    {
     "data": {
      "text/plain": [
       "array([0, 1, 2, 3, 4, 5, 6, 7, 8], dtype=int64)"
      ]
     },
     "execution_count": 171,
     "metadata": {},
     "output_type": "execute_result"
    }
   ],
   "source": [
    "a = np.arange(11,20)  # 인덱스를 표시해줘서 확인하게함 argsort()\n",
    "print(a,'\\n')\n",
    "np.argsort(a)"
   ]
  },
  {
   "cell_type": "code",
   "execution_count": 172,
   "id": "e8cf759a",
   "metadata": {},
   "outputs": [
    {
     "data": {
      "text/plain": [
       "array([8, 7, 6, 5, 4, 3, 2, 1, 0], dtype=int64)"
      ]
     },
     "execution_count": 172,
     "metadata": {},
     "output_type": "execute_result"
    }
   ],
   "source": [
    "# 인덱스 배열을 역순으로 출력\n",
    "np.argsort(a)[::-1]"
   ]
  },
  {
   "cell_type": "markdown",
   "id": "dbe0c074",
   "metadata": {},
   "source": [
    "### 도전과제(7월6일)-3\n",
    "- np.arange(336).reshape(6,7,8)에서 100번째 요소의 인덱스를 구하세요.\n",
    "- np.arange(4)을 이용해서 아래와 같이 출력하세요.\n",
    "```\n",
    "array([[0, 0, 0, 0, 0],\n",
    "       [1, 0, 0, 0, 0],\n",
    "       [0, 2, 0, 0, 0],\n",
    "       [0, 0, 3, 0, 0],\n",
    "       [0, 0, 0, 4, 0]])\n",
    "```"
   ]
  },
  {
   "cell_type": "code",
   "execution_count": 173,
   "id": "4d45496a",
   "metadata": {},
   "outputs": [],
   "source": [
    "ar = np.arange(336).reshape(6,7,8)"
   ]
  },
  {
   "cell_type": "code",
   "execution_count": 175,
   "id": "0e2c6818",
   "metadata": {},
   "outputs": [
    {
     "data": {
      "text/plain": [
       "array([[ 1.00000000e+00, -1.11022302e-15, -1.11022302e-16,\n",
       "         0.00000000e+00,  3.88578059e-16],\n",
       "       [-4.44089210e-16,  1.00000000e+00, -1.11022302e-16,\n",
       "         0.00000000e+00,  1.11022302e-16],\n",
       "       [ 0.00000000e+00, -3.33066907e-16,  1.00000000e+00,\n",
       "         2.22044605e-16,  1.94289029e-16],\n",
       "       [ 0.00000000e+00, -2.22044605e-16,  5.55111512e-17,\n",
       "         1.00000000e+00,  2.77555756e-17],\n",
       "       [-4.44089210e-16, -3.33066907e-16, -5.55111512e-17,\n",
       "        -2.22044605e-16,  1.00000000e+00]])"
      ]
     },
     "execution_count": 175,
     "metadata": {},
     "output_type": "execute_result"
    }
   ],
   "source": [
    "# Q. 0 ~ 10 정수 (5,5) 행렬의 역행렬을 구한 후 두 행렬간의 행렬곱을 구하세요.\n",
    "ar = np.random.randint(1,10,size=(5,5))\n",
    "# np.linalg.inv()  역행렬 구하는 공식\n",
    "ar2 = np.linalg.inv(ar)\n",
    "ar2\n",
    "np.dot(ar,ar2)"
   ]
  },
  {
   "cell_type": "code",
   "execution_count": null,
   "id": "cc25d263",
   "metadata": {},
   "outputs": [],
   "source": []
  },
  {
   "cell_type": "markdown",
   "id": "f2ce0412",
   "metadata": {},
   "source": [
    "### 과제(7월6일) -2\n",
    "### 아래 가이드에 따라서 고객별 연간 생성하고 아래사항을 수행하세요(관측치 10000개)\n",
    "\n",
    "#### Q1. 고객 속성(id, 성별, 연령, 거주지역) 데이터와 거래 데이터를 통합한 데이터 프레임 df를 생성하세요.\n",
    "\n",
    "거래 번호\n",
    "- id : 1 ~ 1000번 일련번호 - 개시 후 1만 건의 거래가 있었고 걍 거기에 넘버링한 거라고 이해해보자\n",
    "\n",
    "고객별 속성 데이터\n",
    "- cusno : 고객번호 1000개 랜덤\n",
    "- gender : 0,1 정수 난수 생성\n",
    "- age : 0 ~ 80사이 정수 난수 생성\n",
    "- region : 1 ~ 10 사이 정수 난수 생성\n",
    "\n",
    "거래 데이터\n",
    "\n",
    "- product_20 : 고가제품(10), 중가제품(20), 저가제품(30)로 구분제품코드 10,20,30\n",
    "- product_21 : 고가제품(10), 중가제품(20), 저가제품(30)로 구분제품코드 10,20,30\n",
    "- price_20 : 1000 ~ 50000 사이 실수 난수 생성\n",
    "- price_21 : 1000 ~ 50000 사이 실수 난수 생성\n",
    "- quantity_20 : 1 ~ 100 사이 정수 난수 생성\n",
    "- quantity_21 : 1 ~ 100 사이 정수 난수 생성\n",
    "- amount_20 : price_20 * quantity_20\n",
    "- amount_21 : price_21 * quantity_21\n",
    "- sales : 20년 대비 21년구매금액이 증가면 1, 감소면 0\n",
    "\n",
    "#### Q2. df를 수정하여 5가지 이상의 인사이트를 포함한 데이터 셋으로 변환하세요\n",
    "\n",
    "#### Q3. df 를 탐색적 분석을 통하여 인사이트를 도출하세요.\n",
    "\n",
    "- 거래일자, 요일, 시간을 10개 추가해서 총 만개의 관측치를 갖는 데이터셋 만드세요."
   ]
  },
  {
   "cell_type": "code",
   "execution_count": 34,
   "id": "07fd23a5",
   "metadata": {},
   "outputs": [
    {
     "data": {
      "text/html": [
       "<div>\n",
       "<style scoped>\n",
       "    .dataframe tbody tr th:only-of-type {\n",
       "        vertical-align: middle;\n",
       "    }\n",
       "\n",
       "    .dataframe tbody tr th {\n",
       "        vertical-align: top;\n",
       "    }\n",
       "\n",
       "    .dataframe thead th {\n",
       "        text-align: right;\n",
       "    }\n",
       "</style>\n",
       "<table border=\"1\" class=\"dataframe\">\n",
       "  <thead>\n",
       "    <tr style=\"text-align: right;\">\n",
       "      <th></th>\n",
       "      <th>id</th>\n",
       "      <th>cusno</th>\n",
       "      <th>gender</th>\n",
       "      <th>age</th>\n",
       "      <th>region</th>\n",
       "    </tr>\n",
       "  </thead>\n",
       "  <tbody>\n",
       "    <tr>\n",
       "      <th>0</th>\n",
       "      <td>1</td>\n",
       "      <td>767</td>\n",
       "      <td>male</td>\n",
       "      <td>42</td>\n",
       "      <td>5</td>\n",
       "    </tr>\n",
       "    <tr>\n",
       "      <th>1</th>\n",
       "      <td>2</td>\n",
       "      <td>789</td>\n",
       "      <td>female</td>\n",
       "      <td>26</td>\n",
       "      <td>5</td>\n",
       "    </tr>\n",
       "    <tr>\n",
       "      <th>2</th>\n",
       "      <td>3</td>\n",
       "      <td>117</td>\n",
       "      <td>male</td>\n",
       "      <td>36</td>\n",
       "      <td>7</td>\n",
       "    </tr>\n",
       "    <tr>\n",
       "      <th>3</th>\n",
       "      <td>4</td>\n",
       "      <td>36</td>\n",
       "      <td>female</td>\n",
       "      <td>1</td>\n",
       "      <td>8</td>\n",
       "    </tr>\n",
       "    <tr>\n",
       "      <th>4</th>\n",
       "      <td>5</td>\n",
       "      <td>409</td>\n",
       "      <td>male</td>\n",
       "      <td>12</td>\n",
       "      <td>7</td>\n",
       "    </tr>\n",
       "  </tbody>\n",
       "</table>\n",
       "</div>"
      ],
      "text/plain": [
       "   id  cusno  gender  age  region\n",
       "0   1    767    male   42       5\n",
       "1   2    789  female   26       5\n",
       "2   3    117    male   36       7\n",
       "3   4     36  female    1       8\n",
       "4   5    409    male   12       7"
      ]
     },
     "execution_count": 34,
     "metadata": {},
     "output_type": "execute_result"
    }
   ],
   "source": [
    "#Q1. 고객 속성(id, 성별, 연령, 거주지역) 데이터와 거래 데이터를 통합한 데이터 프레임 df를 생성하세요.\n",
    "c_id=pd.Series(range(1,1001))\n",
    "li=list(range(1,1001))\n",
    "data_id=random.sample(li,1000)\n",
    "cusno=pd.Series(data_id)\n",
    "gender=pd.Series(np.random.choice(['male','female'],1000))\n",
    "age=pd.Series(np.random.randint(1,80,1000))\n",
    "region=pd.Series(np.random.randint(1,10,1000))\n",
    "# season = pd.Series(np.radom.choice(['Sp','Su','Fa','Wi'],1000))\n",
    "\n",
    "product=pd.Series(np.random.choice([10,20,30],10000))\n",
    "price=pd.Series(np.random.uniform(1000,50000,10000))\n",
    "quantity=pd.Series(np.random.randint(1,100,10000))\n",
    "\n",
    "amount = price * quantity\n",
    "   \n",
    "cusdf=pd.concat([c_id,cusno,gender,age,region],axis=1)\n",
    "cuspu=pd.concat([product,price,quantity],axis=1)\n",
    "#sales : 20년 대비 21년구매금액이 증가면 1, 감소면 0\n",
    "#cusdf['sales'] = np.where(amount_20<=amount_21,1,0)\n",
    "cusdf.rename(columns={0:'id',1:'cusno',2:'gender',3:'age',4:'region'},inplace=True)\n",
    "cuspu.rename(columns={0:'product',1:'price',2:'quantity'},inplace=True)\n",
    "cusdf.head()"
   ]
  },
  {
   "cell_type": "code",
   "execution_count": 35,
   "id": "aba80584",
   "metadata": {},
   "outputs": [
    {
     "name": "stderr",
     "output_type": "stream",
     "text": [
      "C:\\Users\\admin\\AppData\\Local\\Temp\\ipykernel_4840\\721968390.py:4: FutureWarning: The frame.append method is deprecated and will be removed from pandas in a future version. Use pandas.concat instead.\n",
      "  cusdf = cusdf.append(cusdf1.loc[:],ignore_index=True)\n"
     ]
    },
    {
     "data": {
      "text/plain": [
       "cusno\n",
       "1       10\n",
       "672     10\n",
       "659     10\n",
       "660     10\n",
       "661     10\n",
       "        ..\n",
       "339     10\n",
       "340     10\n",
       "341     10\n",
       "342     10\n",
       "1000    10\n",
       "Length: 1000, dtype: int64"
      ]
     },
     "execution_count": 35,
     "metadata": {},
     "output_type": "execute_result"
    }
   ],
   "source": [
    "# 고객별 10개씩 행 추가\n",
    "cusdf1=cusdf.copy()\n",
    "for _ in range(9):\n",
    "    cusdf = cusdf.append(cusdf1.loc[:],ignore_index=True)\n",
    "cusdf.value_counts('cusno') #10개가 맞는지 확인"
   ]
  },
  {
   "cell_type": "code",
   "execution_count": 36,
   "id": "6ae57f3f",
   "metadata": {},
   "outputs": [
    {
     "data": {
      "text/html": [
       "<div>\n",
       "<style scoped>\n",
       "    .dataframe tbody tr th:only-of-type {\n",
       "        vertical-align: middle;\n",
       "    }\n",
       "\n",
       "    .dataframe tbody tr th {\n",
       "        vertical-align: top;\n",
       "    }\n",
       "\n",
       "    .dataframe thead th {\n",
       "        text-align: right;\n",
       "    }\n",
       "</style>\n",
       "<table border=\"1\" class=\"dataframe\">\n",
       "  <thead>\n",
       "    <tr style=\"text-align: right;\">\n",
       "      <th></th>\n",
       "      <th>id</th>\n",
       "      <th>cusno</th>\n",
       "      <th>gender</th>\n",
       "      <th>age</th>\n",
       "      <th>region</th>\n",
       "      <th>product</th>\n",
       "      <th>price</th>\n",
       "      <th>quantity</th>\n",
       "    </tr>\n",
       "  </thead>\n",
       "  <tbody>\n",
       "    <tr>\n",
       "      <th>0</th>\n",
       "      <td>1</td>\n",
       "      <td>767</td>\n",
       "      <td>male</td>\n",
       "      <td>42</td>\n",
       "      <td>5</td>\n",
       "      <td>30</td>\n",
       "      <td>13900.26164</td>\n",
       "      <td>93</td>\n",
       "    </tr>\n",
       "    <tr>\n",
       "      <th>1</th>\n",
       "      <td>2</td>\n",
       "      <td>789</td>\n",
       "      <td>female</td>\n",
       "      <td>26</td>\n",
       "      <td>5</td>\n",
       "      <td>10</td>\n",
       "      <td>12259.80158</td>\n",
       "      <td>47</td>\n",
       "    </tr>\n",
       "    <tr>\n",
       "      <th>2</th>\n",
       "      <td>3</td>\n",
       "      <td>117</td>\n",
       "      <td>male</td>\n",
       "      <td>36</td>\n",
       "      <td>7</td>\n",
       "      <td>30</td>\n",
       "      <td>38237.60839</td>\n",
       "      <td>63</td>\n",
       "    </tr>\n",
       "    <tr>\n",
       "      <th>3</th>\n",
       "      <td>4</td>\n",
       "      <td>36</td>\n",
       "      <td>female</td>\n",
       "      <td>1</td>\n",
       "      <td>8</td>\n",
       "      <td>30</td>\n",
       "      <td>43519.75759</td>\n",
       "      <td>53</td>\n",
       "    </tr>\n",
       "    <tr>\n",
       "      <th>4</th>\n",
       "      <td>5</td>\n",
       "      <td>409</td>\n",
       "      <td>male</td>\n",
       "      <td>12</td>\n",
       "      <td>7</td>\n",
       "      <td>20</td>\n",
       "      <td>38997.60697</td>\n",
       "      <td>7</td>\n",
       "    </tr>\n",
       "  </tbody>\n",
       "</table>\n",
       "</div>"
      ],
      "text/plain": [
       "   id  cusno  gender  age  region  product       price  quantity\n",
       "0   1    767    male   42       5       30 13900.26164        93\n",
       "1   2    789  female   26       5       10 12259.80158        47\n",
       "2   3    117    male   36       7       30 38237.60839        63\n",
       "3   4     36  female    1       8       30 43519.75759        53\n",
       "4   5    409    male   12       7       20 38997.60697         7"
      ]
     },
     "execution_count": 36,
     "metadata": {},
     "output_type": "execute_result"
    }
   ],
   "source": [
    "# 고객데이터 구매데이터 합치기\n",
    "cusdf=pd.concat([cusdf,cuspu],axis=1)\n",
    "cusdf.head()"
   ]
  },
  {
   "cell_type": "code",
   "execution_count": 37,
   "id": "d4bf0641",
   "metadata": {},
   "outputs": [
    {
     "data": {
      "text/html": [
       "<div>\n",
       "<style scoped>\n",
       "    .dataframe tbody tr th:only-of-type {\n",
       "        vertical-align: middle;\n",
       "    }\n",
       "\n",
       "    .dataframe tbody tr th {\n",
       "        vertical-align: top;\n",
       "    }\n",
       "\n",
       "    .dataframe thead th {\n",
       "        text-align: right;\n",
       "    }\n",
       "</style>\n",
       "<table border=\"1\" class=\"dataframe\">\n",
       "  <thead>\n",
       "    <tr style=\"text-align: right;\">\n",
       "      <th></th>\n",
       "      <th>id</th>\n",
       "      <th>cusno</th>\n",
       "      <th>gender</th>\n",
       "      <th>age</th>\n",
       "      <th>region</th>\n",
       "      <th>product</th>\n",
       "      <th>price</th>\n",
       "      <th>quantity</th>\n",
       "      <th>date</th>\n",
       "      <th>day</th>\n",
       "      <th>time</th>\n",
       "    </tr>\n",
       "  </thead>\n",
       "  <tbody>\n",
       "    <tr>\n",
       "      <th>0</th>\n",
       "      <td>1</td>\n",
       "      <td>767</td>\n",
       "      <td>male</td>\n",
       "      <td>42</td>\n",
       "      <td>5</td>\n",
       "      <td>30</td>\n",
       "      <td>13900.26164</td>\n",
       "      <td>93</td>\n",
       "      <td>2021-12-13</td>\n",
       "      <td>월</td>\n",
       "      <td>16</td>\n",
       "    </tr>\n",
       "    <tr>\n",
       "      <th>1</th>\n",
       "      <td>2</td>\n",
       "      <td>789</td>\n",
       "      <td>female</td>\n",
       "      <td>26</td>\n",
       "      <td>5</td>\n",
       "      <td>10</td>\n",
       "      <td>12259.80158</td>\n",
       "      <td>47</td>\n",
       "      <td>2020-03-25</td>\n",
       "      <td>수</td>\n",
       "      <td>20</td>\n",
       "    </tr>\n",
       "    <tr>\n",
       "      <th>2</th>\n",
       "      <td>3</td>\n",
       "      <td>117</td>\n",
       "      <td>male</td>\n",
       "      <td>36</td>\n",
       "      <td>7</td>\n",
       "      <td>30</td>\n",
       "      <td>38237.60839</td>\n",
       "      <td>63</td>\n",
       "      <td>2021-11-17</td>\n",
       "      <td>수</td>\n",
       "      <td>4</td>\n",
       "    </tr>\n",
       "    <tr>\n",
       "      <th>3</th>\n",
       "      <td>4</td>\n",
       "      <td>36</td>\n",
       "      <td>female</td>\n",
       "      <td>1</td>\n",
       "      <td>8</td>\n",
       "      <td>30</td>\n",
       "      <td>43519.75759</td>\n",
       "      <td>53</td>\n",
       "      <td>2021-12-24</td>\n",
       "      <td>금</td>\n",
       "      <td>14</td>\n",
       "    </tr>\n",
       "    <tr>\n",
       "      <th>4</th>\n",
       "      <td>5</td>\n",
       "      <td>409</td>\n",
       "      <td>male</td>\n",
       "      <td>12</td>\n",
       "      <td>7</td>\n",
       "      <td>20</td>\n",
       "      <td>38997.60697</td>\n",
       "      <td>7</td>\n",
       "      <td>2021-02-06</td>\n",
       "      <td>토</td>\n",
       "      <td>23</td>\n",
       "    </tr>\n",
       "  </tbody>\n",
       "</table>\n",
       "</div>"
      ],
      "text/plain": [
       "   id  cusno  gender  age  region  product       price  quantity       date  \\\n",
       "0   1    767    male   42       5       30 13900.26164        93 2021-12-13   \n",
       "1   2    789  female   26       5       10 12259.80158        47 2020-03-25   \n",
       "2   3    117    male   36       7       30 38237.60839        63 2021-11-17   \n",
       "3   4     36  female    1       8       30 43519.75759        53 2021-12-24   \n",
       "4   5    409    male   12       7       20 38997.60697         7 2021-02-06   \n",
       "\n",
       "  day  time  \n",
       "0   월    16  \n",
       "1   수    20  \n",
       "2   수     4  \n",
       "3   금    14  \n",
       "4   토    23  "
      ]
     },
     "execution_count": 37,
     "metadata": {},
     "output_type": "execute_result"
    }
   ],
   "source": [
    "# 거래일자,요일, 시간을 추가\n",
    "# 1.data\n",
    "data_list=list(pd.date_range('2020-01-01','2021-12-31',freq='D'))\n",
    "cusdf['date']=np.random.choice(data_list,size=10000)\n",
    "\n",
    "# 2. day(요일)\n",
    "cusdf['day']=cusdf['date'].apply(lambda x: x.weekday())  # date별 요일을 숫자로\n",
    "cusdf['day']=cusdf['day'].replace(list(range(7)),['월','화','수','목','금','토','일'])\n",
    "\n",
    "# 3. 시간\n",
    "cusdf['time']=np.random.randint(1,25,size=10000)\n",
    "\n",
    "cusdf.head()"
   ]
  },
  {
   "cell_type": "code",
   "execution_count": 38,
   "id": "a481fc7c",
   "metadata": {
    "scrolled": false
   },
   "outputs": [
    {
     "data": {
      "text/html": [
       "<div>\n",
       "<style scoped>\n",
       "    .dataframe tbody tr th:only-of-type {\n",
       "        vertical-align: middle;\n",
       "    }\n",
       "\n",
       "    .dataframe tbody tr th {\n",
       "        vertical-align: top;\n",
       "    }\n",
       "\n",
       "    .dataframe thead th {\n",
       "        text-align: right;\n",
       "    }\n",
       "</style>\n",
       "<table border=\"1\" class=\"dataframe\">\n",
       "  <thead>\n",
       "    <tr style=\"text-align: right;\">\n",
       "      <th></th>\n",
       "      <th>id</th>\n",
       "      <th>cusno</th>\n",
       "      <th>gender</th>\n",
       "      <th>age</th>\n",
       "      <th>region</th>\n",
       "      <th>product</th>\n",
       "      <th>price</th>\n",
       "      <th>quantity</th>\n",
       "      <th>date</th>\n",
       "      <th>day</th>\n",
       "      <th>time</th>\n",
       "      <th>age_class</th>\n",
       "    </tr>\n",
       "  </thead>\n",
       "  <tbody>\n",
       "    <tr>\n",
       "      <th>0</th>\n",
       "      <td>1</td>\n",
       "      <td>767</td>\n",
       "      <td>male</td>\n",
       "      <td>42</td>\n",
       "      <td>5</td>\n",
       "      <td>30</td>\n",
       "      <td>13900.26164</td>\n",
       "      <td>93</td>\n",
       "      <td>2021-12-13</td>\n",
       "      <td>월</td>\n",
       "      <td>16</td>\n",
       "      <td>40-50대</td>\n",
       "    </tr>\n",
       "    <tr>\n",
       "      <th>1</th>\n",
       "      <td>2</td>\n",
       "      <td>789</td>\n",
       "      <td>female</td>\n",
       "      <td>26</td>\n",
       "      <td>5</td>\n",
       "      <td>10</td>\n",
       "      <td>12259.80158</td>\n",
       "      <td>47</td>\n",
       "      <td>2020-03-25</td>\n",
       "      <td>수</td>\n",
       "      <td>20</td>\n",
       "      <td>20-30대</td>\n",
       "    </tr>\n",
       "    <tr>\n",
       "      <th>2</th>\n",
       "      <td>3</td>\n",
       "      <td>117</td>\n",
       "      <td>male</td>\n",
       "      <td>36</td>\n",
       "      <td>7</td>\n",
       "      <td>30</td>\n",
       "      <td>38237.60839</td>\n",
       "      <td>63</td>\n",
       "      <td>2021-11-17</td>\n",
       "      <td>수</td>\n",
       "      <td>4</td>\n",
       "      <td>20-30대</td>\n",
       "    </tr>\n",
       "    <tr>\n",
       "      <th>3</th>\n",
       "      <td>4</td>\n",
       "      <td>36</td>\n",
       "      <td>female</td>\n",
       "      <td>1</td>\n",
       "      <td>8</td>\n",
       "      <td>30</td>\n",
       "      <td>43519.75759</td>\n",
       "      <td>53</td>\n",
       "      <td>2021-12-24</td>\n",
       "      <td>금</td>\n",
       "      <td>14</td>\n",
       "      <td>미성년</td>\n",
       "    </tr>\n",
       "    <tr>\n",
       "      <th>4</th>\n",
       "      <td>5</td>\n",
       "      <td>409</td>\n",
       "      <td>male</td>\n",
       "      <td>12</td>\n",
       "      <td>7</td>\n",
       "      <td>20</td>\n",
       "      <td>38997.60697</td>\n",
       "      <td>7</td>\n",
       "      <td>2021-02-06</td>\n",
       "      <td>토</td>\n",
       "      <td>23</td>\n",
       "      <td>미성년</td>\n",
       "    </tr>\n",
       "  </tbody>\n",
       "</table>\n",
       "</div>"
      ],
      "text/plain": [
       "   id  cusno  gender  age  region  product       price  quantity       date  \\\n",
       "0   1    767    male   42       5       30 13900.26164        93 2021-12-13   \n",
       "1   2    789  female   26       5       10 12259.80158        47 2020-03-25   \n",
       "2   3    117    male   36       7       30 38237.60839        63 2021-11-17   \n",
       "3   4     36  female    1       8       30 43519.75759        53 2021-12-24   \n",
       "4   5    409    male   12       7       20 38997.60697         7 2021-02-06   \n",
       "\n",
       "  day  time age_class  \n",
       "0   월    16    40-50대  \n",
       "1   수    20    20-30대  \n",
       "2   수     4    20-30대  \n",
       "3   금    14       미성년  \n",
       "4   토    23       미성년  "
      ]
     },
     "execution_count": 38,
     "metadata": {},
     "output_type": "execute_result"
    }
   ],
   "source": [
    "# Q2. df를 수정하여 5가지 이상의 인사이트를 포함한 데이터 셋으로 변환하세요\n",
    "# age를 범주화 해서 age_class 컬럼을 새로 추가\n",
    "def get_age(x):\n",
    "    if x<20:\n",
    "        x='미성년'\n",
    "    elif x<40:\n",
    "        x='20-30대'\n",
    "    elif x<60:\n",
    "        x='40-50대'\n",
    "    else :\n",
    "        x='60대이상'\n",
    "    return x\n",
    "cusdf['age_class'] = cusdf.age.apply(get_age)\n",
    "cusdf.head()"
   ]
  },
  {
   "cell_type": "code",
   "execution_count": 39,
   "id": "bd9b905c",
   "metadata": {},
   "outputs": [],
   "source": [
    "# 불필요한 컬럼 'id, age' 삭제\n",
    "cusdf2=cusdf.drop(['id','age'],axis=1)"
   ]
  },
  {
   "cell_type": "code",
   "execution_count": 41,
   "id": "70a00997",
   "metadata": {
    "tags": []
   },
   "outputs": [
    {
     "data": {
      "text/html": [
       "<div>\n",
       "<style scoped>\n",
       "    .dataframe tbody tr th:only-of-type {\n",
       "        vertical-align: middle;\n",
       "    }\n",
       "\n",
       "    .dataframe tbody tr th {\n",
       "        vertical-align: top;\n",
       "    }\n",
       "\n",
       "    .dataframe thead th {\n",
       "        text-align: right;\n",
       "    }\n",
       "</style>\n",
       "<table border=\"1\" class=\"dataframe\">\n",
       "  <thead>\n",
       "    <tr style=\"text-align: right;\">\n",
       "      <th></th>\n",
       "      <th>cusno</th>\n",
       "      <th>gender</th>\n",
       "      <th>region</th>\n",
       "      <th>product</th>\n",
       "      <th>price</th>\n",
       "      <th>quantity</th>\n",
       "      <th>date</th>\n",
       "      <th>day</th>\n",
       "      <th>time</th>\n",
       "      <th>age_class</th>\n",
       "    </tr>\n",
       "  </thead>\n",
       "  <tbody>\n",
       "    <tr>\n",
       "      <th>0</th>\n",
       "      <td>767</td>\n",
       "      <td>male</td>\n",
       "      <td>5</td>\n",
       "      <td>30</td>\n",
       "      <td>16680.31397</td>\n",
       "      <td>93</td>\n",
       "      <td>2021-12-13</td>\n",
       "      <td>월</td>\n",
       "      <td>16</td>\n",
       "      <td>40-50대</td>\n",
       "    </tr>\n",
       "    <tr>\n",
       "      <th>1</th>\n",
       "      <td>789</td>\n",
       "      <td>female</td>\n",
       "      <td>5</td>\n",
       "      <td>10</td>\n",
       "      <td>17654.11427</td>\n",
       "      <td>47</td>\n",
       "      <td>2020-03-25</td>\n",
       "      <td>수</td>\n",
       "      <td>20</td>\n",
       "      <td>20-30대</td>\n",
       "    </tr>\n",
       "    <tr>\n",
       "      <th>2</th>\n",
       "      <td>117</td>\n",
       "      <td>male</td>\n",
       "      <td>7</td>\n",
       "      <td>30</td>\n",
       "      <td>38237.60839</td>\n",
       "      <td>63</td>\n",
       "      <td>2021-11-17</td>\n",
       "      <td>수</td>\n",
       "      <td>4</td>\n",
       "      <td>20-30대</td>\n",
       "    </tr>\n",
       "    <tr>\n",
       "      <th>3</th>\n",
       "      <td>36</td>\n",
       "      <td>female</td>\n",
       "      <td>8</td>\n",
       "      <td>30</td>\n",
       "      <td>62668.45093</td>\n",
       "      <td>53</td>\n",
       "      <td>2021-12-24</td>\n",
       "      <td>금</td>\n",
       "      <td>14</td>\n",
       "      <td>미성년</td>\n",
       "    </tr>\n",
       "    <tr>\n",
       "      <th>4</th>\n",
       "      <td>409</td>\n",
       "      <td>male</td>\n",
       "      <td>7</td>\n",
       "      <td>20</td>\n",
       "      <td>38997.60697</td>\n",
       "      <td>7</td>\n",
       "      <td>2021-02-06</td>\n",
       "      <td>토</td>\n",
       "      <td>23</td>\n",
       "      <td>미성년</td>\n",
       "    </tr>\n",
       "    <tr>\n",
       "      <th>...</th>\n",
       "      <td>...</td>\n",
       "      <td>...</td>\n",
       "      <td>...</td>\n",
       "      <td>...</td>\n",
       "      <td>...</td>\n",
       "      <td>...</td>\n",
       "      <td>...</td>\n",
       "      <td>...</td>\n",
       "      <td>...</td>\n",
       "      <td>...</td>\n",
       "    </tr>\n",
       "    <tr>\n",
       "      <th>9995</th>\n",
       "      <td>249</td>\n",
       "      <td>male</td>\n",
       "      <td>5</td>\n",
       "      <td>30</td>\n",
       "      <td>37218.47238</td>\n",
       "      <td>12</td>\n",
       "      <td>2020-06-18</td>\n",
       "      <td>목</td>\n",
       "      <td>1</td>\n",
       "      <td>60대이상</td>\n",
       "    </tr>\n",
       "    <tr>\n",
       "      <th>9996</th>\n",
       "      <td>877</td>\n",
       "      <td>male</td>\n",
       "      <td>5</td>\n",
       "      <td>20</td>\n",
       "      <td>44895.60296</td>\n",
       "      <td>77</td>\n",
       "      <td>2020-04-09</td>\n",
       "      <td>목</td>\n",
       "      <td>18</td>\n",
       "      <td>40-50대</td>\n",
       "    </tr>\n",
       "    <tr>\n",
       "      <th>9997</th>\n",
       "      <td>970</td>\n",
       "      <td>female</td>\n",
       "      <td>5</td>\n",
       "      <td>30</td>\n",
       "      <td>57550.77357</td>\n",
       "      <td>78</td>\n",
       "      <td>2021-03-27</td>\n",
       "      <td>토</td>\n",
       "      <td>1</td>\n",
       "      <td>미성년</td>\n",
       "    </tr>\n",
       "    <tr>\n",
       "      <th>9998</th>\n",
       "      <td>862</td>\n",
       "      <td>male</td>\n",
       "      <td>1</td>\n",
       "      <td>20</td>\n",
       "      <td>7818.19052</td>\n",
       "      <td>23</td>\n",
       "      <td>2021-03-15</td>\n",
       "      <td>월</td>\n",
       "      <td>11</td>\n",
       "      <td>20-30대</td>\n",
       "    </tr>\n",
       "    <tr>\n",
       "      <th>9999</th>\n",
       "      <td>896</td>\n",
       "      <td>male</td>\n",
       "      <td>1</td>\n",
       "      <td>20</td>\n",
       "      <td>1869.23254</td>\n",
       "      <td>26</td>\n",
       "      <td>2021-04-15</td>\n",
       "      <td>목</td>\n",
       "      <td>7</td>\n",
       "      <td>미성년</td>\n",
       "    </tr>\n",
       "  </tbody>\n",
       "</table>\n",
       "<p>10000 rows × 10 columns</p>\n",
       "</div>"
      ],
      "text/plain": [
       "      cusno  gender  region  product       price  quantity       date day  \\\n",
       "0       767    male       5       30 16680.31397        93 2021-12-13   월   \n",
       "1       789  female       5       10 17654.11427        47 2020-03-25   수   \n",
       "2       117    male       7       30 38237.60839        63 2021-11-17   수   \n",
       "3        36  female       8       30 62668.45093        53 2021-12-24   금   \n",
       "4       409    male       7       20 38997.60697         7 2021-02-06   토   \n",
       "...     ...     ...     ...      ...         ...       ...        ...  ..   \n",
       "9995    249    male       5       30 37218.47238        12 2020-06-18   목   \n",
       "9996    877    male       5       20 44895.60296        77 2020-04-09   목   \n",
       "9997    970  female       5       30 57550.77357        78 2021-03-27   토   \n",
       "9998    862    male       1       20  7818.19052        23 2021-03-15   월   \n",
       "9999    896    male       1       20  1869.23254        26 2021-04-15   목   \n",
       "\n",
       "      time age_class  \n",
       "0       16    40-50대  \n",
       "1       20    20-30대  \n",
       "2        4    20-30대  \n",
       "3       14       미성년  \n",
       "4       23       미성년  \n",
       "...    ...       ...  \n",
       "9995     1     60대이상  \n",
       "9996    18    40-50대  \n",
       "9997     1       미성년  \n",
       "9998    11    20-30대  \n",
       "9999     7       미성년  \n",
       "\n",
       "[10000 rows x 10 columns]"
      ]
     },
     "execution_count": 41,
     "metadata": {},
     "output_type": "execute_result"
    }
   ],
   "source": [
    "# 인사이트를 추가 하기위해 소비 증가 사용자 함수 'spend' 만들기\n",
    "def spend(x):\n",
    "    return x * 1.2\n",
    "# 연령,성별로 선택하여 소비증가 함수 적용하기\n",
    "cusdf2.loc[cusdf2['gender']=='female','price'] = cusdf2.loc[cusdf2['gender']=='female','price'].apply(spend)\n",
    "cusdf2.loc[cusdf2['age_class']=='40-50대','price'] = cusdf2.loc[cusdf2['age_class']=='40-50대','price'].apply(spend)\n",
    "cusdf2"
   ]
  },
  {
   "cell_type": "code",
   "execution_count": 33,
   "id": "9f6cd63f",
   "metadata": {
    "scrolled": true
   },
   "outputs": [
    {
     "name": "stdout",
     "output_type": "stream",
     "text": [
      "price   47583.80754\n",
      "dtype: float64\n"
     ]
    },
    {
     "data": {
      "text/plain": [
       "price   47583.80754\n",
       "dtype: float64"
      ]
     },
     "execution_count": 33,
     "metadata": {},
     "output_type": "execute_result"
    }
   ],
   "source": [
    "gend_g2 = cusdf3.get_group('female')\n",
    "print(gend_g2[['price']].mean())\n",
    "gend_g3 = cusdf4.get_group('40-50대')\n",
    "gend_g3[['price']].mean()"
   ]
  },
  {
   "cell_type": "markdown",
   "id": "89ce5947",
   "metadata": {},
   "source": [
    "## 과제(7월8일) \n",
    "- 타이타닉 생존예측률 도출"
   ]
  },
  {
   "cell_type": "code",
   "execution_count": null,
   "id": "f5b8ab58",
   "metadata": {},
   "outputs": [],
   "source": []
  }
 ],
 "metadata": {
  "kernelspec": {
   "display_name": "Python 3 (ipykernel)",
   "language": "python",
   "name": "python3"
  },
  "language_info": {
   "codemirror_mode": {
    "name": "ipython",
    "version": 3
   },
   "file_extension": ".py",
   "mimetype": "text/x-python",
   "name": "python",
   "nbconvert_exporter": "python",
   "pygments_lexer": "ipython3",
   "version": "3.8.13"
  },
  "toc": {
   "base_numbering": "",
   "nav_menu": {},
   "number_sections": false,
   "sideBar": true,
   "skip_h1_title": false,
   "title_cell": "Table of Contents",
   "title_sidebar": "Contents",
   "toc_cell": false,
   "toc_position": {
    "height": "calc(100% - 180px)",
    "left": "10px",
    "top": "150px",
    "width": "237px"
   },
   "toc_section_display": true,
   "toc_window_display": false
  }
 },
 "nbformat": 4,
 "nbformat_minor": 5
}
