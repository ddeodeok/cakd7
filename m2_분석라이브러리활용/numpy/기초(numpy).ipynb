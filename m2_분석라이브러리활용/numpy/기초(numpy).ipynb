{
 "cells": [
  {
   "cell_type": "markdown",
   "id": "2c6718c1",
   "metadata": {},
   "source": [
    "# 7월 5일"
   ]
  },
  {
   "cell_type": "markdown",
   "id": "f4d8665d",
   "metadata": {},
   "source": [
    "# NumPy는 “Numerical Python“의 약자로 대규모 다차원 배열과 행렬 연산에 필요한 다양한 함수를 제공\n",
    "* Numerical Python을 의미하는 NumPy는 파이썬에서 선형대수 기반의 프로그램을 쉽게 만들 수 있도록 지원하는 대표적인 패키지\n",
    "* 많은 머신러닝 알고리즘이 넘파이 기반으로 작성돼 있으며 알고리즘의 입출력 데이터를 넘파이 배열 타입으로 사용함\n",
    "* 넘파이의 기본 데이터 타입은 ndarray. ndarray를 이용해 넘파이에서 다차원 배열을 쉽게 생성하고 다양한 연산 수행\n",
    "\n",
    "NumPy 특징\n",
    "\n",
    "- 강력한 N 차원 배열 객체\n",
    "- 정교한 브로드케스팅(Broadcast) 기능\n",
    "- C/C ++ 및 포트란 코드 통합 도구\n",
    "- 유용한 선형 대수학, 푸리에 변환 및 난수 기능\n",
    "- 푸리에 변환(Fourier transform, FT)은 시간이나 공간에 대한 함수를 시간 또는 공간 주파수 성분으로 분해하는 변환\n",
    "- 범용적 데이터 처리에 사용 가능한 다차원 컨테이너\n",
    "\n",
    "Numpy Documentation  \n",
    "\n",
    "https://numpy.org/doc/1.21/index.html\n"
   ]
  },
  {
   "cell_type": "code",
   "execution_count": 3,
   "id": "e6ea4fa7",
   "metadata": {},
   "outputs": [
    {
     "name": "stdout",
     "output_type": "stream",
     "text": [
      "40bytes\n"
     ]
    }
   ],
   "source": [
    "import numpy as np\n",
    "z = np.arange(10)\n",
    "print(f'{z.size*z.itemsize}bytes')"
   ]
  },
  {
   "cell_type": "code",
   "execution_count": 4,
   "id": "04c824bd",
   "metadata": {},
   "outputs": [],
   "source": [
    "# Numpy는 내부적으로 데이터를 다른 내장 파이선 객체와 구분된 연속된 메모리 블록에 저장\n",
    "my_arr = np.arange(1000000)\n",
    "my_list = list(range(1000000))"
   ]
  },
  {
   "cell_type": "code",
   "execution_count": 7,
   "id": "315a7b5c",
   "metadata": {},
   "outputs": [
    {
     "name": "stdout",
     "output_type": "stream",
     "text": [
      "CPU times: total: 15.6 ms\n",
      "Wall time: 16 ms\n"
     ]
    }
   ],
   "source": [
    "# 데이터 돌아가는 시간 측정,,  '_'은 값을 무시하고 싶은 경우 사용(여기서는 인덱스 무시)\n",
    "%time for _ in range(10): my_array2 = my_arr*2"
   ]
  },
  {
   "cell_type": "code",
   "execution_count": 6,
   "id": "fba552dc",
   "metadata": {},
   "outputs": [
    {
     "name": "stdout",
     "output_type": "stream",
     "text": [
      "CPU times: total: 625 ms\n",
      "Wall time: 624 ms\n"
     ]
    }
   ],
   "source": [
    "%time for _ in range(10) : my_list2 = [x*2 for x in my_list]"
   ]
  },
  {
   "cell_type": "code",
   "execution_count": 12,
   "id": "558a065f",
   "metadata": {},
   "outputs": [
    {
     "name": "stdout",
     "output_type": "stream",
     "text": [
      "[[ 0.92315857 -0.10122991  0.07409302]\n",
      " [ 1.1563767   1.01675054  1.63649382]] \n",
      "\n",
      "[[ 9.23158566 -1.0122991   0.74093016]\n",
      " [11.56376703 10.1675054  16.36493818]] \n",
      "\n",
      "[[ 1.84631713 -0.20245982  0.14818603]\n",
      " [ 2.31275341  2.03350108  3.27298764]]\n"
     ]
    }
   ],
   "source": [
    "# 배열 연산    randn (정규분포로 2행3열)\n",
    "data = np.random.randn(2,3)\n",
    "print(data,'\\n')\n",
    "print(data*10,'\\n')\n",
    "print(data + data)"
   ]
  },
  {
   "cell_type": "code",
   "execution_count": 17,
   "id": "77fd310d",
   "metadata": {},
   "outputs": [
    {
     "name": "stdout",
     "output_type": "stream",
     "text": [
      "(2, 3)\n",
      "float64\n",
      "2\n"
     ]
    }
   ],
   "source": [
    "print(data.shape)\n",
    "print(data.dtype)\n",
    "print(data.ndim)"
   ]
  },
  {
   "cell_type": "markdown",
   "id": "fc16fa8c",
   "metadata": {},
   "source": [
    "다차원 배열\n",
    "\n",
    "<img src = 'numpy차원.jpg' STYLE='width:500px;'>"
   ]
  },
  {
   "cell_type": "code",
   "execution_count": 18,
   "id": "0be3f09a",
   "metadata": {},
   "outputs": [
    {
     "data": {
      "text/plain": [
       "array([[1, 2, 3, 4],\n",
       "       [5, 6, 7, 8]])"
      ]
     },
     "execution_count": 18,
     "metadata": {},
     "output_type": "execute_result"
    }
   ],
   "source": [
    "# 다차원 배열\n",
    "data2 = [[1,2,3,4],[5,6,7,8]]\n",
    "arr2 = np.array(data2)\n",
    "arr2"
   ]
  },
  {
   "cell_type": "code",
   "execution_count": 21,
   "id": "59670130",
   "metadata": {},
   "outputs": [
    {
     "name": "stdout",
     "output_type": "stream",
     "text": [
      "2 \n",
      "\n",
      "(2, 4)\n"
     ]
    }
   ],
   "source": [
    "print(arr2.ndim,'\\n')\n",
    "print(arr2.shape)"
   ]
  },
  {
   "cell_type": "code",
   "execution_count": 22,
   "id": "8bb10f8b",
   "metadata": {},
   "outputs": [
    {
     "name": "stdout",
     "output_type": "stream",
     "text": [
      "[1 2 3] <class 'numpy.ndarray'>\n",
      "(3,)\n"
     ]
    }
   ],
   "source": [
    "# 1차원 배열로 3개의 데이터\n",
    "arr1 = np.array([1,2,3])\n",
    "print(arr1,type(arr1))\n",
    "print(arr1.shape)"
   ]
  },
  {
   "cell_type": "markdown",
   "id": "55f75f41",
   "metadata": {},
   "source": [
    "### 배열 생성 및 초기화\n",
    "\n",
    "- Numpy는 원하는 shape로 배열을 설정하고 각 요소를 특정 값으로 초기화하는 zeros,ones,full,eye함수 제공\n",
    "- 파라미터로 입력한 배열과 같은 shape의 배열을 만드는 zeros_like, ones_like, full_like 함수도 제공"
   ]
  },
  {
   "cell_type": "code",
   "execution_count": 25,
   "id": "b71ebb5f",
   "metadata": {},
   "outputs": [
    {
     "name": "stdout",
     "output_type": "stream",
     "text": [
      "[0. 0. 0. 0. 0. 0. 0. 0. 0. 0.]\n",
      "[[0. 0. 0. 0. 0. 0.]\n",
      " [0. 0. 0. 0. 0. 0.]\n",
      " [0. 0. 0. 0. 0. 0.]]\n",
      "[[[0. 0.]\n",
      "  [0. 0.]\n",
      "  [0. 0.]]\n",
      "\n",
      " [[0. 0.]\n",
      "  [0. 0.]\n",
      "  [0. 0.]]]\n"
     ]
    }
   ],
   "source": [
    "print(np.zeros(10))\n",
    "print(np.zeros((3,6)))\n",
    "print(np.zeros((2,3,2)))"
   ]
  },
  {
   "cell_type": "code",
   "execution_count": 26,
   "id": "1b8926fc",
   "metadata": {},
   "outputs": [
    {
     "data": {
      "text/plain": [
       "array([[[1., 1., 1., 1.],\n",
       "        [1., 1., 1., 1.],\n",
       "        [1., 1., 1., 1.]],\n",
       "\n",
       "       [[1., 1., 1., 1.],\n",
       "        [1., 1., 1., 1.],\n",
       "        [1., 1., 1., 1.]]])"
      ]
     },
     "execution_count": 26,
     "metadata": {},
     "output_type": "execute_result"
    }
   ],
   "source": [
    "np.ones((2,3,4))"
   ]
  },
  {
   "cell_type": "code",
   "execution_count": 31,
   "id": "255ba883",
   "metadata": {},
   "outputs": [
    {
     "name": "stdout",
     "output_type": "stream",
     "text": [
      "[[0 0 0 0 0]\n",
      " [0 0 0 0 0]] \n",
      "\n",
      "[[1 1 1 1 1]\n",
      " [1 1 1 1 1]] \n",
      "\n",
      "[[5 5 5 5 5]\n",
      " [5 5 5 5 5]]\n"
     ]
    }
   ],
   "source": [
    "a = np.arange(10).reshape(2,5)\n",
    "z = np.zeros_like(a)\n",
    "o = np.ones_like(a)\n",
    "f = np.full_like(a,5)\n",
    "print(z,'\\n')\n",
    "print(o,'\\n')\n",
    "print(f)"
   ]
  },
  {
   "cell_type": "code",
   "execution_count": 3,
   "id": "258882d7",
   "metadata": {},
   "outputs": [
    {
     "name": "stdout",
     "output_type": "stream",
     "text": [
      "[ 0  1  2  3  4  5  6  7  8  9 10 11 12 13 14 15 16 17 18 19 20 21 22 23\n",
      " 24 25 26 27 28 29] \n",
      "\n",
      "[[ 0  1  2  3  4]\n",
      " [ 5  6  7  8  9]\n",
      " [10 11 12 13 14]\n",
      " [15 16 17 18 19]\n",
      " [20 21 22 23 24]\n",
      " [25 26 27 28 29]] \n",
      "\n",
      "[[[ 0  1  2  3  4]\n",
      "  [ 5  6  7  8  9]]\n",
      "\n",
      " [[10 11 12 13 14]\n",
      "  [15 16 17 18 19]]\n",
      "\n",
      " [[20 21 22 23 24]\n",
      "  [25 26 27 28 29]]] \n",
      "\n"
     ]
    }
   ],
   "source": [
    "# 차원 바꾸기\n",
    "import numpy as np\n",
    "ar = np.arange(30)\n",
    "ar1 = ar\n",
    "print(ar1,'\\n')\n",
    "ar2 = ar.reshape(6,5)\n",
    "ar3 = ar.reshape(3,2,5)\n",
    "print(ar2,'\\n')\n",
    "print(ar3,'\\n')"
   ]
  },
  {
   "cell_type": "code",
   "execution_count": 4,
   "id": "e9c19494",
   "metadata": {},
   "outputs": [
    {
     "name": "stdout",
     "output_type": "stream",
     "text": [
      "[ 0  1  2  3  4  5  6  7  8  9 10 11 12 13 14 15 16 17 18 19 20 21 22 23\n",
      " 24 25 26 27 28 29]\n"
     ]
    }
   ],
   "source": [
    "# reshape(-1,-1) 이용, 차원 변경 \n",
    "print(ar1)"
   ]
  },
  {
   "cell_type": "code",
   "execution_count": 7,
   "id": "a22197e3",
   "metadata": {},
   "outputs": [
    {
     "name": "stdout",
     "output_type": "stream",
     "text": [
      "[[ 0  1  2  3  4  5  6  7  8  9 10 11 12 13 14 15 16 17 18 19 20 21 22 23\n",
      "  24 25 26 27 28 29]]\n",
      "[[[ 0  1  2  3  4  5  6  7  8  9]\n",
      "  [10 11 12 13 14 15 16 17 18 19]\n",
      "  [20 21 22 23 24 25 26 27 28 29]]]\n"
     ]
    }
   ],
   "source": [
    "ar2 = ar1.reshape(-1,30)\n",
    "print(ar2)\n",
    "ar3 = ar2.reshape(-1,3,10)\n",
    "print(ar3)"
   ]
  },
  {
   "cell_type": "markdown",
   "id": "0749aca3",
   "metadata": {},
   "source": [
    "### 과제(7월5일)-2\n",
    "- 2차원을 1,3차원으로 변경하여 출력하세요\n",
    "- 3차원을 1,2차원으로 변경하여 출력하세요.(데이터는 알아서 만들도록)"
   ]
  },
  {
   "cell_type": "code",
   "execution_count": 10,
   "id": "b839f36c",
   "metadata": {
    "scrolled": true
   },
   "outputs": [
    {
     "data": {
      "text/plain": [
       "array([ 0,  1,  2,  3,  4,  5,  6,  7,  8,  9, 10, 11, 12, 13, 14, 15, 16,\n",
       "       17, 18, 19, 20, 21, 22, 23, 24, 25, 26, 27, 28, 29])"
      ]
     },
     "metadata": {},
     "output_type": "display_data"
    },
    {
     "data": {
      "text/plain": [
       "array([[[ 0,  1,  2,  3,  4],\n",
       "        [ 5,  6,  7,  8,  9]],\n",
       "\n",
       "       [[10, 11, 12, 13, 14],\n",
       "        [15, 16, 17, 18, 19]],\n",
       "\n",
       "       [[20, 21, 22, 23, 24],\n",
       "        [25, 26, 27, 28, 29]]])"
      ]
     },
     "metadata": {},
     "output_type": "display_data"
    }
   ],
   "source": [
    "# 2차원을 1,3차원으로 변경하여 출력하세요\n",
    "ar2d=np.arange(30).reshape(6,5)\n",
    "ar2_1d=ar2d.reshape(-1)\n",
    "ar2_3d=ar2d.reshape(-1,2,5)\n",
    "display(ar2_1d)\n",
    "display(ar2_3d)"
   ]
  },
  {
   "cell_type": "code",
   "execution_count": 9,
   "id": "0d3e31ba",
   "metadata": {},
   "outputs": [
    {
     "data": {
      "text/plain": [
       "array([0, 1, 2, 3, 4, 5, 6, 7])"
      ]
     },
     "metadata": {},
     "output_type": "display_data"
    },
    {
     "data": {
      "text/plain": [
       "array([[0, 1, 2, 3],\n",
       "       [4, 5, 6, 7]])"
      ]
     },
     "metadata": {},
     "output_type": "display_data"
    }
   ],
   "source": [
    "# 3차원을 1,2차원으로 변경하여 출력하세요.(데이터는 알아서 만들도록)\n",
    "ar3d=np.arange(8).reshape(2,2,2)\n",
    "ar3d_1=ar3d.reshape(-1)\n",
    "ar3d_2=ar3d.reshape(-1,4)\n",
    "display(ar3d_1)\n",
    "display(ar3d_2)"
   ]
  },
  {
   "cell_type": "markdown",
   "id": "d6d644c8",
   "metadata": {},
   "source": [
    "# 행렬의 종류\n",
    "\n",
    "https://math-development-geometry.tistory.com/52\n",
    "\n",
    "- 정방행렬은 행과 열의 수가 같은 행렬\n",
    "- 대각행렬은 주대각선 원소를 제외한 모든 원소들이 0인 정방행렬\n",
    "- 삼각행렬은 주대각선 원소를 기준으로 위 또는 아래에 있는 성분이 모두 0인 정방행렬\n",
    "- 항등행렬은 행렬 곱셈 연산에 항등원으로 작용하는 행렬\n",
    "- 영행렬은 모든 원소가 0인 행렬로 곱셈 연산에서 영원으로 작용하는 행렬\n",
    "- 전치행렬은 주대각선 원소를 기준으로 행과 열을 바꿔주는 행렬\n",
    "- 직교행렬은 행렬 A의 역행렬이 A의 전치행렬이고 A의 전치행렬과 A 행렬을 곱하였을때 항등행렬이 나오는 행렬\n"
   ]
  },
  {
   "cell_type": "code",
   "execution_count": 38,
   "id": "6c151166",
   "metadata": {},
   "outputs": [
    {
     "data": {
      "text/plain": [
       "array([[7, 7],\n",
       "       [7, 7]])"
      ]
     },
     "execution_count": 38,
     "metadata": {},
     "output_type": "execute_result"
    }
   ],
   "source": [
    "# 정방행렬 (행과열 같음)\n",
    "a= np.full((2,2),7)\n",
    "a"
   ]
  },
  {
   "cell_type": "code",
   "execution_count": 40,
   "id": "d30cdb30",
   "metadata": {},
   "outputs": [
    {
     "data": {
      "text/plain": [
       "array([[1., 0., 0.],\n",
       "       [0., 1., 0.],\n",
       "       [0., 0., 1.]])"
      ]
     },
     "execution_count": 40,
     "metadata": {},
     "output_type": "execute_result"
    }
   ],
   "source": [
    "# 항등행렬, 단위행렬\n",
    "arr= np.eye(3)\n",
    "arr"
   ]
  },
  {
   "cell_type": "code",
   "execution_count": 42,
   "id": "920ea218",
   "metadata": {},
   "outputs": [
    {
     "data": {
      "text/plain": [
       "array([ 0.        ,  1.11111111,  2.22222222,  3.33333333,  4.44444444,\n",
       "        5.55555556,  6.66666667,  7.77777778,  8.88888889, 10.        ])"
      ]
     },
     "execution_count": 42,
     "metadata": {},
     "output_type": "execute_result"
    }
   ],
   "source": [
    "# 0-10을 균등하게 50개로 나누어줌\n",
    "np.linspace(0,10,10)"
   ]
  },
  {
   "cell_type": "code",
   "execution_count": 45,
   "id": "ea656ce7",
   "metadata": {},
   "outputs": [
    {
     "data": {
      "text/plain": [
       "(array([0.  , 0.25, 0.5 , 0.75, 1.  ]), 0.25)"
      ]
     },
     "execution_count": 45,
     "metadata": {},
     "output_type": "execute_result"
    }
   ],
   "source": [
    "np.linspace(0,1,5,retstep=True)  # retstep -> 간격 표시"
   ]
  },
  {
   "cell_type": "code",
   "execution_count": 46,
   "id": "9bdc734a",
   "metadata": {},
   "outputs": [
    {
     "data": {
      "text/plain": [
       "[<matplotlib.lines.Line2D at 0x18eb3f54970>]"
      ]
     },
     "execution_count": 46,
     "metadata": {},
     "output_type": "execute_result"
    },
    {
     "data": {
      "image/png": "[encoded data removed]",
      "text/plain": [
       "<Figure size 432x288 with 1 Axes>"
      ]
     },
     "metadata": {
      "needs_background": "light"
     },
     "output_type": "display_data"
    }
   ],
   "source": [
    "import matplotlib.pyplot as plt\n",
    "x = np.linspace(0,1)\n",
    "y = np.linspace(0,50)\n",
    "plt.plot(x,y,'o')"
   ]
  },
  {
   "cell_type": "code",
   "execution_count": 47,
   "id": "7eeae427",
   "metadata": {},
   "outputs": [
    {
     "data": {
      "text/plain": [
       "[<matplotlib.lines.Line2D at 0x18eb46d6b20>]"
      ]
     },
     "execution_count": 47,
     "metadata": {},
     "output_type": "execute_result"
    },
    {
     "data": {
      "image/png": "[encoded data removed]",
      "text/plain": [
       "<Figure size 432x288 with 1 Axes>"
      ]
     },
     "metadata": {
      "needs_background": "light"
     },
     "output_type": "display_data"
    }
   ],
   "source": [
    "x = np.linspace(0,20,20)\n",
    "y = np.linspace(0.1,1,20)\n",
    "plt.plot(x,y,'o')"
   ]
  },
  {
   "cell_type": "code",
   "execution_count": 49,
   "id": "ea4a4c2d",
   "metadata": {},
   "outputs": [
    {
     "name": "stdout",
     "output_type": "stream",
     "text": [
      "0.0999999993810619\n",
      "1.0\n"
     ]
    },
    {
     "data": {
      "text/plain": [
       "array([ 1.25892541,  1.40400425,  1.565802  ,  1.74624535,  1.94748304,\n",
       "        2.1719114 ,  2.42220294,  2.70133812,  3.0126409 ,  3.35981829,\n",
       "        3.74700446,  4.17881006,  4.66037703,  5.19743987,  5.79639395,\n",
       "        6.46437163,  7.2093272 ,  8.04013161,  8.9666781 , 10.        ])"
      ]
     },
     "execution_count": 49,
     "metadata": {},
     "output_type": "execute_result"
    }
   ],
   "source": [
    "print(np.log10(1.25892541))\n",
    "print(np.log10(10))\n",
    "np.logspace(0.1,1,20)"
   ]
  },
  {
   "cell_type": "code",
   "execution_count": 50,
   "id": "71b2f69e",
   "metadata": {},
   "outputs": [
    {
     "data": {
      "text/plain": [
       "[<matplotlib.lines.Line2D at 0x18eb4758c70>]"
      ]
     },
     "execution_count": 50,
     "metadata": {},
     "output_type": "execute_result"
    },
    {
     "data": {
      "image/png": "[encoded data removed]",
      "text/plain": [
       "<Figure size 432x288 with 1 Axes>"
      ]
     },
     "metadata": {
      "needs_background": "light"
     },
     "output_type": "display_data"
    }
   ],
   "source": [
    "x = np.linspace(0,20,20)\n",
    "y = np.logspace(0.1,1,20)\n",
    "plt.plot(x,y,'o')"
   ]
  },
  {
   "cell_type": "markdown",
   "id": "ac3b503c",
   "metadata": {},
   "source": [
    "ndarray 데이터 형태 지정 및 변경\n",
    "    <img src = '데이터형태.jpg' STYLE = 'width:500XP;'>"
   ]
  },
  {
   "cell_type": "code",
   "execution_count": 57,
   "id": "72808671",
   "metadata": {},
   "outputs": [
    {
     "name": "stdout",
     "output_type": "stream",
     "text": [
      "int32\n"
     ]
    },
    {
     "data": {
      "text/plain": [
       "dtype('float64')"
      ]
     },
     "execution_count": 57,
     "metadata": {},
     "output_type": "execute_result"
    }
   ],
   "source": [
    "arr = np.array([1,2,3,4,5])\n",
    "print(arr.dtype)\n",
    "float_arr = arr.astype(np.float64)\n",
    "float_arr.dtype"
   ]
  },
  {
   "cell_type": "code",
   "execution_count": 60,
   "id": "c736485e",
   "metadata": {},
   "outputs": [
    {
     "name": "stdout",
     "output_type": "stream",
     "text": [
      "[b'1' b'2' b'3' b'4' b'5'] |S1\n"
     ]
    }
   ],
   "source": [
    "numeric_string = np.array([1,2,3,4,5],dtype='S') # S : 바이트 문자열\n",
    "print(numeric_string, numeric_string.dtype)"
   ]
  },
  {
   "cell_type": "code",
   "execution_count": 63,
   "id": "a4aef31b",
   "metadata": {},
   "outputs": [
    {
     "name": "stdout",
     "output_type": "stream",
     "text": [
      "[1 2 3 4 5] int32\n"
     ]
    }
   ],
   "source": [
    "numeric_string.astype(float)\n",
    "num = numeric_string.astype(int)\n",
    "print(num, num.dtype)"
   ]
  },
  {
   "cell_type": "code",
   "execution_count": 152,
   "id": "790c4595",
   "metadata": {},
   "outputs": [
    {
     "name": "stdout",
     "output_type": "stream",
     "text": [
      "[[1 2 1]\n",
      " [2 2 3]\n",
      " [1 3 1]] \n",
      "\n",
      "[[ 7. -1. -4.]\n",
      " [-1.  0.  1.]\n",
      " [-4.  1.  2.]]\n"
     ]
    }
   ],
   "source": [
    "# 역행렬 : 어떤 행렬 A와 곱했을 때 곱셈에 대한 항등원인 항등행렬 E가 나오는 행렬을 행렬 A의 역행렬이라 함\n",
    "np.random.seed(0)\n",
    "mt1 = np.random.randint(1,4,size=(3,3))\n",
    "print(mt1,'\\n')\n",
    "mt2 = np.linalg.inv(mt1)\n",
    "print(mt2)"
   ]
  },
  {
   "cell_type": "code",
   "execution_count": 153,
   "id": "54ddb15a",
   "metadata": {},
   "outputs": [
    {
     "data": {
      "text/plain": [
       "array([[1., 0., 0.],\n",
       "       [0., 1., 0.],\n",
       "       [0., 0., 1.]])"
      ]
     },
     "execution_count": 153,
     "metadata": {},
     "output_type": "execute_result"
    }
   ],
   "source": [
    "# 항등행렬\n",
    "np.dot(mt1,mt2)  # 대각선 다 1 나머지 0 항등행렬"
   ]
  },
  {
   "cell_type": "markdown",
   "id": "b7d14a45",
   "metadata": {},
   "source": [
    "### 과제(7월5일)-3\n",
    "- 두개의 배열을 생성하여 4칙 연산을 수행하세요"
   ]
  },
  {
   "cell_type": "code",
   "execution_count": 202,
   "id": "020e0141",
   "metadata": {},
   "outputs": [
    {
     "name": "stdout",
     "output_type": "stream",
     "text": [
      "[10 12 14 16 18 20 22 24 26 28]\n",
      "[-10 -10 -10 -10 -10 -10 -10 -10 -10 -10]\n",
      "[  0  11  24  39  56  75  96 119 144 171]\n",
      "[0.   0.09 0.17 0.23 0.29 0.33 0.38 0.41 0.44 0.47]\n"
     ]
    }
   ],
   "source": [
    "np.random.seed(0)\n",
    "ar1 = np.arange(10)\n",
    "ar2 = np.arange(10,20)\n",
    "print(ar1+ar2)\n",
    "print(ar1-ar2)\n",
    "print(ar1*ar2)\n",
    "print(np.round((ar1/ar2),2))"
   ]
  },
  {
   "cell_type": "markdown",
   "id": "0f97f5b2",
   "metadata": {},
   "source": [
    "## 뷰(view) : \n",
    "넘파이의 ndarray(이하 배열)을 슬라이싱할 때 파이썬의 리스트(list)와 다르게 원본의 참조가 생성\n",
    "\n",
    "numpy는 대용량 데이터 처리를 염두에 두고 대용량 데이터의 슬라이싱이 빈번하게 일어나는 복잡한 코드를 실행시키는데 있어서 복사가 남발되면 메모리 문제를 일으킬 소지가 많기 때문에 이렇게 설계\n",
    "\n",
    "- 복사가 아니고 뷰(참조의 개념)이기 때문에 원본이 바뀌면 이 참조본도 따라서 바뀜\n",
    "- 리스트의 슬라이싱에서는 복사본이 생성되는 것과는 다른 동작이기 때문에 주의\n",
    "- 슬라이싱의 복사본을 생성하고 싶다면 copy() 속성을 이용\n",
    "\n",
    "http://taewan.kim/post/numpy_cheat_sheet/\n"
   ]
  },
  {
   "cell_type": "code",
   "execution_count": 64,
   "id": "ae8d03f4",
   "metadata": {},
   "outputs": [
    {
     "name": "stdout",
     "output_type": "stream",
     "text": [
      "[1, 2, 3, 4, 5, 6, 7, 8, 9, 10] \n",
      "\n",
      "[1, 2, 3, 4, 5] \n",
      "\n",
      "[1, 0, 3, 4, 5] \n",
      "\n",
      "[1, 2, 3, 4, 5, 6, 7, 8, 9, 10]\n"
     ]
    }
   ],
   "source": [
    "li = list(np.arange(1,11))\n",
    "print(li,'\\n')\n",
    "li_slice = li[:5].copy()\n",
    "print(li_slice,'\\n')\n",
    "li_slice[1]=0\n",
    "print(li_slice,'\\n')\n",
    "print(li)"
   ]
  },
  {
   "cell_type": "code",
   "execution_count": 67,
   "id": "7ce7a1c0",
   "metadata": {},
   "outputs": [
    {
     "name": "stdout",
     "output_type": "stream",
     "text": [
      "[0 1 2 3 4 5 6 7 8 9] \n",
      "\n",
      "[5 6 7] \n",
      "\n",
      "[12 12 12] \n",
      "\n",
      "[ 0  1  2  3  4 12 12 12  8  9]\n"
     ]
    }
   ],
   "source": [
    "# 뷰는 원본을 변경\n",
    "arr = np.arange(10)\n",
    "print(arr,'\\n')\n",
    "li_slice = arr[5:8]\n",
    "print(li_slice,'\\n')\n",
    "li_slice[:] = 12\n",
    "print(li_slice,'\\n')\n",
    "print(arr)"
   ]
  },
  {
   "cell_type": "markdown",
   "id": "9c0d0b23",
   "metadata": {},
   "source": [
    "### 과제(7월5일)-4\n",
    "- array2d에서 아래와 같이 출력하세요."
   ]
  },
  {
   "cell_type": "code",
   "execution_count": 167,
   "id": "19624736",
   "metadata": {
    "collapsed": true
   },
   "outputs": [
    {
     "data": {
      "text/plain": [
       "'\\n출력\\n\\n[[1 2]\\n[4 5]]\\n\\n(2가지 방법)\\n[[4 5 6]\\n[7 8 9]]\\n\\n[[1 2 3]\\n[4 5 6]\\n[7 8 9]]\\n\\n[[2 3]\\n[5 6]]\\n\\n[1 4]\\n'"
      ]
     },
     "execution_count": 167,
     "metadata": {},
     "output_type": "execute_result"
    }
   ],
   "source": [
    "'''\n",
    "출력\n",
    "\n",
    "[[1 2]\n",
    "[4 5]]\n",
    "\n",
    "(2가지 방법)\n",
    "[[4 5 6]\n",
    "[7 8 9]]\n",
    "\n",
    "[[1 2 3]\n",
    "[4 5 6]\n",
    "[7 8 9]]\n",
    "\n",
    "[[2 3]\n",
    "[5 6]]\n",
    "\n",
    "[1 4]\n",
    "'''"
   ]
  },
  {
   "cell_type": "code",
   "execution_count": 17,
   "id": "9f682a56",
   "metadata": {
    "scrolled": true
   },
   "outputs": [
    {
     "name": "stdout",
     "output_type": "stream",
     "text": [
      "[[1 2]\n",
      " [4 5]]\n",
      "[[4 5 6]\n",
      " [7 8 9]]\n",
      "[[4 5 6]\n",
      " [7 8 9]]\n",
      "[[1 2 3]\n",
      " [4 5 6]\n",
      " [7 8 9]]\n",
      "[[2 3]\n",
      " [5 6]]\n",
      "\n",
      "[1, 4]\n",
      "[1 4]\n",
      "[[1]\n",
      " [4]]\n"
     ]
    }
   ],
   "source": [
    "arr2d = np.arange(1,10).reshape(3,3)\n",
    "print(arr2d[:2,:2])\n",
    "print(arr2d[1:,:])\n",
    "print(arr2d[-2:,:])\n",
    "print(arr2d)\n",
    "print(arr2d[:2,1:])\n",
    "print()\n",
    "\n",
    "d= arr2d[:2,:1].T.tolist()\n",
    "print(np.concatenate(d).tolist()) #concatenate() 2차원 데이터 연겨래서 1차원리스트로\n",
    "print(arr2d[:2,0])\n",
    "print(arr2d[:2,:1])"
   ]
  },
  {
   "cell_type": "code",
   "execution_count": 170,
   "id": "9c82e135",
   "metadata": {},
   "outputs": [
    {
     "data": {
      "text/plain": [
       "array([[1, 2, 3],\n",
       "       [4, 5, 6],\n",
       "       [7, 8, 9]])"
      ]
     },
     "execution_count": 170,
     "metadata": {},
     "output_type": "execute_result"
    }
   ],
   "source": [
    "arr2d"
   ]
  },
  {
   "cell_type": "code",
   "execution_count": null,
   "id": "e1ec8dbc",
   "metadata": {},
   "outputs": [],
   "source": []
  },
  {
   "cell_type": "code",
   "execution_count": null,
   "id": "10a77c0b",
   "metadata": {},
   "outputs": [],
   "source": []
  },
  {
   "cell_type": "code",
   "execution_count": 71,
   "id": "9c0e6ccd",
   "metadata": {},
   "outputs": [
    {
     "name": "stdout",
     "output_type": "stream",
     "text": [
      "[[1, 2, 3], [4, 5, 6], [7, 8, 9]] <class 'list'>\n"
     ]
    }
   ],
   "source": [
    "# 배열을 리스트로 변환\n",
    "print(arr2d.tolist(),type(arr2d.tolist()))"
   ]
  },
  {
   "cell_type": "code",
   "execution_count": 74,
   "id": "fc575229",
   "metadata": {},
   "outputs": [
    {
     "name": "stdout",
     "output_type": "stream",
     "text": [
      "[1 2 3 4 5 6 7 8 9] \n",
      "\n",
      "[6 7 8 9] \n",
      "\n",
      "[False False False False False  True  True  True  True]\n"
     ]
    }
   ],
   "source": [
    "# boolean indexing\n",
    "arr1d = np.arange(1,10)\n",
    "print(arr1d,'\\n')\n",
    "arr1 = arr1d[arr1d>5]\n",
    "print(arr1,'\\n')\n",
    "print(arr1d >5)"
   ]
  },
  {
   "cell_type": "markdown",
   "id": "e6a3e122",
   "metadata": {},
   "source": [
    "### 과제(7월5일)-5\n",
    "- 1-100까지 정수에서 3의 배수인 것만을 출력(for문과 배열 두가지 방식)\n",
    "- 표준정규분포로 구성된 5행5열 다차원 배열을 생성하고 함수를 이용하여 평균과 표준편차를 구하시오.\n",
    "- 인덱싱을 이용하여 np.arange(10)을 내림차순으로 정렬하세요.\n",
    "- [1,2,0,0,4,0]에서 zero가 아닌 인덱스를 배열 형태로 출력하세요.\n",
    "- np.arange(15),reshape(3,5)배열을 전치하여 출력하세요."
   ]
  },
  {
   "cell_type": "code",
   "execution_count": 89,
   "id": "c593d39d",
   "metadata": {
    "scrolled": true
   },
   "outputs": [
    {
     "name": "stdout",
     "output_type": "stream",
     "text": [
      "[3, 6, 9, 12, 15, 18, 21, 24, 27, 30, 33, 36, 39, 42, 45, 48, 51, 54, 57, 60, 63, 66, 69, 72, 75, 78, 81, 84, 87, 90, 93, 96, 99]\n",
      "[ 3  6  9 12 15 18 21 24 27 30 33 36 39 42 45 48 51 54 57 60 63 66 69 72\n",
      " 75 78 81 84 87 90 93 96 99]\n"
     ]
    }
   ],
   "source": [
    "# Q. 1-100까지 정수에서 3의 배수인 것만을 출력(for문과 배열 두가지 방식)\n",
    "arrt=np.arange(1,100)\n",
    "li=[]\n",
    "for i in arrt:\n",
    "    if i%3==0: li.append(i)\n",
    "print(li)\n",
    "arrt1=arrt[arrt % 3==0]\n",
    "print(arrt1)"
   ]
  },
  {
   "cell_type": "code",
   "execution_count": 97,
   "id": "d0181e57",
   "metadata": {},
   "outputs": [
    {
     "name": "stdout",
     "output_type": "stream",
     "text": [
      "-0.012729887513152769\n",
      "1.0759512077667488\n"
     ]
    }
   ],
   "source": [
    "# 표준정규분포로 구성된 5행5열 다차원 배열을 생성하고 함수를 이용하여 평균과 표준편차를 구하시오.\n",
    "np.random.seed(1)\n",
    "arr = np.random.randn(5,5)\n",
    "print(arr.mean()) # np.mean(arr)\n",
    "print(arr.std()) # np.std(arr)"
   ]
  },
  {
   "cell_type": "code",
   "execution_count": 100,
   "id": "abd78aef",
   "metadata": {},
   "outputs": [
    {
     "data": {
      "text/plain": [
       "array([9, 8, 7, 6, 5, 4, 3, 2, 1, 0])"
      ]
     },
     "execution_count": 100,
     "metadata": {},
     "output_type": "execute_result"
    }
   ],
   "source": [
    "# 인덱싱을 이용하여 np.arange(10)을 내림차순으로 정렬하세요.\n",
    "arr_3=np.arange(10)\n",
    "arr_3[::-1]"
   ]
  },
  {
   "cell_type": "code",
   "execution_count": 104,
   "id": "569f409f",
   "metadata": {},
   "outputs": [
    {
     "data": {
      "text/plain": [
       "array([1, 2, 4])"
      ]
     },
     "execution_count": 104,
     "metadata": {},
     "output_type": "execute_result"
    }
   ],
   "source": [
    "#[1,2,0,0,4,0]에서 zero가 아닌 인덱스를 배열 형태로 출력하세요.\n",
    "ar=np.array([1,2,0,0,4,0])\n",
    "ar2 = ar[ar!=0]\n",
    "ar2"
   ]
  },
  {
   "cell_type": "code",
   "execution_count": 159,
   "id": "a7d4e797",
   "metadata": {},
   "outputs": [
    {
     "data": {
      "text/plain": [
       "array([[ 0,  5, 10],\n",
       "       [ 1,  6, 11],\n",
       "       [ 2,  7, 12],\n",
       "       [ 3,  8, 13],\n",
       "       [ 4,  9, 14]])"
      ]
     },
     "execution_count": 159,
     "metadata": {},
     "output_type": "execute_result"
    }
   ],
   "source": [
    "# np.arange(15),reshape(3,5)배열을 전치하여 출력하세요  3가지방법\n",
    "arrt5 = np.arange(15).reshape(3,5)\n",
    "# np.transpose(arrt5)\n",
    "# arrt5.T\n",
    "np.swapaxes(arrt5,0,1)"
   ]
  },
  {
   "cell_type": "markdown",
   "id": "a117f70e",
   "metadata": {},
   "source": [
    "**!!!!!!!!!!!!!!!!!!!!!!!!!!!!!!!!!!!!!!!!!!!!!!!!!!!!!!!!!!!!!!!!!!!!!!!!!!!!!!!!!!!!!!!!!!!!!!!!!"
   ]
  },
  {
   "cell_type": "code",
   "execution_count": 79,
   "id": "f121a87f",
   "metadata": {},
   "outputs": [
    {
     "data": {
      "text/plain": [
       "array([[6, 1, 2, 9, 9],\n",
       "       [4, 1, 6, 5, 2],\n",
       "       [5, 3, 4, 9, 9],\n",
       "       [1, 5, 7, 3, 9],\n",
       "       [5, 5, 3, 4, 7]])"
      ]
     },
     "execution_count": 79,
     "metadata": {},
     "output_type": "execute_result"
    }
   ],
   "source": [
    "arr =np.random.randint(1,10,size=(5,5))\n",
    "arr"
   ]
  },
  {
   "cell_type": "code",
   "execution_count": 81,
   "id": "90951901",
   "metadata": {},
   "outputs": [
    {
     "data": {
      "text/plain": [
       "array([[6, 4, 5, 1, 5],\n",
       "       [1, 1, 3, 5, 5],\n",
       "       [2, 6, 4, 7, 3],\n",
       "       [9, 5, 9, 3, 4],\n",
       "       [9, 2, 9, 9, 7]])"
      ]
     },
     "execution_count": 81,
     "metadata": {},
     "output_type": "execute_result"
    }
   ],
   "source": [
    "#arr.T   (행열바뀜 ,전치)\n",
    "np.transpose(arr)"
   ]
  },
  {
   "cell_type": "code",
   "execution_count": 82,
   "id": "7ed39e98",
   "metadata": {},
   "outputs": [
    {
     "data": {
      "text/plain": [
       "array([[203, 100, 203, 133, 140],\n",
       "       [100,  82, 110,  84,  77],\n",
       "       [203, 110, 212, 156, 151],\n",
       "       [133,  84, 156, 165, 126],\n",
       "       [140,  77, 151, 126, 124]])"
      ]
     },
     "execution_count": 82,
     "metadata": {},
     "output_type": "execute_result"
    }
   ],
   "source": [
    "# 행과 열의 곱\n",
    "np.dot(arr,arr.T)"
   ]
  },
  {
   "cell_type": "code",
   "execution_count": 83,
   "id": "bba60527",
   "metadata": {},
   "outputs": [
    {
     "data": {
      "text/plain": [
       "array([[203, 100, 203, 133, 140],\n",
       "       [100,  82, 110,  84,  77],\n",
       "       [203, 110, 212, 156, 151],\n",
       "       [133,  84, 156, 165, 126],\n",
       "       [140,  77, 151, 126, 124]])"
      ]
     },
     "execution_count": 83,
     "metadata": {},
     "output_type": "execute_result"
    }
   ],
   "source": [
    "# 이것도 위와 같음 나중에 더심화가정에서 달라짐 matmul을 더씀\n",
    "np.matmul(arr,arr.T)"
   ]
  },
  {
   "cell_type": "code",
   "execution_count": 88,
   "id": "3b6cb4fd",
   "metadata": {},
   "outputs": [
    {
     "name": "stdout",
     "output_type": "stream",
     "text": [
      "[[0 1 2]\n",
      " [3 4 5]] (2, 3) \n",
      "\n",
      "[[0 3]\n",
      " [1 4]\n",
      " [2 5]] (3, 2) \n",
      "\n",
      "[[0 3]\n",
      " [1 4]\n",
      " [2 5]] (3, 2) \n",
      "\n",
      "[[0 3]\n",
      " [1 4]\n",
      " [2 5]] (3, 2) \n",
      "\n"
     ]
    }
   ],
   "source": [
    "# 행과 열을 스왑 하는것 swapaxes\n",
    "a = np.arange(6).reshape(2,3)\n",
    "print(a,a.shape,'\\n')\n",
    "y = np.swapaxes(a,0,1)\n",
    "print(y,y.shape,'\\n')\n",
    "y = np.transpose(a)\n",
    "print(y,y.shape,'\\n')\n",
    "y = a.T\n",
    "print(y,y.shape,'\\n')"
   ]
  },
  {
   "cell_type": "code",
   "execution_count": 108,
   "id": "1dba8cf0",
   "metadata": {},
   "outputs": [
    {
     "data": {
      "text/plain": [
       "array([[[0, 1, 2],\n",
       "        [3, 4, 5]]])"
      ]
     },
     "execution_count": 108,
     "metadata": {},
     "output_type": "execute_result"
    }
   ],
   "source": [
    "#(0,1,2)\n",
    "a = np.arange(6).reshape(1,2,3)\n",
    "a"
   ]
  },
  {
   "cell_type": "code",
   "execution_count": 110,
   "id": "4da630c0",
   "metadata": {},
   "outputs": [
    {
     "name": "stdout",
     "output_type": "stream",
     "text": [
      "[[[0 1 2]]\n",
      "\n",
      " [[3 4 5]]] (2, 1, 3) \n",
      "\n",
      "[[[0 1 2]]\n",
      "\n",
      " [[3 4 5]]] (2, 1, 3)\n"
     ]
    }
   ],
   "source": [
    "# 3차원가 2차원을 바꾸라는 의미(1,2,3) -> (2,1,3)\n",
    "y = np.transpose(a,(1,0,2))\n",
    "print(y,y.shape,'\\n')\n",
    "y = np.swapaxes(a,0,1)\n",
    "print(y,y.shape)"
   ]
  },
  {
   "cell_type": "markdown",
   "id": "56355abb",
   "metadata": {},
   "source": [
    "### 과제(7월5일)-6\n",
    "- (1,2,3)  -> (2,3,1)으로 차원을 변경하세요."
   ]
  },
  {
   "cell_type": "code",
   "execution_count": 112,
   "id": "2e63423c",
   "metadata": {},
   "outputs": [
    {
     "name": "stdout",
     "output_type": "stream",
     "text": [
      "[[[0 1 2]\n",
      "  [3 4 5]]] (1, 2, 3) \n",
      "\n"
     ]
    }
   ],
   "source": [
    "a = np.arange(6).reshape(1,2,3)\n",
    "print(a,a.shape,'\\n')"
   ]
  },
  {
   "cell_type": "code",
   "execution_count": 165,
   "id": "7f18bbd9",
   "metadata": {},
   "outputs": [
    {
     "name": "stdout",
     "output_type": "stream",
     "text": [
      "[[[0]\n",
      "  [1]\n",
      "  [2]]\n",
      "\n",
      " [[3]\n",
      "  [4]\n",
      "  [5]]] (2, 3, 1) \n",
      "\n",
      "[[[0]\n",
      "  [1]\n",
      "  [2]]\n",
      "\n",
      " [[3]\n",
      "  [4]\n",
      "  [5]]] (2, 3, 1) \n",
      "\n"
     ]
    }
   ],
   "source": [
    "y = np.transpose(a,(1,2,0))   # transpose, swapaxes 둘다 0(3차원),1(2차원),2(1차원)차원을 표시\n",
    "print(y,y.shape,'\\n')\n",
    "x = np.swapaxes(a,0,2)\n",
    "x = np.swapaxes(x,0,1)\n",
    "print(x,x.shape,'\\n')\n",
    "d = y.reshape(2,3,1)"
   ]
  },
  {
   "cell_type": "markdown",
   "id": "3f7df2c8",
   "metadata": {},
   "source": [
    "## numpy 제공 함수"
   ]
  },
  {
   "cell_type": "code",
   "execution_count": 116,
   "id": "58ec41fa",
   "metadata": {},
   "outputs": [
    {
     "name": "stdout",
     "output_type": "stream",
     "text": [
      "[[1 2 3]\n",
      " [4 5 6]\n",
      " [7 8 9]] \n",
      "\n",
      "[ 1  3  6 10 15 21 28 36 45] \n",
      "\n"
     ]
    }
   ],
   "source": [
    "# 누적으로 합을 구함\n",
    "arr = np.arange(1,10).reshape(3,3)\n",
    "print(arr,'\\n')\n",
    "print(arr.cumsum(),'\\n')"
   ]
  },
  {
   "cell_type": "code",
   "execution_count": 117,
   "id": "25dac130",
   "metadata": {},
   "outputs": [
    {
     "name": "stdout",
     "output_type": "stream",
     "text": [
      "[[ 1  2  3]\n",
      " [ 5  7  9]\n",
      " [12 15 18]]\n"
     ]
    }
   ],
   "source": [
    "print(arr.cumsum(axis=0))"
   ]
  },
  {
   "cell_type": "code",
   "execution_count": 118,
   "id": "5462dae1",
   "metadata": {},
   "outputs": [
    {
     "name": "stdout",
     "output_type": "stream",
     "text": [
      "[  6 120 504]\n"
     ]
    }
   ],
   "source": [
    "print(arr.prod(axis=1)) # 각 행들 곱함"
   ]
  },
  {
   "cell_type": "code",
   "execution_count": 119,
   "id": "1bc963a7",
   "metadata": {},
   "outputs": [
    {
     "name": "stdout",
     "output_type": "stream",
     "text": [
      "[[  1   2   6]\n",
      " [  4  20 120]\n",
      " [  7  56 504]]\n"
     ]
    }
   ],
   "source": [
    "print(arr.cumprod(axis=1)) # 누적"
   ]
  },
  {
   "cell_type": "code",
   "execution_count": 120,
   "id": "d84d6c05",
   "metadata": {},
   "outputs": [
    {
     "name": "stdout",
     "output_type": "stream",
     "text": [
      "[1 2 0] \n",
      "\n",
      "[1 2 0]\n"
     ]
    }
   ],
   "source": [
    "# 나머지\n",
    "v1 = np.array([15,30,45])\n",
    "v2 = np.array([2,7,9])\n",
    "print(np.mod(v1,v2),'\\n')\n",
    "print(np.remainder(v1,v2))"
   ]
  },
  {
   "cell_type": "code",
   "execution_count": 121,
   "id": "867015fb",
   "metadata": {},
   "outputs": [
    {
     "name": "stdout",
     "output_type": "stream",
     "text": [
      "[1.17647059 0.54054054 1.         0.01      ]\n"
     ]
    }
   ],
   "source": [
    "# 역수 reciprocal\n",
    "value = np.array([0.85,1.85,1,100])\n",
    "print(np.reciprocal(value))"
   ]
  },
  {
   "cell_type": "code",
   "execution_count": 123,
   "id": "3eec5b2f",
   "metadata": {},
   "outputs": [
    {
     "name": "stdout",
     "output_type": "stream",
     "text": [
      "[  4 100 225] \n",
      "\n",
      "[   2  100 3375]\n"
     ]
    }
   ],
   "source": [
    "# 승수 power\n",
    "v1 = np.array([2,10,15])\n",
    "v2 = np.array([1,2,3])\n",
    "print(np.power(v1,2),'\\n')\n",
    "print(np.power(v1,v2))"
   ]
  },
  {
   "cell_type": "code",
   "execution_count": 124,
   "id": "283c1316",
   "metadata": {},
   "outputs": [
    {
     "data": {
      "text/plain": [
       "array([-0.10321885,  0.4105985 ,  0.14404357,  1.45427351,  0.76103773,\n",
       "        0.12167502,  0.44386323,  0.33367433,  1.49407907, -0.20515826])"
      ]
     },
     "execution_count": 124,
     "metadata": {},
     "output_type": "execute_result"
    }
   ],
   "source": [
    "arr = np.random.randn(10)\n",
    "arr"
   ]
  },
  {
   "cell_type": "code",
   "execution_count": 125,
   "id": "d765f6c2",
   "metadata": {},
   "outputs": [
    {
     "data": {
      "text/plain": [
       "8"
      ]
     },
     "execution_count": 125,
     "metadata": {},
     "output_type": "execute_result"
    }
   ],
   "source": [
    "# 양수인 원소의 개수\n",
    "(arr > 0).sum()"
   ]
  },
  {
   "cell_type": "code",
   "execution_count": 126,
   "id": "dc1c17bb",
   "metadata": {},
   "outputs": [
    {
     "data": {
      "text/plain": [
       "True"
      ]
     },
     "execution_count": 126,
     "metadata": {},
     "output_type": "execute_result"
    }
   ],
   "source": [
    "# any 메서드\n",
    "bools = np.array([False,False,True,True])\n",
    "bools.any()"
   ]
  },
  {
   "cell_type": "code",
   "execution_count": 127,
   "id": "553d2586",
   "metadata": {},
   "outputs": [
    {
     "data": {
      "text/plain": [
       "False"
      ]
     },
     "execution_count": 127,
     "metadata": {},
     "output_type": "execute_result"
    }
   ],
   "source": [
    "bools.all()"
   ]
  },
  {
   "cell_type": "code",
   "execution_count": 129,
   "id": "1e520560",
   "metadata": {},
   "outputs": [
    {
     "name": "stdout",
     "output_type": "stream",
     "text": [
      "[[-0.34791215  0.15634897  1.23029068  1.20237985]\n",
      " [-0.38732682 -0.30230275 -1.04855297 -1.42001794]\n",
      " [-1.70627019  1.9507754  -0.50965218 -0.4380743 ]\n",
      " [-1.25279536  0.77749036 -1.61389785 -0.21274028]] \n",
      "\n"
     ]
    },
    {
     "data": {
      "text/plain": [
       "array([[-2,  2,  2,  2],\n",
       "       [-2, -2, -2, -2],\n",
       "       [-2,  2, -2, -2],\n",
       "       [-2,  2, -2, -2]])"
      ]
     },
     "execution_count": 129,
     "metadata": {},
     "output_type": "execute_result"
    }
   ],
   "source": [
    "# numpy.where 함수는 삼항식의 벡터화 버전\n",
    "arr = np.random.randn(4,4)\n",
    "print(arr,'\\n')\n",
    "np.where(arr > 0, 2, -2)  # 삼항식 조건이 새개 0보다 크면 2 아님 -2"
   ]
  },
  {
   "cell_type": "code",
   "execution_count": 131,
   "id": "0bac7edd",
   "metadata": {},
   "outputs": [
    {
     "data": {
      "text/plain": [
       "array([[-0.34791215,  2.        ,  2.        ,  2.        ],\n",
       "       [-0.38732682, -0.30230275, -1.04855297, -1.42001794],\n",
       "       [-1.70627019,  2.        , -0.50965218, -0.4380743 ],\n",
       "       [-1.25279536,  2.        , -1.61389785, -0.21274028]])"
      ]
     },
     "execution_count": 131,
     "metadata": {},
     "output_type": "execute_result"
    }
   ],
   "source": [
    "# Q. arr의 모든 양수를 2로 변경하세요.\n",
    "np.where(arr>0,2,arr)"
   ]
  },
  {
   "cell_type": "code",
   "execution_count": 132,
   "id": "cc908cd4",
   "metadata": {},
   "outputs": [
    {
     "name": "stdout",
     "output_type": "stream",
     "text": [
      "[[1 2 3]\n",
      " [1 2 3]\n",
      " [1 2 3]]\n",
      "[[1 1 1]\n",
      " [2 2 2]\n",
      " [3 3 3]]\n"
     ]
    }
   ],
   "source": [
    "# meshgrid 함수 : 두개의 1차원 배열을 받아서 가능한 모든 (x,y) 짝을 만들 수 있는 2차원 배열 반환\n",
    "x = np.arange(1,4)\n",
    "y = np.arange(1,4)\n",
    "xs,ys = np.meshgrid(x,y)\n",
    "print(xs)\n",
    "print(ys)"
   ]
  },
  {
   "cell_type": "code",
   "execution_count": 135,
   "id": "4660a62a",
   "metadata": {},
   "outputs": [
    {
     "name": "stdout",
     "output_type": "stream",
     "text": [
      "[99 43 78 22 74  1 11 44 59 24] \n",
      "\n",
      "[ 1 11 22 24 43 44 59 74 78 99] \n",
      "\n",
      "[99 43 78 22 74  1 11 44 59 24]\n"
     ]
    }
   ],
   "source": [
    "# np.sort() : 복사본을 반환\n",
    "arr = np.random.randint(1,100,size=10)\n",
    "print(arr,'\\n')\n",
    "print(np.sort(arr),'\\n')   # 원본 바뀌지 않음\n",
    "print(arr)"
   ]
  },
  {
   "cell_type": "code",
   "execution_count": 136,
   "id": "1fc36b43",
   "metadata": {},
   "outputs": [
    {
     "data": {
      "text/plain": [
       "array([ 1, 11, 22, 24, 43, 44, 59, 74, 78, 99])"
      ]
     },
     "execution_count": 136,
     "metadata": {},
     "output_type": "execute_result"
    }
   ],
   "source": [
    "sorted = np.sort(arr)\n",
    "sorted"
   ]
  },
  {
   "cell_type": "code",
   "execution_count": 137,
   "id": "e7467c2b",
   "metadata": {},
   "outputs": [
    {
     "name": "stdout",
     "output_type": "stream",
     "text": [
      "[[ 7  1]\n",
      " [ 8 12]] \n",
      "\n",
      "[[ 8 12]\n",
      " [ 1  7]] \n",
      "\n"
     ]
    }
   ],
   "source": [
    "arr2d = np.array([[8,12],\n",
    "                [7,1]])\n",
    "sort_arr2d_s0 = np.sort(arr2d, axis=0)\n",
    "print(sort_arr2d_s0,'\\n')\n",
    "sort_arr2d_s1 = np.sort(arr2d, axis=1)\n",
    "print(sort_arr2d_s1,'\\n')"
   ]
  },
  {
   "cell_type": "code",
   "execution_count": 139,
   "id": "84e0abbc",
   "metadata": {},
   "outputs": [
    {
     "name": "stdout",
     "output_type": "stream",
     "text": [
      "[-0.22403878 -0.42018339  0.99982969  0.43103415 -0.65091287 -1.49874039] \n",
      "\n"
     ]
    },
    {
     "data": {
      "text/plain": [
       "array([-1.49874039, -0.65091287, -0.42018339, -0.22403878,  0.43103415,\n",
       "        0.99982969])"
      ]
     },
     "execution_count": 139,
     "metadata": {},
     "output_type": "execute_result"
    }
   ],
   "source": [
    "# ndarray.sort() : 원본 반영\n",
    "arr = np.random.randn(6)\n",
    "print(arr,'\\n')\n",
    "arr.sort()\n",
    "arr"
   ]
  },
  {
   "cell_type": "code",
   "execution_count": 141,
   "id": "d810bdc2",
   "metadata": {},
   "outputs": [
    {
     "name": "stdout",
     "output_type": "stream",
     "text": [
      "[[-0.04126386  0.29588432 -0.42527999]\n",
      " [ 1.72763912 -0.86835257 -0.82097758]\n",
      " [-1.09974201  0.08672983  0.45628701]\n",
      " [ 0.4310333   2.07257353 -0.53778512]\n",
      " [-1.3784301  -0.49240425  2.32773811]] \n",
      "\n"
     ]
    },
    {
     "data": {
      "text/plain": [
       "array([[-0.42527999, -0.04126386,  0.29588432],\n",
       "       [-0.86835257, -0.82097758,  1.72763912],\n",
       "       [-1.09974201,  0.08672983,  0.45628701],\n",
       "       [-0.53778512,  0.4310333 ,  2.07257353],\n",
       "       [-1.3784301 , -0.49240425,  2.32773811]])"
      ]
     },
     "execution_count": 141,
     "metadata": {},
     "output_type": "execute_result"
    }
   ],
   "source": [
    "# default는 열기준으로 정렬\n",
    "arr = np.random.randn(5,3)\n",
    "print(arr,'\\n')\n",
    "arr.sort(1)  # (1)열방향->가로 (0) 행방향->세로\n",
    "arr"
   ]
  },
  {
   "cell_type": "code",
   "execution_count": 145,
   "id": "223b0ca0",
   "metadata": {},
   "outputs": [
    {
     "name": "stdout",
     "output_type": "stream",
     "text": [
      "[3 1 9 5] \n",
      "\n",
      "[1 0 3 2]\n"
     ]
    }
   ],
   "source": [
    "# 정렬된 행렬의 인덱스 반환 : 기존 원본 행렬의 원소에 대한 인덱스를 필요로 할 때\n",
    "org_array = np.array([3,1,9,5])\n",
    "sort_indices=np.argsort(org_array)\n",
    "print(org_array,'\\n')\n",
    "print(sort_indices)   # 값의 크기에 따른 인덱스 반환 "
   ]
  },
  {
   "cell_type": "markdown",
   "id": "08a8a5fa",
   "metadata": {},
   "source": [
    "### 과제 7월6일-7"
   ]
  },
  {
   "cell_type": "code",
   "execution_count": 220,
   "id": "ee4bc79e",
   "metadata": {},
   "outputs": [],
   "source": [
    "# Q21. Q20의 df에서 drop_duplicates() 메소드를 사용하여 c2, c3열을 기준으로 중복 행을 제거한 후 df3에 저장하고 출력하세요.\n",
    "# Q33.'./dataset/stock-data.csv'를 데이터프레임으로 불러와서 datetime64 자료형으로 변환한 후에 년, 월, 일로 분리하고 year를 인덱스로 셋팅하여 출력하세요.\n",
    "# Q34. './dataset/stock-data.csv'를 데이터프레임으로 불러와서 datetime64 자료형으로 변환한 후에 Period로 변환하고 년월일 표기 변경하여 년월을 인데스로 셋팅하여 출력하세요.\n",
    "# Q. np.ones((10,10))을 아래와 같이 출력하세요."
   ]
  },
  {
   "cell_type": "code",
   "execution_count": null,
   "id": "27921930",
   "metadata": {},
   "outputs": [],
   "source": [
    "'''\n",
    "array([[1., 1., 1., 1., 1., 1., 1., 1., 1., 1.],\n",
    "       [1., 0., 0., 0., 0., 0., 0., 0., 0., 1.],\n",
    "       [1., 0., 0., 0., 0., 0., 0., 0., 0., 1.],\n",
    "       [1., 0., 0., 0., 0., 0., 0., 0., 0., 1.],\n",
    "       [1., 0., 0., 0., 0., 0., 0., 0., 0., 1.],\n",
    "       [1., 0., 0., 0., 0., 0., 0., 0., 0., 1.],\n",
    "       [1., 0., 0., 0., 0., 0., 0., 0., 0., 1.],\n",
    "       [1., 0., 0., 0., 0., 0., 0., 0., 0., 1.],\n",
    "       [1., 0., 0., 0., 0., 0., 0., 0., 0., 1.],\n",
    "       [1., 1., 1., 1., 1., 1., 1., 1., 1., 1.]])\n",
    "'''"
   ]
  },
  {
   "cell_type": "code",
   "execution_count": 230,
   "id": "9fc57b04",
   "metadata": {},
   "outputs": [
    {
     "data": {
      "text/html": [
       "<div>\n",
       "<style scoped>\n",
       "    .dataframe tbody tr th:only-of-type {\n",
       "        vertical-align: middle;\n",
       "    }\n",
       "\n",
       "    .dataframe tbody tr th {\n",
       "        vertical-align: top;\n",
       "    }\n",
       "\n",
       "    .dataframe thead th {\n",
       "        text-align: right;\n",
       "    }\n",
       "</style>\n",
       "<table border=\"1\" class=\"dataframe\">\n",
       "  <thead>\n",
       "    <tr style=\"text-align: right;\">\n",
       "      <th></th>\n",
       "      <th>c1</th>\n",
       "      <th>c2</th>\n",
       "      <th>c3</th>\n",
       "    </tr>\n",
       "  </thead>\n",
       "  <tbody>\n",
       "    <tr>\n",
       "      <th>0</th>\n",
       "      <td>a</td>\n",
       "      <td>1</td>\n",
       "      <td>1</td>\n",
       "    </tr>\n",
       "    <tr>\n",
       "      <th>2</th>\n",
       "      <td>b</td>\n",
       "      <td>1</td>\n",
       "      <td>2</td>\n",
       "    </tr>\n",
       "    <tr>\n",
       "      <th>3</th>\n",
       "      <td>a</td>\n",
       "      <td>2</td>\n",
       "      <td>2</td>\n",
       "    </tr>\n",
       "  </tbody>\n",
       "</table>\n",
       "</div>"
      ],
      "text/plain": [
       "  c1  c2  c3\n",
       "0  a   1   1\n",
       "2  b   1   2\n",
       "3  a   2   2"
      ]
     },
     "execution_count": 230,
     "metadata": {},
     "output_type": "execute_result"
    }
   ],
   "source": [
    "# Q21. Q20의 df에서 drop_duplicates() 메소드를 사용하여 c2, c3열을 기준으로 중복 행을 제거한 후 df3에 저장하고 출력하세요.\n",
    "import pandas as pd\n",
    "df = pd.DataFrame({'c1':['a', 'a', 'b', 'a', 'b'],\n",
    "                  'c2':[1, 1, 1, 2, 2],\n",
    "                  'c3':[1, 1, 2, 2, 2]})\n",
    "df3 = df.drop_duplicates(subset=['c2','c3'])\n",
    "df3"
   ]
  },
  {
   "cell_type": "code",
   "execution_count": 256,
   "id": "77d1cf5d",
   "metadata": {},
   "outputs": [
    {
     "data": {
      "text/html": [
       "<div>\n",
       "<style scoped>\n",
       "    .dataframe tbody tr th:only-of-type {\n",
       "        vertical-align: middle;\n",
       "    }\n",
       "\n",
       "    .dataframe tbody tr th {\n",
       "        vertical-align: top;\n",
       "    }\n",
       "\n",
       "    .dataframe thead th {\n",
       "        text-align: right;\n",
       "    }\n",
       "</style>\n",
       "<table border=\"1\" class=\"dataframe\">\n",
       "  <thead>\n",
       "    <tr style=\"text-align: right;\">\n",
       "      <th></th>\n",
       "      <th></th>\n",
       "      <th></th>\n",
       "      <th>Date</th>\n",
       "      <th>Close</th>\n",
       "      <th>Start</th>\n",
       "      <th>High</th>\n",
       "      <th>Low</th>\n",
       "      <th>Volume</th>\n",
       "      <th>Date_64</th>\n",
       "    </tr>\n",
       "    <tr>\n",
       "      <th>Year</th>\n",
       "      <th>Month</th>\n",
       "      <th>Day</th>\n",
       "      <th></th>\n",
       "      <th></th>\n",
       "      <th></th>\n",
       "      <th></th>\n",
       "      <th></th>\n",
       "      <th></th>\n",
       "      <th></th>\n",
       "    </tr>\n",
       "  </thead>\n",
       "  <tbody>\n",
       "    <tr>\n",
       "      <th rowspan=\"5\" valign=\"top\">2018</th>\n",
       "      <th>7</th>\n",
       "      <th>2</th>\n",
       "      <td>2018-07-02</td>\n",
       "      <td>10100</td>\n",
       "      <td>10850</td>\n",
       "      <td>10900</td>\n",
       "      <td>10000</td>\n",
       "      <td>137977</td>\n",
       "      <td>2018-07-02</td>\n",
       "    </tr>\n",
       "    <tr>\n",
       "      <th rowspan=\"4\" valign=\"top\">6</th>\n",
       "      <th>29</th>\n",
       "      <td>2018-06-29</td>\n",
       "      <td>10700</td>\n",
       "      <td>10550</td>\n",
       "      <td>10900</td>\n",
       "      <td>9990</td>\n",
       "      <td>170253</td>\n",
       "      <td>2018-06-29</td>\n",
       "    </tr>\n",
       "    <tr>\n",
       "      <th>28</th>\n",
       "      <td>2018-06-28</td>\n",
       "      <td>10400</td>\n",
       "      <td>10900</td>\n",
       "      <td>10950</td>\n",
       "      <td>10150</td>\n",
       "      <td>155769</td>\n",
       "      <td>2018-06-28</td>\n",
       "    </tr>\n",
       "    <tr>\n",
       "      <th>27</th>\n",
       "      <td>2018-06-27</td>\n",
       "      <td>10900</td>\n",
       "      <td>10800</td>\n",
       "      <td>11050</td>\n",
       "      <td>10500</td>\n",
       "      <td>133548</td>\n",
       "      <td>2018-06-27</td>\n",
       "    </tr>\n",
       "    <tr>\n",
       "      <th>26</th>\n",
       "      <td>2018-06-26</td>\n",
       "      <td>10800</td>\n",
       "      <td>10900</td>\n",
       "      <td>11000</td>\n",
       "      <td>10700</td>\n",
       "      <td>63039</td>\n",
       "      <td>2018-06-26</td>\n",
       "    </tr>\n",
       "  </tbody>\n",
       "</table>\n",
       "</div>"
      ],
      "text/plain": [
       "                      Date  Close  Start   High    Low  Volume    Date_64\n",
       "Year Month Day                                                           \n",
       "2018 7     2    2018-07-02  10100  10850  10900  10000  137977 2018-07-02\n",
       "     6     29   2018-06-29  10700  10550  10900   9990  170253 2018-06-29\n",
       "           28   2018-06-28  10400  10900  10950  10150  155769 2018-06-28\n",
       "           27   2018-06-27  10900  10800  11050  10500  133548 2018-06-27\n",
       "           26   2018-06-26  10800  10900  11000  10700   63039 2018-06-26"
      ]
     },
     "execution_count": 256,
     "metadata": {},
     "output_type": "execute_result"
    }
   ],
   "source": [
    "# Q33.'./dataset/stock-data.csv'를 데이터프레임으로 불러와서 datetime64 자료형으로 변환한 후에 \n",
    "# 년, 월, 일로 분리하고 year를 인덱스로 셋팅하여 출력하세요.\n",
    "import datetime\n",
    "df = pd.read_csv('../pandas/dataset/stock-data.csv')\n",
    "df['Date_64'] = pd.to_datetime(df['Date'])\n",
    "df['Year'] = df['Date_64'].dt.year\n",
    "df['Month'] = df['Date_64'].dt.month\n",
    "df['Day'] = df['Date_64'].dt.day\n",
    "df.set_index(['Year','Month','Day'],inplace=True)\n",
    "df.head()"
   ]
  },
  {
   "cell_type": "code",
   "execution_count": 281,
   "id": "737e53a3",
   "metadata": {},
   "outputs": [
    {
     "data": {
      "text/html": [
       "<div>\n",
       "<style scoped>\n",
       "    .dataframe tbody tr th:only-of-type {\n",
       "        vertical-align: middle;\n",
       "    }\n",
       "\n",
       "    .dataframe tbody tr th {\n",
       "        vertical-align: top;\n",
       "    }\n",
       "\n",
       "    .dataframe thead th {\n",
       "        text-align: right;\n",
       "    }\n",
       "</style>\n",
       "<table border=\"1\" class=\"dataframe\">\n",
       "  <thead>\n",
       "    <tr style=\"text-align: right;\">\n",
       "      <th></th>\n",
       "      <th></th>\n",
       "      <th></th>\n",
       "      <th>Date</th>\n",
       "      <th>Close</th>\n",
       "      <th>Start</th>\n",
       "      <th>High</th>\n",
       "      <th>Low</th>\n",
       "      <th>Volume</th>\n",
       "    </tr>\n",
       "    <tr>\n",
       "      <th>Year</th>\n",
       "      <th>Month</th>\n",
       "      <th>Day</th>\n",
       "      <th></th>\n",
       "      <th></th>\n",
       "      <th></th>\n",
       "      <th></th>\n",
       "      <th></th>\n",
       "      <th></th>\n",
       "    </tr>\n",
       "  </thead>\n",
       "  <tbody>\n",
       "    <tr>\n",
       "      <th rowspan=\"5\" valign=\"top\">2018</th>\n",
       "      <th>2018-07</th>\n",
       "      <th>2018-07-02</th>\n",
       "      <td>2018-07-02</td>\n",
       "      <td>10100</td>\n",
       "      <td>10850</td>\n",
       "      <td>10900</td>\n",
       "      <td>10000</td>\n",
       "      <td>137977</td>\n",
       "    </tr>\n",
       "    <tr>\n",
       "      <th rowspan=\"4\" valign=\"top\">2018-06</th>\n",
       "      <th>2018-06-29</th>\n",
       "      <td>2018-06-29</td>\n",
       "      <td>10700</td>\n",
       "      <td>10550</td>\n",
       "      <td>10900</td>\n",
       "      <td>9990</td>\n",
       "      <td>170253</td>\n",
       "    </tr>\n",
       "    <tr>\n",
       "      <th>2018-06-28</th>\n",
       "      <td>2018-06-28</td>\n",
       "      <td>10400</td>\n",
       "      <td>10900</td>\n",
       "      <td>10950</td>\n",
       "      <td>10150</td>\n",
       "      <td>155769</td>\n",
       "    </tr>\n",
       "    <tr>\n",
       "      <th>2018-06-27</th>\n",
       "      <td>2018-06-27</td>\n",
       "      <td>10900</td>\n",
       "      <td>10800</td>\n",
       "      <td>11050</td>\n",
       "      <td>10500</td>\n",
       "      <td>133548</td>\n",
       "    </tr>\n",
       "    <tr>\n",
       "      <th>2018-06-26</th>\n",
       "      <td>2018-06-26</td>\n",
       "      <td>10800</td>\n",
       "      <td>10900</td>\n",
       "      <td>11000</td>\n",
       "      <td>10700</td>\n",
       "      <td>63039</td>\n",
       "    </tr>\n",
       "  </tbody>\n",
       "</table>\n",
       "</div>"
      ],
      "text/plain": [
       "                              Date  Close  Start   High    Low  Volume\n",
       "Year Month   Day                                                      \n",
       "2018 2018-07 2018-07-02 2018-07-02  10100  10850  10900  10000  137977\n",
       "     2018-06 2018-06-29 2018-06-29  10700  10550  10900   9990  170253\n",
       "             2018-06-28 2018-06-28  10400  10900  10950  10150  155769\n",
       "             2018-06-27 2018-06-27  10900  10800  11050  10500  133548\n",
       "             2018-06-26 2018-06-26  10800  10900  11000  10700   63039"
      ]
     },
     "execution_count": 281,
     "metadata": {},
     "output_type": "execute_result"
    }
   ],
   "source": [
    "# Q34. './dataset/stock-data.csv'를 데이터프레임으로 불러와서 datetime64 자료형으로 변환한 후에 \n",
    "# Period로 변환하고 년월일 표기 변경하여 년월을 인데스로 셋팅하여 출력하세요.\n",
    "df2 = pd.read_csv('../pandas/dataset/stock-data.csv')\n",
    "df2['Date']=pd.to_datetime(df2['Date'])\n",
    "df2['Year']=df2['Date'].dt.to_period(freq=\"Y\")\n",
    "df2['Month']=df2['Date'].dt.to_period(freq=\"M\")\n",
    "df2['Day']=df2['Date'].dt.to_period(freq=\"D\")\n",
    "df2.set_index(['Year','Month','Day'],inplace=True)\n",
    "df2.head()"
   ]
  },
  {
   "cell_type": "code",
   "execution_count": 282,
   "id": "ab15ccf4",
   "metadata": {
    "collapsed": true
   },
   "outputs": [
    {
     "data": {
      "text/plain": [
       "'\\narray([[1., 1., 1., 1., 1., 1., 1., 1., 1., 1.],\\n       [1., 0., 0., 0., 0., 0., 0., 0., 0., 1.],\\n       [1., 0., 0., 0., 0., 0., 0., 0., 0., 1.],\\n       [1., 0., 0., 0., 0., 0., 0., 0., 0., 1.],\\n       [1., 0., 0., 0., 0., 0., 0., 0., 0., 1.],\\n       [1., 0., 0., 0., 0., 0., 0., 0., 0., 1.],\\n       [1., 0., 0., 0., 0., 0., 0., 0., 0., 1.],\\n       [1., 0., 0., 0., 0., 0., 0., 0., 0., 1.],\\n       [1., 0., 0., 0., 0., 0., 0., 0., 0., 1.],\\n       [1., 1., 1., 1., 1., 1., 1., 1., 1., 1.]])\\n'"
      ]
     },
     "execution_count": 282,
     "metadata": {},
     "output_type": "execute_result"
    }
   ],
   "source": [
    "# Q. np.ones((10,10))을 아래와 같이 출력하세요.\n",
    "'''\n",
    "array([[1., 1., 1., 1., 1., 1., 1., 1., 1., 1.],\n",
    "       [1., 0., 0., 0., 0., 0., 0., 0., 0., 1.],\n",
    "       [1., 0., 0., 0., 0., 0., 0., 0., 0., 1.],\n",
    "       [1., 0., 0., 0., 0., 0., 0., 0., 0., 1.],\n",
    "       [1., 0., 0., 0., 0., 0., 0., 0., 0., 1.],\n",
    "       [1., 0., 0., 0., 0., 0., 0., 0., 0., 1.],\n",
    "       [1., 0., 0., 0., 0., 0., 0., 0., 0., 1.],\n",
    "       [1., 0., 0., 0., 0., 0., 0., 0., 0., 1.],\n",
    "       [1., 0., 0., 0., 0., 0., 0., 0., 0., 1.],\n",
    "       [1., 1., 1., 1., 1., 1., 1., 1., 1., 1.]])\n",
    "'''"
   ]
  },
  {
   "cell_type": "code",
   "execution_count": 286,
   "id": "0887c8ff",
   "metadata": {},
   "outputs": [
    {
     "data": {
      "text/plain": [
       "array([[1., 1., 1., 1., 1., 1., 1., 1., 1., 1.],\n",
       "       [1., 0., 0., 0., 0., 0., 0., 0., 0., 1.],\n",
       "       [1., 0., 0., 0., 0., 0., 0., 0., 0., 1.],\n",
       "       [1., 0., 0., 0., 0., 0., 0., 0., 0., 1.],\n",
       "       [1., 0., 0., 0., 0., 0., 0., 0., 0., 1.],\n",
       "       [1., 0., 0., 0., 0., 0., 0., 0., 0., 1.],\n",
       "       [1., 0., 0., 0., 0., 0., 0., 0., 0., 1.],\n",
       "       [1., 0., 0., 0., 0., 0., 0., 0., 0., 1.],\n",
       "       [1., 0., 0., 0., 0., 0., 0., 0., 0., 1.],\n",
       "       [1., 1., 1., 1., 1., 1., 1., 1., 1., 1.]])"
      ]
     },
     "execution_count": 286,
     "metadata": {},
     "output_type": "execute_result"
    }
   ],
   "source": [
    "a= np.ones((10,10))\n",
    "a[1:9,1:9]=0\n",
    "a"
   ]
  },
  {
   "cell_type": "markdown",
   "id": "00c5609d",
   "metadata": {},
   "source": [
    "# 7월 6일"
   ]
  },
  {
   "cell_type": "markdown",
   "id": "cdf98584",
   "metadata": {},
   "source": [
    "np.zeros((8,8))을 이용해서 아래와 같이 출력하세요.\n",
    "```\n",
    "array([[0, 1, 0, 1, 0, 1, 0, 1],\n",
    "       [1, 0, 1, 0, 1, 0, 1, 0],\n",
    "       [0, 1, 0, 1, 0, 1, 0, 1],\n",
    "       [1, 0, 1, 0, 1, 0, 1, 0],\n",
    "       [0, 1, 0, 1, 0, 1, 0, 1],\n",
    "       [1, 0, 1, 0, 1, 0, 1, 0],\n",
    "       [0, 1, 0, 1, 0, 1, 0, 1],\n",
    "       [1, 0, 1, 0, 1, 0, 1, 0]])\n",
    "```"
   ]
  },
  {
   "cell_type": "code",
   "execution_count": 44,
   "id": "6f19b8ee",
   "metadata": {},
   "outputs": [
    {
     "name": "stdout",
     "output_type": "stream",
     "text": [
      "[[0. 0. 0. 0. 0. 0. 0. 0.]\n",
      " [0. 1. 0. 1. 0. 1. 0. 1.]\n",
      " [0. 0. 0. 0. 0. 0. 0. 0.]\n",
      " [0. 1. 0. 1. 0. 1. 0. 1.]\n",
      " [0. 0. 0. 0. 0. 0. 0. 0.]\n",
      " [0. 1. 0. 1. 0. 1. 0. 1.]\n",
      " [0. 0. 0. 0. 0. 0. 0. 0.]\n",
      " [0. 1. 0. 1. 0. 1. 0. 1.]]\n",
      "[[1. 0. 1. 0. 1. 0. 1. 0.]\n",
      " [0. 0. 0. 0. 0. 0. 0. 0.]\n",
      " [1. 0. 1. 0. 1. 0. 1. 0.]\n",
      " [0. 0. 0. 0. 0. 0. 0. 0.]\n",
      " [1. 0. 1. 0. 1. 0. 1. 0.]\n",
      " [0. 0. 0. 0. 0. 0. 0. 0.]\n",
      " [1. 0. 1. 0. 1. 0. 1. 0.]\n",
      " [0. 0. 0. 0. 0. 0. 0. 0.]]\n"
     ]
    }
   ],
   "source": [
    "a = np.zeros((8,8))\n",
    "a[0::2,0::2]=1\n",
    "a[1::2,1::2]=1\n"
   ]
  },
  {
   "cell_type": "code",
   "execution_count": null,
   "id": "2ab7c1f0",
   "metadata": {},
   "outputs": [],
   "source": [
    "z = np.tile(np.array([[0,1],[1,0]]),(4,4))\n",
    "z"
   ]
  },
  {
   "cell_type": "markdown",
   "id": "a2a3fe96",
   "metadata": {},
   "source": [
    "### 과제(7월6일)-1"
   ]
  },
  {
   "cell_type": "markdown",
   "id": "e9b83aa2",
   "metadata": {},
   "source": [
    "- 인덱싱해서 아래와 같이 출력\n",
    "```\n",
    "[[  1   2   3   4   5   6   7   8   9  10]\n",
    " [ 20  19  18  17  16  15  14  13  12  11]\n",
    " [ 21  22  23  24  25  26  27  28  29  30]\n",
    " [ 40  39  38  37  36  35  34  33  32  31]\n",
    " [ 41  42  43  44  45  46  47  48  49  50]\n",
    " [ 60  59  58  57  56  55  54  53  52  51]\n",
    " [ 61  62  63  64  65  66  67  68  69  70]\n",
    " [ 80  79  78  77  76  75  74  73  72  71]\n",
    " [ 81  82  83  84  85  86  87  88  89  90]\n",
    " [100  99  98  97  96  95  94  93  92  91]] <class 'numpy.ndarray'>\n",
    "```"
   ]
  },
  {
   "cell_type": "code",
   "execution_count": 4,
   "id": "1f0128ac",
   "metadata": {},
   "outputs": [],
   "source": [
    "ar=np.arange(1,101).reshape(10,10)\n",
    "ar1=ar[1::2,::-1]\n",
    "ar2=ar[0::2,::1]\n",
    "ar3=np.concatenate((ar1,ar2),axis=0)"
   ]
  },
  {
   "cell_type": "code",
   "execution_count": 5,
   "id": "cf5cbf3d",
   "metadata": {},
   "outputs": [
    {
     "data": {
      "text/plain": [
       "array([[  1,   2,   3,   4,   5,   6,   7,   8,   9,  10],\n",
       "       [ 20,  19,  18,  17,  16,  15,  14,  13,  12,  11],\n",
       "       [ 21,  22,  23,  24,  25,  26,  27,  28,  29,  30],\n",
       "       [ 40,  39,  38,  37,  36,  35,  34,  33,  32,  31],\n",
       "       [ 41,  42,  43,  44,  45,  46,  47,  48,  49,  50],\n",
       "       [ 60,  59,  58,  57,  56,  55,  54,  53,  52,  51],\n",
       "       [ 61,  62,  63,  64,  65,  66,  67,  68,  69,  70],\n",
       "       [ 80,  79,  78,  77,  76,  75,  74,  73,  72,  71],\n",
       "       [ 81,  82,  83,  84,  85,  86,  87,  88,  89,  90],\n",
       "       [100,  99,  98,  97,  96,  95,  94,  93,  92,  91]])"
      ]
     },
     "execution_count": 5,
     "metadata": {},
     "output_type": "execute_result"
    }
   ],
   "source": [
    "ar3.sort(axis=0)\n",
    "ar3"
   ]
  },
  {
   "cell_type": "code",
   "execution_count": 7,
   "id": "dfa23825",
   "metadata": {
    "scrolled": true
   },
   "outputs": [
    {
     "data": {
      "text/plain": [
       "array([[  1,   2,   3,   4,   5,   6,   7,   8,   9,  10],\n",
       "       [ 20,  19,  18,  17,  16,  15,  14,  13,  12,  11],\n",
       "       [ 21,  22,  23,  24,  25,  26,  27,  28,  29,  30],\n",
       "       [ 40,  39,  38,  37,  36,  35,  34,  33,  32,  31],\n",
       "       [ 41,  42,  43,  44,  45,  46,  47,  48,  49,  50],\n",
       "       [ 60,  59,  58,  57,  56,  55,  54,  53,  52,  51],\n",
       "       [ 61,  62,  63,  64,  65,  66,  67,  68,  69,  70],\n",
       "       [ 80,  79,  78,  77,  76,  75,  74,  73,  72,  71],\n",
       "       [ 81,  82,  83,  84,  85,  86,  87,  88,  89,  90],\n",
       "       [100,  99,  98,  97,  96,  95,  94,  93,  92,  91]])"
      ]
     },
     "execution_count": 7,
     "metadata": {},
     "output_type": "execute_result"
    }
   ],
   "source": [
    "ak=ar.copy()\n",
    "ak[[1,3,5,7,9]] = ak[[1,3,5,7,9]][:,[9,8,7,6,5,4,3,2,1,0]]\n",
    "ak"
   ]
  },
  {
   "cell_type": "code",
   "execution_count": null,
   "id": "d9b79211",
   "metadata": {},
   "outputs": [],
   "source": [
    "ar = np.arange(1,101).reshape(10,10)\n",
    "ar[1::2] = ar[1::2,9::-1]\n",
    "ar"
   ]
  },
  {
   "cell_type": "markdown",
   "id": "9c04e5ab",
   "metadata": {},
   "source": [
    "```\n",
    "q1=ard[0:1:1].copy()\n",
    "q2=ard[1:2:,::-1].copy()\n",
    "q3=ard[2:3:1].copy()\n",
    "q4=ard[3:4:,::-1].copy()\n",
    "q5=ard[4:5:1].copy()\n",
    "q6=ard[5:6:,::-1].copy()\n",
    "q7=ard[6:7:1].copy()\n",
    "q8=ard[7:8:,::-1].copy()\n",
    "q9=ard[8:9:1,].copy()\n",
    "q10=ard[9:10:,::-1].copy()\n",
    "q_result = sum(np.stack([q1,q2,q3,q4,q5,q6,q7,q8,q9,q10],1))\n",
    "q_result\n",
    "```"
   ]
  },
  {
   "cell_type": "code",
   "execution_count": null,
   "id": "dd61db50",
   "metadata": {},
   "outputs": [],
   "source": []
  }
 ],
 "metadata": {
  "kernelspec": {
   "display_name": "Python 3 (ipykernel)",
   "language": "python",
   "name": "python3"
  },
  "language_info": {
   "codemirror_mode": {
    "name": "ipython",
    "version": 3
   },
   "file_extension": ".py",
   "mimetype": "text/x-python",
   "name": "python",
   "nbconvert_exporter": "python",
   "pygments_lexer": "ipython3",
   "version": "3.8.13"
  },
  "toc": {
   "base_numbering": 1,
   "nav_menu": {},
   "number_sections": true,
   "sideBar": true,
   "skip_h1_title": false,
   "title_cell": "Table of Contents",
   "title_sidebar": "Contents",
   "toc_cell": false,
   "toc_position": {
    "height": "calc(100% - 180px)",
    "left": "10px",
    "top": "150px",
    "width": "242px"
   },
   "toc_section_display": true,
   "toc_window_display": false
  }
 },
 "nbformat": 4,
 "nbformat_minor": 5
}
