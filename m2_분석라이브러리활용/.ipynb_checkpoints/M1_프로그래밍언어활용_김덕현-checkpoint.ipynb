{
 "cells": [
  {
   "cell_type": "markdown",
   "metadata": {},
   "source": [
    "## 프로젝트 기반 AI 빅데이터 서비스 솔루션 개발 전문과정\n",
    "\n",
    "#### 교과목명 : 프로그래밍 언어 활용\n",
    "\n",
    "- 평가일 : 22.06.27\n",
    "- 성명 : 김덕현\n",
    "- 점수 : 45\n",
    "\n",
    "※ 문제당 5점으로 채점"
   ]
  },
  {
   "cell_type": "markdown",
   "metadata": {},
   "source": [
    "#### 1. numbers 리스트에서 15, 20, 25를 출력하세요.(for문과 if 조건 사용 필수)  \n",
    "numbers = [5, 15, 6, 20, 7, 25]"
   ]
  },
  {
   "cell_type": "code",
   "execution_count": 5,
   "metadata": {},
   "outputs": [
    {
     "name": "stdout",
     "output_type": "stream",
     "text": [
      "15\n",
      "20\n",
      "25\n"
     ]
    }
   ],
   "source": [
    "numbers = [5, 15, 6, 20, 7, 25]\n",
    "for i in numbers:\n",
    "    if i>5 :\n",
    "        if i%5==0:\n",
    "            print(i)"
   ]
  },
  {
   "cell_type": "markdown",
   "metadata": {},
   "source": [
    "#### 2. 아래 사용자 함수, 변수 리스트 및 2개의 내장함수를 각각 이용해서  [1, 4, 9, 16, 25], [1, 2]를 출력하세요.(내장함수 2개 사용 필수) "
   ]
  },
  {
   "cell_type": "code",
   "execution_count": 102,
   "metadata": {},
   "outputs": [],
   "source": [
    "# 함수를 선언합니다.\n",
    "def power(item):\n",
    "    return item * item\n",
    "def under_3(item):\n",
    "    return item < 3\n",
    "\n",
    "# 변수를 선언합니다.\n",
    "list_input_a = [1, 2, 3, 4, 5]"
   ]
  },
  {
   "cell_type": "code",
   "execution_count": 112,
   "metadata": {},
   "outputs": [
    {
     "name": "stdout",
     "output_type": "stream",
     "text": [
      "[1, 4, 9, 16, 25] [1, 2]\n"
     ]
    }
   ],
   "source": [
    "li=[]\n",
    "li2=[]\n",
    "for i in list_input_a:\n",
    "    result = power(i)\n",
    "    li.append(result)\n",
    "for j in list_input_a:\n",
    "    if under_3(j)==True:\n",
    "        li2.append(j)\n",
    "print(li,li2)"
   ]
  },
  {
   "cell_type": "markdown",
   "metadata": {},
   "source": [
    "#### 3. 정수를 입력하면 짝수 홀수 여부를 반환해주는 프로그램을 작성하세요.(정수 입력 후 '짝수', '홀수'가 일치하게 출력) "
   ]
  },
  {
   "cell_type": "code",
   "execution_count": 13,
   "metadata": {},
   "outputs": [
    {
     "name": "stdin",
     "output_type": "stream",
     "text": [
      "숫자입력: 19\n"
     ]
    },
    {
     "name": "stdout",
     "output_type": "stream",
     "text": [
      "홀수\n"
     ]
    }
   ],
   "source": [
    "number=int(input('숫자입력:'))\n",
    "if number%2==0:\n",
    "    print(\"짝수\")\n",
    "else:\n",
    "    print(\"홀수\")"
   ]
  },
  {
   "cell_type": "markdown",
   "metadata": {},
   "source": [
    "#### 4. 람다 함수를 이용해서 a의 b제곱에서 a x b를 뺀 수를 구하는 식을 만들고 그 식을 이용해서  a, b가 아래와 같이 주어졌을 때 각각의 값을 구하세요. \n",
    "a = 2, b = 5 \\\n",
    "a= 5, b = 2"
   ]
  },
  {
   "cell_type": "code",
   "execution_count": 200,
   "metadata": {},
   "outputs": [
    {
     "name": "stdout",
     "output_type": "stream",
     "text": [
      "22\n",
      "15\n"
     ]
    }
   ],
   "source": [
    "a = lambda a,b : a**b-(a*b)\n",
    "print(a(2,5))\n",
    "print(a(5,2))"
   ]
  },
  {
   "cell_type": "markdown",
   "metadata": {},
   "source": [
    "#### 5. 123456789를 입력하면 천 단위로 콤마로 구분하여 출력하세요."
   ]
  },
  {
   "cell_type": "code",
   "execution_count": 13,
   "metadata": {},
   "outputs": [
    {
     "data": {
      "text/plain": [
       "'123,456,789'"
      ]
     },
     "execution_count": 13,
     "metadata": {},
     "output_type": "execute_result"
    }
   ],
   "source": [
    "a=123456789\n",
    "format(a,',')"
   ]
  },
  {
   "cell_type": "markdown",
   "metadata": {},
   "source": [
    "#### 6. example_list = [\"요소A\", \"요소B\", \"요소C\"]를 파이썬 내장함수를 이용하여 아래와 같이 출력하세요. \n",
    "0번째 요소는 요소A입니다.\\\n",
    "1번째 요소는 요소B입니다.\\\n",
    "2번째 요소는 요소C입니다."
   ]
  },
  {
   "cell_type": "code",
   "execution_count": 3,
   "metadata": {},
   "outputs": [
    {
     "name": "stdout",
     "output_type": "stream",
     "text": [
      "0번째 요소는 요소A 입니다.\n",
      "1번째 요소는 요소B 입니다.\n",
      "2번째 요소는 요소C 입니다.\n"
     ]
    }
   ],
   "source": [
    "example_list = [\"요소A\", \"요소B\", \"요소C\"]\n",
    "for i in range(3):\n",
    "    print(f\"{i}번째 요소는 {example_list[i]} 입니다.\")"
   ]
  },
  {
   "cell_type": "markdown",
   "metadata": {},
   "source": [
    "#### 7. 97을 40으로 나눈 몫과 나머지를 내장함수를 이용하여 구하세요.(튜플로 출력 필수) "
   ]
  },
  {
   "cell_type": "code",
   "execution_count": 8,
   "metadata": {},
   "outputs": [
    {
     "data": {
      "text/plain": [
       "(2, 17)"
      ]
     },
     "execution_count": 8,
     "metadata": {},
     "output_type": "execute_result"
    }
   ],
   "source": [
    "divmod(97,40)"
   ]
  },
  {
   "cell_type": "markdown",
   "metadata": {},
   "source": [
    "#### 8. list_number = [52, 273, 32, 72, 100]로 변수 선언하고 정수를 입력하면 그 정수 인덱스와 리스트에서 해당하는 값을 출력하는 프로그램을 작성하세요. 단, 모든 예외처리를 수행하며 특히 ValueError와 IndexError는 별도 구분해서 예외처리 한 후 '예외처리 완료'를 마지막으로 출력하세요.\n",
    "\n",
    "- 4 입력시 \\\n",
    "정수 입력> 4 \\\n",
    "4번째 요소: 100\n",
    "예외 처리 완료\n",
    "\n",
    "- 문자 입력시 \\\n",
    "정수 입력> 가 \\\n",
    "정수를 입력해 주세요!\n",
    "예외 처리 완료\n",
    "\n",
    "- 5 입력시 \\\n",
    "정수 입력> 5 \\\n",
    "리스트의 인덱스를 벗어났어요!\n",
    "예외 처리 완료"
   ]
  },
  {
   "cell_type": "code",
   "execution_count": 21,
   "metadata": {},
   "outputs": [
    {
     "name": "stdin",
     "output_type": "stream",
     "text": [
      "정수 입력> 5\n"
     ]
    },
    {
     "name": "stdout",
     "output_type": "stream",
     "text": [
      "리스트의 인덱스를 벗어났어요!\n"
     ]
    }
   ],
   "source": [
    "list_number = [52, 273, 32, 72, 100]\n",
    "try:\n",
    "    index_number = int(input(\"정수 입력>\"))\n",
    "    print(index_number,list_number[index_number])\n",
    "except ValueError:\n",
    "    print(\"정수를 입력해 주세요!\")\n",
    "except IndexError:\n",
    "    print(\"리스트의 인덱스를 벗어났어요!\")"
   ]
  },
  {
   "cell_type": "markdown",
   "metadata": {},
   "source": [
    "#### 9. 사용자로부터 서로 다른 숫자 두 개를 입력받고 첫 번째 와 두 번째중 큰 숫자를 구하는 프로그램을 수행하세요."
   ]
  },
  {
   "cell_type": "code",
   "execution_count": 24,
   "metadata": {},
   "outputs": [
    {
     "data": {
      "text/plain": [
       "4"
      ]
     },
     "execution_count": 24,
     "metadata": {},
     "output_type": "execute_result"
    }
   ],
   "source": [
    "def bignumber(a,b):\n",
    "    li=[a,b]\n",
    "    return max(li)\n",
    "bignumber(3,4)"
   ]
  },
  {
   "cell_type": "markdown",
   "metadata": {},
   "source": [
    "#### 10. 1부터 100까지 아래와 같은 방식으로 2개의 수를 곱해서 가장 큰 수를 구하세요.\n",
    "\n",
    " 1 * 99 ...99 * 1"
   ]
  },
  {
   "cell_type": "code",
   "execution_count": 209,
   "metadata": {},
   "outputs": [
    {
     "name": "stdout",
     "output_type": "stream",
     "text": [
      "2500\n"
     ]
    }
   ],
   "source": [
    "a=99\n",
    "li=[]\n",
    "for i in range(1,100):\n",
    "    result = i*a\n",
    "    li.append(result)\n",
    "    a -=1\n",
    "print(max(li))\n"
   ]
  },
  {
   "cell_type": "markdown",
   "metadata": {},
   "source": [
    "#### 11. 정규표현식을 사용하여 text에서 지역코드만 출력하세요.\n",
    "text = \"문의사항이 있으면 032-232-3245 으로 연락주시기 바랍니다.\""
   ]
  },
  {
   "cell_type": "code",
   "execution_count": 23,
   "metadata": {
    "tags": []
   },
   "outputs": [
    {
     "data": {
      "text/plain": [
       "'032'"
      ]
     },
     "execution_count": 23,
     "metadata": {},
     "output_type": "execute_result"
    }
   ],
   "source": [
    "import re\n",
    "text = \"문의사항이 있으면 032-232-3245 으로 연락주시기 바랍니다.\"\n",
    "p = re.compile('[\\b0-9]+')\n",
    "a = p.search(text)\n",
    "a.group()"
   ]
  },
  {
   "cell_type": "markdown",
   "metadata": {},
   "source": [
    "#### 12. 'abcdefghij' 에 대하여 중첩을 적용한 서브그룹 5개로 컴파일하여 group()함수를 이용하여 'abcdefghi'와 e'를 출력하세요"
   ]
  },
  {
   "cell_type": "code",
   "execution_count": 27,
   "metadata": {},
   "outputs": [
    {
     "name": "stdout",
     "output_type": "stream",
     "text": [
      "abcdefghi\n",
      "e\n"
     ]
    }
   ],
   "source": [
    "import re\n",
    "a = 'abcdefghij'\n",
    "b = re.compile(r\"(\\w{4}(\\w{1})\\w{4})\\w+\")\n",
    "m = b.search(a)\n",
    "print(m.group(1))\n",
    "print(m.group(2))"
   ]
  },
  {
   "cell_type": "markdown",
   "metadata": {},
   "source": [
    "#### 13. [0, 1, 2, 3, 4, 5, 6, 7, 8, 9, 'a', 'b', 'c']에서 9와 'a'를 삭제 후 리스트로 출력하세요"
   ]
  },
  {
   "cell_type": "code",
   "execution_count": 52,
   "metadata": {},
   "outputs": [
    {
     "name": "stdout",
     "output_type": "stream",
     "text": [
      "[0, 1, 2, 3, 4, 5, 6, 7, 8, 'b', 'c']\n"
     ]
    }
   ],
   "source": [
    "li = [0, 1, 2, 3, 4, 5, 6, 7, 8, 9, 'a', 'b', 'c']\n",
    "li.remove(9)\n",
    "li.remove(\"a\")\n",
    "print(li)"
   ]
  },
  {
   "cell_type": "markdown",
   "metadata": {},
   "source": [
    "#### 14. 500 ~ 1000사이의 정수 중 5와 7의 공배수의 합을 구하세요"
   ]
  },
  {
   "cell_type": "code",
   "execution_count": 11,
   "metadata": {},
   "outputs": [
    {
     "name": "stdout",
     "output_type": "stream",
     "text": [
      "10535\n",
      "1000\n"
     ]
    }
   ],
   "source": [
    "li=[]\n",
    "for i in range(500,1001): \n",
    "    if i%5==0 and i%7==0:\n",
    "        li.append(i)\n",
    "        result = 0\n",
    "        result += i\n",
    "print(sum(li))\n",
    "print(result)"
   ]
  },
  {
   "cell_type": "markdown",
   "metadata": {},
   "source": [
    "#### 15. [    ]을 채워서 아래와 같이 출력하세요.\n",
    "[[1, 4, 7], [2, 5, 8], [3, 6, 9]]"
   ]
  },
  {
   "cell_type": "code",
   "execution_count": 41,
   "metadata": {
    "tags": []
   },
   "outputs": [
    {
     "name": "stdout",
     "output_type": "stream",
     "text": [
      "[[1, 4, 7], [2, 5, 8], [3, 6, 9]]\n"
     ]
    }
   ],
   "source": [
    "numbers = [1,2,3,4,5,6,7,8,9]\n",
    "output = [[], [], []]\n",
    "\n",
    "for number in numbers:\n",
    "    output[(number%3)-1].append(number)\n",
    "print(output)"
   ]
  },
  {
   "cell_type": "markdown",
   "metadata": {},
   "source": [
    "####  16. numbers 내부에 들어 있는 숫자가 몇 번 등장하는지를 출력하는 코드를 작성하세요.\n",
    "numbers = [3,6,3,5,8,2,9,7,4,3,6,3,5,8,2,9,7,4]"
   ]
  },
  {
   "cell_type": "code",
   "execution_count": 171,
   "metadata": {},
   "outputs": [
    {
     "name": "stdout",
     "output_type": "stream",
     "text": [
      "2 2\n",
      "3 4\n",
      "4 2\n",
      "5 2\n",
      "6 2\n",
      "7 2\n",
      "8 2\n",
      "9 2\n",
      "9 2\n"
     ]
    }
   ],
   "source": [
    "numbers = [3,6,3,5,8,2,9,7,4,3,6,3,5,8,2,9,7,4]\n",
    "numbers.sort()\n",
    "for i in range(len(numbers)):\n",
    "    if numbers[i]==9:\n",
    "        print(9,numbers.count(9))\n",
    "    elif numbers[i]!=numbers[i+1]:\n",
    "        print(numbers[i],numbers.count(numbers[i]))     "
   ]
  },
  {
   "cell_type": "code",
   "execution_count": 197,
   "metadata": {},
   "outputs": [
    {
     "name": "stdout",
     "output_type": "stream",
     "text": [
      "{3: 4, 6: 2, 5: 2, 8: 2, 2: 2, 9: 2, 7: 2, 4: 2}\n"
     ]
    }
   ],
   "source": [
    "numbers = [3,6,3,5,8,2,9,7,4,3,6,3,5,8,2,9,7,4]\n",
    "counter = {}\n",
    "for number in numbers:\n",
    "    if number in counter:\n",
    "        counter[number] += 1\n",
    "    else:\n",
    "        counter[number] = 1\n",
    "print(counter)"
   ]
  },
  {
   "cell_type": "markdown",
   "metadata": {},
   "source": [
    "#### 17. 클래스 Country를 완성하여 아래와 같이 출력하세요."
   ]
  },
  {
   "cell_type": "code",
   "execution_count": 31,
   "metadata": {
    "tags": []
   },
   "outputs": [
    {
     "name": "stdout",
     "output_type": "stream",
     "text": [
      "한국의 인구는 5천만명이며 수도는 서울입니다.\n",
      "1인당 gnp는 USD 3만입니다.\n"
     ]
    }
   ],
   "source": [
    "class Country:\n",
    "    def __init__(self,name,num,capital):\n",
    "        self.name = name\n",
    "        self.num = num\n",
    "        self.capital= capital\n",
    "        \n",
    "        print(f'{name}의 인구는 {num}천만명이며 수도는 {capital}입니다.')\n",
    "        \n",
    "    def desc(self):\n",
    "        pass\n",
    "\n",
    "class Korea(Country):    \n",
    "    \n",
    "    def desc1(self,gnp):\n",
    "        self.gnp = gnp\n",
    "        print('1인당 gnp는 USD %d만입니다.' %self.gnp)\n",
    "        \n",
    "obj = Korea('한국',5,'서울')\n",
    "obj.desc()\n",
    "obj.desc1(3)"
   ]
  },
  {
   "cell_type": "markdown",
   "metadata": {},
   "source": [
    "#### 18. 사칙연산을 수행하는  클래스를 작성하여 객체를 만들고 2개의 정수 10, 5를 입력한 후 연산 결과를  포멧을 이용하여 출력하세요."
   ]
  },
  {
   "cell_type": "code",
   "execution_count": 45,
   "metadata": {},
   "outputs": [
    {
     "name": "stdout",
     "output_type": "stream",
     "text": [
      "15\n",
      "5\n",
      "50\n",
      "2.0\n"
     ]
    }
   ],
   "source": [
    "class Calcul():\n",
    "    def sum_1(self,a,b):\n",
    "        return a+b\n",
    "    def sub_1(self,a,b):\n",
    "        return a-b\n",
    "    def mul_1(self,a,b):\n",
    "        return a*b\n",
    "    def dim_1(self,a,b):\n",
    "        return a/b\n",
    "a = Calcul()\n",
    "print(a.sum_1(10,5))\n",
    "print(a.sub_1(10,5))\n",
    "print(a.mul_1(10,5))\n",
    "print(a.dim_1(10,5))"
   ]
  },
  {
   "cell_type": "markdown",
   "metadata": {},
   "source": [
    "#### 19. 올해 경과된 날짜수를 계산하여 출력하세요."
   ]
  },
  {
   "cell_type": "code",
   "execution_count": 32,
   "metadata": {},
   "outputs": [
    {
     "data": {
      "text/plain": [
       "'178'"
      ]
     },
     "execution_count": 32,
     "metadata": {},
     "output_type": "execute_result"
    }
   ],
   "source": [
    "import time\n",
    "ctime=time.strftime('%j',time.localtime(time.time()))\n",
    "ctime"
   ]
  },
  {
   "cell_type": "markdown",
   "metadata": {},
   "source": [
    "#### 20. 2015년 인기순 상위5개 여아이름별 출생아수를 출력하세요.('data/names/yob2015.txt')"
   ]
  },
  {
   "cell_type": "code",
   "execution_count": 57,
   "metadata": {},
   "outputs": [
    {
     "name": "stdout",
     "output_type": "stream",
     "text": [
      "1위 Emma,20463\n",
      "2위 Olivia,19705\n",
      "3위 Sophia,17430\n",
      "4위 Ava,16383\n",
      "5위 Isabella,15633\n"
     ]
    }
   ],
   "source": [
    "with open(\"yob2015.txt\",\"r\")as f:\n",
    "    a= f.readlines()\n",
    "counter=[]\n",
    "for i in a:\n",
    "    b = i.split(\",\")\n",
    "    if b[1]==\"F\":\n",
    "        counter.append((int(b[2]),b[0]))\n",
    "counter.sort(reverse=True)\n",
    "for j in range(5):\n",
    "    print(f\"{j+1}위 {counter[j][1]},{counter[j][0]}\")\n",
    "    \n",
    "        \n"
   ]
  },
  {
   "cell_type": "code",
   "execution_count": 49,
   "metadata": {
    "tags": []
   },
   "outputs": [
    {
     "name": "stdout",
     "output_type": "stream",
     "text": [
      "0위 이름은 Emma로, 출생아수는 20463\n",
      "1위 이름은 Olivia로, 출생아수는 19705\n",
      "2위 이름은 Sophia로, 출생아수는 17430\n",
      "3위 이름은 Ava로, 출생아수는 16383\n",
      "4위 이름은 Isabella로, 출생아수는 15633\n"
     ]
    }
   ],
   "source": [
    "with open(\"yob2015.txt\", 'r') as fr:\n",
    "    lines = fr.readlines()\n",
    "count_g_names = []\n",
    "for line in lines:\n",
    "    tmp = line.split(',')\n",
    "    if tmp[1] == 'F':\n",
    "        count_g_names.append((int(tmp[2]), tmp[0]))\n",
    "count_g_names.sort(reverse = True)\n",
    "for i in range(5):\n",
    "    print(f\"{i}위 이름은 {count_g_names[i][1]}로, 출생아수는 {count_g_names[i][0]}\")"
   ]
  },
  {
   "cell_type": "code",
   "execution_count": null,
   "metadata": {},
   "outputs": [],
   "source": [
    "import pandas as pd\n",
    "\n",
    "df = pd.read_table('./data/yob2015.txt', sep=',',\n",
    "names=['name', 'gender', 'number'])\n",
    "df = df.sort_values(by='number', ascending=False)\n",
    "df = df[df['gender'] == 'F']\n",
    "df.head()"
   ]
  },
  {
   "cell_type": "code",
   "execution_count": 53,
   "metadata": {},
   "outputs": [
    {
     "data": {
      "text/plain": [
       "[[457, 'eee'], [456, 'abc'], [444, 'ddd']]"
      ]
     },
     "execution_count": 53,
     "metadata": {},
     "output_type": "execute_result"
    }
   ],
   "source": [
    "li = [[456,\"abc\"],[444,\"ddd\"],[457,'eee']]\n",
    "li.sort(reverse=True)\n",
    "li"
   ]
  },
  {
   "cell_type": "code",
   "execution_count": 55,
   "metadata": {},
   "outputs": [
    {
     "data": {
      "text/plain": [
       "[['eee', 457], ['ddd', 444], ['abc', 456]]"
      ]
     },
     "execution_count": 55,
     "metadata": {},
     "output_type": "execute_result"
    }
   ],
   "source": [
    "li = [[\"abc\",456],[\"ddd\",444],['eee',457]]\n",
    "li.sort(reverse=True)\n",
    "li"
   ]
  },
  {
   "cell_type": "code",
   "execution_count": 56,
   "metadata": {},
   "outputs": [
    {
     "data": {
      "text/plain": [
       "[['zdd', 444], ['eee', 457], ['abc', 456]]"
      ]
     },
     "execution_count": 56,
     "metadata": {},
     "output_type": "execute_result"
    }
   ],
   "source": [
    "li = [[\"abc\",456],[\"zdd\",444],['eee',457]]\n",
    "li.sort(reverse=True)\n",
    "li"
   ]
  },
  {
   "cell_type": "code",
   "execution_count": null,
   "metadata": {},
   "outputs": [],
   "source": []
  }
 ],
 "metadata": {
  "kernelspec": {
   "display_name": "Python 3",
   "language": "python",
   "name": "python3"
  },
  "language_info": {
   "codemirror_mode": {
    "name": "ipython",
    "version": 3
   },
   "file_extension": ".py",
   "mimetype": "text/x-python",
   "name": "python",
   "nbconvert_exporter": "python",
   "pygments_lexer": "ipython3",
   "version": "3.8.8"
  }
 },
 "nbformat": 4,
 "nbformat_minor": 4
}
