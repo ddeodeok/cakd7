{
 "cells": [
  {
   "cell_type": "markdown",
   "id": "3f11bbb8",
   "metadata": {},
   "source": [
    "### Q1. titanic 데이터셋에서 age, fare 2개 열을 선택하여 데이터프레임 df를 만드세요\n",
    "import pandas as pd\n",
    "import seaborn as sns\n",
    "\n",
    "df = sns.load_dataset('titanic')"
   ]
  },
  {
   "cell_type": "code",
   "execution_count": 3,
   "id": "6ed49ff7",
   "metadata": {},
   "outputs": [
    {
     "data": {
      "text/html": [
       "<div>\n",
       "<style scoped>\n",
       "    .dataframe tbody tr th:only-of-type {\n",
       "        vertical-align: middle;\n",
       "    }\n",
       "\n",
       "    .dataframe tbody tr th {\n",
       "        vertical-align: top;\n",
       "    }\n",
       "\n",
       "    .dataframe thead th {\n",
       "        text-align: right;\n",
       "    }\n",
       "</style>\n",
       "<table border=\"1\" class=\"dataframe\">\n",
       "  <thead>\n",
       "    <tr style=\"text-align: right;\">\n",
       "      <th></th>\n",
       "      <th>survived</th>\n",
       "      <th>pclass</th>\n",
       "      <th>sex</th>\n",
       "      <th>age</th>\n",
       "      <th>sibsp</th>\n",
       "      <th>parch</th>\n",
       "      <th>fare</th>\n",
       "      <th>embarked</th>\n",
       "      <th>class</th>\n",
       "      <th>who</th>\n",
       "      <th>adult_male</th>\n",
       "      <th>deck</th>\n",
       "      <th>embark_town</th>\n",
       "      <th>alive</th>\n",
       "      <th>alone</th>\n",
       "    </tr>\n",
       "  </thead>\n",
       "  <tbody>\n",
       "    <tr>\n",
       "      <th>0</th>\n",
       "      <td>0</td>\n",
       "      <td>3</td>\n",
       "      <td>male</td>\n",
       "      <td>22.0</td>\n",
       "      <td>1</td>\n",
       "      <td>0</td>\n",
       "      <td>7.2500</td>\n",
       "      <td>S</td>\n",
       "      <td>Third</td>\n",
       "      <td>man</td>\n",
       "      <td>True</td>\n",
       "      <td>NaN</td>\n",
       "      <td>Southampton</td>\n",
       "      <td>no</td>\n",
       "      <td>False</td>\n",
       "    </tr>\n",
       "    <tr>\n",
       "      <th>1</th>\n",
       "      <td>1</td>\n",
       "      <td>1</td>\n",
       "      <td>female</td>\n",
       "      <td>38.0</td>\n",
       "      <td>1</td>\n",
       "      <td>0</td>\n",
       "      <td>71.2833</td>\n",
       "      <td>C</td>\n",
       "      <td>First</td>\n",
       "      <td>woman</td>\n",
       "      <td>False</td>\n",
       "      <td>C</td>\n",
       "      <td>Cherbourg</td>\n",
       "      <td>yes</td>\n",
       "      <td>False</td>\n",
       "    </tr>\n",
       "    <tr>\n",
       "      <th>2</th>\n",
       "      <td>1</td>\n",
       "      <td>3</td>\n",
       "      <td>female</td>\n",
       "      <td>26.0</td>\n",
       "      <td>0</td>\n",
       "      <td>0</td>\n",
       "      <td>7.9250</td>\n",
       "      <td>S</td>\n",
       "      <td>Third</td>\n",
       "      <td>woman</td>\n",
       "      <td>False</td>\n",
       "      <td>NaN</td>\n",
       "      <td>Southampton</td>\n",
       "      <td>yes</td>\n",
       "      <td>True</td>\n",
       "    </tr>\n",
       "    <tr>\n",
       "      <th>3</th>\n",
       "      <td>1</td>\n",
       "      <td>1</td>\n",
       "      <td>female</td>\n",
       "      <td>35.0</td>\n",
       "      <td>1</td>\n",
       "      <td>0</td>\n",
       "      <td>53.1000</td>\n",
       "      <td>S</td>\n",
       "      <td>First</td>\n",
       "      <td>woman</td>\n",
       "      <td>False</td>\n",
       "      <td>C</td>\n",
       "      <td>Southampton</td>\n",
       "      <td>yes</td>\n",
       "      <td>False</td>\n",
       "    </tr>\n",
       "    <tr>\n",
       "      <th>4</th>\n",
       "      <td>0</td>\n",
       "      <td>3</td>\n",
       "      <td>male</td>\n",
       "      <td>35.0</td>\n",
       "      <td>0</td>\n",
       "      <td>0</td>\n",
       "      <td>8.0500</td>\n",
       "      <td>S</td>\n",
       "      <td>Third</td>\n",
       "      <td>man</td>\n",
       "      <td>True</td>\n",
       "      <td>NaN</td>\n",
       "      <td>Southampton</td>\n",
       "      <td>no</td>\n",
       "      <td>True</td>\n",
       "    </tr>\n",
       "  </tbody>\n",
       "</table>\n",
       "</div>"
      ],
      "text/plain": [
       "   survived  pclass     sex   age  sibsp  parch     fare embarked  class  \\\n",
       "0         0       3    male  22.0      1      0   7.2500        S  Third   \n",
       "1         1       1  female  38.0      1      0  71.2833        C  First   \n",
       "2         1       3  female  26.0      0      0   7.9250        S  Third   \n",
       "3         1       1  female  35.0      1      0  53.1000        S  First   \n",
       "4         0       3    male  35.0      0      0   8.0500        S  Third   \n",
       "\n",
       "     who  adult_male deck  embark_town alive  alone  \n",
       "0    man        True  NaN  Southampton    no  False  \n",
       "1  woman       False    C    Cherbourg   yes  False  \n",
       "2  woman       False  NaN  Southampton   yes   True  \n",
       "3  woman       False    C  Southampton   yes  False  \n",
       "4    man        True  NaN  Southampton    no   True  "
      ]
     },
     "execution_count": 3,
     "metadata": {},
     "output_type": "execute_result"
    }
   ],
   "source": [
    "import pandas as pd\n",
    "import seaborn as sns\n",
    "df = sns.load_dataset('titanic')\n",
    "df.head()"
   ]
  },
  {
   "cell_type": "code",
   "execution_count": 4,
   "id": "d514524e",
   "metadata": {},
   "outputs": [
    {
     "data": {
      "text/html": [
       "<div>\n",
       "<style scoped>\n",
       "    .dataframe tbody tr th:only-of-type {\n",
       "        vertical-align: middle;\n",
       "    }\n",
       "\n",
       "    .dataframe tbody tr th {\n",
       "        vertical-align: top;\n",
       "    }\n",
       "\n",
       "    .dataframe thead th {\n",
       "        text-align: right;\n",
       "    }\n",
       "</style>\n",
       "<table border=\"1\" class=\"dataframe\">\n",
       "  <thead>\n",
       "    <tr style=\"text-align: right;\">\n",
       "      <th></th>\n",
       "      <th>age</th>\n",
       "      <th>fare</th>\n",
       "    </tr>\n",
       "  </thead>\n",
       "  <tbody>\n",
       "    <tr>\n",
       "      <th>0</th>\n",
       "      <td>22.0</td>\n",
       "      <td>7.2500</td>\n",
       "    </tr>\n",
       "    <tr>\n",
       "      <th>1</th>\n",
       "      <td>38.0</td>\n",
       "      <td>71.2833</td>\n",
       "    </tr>\n",
       "    <tr>\n",
       "      <th>2</th>\n",
       "      <td>26.0</td>\n",
       "      <td>7.9250</td>\n",
       "    </tr>\n",
       "    <tr>\n",
       "      <th>3</th>\n",
       "      <td>35.0</td>\n",
       "      <td>53.1000</td>\n",
       "    </tr>\n",
       "    <tr>\n",
       "      <th>4</th>\n",
       "      <td>35.0</td>\n",
       "      <td>8.0500</td>\n",
       "    </tr>\n",
       "  </tbody>\n",
       "</table>\n",
       "</div>"
      ],
      "text/plain": [
       "    age     fare\n",
       "0  22.0   7.2500\n",
       "1  38.0  71.2833\n",
       "2  26.0   7.9250\n",
       "3  35.0  53.1000\n",
       "4  35.0   8.0500"
      ]
     },
     "execution_count": 4,
     "metadata": {},
     "output_type": "execute_result"
    }
   ],
   "source": [
    "df2 = df[['age','fare']]\n",
    "df2.head()"
   ]
  },
  {
   "cell_type": "markdown",
   "id": "0d4963b8",
   "metadata": {},
   "source": [
    "### Q2. 10을 더하는 함수 add_10 과 두 객체의 합 add_two_obj 함수를 정의한 후 결과값이 각각 20과 20을 출력하세요.\n"
   ]
  },
  {
   "cell_type": "code",
   "execution_count": 5,
   "id": "2eeeec0d",
   "metadata": {},
   "outputs": [
    {
     "name": "stdout",
     "output_type": "stream",
     "text": [
      "20\n",
      "20\n"
     ]
    }
   ],
   "source": [
    "def add_10(x):\n",
    "    return x+10\n",
    "def add_two_obj(a,b):\n",
    "    return a+b\n",
    "print(add_10(10))\n",
    "print(add_two_obj(10,10))"
   ]
  },
  {
   "cell_type": "markdown",
   "id": "a02ace95",
   "metadata": {},
   "source": [
    "### Q3. 10을 곱하는 사용자 함수와 두 객체의 나눗셈을 수행하는 사용자 함수를 정의한 후 결과값이 각각 200과 10을 출력하세요.\n"
   ]
  },
  {
   "cell_type": "code",
   "execution_count": 6,
   "id": "a02730b6",
   "metadata": {},
   "outputs": [
    {
     "name": "stdout",
     "output_type": "stream",
     "text": [
      "200\n",
      "10.0\n"
     ]
    }
   ],
   "source": [
    "def mul_10(x):\n",
    "    return x*10\n",
    "def dvi_two(a,b):\n",
    "    return a/b\n",
    "print(mul_10(20))\n",
    "print(dvi_two(100,10))"
   ]
  },
  {
   "cell_type": "markdown",
   "id": "f840b537",
   "metadata": {},
   "source": [
    "### Q4. df.age 에 add_10 함수를 적용해서 출력하세요.\n"
   ]
  },
  {
   "cell_type": "code",
   "execution_count": 7,
   "id": "7d3c192c",
   "metadata": {},
   "outputs": [
    {
     "data": {
      "text/plain": [
       "0    32.0\n",
       "1    48.0\n",
       "2    36.0\n",
       "3    45.0\n",
       "4    45.0\n",
       "Name: age, dtype: float64"
      ]
     },
     "execution_count": 7,
     "metadata": {},
     "output_type": "execute_result"
    }
   ],
   "source": [
    "df['age'].apply(add_10).head()"
   ]
  },
  {
   "cell_type": "markdown",
   "id": "9c2c5c72",
   "metadata": {},
   "source": [
    "### Q5. 시리즈 객체 + 숫자를 연산하는 방식으로 df.age에 10을 더한 후 sr2에 저장하고 출력하세요"
   ]
  },
  {
   "cell_type": "code",
   "execution_count": 8,
   "id": "a9d63c1c",
   "metadata": {},
   "outputs": [
    {
     "name": "stdout",
     "output_type": "stream",
     "text": [
      "0    32.0\n",
      "1    48.0\n",
      "2    36.0\n",
      "3    45.0\n",
      "4    45.0\n",
      "Name: age, dtype: float64\n"
     ]
    }
   ],
   "source": [
    "sr2 = df['age']+10\n",
    "print(sr2.head())"
   ]
  },
  {
   "cell_type": "markdown",
   "id": "14f203fe",
   "metadata": {},
   "source": [
    "### Q6. 람다 함수를 활용해서 위와 같은 연산을 수행하고 결과를 sr3로 출력하세요."
   ]
  },
  {
   "cell_type": "code",
   "execution_count": 9,
   "id": "cd35d89c",
   "metadata": {
    "scrolled": true
   },
   "outputs": [
    {
     "data": {
      "text/plain": [
       "0    32.0\n",
       "1    48.0\n",
       "2    36.0\n",
       "3    45.0\n",
       "4    45.0\n",
       "Name: age, dtype: float64"
      ]
     },
     "execution_count": 9,
     "metadata": {},
     "output_type": "execute_result"
    }
   ],
   "source": [
    "a = lambda x: x+10\n",
    "#sr3 = df['age'].apply(a)\n",
    "sr3 = df.loc[:,'age'].apply(a)\n",
    "sr3.head()"
   ]
  },
  {
   "cell_type": "markdown",
   "id": "42a60a7e",
   "metadata": {},
   "source": [
    "### Q7. df의 'age', 'fare' 칼럼에 10을 덧셈연산하는 사용자 함수를 정의하고 applymap()으로 각 사용자 함수를 매핑한 후 출력하세요."
   ]
  },
  {
   "cell_type": "code",
   "execution_count": 10,
   "id": "9fa54412",
   "metadata": {},
   "outputs": [
    {
     "data": {
      "text/html": [
       "<div>\n",
       "<style scoped>\n",
       "    .dataframe tbody tr th:only-of-type {\n",
       "        vertical-align: middle;\n",
       "    }\n",
       "\n",
       "    .dataframe tbody tr th {\n",
       "        vertical-align: top;\n",
       "    }\n",
       "\n",
       "    .dataframe thead th {\n",
       "        text-align: right;\n",
       "    }\n",
       "</style>\n",
       "<table border=\"1\" class=\"dataframe\">\n",
       "  <thead>\n",
       "    <tr style=\"text-align: right;\">\n",
       "      <th></th>\n",
       "      <th>age</th>\n",
       "      <th>fare</th>\n",
       "    </tr>\n",
       "  </thead>\n",
       "  <tbody>\n",
       "    <tr>\n",
       "      <th>0</th>\n",
       "      <td>32.0</td>\n",
       "      <td>17.2500</td>\n",
       "    </tr>\n",
       "    <tr>\n",
       "      <th>1</th>\n",
       "      <td>48.0</td>\n",
       "      <td>81.2833</td>\n",
       "    </tr>\n",
       "    <tr>\n",
       "      <th>2</th>\n",
       "      <td>36.0</td>\n",
       "      <td>17.9250</td>\n",
       "    </tr>\n",
       "    <tr>\n",
       "      <th>3</th>\n",
       "      <td>45.0</td>\n",
       "      <td>63.1000</td>\n",
       "    </tr>\n",
       "    <tr>\n",
       "      <th>4</th>\n",
       "      <td>45.0</td>\n",
       "      <td>18.0500</td>\n",
       "    </tr>\n",
       "  </tbody>\n",
       "</table>\n",
       "</div>"
      ],
      "text/plain": [
       "    age     fare\n",
       "0  32.0  17.2500\n",
       "1  48.0  81.2833\n",
       "2  36.0  17.9250\n",
       "3  45.0  63.1000\n",
       "4  45.0  18.0500"
      ]
     },
     "metadata": {},
     "output_type": "display_data"
    }
   ],
   "source": [
    "# 데이터프레임의 원소에 applymap() 적용\n",
    "# 데이터프레임의 개별원소에 특정 함수를 매핑하려면 applymap()메소드 활용\n",
    "df_map= df[['age','fare']].applymap(add_10)\n",
    "display(df_map.head())\n"
   ]
  },
  {
   "cell_type": "markdown",
   "id": "8d8ece9e",
   "metadata": {},
   "source": [
    "### Q8. df_map의 [0,0]을 NaN으로 변경한 후 missing_value 함수를 적용해서 불린 시리즈를 반환하세요."
   ]
  },
  {
   "cell_type": "code",
   "execution_count": 11,
   "id": "a3e347ce",
   "metadata": {
    "scrolled": true
   },
   "outputs": [
    {
     "data": {
      "text/plain": [
       "32.0"
      ]
     },
     "metadata": {},
     "output_type": "display_data"
    },
    {
     "data": {
      "text/plain": [
       "'원래 있던 값'"
      ]
     },
     "metadata": {},
     "output_type": "display_data"
    },
    {
     "data": {
      "text/html": [
       "<div>\n",
       "<style scoped>\n",
       "    .dataframe tbody tr th:only-of-type {\n",
       "        vertical-align: middle;\n",
       "    }\n",
       "\n",
       "    .dataframe tbody tr th {\n",
       "        vertical-align: top;\n",
       "    }\n",
       "\n",
       "    .dataframe thead th {\n",
       "        text-align: right;\n",
       "    }\n",
       "</style>\n",
       "<table border=\"1\" class=\"dataframe\">\n",
       "  <thead>\n",
       "    <tr style=\"text-align: right;\">\n",
       "      <th></th>\n",
       "      <th>age</th>\n",
       "      <th>fare</th>\n",
       "    </tr>\n",
       "  </thead>\n",
       "  <tbody>\n",
       "    <tr>\n",
       "      <th>0</th>\n",
       "      <td>NaN</td>\n",
       "      <td>17.2500</td>\n",
       "    </tr>\n",
       "    <tr>\n",
       "      <th>1</th>\n",
       "      <td>48.0</td>\n",
       "      <td>81.2833</td>\n",
       "    </tr>\n",
       "    <tr>\n",
       "      <th>2</th>\n",
       "      <td>36.0</td>\n",
       "      <td>17.9250</td>\n",
       "    </tr>\n",
       "    <tr>\n",
       "      <th>3</th>\n",
       "      <td>45.0</td>\n",
       "      <td>63.1000</td>\n",
       "    </tr>\n",
       "    <tr>\n",
       "      <th>4</th>\n",
       "      <td>45.0</td>\n",
       "      <td>18.0500</td>\n",
       "    </tr>\n",
       "  </tbody>\n",
       "</table>\n",
       "</div>"
      ],
      "text/plain": [
       "    age     fare\n",
       "0   NaN  17.2500\n",
       "1  48.0  81.2833\n",
       "2  36.0  17.9250\n",
       "3  45.0  63.1000\n",
       "4  45.0  18.0500"
      ]
     },
     "metadata": {},
     "output_type": "display_data"
    },
    {
     "name": "stdout",
     "output_type": "stream",
     "text": [
      "       age   fare\n",
      "0     True  False\n",
      "1    False  False\n",
      "2    False  False\n",
      "3    False  False\n",
      "4    False  False\n",
      "..     ...    ...\n",
      "886  False  False\n",
      "887  False  False\n",
      "888   True  False\n",
      "889  False  False\n",
      "890  False  False\n",
      "\n",
      "[891 rows x 2 columns]\n"
     ]
    }
   ],
   "source": [
    "import numpy as np\n",
    "df_map.replace(0,np.NaN)\n",
    "def missing_value(series):\n",
    "     return series.isnull()\n",
    "    \n",
    "display(df_map.iloc[0,0], '원래 있던 값')\n",
    "df_map.iloc[0,0] = np.nan   #NaN 값 대입\n",
    "display(df_map.head())\n",
    "\n",
    "result = df_map.apply(missing_value, axis=0)\n",
    "print(result)\n",
    "    "
   ]
  },
  {
   "cell_type": "markdown",
   "id": "e3caa31b",
   "metadata": {},
   "source": [
    "### Q9. titanic 데이터셋을 seaborn에서 로딩한 후 블린 인덱싱을 이용하여 아래 사항들을 수행하세요.\n",
    "- 나이가 10대(10~19세)인 승객만 따로 선택\n",
    "- 나이가 10세 미만(0~9세)이고 여성인 승객만 따로 선택\n",
    "- 나이가 10세 미만(0~9세) 또는 60세 이상인 승객의 age, sex, alone 열만 선택"
   ]
  },
  {
   "cell_type": "code",
   "execution_count": 12,
   "id": "4afc48bb",
   "metadata": {},
   "outputs": [],
   "source": [
    "import pandas as pd\n",
    "import seaborn as sns\n",
    "df = sns.load_dataset('titanic')\n",
    "cond1 = (df.age >=10)&(df.age<20) \n",
    "df_c1 = df.loc[cond1,:]  #나이가 10대 승객\n",
    "\n",
    "cond2 = (df.age<10) & (df.sex=='female')\n",
    "df_c2 = df.loc[cond2,:]  #나이 10세미만 여성승객\n",
    "\n",
    "cond3 = (df.age<10) | (df.age>=60)\n",
    "df_c3 = df.loc[cond3,['age','sex','alone']]\n"
   ]
  },
  {
   "cell_type": "markdown",
   "id": "abc5882d",
   "metadata": {},
   "source": [
    "### Q10. 나이가 10세 미만(0~9세) 또는 60세 이상인 승객의 alone 열만 선택한 후 값을 True로 변경하세요"
   ]
  },
  {
   "cell_type": "code",
   "execution_count": 13,
   "id": "e69e4c7b",
   "metadata": {},
   "outputs": [],
   "source": [
    "cond4 = (df.age<10) | (df.age>=60)\n",
    "df_c4 = df.loc[cond4,'alone']\n",
    "df_c4[:]=True"
   ]
  },
  {
   "cell_type": "markdown",
   "id": "f1127537",
   "metadata": {},
   "source": [
    "#### 그룹 연산\n",
    "- 복잡한 데이터를 어떤 기준에 따라 여러 그룹으로 나누어서 관찰할 수 있으며 이런 방식으로 분할 처리하는 것을 그룹 연산이라 함.\n",
    "- 그룹 연산은 데이터를 집계, 반환, 필터하는데 효율적이며 판다스 groupby() 메소드를 사용\n",
    "- 그룹 객체 만들기(분할)\n",
    "- 그룹 연산 메소드(적용-결합)"
   ]
  },
  {
   "cell_type": "code",
   "execution_count": 14,
   "id": "1d222ddc",
   "metadata": {},
   "outputs": [
    {
     "data": {
      "text/plain": [
       "Index(['survived', 'pclass', 'sex', 'age', 'sibsp', 'parch', 'fare',\n",
       "       'embarked', 'class', 'who', 'adult_male', 'deck', 'embark_town',\n",
       "       'alive', 'alone'],\n",
       "      dtype='object')"
      ]
     },
     "execution_count": 14,
     "metadata": {},
     "output_type": "execute_result"
    }
   ],
   "source": [
    "import pandas as pd\n",
    "import seaborn as sns\n",
    "\n",
    "titanic = sns.load_dataset('titanic')\n",
    "titanic.columns"
   ]
  },
  {
   "cell_type": "code",
   "execution_count": 15,
   "id": "2f4549c9",
   "metadata": {},
   "outputs": [
    {
     "data": {
      "text/html": [
       "<div>\n",
       "<style scoped>\n",
       "    .dataframe tbody tr th:only-of-type {\n",
       "        vertical-align: middle;\n",
       "    }\n",
       "\n",
       "    .dataframe tbody tr th {\n",
       "        vertical-align: top;\n",
       "    }\n",
       "\n",
       "    .dataframe thead th {\n",
       "        text-align: right;\n",
       "    }\n",
       "</style>\n",
       "<table border=\"1\" class=\"dataframe\">\n",
       "  <thead>\n",
       "    <tr style=\"text-align: right;\">\n",
       "      <th></th>\n",
       "      <th>survived</th>\n",
       "      <th>pclass</th>\n",
       "      <th>sex</th>\n",
       "      <th>age</th>\n",
       "      <th>sibsp</th>\n",
       "      <th>parch</th>\n",
       "      <th>fare</th>\n",
       "      <th>embarked</th>\n",
       "      <th>class</th>\n",
       "      <th>who</th>\n",
       "      <th>adult_male</th>\n",
       "      <th>deck</th>\n",
       "      <th>embark_town</th>\n",
       "      <th>alive</th>\n",
       "      <th>alone</th>\n",
       "    </tr>\n",
       "  </thead>\n",
       "  <tbody>\n",
       "    <tr>\n",
       "      <th>0</th>\n",
       "      <td>0</td>\n",
       "      <td>3</td>\n",
       "      <td>male</td>\n",
       "      <td>22.0</td>\n",
       "      <td>1</td>\n",
       "      <td>0</td>\n",
       "      <td>7.2500</td>\n",
       "      <td>S</td>\n",
       "      <td>Third</td>\n",
       "      <td>man</td>\n",
       "      <td>True</td>\n",
       "      <td>NaN</td>\n",
       "      <td>Southampton</td>\n",
       "      <td>no</td>\n",
       "      <td>False</td>\n",
       "    </tr>\n",
       "    <tr>\n",
       "      <th>1</th>\n",
       "      <td>1</td>\n",
       "      <td>1</td>\n",
       "      <td>female</td>\n",
       "      <td>38.0</td>\n",
       "      <td>1</td>\n",
       "      <td>0</td>\n",
       "      <td>71.2833</td>\n",
       "      <td>C</td>\n",
       "      <td>First</td>\n",
       "      <td>woman</td>\n",
       "      <td>False</td>\n",
       "      <td>C</td>\n",
       "      <td>Cherbourg</td>\n",
       "      <td>yes</td>\n",
       "      <td>False</td>\n",
       "    </tr>\n",
       "    <tr>\n",
       "      <th>2</th>\n",
       "      <td>1</td>\n",
       "      <td>3</td>\n",
       "      <td>female</td>\n",
       "      <td>26.0</td>\n",
       "      <td>0</td>\n",
       "      <td>0</td>\n",
       "      <td>7.9250</td>\n",
       "      <td>S</td>\n",
       "      <td>Third</td>\n",
       "      <td>woman</td>\n",
       "      <td>False</td>\n",
       "      <td>NaN</td>\n",
       "      <td>Southampton</td>\n",
       "      <td>yes</td>\n",
       "      <td>True</td>\n",
       "    </tr>\n",
       "    <tr>\n",
       "      <th>3</th>\n",
       "      <td>1</td>\n",
       "      <td>1</td>\n",
       "      <td>female</td>\n",
       "      <td>35.0</td>\n",
       "      <td>1</td>\n",
       "      <td>0</td>\n",
       "      <td>53.1000</td>\n",
       "      <td>S</td>\n",
       "      <td>First</td>\n",
       "      <td>woman</td>\n",
       "      <td>False</td>\n",
       "      <td>C</td>\n",
       "      <td>Southampton</td>\n",
       "      <td>yes</td>\n",
       "      <td>False</td>\n",
       "    </tr>\n",
       "    <tr>\n",
       "      <th>4</th>\n",
       "      <td>0</td>\n",
       "      <td>3</td>\n",
       "      <td>male</td>\n",
       "      <td>35.0</td>\n",
       "      <td>0</td>\n",
       "      <td>0</td>\n",
       "      <td>8.0500</td>\n",
       "      <td>S</td>\n",
       "      <td>Third</td>\n",
       "      <td>man</td>\n",
       "      <td>True</td>\n",
       "      <td>NaN</td>\n",
       "      <td>Southampton</td>\n",
       "      <td>no</td>\n",
       "      <td>True</td>\n",
       "    </tr>\n",
       "  </tbody>\n",
       "</table>\n",
       "</div>"
      ],
      "text/plain": [
       "   survived  pclass     sex   age  sibsp  parch     fare embarked  class  \\\n",
       "0         0       3    male  22.0      1      0   7.2500        S  Third   \n",
       "1         1       1  female  38.0      1      0  71.2833        C  First   \n",
       "2         1       3  female  26.0      0      0   7.9250        S  Third   \n",
       "3         1       1  female  35.0      1      0  53.1000        S  First   \n",
       "4         0       3    male  35.0      0      0   8.0500        S  Third   \n",
       "\n",
       "     who  adult_male deck  embark_town alive  alone  \n",
       "0    man        True  NaN  Southampton    no  False  \n",
       "1  woman       False    C    Cherbourg   yes  False  \n",
       "2  woman       False  NaN  Southampton   yes   True  \n",
       "3  woman       False    C  Southampton   yes  False  \n",
       "4    man        True  NaN  Southampton    no   True  "
      ]
     },
     "execution_count": 15,
     "metadata": {},
     "output_type": "execute_result"
    }
   ],
   "source": [
    "titanic.head()"
   ]
  },
  {
   "cell_type": "code",
   "execution_count": 16,
   "id": "532b53b1",
   "metadata": {},
   "outputs": [
    {
     "name": "stdout",
     "output_type": "stream",
     "text": [
      "승객 수: 891\n",
      "    age     sex  class     fare  survived\n",
      "0  22.0    male  Third   7.2500         0\n",
      "1  38.0  female  First  71.2833         1\n",
      "2  26.0  female  Third   7.9250         1\n",
      "3  35.0  female  First  53.1000         1\n",
      "4  35.0    male  Third   8.0500         0\n"
     ]
    }
   ],
   "source": [
    "import pandas as pd\n",
    "import seaborn as sns\n",
    "\n",
    "titanic = sns.load_dataset('titanic')\n",
    "df = titanic.loc[:,['age','sex','class','fare','survived']]\n",
    "\n",
    "print('승객 수:', len(df))\n",
    "print(df.head())"
   ]
  },
  {
   "cell_type": "code",
   "execution_count": 17,
   "id": "fafdb43d",
   "metadata": {},
   "outputs": [
    {
     "data": {
      "text/plain": [
       "Index(['age', 'sex', 'class', 'fare', 'survived'], dtype='object')"
      ]
     },
     "execution_count": 17,
     "metadata": {},
     "output_type": "execute_result"
    }
   ],
   "source": [
    "df.columns"
   ]
  },
  {
   "cell_type": "code",
   "execution_count": 18,
   "id": "c1af7c99",
   "metadata": {},
   "outputs": [
    {
     "name": "stdout",
     "output_type": "stream",
     "text": [
      "<pandas.core.groupby.generic.DataFrameGroupBy object at 0x000001E0CA5836D0>\n"
     ]
    },
    {
     "data": {
      "text/plain": [
       "[('First',\n",
       "        age     sex  class     fare  survived\n",
       "  1    38.0  female  First  71.2833         1\n",
       "  3    35.0  female  First  53.1000         1\n",
       "  6    54.0    male  First  51.8625         0\n",
       "  11   58.0  female  First  26.5500         1\n",
       "  23   28.0    male  First  35.5000         1\n",
       "  ..    ...     ...    ...      ...       ...\n",
       "  871  47.0  female  First  52.5542         1\n",
       "  872  33.0    male  First   5.0000         0\n",
       "  879  56.0  female  First  83.1583         1\n",
       "  887  19.0  female  First  30.0000         1\n",
       "  889  26.0    male  First  30.0000         1\n",
       "  \n",
       "  [216 rows x 5 columns]),\n",
       " ('Second',\n",
       "        age     sex   class     fare  survived\n",
       "  9    14.0  female  Second  30.0708         1\n",
       "  15   55.0  female  Second  16.0000         1\n",
       "  17    NaN    male  Second  13.0000         1\n",
       "  20   35.0    male  Second  26.0000         0\n",
       "  21   34.0    male  Second  13.0000         1\n",
       "  ..    ...     ...     ...      ...       ...\n",
       "  866  27.0  female  Second  13.8583         1\n",
       "  874  28.0  female  Second  24.0000         1\n",
       "  880  25.0  female  Second  26.0000         1\n",
       "  883  28.0    male  Second  10.5000         0\n",
       "  886  27.0    male  Second  13.0000         0\n",
       "  \n",
       "  [184 rows x 5 columns]),\n",
       " ('Third',\n",
       "        age     sex  class     fare  survived\n",
       "  0    22.0    male  Third   7.2500         0\n",
       "  2    26.0  female  Third   7.9250         1\n",
       "  4    35.0    male  Third   8.0500         0\n",
       "  5     NaN    male  Third   8.4583         0\n",
       "  7     2.0    male  Third  21.0750         0\n",
       "  ..    ...     ...    ...      ...       ...\n",
       "  882  22.0  female  Third  10.5167         0\n",
       "  884  25.0    male  Third   7.0500         0\n",
       "  885  39.0  female  Third  29.1250         0\n",
       "  888   NaN  female  Third  23.4500         0\n",
       "  890  32.0    male  Third   7.7500         0\n",
       "  \n",
       "  [491 rows x 5 columns])]"
      ]
     },
     "execution_count": 18,
     "metadata": {},
     "output_type": "execute_result"
    }
   ],
   "source": [
    "# class열을 기준으로 그룹핑(분할)\n",
    "grouped = df.groupby(['class'])   #groupby(['컬럼']) value 값별로 묶음\n",
    "print(grouped)\n",
    "list(grouped)"
   ]
  },
  {
   "cell_type": "code",
   "execution_count": 19,
   "id": "75cb3ab4",
   "metadata": {},
   "outputs": [
    {
     "name": "stdout",
     "output_type": "stream",
     "text": [
      "* key : First\n",
      "* number : 216\n",
      "     age     sex  class     fare  survived\n",
      "1   38.0  female  First  71.2833         1\n",
      "3   35.0  female  First  53.1000         1\n",
      "6   54.0    male  First  51.8625         0\n",
      "11  58.0  female  First  26.5500         1\n",
      "23  28.0    male  First  35.5000         1\n",
      "* key : Second\n",
      "* number : 184\n",
      "     age     sex   class     fare  survived\n",
      "9   14.0  female  Second  30.0708         1\n",
      "15  55.0  female  Second  16.0000         1\n",
      "17   NaN    male  Second  13.0000         1\n",
      "20  35.0    male  Second  26.0000         0\n",
      "21  34.0    male  Second  13.0000         1\n",
      "* key : Third\n",
      "* number : 491\n",
      "    age     sex  class     fare  survived\n",
      "0  22.0    male  Third   7.2500         0\n",
      "2  26.0  female  Third   7.9250         1\n",
      "4  35.0    male  Third   8.0500         0\n",
      "5   NaN    male  Third   8.4583         0\n",
      "7   2.0    male  Third  21.0750         0\n"
     ]
    }
   ],
   "source": [
    "# 그룹 객체 iteration으로 출력\n",
    "for key, group in grouped:\n",
    "    print('* key :', key)\n",
    "    print('* number :', len(group))  #수량\n",
    "    print(group.head())"
   ]
  },
  {
   "cell_type": "code",
   "execution_count": 20,
   "id": "f5195634",
   "metadata": {},
   "outputs": [
    {
     "name": "stdout",
     "output_type": "stream",
     "text": [
      "              age       fare  survived\n",
      "class                                 \n",
      "First   38.233441  84.154687  0.629630\n",
      "Second  29.877630  20.662183  0.472826\n",
      "Third   25.140620  13.675550  0.242363\n"
     ]
    }
   ],
   "source": [
    "# 연산 메서드 적용\n",
    "average = grouped.mean()\n",
    "print(average)"
   ]
  },
  {
   "cell_type": "code",
   "execution_count": 21,
   "id": "8401c47b",
   "metadata": {},
   "outputs": [
    {
     "data": {
      "text/html": [
       "<div>\n",
       "<style scoped>\n",
       "    .dataframe tbody tr th:only-of-type {\n",
       "        vertical-align: middle;\n",
       "    }\n",
       "\n",
       "    .dataframe tbody tr th {\n",
       "        vertical-align: top;\n",
       "    }\n",
       "\n",
       "    .dataframe thead th {\n",
       "        text-align: right;\n",
       "    }\n",
       "</style>\n",
       "<table border=\"1\" class=\"dataframe\">\n",
       "  <thead>\n",
       "    <tr style=\"text-align: right;\">\n",
       "      <th></th>\n",
       "      <th>age</th>\n",
       "      <th>sex</th>\n",
       "      <th>fare</th>\n",
       "      <th>survived</th>\n",
       "    </tr>\n",
       "    <tr>\n",
       "      <th>class</th>\n",
       "      <th></th>\n",
       "      <th></th>\n",
       "      <th></th>\n",
       "      <th></th>\n",
       "    </tr>\n",
       "  </thead>\n",
       "  <tbody>\n",
       "    <tr>\n",
       "      <th>First</th>\n",
       "      <td>80.0</td>\n",
       "      <td>male</td>\n",
       "      <td>512.3292</td>\n",
       "      <td>1</td>\n",
       "    </tr>\n",
       "    <tr>\n",
       "      <th>Second</th>\n",
       "      <td>70.0</td>\n",
       "      <td>male</td>\n",
       "      <td>73.5000</td>\n",
       "      <td>1</td>\n",
       "    </tr>\n",
       "    <tr>\n",
       "      <th>Third</th>\n",
       "      <td>74.0</td>\n",
       "      <td>male</td>\n",
       "      <td>69.5500</td>\n",
       "      <td>1</td>\n",
       "    </tr>\n",
       "  </tbody>\n",
       "</table>\n",
       "</div>"
      ],
      "text/plain": [
       "         age   sex      fare  survived\n",
       "class                                 \n",
       "First   80.0  male  512.3292         1\n",
       "Second  70.0  male   73.5000         1\n",
       "Third   74.0  male   69.5500         1"
      ]
     },
     "execution_count": 21,
     "metadata": {},
     "output_type": "execute_result"
    }
   ],
   "source": [
    "stat = grouped.max()\n",
    "stat"
   ]
  },
  {
   "cell_type": "code",
   "execution_count": 22,
   "id": "894c7e5c",
   "metadata": {},
   "outputs": [
    {
     "data": {
      "text/html": [
       "<div>\n",
       "<style scoped>\n",
       "    .dataframe tbody tr th:only-of-type {\n",
       "        vertical-align: middle;\n",
       "    }\n",
       "\n",
       "    .dataframe tbody tr th {\n",
       "        vertical-align: top;\n",
       "    }\n",
       "\n",
       "    .dataframe thead th {\n",
       "        text-align: right;\n",
       "    }\n",
       "</style>\n",
       "<table border=\"1\" class=\"dataframe\">\n",
       "  <thead>\n",
       "    <tr style=\"text-align: right;\">\n",
       "      <th></th>\n",
       "      <th>age</th>\n",
       "      <th>fare</th>\n",
       "      <th>survived</th>\n",
       "    </tr>\n",
       "  </thead>\n",
       "  <tbody>\n",
       "    <tr>\n",
       "      <th>count</th>\n",
       "      <td>355.000000</td>\n",
       "      <td>491.000000</td>\n",
       "      <td>491.000000</td>\n",
       "    </tr>\n",
       "    <tr>\n",
       "      <th>mean</th>\n",
       "      <td>25.140620</td>\n",
       "      <td>13.675550</td>\n",
       "      <td>0.242363</td>\n",
       "    </tr>\n",
       "    <tr>\n",
       "      <th>std</th>\n",
       "      <td>12.495398</td>\n",
       "      <td>11.778142</td>\n",
       "      <td>0.428949</td>\n",
       "    </tr>\n",
       "    <tr>\n",
       "      <th>min</th>\n",
       "      <td>0.420000</td>\n",
       "      <td>0.000000</td>\n",
       "      <td>0.000000</td>\n",
       "    </tr>\n",
       "    <tr>\n",
       "      <th>25%</th>\n",
       "      <td>18.000000</td>\n",
       "      <td>7.750000</td>\n",
       "      <td>0.000000</td>\n",
       "    </tr>\n",
       "    <tr>\n",
       "      <th>50%</th>\n",
       "      <td>24.000000</td>\n",
       "      <td>8.050000</td>\n",
       "      <td>0.000000</td>\n",
       "    </tr>\n",
       "    <tr>\n",
       "      <th>75%</th>\n",
       "      <td>32.000000</td>\n",
       "      <td>15.500000</td>\n",
       "      <td>0.000000</td>\n",
       "    </tr>\n",
       "    <tr>\n",
       "      <th>max</th>\n",
       "      <td>74.000000</td>\n",
       "      <td>69.550000</td>\n",
       "      <td>1.000000</td>\n",
       "    </tr>\n",
       "  </tbody>\n",
       "</table>\n",
       "</div>"
      ],
      "text/plain": [
       "              age        fare    survived\n",
       "count  355.000000  491.000000  491.000000\n",
       "mean    25.140620   13.675550    0.242363\n",
       "std     12.495398   11.778142    0.428949\n",
       "min      0.420000    0.000000    0.000000\n",
       "25%     18.000000    7.750000    0.000000\n",
       "50%     24.000000    8.050000    0.000000\n",
       "75%     32.000000   15.500000    0.000000\n",
       "max     74.000000   69.550000    1.000000"
      ]
     },
     "execution_count": 22,
     "metadata": {},
     "output_type": "execute_result"
    }
   ],
   "source": [
    "# Q. 3rd 그룹만을 선택해서 group3 이름으로 저장하고 통계요약표를 출력\n",
    "group3 = grouped.get_group('Third')\n",
    "group3.describe()"
   ]
  },
  {
   "cell_type": "code",
   "execution_count": 23,
   "id": "0b99abca",
   "metadata": {},
   "outputs": [
    {
     "data": {
      "text/html": [
       "<div>\n",
       "<style scoped>\n",
       "    .dataframe tbody tr th:only-of-type {\n",
       "        vertical-align: middle;\n",
       "    }\n",
       "\n",
       "    .dataframe tbody tr th {\n",
       "        vertical-align: top;\n",
       "    }\n",
       "\n",
       "    .dataframe thead th {\n",
       "        text-align: right;\n",
       "    }\n",
       "</style>\n",
       "<table border=\"1\" class=\"dataframe\">\n",
       "  <thead>\n",
       "    <tr style=\"text-align: right;\">\n",
       "      <th></th>\n",
       "      <th></th>\n",
       "      <th>age</th>\n",
       "      <th>fare</th>\n",
       "      <th>survived</th>\n",
       "    </tr>\n",
       "    <tr>\n",
       "      <th>class</th>\n",
       "      <th>sex</th>\n",
       "      <th></th>\n",
       "      <th></th>\n",
       "      <th></th>\n",
       "    </tr>\n",
       "  </thead>\n",
       "  <tbody>\n",
       "    <tr>\n",
       "      <th rowspan=\"2\" valign=\"top\">First</th>\n",
       "      <th>female</th>\n",
       "      <td>34.611765</td>\n",
       "      <td>106.125798</td>\n",
       "      <td>0.968085</td>\n",
       "    </tr>\n",
       "    <tr>\n",
       "      <th>male</th>\n",
       "      <td>41.281386</td>\n",
       "      <td>67.226127</td>\n",
       "      <td>0.368852</td>\n",
       "    </tr>\n",
       "    <tr>\n",
       "      <th rowspan=\"2\" valign=\"top\">Second</th>\n",
       "      <th>female</th>\n",
       "      <td>28.722973</td>\n",
       "      <td>21.970121</td>\n",
       "      <td>0.921053</td>\n",
       "    </tr>\n",
       "    <tr>\n",
       "      <th>male</th>\n",
       "      <td>30.740707</td>\n",
       "      <td>19.741782</td>\n",
       "      <td>0.157407</td>\n",
       "    </tr>\n",
       "    <tr>\n",
       "      <th rowspan=\"2\" valign=\"top\">Third</th>\n",
       "      <th>female</th>\n",
       "      <td>21.750000</td>\n",
       "      <td>16.118810</td>\n",
       "      <td>0.500000</td>\n",
       "    </tr>\n",
       "    <tr>\n",
       "      <th>male</th>\n",
       "      <td>26.507589</td>\n",
       "      <td>12.661633</td>\n",
       "      <td>0.135447</td>\n",
       "    </tr>\n",
       "  </tbody>\n",
       "</table>\n",
       "</div>"
      ],
      "text/plain": [
       "                     age        fare  survived\n",
       "class  sex                                    \n",
       "First  female  34.611765  106.125798  0.968085\n",
       "       male    41.281386   67.226127  0.368852\n",
       "Second female  28.722973   21.970121  0.921053\n",
       "       male    30.740707   19.741782  0.157407\n",
       "Third  female  21.750000   16.118810  0.500000\n",
       "       male    26.507589   12.661633  0.135447"
      ]
     },
     "execution_count": 23,
     "metadata": {},
     "output_type": "execute_result"
    }
   ],
   "source": [
    "grouped_two = df.groupby(['class','sex'])\n",
    "average_two = grouped_two.mean()\n",
    "average_two"
   ]
  },
  {
   "cell_type": "code",
   "execution_count": 24,
   "id": "f626858a",
   "metadata": {},
   "outputs": [
    {
     "data": {
      "text/html": [
       "<div>\n",
       "<style scoped>\n",
       "    .dataframe tbody tr th:only-of-type {\n",
       "        vertical-align: middle;\n",
       "    }\n",
       "\n",
       "    .dataframe tbody tr th {\n",
       "        vertical-align: top;\n",
       "    }\n",
       "\n",
       "    .dataframe thead th {\n",
       "        text-align: right;\n",
       "    }\n",
       "</style>\n",
       "<table border=\"1\" class=\"dataframe\">\n",
       "  <thead>\n",
       "    <tr style=\"text-align: right;\">\n",
       "      <th></th>\n",
       "      <th>age</th>\n",
       "      <th>sex</th>\n",
       "      <th>class</th>\n",
       "      <th>fare</th>\n",
       "      <th>survived</th>\n",
       "    </tr>\n",
       "  </thead>\n",
       "  <tbody>\n",
       "    <tr>\n",
       "      <th>2</th>\n",
       "      <td>26.0</td>\n",
       "      <td>female</td>\n",
       "      <td>Third</td>\n",
       "      <td>7.9250</td>\n",
       "      <td>1</td>\n",
       "    </tr>\n",
       "    <tr>\n",
       "      <th>8</th>\n",
       "      <td>27.0</td>\n",
       "      <td>female</td>\n",
       "      <td>Third</td>\n",
       "      <td>11.1333</td>\n",
       "      <td>1</td>\n",
       "    </tr>\n",
       "    <tr>\n",
       "      <th>10</th>\n",
       "      <td>4.0</td>\n",
       "      <td>female</td>\n",
       "      <td>Third</td>\n",
       "      <td>16.7000</td>\n",
       "      <td>1</td>\n",
       "    </tr>\n",
       "    <tr>\n",
       "      <th>14</th>\n",
       "      <td>14.0</td>\n",
       "      <td>female</td>\n",
       "      <td>Third</td>\n",
       "      <td>7.8542</td>\n",
       "      <td>0</td>\n",
       "    </tr>\n",
       "    <tr>\n",
       "      <th>18</th>\n",
       "      <td>31.0</td>\n",
       "      <td>female</td>\n",
       "      <td>Third</td>\n",
       "      <td>18.0000</td>\n",
       "      <td>0</td>\n",
       "    </tr>\n",
       "  </tbody>\n",
       "</table>\n",
       "</div>"
      ],
      "text/plain": [
       "     age     sex  class     fare  survived\n",
       "2   26.0  female  Third   7.9250         1\n",
       "8   27.0  female  Third  11.1333         1\n",
       "10   4.0  female  Third  16.7000         1\n",
       "14  14.0  female  Third   7.8542         0\n",
       "18  31.0  female  Third  18.0000         0"
      ]
     },
     "execution_count": 24,
     "metadata": {},
     "output_type": "execute_result"
    }
   ],
   "source": [
    "group3f = grouped_two.get_group(('Third','female'))\n",
    "group3f.head()"
   ]
  },
  {
   "cell_type": "code",
   "execution_count": 25,
   "id": "d77b6310",
   "metadata": {},
   "outputs": [
    {
     "data": {
      "text/html": [
       "<div>\n",
       "<style scoped>\n",
       "    .dataframe tbody tr th:only-of-type {\n",
       "        vertical-align: middle;\n",
       "    }\n",
       "\n",
       "    .dataframe tbody tr th {\n",
       "        vertical-align: top;\n",
       "    }\n",
       "\n",
       "    .dataframe thead tr th {\n",
       "        text-align: left;\n",
       "    }\n",
       "\n",
       "    .dataframe thead tr:last-of-type th {\n",
       "        text-align: right;\n",
       "    }\n",
       "</style>\n",
       "<table border=\"1\" class=\"dataframe\">\n",
       "  <thead>\n",
       "    <tr>\n",
       "      <th></th>\n",
       "      <th colspan=\"2\" halign=\"left\">age</th>\n",
       "      <th colspan=\"2\" halign=\"left\">sex</th>\n",
       "      <th colspan=\"2\" halign=\"left\">fare</th>\n",
       "      <th colspan=\"2\" halign=\"left\">survived</th>\n",
       "    </tr>\n",
       "    <tr>\n",
       "      <th></th>\n",
       "      <th>min</th>\n",
       "      <th>max</th>\n",
       "      <th>min</th>\n",
       "      <th>max</th>\n",
       "      <th>min</th>\n",
       "      <th>max</th>\n",
       "      <th>min</th>\n",
       "      <th>max</th>\n",
       "    </tr>\n",
       "    <tr>\n",
       "      <th>class</th>\n",
       "      <th></th>\n",
       "      <th></th>\n",
       "      <th></th>\n",
       "      <th></th>\n",
       "      <th></th>\n",
       "      <th></th>\n",
       "      <th></th>\n",
       "      <th></th>\n",
       "    </tr>\n",
       "  </thead>\n",
       "  <tbody>\n",
       "    <tr>\n",
       "      <th>First</th>\n",
       "      <td>0.92</td>\n",
       "      <td>80.0</td>\n",
       "      <td>female</td>\n",
       "      <td>male</td>\n",
       "      <td>0.0</td>\n",
       "      <td>512.3292</td>\n",
       "      <td>0</td>\n",
       "      <td>1</td>\n",
       "    </tr>\n",
       "    <tr>\n",
       "      <th>Second</th>\n",
       "      <td>0.67</td>\n",
       "      <td>70.0</td>\n",
       "      <td>female</td>\n",
       "      <td>male</td>\n",
       "      <td>0.0</td>\n",
       "      <td>73.5000</td>\n",
       "      <td>0</td>\n",
       "      <td>1</td>\n",
       "    </tr>\n",
       "    <tr>\n",
       "      <th>Third</th>\n",
       "      <td>0.42</td>\n",
       "      <td>74.0</td>\n",
       "      <td>female</td>\n",
       "      <td>male</td>\n",
       "      <td>0.0</td>\n",
       "      <td>69.5500</td>\n",
       "      <td>0</td>\n",
       "      <td>1</td>\n",
       "    </tr>\n",
       "  </tbody>\n",
       "</table>\n",
       "</div>"
      ],
      "text/plain": [
       "         age           sex       fare           survived    \n",
       "         min   max     min   max  min       max      min max\n",
       "class                                                       \n",
       "First   0.92  80.0  female  male  0.0  512.3292        0   1\n",
       "Second  0.67  70.0  female  male  0.0   73.5000        0   1\n",
       "Third   0.42  74.0  female  male  0.0   69.5500        0   1"
      ]
     },
     "execution_count": 25,
     "metadata": {},
     "output_type": "execute_result"
    }
   ],
   "source": [
    "# 모든 열에 여러 함수를 매핑 \n",
    "agg_all = grouped.agg(['min','max'])\n",
    "agg_all.head()"
   ]
  },
  {
   "cell_type": "code",
   "execution_count": 26,
   "id": "18468d3a",
   "metadata": {},
   "outputs": [
    {
     "data": {
      "text/html": [
       "<div>\n",
       "<style scoped>\n",
       "    .dataframe tbody tr th:only-of-type {\n",
       "        vertical-align: middle;\n",
       "    }\n",
       "\n",
       "    .dataframe tbody tr th {\n",
       "        vertical-align: top;\n",
       "    }\n",
       "\n",
       "    .dataframe thead tr th {\n",
       "        text-align: left;\n",
       "    }\n",
       "\n",
       "    .dataframe thead tr:last-of-type th {\n",
       "        text-align: right;\n",
       "    }\n",
       "</style>\n",
       "<table border=\"1\" class=\"dataframe\">\n",
       "  <thead>\n",
       "    <tr>\n",
       "      <th></th>\n",
       "      <th colspan=\"2\" halign=\"left\">fare</th>\n",
       "      <th>age</th>\n",
       "    </tr>\n",
       "    <tr>\n",
       "      <th></th>\n",
       "      <th>min</th>\n",
       "      <th>max</th>\n",
       "      <th>mean</th>\n",
       "    </tr>\n",
       "    <tr>\n",
       "      <th>class</th>\n",
       "      <th></th>\n",
       "      <th></th>\n",
       "      <th></th>\n",
       "    </tr>\n",
       "  </thead>\n",
       "  <tbody>\n",
       "    <tr>\n",
       "      <th>First</th>\n",
       "      <td>0.0</td>\n",
       "      <td>512.3292</td>\n",
       "      <td>38.233441</td>\n",
       "    </tr>\n",
       "    <tr>\n",
       "      <th>Second</th>\n",
       "      <td>0.0</td>\n",
       "      <td>73.5000</td>\n",
       "      <td>29.877630</td>\n",
       "    </tr>\n",
       "    <tr>\n",
       "      <th>Third</th>\n",
       "      <td>0.0</td>\n",
       "      <td>69.5500</td>\n",
       "      <td>25.140620</td>\n",
       "    </tr>\n",
       "  </tbody>\n",
       "</table>\n",
       "</div>"
      ],
      "text/plain": [
       "       fare                  age\n",
       "        min       max       mean\n",
       "class                           \n",
       "First   0.0  512.3292  38.233441\n",
       "Second  0.0   73.5000  29.877630\n",
       "Third   0.0   69.5500  25.140620"
      ]
     },
     "execution_count": 26,
     "metadata": {},
     "output_type": "execute_result"
    }
   ],
   "source": [
    "# 각 열마다 다른 함수를 적용하여 집계\n",
    "agg_sep = grouped.agg({'fare':['min','max'],'age':'mean'})\n",
    "agg_sep.head()"
   ]
  },
  {
   "cell_type": "code",
   "execution_count": 27,
   "id": "6842dd46",
   "metadata": {},
   "outputs": [
    {
     "data": {
      "text/html": [
       "<div>\n",
       "<style scoped>\n",
       "    .dataframe tbody tr th:only-of-type {\n",
       "        vertical-align: middle;\n",
       "    }\n",
       "\n",
       "    .dataframe tbody tr th {\n",
       "        vertical-align: top;\n",
       "    }\n",
       "\n",
       "    .dataframe thead th {\n",
       "        text-align: right;\n",
       "    }\n",
       "</style>\n",
       "<table border=\"1\" class=\"dataframe\">\n",
       "  <thead>\n",
       "    <tr style=\"text-align: right;\">\n",
       "      <th></th>\n",
       "      <th>age</th>\n",
       "      <th>sex</th>\n",
       "      <th>class</th>\n",
       "      <th>fare</th>\n",
       "      <th>survived</th>\n",
       "    </tr>\n",
       "  </thead>\n",
       "  <tbody>\n",
       "    <tr>\n",
       "      <th>0</th>\n",
       "      <td>22.0</td>\n",
       "      <td>male</td>\n",
       "      <td>Third</td>\n",
       "      <td>7.2500</td>\n",
       "      <td>0</td>\n",
       "    </tr>\n",
       "    <tr>\n",
       "      <th>1</th>\n",
       "      <td>38.0</td>\n",
       "      <td>female</td>\n",
       "      <td>First</td>\n",
       "      <td>71.2833</td>\n",
       "      <td>1</td>\n",
       "    </tr>\n",
       "    <tr>\n",
       "      <th>2</th>\n",
       "      <td>26.0</td>\n",
       "      <td>female</td>\n",
       "      <td>Third</td>\n",
       "      <td>7.9250</td>\n",
       "      <td>1</td>\n",
       "    </tr>\n",
       "    <tr>\n",
       "      <th>3</th>\n",
       "      <td>35.0</td>\n",
       "      <td>female</td>\n",
       "      <td>First</td>\n",
       "      <td>53.1000</td>\n",
       "      <td>1</td>\n",
       "    </tr>\n",
       "    <tr>\n",
       "      <th>4</th>\n",
       "      <td>35.0</td>\n",
       "      <td>male</td>\n",
       "      <td>Third</td>\n",
       "      <td>8.0500</td>\n",
       "      <td>0</td>\n",
       "    </tr>\n",
       "  </tbody>\n",
       "</table>\n",
       "</div>"
      ],
      "text/plain": [
       "    age     sex  class     fare  survived\n",
       "0  22.0    male  Third   7.2500         0\n",
       "1  38.0  female  First  71.2833         1\n",
       "2  26.0  female  Third   7.9250         1\n",
       "3  35.0  female  First  53.1000         1\n",
       "4  35.0    male  Third   8.0500         0"
      ]
     },
     "execution_count": 27,
     "metadata": {},
     "output_type": "execute_result"
    }
   ],
   "source": [
    "# Q. 데이터 개수가 200개 이상인 그룹만을 필터링하여 데이터프레임으로 변환하여 \n",
    "# grouped_filter 이름으로 저장 후 처음 5개행을 출력하세요.\n",
    "grouped_filter = grouped.filter(lambda x: len(x)>=200)\n",
    "grouped_filter.head()"
   ]
  },
  {
   "cell_type": "code",
   "execution_count": 28,
   "id": "34576888",
   "metadata": {},
   "outputs": [
    {
     "data": {
      "text/plain": [
       "Third     491\n",
       "First     216\n",
       "Second      0\n",
       "Name: class, dtype: int64"
      ]
     },
     "execution_count": 28,
     "metadata": {},
     "output_type": "execute_result"
    }
   ],
   "source": [
    "grouped_filter['class'].value_counts()"
   ]
  },
  {
   "cell_type": "markdown",
   "id": "f0737043",
   "metadata": {},
   "source": [
    "## 과제 (7월1일) -1\n",
    "- Q. age열의 평균이 30보다 작은 그룹만을 필터링하여 데이터프레임으로 반환하여\n",
    " age_filter 이름으로 저장 후 처음 5개행을 출력하세요.\n"
   ]
  },
  {
   "cell_type": "code",
   "execution_count": null,
   "id": "e398d080",
   "metadata": {},
   "outputs": [],
   "source": [
    "grouped.agg('mean')"
   ]
  },
  {
   "cell_type": "code",
   "execution_count": null,
   "id": "8855a02f",
   "metadata": {},
   "outputs": [],
   "source": [
    "age_filter = grouped.filter(lambda x: x['age'].mean() <30)\n",
    "age_filter.head()"
   ]
  },
  {
   "cell_type": "code",
   "execution_count": null,
   "id": "ea84a044",
   "metadata": {},
   "outputs": [],
   "source": [
    "age_filter['class'].values_counts()"
   ]
  },
  {
   "cell_type": "markdown",
   "id": "3f922694",
   "metadata": {},
   "source": [
    "## pivot\n",
    "\n",
    "피벗 테이블을 구성하는 4가지 요소(행인덱스,열인덱스,데이터 값, 데이터 집계함수)에 적용할 데이터프레임의 열을 각각 지정하여 함수의 인자로 전달"
   ]
  },
  {
   "cell_type": "code",
   "execution_count": null,
   "id": "a0e2ebaf",
   "metadata": {},
   "outputs": [],
   "source": [
    "import seaborn as sns\n",
    "titanic = sns.load_dataset('titanic')\n",
    "df = titanic.loc[:,['age','sex','class','fare','survived']]\n",
    "df.head()"
   ]
  },
  {
   "cell_type": "code",
   "execution_count": null,
   "id": "e3908da5",
   "metadata": {},
   "outputs": [],
   "source": [
    "pdf1 = pd.pivot_table(df,\n",
    "                     index = 'class',\n",
    "                     columns = 'sex',\n",
    "                     values = 'age',\n",
    "                     aggfunc = 'mean')\n",
    "pdf1.head()"
   ]
  },
  {
   "cell_type": "code",
   "execution_count": null,
   "id": "e5ce68a4",
   "metadata": {},
   "outputs": [],
   "source": [
    "# 행, 열, 값에 사용할 열을 2개 이상 지정 - index, values, aggfunc에 \n",
    "#각각 2개이 사이 지정\n",
    "pdf2 = pd.pivot_table(df,\n",
    "                     index = ['class','sex'],\n",
    "                     columns = 'survived',\n",
    "                     values = ['age','fare'],\n",
    "                     aggfunc = ['mean','max'])\n",
    "pdf2"
   ]
  },
  {
   "cell_type": "code",
   "execution_count": null,
   "id": "77bd98dc",
   "metadata": {
    "scrolled": true
   },
   "outputs": [],
   "source": [
    "# 결측값  -> 이 널값들 처리해줘야함\n",
    "df_t = sns.load_dataset('titanic')\n",
    "df_t.isnull().sum()"
   ]
  },
  {
   "cell_type": "code",
   "execution_count": null,
   "id": "69f5f61b",
   "metadata": {},
   "outputs": [],
   "source": [
    "df_t.embarked.value_counts()"
   ]
  },
  {
   "cell_type": "code",
   "execution_count": null,
   "id": "6e362f8a",
   "metadata": {},
   "outputs": [],
   "source": [
    "# 누락데이터의 앞의 값으로 대체\n",
    "df_t.embarked.fillna(method='ffill',inplace=True)\n",
    "df_t.embarked.value_counts()"
   ]
  },
  {
   "cell_type": "markdown",
   "id": "38291a77",
   "metadata": {},
   "source": [
    "## 과제(7월1일) -2\n",
    "- age 컬럼의 결측치를 적절한 값으로 대체하고 그 근거를 설명하세요.\n",
    "- deck 컬럼의 삭제 여부를 판단하는 근거를 설명하세요."
   ]
  },
  {
   "cell_type": "code",
   "execution_count": null,
   "id": "ec82208d",
   "metadata": {},
   "outputs": [],
   "source": [
    "'''\n",
    "df.dropna(subset=['column'],inplace=True)\n",
    "df.dropna(inplace=True)\n",
    "df.column.replace(np.nan,df.column.mean(),inplace=True)\n",
    "fillna\n",
    "replace\n",
    "'''\n",
    "import seaborn as sns\n",
    "titanic = sns.load_dataset('titanic')\n",
    "df = titanic.loc[:,['age','sex','class','fare','survived']]\n",
    "df_null = df[df.age.isnull()] #나이 결측 데이터 행을 따로 모음\n",
    "print('missing avg:',df_null.mean())   #결측데이터들 평균\n",
    "print()\n",
    "print(df.mean())\n",
    "\n",
    "#결측된 데이터를 클래스와 성별로 그룹하여 전체 데이터와 비교\n",
    "null_two = df_null.groupby(['class','sex']) \n",
    "null_two.mean() #클리스와 성별로 그룹한 후 데이터 평균\n"
   ]
  },
  {
   "cell_type": "code",
   "execution_count": null,
   "id": "6fc0cd6f",
   "metadata": {},
   "outputs": [],
   "source": [
    "# 결측된 데이터의 생존률 전체 데이터의 생존률을 비교했을떼 9% 오차 발생\n",
    "# 클래스로 나눠서 생존률 비교시 각각10%이내 오차 발생\n",
    "# 그"
   ]
  },
  {
   "cell_type": "code",
   "execution_count": null,
   "id": "85aa80f1",
   "metadata": {},
   "outputs": [],
   "source": []
  },
  {
   "cell_type": "markdown",
   "id": "255c1f90",
   "metadata": {},
   "source": [
    "deck 컬럼의 삭제 여부를 판단하는 근거를 설명하세요."
   ]
  },
  {
   "cell_type": "code",
   "execution_count": null,
   "id": "63189079",
   "metadata": {},
   "outputs": [],
   "source": [
    "titanic = titanic.dropna()"
   ]
  },
  {
   "cell_type": "markdown",
   "id": "a179060f",
   "metadata": {},
   "source": [
    "<img src = 'dataset/apply_applymap_pipe.jpg' STYLE='width:800px;'>\n",
    "\n",
    "[pipe vs applymap vs apply]  \n",
    "\n",
    "pipe와 applymap과의 차이는 반환하는 결과가 pipe가 더 다양하다는 것으로 applymap은 데이터프레임 원소에 적용하므로 데이터프레임으로만 리턴되지만 pipe는 사용자 함수의 리턴값에 따라 개별 값, 시리즈, 데이터프레임을 반환할 수 있다.  \n",
    "\n",
    "현재 가장 많이 쓰이는 메서드는 apply인데 그 이유는 다양한 형태로 값을 입력 받을 수 있고, 반환하는 형태도 폭이 넓기 때문. 결과는 같아보이지만, 시리즈를 이용해 데이터프레임의 행과 열도 이용할 수 있으며 시리즈 그 자체도 함수로 활용할 수 있다. \n",
    "\n",
    "만약 데이터프레임에 함수를 적용해야한다면 리턴하는 형태가 많은 pipe 사용도 고려\n"
   ]
  },
  {
   "cell_type": "code",
   "execution_count": null,
   "id": "ae49622e",
   "metadata": {},
   "outputs": [],
   "source": [
    "import pandas as pd\n",
    "df = pd.DataFrame({\n",
    "    'col1':[30,40,50,60],\n",
    "    'col2':[23,35,65,45],\n",
    "    'col3':[85,87,90,89]\n",
    "}, index=list('ABCD'))\n",
    "df"
   ]
  },
  {
   "cell_type": "code",
   "execution_count": null,
   "id": "b1b8e371",
   "metadata": {},
   "outputs": [],
   "source": [
    "df.apply(lambda x:x.sum(),axis=0)"
   ]
  },
  {
   "cell_type": "code",
   "execution_count": null,
   "id": "37fb108f",
   "metadata": {},
   "outputs": [],
   "source": [
    "df.col1.apply(lambda x:x+1)"
   ]
  },
  {
   "cell_type": "code",
   "execution_count": null,
   "id": "4b46de9f",
   "metadata": {},
   "outputs": [],
   "source": [
    "df.col1.map(lambda x:x+1)"
   ]
  },
  {
   "cell_type": "code",
   "execution_count": null,
   "id": "8844890c",
   "metadata": {},
   "outputs": [],
   "source": [
    "df.applymap(lambda x:'%.2f'% x) #%.2f 소수 둘째짜리까지 표시"
   ]
  },
  {
   "cell_type": "code",
   "execution_count": null,
   "id": "340b63a1",
   "metadata": {},
   "outputs": [],
   "source": [
    "# The pipe() method allows you to apply one or more functions to the DataFrame object.\n",
    "\n",
    "import pandas as pd\n",
    "\n",
    "def change_age(x):\n",
    "  x[\"age\"]=[10, 20, 30]\n",
    "  return x\n",
    "\n",
    "data = {\n",
    "  \"name\": [\"Sally\", \"Mary\", \"John\"],\n",
    "  \"age\": [50, 40, 30]\n",
    "}\n",
    "\n",
    "df = pd.DataFrame(data)\n",
    "df\n"
   ]
  },
  {
   "cell_type": "code",
   "execution_count": null,
   "id": "1bf03ad3",
   "metadata": {},
   "outputs": [],
   "source": [
    "df.pipe(change_age)"
   ]
  },
  {
   "cell_type": "markdown",
   "id": "320c4955",
   "metadata": {},
   "source": [
    "## 과제(7월1일) -3"
   ]
  },
  {
   "cell_type": "markdown",
   "id": "9fbdfc8c",
   "metadata": {},
   "source": [
    "### Q11. 최대값 - 최소값을 반환하는 사용자 함수를 min_max로 정의하고 age, fare 열로 구성되는 타이타닉 데이터프레임df 에 적용하여 결과와 자료형을 출력하세요. source : titanic = sns.load_dataset('titanic')\n"
   ]
  },
  {
   "cell_type": "code",
   "execution_count": null,
   "id": "da88f5ae",
   "metadata": {},
   "outputs": [],
   "source": [
    "import seaborn as sns\n",
    "titanic = sns.load_dataset('titanic')\n",
    "def min_max(x):\n",
    "    return min(x),max(x)\n",
    "df1 = titanic[['age','fare']]\n",
    "df = df1.apply(min_max)\n",
    "df.index=['min','max']\n",
    "df"
   ]
  },
  {
   "cell_type": "markdown",
   "id": "f5f59f24",
   "metadata": {},
   "source": [
    "### Q12. df 에서 'age' 칼럼과 'fare'칼럼을 더한 가격을 리턴하는 사용자 함수를 정의한 후 df['add'] 변수를 생성하여 출력하세요.(lambda 함수 사용)\n"
   ]
  },
  {
   "cell_type": "code",
   "execution_count": null,
   "id": "4ceffe62",
   "metadata": {},
   "outputs": [],
   "source": [
    "def adds(a,b):\n",
    "    return a+b\n",
    "df['add'] = df.apply(lambda x : adds(x['age'], x['fare']),axis=1)\n",
    "df"
   ]
  },
  {
   "cell_type": "markdown",
   "id": "664dd983",
   "metadata": {},
   "source": [
    "### Q13. 'age', 'fare' 두개 칼럼으로 구성되는 titanic 데이터프레임에서 [0,1]의 값을 NaN을 변경한 후 df 이름으로 출력하세요.\n"
   ]
  },
  {
   "cell_type": "code",
   "execution_count": null,
   "id": "ea02cfd9",
   "metadata": {},
   "outputs": [],
   "source": [
    "import numpy as np\n",
    "titanic.iloc[0,1]=np.nan\n",
    "dt"
   ]
  },
  {
   "cell_type": "markdown",
   "id": "76b95280",
   "metadata": {},
   "source": [
    "### Q14. 각 열의 NaN 찾기, 각 열의 NaN 개수 반환, 데이터프레임의 총 NaN 개수를 반환하는 사용자 함수를 정의한 후 df.pipe 메소드로 함수 매핑한 결과를 모두 출력하세요.\n"
   ]
  },
  {
   "cell_type": "code",
   "execution_count": null,
   "id": "09f968d5",
   "metadata": {},
   "outputs": [],
   "source": [
    "import numpy as np\n",
    "df_map.replace(0,np.NaN)\n",
    "def missing_value(series):\n",
    "     return series.isnull()\n",
    "    \n",
    "display(df_map.iloc[0,0], '원래 있던 값')\n",
    "df_map.iloc[0,0] = np.nan   #NaN 값 대입\n",
    "display(df_map.head())\n",
    "\n",
    "result = df_map.apply(missing_value, axis=0)\n",
    "print(result)"
   ]
  },
  {
   "cell_type": "markdown",
   "id": "26225ee5",
   "metadata": {},
   "source": [
    "### Q15. 타이타닉 df의 열 순서를 아래와 같이 재구성하고 출력하세요\n",
    "* 열 선택 : ['pclass', 'sex', 'age', 'survived'].\n",
    "* 열 이름의 리스트 만들기\n",
    "* 열 이름을 알파벳 순으로 정렬하기\n",
    "* 열 이름을 기존 순서의 정반대 역순으로 정렬하기\n",
    "* 열 이름을 사용자가 정의한 임의의 순서로 재배치하기\n"
   ]
  },
  {
   "cell_type": "code",
   "execution_count": null,
   "id": "026c1892",
   "metadata": {},
   "outputs": [],
   "source": [
    "# 중복\n",
    "df = pd.DataFrame({'c1':['a','a','b','a','b'],\n",
    "                  'c2':[1,1,1,2,2],\n",
    "                  'c3':[1,1,2,2,2]})\n",
    "df"
   ]
  },
  {
   "cell_type": "code",
   "execution_count": null,
   "id": "25d14c73",
   "metadata": {},
   "outputs": [],
   "source": [
    "# 전체 행 데이터중에서 중복\n",
    "df_dup = df.duplicated()\n",
    "df_dup"
   ]
  },
  {
   "cell_type": "code",
   "execution_count": null,
   "id": "338688ea",
   "metadata": {},
   "outputs": [],
   "source": [
    "# 특정 열 데이터중에서 중복\n",
    "col_dup = df.c2.duplicated()\n",
    "col_dup"
   ]
  },
  {
   "cell_type": "code",
   "execution_count": null,
   "id": "6b06df90",
   "metadata": {},
   "outputs": [],
   "source": [
    "# drop_duplicates() : 중복 행 제거\n",
    "df2=df.drop_duplicates()\n",
    "df2"
   ]
  },
  {
   "cell_type": "code",
   "execution_count": null,
   "id": "704c49a4",
   "metadata": {},
   "outputs": [],
   "source": [
    "df3 = df.drop_duplicates(subset=['c2','c3'])\n",
    "df3"
   ]
  },
  {
   "cell_type": "code",
   "execution_count": null,
   "id": "9fc31168",
   "metadata": {},
   "outputs": [],
   "source": [
    "# 데이터 단위 변경\n",
    "auto_df=pd.read_csv('./dataset/auto-mpg.csv')\n",
    "auto_df.head()"
   ]
  },
  {
   "cell_type": "code",
   "execution_count": null,
   "id": "dae7530c",
   "metadata": {},
   "outputs": [],
   "source": [
    "# mpg를 kp1로 환산\n",
    "mpg_to_kpl=1.60934 / 3.78541\n",
    "mpg_to_kpl"
   ]
  },
  {
   "cell_type": "code",
   "execution_count": null,
   "id": "715595ca",
   "metadata": {},
   "outputs": [],
   "source": [
    "auto_df['kpl'] = auto_df.mpg.apply(lambda x: x*mpg_to_kpl)\n",
    "auto_df['kpl'] = auto_df.kpl.apply(lambda x:'%.2f' %x)\n",
    "auto_df[['mpg','kpl']].head()\n"
   ]
  },
  {
   "cell_type": "code",
   "execution_count": null,
   "id": "11f32586",
   "metadata": {},
   "outputs": [],
   "source": [
    "auto_df.horsepower.unique()"
   ]
  },
  {
   "cell_type": "code",
   "execution_count": null,
   "id": "f67ee5b9",
   "metadata": {},
   "outputs": [],
   "source": [
    "import numpy as np\n",
    "auto_df.horsepower.replace('?',np.nan, inplace=True)\n",
    "auto_df.dropna(subset=['horsepower'],axis=0,inplace=True)\n",
    "auto_df.horsepower.isnull().sum()"
   ]
  },
  {
   "cell_type": "code",
   "execution_count": null,
   "id": "e0383572",
   "metadata": {},
   "outputs": [],
   "source": [
    "auto_df.horsepower = auto_df.horsepower.astype('float') # astype 타입 변환\n",
    "auto_df.horsepower.dtype"
   ]
  },
  {
   "cell_type": "code",
   "execution_count": null,
   "id": "870d35fb",
   "metadata": {},
   "outputs": [],
   "source": [
    "auto_df = pd.read_csv('dataset/auto-mpg.csv')\n",
    "auto_df.head()"
   ]
  },
  {
   "cell_type": "code",
   "execution_count": null,
   "id": "24304a00",
   "metadata": {},
   "outputs": [],
   "source": []
  },
  {
   "cell_type": "markdown",
   "id": "c3dbdb82",
   "metadata": {},
   "source": [
    "## 과제(7월1일)-4\n",
    "'?'가 있는 인덱스를(블링 인덱싱) 찾아서 삭제하세요.(포함된행을)"
   ]
  },
  {
   "cell_type": "code",
   "execution_count": null,
   "id": "dd44f614",
   "metadata": {},
   "outputs": [],
   "source": [
    "import numpy as np\n",
    "auto_df2= pd.read_csv('dataset/auto-mpg.csv')\n",
    "print(auto_df2.horsepower.unique())\n",
    "auto_df2.horsepower.replace('?',np.nan,inplace=True)\n",
    "auto_df2.dropna(subset=['horsepower'],inplace=True,axis=0)\n",
    "print(auto_df2.horsepower.unique())\n",
    "\n",
    "auto_df2.horsepower = auto_df2.horsepower.astype('float')\n",
    "print(auto_df2.horsepower.info())"
   ]
  },
  {
   "cell_type": "markdown",
   "id": "c8fa90ac",
   "metadata": {},
   "source": [
    "## 7월 4일"
   ]
  },
  {
   "cell_type": "code",
   "execution_count": null,
   "id": "854ddbd5",
   "metadata": {},
   "outputs": [],
   "source": [
    "import pandas as pd\n",
    "auto_df = pd.read_csv('dataset/auto-mpg.csv')\n",
    "auto_df.head()"
   ]
  },
  {
   "cell_type": "code",
   "execution_count": null,
   "id": "7999acf7",
   "metadata": {},
   "outputs": [],
   "source": [
    "auto_df.origin.unique()"
   ]
  },
  {
   "cell_type": "markdown",
   "id": "8b3e2b67",
   "metadata": {},
   "source": [
    "Q. 아래 사항을 처리 하세요.\n",
    "* origin 열의 고유값을 출력하세요.\n",
    "* 정수형 데이터를 문자형 데이터로 변환한 후 고유값을 출력하세요.(1:'USA', 2:'EU', 3:'JAPAN')\n"
   ]
  },
  {
   "cell_type": "code",
   "execution_count": null,
   "id": "387ee17d",
   "metadata": {},
   "outputs": [],
   "source": [
    "auto_df.origin.replace({1:'USA',2:'EU',3:'JAPAN'},inplace=True)\n",
    "auto_df.origin.head()"
   ]
  },
  {
   "cell_type": "code",
   "execution_count": null,
   "id": "d5c22c52",
   "metadata": {},
   "outputs": [],
   "source": [
    "auto_df.origin = auto_df.origin.astype('category')\n",
    "auto_df.origin.dtypes"
   ]
  },
  {
   "cell_type": "code",
   "execution_count": null,
   "id": "7d52ae07",
   "metadata": {},
   "outputs": [],
   "source": [
    "auto_df.origin = auto_df.origin.astype('str')\n",
    "auto_df.origin.dtypes"
   ]
  },
  {
   "cell_type": "code",
   "execution_count": null,
   "id": "b137f353",
   "metadata": {},
   "outputs": [],
   "source": [
    "auto_df = pd.read_pickle('dataset/auto-mpg.pkl')\n",
    "auto_df.info()"
   ]
  },
  {
   "cell_type": "markdown",
   "id": "cbed8a24",
   "metadata": {},
   "source": [
    "### Q horsepower를 3개의 bin으로 나누고  bin_names = ['저출력','보통출력','고출력']"
   ]
  },
  {
   "cell_type": "code",
   "execution_count": null,
   "id": "0ea00b30",
   "metadata": {},
   "outputs": [],
   "source": [
    "import numpy as np\n",
    "count, bin_dividers = np.histogram(auto_df.horsepower, bins=3)\n",
    "print(bin_dividers)\n",
    "bin_names = ['저출력','보통출력','고출력']\n",
    "auto_df['hp_bin'] = pd.cut(x=auto_df.horsepower,  # 데이터 배열\n",
    "                          bins=bin_dividers,   # 경계값 리스트\n",
    "                          labels = bin_names,   # bin 이름\n",
    "                          include_lowest=True)   # 첫 경계값 포함\n",
    "auto_df[['horsepower','hp_bin']].head()"
   ]
  },
  {
   "cell_type": "markdown",
   "id": "bc40e5c8",
   "metadata": {},
   "source": [
    "## Q. horsepower 열의 최대값의 절대값으로 모든 데이터를 나누는 정규화를 수행한 후 통계요약표를 출력하세요.\n"
   ]
  },
  {
   "cell_type": "code",
   "execution_count": null,
   "id": "5c494a8e",
   "metadata": {},
   "outputs": [],
   "source": [
    "def A(x):\n",
    "    return x/abs(x.max())\n",
    "auto_df.horsepower.apply(A)(lambda x:A(x))"
   ]
  },
  {
   "cell_type": "code",
   "execution_count": null,
   "id": "4f607c9c",
   "metadata": {},
   "outputs": [],
   "source": [
    "ho_max_abs= auto_df.horsepower/abs(max(auto_df.horsepower))\n",
    "ho_max_abs.describe()"
   ]
  },
  {
   "cell_type": "markdown",
   "id": "cc024a35",
   "metadata": {},
   "source": [
    "## 과제(7월4일) -1\n",
    "- height의 값을 cm으로 변환하여 새로운 컬럼'hight_cm'을 생성하세요."
   ]
  },
  {
   "cell_type": "code",
   "execution_count": null,
   "id": "05a0f956",
   "metadata": {
    "scrolled": true
   },
   "outputs": [],
   "source": [
    "import numpy as pd\n",
    "import pandas as pd\n",
    "fifa = pd.read_csv('dataset/FIFA.csv',encoding='cp949')\n",
    "fifa.head()"
   ]
  },
  {
   "cell_type": "code",
   "execution_count": null,
   "id": "a70ec7ff",
   "metadata": {},
   "outputs": [],
   "source": [
    "fifa['Height_cm']=fifa.Height.str.replace(\"'\",'.')\n",
    "fifa['Height_cm']=fifa.Height_cm.astype('float')\n",
    "fifa['Height_cm']=fifa.Height_cm*30.48\n",
    "fifa.Height_cm.head()"
   ]
  },
  {
   "cell_type": "markdown",
   "id": "f8cdab49",
   "metadata": {},
   "source": [
    "### 데이터프레임 결합\n",
    "* 판다스 join() 메소드는 merge() 함수를 기반으로 만들어졌기 때문에 기본 작동 방식이 서로 비슷\n",
    "* join() 메소드는 두 데이터프레임의 행 인덱스를 기준으로 결합하는 점에서 merge와 차이가 있으나 on=keys 옵션 설정하면 열을 기준으로 결합\n"
   ]
  },
  {
   "cell_type": "code",
   "execution_count": null,
   "id": "38411fc5",
   "metadata": {},
   "outputs": [],
   "source": [
    "import numpy as np\n",
    "data1 = np.arange(1,21).reshape(4,5)\n",
    "data2 = np.arange(11,31).reshape(5,4)\n",
    "df1 = pd.DataFrame(data1,columns=list('abcde'))\n",
    "df2 = pd.DataFrame(data2,columns=list('dehi'))\n",
    "print(df1,'\\n')\n",
    "print(df2)"
   ]
  },
  {
   "cell_type": "code",
   "execution_count": null,
   "id": "6d59259f",
   "metadata": {},
   "outputs": [],
   "source": [
    "df1.join(df2,lsuffix='_a',rsuffix='_b')"
   ]
  },
  {
   "cell_type": "code",
   "execution_count": null,
   "id": "b474c3da",
   "metadata": {},
   "outputs": [],
   "source": [
    "df1.join(df2,lsuffix='_a',rsuffix='_b',how='inner')"
   ]
  },
  {
   "cell_type": "code",
   "execution_count": null,
   "id": "08f3c30c",
   "metadata": {},
   "outputs": [],
   "source": [
    "df1.join(df2,lsuffix='_a',rsuffix='_b',how='outer')"
   ]
  },
  {
   "cell_type": "code",
   "execution_count": null,
   "id": "7bdc1a49",
   "metadata": {},
   "outputs": [],
   "source": [
    "df1['ind'] = [1,2,3,4]\n",
    "df2['ind'] = [1,2,3,4,5]\n",
    "df1"
   ]
  },
  {
   "cell_type": "code",
   "execution_count": null,
   "id": "4a2c3897",
   "metadata": {},
   "outputs": [],
   "source": [
    "# ind 컬럼을 인덱스로 만든다. ( 두개를 결합해서 (df1과 df2를))\n",
    "df1.set_index('ind').join(df2.set_index('ind'),lsuffix='_a',rsuffix='_b')"
   ]
  },
  {
   "cell_type": "code",
   "execution_count": null,
   "id": "a9c865dd",
   "metadata": {},
   "outputs": [],
   "source": [
    "df_s1 = pd.read_excel('dataset/stock price.xlsx',engine='openpyxl',index_col='id')\n",
    "df_s2 = pd.read_excel('dataset/stock valuation.xlsx',engine='openpyxl',index_col='id')\n",
    "print(df_s1,'\\n')\n",
    "print(df_s2)"
   ]
  },
  {
   "cell_type": "code",
   "execution_count": null,
   "id": "93357ed6",
   "metadata": {},
   "outputs": [],
   "source": [
    "# 기준별 합집합\n",
    "df_j1 = df_s1.join(df_s2,how='right')\n",
    "df_j1"
   ]
  },
  {
   "cell_type": "code",
   "execution_count": null,
   "id": "274d35e4",
   "metadata": {},
   "outputs": [],
   "source": [
    "# 교집합\n",
    "df_j2 = df_s1.join(df_s2,how='inner')\n",
    "df_j2"
   ]
  },
  {
   "cell_type": "markdown",
   "id": "06afa677",
   "metadata": {},
   "source": [
    "### 과제 (7월4일) -2\n",
    "Q. df_j2에서 중복된 칼럼을 삭제한 후 블린 인덱싱을 이용하여 eps가 3000 보다 적거나 stock_name이 이마트인 데이터를 선택하여 \n",
    "#데이터프레임을 생성하고 df5 이름으로 저장 및 출력하세요.(단, '<' 와 '==' 를 반드시 사용해야 함)\n"
   ]
  },
  {
   "cell_type": "code",
   "execution_count": null,
   "id": "82a893e6",
   "metadata": {},
   "outputs": [],
   "source": [
    "#df_j2=df_j2.drop('name',axis=1)\n",
    "#df_j2=df_j2.\n",
    "cond1=(df_j2.stock_name==\"이마트\" ) | (df_j2.eps<3000)\n",
    "df5=df_j2[cond1]\n",
    "df5"
   ]
  },
  {
   "cell_type": "markdown",
   "id": "826c978b",
   "metadata": {},
   "source": [
    "### 데이터프레임 병합\n",
    "* merge() 함수는 sql의 join 명령과 비슷한 방식으로 어떤 기준에 의해 두 데이터프레임을 병합한는 개념\n",
    "* 기준이 되는 열이나 인덱스를 키라고 부름\n",
    "* 키가 되는 열이나 인덱스는 반드시 양쪽 데이터프레임에 모두 존재함\n"
   ]
  },
  {
   "cell_type": "code",
   "execution_count": null,
   "id": "79041bd2",
   "metadata": {},
   "outputs": [],
   "source": [
    "import numpy as np\n",
    "data1 = np.arange(1,21).reshape(4,5)\n",
    "data2 = np.arange(11,31).reshape(5,4)\n",
    "df1 = pd.DataFrame(data1,columns=list('abcde'))\n",
    "df2 = pd.DataFrame(data2,columns=list('dehi'))\n",
    "print(df1,'\\n')\n",
    "print(df2)"
   ]
  },
  {
   "cell_type": "code",
   "execution_count": null,
   "id": "d8108ef4",
   "metadata": {},
   "outputs": [],
   "source": [
    "df1['ind'] = [1,2,3,4]\n",
    "df2['ind'] = [1,2,3,4,5]\n",
    "df1"
   ]
  },
  {
   "cell_type": "code",
   "execution_count": null,
   "id": "665892c5",
   "metadata": {},
   "outputs": [],
   "source": [
    "pd.merge(df1,df2,on='ind',how='outer')"
   ]
  },
  {
   "cell_type": "code",
   "execution_count": null,
   "id": "2ef388e7",
   "metadata": {},
   "outputs": [],
   "source": [
    "df1.count()"
   ]
  },
  {
   "cell_type": "markdown",
   "id": "6a1e6f15",
   "metadata": {},
   "source": [
    "### 과제 (7월4일) -3\n",
    " df1, df2에 대하여 다음을 수행하세요. \n",
    "- on='None'으로 교집합을 만들어 출력하세요.\n",
    "- 첫번째 df(stock_name), 두번째 df(name)을 기준으로 합집합(left)을 만들어 출력하세요.\n",
    "- 오른쪽 df를 기준으로 합친 후 출력하세요.\n",
    "- df1에서 가격이 50000 미만인 데이터만 출력하세요\n",
    "- df2에서 per가 30 보다 크고 pbr이 0.8보다 큰 데이터를 모두 출력하세요."
   ]
  },
  {
   "cell_type": "code",
   "execution_count": null,
   "id": "7c5ff61e",
   "metadata": {},
   "outputs": [],
   "source": [
    "import pandas as pd\n",
    "df1 = pd.read_csv('dataset/stock_price.csv',encoding='cp949')\n",
    "df2 = pd.read_csv('dataset/stock_valuation.csv',encoding='cp949')\n",
    "print(df1.head())\n",
    "df2.head()"
   ]
  },
  {
   "cell_type": "code",
   "execution_count": null,
   "id": "fe12fb8b",
   "metadata": {},
   "outputs": [],
   "source": [
    "# on='None'으로 교집합을 만들어 출력하세요.\n",
    "dfj1= pd.merge(df1,df2)\n",
    "dfj1"
   ]
  },
  {
   "cell_type": "code",
   "execution_count": null,
   "id": "9d62c9a3",
   "metadata": {},
   "outputs": [],
   "source": [
    "# 첫번째 df(stock_name), 두번째 df(name)을 기준으로 합집합(left)을 만들어 출력하세요.\n",
    "dfj2=pd.merge(df1,df2,how='left',left_on='stock_name',right_on='name')\n",
    "dfj2"
   ]
  },
  {
   "cell_type": "code",
   "execution_count": null,
   "id": "ff895aa5",
   "metadata": {
    "scrolled": true
   },
   "outputs": [],
   "source": [
    "# 오른쪽 df를 기준으로 합친 후 출력하세요.\n",
    "dfj3=pd.merge(df1,df2,how='right')\n",
    "dfj3"
   ]
  },
  {
   "cell_type": "code",
   "execution_count": null,
   "id": "6c94227a",
   "metadata": {},
   "outputs": [],
   "source": [
    "# df1에서 가격이 50000 미만인 데이터만 출력하세요\n",
    "dfj4 = df1[df1['price']<50000]\n",
    "dfj4"
   ]
  },
  {
   "cell_type": "code",
   "execution_count": null,
   "id": "d035bb76",
   "metadata": {},
   "outputs": [],
   "source": [
    "# df2에서 per가 30 보다 크고 pbr이 0.8보다 큰 데이터를 모두 출력하세요.\n",
    "dfj5 = df2[(df2.per>30) & (df2.pbr>0.8)]\n",
    "dfj5"
   ]
  },
  {
   "cell_type": "code",
   "execution_count": null,
   "id": "f94b368c",
   "metadata": {},
   "outputs": [],
   "source": []
  },
  {
   "cell_type": "markdown",
   "id": "85ee27c7",
   "metadata": {},
   "source": [
    "### 과제(7월4일) -4"
   ]
  },
  {
   "cell_type": "markdown",
   "id": "69d2c5f9",
   "metadata": {},
   "source": [
    "#### Q16. 함수 매핑을 이용하여 age에 각각 10을 곱하고 5를 더한 후 다시 더한 결과 값이 출력되게 하세요."
   ]
  },
  {
   "cell_type": "code",
   "execution_count": null,
   "id": "cc84f850",
   "metadata": {},
   "outputs": [],
   "source": [
    "# 사전 행동\n",
    "# (a * b) + (a + c)\n",
    "# 데이터 가져오기\n",
    "import seaborn as sns\n",
    "\n",
    "# titanic 데이터셋에서 "
   ]
  },
  {
   "cell_type": "code",
   "execution_count": null,
   "id": "88e2eb24",
   "metadata": {},
   "outputs": [],
   "source": [
    "titanic = sns.load_dataset('titanic')\n",
    "# print(titanic.head())\n",
    "df = titanic.loc[:, ['age','fare']]\n",
    "print(df.head())"
   ]
  },
  {
   "cell_type": "markdown",
   "id": "ab8a68c9",
   "metadata": {},
   "source": [
    "#### Q17. titanic.fare 데이터를 소수 2째자리 형태로 모두 출력하세요."
   ]
  },
  {
   "cell_type": "code",
   "execution_count": null,
   "id": "4c4a1073",
   "metadata": {},
   "outputs": [],
   "source": [
    "- 7.2500 -> 7.25"
   ]
  },
  {
   "cell_type": "markdown",
   "id": "ba45f04e",
   "metadata": {},
   "source": [
    "#### Q18. df에서 fare와 age를 선택하여 100을 곱한 후 출력하세요"
   ]
  },
  {
   "cell_type": "code",
   "execution_count": null,
   "id": "7db63ee6",
   "metadata": {},
   "outputs": [],
   "source": [
    "import pandas as pd\n",
    "\n",
    "titanic = sns.load_dataset('titanic')\n",
    "df = titanic\n",
    "df.head()"
   ]
  },
  {
   "cell_type": "markdown",
   "id": "0b4fb00f",
   "metadata": {},
   "source": [
    "### Q19. join() 메소드는 두 데이터프레임의 행 인덱스를 기준으로 결합한다. 2개의 주식데이터를 가져와서 join() 메소드로 아래와 같이 결합한 후 다음 사항을 수행하세요.\n",
    "- df1과 df2의 교집합만 출력되도록 결합하여 df4에 저장하고 출력\n",
    "- df4에서 중복된 칼럼을 삭제한 후 블린 인덱싱을 이용하여 eps가 3000 보다 적거나 stock_name이 이마트인 데이터를 선택하여 데이터프레임을 생성하고 df5 이름으로 저장 및 출력하세요.(단, '<' 와 '==' 를 반드시 사용해야 함)"
   ]
  },
  {
   "cell_type": "code",
   "execution_count": null,
   "id": "1c66cc1c",
   "metadata": {},
   "outputs": [],
   "source": [
    "import pandas as pd\n",
    "df1 = pd.read_excel('./dataset/stock price.xlsx', index_col='id')\n",
    "df2 = pd.read_excel('./dataset/stock valuation.xlsx', index_col='id')\n",
    "\n",
    "\n",
    "df3 = df1.join(df2)\n",
    "print(df3)\n",
    "#### Q20. 아래 df에서 중복 행을 제거한 후 df2에 저장하고 출력하세요.\n",
    "import pandas as pd\n",
    "df = pd.DataFrame({'c1':['a', 'a', 'b', 'a', 'b'],\n",
    "                  'c2':[1, 1, 1, 2, 2],\n",
    "                  'c3':[1, 1, 2, 2, 2]})\n",
    "print(df)"
   ]
  },
  {
   "cell_type": "code",
   "execution_count": null,
   "id": "9765d7bd",
   "metadata": {},
   "outputs": [],
   "source": [
    "col1 = np.random.uniform(10,20,size=10)  # 10-20 사이 실수 10개\n",
    "col2 = np.random.uniform(10,20,size=10)\n",
    "sr1 = pd.Series(col1,name='col1')\n",
    "sr2 = pd.Series(col2,name='col2')\n",
    "df=pd.concat([sr1,sr2],axis=1)\n",
    "df = df.round({'col1':2,'col2':1})\n",
    "df.head()"
   ]
  },
  {
   "cell_type": "code",
   "execution_count": null,
   "id": "318470e1",
   "metadata": {},
   "outputs": [],
   "source": [
    "# col2를 정수로 변환하여 출력\n",
    "df1 = df.copy()\n",
    "df1 = df1.col2.astype(int)\n",
    "df1"
   ]
  },
  {
   "cell_type": "code",
   "execution_count": null,
   "id": "c2e08df3",
   "metadata": {},
   "outputs": [],
   "source": [
    "df2 = df.copy()\n",
    "df2.iloc[1:3,:]= np.nan\n",
    "df2.head()"
   ]
  },
  {
   "cell_type": "code",
   "execution_count": null,
   "id": "9bb26752",
   "metadata": {},
   "outputs": [],
   "source": [
    "# null값을 0으로 채우기\n",
    "df2.fillna(0,inplace=True)\n",
    "df2 = df2.astype({'col1':'int','col2':'int'})\n",
    "df2.head()"
   ]
  },
  {
   "cell_type": "code",
   "execution_count": null,
   "id": "d2587b14",
   "metadata": {},
   "outputs": [],
   "source": [
    "df2['col0'] = list('abcdefghij')\n",
    "df2.set_index('col0',inplace=True)\n",
    "df2.head()"
   ]
  },
  {
   "cell_type": "code",
   "execution_count": null,
   "id": "5bfb1819",
   "metadata": {},
   "outputs": [],
   "source": [
    "df2.isna().sum()"
   ]
  },
  {
   "cell_type": "code",
   "execution_count": null,
   "id": "5b46e994",
   "metadata": {},
   "outputs": [],
   "source": [
    "df2 = df2.reset_index()\n",
    "df2.head()"
   ]
  },
  {
   "cell_type": "code",
   "execution_count": null,
   "id": "21d73d24",
   "metadata": {},
   "outputs": [],
   "source": [
    "# reindex\n",
    "df3 = df2.reindex(index=[1,2],columns=['col1','col2'])\n",
    "df3"
   ]
  },
  {
   "cell_type": "code",
   "execution_count": null,
   "id": "f1d80940",
   "metadata": {},
   "outputs": [],
   "source": [
    "df4 = df2.reindex(index=[3,4],columns=['col1','col2'])\n",
    "df4"
   ]
  },
  {
   "cell_type": "code",
   "execution_count": null,
   "id": "19e120df",
   "metadata": {},
   "outputs": [],
   "source": [
    "# columns 순서 변경"
   ]
  },
  {
   "cell_type": "code",
   "execution_count": null,
   "id": "98da6576",
   "metadata": {},
   "outputs": [],
   "source": [
    "# scaling : MinMaxScaler, StandardScaler"
   ]
  },
  {
   "cell_type": "code",
   "execution_count": 36,
   "id": "9207d15f",
   "metadata": {},
   "outputs": [
    {
     "name": "stdout",
     "output_type": "stream",
     "text": [
      "dict_keys(['data', 'target', 'feature_names', 'DESCR', 'filename', 'data_module'])\n",
      "['CRIM' 'ZN' 'INDUS' 'CHAS' 'NOX' 'RM' 'AGE' 'DIS' 'RAD' 'TAX' 'PTRATIO'\n",
      " 'B' 'LSTAT']\n"
     ]
    },
    {
     "data": {
      "text/html": [
       "<div>\n",
       "<style scoped>\n",
       "    .dataframe tbody tr th:only-of-type {\n",
       "        vertical-align: middle;\n",
       "    }\n",
       "\n",
       "    .dataframe tbody tr th {\n",
       "        vertical-align: top;\n",
       "    }\n",
       "\n",
       "    .dataframe thead th {\n",
       "        text-align: right;\n",
       "    }\n",
       "</style>\n",
       "<table border=\"1\" class=\"dataframe\">\n",
       "  <thead>\n",
       "    <tr style=\"text-align: right;\">\n",
       "      <th></th>\n",
       "      <th>CRIM</th>\n",
       "      <th>ZN</th>\n",
       "      <th>INDUS</th>\n",
       "      <th>CHAS</th>\n",
       "      <th>NOX</th>\n",
       "      <th>RM</th>\n",
       "      <th>AGE</th>\n",
       "      <th>DIS</th>\n",
       "      <th>RAD</th>\n",
       "      <th>TAX</th>\n",
       "      <th>PTRATIO</th>\n",
       "      <th>B</th>\n",
       "      <th>LSTAT</th>\n",
       "      <th>target</th>\n",
       "    </tr>\n",
       "  </thead>\n",
       "  <tbody>\n",
       "    <tr>\n",
       "      <th>0</th>\n",
       "      <td>0.00632</td>\n",
       "      <td>18.0</td>\n",
       "      <td>2.31</td>\n",
       "      <td>0.0</td>\n",
       "      <td>0.538</td>\n",
       "      <td>6.575</td>\n",
       "      <td>65.2</td>\n",
       "      <td>4.0900</td>\n",
       "      <td>1.0</td>\n",
       "      <td>296.0</td>\n",
       "      <td>15.3</td>\n",
       "      <td>396.90</td>\n",
       "      <td>4.98</td>\n",
       "      <td>24.0</td>\n",
       "    </tr>\n",
       "    <tr>\n",
       "      <th>1</th>\n",
       "      <td>0.02731</td>\n",
       "      <td>0.0</td>\n",
       "      <td>7.07</td>\n",
       "      <td>0.0</td>\n",
       "      <td>0.469</td>\n",
       "      <td>6.421</td>\n",
       "      <td>78.9</td>\n",
       "      <td>4.9671</td>\n",
       "      <td>2.0</td>\n",
       "      <td>242.0</td>\n",
       "      <td>17.8</td>\n",
       "      <td>396.90</td>\n",
       "      <td>9.14</td>\n",
       "      <td>21.6</td>\n",
       "    </tr>\n",
       "    <tr>\n",
       "      <th>2</th>\n",
       "      <td>0.02729</td>\n",
       "      <td>0.0</td>\n",
       "      <td>7.07</td>\n",
       "      <td>0.0</td>\n",
       "      <td>0.469</td>\n",
       "      <td>7.185</td>\n",
       "      <td>61.1</td>\n",
       "      <td>4.9671</td>\n",
       "      <td>2.0</td>\n",
       "      <td>242.0</td>\n",
       "      <td>17.8</td>\n",
       "      <td>392.83</td>\n",
       "      <td>4.03</td>\n",
       "      <td>34.7</td>\n",
       "    </tr>\n",
       "    <tr>\n",
       "      <th>3</th>\n",
       "      <td>0.03237</td>\n",
       "      <td>0.0</td>\n",
       "      <td>2.18</td>\n",
       "      <td>0.0</td>\n",
       "      <td>0.458</td>\n",
       "      <td>6.998</td>\n",
       "      <td>45.8</td>\n",
       "      <td>6.0622</td>\n",
       "      <td>3.0</td>\n",
       "      <td>222.0</td>\n",
       "      <td>18.7</td>\n",
       "      <td>394.63</td>\n",
       "      <td>2.94</td>\n",
       "      <td>33.4</td>\n",
       "    </tr>\n",
       "    <tr>\n",
       "      <th>4</th>\n",
       "      <td>0.06905</td>\n",
       "      <td>0.0</td>\n",
       "      <td>2.18</td>\n",
       "      <td>0.0</td>\n",
       "      <td>0.458</td>\n",
       "      <td>7.147</td>\n",
       "      <td>54.2</td>\n",
       "      <td>6.0622</td>\n",
       "      <td>3.0</td>\n",
       "      <td>222.0</td>\n",
       "      <td>18.7</td>\n",
       "      <td>396.90</td>\n",
       "      <td>5.33</td>\n",
       "      <td>36.2</td>\n",
       "    </tr>\n",
       "  </tbody>\n",
       "</table>\n",
       "</div>"
      ],
      "text/plain": [
       "      CRIM    ZN  INDUS  CHAS    NOX     RM   AGE     DIS  RAD    TAX  \\\n",
       "0  0.00632  18.0   2.31   0.0  0.538  6.575  65.2  4.0900  1.0  296.0   \n",
       "1  0.02731   0.0   7.07   0.0  0.469  6.421  78.9  4.9671  2.0  242.0   \n",
       "2  0.02729   0.0   7.07   0.0  0.469  7.185  61.1  4.9671  2.0  242.0   \n",
       "3  0.03237   0.0   2.18   0.0  0.458  6.998  45.8  6.0622  3.0  222.0   \n",
       "4  0.06905   0.0   2.18   0.0  0.458  7.147  54.2  6.0622  3.0  222.0   \n",
       "\n",
       "   PTRATIO       B  LSTAT  target  \n",
       "0     15.3  396.90   4.98    24.0  \n",
       "1     17.8  396.90   9.14    21.6  \n",
       "2     17.8  392.83   4.03    34.7  \n",
       "3     18.7  394.63   2.94    33.4  \n",
       "4     18.7  396.90   5.33    36.2  "
      ]
     },
     "execution_count": 36,
     "metadata": {},
     "output_type": "execute_result"
    }
   ],
   "source": [
    "from sklearn.datasets import load_boston\n",
    "import warnings\n",
    "warnings.filterwarnings('ignore')\n",
    "boston = load_boston()\n",
    "print(boston.keys())\n",
    "print(boston.feature_names)\n",
    "df_boston = pd.DataFrame(boston.data, columns = boston. feature_names)\n",
    "df_boston['target'] = boston.target\n",
    "df_boston.head()"
   ]
  },
  {
   "cell_type": "code",
   "execution_count": 38,
   "id": "5015369b",
   "metadata": {
    "scrolled": true
   },
   "outputs": [
    {
     "data": {
      "text/html": [
       "<div>\n",
       "<style scoped>\n",
       "    .dataframe tbody tr th:only-of-type {\n",
       "        vertical-align: middle;\n",
       "    }\n",
       "\n",
       "    .dataframe tbody tr th {\n",
       "        vertical-align: top;\n",
       "    }\n",
       "\n",
       "    .dataframe thead th {\n",
       "        text-align: right;\n",
       "    }\n",
       "</style>\n",
       "<table border=\"1\" class=\"dataframe\">\n",
       "  <thead>\n",
       "    <tr style=\"text-align: right;\">\n",
       "      <th></th>\n",
       "      <th>RM</th>\n",
       "    </tr>\n",
       "  </thead>\n",
       "  <tbody>\n",
       "    <tr>\n",
       "      <th>0</th>\n",
       "      <td>0.577505</td>\n",
       "    </tr>\n",
       "    <tr>\n",
       "      <th>1</th>\n",
       "      <td>0.547998</td>\n",
       "    </tr>\n",
       "    <tr>\n",
       "      <th>2</th>\n",
       "      <td>0.694386</td>\n",
       "    </tr>\n",
       "    <tr>\n",
       "      <th>3</th>\n",
       "      <td>0.658555</td>\n",
       "    </tr>\n",
       "    <tr>\n",
       "      <th>4</th>\n",
       "      <td>0.687105</td>\n",
       "    </tr>\n",
       "  </tbody>\n",
       "</table>\n",
       "</div>"
      ],
      "text/plain": [
       "         RM\n",
       "0  0.577505\n",
       "1  0.547998\n",
       "2  0.694386\n",
       "3  0.658555\n",
       "4  0.687105"
      ]
     },
     "execution_count": 38,
     "metadata": {},
     "output_type": "execute_result"
    }
   ],
   "source": [
    "from sklearn.preprocessing import MinMaxScaler\n",
    "scaler = MinMaxScaler()\n",
    "df_boston['RM'] = scaler.fit_transform(df_boston[['RM']])\n",
    "df_boston[['RM']].head()"
   ]
  },
  {
   "cell_type": "code",
   "execution_count": 39,
   "id": "cd3648fa",
   "metadata": {
    "scrolled": true
   },
   "outputs": [
    {
     "data": {
      "text/html": [
       "<div>\n",
       "<style scoped>\n",
       "    .dataframe tbody tr th:only-of-type {\n",
       "        vertical-align: middle;\n",
       "    }\n",
       "\n",
       "    .dataframe tbody tr th {\n",
       "        vertical-align: top;\n",
       "    }\n",
       "\n",
       "    .dataframe thead th {\n",
       "        text-align: right;\n",
       "    }\n",
       "</style>\n",
       "<table border=\"1\" class=\"dataframe\">\n",
       "  <thead>\n",
       "    <tr style=\"text-align: right;\">\n",
       "      <th></th>\n",
       "      <th>INDUS</th>\n",
       "    </tr>\n",
       "  </thead>\n",
       "  <tbody>\n",
       "    <tr>\n",
       "      <th>0</th>\n",
       "      <td>-1.287909</td>\n",
       "    </tr>\n",
       "    <tr>\n",
       "      <th>1</th>\n",
       "      <td>-0.593381</td>\n",
       "    </tr>\n",
       "    <tr>\n",
       "      <th>2</th>\n",
       "      <td>-0.593381</td>\n",
       "    </tr>\n",
       "    <tr>\n",
       "      <th>3</th>\n",
       "      <td>-1.306878</td>\n",
       "    </tr>\n",
       "    <tr>\n",
       "      <th>4</th>\n",
       "      <td>-1.306878</td>\n",
       "    </tr>\n",
       "    <tr>\n",
       "      <th>...</th>\n",
       "      <td>...</td>\n",
       "    </tr>\n",
       "    <tr>\n",
       "      <th>501</th>\n",
       "      <td>0.115738</td>\n",
       "    </tr>\n",
       "    <tr>\n",
       "      <th>502</th>\n",
       "      <td>0.115738</td>\n",
       "    </tr>\n",
       "    <tr>\n",
       "      <th>503</th>\n",
       "      <td>0.115738</td>\n",
       "    </tr>\n",
       "    <tr>\n",
       "      <th>504</th>\n",
       "      <td>0.115738</td>\n",
       "    </tr>\n",
       "    <tr>\n",
       "      <th>505</th>\n",
       "      <td>0.115738</td>\n",
       "    </tr>\n",
       "  </tbody>\n",
       "</table>\n",
       "<p>506 rows × 1 columns</p>\n",
       "</div>"
      ],
      "text/plain": [
       "        INDUS\n",
       "0   -1.287909\n",
       "1   -0.593381\n",
       "2   -0.593381\n",
       "3   -1.306878\n",
       "4   -1.306878\n",
       "..        ...\n",
       "501  0.115738\n",
       "502  0.115738\n",
       "503  0.115738\n",
       "504  0.115738\n",
       "505  0.115738\n",
       "\n",
       "[506 rows x 1 columns]"
      ]
     },
     "execution_count": 39,
     "metadata": {},
     "output_type": "execute_result"
    }
   ],
   "source": [
    "from sklearn.preprocessing import StandardScaler\n",
    "scaler = StandardScaler()\n",
    "df_boston['INDUS'] = scaler.fit_transform(df_boston[['INDUS']])\n",
    "df_boston[['INDUS']]"
   ]
  },
  {
   "cell_type": "code",
   "execution_count": null,
   "id": "9ad378c9",
   "metadata": {},
   "outputs": [],
   "source": []
  },
  {
   "cell_type": "code",
   "execution_count": 30,
   "id": "6a8e700d",
   "metadata": {},
   "outputs": [
    {
     "data": {
      "text/html": [
       "<div>\n",
       "<style scoped>\n",
       "    .dataframe tbody tr th:only-of-type {\n",
       "        vertical-align: middle;\n",
       "    }\n",
       "\n",
       "    .dataframe tbody tr th {\n",
       "        vertical-align: top;\n",
       "    }\n",
       "\n",
       "    .dataframe thead th {\n",
       "        text-align: right;\n",
       "    }\n",
       "</style>\n",
       "<table border=\"1\" class=\"dataframe\">\n",
       "  <thead>\n",
       "    <tr style=\"text-align: right;\">\n",
       "      <th></th>\n",
       "      <th>survived</th>\n",
       "      <th>pclass</th>\n",
       "      <th>gender</th>\n",
       "      <th>c_level</th>\n",
       "    </tr>\n",
       "  </thead>\n",
       "  <tbody>\n",
       "    <tr>\n",
       "      <th>0</th>\n",
       "      <td>0</td>\n",
       "      <td>3</td>\n",
       "      <td>0</td>\n",
       "      <td>Third</td>\n",
       "    </tr>\n",
       "    <tr>\n",
       "      <th>1</th>\n",
       "      <td>1</td>\n",
       "      <td>1</td>\n",
       "      <td>1</td>\n",
       "      <td>First</td>\n",
       "    </tr>\n",
       "    <tr>\n",
       "      <th>2</th>\n",
       "      <td>1</td>\n",
       "      <td>3</td>\n",
       "      <td>1</td>\n",
       "      <td>Third</td>\n",
       "    </tr>\n",
       "    <tr>\n",
       "      <th>3</th>\n",
       "      <td>1</td>\n",
       "      <td>1</td>\n",
       "      <td>1</td>\n",
       "      <td>First</td>\n",
       "    </tr>\n",
       "    <tr>\n",
       "      <th>4</th>\n",
       "      <td>0</td>\n",
       "      <td>3</td>\n",
       "      <td>0</td>\n",
       "      <td>Third</td>\n",
       "    </tr>\n",
       "  </tbody>\n",
       "</table>\n",
       "</div>"
      ],
      "text/plain": [
       "   survived  pclass  gender c_level\n",
       "0         0       3       0   Third\n",
       "1         1       1       1   First\n",
       "2         1       3       1   Third\n",
       "3         1       1       1   First\n",
       "4         0       3       0   Third"
      ]
     },
     "execution_count": 30,
     "metadata": {},
     "output_type": "execute_result"
    }
   ],
   "source": [
    "import seaborn as sns\n",
    "import numpy as np\n",
    "import pandas as pd\n",
    "\n",
    "titanic = sns.load_dataset('titanic')\n",
    "# 특정 columns의 값을 변경\n",
    "titanic['sex'] = titanic.sex.replace({'male':0,'female':1})\n",
    "# columns이름 변경\n",
    "titanic.rename(columns={'sex':'gender','age':'age_cat','class':'c_level'},inplace=True)\n",
    "# columns의 이름을 대문자로 변경\n",
    "titanic.columns = map(lambda x :str(x).upper(),titanic.columns)\n",
    "# columns의 이름을 소문자로 변경\n",
    "titanic.rename(columns=str.lower, inplace=True)\n",
    "df = titanic[['survived','pclass','gender','c_level']].copy()\n",
    "df.head()\n"
   ]
  },
  {
   "cell_type": "code",
   "execution_count": 31,
   "id": "de550956",
   "metadata": {},
   "outputs": [
    {
     "data": {
      "text/html": [
       "<div>\n",
       "<style scoped>\n",
       "    .dataframe tbody tr th:only-of-type {\n",
       "        vertical-align: middle;\n",
       "    }\n",
       "\n",
       "    .dataframe tbody tr th {\n",
       "        vertical-align: top;\n",
       "    }\n",
       "\n",
       "    .dataframe thead th {\n",
       "        text-align: right;\n",
       "    }\n",
       "</style>\n",
       "<table border=\"1\" class=\"dataframe\">\n",
       "  <thead>\n",
       "    <tr style=\"text-align: right;\">\n",
       "      <th></th>\n",
       "      <th>survived</th>\n",
       "      <th>pclass</th>\n",
       "      <th>gender</th>\n",
       "      <th>c_level</th>\n",
       "    </tr>\n",
       "  </thead>\n",
       "  <tbody>\n",
       "    <tr>\n",
       "      <th>0</th>\n",
       "      <td>0</td>\n",
       "      <td>3</td>\n",
       "      <td>male</td>\n",
       "      <td>Third</td>\n",
       "    </tr>\n",
       "    <tr>\n",
       "      <th>1</th>\n",
       "      <td>1</td>\n",
       "      <td>1</td>\n",
       "      <td>female</td>\n",
       "      <td>First</td>\n",
       "    </tr>\n",
       "    <tr>\n",
       "      <th>2</th>\n",
       "      <td>1</td>\n",
       "      <td>3</td>\n",
       "      <td>female</td>\n",
       "      <td>Third</td>\n",
       "    </tr>\n",
       "    <tr>\n",
       "      <th>3</th>\n",
       "      <td>1</td>\n",
       "      <td>1</td>\n",
       "      <td>female</td>\n",
       "      <td>First</td>\n",
       "    </tr>\n",
       "    <tr>\n",
       "      <th>4</th>\n",
       "      <td>0</td>\n",
       "      <td>3</td>\n",
       "      <td>male</td>\n",
       "      <td>Third</td>\n",
       "    </tr>\n",
       "  </tbody>\n",
       "</table>\n",
       "</div>"
      ],
      "text/plain": [
       "   survived  pclass  gender c_level\n",
       "0         0       3    male   Third\n",
       "1         1       1  female   First\n",
       "2         1       3  female   Third\n",
       "3         1       1  female   First\n",
       "4         0       3    male   Third"
      ]
     },
     "execution_count": 31,
     "metadata": {},
     "output_type": "execute_result"
    }
   ],
   "source": [
    "df.gender.replace([1,0],['female','male'],inplace=True)\n",
    "df.head()"
   ]
  },
  {
   "cell_type": "code",
   "execution_count": 32,
   "id": "8a9cdafe",
   "metadata": {},
   "outputs": [
    {
     "data": {
      "text/html": [
       "<div>\n",
       "<style scoped>\n",
       "    .dataframe tbody tr th:only-of-type {\n",
       "        vertical-align: middle;\n",
       "    }\n",
       "\n",
       "    .dataframe tbody tr th {\n",
       "        vertical-align: top;\n",
       "    }\n",
       "\n",
       "    .dataframe thead th {\n",
       "        text-align: right;\n",
       "    }\n",
       "</style>\n",
       "<table border=\"1\" class=\"dataframe\">\n",
       "  <thead>\n",
       "    <tr style=\"text-align: right;\">\n",
       "      <th></th>\n",
       "      <th>survived</th>\n",
       "      <th>pclass</th>\n",
       "      <th>gender</th>\n",
       "      <th>c_level</th>\n",
       "    </tr>\n",
       "  </thead>\n",
       "  <tbody>\n",
       "    <tr>\n",
       "      <th>0</th>\n",
       "      <td>0</td>\n",
       "      <td>3</td>\n",
       "      <td>1</td>\n",
       "      <td>2</td>\n",
       "    </tr>\n",
       "    <tr>\n",
       "      <th>1</th>\n",
       "      <td>1</td>\n",
       "      <td>1</td>\n",
       "      <td>0</td>\n",
       "      <td>0</td>\n",
       "    </tr>\n",
       "    <tr>\n",
       "      <th>2</th>\n",
       "      <td>1</td>\n",
       "      <td>3</td>\n",
       "      <td>0</td>\n",
       "      <td>2</td>\n",
       "    </tr>\n",
       "    <tr>\n",
       "      <th>3</th>\n",
       "      <td>1</td>\n",
       "      <td>1</td>\n",
       "      <td>0</td>\n",
       "      <td>0</td>\n",
       "    </tr>\n",
       "    <tr>\n",
       "      <th>4</th>\n",
       "      <td>0</td>\n",
       "      <td>3</td>\n",
       "      <td>1</td>\n",
       "      <td>2</td>\n",
       "    </tr>\n",
       "  </tbody>\n",
       "</table>\n",
       "</div>"
      ],
      "text/plain": [
       "   survived  pclass  gender  c_level\n",
       "0         0       3       1        2\n",
       "1         1       1       0        0\n",
       "2         1       3       0        2\n",
       "3         1       1       0        0\n",
       "4         0       3       1        2"
      ]
     },
     "execution_count": 32,
     "metadata": {},
     "output_type": "execute_result"
    }
   ],
   "source": [
    "# 인코딩 - LabelEncoder\n",
    "from sklearn.preprocessing import LabelEncoder\n",
    "\n",
    "le = LabelEncoder()\n",
    "features = ['gender','c_level']\n",
    "for f in features:\n",
    "    df[f] = le.fit_transform(df[f])\n",
    "df.head()"
   ]
  },
  {
   "cell_type": "code",
   "execution_count": 33,
   "id": "3653f708",
   "metadata": {},
   "outputs": [
    {
     "data": {
      "text/plain": [
       "2    491\n",
       "0    216\n",
       "1    184\n",
       "Name: c_level, dtype: int64"
      ]
     },
     "execution_count": 33,
     "metadata": {},
     "output_type": "execute_result"
    }
   ],
   "source": [
    "df.c_level.value_counts()"
   ]
  },
  {
   "cell_type": "code",
   "execution_count": 34,
   "id": "d2df0306",
   "metadata": {},
   "outputs": [
    {
     "data": {
      "text/html": [
       "<div>\n",
       "<style scoped>\n",
       "    .dataframe tbody tr th:only-of-type {\n",
       "        vertical-align: middle;\n",
       "    }\n",
       "\n",
       "    .dataframe tbody tr th {\n",
       "        vertical-align: top;\n",
       "    }\n",
       "\n",
       "    .dataframe thead th {\n",
       "        text-align: right;\n",
       "    }\n",
       "</style>\n",
       "<table border=\"1\" class=\"dataframe\">\n",
       "  <thead>\n",
       "    <tr style=\"text-align: right;\">\n",
       "      <th></th>\n",
       "      <th>gender</th>\n",
       "      <th>c_level</th>\n",
       "    </tr>\n",
       "  </thead>\n",
       "  <tbody>\n",
       "    <tr>\n",
       "      <th>0</th>\n",
       "      <td>1</td>\n",
       "      <td>2</td>\n",
       "    </tr>\n",
       "    <tr>\n",
       "      <th>1</th>\n",
       "      <td>0</td>\n",
       "      <td>0</td>\n",
       "    </tr>\n",
       "    <tr>\n",
       "      <th>2</th>\n",
       "      <td>0</td>\n",
       "      <td>2</td>\n",
       "    </tr>\n",
       "    <tr>\n",
       "      <th>3</th>\n",
       "      <td>0</td>\n",
       "      <td>0</td>\n",
       "    </tr>\n",
       "    <tr>\n",
       "      <th>4</th>\n",
       "      <td>1</td>\n",
       "      <td>2</td>\n",
       "    </tr>\n",
       "  </tbody>\n",
       "</table>\n",
       "</div>"
      ],
      "text/plain": [
       "   gender  c_level\n",
       "0       1        2\n",
       "1       0        0\n",
       "2       0        2\n",
       "3       0        0\n",
       "4       1        2"
      ]
     },
     "execution_count": 34,
     "metadata": {},
     "output_type": "execute_result"
    }
   ],
   "source": [
    "#OneHotEncoding과 같은것 하지만 더쉬워서 이걸 dummies를 많이 씀\n",
    "df2 = df.copy() \n",
    "df3 = df2[['gender','c_level']]\n",
    "pd.get_dummies(df3).head()"
   ]
  },
  {
   "cell_type": "markdown",
   "id": "11b57f98",
   "metadata": {},
   "source": [
    "### 과제(7월5일) -1\n",
    "- titanic 데이터셋에서 embarked,who,adult_male에 대하여 LabelEncoding 하세요\n",
    "- titanic 데이터셋에서 embarked,who,adult_male에 대하여 OneHotEncoding 하세요."
   ]
  },
  {
   "cell_type": "code",
   "execution_count": 35,
   "id": "755366f1",
   "metadata": {},
   "outputs": [
    {
     "data": {
      "text/html": [
       "<div>\n",
       "<style scoped>\n",
       "    .dataframe tbody tr th:only-of-type {\n",
       "        vertical-align: middle;\n",
       "    }\n",
       "\n",
       "    .dataframe tbody tr th {\n",
       "        vertical-align: top;\n",
       "    }\n",
       "\n",
       "    .dataframe thead th {\n",
       "        text-align: right;\n",
       "    }\n",
       "</style>\n",
       "<table border=\"1\" class=\"dataframe\">\n",
       "  <thead>\n",
       "    <tr style=\"text-align: right;\">\n",
       "      <th></th>\n",
       "      <th>embarked</th>\n",
       "      <th>who</th>\n",
       "      <th>adult_male</th>\n",
       "    </tr>\n",
       "  </thead>\n",
       "  <tbody>\n",
       "    <tr>\n",
       "      <th>0</th>\n",
       "      <td>2</td>\n",
       "      <td>1</td>\n",
       "      <td>1</td>\n",
       "    </tr>\n",
       "    <tr>\n",
       "      <th>1</th>\n",
       "      <td>0</td>\n",
       "      <td>2</td>\n",
       "      <td>0</td>\n",
       "    </tr>\n",
       "    <tr>\n",
       "      <th>2</th>\n",
       "      <td>2</td>\n",
       "      <td>2</td>\n",
       "      <td>0</td>\n",
       "    </tr>\n",
       "    <tr>\n",
       "      <th>3</th>\n",
       "      <td>2</td>\n",
       "      <td>2</td>\n",
       "      <td>0</td>\n",
       "    </tr>\n",
       "    <tr>\n",
       "      <th>4</th>\n",
       "      <td>2</td>\n",
       "      <td>1</td>\n",
       "      <td>1</td>\n",
       "    </tr>\n",
       "  </tbody>\n",
       "</table>\n",
       "</div>"
      ],
      "text/plain": [
       "   embarked  who  adult_male\n",
       "0         2    1           1\n",
       "1         0    2           0\n",
       "2         2    2           0\n",
       "3         2    2           0\n",
       "4         2    1           1"
      ]
     },
     "execution_count": 35,
     "metadata": {},
     "output_type": "execute_result"
    }
   ],
   "source": [
    "# titanic 데이터셋에서 embarked,who,adult_male에 대하여 LabelEncoding 하세요\n",
    "titanic = sns.load_dataset('titanic')\n",
    "from sklearn.preprocessing import LabelEncoder\n",
    "le = LabelEncoder()\n",
    "df=titanic.copy()\n",
    "enco=['embarked','who','adult_male']\n",
    "for i in enco:\n",
    "    df[i] = le.fit_transform(df[i])\n",
    "df[['embarked','who','adult_male']].head()"
   ]
  },
  {
   "cell_type": "code",
   "execution_count": null,
   "id": "77023b7a",
   "metadata": {},
   "outputs": [],
   "source": [
    "# titanic 데이터셋에서 embarked,who,adult_male에 대하여 OneHotEncoding 하세요. 컬럼 값들을 그룹화해서 컬럼만들어 1,10으로 치환\n",
    "df1 = titanic.copy()\n",
    "df1=df1[['embarked','who','adult_male']]\n",
    "pd.get_dummies(df1).head()"
   ]
  },
  {
   "cell_type": "code",
   "execution_count": null,
   "id": "de043cd5",
   "metadata": {},
   "outputs": [],
   "source": []
  },
  {
   "cell_type": "code",
   "execution_count": null,
   "id": "fb32bdaa",
   "metadata": {},
   "outputs": [],
   "source": []
  },
  {
   "cell_type": "code",
   "execution_count": null,
   "id": "8e20b6cd",
   "metadata": {},
   "outputs": [],
   "source": []
  },
  {
   "cell_type": "code",
   "execution_count": null,
   "id": "2f85eb57",
   "metadata": {},
   "outputs": [],
   "source": []
  },
  {
   "cell_type": "code",
   "execution_count": null,
   "id": "044d48af",
   "metadata": {},
   "outputs": [],
   "source": [
    "# encoding : LableEncoder, OneHotEncoder"
   ]
  }
 ],
 "metadata": {
  "kernelspec": {
   "display_name": "Python 3 (ipykernel)",
   "language": "python",
   "name": "python3"
  },
  "language_info": {
   "codemirror_mode": {
    "name": "ipython",
    "version": 3
   },
   "file_extension": ".py",
   "mimetype": "text/x-python",
   "name": "python",
   "nbconvert_exporter": "python",
   "pygments_lexer": "ipython3",
   "version": "3.8.13"
  },
  "toc": {
   "base_numbering": 1,
   "nav_menu": {},
   "number_sections": true,
   "sideBar": true,
   "skip_h1_title": false,
   "title_cell": "Table of Contents",
   "title_sidebar": "Contents",
   "toc_cell": false,
   "toc_position": {
    "height": "calc(100% - 180px)",
    "left": "10px",
    "top": "150px",
    "width": "242px"
   },
   "toc_section_display": true,
   "toc_window_display": true
  }
 },
 "nbformat": 4,
 "nbformat_minor": 5
}
