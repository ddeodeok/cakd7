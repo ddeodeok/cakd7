{
 "cells": [
  {
   "cell_type": "markdown",
   "id": "0e3a96d3-f6ea-4b21-9430-559cba39b288",
   "metadata": {},
   "source": [
    "# numpy(6월 24일)"
   ]
  },
  {
   "cell_type": "code",
   "execution_count": 2,
   "id": "8b8a2735-283e-4324-be72-34dd4b01809e",
   "metadata": {},
   "outputs": [],
   "source": [
    "import numpy as np"
   ]
  },
  {
   "cell_type": "code",
   "execution_count": 3,
   "id": "2ac50fc3-e723-4aa2-a37e-424ee0820dd8",
   "metadata": {},
   "outputs": [
    {
     "data": {
      "text/plain": [
       "array([1, 2, 3, 4])"
      ]
     },
     "execution_count": 3,
     "metadata": {},
     "output_type": "execute_result"
    }
   ],
   "source": [
    "a = np.array([1,2,3,4])\n",
    "a"
   ]
  },
  {
   "cell_type": "code",
   "execution_count": 4,
   "id": "ffc0df70-c227-473e-97e7-2daa93e75e32",
   "metadata": {},
   "outputs": [
    {
     "data": {
      "text/plain": [
       "numpy.ndarray"
      ]
     },
     "execution_count": 4,
     "metadata": {},
     "output_type": "execute_result"
    }
   ],
   "source": [
    "type(a)"
   ]
  },
  {
   "cell_type": "code",
   "execution_count": 6,
   "id": "7be17d9e-0367-4aba-a144-c200e67252ef",
   "metadata": {},
   "outputs": [
    {
     "data": {
      "text/plain": [
       "4"
      ]
     },
     "execution_count": 6,
     "metadata": {},
     "output_type": "execute_result"
    }
   ],
   "source": [
    "max([1,2,3,4])"
   ]
  },
  {
   "cell_type": "code",
   "execution_count": 9,
   "id": "1a280c17-95ff-4424-9429-720c8cf58eb7",
   "metadata": {},
   "outputs": [
    {
     "data": {
      "text/plain": [
       "(4,)"
      ]
     },
     "execution_count": 9,
     "metadata": {},
     "output_type": "execute_result"
    }
   ],
   "source": [
    "a.shape  # 1차원적인거구나"
   ]
  },
  {
   "cell_type": "code",
   "execution_count": 11,
   "id": "b3a50e3a-d0a2-42e2-a609-6c39493dc622",
   "metadata": {},
   "outputs": [],
   "source": [
    "a = np.array( [[1,2],[3,4]])"
   ]
  },
  {
   "cell_type": "code",
   "execution_count": 17,
   "id": "bf79e060-846a-4910-ab50-5278d4f2ea3d",
   "metadata": {},
   "outputs": [
    {
     "data": {
      "text/plain": [
       "(2, 3)"
      ]
     },
     "execution_count": 17,
     "metadata": {},
     "output_type": "execute_result"
    }
   ],
   "source": [
    "a.shape  #2*2 형태이구나"
   ]
  },
  {
   "cell_type": "code",
   "execution_count": 14,
   "id": "956d6eca-36fb-4864-834f-ee503e12bfdc",
   "metadata": {},
   "outputs": [
    {
     "data": {
      "text/plain": [
       "array([[1, 2],\n",
       "       [3, 4]])"
      ]
     },
     "execution_count": 14,
     "metadata": {},
     "output_type": "execute_result"
    }
   ],
   "source": [
    "a"
   ]
  },
  {
   "cell_type": "code",
   "execution_count": 15,
   "id": "542fac6a-62d0-44c3-a28f-80f971271f64",
   "metadata": {},
   "outputs": [
    {
     "data": {
      "text/plain": [
       "array([[1, 2, 3],\n",
       "       [3, 4, 5]])"
      ]
     },
     "execution_count": 15,
     "metadata": {},
     "output_type": "execute_result"
    }
   ],
   "source": [
    "a = np.array( [[1,2,3],[3,4,5]])\n",
    "a"
   ]
  },
  {
   "cell_type": "code",
   "execution_count": 16,
   "id": "746bb038-9ecf-47c7-be2e-be72029d9b01",
   "metadata": {},
   "outputs": [
    {
     "data": {
      "text/plain": [
       "(2, 3)"
      ]
     },
     "execution_count": 16,
     "metadata": {},
     "output_type": "execute_result"
    }
   ],
   "source": [
    "a.shape #2*3 형태이구나"
   ]
  },
  {
   "cell_type": "code",
   "execution_count": 24,
   "id": "24e7138c-ed8e-4de1-b784-e8817ff3cf23",
   "metadata": {},
   "outputs": [
    {
     "data": {
      "text/plain": [
       "array([[[1, 2, 3],\n",
       "        [3, 4, 5]],\n",
       "\n",
       "       [[5, 6, 7],\n",
       "        [7, 8, 9]]])"
      ]
     },
     "execution_count": 24,
     "metadata": {},
     "output_type": "execute_result"
    }
   ],
   "source": [
    "a = np.array([[[1,2,3],[3,4,5]],   [[5,6,7],[7,8,9]]])\n",
    "a"
   ]
  },
  {
   "cell_type": "code",
   "execution_count": 26,
   "id": "d8da3b78-38f4-430a-90d3-ddd1ed7ac4bf",
   "metadata": {},
   "outputs": [
    {
     "data": {
      "text/plain": [
       "(2, 2, 3)"
      ]
     },
     "execution_count": 26,
     "metadata": {},
     "output_type": "execute_result"
    }
   ],
   "source": [
    "a.shape # 3차원 적인거 (2*2*3)구조  z(높이),y(세로),x(가로)"
   ]
  },
  {
   "cell_type": "code",
   "execution_count": 27,
   "id": "06c8bd28-01a2-433b-beab-a7a138b6c213",
   "metadata": {},
   "outputs": [
    {
     "data": {
      "text/plain": [
       "array([0, 1, 2, 3, 4, 5, 6, 7, 8, 9])"
      ]
     },
     "execution_count": 27,
     "metadata": {},
     "output_type": "execute_result"
    }
   ],
   "source": [
    "# 2차원 배열 만들기\n",
    "np.arange(10)"
   ]
  },
  {
   "cell_type": "code",
   "execution_count": 28,
   "id": "b29d497f-c261-4119-9200-75fa4f538dfc",
   "metadata": {},
   "outputs": [
    {
     "data": {
      "text/plain": [
       "array([[0, 1, 2, 3, 4],\n",
       "       [5, 6, 7, 8, 9]])"
      ]
     },
     "execution_count": 28,
     "metadata": {},
     "output_type": "execute_result"
    }
   ],
   "source": [
    "np.arange(10).reshape(2,5)"
   ]
  },
  {
   "cell_type": "code",
   "execution_count": 29,
   "id": "395040eb-9fa0-4b3a-b6fa-6f6961122795",
   "metadata": {},
   "outputs": [
    {
     "data": {
      "text/plain": [
       "array([[ 0,  1,  2,  3],\n",
       "       [ 4,  5,  6,  7],\n",
       "       [ 8,  9, 10, 11]])"
      ]
     },
     "execution_count": 29,
     "metadata": {},
     "output_type": "execute_result"
    }
   ],
   "source": [
    "np.arange(12).reshape(3,4)"
   ]
  },
  {
   "cell_type": "code",
   "execution_count": 34,
   "id": "e36d1e34-a090-4e0c-ad00-51cc95399f3d",
   "metadata": {},
   "outputs": [
    {
     "data": {
      "text/plain": [
       "array([[ 0,  1,  2],\n",
       "       [ 3,  4,  5],\n",
       "       [ 6,  7,  8],\n",
       "       [ 9, 10, 11]])"
      ]
     },
     "execution_count": 34,
     "metadata": {},
     "output_type": "execute_result"
    }
   ],
   "source": [
    "np.arange(12).reshape(4,3)"
   ]
  },
  {
   "cell_type": "code",
   "execution_count": 36,
   "id": "248fe25d-61ef-41a8-9adb-234d0522c662",
   "metadata": {},
   "outputs": [
    {
     "data": {
      "text/plain": [
       "array([[[ 0,  1],\n",
       "        [ 2,  3],\n",
       "        [ 4,  5]],\n",
       "\n",
       "       [[ 6,  7],\n",
       "        [ 8,  9],\n",
       "        [10, 11]],\n",
       "\n",
       "       [[12, 13],\n",
       "        [14, 15],\n",
       "        [16, 17]],\n",
       "\n",
       "       [[18, 19],\n",
       "        [20, 21],\n",
       "        [22, 23]]])"
      ]
     },
     "execution_count": 36,
     "metadata": {},
     "output_type": "execute_result"
    }
   ],
   "source": [
    "np.arange(24).reshape(4,3,2)"
   ]
  },
  {
   "cell_type": "code",
   "execution_count": 38,
   "id": "54d37ba2-3b70-4781-a03d-4688336b2687",
   "metadata": {},
   "outputs": [
    {
     "data": {
      "text/plain": [
       "array([[[ 0,  1,  2],\n",
       "        [ 3,  4,  5],\n",
       "        [ 6,  7,  8],\n",
       "        [ 9, 10, 11]],\n",
       "\n",
       "       [[12, 13, 14],\n",
       "        [15, 16, 17],\n",
       "        [18, 19, 20],\n",
       "        [21, 22, 23]],\n",
       "\n",
       "       [[24, 25, 26],\n",
       "        [27, 28, 29],\n",
       "        [30, 31, 32],\n",
       "        [33, 34, 35]]])"
      ]
     },
     "execution_count": 38,
     "metadata": {},
     "output_type": "execute_result"
    }
   ],
   "source": [
    "np.arange(36).reshape(3,4,3)"
   ]
  },
  {
   "cell_type": "code",
   "execution_count": 42,
   "id": "2a2bc18b-e6aa-4092-b28c-97fe2eaad5bf",
   "metadata": {},
   "outputs": [
    {
     "data": {
      "text/plain": [
       "array([ 6,  8, 10, 12])"
      ]
     },
     "execution_count": 42,
     "metadata": {},
     "output_type": "execute_result"
    }
   ],
   "source": [
    "# (element-wise 원소들 끼리끼리 더해진다. row-wise=로우 끼리끼리, column-wise = 컬럼끼리끼리\n",
    "a = np.array([1,2,3,4])  \n",
    "b = np.array([5,6,7,8])\n",
    "a+b"
   ]
  },
  {
   "cell_type": "code",
   "execution_count": 44,
   "id": "f4d13000-732c-42de-81b2-ceee4fff0b68",
   "metadata": {},
   "outputs": [
    {
     "data": {
      "text/plain": [
       "array([11, 12, 13, 14])"
      ]
     },
     "execution_count": 44,
     "metadata": {},
     "output_type": "execute_result"
    }
   ],
   "source": [
    "c = np.array([10])  #모든 a의 수에 다 더해버림\n",
    "a+c"
   ]
  },
  {
   "cell_type": "code",
   "execution_count": 47,
   "id": "0b8a4962-c1b4-423c-95a5-89676d30a583",
   "metadata": {},
   "outputs": [
    {
     "data": {
      "text/plain": [
       "[2, 4, 6, 8, 10]"
      ]
     },
     "execution_count": 47,
     "metadata": {},
     "output_type": "execute_result"
    }
   ],
   "source": [
    "li = [1,2,3,4,5]\n",
    "li2 = np.array([2])\n",
    "list(map(lambda x : 2*x, li))"
   ]
  },
  {
   "cell_type": "code",
   "execution_count": 51,
   "id": "481b20c2-aa5e-4f5c-b3f4-1258a6fc0d0b",
   "metadata": {},
   "outputs": [
    {
     "data": {
      "text/plain": [
       "array([ 2,  4,  6,  8, 10])"
      ]
     },
     "execution_count": 51,
     "metadata": {},
     "output_type": "execute_result"
    }
   ],
   "source": [
    "li2*li"
   ]
  },
  {
   "cell_type": "code",
   "execution_count": 52,
   "id": "03370c38-801c-447b-b6a6-c6691b33c32c",
   "metadata": {},
   "outputs": [
    {
     "data": {
      "text/plain": [
       "array([ 2,  4,  6,  8, 10])"
      ]
     },
     "execution_count": 52,
     "metadata": {},
     "output_type": "execute_result"
    }
   ],
   "source": [
    "ar= np.array([1,2,3,4,5])\n",
    "ar*2"
   ]
  },
  {
   "cell_type": "code",
   "execution_count": 53,
   "id": "36109beb-76eb-4caf-bff4-5a8691ae75d2",
   "metadata": {},
   "outputs": [
    {
     "data": {
      "text/plain": [
       "array([2, 3, 4, 5, 6])"
      ]
     },
     "execution_count": 53,
     "metadata": {},
     "output_type": "execute_result"
    }
   ],
   "source": [
    "ar+1"
   ]
  },
  {
   "cell_type": "code",
   "execution_count": 54,
   "id": "647a027c-110e-43e0-aac9-d2420971239b",
   "metadata": {},
   "outputs": [],
   "source": [
    "a = np.arange(1,5).reshape(2,2)\n",
    "b = np.arange(5,9).reshape(2,2)"
   ]
  },
  {
   "cell_type": "code",
   "execution_count": 55,
   "id": "5d5cb163-0895-457e-a81f-8804ba38b04d",
   "metadata": {},
   "outputs": [
    {
     "data": {
      "text/plain": [
       "array([[ 6,  8],\n",
       "       [10, 12]])"
      ]
     },
     "execution_count": 55,
     "metadata": {},
     "output_type": "execute_result"
    }
   ],
   "source": [
    "a + b"
   ]
  },
  {
   "cell_type": "code",
   "execution_count": 56,
   "id": "1c406394-46aa-45a4-af27-c81eadf52ab6",
   "metadata": {},
   "outputs": [
    {
     "data": {
      "text/plain": [
       "array([[1, 2],\n",
       "       [3, 4]])"
      ]
     },
     "execution_count": 56,
     "metadata": {},
     "output_type": "execute_result"
    }
   ],
   "source": [
    "a"
   ]
  },
  {
   "cell_type": "code",
   "execution_count": 57,
   "id": "9a6a4d4d-726a-4867-80e7-3da78530057e",
   "metadata": {},
   "outputs": [
    {
     "data": {
      "text/plain": [
       "array([[5, 6],\n",
       "       [7, 8]])"
      ]
     },
     "execution_count": 57,
     "metadata": {},
     "output_type": "execute_result"
    }
   ],
   "source": [
    "b"
   ]
  },
  {
   "cell_type": "code",
   "execution_count": 58,
   "id": "30f36a35-4886-4a31-a740-d405eef71db6",
   "metadata": {},
   "outputs": [
    {
     "data": {
      "text/plain": [
       "array([[ 5, 12],\n",
       "       [21, 32]])"
      ]
     },
     "execution_count": 58,
     "metadata": {},
     "output_type": "execute_result"
    }
   ],
   "source": [
    "a*b"
   ]
  },
  {
   "cell_type": "code",
   "execution_count": 63,
   "id": "e959edd8-2b93-4a80-9906-6fc77f3ee14a",
   "metadata": {},
   "outputs": [
    {
     "data": {
      "text/plain": [
       "array([[19, 22],\n",
       "       [43, 50]])"
      ]
     },
     "execution_count": 63,
     "metadata": {},
     "output_type": "execute_result"
    }
   ],
   "source": [
    "a@b\n",
    "a.dot(b)\n",
    "np.dot(a,b)\n",
    "np.matmul(a,b)"
   ]
  },
  {
   "cell_type": "code",
   "execution_count": 62,
   "id": "2a087178-d258-4d61-a9d6-f844daabde43",
   "metadata": {},
   "outputs": [],
   "source": [
    "# 곱한결과 숫자로만 나오면 백터에서는 내적이락 한다.  행과 열의 곱셈"
   ]
  },
  {
   "cell_type": "code",
   "execution_count": null,
   "id": "121870ce-8b27-4a6d-96c2-8a5dc885e693",
   "metadata": {},
   "outputs": [],
   "source": [
    "(1,2) (3\n",
    "      4)"
   ]
  },
  {
   "cell_type": "code",
   "execution_count": 66,
   "id": "dfc38b05-4add-4058-acc7-ca6658066034",
   "metadata": {},
   "outputs": [
    {
     "data": {
      "text/plain": [
       "array([[1, 1, 1],\n",
       "       [1, 1, 1],\n",
       "       [1, 1, 1]])"
      ]
     },
     "execution_count": 66,
     "metadata": {},
     "output_type": "execute_result"
    }
   ],
   "source": [
    "np.ones((3,3),int)"
   ]
  },
  {
   "cell_type": "code",
   "execution_count": 69,
   "id": "128e2b14-b9c3-488a-ad6f-0bc0bbb0f5d2",
   "metadata": {},
   "outputs": [
    {
     "data": {
      "text/plain": [
       "array([[1., 0., 0., 0.],\n",
       "       [0., 1., 0., 0.],\n",
       "       [0., 0., 1., 0.],\n",
       "       [0., 0., 0., 1.]])"
      ]
     },
     "execution_count": 69,
     "metadata": {},
     "output_type": "execute_result"
    }
   ],
   "source": [
    "d= np.identity(4)\n",
    "d"
   ]
  },
  {
   "cell_type": "code",
   "execution_count": 71,
   "id": "16bf3dee-a7e6-4caf-84d1-0a4e7ce2d163",
   "metadata": {},
   "outputs": [
    {
     "data": {
      "text/plain": [
       "array([[1., 0., 0., 0.],\n",
       "       [0., 1., 0., 0.],\n",
       "       [0., 0., 1., 0.],\n",
       "       [0., 0., 0., 1.]])"
      ]
     },
     "execution_count": 71,
     "metadata": {},
     "output_type": "execute_result"
    }
   ],
   "source": [
    "np.eye(4,4)"
   ]
  },
  {
   "cell_type": "code",
   "execution_count": 72,
   "id": "3f0a456f-f31b-4c58-85f3-4f077b67dc3c",
   "metadata": {},
   "outputs": [
    {
     "data": {
      "text/plain": [
       "array([[1, 2],\n",
       "       [3, 4]])"
      ]
     },
     "execution_count": 72,
     "metadata": {},
     "output_type": "execute_result"
    }
   ],
   "source": [
    "a"
   ]
  },
  {
   "cell_type": "code",
   "execution_count": 73,
   "id": "f181fca0-2298-42ed-a808-6ba564030989",
   "metadata": {},
   "outputs": [
    {
     "data": {
      "text/plain": [
       "array([[1, 3],\n",
       "       [2, 4]])"
      ]
     },
     "execution_count": 73,
     "metadata": {},
     "output_type": "execute_result"
    }
   ],
   "source": [
    "a.T"
   ]
  },
  {
   "cell_type": "code",
   "execution_count": 74,
   "id": "b6bb5c9d-d78b-42e5-8771-60af29ad5b6d",
   "metadata": {},
   "outputs": [
    {
     "data": {
      "text/plain": [
       "array([1, 2])"
      ]
     },
     "execution_count": 74,
     "metadata": {},
     "output_type": "execute_result"
    }
   ],
   "source": [
    "t=np.array([1,2])\n",
    "t.T"
   ]
  },
  {
   "cell_type": "code",
   "execution_count": 77,
   "id": "4d407cc9-316e-4098-8595-659a367dd668",
   "metadata": {},
   "outputs": [],
   "source": [
    "a = np.array([1,2,3,4])\n",
    "b = np.array([4,3,2,1])"
   ]
  },
  {
   "cell_type": "code",
   "execution_count": 78,
   "id": "ce0c1e96-38d1-43bb-9e92-dbf897a2438c",
   "metadata": {},
   "outputs": [
    {
     "data": {
      "text/plain": [
       "array([False, False,  True,  True])"
      ]
     },
     "execution_count": 78,
     "metadata": {},
     "output_type": "execute_result"
    }
   ],
   "source": [
    "a>b"
   ]
  },
  {
   "cell_type": "code",
   "execution_count": 79,
   "id": "46d147ee-fd3d-4b25-9f6d-7d3c1f030ee0",
   "metadata": {},
   "outputs": [
    {
     "data": {
      "text/plain": [
       "array([False, False, False,  True])"
      ]
     },
     "execution_count": 79,
     "metadata": {},
     "output_type": "execute_result"
    }
   ],
   "source": [
    "a > 3"
   ]
  },
  {
   "cell_type": "code",
   "execution_count": 82,
   "id": "1f20f98f-f8db-4c46-90c9-8958ab1ae004",
   "metadata": {},
   "outputs": [
    {
     "data": {
      "text/plain": [
       "array([2, 3, 4])"
      ]
     },
     "execution_count": 82,
     "metadata": {},
     "output_type": "execute_result"
    }
   ],
   "source": [
    "a[a > 1]"
   ]
  },
  {
   "cell_type": "code",
   "execution_count": 88,
   "id": "9360a49a-ea66-4326-a0fe-2be5d57f24f3",
   "metadata": {},
   "outputs": [
    {
     "data": {
      "text/plain": [
       "array([1, 2, 3, 4])"
      ]
     },
     "execution_count": 88,
     "metadata": {},
     "output_type": "execute_result"
    }
   ],
   "source": [
    "np.sort(b)  # 결과물 보여주는거 View 실제로 바뀌지는 않음"
   ]
  },
  {
   "cell_type": "code",
   "execution_count": 85,
   "id": "bbf44817-fb3d-4aa8-a203-28d8954b3775",
   "metadata": {},
   "outputs": [
    {
     "data": {
      "text/plain": [
       "array([1, 2, 3, 4, 5, 6])"
      ]
     },
     "execution_count": 85,
     "metadata": {},
     "output_type": "execute_result"
    }
   ],
   "source": [
    "a= np.array([3,4,2,1,6,5])\n",
    "np.sort(a)"
   ]
  },
  {
   "cell_type": "code",
   "execution_count": 87,
   "id": "8accda28-ef2a-4f76-8f7b-9c3c207c4c11",
   "metadata": {},
   "outputs": [
    {
     "data": {
      "text/plain": [
       "array([3, 4, 2, 1, 6, 5])"
      ]
     },
     "execution_count": 87,
     "metadata": {},
     "output_type": "execute_result"
    }
   ],
   "source": [
    "a"
   ]
  },
  {
   "cell_type": "code",
   "execution_count": 91,
   "id": "347eaab6-2686-47a4-8da2-08f662648472",
   "metadata": {},
   "outputs": [
    {
     "data": {
      "text/plain": [
       "array([1, 2, 3, 4, 5, 6])"
      ]
     },
     "execution_count": 91,
     "metadata": {},
     "output_type": "execute_result"
    }
   ],
   "source": [
    "a.sort()\n",
    "a"
   ]
  },
  {
   "cell_type": "code",
   "execution_count": 92,
   "id": "83c916d9-a17f-4e63-8586-e31be2e466ed",
   "metadata": {},
   "outputs": [
    {
     "data": {
      "text/plain": [
       "array([6, 5, 4, 3, 2, 1])"
      ]
     },
     "execution_count": 92,
     "metadata": {},
     "output_type": "execute_result"
    }
   ],
   "source": [
    "a[::-1]"
   ]
  },
  {
   "cell_type": "code",
   "execution_count": 93,
   "id": "91dd02b7-2952-400b-8251-bd55f7b9a3c7",
   "metadata": {},
   "outputs": [
    {
     "data": {
      "text/plain": [
       "array([[2, 1, 6],\n",
       "       [0, 7, 4],\n",
       "       [5, 3, 2]])"
      ]
     },
     "execution_count": 93,
     "metadata": {},
     "output_type": "execute_result"
    }
   ],
   "source": [
    "a = np.array([[2,1,6],[0,7,4],[5,3,2]])\n",
    "a"
   ]
  },
  {
   "cell_type": "code",
   "execution_count": 94,
   "id": "376e22ad-c716-4bec-9466-28cb4bf9b09c",
   "metadata": {},
   "outputs": [
    {
     "data": {
      "text/plain": [
       "array([[0, 1, 2],\n",
       "       [2, 3, 4],\n",
       "       [5, 7, 6]])"
      ]
     },
     "execution_count": 94,
     "metadata": {},
     "output_type": "execute_result"
    }
   ],
   "source": [
    "np.sort(a,axis = 0)"
   ]
  },
  {
   "cell_type": "code",
   "execution_count": 97,
   "id": "b765f3ca-cec1-4371-9a50-8c52e2c90099",
   "metadata": {},
   "outputs": [],
   "source": [
    "a = np.array([[2,1,6],[0,7,4],[5,13,2]])"
   ]
  },
  {
   "cell_type": "code",
   "execution_count": 98,
   "id": "c78fa90e-95a4-44ec-932e-9802ae72d520",
   "metadata": {},
   "outputs": [
    {
     "data": {
      "text/plain": [
       "array([[ 0,  1,  2],\n",
       "       [ 2,  7,  4],\n",
       "       [ 5, 13,  6]])"
      ]
     },
     "execution_count": 98,
     "metadata": {},
     "output_type": "execute_result"
    }
   ],
   "source": [
    "np.sort(a,axis = 0)  # 축! 열로 정려함 세로 기준으로"
   ]
  },
  {
   "cell_type": "code",
   "execution_count": 99,
   "id": "44dd7832-dbcc-4056-bd00-2fcb85f3450c",
   "metadata": {},
   "outputs": [
    {
     "data": {
      "text/plain": [
       "array([[ 1,  2,  6],\n",
       "       [ 0,  4,  7],\n",
       "       [ 2,  5, 13]])"
      ]
     },
     "execution_count": 99,
     "metadata": {},
     "output_type": "execute_result"
    }
   ],
   "source": [
    "np.sort(a,axis = 1)"
   ]
  },
  {
   "cell_type": "code",
   "execution_count": 103,
   "id": "c92814f9-e3cd-427e-be09-891c28cb813a",
   "metadata": {},
   "outputs": [
    {
     "data": {
      "text/plain": [
       "array([[ 2,  1,  6],\n",
       "       [ 0,  7, 14],\n",
       "       [ 5,  3,  2]])"
      ]
     },
     "execution_count": 103,
     "metadata": {},
     "output_type": "execute_result"
    }
   ],
   "source": [
    "a = np.array([[2,1,6],[0,7,4],[5,3,2]])  # 인덱싱을 사용하여 바꾸기\n",
    "a[1,2]=14\n",
    "a"
   ]
  },
  {
   "cell_type": "code",
   "execution_count": 108,
   "id": "e63daaf8-de75-41ae-a53e-d2261707f962",
   "metadata": {},
   "outputs": [],
   "source": [
    "a=np.ones((2,2),int)"
   ]
  },
  {
   "cell_type": "code",
   "execution_count": 109,
   "id": "d606dee3-6e01-45d4-94bb-c0b4df513fbf",
   "metadata": {},
   "outputs": [
    {
     "data": {
      "text/plain": [
       "array([[1, 1],\n",
       "       [1, 1]])"
      ]
     },
     "execution_count": 109,
     "metadata": {},
     "output_type": "execute_result"
    }
   ],
   "source": [
    "a"
   ]
  },
  {
   "cell_type": "code",
   "execution_count": 112,
   "id": "1291a9fc-4370-4fd5-9937-1baf9dfbbff6",
   "metadata": {},
   "outputs": [
    {
     "data": {
      "text/plain": [
       "array([[7., 7.],\n",
       "       [7., 7.]])"
      ]
     },
     "execution_count": 112,
     "metadata": {},
     "output_type": "execute_result"
    }
   ],
   "source": [
    "a = np.ones((2,2))*7\n",
    "a"
   ]
  },
  {
   "cell_type": "code",
   "execution_count": 113,
   "id": "b3973599-6e73-4611-b6c5-5a3acd806149",
   "metadata": {},
   "outputs": [
    {
     "data": {
      "text/plain": [
       "array([[7, 7],\n",
       "       [7, 7]])"
      ]
     },
     "execution_count": 113,
     "metadata": {},
     "output_type": "execute_result"
    }
   ],
   "source": [
    "np.full((2,2),7)"
   ]
  },
  {
   "cell_type": "code",
   "execution_count": 126,
   "id": "8b63bbac-518d-4674-af0d-5a95b2d9e555",
   "metadata": {},
   "outputs": [
    {
     "data": {
      "text/plain": [
       "array([[ 0,  1,  2,  3,  4],\n",
       "       [ 5,  6,  7,  8,  9],\n",
       "       [10, 11, 12, 13, 14],\n",
       "       [15, 16, 17, 18, 19],\n",
       "       [20, 21, 22, 23, 24]])"
      ]
     },
     "execution_count": 126,
     "metadata": {},
     "output_type": "execute_result"
    }
   ],
   "source": [
    "a = np.arange(25).reshape(5,5)  # 슬라이싱해서 원하는거 찾기\n",
    "a"
   ]
  },
  {
   "cell_type": "code",
   "execution_count": 125,
   "id": "00b71884-22ee-48cd-9703-5145fcf07727",
   "metadata": {},
   "outputs": [
    {
     "data": {
      "text/plain": [
       "array([[ 5,  7],\n",
       "       [15, 17]])"
      ]
     },
     "execution_count": 125,
     "metadata": {},
     "output_type": "execute_result"
    }
   ],
   "source": [
    "yellow = a[4:]\n",
    "red = a[:,1::2]\n",
    "blue = a[1::2,0:3:2]\n",
    "yellow\n",
    "red\n",
    "blue"
   ]
  },
  {
   "cell_type": "code",
   "execution_count": 130,
   "id": "4e343e9e-79f2-4c8b-8884-3d3f2bb799db",
   "metadata": {},
   "outputs": [
    {
     "data": {
      "text/plain": [
       "array([False,  True,  True, False, False,  True, False, False])"
      ]
     },
     "execution_count": 130,
     "metadata": {},
     "output_type": "execute_result"
    }
   ],
   "source": [
    "a = np.array([0,10,20,30,40,50,60,70])  # Boolean으로 찾기\n",
    "mask = np.array([0,1,1,0,0,1,0,0],bool)\n",
    "mask"
   ]
  },
  {
   "cell_type": "code",
   "execution_count": 131,
   "id": "ddc59a57-15d2-4887-9ffe-c3c6cda4ebbb",
   "metadata": {},
   "outputs": [
    {
     "data": {
      "text/plain": [
       "array([10, 20, 50])"
      ]
     },
     "execution_count": 131,
     "metadata": {},
     "output_type": "execute_result"
    }
   ],
   "source": [
    "a[mask]"
   ]
  },
  {
   "cell_type": "code",
   "execution_count": 132,
   "id": "6474fb2c-c4aa-4e2d-a455-4b8e66da7d00",
   "metadata": {},
   "outputs": [
    {
     "data": {
      "text/plain": [
       "array([False, False, False, False, False,  True,  True,  True])"
      ]
     },
     "execution_count": 132,
     "metadata": {},
     "output_type": "execute_result"
    }
   ],
   "source": [
    "a>40"
   ]
  },
  {
   "cell_type": "code",
   "execution_count": 133,
   "id": "95ddaed7-b945-430b-b89f-559d6a72e8de",
   "metadata": {},
   "outputs": [
    {
     "data": {
      "text/plain": [
       "array([50, 60, 70])"
      ]
     },
     "execution_count": 133,
     "metadata": {},
     "output_type": "execute_result"
    }
   ],
   "source": [
    "a[a>40]"
   ]
  },
  {
   "cell_type": "code",
   "execution_count": 135,
   "id": "c8a1528d-cc29-415a-8607-a9d3e27bd92a",
   "metadata": {},
   "outputs": [
    {
     "data": {
      "text/plain": [
       "array([[ 0,  1,  2,  3],\n",
       "       [ 4,  5,  6,  7],\n",
       "       [ 8,  9, 10, 11]])"
      ]
     },
     "execution_count": 135,
     "metadata": {},
     "output_type": "execute_result"
    }
   ],
   "source": [
    "a= np.arange(12).reshape(3,4)\n",
    "a"
   ]
  },
  {
   "cell_type": "code",
   "execution_count": 137,
   "id": "d63dc812-8b5d-495b-bea2-7580bcaf6e19",
   "metadata": {},
   "outputs": [
    {
     "data": {
      "text/plain": [
       "array([ 1,  6,  8, 11])"
      ]
     },
     "execution_count": 137,
     "metadata": {},
     "output_type": "execute_result"
    }
   ],
   "source": [
    "a[[0,1,2,2],[1,2,0,3]]   #2차원 팬시 인덱싱 (앞에는 열 뒤에는 형)"
   ]
  },
  {
   "cell_type": "code",
   "execution_count": 140,
   "id": "8bda860e-ffe6-4c88-bb43-782bf571b0d6",
   "metadata": {},
   "outputs": [
    {
     "data": {
      "text/plain": [
       "array([[ 0,  1,  2,  3,  4],\n",
       "       [ 5,  6,  7,  8,  9],\n",
       "       [10, 11, 12, 13, 14],\n",
       "       [15, 16, 17, 18, 19],\n",
       "       [20, 21, 22, 23, 24]])"
      ]
     },
     "execution_count": 140,
     "metadata": {},
     "output_type": "execute_result"
    }
   ],
   "source": [
    "a=np.arange(25).reshape(5,5)\n",
    "a"
   ]
  },
  {
   "cell_type": "code",
   "execution_count": 143,
   "id": "837206ee-aaa5-4477-ba74-f6888faab9f7",
   "metadata": {},
   "outputs": [
    {
     "data": {
      "text/plain": [
       "array([ 1,  7, 13, 19])"
      ]
     },
     "execution_count": 143,
     "metadata": {},
     "output_type": "execute_result"
    }
   ],
   "source": [
    "blue = a[[0,1,2,3],[1,2,3,4]]\n",
    "blue"
   ]
  },
  {
   "cell_type": "code",
   "execution_count": 144,
   "id": "5d8c93a3-ef48-4c42-bb01-d1aa1dbf76df",
   "metadata": {},
   "outputs": [
    {
     "data": {
      "text/plain": [
       "array([ 1,  7, 13, 19])"
      ]
     },
     "execution_count": 144,
     "metadata": {},
     "output_type": "execute_result"
    }
   ],
   "source": [
    "a[range(4), range(1, 5)]"
   ]
  },
  {
   "cell_type": "code",
   "execution_count": 145,
   "id": "dad6a2d2-8a2a-4ce4-91c0-221bc3e2661d",
   "metadata": {},
   "outputs": [],
   "source": [
    "# 브로드캐스팅 "
   ]
  },
  {
   "cell_type": "code",
   "execution_count": 146,
   "id": "885ff114-e423-40ad-b015-190d4f117be4",
   "metadata": {},
   "outputs": [
    {
     "data": {
      "text/plain": [
       "array([[1, 2, 3],\n",
       "       [4, 5, 6]])"
      ]
     },
     "execution_count": 146,
     "metadata": {},
     "output_type": "execute_result"
    }
   ],
   "source": [
    "a = np.array([[1,2,3],[4,5,6]])\n",
    "a"
   ]
  },
  {
   "cell_type": "code",
   "execution_count": 159,
   "id": "eac20130-7a09-4478-bfec-93726afd3a0d",
   "metadata": {},
   "outputs": [
    {
     "data": {
      "text/plain": [
       "array([5, 7, 9])"
      ]
     },
     "execution_count": 159,
     "metadata": {},
     "output_type": "execute_result"
    }
   ],
   "source": [
    "np.sum(a,axis=0)  # 행끼리(세로)"
   ]
  },
  {
   "cell_type": "code",
   "execution_count": 158,
   "id": "4a1d9fd9-e49d-41ee-ac60-bb4813a642fa",
   "metadata": {},
   "outputs": [
    {
     "data": {
      "text/plain": [
       "array([ 6, 15])"
      ]
     },
     "execution_count": 158,
     "metadata": {},
     "output_type": "execute_result"
    }
   ],
   "source": [
    "np.sum(a,axis=1)  # 열끼리(가로)"
   ]
  },
  {
   "cell_type": "code",
   "execution_count": 148,
   "id": "efae5613-73bd-430c-b27f-2ab8161e7c12",
   "metadata": {},
   "outputs": [
    {
     "data": {
      "text/plain": [
       "21"
      ]
     },
     "execution_count": 148,
     "metadata": {},
     "output_type": "execute_result"
    }
   ],
   "source": [
    "np.sum(a)"
   ]
  },
  {
   "cell_type": "code",
   "execution_count": 161,
   "id": "8a28ea44-640a-4fa4-b590-b54bbab67f66",
   "metadata": {},
   "outputs": [
    {
     "data": {
      "text/plain": [
       "0"
      ]
     },
     "execution_count": 161,
     "metadata": {},
     "output_type": "execute_result"
    }
   ],
   "source": [
    "np.argmin(a)  #최소가 나오게하는 // 한줄로 봤을때 최소값의 인덱스"
   ]
  },
  {
   "cell_type": "code",
   "execution_count": 162,
   "id": "d8a1dd09-9683-4ffb-bd06-3ba91e361ed3",
   "metadata": {},
   "outputs": [
    {
     "data": {
      "text/plain": [
       "5"
      ]
     },
     "execution_count": 162,
     "metadata": {},
     "output_type": "execute_result"
    }
   ],
   "source": [
    "np.argmax(a)  #최대가 나오게하는 x 값 // 한줄로 봤을때 최대값의 인덱스"
   ]
  },
  {
   "cell_type": "code",
   "execution_count": 163,
   "id": "aaaa5243-8526-47db-9342-0415db869df4",
   "metadata": {},
   "outputs": [
    {
     "data": {
      "text/plain": [
       "3.5"
      ]
     },
     "execution_count": 163,
     "metadata": {},
     "output_type": "execute_result"
    }
   ],
   "source": [
    "np.mean(a)"
   ]
  },
  {
   "cell_type": "code",
   "execution_count": 170,
   "id": "22bd7b5f-082c-4112-b619-43c788bc24c0",
   "metadata": {},
   "outputs": [
    {
     "data": {
      "text/plain": [
       "(array([1, 1], dtype=int64), array([1, 2], dtype=int64))"
      ]
     },
     "execution_count": 170,
     "metadata": {},
     "output_type": "execute_result"
    }
   ],
   "source": [
    "#where\n",
    "a = np.array([[1,2,3],[4,5,6]])\n",
    "a\n",
    "np.where(a>4)   # return index"
   ]
  },
  {
   "cell_type": "code",
   "execution_count": 172,
   "id": "2c241c38-c574-416c-baed-bffa3e7353da",
   "metadata": {},
   "outputs": [
    {
     "data": {
      "text/plain": [
       "array([5, 6])"
      ]
     },
     "execution_count": 172,
     "metadata": {},
     "output_type": "execute_result"
    }
   ],
   "source": [
    "a[np.where(a>4)]"
   ]
  },
  {
   "cell_type": "code",
   "execution_count": 173,
   "id": "6897c4e5-8092-47a6-b1aa-b25fffe3da75",
   "metadata": {},
   "outputs": [],
   "source": [
    "# ndim 몇차원인지 "
   ]
  },
  {
   "cell_type": "code",
   "execution_count": 174,
   "id": "bf555e7c-92d2-4606-baac-0ea7ed51c6ee",
   "metadata": {},
   "outputs": [],
   "source": [
    "# vstact , hstact  가로냐 새로로 쌓느냐"
   ]
  },
  {
   "cell_type": "code",
   "execution_count": 175,
   "id": "8accf176-9e06-45bc-9e9f-274f3388283b",
   "metadata": {},
   "outputs": [
    {
     "data": {
      "text/plain": [
       "(20, 21, 22, 23, 24)"
      ]
     },
     "execution_count": 175,
     "metadata": {},
     "output_type": "execute_result"
    }
   ],
   "source": [
    "#A[1:3,::3]  01234\n",
    "56789\n",
    "10,11,12,13,14,\n",
    "15,16,17,18,19\n",
    "20,21,22,23,24"
   ]
  },
  {
   "cell_type": "code",
   "execution_count": 177,
   "id": "99d04850-ea9a-4933-bbbf-665ee5bc359b",
   "metadata": {},
   "outputs": [
    {
     "data": {
      "text/plain": [
       "array([[[ 0,  1,  2],\n",
       "        [ 3,  4,  5],\n",
       "        [ 6,  7,  8],\n",
       "        [ 9, 10, 11]],\n",
       "\n",
       "       [[12, 13, 14],\n",
       "        [15, 16, 17],\n",
       "        [18, 19, 20],\n",
       "        [21, 22, 23]],\n",
       "\n",
       "       [[24, 25, 26],\n",
       "        [27, 28, 29],\n",
       "        [30, 31, 32],\n",
       "        [33, 34, 35]]])"
      ]
     },
     "execution_count": 177,
     "metadata": {},
     "output_type": "execute_result"
    }
   ],
   "source": [
    "np.arange(36).reshape(3,4,3)"
   ]
  },
  {
   "cell_type": "code",
   "execution_count": 179,
   "id": "eddc1c10-a2ce-4ccc-a49b-55fd347801c4",
   "metadata": {},
   "outputs": [],
   "source": [
    "from datetime import datetime, date, time"
   ]
  },
  {
   "cell_type": "code",
   "execution_count": 182,
   "id": "77d8ff7b-c966-418e-9a3d-a6af5388fe6b",
   "metadata": {},
   "outputs": [
    {
     "data": {
      "text/plain": [
       "datetime.datetime(2022, 6, 24, 16, 26, 44, 748188)"
      ]
     },
     "execution_count": 182,
     "metadata": {},
     "output_type": "execute_result"
    }
   ],
   "source": [
    "dt = datetime.now()\n",
    "dt"
   ]
  },
  {
   "cell_type": "code",
   "execution_count": 187,
   "id": "632c95bd-10ee-423c-848f-8d090b4cd7ba",
   "metadata": {},
   "outputs": [
    {
     "name": "stdout",
     "output_type": "stream",
     "text": [
      "2022\n",
      "6\n",
      "24\n",
      "16\n"
     ]
    }
   ],
   "source": [
    "print(dt.year)\n",
    "print(dt.month)\n",
    "print(dt.day)\n",
    "print(dt.hour)\n"
   ]
  },
  {
   "cell_type": "code",
   "execution_count": 188,
   "id": "872afe45-a98d-463c-bd09-f7fd622de336",
   "metadata": {},
   "outputs": [
    {
     "data": {
      "text/plain": [
       "datetime.date(2022, 6, 24)"
      ]
     },
     "execution_count": 188,
     "metadata": {},
     "output_type": "execute_result"
    }
   ],
   "source": [
    "dt.date()"
   ]
  },
  {
   "cell_type": "code",
   "execution_count": 189,
   "id": "5f9c96bd-0dd3-42c4-994f-4baa8479071e",
   "metadata": {},
   "outputs": [
    {
     "data": {
      "text/plain": [
       "datetime.time(16, 26, 44, 748188)"
      ]
     },
     "execution_count": 189,
     "metadata": {},
     "output_type": "execute_result"
    }
   ],
   "source": [
    "dt.time()"
   ]
  },
  {
   "cell_type": "code",
   "execution_count": 190,
   "id": "248b26f4-d2a3-48c9-911b-92c228d1c816",
   "metadata": {},
   "outputs": [
    {
     "data": {
      "text/plain": [
       "datetime.datetime(2022, 6, 24, 16, 26, 44, 748188)"
      ]
     },
     "execution_count": 190,
     "metadata": {},
     "output_type": "execute_result"
    }
   ],
   "source": [
    "dt"
   ]
  },
  {
   "cell_type": "code",
   "execution_count": 192,
   "id": "f47bb756-79af-49ea-93a8-14c04f8aef68",
   "metadata": {},
   "outputs": [
    {
     "data": {
      "text/plain": [
       "'06/24/2022 16:26:44'"
      ]
     },
     "execution_count": 192,
     "metadata": {},
     "output_type": "execute_result"
    }
   ],
   "source": [
    "dt.strftime(\"%m/%d/%Y %H:%M:%S\")\n",
    "\n",
    "#10/29/2011 20:30"
   ]
  },
  {
   "cell_type": "code",
   "execution_count": 211,
   "id": "8b374a35-1e15-4870-9b52-f5cc4b556e47",
   "metadata": {},
   "outputs": [
    {
     "data": {
      "text/plain": [
       "datetime.datetime(2009, 10, 31, 0, 0)"
      ]
     },
     "execution_count": 211,
     "metadata": {},
     "output_type": "execute_result"
    }
   ],
   "source": [
    "dt2 = datetime.strptime('2009/10/31',\"%Y/%m/%d\") #스트링을 객체로 바꿈\n",
    "dt2"
   ]
  },
  {
   "cell_type": "code",
   "execution_count": 212,
   "id": "a8c00d00-32bc-4673-8cd6-6b651c6bb976",
   "metadata": {},
   "outputs": [
    {
     "data": {
      "text/plain": [
       "datetime.datetime(2022, 6, 24, 16, 37, 19, 986042)"
      ]
     },
     "execution_count": 212,
     "metadata": {},
     "output_type": "execute_result"
    }
   ],
   "source": [
    "dt = datetime.now()\n",
    "dt"
   ]
  },
  {
   "cell_type": "code",
   "execution_count": 209,
   "id": "d40b77f0-956e-4015-92ed-cf3ee6f9fa51",
   "metadata": {},
   "outputs": [
    {
     "data": {
      "text/plain": [
       "datetime.timedelta(days=4619, seconds=59831, microseconds=834203)"
      ]
     },
     "execution_count": 209,
     "metadata": {},
     "output_type": "execute_result"
    }
   ],
   "source": [
    "td = dt-dt2  # timedelta 객체\n",
    "td"
   ]
  },
  {
   "cell_type": "code",
   "execution_count": 214,
   "id": "a38d5cdd-da3d-48ea-be52-edb14177722e",
   "metadata": {
    "tags": []
   },
   "outputs": [
    {
     "data": {
      "text/plain": [
       "datetime.datetime(2022, 6, 24, 16, 37, 11, 834203)"
      ]
     },
     "execution_count": 214,
     "metadata": {},
     "output_type": "execute_result"
    }
   ],
   "source": [
    "dt2+td"
   ]
  },
  {
   "cell_type": "code",
   "execution_count": 215,
   "id": "776db41c-e48b-4ce6-81d6-3ef0e6d4fdba",
   "metadata": {},
   "outputs": [],
   "source": [
    "# 올해 크리스마스까지 남은 날짜는 며칠입니까?"
   ]
  },
  {
   "cell_type": "code",
   "execution_count": 223,
   "id": "d7c512af-9cfb-4da6-9ac8-2d3782a6c0e6",
   "metadata": {},
   "outputs": [
    {
     "data": {
      "text/plain": [
       "datetime.timedelta(days=183, seconds=25743, microseconds=858318)"
      ]
     },
     "execution_count": 223,
     "metadata": {},
     "output_type": "execute_result"
    }
   ],
   "source": [
    "dt = datetime.now()\n",
    "dtc = datetime.strptime('2022/12/25',\"%Y/%m/%d\")\n",
    "tda=dtc-dt\n",
    "tda"
   ]
  },
  {
   "cell_type": "code",
   "execution_count": 221,
   "id": "bf0bd073-a985-4995-a668-18ccc98dca94",
   "metadata": {},
   "outputs": [],
   "source": [
    "# p424"
   ]
  },
  {
   "cell_type": "code",
   "execution_count": null,
   "id": "8e0e6d87-b92c-42b9-aa89-7e923e79b032",
   "metadata": {},
   "outputs": [],
   "source": []
  },
  {
   "cell_type": "markdown",
   "id": "5e52bf8d-89f2-41c7-b104-760f01b361a7",
   "metadata": {},
   "source": [
    "# Series"
   ]
  },
  {
   "cell_type": "code",
   "execution_count": 1,
   "id": "2abf17a2-b0ad-4d7b-9bc6-a21f37d7384f",
   "metadata": {},
   "outputs": [],
   "source": [
    "import pandas as pd"
   ]
  },
  {
   "cell_type": "code",
   "execution_count": 4,
   "id": "f430a709-f256-4554-ad02-95b8b40467b5",
   "metadata": {},
   "outputs": [],
   "source": [
    "s = pd.Series([\"a\",\"b\",\"c\"])  # 1차원 자료를 시리즈라 한다"
   ]
  },
  {
   "cell_type": "code",
   "execution_count": 6,
   "id": "7e5e699a-fc86-4e59-beaa-4b6f80415120",
   "metadata": {},
   "outputs": [
    {
     "data": {
      "text/plain": [
       "RangeIndex(start=0, stop=3, step=1)"
      ]
     },
     "execution_count": 6,
     "metadata": {},
     "output_type": "execute_result"
    }
   ],
   "source": [
    "s.index"
   ]
  },
  {
   "cell_type": "code",
   "execution_count": 7,
   "id": "f173b942-ad1e-486d-8dd5-62b6704cd75d",
   "metadata": {},
   "outputs": [
    {
     "data": {
      "text/plain": [
       "array(['a', 'b', 'c'], dtype=object)"
      ]
     },
     "execution_count": 7,
     "metadata": {},
     "output_type": "execute_result"
    }
   ],
   "source": [
    "s.values"
   ]
  },
  {
   "cell_type": "code",
   "execution_count": 14,
   "id": "47802e26-c085-4c83-a7d1-b3818323d57f",
   "metadata": {},
   "outputs": [
    {
     "data": {
      "text/plain": [
       "0    a\n",
       "1    b\n",
       "2    c\n",
       "dtype: object"
      ]
     },
     "execution_count": 14,
     "metadata": {},
     "output_type": "execute_result"
    }
   ],
   "source": [
    "s  # 판다스에서 글자는 오브젝트다"
   ]
  },
  {
   "cell_type": "code",
   "execution_count": 12,
   "id": "3ffc0d54-75d4-4f4c-8c64-6fbb0d9e89f0",
   "metadata": {},
   "outputs": [],
   "source": [
    "sdata = {\"Ohio\":35000,\"Texas\":71000}\n",
    "s1 = pd.Series(sdata)"
   ]
  },
  {
   "cell_type": "code",
   "execution_count": 13,
   "id": "b6b556c7-7d4d-4147-8c1b-c69b51b32466",
   "metadata": {},
   "outputs": [
    {
     "data": {
      "text/plain": [
       "pandas.core.series.Series"
      ]
     },
     "execution_count": 13,
     "metadata": {},
     "output_type": "execute_result"
    }
   ],
   "source": [
    "type(s1)"
   ]
  },
  {
   "cell_type": "code",
   "execution_count": 16,
   "id": "258e90b3-ac09-4399-9f23-1a0f38c07301",
   "metadata": {},
   "outputs": [
    {
     "data": {
      "text/plain": [
       "Ohio     35000\n",
       "Texas    71000\n",
       "dtype: int64"
      ]
     },
     "execution_count": 16,
     "metadata": {},
     "output_type": "execute_result"
    }
   ],
   "source": [
    "s1"
   ]
  },
  {
   "cell_type": "code",
   "execution_count": 20,
   "id": "0bd8a445-e6a5-43c9-b72d-69ffcb6d28db",
   "metadata": {},
   "outputs": [
    {
     "data": {
      "text/plain": [
       "Index(['Ohio', 'Texas'], dtype='object')"
      ]
     },
     "execution_count": 20,
     "metadata": {},
     "output_type": "execute_result"
    }
   ],
   "source": [
    "s1.index  # 글자도 인덱스가 될수 있다."
   ]
  },
  {
   "cell_type": "code",
   "execution_count": 21,
   "id": "60c86cd8-ae60-4507-96b3-df3b0cc5e7a7",
   "metadata": {},
   "outputs": [
    {
     "data": {
      "text/plain": [
       "35000"
      ]
     },
     "execution_count": 21,
     "metadata": {},
     "output_type": "execute_result"
    }
   ],
   "source": [
    "s1['Ohio']   # 글자도 인덱스가 될수 있다."
   ]
  },
  {
   "cell_type": "markdown",
   "id": "7b6e00d2-36ca-464c-a6ac-a7a315e9233e",
   "metadata": {},
   "source": [
    "## DataFrame(표)"
   ]
  },
  {
   "cell_type": "code",
   "execution_count": 23,
   "id": "ec6a41ad-49f6-45f5-8bbc-70decc3b9ad3",
   "metadata": {},
   "outputs": [
    {
     "data": {
      "text/html": [
       "<div>\n",
       "<style scoped>\n",
       "    .dataframe tbody tr th:only-of-type {\n",
       "        vertical-align: middle;\n",
       "    }\n",
       "\n",
       "    .dataframe tbody tr th {\n",
       "        vertical-align: top;\n",
       "    }\n",
       "\n",
       "    .dataframe thead th {\n",
       "        text-align: right;\n",
       "    }\n",
       "</style>\n",
       "<table border=\"1\" class=\"dataframe\">\n",
       "  <thead>\n",
       "    <tr style=\"text-align: right;\">\n",
       "      <th></th>\n",
       "      <th>0</th>\n",
       "      <th>1</th>\n",
       "    </tr>\n",
       "  </thead>\n",
       "  <tbody>\n",
       "    <tr>\n",
       "      <th>0</th>\n",
       "      <td>1</td>\n",
       "      <td>2</td>\n",
       "    </tr>\n",
       "    <tr>\n",
       "      <th>1</th>\n",
       "      <td>3</td>\n",
       "      <td>4</td>\n",
       "    </tr>\n",
       "  </tbody>\n",
       "</table>\n",
       "</div>"
      ],
      "text/plain": [
       "   0  1\n",
       "0  1  2\n",
       "1  3  4"
      ]
     },
     "execution_count": 23,
     "metadata": {},
     "output_type": "execute_result"
    }
   ],
   "source": [
    "pd.DataFrame([[1,2],[3,4]]) #세로가 인덱스 가로는 칼럼(columns)"
   ]
  },
  {
   "cell_type": "code",
   "execution_count": 24,
   "id": "5d97dcb4-ec57-40db-87fe-2c204f1187ca",
   "metadata": {},
   "outputs": [
    {
     "data": {
      "text/html": [
       "<div>\n",
       "<style scoped>\n",
       "    .dataframe tbody tr th:only-of-type {\n",
       "        vertical-align: middle;\n",
       "    }\n",
       "\n",
       "    .dataframe tbody tr th {\n",
       "        vertical-align: top;\n",
       "    }\n",
       "\n",
       "    .dataframe thead th {\n",
       "        text-align: right;\n",
       "    }\n",
       "</style>\n",
       "<table border=\"1\" class=\"dataframe\">\n",
       "  <thead>\n",
       "    <tr style=\"text-align: right;\">\n",
       "      <th></th>\n",
       "      <th>0</th>\n",
       "      <th>1</th>\n",
       "    </tr>\n",
       "  </thead>\n",
       "  <tbody>\n",
       "    <tr>\n",
       "      <th>a</th>\n",
       "      <td>1</td>\n",
       "      <td>2</td>\n",
       "    </tr>\n",
       "    <tr>\n",
       "      <th>b</th>\n",
       "      <td>3</td>\n",
       "      <td>4</td>\n",
       "    </tr>\n",
       "  </tbody>\n",
       "</table>\n",
       "</div>"
      ],
      "text/plain": [
       "   0  1\n",
       "a  1  2\n",
       "b  3  4"
      ]
     },
     "execution_count": 24,
     "metadata": {},
     "output_type": "execute_result"
    }
   ],
   "source": [
    "pd.DataFrame([[1,2],[3,4]], index = [\"a\",\"b\"])"
   ]
  },
  {
   "cell_type": "code",
   "execution_count": 26,
   "id": "815383ce-4768-42fb-bd6c-10b510ade1c3",
   "metadata": {},
   "outputs": [
    {
     "data": {
      "text/html": [
       "<div>\n",
       "<style scoped>\n",
       "    .dataframe tbody tr th:only-of-type {\n",
       "        vertical-align: middle;\n",
       "    }\n",
       "\n",
       "    .dataframe tbody tr th {\n",
       "        vertical-align: top;\n",
       "    }\n",
       "\n",
       "    .dataframe thead th {\n",
       "        text-align: right;\n",
       "    }\n",
       "</style>\n",
       "<table border=\"1\" class=\"dataframe\">\n",
       "  <thead>\n",
       "    <tr style=\"text-align: right;\">\n",
       "      <th></th>\n",
       "      <th>A</th>\n",
       "      <th>B</th>\n",
       "    </tr>\n",
       "  </thead>\n",
       "  <tbody>\n",
       "    <tr>\n",
       "      <th>a</th>\n",
       "      <td>1</td>\n",
       "      <td>2</td>\n",
       "    </tr>\n",
       "    <tr>\n",
       "      <th>b</th>\n",
       "      <td>3</td>\n",
       "      <td>4</td>\n",
       "    </tr>\n",
       "  </tbody>\n",
       "</table>\n",
       "</div>"
      ],
      "text/plain": [
       "   A  B\n",
       "a  1  2\n",
       "b  3  4"
      ]
     },
     "execution_count": 26,
     "metadata": {},
     "output_type": "execute_result"
    }
   ],
   "source": [
    "pd.DataFrame([[1,2],[3,4]], index = [\"a\",\"b\"], columns = [\"A\",\"B\"])"
   ]
  },
  {
   "cell_type": "code",
   "execution_count": 27,
   "id": "51c0aa4b-0273-421c-a78c-b70d30af8bb2",
   "metadata": {},
   "outputs": [
    {
     "data": {
      "text/html": [
       "<div>\n",
       "<style scoped>\n",
       "    .dataframe tbody tr th:only-of-type {\n",
       "        vertical-align: middle;\n",
       "    }\n",
       "\n",
       "    .dataframe tbody tr th {\n",
       "        vertical-align: top;\n",
       "    }\n",
       "\n",
       "    .dataframe thead th {\n",
       "        text-align: right;\n",
       "    }\n",
       "</style>\n",
       "<table border=\"1\" class=\"dataframe\">\n",
       "  <thead>\n",
       "    <tr style=\"text-align: right;\">\n",
       "      <th></th>\n",
       "      <th>key1</th>\n",
       "      <th>key2</th>\n",
       "    </tr>\n",
       "  </thead>\n",
       "  <tbody>\n",
       "    <tr>\n",
       "      <th>0</th>\n",
       "      <td>1</td>\n",
       "      <td>2</td>\n",
       "    </tr>\n",
       "  </tbody>\n",
       "</table>\n",
       "</div>"
      ],
      "text/plain": [
       "   key1  key2\n",
       "0     1     2"
      ]
     },
     "execution_count": 27,
     "metadata": {},
     "output_type": "execute_result"
    }
   ],
   "source": [
    "pd.DataFrame([{\"key1\":1,\"key2\":2}])"
   ]
  },
  {
   "cell_type": "code",
   "execution_count": 30,
   "id": "04b1cc2c-9570-47c1-9025-d1650e14668d",
   "metadata": {},
   "outputs": [
    {
     "data": {
      "text/html": [
       "<div>\n",
       "<style scoped>\n",
       "    .dataframe tbody tr th:only-of-type {\n",
       "        vertical-align: middle;\n",
       "    }\n",
       "\n",
       "    .dataframe tbody tr th {\n",
       "        vertical-align: top;\n",
       "    }\n",
       "\n",
       "    .dataframe thead th {\n",
       "        text-align: right;\n",
       "    }\n",
       "</style>\n",
       "<table border=\"1\" class=\"dataframe\">\n",
       "  <thead>\n",
       "    <tr style=\"text-align: right;\">\n",
       "      <th></th>\n",
       "      <th>key1</th>\n",
       "      <th>key2</th>\n",
       "    </tr>\n",
       "  </thead>\n",
       "  <tbody>\n",
       "    <tr>\n",
       "      <th>0</th>\n",
       "      <td>[1, 3]</td>\n",
       "      <td>[2, 4]</td>\n",
       "    </tr>\n",
       "  </tbody>\n",
       "</table>\n",
       "</div>"
      ],
      "text/plain": [
       "     key1    key2\n",
       "0  [1, 3]  [2, 4]"
      ]
     },
     "execution_count": 30,
     "metadata": {},
     "output_type": "execute_result"
    }
   ],
   "source": [
    "pd.DataFrame([{\"key1\":[1,3],\"key2\":[2,4]}])"
   ]
  },
  {
   "cell_type": "code",
   "execution_count": 31,
   "id": "d62d6e54-5c11-4ce5-9c2c-345d4658abf2",
   "metadata": {},
   "outputs": [
    {
     "data": {
      "text/html": [
       "<div>\n",
       "<style scoped>\n",
       "    .dataframe tbody tr th:only-of-type {\n",
       "        vertical-align: middle;\n",
       "    }\n",
       "\n",
       "    .dataframe tbody tr th {\n",
       "        vertical-align: top;\n",
       "    }\n",
       "\n",
       "    .dataframe thead th {\n",
       "        text-align: right;\n",
       "    }\n",
       "</style>\n",
       "<table border=\"1\" class=\"dataframe\">\n",
       "  <thead>\n",
       "    <tr style=\"text-align: right;\">\n",
       "      <th></th>\n",
       "      <th>key1</th>\n",
       "      <th>key2</th>\n",
       "    </tr>\n",
       "  </thead>\n",
       "  <tbody>\n",
       "    <tr>\n",
       "      <th>0</th>\n",
       "      <td>1</td>\n",
       "      <td>2</td>\n",
       "    </tr>\n",
       "    <tr>\n",
       "      <th>1</th>\n",
       "      <td>3</td>\n",
       "      <td>4</td>\n",
       "    </tr>\n",
       "  </tbody>\n",
       "</table>\n",
       "</div>"
      ],
      "text/plain": [
       "   key1  key2\n",
       "0     1     2\n",
       "1     3     4"
      ]
     },
     "execution_count": 31,
     "metadata": {},
     "output_type": "execute_result"
    }
   ],
   "source": [
    "pd.DataFrame({\"key1\":[1,3],\"key2\":[2,4]}) # 키값이 칼럼의 이름으로 간다(딕셔너리 경우)"
   ]
  },
  {
   "cell_type": "code",
   "execution_count": 32,
   "id": "614f700c-5aee-4280-93ae-15cb8884dde2",
   "metadata": {},
   "outputs": [
    {
     "data": {
      "text/html": [
       "<div>\n",
       "<style scoped>\n",
       "    .dataframe tbody tr th:only-of-type {\n",
       "        vertical-align: middle;\n",
       "    }\n",
       "\n",
       "    .dataframe tbody tr th {\n",
       "        vertical-align: top;\n",
       "    }\n",
       "\n",
       "    .dataframe thead th {\n",
       "        text-align: right;\n",
       "    }\n",
       "</style>\n",
       "<table border=\"1\" class=\"dataframe\">\n",
       "  <thead>\n",
       "    <tr style=\"text-align: right;\">\n",
       "      <th></th>\n",
       "      <th>key1</th>\n",
       "      <th>key2</th>\n",
       "    </tr>\n",
       "  </thead>\n",
       "  <tbody>\n",
       "    <tr>\n",
       "      <th>a</th>\n",
       "      <td>1</td>\n",
       "      <td>2</td>\n",
       "    </tr>\n",
       "    <tr>\n",
       "      <th>b</th>\n",
       "      <td>3</td>\n",
       "      <td>4</td>\n",
       "    </tr>\n",
       "  </tbody>\n",
       "</table>\n",
       "</div>"
      ],
      "text/plain": [
       "   key1  key2\n",
       "a     1     2\n",
       "b     3     4"
      ]
     },
     "execution_count": 32,
     "metadata": {},
     "output_type": "execute_result"
    }
   ],
   "source": [
    "pd.DataFrame({\"key1\":[1,3],\"key2\":[2,4]}, index = [\"a\",\"b\"])"
   ]
  },
  {
   "cell_type": "markdown",
   "id": "cac16f3f-bba5-4e07-a467-6f2dad4a28f7",
   "metadata": {},
   "source": [
    "## 판다스 (6월28일)"
   ]
  },
  {
   "cell_type": "markdown",
   "id": "a5cf6107-b830-4c4c-ad52-2f227e912826",
   "metadata": {},
   "source": [
    "- 판다스는 구조화된 데이터 형식을 제공. 시리즈는 1차원 배열, 데이터프레임은 2차원 배열\n",
    "- 라이브러리는 여러 종류의 class와 다양한 내장 함수로 구성. 시리즈와 데이터프레임은 대표적인 클래스 객체임\n",
    "- 시리즈 인덱스는 데이터 값과 일대일 대응. 파이썬 딕셔너리와 비슷한 구조\n",
    "- contents\n",
    "  - Series(변환, 인덱스 구조, 원소 선택)\n",
    "  - DataFrame(변환, 행인덱스/열이름 지정, 삭제, 선택, 추가, 변경, 전치, 인덱스 활용)"
   ]
  },
  {
   "cell_type": "code",
   "execution_count": 4,
   "id": "f6581b81-28e5-49a5-9031-7203c025b3e3",
   "metadata": {},
   "outputs": [],
   "source": [
    "# 딕셔너리를 시리즈로 변환"
   ]
  },
  {
   "cell_type": "code",
   "execution_count": 3,
   "id": "05c30b1c-92e4-4199-8fb7-a1bc3606177e",
   "metadata": {},
   "outputs": [
    {
     "name": "stdout",
     "output_type": "stream",
     "text": [
      "a    1\n",
      "b    2\n",
      "c    3\n",
      "dtype: int64\n",
      "<class 'pandas.core.series.Series'>\n"
     ]
    }
   ],
   "source": [
    "import pandas as pd\n",
    "\n",
    "dict_data = {'a':1,'b':2,'c':3}\n",
    "sr = pd.Series(dict_data)\n",
    "\n",
    "print(sr)\n",
    "print(type(sr))"
   ]
  },
  {
   "cell_type": "code",
   "execution_count": 5,
   "id": "07c8fb99-fce0-4142-befe-d70100e14904",
   "metadata": {},
   "outputs": [
    {
     "data": {
      "text/plain": [
       "a    2019-07-02\n",
       "b          3.14\n",
       "c           ABC\n",
       "d           100\n",
       "e          True\n",
       "dtype: object"
      ]
     },
     "execution_count": 5,
     "metadata": {},
     "output_type": "execute_result"
    }
   ],
   "source": [
    "# 리스트를 시리즈로 변환\n",
    "list_data = ['2019-07-02', 3.14, 'ABC', 100, True]\n",
    "sr = pd.Series(list_data, index = list('abcde'))\n",
    "sr"
   ]
  },
  {
   "cell_type": "code",
   "execution_count": 6,
   "id": "db38b480-392f-47b8-ade7-1f5b268308d8",
   "metadata": {},
   "outputs": [
    {
     "name": "stdout",
     "output_type": "stream",
     "text": [
      "Index(['a', 'b', 'c', 'd', 'e'], dtype='object')\n",
      "['2019-07-02' 3.14 'ABC' 100 True]\n"
     ]
    }
   ],
   "source": [
    "# 인텍스 및 값\n",
    "idx = sr.index\n",
    "val = sr.values\n",
    "print(idx)\n",
    "print(val)"
   ]
  },
  {
   "cell_type": "code",
   "execution_count": 7,
   "id": "5b61a174-a871-4549-8e64-8f269a99022d",
   "metadata": {},
   "outputs": [
    {
     "name": "stdout",
     "output_type": "stream",
     "text": [
      "이름           kevin\n",
      "생년월일    2019-07-02\n",
      "성별               남\n",
      "학생여부          True\n",
      "dtype: object\n",
      "kevin\n",
      "kevin\n",
      "생년월일    2019-07-02\n",
      "성별               남\n",
      "dtype: object\n"
     ]
    }
   ],
   "source": [
    "# 튜플을 시리즈로 변환\n",
    "tup_data = ('kevin', '2019-07-02', '남', True)\n",
    "sr = pd.Series(tup_data, index=['이름', '생년월일', '성별', '학생여부'])\n",
    "print(sr)\n",
    "\n",
    "print(sr[0])\n",
    "print(sr['이름'])\n",
    "print(sr[[1,2]])"
   ]
  },
  {
   "cell_type": "code",
   "execution_count": 8,
   "id": "6aa36999-4337-4b99-b21c-c36f2f16e5f7",
   "metadata": {},
   "outputs": [
    {
     "data": {
      "text/plain": [
       "1"
      ]
     },
     "execution_count": 8,
     "metadata": {},
     "output_type": "execute_result"
    }
   ],
   "source": [
    "import numpy as np\n",
    "data = np.arange(1000, 5000, 1000)\n",
    "state = ['Califonia', 'Ohio', 'Oregon', 'Texas']\n",
    "obj = pd.Series(data, index=state)\n",
    "obj\n",
    "\n",
    "obj.name = 'population'\n",
    "obj.index.name = 'state'\n",
    "obj\n",
    "\n",
    "obj.Califonia = np.nan\n",
    "obj\n",
    "\n",
    "obj.isnull().sum()"
   ]
  },
  {
   "cell_type": "markdown",
   "id": "35fed466-76b3-4f95-9389-b299c7a77298",
   "metadata": {},
   "source": [
    "## 데이터프레임\n",
    "- 2차원 배열, R의 데이터프레임에서 유래\n",
    "- 열은 각각 시리즈 객체\n",
    "- 시리즈를 열벡터라고 하면 데이터프레임은 여러개의 열벡터들이 같은 행 인덱스를 기준으로 줄이저 결합된 2차원 벡터 또는 행렬\n",
    "- 선형대수학에서 열 벡터(m X 1행렬)는 m 원소들의 단일 열 행렬\n",
    "- 행 벡터(1 X m 행렬)은 m원소들의 단일 행 행렬\n",
    "- 리스트, 딕셔너리, ndarray 등 다양한 데이터로부터 생성\n",
    "- 반대로 시르트, 딕셔너리, ndarray 등으로 변환될 수 있음\n"
   ]
  },
  {
   "cell_type": "code",
   "execution_count": 9,
   "id": "e7234035-3828-4245-9cb0-d97da2ea436a",
   "metadata": {},
   "outputs": [
    {
     "name": "stdout",
     "output_type": "stream",
     "text": [
      "[[112 115 100]\n",
      " [103 103 107]\n",
      " [109 119 118]] <class 'numpy.ndarray'>\n"
     ]
    }
   ],
   "source": [
    "# 배열을 데이터프레임으로 변환\n",
    "np.random.seed(0)\n",
    "data = np.random.randint(100,120,size=(3,3))\n",
    "print(data, type(data))"
   ]
  },
  {
   "cell_type": "code",
   "execution_count": 10,
   "id": "bc38eb10-4ec0-4962-a7ab-4ca449a64325",
   "metadata": {},
   "outputs": [
    {
     "data": {
      "text/html": [
       "<div>\n",
       "<style scoped>\n",
       "    .dataframe tbody tr th:only-of-type {\n",
       "        vertical-align: middle;\n",
       "    }\n",
       "\n",
       "    .dataframe tbody tr th {\n",
       "        vertical-align: top;\n",
       "    }\n",
       "\n",
       "    .dataframe thead th {\n",
       "        text-align: right;\n",
       "    }\n",
       "</style>\n",
       "<table border=\"1\" class=\"dataframe\">\n",
       "  <thead>\n",
       "    <tr style=\"text-align: right;\">\n",
       "      <th></th>\n",
       "      <th>pd</th>\n",
       "      <th>sales</th>\n",
       "      <th>inv</th>\n",
       "    </tr>\n",
       "  </thead>\n",
       "  <tbody>\n",
       "    <tr>\n",
       "      <th>d1</th>\n",
       "      <td>112</td>\n",
       "      <td>115</td>\n",
       "      <td>100</td>\n",
       "    </tr>\n",
       "    <tr>\n",
       "      <th>d2</th>\n",
       "      <td>103</td>\n",
       "      <td>103</td>\n",
       "      <td>107</td>\n",
       "    </tr>\n",
       "    <tr>\n",
       "      <th>d3</th>\n",
       "      <td>109</td>\n",
       "      <td>119</td>\n",
       "      <td>118</td>\n",
       "    </tr>\n",
       "  </tbody>\n",
       "</table>\n",
       "</div>"
      ],
      "text/plain": [
       "     pd  sales  inv\n",
       "d1  112    115  100\n",
       "d2  103    103  107\n",
       "d3  109    119  118"
      ]
     },
     "execution_count": 10,
     "metadata": {},
     "output_type": "execute_result"
    }
   ],
   "source": [
    "# numpy의 배열을 ndarray라고 부른다.\n",
    "\n",
    "df = pd.DataFrame(data, index=['d1','d2','d3'],\n",
    "                 columns = ['pd','sales','inv'])\n",
    "df\n"
   ]
  },
  {
   "cell_type": "code",
   "execution_count": 11,
   "id": "5211f921-16f5-4475-9cb5-d59816341183",
   "metadata": {},
   "outputs": [
    {
     "name": "stdout",
     "output_type": "stream",
     "text": [
      "pd       103\n",
      "sales    103\n",
      "inv      107\n",
      "Name: d2, dtype: int32 \n",
      "\n",
      "pd       103\n",
      "sales    103\n",
      "inv      107\n",
      "Name: d2, dtype: int32\n"
     ]
    }
   ],
   "source": [
    "# 인덱싱 : iloc 정수 인덱스, loc 이름 인덱스\n",
    "print(df.iloc[1],'\\n')\n",
    "print(df.loc['d2'])"
   ]
  },
  {
   "cell_type": "code",
   "execution_count": 12,
   "id": "85e7b331-1bf6-433a-a878-04597ec8b015",
   "metadata": {},
   "outputs": [
    {
     "name": "stdout",
     "output_type": "stream",
     "text": [
      "107\n",
      "107\n"
     ]
    },
    {
     "data": {
      "text/html": [
       "<div>\n",
       "<style scoped>\n",
       "    .dataframe tbody tr th:only-of-type {\n",
       "        vertical-align: middle;\n",
       "    }\n",
       "\n",
       "    .dataframe tbody tr th {\n",
       "        vertical-align: top;\n",
       "    }\n",
       "\n",
       "    .dataframe thead th {\n",
       "        text-align: right;\n",
       "    }\n",
       "</style>\n",
       "<table border=\"1\" class=\"dataframe\">\n",
       "  <thead>\n",
       "    <tr style=\"text-align: right;\">\n",
       "      <th></th>\n",
       "      <th>pd</th>\n",
       "      <th>sales</th>\n",
       "      <th>inv</th>\n",
       "    </tr>\n",
       "  </thead>\n",
       "  <tbody>\n",
       "    <tr>\n",
       "      <th>d1</th>\n",
       "      <td>112</td>\n",
       "      <td>115</td>\n",
       "      <td>100</td>\n",
       "    </tr>\n",
       "    <tr>\n",
       "      <th>d2</th>\n",
       "      <td>103</td>\n",
       "      <td>103</td>\n",
       "      <td>107</td>\n",
       "    </tr>\n",
       "    <tr>\n",
       "      <th>d3</th>\n",
       "      <td>109</td>\n",
       "      <td>119</td>\n",
       "      <td>118</td>\n",
       "    </tr>\n",
       "  </tbody>\n",
       "</table>\n",
       "</div>"
      ],
      "text/plain": [
       "     pd  sales  inv\n",
       "d1  112    115  100\n",
       "d2  103    103  107\n",
       "d3  109    119  118"
      ]
     },
     "execution_count": 12,
     "metadata": {},
     "output_type": "execute_result"
    }
   ],
   "source": [
    "# Q. iloc, loc를 사용하여 107을 출력하세요.\n",
    "print(df.iloc[1][2])\n",
    "print(df.loc['d2', 'inv'])\n",
    "\n",
    "df1 = df.copy()\n",
    "df1"
   ]
  },
  {
   "cell_type": "code",
   "execution_count": 13,
   "id": "b62b849c-0609-4412-b4e1-f3f3a4926588",
   "metadata": {},
   "outputs": [
    {
     "data": {
      "text/html": [
       "<div>\n",
       "<style scoped>\n",
       "    .dataframe tbody tr th:only-of-type {\n",
       "        vertical-align: middle;\n",
       "    }\n",
       "\n",
       "    .dataframe tbody tr th {\n",
       "        vertical-align: top;\n",
       "    }\n",
       "\n",
       "    .dataframe thead th {\n",
       "        text-align: right;\n",
       "    }\n",
       "</style>\n",
       "<table border=\"1\" class=\"dataframe\">\n",
       "  <thead>\n",
       "    <tr style=\"text-align: right;\">\n",
       "      <th></th>\n",
       "      <th>pd</th>\n",
       "      <th>sales</th>\n",
       "      <th>inv</th>\n",
       "    </tr>\n",
       "  </thead>\n",
       "  <tbody>\n",
       "    <tr>\n",
       "      <th>d1</th>\n",
       "      <td>112</td>\n",
       "      <td>115</td>\n",
       "      <td>100</td>\n",
       "    </tr>\n",
       "    <tr>\n",
       "      <th>d2</th>\n",
       "      <td>103</td>\n",
       "      <td>103</td>\n",
       "      <td>107</td>\n",
       "    </tr>\n",
       "    <tr>\n",
       "      <th>d3</th>\n",
       "      <td>0</td>\n",
       "      <td>0</td>\n",
       "      <td>0</td>\n",
       "    </tr>\n",
       "  </tbody>\n",
       "</table>\n",
       "</div>"
      ],
      "text/plain": [
       "     pd  sales  inv\n",
       "d1  112    115  100\n",
       "d2  103    103  107\n",
       "d3    0      0    0"
      ]
     },
     "execution_count": 13,
     "metadata": {},
     "output_type": "execute_result"
    }
   ],
   "source": [
    "# d3의 값들을 모두 0으로 만드세요.\n",
    "df1.loc['d3'] = 0\n",
    "df1"
   ]
  },
  {
   "cell_type": "code",
   "execution_count": 14,
   "id": "489be97f-e9aa-4926-be76-51c5ce645162",
   "metadata": {},
   "outputs": [
    {
     "data": {
      "text/html": [
       "<div>\n",
       "<style scoped>\n",
       "    .dataframe tbody tr th:only-of-type {\n",
       "        vertical-align: middle;\n",
       "    }\n",
       "\n",
       "    .dataframe tbody tr th {\n",
       "        vertical-align: top;\n",
       "    }\n",
       "\n",
       "    .dataframe thead th {\n",
       "        text-align: right;\n",
       "    }\n",
       "</style>\n",
       "<table border=\"1\" class=\"dataframe\">\n",
       "  <thead>\n",
       "    <tr style=\"text-align: right;\">\n",
       "      <th></th>\n",
       "      <th>pd</th>\n",
       "      <th>sales</th>\n",
       "      <th>inv</th>\n",
       "    </tr>\n",
       "  </thead>\n",
       "  <tbody>\n",
       "    <tr>\n",
       "      <th>d1</th>\n",
       "      <td>112</td>\n",
       "      <td>115</td>\n",
       "      <td>100</td>\n",
       "    </tr>\n",
       "    <tr>\n",
       "      <th>d2</th>\n",
       "      <td>103</td>\n",
       "      <td>103</td>\n",
       "      <td>107</td>\n",
       "    </tr>\n",
       "    <tr>\n",
       "      <th>d3</th>\n",
       "      <td>0</td>\n",
       "      <td>0</td>\n",
       "      <td>0</td>\n",
       "    </tr>\n",
       "    <tr>\n",
       "      <th>d4</th>\n",
       "      <td>0</td>\n",
       "      <td>0</td>\n",
       "      <td>0</td>\n",
       "    </tr>\n",
       "  </tbody>\n",
       "</table>\n",
       "</div>"
      ],
      "text/plain": [
       "     pd  sales  inv\n",
       "d1  112    115  100\n",
       "d2  103    103  107\n",
       "d3    0      0    0\n",
       "d4    0      0    0"
      ]
     },
     "execution_count": 14,
     "metadata": {},
     "output_type": "execute_result"
    }
   ],
   "source": [
    "# 값들이 모두 0인 d4 행을 추가하세요\n",
    "df1.loc['d4'] = 0\n",
    "df1"
   ]
  },
  {
   "cell_type": "code",
   "execution_count": 15,
   "id": "ed81ed5f-eec4-47ec-b9c4-b15e6530aa69",
   "metadata": {},
   "outputs": [
    {
     "data": {
      "text/html": [
       "<div>\n",
       "<style scoped>\n",
       "    .dataframe tbody tr th:only-of-type {\n",
       "        vertical-align: middle;\n",
       "    }\n",
       "\n",
       "    .dataframe tbody tr th {\n",
       "        vertical-align: top;\n",
       "    }\n",
       "\n",
       "    .dataframe thead th {\n",
       "        text-align: right;\n",
       "    }\n",
       "</style>\n",
       "<table border=\"1\" class=\"dataframe\">\n",
       "  <thead>\n",
       "    <tr style=\"text-align: right;\">\n",
       "      <th></th>\n",
       "      <th>pd</th>\n",
       "      <th>sales</th>\n",
       "      <th>inv</th>\n",
       "    </tr>\n",
       "  </thead>\n",
       "  <tbody>\n",
       "    <tr>\n",
       "      <th>d1</th>\n",
       "      <td>112</td>\n",
       "      <td>115</td>\n",
       "      <td>100</td>\n",
       "    </tr>\n",
       "    <tr>\n",
       "      <th>d2</th>\n",
       "      <td>103</td>\n",
       "      <td>0</td>\n",
       "      <td>107</td>\n",
       "    </tr>\n",
       "    <tr>\n",
       "      <th>d3</th>\n",
       "      <td>0</td>\n",
       "      <td>0</td>\n",
       "      <td>0</td>\n",
       "    </tr>\n",
       "    <tr>\n",
       "      <th>d4</th>\n",
       "      <td>0</td>\n",
       "      <td>0</td>\n",
       "      <td>0</td>\n",
       "    </tr>\n",
       "  </tbody>\n",
       "</table>\n",
       "</div>"
      ],
      "text/plain": [
       "     pd  sales  inv\n",
       "d1  112    115  100\n",
       "d2  103      0  107\n",
       "d3    0      0    0\n",
       "d4    0      0    0"
      ]
     },
     "execution_count": 15,
     "metadata": {},
     "output_type": "execute_result"
    }
   ],
   "source": [
    "# 1행 1열의 값을 0으로 만드세요\n",
    "df1.iloc[1,1] = 0\n",
    "df1"
   ]
  },
  {
   "cell_type": "code",
   "execution_count": 16,
   "id": "eaa64078-ae93-4398-921a-38ca6e5ac3ba",
   "metadata": {},
   "outputs": [
    {
     "data": {
      "text/html": [
       "<div>\n",
       "<style scoped>\n",
       "    .dataframe tbody tr th:only-of-type {\n",
       "        vertical-align: middle;\n",
       "    }\n",
       "\n",
       "    .dataframe tbody tr th {\n",
       "        vertical-align: top;\n",
       "    }\n",
       "\n",
       "    .dataframe thead th {\n",
       "        text-align: right;\n",
       "    }\n",
       "</style>\n",
       "<table border=\"1\" class=\"dataframe\">\n",
       "  <thead>\n",
       "    <tr style=\"text-align: right;\">\n",
       "      <th></th>\n",
       "      <th>id</th>\n",
       "      <th>gender</th>\n",
       "      <th>age</th>\n",
       "      <th>region</th>\n",
       "    </tr>\n",
       "  </thead>\n",
       "  <tbody>\n",
       "    <tr>\n",
       "      <th>0</th>\n",
       "      <td>1</td>\n",
       "      <td>0</td>\n",
       "      <td>11</td>\n",
       "      <td>10</td>\n",
       "    </tr>\n",
       "    <tr>\n",
       "      <th>1</th>\n",
       "      <td>2</td>\n",
       "      <td>1</td>\n",
       "      <td>68</td>\n",
       "      <td>10</td>\n",
       "    </tr>\n",
       "    <tr>\n",
       "      <th>2</th>\n",
       "      <td>3</td>\n",
       "      <td>0</td>\n",
       "      <td>7</td>\n",
       "      <td>7</td>\n",
       "    </tr>\n",
       "    <tr>\n",
       "      <th>3</th>\n",
       "      <td>4</td>\n",
       "      <td>0</td>\n",
       "      <td>92</td>\n",
       "      <td>10</td>\n",
       "    </tr>\n",
       "    <tr>\n",
       "      <th>4</th>\n",
       "      <td>5</td>\n",
       "      <td>0</td>\n",
       "      <td>100</td>\n",
       "      <td>10</td>\n",
       "    </tr>\n",
       "  </tbody>\n",
       "</table>\n",
       "</div>"
      ],
      "text/plain": [
       "   id  gender  age  region\n",
       "0   1       0   11      10\n",
       "1   2       1   68      10\n",
       "2   3       0    7       7\n",
       "3   4       0   92      10\n",
       "4   5       0  100      10"
      ]
     },
     "execution_count": 16,
     "metadata": {},
     "output_type": "execute_result"
    }
   ],
   "source": [
    "# id, gender, age, region\n",
    "id = np.arange(1,1001)\n",
    "li = pd.Series(id)\n",
    "gender = np.random.randint(2,size=1000)\n",
    "g1 = pd.Series(gender)\n",
    "age = np.random.randint(1,101,size=1000)\n",
    "a1 = pd.Series(age)\n",
    "rengion = np.random.randint(1,11,size=1000)\n",
    "r1 = pd.Series(rengion)\n",
    "\n",
    "df1 = pd.concat([li,g1,a1,r1], axis=1)\n",
    "df1.rename(columns={0:'id',1:'gender',2:'age',3:'region'}, inplace=True)\n",
    "df1.head()"
   ]
  },
  {
   "cell_type": "code",
   "execution_count": 17,
   "id": "47d524fe-2b68-428d-8081-31c7fe5efe3c",
   "metadata": {},
   "outputs": [
    {
     "data": {
      "text/plain": [
       "8"
      ]
     },
     "execution_count": 17,
     "metadata": {},
     "output_type": "execute_result"
    }
   ],
   "source": [
    "#과제 : df1에 적학한 컬럼 5개를 추가하여 의미있는 데이터셋을 만드시고 그 데이터 셋의 가치를 설명하세요\n",
    "df2 = df1.copy()\n",
    "df2.head()\n",
    "\n",
    "df2.loc[0:1]=np.nan\n",
    "df2.head()\n",
    "\n",
    "df2.isnull().sum()\n",
    "\n",
    "df2.isnull().sum().sum()"
   ]
  },
  {
   "cell_type": "code",
   "execution_count": 18,
   "id": "e75f1001-2b86-414e-b322-f5b21521da0d",
   "metadata": {},
   "outputs": [
    {
     "name": "stdout",
     "output_type": "stream",
     "text": [
      "[[2 4 1 1 4]\n",
      " [2 4 2 4 1]\n",
      " [1 2 1 4 2]\n",
      " [1 3 2 3 1]\n",
      " [3 2 3 1 4]\n",
      " [1 3 1 2 3]\n",
      " [3 1 4 4 2]\n",
      " [2 4 3 1 3]\n",
      " [2 2 2 4 4]\n",
      " [2 3 2 2 1]] <class 'numpy.ndarray'>\n"
     ]
    }
   ],
   "source": [
    "# 1 ~ 4중 랜덤한 숫자로 구성되는 10행 5열 2차원 배열을 생성\n",
    "np.random.seed(1)\n",
    "data = np.random.randint(1,5, size=(10,5))\n",
    "print(data,type(data))"
   ]
  },
  {
   "cell_type": "code",
   "execution_count": 19,
   "id": "6349aa44-e201-49c2-bc4c-41044121b3fa",
   "metadata": {},
   "outputs": [
    {
     "name": "stdout",
     "output_type": "stream",
     "text": [
      "[[2, 4, 1, 1, 4], [2, 4, 2, 4, 1], [1, 2, 1, 4, 2], [1, 3, 2, 3, 1], [3, 2, 3, 1, 4], [1, 3, 1, 2, 3], [3, 1, 4, 4, 2], [2, 4, 3, 1, 3], [2, 2, 2, 4, 4], [2, 3, 2, 2, 1]] <class 'list'>\n"
     ]
    }
   ],
   "source": [
    "# 배열을 리스트로 변환\n",
    "list1 = data.tolist()\n",
    "print(list1,type(list1))"
   ]
  },
  {
   "cell_type": "code",
   "execution_count": 21,
   "id": "c6afcd2f-96d9-4326-9402-1e1054921c49",
   "metadata": {},
   "outputs": [
    {
     "name": "stdout",
     "output_type": "stream",
     "text": [
      "[[   1    0   11   10]\n",
      " [   2    1   68   10]\n",
      " [   3    0    7    7]\n",
      " ...\n",
      " [ 998    1   40    6]\n",
      " [ 999    0   80    7]\n",
      " [1000    0   80    5]] <class 'numpy.ndarray'>\n"
     ]
    }
   ],
   "source": [
    "# 데이터프레임을 배열, 리스트, 딕셔너리로 변환\n",
    "ar = df1.values\n",
    "print(ar,type(ar))"
   ]
  },
  {
   "cell_type": "code",
   "execution_count": 24,
   "id": "de945912-183c-4ab5-ae6d-00a6f7faa4a9",
   "metadata": {
    "collapsed": true,
    "jupyter": {
     "outputs_hidden": true
    },
    "tags": []
   },
   "outputs": [
    {
     "name": "stdout",
     "output_type": "stream",
     "text": [
      "[[1, 0, 11, 10], [2, 1, 68, 10], [3, 0, 7, 7], [4, 0, 92, 10], [5, 0, 100, 10], [6, 0, 58, 4], [7, 0, 71, 10], [8, 1, 20, 4], [9, 0, 35, 8], [10, 1, 51, 3], [11, 1, 21, 9], [12, 0, 44, 2], [13, 0, 1, 4], [14, 1, 67, 3], [15, 1, 98, 2], [16, 1, 13, 8], [17, 1, 16, 9], [18, 0, 34, 8], [19, 1, 24, 6], [20, 0, 13, 8], [21, 1, 6, 8], [22, 0, 39, 2], [23, 1, 2, 6], [24, 1, 11, 7], [25, 0, 7, 6], [26, 1, 7, 9], [27, 1, 39, 9], [28, 0, 76, 2], [29, 0, 86, 6], [30, 1, 51, 3], [31, 0, 52, 10], [32, 1, 3, 6], [33, 1, 77, 2], [34, 1, 30, 9], [35, 1, 10, 2], [36, 1, 73, 8], [37, 0, 6, 9], [38, 1, 54, 6], [39, 0, 66, 1], [40, 1, 44, 2], [41, 1, 80, 10], [42, 1, 63, 6], [43, 1, 77, 2], [44, 0, 48, 5], [45, 1, 77, 10], [46, 0, 22, 9], [47, 0, 19, 3], [48, 1, 90, 9], [49, 1, 14, 4], [50, 0, 95, 4], [51, 1, 93, 8], [52, 0, 86, 5], [53, 1, 7, 9], [54, 0, 49, 4], [55, 0, 41, 4], [56, 0, 27, 2], [57, 0, 31, 8], [58, 0, 6, 6], [59, 1, 16, 6], [60, 1, 64, 8], [61, 0, 38, 8], [62, 0, 60, 4], [63, 0, 96, 3], [64, 1, 97, 2], [65, 1, 81, 3], [66, 0, 33, 10], [67, 1, 63, 6], [68, 0, 11, 9], [69, 0, 13, 9], [70, 1, 94, 9], [71, 0, 65, 3], [72, 1, 30, 3], [73, 1, 91, 9], [74, 1, 23, 5], [75, 1, 20, 2], [76, 1, 6, 2], [77, 1, 37, 1], [78, 0, 84, 3], [79, 1, 6, 2], [80, 1, 93, 8], [81, 0, 77, 1], [82, 0, 27, 3], [83, 1, 84, 10], [84, 0, 13, 4], [85, 0, 8, 5], [86, 1, 53, 10], [87, 1, 81, 4], [88, 0, 30, 1], [89, 1, 1, 1], [90, 0, 88, 7], [91, 0, 80, 5], [92, 1, 75, 4], [93, 0, 4, 4], [94, 0, 62, 2], [95, 0, 68, 1], [96, 1, 17, 8], [97, 1, 74, 9], [98, 0, 85, 7], [99, 1, 57, 3], [100, 0, 63, 9], [101, 0, 57, 9], [102, 0, 49, 10], [103, 0, 18, 7], [104, 0, 58, 5], [105, 1, 10, 2], [106, 0, 63, 9], [107, 1, 80, 6], [108, 0, 79, 5], [109, 1, 34, 4], [110, 1, 5, 6], [111, 1, 17, 8], [112, 1, 72, 7], [113, 1, 63, 7], [114, 0, 24, 10], [115, 1, 92, 4], [116, 1, 8, 4], [117, 1, 23, 3], [118, 1, 99, 8], [119, 0, 31, 4], [120, 1, 81, 10], [121, 1, 28, 10], [122, 0, 48, 6], [123, 0, 12, 10], [124, 1, 88, 9], [125, 0, 79, 4], [126, 0, 31, 9], [127, 0, 91, 6], [128, 0, 35, 10], [129, 1, 55, 1], [130, 1, 82, 8], [131, 0, 36, 1], [132, 0, 72, 2], [133, 1, 60, 7], [134, 0, 38, 7], [135, 1, 69, 5], [136, 1, 54, 6], [137, 1, 14, 8], [138, 1, 20, 7], [139, 0, 9, 1], [140, 0, 97, 2], [141, 0, 82, 7], [142, 1, 70, 7], [143, 0, 2, 5], [144, 1, 30, 3], [145, 1, 6, 3], [146, 1, 81, 5], [147, 0, 41, 5], [148, 1, 23, 4], [149, 0, 31, 2], [150, 0, 20, 1], [151, 1, 5, 7], [152, 0, 21, 7], [153, 1, 75, 1], [154, 1, 68, 10], [155, 0, 87, 9], [156, 0, 61, 10], [157, 1, 94, 6], [158, 0, 42, 3], [159, 1, 41, 10], [160, 0, 61, 9], [161, 1, 82, 5], [162, 0, 52, 5], [163, 1, 41, 1], [164, 0, 60, 3], [165, 1, 95, 6], [166, 0, 30, 8], [167, 0, 98, 8], [168, 0, 95, 2], [169, 1, 38, 4], [170, 0, 89, 3], [171, 1, 17, 1], [172, 0, 100, 4], [173, 1, 40, 3], [174, 0, 30, 3], [175, 0, 66, 3], [176, 0, 24, 4], [177, 0, 73, 6], [178, 0, 1, 2], [179, 1, 88, 8], [180, 0, 38, 6], [181, 0, 64, 4], [182, 1, 27, 10], [183, 0, 90, 4], [184, 0, 90, 1], [185, 0, 7, 7], [186, 1, 89, 4], [187, 0, 80, 7], [188, 0, 42, 10], [189, 1, 18, 6], [190, 0, 81, 2], [191, 1, 44, 10], [192, 0, 70, 4], [193, 0, 20, 4], [194, 1, 23, 10], [195, 1, 12, 8], [196, 0, 12, 9], [197, 0, 34, 5], [198, 0, 8, 8], [199, 1, 27, 9], [200, 1, 49, 10], [201, 0, 72, 5], [202, 0, 55, 2], [203, 0, 97, 6], [204, 0, 83, 1], [205, 0, 88, 4], [206, 1, 22, 7], [207, 0, 3, 4], [208, 1, 9, 1], [209, 0, 11, 4], [210, 0, 6, 7], [211, 0, 39, 10], [212, 1, 39, 6], [213, 1, 66, 2], [214, 1, 60, 8], [215, 0, 37, 4], [216, 0, 6, 5], [217, 1, 6, 8], [218, 1, 39, 1], [219, 1, 36, 4], [220, 1, 89, 6], [221, 0, 50, 7], [222, 0, 80, 7], [223, 0, 85, 8], [224, 1, 10, 5], [225, 1, 5, 8], [226, 0, 50, 3], [227, 1, 25, 1], [228, 0, 95, 2], [229, 0, 3, 7], [230, 1, 84, 6], [231, 0, 4, 10], [232, 1, 78, 5], [233, 1, 12, 9], [234, 1, 14, 8], [235, 1, 82, 9], [236, 0, 27, 7], [237, 0, 71, 2], [238, 0, 48, 5], [239, 1, 99, 9], [240, 1, 22, 6], [241, 1, 21, 2], [242, 0, 43, 7], [243, 1, 58, 3], [244, 1, 18, 8], [245, 1, 90, 6], [246, 1, 86, 8], [247, 0, 56, 10], [248, 0, 69, 7], [249, 1, 99, 7], [250, 1, 12, 4], [251, 0, 99, 10], [252, 0, 98, 10], [253, 0, 20, 4], [254, 1, 12, 5], [255, 1, 98, 5], [256, 0, 26, 2], [257, 1, 98, 4], [258, 1, 96, 10], [259, 1, 46, 6], [260, 1, 7, 2], [261, 1, 90, 10], [262, 0, 89, 8], [263, 0, 39, 6], [264, 0, 52, 5], [265, 1, 17, 3], [266, 0, 24, 1], [267, 1, 91, 9], [268, 0, 4, 8], [269, 1, 91, 2], [270, 1, 47, 2], [271, 0, 30, 2], [272, 0, 3, 10], [273, 0, 6, 8], [274, 1, 72, 5], [275, 0, 16, 9], [276, 0, 79, 7], [277, 1, 36, 2], [278, 1, 53, 3], [279, 1, 8, 9], [280, 1, 52, 5], [281, 0, 52, 8], [282, 1, 30, 10], [283, 0, 56, 9], [284, 0, 12, 9], [285, 0, 68, 4], [286, 0, 78, 3], [287, 1, 56, 6], [288, 1, 89, 7], [289, 1, 69, 5], [290, 0, 87, 6], [291, 1, 58, 8], [292, 0, 94, 10], [293, 0, 12, 1], [294, 1, 79, 4], [295, 1, 83, 6], [296, 1, 90, 6], [297, 1, 4, 8], [298, 1, 38, 9], [299, 1, 8, 1], [300, 0, 30, 3], [301, 0, 79, 7], [302, 1, 12, 6], [303, 1, 74, 2], [304, 1, 12, 6], [305, 1, 17, 2], [306, 1, 61, 10], [307, 1, 64, 3], [308, 1, 60, 4], [309, 1, 2, 1], [310, 1, 19, 4], [311, 1, 54, 1], [312, 0, 29, 2], [313, 0, 65, 3], [314, 0, 86, 3], [315, 0, 89, 4], [316, 1, 74, 5], [317, 1, 9, 6], [318, 1, 83, 9], [319, 0, 12, 6], [320, 1, 93, 2], [321, 1, 52, 7], [322, 1, 82, 2], [323, 1, 56, 10], [324, 1, 16, 7], [325, 1, 4, 2], [326, 1, 89, 6], [327, 0, 86, 7], [328, 0, 29, 3], [329, 0, 59, 3], [330, 0, 86, 10], [331, 1, 79, 3], [332, 1, 66, 9], [333, 0, 77, 7], [334, 1, 12, 4], [335, 0, 26, 5], [336, 0, 12, 2], [337, 1, 91, 7], [338, 0, 35, 7], [339, 1, 2, 9], [340, 0, 17, 9], [341, 1, 2, 9], [342, 0, 17, 6], [343, 0, 34, 3], [344, 0, 34, 3], [345, 0, 45, 6], [346, 1, 41, 10], [347, 1, 73, 6], [348, 1, 78, 5], [349, 0, 84, 2], [350, 1, 33, 2], [351, 0, 24, 9], [352, 1, 69, 9], [353, 0, 32, 4], [354, 0, 23, 1], [355, 0, 65, 10], [356, 0, 32, 3], [357, 1, 80, 10], [358, 1, 84, 4], [359, 1, 16, 7], [360, 0, 52, 5], [361, 1, 13, 8], [362, 0, 46, 6], [363, 0, 11, 6], [364, 1, 81, 4], [365, 1, 71, 9], [366, 1, 22, 8], [367, 0, 95, 2], [368, 1, 68, 8], [369, 1, 81, 6], [370, 0, 65, 5], [371, 1, 2, 1], [372, 0, 51, 6], [373, 1, 97, 8], [374, 1, 83, 9], [375, 0, 83, 2], [376, 0, 58, 7], [377, 1, 23, 7], [378, 1, 16, 10], [379, 0, 16, 1], [380, 1, 29, 3], [381, 1, 72, 9], [382, 1, 28, 7], [383, 1, 89, 7], [384, 1, 58, 4], [385, 1, 59, 5], [386, 0, 89, 5], [387, 0, 77, 5], [388, 1, 14, 2], [389, 0, 19, 5], [390, 1, 79, 4], [391, 0, 79, 9], [392, 0, 21, 10], [393, 1, 72, 3], [394, 1, 56, 2], [395, 1, 45, 8], [396, 1, 92, 9], [397, 1, 45, 4], [398, 0, 16, 4], [399, 1, 88, 10], [400, 1, 76, 1], [401, 1, 78, 8], [402, 0, 30, 8], [403, 0, 96, 6], [404, 1, 83, 4], [405, 1, 5, 8], [406, 0, 29, 9], [407, 1, 66, 6], [408, 1, 50, 6], [409, 1, 50, 2], [410, 0, 88, 8], [411, 0, 58, 7], [412, 0, 81, 2], [413, 1, 42, 9], [414, 0, 91, 2], [415, 0, 67, 3], [416, 0, 48, 1], [417, 0, 18, 3], [418, 0, 21, 5], [419, 0, 39, 5], [420, 1, 65, 9], [421, 1, 7, 5], [422, 1, 23, 8], [423, 0, 80, 6], [424, 0, 75, 3], [425, 1, 35, 4], [426, 1, 41, 1], [427, 1, 39, 8], [428, 0, 22, 10], [429, 1, 35, 7], [430, 0, 33, 10], [431, 1, 43, 9], [432, 0, 45, 2], [433, 1, 100, 8], [434, 1, 42, 7], [435, 1, 28, 9], [436, 0, 49, 5], [437, 1, 11, 4], [438, 0, 69, 6], [439, 0, 18, 3], [440, 1, 4, 1], [441, 0, 95, 2], [442, 1, 88, 5], [443, 0, 30, 1], [444, 0, 31, 6], [445, 1, 76, 9], [446, 0, 67, 4], [447, 0, 94, 10], [448, 0, 61, 2], [449, 0, 8, 6], [450, 0, 52, 10], [451, 0, 74, 1], [452, 0, 88, 9], [453, 0, 65, 2], [454, 0, 18, 7], [455, 1, 41, 10], [456, 0, 22, 8], [457, 1, 95, 2], [458, 1, 27, 5], [459, 0, 16, 10], [460, 1, 18, 9], [461, 1, 11, 7], [462, 1, 18, 8], [463, 0, 4, 6], [464, 0, 74, 8], [465, 1, 30, 9], [466, 1, 68, 6], [467, 1, 72, 2], [468, 1, 81, 5], [469, 0, 99, 8], [470, 1, 5, 9], [471, 0, 62, 8], [472, 1, 91, 8], [473, 0, 7, 10], [474, 0, 33, 10], [475, 0, 82, 1], [476, 0, 38, 7], [477, 1, 28, 4], [478, 1, 52, 8], [479, 1, 79, 3], [480, 1, 60, 7], [481, 1, 87, 4], [482, 0, 96, 6], [483, 1, 9, 9], [484, 0, 57, 10], [485, 1, 30, 6], [486, 0, 29, 1], [487, 1, 96, 7], [488, 0, 35, 10], [489, 1, 59, 2], [490, 1, 82, 5], [491, 0, 93, 8], [492, 0, 17, 6], [493, 0, 73, 3], [494, 1, 60, 7], [495, 1, 8, 5], [496, 1, 13, 8], [497, 0, 33, 4], [498, 0, 85, 7], [499, 1, 76, 8], [500, 0, 94, 1], [501, 0, 41, 7], [502, 1, 1, 5], [503, 0, 85, 3], [504, 0, 93, 4], [505, 0, 78, 3], [506, 1, 38, 1], [507, 0, 48, 10], [508, 1, 62, 6], [509, 0, 51, 9], [510, 1, 69, 2], [511, 0, 77, 1], [512, 1, 58, 10], [513, 1, 5, 6], [514, 0, 37, 10], [515, 0, 81, 3], [516, 1, 83, 2], [517, 0, 38, 4], [518, 1, 95, 1], [519, 0, 36, 7], [520, 1, 49, 1], [521, 0, 1, 8], [522, 0, 50, 10], [523, 0, 58, 4], [524, 0, 10, 9], [525, 1, 51, 5], [526, 1, 98, 5], [527, 0, 49, 6], [528, 1, 13, 2], [529, 0, 71, 7], [530, 1, 37, 9], [531, 1, 100, 7], [532, 0, 37, 2], [533, 1, 31, 5], [534, 0, 20, 5], [535, 0, 39, 10], [536, 0, 45, 9], [537, 0, 36, 7], [538, 0, 15, 3], [539, 1, 30, 4], [540, 1, 52, 9], [541, 0, 61, 1], [542, 0, 82, 6], [543, 0, 68, 9], [544, 0, 30, 8], [545, 1, 28, 6], [546, 1, 4, 7], [547, 0, 34, 6], [548, 0, 52, 8], [549, 1, 28, 5], [550, 0, 57, 3], [551, 1, 22, 7], [552, 1, 40, 7], [553, 1, 75, 9], [554, 1, 30, 2], [555, 1, 30, 1], [556, 1, 62, 6], [557, 1, 59, 1], [558, 1, 25, 2], [559, 1, 17, 5], [560, 1, 65, 2], [561, 1, 99, 10], [562, 0, 14, 1], [563, 0, 2, 4], [564, 1, 3, 10], [565, 1, 67, 4], [566, 1, 20, 1], [567, 1, 77, 9], [568, 0, 31, 3], [569, 0, 40, 6], [570, 1, 86, 5], [571, 0, 78, 3], [572, 0, 50, 5], [573, 1, 27, 3], [574, 0, 13, 1], [575, 1, 65, 2], [576, 0, 2, 6], [577, 1, 37, 6], [578, 0, 11, 9], [579, 0, 33, 1], [580, 1, 29, 1], [581, 0, 59, 6], [582, 0, 67, 8], [583, 0, 93, 4], [584, 0, 66, 7], [585, 0, 78, 1], [586, 1, 84, 3], [587, 0, 48, 1], [588, 1, 82, 6], [589, 0, 37, 2], [590, 0, 72, 8], [591, 1, 54, 4], [592, 1, 71, 3], [593, 1, 10, 4], [594, 1, 16, 3], [595, 0, 19, 4], [596, 0, 30, 8], [597, 1, 54, 8], [598, 0, 61, 2], [599, 1, 43, 5], [600, 1, 83, 7], [601, 1, 3, 8], [602, 1, 30, 1], [603, 0, 18, 1], [604, 0, 36, 7], [605, 1, 20, 5], [606, 0, 17, 5], [607, 0, 24, 6], [608, 1, 13, 2], [609, 1, 100, 3], [610, 1, 57, 7], [611, 0, 67, 9], [612, 0, 21, 3], [613, 0, 4, 10], [614, 1, 82, 10], [615, 1, 45, 6], [616, 0, 39, 6], [617, 1, 43, 9], [618, 0, 75, 6], [619, 0, 38, 10], [620, 0, 41, 2], [621, 1, 28, 10], [622, 1, 5, 5], [623, 0, 52, 7], [624, 1, 23, 10], [625, 0, 38, 9], [626, 1, 36, 1], [627, 0, 31, 6], [628, 0, 8, 7], [629, 1, 89, 1], [630, 0, 89, 7], [631, 0, 16, 1], [632, 0, 11, 7], [633, 0, 20, 8], [634, 0, 78, 2], [635, 1, 57, 2], [636, 1, 19, 6], [637, 1, 72, 1], [638, 1, 61, 7], [639, 1, 25, 5], [640, 1, 33, 5], [641, 1, 40, 5], [642, 1, 17, 8], [643, 0, 53, 3], [644, 0, 91, 2], [645, 0, 81, 5], [646, 0, 47, 10], [647, 1, 97, 9], [648, 1, 95, 5], [649, 1, 85, 5], [650, 1, 24, 8], [651, 0, 16, 1], [652, 1, 45, 8], [653, 0, 84, 9], [654, 0, 56, 10], [655, 1, 99, 10], [656, 1, 28, 6], [657, 1, 46, 3], [658, 0, 99, 7], [659, 1, 82, 10], [660, 1, 88, 6], [661, 1, 28, 7], [662, 0, 78, 6], [663, 1, 49, 4], [664, 1, 88, 4], [665, 1, 95, 1], [666, 1, 6, 4], [667, 1, 98, 5], [668, 0, 99, 2], [669, 0, 29, 1], [670, 1, 66, 10], [671, 0, 69, 10], [672, 0, 86, 4], [673, 0, 73, 10], [674, 1, 34, 4], [675, 0, 100, 5], [676, 1, 49, 7], [677, 0, 100, 6], [678, 1, 90, 8], [679, 0, 70, 2], [680, 1, 66, 6], [681, 1, 100, 8], [682, 0, 72, 7], [683, 1, 2, 7], [684, 0, 2, 7], [685, 0, 72, 2], [686, 0, 26, 9], [687, 1, 78, 5], [688, 0, 51, 3], [689, 1, 28, 1], [690, 0, 97, 3], [691, 1, 44, 9], [692, 1, 20, 4], [693, 0, 99, 8], [694, 1, 46, 3], [695, 1, 81, 2], [696, 0, 44, 5], [697, 1, 68, 5], [698, 1, 9, 5], [699, 1, 84, 3], [700, 1, 47, 5], [701, 1, 65, 9], [702, 0, 21, 8], [703, 0, 97, 10], [704, 1, 99, 9], [705, 1, 6, 10], [706, 1, 86, 6], [707, 1, 25, 10], [708, 0, 3, 2], [709, 1, 72, 9], [710, 0, 76, 9], [711, 0, 29, 7], [712, 1, 96, 1], [713, 0, 66, 1], [714, 1, 81, 3], [715, 0, 83, 4], [716, 1, 15, 3], [717, 1, 22, 2], [718, 0, 70, 10], [719, 1, 34, 6], [720, 1, 3, 7], [721, 0, 28, 2], [722, 1, 20, 9], [723, 0, 16, 8], [724, 0, 72, 8], [725, 0, 30, 4], [726, 0, 36, 5], [727, 1, 98, 10], [728, 0, 49, 7], [729, 0, 50, 10], [730, 1, 81, 7], [731, 0, 57, 5], [732, 0, 64, 2], [733, 0, 89, 3], [734, 1, 59, 1], [735, 0, 6, 1], [736, 1, 52, 8], [737, 0, 62, 7], [738, 0, 84, 3], [739, 0, 18, 10], [740, 0, 46, 9], [741, 1, 97, 9], [742, 1, 63, 3], [743, 1, 23, 2], [744, 0, 98, 3], [745, 0, 10, 8], [746, 1, 6, 7], [747, 1, 77, 7], [748, 0, 62, 3], [749, 1, 43, 2], [750, 1, 17, 6], [751, 0, 60, 7], [752, 1, 18, 10], [753, 1, 69, 10], [754, 0, 61, 4], [755, 1, 26, 10], [756, 0, 15, 5], [757, 1, 62, 3], [758, 1, 54, 2], [759, 0, 82, 7], [760, 0, 30, 1], [761, 0, 71, 3], [762, 0, 29, 7], [763, 1, 75, 4], [764, 1, 6, 8], [765, 0, 85, 6], [766, 0, 56, 3], [767, 1, 51, 7], [768, 1, 87, 7], [769, 0, 54, 2], [770, 0, 11, 10], [771, 0, 44, 1], [772, 1, 60, 2], [773, 0, 31, 4], [774, 1, 60, 4], [775, 0, 15, 2], [776, 0, 49, 4], [777, 1, 57, 5], [778, 0, 66, 4], [779, 0, 8, 10], [780, 0, 70, 10], [781, 1, 16, 6], [782, 1, 53, 7], [783, 0, 33, 9], [784, 0, 88, 10], [785, 0, 79, 6], [786, 1, 35, 6], [787, 0, 30, 9], [788, 0, 52, 5], [789, 1, 90, 6], [790, 0, 54, 1], [791, 1, 5, 4], [792, 0, 65, 2], [793, 0, 27, 7], [794, 1, 85, 9], [795, 1, 6, 7], [796, 0, 89, 4], [797, 0, 18, 5], [798, 1, 69, 6], [799, 1, 57, 9], [800, 1, 33, 3], [801, 0, 82, 10], [802, 0, 73, 4], [803, 0, 74, 3], [804, 0, 32, 10], [805, 0, 95, 2], [806, 1, 74, 2], [807, 0, 49, 9], [808, 0, 100, 7], [809, 0, 33, 4], [810, 0, 15, 3], [811, 0, 62, 3], [812, 1, 88, 5], [813, 1, 33, 8], [814, 1, 57, 3], [815, 1, 29, 5], [816, 1, 44, 5], [817, 0, 98, 10], [818, 0, 51, 2], [819, 1, 47, 6], [820, 1, 73, 4], [821, 1, 38, 8], [822, 1, 3, 5], [823, 1, 18, 3], [824, 1, 16, 1], [825, 1, 68, 10], [826, 1, 86, 3], [827, 0, 94, 3], [828, 0, 23, 10], [829, 0, 83, 7], [830, 1, 8, 9], [831, 1, 56, 10], [832, 1, 50, 2], [833, 1, 27, 2], [834, 0, 5, 2], [835, 0, 90, 1], [836, 1, 27, 2], [837, 0, 61, 8], [838, 1, 84, 1], [839, 1, 79, 7], [840, 1, 19, 6], [841, 1, 97, 10], [842, 1, 92, 9], [843, 0, 37, 6], [844, 0, 21, 7], [845, 0, 4, 9], [846, 0, 19, 2], [847, 1, 78, 5], [848, 0, 52, 6], [849, 0, 50, 10], [850, 0, 32, 1], [851, 0, 98, 6], [852, 1, 19, 7], [853, 1, 13, 10], [854, 1, 92, 2], [855, 1, 99, 2], [856, 1, 72, 4], [857, 0, 95, 2], [858, 1, 46, 7], [859, 0, 81, 1], [860, 0, 66, 8], [861, 1, 89, 7], [862, 1, 17, 5], [863, 1, 46, 10], [864, 1, 92, 3], [865, 1, 38, 4], [866, 0, 51, 7], [867, 0, 25, 7], [868, 1, 49, 3], [869, 0, 77, 2], [870, 0, 5, 8], [871, 1, 52, 9], [872, 1, 47, 9], [873, 1, 41, 5], [874, 0, 15, 3], [875, 0, 11, 10], [876, 1, 28, 9], [877, 1, 79, 1], [878, 0, 14, 4], [879, 0, 5, 1], [880, 0, 87, 6], [881, 1, 16, 8], [882, 1, 30, 8], [883, 0, 79, 5], [884, 1, 43, 9], [885, 0, 26, 3], [886, 1, 76, 10], [887, 0, 96, 6], [888, 1, 92, 2], [889, 1, 23, 8], [890, 1, 44, 8], [891, 1, 85, 2], [892, 0, 56, 6], [893, 0, 3, 1], [894, 0, 26, 8], [895, 1, 1, 9], [896, 1, 96, 5], [897, 1, 57, 6], [898, 1, 71, 3], [899, 0, 83, 1], [900, 0, 87, 9], [901, 0, 63, 7], [902, 0, 47, 6], [903, 0, 90, 4], [904, 0, 78, 9], [905, 1, 13, 10], [906, 1, 63, 1], [907, 0, 38, 8], [908, 1, 84, 3], [909, 0, 32, 9], [910, 0, 29, 8], [911, 1, 60, 7], [912, 0, 84, 1], [913, 1, 41, 6], [914, 0, 90, 3], [915, 0, 30, 7], [916, 0, 29, 9], [917, 0, 53, 5], [918, 1, 43, 1], [919, 0, 11, 4], [920, 0, 85, 5], [921, 1, 18, 2], [922, 1, 1, 9], [923, 0, 40, 3], [924, 0, 39, 9], [925, 1, 99, 10], [926, 0, 66, 9], [927, 1, 49, 8], [928, 0, 87, 10], [929, 1, 46, 4], [930, 0, 50, 7], [931, 1, 23, 4], [932, 1, 93, 8], [933, 1, 66, 8], [934, 0, 86, 3], [935, 1, 67, 8], [936, 0, 33, 9], [937, 1, 51, 5], [938, 1, 71, 4], [939, 0, 36, 1], [940, 0, 24, 3], [941, 0, 83, 6], [942, 1, 90, 5], [943, 1, 80, 3], [944, 0, 28, 8], [945, 0, 86, 4], [946, 0, 2, 8], [947, 0, 10, 4], [948, 0, 82, 2], [949, 0, 12, 5], [950, 1, 65, 6], [951, 0, 68, 4], [952, 0, 62, 3], [953, 0, 55, 2], [954, 0, 37, 4], [955, 1, 85, 5], [956, 0, 20, 5], [957, 0, 70, 7], [958, 0, 85, 10], [959, 1, 63, 10], [960, 1, 69, 4], [961, 0, 42, 8], [962, 1, 81, 5], [963, 0, 17, 1], [964, 0, 58, 1], [965, 0, 6, 1], [966, 1, 97, 1], [967, 0, 23, 5], [968, 0, 4, 6], [969, 0, 9, 6], [970, 1, 63, 10], [971, 1, 93, 3], [972, 1, 42, 1], [973, 0, 75, 8], [974, 0, 93, 2], [975, 1, 96, 10], [976, 0, 12, 10], [977, 1, 35, 1], [978, 1, 92, 8], [979, 0, 50, 7], [980, 0, 72, 8], [981, 0, 40, 10], [982, 0, 59, 1], [983, 0, 6, 10], [984, 0, 74, 5], [985, 0, 89, 9], [986, 0, 13, 6], [987, 1, 98, 3], [988, 0, 60, 6], [989, 1, 79, 5], [990, 0, 16, 2], [991, 1, 5, 1], [992, 0, 23, 3], [993, 0, 53, 6], [994, 0, 67, 5], [995, 1, 72, 3], [996, 0, 73, 8], [997, 1, 6, 4], [998, 1, 40, 6], [999, 0, 80, 7], [1000, 0, 80, 5]] <class 'list'> \n",
      "\n",
      "{'id': [1, 2, 3, 4, 5, 6, 7, 8, 9, 10, 11, 12, 13, 14, 15, 16, 17, 18, 19, 20, 21, 22, 23, 24, 25, 26, 27, 28, 29, 30, 31, 32, 33, 34, 35, 36, 37, 38, 39, 40, 41, 42, 43, 44, 45, 46, 47, 48, 49, 50, 51, 52, 53, 54, 55, 56, 57, 58, 59, 60, 61, 62, 63, 64, 65, 66, 67, 68, 69, 70, 71, 72, 73, 74, 75, 76, 77, 78, 79, 80, 81, 82, 83, 84, 85, 86, 87, 88, 89, 90, 91, 92, 93, 94, 95, 96, 97, 98, 99, 100, 101, 102, 103, 104, 105, 106, 107, 108, 109, 110, 111, 112, 113, 114, 115, 116, 117, 118, 119, 120, 121, 122, 123, 124, 125, 126, 127, 128, 129, 130, 131, 132, 133, 134, 135, 136, 137, 138, 139, 140, 141, 142, 143, 144, 145, 146, 147, 148, 149, 150, 151, 152, 153, 154, 155, 156, 157, 158, 159, 160, 161, 162, 163, 164, 165, 166, 167, 168, 169, 170, 171, 172, 173, 174, 175, 176, 177, 178, 179, 180, 181, 182, 183, 184, 185, 186, 187, 188, 189, 190, 191, 192, 193, 194, 195, 196, 197, 198, 199, 200, 201, 202, 203, 204, 205, 206, 207, 208, 209, 210, 211, 212, 213, 214, 215, 216, 217, 218, 219, 220, 221, 222, 223, 224, 225, 226, 227, 228, 229, 230, 231, 232, 233, 234, 235, 236, 237, 238, 239, 240, 241, 242, 243, 244, 245, 246, 247, 248, 249, 250, 251, 252, 253, 254, 255, 256, 257, 258, 259, 260, 261, 262, 263, 264, 265, 266, 267, 268, 269, 270, 271, 272, 273, 274, 275, 276, 277, 278, 279, 280, 281, 282, 283, 284, 285, 286, 287, 288, 289, 290, 291, 292, 293, 294, 295, 296, 297, 298, 299, 300, 301, 302, 303, 304, 305, 306, 307, 308, 309, 310, 311, 312, 313, 314, 315, 316, 317, 318, 319, 320, 321, 322, 323, 324, 325, 326, 327, 328, 329, 330, 331, 332, 333, 334, 335, 336, 337, 338, 339, 340, 341, 342, 343, 344, 345, 346, 347, 348, 349, 350, 351, 352, 353, 354, 355, 356, 357, 358, 359, 360, 361, 362, 363, 364, 365, 366, 367, 368, 369, 370, 371, 372, 373, 374, 375, 376, 377, 378, 379, 380, 381, 382, 383, 384, 385, 386, 387, 388, 389, 390, 391, 392, 393, 394, 395, 396, 397, 398, 399, 400, 401, 402, 403, 404, 405, 406, 407, 408, 409, 410, 411, 412, 413, 414, 415, 416, 417, 418, 419, 420, 421, 422, 423, 424, 425, 426, 427, 428, 429, 430, 431, 432, 433, 434, 435, 436, 437, 438, 439, 440, 441, 442, 443, 444, 445, 446, 447, 448, 449, 450, 451, 452, 453, 454, 455, 456, 457, 458, 459, 460, 461, 462, 463, 464, 465, 466, 467, 468, 469, 470, 471, 472, 473, 474, 475, 476, 477, 478, 479, 480, 481, 482, 483, 484, 485, 486, 487, 488, 489, 490, 491, 492, 493, 494, 495, 496, 497, 498, 499, 500, 501, 502, 503, 504, 505, 506, 507, 508, 509, 510, 511, 512, 513, 514, 515, 516, 517, 518, 519, 520, 521, 522, 523, 524, 525, 526, 527, 528, 529, 530, 531, 532, 533, 534, 535, 536, 537, 538, 539, 540, 541, 542, 543, 544, 545, 546, 547, 548, 549, 550, 551, 552, 553, 554, 555, 556, 557, 558, 559, 560, 561, 562, 563, 564, 565, 566, 567, 568, 569, 570, 571, 572, 573, 574, 575, 576, 577, 578, 579, 580, 581, 582, 583, 584, 585, 586, 587, 588, 589, 590, 591, 592, 593, 594, 595, 596, 597, 598, 599, 600, 601, 602, 603, 604, 605, 606, 607, 608, 609, 610, 611, 612, 613, 614, 615, 616, 617, 618, 619, 620, 621, 622, 623, 624, 625, 626, 627, 628, 629, 630, 631, 632, 633, 634, 635, 636, 637, 638, 639, 640, 641, 642, 643, 644, 645, 646, 647, 648, 649, 650, 651, 652, 653, 654, 655, 656, 657, 658, 659, 660, 661, 662, 663, 664, 665, 666, 667, 668, 669, 670, 671, 672, 673, 674, 675, 676, 677, 678, 679, 680, 681, 682, 683, 684, 685, 686, 687, 688, 689, 690, 691, 692, 693, 694, 695, 696, 697, 698, 699, 700, 701, 702, 703, 704, 705, 706, 707, 708, 709, 710, 711, 712, 713, 714, 715, 716, 717, 718, 719, 720, 721, 722, 723, 724, 725, 726, 727, 728, 729, 730, 731, 732, 733, 734, 735, 736, 737, 738, 739, 740, 741, 742, 743, 744, 745, 746, 747, 748, 749, 750, 751, 752, 753, 754, 755, 756, 757, 758, 759, 760, 761, 762, 763, 764, 765, 766, 767, 768, 769, 770, 771, 772, 773, 774, 775, 776, 777, 778, 779, 780, 781, 782, 783, 784, 785, 786, 787, 788, 789, 790, 791, 792, 793, 794, 795, 796, 797, 798, 799, 800, 801, 802, 803, 804, 805, 806, 807, 808, 809, 810, 811, 812, 813, 814, 815, 816, 817, 818, 819, 820, 821, 822, 823, 824, 825, 826, 827, 828, 829, 830, 831, 832, 833, 834, 835, 836, 837, 838, 839, 840, 841, 842, 843, 844, 845, 846, 847, 848, 849, 850, 851, 852, 853, 854, 855, 856, 857, 858, 859, 860, 861, 862, 863, 864, 865, 866, 867, 868, 869, 870, 871, 872, 873, 874, 875, 876, 877, 878, 879, 880, 881, 882, 883, 884, 885, 886, 887, 888, 889, 890, 891, 892, 893, 894, 895, 896, 897, 898, 899, 900, 901, 902, 903, 904, 905, 906, 907, 908, 909, 910, 911, 912, 913, 914, 915, 916, 917, 918, 919, 920, 921, 922, 923, 924, 925, 926, 927, 928, 929, 930, 931, 932, 933, 934, 935, 936, 937, 938, 939, 940, 941, 942, 943, 944, 945, 946, 947, 948, 949, 950, 951, 952, 953, 954, 955, 956, 957, 958, 959, 960, 961, 962, 963, 964, 965, 966, 967, 968, 969, 970, 971, 972, 973, 974, 975, 976, 977, 978, 979, 980, 981, 982, 983, 984, 985, 986, 987, 988, 989, 990, 991, 992, 993, 994, 995, 996, 997, 998, 999, 1000], 'gender': [0, 1, 0, 0, 0, 0, 0, 1, 0, 1, 1, 0, 0, 1, 1, 1, 1, 0, 1, 0, 1, 0, 1, 1, 0, 1, 1, 0, 0, 1, 0, 1, 1, 1, 1, 1, 0, 1, 0, 1, 1, 1, 1, 0, 1, 0, 0, 1, 1, 0, 1, 0, 1, 0, 0, 0, 0, 0, 1, 1, 0, 0, 0, 1, 1, 0, 1, 0, 0, 1, 0, 1, 1, 1, 1, 1, 1, 0, 1, 1, 0, 0, 1, 0, 0, 1, 1, 0, 1, 0, 0, 1, 0, 0, 0, 1, 1, 0, 1, 0, 0, 0, 0, 0, 1, 0, 1, 0, 1, 1, 1, 1, 1, 0, 1, 1, 1, 1, 0, 1, 1, 0, 0, 1, 0, 0, 0, 0, 1, 1, 0, 0, 1, 0, 1, 1, 1, 1, 0, 0, 0, 1, 0, 1, 1, 1, 0, 1, 0, 0, 1, 0, 1, 1, 0, 0, 1, 0, 1, 0, 1, 0, 1, 0, 1, 0, 0, 0, 1, 0, 1, 0, 1, 0, 0, 0, 0, 0, 1, 0, 0, 1, 0, 0, 0, 1, 0, 0, 1, 0, 1, 0, 0, 1, 1, 0, 0, 0, 1, 1, 0, 0, 0, 0, 0, 1, 0, 1, 0, 0, 0, 1, 1, 1, 0, 0, 1, 1, 1, 1, 0, 0, 0, 1, 1, 0, 1, 0, 0, 1, 0, 1, 1, 1, 1, 0, 0, 0, 1, 1, 1, 0, 1, 1, 1, 1, 0, 0, 1, 1, 0, 0, 0, 1, 1, 0, 1, 1, 1, 1, 1, 0, 0, 0, 1, 0, 1, 0, 1, 1, 0, 0, 0, 1, 0, 0, 1, 1, 1, 1, 0, 1, 0, 0, 0, 0, 1, 1, 1, 0, 1, 0, 0, 1, 1, 1, 1, 1, 1, 0, 0, 1, 1, 1, 1, 1, 1, 1, 1, 1, 1, 0, 0, 0, 0, 1, 1, 1, 0, 1, 1, 1, 1, 1, 1, 1, 0, 0, 0, 0, 1, 1, 0, 1, 0, 0, 1, 0, 1, 0, 1, 0, 0, 0, 0, 1, 1, 1, 0, 1, 0, 1, 0, 0, 0, 0, 1, 1, 1, 0, 1, 0, 0, 1, 1, 1, 0, 1, 1, 0, 1, 0, 1, 1, 0, 0, 1, 1, 0, 1, 1, 1, 1, 1, 1, 0, 0, 1, 0, 1, 0, 0, 1, 1, 1, 1, 1, 0, 1, 1, 1, 0, 0, 1, 1, 0, 1, 1, 1, 0, 0, 0, 1, 0, 0, 0, 0, 0, 0, 1, 1, 1, 0, 0, 1, 1, 1, 0, 1, 0, 1, 0, 1, 1, 1, 0, 1, 0, 0, 1, 0, 1, 0, 0, 1, 0, 0, 0, 0, 0, 0, 0, 0, 0, 1, 0, 1, 1, 0, 1, 1, 1, 0, 0, 1, 1, 1, 1, 0, 1, 0, 1, 0, 0, 0, 0, 1, 1, 1, 1, 1, 0, 1, 0, 1, 0, 1, 0, 1, 1, 0, 0, 0, 1, 1, 1, 0, 0, 1, 0, 0, 1, 0, 0, 0, 1, 0, 1, 0, 1, 0, 1, 1, 0, 0, 1, 0, 1, 0, 1, 0, 0, 0, 0, 1, 1, 0, 1, 0, 1, 1, 0, 1, 0, 0, 0, 0, 0, 1, 1, 0, 0, 0, 0, 1, 1, 0, 0, 1, 0, 1, 1, 1, 1, 1, 1, 1, 1, 1, 1, 1, 0, 0, 1, 1, 1, 1, 0, 0, 1, 0, 0, 1, 0, 1, 0, 1, 0, 0, 1, 0, 0, 0, 0, 0, 1, 0, 1, 0, 0, 1, 1, 1, 1, 0, 0, 1, 0, 1, 1, 1, 1, 0, 0, 1, 0, 0, 1, 1, 1, 0, 0, 0, 1, 1, 0, 1, 0, 0, 0, 1, 1, 0, 1, 0, 1, 0, 0, 1, 0, 0, 0, 0, 0, 1, 1, 1, 1, 1, 1, 1, 1, 0, 0, 0, 0, 1, 1, 1, 1, 0, 1, 0, 0, 1, 1, 1, 0, 1, 1, 1, 0, 1, 1, 1, 1, 1, 0, 0, 1, 0, 0, 0, 1, 0, 1, 0, 1, 0, 1, 1, 0, 1, 0, 0, 0, 1, 0, 1, 0, 1, 1, 0, 1, 1, 0, 1, 1, 1, 1, 1, 0, 0, 1, 1, 1, 1, 0, 1, 0, 0, 1, 0, 1, 0, 1, 1, 0, 1, 1, 0, 1, 0, 0, 0, 0, 1, 0, 0, 1, 0, 0, 0, 1, 0, 1, 0, 0, 0, 0, 1, 1, 1, 0, 0, 1, 1, 0, 1, 1, 0, 1, 1, 0, 1, 0, 1, 1, 0, 0, 0, 0, 1, 1, 0, 0, 1, 1, 0, 0, 0, 1, 0, 1, 0, 0, 1, 0, 0, 0, 1, 1, 0, 0, 0, 1, 0, 0, 1, 0, 1, 0, 0, 1, 1, 0, 0, 1, 1, 1, 0, 0, 0, 0, 0, 1, 0, 0, 0, 0, 0, 1, 1, 1, 1, 1, 0, 0, 1, 1, 1, 1, 1, 1, 1, 1, 0, 0, 0, 1, 1, 1, 1, 0, 0, 1, 0, 1, 1, 1, 1, 1, 0, 0, 0, 0, 1, 0, 0, 0, 0, 1, 1, 1, 1, 1, 0, 1, 0, 0, 1, 1, 1, 1, 1, 0, 0, 1, 0, 0, 1, 1, 1, 0, 0, 1, 1, 0, 0, 0, 1, 1, 0, 1, 0, 1, 0, 1, 1, 1, 1, 0, 0, 0, 1, 1, 1, 1, 0, 0, 0, 0, 0, 0, 1, 1, 0, 1, 0, 0, 1, 0, 1, 0, 0, 0, 0, 1, 0, 0, 1, 1, 0, 0, 1, 0, 1, 0, 1, 0, 1, 1, 1, 0, 1, 0, 1, 1, 0, 0, 0, 1, 1, 0, 0, 0, 0, 0, 0, 1, 0, 0, 0, 0, 1, 0, 0, 0, 1, 1, 0, 1, 0, 0, 0, 1, 0, 0, 0, 1, 1, 1, 0, 0, 1, 0, 1, 1, 0, 0, 0, 0, 0, 0, 0, 0, 1, 0, 1, 0, 1, 0, 0, 0, 1, 0, 1, 1, 0, 0], 'age': [11, 68, 7, 92, 100, 58, 71, 20, 35, 51, 21, 44, 1, 67, 98, 13, 16, 34, 24, 13, 6, 39, 2, 11, 7, 7, 39, 76, 86, 51, 52, 3, 77, 30, 10, 73, 6, 54, 66, 44, 80, 63, 77, 48, 77, 22, 19, 90, 14, 95, 93, 86, 7, 49, 41, 27, 31, 6, 16, 64, 38, 60, 96, 97, 81, 33, 63, 11, 13, 94, 65, 30, 91, 23, 20, 6, 37, 84, 6, 93, 77, 27, 84, 13, 8, 53, 81, 30, 1, 88, 80, 75, 4, 62, 68, 17, 74, 85, 57, 63, 57, 49, 18, 58, 10, 63, 80, 79, 34, 5, 17, 72, 63, 24, 92, 8, 23, 99, 31, 81, 28, 48, 12, 88, 79, 31, 91, 35, 55, 82, 36, 72, 60, 38, 69, 54, 14, 20, 9, 97, 82, 70, 2, 30, 6, 81, 41, 23, 31, 20, 5, 21, 75, 68, 87, 61, 94, 42, 41, 61, 82, 52, 41, 60, 95, 30, 98, 95, 38, 89, 17, 100, 40, 30, 66, 24, 73, 1, 88, 38, 64, 27, 90, 90, 7, 89, 80, 42, 18, 81, 44, 70, 20, 23, 12, 12, 34, 8, 27, 49, 72, 55, 97, 83, 88, 22, 3, 9, 11, 6, 39, 39, 66, 60, 37, 6, 6, 39, 36, 89, 50, 80, 85, 10, 5, 50, 25, 95, 3, 84, 4, 78, 12, 14, 82, 27, 71, 48, 99, 22, 21, 43, 58, 18, 90, 86, 56, 69, 99, 12, 99, 98, 20, 12, 98, 26, 98, 96, 46, 7, 90, 89, 39, 52, 17, 24, 91, 4, 91, 47, 30, 3, 6, 72, 16, 79, 36, 53, 8, 52, 52, 30, 56, 12, 68, 78, 56, 89, 69, 87, 58, 94, 12, 79, 83, 90, 4, 38, 8, 30, 79, 12, 74, 12, 17, 61, 64, 60, 2, 19, 54, 29, 65, 86, 89, 74, 9, 83, 12, 93, 52, 82, 56, 16, 4, 89, 86, 29, 59, 86, 79, 66, 77, 12, 26, 12, 91, 35, 2, 17, 2, 17, 34, 34, 45, 41, 73, 78, 84, 33, 24, 69, 32, 23, 65, 32, 80, 84, 16, 52, 13, 46, 11, 81, 71, 22, 95, 68, 81, 65, 2, 51, 97, 83, 83, 58, 23, 16, 16, 29, 72, 28, 89, 58, 59, 89, 77, 14, 19, 79, 79, 21, 72, 56, 45, 92, 45, 16, 88, 76, 78, 30, 96, 83, 5, 29, 66, 50, 50, 88, 58, 81, 42, 91, 67, 48, 18, 21, 39, 65, 7, 23, 80, 75, 35, 41, 39, 22, 35, 33, 43, 45, 100, 42, 28, 49, 11, 69, 18, 4, 95, 88, 30, 31, 76, 67, 94, 61, 8, 52, 74, 88, 65, 18, 41, 22, 95, 27, 16, 18, 11, 18, 4, 74, 30, 68, 72, 81, 99, 5, 62, 91, 7, 33, 82, 38, 28, 52, 79, 60, 87, 96, 9, 57, 30, 29, 96, 35, 59, 82, 93, 17, 73, 60, 8, 13, 33, 85, 76, 94, 41, 1, 85, 93, 78, 38, 48, 62, 51, 69, 77, 58, 5, 37, 81, 83, 38, 95, 36, 49, 1, 50, 58, 10, 51, 98, 49, 13, 71, 37, 100, 37, 31, 20, 39, 45, 36, 15, 30, 52, 61, 82, 68, 30, 28, 4, 34, 52, 28, 57, 22, 40, 75, 30, 30, 62, 59, 25, 17, 65, 99, 14, 2, 3, 67, 20, 77, 31, 40, 86, 78, 50, 27, 13, 65, 2, 37, 11, 33, 29, 59, 67, 93, 66, 78, 84, 48, 82, 37, 72, 54, 71, 10, 16, 19, 30, 54, 61, 43, 83, 3, 30, 18, 36, 20, 17, 24, 13, 100, 57, 67, 21, 4, 82, 45, 39, 43, 75, 38, 41, 28, 5, 52, 23, 38, 36, 31, 8, 89, 89, 16, 11, 20, 78, 57, 19, 72, 61, 25, 33, 40, 17, 53, 91, 81, 47, 97, 95, 85, 24, 16, 45, 84, 56, 99, 28, 46, 99, 82, 88, 28, 78, 49, 88, 95, 6, 98, 99, 29, 66, 69, 86, 73, 34, 100, 49, 100, 90, 70, 66, 100, 72, 2, 2, 72, 26, 78, 51, 28, 97, 44, 20, 99, 46, 81, 44, 68, 9, 84, 47, 65, 21, 97, 99, 6, 86, 25, 3, 72, 76, 29, 96, 66, 81, 83, 15, 22, 70, 34, 3, 28, 20, 16, 72, 30, 36, 98, 49, 50, 81, 57, 64, 89, 59, 6, 52, 62, 84, 18, 46, 97, 63, 23, 98, 10, 6, 77, 62, 43, 17, 60, 18, 69, 61, 26, 15, 62, 54, 82, 30, 71, 29, 75, 6, 85, 56, 51, 87, 54, 11, 44, 60, 31, 60, 15, 49, 57, 66, 8, 70, 16, 53, 33, 88, 79, 35, 30, 52, 90, 54, 5, 65, 27, 85, 6, 89, 18, 69, 57, 33, 82, 73, 74, 32, 95, 74, 49, 100, 33, 15, 62, 88, 33, 57, 29, 44, 98, 51, 47, 73, 38, 3, 18, 16, 68, 86, 94, 23, 83, 8, 56, 50, 27, 5, 90, 27, 61, 84, 79, 19, 97, 92, 37, 21, 4, 19, 78, 52, 50, 32, 98, 19, 13, 92, 99, 72, 95, 46, 81, 66, 89, 17, 46, 92, 38, 51, 25, 49, 77, 5, 52, 47, 41, 15, 11, 28, 79, 14, 5, 87, 16, 30, 79, 43, 26, 76, 96, 92, 23, 44, 85, 56, 3, 26, 1, 96, 57, 71, 83, 87, 63, 47, 90, 78, 13, 63, 38, 84, 32, 29, 60, 84, 41, 90, 30, 29, 53, 43, 11, 85, 18, 1, 40, 39, 99, 66, 49, 87, 46, 50, 23, 93, 66, 86, 67, 33, 51, 71, 36, 24, 83, 90, 80, 28, 86, 2, 10, 82, 12, 65, 68, 62, 55, 37, 85, 20, 70, 85, 63, 69, 42, 81, 17, 58, 6, 97, 23, 4, 9, 63, 93, 42, 75, 93, 96, 12, 35, 92, 50, 72, 40, 59, 6, 74, 89, 13, 98, 60, 79, 16, 5, 23, 53, 67, 72, 73, 6, 40, 80, 80], 'region': [10, 10, 7, 10, 10, 4, 10, 4, 8, 3, 9, 2, 4, 3, 2, 8, 9, 8, 6, 8, 8, 2, 6, 7, 6, 9, 9, 2, 6, 3, 10, 6, 2, 9, 2, 8, 9, 6, 1, 2, 10, 6, 2, 5, 10, 9, 3, 9, 4, 4, 8, 5, 9, 4, 4, 2, 8, 6, 6, 8, 8, 4, 3, 2, 3, 10, 6, 9, 9, 9, 3, 3, 9, 5, 2, 2, 1, 3, 2, 8, 1, 3, 10, 4, 5, 10, 4, 1, 1, 7, 5, 4, 4, 2, 1, 8, 9, 7, 3, 9, 9, 10, 7, 5, 2, 9, 6, 5, 4, 6, 8, 7, 7, 10, 4, 4, 3, 8, 4, 10, 10, 6, 10, 9, 4, 9, 6, 10, 1, 8, 1, 2, 7, 7, 5, 6, 8, 7, 1, 2, 7, 7, 5, 3, 3, 5, 5, 4, 2, 1, 7, 7, 1, 10, 9, 10, 6, 3, 10, 9, 5, 5, 1, 3, 6, 8, 8, 2, 4, 3, 1, 4, 3, 3, 3, 4, 6, 2, 8, 6, 4, 10, 4, 1, 7, 4, 7, 10, 6, 2, 10, 4, 4, 10, 8, 9, 5, 8, 9, 10, 5, 2, 6, 1, 4, 7, 4, 1, 4, 7, 10, 6, 2, 8, 4, 5, 8, 1, 4, 6, 7, 7, 8, 5, 8, 3, 1, 2, 7, 6, 10, 5, 9, 8, 9, 7, 2, 5, 9, 6, 2, 7, 3, 8, 6, 8, 10, 7, 7, 4, 10, 10, 4, 5, 5, 2, 4, 10, 6, 2, 10, 8, 6, 5, 3, 1, 9, 8, 2, 2, 2, 10, 8, 5, 9, 7, 2, 3, 9, 5, 8, 10, 9, 9, 4, 3, 6, 7, 5, 6, 8, 10, 1, 4, 6, 6, 8, 9, 1, 3, 7, 6, 2, 6, 2, 10, 3, 4, 1, 4, 1, 2, 3, 3, 4, 5, 6, 9, 6, 2, 7, 2, 10, 7, 2, 6, 7, 3, 3, 10, 3, 9, 7, 4, 5, 2, 7, 7, 9, 9, 9, 6, 3, 3, 6, 10, 6, 5, 2, 2, 9, 9, 4, 1, 10, 3, 10, 4, 7, 5, 8, 6, 6, 4, 9, 8, 2, 8, 6, 5, 1, 6, 8, 9, 2, 7, 7, 10, 1, 3, 9, 7, 7, 4, 5, 5, 5, 2, 5, 4, 9, 10, 3, 2, 8, 9, 4, 4, 10, 1, 8, 8, 6, 4, 8, 9, 6, 6, 2, 8, 7, 2, 9, 2, 3, 1, 3, 5, 5, 9, 5, 8, 6, 3, 4, 1, 8, 10, 7, 10, 9, 2, 8, 7, 9, 5, 4, 6, 3, 1, 2, 5, 1, 6, 9, 4, 10, 2, 6, 10, 1, 9, 2, 7, 10, 8, 2, 5, 10, 9, 7, 8, 6, 8, 9, 6, 2, 5, 8, 9, 8, 8, 10, 10, 1, 7, 4, 8, 3, 7, 4, 6, 9, 10, 6, 1, 7, 10, 2, 5, 8, 6, 3, 7, 5, 8, 4, 7, 8, 1, 7, 5, 3, 4, 3, 1, 10, 6, 9, 2, 1, 10, 6, 10, 3, 2, 4, 1, 7, 1, 8, 10, 4, 9, 5, 5, 6, 2, 7, 9, 7, 2, 5, 5, 10, 9, 7, 3, 4, 9, 1, 6, 9, 8, 6, 7, 6, 8, 5, 3, 7, 7, 9, 2, 1, 6, 1, 2, 5, 2, 10, 1, 4, 10, 4, 1, 9, 3, 6, 5, 3, 5, 3, 1, 2, 6, 6, 9, 1, 1, 6, 8, 4, 7, 1, 3, 1, 6, 2, 8, 4, 3, 4, 3, 4, 8, 8, 2, 5, 7, 8, 1, 1, 7, 5, 5, 6, 2, 3, 7, 9, 3, 10, 10, 6, 6, 9, 6, 10, 2, 10, 5, 7, 10, 9, 1, 6, 7, 1, 7, 1, 7, 8, 2, 2, 6, 1, 7, 5, 5, 5, 8, 3, 2, 5, 10, 9, 5, 5, 8, 1, 8, 9, 10, 10, 6, 3, 7, 10, 6, 7, 6, 4, 4, 1, 4, 5, 2, 1, 10, 10, 4, 10, 4, 5, 7, 6, 8, 2, 6, 8, 7, 7, 7, 2, 9, 5, 3, 1, 3, 9, 4, 8, 3, 2, 5, 5, 5, 3, 5, 9, 8, 10, 9, 10, 6, 10, 2, 9, 9, 7, 1, 1, 3, 4, 3, 2, 10, 6, 7, 2, 9, 8, 8, 4, 5, 10, 7, 10, 7, 5, 2, 3, 1, 1, 8, 7, 3, 10, 9, 9, 3, 2, 3, 8, 7, 7, 3, 2, 6, 7, 10, 10, 4, 10, 5, 3, 2, 7, 1, 3, 7, 4, 8, 6, 3, 7, 7, 2, 10, 1, 2, 4, 4, 2, 4, 5, 4, 10, 10, 6, 7, 9, 10, 6, 6, 9, 5, 6, 1, 4, 2, 7, 9, 7, 4, 5, 6, 9, 3, 10, 4, 3, 10, 2, 2, 9, 7, 4, 3, 3, 5, 8, 3, 5, 5, 10, 2, 6, 4, 8, 5, 3, 1, 10, 3, 3, 10, 7, 9, 10, 2, 2, 2, 1, 2, 8, 1, 7, 6, 10, 9, 6, 7, 9, 2, 5, 6, 10, 1, 6, 7, 10, 2, 2, 4, 2, 7, 1, 8, 7, 5, 10, 3, 4, 7, 7, 3, 2, 8, 9, 9, 5, 3, 10, 9, 1, 4, 1, 6, 8, 8, 5, 9, 3, 10, 6, 2, 8, 8, 2, 6, 1, 8, 9, 5, 6, 3, 1, 9, 7, 6, 4, 9, 10, 1, 8, 3, 9, 8, 7, 1, 6, 3, 7, 9, 5, 1, 4, 5, 2, 9, 3, 9, 10, 9, 8, 10, 4, 7, 4, 8, 8, 3, 8, 9, 5, 4, 1, 3, 6, 5, 3, 8, 4, 8, 4, 2, 5, 6, 4, 3, 2, 4, 5, 5, 7, 10, 10, 4, 8, 5, 1, 1, 1, 1, 5, 6, 6, 10, 3, 1, 8, 2, 10, 10, 1, 8, 7, 8, 10, 1, 10, 5, 9, 6, 3, 6, 5, 2, 1, 3, 6, 5, 3, 8, 4, 6, 7, 5]} <class 'dict'>\n"
     ]
    }
   ],
   "source": [
    "li=ar.tolist()\n",
    "print(li,type(li),'\\n')\n",
    "dict = df1.to_dict('list')\n",
    "print(dict,type(dict))"
   ]
  },
  {
   "cell_type": "code",
   "execution_count": 69,
   "id": "0c9b0c5b-badf-43b2-a351-5f00971c6934",
   "metadata": {},
   "outputs": [
    {
     "data": {
      "text/html": [
       "<div>\n",
       "<style scoped>\n",
       "    .dataframe tbody tr th:only-of-type {\n",
       "        vertical-align: middle;\n",
       "    }\n",
       "\n",
       "    .dataframe tbody tr th {\n",
       "        vertical-align: top;\n",
       "    }\n",
       "\n",
       "    .dataframe thead th {\n",
       "        text-align: right;\n",
       "    }\n",
       "</style>\n",
       "<table border=\"1\" class=\"dataframe\">\n",
       "  <thead>\n",
       "    <tr style=\"text-align: right;\">\n",
       "      <th></th>\n",
       "      <th>col1</th>\n",
       "      <th>col2</th>\n",
       "    </tr>\n",
       "  </thead>\n",
       "  <tbody>\n",
       "    <tr>\n",
       "      <th>0</th>\n",
       "      <td>1</td>\n",
       "      <td>A</td>\n",
       "    </tr>\n",
       "    <tr>\n",
       "      <th>1</th>\n",
       "      <td>2</td>\n",
       "      <td>A</td>\n",
       "    </tr>\n",
       "    <tr>\n",
       "      <th>2</th>\n",
       "      <td>3</td>\n",
       "      <td>B</td>\n",
       "    </tr>\n",
       "    <tr>\n",
       "      <th>3</th>\n",
       "      <td>4</td>\n",
       "      <td>B</td>\n",
       "    </tr>\n",
       "    <tr>\n",
       "      <th>4</th>\n",
       "      <td>5</td>\n",
       "      <td>C</td>\n",
       "    </tr>\n",
       "    <tr>\n",
       "      <th>5</th>\n",
       "      <td>6</td>\n",
       "      <td>C</td>\n",
       "    </tr>\n",
       "  </tbody>\n",
       "</table>\n",
       "</div>"
      ],
      "text/plain": [
       "   col1 col2\n",
       "0     1    A\n",
       "1     2    A\n",
       "2     3    B\n",
       "3     4    B\n",
       "4     5    C\n",
       "5     6    C"
      ]
     },
     "execution_count": 69,
     "metadata": {},
     "output_type": "execute_result"
    }
   ],
   "source": [
    "# file 생성\n",
    "import pandas as pd\n",
    "file_data = pd.DataFrame({\n",
    "    'col1':[1,2,3,4,5,6],\n",
    "    'col2':['A','A','B','B','C','C']\n",
    "})\n",
    "file_data"
   ]
  },
  {
   "cell_type": "code",
   "execution_count": 82,
   "id": "fdcf8362-4c79-4f2f-9bab-36762b4ff671",
   "metadata": {
    "tags": []
   },
   "outputs": [
    {
     "data": {
      "text/html": [
       "<div>\n",
       "<style scoped>\n",
       "    .dataframe tbody tr th:only-of-type {\n",
       "        vertical-align: middle;\n",
       "    }\n",
       "\n",
       "    .dataframe tbody tr th {\n",
       "        vertical-align: top;\n",
       "    }\n",
       "\n",
       "    .dataframe thead th {\n",
       "        text-align: right;\n",
       "    }\n",
       "</style>\n",
       "<table border=\"1\" class=\"dataframe\">\n",
       "  <thead>\n",
       "    <tr style=\"text-align: right;\">\n",
       "      <th></th>\n",
       "      <th>col1</th>\n",
       "      <th>col2</th>\n",
       "      <th>col3</th>\n",
       "    </tr>\n",
       "  </thead>\n",
       "  <tbody>\n",
       "    <tr>\n",
       "      <th>0</th>\n",
       "      <td>1</td>\n",
       "      <td>A</td>\n",
       "      <td>e</td>\n",
       "    </tr>\n",
       "    <tr>\n",
       "      <th>1</th>\n",
       "      <td>2</td>\n",
       "      <td>A</td>\n",
       "      <td>e</td>\n",
       "    </tr>\n",
       "    <tr>\n",
       "      <th>2</th>\n",
       "      <td>3</td>\n",
       "      <td>B</td>\n",
       "      <td>e</td>\n",
       "    </tr>\n",
       "    <tr>\n",
       "      <th>3</th>\n",
       "      <td>4</td>\n",
       "      <td>B</td>\n",
       "      <td>e</td>\n",
       "    </tr>\n",
       "    <tr>\n",
       "      <th>4</th>\n",
       "      <td>5</td>\n",
       "      <td>C</td>\n",
       "      <td>e</td>\n",
       "    </tr>\n",
       "    <tr>\n",
       "      <th>5</th>\n",
       "      <td>6</td>\n",
       "      <td>C</td>\n",
       "      <td>e</td>\n",
       "    </tr>\n",
       "  </tbody>\n",
       "</table>\n",
       "</div>"
      ],
      "text/plain": [
       "   col1 col2 col3\n",
       "0     1    A    e\n",
       "1     2    A    e\n",
       "2     3    B    e\n",
       "3     4    B    e\n",
       "4     5    C    e\n",
       "5     6    C    e"
      ]
     },
     "execution_count": 82,
     "metadata": {},
     "output_type": "execute_result"
    }
   ],
   "source": [
    "file_data['col3']='e'\n",
    "file_data"
   ]
  },
  {
   "cell_type": "code",
   "execution_count": 83,
   "id": "586eaf47-d8b4-4186-a245-30785f648280",
   "metadata": {
    "tags": []
   },
   "outputs": [],
   "source": [
    "file_data.to_csv('C:/cakd7/m2_분석라이브러리활용/pandas/dataset/file_data.csv',index=None)"
   ]
  },
  {
   "cell_type": "code",
   "execution_count": 84,
   "id": "154b0caf-80ad-4f68-a81a-b354b728ddc5",
   "metadata": {
    "tags": []
   },
   "outputs": [
    {
     "data": {
      "text/html": [
       "<div>\n",
       "<style scoped>\n",
       "    .dataframe tbody tr th:only-of-type {\n",
       "        vertical-align: middle;\n",
       "    }\n",
       "\n",
       "    .dataframe tbody tr th {\n",
       "        vertical-align: top;\n",
       "    }\n",
       "\n",
       "    .dataframe thead th {\n",
       "        text-align: right;\n",
       "    }\n",
       "</style>\n",
       "<table border=\"1\" class=\"dataframe\">\n",
       "  <thead>\n",
       "    <tr style=\"text-align: right;\">\n",
       "      <th></th>\n",
       "      <th>col1</th>\n",
       "      <th>col2</th>\n",
       "      <th>col3</th>\n",
       "    </tr>\n",
       "  </thead>\n",
       "  <tbody>\n",
       "    <tr>\n",
       "      <th>0</th>\n",
       "      <td>1</td>\n",
       "      <td>A</td>\n",
       "      <td>e</td>\n",
       "    </tr>\n",
       "    <tr>\n",
       "      <th>1</th>\n",
       "      <td>2</td>\n",
       "      <td>A</td>\n",
       "      <td>e</td>\n",
       "    </tr>\n",
       "    <tr>\n",
       "      <th>2</th>\n",
       "      <td>3</td>\n",
       "      <td>B</td>\n",
       "      <td>e</td>\n",
       "    </tr>\n",
       "    <tr>\n",
       "      <th>3</th>\n",
       "      <td>4</td>\n",
       "      <td>B</td>\n",
       "      <td>e</td>\n",
       "    </tr>\n",
       "    <tr>\n",
       "      <th>4</th>\n",
       "      <td>5</td>\n",
       "      <td>C</td>\n",
       "      <td>e</td>\n",
       "    </tr>\n",
       "    <tr>\n",
       "      <th>5</th>\n",
       "      <td>6</td>\n",
       "      <td>C</td>\n",
       "      <td>e</td>\n",
       "    </tr>\n",
       "  </tbody>\n",
       "</table>\n",
       "</div>"
      ],
      "text/plain": [
       "   col1 col2 col3\n",
       "0     1    A    e\n",
       "1     2    A    e\n",
       "2     3    B    e\n",
       "3     4    B    e\n",
       "4     5    C    e\n",
       "5     6    C    e"
      ]
     },
     "execution_count": 84,
     "metadata": {},
     "output_type": "execute_result"
    }
   ],
   "source": [
    "file_data = pd.read_csv('C:/cakd7/m2_분석라이브러리활용/pandas/dataset/file_data.csv')\n",
    "file_data"
   ]
  },
  {
   "cell_type": "code",
   "execution_count": 85,
   "id": "3d4a099d-c623-482f-8a70-8ac95d461be3",
   "metadata": {},
   "outputs": [
    {
     "name": "stdout",
     "output_type": "stream",
     "text": [
      "    col1 col2     pd  sales    inv\n",
      "0    1.0    A    NaN    NaN    NaN\n",
      "1    2.0    B    NaN    NaN    NaN\n",
      "2    3.0    C    NaN    NaN    NaN\n",
      "d1   NaN  NaN  110.0  113.0   98.0\n",
      "d2   NaN  NaN  101.0  101.0  105.0\n",
      "d3   NaN  NaN  107.0  117.0  116.0 \n",
      "\n"
     ]
    },
    {
     "data": {
      "text/html": [
       "<div>\n",
       "<style scoped>\n",
       "    .dataframe tbody tr th:only-of-type {\n",
       "        vertical-align: middle;\n",
       "    }\n",
       "\n",
       "    .dataframe tbody tr th {\n",
       "        vertical-align: top;\n",
       "    }\n",
       "\n",
       "    .dataframe thead th {\n",
       "        text-align: right;\n",
       "    }\n",
       "</style>\n",
       "<table border=\"1\" class=\"dataframe\">\n",
       "  <thead>\n",
       "    <tr style=\"text-align: right;\">\n",
       "      <th></th>\n",
       "      <th>col1</th>\n",
       "      <th>col2</th>\n",
       "    </tr>\n",
       "  </thead>\n",
       "  <tbody>\n",
       "    <tr>\n",
       "      <th>0</th>\n",
       "      <td>1</td>\n",
       "      <td>A</td>\n",
       "    </tr>\n",
       "    <tr>\n",
       "      <th>1</th>\n",
       "      <td>2</td>\n",
       "      <td>B</td>\n",
       "    </tr>\n",
       "    <tr>\n",
       "      <th>2</th>\n",
       "      <td>3</td>\n",
       "      <td>C</td>\n",
       "    </tr>\n",
       "    <tr>\n",
       "      <th>0</th>\n",
       "      <td>4</td>\n",
       "      <td>D</td>\n",
       "    </tr>\n",
       "    <tr>\n",
       "      <th>1</th>\n",
       "      <td>5</td>\n",
       "      <td>E</td>\n",
       "    </tr>\n",
       "    <tr>\n",
       "      <th>2</th>\n",
       "      <td>6</td>\n",
       "      <td>F</td>\n",
       "    </tr>\n",
       "  </tbody>\n",
       "</table>\n",
       "</div>"
      ],
      "text/plain": [
       "   col1 col2\n",
       "0     1    A\n",
       "1     2    B\n",
       "2     3    C\n",
       "0     4    D\n",
       "1     5    E\n",
       "2     6    F"
      ]
     },
     "execution_count": 85,
     "metadata": {},
     "output_type": "execute_result"
    }
   ],
   "source": [
    "df_1 = pd.DataFrame({\n",
    "    'col1':np.array([1,2,3]),\n",
    "    'col2':np.array(['A','B','C'])\n",
    "})\n",
    "\n",
    "df_2 = pd.DataFrame({\n",
    "    'col1':np.array([4,5,6]),\n",
    "    'col2':np.array(['D','E','F'])\n",
    "})\n",
    "\n",
    "df_3 = pd.concat([df_1,df-2],axis=1)  #concat 합치는거\n",
    "print(df_3,'\\n')\n",
    "df_4 = pd.concat([df_1,df_2])\n",
    "df_4"
   ]
  },
  {
   "cell_type": "code",
   "execution_count": 86,
   "id": "db6bf86f-abb1-433d-8f24-a717dbf4a15f",
   "metadata": {},
   "outputs": [
    {
     "data": {
      "text/html": [
       "<div>\n",
       "<style scoped>\n",
       "    .dataframe tbody tr th:only-of-type {\n",
       "        vertical-align: middle;\n",
       "    }\n",
       "\n",
       "    .dataframe tbody tr th {\n",
       "        vertical-align: top;\n",
       "    }\n",
       "\n",
       "    .dataframe thead th {\n",
       "        text-align: right;\n",
       "    }\n",
       "</style>\n",
       "<table border=\"1\" class=\"dataframe\">\n",
       "  <thead>\n",
       "    <tr style=\"text-align: right;\">\n",
       "      <th></th>\n",
       "      <th>col2</th>\n",
       "    </tr>\n",
       "  </thead>\n",
       "  <tbody>\n",
       "    <tr>\n",
       "      <th>0</th>\n",
       "      <td>A</td>\n",
       "    </tr>\n",
       "    <tr>\n",
       "      <th>1</th>\n",
       "      <td>B</td>\n",
       "    </tr>\n",
       "    <tr>\n",
       "      <th>2</th>\n",
       "      <td>C</td>\n",
       "    </tr>\n",
       "    <tr>\n",
       "      <th>0</th>\n",
       "      <td>D</td>\n",
       "    </tr>\n",
       "    <tr>\n",
       "      <th>1</th>\n",
       "      <td>E</td>\n",
       "    </tr>\n",
       "    <tr>\n",
       "      <th>2</th>\n",
       "      <td>F</td>\n",
       "    </tr>\n",
       "  </tbody>\n",
       "</table>\n",
       "</div>"
      ],
      "text/plain": [
       "  col2\n",
       "0    A\n",
       "1    B\n",
       "2    C\n",
       "0    D\n",
       "1    E\n",
       "2    F"
      ]
     },
     "execution_count": 86,
     "metadata": {},
     "output_type": "execute_result"
    }
   ],
   "source": [
    "df_5 = df_4.copy()\n",
    "df_5 = df_5.drop('col1',axis=1)   #drop = 삭제, axis=1 열방향\n",
    "df_5"
   ]
  },
  {
   "cell_type": "code",
   "execution_count": 87,
   "id": "4604db95-6b22-49a7-a83e-01724bf03d7b",
   "metadata": {},
   "outputs": [
    {
     "data": {
      "text/html": [
       "<div>\n",
       "<style scoped>\n",
       "    .dataframe tbody tr th:only-of-type {\n",
       "        vertical-align: middle;\n",
       "    }\n",
       "\n",
       "    .dataframe tbody tr th {\n",
       "        vertical-align: top;\n",
       "    }\n",
       "\n",
       "    .dataframe thead th {\n",
       "        text-align: right;\n",
       "    }\n",
       "</style>\n",
       "<table border=\"1\" class=\"dataframe\">\n",
       "  <thead>\n",
       "    <tr style=\"text-align: right;\">\n",
       "      <th></th>\n",
       "      <th>col1</th>\n",
       "      <th>col2</th>\n",
       "      <th>pd</th>\n",
       "      <th>sales</th>\n",
       "      <th>inv</th>\n",
       "    </tr>\n",
       "  </thead>\n",
       "  <tbody>\n",
       "    <tr>\n",
       "      <th>1</th>\n",
       "      <td>2.0</td>\n",
       "      <td>B</td>\n",
       "      <td>NaN</td>\n",
       "      <td>NaN</td>\n",
       "      <td>NaN</td>\n",
       "    </tr>\n",
       "    <tr>\n",
       "      <th>2</th>\n",
       "      <td>3.0</td>\n",
       "      <td>C</td>\n",
       "      <td>NaN</td>\n",
       "      <td>NaN</td>\n",
       "      <td>NaN</td>\n",
       "    </tr>\n",
       "    <tr>\n",
       "      <th>d1</th>\n",
       "      <td>NaN</td>\n",
       "      <td>NaN</td>\n",
       "      <td>110.0</td>\n",
       "      <td>113.0</td>\n",
       "      <td>98.0</td>\n",
       "    </tr>\n",
       "    <tr>\n",
       "      <th>d2</th>\n",
       "      <td>NaN</td>\n",
       "      <td>NaN</td>\n",
       "      <td>101.0</td>\n",
       "      <td>101.0</td>\n",
       "      <td>105.0</td>\n",
       "    </tr>\n",
       "    <tr>\n",
       "      <th>d3</th>\n",
       "      <td>NaN</td>\n",
       "      <td>NaN</td>\n",
       "      <td>107.0</td>\n",
       "      <td>117.0</td>\n",
       "      <td>116.0</td>\n",
       "    </tr>\n",
       "  </tbody>\n",
       "</table>\n",
       "</div>"
      ],
      "text/plain": [
       "    col1 col2     pd  sales    inv\n",
       "1    2.0    B    NaN    NaN    NaN\n",
       "2    3.0    C    NaN    NaN    NaN\n",
       "d1   NaN  NaN  110.0  113.0   98.0\n",
       "d2   NaN  NaN  101.0  101.0  105.0\n",
       "d3   NaN  NaN  107.0  117.0  116.0"
      ]
     },
     "execution_count": 87,
     "metadata": {},
     "output_type": "execute_result"
    }
   ],
   "source": [
    "# 행 삭제\n",
    "df_6 = df_3.copy()\n",
    "df_6 = df_6.drop([0])\n",
    "df_6"
   ]
  },
  {
   "cell_type": "code",
   "execution_count": 88,
   "id": "e6170ac5-b45b-41a8-bc96-2ccf772c9391",
   "metadata": {},
   "outputs": [
    {
     "data": {
      "text/html": [
       "<div>\n",
       "<style scoped>\n",
       "    .dataframe tbody tr th:only-of-type {\n",
       "        vertical-align: middle;\n",
       "    }\n",
       "\n",
       "    .dataframe tbody tr th {\n",
       "        vertical-align: top;\n",
       "    }\n",
       "\n",
       "    .dataframe thead th {\n",
       "        text-align: right;\n",
       "    }\n",
       "</style>\n",
       "<table border=\"1\" class=\"dataframe\">\n",
       "  <thead>\n",
       "    <tr style=\"text-align: right;\">\n",
       "      <th></th>\n",
       "      <th>col1</th>\n",
       "      <th>col2</th>\n",
       "      <th>col3</th>\n",
       "    </tr>\n",
       "  </thead>\n",
       "  <tbody>\n",
       "    <tr>\n",
       "      <th>0</th>\n",
       "      <td>1</td>\n",
       "      <td>A</td>\n",
       "      <td>e</td>\n",
       "    </tr>\n",
       "    <tr>\n",
       "      <th>1</th>\n",
       "      <td>2</td>\n",
       "      <td>A</td>\n",
       "      <td>e</td>\n",
       "    </tr>\n",
       "    <tr>\n",
       "      <th>2</th>\n",
       "      <td>3</td>\n",
       "      <td>B</td>\n",
       "      <td>e</td>\n",
       "    </tr>\n",
       "    <tr>\n",
       "      <th>3</th>\n",
       "      <td>4</td>\n",
       "      <td>B</td>\n",
       "      <td>e</td>\n",
       "    </tr>\n",
       "    <tr>\n",
       "      <th>4</th>\n",
       "      <td>5</td>\n",
       "      <td>C</td>\n",
       "      <td>e</td>\n",
       "    </tr>\n",
       "    <tr>\n",
       "      <th>5</th>\n",
       "      <td>6</td>\n",
       "      <td>C</td>\n",
       "      <td>e</td>\n",
       "    </tr>\n",
       "  </tbody>\n",
       "</table>\n",
       "</div>"
      ],
      "text/plain": [
       "   col1 col2 col3\n",
       "0     1    A    e\n",
       "1     2    A    e\n",
       "2     3    B    e\n",
       "3     4    B    e\n",
       "4     5    C    e\n",
       "5     6    C    e"
      ]
     },
     "execution_count": 88,
     "metadata": {},
     "output_type": "execute_result"
    }
   ],
   "source": [
    "df1 = file_data.copy()\n",
    "df1"
   ]
  },
  {
   "cell_type": "code",
   "execution_count": 89,
   "id": "8e07aa58-0788-4eb3-bb20-12699dd1bb36",
   "metadata": {},
   "outputs": [
    {
     "data": {
      "text/html": [
       "<div>\n",
       "<style scoped>\n",
       "    .dataframe tbody tr th:only-of-type {\n",
       "        vertical-align: middle;\n",
       "    }\n",
       "\n",
       "    .dataframe tbody tr th {\n",
       "        vertical-align: top;\n",
       "    }\n",
       "\n",
       "    .dataframe thead th {\n",
       "        text-align: right;\n",
       "    }\n",
       "</style>\n",
       "<table border=\"1\" class=\"dataframe\">\n",
       "  <thead>\n",
       "    <tr style=\"text-align: right;\">\n",
       "      <th></th>\n",
       "      <th>col1</th>\n",
       "      <th>col2</th>\n",
       "      <th>col3</th>\n",
       "    </tr>\n",
       "  </thead>\n",
       "  <tbody>\n",
       "    <tr>\n",
       "      <th>3</th>\n",
       "      <td>4</td>\n",
       "      <td>B</td>\n",
       "      <td>e</td>\n",
       "    </tr>\n",
       "    <tr>\n",
       "      <th>4</th>\n",
       "      <td>5</td>\n",
       "      <td>C</td>\n",
       "      <td>e</td>\n",
       "    </tr>\n",
       "    <tr>\n",
       "      <th>5</th>\n",
       "      <td>6</td>\n",
       "      <td>C</td>\n",
       "      <td>e</td>\n",
       "    </tr>\n",
       "  </tbody>\n",
       "</table>\n",
       "</div>"
      ],
      "text/plain": [
       "   col1 col2 col3\n",
       "3     4    B    e\n",
       "4     5    C    e\n",
       "5     6    C    e"
      ]
     },
     "execution_count": 89,
     "metadata": {},
     "output_type": "execute_result"
    }
   ],
   "source": [
    "df1[3:]"
   ]
  },
  {
   "cell_type": "code",
   "execution_count": 90,
   "id": "a2d6336c-a422-46f2-b1ff-83ac04d086b6",
   "metadata": {},
   "outputs": [
    {
     "data": {
      "text/html": [
       "<div>\n",
       "<style scoped>\n",
       "    .dataframe tbody tr th:only-of-type {\n",
       "        vertical-align: middle;\n",
       "    }\n",
       "\n",
       "    .dataframe tbody tr th {\n",
       "        vertical-align: top;\n",
       "    }\n",
       "\n",
       "    .dataframe thead th {\n",
       "        text-align: right;\n",
       "    }\n",
       "</style>\n",
       "<table border=\"1\" class=\"dataframe\">\n",
       "  <thead>\n",
       "    <tr style=\"text-align: right;\">\n",
       "      <th></th>\n",
       "      <th>col1</th>\n",
       "      <th>col2</th>\n",
       "      <th>col3</th>\n",
       "    </tr>\n",
       "  </thead>\n",
       "  <tbody>\n",
       "    <tr>\n",
       "      <th>2</th>\n",
       "      <td>3</td>\n",
       "      <td>B</td>\n",
       "      <td>e</td>\n",
       "    </tr>\n",
       "    <tr>\n",
       "      <th>3</th>\n",
       "      <td>4</td>\n",
       "      <td>B</td>\n",
       "      <td>e</td>\n",
       "    </tr>\n",
       "    <tr>\n",
       "      <th>4</th>\n",
       "      <td>5</td>\n",
       "      <td>C</td>\n",
       "      <td>e</td>\n",
       "    </tr>\n",
       "  </tbody>\n",
       "</table>\n",
       "</div>"
      ],
      "text/plain": [
       "   col1 col2 col3\n",
       "2     3    B    e\n",
       "3     4    B    e\n",
       "4     5    C    e"
      ]
     },
     "execution_count": 90,
     "metadata": {},
     "output_type": "execute_result"
    }
   ],
   "source": [
    "df1[2:5]"
   ]
  },
  {
   "cell_type": "code",
   "execution_count": 91,
   "id": "e38f3bd0-f6e0-4150-91b1-b08d69f65360",
   "metadata": {},
   "outputs": [
    {
     "data": {
      "text/plain": [
       "col1    6\n",
       "col2    C\n",
       "col3    e\n",
       "Name: 5, dtype: object"
      ]
     },
     "execution_count": 91,
     "metadata": {},
     "output_type": "execute_result"
    }
   ],
   "source": [
    "df1.iloc[-1]"
   ]
  },
  {
   "cell_type": "code",
   "execution_count": 92,
   "id": "fe71beb9-5b56-4f65-9f4f-15900f94dfbc",
   "metadata": {},
   "outputs": [
    {
     "data": {
      "text/html": [
       "<div>\n",
       "<style scoped>\n",
       "    .dataframe tbody tr th:only-of-type {\n",
       "        vertical-align: middle;\n",
       "    }\n",
       "\n",
       "    .dataframe tbody tr th {\n",
       "        vertical-align: top;\n",
       "    }\n",
       "\n",
       "    .dataframe thead th {\n",
       "        text-align: right;\n",
       "    }\n",
       "</style>\n",
       "<table border=\"1\" class=\"dataframe\">\n",
       "  <thead>\n",
       "    <tr style=\"text-align: right;\">\n",
       "      <th></th>\n",
       "      <th>col1</th>\n",
       "      <th>col2</th>\n",
       "      <th>col3</th>\n",
       "    </tr>\n",
       "  </thead>\n",
       "  <tbody>\n",
       "    <tr>\n",
       "      <th>0</th>\n",
       "      <td>1</td>\n",
       "      <td>A</td>\n",
       "      <td>e</td>\n",
       "    </tr>\n",
       "    <tr>\n",
       "      <th>1</th>\n",
       "      <td>2</td>\n",
       "      <td>A</td>\n",
       "      <td>e</td>\n",
       "    </tr>\n",
       "    <tr>\n",
       "      <th>2</th>\n",
       "      <td>3</td>\n",
       "      <td>B</td>\n",
       "      <td>e</td>\n",
       "    </tr>\n",
       "    <tr>\n",
       "      <th>3</th>\n",
       "      <td>4</td>\n",
       "      <td>B</td>\n",
       "      <td>e</td>\n",
       "    </tr>\n",
       "    <tr>\n",
       "      <th>4</th>\n",
       "      <td>5</td>\n",
       "      <td>C</td>\n",
       "      <td>e</td>\n",
       "    </tr>\n",
       "    <tr>\n",
       "      <th>5</th>\n",
       "      <td>6</td>\n",
       "      <td>C</td>\n",
       "      <td>e</td>\n",
       "    </tr>\n",
       "  </tbody>\n",
       "</table>\n",
       "</div>"
      ],
      "text/plain": [
       "   col1 col2 col3\n",
       "0     1    A    e\n",
       "1     2    A    e\n",
       "2     3    B    e\n",
       "3     4    B    e\n",
       "4     5    C    e\n",
       "5     6    C    e"
      ]
     },
     "execution_count": 92,
     "metadata": {},
     "output_type": "execute_result"
    }
   ],
   "source": [
    "df1"
   ]
  },
  {
   "cell_type": "code",
   "execution_count": 93,
   "id": "6337af6a-fe2e-4178-9b25-eaa3d359a3e8",
   "metadata": {
    "tags": []
   },
   "outputs": [
    {
     "data": {
      "text/html": [
       "<div>\n",
       "<style scoped>\n",
       "    .dataframe tbody tr th:only-of-type {\n",
       "        vertical-align: middle;\n",
       "    }\n",
       "\n",
       "    .dataframe tbody tr th {\n",
       "        vertical-align: top;\n",
       "    }\n",
       "\n",
       "    .dataframe thead th {\n",
       "        text-align: right;\n",
       "    }\n",
       "</style>\n",
       "<table border=\"1\" class=\"dataframe\">\n",
       "  <thead>\n",
       "    <tr style=\"text-align: right;\">\n",
       "      <th></th>\n",
       "      <th>col1</th>\n",
       "      <th>col2</th>\n",
       "    </tr>\n",
       "  </thead>\n",
       "  <tbody>\n",
       "    <tr>\n",
       "      <th>0</th>\n",
       "      <td>1</td>\n",
       "      <td>A</td>\n",
       "    </tr>\n",
       "    <tr>\n",
       "      <th>1</th>\n",
       "      <td>2</td>\n",
       "      <td>A</td>\n",
       "    </tr>\n",
       "    <tr>\n",
       "      <th>2</th>\n",
       "      <td>3</td>\n",
       "      <td>B</td>\n",
       "    </tr>\n",
       "    <tr>\n",
       "      <th>3</th>\n",
       "      <td>4</td>\n",
       "      <td>B</td>\n",
       "    </tr>\n",
       "    <tr>\n",
       "      <th>4</th>\n",
       "      <td>5</td>\n",
       "      <td>C</td>\n",
       "    </tr>\n",
       "    <tr>\n",
       "      <th>5</th>\n",
       "      <td>6</td>\n",
       "      <td>C</td>\n",
       "    </tr>\n",
       "  </tbody>\n",
       "</table>\n",
       "</div>"
      ],
      "text/plain": [
       "   col1 col2\n",
       "0     1    A\n",
       "1     2    A\n",
       "2     3    B\n",
       "3     4    B\n",
       "4     5    C\n",
       "5     6    C"
      ]
     },
     "execution_count": 93,
     "metadata": {},
     "output_type": "execute_result"
    }
   ],
   "source": [
    "df1.loc[:,['col1','col2']]  # e두개의칼럼으    df1.loc[1:3,['col1','col2']]"
   ]
  },
  {
   "cell_type": "code",
   "execution_count": 94,
   "id": "4339bbbd-a8a8-4ff3-9c40-3cb4c6a1958d",
   "metadata": {
    "tags": []
   },
   "outputs": [
    {
     "data": {
      "text/html": [
       "<div>\n",
       "<style scoped>\n",
       "    .dataframe tbody tr th:only-of-type {\n",
       "        vertical-align: middle;\n",
       "    }\n",
       "\n",
       "    .dataframe tbody tr th {\n",
       "        vertical-align: top;\n",
       "    }\n",
       "\n",
       "    .dataframe thead th {\n",
       "        text-align: right;\n",
       "    }\n",
       "</style>\n",
       "<table border=\"1\" class=\"dataframe\">\n",
       "  <thead>\n",
       "    <tr style=\"text-align: right;\">\n",
       "      <th></th>\n",
       "      <th>col1</th>\n",
       "      <th>col3</th>\n",
       "    </tr>\n",
       "  </thead>\n",
       "  <tbody>\n",
       "    <tr>\n",
       "      <th>0</th>\n",
       "      <td>1</td>\n",
       "      <td>e</td>\n",
       "    </tr>\n",
       "    <tr>\n",
       "      <th>1</th>\n",
       "      <td>2</td>\n",
       "      <td>e</td>\n",
       "    </tr>\n",
       "    <tr>\n",
       "      <th>2</th>\n",
       "      <td>3</td>\n",
       "      <td>e</td>\n",
       "    </tr>\n",
       "    <tr>\n",
       "      <th>3</th>\n",
       "      <td>4</td>\n",
       "      <td>e</td>\n",
       "    </tr>\n",
       "    <tr>\n",
       "      <th>4</th>\n",
       "      <td>5</td>\n",
       "      <td>e</td>\n",
       "    </tr>\n",
       "    <tr>\n",
       "      <th>5</th>\n",
       "      <td>6</td>\n",
       "      <td>e</td>\n",
       "    </tr>\n",
       "  </tbody>\n",
       "</table>\n",
       "</div>"
      ],
      "text/plain": [
       "   col1 col3\n",
       "0     1    e\n",
       "1     2    e\n",
       "2     3    e\n",
       "3     4    e\n",
       "4     5    e\n",
       "5     6    e"
      ]
     },
     "execution_count": 94,
     "metadata": {},
     "output_type": "execute_result"
    }
   ],
   "source": [
    "df1[['col1','col3']]"
   ]
  },
  {
   "cell_type": "code",
   "execution_count": 95,
   "id": "29f939e2-3fbb-4c56-9d9f-9b4864cd6f24",
   "metadata": {},
   "outputs": [
    {
     "data": {
      "text/html": [
       "<div>\n",
       "<style scoped>\n",
       "    .dataframe tbody tr th:only-of-type {\n",
       "        vertical-align: middle;\n",
       "    }\n",
       "\n",
       "    .dataframe tbody tr th {\n",
       "        vertical-align: top;\n",
       "    }\n",
       "\n",
       "    .dataframe thead th {\n",
       "        text-align: right;\n",
       "    }\n",
       "</style>\n",
       "<table border=\"1\" class=\"dataframe\">\n",
       "  <thead>\n",
       "    <tr style=\"text-align: right;\">\n",
       "      <th></th>\n",
       "      <th>col1</th>\n",
       "      <th>col2</th>\n",
       "    </tr>\n",
       "  </thead>\n",
       "  <tbody>\n",
       "    <tr>\n",
       "      <th>1</th>\n",
       "      <td>2</td>\n",
       "      <td>A</td>\n",
       "    </tr>\n",
       "    <tr>\n",
       "      <th>2</th>\n",
       "      <td>3</td>\n",
       "      <td>B</td>\n",
       "    </tr>\n",
       "  </tbody>\n",
       "</table>\n",
       "</div>"
      ],
      "text/plain": [
       "   col1 col2\n",
       "1     2    A\n",
       "2     3    B"
      ]
     },
     "execution_count": 95,
     "metadata": {},
     "output_type": "execute_result"
    }
   ],
   "source": [
    "df1.iloc[1:3,0:2]"
   ]
  },
  {
   "cell_type": "code",
   "execution_count": null,
   "id": "85f18bd2-56b4-4bf8-afba-dd536e026287",
   "metadata": {},
   "outputs": [],
   "source": [
    "# 판다스에서 인덱싱 하는방법 2가지  loc(이름인덱스) ,iloc(정수인덱스)\n",
    "# 연속된걸 뽑을땐 클론(:),슬라이싱\n",
    "#"
   ]
  },
  {
   "cell_type": "markdown",
   "id": "59ce18d9",
   "metadata": {},
   "source": [
    "## 6월 29일\n",
    "- 컬럼하고 인덱스를 바꾸기"
   ]
  },
  {
   "cell_type": "code",
   "execution_count": 6,
   "id": "1fac456e",
   "metadata": {},
   "outputs": [
    {
     "data": {
      "text/html": [
       "<div>\n",
       "<style scoped>\n",
       "    .dataframe tbody tr th:only-of-type {\n",
       "        vertical-align: middle;\n",
       "    }\n",
       "\n",
       "    .dataframe tbody tr th {\n",
       "        vertical-align: top;\n",
       "    }\n",
       "\n",
       "    .dataframe thead th {\n",
       "        text-align: right;\n",
       "    }\n",
       "</style>\n",
       "<table border=\"1\" class=\"dataframe\">\n",
       "  <thead>\n",
       "    <tr style=\"text-align: right;\">\n",
       "      <th></th>\n",
       "      <th>a</th>\n",
       "      <th>b</th>\n",
       "      <th>c</th>\n",
       "      <th>d</th>\n",
       "      <th>e</th>\n",
       "    </tr>\n",
       "  </thead>\n",
       "  <tbody>\n",
       "    <tr>\n",
       "      <th>0</th>\n",
       "      <td>90</td>\n",
       "      <td>65</td>\n",
       "      <td>95</td>\n",
       "      <td>58</td>\n",
       "      <td>72</td>\n",
       "    </tr>\n",
       "    <tr>\n",
       "      <th>1</th>\n",
       "      <td>93</td>\n",
       "      <td>68</td>\n",
       "      <td>61</td>\n",
       "      <td>90</td>\n",
       "      <td>57</td>\n",
       "    </tr>\n",
       "    <tr>\n",
       "      <th>2</th>\n",
       "      <td>84</td>\n",
       "      <td>99</td>\n",
       "      <td>81</td>\n",
       "      <td>61</td>\n",
       "      <td>71</td>\n",
       "    </tr>\n",
       "  </tbody>\n",
       "</table>\n",
       "</div>"
      ],
      "text/plain": [
       "    a   b   c   d   e\n",
       "0  90  65  95  58  72\n",
       "1  93  68  61  90  57\n",
       "2  84  99  81  61  71"
      ]
     },
     "execution_count": 6,
     "metadata": {},
     "output_type": "execute_result"
    }
   ],
   "source": [
    "import numpy as np\n",
    "import pandas as pd\n",
    "np.random.seed(2)\n",
    "data = np.random.randint(50,100,size=(3,5))\n",
    "df_e = pd.DataFrame(data,columns=list(\"abcde\"))\n",
    "df_e"
   ]
  },
  {
   "cell_type": "code",
   "execution_count": 19,
   "id": "594608f2",
   "metadata": {},
   "outputs": [],
   "source": [
    "df1= df_e.copy()"
   ]
  },
  {
   "cell_type": "code",
   "execution_count": 20,
   "id": "6eabec09",
   "metadata": {},
   "outputs": [
    {
     "data": {
      "text/html": [
       "<div>\n",
       "<style scoped>\n",
       "    .dataframe tbody tr th:only-of-type {\n",
       "        vertical-align: middle;\n",
       "    }\n",
       "\n",
       "    .dataframe tbody tr th {\n",
       "        vertical-align: top;\n",
       "    }\n",
       "\n",
       "    .dataframe thead th {\n",
       "        text-align: right;\n",
       "    }\n",
       "</style>\n",
       "<table border=\"1\" class=\"dataframe\">\n",
       "  <thead>\n",
       "    <tr style=\"text-align: right;\">\n",
       "      <th></th>\n",
       "      <th>국어</th>\n",
       "      <th>영어</th>\n",
       "      <th>수학</th>\n",
       "      <th>과학</th>\n",
       "      <th>음악</th>\n",
       "    </tr>\n",
       "  </thead>\n",
       "  <tbody>\n",
       "    <tr>\n",
       "      <th>이상윤</th>\n",
       "      <td>90</td>\n",
       "      <td>65</td>\n",
       "      <td>95</td>\n",
       "      <td>58</td>\n",
       "      <td>72</td>\n",
       "    </tr>\n",
       "    <tr>\n",
       "      <th>강유한</th>\n",
       "      <td>93</td>\n",
       "      <td>68</td>\n",
       "      <td>61</td>\n",
       "      <td>90</td>\n",
       "      <td>57</td>\n",
       "    </tr>\n",
       "    <tr>\n",
       "      <th>조승현</th>\n",
       "      <td>84</td>\n",
       "      <td>99</td>\n",
       "      <td>81</td>\n",
       "      <td>61</td>\n",
       "      <td>71</td>\n",
       "    </tr>\n",
       "  </tbody>\n",
       "</table>\n",
       "</div>"
      ],
      "text/plain": [
       "     국어  영어  수학  과학  음악\n",
       "이상윤  90  65  95  58  72\n",
       "강유한  93  68  61  90  57\n",
       "조승현  84  99  81  61  71"
      ]
     },
     "execution_count": 20,
     "metadata": {},
     "output_type": "execute_result"
    }
   ],
   "source": [
    "df1.rename(columns={\"a\":\"국어\",\"b\":\"영어\",\"c\":\"수학\",\"d\":\"과학\",\"e\":\"음악\"},\n",
    "            index={0:\"이상윤\",1:\"강유한\",2:\"조승현\"},inplace=True)\n",
    "df1"
   ]
  },
  {
   "cell_type": "code",
   "execution_count": 56,
   "id": "6cf0451e",
   "metadata": {},
   "outputs": [
    {
     "data": {
      "text/html": [
       "<div>\n",
       "<style scoped>\n",
       "    .dataframe tbody tr th:only-of-type {\n",
       "        vertical-align: middle;\n",
       "    }\n",
       "\n",
       "    .dataframe tbody tr th {\n",
       "        vertical-align: top;\n",
       "    }\n",
       "\n",
       "    .dataframe thead th {\n",
       "        text-align: right;\n",
       "    }\n",
       "</style>\n",
       "<table border=\"1\" class=\"dataframe\">\n",
       "  <thead>\n",
       "    <tr style=\"text-align: right;\">\n",
       "      <th></th>\n",
       "      <th>a</th>\n",
       "      <th>b</th>\n",
       "      <th>c</th>\n",
       "      <th>d</th>\n",
       "      <th>e</th>\n",
       "    </tr>\n",
       "  </thead>\n",
       "  <tbody>\n",
       "    <tr>\n",
       "      <th>0</th>\n",
       "      <td>85</td>\n",
       "      <td>64</td>\n",
       "      <td>97</td>\n",
       "      <td>88</td>\n",
       "      <td>66</td>\n",
       "    </tr>\n",
       "    <tr>\n",
       "      <th>1</th>\n",
       "      <td>59</td>\n",
       "      <td>58</td>\n",
       "      <td>86</td>\n",
       "      <td>89</td>\n",
       "      <td>77</td>\n",
       "    </tr>\n",
       "    <tr>\n",
       "      <th>2</th>\n",
       "      <td>98</td>\n",
       "      <td>80</td>\n",
       "      <td>66</td>\n",
       "      <td>57</td>\n",
       "      <td>62</td>\n",
       "    </tr>\n",
       "    <tr>\n",
       "      <th>3</th>\n",
       "      <td>65</td>\n",
       "      <td>99</td>\n",
       "      <td>89</td>\n",
       "      <td>66</td>\n",
       "      <td>77</td>\n",
       "    </tr>\n",
       "    <tr>\n",
       "      <th>4</th>\n",
       "      <td>94</td>\n",
       "      <td>63</td>\n",
       "      <td>61</td>\n",
       "      <td>51</td>\n",
       "      <td>97</td>\n",
       "    </tr>\n",
       "    <tr>\n",
       "      <th>5</th>\n",
       "      <td>80</td>\n",
       "      <td>70</td>\n",
       "      <td>72</td>\n",
       "      <td>68</td>\n",
       "      <td>59</td>\n",
       "    </tr>\n",
       "    <tr>\n",
       "      <th>6</th>\n",
       "      <td>92</td>\n",
       "      <td>91</td>\n",
       "      <td>91</td>\n",
       "      <td>51</td>\n",
       "      <td>68</td>\n",
       "    </tr>\n",
       "    <tr>\n",
       "      <th>7</th>\n",
       "      <td>89</td>\n",
       "      <td>66</td>\n",
       "      <td>64</td>\n",
       "      <td>55</td>\n",
       "      <td>50</td>\n",
       "    </tr>\n",
       "  </tbody>\n",
       "</table>\n",
       "</div>"
      ],
      "text/plain": [
       "    a   b   c   d   e\n",
       "0  85  64  97  88  66\n",
       "1  59  58  86  89  77\n",
       "2  98  80  66  57  62\n",
       "3  65  99  89  66  77\n",
       "4  94  63  61  51  97\n",
       "5  80  70  72  68  59\n",
       "6  92  91  91  51  68\n",
       "7  89  66  64  55  50"
      ]
     },
     "execution_count": 56,
     "metadata": {},
     "output_type": "execute_result"
    }
   ],
   "source": [
    "# 8행 5열 데이터프레임 생성\n",
    "np.random.seed(5)\n",
    "data = np.random.randint(50,100,size=(8,5))\n",
    "df = pd.DataFrame(data,columns=list('abcde'))\n",
    "df"
   ]
  },
  {
   "cell_type": "code",
   "execution_count": 54,
   "id": "d877790f",
   "metadata": {},
   "outputs": [
    {
     "data": {
      "text/html": [
       "<div>\n",
       "<style scoped>\n",
       "    .dataframe tbody tr th:only-of-type {\n",
       "        vertical-align: middle;\n",
       "    }\n",
       "\n",
       "    .dataframe tbody tr th {\n",
       "        vertical-align: top;\n",
       "    }\n",
       "\n",
       "    .dataframe thead th {\n",
       "        text-align: right;\n",
       "    }\n",
       "</style>\n",
       "<table border=\"1\" class=\"dataframe\">\n",
       "  <thead>\n",
       "    <tr style=\"text-align: right;\">\n",
       "      <th></th>\n",
       "      <th>아반떼</th>\n",
       "      <th>소나타</th>\n",
       "      <th>k5</th>\n",
       "      <th>그랜저</th>\n",
       "      <th>투싼</th>\n",
       "    </tr>\n",
       "  </thead>\n",
       "  <tbody>\n",
       "    <tr>\n",
       "      <th>10</th>\n",
       "      <td>85</td>\n",
       "      <td>64</td>\n",
       "      <td>97</td>\n",
       "      <td>88</td>\n",
       "      <td>66</td>\n",
       "    </tr>\n",
       "    <tr>\n",
       "      <th>20</th>\n",
       "      <td>59</td>\n",
       "      <td>58</td>\n",
       "      <td>86</td>\n",
       "      <td>89</td>\n",
       "      <td>77</td>\n",
       "    </tr>\n",
       "    <tr>\n",
       "      <th>30</th>\n",
       "      <td>98</td>\n",
       "      <td>80</td>\n",
       "      <td>66</td>\n",
       "      <td>57</td>\n",
       "      <td>62</td>\n",
       "    </tr>\n",
       "    <tr>\n",
       "      <th>40</th>\n",
       "      <td>65</td>\n",
       "      <td>99</td>\n",
       "      <td>89</td>\n",
       "      <td>66</td>\n",
       "      <td>77</td>\n",
       "    </tr>\n",
       "    <tr>\n",
       "      <th>50</th>\n",
       "      <td>94</td>\n",
       "      <td>63</td>\n",
       "      <td>61</td>\n",
       "      <td>51</td>\n",
       "      <td>97</td>\n",
       "    </tr>\n",
       "    <tr>\n",
       "      <th>60</th>\n",
       "      <td>80</td>\n",
       "      <td>70</td>\n",
       "      <td>72</td>\n",
       "      <td>68</td>\n",
       "      <td>59</td>\n",
       "    </tr>\n",
       "    <tr>\n",
       "      <th>70</th>\n",
       "      <td>92</td>\n",
       "      <td>91</td>\n",
       "      <td>91</td>\n",
       "      <td>51</td>\n",
       "      <td>68</td>\n",
       "    </tr>\n",
       "    <tr>\n",
       "      <th>80</th>\n",
       "      <td>89</td>\n",
       "      <td>66</td>\n",
       "      <td>64</td>\n",
       "      <td>55</td>\n",
       "      <td>50</td>\n",
       "    </tr>\n",
       "  </tbody>\n",
       "</table>\n",
       "</div>"
      ],
      "text/plain": [
       "    아반떼  소나타  k5  그랜저  투싼\n",
       "10   85   64  97   88  66\n",
       "20   59   58  86   89  77\n",
       "30   98   80  66   57  62\n",
       "40   65   99  89   66  77\n",
       "50   94   63  61   51  97\n",
       "60   80   70  72   68  59\n",
       "70   92   91  91   51  68\n",
       "80   89   66  64   55  50"
      ]
     },
     "execution_count": 54,
     "metadata": {},
     "output_type": "execute_result"
    }
   ],
   "source": [
    "# Q. 열이름과 행이름 변경\n",
    "df.rename(columns={'a':'아반떼','b':'소나타','c':'k5','d':'그랜저','e':'투싼'},\n",
    "         index={0:10,1:20,2:30,3:40,4:50,5:60,6:70,7:80},inplace=True)\n",
    "df"
   ]
  },
  {
   "cell_type": "code",
   "execution_count": 37,
   "id": "96f53c6d",
   "metadata": {},
   "outputs": [
    {
     "data": {
      "text/html": [
       "<div>\n",
       "<style scoped>\n",
       "    .dataframe tbody tr th:only-of-type {\n",
       "        vertical-align: middle;\n",
       "    }\n",
       "\n",
       "    .dataframe tbody tr th {\n",
       "        vertical-align: top;\n",
       "    }\n",
       "\n",
       "    .dataframe thead th {\n",
       "        text-align: right;\n",
       "    }\n",
       "</style>\n",
       "<table border=\"1\" class=\"dataframe\">\n",
       "  <thead>\n",
       "    <tr style=\"text-align: right;\">\n",
       "      <th></th>\n",
       "      <th>아반떼</th>\n",
       "      <th>소나타</th>\n",
       "      <th>k5</th>\n",
       "      <th>그랜저</th>\n",
       "      <th>투싼</th>\n",
       "    </tr>\n",
       "  </thead>\n",
       "  <tbody>\n",
       "    <tr>\n",
       "      <th>40</th>\n",
       "      <td>65</td>\n",
       "      <td>99</td>\n",
       "      <td>89</td>\n",
       "      <td>66</td>\n",
       "      <td>77</td>\n",
       "    </tr>\n",
       "  </tbody>\n",
       "</table>\n",
       "</div>"
      ],
      "text/plain": [
       "    아반떼  소나타  k5  그랜저  투싼\n",
       "40   65   99  89   66  77"
      ]
     },
     "execution_count": 37,
     "metadata": {},
     "output_type": "execute_result"
    }
   ],
   "source": [
    "# Q. 3행만 출력\n",
    "df.iloc[40]\n",
    "df[3:4]"
   ]
  },
  {
   "cell_type": "code",
   "execution_count": 39,
   "id": "cde4fa70",
   "metadata": {},
   "outputs": [
    {
     "data": {
      "text/plain": [
       "아반떼    98\n",
       "소나타    80\n",
       "k5     66\n",
       "그랜저    57\n",
       "투싼     62\n",
       "Name: 30, dtype: int32"
      ]
     },
     "execution_count": 39,
     "metadata": {},
     "output_type": "execute_result"
    }
   ],
   "source": [
    "df.iloc[2]"
   ]
  },
  {
   "cell_type": "code",
   "execution_count": 41,
   "id": "e5907b90",
   "metadata": {},
   "outputs": [
    {
     "data": {
      "text/plain": [
       "62"
      ]
     },
     "execution_count": 41,
     "metadata": {},
     "output_type": "execute_result"
    }
   ],
   "source": [
    "# Q.3행 5열의 값 출력\n",
    "df.iloc[2:3,4:5]\n",
    "df.iloc[2,4]"
   ]
  },
  {
   "cell_type": "code",
   "execution_count": 44,
   "id": "05857553",
   "metadata": {},
   "outputs": [
    {
     "data": {
      "text/html": [
       "<div>\n",
       "<style scoped>\n",
       "    .dataframe tbody tr th:only-of-type {\n",
       "        vertical-align: middle;\n",
       "    }\n",
       "\n",
       "    .dataframe tbody tr th {\n",
       "        vertical-align: top;\n",
       "    }\n",
       "\n",
       "    .dataframe thead th {\n",
       "        text-align: right;\n",
       "    }\n",
       "</style>\n",
       "<table border=\"1\" class=\"dataframe\">\n",
       "  <thead>\n",
       "    <tr style=\"text-align: right;\">\n",
       "      <th></th>\n",
       "      <th>아반떼</th>\n",
       "      <th>소나타</th>\n",
       "      <th>k5</th>\n",
       "      <th>그랜저</th>\n",
       "      <th>투싼</th>\n",
       "    </tr>\n",
       "  </thead>\n",
       "  <tbody>\n",
       "    <tr>\n",
       "      <th>10</th>\n",
       "      <td>85</td>\n",
       "      <td>64</td>\n",
       "      <td>97</td>\n",
       "      <td>0</td>\n",
       "      <td>66</td>\n",
       "    </tr>\n",
       "    <tr>\n",
       "      <th>20</th>\n",
       "      <td>59</td>\n",
       "      <td>58</td>\n",
       "      <td>86</td>\n",
       "      <td>0</td>\n",
       "      <td>77</td>\n",
       "    </tr>\n",
       "    <tr>\n",
       "      <th>30</th>\n",
       "      <td>98</td>\n",
       "      <td>80</td>\n",
       "      <td>66</td>\n",
       "      <td>0</td>\n",
       "      <td>62</td>\n",
       "    </tr>\n",
       "    <tr>\n",
       "      <th>40</th>\n",
       "      <td>65</td>\n",
       "      <td>99</td>\n",
       "      <td>89</td>\n",
       "      <td>0</td>\n",
       "      <td>77</td>\n",
       "    </tr>\n",
       "    <tr>\n",
       "      <th>50</th>\n",
       "      <td>94</td>\n",
       "      <td>63</td>\n",
       "      <td>61</td>\n",
       "      <td>0</td>\n",
       "      <td>97</td>\n",
       "    </tr>\n",
       "    <tr>\n",
       "      <th>60</th>\n",
       "      <td>80</td>\n",
       "      <td>70</td>\n",
       "      <td>72</td>\n",
       "      <td>0</td>\n",
       "      <td>59</td>\n",
       "    </tr>\n",
       "    <tr>\n",
       "      <th>70</th>\n",
       "      <td>92</td>\n",
       "      <td>91</td>\n",
       "      <td>91</td>\n",
       "      <td>0</td>\n",
       "      <td>68</td>\n",
       "    </tr>\n",
       "    <tr>\n",
       "      <th>80</th>\n",
       "      <td>89</td>\n",
       "      <td>66</td>\n",
       "      <td>64</td>\n",
       "      <td>0</td>\n",
       "      <td>50</td>\n",
       "    </tr>\n",
       "  </tbody>\n",
       "</table>\n",
       "</div>"
      ],
      "text/plain": [
       "    아반떼  소나타  k5  그랜저  투싼\n",
       "10   85   64  97    0  66\n",
       "20   59   58  86    0  77\n",
       "30   98   80  66    0  62\n",
       "40   65   99  89    0  77\n",
       "50   94   63  61    0  97\n",
       "60   80   70  72    0  59\n",
       "70   92   91  91    0  68\n",
       "80   89   66  64    0  50"
      ]
     },
     "execution_count": 44,
     "metadata": {},
     "output_type": "execute_result"
    }
   ],
   "source": [
    "# Q. 4열의 값을 모두 0으로 변경\n",
    "df.iloc[:,3]=0\n",
    "df"
   ]
  },
  {
   "cell_type": "code",
   "execution_count": 47,
   "id": "9d4f8857",
   "metadata": {},
   "outputs": [
    {
     "data": {
      "text/plain": [
       "소나타    70\n",
       "k5     72\n",
       "그랜저     0\n",
       "Name: 60, dtype: int64"
      ]
     },
     "execution_count": 47,
     "metadata": {},
     "output_type": "execute_result"
    }
   ],
   "source": [
    "# Q. 6행의 2,3,4,열의 값을 조회\n",
    "df.iloc[5,1:4]"
   ]
  },
  {
   "cell_type": "code",
   "execution_count": 50,
   "id": "52c0d6e1",
   "metadata": {},
   "outputs": [
    {
     "data": {
      "text/html": [
       "<div>\n",
       "<style scoped>\n",
       "    .dataframe tbody tr th:only-of-type {\n",
       "        vertical-align: middle;\n",
       "    }\n",
       "\n",
       "    .dataframe tbody tr th {\n",
       "        vertical-align: top;\n",
       "    }\n",
       "\n",
       "    .dataframe thead th {\n",
       "        text-align: right;\n",
       "    }\n",
       "</style>\n",
       "<table border=\"1\" class=\"dataframe\">\n",
       "  <thead>\n",
       "    <tr style=\"text-align: right;\">\n",
       "      <th></th>\n",
       "      <th>소나타</th>\n",
       "    </tr>\n",
       "  </thead>\n",
       "  <tbody>\n",
       "    <tr>\n",
       "      <th>10</th>\n",
       "      <td>64</td>\n",
       "    </tr>\n",
       "    <tr>\n",
       "      <th>20</th>\n",
       "      <td>58</td>\n",
       "    </tr>\n",
       "    <tr>\n",
       "      <th>30</th>\n",
       "      <td>80</td>\n",
       "    </tr>\n",
       "    <tr>\n",
       "      <th>40</th>\n",
       "      <td>99</td>\n",
       "    </tr>\n",
       "    <tr>\n",
       "      <th>50</th>\n",
       "      <td>63</td>\n",
       "    </tr>\n",
       "    <tr>\n",
       "      <th>60</th>\n",
       "      <td>70</td>\n",
       "    </tr>\n",
       "    <tr>\n",
       "      <th>70</th>\n",
       "      <td>91</td>\n",
       "    </tr>\n",
       "    <tr>\n",
       "      <th>80</th>\n",
       "      <td>66</td>\n",
       "    </tr>\n",
       "  </tbody>\n",
       "</table>\n",
       "</div>"
      ],
      "text/plain": [
       "    소나타\n",
       "10   64\n",
       "20   58\n",
       "30   80\n",
       "40   99\n",
       "50   63\n",
       "60   70\n",
       "70   91\n",
       "80   66"
      ]
     },
     "execution_count": 50,
     "metadata": {},
     "output_type": "execute_result"
    }
   ],
   "source": [
    "# Q. 2열을 Series와 DataFrame으로 각각 출력\n",
    "#df.iloc[:,1]\n",
    "#df.iloc[:,[1]]"
   ]
  },
  {
   "cell_type": "code",
   "execution_count": 51,
   "id": "6291e7c0",
   "metadata": {},
   "outputs": [
    {
     "data": {
      "text/html": [
       "<div>\n",
       "<style scoped>\n",
       "    .dataframe tbody tr th:only-of-type {\n",
       "        vertical-align: middle;\n",
       "    }\n",
       "\n",
       "    .dataframe tbody tr th {\n",
       "        vertical-align: top;\n",
       "    }\n",
       "\n",
       "    .dataframe thead th {\n",
       "        text-align: right;\n",
       "    }\n",
       "</style>\n",
       "<table border=\"1\" class=\"dataframe\">\n",
       "  <thead>\n",
       "    <tr style=\"text-align: right;\">\n",
       "      <th></th>\n",
       "      <th>아반떼</th>\n",
       "      <th>소나타</th>\n",
       "      <th>k5</th>\n",
       "      <th>그랜저</th>\n",
       "      <th>투싼</th>\n",
       "    </tr>\n",
       "  </thead>\n",
       "  <tbody>\n",
       "    <tr>\n",
       "      <th>10</th>\n",
       "      <td>85</td>\n",
       "      <td>64</td>\n",
       "      <td>97</td>\n",
       "      <td>0</td>\n",
       "      <td>66</td>\n",
       "    </tr>\n",
       "    <tr>\n",
       "      <th>20</th>\n",
       "      <td>59</td>\n",
       "      <td>58</td>\n",
       "      <td>0</td>\n",
       "      <td>0</td>\n",
       "      <td>77</td>\n",
       "    </tr>\n",
       "    <tr>\n",
       "      <th>30</th>\n",
       "      <td>98</td>\n",
       "      <td>80</td>\n",
       "      <td>66</td>\n",
       "      <td>0</td>\n",
       "      <td>62</td>\n",
       "    </tr>\n",
       "    <tr>\n",
       "      <th>40</th>\n",
       "      <td>65</td>\n",
       "      <td>99</td>\n",
       "      <td>89</td>\n",
       "      <td>0</td>\n",
       "      <td>77</td>\n",
       "    </tr>\n",
       "    <tr>\n",
       "      <th>50</th>\n",
       "      <td>94</td>\n",
       "      <td>63</td>\n",
       "      <td>61</td>\n",
       "      <td>0</td>\n",
       "      <td>97</td>\n",
       "    </tr>\n",
       "    <tr>\n",
       "      <th>60</th>\n",
       "      <td>80</td>\n",
       "      <td>70</td>\n",
       "      <td>72</td>\n",
       "      <td>0</td>\n",
       "      <td>59</td>\n",
       "    </tr>\n",
       "    <tr>\n",
       "      <th>70</th>\n",
       "      <td>92</td>\n",
       "      <td>91</td>\n",
       "      <td>91</td>\n",
       "      <td>0</td>\n",
       "      <td>68</td>\n",
       "    </tr>\n",
       "    <tr>\n",
       "      <th>80</th>\n",
       "      <td>89</td>\n",
       "      <td>66</td>\n",
       "      <td>64</td>\n",
       "      <td>0</td>\n",
       "      <td>50</td>\n",
       "    </tr>\n",
       "  </tbody>\n",
       "</table>\n",
       "</div>"
      ],
      "text/plain": [
       "    아반떼  소나타  k5  그랜저  투싼\n",
       "10   85   64  97    0  66\n",
       "20   59   58   0    0  77\n",
       "30   98   80  66    0  62\n",
       "40   65   99  89    0  77\n",
       "50   94   63  61    0  97\n",
       "60   80   70  72    0  59\n",
       "70   92   91  91    0  68\n",
       "80   89   66  64    0  50"
      ]
     },
     "execution_count": 51,
     "metadata": {},
     "output_type": "execute_result"
    }
   ],
   "source": [
    "# Q. 2행 3열의 값을 2행 4열의 값과 동일하게 변경\n",
    "df.iloc[1,2]=df.iloc[1,3]\n",
    "df"
   ]
  },
  {
   "cell_type": "code",
   "execution_count": 57,
   "id": "9d289d6f",
   "metadata": {},
   "outputs": [
    {
     "data": {
      "text/html": [
       "<div>\n",
       "<style scoped>\n",
       "    .dataframe tbody tr th:only-of-type {\n",
       "        vertical-align: middle;\n",
       "    }\n",
       "\n",
       "    .dataframe tbody tr th {\n",
       "        vertical-align: top;\n",
       "    }\n",
       "\n",
       "    .dataframe thead th {\n",
       "        text-align: right;\n",
       "    }\n",
       "</style>\n",
       "<table border=\"1\" class=\"dataframe\">\n",
       "  <thead>\n",
       "    <tr style=\"text-align: right;\">\n",
       "      <th></th>\n",
       "      <th>a</th>\n",
       "      <th>b</th>\n",
       "      <th>c</th>\n",
       "      <th>d</th>\n",
       "      <th>e</th>\n",
       "    </tr>\n",
       "  </thead>\n",
       "  <tbody>\n",
       "    <tr>\n",
       "      <th>0</th>\n",
       "      <td>85</td>\n",
       "      <td>64</td>\n",
       "      <td>97</td>\n",
       "      <td>88</td>\n",
       "      <td>66</td>\n",
       "    </tr>\n",
       "    <tr>\n",
       "      <th>1</th>\n",
       "      <td>59</td>\n",
       "      <td>58</td>\n",
       "      <td>86</td>\n",
       "      <td>89</td>\n",
       "      <td>77</td>\n",
       "    </tr>\n",
       "    <tr>\n",
       "      <th>2</th>\n",
       "      <td>98</td>\n",
       "      <td>80</td>\n",
       "      <td>66</td>\n",
       "      <td>57</td>\n",
       "      <td>62</td>\n",
       "    </tr>\n",
       "    <tr>\n",
       "      <th>3</th>\n",
       "      <td>65</td>\n",
       "      <td>99</td>\n",
       "      <td>89</td>\n",
       "      <td>66</td>\n",
       "      <td>77</td>\n",
       "    </tr>\n",
       "    <tr>\n",
       "      <th>4</th>\n",
       "      <td>94</td>\n",
       "      <td>63</td>\n",
       "      <td>61</td>\n",
       "      <td>51</td>\n",
       "      <td>97</td>\n",
       "    </tr>\n",
       "    <tr>\n",
       "      <th>5</th>\n",
       "      <td>80</td>\n",
       "      <td>70</td>\n",
       "      <td>72</td>\n",
       "      <td>68</td>\n",
       "      <td>59</td>\n",
       "    </tr>\n",
       "    <tr>\n",
       "      <th>6</th>\n",
       "      <td>92</td>\n",
       "      <td>91</td>\n",
       "      <td>91</td>\n",
       "      <td>51</td>\n",
       "      <td>68</td>\n",
       "    </tr>\n",
       "    <tr>\n",
       "      <th>7</th>\n",
       "      <td>89</td>\n",
       "      <td>66</td>\n",
       "      <td>64</td>\n",
       "      <td>55</td>\n",
       "      <td>50</td>\n",
       "    </tr>\n",
       "  </tbody>\n",
       "</table>\n",
       "</div>"
      ],
      "text/plain": [
       "    a   b   c   d   e\n",
       "0  85  64  97  88  66\n",
       "1  59  58  86  89  77\n",
       "2  98  80  66  57  62\n",
       "3  65  99  89  66  77\n",
       "4  94  63  61  51  97\n",
       "5  80  70  72  68  59\n",
       "6  92  91  91  51  68\n",
       "7  89  66  64  55  50"
      ]
     },
     "execution_count": 57,
     "metadata": {},
     "output_type": "execute_result"
    }
   ],
   "source": [
    "df_s=df.copy()\n",
    "df_s"
   ]
  },
  {
   "cell_type": "code",
   "execution_count": 58,
   "id": "d1366228",
   "metadata": {},
   "outputs": [
    {
     "data": {
      "text/html": [
       "<div>\n",
       "<style scoped>\n",
       "    .dataframe tbody tr th:only-of-type {\n",
       "        vertical-align: middle;\n",
       "    }\n",
       "\n",
       "    .dataframe tbody tr th {\n",
       "        vertical-align: top;\n",
       "    }\n",
       "\n",
       "    .dataframe thead th {\n",
       "        text-align: right;\n",
       "    }\n",
       "</style>\n",
       "<table border=\"1\" class=\"dataframe\">\n",
       "  <thead>\n",
       "    <tr style=\"text-align: right;\">\n",
       "      <th></th>\n",
       "      <th>a</th>\n",
       "      <th>b</th>\n",
       "      <th>c</th>\n",
       "      <th>d</th>\n",
       "      <th>e</th>\n",
       "    </tr>\n",
       "  </thead>\n",
       "  <tbody>\n",
       "    <tr>\n",
       "      <th>r0</th>\n",
       "      <td>85</td>\n",
       "      <td>64</td>\n",
       "      <td>97</td>\n",
       "      <td>88</td>\n",
       "      <td>66</td>\n",
       "    </tr>\n",
       "    <tr>\n",
       "      <th>r1</th>\n",
       "      <td>59</td>\n",
       "      <td>58</td>\n",
       "      <td>86</td>\n",
       "      <td>89</td>\n",
       "      <td>77</td>\n",
       "    </tr>\n",
       "    <tr>\n",
       "      <th>r2</th>\n",
       "      <td>98</td>\n",
       "      <td>80</td>\n",
       "      <td>66</td>\n",
       "      <td>57</td>\n",
       "      <td>62</td>\n",
       "    </tr>\n",
       "    <tr>\n",
       "      <th>r3</th>\n",
       "      <td>65</td>\n",
       "      <td>99</td>\n",
       "      <td>89</td>\n",
       "      <td>66</td>\n",
       "      <td>77</td>\n",
       "    </tr>\n",
       "    <tr>\n",
       "      <th>r4</th>\n",
       "      <td>94</td>\n",
       "      <td>63</td>\n",
       "      <td>61</td>\n",
       "      <td>51</td>\n",
       "      <td>97</td>\n",
       "    </tr>\n",
       "    <tr>\n",
       "      <th>r5</th>\n",
       "      <td>80</td>\n",
       "      <td>70</td>\n",
       "      <td>72</td>\n",
       "      <td>68</td>\n",
       "      <td>59</td>\n",
       "    </tr>\n",
       "    <tr>\n",
       "      <th>r6</th>\n",
       "      <td>92</td>\n",
       "      <td>91</td>\n",
       "      <td>91</td>\n",
       "      <td>51</td>\n",
       "      <td>68</td>\n",
       "    </tr>\n",
       "    <tr>\n",
       "      <th>r7</th>\n",
       "      <td>89</td>\n",
       "      <td>66</td>\n",
       "      <td>64</td>\n",
       "      <td>55</td>\n",
       "      <td>50</td>\n",
       "    </tr>\n",
       "  </tbody>\n",
       "</table>\n",
       "</div>"
      ],
      "text/plain": [
       "     a   b   c   d   e\n",
       "r0  85  64  97  88  66\n",
       "r1  59  58  86  89  77\n",
       "r2  98  80  66  57  62\n",
       "r3  65  99  89  66  77\n",
       "r4  94  63  61  51  97\n",
       "r5  80  70  72  68  59\n",
       "r6  92  91  91  51  68\n",
       "r7  89  66  64  55  50"
      ]
     },
     "execution_count": 58,
     "metadata": {},
     "output_type": "execute_result"
    }
   ],
   "source": [
    "df_s.rename(index={0:'r0',1:'r1',2:'r2',3:'r3',4:'r4',5:'r5',6:'r6',7:'r7'},inplace=True)\n",
    "df_s"
   ]
  },
  {
   "cell_type": "code",
   "execution_count": 63,
   "id": "101b4d77",
   "metadata": {},
   "outputs": [
    {
     "data": {
      "text/html": [
       "<div>\n",
       "<style scoped>\n",
       "    .dataframe tbody tr th:only-of-type {\n",
       "        vertical-align: middle;\n",
       "    }\n",
       "\n",
       "    .dataframe tbody tr th {\n",
       "        vertical-align: top;\n",
       "    }\n",
       "\n",
       "    .dataframe thead th {\n",
       "        text-align: right;\n",
       "    }\n",
       "</style>\n",
       "<table border=\"1\" class=\"dataframe\">\n",
       "  <thead>\n",
       "    <tr style=\"text-align: right;\">\n",
       "      <th></th>\n",
       "      <th>a</th>\n",
       "      <th>b</th>\n",
       "      <th>c</th>\n",
       "      <th>d</th>\n",
       "      <th>e</th>\n",
       "    </tr>\n",
       "  </thead>\n",
       "  <tbody>\n",
       "    <tr>\n",
       "      <th>r0</th>\n",
       "      <td>85</td>\n",
       "      <td>64</td>\n",
       "      <td>97</td>\n",
       "      <td>88</td>\n",
       "      <td>66</td>\n",
       "    </tr>\n",
       "    <tr>\n",
       "      <th>r1</th>\n",
       "      <td>59</td>\n",
       "      <td>58</td>\n",
       "      <td>86</td>\n",
       "      <td>89</td>\n",
       "      <td>77</td>\n",
       "    </tr>\n",
       "    <tr>\n",
       "      <th>r2</th>\n",
       "      <td>98</td>\n",
       "      <td>80</td>\n",
       "      <td>66</td>\n",
       "      <td>57</td>\n",
       "      <td>62</td>\n",
       "    </tr>\n",
       "    <tr>\n",
       "      <th>r3</th>\n",
       "      <td>65</td>\n",
       "      <td>99</td>\n",
       "      <td>89</td>\n",
       "      <td>66</td>\n",
       "      <td>77</td>\n",
       "    </tr>\n",
       "    <tr>\n",
       "      <th>r4</th>\n",
       "      <td>94</td>\n",
       "      <td>63</td>\n",
       "      <td>61</td>\n",
       "      <td>51</td>\n",
       "      <td>97</td>\n",
       "    </tr>\n",
       "    <tr>\n",
       "      <th>r5</th>\n",
       "      <td>80</td>\n",
       "      <td>70</td>\n",
       "      <td>72</td>\n",
       "      <td>68</td>\n",
       "      <td>59</td>\n",
       "    </tr>\n",
       "    <tr>\n",
       "      <th>r6</th>\n",
       "      <td>92</td>\n",
       "      <td>91</td>\n",
       "      <td>91</td>\n",
       "      <td>51</td>\n",
       "      <td>68</td>\n",
       "    </tr>\n",
       "    <tr>\n",
       "      <th>r7</th>\n",
       "      <td>89</td>\n",
       "      <td>66</td>\n",
       "      <td>64</td>\n",
       "      <td>55</td>\n",
       "      <td>50</td>\n",
       "    </tr>\n",
       "  </tbody>\n",
       "</table>\n",
       "</div>"
      ],
      "text/plain": [
       "     a   b   c   d   e\n",
       "r0  85  64  97  88  66\n",
       "r1  59  58  86  89  77\n",
       "r2  98  80  66  57  62\n",
       "r3  65  99  89  66  77\n",
       "r4  94  63  61  51  97\n",
       "r5  80  70  72  68  59\n",
       "r6  92  91  91  51  68\n",
       "r7  89  66  64  55  50"
      ]
     },
     "execution_count": 63,
     "metadata": {},
     "output_type": "execute_result"
    }
   ],
   "source": [
    "# 내림차순\n",
    "#df1_s=df_s.sort_index(ascending=False)\n",
    "df1_s=df_s.sort_index(ascending=True) #오름차순\n",
    "df1_s"
   ]
  },
  {
   "cell_type": "code",
   "execution_count": 65,
   "id": "98ded9a8",
   "metadata": {},
   "outputs": [
    {
     "data": {
      "text/html": [
       "<div>\n",
       "<style scoped>\n",
       "    .dataframe tbody tr th:only-of-type {\n",
       "        vertical-align: middle;\n",
       "    }\n",
       "\n",
       "    .dataframe tbody tr th {\n",
       "        vertical-align: top;\n",
       "    }\n",
       "\n",
       "    .dataframe thead th {\n",
       "        text-align: right;\n",
       "    }\n",
       "</style>\n",
       "<table border=\"1\" class=\"dataframe\">\n",
       "  <thead>\n",
       "    <tr style=\"text-align: right;\">\n",
       "      <th></th>\n",
       "      <th>a</th>\n",
       "      <th>b</th>\n",
       "      <th>c</th>\n",
       "      <th>d</th>\n",
       "      <th>e</th>\n",
       "    </tr>\n",
       "  </thead>\n",
       "  <tbody>\n",
       "    <tr>\n",
       "      <th>r0</th>\n",
       "      <td>85</td>\n",
       "      <td>64</td>\n",
       "      <td>97</td>\n",
       "      <td>88</td>\n",
       "      <td>66</td>\n",
       "    </tr>\n",
       "    <tr>\n",
       "      <th>r6</th>\n",
       "      <td>92</td>\n",
       "      <td>91</td>\n",
       "      <td>91</td>\n",
       "      <td>51</td>\n",
       "      <td>68</td>\n",
       "    </tr>\n",
       "    <tr>\n",
       "      <th>r3</th>\n",
       "      <td>65</td>\n",
       "      <td>99</td>\n",
       "      <td>89</td>\n",
       "      <td>66</td>\n",
       "      <td>77</td>\n",
       "    </tr>\n",
       "    <tr>\n",
       "      <th>r1</th>\n",
       "      <td>59</td>\n",
       "      <td>58</td>\n",
       "      <td>86</td>\n",
       "      <td>89</td>\n",
       "      <td>77</td>\n",
       "    </tr>\n",
       "    <tr>\n",
       "      <th>r5</th>\n",
       "      <td>80</td>\n",
       "      <td>70</td>\n",
       "      <td>72</td>\n",
       "      <td>68</td>\n",
       "      <td>59</td>\n",
       "    </tr>\n",
       "    <tr>\n",
       "      <th>r2</th>\n",
       "      <td>98</td>\n",
       "      <td>80</td>\n",
       "      <td>66</td>\n",
       "      <td>57</td>\n",
       "      <td>62</td>\n",
       "    </tr>\n",
       "    <tr>\n",
       "      <th>r7</th>\n",
       "      <td>89</td>\n",
       "      <td>66</td>\n",
       "      <td>64</td>\n",
       "      <td>55</td>\n",
       "      <td>50</td>\n",
       "    </tr>\n",
       "    <tr>\n",
       "      <th>r4</th>\n",
       "      <td>94</td>\n",
       "      <td>63</td>\n",
       "      <td>61</td>\n",
       "      <td>51</td>\n",
       "      <td>97</td>\n",
       "    </tr>\n",
       "  </tbody>\n",
       "</table>\n",
       "</div>"
      ],
      "text/plain": [
       "     a   b   c   d   e\n",
       "r0  85  64  97  88  66\n",
       "r6  92  91  91  51  68\n",
       "r3  65  99  89  66  77\n",
       "r1  59  58  86  89  77\n",
       "r5  80  70  72  68  59\n",
       "r2  98  80  66  57  62\n",
       "r7  89  66  64  55  50\n",
       "r4  94  63  61  51  97"
      ]
     },
     "execution_count": 65,
     "metadata": {},
     "output_type": "execute_result"
    }
   ],
   "source": [
    "# 특정 열 기준으로 정렬\n",
    "df1_c = df1_s.sort_values(by='c',ascending=False)\n",
    "df1_c"
   ]
  },
  {
   "cell_type": "code",
   "execution_count": 70,
   "id": "d88753df",
   "metadata": {},
   "outputs": [
    {
     "data": {
      "text/html": [
       "<div>\n",
       "<style scoped>\n",
       "    .dataframe tbody tr th:only-of-type {\n",
       "        vertical-align: middle;\n",
       "    }\n",
       "\n",
       "    .dataframe tbody tr th {\n",
       "        vertical-align: top;\n",
       "    }\n",
       "\n",
       "    .dataframe thead th {\n",
       "        text-align: right;\n",
       "    }\n",
       "</style>\n",
       "<table border=\"1\" class=\"dataframe\">\n",
       "  <thead>\n",
       "    <tr style=\"text-align: right;\">\n",
       "      <th></th>\n",
       "      <th>a</th>\n",
       "      <th>b</th>\n",
       "      <th>c</th>\n",
       "      <th>d</th>\n",
       "      <th>e</th>\n",
       "    </tr>\n",
       "  </thead>\n",
       "  <tbody>\n",
       "    <tr>\n",
       "      <th>r0</th>\n",
       "      <td>85</td>\n",
       "      <td>64</td>\n",
       "      <td>97</td>\n",
       "      <td>88</td>\n",
       "      <td>66</td>\n",
       "    </tr>\n",
       "    <tr>\n",
       "      <th>r1</th>\n",
       "      <td>59</td>\n",
       "      <td>58</td>\n",
       "      <td>86</td>\n",
       "      <td>89</td>\n",
       "      <td>77</td>\n",
       "    </tr>\n",
       "    <tr>\n",
       "      <th>r2</th>\n",
       "      <td>98</td>\n",
       "      <td>80</td>\n",
       "      <td>66</td>\n",
       "      <td>57</td>\n",
       "      <td>62</td>\n",
       "    </tr>\n",
       "    <tr>\n",
       "      <th>r3</th>\n",
       "      <td>65</td>\n",
       "      <td>99</td>\n",
       "      <td>89</td>\n",
       "      <td>66</td>\n",
       "      <td>77</td>\n",
       "    </tr>\n",
       "    <tr>\n",
       "      <th>r4</th>\n",
       "      <td>94</td>\n",
       "      <td>63</td>\n",
       "      <td>61</td>\n",
       "      <td>51</td>\n",
       "      <td>97</td>\n",
       "    </tr>\n",
       "  </tbody>\n",
       "</table>\n",
       "</div>"
      ],
      "text/plain": [
       "     a   b   c   d   e\n",
       "r0  85  64  97  88  66\n",
       "r1  59  58  86  89  77\n",
       "r2  98  80  66  57  62\n",
       "r3  65  99  89  66  77\n",
       "r4  94  63  61  51  97"
      ]
     },
     "execution_count": 70,
     "metadata": {},
     "output_type": "execute_result"
    }
   ],
   "source": [
    "# 전치 (행과열의 위치 바꿈(벨류도 같이))\n",
    "df1_t = df1_s.iloc[:5,:]\n",
    "df1_t"
   ]
  },
  {
   "cell_type": "code",
   "execution_count": 68,
   "id": "b5657879",
   "metadata": {},
   "outputs": [
    {
     "data": {
      "text/html": [
       "<div>\n",
       "<style scoped>\n",
       "    .dataframe tbody tr th:only-of-type {\n",
       "        vertical-align: middle;\n",
       "    }\n",
       "\n",
       "    .dataframe tbody tr th {\n",
       "        vertical-align: top;\n",
       "    }\n",
       "\n",
       "    .dataframe thead th {\n",
       "        text-align: right;\n",
       "    }\n",
       "</style>\n",
       "<table border=\"1\" class=\"dataframe\">\n",
       "  <thead>\n",
       "    <tr style=\"text-align: right;\">\n",
       "      <th></th>\n",
       "      <th>r0</th>\n",
       "      <th>r1</th>\n",
       "      <th>r2</th>\n",
       "      <th>r3</th>\n",
       "      <th>r4</th>\n",
       "    </tr>\n",
       "  </thead>\n",
       "  <tbody>\n",
       "    <tr>\n",
       "      <th>a</th>\n",
       "      <td>85</td>\n",
       "      <td>59</td>\n",
       "      <td>98</td>\n",
       "      <td>65</td>\n",
       "      <td>94</td>\n",
       "    </tr>\n",
       "    <tr>\n",
       "      <th>b</th>\n",
       "      <td>64</td>\n",
       "      <td>58</td>\n",
       "      <td>80</td>\n",
       "      <td>99</td>\n",
       "      <td>63</td>\n",
       "    </tr>\n",
       "    <tr>\n",
       "      <th>c</th>\n",
       "      <td>97</td>\n",
       "      <td>86</td>\n",
       "      <td>66</td>\n",
       "      <td>89</td>\n",
       "      <td>61</td>\n",
       "    </tr>\n",
       "    <tr>\n",
       "      <th>d</th>\n",
       "      <td>88</td>\n",
       "      <td>89</td>\n",
       "      <td>57</td>\n",
       "      <td>66</td>\n",
       "      <td>51</td>\n",
       "    </tr>\n",
       "    <tr>\n",
       "      <th>e</th>\n",
       "      <td>66</td>\n",
       "      <td>77</td>\n",
       "      <td>62</td>\n",
       "      <td>77</td>\n",
       "      <td>97</td>\n",
       "    </tr>\n",
       "  </tbody>\n",
       "</table>\n",
       "</div>"
      ],
      "text/plain": [
       "   r0  r1  r2  r3  r4\n",
       "a  85  59  98  65  94\n",
       "b  64  58  80  99  63\n",
       "c  97  86  66  89  61\n",
       "d  88  89  57  66  51\n",
       "e  66  77  62  77  97"
      ]
     },
     "execution_count": 68,
     "metadata": {},
     "output_type": "execute_result"
    }
   ],
   "source": [
    "df1_t = df1_t.transpose()\n",
    "df1_t"
   ]
  },
  {
   "cell_type": "code",
   "execution_count": null,
   "id": "731de814",
   "metadata": {},
   "outputs": [],
   "source": []
  },
  {
   "cell_type": "code",
   "execution_count": null,
   "id": "a4bf92f2",
   "metadata": {},
   "outputs": [],
   "source": []
  },
  {
   "cell_type": "code",
   "execution_count": null,
   "id": "0e09d27e",
   "metadata": {},
   "outputs": [],
   "source": []
  },
  {
   "cell_type": "code",
   "execution_count": null,
   "id": "ddb35f79",
   "metadata": {},
   "outputs": [],
   "source": []
  },
  {
   "cell_type": "code",
   "execution_count": null,
   "id": "2158f278",
   "metadata": {},
   "outputs": [],
   "source": []
  }
 ],
 "metadata": {
  "kernelspec": {
   "display_name": "Python 3 (ipykernel)",
   "language": "python",
   "name": "python3"
  },
  "language_info": {
   "codemirror_mode": {
    "name": "ipython",
    "version": 3
   },
   "file_extension": ".py",
   "mimetype": "text/x-python",
   "name": "python",
   "nbconvert_exporter": "python",
   "pygments_lexer": "ipython3",
   "version": "3.8.13"
  },
  "toc-autonumbering": true
 },
 "nbformat": 4,
 "nbformat_minor": 5
}
