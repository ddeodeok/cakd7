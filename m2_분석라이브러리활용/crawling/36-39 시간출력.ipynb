{
 "cells": [
  {
   "cell_type": "markdown",
   "id": "d09a3153",
   "metadata": {},
   "source": [
    "#### Q36. 현재 시간을 년-월-일 시:분:초로 출력하세요.\n"
   ]
  },
  {
   "cell_type": "code",
   "execution_count": 4,
   "id": "f2869fd6-b64f-4536-a778-89c04e87a3f6",
   "metadata": {},
   "outputs": [
    {
     "name": "stdout",
     "output_type": "stream",
     "text": [
      "2022-07-27 09:15:29\n"
     ]
    }
   ],
   "source": [
    "from datetime import datetime\n",
    "nowtime_S=datetime.now()\n",
    "nowtime = nowtime_S.strftime('%Y-%m-%d %H:%M:%S')\n",
    "print(nowtime)\n"
   ]
  },
  {
   "cell_type": "markdown",
   "id": "be153cad",
   "metadata": {},
   "source": [
    "#### Q37. 현재 시간을 time.time을 불러와서 년-월-일 시:분:초로 출력하세요.\n"
   ]
  },
  {
   "cell_type": "code",
   "execution_count": 6,
   "id": "b884d3e9-bee4-4648-9e1e-1930930eb12f",
   "metadata": {},
   "outputs": [
    {
     "data": {
      "text/plain": [
       "'2022-07-27 09:15:33'"
      ]
     },
     "execution_count": 6,
     "metadata": {},
     "output_type": "execute_result"
    }
   ],
   "source": [
    "import time\n",
    "nowtime_S=time.time()\n",
    "nowtime = datetime.fromtimestamp(nowtime_S)\n",
    "time2 = nowtime.strftime('%Y-%m-%d %H:%M:%S')\n",
    "time2"
   ]
  },
  {
   "cell_type": "markdown",
   "id": "0991c101",
   "metadata": {},
   "source": [
    "#### Q38. 올해 경과된 날짜수 계산하세요"
   ]
  },
  {
   "cell_type": "code",
   "execution_count": 11,
   "id": "b3ad7141-d80f-40fe-afca-e7502b582263",
   "metadata": {},
   "outputs": [
    {
     "name": "stdout",
     "output_type": "stream",
     "text": [
      "오늘은 2022년 1월 1일 이후 207일째 되는 날 입니다.\n"
     ]
    }
   ],
   "source": [
    "since_time = datetime.strptime('20220101','%Y%m%d')\n",
    "nowtime = datetime.now()\n",
    "result = nowtime - since_time\n",
    "result.days\n",
    "print(f'오늘은 2022년 1월 1일 이후 {result.days}일째 되는 날 입니다.')"
   ]
  },
  {
   "cell_type": "markdown",
   "id": "fe2e5082",
   "metadata": {},
   "source": [
    "#### Q39. 현재 요일을 \"2021-6-26 오늘은 토요일입니다.\"와 같은 형식으로 출력하세요.\n",
    "\n"
   ]
  },
  {
   "cell_type": "code",
   "execution_count": 12,
   "id": "0d9bc91a-657c-4b29-bc2c-3daaa78cdb69",
   "metadata": {},
   "outputs": [
    {
     "name": "stdout",
     "output_type": "stream",
     "text": [
      "2022-7-27 오늘은 수요일입니다.\n"
     ]
    }
   ],
   "source": [
    "import datetime\n",
    "today= datetime.date.today()\n",
    "y = today.year\n",
    "m = today.month\n",
    "d = today.day\n",
    "# w = today.weekday()\n",
    "\n",
    "def get_yoil(y,m,d):\n",
    "    days = ['월','화','수','목','금','토','일']\n",
    "    return days[datetime.date(y,m,d).weekday()]\n",
    "w = get_yoil(y,m,d)\n",
    "print(f'{y}-{m}-{d} 오늘은 {w}요일입니다.')"
   ]
  },
  {
   "cell_type": "markdown",
   "id": "8305898d",
   "metadata": {},
   "source": [
    "#### Q40. 1에서 백만까지 더하는데 걸리는 프로그램 실행 시간을 밀리초(ms) 단위로 구하세요."
   ]
  },
  {
   "cell_type": "code",
   "execution_count": 1,
   "id": "06493be7",
   "metadata": {},
   "outputs": [
    {
     "name": "stdout",
     "output_type": "stream",
     "text": [
      "0.09947sec\n"
     ]
    }
   ],
   "source": [
    "import time\n",
    "\n",
    "start = time.time()\n",
    "for i in range(1,1000001):\n",
    "    i += i\n",
    "end = time.time()\n",
    "\n",
    "print(f\"{end-start:.5f}sec\")\n"
   ]
  },
  {
   "cell_type": "code",
   "execution_count": 2,
   "id": "5ae883b0-af72-4a51-be02-ce8e670ff1d6",
   "metadata": {
    "scrolled": true
   },
   "outputs": [
    {
     "name": "stdout",
     "output_type": "stream",
     "text": [
      "0.03297sec\n"
     ]
    }
   ],
   "source": [
    "import time\n",
    "\n",
    "start = time.time()\n",
    "sum(range(1,1000001))\n",
    "end = time.time()\n",
    "\n",
    "print(f\"{end-start:.5f}sec\")\n"
   ]
  },
  {
   "cell_type": "code",
   "execution_count": null,
   "id": "0e6e2757",
   "metadata": {},
   "outputs": [],
   "source": [
    "#### Q36. 현재 시간을 년-월-일 시:분:초로 출력하세요.\n",
    "\n",
    "\n",
    "from datetime import datetime\n",
    "nowtime_S=datetime.now()\n",
    "nowtime = nowtime_S.strftime('%Y-%m-%d %H:%M:%S')\n",
    "print(nowtime)\n",
    "\n",
    "\n",
    "#### Q37. 현재 시간을 time.time을 불러와서 년-월-일 시:분:초로 출력하세요.\n",
    "\n",
    "\n",
    "import time\n",
    "nowtime_S=time.time()\n",
    "nowtime = datetime.fromtimestamp(nowtime_S)\n",
    "time2 = nowtime.strftime('%Y-%m-%d %H:%M:%S')\n",
    "time2\n",
    "\n",
    "#### Q38. 올해 경과된 날짜수 계산하세요\n",
    "\n",
    "since_time = datetime.strptime('20220101','%Y%m%d')\n",
    "nowtime = datetime.now()\n",
    "result = nowtime - since_time\n",
    "result.days\n",
    "print(f'오늘은 2022년 1월 1일 이후 {result.days}일째 되는 날 입니다.')\n",
    "\n",
    "#### Q39. 현재 요일을 \"2021-6-26 오늘은 토요일입니다.\"와 같은 형식으로 출력하세요.\n",
    "\n",
    "\n",
    "\n",
    "import datetime\n",
    "today= datetime.date.today()\n",
    "y = today.year\n",
    "m = today.month\n",
    "d = today.day\n",
    "# w = today.weekday()\n",
    "\n",
    "def get_yoil(y,m,d):\n",
    "    days = ['월','화','수','목','금','토','일']\n",
    "    return days[datetime.date(y,m,d).weekday()]\n",
    "w = get_yoil(y,m,d)\n",
    "print(f'{y}-{m}-{d} 오늘은 {w}요일입니다.')\n",
    "\n",
    "#### Q40. 1에서 백만까지 더하는데 걸리는 프로그램 실행 시간을 밀리초(ms) 단위로 구하세요.\n",
    "\n",
    "import time\n",
    "\n",
    "start = time.time()\n",
    "for i in range(1,1000001):\n",
    "    i += i\n",
    "end = time.time()\n",
    "\n",
    "print(f\"{end-start:.5f}sec\")\n",
    "\n",
    "\n",
    "import time\n",
    "\n",
    "start = time.time()\n",
    "sum(range(1,1000001))\n",
    "end = time.time()\n",
    "\n",
    "print(f\"{end-start:.5f}sec\")\n"
   ]
  }
 ],
 "metadata": {
  "kernelspec": {
   "display_name": "Python 3 (ipykernel)",
   "language": "python",
   "name": "python3"
  },
  "language_info": {
   "codemirror_mode": {
    "name": "ipython",
    "version": 3
   },
   "file_extension": ".py",
   "mimetype": "text/x-python",
   "name": "python",
   "nbconvert_exporter": "python",
   "pygments_lexer": "ipython3",
   "version": "3.8.13"
  },
  "toc": {
   "base_numbering": 1,
   "nav_menu": {},
   "number_sections": true,
   "sideBar": true,
   "skip_h1_title": false,
   "title_cell": "Table of Contents",
   "title_sidebar": "Contents",
   "toc_cell": false,
   "toc_position": {},
   "toc_section_display": true,
   "toc_window_display": false
  }
 },
 "nbformat": 4,
 "nbformat_minor": 5
}
