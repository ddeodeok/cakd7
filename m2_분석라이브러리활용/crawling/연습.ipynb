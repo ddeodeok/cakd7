{
 "cells": [
  {
   "cell_type": "code",
   "execution_count": 3,
   "id": "f7573c0c",
   "metadata": {},
   "outputs": [],
   "source": [
    "from bs4 import BeautifulSoup\n",
    "import urllib.request \n",
    "url = \"http://www.kma.go.kr/weather/forecast/mid-term-rss3.jsp\""
   ]
  },
  {
   "cell_type": "code",
   "execution_count": 17,
   "id": "d605c773",
   "metadata": {},
   "outputs": [
    {
     "name": "stderr",
     "output_type": "stream",
     "text": [
      "C:\\Users\\admin\\Anaconda3\\envs\\cakd7\\lib\\site-packages\\bs4\\builder\\__init__.py:545: XMLParsedAsHTMLWarning: It looks like you're parsing an XML document using an HTML parser. If this really is an HTML document (maybe it's XHTML?), you can ignore or filter this warning. If it's XML, you should know that using an XML parser will be more reliable. To parse this document as XML, make sure you have the lxml package installed, and pass the keyword argument `features=\"xml\"` into the BeautifulSoup constructor.\n",
      "  warnings.warn(\n"
     ]
    },
    {
     "data": {
      "text/plain": [
       "'○ (강수) 11일(일)~15일(목) 제주도에 비가 오는 곳이 있겠습니다. ○ (기온) 이번 예보기간 아침 기온은 17~23도로 어제(7일, 아침최저기온 13~19도)보다 높겠고, 낮 기온은 23~28도로 어제(낮최고기온 26~29도)와 비슷하겠습니다. ○ (주말전망) 10일(토) 전국이 구름많겠으나, 동해안과 제주도는 흐리겠고, 11일(일) 전국이 흐리겠습니다. 11일(일) 제주도에는 비가 오는 곳이 있겠습니다.               아침 기온은 13~21도, 낮 기온은 24~29도가 되겠습니다.  * 11일(일)~16일(금) 동안 우리나라 주변 기압계에 따라 강수구역과 강수시점이 변경될 가능성이 있겠으니, 앞으로 발표되는 예보를 참고하기 바랍니다.'"
      ]
     },
     "execution_count": 17,
     "metadata": {},
     "output_type": "execute_result"
    }
   ],
   "source": [
    "import re\n",
    "res = urllib.request.urlopen(url)\n",
    "soup = BeautifulSoup(res,'html.parser')\n",
    "title = soup.find('title').string\n",
    "wf = soup.find('wf').string\n",
    "wf = re.sub('[a-zA-Z<//>]','',wf)\n",
    "wf"
   ]
  },
  {
   "cell_type": "code",
   "execution_count": 18,
   "id": "2771c695",
   "metadata": {},
   "outputs": [
    {
     "data": {
      "text/plain": [
       "'○ (강수) 11일(일)~15일(목) 제주도에 비가 오는 곳이 있겠습니다. ○ (기온) 이번 예보기간 아침 기온은 17~23도로 어제(7일, 아침최저기온 13~19도)보다 높겠고, 낮 기온은 23~28도로 어제(낮최고기온 26~29도)와 비슷하겠습니다. ○ (주말전망) 10일(토) 전국이 구름많겠으나, 동해안과 제주도는 흐리겠고, 11일(일) 전국이 흐리겠습니다. 11일(일) 제주도에는 비가 오는 곳이 있겠습니다. 아침 기온은 13~21도, 낮 기온은 24~29도가 되겠습니다.* 11일(일)~16일(금) 동안 우리나라 주변 기압계에 따라 강수구역과 강수시점이 변경될 가능성이 있겠으니, 앞으로 발표되는 예보를 참고하기 바랍니다.'"
      ]
     },
     "execution_count": 18,
     "metadata": {},
     "output_type": "execute_result"
    }
   ],
   "source": [
    "wf = re.sub('  ','',wf)\n",
    "wf"
   ]
  },
  {
   "cell_type": "code",
   "execution_count": 19,
   "id": "86618c91",
   "metadata": {},
   "outputs": [
    {
     "data": {
      "text/plain": [
       "'1,383.00'"
      ]
     },
     "execution_count": 19,
     "metadata": {},
     "output_type": "execute_result"
    }
   ],
   "source": [
    "url = \"https://finance.naver.com/marketindex/\"\n",
    "res = urllib.request.urlopen(url)\n",
    "soup = BeautifulSoup(res,'html.parser')\n",
    "price = soup.select_one('div.head_info> span.value').string\n",
    "price"
   ]
  },
  {
   "cell_type": "code",
   "execution_count": 25,
   "id": "33098953",
   "metadata": {},
   "outputs": [],
   "source": [
    "html_doc = \"\"\"<html><head><title>The Dormouse's story</title></head>\n",
    "<body>\n",
    "<div></div>\n",
    "<p class=\"title\"><b>The Dormouse's story</b></p>\n",
    "\n",
    "<p class=\"story\">Once upon a time there were three little sisters; and their names were\n",
    "<a href=\"http://example.com/elsie\" class=\"sister\" id=\"link1\">Elsie</a>,\n",
    "<a href=\"http://example.com/lacie\" class=\"sister\" id=\"link2\">Lacie</a> and\n",
    "<a href=\"http://example.com/tillie\" class=\"sister\" id=\"link3\">Tillie</a>;\n",
    "and they lived at the bottom of a well.</p>\n",
    "\n",
    "<p class=\"story\">...</p>\n",
    "\"\"\"\n"
   ]
  },
  {
   "cell_type": "code",
   "execution_count": 26,
   "id": "d5ec0b1c",
   "metadata": {},
   "outputs": [
    {
     "name": "stdout",
     "output_type": "stream",
     "text": [
      "http://example.com/elsie\n",
      "http://example.com/lacie\n",
      "http://example.com/tillie\n"
     ]
    }
   ],
   "source": [
    "# res = urllib.request.urlopen(html_doc)\n",
    "soup = BeautifulSoup(html_doc,'html.parser')\n",
    "for link in soup.find_all('a'):\n",
    "    print(link.get('href'))"
   ]
  },
  {
   "cell_type": "code",
   "execution_count": 27,
   "id": "ce3c5631",
   "metadata": {},
   "outputs": [
    {
     "data": {
      "text/plain": [
       "<title>The Dormouse's story</title>"
      ]
     },
     "execution_count": 27,
     "metadata": {},
     "output_type": "execute_result"
    }
   ],
   "source": [
    "soup.find('title')"
   ]
  },
  {
   "cell_type": "code",
   "execution_count": 29,
   "id": "34eee33a",
   "metadata": {},
   "outputs": [
    {
     "data": {
      "text/plain": [
       "[<p class=\"title\"><b>The Dormouse's story</b></p>,\n",
       " <p class=\"story\">Once upon a time there were three little sisters; and their names were\n",
       " <a class=\"sister\" href=\"http://example.com/elsie\" id=\"link1\">Elsie</a>,\n",
       " <a class=\"sister\" href=\"http://example.com/lacie\" id=\"link2\">Lacie</a> and\n",
       " <a class=\"sister\" href=\"http://example.com/tillie\" id=\"link3\">Tillie</a>;\n",
       " and they lived at the bottom of a well.</p>,\n",
       " <p class=\"story\">...</p>]"
      ]
     },
     "execution_count": 29,
     "metadata": {},
     "output_type": "execute_result"
    }
   ],
   "source": [
    "soup.find_all('p')"
   ]
  },
  {
   "cell_type": "code",
   "execution_count": 45,
   "id": "a98a11b8",
   "metadata": {},
   "outputs": [
    {
     "data": {
      "text/plain": [
       "[<a class=\"sister\" href=\"http://example.com/elsie\" id=\"link1\">Elsie</a>,\n",
       " <a class=\"sister\" href=\"http://example.com/lacie\" id=\"link2\">Lacie</a>,\n",
       " <a class=\"sister\" href=\"http://example.com/tillie\" id=\"link3\">Tillie</a>]"
      ]
     },
     "execution_count": 45,
     "metadata": {},
     "output_type": "execute_result"
    }
   ],
   "source": [
    "tit = soup.find('p').next_sibling.next_sibling.find_all('a')\n",
    "tit"
   ]
  },
  {
   "cell_type": "code",
   "execution_count": 30,
   "id": "f0f3a220",
   "metadata": {
    "scrolled": true
   },
   "outputs": [
    {
     "name": "stdout",
     "output_type": "stream",
     "text": [
      "The Dormouse's story\n",
      "\n",
      "\n",
      "The Dormouse's story\n",
      "Once upon a time there were three little sisters; and their names were\n",
      "Elsie,\n",
      "Lacie and\n",
      "Tillie;\n",
      "and they lived at the bottom of a well.\n",
      "...\n",
      "\n"
     ]
    }
   ],
   "source": [
    "print(soup.get_text())"
   ]
  },
  {
   "cell_type": "code",
   "execution_count": 33,
   "id": "862eb48d",
   "metadata": {},
   "outputs": [
    {
     "name": "stdout",
     "output_type": "stream",
     "text": [
      "\n"
     ]
    }
   ],
   "source": [
    "print(soup.find('div').get_text())"
   ]
  },
  {
   "cell_type": "code",
   "execution_count": 41,
   "id": "e574e392",
   "metadata": {},
   "outputs": [
    {
     "name": "stdout",
     "output_type": "stream",
     "text": [
      "Elsie\n",
      "Lacie\n",
      "Tillie\n"
     ]
    }
   ],
   "source": [
    "for i in soup.find_all('a'):\n",
    "    print(i.string)\n"
   ]
  },
  {
   "cell_type": "markdown",
   "id": "87efb04c",
   "metadata": {},
   "source": [
    "#### p class = 'cjs_ht' 찾기\n",
    "- find_all('p', attrs = {'class':'cjs_ht'})\n",
    "- attrs['href']"
   ]
  },
  {
   "cell_type": "code",
   "execution_count": 48,
   "id": "bebb30e5",
   "metadata": {},
   "outputs": [
    {
     "name": "stdout",
     "output_type": "stream",
     "text": [
      "[<p class=\"cjs_ht\">\n",
      "                        \n",
      "                            \n",
      "                                오늘 언론사가 발행한<br/>종이신문에 실린 뉴스 1면<br/>기사가 제공됩니다.\n",
      "                            \n",
      "                            \n",
      "                        \n",
      "                    </p>]\n",
      "                                                                                                          오늘 언론사가 발행한     종이신문에 실린 뉴스  면     기사가 제공됩니다                                                                                                              \n"
     ]
    },
    {
     "data": {
      "text/plain": [
       "'오늘 언론사가 발행한 종이신문에 실린 뉴스 면 기사가 제공됩니다'"
      ]
     },
     "execution_count": 48,
     "metadata": {},
     "output_type": "execute_result"
    }
   ],
   "source": [
    "from bs4 import BeautifulSoup as bsoup\n",
    "import re\n",
    "import requests\n",
    "url = 'https://news.naver.com/'\n",
    "req = requests.get(url)\n",
    "html = req.text\n",
    "\n",
    "soup = bsoup(html, 'html.parser')\n",
    "result = soup.find_all('p', attrs={'class':\"cjs_ht\"}) # p class = \"cjs_ht\" 찾기\n",
    "print(result)\n",
    "\n",
    "q = re.sub('[^가-힣]', ' ', str(result))  # 다시 문자화시켜서 re.sub\n",
    "print(q)\n",
    "words = re.sub('\\s+', \" \", q)\n",
    "# words = \" \".join(re.split(r'\\s+', q))\n",
    "words = words[1:-1]\n",
    "words\n"
   ]
  },
  {
   "cell_type": "markdown",
   "id": "ab75e9f7",
   "metadata": {},
   "source": [
    "#### find_all('p',limt=3) p 태크의 몇번째까지 갯수 제한"
   ]
  },
  {
   "cell_type": "code",
   "execution_count": 49,
   "id": "e9ea4f5c",
   "metadata": {},
   "outputs": [],
   "source": [
    "from bs4 import BeautifulSoup\n",
    "import urllib.request as rq\n",
    "\n",
    "ulr = 'https://naver.com/'\n",
    "html = rq.urlopen(url)\n",
    "bs = BeautifulSoup(html,'lxml')\n"
   ]
  },
  {
   "cell_type": "code",
   "execution_count": 50,
   "id": "2dc1248c",
   "metadata": {
    "scrolled": true
   },
   "outputs": [
    {
     "name": "stdout",
     "output_type": "stream",
     "text": [
      "[<p class=\"cjs_d\">강산이 세 번 넘게 바뀌도록 은폐된 억울한 죽음들이 있다. 공식 확인된 사망자만 657명이다. 박정희·전두환 정권 때 발생한 ‘부산 형제복지원 사건’이다. 1975년부터 1987년까지 부산 일대에서 부랑자를 선도한다</p>, <p class=\"cjs_d\">내일(9일)부터 추석 연휴가 시작됩니다. 이번 추석은 코로나19 이후 거리두기가 없는 첫 명절입니다. 고속도로 휴게소 실내에서도 식사가 가능하고, 인원 제한 없이 친지들과 모일 수 있습니다. 연휴 기간 코로나 의심 </p>, <p class=\"cjs_d\">- 美 출고가 799달러부터, 韓 114만9000원부터 - ‘밀스펙’ 인증 완료…수심 특화 기능도 장착 7일(현지시간) 애플은 미국 캘리포니아 애플파크에서 ‘애플 이벤트’를 개최하고 ‘애플워치 울트라’를 처음 공개했</p>]\n"
     ]
    }
   ],
   "source": [
    "print(bs.find_all('p',limit=3))"
   ]
  },
  {
   "cell_type": "code",
   "execution_count": 51,
   "id": "a5ffa36b",
   "metadata": {},
   "outputs": [
    {
     "name": "stdout",
     "output_type": "stream",
     "text": [
      "[<p class=\"cjs_d\">강산이 세 번 넘게 바뀌도록 은폐된 억울한 죽음들이 있다. 공식 확인된 사망자만 657명이다. 박정희·전두환 정권 때 발생한 ‘부산 형제복지원 사건’이다. 1975년부터 1987년까지 부산 일대에서 부랑자를 선도한다</p>, <p class=\"cjs_d\">내일(9일)부터 추석 연휴가 시작됩니다. 이번 추석은 코로나19 이후 거리두기가 없는 첫 명절입니다. 고속도로 휴게소 실내에서도 식사가 가능하고, 인원 제한 없이 친지들과 모일 수 있습니다. 연휴 기간 코로나 의심 </p>]\n"
     ]
    }
   ],
   "source": [
    "print(bs.find_all('p',limit=2))"
   ]
  },
  {
   "cell_type": "code",
   "execution_count": null,
   "id": "74711327",
   "metadata": {},
   "outputs": [],
   "source": []
  },
  {
   "cell_type": "code",
   "execution_count": 52,
   "id": "d1e1f5c2",
   "metadata": {},
   "outputs": [
    {
     "data": {
      "text/plain": [
       "'정치'"
      ]
     },
     "execution_count": 52,
     "metadata": {},
     "output_type": "execute_result"
    }
   ],
   "source": [
    "from bs4 import BeautifulSoup\n",
    "import requests as rq\n",
    "\n",
    "url = 'https://news.daum.net/politics/'\n",
    "html = rq.get(url)\n",
    "html =html.text\n",
    "bs = BeautifulSoup(html,'lxml')\n",
    "# title = bs.find('h2')\n",
    "# title = bs.find_all('h2',id=True)\n",
    "title = bs.find('h2',id='mainContent').text\n",
    "title"
   ]
  },
  {
   "cell_type": "code",
   "execution_count": 54,
   "id": "d4ee72a2",
   "metadata": {},
   "outputs": [
    {
     "data": {
      "text/plain": [
       "'육사오(6/45)'"
      ]
     },
     "execution_count": 54,
     "metadata": {},
     "output_type": "execute_result"
    }
   ],
   "source": [
    "from bs4 import BeautifulSoup\n",
    "import requests as rq\n",
    "\n",
    "url = 'https://movie.naver.com/movie/sdb/rank/rmovie.naver'\n",
    "html = rq.get(url)\n",
    "html =html.text\n",
    "bs = BeautifulSoup(html,'lxml')\n",
    "# title = bs.select_one('span', class_='txt_gnb').text\n",
    "title = bs.select_one('#old_content > table > tbody > tr:nth-child(2) > td.title > div > a').text\n",
    "title"
   ]
  },
  {
   "cell_type": "code",
   "execution_count": 57,
   "id": "4b034759",
   "metadata": {},
   "outputs": [
    {
     "name": "stdout",
     "output_type": "stream",
     "text": [
      "\n",
      "육사오(6/45)\n",
      "\n"
     ]
    }
   ],
   "source": [
    "# Q. 네이버 영화 랭킹 가져와서 첫번째 영화제목을 출력하세요\n",
    "from bs4 import BeautifulSoup\n",
    "import requests as rq\n",
    "\n",
    "url = 'https://movie.naver.com/movie/sdb/rank/rmovie.naver'\n",
    "html = rq.get(url)\n",
    "html = html.text\n",
    "\n",
    "bs = BeautifulSoup(html,'lxml')\n",
    "title = bs.find_all('div',class_='tit3')\n",
    "# for t in title:\n",
    "#     print(t.text)\n",
    "print(title[0].text)"
   ]
  },
  {
   "cell_type": "markdown",
   "id": "b149187d",
   "metadata": {},
   "source": [
    "- 크롤링) 접속 차단되었을때 User-Agent지정(header)¶\n",
    " - https://m.blog.naver.com/PostView.naver?isHttpsRedirect=true&blogId=kiddwannabe&logNo=221185808375"
   ]
  },
  {
   "cell_type": "code",
   "execution_count": null,
   "id": "c1d61576",
   "metadata": {},
   "outputs": [],
   "source": []
  },
  {
   "cell_type": "code",
   "execution_count": null,
   "id": "06574d9e",
   "metadata": {},
   "outputs": [],
   "source": []
  },
  {
   "cell_type": "code",
   "execution_count": null,
   "id": "e840fb25",
   "metadata": {},
   "outputs": [],
   "source": []
  },
  {
   "cell_type": "code",
   "execution_count": null,
   "id": "e2c259fa",
   "metadata": {},
   "outputs": [],
   "source": []
  }
 ],
 "metadata": {
  "kernelspec": {
   "display_name": "Python 3 (ipykernel)",
   "language": "python",
   "name": "python3"
  },
  "language_info": {
   "codemirror_mode": {
    "name": "ipython",
    "version": 3
   },
   "file_extension": ".py",
   "mimetype": "text/x-python",
   "name": "python",
   "nbconvert_exporter": "python",
   "pygments_lexer": "ipython3",
   "version": "3.8.13"
  },
  "toc": {
   "base_numbering": 1,
   "nav_menu": {},
   "number_sections": true,
   "sideBar": true,
   "skip_h1_title": false,
   "title_cell": "Table of Contents",
   "title_sidebar": "Contents",
   "toc_cell": false,
   "toc_position": {},
   "toc_section_display": true,
   "toc_window_display": false
  }
 },
 "nbformat": 4,
 "nbformat_minor": 5
}
