{
 "cells": [
  {
   "cell_type": "markdown",
   "id": "44263446-4cc4-4fdf-8ce4-d329dd2a2f41",
   "metadata": {},
   "source": [
    "### 6월 17일"
   ]
  },
  {
   "cell_type": "code",
   "execution_count": 3,
   "id": "97c2c3af-ce16-486f-bbea-b71b4664067d",
   "metadata": {},
   "outputs": [],
   "source": [
    "# 1부터 10까지의 수가 홀수인지 짝수인지를 판별하여 나타내 주세요"
   ]
  },
  {
   "cell_type": "code",
   "execution_count": 1,
   "id": "5ae746d3-9146-4ee4-9cc2-42cc185b1a9f",
   "metadata": {},
   "outputs": [
    {
     "name": "stdout",
     "output_type": "stream",
     "text": [
      "1는 홀수 입니다\n",
      "2는 짝수 입니다\n",
      "3는 홀수 입니다\n",
      "4는 짝수 입니다\n",
      "5는 홀수 입니다\n",
      "6는 짝수 입니다\n",
      "7는 홀수 입니다\n",
      "8는 짝수 입니다\n",
      "9는 홀수 입니다\n",
      "10는 짝수 입니다\n"
     ]
    }
   ],
   "source": [
    "for i in range(1,11):\n",
    "    if i%2==0:\n",
    "        print(f\"{i}는 짝수 입니다\")\n",
    "    else :\n",
    "        print(f\"{i}는 홀수 입니다\")"
   ]
  },
  {
   "cell_type": "code",
   "execution_count": 2,
   "id": "3bbaf16a-1bb8-4022-9da3-ed077a287902",
   "metadata": {},
   "outputs": [],
   "source": [
    "# 35부터 155까지 합과 갯수를 구하고 아래문장대로 출력하세요.\n",
    "# \" 35부터 155까지 합은 00이고 개수는 00입니다.\""
   ]
  },
  {
   "cell_type": "code",
   "execution_count": null,
   "id": "83283a40-6f1b-48da-80a8-1d4013305880",
   "metadata": {},
   "outputs": [],
   "source": [
    "sum = 0\n",
    "count = []\n",
    "for i in range(35,156):\n",
    "    if i%2 != 0:\n",
    "        sum += i\n",
    "        count.append(i)\n",
    "print(f\"35부터 155까지 합은 {sum}이고 개수는 {len(count)}입니다\") "
   ]
  },
  {
   "cell_type": "code",
   "execution_count": 1,
   "id": "687e7e74-93b8-4636-9478-2ff961a8bc05",
   "metadata": {},
   "outputs": [],
   "source": [
    "#while 문을 사용하여 100이하 3의 배수의 합을 구하시오 "
   ]
  },
  {
   "cell_type": "code",
   "execution_count": null,
   "id": "51182a1b-d2d1-4360-a9ba-252a4d9d7b32",
   "metadata": {},
   "outputs": [],
   "source": [
    "sum = 0\n",
    "a= 0\n",
    "while a <=100:\n",
    "    a+=1\n",
    "    if a%3 ==0 :\n",
    "        sum += a\n",
    "          \n",
    "print(sum)"
   ]
  },
  {
   "cell_type": "code",
   "execution_count": 3,
   "id": "d2534751-039d-4f51-b421-d84f311e0274",
   "metadata": {},
   "outputs": [
    {
     "name": "stdout",
     "output_type": "stream",
     "text": [
      "100 1683\n"
     ]
    }
   ],
   "source": [
    "i = 0\n",
    "sum = 0\n",
    "while True:\n",
    "    i += 1\n",
    "    if i % 3 == 0:\n",
    "        sum += i\n",
    "    \n",
    "    if i >= 100: break\n",
    "print(i, sum) "
   ]
  },
  {
   "cell_type": "code",
   "execution_count": 4,
   "id": "0e582b19-13d7-4d30-b411-a211f36a45ed",
   "metadata": {},
   "outputs": [],
   "source": [
    "# a= [1,2,3,4]일때, b=[1,222,3,4]로 수정하시오.(단,a는 변화 없음)"
   ]
  },
  {
   "cell_type": "code",
   "execution_count": 5,
   "id": "8fc81230-be31-49b6-89b4-196de8f5563c",
   "metadata": {},
   "outputs": [
    {
     "name": "stdout",
     "output_type": "stream",
     "text": [
      "[1, 2, 3, 4]\n",
      "[1, 222, 3, 4]\n"
     ]
    }
   ],
   "source": [
    "a = [1, 2, 3, 4]\n",
    "b = a.copy()\n",
    "b[1] = 222\n",
    "print(a)\n",
    "print(b) "
   ]
  },
  {
   "cell_type": "code",
   "execution_count": 6,
   "id": "d8c19618-2809-4d47-b94a-c98842d2ebf7",
   "metadata": {},
   "outputs": [],
   "source": [
    "# a=[1,2,3,4,5,6,7,8,9] 에서 3의 배수들만 곱하여 다시 리스트를 출력하시오."
   ]
  },
  {
   "cell_type": "code",
   "execution_count": 13,
   "id": "60e3f467-360a-4f7e-9f82-5827002a0d21",
   "metadata": {},
   "outputs": [
    {
     "data": {
      "text/plain": [
       "[1, 2, 9, 4, 5, 36, 7, 8, 81]"
      ]
     },
     "execution_count": 13,
     "metadata": {},
     "output_type": "execute_result"
    }
   ],
   "source": [
    "a=[1,2,3,4,5,6,7,8,9]\n",
    "b=[]\n",
    "for i in a:\n",
    "    if i%3==0:\n",
    "        i=i**2\n",
    "        b.append(i)\n",
    "    else :\n",
    "        b.append(i)\n",
    "b"
   ]
  },
  {
   "cell_type": "code",
   "execution_count": 15,
   "id": "0be7afd3-92c4-47f2-81cf-91dcd60c88a5",
   "metadata": {},
   "outputs": [],
   "source": [
    "# 아래 방법은 리스트를추가하지 않고 인덱스를 활용하여 원래 a리스트를 수정함"
   ]
  },
  {
   "cell_type": "code",
   "execution_count": 14,
   "id": "7618e1c9-1c51-4a67-9364-b5ab9bfee5f5",
   "metadata": {},
   "outputs": [
    {
     "name": "stdout",
     "output_type": "stream",
     "text": [
      "[1, 2, 9, 4, 5, 36, 7, 8, 81]\n"
     ]
    }
   ],
   "source": [
    "a = [1, 2, 3, 4, 5, 6, 7, 8, 9]\n",
    "for i in range(9):\n",
    "    if a[i] % 3 == 0:\n",
    "        a[i] = a[i]**2\n",
    "print(a) "
   ]
  },
  {
   "cell_type": "code",
   "execution_count": 16,
   "id": "df51c9f7-5f1a-4d70-9c31-f216eab59e5a",
   "metadata": {},
   "outputs": [
    {
     "name": "stdout",
     "output_type": "stream",
     "text": [
      "[1, 2, 9, 4, 5, 36, 7, 8, 81, 1, 2, 81, 81, 4, 5, 1296, 1296, 7, 8, 6561, 6561]\n"
     ]
    }
   ],
   "source": [
    "for i in a:\n",
    "    if i%3==0:\n",
    "        i=i**2\n",
    "        b.append(i)\n",
    "    b.append(i)\n",
    "print(b)\n",
    "    "
   ]
  },
  {
   "cell_type": "code",
   "execution_count": 17,
   "id": "2259708c-cf79-4dbf-8f2c-43216725ebdd",
   "metadata": {},
   "outputs": [],
   "source": [
    "# a=[1,2,3,4,5,6,7,8,9] 에서 list comprehension을 이용하여 제곱한 값을 리스트에 넣어주세요"
   ]
  },
  {
   "cell_type": "code",
   "execution_count": 18,
   "id": "85c3b64e-88ff-43bd-871c-bc79cb101aac",
   "metadata": {},
   "outputs": [
    {
     "name": "stdout",
     "output_type": "stream",
     "text": [
      "[9, 36, 81]\n"
     ]
    },
    {
     "data": {
      "text/plain": [
       "[1, 4, 9, 16, 25, 36, 49, 64, 81]"
      ]
     },
     "execution_count": 18,
     "metadata": {},
     "output_type": "execute_result"
    }
   ],
   "source": [
    "a=[1,2,3,4,5,6,7,8,9]\n",
    "li=[]\n",
    "for i in a:\n",
    "    if i%3 == 0:\n",
    "        i=i**2\n",
    "        li.append(i)\n",
    "print(li)\n",
    "\n",
    "[i**2 for i in a]"
   ]
  },
  {
   "cell_type": "code",
   "execution_count": 21,
   "id": "80fa105a-83e4-4fe6-a570-778a037d6932",
   "metadata": {},
   "outputs": [
    {
     "data": {
      "text/plain": [
       "[9, 36, 81]"
      ]
     },
     "execution_count": 21,
     "metadata": {},
     "output_type": "execute_result"
    }
   ],
   "source": [
    "a=[1,2,3,4,5,6,7,8,9]\n",
    "li = [i**2 for i in a if i%3 == 0]\n",
    "li"
   ]
  },
  {
   "cell_type": "code",
   "execution_count": 23,
   "id": "5d2f757d-bbff-4739-9858-40ec5e8a5f15",
   "metadata": {},
   "outputs": [],
   "source": [
    "# while문을 활용하여 3와 7의 배수의 합을 구하시오. 100이하sum"
   ]
  },
  {
   "cell_type": "code",
   "execution_count": 26,
   "id": "d128b4c5-c9f6-4735-a2e4-72611066d927",
   "metadata": {},
   "outputs": [
    {
     "name": "stdout",
     "output_type": "stream",
     "text": [
      "2208\n"
     ]
    }
   ],
   "source": [
    "sum = 0\n",
    "a=0\n",
    "while a<100:\n",
    "    a+=1\n",
    "    if a%3==0 or a%7 ==0:\n",
    "        sum+=a\n",
    "\n",
    "print(sum)"
   ]
  },
  {
   "cell_type": "code",
   "execution_count": 28,
   "id": "1bd15b71-cfac-4ec6-9c48-58f987c0d793",
   "metadata": {},
   "outputs": [],
   "source": [
    "# while 문과 continue와 if문 이용하여 1부터 100까지의 수중 \n",
    "# 3의 배수와 7의 배수를 제외한 모든 수의 합을 구하시오"
   ]
  },
  {
   "cell_type": "code",
   "execution_count": 30,
   "id": "cc3b68ea-4a10-4568-94b6-e278e097fc5e",
   "metadata": {},
   "outputs": [
    {
     "name": "stdout",
     "output_type": "stream",
     "text": [
      "2943\n"
     ]
    }
   ],
   "source": [
    "sum = 0\n",
    "a=0\n",
    "while a<=100:\n",
    "    a+=1\n",
    "    if a%3==0 or a%7 ==0:\n",
    "        continue\n",
    "    sum+=a\n",
    "\n",
    "print(sum)"
   ]
  },
  {
   "cell_type": "code",
   "execution_count": 35,
   "id": "82d0b37c-9596-4462-8259-12a4d92ecf1a",
   "metadata": {},
   "outputs": [
    {
     "name": "stdout",
     "output_type": "stream",
     "text": [
      "720\n"
     ]
    }
   ],
   "source": [
    "# 1부터 6까지의 곱한 값은?\n",
    "a = 1 \n",
    "\n",
    "for i in range(1, 7):\n",
    "    a *= i\n",
    "print(a) "
   ]
  },
  {
   "cell_type": "markdown",
   "id": "a1f21e2a-0594-4638-9687-69680c77b2c3",
   "metadata": {},
   "source": [
    "# 6월 20일"
   ]
  },
  {
   "cell_type": "code",
   "execution_count": 2,
   "id": "dc8e4f44-a5f0-44ec-8989-dee63906d00d",
   "metadata": {},
   "outputs": [],
   "source": [
    "def add_mul(choice,*a):   \n",
    "\n",
    "    sum=0\n",
    "    mul=1\n",
    "    if choice=='sum':\n",
    "        for i in a:\n",
    "            sum+=i\n",
    "        return sum\n",
    "    if choice=='mul':\n",
    "        for i in a:\n",
    "            mul*=i\n",
    "    return mul "
   ]
  },
  {
   "cell_type": "code",
   "execution_count": 9,
   "id": "c2426467-7c6c-4951-ac9c-d70c0a7bfcae",
   "metadata": {},
   "outputs": [
    {
     "name": "stdout",
     "output_type": "stream",
     "text": [
      "0\n",
      "6\n"
     ]
    }
   ],
   "source": [
    "\n",
    "print(add_mul('mul',1,2,3))\n",
    "print(add_mul('sum',1,2,3))"
   ]
  },
  {
   "cell_type": "code",
   "execution_count": 6,
   "id": "54faa100-6ec0-4adf-bb4d-cca553adf10e",
   "metadata": {},
   "outputs": [],
   "source": [
    "def add_mul(choice,*a):   \n",
    "\n",
    "    sum=0\n",
    "    mul=1\n",
    "    if choice=='sum':\n",
    "        for i in a:\n",
    "            sum+=i\n",
    "    return sum\n",
    "    if choice=='mul':\n",
    "        for i in a:\n",
    "            mul*=i\n",
    "    return mul "
   ]
  },
  {
   "cell_type": "code",
   "execution_count": 8,
   "id": "ca872337-b498-4e34-ad4a-99fbf31f297e",
   "metadata": {},
   "outputs": [
    {
     "name": "stdout",
     "output_type": "stream",
     "text": [
      "0\n",
      "6\n"
     ]
    }
   ],
   "source": [
    "print(add_mul('mul',1,2,3))\n",
    "print(add_mul('sum',1,2,3))"
   ]
  },
  {
   "cell_type": "markdown",
   "id": "adc70a65-1ec3-40f3-871f-45e3991f029e",
   "metadata": {},
   "source": [
    "## 함수를 이용하여 1부터 15까지 더하시오 (def 활용)--- def add():"
   ]
  },
  {
   "cell_type": "code",
   "execution_count": 11,
   "id": "4b59c262-fdd3-4f73-8c52-6144bff1a18c",
   "metadata": {},
   "outputs": [],
   "source": [
    "def add():\n",
    "    sum = 0\n",
    "    for i in range(1,16):\n",
    "        sum += i\n",
    "    return sum "
   ]
  },
  {
   "cell_type": "code",
   "execution_count": 12,
   "id": "6dfdec3b-6043-4ee2-bab1-fa2eabb50888",
   "metadata": {},
   "outputs": [
    {
     "data": {
      "text/plain": [
       "120"
      ]
     },
     "execution_count": 12,
     "metadata": {},
     "output_type": "execute_result"
    }
   ],
   "source": [
    "add()"
   ]
  },
  {
   "cell_type": "markdown",
   "id": "5e92d48a-57e6-4979-9897-50eef8ff1084",
   "metadata": {},
   "source": [
    "## 11,2,3,4,5,6,7,8,9,10] 중 홀수만 3을 곱하여 출력하기"
   ]
  },
  {
   "cell_type": "code",
   "execution_count": 15,
   "id": "6ba230a2-7513-4076-af81-1516ec1235c5",
   "metadata": {},
   "outputs": [],
   "source": [
    "li = [1,2,3,4,5,6,7,8,9,10]\n",
    "li2 = []\n",
    "for i in li:\n",
    "    if i%2!=0:\n",
    "        li2.append(i*3)"
   ]
  },
  {
   "cell_type": "code",
   "execution_count": 16,
   "id": "98b0b3b2-42e5-45ee-95ac-db7950981658",
   "metadata": {},
   "outputs": [
    {
     "data": {
      "text/plain": [
       "[3, 9, 15, 21, 27]"
      ]
     },
     "execution_count": 16,
     "metadata": {},
     "output_type": "execute_result"
    }
   ],
   "source": [
    "li2"
   ]
  },
  {
   "cell_type": "code",
   "execution_count": 20,
   "id": "513c798a-e91c-42bf-85c6-6ffa1cfcdd64",
   "metadata": {},
   "outputs": [
    {
     "name": "stdout",
     "output_type": "stream",
     "text": [
      "[3, 9, 15, 21, 27]\n"
     ]
    }
   ],
   "source": [
    "a = [1, 2, 3, 4, 5, 6, 7, 8, 9, 10]\n",
    "result = [i*3 for i in a if i % 2 == 1]\n",
    "print(result)"
   ]
  },
  {
   "cell_type": "code",
   "execution_count": 19,
   "id": "5b9a7983-4770-4162-a320-5c4960c0ab98",
   "metadata": {},
   "outputs": [],
   "source": [
    "li = list(range(1,11))\n",
    "li = [i*3 for i in li if i%2==1]"
   ]
  },
  {
   "cell_type": "markdown",
   "id": "e856be5d-f997-41c8-808e-7fe44ea8dedc",
   "metadata": {},
   "source": [
    "## 1. factorial을 계산하는 함수를 for문으로 만드세요. (def factorial(n):   (for문을 활용하여)\n",
    "## 2. 재귀함수로 "
   ]
  },
  {
   "cell_type": "code",
   "execution_count": 25,
   "id": "b39c5434-c541-42bf-812d-34a78b136f58",
   "metadata": {},
   "outputs": [],
   "source": [
    "def factorial(n):\n",
    "    result = 1\n",
    "    for i in range(1,n+1):\n",
    "        result *= i\n",
    "    return result"
   ]
  },
  {
   "cell_type": "code",
   "execution_count": 44,
   "id": "79b701b7-7067-4617-83f2-af2d3e4d551b",
   "metadata": {},
   "outputs": [
    {
     "data": {
      "text/plain": [
       "120"
      ]
     },
     "execution_count": 44,
     "metadata": {},
     "output_type": "execute_result"
    }
   ],
   "source": [
    "factorial(5)"
   ]
  },
  {
   "cell_type": "code",
   "execution_count": 41,
   "id": "87ab0b90-716a-4bff-be06-300d8744b513",
   "metadata": {},
   "outputs": [],
   "source": [
    "def f(n):\n",
    "    if n == 1:\n",
    "        return 1\n",
    "    return n*f(n-1)"
   ]
  },
  {
   "cell_type": "code",
   "execution_count": 43,
   "id": "a3380651-ea8a-4d4c-ac96-e01542d46c34",
   "metadata": {},
   "outputs": [
    {
     "data": {
      "text/plain": [
       "120"
      ]
     },
     "execution_count": 43,
     "metadata": {},
     "output_type": "execute_result"
    }
   ],
   "source": [
    "f(5)"
   ]
  },
  {
   "cell_type": "code",
   "execution_count": 45,
   "id": "f5cf76ff-491c-4934-9c2f-6f3cf8f9574c",
   "metadata": {},
   "outputs": [],
   "source": [
    "# 피보나치 수열"
   ]
  },
  {
   "cell_type": "code",
   "execution_count": 52,
   "id": "faf6ec2a-bc2e-4dce-9941-0c61d6659374",
   "metadata": {},
   "outputs": [],
   "source": [
    "def p(n):\n",
    "    if n==1:\n",
    "        return 0 \n",
    "    elif n==2:\n",
    "        return 1\n",
    "    return p(n-1)+p(n-2)"
   ]
  },
  {
   "cell_type": "code",
   "execution_count": 53,
   "id": "1d6310ab-a9db-4bcc-a488-de615c13481c",
   "metadata": {},
   "outputs": [
    {
     "data": {
      "text/plain": [
       "34"
      ]
     },
     "execution_count": 53,
     "metadata": {},
     "output_type": "execute_result"
    }
   ],
   "source": [
    "p(10)"
   ]
  },
  {
   "cell_type": "code",
   "execution_count": 54,
   "id": "c8fdf0a5-aa38-40b4-b885-fd16d7355a93",
   "metadata": {},
   "outputs": [],
   "source": [
    "def p(n):\n",
    "    if n== 2 or n==1:\n",
    "        return 1\n",
    "    return p(n-1)+p(n-2)"
   ]
  },
  {
   "cell_type": "code",
   "execution_count": 55,
   "id": "6f2c2acb-bb75-472b-9794-1a5bf5b9dc37",
   "metadata": {},
   "outputs": [
    {
     "data": {
      "text/plain": [
       "5"
      ]
     },
     "execution_count": 55,
     "metadata": {},
     "output_type": "execute_result"
    }
   ],
   "source": [
    "p(5)"
   ]
  },
  {
   "cell_type": "markdown",
   "id": "804f7c0d-cb00-427a-ae09-2ef3de64756e",
   "metadata": {},
   "source": [
    "## 3자리 수를 입력 받아서 각 자리수의 숫자들을 반환하는 함수를 작성하라. ``` ex) 인수가 265일 경우 (2,6,5)를 반환```"
   ]
  },
  {
   "cell_type": "code",
   "execution_count": 105,
   "id": "63426305-597c-45c4-a557-801900577f42",
   "metadata": {},
   "outputs": [
    {
     "name": "stdin",
     "output_type": "stream",
     "text": [
      "세 자리수 입력 456\n"
     ]
    },
    {
     "name": "stdout",
     "output_type": "stream",
     "text": [
      "4 5 6 "
     ]
    }
   ],
   "source": [
    "a=input(\"세 자리수 입력\")\n",
    "for i in range(0,len(a)):\n",
    "    print(a[i],end=' ')"
   ]
  },
  {
   "cell_type": "code",
   "execution_count": 69,
   "id": "27a66d99-0ad8-4717-bbdb-3370a5e6ba44",
   "metadata": {},
   "outputs": [],
   "source": []
  },
  {
   "cell_type": "code",
   "execution_count": 73,
   "id": "b6f48011-2509-47e4-af80-b9ceb9a253d4",
   "metadata": {},
   "outputs": [],
   "source": [
    "def ret(n):\n",
    "    a = n//100 \n",
    "    b = (n-a*100)//10\n",
    "    c = (n-a*100-b*10)\n",
    "    print(a,b,c) "
   ]
  },
  {
   "cell_type": "code",
   "execution_count": 74,
   "id": "7aeb7cf0-cbdc-4738-9f45-1c8a6a7125c2",
   "metadata": {},
   "outputs": [
    {
     "name": "stdout",
     "output_type": "stream",
     "text": [
      "4 5 6\n"
     ]
    }
   ],
   "source": [
    "ret(456)"
   ]
  },
  {
   "cell_type": "code",
   "execution_count": 85,
   "id": "d84a42c1-2ede-4c17-8753-2581dfea9f7c",
   "metadata": {},
   "outputs": [],
   "source": [
    "def si(n):\n",
    "    a = str(n)\n",
    "    for i in range(3):\n",
    "        print(a[i],end=',')\n",
    "     "
   ]
  },
  {
   "cell_type": "code",
   "execution_count": 86,
   "id": "7c192cae-d9f1-42c4-bb60-36e76f683f8e",
   "metadata": {},
   "outputs": [
    {
     "name": "stdout",
     "output_type": "stream",
     "text": [
      "4,5,6,"
     ]
    }
   ],
   "source": [
    "si(456)"
   ]
  },
  {
   "cell_type": "markdown",
   "id": "5c631a67-e06b-4a8e-a5ed-b45251ea7f07",
   "metadata": {
    "tags": []
   },
   "source": [
    "## 임의의 두 수의 합을 처음 부른 수로 나누는 식을 만들어보세요."
   ]
  },
  {
   "cell_type": "code",
   "execution_count": 106,
   "id": "d3fc0a9e-d1a9-4457-a7dc-22c79d58333c",
   "metadata": {},
   "outputs": [],
   "source": [
    "def cal(a,b):\n",
    "    return (a+b)/a"
   ]
  },
  {
   "cell_type": "code",
   "execution_count": 107,
   "id": "1f6cbc62-bdb7-41e4-835b-1f179d62d9c5",
   "metadata": {},
   "outputs": [
    {
     "data": {
      "text/plain": [
       "3.0"
      ]
     },
     "execution_count": 107,
     "metadata": {},
     "output_type": "execute_result"
    }
   ],
   "source": [
    "cal(3,6)"
   ]
  },
  {
   "cell_type": "code",
   "execution_count": 108,
   "id": "84e7bc97-b546-460c-94b0-22cafd47f1e4",
   "metadata": {},
   "outputs": [],
   "source": [
    "# 위 식을 람다함수로 변형해주세요. "
   ]
  },
  {
   "cell_type": "code",
   "execution_count": 114,
   "id": "a23c41d1-3530-4ab1-8259-dea0949733dc",
   "metadata": {},
   "outputs": [
    {
     "data": {
      "text/plain": [
       "3.0"
      ]
     },
     "execution_count": 114,
     "metadata": {},
     "output_type": "execute_result"
    }
   ],
   "source": [
    "(lambda a,b: (a+b)/a) (3,6)"
   ]
  },
  {
   "cell_type": "code",
   "execution_count": 115,
   "id": "760c31a9-6515-4283-a3c1-fe2d6d8a8d4d",
   "metadata": {},
   "outputs": [],
   "source": [
    "# thanks.txt 에 다음 두줄을 저장하세요.\n",
    "# \"Hello\"\n",
    "# \"Thank you\""
   ]
  },
  {
   "cell_type": "code",
   "execution_count": 123,
   "id": "36ab31ea-7879-4488-af08-f411cb95e9ae",
   "metadata": {},
   "outputs": [],
   "source": [
    "with open(\"thank.txt\",\"w\") as f:\n",
    "    f.write(\"Hello\\n\"\"Thank you\")\n",
    "    f.write(\"Thank you\")\n",
    "    "
   ]
  },
  {
   "cell_type": "code",
   "execution_count": 127,
   "id": "f3d7e75b-2a5d-4c7d-96ab-ce4d0086ce24",
   "metadata": {},
   "outputs": [
    {
     "ename": "SyntaxError",
     "evalue": "invalid syntax (<ipython-input-127-d713fee346ad>, line 1)",
     "output_type": "error",
     "traceback": [
      "\u001b[1;36m  File \u001b[1;32m\"<ipython-input-127-d713fee346ad>\"\u001b[1;36m, line \u001b[1;32m1\u001b[0m\n\u001b[1;33m    f= open(\"thank.txt\",\"w\"):\u001b[0m\n\u001b[1;37m                            ^\u001b[0m\n\u001b[1;31mSyntaxError\u001b[0m\u001b[1;31m:\u001b[0m invalid syntax\n"
     ]
    }
   ],
   "source": [
    "f= open(\"thank.txt\",\"w\"):\n",
    "    f.write(\"Hello\\n\")\n",
    "    f.write(\"thank you\")\n",
    "    f.close()"
   ]
  },
  {
   "cell_type": "code",
   "execution_count": null,
   "id": "3daf5c7b-a52e-483d-b8f8-c879321eee57",
   "metadata": {},
   "outputs": [],
   "source": [
    "# Some Greenland polar bears adapt to hunt without sea ice\n",
    "# Yen falls as Bank of Japan bucks rate rise trend "
   ]
  },
  {
   "cell_type": "code",
   "execution_count": 128,
   "id": "580625cc-c766-42cf-8641-2453cbd172e1",
   "metadata": {},
   "outputs": [],
   "source": [
    "with open(\"thanks.txt\",\"w\") as f:\n",
    "    f.write(\"Some Greenland polar bears adapt to hunt without sea ice\\n\")\n",
    "    f.write(\"Yen falls as Bank of Japan bucks rate rise trend\")"
   ]
  },
  {
   "cell_type": "code",
   "execution_count": 129,
   "id": "990adf57-2aa0-46c6-8d27-4167065b0b6a",
   "metadata": {},
   "outputs": [],
   "source": [
    "# 불러오시오. readlines() 를 이용하여"
   ]
  },
  {
   "cell_type": "code",
   "execution_count": 135,
   "id": "132c80ae-1624-44b4-a26a-476f626be55f",
   "metadata": {},
   "outputs": [
    {
     "name": "stdout",
     "output_type": "stream",
     "text": [
      "Some Greenland polar bears adapt to hunt without sea ice\n",
      "Yen falls as Bank of Japan bucks rate rise trend"
     ]
    }
   ],
   "source": [
    "f = open(\"thanks.txt\",'r')\n",
    "lines = f.readlines()\n",
    "for line in lines:\n",
    "    print(line,end='')\n",
    "f.close()"
   ]
  },
  {
   "cell_type": "markdown",
   "id": "209c4165-757e-4730-95f6-ad29b92b9748",
   "metadata": {},
   "source": [
    "```\n",
    "menu = {'아메리카노':1000,'카페라떼':2000,'쿠키':1500,'베이글':3000,'사과쥬스':3500}\n",
    "order라는 사용자 정의함수를 만듭니다.\n",
    "원하는 메뉴만 1개이상 5개이하로 여러개를 입력받는다. \n",
    "그 만큼 결제금액을 출력합니다.\n",
    "```"
   ]
  },
  {
   "cell_type": "code",
   "execution_count": 150,
   "id": "2c4c78e7-7dc4-4912-822e-e240559b2fab",
   "metadata": {},
   "outputs": [
    {
     "ename": "SyntaxError",
     "evalue": "invalid syntax (<ipython-input-150-310455d00487>, line 5)",
     "output_type": "error",
     "traceback": [
      "\u001b[1;36m  File \u001b[1;32m\"<ipython-input-150-310455d00487>\"\u001b[1;36m, line \u001b[1;32m5\u001b[0m\n\u001b[1;33m    menu.keys()==\"i\":\u001b[0m\n\u001b[1;37m                     ^\u001b[0m\n\u001b[1;31mSyntaxError\u001b[0m\u001b[1;31m:\u001b[0m invalid syntax\n"
     ]
    }
   ],
   "source": [
    "menu = {'아메리카노':1000,'카페라떼':2000,'쿠키':1500,'베이글':3000,'사과쥬스':3500}\n",
    "def order(*li):\n",
    "\n",
    "    for i in li:\n",
    "        menu.keys()==\"i\":\n",
    "            result = 0\n",
    "            result += i.values()\n",
    "    return print(result)\n",
    "    \n",
    "    "
   ]
  },
  {
   "cell_type": "code",
   "execution_count": 148,
   "id": "aa064027-d16e-4a79-96cc-25606dc482e9",
   "metadata": {},
   "outputs": [],
   "source": [
    "menu = {'아메리카노':1000,'카페라떼':2000,'쿠키':1500,'베이글':3000,'사과쥬스':3500}\n",
    "def order(*args):\n",
    "    sum=0\n",
    "    print(\"<주문 목록>\")\n",
    "    print(\"=\"*20)\n",
    "    for i in args:\n",
    "        print(i+\"\\n\")\n",
    "        sum += menu[i]\n",
    "    print(\"=\"*20)\n",
    "    print(f\"총 금액은 {sum}입니다.\")"
   ]
  },
  {
   "cell_type": "code",
   "execution_count": 149,
   "id": "16f469da-e86e-44d3-9e9d-2058e9879fae",
   "metadata": {},
   "outputs": [
    {
     "name": "stdout",
     "output_type": "stream",
     "text": [
      "<주문 목록>\n",
      "====================\n",
      "아메리카노\n",
      "\n",
      "쿠키\n",
      "\n",
      "베이글\n",
      "\n",
      "아메리카노\n",
      "\n",
      "====================\n",
      "총 금액은 6500입니다.\n"
     ]
    }
   ],
   "source": [
    "order(\"아메리카노\",\"쿠키\",\"베이글\",\"아메리카노\")"
   ]
  },
  {
   "cell_type": "markdown",
   "id": "3ceb4d16-9231-420d-9406-0c02448c08b0",
   "metadata": {},
   "source": [
    "``` \n",
    "해당ㅇ 숫자가 소수인지를 확인하는 함수를 만드시오. \n",
    "def sosu(n):\n",
    "13은 소수 입니다.\n",
    "10은 소수가 아닙니다.\n",
    "```"
   ]
  },
  {
   "cell_type": "code",
   "execution_count": 163,
   "id": "9e90ca9a-703b-4454-b54b-3339c5be9eca",
   "metadata": {},
   "outputs": [],
   "source": [
    "def sosu(n):\n",
    "    if n == 1 :\n",
    "        return f'{n}는 소수가 아닙니다.'\n",
    "    for i in range(2,n):\n",
    "        if n%i==0:\n",
    "            return f'{n}은 소수가 아닙니다.'\n",
    "    return f'{n}은 소수 입니다.'"
   ]
  },
  {
   "cell_type": "code",
   "execution_count": 165,
   "id": "1d4c948e-1480-4504-96db-9a9e0f5ec970",
   "metadata": {},
   "outputs": [
    {
     "data": {
      "text/plain": [
       "'2은 소수 입니다.'"
      ]
     },
     "execution_count": 165,
     "metadata": {},
     "output_type": "execute_result"
    }
   ],
   "source": [
    "sosu(2)"
   ]
  },
  {
   "cell_type": "code",
   "execution_count": 170,
   "id": "4f24876f-31d9-4d44-be6b-9e22b094a916",
   "metadata": {},
   "outputs": [
    {
     "data": {
      "text/plain": [
       "3"
      ]
     },
     "execution_count": 170,
     "metadata": {},
     "output_type": "execute_result"
    }
   ],
   "source": [
    "class Calculator:\n",
    "    def __init__(self):\n",
    "        self.result = 0\n",
    "        \n",
    "    def add(self, num):\n",
    "        self.result += num\n",
    "        return self.result\n",
    "    \n",
    "    def subtract(self, num):\n",
    "        self.result -= num\n",
    "        return self.result\n",
    "    \n",
    "cal = Calculator()\n",
    "cal.add(3)"
   ]
  },
  {
   "cell_type": "markdown",
   "id": "715daeaf-24a9-4aed-bde1-29d45a2d1604",
   "metadata": {},
   "source": [
    "# 6월 21일"
   ]
  },
  {
   "cell_type": "code",
   "execution_count": 3,
   "id": "9e7e30cd-4b97-4a5f-abfa-578d4a2c4c5d",
   "metadata": {},
   "outputs": [
    {
     "name": "stdin",
     "output_type": "stream",
     "text": [
      "나이: 4\n"
     ]
    }
   ],
   "source": [
    "class Person:\n",
    "    def __init__(self):\n",
    "        self.name = \"Park\"\n",
    "        self.age = int(input(\"나이:\"))\n",
    "        \n",
    "p1=Person()"
   ]
  },
  {
   "cell_type": "code",
   "execution_count": 4,
   "id": "55af3032-e3ee-45c9-8d09-f682b3a18b8c",
   "metadata": {},
   "outputs": [
    {
     "data": {
      "text/plain": [
       "4"
      ]
     },
     "execution_count": 4,
     "metadata": {},
     "output_type": "execute_result"
    }
   ],
   "source": [
    "p1.name\n",
    "p1.age"
   ]
  },
  {
   "cell_type": "code",
   "execution_count": 8,
   "id": "430690b8-92cc-41f0-9317-bae451c0f7ff",
   "metadata": {},
   "outputs": [
    {
     "name": "stdout",
     "output_type": "stream",
     "text": [
      "park\n",
      "20\n"
     ]
    }
   ],
   "source": [
    "class Person:\n",
    "    def __init__(self,name,age):\n",
    "        self.name = name\n",
    "        self.age = age\n",
    "        \n",
    "    def show(self):\n",
    "        print(f\"이름은 {self.name} 이고 나이는 {self.age} 입니다.\")\n",
    "        \n",
    "p1=Person(\"park\",20)\n",
    "print(p1.name)\n",
    "print(p1.age)"
   ]
  },
  {
   "cell_type": "code",
   "execution_count": 9,
   "id": "73a5d972-2ea2-4b7e-8e1a-3969ab3e86bd",
   "metadata": {},
   "outputs": [
    {
     "name": "stdout",
     "output_type": "stream",
     "text": [
      "이름은 park 이고 나이는 20 입니다.\n"
     ]
    }
   ],
   "source": [
    "p1.show()"
   ]
  },
  {
   "cell_type": "code",
   "execution_count": 12,
   "id": "5d1a027b-3125-4245-800b-52a12a0d9134",
   "metadata": {},
   "outputs": [
    {
     "name": "stdin",
     "output_type": "stream",
     "text": [
      "이름 길동\n",
      "나이 25\n",
      "이름 전우치\n",
      "나이 22\n",
      "이름 철수\n",
      "나이 55\n"
     ]
    }
   ],
   "source": [
    "class Person:\n",
    "    def __init__(self):\n",
    "        self.name = input(\"이름\")\n",
    "        self.age = input(\"나이\")\n",
    "        \n",
    "    def show(self):\n",
    "        print(f\"이름은 {self.name} 이고 나이는 {self.age} 입니다.\")\n",
    "        \n",
    "li=[]\n",
    "for i in range(3):\n",
    "    li.append(Person())"
   ]
  },
  {
   "cell_type": "code",
   "execution_count": 15,
   "id": "1b669e85-ff39-41ba-a96e-302978d12335",
   "metadata": {},
   "outputs": [
    {
     "data": {
      "text/plain": [
       "[<__main__.Person at 0x6480fe31f0>,\n",
       " <__main__.Person at 0x6480fe3100>,\n",
       " <__main__.Person at 0x6480fe3130>]"
      ]
     },
     "execution_count": 15,
     "metadata": {},
     "output_type": "execute_result"
    }
   ],
   "source": [
    "li"
   ]
  },
  {
   "cell_type": "code",
   "execution_count": 17,
   "id": "28aaea7d-8277-4d60-80dd-c0d341f5f1c3",
   "metadata": {},
   "outputs": [
    {
     "name": "stdout",
     "output_type": "stream",
     "text": [
      "이름은 길동 이고 나이는 25 입니다.\n",
      "이름은 전우치 이고 나이는 22 입니다.\n",
      "이름은 철수 이고 나이는 55 입니다.\n"
     ]
    }
   ],
   "source": [
    "for i in range(3):\n",
    "    li[i].show()"
   ]
  },
  {
   "cell_type": "code",
   "execution_count": 20,
   "id": "1c45b896-6be6-4657-aa7f-c9ae277c8eb5",
   "metadata": {},
   "outputs": [
    {
     "name": "stdout",
     "output_type": "stream",
     "text": [
      "이름은 길동 이고 나이는 25 입니다.\n",
      "이름은 전우치 이고 나이는 22 입니다.\n",
      "이름은 철수 이고 나이는 55 입니다.\n"
     ]
    }
   ],
   "source": [
    "for obj in li:\n",
    "    obj.show()"
   ]
  },
  {
   "cell_type": "code",
   "execution_count": 21,
   "id": "3de179fb-a783-4a1a-a0d0-970c2610469d",
   "metadata": {},
   "outputs": [
    {
     "name": "stdout",
     "output_type": "stream",
     "text": [
      "3번 학생 축하하비낟. 합격입니다.\n",
      "4번 학생 축하하비낟. 합격입니다.\n"
     ]
    }
   ],
   "source": [
    "marks = [5,6,11,15,2]\n",
    "number = 0\n",
    "for i in marks:\n",
    "    number += 1\n",
    "    if i <10 : continue\n",
    "    print(\"%d번 학생 축하하비낟. 합격입니다.\" %number)"
   ]
  },
  {
   "cell_type": "code",
   "execution_count": 5,
   "id": "171d13e8-0314-4b7a-a459-0f5eda44f0d5",
   "metadata": {},
   "outputs": [],
   "source": [
    "with open(\"mytest1.txt\",\"w\") as f:\n",
    "    for i in range(1,11):\n",
    "        data = \"%d 번째 줄입니다.\\n\" %i\n",
    "        f.write(data)\n",
    "f.close()"
   ]
  },
  {
   "cell_type": "code",
   "execution_count": 6,
   "id": "56cd2bda-e6f8-4fd0-aaee-a54d65033ce9",
   "metadata": {},
   "outputs": [
    {
     "name": "stdout",
     "output_type": "stream",
     "text": [
      "1 번째 줄입니다.\n",
      "\n"
     ]
    }
   ],
   "source": [
    "f = open(\"mytest1.txt\",\"r\")\n",
    "line = f.readline()\n",
    "print(line)\n",
    "f.close()"
   ]
  },
  {
   "cell_type": "code",
   "execution_count": 10,
   "id": "62117b23-1d98-49fe-be1f-33ba4aa487d6",
   "metadata": {},
   "outputs": [
    {
     "name": "stdout",
     "output_type": "stream",
     "text": [
      "1 번째 줄입니다.\n",
      "2 번째 줄입니다.\n",
      "3 번째 줄입니다.\n",
      "4 번째 줄입니다.\n",
      "5 번째 줄입니다.\n",
      "6 번째 줄입니다.\n",
      "7 번째 줄입니다.\n",
      "8 번째 줄입니다.\n",
      "9 번째 줄입니다.\n",
      "10 번째 줄입니다.\n",
      "\n"
     ]
    }
   ],
   "source": [
    "f= open(\"mytest1.txt\",\"r\")\n",
    "data = f.read()\n",
    "print(data)\n",
    "f.close()"
   ]
  },
  {
   "cell_type": "code",
   "execution_count": 11,
   "id": "243149d9-afc0-4f8d-9101-892911654171",
   "metadata": {},
   "outputs": [
    {
     "name": "stdout",
     "output_type": "stream",
     "text": [
      "1 번째 줄입니다.\n",
      "\n",
      "2 번째 줄입니다.\n",
      "\n",
      "3 번째 줄입니다.\n",
      "\n",
      "4 번째 줄입니다.\n",
      "\n",
      "5 번째 줄입니다.\n",
      "\n",
      "6 번째 줄입니다.\n",
      "\n",
      "7 번째 줄입니다.\n",
      "\n",
      "8 번째 줄입니다.\n",
      "\n",
      "9 번째 줄입니다.\n",
      "\n",
      "10 번째 줄입니다.\n",
      "\n"
     ]
    }
   ],
   "source": [
    "f= open(\"mytest1.txt\",\"r\")\n",
    "while True:\n",
    "    line = f.readline()\n",
    "    if not line: break\n",
    "    print(line)\n",
    "f.close()"
   ]
  },
  {
   "cell_type": "code",
   "execution_count": 12,
   "id": "5bf1b922-6ce2-43ca-9ca8-8b1e865ff370",
   "metadata": {},
   "outputs": [
    {
     "name": "stdout",
     "output_type": "stream",
     "text": [
      "1 번째 줄입니다.\n",
      "\n",
      "2 번째 줄입니다.\n",
      "\n",
      "3 번째 줄입니다.\n",
      "\n",
      "4 번째 줄입니다.\n",
      "\n",
      "5 번째 줄입니다.\n",
      "\n",
      "6 번째 줄입니다.\n",
      "\n",
      "7 번째 줄입니다.\n",
      "\n",
      "8 번째 줄입니다.\n",
      "\n",
      "9 번째 줄입니다.\n",
      "\n",
      "10 번째 줄입니다.\n",
      "\n"
     ]
    }
   ],
   "source": [
    "f= open(\"mytest1.txt\",\"r\")\n",
    "lines = f.readlines()\n",
    "for line in lines:\n",
    "    print(line)\n",
    "f.close()"
   ]
  },
  {
   "cell_type": "code",
   "execution_count": 17,
   "id": "959dd568-b596-4d70-a9c2-37744ece7fcc",
   "metadata": {},
   "outputs": [
    {
     "name": "stdout",
     "output_type": "stream",
     "text": [
      "[1, 2, 3]\n"
     ]
    }
   ],
   "source": [
    "import pickle\n",
    "li = [1,2,3]\n",
    "\n",
    "with open(\"a\",\"wb\") as f:\n",
    "    pickle.dump(li,f)\n",
    "\n",
    "with open(\"a\",\"rb\") as f:\n",
    "    data = pickle.load(f)\n",
    "print(data)"
   ]
  },
  {
   "cell_type": "code",
   "execution_count": 18,
   "id": "51bbc177-47bd-4ed2-a69c-0ad466967e0e",
   "metadata": {},
   "outputs": [
    {
     "name": "stdout",
     "output_type": "stream",
     "text": [
      "[1, 2, 3]\n"
     ]
    }
   ],
   "source": [
    "import pickle\n",
    "li = [1,2,3]\n",
    "\n",
    "with open(\"a\",\"wb\") as f:\n",
    "    pickle.dump(li,f)\n",
    "\n",
    "with open(\"a\",\"rb\") as f:\n",
    "    data = pickle.load(f)\n",
    "print(data)"
   ]
  },
  {
   "cell_type": "code",
   "execution_count": 29,
   "id": "bc70a5e2-a93f-4c0f-9a0a-cbd30ea07fe0",
   "metadata": {},
   "outputs": [
    {
     "data": {
      "text/plain": [
       "2000"
      ]
     },
     "execution_count": 29,
     "metadata": {},
     "output_type": "execute_result"
    }
   ],
   "source": [
    "class Ham:\n",
    "    def __init__(self):\n",
    "        self.name = \"A버거\"\n",
    "        self.price = 1000\n",
    "\n",
    "class Ham_B(Ham):\n",
    "    def __init__(self):\n",
    "        super().__init__()\n",
    "        self.price = 2000\n",
    "\n",
    "a=Ham_B()\n",
    "a.price\n"
   ]
  },
  {
   "cell_type": "code",
   "execution_count": null,
   "id": "df473a0c-6305-4278-9be3-1efdda051481",
   "metadata": {},
   "outputs": [],
   "source": [
    "class Ham:\n",
    "    def __init__(self):\n",
    "        self.name = \"A버거\"\n",
    "        self.price = 1000\n",
    "\n",
    "class Ham_B(Ham):\n",
    "    def __init__(self):\n",
    "        super().__init__()\n",
    "        self.price = 2000"
   ]
  },
  {
   "cell_type": "markdown",
   "id": "86a83e78-30ea-471d-9f18-0ec598f24b5c",
   "metadata": {},
   "source": [
    "# 6월 22일"
   ]
  },
  {
   "cell_type": "code",
   "execution_count": 2,
   "id": "70989aae-bf94-447b-ae27-2ed1ca8b7397",
   "metadata": {},
   "outputs": [
    {
     "name": "stdout",
     "output_type": "stream",
     "text": [
      "7\n"
     ]
    }
   ],
   "source": [
    "def add(a,b):\n",
    "    return a+b\n",
    "print(add(3,4))"
   ]
  },
  {
   "cell_type": "code",
   "execution_count": 3,
   "id": "aa960711-f31c-458f-8d3d-45a7423152d4",
   "metadata": {},
   "outputs": [
    {
     "name": "stdout",
     "output_type": "stream",
     "text": [
      "7\n"
     ]
    }
   ],
   "source": [
    "add = lambda a,b:a+b\n",
    "print(add(3,4))"
   ]
  },
  {
   "cell_type": "code",
   "execution_count": 24,
   "id": "dddddf61-5cf3-4819-90ba-b1f83cc90040",
   "metadata": {},
   "outputs": [],
   "source": [
    "import pickle\n",
    "\n",
    "with open ('test1.txt','wb') as f:\n",
    "    a= {1:2,3:4}\n",
    "    pickle.dump(a,f)\n",
    "f.close()"
   ]
  },
  {
   "cell_type": "code",
   "execution_count": 28,
   "id": "7590a2bd-a48f-4d93-9545-998ad91f81e4",
   "metadata": {},
   "outputs": [
    {
     "name": "stdout",
     "output_type": "stream",
     "text": [
      "{1: 2, 3: 4}\n"
     ]
    }
   ],
   "source": [
    "with open ('test1.txt','rb') as f:\n",
    "    a = pickle.load(f)\n",
    "    print(a)"
   ]
  },
  {
   "cell_type": "markdown",
   "id": "af9dba7a-e71e-4d81-b558-eae3a1a2fd63",
   "metadata": {},
   "source": [
    "1. PY 라는 디렉토리를 만듭시다\n",
    "2. PY 디렉토리를 워킹디렉토리로 지정합니다\n",
    "3. 워킹디렉토리를 확인합시다.\n",
    "4. '1,2,3,4,5,...10,' 가 들어있는 number.txt를 저장합시다.\n",
    "5. number.txt 를 지웁시다. # <- os.remove(\"파일이름\")\n",
    "6. 워킹디렉토리를 C:/Users/admin 으로 합시다\n",
    "7. PY디렉토리를 지웁니다."
   ]
  },
  {
   "cell_type": "code",
   "execution_count": 118,
   "id": "61da42a2-dcf5-4252-a894-692c036ba147",
   "metadata": {},
   "outputs": [
    {
     "ename": "FileNotFoundError",
     "evalue": "[WinError 2] 지정된 파일을 찾을 수 없습니다: 'c:/Users/admin/PY1'",
     "output_type": "error",
     "traceback": [
      "\u001b[1;31m---------------------------------------------------------------------------\u001b[0m",
      "\u001b[1;31mFileNotFoundError\u001b[0m                         Traceback (most recent call last)",
      "\u001b[1;32m<ipython-input-118-1fbc105abd87>\u001b[0m in \u001b[0;36m<module>\u001b[1;34m\u001b[0m\n\u001b[0;32m      1\u001b[0m \u001b[1;32mimport\u001b[0m \u001b[0mos\u001b[0m\u001b[1;33m\u001b[0m\u001b[1;33m\u001b[0m\u001b[0m\n\u001b[0;32m      2\u001b[0m \u001b[0mos\u001b[0m\u001b[1;33m.\u001b[0m\u001b[0mmkdir\u001b[0m\u001b[1;33m(\u001b[0m\u001b[1;34m'PY1'\u001b[0m\u001b[1;33m)\u001b[0m\u001b[1;33m\u001b[0m\u001b[1;33m\u001b[0m\u001b[0m\n\u001b[1;32m----> 3\u001b[1;33m \u001b[0mos\u001b[0m\u001b[1;33m.\u001b[0m\u001b[0mchdir\u001b[0m\u001b[1;33m(\u001b[0m\u001b[1;34m'c:/Users/admin/PY1'\u001b[0m\u001b[1;33m)\u001b[0m\u001b[1;33m\u001b[0m\u001b[1;33m\u001b[0m\u001b[0m\n\u001b[0m\u001b[0;32m      4\u001b[0m \u001b[0mos\u001b[0m\u001b[1;33m.\u001b[0m\u001b[0mgetcwd\u001b[0m\u001b[1;33m(\u001b[0m\u001b[1;33m)\u001b[0m\u001b[1;33m\u001b[0m\u001b[1;33m\u001b[0m\u001b[0m\n\u001b[0;32m      5\u001b[0m \u001b[1;32mwith\u001b[0m \u001b[0mopen\u001b[0m\u001b[1;33m(\u001b[0m\u001b[1;34m\"number3.txt\"\u001b[0m\u001b[1;33m,\u001b[0m\u001b[1;34m\"w\"\u001b[0m\u001b[1;33m)\u001b[0m \u001b[1;32mas\u001b[0m \u001b[0mf\u001b[0m\u001b[1;33m:\u001b[0m\u001b[1;33m\u001b[0m\u001b[1;33m\u001b[0m\u001b[0m\n",
      "\u001b[1;31mFileNotFoundError\u001b[0m: [WinError 2] 지정된 파일을 찾을 수 없습니다: 'c:/Users/admin/PY1'"
     ]
    }
   ],
   "source": [
    "import os\n",
    "os.mkdir('PY')\n",
    "os.chdir('c:/Users/admin/PY')\n",
    "os.getcwd()\n",
    "with open(\"number3.txt\",\"w\") as f:\n",
    "    for i in range(1,11):\n",
    "        f.write(f\"{i},\")\n",
    "os.remove('number3.txt')\n",
    "os.chdir(\"c:/Users/admin\")\n",
    "os.rmdir(\"c:/Users/admin/PY\")"
   ]
  },
  {
   "cell_type": "code",
   "execution_count": 50,
   "id": "a14ff182-ee2d-40d0-8f1d-1438be49301d",
   "metadata": {},
   "outputs": [
    {
     "data": {
      "text/plain": [
       "['C:/Users/admin\\\\myfile.txt',\n",
       " 'C:/Users/admin\\\\number.txt',\n",
       " 'C:/Users/admin\\\\number1.txt',\n",
       " 'C:/Users/admin\\\\test1.txt',\n",
       " 'C:/Users/admin\\\\test2.txt',\n",
       " 'C:/Users/admin\\\\test3.txt',\n",
       " 'C:/Users/admin\\\\zuoye.txt']"
      ]
     },
     "execution_count": 50,
     "metadata": {},
     "output_type": "execute_result"
    }
   ],
   "source": [
    "import glob\n",
    "glob.glob(\"C:/Users/admin/*txt\")"
   ]
  },
  {
   "cell_type": "code",
   "execution_count": 61,
   "id": "bef69960-e0da-4218-a4a4-3a4905c99990",
   "metadata": {},
   "outputs": [
    {
     "data": {
      "text/plain": [
       "time.struct_time(tm_year=2022, tm_mon=6, tm_mday=22, tm_hour=13, tm_min=43, tm_sec=10, tm_wday=2, tm_yday=173, tm_isdst=0)"
      ]
     },
     "execution_count": 61,
     "metadata": {},
     "output_type": "execute_result"
    }
   ],
   "source": [
    "import time\n",
    "time.localtime(time.time())"
   ]
  },
  {
   "cell_type": "code",
   "execution_count": 62,
   "id": "7f1e7fe0-42cc-45c6-b987-16df2c433f74",
   "metadata": {},
   "outputs": [
    {
     "data": {
      "text/plain": [
       "'Wed Jun 22 13:43:25 2022'"
      ]
     },
     "execution_count": 62,
     "metadata": {},
     "output_type": "execute_result"
    }
   ],
   "source": [
    "time.ctime()"
   ]
  },
  {
   "cell_type": "code",
   "execution_count": 66,
   "id": "05e103d4-bbbf-4eaf-9ec9-94c5a12440f4",
   "metadata": {},
   "outputs": [
    {
     "data": {
      "text/plain": [
       "'2022/06/22 01:46:35'"
      ]
     },
     "execution_count": 66,
     "metadata": {},
     "output_type": "execute_result"
    }
   ],
   "source": [
    "time.strftime(\"%Y/%m/%d %I:%M:%S\",time.localtime(time.time()))"
   ]
  },
  {
   "cell_type": "code",
   "execution_count": 69,
   "id": "b9b602ee-9254-48aa-8cab-b01115697433",
   "metadata": {},
   "outputs": [
    {
     "data": {
      "text/plain": [
       "0.019064296470859277"
      ]
     },
     "execution_count": 69,
     "metadata": {},
     "output_type": "execute_result"
    }
   ],
   "source": [
    "import random\n",
    "random.random()"
   ]
  },
  {
   "cell_type": "code",
   "execution_count": 71,
   "id": "92528afa-52a8-4c8e-a3b3-c896a7471f95",
   "metadata": {},
   "outputs": [
    {
     "data": {
      "text/plain": [
       "1"
      ]
     },
     "execution_count": 71,
     "metadata": {},
     "output_type": "execute_result"
    }
   ],
   "source": [
    "random.randint(1,2)"
   ]
  },
  {
   "cell_type": "code",
   "execution_count": 90,
   "id": "ea231efe-a976-4c29-95b1-ef8eed166316",
   "metadata": {},
   "outputs": [],
   "source": [
    "random.choice([1,2,4,5])\n",
    "li=[1,2,3,4]"
   ]
  },
  {
   "cell_type": "code",
   "execution_count": 98,
   "id": "8e9c2496-a694-4d64-af5b-108cfc039671",
   "metadata": {},
   "outputs": [],
   "source": [
    "random.shuffle(li)"
   ]
  },
  {
   "cell_type": "code",
   "execution_count": 99,
   "id": "09e0844f-cd60-4d5f-9ab6-9a5e210570ad",
   "metadata": {},
   "outputs": [
    {
     "data": {
      "text/plain": [
       "[1, 3, 2, 4]"
      ]
     },
     "execution_count": 99,
     "metadata": {},
     "output_type": "execute_result"
    }
   ],
   "source": [
    "li"
   ]
  },
  {
   "cell_type": "code",
   "execution_count": 113,
   "id": "22089c10-e4d2-4388-9d51-5b2e056c5c24",
   "metadata": {},
   "outputs": [
    {
     "data": {
      "text/plain": [
       "2"
      ]
     },
     "execution_count": 113,
     "metadata": {},
     "output_type": "execute_result"
    }
   ],
   "source": [
    "random.seed(3)\n",
    "random.randint(1,4)"
   ]
  },
  {
   "cell_type": "raw",
   "id": "b3093c45-bae8-4495-984c-205b7183732c",
   "metadata": {},
   "source": [
    "random.uniform(1,2)"
   ]
  },
  {
   "cell_type": "code",
   "execution_count": null,
   "id": "e65f4fd3-53ff-4fdb-96e2-072b719c7c37",
   "metadata": {},
   "outputs": [],
   "source": []
  },
  {
   "cell_type": "code",
   "execution_count": 136,
   "id": "07088e69-b9ad-42aa-9931-d172ebf12024",
   "metadata": {},
   "outputs": [],
   "source": [
    "import sys\n",
    "with open(\"memo.txt\",\"w\") as f:\n",
    "    line = sys.argv[1]\n",
    "    f.write(line)\n",
    "    line = sys.argv[2]\n",
    "    f.write(line)"
   ]
  },
  {
   "cell_type": "code",
   "execution_count": 138,
   "id": "3646a153-7051-426f-b2eb-a217b195acb7",
   "metadata": {},
   "outputs": [],
   "source": [
    "with open('memo.py','w') as f:\n",
    "    f.write(\"\"\"import sys\n",
    "arg = sys.argv[1]\n",
    "if \"-a\" == arg:\n",
    "    with open('test.txt','a') as f:\n",
    "        arg = sys.argv[2]\n",
    "        f.write(arg)\n",
    "        f.write(\"\\\\n\")\n",
    "        arg = sys.argv[3]\n",
    "        f.write(arg)\n",
    "        f.write(\"\\\\n\")\n",
    "    \n",
    "else:\n",
    "    with open('test.txt','w') as f:\n",
    "        arg = sys.argv[1]\n",
    "        f.write(arg)\n",
    "        f.write(\"\\\\n\")\n",
    "        arg = sys.argv[2]\n",
    "        f.write(arg)\n",
    "        f.write(\"\\\\n\")\"\"\") "
   ]
  },
  {
   "cell_type": "markdown",
   "id": "de937c78-17c0-4bab-b558-fb4e680e454e",
   "metadata": {},
   "source": [
    "1. time을 활용하여 현재 연도부터 초까지 아래 형식으로 나오게하세요.\n",
    "\" 2022/06/22 17:52:10\"\n"
   ]
  },
  {
   "cell_type": "code",
   "execution_count": 140,
   "id": "4f3d6b2a-efbd-45cf-a3df-d263b56b3519",
   "metadata": {},
   "outputs": [
    {
     "data": {
      "text/plain": [
       "'2022/06/22 17:16:38'"
      ]
     },
     "execution_count": 140,
     "metadata": {},
     "output_type": "execute_result"
    }
   ],
   "source": [
    "import time\n",
    "time.strftime(\"%Y/%m/%d %H:%M:%S\",time.localtime(time.time()))"
   ]
  },
  {
   "cell_type": "markdown",
   "id": "3d7cdadc-9930-4e2d-b72f-80c569aefcb5",
   "metadata": {},
   "source": [
    "2. 다음 문장에서 \"LIFE\" 의 인덱스 번호를 구하세요.\n",
    "\" Incredible stories and treasured photographs from the LIFE archive\"\n"
   ]
  },
  {
   "cell_type": "code",
   "execution_count": 152,
   "id": "a8508a2a-6fc5-4e8b-a249-edc76fce5835",
   "metadata": {},
   "outputs": [],
   "source": [
    "import re\n",
    "p = re.compile(\"[Incredible stories and treasured photographs from the LIFE archive]\")\n",
    "sentence = [\"Incredible stories and treasured photographs from the LIFE archive\"]"
   ]
  },
  {
   "cell_type": "code",
   "execution_count": 153,
   "id": "44248390-33c4-417e-bbfe-93ee4f0ed48d",
   "metadata": {},
   "outputs": [
    {
     "ename": "TypeError",
     "evalue": "'list' object cannot be interpreted as an integer",
     "output_type": "error",
     "traceback": [
      "\u001b[1;31m---------------------------------------------------------------------------\u001b[0m",
      "\u001b[1;31mTypeError\u001b[0m                                 Traceback (most recent call last)",
      "\u001b[1;32m<ipython-input-153-cb4007aee2c5>\u001b[0m in \u001b[0;36m<module>\u001b[1;34m\u001b[0m\n\u001b[1;32m----> 1\u001b[1;33m \u001b[0mp\u001b[0m\u001b[1;33m.\u001b[0m\u001b[0mfindall\u001b[0m\u001b[1;33m(\u001b[0m\u001b[1;34m\"LIFE\"\u001b[0m\u001b[1;33m,\u001b[0m\u001b[0msentence\u001b[0m\u001b[1;33m)\u001b[0m\u001b[1;33m\u001b[0m\u001b[1;33m\u001b[0m\u001b[0m\n\u001b[0m",
      "\u001b[1;31mTypeError\u001b[0m: 'list' object cannot be interpreted as an integer"
     ]
    }
   ],
   "source": [
    "p.findall(\"LIFE\",sentence)"
   ]
  },
  {
   "cell_type": "code",
   "execution_count": 154,
   "id": "cc11abc7-8776-4c23-b6fe-eee4715f0912",
   "metadata": {},
   "outputs": [
    {
     "name": "stdout",
     "output_type": "stream",
     "text": [
      "L\n",
      "16\n",
      "17\n",
      "(16, 17)\n",
      "I\n",
      "17\n",
      "18\n",
      "(17, 18)\n",
      "F\n",
      "18\n",
      "19\n",
      "(18, 19)\n",
      "E\n",
      "19\n",
      "20\n",
      "(19, 20)\n"
     ]
    }
   ],
   "source": [
    "sentence = \"5781893764865982LIFE17289734\"\n",
    "for i in p.finditer(sentence):\n",
    "    print(i.group())\n",
    "    print(i.start())\n",
    "    print(i.end())\n",
    "    print(i.span())\n",
    "    print"
   ]
  },
  {
   "cell_type": "markdown",
   "id": "347948b7-d723-4b9c-a9b0-6acc28a41cc4",
   "metadata": {},
   "source": [
    "# 6월 23일"
   ]
  },
  {
   "cell_type": "code",
   "execution_count": 2,
   "id": "ba958bf0-204c-472f-85ed-8b0670ba678c",
   "metadata": {},
   "outputs": [
    {
     "data": {
      "text/plain": [
       "'C:\\\\Users\\\\admin'"
      ]
     },
     "execution_count": 2,
     "metadata": {},
     "output_type": "execute_result"
    }
   ],
   "source": [
    "import os\n",
    "os.getcwd()"
   ]
  },
  {
   "cell_type": "code",
   "execution_count": 3,
   "id": "90fae514-6116-4dc7-b85d-f29d2c5e276f",
   "metadata": {},
   "outputs": [
    {
     "data": {
      "text/plain": [
       "['0622.txt', 'memo.txt', 'myfile.txt', 'test.txt', 'zuoye.txt', '새 텍스트 문서.txt']"
      ]
     },
     "execution_count": 3,
     "metadata": {},
     "output_type": "execute_result"
    }
   ],
   "source": [
    "import glob\n",
    "glob.glob(\"*txt\")"
   ]
  },
  {
   "cell_type": "code",
   "execution_count": 14,
   "id": "abfb2665-d5a7-4687-9e7a-d321d7c3192b",
   "metadata": {},
   "outputs": [
    {
     "name": "stdout",
     "output_type": "stream",
     "text": [
      "Life\tis\ttoo\tshort\n",
      "You\tneed\tpython"
     ]
    }
   ],
   "source": [
    "with open (\"fa.txt\",\"r\") as f:\n",
    "    a=f.readlines()\n",
    "    for i in a:\n",
    "        print(i,end=\"\")\n",
    "    "
   ]
  },
  {
   "cell_type": "code",
   "execution_count": 17,
   "id": "5a25a7b4-1aaf-49f6-9579-682ca2b7a2a5",
   "metadata": {},
   "outputs": [],
   "source": [
    "import sys\n",
    "\n",
    "#src = sys.argv[1]\n",
    "#dst = sys.argv[2]\n",
    "\n",
    "src = \"a.txt\"\n",
    "dst = \"b.txt\"\n",
    "\n",
    "\n",
    "with open(src,mode=\"r\") as f:\n",
    "    lines = f.readlines()\n",
    "    with open(dst,\"w\") as fw:\n",
    "        for line in lines:\n",
    "            a = line.replace(\"\\t\",\"    \")\n",
    "            fw.write(a)\n"
   ]
  },
  {
   "cell_type": "code",
   "execution_count": null,
   "id": "305989c5-3f2a-4a1d-8ee4-75b9093fcea3",
   "metadata": {},
   "outputs": [],
   "source": []
  }
 ],
 "metadata": {
  "kernelspec": {
   "display_name": "Python 3",
   "language": "python",
   "name": "python3"
  },
  "language_info": {
   "codemirror_mode": {
    "name": "ipython",
    "version": 3
   },
   "file_extension": ".py",
   "mimetype": "text/x-python",
   "name": "python",
   "nbconvert_exporter": "python",
   "pygments_lexer": "ipython3",
   "version": "3.8.8"
  }
 },
 "nbformat": 4,
 "nbformat_minor": 5
}
