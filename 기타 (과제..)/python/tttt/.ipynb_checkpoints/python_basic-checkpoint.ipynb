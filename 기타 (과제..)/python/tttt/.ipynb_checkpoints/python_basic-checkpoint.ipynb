{
 "cells": [
  {
   "cell_type": "markdown",
   "id": "0a8c35b9-0c0c-4ada-abc0-1dbaa1836196",
   "metadata": {},
   "source": [
    "# 나의 첫 파이썬 코드"
   ]
  },
  {
   "cell_type": "code",
   "execution_count": null,
   "id": "f304f9c8-8739-488a-95dc-8698c1671fe7",
   "metadata": {},
   "outputs": [],
   "source": [
    "print(1+1)\n",
    "print(1-1)\n",
    "print(1*1)\n",
    "print(1/1)"
   ]
  },
  {
   "cell_type": "code",
   "execution_count": null,
   "id": "9ff7497a-78ec-40ee-84b3-990efbcfd489",
   "metadata": {},
   "outputs": [],
   "source": [
    "print(2**10)\n",
    "print(17//2) #몫\n",
    "print(17%2) #나머지"
   ]
  },
  {
   "cell_type": "markdown",
   "id": "a85fc58d-4fab-453f-be31-145eb1329237",
   "metadata": {},
   "source": [
    "#  데이터타입\n",
    "- 숫자형: 정수 int(integer)\n",
    "          실수 float\n",
    "- 문자형: str string  \n",
    "- 참거짓형: bool boolean"
   ]
  },
  {
   "cell_type": "markdown",
   "id": "5c7baea8-2be0-4df4-a786-b950e45ee4bc",
   "metadata": {},
   "source": [
    "type(3)"
   ]
  },
  {
   "cell_type": "code",
   "execution_count": null,
   "id": "eff1533b-ea89-40df-9529-423238b30fa9",
   "metadata": {},
   "outputs": [],
   "source": [
    "a = 3\n",
    "type(a)"
   ]
  },
  {
   "cell_type": "code",
   "execution_count": null,
   "id": "8ec161ef-56dc-416a-a1b6-ac6e9f2e799b",
   "metadata": {},
   "outputs": [],
   "source": [
    "a = 3.0\n",
    "type(a)"
   ]
  },
  {
   "cell_type": "code",
   "execution_count": null,
   "id": "be31f054-86e3-4d21-9c38-a800d637e1d3",
   "metadata": {},
   "outputs": [],
   "source": [
    "a = \"hellow\"\n",
    "type(a)"
   ]
  },
  {
   "cell_type": "code",
   "execution_count": null,
   "id": "b4fc6291-c442-4e58-b9d1-0afa2d575792",
   "metadata": {},
   "outputs": [],
   "source": [
    "a = True\n",
    "type(a)"
   ]
  },
  {
   "cell_type": "markdown",
   "id": "df8d29f7-bc30-4fe9-a7ad-2e3b52748fab",
   "metadata": {},
   "source": [
    "##  숫자형"
   ]
  },
  {
   "cell_type": "markdown",
   "id": "8fe14d25-9f82-454a-86d9-f5f7f403fc7f",
   "metadata": {},
   "source": [
    "### 숫자의 연산\n",
    "- 거듭제곱\n",
    "- 몫과 나머지\n",
    "- 지수, 로그\n",
    "- 삼각함수\n",
    "- 파이값\n",
    "- 반올림"
   ]
  },
  {
   "cell_type": "code",
   "execution_count": null,
   "id": "ae404350-44dd-4f5e-bd64-02a955189e24",
   "metadata": {},
   "outputs": [],
   "source": [
    "print(pi)"
   ]
  },
  {
   "cell_type": "markdown",
   "id": "c1b78e4b-04f6-4a69-8698-b3a67a458b16",
   "metadata": {},
   "source": [
    "### import"
   ]
  },
  {
   "cell_type": "code",
   "execution_count": null,
   "id": "5cd710ec-6a8b-432a-a77f-0e1300120db9",
   "metadata": {},
   "outputs": [],
   "source": [
    "import math"
   ]
  },
  {
   "cell_type": "code",
   "execution_count": null,
   "id": "dc94ea43-4f99-49e9-91bb-903d29335c41",
   "metadata": {},
   "outputs": [],
   "source": [
    "print(math.pi)"
   ]
  },
  {
   "cell_type": "code",
   "execution_count": null,
   "id": "0499d6d6-5367-428d-b52c-8ed56bd1fc22",
   "metadata": {},
   "outputs": [],
   "source": [
    "factorial(5)"
   ]
  },
  {
   "cell_type": "code",
   "execution_count": null,
   "id": "c7a19fff-d04c-42da-84be-dfe0f3c0bdd2",
   "metadata": {},
   "outputs": [],
   "source": [
    "math.factoral(5)"
   ]
  },
  {
   "cell_type": "code",
   "execution_count": null,
   "id": "c7d0c3a7-4f14-4209-8255-76913bff5ed3",
   "metadata": {},
   "outputs": [],
   "source": [
    "math.factorial(5)"
   ]
  },
  {
   "cell_type": "code",
   "execution_count": null,
   "id": "fc061fcc-5983-4343-b58c-b05f12a3304c",
   "metadata": {},
   "outputs": [],
   "source": [
    "# sin(90도) 의 값은? 90도는 2분의 파이"
   ]
  },
  {
   "cell_type": "code",
   "execution_count": null,
   "id": "0192f153-e8e3-4043-a0d7-abf120367118",
   "metadata": {},
   "outputs": [],
   "source": [
    "math.sin(90)"
   ]
  },
  {
   "cell_type": "code",
   "execution_count": null,
   "id": "ec2957e1-88ca-4e66-9b19-dbe190c7fc3f",
   "metadata": {},
   "outputs": [],
   "source": [
    "math.sin(math.pi/2)"
   ]
  },
  {
   "cell_type": "code",
   "execution_count": null,
   "id": "873a4f41-d04e-4f25-8ebe-1e7d88a2a3a1",
   "metadata": {},
   "outputs": [],
   "source": [
    "import numpy"
   ]
  },
  {
   "cell_type": "code",
   "execution_count": null,
   "id": "c7fcc904-0a07-425e-8dd2-3a34e50e959e",
   "metadata": {},
   "outputs": [],
   "source": [
    "numpy.pi"
   ]
  },
  {
   "cell_type": "code",
   "execution_count": null,
   "id": "37462280-4394-43ae-b857-f47a1738c349",
   "metadata": {},
   "outputs": [],
   "source": [
    "import numpy as np"
   ]
  },
  {
   "cell_type": "code",
   "execution_count": null,
   "id": "060b3982-7c5f-4513-9527-7f8869d980b5",
   "metadata": {},
   "outputs": [],
   "source": [
    "np.pi"
   ]
  },
  {
   "cell_type": "code",
   "execution_count": null,
   "id": "994ff7aa-501d-414c-9ed2-991054f52f18",
   "metadata": {},
   "outputs": [],
   "source": [
    "math.sqrt(4) #루트4 루트=sqrt"
   ]
  },
  {
   "cell_type": "code",
   "execution_count": null,
   "id": "13d7a6f9-3caf-40c0-9893-544d6d64b798",
   "metadata": {},
   "outputs": [],
   "source": [
    "import math as m"
   ]
  },
  {
   "cell_type": "code",
   "execution_count": null,
   "id": "262133ed-5872-4e8e-8724-6c33133ce862",
   "metadata": {},
   "outputs": [],
   "source": [
    "m.sqrt(4)"
   ]
  },
  {
   "cell_type": "code",
   "execution_count": null,
   "id": "07f68d74-e5f4-422a-a075-1c8ad2ff0a17",
   "metadata": {},
   "outputs": [],
   "source": [
    "from math import sqrt,sin #한개의 함수만 가저온다 원하는것만"
   ]
  },
  {
   "cell_type": "code",
   "execution_count": null,
   "id": "49de80ba-ba08-42e7-bbbc-064f2e2a11b6",
   "metadata": {},
   "outputs": [],
   "source": [
    "sqrt(4)"
   ]
  },
  {
   "cell_type": "code",
   "execution_count": null,
   "id": "0be44508-d837-42ea-8635-5b0a2cd4814c",
   "metadata": {},
   "outputs": [],
   "source": [
    "# sin(pi/2)의 답이 1이 나오도록 import 해주세요."
   ]
  },
  {
   "cell_type": "code",
   "execution_count": null,
   "id": "25ac3631-17f8-427a-8d77-689be9709151",
   "metadata": {},
   "outputs": [],
   "source": [
    "from numpy import sin, pi"
   ]
  },
  {
   "cell_type": "code",
   "execution_count": null,
   "id": "d9c64b18-4103-44e6-9f57-5be2b3977b2c",
   "metadata": {},
   "outputs": [],
   "source": [
    "sin(pi/2)"
   ]
  },
  {
   "cell_type": "code",
   "execution_count": null,
   "id": "3fa6bc7d-612b-4308-a482-8fbabbfdfe95",
   "metadata": {},
   "outputs": [],
   "source": [
    "import matplotlib.pyplot as plt\n",
    "import math\n",
    "import numpy as np"
   ]
  },
  {
   "cell_type": "code",
   "execution_count": null,
   "id": "d3f999d9-58c0-412a-a2f4-59d5415de2bb",
   "metadata": {},
   "outputs": [],
   "source": [
    "x = np.linspace(0,2*np.pi, 10 ) #숫자간의 간격이 같게 나누는 함수=linspace),(시작점,끝점,구간내숫자 개수)"
   ]
  },
  {
   "cell_type": "code",
   "execution_count": null,
   "id": "1e42846e-b46b-4bd0-8691-f0bc858a3080",
   "metadata": {},
   "outputs": [],
   "source": [
    "np.sqrt(x)"
   ]
  },
  {
   "cell_type": "code",
   "execution_count": null,
   "id": "58fe767e-0876-4a95-93a3-bcf8301dc736",
   "metadata": {},
   "outputs": [],
   "source": [
    "np.sin(x)"
   ]
  },
  {
   "cell_type": "code",
   "execution_count": null,
   "id": "8ac8980b-7393-4ecd-aa23-cc9720c443b7",
   "metadata": {},
   "outputs": [],
   "source": [
    "y= np.sin(x)\n",
    "plt.plot(x,np.sin(x))"
   ]
  },
  {
   "cell_type": "code",
   "execution_count": null,
   "id": "b8ab1ccc-e662-4cc9-9fdc-2ea7ae8f76b2",
   "metadata": {},
   "outputs": [],
   "source": [
    "x=np.linspace(0,2*np.pi,100)\n",
    "plt.plot(x,np.sin(x))"
   ]
  },
  {
   "cell_type": "code",
   "execution_count": null,
   "id": "42cac506-e3a3-45bf-b958-705eff3c82b3",
   "metadata": {},
   "outputs": [],
   "source": [
    "# 0부터 2pi 까지 cos의 그래프를 그려주세요"
   ]
  },
  {
   "cell_type": "code",
   "execution_count": null,
   "id": "5ed8448c-a623-4baa-a4ba-0e9c51047796",
   "metadata": {},
   "outputs": [],
   "source": [
    "# 0부터 2pi 까지 sin과 cos의 그래프를 그려주세요"
   ]
  },
  {
   "cell_type": "code",
   "execution_count": null,
   "id": "1f053412-ba72-40df-abf6-b2ea80c037c6",
   "metadata": {},
   "outputs": [],
   "source": [
    "x=np.linspace(0,2*pi,100)\n",
    "plt.plot(x,np.sin(x)) \n",
    "plt.plot(x,np.cos(x))"
   ]
  },
  {
   "cell_type": "code",
   "execution_count": null,
   "id": "837bb6b4-53ca-41cb-ae75-80336c837a25",
   "metadata": {},
   "outputs": [],
   "source": [
    "plt.style.use(\"ggplot\")"
   ]
  },
  {
   "cell_type": "code",
   "execution_count": null,
   "id": "5f583a40-97db-436e-be1c-ef58509cae1f",
   "metadata": {},
   "outputs": [],
   "source": [
    "round# 반올름(숫자,소수자리개수)"
   ]
  },
  {
   "cell_type": "code",
   "execution_count": null,
   "id": "26128214-6577-47a8-8b07-6d18d31c1804",
   "metadata": {},
   "outputs": [],
   "source": [
    "print(round(3.14))\n",
    "print(round(3.14,1))\n",
    "print(round(3.14,2))\n",
    "print(round(3.145,2))"
   ]
  },
  {
   "cell_type": "code",
   "execution_count": null,
   "id": "dab04ad0-3a62-4857-9837-9a91a00c30dd",
   "metadata": {},
   "outputs": [],
   "source": [
    "import math\n",
    "print(math.ceil(3.14)) #올림 = ceil\n",
    "print(math.floor(3.14)) # 내림 = floor"
   ]
  },
  {
   "cell_type": "code",
   "execution_count": null,
   "id": "7b0902a8-063d-4a47-a031-5ee9b4201862",
   "metadata": {},
   "outputs": [],
   "source": []
  },
  {
   "cell_type": "markdown",
   "id": "12ba1366-8084-4ddf-b42a-6bcfcb04fcda",
   "metadata": {},
   "source": [
    "##  문자형"
   ]
  },
  {
   "cell_type": "code",
   "execution_count": null,
   "id": "91814ac8-f513-421b-b174-a4be1149c053",
   "metadata": {},
   "outputs": [],
   "source": [
    "a = \"hellow\"\n",
    "print(a)"
   ]
  },
  {
   "cell_type": "raw",
   "id": "2f11c300-3787-4b4d-a6bc-1aad7ece3fa5",
   "metadata": {},
   "source": [
    "#그녀는 나에게 \"사랑해요\"라고 말했다."
   ]
  },
  {
   "cell_type": "code",
   "execution_count": null,
   "id": "bd354841-c969-4903-8283-3fcdab1fb862",
   "metadata": {},
   "outputs": [],
   "source": [
    "print('그녀는 나이게\"사랑해요\"라고 말했다.')"
   ]
  },
  {
   "cell_type": "code",
   "execution_count": null,
   "id": "64b130c5-eaed-4049-9a3d-ae8a46fd875a",
   "metadata": {},
   "outputs": [],
   "source": [
    "a = '''  \n",
    "우리나라 대한민국\n",
    "무궁화 삼천리'''\n",
    "print(a)  #''' 앞뒤 새개씩 넣으면 여러줄을 한번에 넣을수 있다."
   ]
  },
  {
   "cell_type": "code",
   "execution_count": null,
   "id": "148115c9-32fe-4f54-8ec4-4b57b8f26a08",
   "metadata": {},
   "outputs": [],
   "source": [
    "a = '우리나라 \\\"대한민국\\\" 무궁화 삼천리' \n",
    "print(a)"
   ]
  },
  {
   "cell_type": "code",
   "execution_count": null,
   "id": "7dbee803-a96b-48fc-a359-835d732f0d91",
   "metadata": {},
   "outputs": [],
   "source": [
    "# 떠움표 안의 역슬래시는 이스케이프 합니다.\n",
    "# \\n : 줄바꿈\n",
    "# \\t : tap 만큼 칸을 띄움"
   ]
  },
  {
   "cell_type": "code",
   "execution_count": null,
   "id": "39da4ba0-3594-4aa1-ae51-f250566beaa0",
   "metadata": {},
   "outputs": [],
   "source": [
    "a= 'I love \\new shoes '\n",
    "print(a)"
   ]
  },
  {
   "cell_type": "code",
   "execution_count": null,
   "id": "058b8bec-64ab-4e76-b59c-3d758aacb858",
   "metadata": {},
   "outputs": [],
   "source": [
    "a= 'I love \\tew shoes '\n",
    "print(a)"
   ]
  },
  {
   "cell_type": "markdown",
   "id": "f78d604e-c4b6-4fe9-a6b9-21bfc040f7dc",
   "metadata": {},
   "source": [
    "### 문자열 연산"
   ]
  },
  {
   "cell_type": "code",
   "execution_count": null,
   "id": "509304e7-7e93-4a8a-a1cd-4de6b2ddef2c",
   "metadata": {},
   "outputs": [],
   "source": [
    "a = \"아버지\"\n",
    "b = \"가방\""
   ]
  },
  {
   "cell_type": "code",
   "execution_count": null,
   "id": "dbf7b1f2-a2b9-47a6-931a-fa7f4852ad10",
   "metadata": {},
   "outputs": [],
   "source": [
    "a+b # concatenate"
   ]
  },
  {
   "cell_type": "code",
   "execution_count": null,
   "id": "6cccbad2-735c-4c59-9aee-28b7640605c1",
   "metadata": {},
   "outputs": [],
   "source": [
    "print('제1장 끝')\n",
    "print('-'*20)\n",
    "print('제2장 시작')"
   ]
  },
  {
   "cell_type": "code",
   "execution_count": null,
   "id": "a7903bf1-9c15-486a-95b7-75f9084e9b8a",
   "metadata": {},
   "outputs": [],
   "source": [
    "len(a) # length"
   ]
  },
  {
   "cell_type": "markdown",
   "id": "4985e85b-fcbc-4c79-b4ef-8b151c079f6e",
   "metadata": {},
   "source": [
    "### 인덱싱 indexing"
   ]
  },
  {
   "cell_type": "code",
   "execution_count": null,
   "id": "5cbbf252-c2a8-4a21-ac59-1118ddd9f396",
   "metadata": {},
   "outputs": [],
   "source": [
    "a = 'hello'"
   ]
  },
  {
   "cell_type": "code",
   "execution_count": null,
   "id": "533060ed-8142-4319-ba03-4de3867e72b5",
   "metadata": {},
   "outputs": [],
   "source": [
    "len(a)"
   ]
  },
  {
   "cell_type": "code",
   "execution_count": null,
   "id": "788df68d-e083-4807-a7cc-7441e68b4063",
   "metadata": {},
   "outputs": [],
   "source": [
    "a[1]"
   ]
  },
  {
   "cell_type": "code",
   "execution_count": null,
   "id": "02b8a233-67d8-4c25-b7c6-c2524cfc8985",
   "metadata": {},
   "outputs": [],
   "source": [
    "a[-5]"
   ]
  },
  {
   "cell_type": "code",
   "execution_count": null,
   "id": "b966109e-2a2a-42f7-8462-22bda855298e",
   "metadata": {},
   "outputs": [],
   "source": [
    "a= 'life is short'\n",
    "len(a)"
   ]
  },
  {
   "cell_type": "code",
   "execution_count": null,
   "id": "f54f59f1-9c5c-4be8-9fa4-a237cbcc16b0",
   "metadata": {},
   "outputs": [],
   "source": [
    "a[5]"
   ]
  },
  {
   "cell_type": "code",
   "execution_count": null,
   "id": "0729abd4-5896-4fa2-b932-fd2ce699dd06",
   "metadata": {},
   "outputs": [],
   "source": [
    "a[-2]"
   ]
  },
  {
   "cell_type": "code",
   "execution_count": null,
   "id": "7ca63397-fd51-4c51-baa2-c67370a0863f",
   "metadata": {},
   "outputs": [],
   "source": [
    "print(a[5]+a[6])"
   ]
  },
  {
   "cell_type": "code",
   "execution_count": null,
   "id": "a67bd03f-0ec4-459f-a2eb-4470d95c7dbd",
   "metadata": {},
   "outputs": [],
   "source": [
    "print(\"나는 그녀에게\\\"사랑해요\\\" 라고 고백을 했다.\")"
   ]
  },
  {
   "cell_type": "code",
   "execution_count": null,
   "id": "7c927e28-3b0b-4f4b-bb25-b7caef55aa0b",
   "metadata": {},
   "outputs": [],
   "source": [
    "a='show me the money'\n",
    "print(a[8:11])\n",
    "print(a[8]+a[9]+a[10])"
   ]
  },
  {
   "cell_type": "markdown",
   "id": "a278a97e-a46b-496f-8e95-388843fe1aec",
   "metadata": {},
   "source": [
    "### 슬라이싱 slicing"
   ]
  },
  {
   "cell_type": "code",
   "execution_count": null,
   "id": "59b3fc9f-6016-4fe3-b0da-902935a99cc5",
   "metadata": {},
   "outputs": [],
   "source": [
    "a='Life is short'\n",
    "print(a[0:4])\n",
    "print(a[8:])\n",
    "print(a[:])"
   ]
  },
  {
   "cell_type": "code",
   "execution_count": null,
   "id": "247dd407-65b1-46d9-9af2-5f2ce176f3f2",
   "metadata": {},
   "outputs": [],
   "source": [
    "a='Life is short. We need python'\n",
    "len(a)"
   ]
  },
  {
   "cell_type": "code",
   "execution_count": null,
   "id": "135bb7cb-bf34-4a36-88a0-fcf0a992b185",
   "metadata": {},
   "outputs": [],
   "source": [
    "# 'short' 를 출력해 주세요."
   ]
  },
  {
   "cell_type": "code",
   "execution_count": null,
   "id": "3e43a87d-a587-4512-9cc2-1cb06e3f8ace",
   "metadata": {},
   "outputs": [],
   "source": [
    "a[8:13]"
   ]
  },
  {
   "cell_type": "code",
   "execution_count": null,
   "id": "03ed6438-53cc-4509-a4fa-036b3d68ae1f",
   "metadata": {},
   "outputs": [],
   "source": [
    "# nee"
   ]
  },
  {
   "cell_type": "code",
   "execution_count": null,
   "id": "ee8555d7-c935-4f87-ba2b-7fc4c254b792",
   "metadata": {},
   "outputs": [],
   "source": [
    "# We need python\n",
    "a[-14:]"
   ]
  },
  {
   "cell_type": "code",
   "execution_count": null,
   "id": "547e4df5-aeec-4e3c-a137-8a5ee575fc30",
   "metadata": {},
   "outputs": [],
   "source": [
    "a=\"20220615rainy\"\n",
    "#1) 모두 몇 글자입니까?\n",
    "#2) 2022\n",
    "#   0615\n",
    "#   rainy"
   ]
  },
  {
   "cell_type": "code",
   "execution_count": null,
   "id": "6e60d6e4-8d5a-479d-945a-46f191b25dd4",
   "metadata": {},
   "outputs": [],
   "source": [
    "print(len(a))\n",
    "print(a[:4])\n",
    "print(a[4:8])\n",
    "print(a[-5:])"
   ]
  },
  {
   "cell_type": "markdown",
   "id": "338a1538-27a7-417f-a2a0-2c9b7669ed03",
   "metadata": {},
   "source": [
    "### 문자열의 메소드"
   ]
  },
  {
   "cell_type": "code",
   "execution_count": null,
   "id": "f6fecc70-4cf0-4a94-8625-6980b492a4b9",
   "metadata": {},
   "outputs": [],
   "source": [
    "#메소드= 문자열의 함수들"
   ]
  },
  {
   "cell_type": "code",
   "execution_count": null,
   "id": "f63f0f70-cd88-4493-88db-6676b5053977",
   "metadata": {},
   "outputs": [],
   "source": [
    "a = \"Hello\"\n",
    "a.upper()\n",
    "#upper()\n",
    "#lower()\n",
    "#capitalize() 문장 첫글자 대문자로\n",
    "#title() 단어별 첫글자 모두 대문자로"
   ]
  },
  {
   "cell_type": "code",
   "execution_count": null,
   "id": "2a0dc03f-313f-4666-a6cd-3d2b312ce3c9",
   "metadata": {},
   "outputs": [],
   "source": [
    "car.run()\n",
    "car.back()\n",
    "\n",
    "객체 : Object\n",
    "자동차  method 메소드=동사. run(), back(), turn()\n",
    "        attribute 속성 = 형용사. color\n",
    "새:   동사 fly()(), sing()\n",
    "    형용사 size\n",
    "    #동사는 ()가 있고 형용사는 없다"
   ]
  },
  {
   "cell_type": "code",
   "execution_count": null,
   "id": "c1bad588-c0f5-435b-9b4f-bf9d5083721c",
   "metadata": {},
   "outputs": [],
   "source": [
    "a = \"Hello\"\n",
    "t1=a.upper()\n",
    "t2=a.lower()\n",
    "t3=t1+t2"
   ]
  },
  {
   "cell_type": "code",
   "execution_count": null,
   "id": "e0379fc3-ccec-46f1-aede-517597a47ad0",
   "metadata": {},
   "outputs": [],
   "source": [
    "a='Hello'\n",
    "A=a.lower()"
   ]
  },
  {
   "cell_type": "code",
   "execution_count": null,
   "id": "45cff619-85a0-4d3b-9579-327027e7661e",
   "metadata": {},
   "outputs": [],
   "source": [
    "A.upper()"
   ]
  },
  {
   "cell_type": "code",
   "execution_count": null,
   "id": "3b26433f-2e2b-4e37-9516-ffce9dd95f8b",
   "metadata": {},
   "outputs": [],
   "source": [
    "a.lower().upper().capitalize()"
   ]
  },
  {
   "cell_type": "code",
   "execution_count": null,
   "id": "d3efe74a-bf25-485e-af56-9e9eeb1c511f",
   "metadata": {},
   "outputs": [],
   "source": [
    "A = \"Hello Good Morning\"\n",
    "A.lower().capitalize()\n",
    "A.lower().title()"
   ]
  },
  {
   "cell_type": "markdown",
   "id": "407ba568-0b17-4930-b01e-baa6153411dc",
   "metadata": {},
   "source": [
    "- strip() : 빈칸제거"
   ]
  },
  {
   "cell_type": "code",
   "execution_count": null,
   "id": "70bd750c-7d37-410c-85e0-1816eccd07de",
   "metadata": {},
   "outputs": [],
   "source": [
    "a = \"   Hello   \""
   ]
  },
  {
   "cell_type": "code",
   "execution_count": null,
   "id": "ea1b0d67-2909-44da-8645-82201b2adaf0",
   "metadata": {},
   "outputs": [],
   "source": [
    "a.lstrip()"
   ]
  },
  {
   "cell_type": "code",
   "execution_count": null,
   "id": "6a934bf9-dbe1-401c-8857-c74424ae76c7",
   "metadata": {},
   "outputs": [],
   "source": [
    "a.rstrip()"
   ]
  },
  {
   "cell_type": "markdown",
   "id": "46c9e1d7-9a09-4345-bca7-70cb0ec518e1",
   "metadata": {},
   "source": [
    "- replace()"
   ]
  },
  {
   "cell_type": "code",
   "execution_count": null,
   "id": "79b816d8-1e9a-4dac-b59a-c5fe463bda51",
   "metadata": {},
   "outputs": [],
   "source": [
    "a.replace(l,o)"
   ]
  },
  {
   "cell_type": "code",
   "execution_count": null,
   "id": "17206917-fe72-4c84-9fa1-195f45146572",
   "metadata": {},
   "outputs": [],
   "source": [
    "a.replace('l','o')"
   ]
  },
  {
   "cell_type": "code",
   "execution_count": null,
   "id": "37e81e27-75c2-458e-819a-32eeb5bcd4e2",
   "metadata": {},
   "outputs": [],
   "source": [
    "a.count(\"l\")"
   ]
  },
  {
   "cell_type": "markdown",
   "id": "ea9bf8a2-e48d-419c-980f-6ea49b5334e7",
   "metadata": {},
   "source": [
    "- split()"
   ]
  },
  {
   "cell_type": "code",
   "execution_count": null,
   "id": "b36419e7-48a8-4bcc-a8ca-cfc76216425b",
   "metadata": {},
   "outputs": [],
   "source": [
    "a = \"Good Morning\"\n",
    "a.split()"
   ]
  },
  {
   "cell_type": "code",
   "execution_count": null,
   "id": "a9236dab-f21e-4b5c-a392-5090fc3a0cf5",
   "metadata": {},
   "outputs": [],
   "source": [
    "a = \"Good:Morning:Hello\"\n",
    "a.split(\":\")"
   ]
  },
  {
   "cell_type": "markdown",
   "id": "9edb51c2-cda3-40fb-9c48-8801ba64448c",
   "metadata": {},
   "source": [
    "- join()"
   ]
  },
  {
   "cell_type": "code",
   "execution_count": null,
   "id": "af49c954-11e7-493c-a3e8-0df7d29266ba",
   "metadata": {},
   "outputs": [],
   "source": [
    "\",\".join(\"abcd\")"
   ]
  },
  {
   "cell_type": "markdown",
   "id": "9c335791-7aeb-4fbc-84fc-a5c0d7cc67ce",
   "metadata": {},
   "source": [
    "- find"
   ]
  },
  {
   "cell_type": "code",
   "execution_count": null,
   "id": "444e35d0-8817-4d6c-b042-de00a0211645",
   "metadata": {},
   "outputs": [],
   "source": [
    "a = \"Good Morning Hello\"\n",
    "a.find(\"M\")"
   ]
  },
  {
   "cell_type": "code",
   "execution_count": null,
   "id": "edbd65f1-4ac1-4c1f-bd2e-200ffb890315",
   "metadata": {},
   "outputs": [],
   "source": [
    "a = \"Good Morning Hello\"\n",
    "a.find(\"a\")"
   ]
  },
  {
   "cell_type": "markdown",
   "id": "d0f5953d-0061-4d11-aeb2-726f28f98f9e",
   "metadata": {},
   "source": [
    "## 포멧팅 formatting "
   ]
  },
  {
   "cell_type": "code",
   "execution_count": null,
   "id": "28d9c1e3-ff21-4117-bdf6-ccbd589e509d",
   "metadata": {},
   "outputs": [],
   "source": [
    "print(\"I ate 3 apples. So I sicked two days\")"
   ]
  },
  {
   "cell_type": "code",
   "execution_count": null,
   "id": "83582e3c-484c-43f0-bf0c-37c49d056d38",
   "metadata": {},
   "outputs": [],
   "source": [
    "# 방법 1.  \n",
    "# 변수를 표현해주는 방식\n",
    "# %d, %s  %()"
   ]
  },
  {
   "cell_type": "code",
   "execution_count": null,
   "id": "b8033ac8-0130-4bca-b945-1e8e9baa3d89",
   "metadata": {},
   "outputs": [],
   "source": [
    "number = 3\n",
    "day = 'two'\n",
    "print(\"I ate %d apples. So I sicked %s days\" %(number,day))"
   ]
  },
  {
   "cell_type": "code",
   "execution_count": null,
   "id": "516b1f59-2662-4148-8251-36d9527a363d",
   "metadata": {},
   "outputs": [],
   "source": [
    "# 방법 2.\n",
    "# .format 이용하기"
   ]
  },
  {
   "cell_type": "code",
   "execution_count": null,
   "id": "f460fa7c-2c87-4ea1-9dc3-0f09331d9aec",
   "metadata": {},
   "outputs": [],
   "source": [
    "number = 3\n",
    "day = 'two'\n",
    "print(\"I ate {} apples. So I sicked {} days\".format(number,day))\n",
    "print(\"I ate {0} apples. So I sicked {1} days\".format(number,day))\n",
    "print(\"I ate {1} apples. So I sicked {0} days\".format(number,day))\n",
    "print(\"I ate {0} apples and {0} bananas. So I sicked {1} days\".format(number,day))"
   ]
  },
  {
   "cell_type": "code",
   "execution_count": null,
   "id": "58070fe4-55a5-41b0-801a-4b65451eb416",
   "metadata": {},
   "outputs": [],
   "source": [
    "# 방법 3\n",
    "# f-string\n",
    "number = 3\n",
    "day = 'two'\n",
    "print(\"I ate number apples. So I sicked day days\")\n",
    "print(f\"I ate {number} apples. So I sicked {day} days\")"
   ]
  },
  {
   "cell_type": "markdown",
   "id": "a336d246-79fd-4911-b790-fef624317cc5",
   "metadata": {},
   "source": [
    "## input() 함수\n",
    "- 사용자의 입력을 받는다.\n",
    "- 받은 값은 문자열(str)이다."
   ]
  },
  {
   "cell_type": "code",
   "execution_count": null,
   "id": "4bb0ef6f-7afe-499e-becf-785bb8afe9e9",
   "metadata": {},
   "outputs": [],
   "source": [
    "input(\"이름은요 : \")"
   ]
  },
  {
   "cell_type": "code",
   "execution_count": null,
   "id": "8b234464-475a-49a1-a567-7006d0212537",
   "metadata": {},
   "outputs": [],
   "source": [
    "name = input(\"이름은요 : \")"
   ]
  },
  {
   "cell_type": "code",
   "execution_count": null,
   "id": "5e7c0195-0886-475e-aec8-e5f9c420d761",
   "metadata": {},
   "outputs": [],
   "source": [
    "name"
   ]
  },
  {
   "cell_type": "code",
   "execution_count": null,
   "id": "af15201a-cc32-472d-b8fa-8ab990fa380e",
   "metadata": {},
   "outputs": [],
   "source": [
    "type(name)"
   ]
  },
  {
   "cell_type": "code",
   "execution_count": null,
   "id": "0b90c749-d9a8-4cff-b78a-cb5496c9a0d9",
   "metadata": {},
   "outputs": [],
   "source": [
    "age = input(\"나이는요 : \")\n",
    "age"
   ]
  },
  {
   "cell_type": "code",
   "execution_count": null,
   "id": "ff2685a9-f16b-451d-b06e-732086523566",
   "metadata": {},
   "outputs": [],
   "source": [
    "type(age)"
   ]
  },
  {
   "cell_type": "code",
   "execution_count": null,
   "id": "a6794f91-585f-4f64-8f84-9d20f70a7218",
   "metadata": {},
   "outputs": [],
   "source": [
    "a = input(\"형 나이는요 : \")\n",
    "b = input(\"동생 나이는요 : \")"
   ]
  },
  {
   "cell_type": "code",
   "execution_count": null,
   "id": "fb65fc8c-c431-4b61-bf98-d95a0615ae9b",
   "metadata": {},
   "outputs": [],
   "source": [
    "# 문자열을 숫자로 바꾸기\n",
    "# int()\n",
    "# float()\n",
    "# str()\n",
    "# bool()"
   ]
  },
  {
   "cell_type": "code",
   "execution_count": null,
   "id": "6db5fc00-868b-48b5-ac83-57c83c8dda91",
   "metadata": {},
   "outputs": [],
   "source": [
    "print(int(\"3\"))\n",
    "print(int(4.6))\n",
    "print(float(4.2))\n",
    "str(3)"
   ]
  },
  {
   "cell_type": "code",
   "execution_count": null,
   "id": "4d0566d5-4ce0-4fde-a919-b4cb81f392e6",
   "metadata": {},
   "outputs": [],
   "source": [
    "a = int(input(\"형 나이는요?\"))\n",
    "type(a)"
   ]
  },
  {
   "cell_type": "code",
   "execution_count": null,
   "id": "dde22585-e207-413d-882d-444e6a29e1aa",
   "metadata": {},
   "outputs": [],
   "source": [
    "a = int(input(\"형 나이는요?\"))\n",
    "a**2"
   ]
  },
  {
   "cell_type": "code",
   "execution_count": null,
   "id": "096e5bf3-e5e5-4ad2-8320-68375a3c5f5b",
   "metadata": {},
   "outputs": [],
   "source": [
    "a = int(input(\"형 나이는요?\"))\n",
    "b = int(input(\"동생 나이는요?\"))\n",
    "c=a-b\n",
    "print(f\"형과 동생의 나이 차이는 {c}살 입니다.\")"
   ]
  },
  {
   "cell_type": "code",
   "execution_count": null,
   "id": "e926d47e-d99b-4a41-b0b3-f1d3a320f449",
   "metadata": {},
   "outputs": [],
   "source": [
    "#\n",
    "# name, age  두 변수를 입력받아서\n",
    "# \"이름은 000이고 나이는 00세 입니다.\""
   ]
  },
  {
   "cell_type": "code",
   "execution_count": null,
   "id": "604ee38b-c53d-4f8e-97f6-21f83b558d5b",
   "metadata": {},
   "outputs": [],
   "source": [
    "a = input(\"이름\")\n",
    "b = int(input(\"나이:\"))\n",
    "print(f\"이름은 {a}이고 나이는 {b}세 입니다.\")"
   ]
  },
  {
   "cell_type": "markdown",
   "id": "2008bd3d-4392-46a5-b72f-14f805cd5497",
   "metadata": {},
   "source": [
    "## 참거짓형\n",
    "- boolean(bool)"
   ]
  },
  {
   "cell_type": "code",
   "execution_count": null,
   "id": "da05a522-317a-42da-8cf5-4e37038fc519",
   "metadata": {},
   "outputs": [],
   "source": [
    "1 < 2"
   ]
  },
  {
   "cell_type": "code",
   "execution_count": null,
   "id": "78c06c04-1e6d-4f62-bc21-a95921e59f83",
   "metadata": {},
   "outputs": [],
   "source": [
    "a = 1 < 2"
   ]
  },
  {
   "cell_type": "code",
   "execution_count": null,
   "id": "12b8ac99-f508-4179-b148-9c02cfc5a8fd",
   "metadata": {},
   "outputs": [],
   "source": [
    "a"
   ]
  },
  {
   "cell_type": "code",
   "execution_count": null,
   "id": "edd0e805-8994-4321-aa16-07191507103c",
   "metadata": {},
   "outputs": [],
   "source": [
    "type(a)"
   ]
  },
  {
   "cell_type": "code",
   "execution_count": null,
   "id": "93406a9e-5bcc-4028-9740-535dae3a559b",
   "metadata": {},
   "outputs": [],
   "source": [
    "if 1<2:\n",
    "    print(\"참 입니다.\")\n",
    "else:\n",
    "    print(\"거짓 입니다.\")"
   ]
  },
  {
   "cell_type": "code",
   "execution_count": null,
   "id": "e7d0842f-6800-4a52-8919-6ae0e3055ac4",
   "metadata": {},
   "outputs": [],
   "source": [
    "if 1:\n",
    "    print(\"True\")"
   ]
  },
  {
   "cell_type": "code",
   "execution_count": null,
   "id": "a049b275-8c83-4377-8ec9-59e102db1046",
   "metadata": {},
   "outputs": [],
   "source": [
    "if 0:\n",
    "    print(\"True\")"
   ]
  },
  {
   "cell_type": "code",
   "execution_count": null,
   "id": "c7815f66-5f0a-4f6d-9ad6-1385d3992a6c",
   "metadata": {},
   "outputs": [],
   "source": [
    "if True:\n",
    "    print(\"True\")"
   ]
  },
  {
   "cell_type": "code",
   "execution_count": null,
   "id": "0b70449a-cb57-4a43-8dd7-d51e0150c025",
   "metadata": {},
   "outputs": [],
   "source": [
    "if 2:\n",
    "    print(\"True\")"
   ]
  },
  {
   "cell_type": "code",
   "execution_count": null,
   "id": "ded5c134-b064-480b-a41b-75d6e9edd772",
   "metadata": {},
   "outputs": [],
   "source": [
    "bool(1.2)"
   ]
  },
  {
   "cell_type": "code",
   "execution_count": null,
   "id": "4ea08175-edae-45a5-b5b9-53b636967a58",
   "metadata": {},
   "outputs": [],
   "source": [
    "if \"Fal\":\n",
    "    print(\"True\")"
   ]
  },
  {
   "cell_type": "code",
   "execution_count": null,
   "id": "e78bbb05-d986-4496-acb3-011d263e66ab",
   "metadata": {},
   "outputs": [],
   "source": [
    "if \"\":\n",
    "    print(\"True\")"
   ]
  },
  {
   "cell_type": "markdown",
   "id": "75526466-df4d-4990-941c-ea608f6a33d2",
   "metadata": {},
   "source": [
    "# 파이썬의 자료형\n",
    "- 리스트 (list) []\n",
    "- 튜플 (tuple) ()\n",
    "- 딕셔너리 (dictionary)\n",
    "- 세트 (set) {}"
   ]
  },
  {
   "cell_type": "markdown",
   "id": "8fea9e50-0149-4840-bc15-27ba2977f670",
   "metadata": {},
   "source": [
    "## 리스트\n",
    "- CRUD\n",
    "```\n",
    "C : Create\n",
    "R : Read\n",
    "U : Update\n",
    "D : Delete\n",
    "```"
   ]
  },
  {
   "cell_type": "markdown",
   "id": "56621a32-f5fc-4f03-80cb-2d203f4511ff",
   "metadata": {},
   "source": [
    "### 만들기"
   ]
  },
  {
   "cell_type": "code",
   "execution_count": null,
   "id": "ac5a55b4-dfeb-4864-b67e-7dd85acb342b",
   "metadata": {},
   "outputs": [],
   "source": [
    "a = [1,2]\n",
    "type(a)"
   ]
  },
  {
   "cell_type": "code",
   "execution_count": null,
   "id": "3a1152e6-64dd-4e61-8fa3-e6af55cea853",
   "metadata": {},
   "outputs": [],
   "source": [
    "# a=1,2,  같다 a=(1,2)"
   ]
  },
  {
   "cell_type": "code",
   "execution_count": null,
   "id": "073d546f-5bb8-4abd-8fda-2438a798f3ff",
   "metadata": {},
   "outputs": [],
   "source": [
    "a = [\"Life\", \"is\", \"short\"]\n",
    "print(a)"
   ]
  },
  {
   "cell_type": "code",
   "execution_count": null,
   "id": "f3b6d50f-54ef-44b7-aee5-1bdb6505f695",
   "metadata": {},
   "outputs": [],
   "source": [
    "a = [1,2,3,\"Life\",\"is\",\"short\",[\"we\",\"need\",\"python\"]]\n",
    "len(a)"
   ]
  },
  {
   "cell_type": "code",
   "execution_count": null,
   "id": "35a9ba86-1cd3-4c3e-b26f-7772eda92399",
   "metadata": {},
   "outputs": [],
   "source": [
    "print(a[0])\n",
    "print(a[3])\n",
    "print(a[6])"
   ]
  },
  {
   "cell_type": "code",
   "execution_count": null,
   "id": "a3a794fa-8ef6-44a7-80ff-eba12836b631",
   "metadata": {},
   "outputs": [],
   "source": [
    "print(a[:3])\n",
    "print(a[3:])"
   ]
  },
  {
   "cell_type": "markdown",
   "id": "3bd6ed5d-0829-4cfb-8907-b189241fd308",
   "metadata": {},
   "source": [
    "### 접근,조회(읽기)"
   ]
  },
  {
   "cell_type": "code",
   "execution_count": null,
   "id": "f1639d76-7b44-4df4-a0f5-5bb841cb72f5",
   "metadata": {},
   "outputs": [],
   "source": [
    "print(a[6][2])"
   ]
  },
  {
   "cell_type": "code",
   "execution_count": null,
   "id": "c0d42d3e-754b-4901-a954-61241db8a181",
   "metadata": {},
   "outputs": [],
   "source": [
    "# \"ee\"를 출력해 주세요."
   ]
  },
  {
   "cell_type": "code",
   "execution_count": null,
   "id": "af5852b1-86db-4f81-a749-f0bc73a52fd4",
   "metadata": {},
   "outputs": [],
   "source": [
    "print(a[6][1][1:3])"
   ]
  },
  {
   "cell_type": "markdown",
   "id": "d23b7ec3-9243-430a-9795-a4771f570c92",
   "metadata": {},
   "source": [
    "### 연산\n",
    "- 문자열의 연산과 같다"
   ]
  },
  {
   "cell_type": "code",
   "execution_count": null,
   "id": "614bbea9-8e52-4067-a0af-ab0f5c1f7385",
   "metadata": {},
   "outputs": [],
   "source": [
    "a = [1,2,3]\n",
    "b = [4,5,6]"
   ]
  },
  {
   "cell_type": "code",
   "execution_count": null,
   "id": "865b52f5-36cd-4e74-b661-8ae290954e98",
   "metadata": {},
   "outputs": [],
   "source": [
    "a + b"
   ]
  },
  {
   "cell_type": "code",
   "execution_count": null,
   "id": "d5435852-a085-4b5d-bff5-76692259118f",
   "metadata": {},
   "outputs": [],
   "source": [
    "a - b"
   ]
  },
  {
   "cell_type": "code",
   "execution_count": null,
   "id": "457bbcf6-01ca-4061-8c41-4a75c6b2e657",
   "metadata": {},
   "outputs": [],
   "source": [
    "a*3"
   ]
  },
  {
   "cell_type": "code",
   "execution_count": null,
   "id": "106b0fab-d35f-495e-a557-6475c700cdb3",
   "metadata": {},
   "outputs": [],
   "source": [
    "import numpy as np\n",
    "A = np.array([1,2,3])\n",
    "B = np.array([4,5,6])\n",
    "A+B"
   ]
  },
  {
   "cell_type": "markdown",
   "id": "2d94867b-fb02-4d6d-8635-8c0f66bf3ca6",
   "metadata": {},
   "source": [
    "### 수정"
   ]
  },
  {
   "cell_type": "code",
   "execution_count": null,
   "id": "b344686f-d9fd-44c9-85ce-64b94d05bd6f",
   "metadata": {},
   "outputs": [],
   "source": [
    "old = new"
   ]
  },
  {
   "cell_type": "code",
   "execution_count": null,
   "id": "a813a3fa-3a12-4e8d-bbcc-efd3dc1d6b88",
   "metadata": {},
   "outputs": [],
   "source": [
    "a = 2\n",
    "b = 3\n",
    "a = b\n",
    "a"
   ]
  },
  {
   "cell_type": "code",
   "execution_count": null,
   "id": "7f06330d-4fbb-459a-8a11-898364bfd457",
   "metadata": {},
   "outputs": [],
   "source": [
    "a = [1,2,3]\n",
    "a"
   ]
  },
  {
   "cell_type": "code",
   "execution_count": null,
   "id": "3600724d-7818-48df-9037-7ebf647c33a4",
   "metadata": {},
   "outputs": [],
   "source": [
    "# 2 = 20\n",
    "a[1] = 20"
   ]
  },
  {
   "cell_type": "code",
   "execution_count": null,
   "id": "f8c13901-186b-4ba5-a310-f6e7959437b3",
   "metadata": {},
   "outputs": [],
   "source": [
    "a"
   ]
  },
  {
   "cell_type": "markdown",
   "id": "c977ded1-2633-4d30-a103-be7cd8191cb7",
   "metadata": {},
   "source": [
    "### 추가"
   ]
  },
  {
   "cell_type": "code",
   "execution_count": null,
   "id": "11951994-f8e7-468a-818a-8619adffd67d",
   "metadata": {},
   "outputs": [],
   "source": [
    "a=[1,2,3]\n",
    "a.append(4)\n",
    "type(a)"
   ]
  },
  {
   "cell_type": "code",
   "execution_count": null,
   "id": "0ba7d370-54ec-4574-88a3-e9cf23a7d2d7",
   "metadata": {},
   "outputs": [],
   "source": [
    "a"
   ]
  },
  {
   "cell_type": "code",
   "execution_count": null,
   "id": "bc824d5e-18d1-4186-ae2a-fcc7accc9fda",
   "metadata": {},
   "outputs": [],
   "source": [
    "a.append([5,6])\n",
    "a"
   ]
  },
  {
   "cell_type": "code",
   "execution_count": null,
   "id": "64ea1776-5836-46ff-b6df-27fb57829945",
   "metadata": {},
   "outputs": [],
   "source": [
    "a.insert(0,0)"
   ]
  },
  {
   "cell_type": "code",
   "execution_count": null,
   "id": "003bfef9-827c-42e3-a3bc-ea3470f23899",
   "metadata": {},
   "outputs": [],
   "source": [
    "a"
   ]
  },
  {
   "cell_type": "code",
   "execution_count": null,
   "id": "19a6ca36-8719-41d4-936b-6febaf942b78",
   "metadata": {},
   "outputs": [],
   "source": [
    "a = [1,2,3]\n",
    "a.extend([4,5])\n",
    "a"
   ]
  },
  {
   "cell_type": "markdown",
   "id": "2ac7c208-6d72-42c2-9ca3-78983c178dd0",
   "metadata": {},
   "source": [
    "### 삭제"
   ]
  },
  {
   "cell_type": "code",
   "execution_count": null,
   "id": "04f787ad-2a3f-4f48-a81c-d85ba0d74cd4",
   "metadata": {},
   "outputs": [],
   "source": [
    "a = [1,2,3]\n",
    "a.remove(2)"
   ]
  },
  {
   "cell_type": "code",
   "execution_count": null,
   "id": "e0cda3a3-0d02-4e9d-9079-f2f43d60d57c",
   "metadata": {},
   "outputs": [],
   "source": [
    "a"
   ]
  },
  {
   "cell_type": "code",
   "execution_count": null,
   "id": "a04bcd90-9751-433c-93b8-ef922dc01ef0",
   "metadata": {},
   "outputs": [],
   "source": [
    "a.pop(1)"
   ]
  },
  {
   "cell_type": "code",
   "execution_count": null,
   "id": "24fcdb34-e3d9-4288-ad47-10d636307745",
   "metadata": {},
   "outputs": [],
   "source": [
    "a"
   ]
  },
  {
   "cell_type": "markdown",
   "id": "1b9d6dbb-aecc-42c8-a7f2-92ca6fa039b3",
   "metadata": {},
   "source": [
    "### 정렬"
   ]
  },
  {
   "cell_type": "code",
   "execution_count": null,
   "id": "ca0ab1c1-c914-4b3d-8c7b-921dda6978ed",
   "metadata": {},
   "outputs": [],
   "source": [
    "a = [1,3,2,4]\n",
    "a.sort()\n",
    "a"
   ]
  },
  {
   "cell_type": "code",
   "execution_count": null,
   "id": "e58080e4-548c-4be4-965c-95891c591044",
   "metadata": {},
   "outputs": [],
   "source": [
    "a = [1,3,2,4]\n",
    "sorted(a)"
   ]
  },
  {
   "cell_type": "code",
   "execution_count": null,
   "id": "4f2eae72-d7e8-432a-a453-b06c493d093e",
   "metadata": {},
   "outputs": [],
   "source": [
    "a"
   ]
  },
  {
   "cell_type": "code",
   "execution_count": null,
   "id": "02ecd3ee-5226-4e51-99cb-c99c2ff29bc2",
   "metadata": {},
   "outputs": [],
   "source": [
    "a = [1,3,2,4]\n",
    "a = sorted(a)\n",
    "a"
   ]
  },
  {
   "cell_type": "code",
   "execution_count": null,
   "id": "779c0002-19ac-4e9e-86ca-a0aafff8383f",
   "metadata": {},
   "outputs": [],
   "source": [
    "a.reverse()\n",
    "a"
   ]
  },
  {
   "cell_type": "code",
   "execution_count": null,
   "id": "91700e4b-4fff-4ce2-aa4b-4e193bd865fe",
   "metadata": {},
   "outputs": [],
   "source": [
    "a= [1,2,4,3]\n",
    "a.reverse()\n",
    "a"
   ]
  },
  {
   "cell_type": "code",
   "execution_count": null,
   "id": "567fed75-cdaf-439d-8c85-61a12629792b",
   "metadata": {},
   "outputs": [],
   "source": [
    "A=[3,1,5,7,4]\n",
    "A.sort(reverse = True) \n",
    "A"
   ]
  },
  {
   "cell_type": "markdown",
   "id": "fdd1b425-23ee-45c3-ba68-e464e3884d4c",
   "metadata": {},
   "source": [
    "A = [3,1,5,7,4] 일 때,\n",
    "A = [7,5,4,3,1] 로 바꾸어주세요. "
   ]
  },
  {
   "cell_type": "code",
   "execution_count": null,
   "id": "3ca2069b-4807-426a-b184-702f2d20ac44",
   "metadata": {},
   "outputs": [],
   "source": [
    "A=[3,1,5,7,4]\n",
    "A.sort()\n",
    "A.reverse()\n",
    "A"
   ]
  },
  {
   "cell_type": "code",
   "execution_count": null,
   "id": "04e39223-37f3-4ba3-a690-aa5b26f8ed67",
   "metadata": {},
   "outputs": [],
   "source": [
    "li = []\n",
    "for i in range(20):\n",
    "    if i % 3 == 0:\n",
    "        li.append(i)"
   ]
  },
  {
   "cell_type": "code",
   "execution_count": null,
   "id": "59e96e22-05b7-4f41-975d-64db2ddb7f40",
   "metadata": {},
   "outputs": [],
   "source": [
    "li"
   ]
  },
  {
   "cell_type": "markdown",
   "id": "cc818b9a-bf6c-40cc-b697-70e8cc37175b",
   "metadata": {},
   "source": [
    "## 튜플 (tuple)\n",
    "- 99% 리스트와 같다"
   ]
  },
  {
   "cell_type": "code",
   "execution_count": null,
   "id": "b69961bc-2506-4988-8bd9-39873172b58e",
   "metadata": {},
   "outputs": [],
   "source": [
    "a = (1,2,3)\n",
    "a"
   ]
  },
  {
   "cell_type": "code",
   "execution_count": null,
   "id": "23a7944d-da76-421b-b907-5beec3b8ff7c",
   "metadata": {},
   "outputs": [],
   "source": [
    "b = 1,2,3\n",
    "b"
   ]
  },
  {
   "cell_type": "code",
   "execution_count": null,
   "id": "742d0ce8-4678-487a-ac88-80f9b4d6afba",
   "metadata": {},
   "outputs": [],
   "source": [
    "a[0]"
   ]
  },
  {
   "cell_type": "code",
   "execution_count": null,
   "id": "3d258471-f3e3-440c-be76-4d48792734cb",
   "metadata": {},
   "outputs": [],
   "source": [
    "a[1:]"
   ]
  },
  {
   "cell_type": "code",
   "execution_count": null,
   "id": "805ece26-e6ae-4424-8c17-265d77690a41",
   "metadata": {},
   "outputs": [],
   "source": [
    "a = 1,2,3\n",
    "a[1] = 20"
   ]
  },
  {
   "cell_type": "code",
   "execution_count": null,
   "id": "2daeb3c1-ccee-4bdb-9140-b47078197904",
   "metadata": {},
   "outputs": [],
   "source": [
    "# 주로 변수 값을 두개 이상 동시에 받을 때\n",
    "a,b = divmod(17,4)\n",
    "print(a)\n",
    "print(b)"
   ]
  },
  {
   "cell_type": "code",
   "execution_count": null,
   "id": "920ddfc4-a204-4a5d-87f9-6152eabdcaa8",
   "metadata": {},
   "outputs": [],
   "source": [
    "a,b = divmod(17,4)\n",
    "print(f\"17을 4로 나눈 몫은 {a}이고 나머지는 {b}입니다.\")"
   ]
  },
  {
   "cell_type": "markdown",
   "id": "69ed5629-515f-4a98-8fb2-a680a54345ae",
   "metadata": {},
   "source": [
    "## 딕셔너리 (dictionary)\n",
    "- {key : value} key와 value의 순서쌍"
   ]
  },
  {
   "cell_type": "markdown",
   "id": "1f129ac0-d7d9-40ec-9445-2584d5214353",
   "metadata": {},
   "source": [
    "### 만들기"
   ]
  },
  {
   "cell_type": "code",
   "execution_count": null,
   "id": "f49e9472-02e0-4aa6-b099-eb2e72f6b679",
   "metadata": {},
   "outputs": [],
   "source": [
    "a = {'apple':[\"사과\",\"사과2\",\"백설공주가 먹고 죽음\"],'banana':\"바나나\",'carrot':\"당근\"}\n",
    "a"
   ]
  },
  {
   "cell_type": "code",
   "execution_count": null,
   "id": "af81f564-c939-4bab-abd4-43739f92be06",
   "metadata": {},
   "outputs": [],
   "source": [
    "type(a)"
   ]
  },
  {
   "cell_type": "markdown",
   "id": "1355448f-896b-4f13-b4dc-95b782330f15",
   "metadata": {},
   "source": [
    "### 접근\n",
    "- key로 읽는다"
   ]
  },
  {
   "cell_type": "code",
   "execution_count": null,
   "id": "5a51fdcf-cdfb-45ec-b8c3-6150c346b011",
   "metadata": {},
   "outputs": [],
   "source": [
    "a['apple']"
   ]
  },
  {
   "cell_type": "markdown",
   "id": "497c7754-73e0-422f-8b91-3a4f9d557dce",
   "metadata": {},
   "source": [
    "### 수정"
   ]
  },
  {
   "cell_type": "code",
   "execution_count": null,
   "id": "c1a0d7ec-739d-4cbd-badd-c9d107ba49a5",
   "metadata": {},
   "outputs": [],
   "source": [
    "# '바나나'를 '버네너'로 수정합시다.\n",
    "a['banana']='버네너'"
   ]
  },
  {
   "cell_type": "code",
   "execution_count": null,
   "id": "ed1ef8a0-2854-4427-8545-6c19080a1ce0",
   "metadata": {},
   "outputs": [],
   "source": [
    "a['banana']"
   ]
  },
  {
   "cell_type": "code",
   "execution_count": null,
   "id": "7ea08448-21fc-4913-9445-a2d0f18f3440",
   "metadata": {},
   "outputs": [],
   "source": [
    "a['carot'] = \"홍당무\"\n",
    "# 있으면 수정하고, 없으면 만든다"
   ]
  },
  {
   "cell_type": "code",
   "execution_count": null,
   "id": "5e7bd0e0-9f7f-4433-8eba-f7176d76ceaa",
   "metadata": {},
   "outputs": [],
   "source": [
    "a"
   ]
  },
  {
   "cell_type": "code",
   "execution_count": null,
   "id": "b5805fcd-f2e2-4271-9161-238c88cfed97",
   "metadata": {},
   "outputs": [],
   "source": [
    "a.keys()"
   ]
  },
  {
   "cell_type": "code",
   "execution_count": null,
   "id": "547d34a7-4954-4f41-b21c-4b77f5895017",
   "metadata": {},
   "outputs": [],
   "source": [
    "a.values()"
   ]
  },
  {
   "cell_type": "code",
   "execution_count": null,
   "id": "bfcf40e3-a9d9-4459-97a2-15d6960f8d73",
   "metadata": {},
   "outputs": [],
   "source": [
    "a.items()"
   ]
  },
  {
   "cell_type": "code",
   "execution_count": null,
   "id": "be25c2fe-2fa5-46d7-aff0-5855764d5a1d",
   "metadata": {},
   "outputs": [],
   "source": [
    "for i in [1,2,3]:\n",
    "    print(i,end='')\n",
    "    print(\"끝\",end='')"
   ]
  },
  {
   "cell_type": "code",
   "execution_count": null,
   "id": "dbbd0aec-3815-4ae6-a5aa-204969b670dc",
   "metadata": {},
   "outputs": [],
   "source": [
    "a.keys()"
   ]
  },
  {
   "cell_type": "code",
   "execution_count": null,
   "id": "81bc324d-920e-4d5f-a850-194091bec7cb",
   "metadata": {},
   "outputs": [],
   "source": [
    "for i in a.keys():\n",
    "    print(i,\" \",end='')"
   ]
  },
  {
   "cell_type": "code",
   "execution_count": null,
   "id": "ffd85a71-0b44-4642-b8e1-4fb75dbc2b5b",
   "metadata": {},
   "outputs": [],
   "source": [
    "for (i,p) in a.items():\n",
    "    print(f\"키 {i}의 값은 {p} 입니다\")"
   ]
  },
  {
   "cell_type": "code",
   "execution_count": null,
   "id": "63b032c7-afbe-4cd1-b121-8565ac710be1",
   "metadata": {},
   "outputs": [],
   "source": [
    "a['apple']=['app']\n",
    "del a['apple']"
   ]
  },
  {
   "cell_type": "code",
   "execution_count": null,
   "id": "67482857-1395-450f-83f8-aae2a952ccd3",
   "metadata": {},
   "outputs": [],
   "source": [
    "a.keys()"
   ]
  },
  {
   "cell_type": "code",
   "execution_count": null,
   "id": "c1890bd3-5f85-4505-aafd-f94899942a7b",
   "metadata": {},
   "outputs": [],
   "source": [
    "a"
   ]
  },
  {
   "cell_type": "markdown",
   "id": "af6a1f89-7586-4f33-a8e5-e8fa58c7fbac",
   "metadata": {},
   "source": [
    "## 집합"
   ]
  },
  {
   "cell_type": "markdown",
   "id": "df59bba3-04e6-46ec-868b-f62df3bf78d2",
   "metadata": {},
   "source": [
    "### 만들기"
   ]
  },
  {
   "cell_type": "code",
   "execution_count": null,
   "id": "9a04055c-cf72-495f-8c88-776b0aad7bbc",
   "metadata": {},
   "outputs": [],
   "source": [
    "a = set([1,1,1,2,3])\n",
    "a"
   ]
  },
  {
   "cell_type": "code",
   "execution_count": null,
   "id": "398c66c9-91d2-40fe-a9a5-42da82804e25",
   "metadata": {},
   "outputs": [],
   "source": [
    "type(a)"
   ]
  },
  {
   "cell_type": "code",
   "execution_count": null,
   "id": "1b901456-26ee-4bc6-8a7e-674516bb212b",
   "metadata": {},
   "outputs": [],
   "source": [
    "# 중가로에 키값없이 값만 적으면 세트형으로 만들어짐\n",
    "{1,1,1,2,3}"
   ]
  },
  {
   "cell_type": "code",
   "execution_count": null,
   "id": "73a1bbb2-bc85-4c2e-8c33-cdeb8b228030",
   "metadata": {},
   "outputs": [],
   "source": [
    "A = {1,2,3,4}\n",
    "B = set([3,4,5,6])"
   ]
  },
  {
   "cell_type": "code",
   "execution_count": null,
   "id": "96ff4edf-6f19-4d9e-a14c-53821db4f35b",
   "metadata": {},
   "outputs": [],
   "source": [
    "A.union(B)"
   ]
  },
  {
   "cell_type": "code",
   "execution_count": null,
   "id": "42be5f63-3e04-4c7a-a5f4-389df84d387d",
   "metadata": {},
   "outputs": [],
   "source": [
    "A|B"
   ]
  },
  {
   "cell_type": "code",
   "execution_count": null,
   "id": "fea2cc7d-cbfa-45c4-b6e4-944fd0afb566",
   "metadata": {},
   "outputs": [],
   "source": [
    "A&B"
   ]
  },
  {
   "cell_type": "code",
   "execution_count": null,
   "id": "dbdc052e-4dcd-4dd5-92f9-07b0b04a155e",
   "metadata": {},
   "outputs": [],
   "source": [
    "A-B"
   ]
  },
  {
   "cell_type": "code",
   "execution_count": null,
   "id": "6a51418c-ebff-4ae6-9588-5d6f1d0068e5",
   "metadata": {},
   "outputs": [],
   "source": [
    "A.add(5)"
   ]
  },
  {
   "cell_type": "code",
   "execution_count": null,
   "id": "9fa8f786-7911-4bad-b183-2d0617186e94",
   "metadata": {},
   "outputs": [],
   "source": [
    "A"
   ]
  },
  {
   "cell_type": "code",
   "execution_count": null,
   "id": "4fa75d6c-2389-4c3a-afe4-76cfa16e2dc2",
   "metadata": {},
   "outputs": [],
   "source": [
    "A.update([6,7,8])"
   ]
  },
  {
   "cell_type": "code",
   "execution_count": null,
   "id": "78ff5c8e-1a35-499a-ad89-ad28d167f255",
   "metadata": {},
   "outputs": [],
   "source": [
    "A"
   ]
  },
  {
   "cell_type": "code",
   "execution_count": null,
   "id": "f4035c59-1c40-420c-b1ab-e7e79fe8277f",
   "metadata": {},
   "outputs": [],
   "source": [
    "a = [1,2,3]\n",
    "b = a"
   ]
  },
  {
   "cell_type": "code",
   "execution_count": null,
   "id": "22768e19-847d-47dd-ad0c-70ca36ec4a38",
   "metadata": {},
   "outputs": [],
   "source": [
    "b"
   ]
  },
  {
   "cell_type": "code",
   "execution_count": null,
   "id": "22b98a8f-d925-4f69-8c93-ecb0c63ad9ba",
   "metadata": {},
   "outputs": [],
   "source": [
    "b[1] = 20"
   ]
  },
  {
   "cell_type": "code",
   "execution_count": null,
   "id": "c68ad5d6-bb7f-4834-9401-9dc5981f5baa",
   "metadata": {},
   "outputs": [],
   "source": [
    "b"
   ]
  },
  {
   "cell_type": "code",
   "execution_count": null,
   "id": "b7e92dac-be83-492a-99f3-de40329f5d65",
   "metadata": {},
   "outputs": [],
   "source": [
    "print(id(a))\n",
    "id(b)"
   ]
  },
  {
   "cell_type": "code",
   "execution_count": null,
   "id": "4cbc278d-c9f2-45b2-8f20-b4cd6ffe56db",
   "metadata": {},
   "outputs": [],
   "source": [
    "c = a.copy()"
   ]
  },
  {
   "cell_type": "code",
   "execution_count": null,
   "id": "14f645fa-bf44-4888-b682-8f4d5dc8ad4d",
   "metadata": {},
   "outputs": [],
   "source": [
    "c"
   ]
  },
  {
   "cell_type": "code",
   "execution_count": null,
   "id": "ef522aca-0154-4f11-941d-92bd65ad19c1",
   "metadata": {},
   "outputs": [],
   "source": [
    "c[1]=200"
   ]
  },
  {
   "cell_type": "code",
   "execution_count": null,
   "id": "c1aa015c-5767-457e-bbb4-38e48a2432e3",
   "metadata": {},
   "outputs": [],
   "source": [
    "a"
   ]
  },
  {
   "cell_type": "code",
   "execution_count": null,
   "id": "6ebde41b-9bf8-47c1-bbac-6716878efafc",
   "metadata": {},
   "outputs": [],
   "source": [
    "c"
   ]
  },
  {
   "cell_type": "code",
   "execution_count": null,
   "id": "c0c3f1ee-25c8-4be5-886c-072387dadc29",
   "metadata": {},
   "outputs": [],
   "source": [
    "a=3\n",
    "b=5"
   ]
  },
  {
   "cell_type": "code",
   "execution_count": null,
   "id": "30eff9aa-90ab-42e4-9676-3aa632ecd23c",
   "metadata": {},
   "outputs": [],
   "source": [
    "a,b=b,a"
   ]
  },
  {
   "cell_type": "code",
   "execution_count": null,
   "id": "9d795055-5e91-4474-8f5e-057741139d3b",
   "metadata": {},
   "outputs": [],
   "source": [
    "a"
   ]
  },
  {
   "cell_type": "code",
   "execution_count": null,
   "id": "f474e6d4-223b-4479-bd62-9d716e05f790",
   "metadata": {},
   "outputs": [],
   "source": [
    "b,a=a,b"
   ]
  },
  {
   "cell_type": "code",
   "execution_count": null,
   "id": "51f90fd1-bff1-474a-8593-613a71e22d7e",
   "metadata": {},
   "outputs": [],
   "source": [
    "a"
   ]
  },
  {
   "cell_type": "markdown",
   "id": "92dd4cad-6db1-481d-8f1d-f69965066630",
   "metadata": {},
   "source": [
    "# 제어문"
   ]
  },
  {
   "cell_type": "markdown",
   "id": "7ffbfcfa-8e6e-40bb-9bda-c4eae2b6281b",
   "metadata": {},
   "source": [
    "## 조건문 (if)"
   ]
  },
  {
   "cell_type": "markdown",
   "id": "6c2db90b-aaf2-4655-afce-0164af156415",
   "metadata": {},
   "source": [
    "```\n",
    "if 조건 :\n",
    "    실행할 문장\n",
    "else :\n",
    "    실행할 문장\n",
    "if 는 여러번 와도 된다\n",
    "else 는 없어도 된다.\n",
    "```"
   ]
  },
  {
   "cell_type": "code",
   "execution_count": null,
   "id": "46d848c8-4d29-4a70-b02e-d6a95c2f2eab",
   "metadata": {},
   "outputs": [],
   "source": [
    "if True :\n",
    "    print(\"Yes\")"
   ]
  },
  {
   "cell_type": "code",
   "execution_count": null,
   "id": "66890e00-f235-4cba-a47b-a0b986e5ea47",
   "metadata": {},
   "outputs": [],
   "source": [
    "if 1<2 :\n",
    "    print(\"Yes\")"
   ]
  },
  {
   "cell_type": "code",
   "execution_count": null,
   "id": "07d14057-fb0e-4b6b-9f03-116bab6cd93a",
   "metadata": {},
   "outputs": [],
   "source": [
    "if 1 :\n",
    "    print(\"Yes\")"
   ]
  },
  {
   "cell_type": "code",
   "execution_count": null,
   "id": "3bdeca33-560c-4b77-8e16-4c99b28e15f5",
   "metadata": {},
   "outputs": [],
   "source": [
    "if True :\n",
    "    print(\"Yes\")\n",
    "else :\n",
    "    print(\"No\")"
   ]
  },
  {
   "cell_type": "code",
   "execution_count": null,
   "id": "776a2b67-be76-4dea-9d8a-3d051bd9a2da",
   "metadata": {},
   "outputs": [],
   "source": [
    "if False :\n",
    "    print(\"Yes\")\n",
    "else :\n",
    "    print(\"No\")"
   ]
  },
  {
   "cell_type": "code",
   "execution_count": null,
   "id": "40a6d767-95f4-4aee-b58c-8d1832877933",
   "metadata": {},
   "outputs": [],
   "source": [
    "if 1>2 :\n",
    "    print(\"Yes\")\n",
    "else :\n",
    "    print(\"No\")"
   ]
  },
  {
   "cell_type": "code",
   "execution_count": null,
   "id": "f58e8e57-9636-4a5b-9b5b-d395bd0ba906",
   "metadata": {},
   "outputs": [],
   "source": [
    "if 0 :\n",
    "    print(\"Yes\")\n",
    "else :\n",
    "    print(\"No\")"
   ]
  },
  {
   "cell_type": "code",
   "execution_count": null,
   "id": "45961deb-7327-431a-bee2-ce4c37860920",
   "metadata": {},
   "outputs": [],
   "source": [
    "if \"\" :\n",
    "    print(\"Yes\")\n",
    "else :\n",
    "    print(\"No\")"
   ]
  },
  {
   "cell_type": "code",
   "execution_count": null,
   "id": "08ac29d9-f321-4b25-b35e-ec764a294dbc",
   "metadata": {},
   "outputs": [],
   "source": [
    "number = 10\n",
    "if number > 0:\n",
    "    print(\"양수입니다.\")\n",
    "if number < 0 :\n",
    "    print(\"음수입니다.\")"
   ]
  },
  {
   "cell_type": "code",
   "execution_count": null,
   "id": "f233ebe8-c51e-44dc-829a-0b8445c2143f",
   "metadata": {},
   "outputs": [],
   "source": [
    "number = int(input(\"숫자를 입력해 주세요\"))\n",
    "if number > 0:\n",
    "    print(\"양수입니다.\")\n",
    "else :\n",
    "    print(\"음수입니다.\")"
   ]
  },
  {
   "cell_type": "code",
   "execution_count": null,
   "id": "69c2f26d-d4da-4f1f-a574-26d53a43e7eb",
   "metadata": {},
   "outputs": [],
   "source": [
    "# 홀수인지 짝수인지 출력하도록 해 봅시다.\n",
    "number = int(input(\"숫자를 입력해 주세요\"))\n",
    "if number%2== 0:\n",
    "    print(\"짝수입니다.\")\n",
    "else :\n",
    "    print(\"홀수입니다.\")"
   ]
  },
  {
   "cell_type": "code",
   "execution_count": null,
   "id": "af7ab635-ac1a-4958-8700-48bc2afe2ed5",
   "metadata": {},
   "outputs": [],
   "source": [
    "age = int(input(\"나이를 입력해 주세요\"))\n",
    "if age<30:\n",
    "    print(\"성년입니다.\")\n",
    "elif age<60:\n",
    "    print(\"중년입니다.\")\n",
    "else : \n",
    "    print(\"장년입니다.\")"
   ]
  },
  {
   "cell_type": "code",
   "execution_count": null,
   "id": "dfada8cd-b0a7-4d21-9011-3452cf2800ba",
   "metadata": {},
   "outputs": [],
   "source": [
    "temp = \n",
    "온도를 입력 받아서 \n",
    "\n",
    "30 이상이면 여름\n",
    "20 이상이면 가을\n",
    "10 이상이면 봄\n",
    "나머지는 겨울"
   ]
  },
  {
   "cell_type": "code",
   "execution_count": null,
   "id": "a551e7d3-833a-4943-88b0-b54370428844",
   "metadata": {},
   "outputs": [],
   "source": [
    "temp = int(input(\"온도를 입력하세요\"))\n",
    "\n",
    "if temp >30 :\n",
    "    print(\"여름\")\n",
    "elif temp >20 :\n",
    "    print(\"가을\")\n",
    "elif temp >10 :\n",
    "    print(\"봄\")\n",
    "else :\n",
    "    print(\"겨울\")"
   ]
  },
  {
   "cell_type": "markdown",
   "id": "e064a885-697f-4dfd-9c00-7c434fc34dc3",
   "metadata": {},
   "source": [
    "- A in B"
   ]
  },
  {
   "cell_type": "code",
   "execution_count": null,
   "id": "3c0882cc-ab1c-4eda-8205-06f00d255787",
   "metadata": {},
   "outputs": [],
   "source": [
    "if \"bill\" in [\"coin\",\"bill\",\"phone\",\"card\"] : \n",
    "    print(\"버스를 타고 가자\")\n",
    "else:\n",
    "    print(\"걸어가자\")"
   ]
  },
  {
   "cell_type": "code",
   "execution_count": null,
   "id": "2e2a9727-32b0-4d3a-aa81-dc0ceaebe366",
   "metadata": {},
   "outputs": [],
   "source": [
    "if \"bills\" in [\"coin\",\"bill\",\"phone\",\"card\"] : \n",
    "    print(\"버스를 타고 가자\")\n",
    "elif \"card\" in [\"coin\",\"bill\",\"phone\",\"card\"] :\n",
    "    print(\"택시를 타자\")\n",
    "else:\n",
    "    print(\"걸어가자\")"
   ]
  },
  {
   "cell_type": "code",
   "execution_count": null,
   "id": "52cd2b92-913e-4e4d-a6c1-e384eb908844",
   "metadata": {},
   "outputs": [],
   "source": [
    "name = [\"철수\",\"영희\",\"길동\",\"전우치\",\"손오공\"]\n",
    "name = \n",
    "이름이 있으면 \"합격입니다\"\n",
    "없으면 \"불합격입니다.\""
   ]
  },
  {
   "cell_type": "code",
   "execution_count": null,
   "id": "b0c97a4e-c33f-4cef-859b-30cca74def52",
   "metadata": {},
   "outputs": [],
   "source": [
    "names = [\"철수\",\"영희\",\"길동\",\"전우치\",\"손오공\"]\n",
    "name = input(\"이름을 입력하세요\")\n",
    "if name in names:\n",
    "    print(\"합격입니다.\")\n",
    "else :\n",
    "    print(\"불합격입니다.\")"
   ]
  },
  {
   "cell_type": "markdown",
   "id": "65befd9b-741b-4687-a709-4a10d609d58d",
   "metadata": {},
   "source": [
    "## 반복문 (for)"
   ]
  },
  {
   "cell_type": "markdown",
   "id": "d29d6ad3-1b21-4795-8c58-6a4e674d826a",
   "metadata": {},
   "source": [
    "```\n",
    "for i in [__]:\n",
    "  실행될 문장\n",
    "  ```"
   ]
  },
  {
   "cell_type": "code",
   "execution_count": null,
   "id": "7f0b1a86-6183-423f-a35c-0aaa4f5bf8ff",
   "metadata": {},
   "outputs": [],
   "source": [
    "for i in [1,2,3]:\n",
    "    print(i)\n",
    "    print(i+10)\n",
    "    print()"
   ]
  },
  {
   "cell_type": "code",
   "execution_count": null,
   "id": "70e852d2-8278-400a-a2b3-a794c4fddf7d",
   "metadata": {},
   "outputs": [],
   "source": [
    "for i in [1,2,3]:\n",
    "    print(i)\n",
    "    print(i+10)\n",
    "print(\"Hello\")"
   ]
  },
  {
   "cell_type": "code",
   "execution_count": null,
   "id": "6a928919-c78a-46e0-8665-d73f977d47f5",
   "metadata": {},
   "outputs": [],
   "source": [
    "for i in [1,2,3,4,5,6,7,8,9,10]:\n",
    "    print(i,end='')"
   ]
  },
  {
   "cell_type": "code",
   "execution_count": null,
   "id": "eb8a62da-aa5c-4d76-8591-f1205fd5cdcd",
   "metadata": {},
   "outputs": [],
   "source": [
    "for i in range(1,11,2):\n",
    "    print(i)"
   ]
  },
  {
   "cell_type": "code",
   "execution_count": null,
   "id": "44341b47-89ec-4b70-bfd0-39d98a3964cd",
   "metadata": {},
   "outputs": [],
   "source": [
    "for i in range(2,11,2):\n",
    "    print(i)"
   ]
  },
  {
   "cell_type": "code",
   "execution_count": null,
   "id": "4c9fcef4-f22f-40ef-b10c-16347b00a44c",
   "metadata": {},
   "outputs": [],
   "source": [
    "list(range(10))"
   ]
  },
  {
   "cell_type": "code",
   "execution_count": null,
   "id": "76f8390b-0ae6-4d39-ad30-3b10a3e06e52",
   "metadata": {},
   "outputs": [],
   "source": [
    "for i in range(1,11):\n",
    "    print(i,end=\", \")"
   ]
  },
  {
   "cell_type": "code",
   "execution_count": null,
   "id": "df37db53-afb4-4272-9897-4c3c51ef98a3",
   "metadata": {},
   "outputs": [],
   "source": [
    "# 100이하의 모든 홀수를 추가해주세요"
   ]
  },
  {
   "cell_type": "code",
   "execution_count": null,
   "id": "70277712-6442-4c9f-a3b2-a95a5acf76a7",
   "metadata": {},
   "outputs": [],
   "source": [
    "for i in range(1,100,2):\n",
    "        print(i,end=' ')"
   ]
  },
  {
   "cell_type": "code",
   "execution_count": null,
   "id": "45988838-4c42-48f2-8c28-452301391969",
   "metadata": {},
   "outputs": [],
   "source": [
    "# 100이하의 모든 짝수"
   ]
  },
  {
   "cell_type": "code",
   "execution_count": null,
   "id": "e8bf23ca-7657-4154-9ec8-8db0a38ab77a",
   "metadata": {},
   "outputs": [],
   "source": [
    "for i in range(2,101,2):\n",
    "        print(i,end=' ')"
   ]
  },
  {
   "cell_type": "code",
   "execution_count": null,
   "id": "d0e37f98-b60f-4962-bcad-5cd3765b6775",
   "metadata": {},
   "outputs": [],
   "source": [
    "# 100이하의 모든 홀수 \n",
    "for i in range(100):\n",
    "    if i%2!=0:\n",
    "        print(i,end=' ')"
   ]
  },
  {
   "cell_type": "code",
   "execution_count": null,
   "id": "f44ca869-8054-4c70-a58b-213b05ebb624",
   "metadata": {},
   "outputs": [],
   "source": [
    "for i in [(1,\"a\"),(2,\"b\"),(3,\"c\")] :\n",
    "    print(i)   "
   ]
  },
  {
   "cell_type": "code",
   "execution_count": null,
   "id": "ae1904f2-09a1-4c5d-a6e5-65cc58c93b42",
   "metadata": {},
   "outputs": [],
   "source": [
    "for i in [(1,\"a\"),(2,\"b\"),(3,\"c\")] :\n",
    "    print(i[0])"
   ]
  },
  {
   "cell_type": "code",
   "execution_count": null,
   "id": "b4b46303-fb3b-47c6-a5d0-6a19b1010cdd",
   "metadata": {},
   "outputs": [],
   "source": [
    "for i in [(1,\"a\"),(2,\"b\"),(3,\"c\")] :\n",
    "    print(i[1])\n",
    "    "
   ]
  },
  {
   "cell_type": "code",
   "execution_count": null,
   "id": "d481ff0a-9f10-40a6-a548-62df8d6b06aa",
   "metadata": {},
   "outputs": [],
   "source": [
    "for i in [(1,\"a\"),(2,\"b\"),(3,\"c\")] :\n",
    "    print(i[0],i[1])\n",
    "    "
   ]
  },
  {
   "cell_type": "code",
   "execution_count": null,
   "id": "5721bbf0-2f71-43c1-9ce7-25cd9f90692d",
   "metadata": {},
   "outputs": [],
   "source": [
    "for (i,j) in [(1,\"a\"),(2,\"b\"),(3,\"c\")] :\n",
    "    print(i,j)"
   ]
  },
  {
   "cell_type": "code",
   "execution_count": null,
   "id": "9350ff1a-f3c6-4f0d-9367-2883f13407c8",
   "metadata": {},
   "outputs": [],
   "source": [
    "for i,j in [(1,\"a\"),(2,\"b\"),(3,\"c\")] :\n",
    "    print(i,j)"
   ]
  },
  {
   "cell_type": "code",
   "execution_count": null,
   "id": "82ca3644-92fc-4bcc-a1a9-6c0bd56015b1",
   "metadata": {},
   "outputs": [],
   "source": [
    "li = [(1,\"a\"),(2,\"b\"),(3,\"c\")]\n",
    "for i,j in li :\n",
    "    print(i,j)"
   ]
  },
  {
   "cell_type": "markdown",
   "id": "98dd5bff-ff65-4199-a033-d984c1dfb44b",
   "metadata": {},
   "source": [
    "- A in B"
   ]
  },
  {
   "cell_type": "code",
   "execution_count": null,
   "id": "4ab9f998-1dee-4cd6-93a1-db1cc59ed326",
   "metadata": {},
   "outputs": [],
   "source": [
    "names = [\"철수\",\"영희\",\"길동\",\"전우치\",\"손오공\"]\n",
    "for name in names :\n",
    "    print(name,end=\" \")"
   ]
  },
  {
   "cell_type": "code",
   "execution_count": null,
   "id": "d3232d49-3b74-42bc-a69b-bfec09d35617",
   "metadata": {},
   "outputs": [],
   "source": [
    "sum = 0\n",
    "for i in range(1,11):\n",
    "    sum = sum + i    \n",
    "print(sum)"
   ]
  },
  {
   "cell_type": "code",
   "execution_count": null,
   "id": "09a7d84f-6641-4e32-9e8d-c3a82353fe0d",
   "metadata": {},
   "outputs": [],
   "source": [
    "# 1부터 100까지의 합은?"
   ]
  },
  {
   "cell_type": "code",
   "execution_count": null,
   "id": "7239a946-5c18-4e2b-b70f-e1395f5b1716",
   "metadata": {},
   "outputs": [],
   "source": [
    "sum1 = 0\n",
    "for i in range(1,101):\n",
    "    sum1 = sum1 +i\n",
    "print(sum1)"
   ]
  },
  {
   "cell_type": "code",
   "execution_count": null,
   "id": "d91e41a0-9d71-4b34-b803-85a55f4fe3ca",
   "metadata": {},
   "outputs": [],
   "source": [
    "# 1부터 100까지 모든 홀수의 합은?"
   ]
  },
  {
   "cell_type": "code",
   "execution_count": null,
   "id": "4e11af34-0755-44d2-b6a2-c2af86fb596d",
   "metadata": {},
   "outputs": [],
   "source": [
    "sum = 0\n",
    "for i in range(1,100,2):\n",
    "    sum = sum + i\n",
    "print(sum)"
   ]
  },
  {
   "cell_type": "code",
   "execution_count": null,
   "id": "f98dc73e-2fbb-4480-a9bf-4a99e6650a63",
   "metadata": {},
   "outputs": [],
   "source": [
    "# 입력 받은 수 까지의 합?\n",
    "sum = 0\n",
    "number=int(input(\"숫자입력하세요\"))\n",
    "for i in range(number+1):\n",
    "    sum = sum + i\n",
    "print(sum)"
   ]
  },
  {
   "cell_type": "code",
   "execution_count": null,
   "id": "fda111de-be1a-4ec6-aacf-b6aab7be4e6e",
   "metadata": {},
   "outputs": [],
   "source": [
    "# 입력 받은 수 까지의 합?\n",
    "sum = 0\n",
    "number1=int(input(\"시작숫자입력하세요\"))\n",
    "number2=int(input(\"끝숫자입력하세요\"))\n",
    "for i in range(number1,number2+1):\n",
    "    sum = sum + i\n",
    "print(sum)"
   ]
  },
  {
   "cell_type": "code",
   "execution_count": null,
   "id": "3b1fdace-fff6-4578-bb25-71b9d0d93c5f",
   "metadata": {},
   "outputs": [],
   "source": [
    "# 두 수를 입력받아.. 모든 짝수의 합\n",
    "sum = 0\n",
    "number1=int(input(\"시작숫자입력하세요\"))\n",
    "number2=int(input(\"끝숫자입력하세요\"))\n",
    "for i in range(number1,number2+1):\n",
    "    if i%2!=0:\n",
    "        sum = sum + i\n",
    "print(sum)"
   ]
  },
  {
   "cell_type": "code",
   "execution_count": null,
   "id": "eb8f3520-fa39-44aa-a17e-b079839c5742",
   "metadata": {},
   "outputs": [],
   "source": [
    "# 13부터 124까지 홀수의 개수는?\n",
    "count=0\n",
    "for i in range(13,124):\n",
    "    if i%2!=0:\n",
    "        count=count+1\n",
    "    else:\n",
    "        pass\n",
    "print(count)"
   ]
  },
  {
   "cell_type": "code",
   "execution_count": null,
   "id": "423114e5-fd7d-45f7-a55a-a78e37e47fd2",
   "metadata": {},
   "outputs": [],
   "source": [
    "a = [[1,2],['a','b','c']]\n",
    "for i in a:\n",
    "    print(i)"
   ]
  },
  {
   "cell_type": "code",
   "execution_count": null,
   "id": "9c98a1c3-0a1f-4a87-a6ab-89268b77dd6c",
   "metadata": {},
   "outputs": [],
   "source": [
    "a = [[1,2],['a','b','c']]\n",
    "for i in a:\n",
    "    for j in i:\n",
    "        print(j)\n",
    "            "
   ]
  },
  {
   "cell_type": "code",
   "execution_count": null,
   "id": "885d2568-ba6a-4f5d-a8b9-616e94802072",
   "metadata": {},
   "outputs": [],
   "source": [
    "a = [[1,2],['a','b','c']]\n",
    "for i in a[0]:\n",
    "    for j in a[1]:\n",
    "        print(i,j)\n",
    "            "
   ]
  },
  {
   "cell_type": "code",
   "execution_count": null,
   "id": "07553882-3223-4720-bc03-3d7dc7e38b28",
   "metadata": {},
   "outputs": [],
   "source": [
    "for i in [1,2]:\n",
    "    for j in [1,2,3,4,5,6]:\n",
    "        print(i,j)"
   ]
  },
  {
   "cell_type": "code",
   "execution_count": null,
   "id": "e8aced0f-a832-4cfb-b22f-09f500f74d4f",
   "metadata": {},
   "outputs": [],
   "source": [
    "for i in range(2,4):\n",
    "    for j in range(1,10):\n",
    "        print(i,'X',j,'=',i*j)"
   ]
  },
  {
   "cell_type": "code",
   "execution_count": null,
   "id": "48857bb5-376a-4403-b8f4-fda15a40e4b1",
   "metadata": {},
   "outputs": [],
   "source": [
    " for i in range(2,10):\n",
    "    print(f\"<{i}단>\")\n",
    "    for j in range(1,10):\n",
    "        print(f\"{i}X{j}={i*j}\")\n",
    "    print()"
   ]
  },
  {
   "cell_type": "code",
   "execution_count": null,
   "id": "4a30535f-9d6c-458c-a494-1ed152932f4a",
   "metadata": {},
   "outputs": [],
   "source": [
    "sum = 0\n",
    "for i in range(10):\n",
    "    if i % 2 == 1 :\n",
    "        sum += i\n",
    "print(sum)"
   ]
  },
  {
   "cell_type": "code",
   "execution_count": null,
   "id": "20fb2bc8-1a1a-4ae1-b9b0-144478eabdfe",
   "metadata": {},
   "outputs": [],
   "source": [
    "li=[]\n",
    "for i in range(10):\n",
    "    if i % 2 == 1 :\n",
    "        li.append(i)\n",
    "print(li)"
   ]
  },
  {
   "cell_type": "code",
   "execution_count": null,
   "id": "74a846de-74fe-45f9-b28e-6ed18f84617d",
   "metadata": {},
   "outputs": [],
   "source": [
    "# 1부터 1000까지 3의 배수 또는 5의 배수의 합\n",
    "sum=0\n",
    "for i in range(1,1001):\n",
    "    if i%3==0:\n",
    "        sum+=i\n",
    "    elif i%5==0:\n",
    "        sum+=i\n",
    "print(sum)"
   ]
  },
  {
   "cell_type": "code",
   "execution_count": null,
   "id": "48eb99e4-8f2a-42c8-8ef8-3eba38b881bd",
   "metadata": {},
   "outputs": [],
   "source": [
    "# ********OR활용******************************************\n",
    "sum = 0\n",
    "for i in range(1,1001):\n",
    "    if i % 3 == 0 or i % 5 == 0:\n",
    "        sum += i\n",
    "print(sum) "
   ]
  },
  {
   "cell_type": "code",
   "execution_count": null,
   "id": "54a7dae0-7c48-4fb8-91b6-1c39ff0b7f7d",
   "metadata": {},
   "outputs": [],
   "source": [
    "# 홀수라면 2를 곱해서 담자\n",
    "li=[]\n",
    "for i in range(10):\n",
    "    if i % 2 == 1 :\n",
    "        li.append(i*2)\n",
    "print(li)"
   ]
  },
  {
   "cell_type": "markdown",
   "id": "18949aa8-ade0-4944-bd74-1baa904f1f96",
   "metadata": {},
   "source": [
    "- list comprehension (리스트 내포)"
   ]
  },
  {
   "cell_type": "code",
   "execution_count": null,
   "id": "c54739b6-6998-4d3a-afc2-88e1039600c0",
   "metadata": {},
   "outputs": [],
   "source": [
    "# a리스트 값에서 곱하기 2를 해서 새로운 리스트를 만들기\n",
    "a = [1,2,3,4]\n",
    "li = []\n",
    "for i in a:\n",
    "    li.append(i*2)\n",
    "print(li)"
   ]
  },
  {
   "cell_type": "code",
   "execution_count": null,
   "id": "f692b9c1-aeec-4786-9ee6-6179ebbef96c",
   "metadata": {},
   "outputs": [],
   "source": [
    "# *****************더 간단히 새로운 리스트 만들기****************\n",
    "a = [1,2,3,4]\n",
    "li = [ i*2 for i in a]\n",
    "li"
   ]
  },
  {
   "cell_type": "code",
   "execution_count": null,
   "id": "891108ea-f630-4ec2-9227-70bd23655376",
   "metadata": {},
   "outputs": [],
   "source": [
    "# ****************** for과 if문 둘다 한줄로 넣키 *************\n",
    "a = [1,2,3,4]\n",
    "li = [ i*2 for i in a if i%2==0]\n",
    "li"
   ]
  },
  {
   "cell_type": "code",
   "execution_count": null,
   "id": "f094d440-1e9b-4c29-87df-68d62397699b",
   "metadata": {},
   "outputs": [],
   "source": [
    "scores = [70,60,55,75,95,90,80,80,85,100]\n",
    "total = 0\n",
    "for score in scores:\n",
    "    total += score\n",
    "average = total / len(scores)\n",
    "print(average)"
   ]
  },
  {
   "cell_type": "markdown",
   "id": "94b69f29-2808-4f56-a5b9-e5566e7dc6cd",
   "metadata": {},
   "source": [
    "## while 문\n",
    "- 조건문 + 반복문\n",
    "- 반복의 횟수가 정해져 있지 않을 때\n",
    "```\n",
    " while 조건 :\n",
    "     반복할 내용\n",
    "     ```"
   ]
  },
  {
   "cell_type": "code",
   "execution_count": null,
   "id": "ad58d3a1-0cb8-4bd6-9f74-a7b1a461a28d",
   "metadata": {},
   "outputs": [],
   "source": [
    "import random "
   ]
  },
  {
   "cell_type": "code",
   "execution_count": null,
   "id": "9fe7ed47-e62c-4235-9be6-30c77f180222",
   "metadata": {},
   "outputs": [],
   "source": [
    "random.randint(1,9)"
   ]
  },
  {
   "cell_type": "code",
   "execution_count": null,
   "id": "3ea20209-6735-4a9a-9bae-cb8205b1ef45",
   "metadata": {},
   "outputs": [],
   "source": [
    "a = 0\n",
    "while a < 7 :\n",
    "    print(a*10)\n",
    "    a += 1"
   ]
  },
  {
   "cell_type": "code",
   "execution_count": null,
   "id": "59279d22-99d8-41f9-8a5c-9016a4d23c5f",
   "metadata": {},
   "outputs": [],
   "source": [
    "a = 0\n",
    "while a < 7 :\n",
    "    print(a*10)\n",
    "    a = random.randint(1,10)"
   ]
  },
  {
   "cell_type": "code",
   "execution_count": null,
   "id": "2a998882-06a3-4a26-9362-098ca7623e9a",
   "metadata": {},
   "outputs": [],
   "source": [
    "sum = 0\n",
    "i = 0\n",
    "while i < 11 :\n",
    "    sum += i\n",
    "    i += 1\n",
    "print(sum)"
   ]
  },
  {
   "cell_type": "code",
   "execution_count": null,
   "id": "a5bc8c1b-6d2a-40bc-b39d-6a2175495b99",
   "metadata": {},
   "outputs": [],
   "source": [
    "sum = 0\n",
    "i = 0\n",
    "while i < 11 :\n",
    "    sum += i\n",
    "    i += 1\n",
    "        break\n",
    "print(sum)"
   ]
  },
  {
   "cell_type": "markdown",
   "id": "03f5004a-c119-47d5-86e0-ec7a712cd335",
   "metadata": {},
   "source": [
    "- countinue"
   ]
  },
  {
   "cell_type": "code",
   "execution_count": null,
   "id": "5820950e-cb49-43d6-9d54-a15cbc75d701",
   "metadata": {},
   "outputs": [],
   "source": [
    "a = 0\n",
    "while a < 10:\n",
    "    a += 1\n",
    "    if a % 2 == 0 :\n",
    "        continue\n",
    "    print(a)"
   ]
  },
  {
   "cell_type": "code",
   "execution_count": null,
   "id": "9c5214fc-0b64-4e5f-b28b-a8011500162b",
   "metadata": {},
   "outputs": [],
   "source": [
    "a = 0\n",
    "sum = 0\n",
    "while a < 10:\n",
    "    a += 1\n",
    "    if a % 3 == 0 :\n",
    "        continue\n",
    "    sum += a\n",
    "print(sum)"
   ]
  },
  {
   "cell_type": "code",
   "execution_count": null,
   "id": "415ba3ce-a9b5-4f50-88dd-faedd0c533ad",
   "metadata": {},
   "outputs": [],
   "source": [
    "import time"
   ]
  },
  {
   "cell_type": "code",
   "execution_count": null,
   "id": "2cc1de0e-6fe1-4ef5-a08b-db7108e8b776",
   "metadata": {},
   "outputs": [],
   "source": [
    "time.sleep(1)"
   ]
  },
  {
   "cell_type": "code",
   "execution_count": null,
   "id": "eda1550b-3bd2-4313-bca6-34ca71024046",
   "metadata": {},
   "outputs": [],
   "source": [
    "# while True:\n",
    "#    print(\"Hello\")\n",
    "#    time.sleep(10)\n",
    "# 무한루푸"
   ]
  },
  {
   "cell_type": "markdown",
   "id": "657bd969-e804-4b4c-9320-baf58b2c3a70",
   "metadata": {},
   "source": [
    "# 함수"
   ]
  },
  {
   "cell_type": "markdown",
   "id": "c9be9994-0bf0-49cf-9d83-0212fb0f2f5b",
   "metadata": {},
   "source": [
    "## 함수 만들기\n",
    "```\n",
    "def 함수이름( , ,... ) : \n",
    "    실행할 문장\n",
    "    return 변수\n",
    "```"
   ]
  },
  {
   "cell_type": "code",
   "execution_count": null,
   "id": "e66811e0-26e5-4924-9534-4890ac867736",
   "metadata": {},
   "outputs": [],
   "source": [
    "def twice(a):\n",
    "    result = a*2\n",
    "    return result"
   ]
  },
  {
   "cell_type": "code",
   "execution_count": null,
   "id": "f14067a2-61df-4c67-a408-de42a22931d0",
   "metadata": {},
   "outputs": [],
   "source": [
    "twice(3)"
   ]
  },
  {
   "cell_type": "code",
   "execution_count": null,
   "id": "f8c6739b-bb6a-4ee7-9f9d-1ae9574700a5",
   "metadata": {},
   "outputs": [],
   "source": [
    "def twice(a):\n",
    "    return a*2"
   ]
  },
  {
   "cell_type": "code",
   "execution_count": null,
   "id": "f31fd0b4-dcaa-40ca-ad3f-e417b9dd231a",
   "metadata": {},
   "outputs": [],
   "source": [
    "twice(3,4)"
   ]
  },
  {
   "cell_type": "code",
   "execution_count": null,
   "id": "b9c077a9-d145-40d7-939c-e47c37a364ea",
   "metadata": {},
   "outputs": [],
   "source": [
    "def add(a,b):\n",
    "    return a+b"
   ]
  },
  {
   "cell_type": "code",
   "execution_count": null,
   "id": "d9451f2e-7c64-45b0-b253-d76ba6c65d6a",
   "metadata": {},
   "outputs": [],
   "source": [
    "add(3,4)"
   ]
  },
  {
   "cell_type": "code",
   "execution_count": null,
   "id": "0e01b912-b2bd-45aa-b685-20b0d5abf5c6",
   "metadata": {},
   "outputs": [],
   "source": [
    "def subtract(a,b):\n",
    "    return a-b"
   ]
  },
  {
   "cell_type": "code",
   "execution_count": null,
   "id": "610b8186-0a31-49f1-aba2-9f7daf1fa24f",
   "metadata": {},
   "outputs": [],
   "source": [
    "subtract(3,9)"
   ]
  },
  {
   "cell_type": "code",
   "execution_count": null,
   "id": "946b7d7c-de0d-44f6-be64-54b6256b0325",
   "metadata": {},
   "outputs": [],
   "source": [
    "subtract(b=3, a=4)"
   ]
  },
  {
   "cell_type": "code",
   "execution_count": null,
   "id": "08cd48d2-be30-4e5d-89dd-86b80e29baf2",
   "metadata": {},
   "outputs": [],
   "source": [
    "a = [1,2]\n",
    "a.copy()"
   ]
  },
  {
   "cell_type": "code",
   "execution_count": null,
   "id": "172465a0-a0ab-433d-9314-3e048a77e8e5",
   "metadata": {},
   "outputs": [],
   "source": [
    "def test():\n",
    "    a,b = 1,2\n",
    "    return a+b    "
   ]
  },
  {
   "cell_type": "code",
   "execution_count": null,
   "id": "f8e467ec-3268-439b-a977-4a98fcfdc5df",
   "metadata": {},
   "outputs": [],
   "source": [
    "test()"
   ]
  },
  {
   "cell_type": "code",
   "execution_count": null,
   "id": "f092b7a6-deac-4896-864c-aa45506794db",
   "metadata": {},
   "outputs": [],
   "source": [
    "def odd_even(a):\n",
    "    if a%2==0:\n",
    "        print(\"짝수\")\n",
    "    else :\n",
    "        print(\"홀수\")"
   ]
  },
  {
   "cell_type": "code",
   "execution_count": null,
   "id": "25bcde51-97fd-4499-b05b-afa3a7fc6084",
   "metadata": {},
   "outputs": [],
   "source": [
    "odd_even(2)"
   ]
  },
  {
   "cell_type": "code",
   "execution_count": null,
   "id": "522baab9-886e-49cb-a174-21e538ecdff7",
   "metadata": {},
   "outputs": [],
   "source": [
    "def odd_even(a):\n",
    "    if a % 2 == 0:\n",
    "        return print(f'{a}는 짝수입니다.')\n",
    "    else: \n",
    "        return print(f'{a}는 홀수입니다.') "
   ]
  },
  {
   "cell_type": "code",
   "execution_count": null,
   "id": "0dc9222a-c67f-4956-936a-b1f2eab0a510",
   "metadata": {},
   "outputs": [],
   "source": [
    "odd_even(2)"
   ]
  },
  {
   "cell_type": "markdown",
   "id": "49e27bc1-b32b-4595-b7be-d1425067f27c",
   "metadata": {},
   "source": [
    "- return과 print"
   ]
  },
  {
   "cell_type": "code",
   "execution_count": null,
   "id": "0ee66e4e-d0f5-45dc-8aef-74d8683c9244",
   "metadata": {},
   "outputs": [],
   "source": [
    "def func_r(a):\n",
    "    result = a*2\n",
    "    return result\n",
    "\n",
    "def func_p(a):\n",
    "    result = a*2\n",
    "    print(result)"
   ]
  },
  {
   "cell_type": "code",
   "execution_count": null,
   "id": "95b87501-6406-438d-8892-52afd04959b0",
   "metadata": {},
   "outputs": [],
   "source": [
    "func_r(3)"
   ]
  },
  {
   "cell_type": "code",
   "execution_count": null,
   "id": "2e302597-3083-4e05-b11f-c6c76105e6c2",
   "metadata": {},
   "outputs": [],
   "source": [
    "func_p(3)"
   ]
  },
  {
   "cell_type": "code",
   "execution_count": null,
   "id": "11da4dc6-2797-4d22-9143-6d7ed5ccd4e4",
   "metadata": {},
   "outputs": [],
   "source": [
    "r = func_r(3)"
   ]
  },
  {
   "cell_type": "code",
   "execution_count": null,
   "id": "fb5ad2b7-de61-47ac-a4ce-28c96782b9e1",
   "metadata": {},
   "outputs": [],
   "source": [
    "2*r"
   ]
  },
  {
   "cell_type": "code",
   "execution_count": null,
   "id": "517e9e1f-f3c3-4d47-95f9-e48c1845930f",
   "metadata": {},
   "outputs": [],
   "source": [
    "p = func_p(3)"
   ]
  },
  {
   "cell_type": "code",
   "execution_count": null,
   "id": "4637877e-0bcc-4c8e-ac01-52870acfcb88",
   "metadata": {},
   "outputs": [],
   "source": [
    "2*p"
   ]
  },
  {
   "cell_type": "code",
   "execution_count": null,
   "id": "f96dcf2f-0296-4afe-9c94-85e1b0e8a306",
   "metadata": {},
   "outputs": [],
   "source": [
    "print(p)"
   ]
  },
  {
   "cell_type": "code",
   "execution_count": null,
   "id": "7ad11560-691e-419a-901b-9860414cc813",
   "metadata": {},
   "outputs": [],
   "source": [
    "# 매개변수를 정해놓으면 입력하면 입력한걸로 바뀌어서 적용되고 입력 안하면 정해놓은 값으로 적용"
   ]
  },
  {
   "cell_type": "code",
   "execution_count": null,
   "id": "3aec040e-3a7a-458c-9fce-0a8c31c6484f",
   "metadata": {},
   "outputs": [],
   "source": [
    "def add(a,b,c=10):\n",
    "    return a+b+c"
   ]
  },
  {
   "cell_type": "code",
   "execution_count": null,
   "id": "56f0441c-6e4f-4e92-98a6-a1c6a910d0fd",
   "metadata": {},
   "outputs": [],
   "source": [
    "add(3,4,5)"
   ]
  },
  {
   "cell_type": "code",
   "execution_count": null,
   "id": "d1e8edb6-67a4-433c-bbf3-e23464b37c0b",
   "metadata": {},
   "outputs": [],
   "source": [
    "# 함수이름 say_myself('홍길동',27)\n",
    "```\n",
    "나의 이름은 홍길동 입니다.\n",
    "나이는 27 입니다.\n",
    "국적은 한국입니다.\n",
    "```\n",
    "def say_myself(\"Smint\",25,\"America\"):\n",
    "    print(f\"나의 이름은{}입니다. 나이는 {} 입니다. 국적은 {} 입니다.\")"
   ]
  },
  {
   "cell_type": "code",
   "execution_count": null,
   "id": "93e36531-08df-45ee-a6f1-89e7d323e709",
   "metadata": {},
   "outputs": [],
   "source": [
    "def say_myself(a,b,c):\n",
    "    print(f\"나의 이름은{a}입니다.\\n나이는 {b} 입니다.\\n국적은 {c} 입니다.\")"
   ]
  },
  {
   "cell_type": "code",
   "execution_count": null,
   "id": "6699d0bf-cb08-4f89-83e1-58a3c8a19927",
   "metadata": {},
   "outputs": [],
   "source": [
    "say_myself(\"홍길동\",20,\"한국\")"
   ]
  },
  {
   "cell_type": "code",
   "execution_count": null,
   "id": "ce763ffe-e622-45b0-bb2d-3ac3e5f48bce",
   "metadata": {},
   "outputs": [],
   "source": [
    "def say_myself(name, age, nation = \"한국\"):\n",
    "    print(f\"나의 이름은 {name} 입니다.\")\n",
    "    print(f\"나이는 {age} 입니다.\")\n",
    "    print(f\"국적은 {nation} 입니다.\") "
   ]
  },
  {
   "cell_type": "code",
   "execution_count": null,
   "id": "9db1439f-ebdc-47af-a91c-7bc7382a5df5",
   "metadata": {},
   "outputs": [],
   "source": [
    "say_myself(\"홍길동\",20,\"한국\")"
   ]
  },
  {
   "cell_type": "code",
   "execution_count": null,
   "id": "980d3d38-40e9-4860-9d43-6d454154c57a",
   "metadata": {},
   "outputs": [],
   "source": [
    "def add(a,b=10,c):\n",
    "    return a+b+c"
   ]
  },
  {
   "cell_type": "markdown",
   "id": "8b3c25c8-781c-4a4c-b5de-d71856ff2b1a",
   "metadata": {},
   "source": [
    "- 입력값의 개수가 정해져 있지 않은 경우"
   ]
  },
  {
   "cell_type": "code",
   "execution_count": null,
   "id": "cb7e7878-2149-477e-ac51-8802da9237ae",
   "metadata": {},
   "outputs": [],
   "source": [
    "def add_many(*args):\n",
    "    sum = 0\n",
    "    for i in args:\n",
    "        sum += i\n",
    "    return sum\n",
    "        "
   ]
  },
  {
   "cell_type": "code",
   "execution_count": null,
   "id": "5e8d48a4-c712-44fe-8199-ecf2e6571646",
   "metadata": {
    "tags": []
   },
   "outputs": [],
   "source": [
    "add_many(3,4,4,5)"
   ]
  },
  {
   "cell_type": "code",
   "execution_count": null,
   "id": "01169513-93cd-4b20-bd20-afa04dfb9c51",
   "metadata": {},
   "outputs": [],
   "source": [
    "def print_kwargs(**kwargs):\n",
    "    print(kwargs)"
   ]
  },
  {
   "cell_type": "code",
   "execution_count": null,
   "id": "5e55883b-28b4-4e24-85a5-206cf4ec3942",
   "metadata": {},
   "outputs": [],
   "source": [
    "print_kwargs(a=1,name='foo',age=3)"
   ]
  },
  {
   "cell_type": "code",
   "execution_count": null,
   "id": "9fd40759-b932-4484-892a-e9e33da205ea",
   "metadata": {},
   "outputs": [],
   "source": [
    "def add_multi(choice,*args):\n",
    "    if choice ==\"add\":\n",
    "        result = 0\n",
    "        for i in args:\n",
    "            result = result + i\n",
    "    elif choice == 'mul':\n",
    "        result = 1\n",
    "        for i in args:\n",
    "            result = result*i"
   ]
  },
  {
   "cell_type": "code",
   "execution_count": null,
   "id": "74a02059-4925-4463-9aba-8acda6c7b6c2",
   "metadata": {},
   "outputs": [],
   "source": [
    "add_multi(\"add\",1,2,3):\n",
    "print(result)"
   ]
  },
  {
   "cell_type": "code",
   "execution_count": null,
   "id": "67afd324-1901-49f1-8dc5-257d9853c19a",
   "metadata": {},
   "outputs": [],
   "source": [
    "def add_and_multi(a,b):\n",
    "    return (a+b, a*b)\n",
    "\n",
    "add_and_multi(2,3)"
   ]
  },
  {
   "cell_type": "code",
   "execution_count": null,
   "id": "952d9d05-d38a-4a54-9f52-073938538d87",
   "metadata": {},
   "outputs": [],
   "source": [
    "(c,d) =  add_and_multi(2,3)"
   ]
  },
  {
   "cell_type": "code",
   "execution_count": null,
   "id": "1e5f063f-589a-44ce-86b3-2b815af7f5f6",
   "metadata": {},
   "outputs": [],
   "source": [
    "(c,d) = (5,6)"
   ]
  },
  {
   "cell_type": "code",
   "execution_count": null,
   "id": "5e9473d5-aeec-4c46-affc-986d81f0eb8d",
   "metadata": {},
   "outputs": [],
   "source": [
    "def add_and_multi(a,b):\n",
    "    return a+b"
   ]
  },
  {
   "cell_type": "code",
   "execution_count": null,
   "id": "474a6669-10f7-402c-bc58-e58ba0a926d9",
   "metadata": {},
   "outputs": [],
   "source": [
    "def add_many(*args):\n",
    "    sum = 0\n",
    "    for i in args:\n",
    "        sum += i\n",
    "    return sum"
   ]
  },
  {
   "cell_type": "code",
   "execution_count": null,
   "id": "8712caee-1b1b-4865-86b0-d0e98438ec84",
   "metadata": {},
   "outputs": [],
   "source": [
    "add_many(1,2,3,4)"
   ]
  },
  {
   "cell_type": "markdown",
   "id": "3ea85e75-a48e-4b5f-9794-6daa34b017c0",
   "metadata": {},
   "source": [
    "- 변수의 적용범위.scope"
   ]
  },
  {
   "cell_type": "code",
   "execution_count": null,
   "id": "c217dc8c-8e6e-4ea9-b5f3-c1f70c756684",
   "metadata": {},
   "outputs": [],
   "source": [
    "a = 1\n",
    "\n",
    "def vartest(b):\n",
    "    a = b + 1\n",
    "    print(id(a))"
   ]
  },
  {
   "cell_type": "code",
   "execution_count": null,
   "id": "5c09bea0-ff79-4394-a383-9b030e0cac0c",
   "metadata": {},
   "outputs": [],
   "source": [
    "a"
   ]
  },
  {
   "cell_type": "code",
   "execution_count": null,
   "id": "7807ec6b-0e6a-4334-b774-f33aa7d0de04",
   "metadata": {},
   "outputs": [],
   "source": [
    "vartest(1)"
   ]
  },
  {
   "cell_type": "code",
   "execution_count": null,
   "id": "be40cadc-6879-469b-9fe2-c2aab02ef1b1",
   "metadata": {},
   "outputs": [],
   "source": [
    "id(a)"
   ]
  },
  {
   "cell_type": "code",
   "execution_count": null,
   "id": "33245eaa-df04-4eb7-9b89-b7291c35e8f5",
   "metadata": {},
   "outputs": [],
   "source": [
    "a = 1\n",
    "\n",
    "def vartest(b):\n",
    "    global a\n",
    "    a = b + 1"
   ]
  },
  {
   "cell_type": "code",
   "execution_count": null,
   "id": "5f11d95e-b0f6-4d14-9d2d-00bae3077a59",
   "metadata": {},
   "outputs": [],
   "source": [
    "vartest(2)"
   ]
  },
  {
   "cell_type": "code",
   "execution_count": null,
   "id": "264825d2-6c3d-4ad2-8be3-9666185b6979",
   "metadata": {},
   "outputs": [],
   "source": [
    "a"
   ]
  },
  {
   "cell_type": "code",
   "execution_count": null,
   "id": "f79b7984-fac0-46bd-b610-e20089c458bf",
   "metadata": {},
   "outputs": [],
   "source": [
    "a= {1:10,2:20,3:30}\n",
    "for i,j in a.items():\n",
    "    print(i,j)"
   ]
  },
  {
   "cell_type": "code",
   "execution_count": null,
   "id": "687a9cec-ed2e-4709-9ada-c1cb01429ff7",
   "metadata": {},
   "outputs": [],
   "source": [
    "a = [\"철수\", \"영희\", \"길동\"]\n",
    "enumerate(a)\n",
    "for i in a:\n",
    "    print(i)"
   ]
  },
  {
   "cell_type": "code",
   "execution_count": null,
   "id": "1d178e07-0b1c-454b-80f6-7c6b7fa51973",
   "metadata": {},
   "outputs": [],
   "source": [
    "a = [\"철수\", \"영희\", \"길동\"]\n",
    "obj = enumerate(a)\n",
    "    \n",
    "for i,j in obj:\n",
    "    print(i,j)"
   ]
  },
  {
   "cell_type": "markdown",
   "id": "4fca2fea-63d8-463b-83e3-feb41e2bdce7",
   "metadata": {},
   "source": [
    "## 람다함수"
   ]
  },
  {
   "cell_type": "code",
   "execution_count": null,
   "id": "8389cd9b-ecb2-44c8-8c32-c93a06b42f44",
   "metadata": {},
   "outputs": [],
   "source": [
    "def twice(x):\n",
    "    return x*2\n",
    "\n",
    "twice(3)\n",
    "\n",
    "\n",
    "def add(a,b):\n",
    "    return a+b\n",
    "\n",
    "add(2,3)"
   ]
  },
  {
   "cell_type": "code",
   "execution_count": null,
   "id": "b2ee94e5-8c13-4dcb-abf5-8a710eddf602",
   "metadata": {},
   "outputs": [],
   "source": [
    "lambda x: x*2"
   ]
  },
  {
   "cell_type": "code",
   "execution_count": null,
   "id": "29f850e8-caab-4981-9397-0dd9c25c1857",
   "metadata": {},
   "outputs": [],
   "source": [
    "(lambda x: x*2) (3)"
   ]
  },
  {
   "cell_type": "code",
   "execution_count": null,
   "id": "fe3f4c74-4e05-4bd1-b8fc-fb6169671c8b",
   "metadata": {},
   "outputs": [],
   "source": [
    "(lambda d,e: d+e) (2,3)"
   ]
  },
  {
   "cell_type": "code",
   "execution_count": null,
   "id": "70cb6ee3-70e7-448c-ba5d-9d185d9c7628",
   "metadata": {},
   "outputs": [],
   "source": [
    "twice = lambda x: x*2\n",
    "twice(3)"
   ]
  },
  {
   "cell_type": "code",
   "execution_count": null,
   "id": "08d61ddc-facb-486f-844c-2fbdc1195d91",
   "metadata": {},
   "outputs": [],
   "source": [
    "add = lambda d,e:d+e\n",
    "add(4,5)"
   ]
  },
  {
   "cell_type": "code",
   "execution_count": null,
   "id": "fbea90b2-a765-46b4-8695-42516019d448",
   "metadata": {},
   "outputs": [],
   "source": [
    "a = int(input())\n",
    "if a % 2 == 0:\n",
    "    print(f'{a}는 짝수입니다.')\n",
    "else :\n",
    "    print(f'{a}는 홀수입니다.')\n",
    "    "
   ]
  },
  {
   "cell_type": "code",
   "execution_count": null,
   "id": "299cd205-a445-419a-bf6e-8dbf8f36da06",
   "metadata": {},
   "outputs": [],
   "source": [
    "def odd_even(a):\n",
    "    if a % 2 ==0:\n",
    "        return\"짝수\"\n",
    "    else:\n",
    "        return\"홀수\""
   ]
  },
  {
   "cell_type": "code",
   "execution_count": null,
   "id": "5a9cc770-de63-4f79-91dc-1bfd71d95800",
   "metadata": {},
   "outputs": [],
   "source": [
    "odd_even(4)"
   ]
  },
  {
   "cell_type": "code",
   "execution_count": null,
   "id": "3e5847c8-1b19-423e-b959-6b242969b43a",
   "metadata": {},
   "outputs": [],
   "source": [
    "age = int(input('나이를 입력'))\n",
    "if age<30:\n",
    "    print(\"청년\")\n",
    "elif age <60:\n",
    "    print(\"중년\")\n",
    "else :\n",
    "    print('노년')"
   ]
  },
  {
   "cell_type": "code",
   "execution_count": null,
   "id": "20509055-2cdf-4875-9b1c-fad24242a8bc",
   "metadata": {},
   "outputs": [],
   "source": [
    "def age_even(a):\n",
    "    if a<30:\n",
    "        return(\"청년\")\n",
    "    elif a <60:\n",
    "        return(\"중년\")\n",
    "    else :\n",
    "        return('노년')"
   ]
  },
  {
   "cell_type": "code",
   "execution_count": null,
   "id": "38c425b1-1719-4d66-b9f8-2e5312f7af04",
   "metadata": {},
   "outputs": [],
   "source": [
    "age_even(30)"
   ]
  },
  {
   "cell_type": "code",
   "execution_count": null,
   "id": "e3a11524-b7fa-4af1-925b-3960ea768f84",
   "metadata": {},
   "outputs": [],
   "source": [
    "names = [\"철수\",\"영희\",\"길동\",\"전우치\",\"손오공\"]\n",
    "name = input(\"이름을 입력하세요\")\n",
    "if name in names:\n",
    "    print(\"합격입니다.\")\n",
    "else :\n",
    "    print(\"불합격입니다.\")"
   ]
  },
  {
   "cell_type": "code",
   "execution_count": null,
   "id": "cad2e712-948b-43af-a0dd-8fa5706f47ab",
   "metadata": {},
   "outputs": [],
   "source": [
    "names = [\"철수\",\"영희\",\"길동\",\"전우치\",\"손오공\"]\n",
    "def name_ok(a):\n",
    "    if a in names:\n",
    "        return '합격'\n",
    "    else:\n",
    "        return '불합격'"
   ]
  },
  {
   "cell_type": "code",
   "execution_count": null,
   "id": "5c4a5718-dfd7-4d1a-9ded-a20e3e8d800d",
   "metadata": {},
   "outputs": [],
   "source": [
    "name_ok('철수')"
   ]
  },
  {
   "cell_type": "code",
   "execution_count": null,
   "id": "1e2d01ff-77da-4741-95dd-2c96a5669268",
   "metadata": {},
   "outputs": [],
   "source": [
    "# 1부터 100까지 모든 홀수의 합은?\n",
    "sum = 0\n",
    "for i in range(1,100,2):\n",
    "    sum = sum + i\n",
    "print(sum)"
   ]
  },
  {
   "cell_type": "code",
   "execution_count": null,
   "id": "e7a577bf-8133-4f1a-af4d-f67b0e0e4e17",
   "metadata": {},
   "outputs": [],
   "source": [
    "def sum_all():\n",
    "    sum = 0\n",
    "    for i in range(1,100,2):\n",
    "        sum += i\n",
    "    return(sum)"
   ]
  },
  {
   "cell_type": "code",
   "execution_count": null,
   "id": "99de7596-7a5d-4965-888d-eb505c345cbb",
   "metadata": {},
   "outputs": [],
   "source": [
    "sum_all()"
   ]
  },
  {
   "cell_type": "code",
   "execution_count": null,
   "id": "89a8c3a1-3e93-438f-b10a-2f0e7f8c343d",
   "metadata": {},
   "outputs": [],
   "source": [
    "# 두수를 입력받아 만들기"
   ]
  },
  {
   "cell_type": "code",
   "execution_count": null,
   "id": "1a530a5a-b5ef-4a0c-9432-f3ceb718de43",
   "metadata": {},
   "outputs": [],
   "source": [
    "sum = 0\n",
    "number1=int(input(\"시작숫자입력하세요\"))\n",
    "number2=int(input(\"끝숫자입력하세요\"))\n",
    "for i in range(number1,number2+1):\n",
    "    if i%2!=0:\n",
    "        sum = sum + i\n",
    "print(sum)"
   ]
  },
  {
   "cell_type": "code",
   "execution_count": null,
   "id": "5fd3a570-f93b-4176-8cad-9604bf0711aa",
   "metadata": {},
   "outputs": [],
   "source": [
    "def two_all(a,b):\n",
    "    sum = 0\n",
    "    for i in range(a,b+1):\n",
    "        sum += i\n",
    "    return(sum)"
   ]
  },
  {
   "cell_type": "code",
   "execution_count": null,
   "id": "77ae8391-3e37-44c1-91d6-82c1023305dd",
   "metadata": {},
   "outputs": [],
   "source": [
    "two_all(1,10)"
   ]
  },
  {
   "cell_type": "code",
   "execution_count": null,
   "id": "a2469f21-173b-4c70-91ea-dad338d7a5b7",
   "metadata": {},
   "outputs": [],
   "source": [
    "def fib(n):\n",
    "    a,b=0,1\n",
    "    while a<n:\n",
    "        print(a, end=' ')\n",
    "        a,b=b,a+b\n",
    "    return"
   ]
  },
  {
   "cell_type": "code",
   "execution_count": null,
   "id": "3ca25fb6-a56e-4e22-912e-391188669ad5",
   "metadata": {},
   "outputs": [],
   "source": [
    "fib(100)"
   ]
  },
  {
   "cell_type": "code",
   "execution_count": null,
   "id": "cea806a5-24f2-48ec-ba8a-b6703a887530",
   "metadata": {},
   "outputs": [],
   "source": []
  },
  {
   "cell_type": "markdown",
   "id": "a57dc937-1b1c-4f6d-bfca-074146272c25",
   "metadata": {},
   "source": [
    "## 재귀함수"
   ]
  },
  {
   "cell_type": "code",
   "execution_count": null,
   "id": "e9244da4-238d-4831-a74a-c5b42d73447d",
   "metadata": {},
   "outputs": [],
   "source": [
    "import time\n",
    "def Hello():\n",
    "    print(\"Hello\")\n",
    "    time.sleep(1)\n",
    "    Hello()"
   ]
  },
  {
   "cell_type": "code",
   "execution_count": null,
   "id": "22af4889-3a4d-4769-b92f-e7849c61b380",
   "metadata": {},
   "outputs": [],
   "source": []
  },
  {
   "cell_type": "code",
   "execution_count": null,
   "id": "49479a84-be32-4acc-b3ee-636fcad9967e",
   "metadata": {},
   "outputs": [],
   "source": [
    "def Hello(count):\n",
    "    if count == 0:\n",
    "        return\n",
    "    print(\"Hello\")\n",
    "    time.sleep(1)\n",
    "    count -= 1\n",
    "    Hello(count)"
   ]
  },
  {
   "cell_type": "code",
   "execution_count": null,
   "id": "b6adbbbf-bd2d-4b40-ac6c-169918ccca5d",
   "metadata": {},
   "outputs": [],
   "source": [
    "Hello(5)"
   ]
  },
  {
   "cell_type": "code",
   "execution_count": null,
   "id": "a037e88a-8bdf-4d38-ba9e-917a84a662fd",
   "metadata": {},
   "outputs": [],
   "source": [
    "def f(n):\n",
    "    if n==1:\n",
    "        return 1\n",
    "    return n*f(n-1)"
   ]
  },
  {
   "cell_type": "code",
   "execution_count": null,
   "id": "4bfdb854-38d3-41be-ae60-a3470c2a0a0d",
   "metadata": {},
   "outputs": [],
   "source": [
    "f(5)"
   ]
  },
  {
   "cell_type": "code",
   "execution_count": null,
   "id": "7cf3a463-4a09-406f-99bb-919d23392e9b",
   "metadata": {},
   "outputs": [],
   "source": [
    "def fib(n):\n",
    "    if n==0 or n==1:\n",
    "        return n         \n",
    "    return f(n-1)+f(n-2)"
   ]
  },
  {
   "cell_type": "code",
   "execution_count": null,
   "id": "be963591-ae45-48a6-acae-f1fa8bf3e853",
   "metadata": {},
   "outputs": [],
   "source": [
    "fib(10)"
   ]
  },
  {
   "cell_type": "code",
   "execution_count": null,
   "id": "0a2501d0-9a15-4629-822b-ef4cc4cf5d54",
   "metadata": {},
   "outputs": [],
   "source": [
    "for i in range(1,10+1):\n",
    "    print(fib(i), end=' ')"
   ]
  },
  {
   "cell_type": "code",
   "execution_count": null,
   "id": "e49a746f-fee4-463d-acbe-f9f0afa0652b",
   "metadata": {},
   "outputs": [],
   "source": [
    "def fib_all(n):\n",
    "    if n==2 :\n",
    "        return 1\n",
    "    if n==1:\n",
    "        return 0\n",
    "    return fib_all(n-1)+fib_all(n-2)"
   ]
  },
  {
   "cell_type": "code",
   "execution_count": null,
   "id": "cd288910-a998-4d72-99b1-a0446d815c90",
   "metadata": {},
   "outputs": [],
   "source": [
    "fib_all(10)"
   ]
  },
  {
   "cell_type": "code",
   "execution_count": null,
   "id": "448d8d9f-3e45-4835-bb09-555669afd538",
   "metadata": {},
   "outputs": [],
   "source": [
    "for i in range(1,10+1):\n",
    "    print(fib_all(i), end=' ')"
   ]
  },
  {
   "cell_type": "markdown",
   "id": "20dc1fab-cd0c-47d1-b9b8-263cfa7f129a",
   "metadata": {},
   "source": [
    "# 파일 입축력 (File IO)"
   ]
  },
  {
   "cell_type": "markdown",
   "id": "e612cd72-9400-49b9-8b01-37089d11d9b0",
   "metadata": {},
   "source": [
    "## 파일 만들기"
   ]
  },
  {
   "cell_type": "code",
   "execution_count": null,
   "id": "4edc5886-4f99-4c5d-a124-2ba66ef572cb",
   "metadata": {},
   "outputs": [],
   "source": [
    "f = open(\"test.txt\",mode = 'w')\n",
    "f.write(\"안녕하세요\\n\")\n",
    "f.write(\"Hello\")\n",
    "f.close()"
   ]
  },
  {
   "cell_type": "code",
   "execution_count": null,
   "id": "4fd0fed6-e088-42b6-9d24-308e8eea4322",
   "metadata": {},
   "outputs": [],
   "source": [
    "f = open(\"test2.txt\",mode = \"w\")\n",
    "for i in range(1,11):\n",
    "    f.write(f\"{i}\\n\")\n",
    "f.close()"
   ]
  },
  {
   "cell_type": "code",
   "execution_count": null,
   "id": "fdd1b94c-f5d9-4e61-8801-13574c410c37",
   "metadata": {},
   "outputs": [],
   "source": [
    "f = open(\"test3.txt\",mode = \"w\")\n",
    "for i in range(1,11):\n",
    "    f.write(str(i)+\"\\n\")\n",
    "f.close()"
   ]
  },
  {
   "cell_type": "code",
   "execution_count": null,
   "id": "a01ab0fe-d095-4163-9a0d-05d8df8531c5",
   "metadata": {},
   "outputs": [],
   "source": [
    "f = open(\"test3.txt\",mode = \"a\")\n",
    "for i in range(11,14):\n",
    "    f.write(str(i)+\"\\n\")\n",
    "f.close()"
   ]
  },
  {
   "cell_type": "code",
   "execution_count": null,
   "id": "97b053fd-b70c-463e-9d75-aab2aeb22ee5",
   "metadata": {},
   "outputs": [],
   "source": [
    "f = open(\"test.txt\",mode = 'w')\n",
    "f.write(\"안녕하세요\\n\")\n",
    "f.close()"
   ]
  },
  {
   "cell_type": "code",
   "execution_count": null,
   "id": "1b2fcd9d-7392-44cc-9359-25975eab042c",
   "metadata": {},
   "outputs": [],
   "source": [
    "# 위와 같다 다만 더 간단하게 사용하는 것 with open 울 훨씬 많이 사용한다. \n",
    "with open(\"test.txt\",mode = 'w') as f:\n",
    "    for i in range(10):\n",
    "        f.write(\"안녕하세요\\n\")"
   ]
  },
  {
   "cell_type": "code",
   "execution_count": null,
   "id": "db27e191-3473-49df-82c9-e2210762dd66",
   "metadata": {},
   "outputs": [],
   "source": [
    "# 파일이름을 myfile.txt \n",
    "# \"Life is too short\"\n",
    "# \"We need python\""
   ]
  },
  {
   "cell_type": "code",
   "execution_count": null,
   "id": "740fceff-c27c-41fb-8b49-283a3d21e765",
   "metadata": {},
   "outputs": [],
   "source": [
    "with open(\"myfile.txt\",\"w\") as f:\n",
    "    f.write(\"Life is too short\\n\")\n",
    "    f.write(\"We need python\")"
   ]
  },
  {
   "cell_type": "markdown",
   "id": "8216df76-f436-42e5-9e23-6c054cbbb99b",
   "metadata": {},
   "source": [
    "## 파일 읽기"
   ]
  },
  {
   "cell_type": "code",
   "execution_count": null,
   "id": "bebcbf92-c1c1-4bc8-a9a7-ae06f990c024",
   "metadata": {},
   "outputs": [],
   "source": [
    "f = open(\"test.txt\",\"r\")\n",
    "print(f.readline())"
   ]
  },
  {
   "cell_type": "code",
   "execution_count": null,
   "id": "b8c7b69b-67d1-4978-9886-a4479f375105",
   "metadata": {},
   "outputs": [],
   "source": [
    "f = open(\"test.txt\",\"r\")\n",
    "print(f.readline())\n",
    "print(line)"
   ]
  },
  {
   "cell_type": "code",
   "execution_count": null,
   "id": "9b75cfab-3afa-4368-a49d-5390e8310849",
   "metadata": {},
   "outputs": [],
   "source": [
    "f = open(\"test.txt\",\"r\")\n",
    "lines = f.readlines()\n",
    "for line in lines:\n",
    "    print(line,end=\"\")"
   ]
  },
  {
   "cell_type": "code",
   "execution_count": null,
   "id": "dfa75bdd-9918-4046-879c-50b29c0579bd",
   "metadata": {},
   "outputs": [],
   "source": [
    "f = open(\"test.txt\",\"r\")\n",
    "data = f.read()\n",
    "print(data)"
   ]
  },
  {
   "cell_type": "code",
   "execution_count": null,
   "id": "5882dcc6-ab75-4475-ab54-ad294ddd0ec1",
   "metadata": {},
   "outputs": [],
   "source": [
    "f = open(\"test.txt\",\"r\")\n",
    "lines = f.readlines()\n",
    "for line in lines:\n",
    "    line.strip()\n",
    "    print(line)"
   ]
  },
  {
   "cell_type": "markdown",
   "id": "a1afcfb3-1c12-4fc0-916a-370c947c1b80",
   "metadata": {},
   "source": [
    "# 클래스"
   ]
  },
  {
   "cell_type": "markdown",
   "id": "e2005d5e-1a98-4005-8b20-6e7e8091f8b8",
   "metadata": {},
   "source": [
    "## 클래스가 필요한 이유"
   ]
  },
  {
   "cell_type": "code",
   "execution_count": null,
   "id": "ea63bba4-7beb-4292-9a70-ef9a9ec5e231",
   "metadata": {},
   "outputs": [],
   "source": [
    "result = 0\n",
    "def add(num):\n",
    "    global result\n",
    "    result += num\n",
    "    return result\n",
    "add(3)"
   ]
  },
  {
   "cell_type": "code",
   "execution_count": null,
   "id": "5c6d6952-a5df-49cc-8222-1c1aa838ef3d",
   "metadata": {},
   "outputs": [],
   "source": [
    "add(4)"
   ]
  },
  {
   "cell_type": "code",
   "execution_count": null,
   "id": "41b600d2-40e7-4983-863c-377af0d6b80b",
   "metadata": {},
   "outputs": [],
   "source": [
    "result = 0\n",
    "def add(num):\n",
    "    global result\n",
    "    result += num\n",
    "    return result\n",
    "add(3)\n",
    "\n",
    "\n",
    "result2 = 0\n",
    "def add2(num):\n",
    "    global result2\n",
    "    result2 += num\n",
    "    return result2\n",
    "add2(13)\n",
    "\n",
    "\n",
    "\n",
    "result3 = 0\n",
    "def add3(num):\n",
    "    global result3\n",
    "    result3 += num\n",
    "    return result3\n",
    "add3(23)"
   ]
  },
  {
   "cell_type": "code",
   "execution_count": null,
   "id": "ca5e0fac-34e0-4bd4-a115-4e0dc3c4d774",
   "metadata": {},
   "outputs": [],
   "source": [
    "add3(10)"
   ]
  },
  {
   "cell_type": "code",
   "execution_count": null,
   "id": "67a72058-0e91-4d2d-a279-0d3496f2623a",
   "metadata": {},
   "outputs": [],
   "source": [
    "result = 0\n",
    "def add(num):\n",
    "    global result\n",
    "    result += num\n",
    "    return result\n",
    "add(3)\n",
    "\n",
    "\n",
    "class Calculator:\n",
    "    def __init__(self):\n",
    "        self.result = 0\n",
    "        \n",
    "    def add(self, num):\n",
    "        self.result += num\n",
    "        return self.result\n",
    "    \n",
    "    def subtract(self, num):\n",
    "        self.result -= num\n",
    "        return self.result\n",
    "    \n",
    "cal = Calculator()\n",
    "cal.add(3)"
   ]
  },
  {
   "cell_type": "code",
   "execution_count": null,
   "id": "de46ca7c-7a2a-42ea-aa44-3f6d0b994e4a",
   "metadata": {},
   "outputs": [],
   "source": [
    "cal3= Calculator()"
   ]
  },
  {
   "cell_type": "code",
   "execution_count": null,
   "id": "cad4a367-092c-48b9-b983-0b1a7b33f5b9",
   "metadata": {},
   "outputs": [],
   "source": [
    "cal3.add(100)\n",
    "cal3.add(200)\n",
    "cal3.subtract(50)"
   ]
  },
  {
   "cell_type": "code",
   "execution_count": null,
   "id": "ac402033-58cd-4a91-8249-c10a0d07c45e",
   "metadata": {},
   "outputs": [],
   "source": [
    "cal.add(4)"
   ]
  },
  {
   "cell_type": "code",
   "execution_count": null,
   "id": "e755543b-93c3-46e2-b24e-84729cb03dcf",
   "metadata": {},
   "outputs": [],
   "source": [
    "cal2 = Calculator()\n",
    "cal3 = Calculator()\n",
    "cal4 = Calculator()\n",
    "cal5 = Calculator()"
   ]
  },
  {
   "cell_type": "code",
   "execution_count": null,
   "id": "cac808a0-d540-4184-bf9a-8ca8c6fe3096",
   "metadata": {},
   "outputs": [],
   "source": [
    "cal2.add(10)\n",
    "cal2.add(20)"
   ]
  },
  {
   "cell_type": "code",
   "execution_count": null,
   "id": "330df097-6687-46b5-9647-0973e533f2c6",
   "metadata": {},
   "outputs": [],
   "source": [
    "cal3.add(100)\n",
    "cal3.add(200)"
   ]
  },
  {
   "cell_type": "markdown",
   "id": "b468f14b-bb5e-445b-b772-e1d5ce252910",
   "metadata": {},
   "source": [
    "## 사칙연산 클래스 만들기"
   ]
  },
  {
   "cell_type": "code",
   "execution_count": null,
   "id": "2a23a14f-6dca-40be-9199-f7b1771d1eda",
   "metadata": {},
   "outputs": [],
   "source": [
    "class FourCal:\n",
    "    def setdata(self, a, b):\n",
    "        self.first = a\n",
    "        self.second = b\n",
    "        \n",
    "    def add(self):\n",
    "        result = self.first + self.second\n",
    "        return result"
   ]
  },
  {
   "cell_type": "code",
   "execution_count": null,
   "id": "e49add85-04a2-4442-b9dc-c4363e65bb7b",
   "metadata": {},
   "outputs": [],
   "source": [
    "cal = FourCal()"
   ]
  },
  {
   "cell_type": "code",
   "execution_count": null,
   "id": "2d2bda16-3410-4ae5-80ff-d5ee0e1059b6",
   "metadata": {},
   "outputs": [],
   "source": [
    "cal.setdata(3,4)"
   ]
  },
  {
   "cell_type": "code",
   "execution_count": null,
   "id": "2795fc0c-2648-4035-ad84-5a0faba29ccc",
   "metadata": {},
   "outputs": [],
   "source": [
    "cal.first"
   ]
  },
  {
   "cell_type": "code",
   "execution_count": null,
   "id": "32e06356-b093-477c-b41e-98bc0cc08a76",
   "metadata": {},
   "outputs": [],
   "source": [
    "cal.second"
   ]
  },
  {
   "cell_type": "code",
   "execution_count": null,
   "id": "32835925-8a99-4522-8573-d4268ecce835",
   "metadata": {},
   "outputs": [],
   "source": [
    "cal.add()"
   ]
  },
  {
   "cell_type": "code",
   "execution_count": null,
   "id": "3f661288-f147-4af8-a3f6-e8f152371222",
   "metadata": {},
   "outputs": [],
   "source": [
    "cal1 = FourCal()"
   ]
  },
  {
   "cell_type": "code",
   "execution_count": null,
   "id": "41079a39-bb6a-454c-9429-210572bd6e49",
   "metadata": {},
   "outputs": [],
   "source": [
    "cal1.setdata(30,40)"
   ]
  },
  {
   "cell_type": "code",
   "execution_count": null,
   "id": "f8a06be9-b42f-41f2-9096-3fe68018fb06",
   "metadata": {},
   "outputs": [],
   "source": [
    "cal1.first"
   ]
  },
  {
   "cell_type": "code",
   "execution_count": null,
   "id": "f750488d-0114-43b0-b371-7075eb33dd78",
   "metadata": {},
   "outputs": [],
   "source": [
    "cal1.second"
   ]
  },
  {
   "cell_type": "code",
   "execution_count": null,
   "id": "a5a60dd7-f218-46f2-b5cb-4b8cc5d2443e",
   "metadata": {},
   "outputs": [],
   "source": [
    "cal1.add()"
   ]
  },
  {
   "cell_type": "code",
   "execution_count": null,
   "id": "4ef9bffc-017e-41aa-a4dc-f3054f5ca7fb",
   "metadata": {},
   "outputs": [],
   "source": [
    "class FourCal:\n",
    "    def setdata(self, a, b):\n",
    "        self.first = a\n",
    "        self.second = b\n",
    "        \n",
    "    def add(self):\n",
    "        result = self.first + self.second\n",
    "        return result\n",
    "    \n",
    "    def subtract(self):\n",
    "        result = self.first - self.second\n",
    "        return result\n",
    "        \n",
    "    def multiply(self):\n",
    "        result = self.first * self.second\n",
    "        return result\n",
    "        \n",
    "    def divide(self):\n",
    "        result = self.first / self.second\n",
    "        return result"
   ]
  },
  {
   "cell_type": "code",
   "execution_count": null,
   "id": "5b1971b5-f42a-4950-a6ef-e4a9d9ed766b",
   "metadata": {},
   "outputs": [],
   "source": [
    "#cal 객체를 만들고 초기값으로 10,20을 주고 곱하기와 누ㅏ누기의 값을 각각 알아보자"
   ]
  },
  {
   "cell_type": "code",
   "execution_count": null,
   "id": "637ce478-bbc2-4505-8b27-331ec8b66506",
   "metadata": {},
   "outputs": [],
   "source": [
    "cal = FourCal()\n",
    "cal.setdata(10,20)"
   ]
  },
  {
   "cell_type": "code",
   "execution_count": null,
   "id": "84e29ce1-c4a7-4f62-a918-874670cf6a88",
   "metadata": {},
   "outputs": [],
   "source": [
    "cal.multiply()"
   ]
  },
  {
   "cell_type": "code",
   "execution_count": null,
   "id": "c6056dfa-b865-4f19-837f-c0ab09dd5968",
   "metadata": {},
   "outputs": [],
   "source": [
    "cal.divide(10,20)"
   ]
  },
  {
   "cell_type": "code",
   "execution_count": null,
   "id": "77a73370-be3f-49eb-b64d-1e7d8201b763",
   "metadata": {},
   "outputs": [],
   "source": [
    "del cal"
   ]
  },
  {
   "cell_type": "code",
   "execution_count": null,
   "id": "8970eca6-4168-4060-9a5b-08c602580ad9",
   "metadata": {},
   "outputs": [],
   "source": [
    "cal =FourCal()\n",
    "cal.add()"
   ]
  },
  {
   "cell_type": "code",
   "execution_count": null,
   "id": "b7b627a5-0e3c-49d0-a3fc-aad6432f23cf",
   "metadata": {},
   "outputs": [],
   "source": [
    "class FourCal:\n",
    "    def __init__(self, a, b):\n",
    "        self.first = a\n",
    "        self.second = b\n",
    "        \n",
    "    def add(self):\n",
    "        result = self.first + self.second\n",
    "        return result\n",
    "    \n",
    "    def subtract(self):\n",
    "        result = self.first - self.second\n",
    "        return result\n",
    "        \n",
    "    def multiply(self):\n",
    "        result = self.first * self.second\n",
    "        return result\n",
    "        \n",
    "    def divide(self):\n",
    "        result = self.first / self.second\n",
    "        return result"
   ]
  },
  {
   "cell_type": "code",
   "execution_count": null,
   "id": "93256d1d-f671-4567-9fd6-a1293b42e90c",
   "metadata": {},
   "outputs": [],
   "source": [
    "cal = FourCal(10,20)"
   ]
  },
  {
   "cell_type": "code",
   "execution_count": null,
   "id": "6777df20-fd48-48b4-ae2f-429b794a54a9",
   "metadata": {},
   "outputs": [],
   "source": [
    "cal.first"
   ]
  },
  {
   "cell_type": "code",
   "execution_count": null,
   "id": "d2e43c43-889c-4951-bfd8-e17a2d631e1a",
   "metadata": {},
   "outputs": [],
   "source": [
    "cal.divide()"
   ]
  },
  {
   "cell_type": "markdown",
   "id": "f1b59951-ad3f-4b0b-ad83-80ff0a77c303",
   "metadata": {},
   "source": [
    "## 클래스의 상속 (Inheritance)"
   ]
  },
  {
   "cell_type": "code",
   "execution_count": null,
   "id": "cf39870d-2cb5-4fea-848e-93bf406c58a4",
   "metadata": {},
   "outputs": [],
   "source": [
    "a = FourCal(1,2)"
   ]
  },
  {
   "cell_type": "code",
   "execution_count": null,
   "id": "7e907426-8d7e-41e5-820b-d9d790eb8e48",
   "metadata": {},
   "outputs": [],
   "source": [
    "a.add()"
   ]
  },
  {
   "cell_type": "code",
   "execution_count": null,
   "id": "9c50c249-9383-437c-a8f6-78c5ef797695",
   "metadata": {},
   "outputs": [],
   "source": [
    "a.multiply()"
   ]
  },
  {
   "cell_type": "code",
   "execution_count": null,
   "id": "07a97b59-28d8-4386-9b27-6e5bb2084437",
   "metadata": {},
   "outputs": [],
   "source": [
    "class Child(FourCal):\n",
    "    pass"
   ]
  },
  {
   "cell_type": "code",
   "execution_count": null,
   "id": "1239342e-af69-4a54-8879-d048f740de48",
   "metadata": {},
   "outputs": [],
   "source": [
    "b = Child(2,3)"
   ]
  },
  {
   "cell_type": "code",
   "execution_count": null,
   "id": "cddc6ac0-f972-41f4-a681-5274a10108fb",
   "metadata": {},
   "outputs": [],
   "source": [
    "b.add()"
   ]
  },
  {
   "cell_type": "code",
   "execution_count": null,
   "id": "29fe3d39-e2bd-4815-b821-d03e524c0c3a",
   "metadata": {},
   "outputs": [],
   "source": [
    "b.divide()"
   ]
  },
  {
   "cell_type": "code",
   "execution_count": null,
   "id": "79d8f9dc-4110-4129-ae84-e7a9fdb94d19",
   "metadata": {},
   "outputs": [],
   "source": [
    "class Child(FourCal):\n",
    "    def power(self):\n",
    "        result = self.first**self.second\n",
    "        return result"
   ]
  },
  {
   "cell_type": "code",
   "execution_count": null,
   "id": "a21ac7be-67d9-4fa7-a2bc-45ee5b1dd2ef",
   "metadata": {},
   "outputs": [],
   "source": [
    "b = Child(2,3)"
   ]
  },
  {
   "cell_type": "code",
   "execution_count": null,
   "id": "7e39637f-3e14-4621-8b17-c3604330fa62",
   "metadata": {},
   "outputs": [],
   "source": [
    "b.multiply()"
   ]
  },
  {
   "cell_type": "code",
   "execution_count": null,
   "id": "5952cf03-d8ae-4888-becf-0f0ba0fb3881",
   "metadata": {},
   "outputs": [],
   "source": [
    "b.power()"
   ]
  },
  {
   "cell_type": "markdown",
   "id": "8e937fad-2484-47e5-8fbc-42603ffaf9b7",
   "metadata": {},
   "source": [
    "### 오버라이딩 (overriding)\n",
    "- 메소드 재정의"
   ]
  },
  {
   "cell_type": "code",
   "execution_count": null,
   "id": "506435af-ec2a-423f-8490-33c6b16ad8f1",
   "metadata": {},
   "outputs": [],
   "source": [
    "b = Child(2,0)"
   ]
  },
  {
   "cell_type": "code",
   "execution_count": null,
   "id": "2007bbef-427e-41df-9daa-4c70f6fc5c37",
   "metadata": {},
   "outputs": [],
   "source": [
    "b.power()"
   ]
  },
  {
   "cell_type": "code",
   "execution_count": null,
   "id": "06ff4b7c-c692-44e3-b0a7-4cc34430f203",
   "metadata": {},
   "outputs": [],
   "source": [
    "b.divide()"
   ]
  },
  {
   "cell_type": "code",
   "execution_count": null,
   "id": "a4076791-cc15-40a2-bf96-5c4d33bf1c05",
   "metadata": {},
   "outputs": [],
   "source": [
    "class Child(FourCal):\n",
    "    def divide(self):\n",
    "        if self.second == 0:\n",
    "            print(\"0으로 나누셨군요!\")\n",
    "        else:\n",
    "            result = self.first/self.second\n",
    "            return result\n",
    "    def power(self):\n",
    "        result = self.first**self.second\n",
    "        return result"
   ]
  },
  {
   "cell_type": "code",
   "execution_count": null,
   "id": "1d617219-6629-47bd-897a-8a053c833642",
   "metadata": {},
   "outputs": [],
   "source": [
    "b = Child(2,0)\n",
    "b.divide()"
   ]
  },
  {
   "cell_type": "code",
   "execution_count": null,
   "id": "2046b4e0-d997-4dad-86ce-c8fc8a5d4a77",
   "metadata": {},
   "outputs": [],
   "source": [
    "b = Child(2,1)\n",
    "b.divide()"
   ]
  },
  {
   "cell_type": "markdown",
   "id": "4f05dfd2-7653-418a-abe4-303c86cd479a",
   "metadata": {},
   "source": [
    "## 클래스 변수"
   ]
  },
  {
   "cell_type": "code",
   "execution_count": null,
   "id": "38cbcf48-af47-4b6a-b35d-89f92d535bd9",
   "metadata": {},
   "outputs": [],
   "source": [
    "class Person:\n",
    "    \n",
    "    def __init__(self,name):\n",
    "        self.name = name\n",
    "    \n",
    "    def show(self):\n",
    "        print(self.name)"
   ]
  },
  {
   "cell_type": "code",
   "execution_count": null,
   "id": "97baf63c-d526-4663-b08b-3bbe3b7b1c6a",
   "metadata": {},
   "outputs": [],
   "source": [
    "p = Person(\"홍길동\")"
   ]
  },
  {
   "cell_type": "code",
   "execution_count": null,
   "id": "2ba7a192-3a4e-456d-b5e1-cd7277e2e802",
   "metadata": {},
   "outputs": [],
   "source": [
    "p.name"
   ]
  },
  {
   "cell_type": "code",
   "execution_count": null,
   "id": "24c41d90-78b8-4a46-820a-de929812a5d1",
   "metadata": {},
   "outputs": [],
   "source": [
    "p.show()"
   ]
  },
  {
   "cell_type": "code",
   "execution_count": null,
   "id": "7db3e413-9ff1-4cb1-90fd-c5a10cadc65b",
   "metadata": {},
   "outputs": [],
   "source": [
    "class Person:\n",
    "    name = \"Park\"                # 클래스 변수\n",
    "    \n",
    "    def __init__(self,name):\n",
    "        self.name = name         # 인스턴스 변수\n",
    "        self.nick = \"길동\"       # 인스턴스 변수\n",
    "    \n",
    "    def show(self):\n",
    "        print(self.name)\n",
    "        print(self.nick)\n",
    "        print(Person.name)"
   ]
  },
  {
   "cell_type": "code",
   "execution_count": null,
   "id": "50c9cc3e-fc5e-4755-8e26-c7d4722a043a",
   "metadata": {},
   "outputs": [],
   "source": [
    "p = Person(\"홍길동\")"
   ]
  },
  {
   "cell_type": "code",
   "execution_count": null,
   "id": "7de7c72a-5601-473d-9850-0d7a317e4349",
   "metadata": {},
   "outputs": [],
   "source": [
    "p.show()"
   ]
  },
  {
   "cell_type": "code",
   "execution_count": null,
   "id": "90fe28b5-acf0-43c9-b7ce-4603dc657d49",
   "metadata": {},
   "outputs": [],
   "source": [
    "p2 = Person(\"전우치\")"
   ]
  },
  {
   "cell_type": "code",
   "execution_count": null,
   "id": "6c314cef-0b2e-46db-b4fa-7b9c2b4afb5d",
   "metadata": {},
   "outputs": [],
   "source": [
    "p2.show()"
   ]
  },
  {
   "cell_type": "code",
   "execution_count": null,
   "id": "82446a3a-b55f-4cbd-aea8-41393083d684",
   "metadata": {},
   "outputs": [],
   "source": [
    "class Person:\n",
    "    def __init__(self):\n",
    "        self.name = input(\"이름\")\n",
    "        self.age = input(\"나이\")\n",
    "        \n",
    "    def show(self):\n",
    "        print(f\"이름은 {self.name} 이고 나이는 {self.age} 입니다.\")\n",
    "        \n",
    "li=[]\n",
    "for i in range(3):\n",
    "    li.append(Person())"
   ]
  },
  {
   "cell_type": "code",
   "execution_count": null,
   "id": "092a8996-08ea-4084-8787-acbb95a2c118",
   "metadata": {},
   "outputs": [],
   "source": [
    "for obj in li:\n",
    "    obj.show()"
   ]
  },
  {
   "cell_type": "markdown",
   "id": "2428e45e-2996-4e57-9b83-b18a7ae67a2e",
   "metadata": {},
   "source": [
    "### 상속 후 변수 추가하기"
   ]
  },
  {
   "cell_type": "code",
   "execution_count": null,
   "id": "8e445403-c3c2-47bc-a3fb-31d0efa3a4f1",
   "metadata": {},
   "outputs": [],
   "source": [
    "class Person:\n",
    "    def __init__(self):\n",
    "        self.name = \"Park\"\n",
    "        self.age = 25\n",
    "\n",
    "class Korean(Person):\n",
    "    def __init__(self):\n",
    "        super().__init__()  # 부모클래스의 생성자 실행, 괄호안에 self 가 없어야 한다.\n",
    "        self.lang = \"한국어\""
   ]
  },
  {
   "cell_type": "code",
   "execution_count": null,
   "id": "ef0c0538-f76a-475a-ad4d-f9ee07840a1d",
   "metadata": {},
   "outputs": [],
   "source": [
    "p1 = Korean()"
   ]
  },
  {
   "cell_type": "code",
   "execution_count": null,
   "id": "813716e8-98dc-4a14-9441-d6ef35d318b8",
   "metadata": {},
   "outputs": [],
   "source": [
    "p1.lang "
   ]
  },
  {
   "cell_type": "code",
   "execution_count": null,
   "id": "bc827ff7-5da9-49db-aba5-cb6cbb25dd28",
   "metadata": {},
   "outputs": [],
   "source": [
    "p1.age"
   ]
  },
  {
   "cell_type": "code",
   "execution_count": null,
   "id": "0dcf6046-a0c0-4d34-ab93-fc79931590e5",
   "metadata": {},
   "outputs": [],
   "source": [
    "# American 상속받고, lang 는 \"english\""
   ]
  },
  {
   "cell_type": "code",
   "execution_count": null,
   "id": "2e1d184b-b69e-4d7b-a85e-c7370755d3b5",
   "metadata": {},
   "outputs": [],
   "source": [
    "class Person:\n",
    "    def __init__(self):\n",
    "        self.name = \"Park\"\n",
    "        self.age = 25\n",
    "\n",
    "class Korean(Person):\n",
    "    def __init__(self):\n",
    "        super().__init__()  # 부모클래스의 생성자 실행, 괄호안에 self 가 없어야 한다.\n",
    "        self.lang = \"한국어\"\n",
    "class American(Person):\n",
    "    def __init__(self):\n",
    "        super().__init__()\n",
    "        self.lang = \"English\"\n",
    "p2 = American()\n",
    "print(p2.name)\n",
    "print(p2.age)\n",
    "print(p2.lang)"
   ]
  },
  {
   "cell_type": "code",
   "execution_count": null,
   "id": "a8bf0bef-039f-4e4c-a2a0-097521130826",
   "metadata": {},
   "outputs": [],
   "source": [
    "class Person:\n",
    "    def __init__(self,name,age):\n",
    "        self.name = name\n",
    "        self.age = age\n",
    "\n",
    "class Korean(Person):\n",
    "    def __init__(self,name,age,lang):      # 자식클래스에서는 부모클래스의 입력변수도 다시 써줘야한다.\n",
    "        super().__init__(name,age)         # 부모클래스의 생성자 실행, 괄호안에 self 가 없어야 한다.\n",
    "        self.lang = lang"
   ]
  },
  {
   "cell_type": "code",
   "execution_count": null,
   "id": "c3367433-e439-4803-8801-8757f44f1847",
   "metadata": {},
   "outputs": [],
   "source": [
    "p1 = Korean(\"Park\",15,\"Korean\") "
   ]
  },
  {
   "cell_type": "code",
   "execution_count": null,
   "id": "c65ecf4f-ff81-4736-b140-017ed01b1c82",
   "metadata": {},
   "outputs": [],
   "source": [
    "print(p1.name)\n",
    "print(p1.age)\n",
    "print(p1.lang)"
   ]
  },
  {
   "cell_type": "markdown",
   "id": "193efb78-b3d0-4ade-93af-e9f57a7bb058",
   "metadata": {},
   "source": [
    "# 모듈\n",
    "```\n",
    "모듈(module)이란 .py 파일을 말한다.\n",
    "```"
   ]
  },
  {
   "cell_type": "markdown",
   "id": "0c802c81-5abc-4bec-9710-216d9e5da147",
   "metadata": {},
   "source": [
    "- 아래와 같은 모듈이 있다고 할때 import mod1 을 입력했을 경우 if문을 사용하여 Hello가 출력되지 않게 하라\n",
    "mod1.py"
   ]
  },
  {
   "cell_type": "code",
   "execution_count": null,
   "id": "8cf70d12-1acd-404f-a4f1-64f29f140594",
   "metadata": {},
   "outputs": [],
   "source": []
  },
  {
   "cell_type": "code",
   "execution_count": null,
   "id": "8e12ce0e-4fb7-44eb-b1ae-b8fd16b76ea2",
   "metadata": {},
   "outputs": [],
   "source": []
  },
  {
   "cell_type": "markdown",
   "id": "fafae317-d074-4a6a-90ab-0dc5354fc2ba",
   "metadata": {},
   "source": [
    "# 예외처리\n",
    "- 예외 (exception) 란 에러(error)를 말한다.\n",
    "- try ~ except"
   ]
  },
  {
   "cell_type": "code",
   "execution_count": null,
   "id": "691b8d8b-c5a7-4da9-9da8-6354841b08b2",
   "metadata": {},
   "outputs": [],
   "source": [
    "li = [1,2,3]\n",
    "for i in range(3):\n",
    "    print(li[i])"
   ]
  },
  {
   "cell_type": "code",
   "execution_count": null,
   "id": "40d729ae-ca19-4e7a-9447-16ea2403773e",
   "metadata": {},
   "outputs": [],
   "source": [
    "li = [1,2,3]\n",
    "for i in range(4):\n",
    "    print(li[i])"
   ]
  },
  {
   "cell_type": "code",
   "execution_count": null,
   "id": "5757896e-d84c-4e04-a55f-156a03bc2f2d",
   "metadata": {},
   "outputs": [],
   "source": [
    "li = [1,2,3]\n",
    "try:\n",
    "    for i in range(4):\n",
    "        print(li[i])\n",
    "except:\n",
    "    pass"
   ]
  },
  {
   "cell_type": "code",
   "execution_count": null,
   "id": "1b101230-b407-4359-815f-956add955cbe",
   "metadata": {},
   "outputs": [],
   "source": [
    "try:\n",
    "    print(4/2)\n",
    "    4/0\n",
    "except ZeroDivisionError as e:\n",
    "    print(e)"
   ]
  },
  {
   "cell_type": "code",
   "execution_count": null,
   "id": "9ca96704-ce20-4c6c-8044-c32199f1efc0",
   "metadata": {},
   "outputs": [],
   "source": [
    "li = [1,2,3]\n",
    "try:\n",
    "    for i in range(4):\n",
    "        print(li[i])\n",
    "except IndexError as e:\n",
    "    print(e)"
   ]
  },
  {
   "cell_type": "code",
   "execution_count": null,
   "id": "dac77f0a-d05f-4e65-a88b-b14e0a9f29fd",
   "metadata": {},
   "outputs": [],
   "source": [
    "li = [1,2,3]\n",
    "try:\n",
    "    for i in range(3):\n",
    "        print(li[i])\n",
    "    print(3/0)\n",
    "except IndexError as e:\n",
    "    print(e)\n",
    "except ZeroDivisionError as e:\n",
    "    print(e)"
   ]
  },
  {
   "cell_type": "code",
   "execution_count": null,
   "id": "46dac60e-3c42-4028-816e-caa9cadf9526",
   "metadata": {},
   "outputs": [],
   "source": [
    "li = [1,2,3]\n",
    "try:\n",
    "    for i in range(4):\n",
    "        print(li[i])\n",
    "    print(3/0)\n",
    "except (IndexError,ZeroDivisionError) as e:\n",
    "    print(e)"
   ]
  },
  {
   "cell_type": "markdown",
   "id": "d485977c-ee81-48be-b756-d11f88b70e20",
   "metadata": {},
   "source": [
    "# 내장함수"
   ]
  },
  {
   "cell_type": "code",
   "execution_count": null,
   "id": "e6fce16c-bd0e-4e27-867a-ed369aa7d529",
   "metadata": {},
   "outputs": [],
   "source": [
    "abs(-3)\n",
    "all([0,1,2,3]) # 하나라도 거짓이라면 거짓 출력"
   ]
  },
  {
   "cell_type": "code",
   "execution_count": null,
   "id": "965c5255-3690-422f-afd9-39524af2d404",
   "metadata": {},
   "outputs": [],
   "source": [
    "any([0,1]) # 하나라도 참이면 참으로 "
   ]
  },
  {
   "cell_type": "code",
   "execution_count": null,
   "id": "e99901f0-aea8-4040-9535-794c8796f721",
   "metadata": {},
   "outputs": [],
   "source": [
    "chr(97) #아스키 코드 값을 입력받아 그 코드에해당하는 문자 출력"
   ]
  },
  {
   "cell_type": "code",
   "execution_count": null,
   "id": "aa78229d-1aa8-41f8-ba86-0cddc107ebaf",
   "metadata": {},
   "outputs": [],
   "source": [
    "chr(48)"
   ]
  },
  {
   "cell_type": "code",
   "execution_count": null,
   "id": "b1a9c16c-6aa3-4692-a9a7-6551630502fb",
   "metadata": {},
   "outputs": [],
   "source": [
    "a = \"Hello\""
   ]
  },
  {
   "cell_type": "code",
   "execution_count": null,
   "id": "d5025c29-e0d0-4ff7-abc3-66b346bc97a4",
   "metadata": {
    "tags": []
   },
   "outputs": [],
   "source": [
    "dir(a)"
   ]
  },
  {
   "cell_type": "code",
   "execution_count": null,
   "id": "bb6b1566-3405-4007-8196-684ac2260e06",
   "metadata": {},
   "outputs": [],
   "source": [
    "enumerate([\"a\",\"b\",3])"
   ]
  },
  {
   "cell_type": "code",
   "execution_count": null,
   "id": "598e39b2-8e3d-457f-91ab-39a24cd16dff",
   "metadata": {},
   "outputs": [],
   "source": [
    "diction = {}\n",
    "for i,j in enumerate([\"a\",\"b\",3]):\n",
    "    print(i,j)\n",
    "    diction[i]= j"
   ]
  },
  {
   "cell_type": "code",
   "execution_count": null,
   "id": "02f3c287-d097-4a28-9dbd-bbc31ce8d101",
   "metadata": {},
   "outputs": [],
   "source": [
    "diction"
   ]
  },
  {
   "cell_type": "code",
   "execution_count": null,
   "id": "cfe5d325-32c5-4b13-846b-6f9ff7444219",
   "metadata": {},
   "outputs": [],
   "source": [
    "def odd(a):\n",
    "    if a%2== 1:\n",
    "        return a\n",
    "    else:\n",
    "        pass"
   ]
  },
  {
   "cell_type": "code",
   "execution_count": null,
   "id": "aa3016e2-34fc-4283-b98c-f58d060b36fc",
   "metadata": {},
   "outputs": [],
   "source": []
  },
  {
   "cell_type": "markdown",
   "id": "f65743c8-09ee-430a-b4b9-967c6f6649f3",
   "metadata": {},
   "source": [
    "-filter 매우 중요  # 함수 사용하면 애러인걸 함수 사용할수 있게해서 간단하게 코딩하게 함"
   ]
  },
  {
   "cell_type": "code",
   "execution_count": null,
   "id": "f25f6d02-1814-4b7f-97cb-7b67e43a068b",
   "metadata": {},
   "outputs": [],
   "source": [
    "filter(odd,[-1,1,-2,3])"
   ]
  },
  {
   "cell_type": "code",
   "execution_count": null,
   "id": "868ccfbf-6ba8-4813-a6cd-9f3c29bf49e5",
   "metadata": {},
   "outputs": [],
   "source": [
    "list(filter(odd,[-1,1,-2,3,4,5]))"
   ]
  },
  {
   "cell_type": "code",
   "execution_count": null,
   "id": "ec3f896e-99ba-467b-a8a7-2d951c7851fc",
   "metadata": {},
   "outputs": [],
   "source": [
    "odd([-1,1,-2,3,4,5])"
   ]
  },
  {
   "cell_type": "code",
   "execution_count": null,
   "id": "e7d0365f-976d-4507-965c-6aedd5f01e92",
   "metadata": {},
   "outputs": [],
   "source": [
    "\n",
    "def postive(a):\n",
    "    if a>0:\n",
    "        return a"
   ]
  },
  {
   "cell_type": "code",
   "execution_count": null,
   "id": "fbe99f72-945a-472d-b335-92a37905d448",
   "metadata": {},
   "outputs": [],
   "source": [
    "list(filter(postive,[-1,-2,3,4,5]))"
   ]
  },
  {
   "cell_type": "code",
   "execution_count": null,
   "id": "b6317e97-fe21-4aea-82ce-8623851b6d92",
   "metadata": {},
   "outputs": [],
   "source": [
    "list(map(int,[1.2,2.3,3.0,4]))"
   ]
  },
  {
   "cell_type": "code",
   "execution_count": null,
   "id": "71c6c26a-458f-4657-a068-0061388aa427",
   "metadata": {},
   "outputs": [],
   "source": [
    "def twice(n):\n",
    "    return 2*n\n",
    "twice(3)"
   ]
  },
  {
   "cell_type": "code",
   "execution_count": null,
   "id": "3155749e-1d3f-4610-8b4b-afc0a9641d75",
   "metadata": {},
   "outputs": [],
   "source": [
    "list(map(twice,[1,2,3,4]))"
   ]
  },
  {
   "cell_type": "code",
   "execution_count": null,
   "id": "744efdc1-ef1a-4d15-9b6a-341fde9f910b",
   "metadata": {},
   "outputs": [],
   "source": [
    "list(map(lambda n: n*2,[1,2,3,4]))"
   ]
  },
  {
   "cell_type": "code",
   "execution_count": null,
   "id": "61316dd4-9648-4993-accb-00782d6a636f",
   "metadata": {},
   "outputs": [],
   "source": [
    "f= lambda x : x*2\n",
    "list(map(f,[1,2,3,4]))"
   ]
  },
  {
   "cell_type": "code",
   "execution_count": null,
   "id": "8f5a4489-ddff-4d36-8edd-a1c9b77cb03e",
   "metadata": {},
   "outputs": [],
   "source": [
    "li = [2,1,3]\n",
    "li.sort()"
   ]
  },
  {
   "cell_type": "code",
   "execution_count": null,
   "id": "699fdb06-2116-4b87-89d2-4c9350d06b6e",
   "metadata": {},
   "outputs": [],
   "source": [
    "li=[3,1,2]"
   ]
  },
  {
   "cell_type": "code",
   "execution_count": null,
   "id": "cfed2506-5d4f-4ea8-8366-9a2ca66b5030",
   "metadata": {},
   "outputs": [],
   "source": [
    "sorted(li)"
   ]
  },
  {
   "cell_type": "code",
   "execution_count": null,
   "id": "40f884d0-63d0-45c5-b14f-e92ad978f687",
   "metadata": {},
   "outputs": [],
   "source": [
    "li"
   ]
  },
  {
   "cell_type": "code",
   "execution_count": null,
   "id": "6acba858-705e-4afc-b402-3b6642d0b466",
   "metadata": {},
   "outputs": [],
   "source": [
    "li = sorted(li)"
   ]
  },
  {
   "cell_type": "code",
   "execution_count": null,
   "id": "124f1443-3a5b-4226-951d-e661a455e0e0",
   "metadata": {},
   "outputs": [],
   "source": [
    "li"
   ]
  },
  {
   "cell_type": "markdown",
   "id": "2fe6af0c-3e31-429c-9180-0340cd3501c1",
   "metadata": {},
   "source": [
    "- enumerate, filter, map, zip ( 중요)"
   ]
  },
  {
   "cell_type": "code",
   "execution_count": null,
   "id": "298b522a-eacb-4af6-a35f-c512018d9eb4",
   "metadata": {},
   "outputs": [],
   "source": [
    "# zip(*iterable)\n",
    "list(zip([1,2,3,4],[\"a\",\"b\",\"c\",\"d\"],[\"A\",\"B\",\"C\",\"D\"]))"
   ]
  },
  {
   "cell_type": "code",
   "execution_count": null,
   "id": "debf04e4-817d-4193-90dd-3a68550e90d7",
   "metadata": {},
   "outputs": [],
   "source": [
    "# iterable : 순환가능한, 반복가능한\n",
    " - 리스트, 튜플, 딕셔너리, set, string, range\n",
    "    \n",
    "# mutable : 수정가능한\n",
    " - list,\n",
    "# immutable : 수정 불가능한\n",
    " - tuple, str(문자열), int"
   ]
  },
  {
   "cell_type": "code",
   "execution_count": null,
   "id": "824561fb-2eb1-4309-8143-31340e28bca3",
   "metadata": {},
   "outputs": [],
   "source": [
    "li=(1,2,3)\n",
    "li[1]=20\n",
    "li"
   ]
  },
  {
   "cell_type": "code",
   "execution_count": null,
   "id": "45e029ed-db46-4496-bac7-e4c424523279",
   "metadata": {},
   "outputs": [],
   "source": [
    "string = \"Hello\"\n",
    "string[1] = \"E\""
   ]
  },
  {
   "cell_type": "markdown",
   "id": "af471c1e-9de5-4391-8403-11178dff749a",
   "metadata": {},
   "source": [
    "# 외장함수"
   ]
  },
  {
   "cell_type": "markdown",
   "id": "2b84a076-75df-4589-bc3f-f56a7e6d7467",
   "metadata": {},
   "source": [
    "### sys"
   ]
  },
  {
   "cell_type": "code",
   "execution_count": null,
   "id": "94b9f7de-4857-4249-92f7-0d93e650c564",
   "metadata": {},
   "outputs": [],
   "source": [
    "import sys\n",
    "sys.argv\n",
    "sys.path"
   ]
  },
  {
   "cell_type": "code",
   "execution_count": null,
   "id": "63edcc4c-3f04-4cbb-8702-22f22ff29576",
   "metadata": {},
   "outputs": [],
   "source": [
    "sys.path.append('c:\\')"
   ]
  },
  {
   "cell_type": "markdown",
   "id": "9851e973-7e99-43ad-a80f-c0114d0c5782",
   "metadata": {},
   "source": [
    "- pickle"
   ]
  },
  {
   "cell_type": "code",
   "execution_count": 51,
   "id": "a5e6803e-c1f2-45b2-bc28-32b734e82224",
   "metadata": {},
   "outputs": [],
   "source": [
    "import pickle\n",
    "data = [1,2,3]\n",
    "\n",
    "with open(\"test.pickle\",mode=\"wb\") as f:\n",
    "    pickle.dump(data,f)"
   ]
  },
  {
   "cell_type": "code",
   "execution_count": 52,
   "id": "b0964c43-558b-49ec-bf8d-81f308024ea7",
   "metadata": {},
   "outputs": [
    {
     "name": "stdout",
     "output_type": "stream",
     "text": [
      "[1, 2, 3]\n"
     ]
    }
   ],
   "source": [
    "with open(\"test.pickle\",mode=\"rb\") as f:\n",
    "    data = pickle.load(f)\n",
    "print(data)"
   ]
  },
  {
   "cell_type": "markdown",
   "id": "af2727bb-22f2-48fb-812d-70aa67a95387",
   "metadata": {},
   "source": [
    "- os  #하드상 일하는 장소  6월22일"
   ]
  },
  {
   "cell_type": "code",
   "execution_count": null,
   "id": "43f30a33-0623-47b6-b159-ee5608bf96be",
   "metadata": {},
   "outputs": [],
   "source": [
    "import os"
   ]
  },
  {
   "cell_type": "code",
   "execution_count": 53,
   "id": "e8fa06b2-178f-4e09-82f1-94675253d4b0",
   "metadata": {
    "collapsed": true,
    "jupyter": {
     "outputs_hidden": true
    },
    "tags": []
   },
   "outputs": [
    {
     "ename": "NameError",
     "evalue": "name 'os' is not defined",
     "output_type": "error",
     "traceback": [
      "\u001b[1;31m---------------------------------------------------------------------------\u001b[0m",
      "\u001b[1;31mNameError\u001b[0m                                 Traceback (most recent call last)",
      "\u001b[1;32m<ipython-input-53-576cdedfb6ff>\u001b[0m in \u001b[0;36m<module>\u001b[1;34m\u001b[0m\n\u001b[1;32m----> 1\u001b[1;33m \u001b[0mos\u001b[0m\u001b[1;33m.\u001b[0m\u001b[0mgetcwd\u001b[0m\u001b[1;33m(\u001b[0m\u001b[1;33m)\u001b[0m  \u001b[1;31m# 워킹 위치 파악\u001b[0m\u001b[1;33m\u001b[0m\u001b[1;33m\u001b[0m\u001b[0m\n\u001b[0m",
      "\u001b[1;31mNameError\u001b[0m: name 'os' is not defined"
     ]
    }
   ],
   "source": [
    "os.getcwd()  # 워킹 위치 파악"
   ]
  },
  {
   "cell_type": "code",
   "execution_count": null,
   "id": "6ae05ce0-8c61-4bff-aa1a-31e520c2ec88",
   "metadata": {},
   "outputs": [],
   "source": [
    "os.chdir(\"C:/\")  # 워킹 위치 바꾸기"
   ]
  },
  {
   "cell_type": "code",
   "execution_count": null,
   "id": "e970deff-1b83-4d92-a2dc-aa45c203f826",
   "metadata": {},
   "outputs": [],
   "source": [
    "os.getcwd()"
   ]
  },
  {
   "cell_type": "code",
   "execution_count": null,
   "id": "b531c4c0-d023-4df5-9de8-6fcb9957efbe",
   "metadata": {},
   "outputs": [],
   "source": [
    "os.mkdir() #디렉토리 생성\n",
    "os.rmdir() #디렉토리 삭제"
   ]
  },
  {
   "cell_type": "code",
   "execution_count": null,
   "id": "cc6faf2c-21d4-4dae-b273-130668e9c8b7",
   "metadata": {},
   "outputs": [],
   "source": [
    "1. PY 라는 디렉토리를 만듭시다\n",
    "2. PY 디렉토리를 워킹디렉토리로 지정합니다\n",
    "3. 워킹디렉토리를 확인합시다.\n",
    "4. '1,2,3,4,5,...10,' 가 들어있는 number.txt를 저장합시다.\n",
    "5. number.txt 를 지웁시다. # <- os.remove(\"파일이름\")\n",
    "6. 워킹디렉토리를 C:/Users/admin 으로 합시다\n",
    "7. PY디렉토리를 지웁니다."
   ]
  },
  {
   "cell_type": "code",
   "execution_count": null,
   "id": "31fe15ea-f6ab-4d02-9936-0cc325e8ea64",
   "metadata": {},
   "outputs": [],
   "source": [
    "import os\n",
    "os.mkdir('PY')\n",
    "os.chdir('C./PY')\n",
    "os.getcwd()\n",
    "with open(\"number.txt\",\"w\") as f:\n",
    "    for i in range(1,11):\n",
    "        f.write(str(i)+\",\")\n",
    "f.close()\n",
    "os.remove(\"number.txt\")\n",
    "os.chdir(\"C:/Users/admin\")\n",
    "os.rmidr('C/PY')"
   ]
  },
  {
   "cell_type": "code",
   "execution_count": null,
   "id": "87f22742-d550-41a0-aae9-23c497a2317f",
   "metadata": {},
   "outputs": [],
   "source": [
    "#1\n",
    "os.mkdir('PY')\n",
    "#2\n",
    "os.chdir('C./PY')\n",
    "#3\n",
    "os.getcwd()\n",
    "#4\n",
    "with open('number.txt', 'w') as f:\n",
    "    \n",
    "    for i in range(1,11): \n",
    "        f.write(f'{i},')\n",
    "        \n",
    "#5\n",
    "os.unlink('C./PY/number.txt')\n",
    "#6\n",
    "os.chdir('C./Users/admin')\n",
    "#7\n",
    "os.rmdir('C./PY') "
   ]
  },
  {
   "cell_type": "code",
   "execution_count": null,
   "id": "80d301ab-6dc4-4e62-a48a-83e56e7a020e",
   "metadata": {},
   "outputs": [],
   "source": [
    "os.mkdir(\"PY\")\n",
    "os.chdir(\"c😕PY\")\n",
    "os.getcwd()\n",
    "with open(\"number.txt\",\"w\") as f:\n",
    "    for i in range(1,11):\n",
    "        f.write(f\"{i}, \")\n",
    "os.remove(\"number.txt\")\n",
    "os.chdir(\"c😕\")\n",
    "os.rmdir(\"c😕PY\") "
   ]
  },
  {
   "cell_type": "code",
   "execution_count": null,
   "id": "02a2f212-49c2-4e48-8264-18c205f8bfd7",
   "metadata": {},
   "outputs": [],
   "source": [
    "with open(\"number.txt\",\"w\") as f:\n",
    "    for i in range(1,11):\n",
    "        f.write(str(i)+\",\")\n",
    "f.close()\n",
    "\n",
    "import shutil\n",
    "shutil.copy(\"number.txt\",\"number1.txt\")"
   ]
  },
  {
   "cell_type": "markdown",
   "id": "d9913abd-6bfb-4a32-95d7-28c8e97b938e",
   "metadata": {},
   "source": [
    "- glob"
   ]
  },
  {
   "cell_type": "code",
   "execution_count": null,
   "id": "0b9d289e-39ba-403c-93bc-4fbd3dd1736f",
   "metadata": {},
   "outputs": [],
   "source": [
    "import glob\n",
    "glob.glob(\"C:/Users/admin/*\")  # 폴더 안의 파일 불러오기 모두\n",
    "glob.glob(\"C:/Users/admin/*.txt\") # 폴더안의 텍스트 파일만 보여주기"
   ]
  },
  {
   "cell_type": "markdown",
   "id": "999ee278-c395-4301-b975-230b407e41c3",
   "metadata": {},
   "source": [
    "- time"
   ]
  },
  {
   "cell_type": "code",
   "execution_count": null,
   "id": "dd2258c8-d2b9-4307-a1ef-75e3d5e70911",
   "metadata": {},
   "outputs": [],
   "source": [
    "import time"
   ]
  },
  {
   "cell_type": "code",
   "execution_count": null,
   "id": "bfbdbdfc-d617-4696-9b2e-4420e7abe188",
   "metadata": {},
   "outputs": [],
   "source": [
    "time.time()  # 1970년 1월 1일 0시 부터 현재시간 까지의 초가 나옴"
   ]
  },
  {
   "cell_type": "code",
   "execution_count": null,
   "id": "07362663-0876-46ee-850a-bc485ecfad38",
   "metadata": {},
   "outputs": [],
   "source": [
    "time.localtime(time.time()) # 보기편하게"
   ]
  },
  {
   "cell_type": "code",
   "execution_count": null,
   "id": "72fb7090-41be-49b4-985f-1f15dd24c30d",
   "metadata": {},
   "outputs": [],
   "source": [
    "time.ctime() #현재시간"
   ]
  },
  {
   "cell_type": "code",
   "execution_count": null,
   "id": "06296f06-11dd-4421-8be2-16fccaa17719",
   "metadata": {},
   "outputs": [],
   "source": [
    "time.sleep(1) # ()안의 숫자동안 멈추기"
   ]
  },
  {
   "cell_type": "code",
   "execution_count": null,
   "id": "134f34e5-79e8-4e2e-af72-22f3851ed335",
   "metadata": {},
   "outputs": [],
   "source": [
    "for i in range(10):\n",
    "    print(i)\n",
    "    time.sleep(1)"
   ]
  },
  {
   "cell_type": "code",
   "execution_count": 1,
   "id": "c4dc0e44-c830-449e-8a02-98654f1bf7da",
   "metadata": {},
   "outputs": [
    {
     "ename": "ValueError",
     "evalue": "embedded null byte",
     "output_type": "error",
     "traceback": [
      "\u001b[1;31m---------------------------------------------------------------------------\u001b[0m",
      "\u001b[1;31mValueError\u001b[0m                                Traceback (most recent call last)",
      "\u001b[1;32m<ipython-input-1-de598074f5f8>\u001b[0m in \u001b[0;36m<module>\u001b[1;34m\u001b[0m\n\u001b[0;32m      1\u001b[0m \u001b[1;32mimport\u001b[0m \u001b[0mtime\u001b[0m\u001b[1;33m\u001b[0m\u001b[1;33m\u001b[0m\u001b[0m\n\u001b[1;32m----> 2\u001b[1;33m \u001b[0mtime\u001b[0m\u001b[1;33m.\u001b[0m\u001b[0mstrftime\u001b[0m\u001b[1;33m(\u001b[0m\u001b[1;34m'%Y년/%m/%d %X'\u001b[0m\u001b[1;33m,\u001b[0m\u001b[0mtime\u001b[0m\u001b[1;33m.\u001b[0m\u001b[0mlocaltime\u001b[0m\u001b[1;33m(\u001b[0m\u001b[0mtime\u001b[0m\u001b[1;33m.\u001b[0m\u001b[0mtime\u001b[0m\u001b[1;33m(\u001b[0m\u001b[1;33m)\u001b[0m\u001b[1;33m)\u001b[0m\u001b[1;33m)\u001b[0m\u001b[1;33m\u001b[0m\u001b[1;33m\u001b[0m\u001b[0m\n\u001b[0m",
      "\u001b[1;31mValueError\u001b[0m: embedded null byte"
     ]
    }
   ],
   "source": [
    "import time\n",
    "time.strftime('%Y년/%m/%d %X',time.localtime(time.time())) "
   ]
  },
  {
   "cell_type": "code",
   "execution_count": 50,
   "id": "b2cc039b-999e-42e6-bf68-b5b6068a2cb4",
   "metadata": {},
   "outputs": [
    {
     "data": {
      "text/plain": [
       "'2022,06, 22, 12, 47, 17'"
      ]
     },
     "execution_count": 50,
     "metadata": {},
     "output_type": "execute_result"
    }
   ],
   "source": [
    "time.strftime(\"%x\",time.localtime(time.time()))\n",
    "time.strftime(\"%c\",time.localtime(time.time()))\n",
    "time.strftime(\"%m %M\",time.localtime(time.time()))\n",
    "time.strftime(\"%Y,%m, %d, %I, %M, %S\",time.localtime(time.time()))"
   ]
  },
  {
   "cell_type": "code",
   "execution_count": null,
   "id": "c69f5fc0-fcf9-494b-a513-755e4c3fa4f4",
   "metadata": {},
   "outputs": [],
   "source": [
    "import calendar"
   ]
  },
  {
   "cell_type": "code",
   "execution_count": null,
   "id": "935cb63e-7fe4-4dbc-ac18-e4339d8f087f",
   "metadata": {
    "tags": []
   },
   "outputs": [],
   "source": [
    "print(calendar.calendar(2015))"
   ]
  },
  {
   "cell_type": "code",
   "execution_count": null,
   "id": "f6b282f7-84ec-4c3c-b9b6-40b0dab963a1",
   "metadata": {},
   "outputs": [],
   "source": [
    "print(calendar.prmonth(2022, 6))"
   ]
  },
  {
   "cell_type": "code",
   "execution_count": null,
   "id": "cdac5e4d-f34f-4134-9ab8-1d7fa66d80dc",
   "metadata": {},
   "outputs": [],
   "source": [
    "calendar.weekday(2022,6,22)`"
   ]
  },
  {
   "cell_type": "markdown",
   "id": "86824ea9-1889-46cc-b62e-3d0dcc70bbbb",
   "metadata": {},
   "source": [
    "- random"
   ]
  },
  {
   "cell_type": "code",
   "execution_count": null,
   "id": "36431322-5e91-4cb9-8247-a11c7945ff07",
   "metadata": {},
   "outputs": [],
   "source": [
    "import random"
   ]
  },
  {
   "cell_type": "code",
   "execution_count": null,
   "id": "e8387afc-73d4-4059-9264-ef55d20bc6e9",
   "metadata": {},
   "outputs": [],
   "source": [
    "random.random()    # 0~ 1 사이의 임의 숫자 출력"
   ]
  },
  {
   "cell_type": "code",
   "execution_count": null,
   "id": "6c76d2f0-1a20-458b-8b60-4f46b905b1e8",
   "metadata": {},
   "outputs": [],
   "source": [
    "random.random?"
   ]
  },
  {
   "cell_type": "code",
   "execution_count": null,
   "id": "c50243d4-13ea-42da-8948-bd71b0f65262",
   "metadata": {},
   "outputs": [],
   "source": [
    "random.randint(1,3) # 1부터 3사이 숫자 랜덤"
   ]
  },
  {
   "cell_type": "code",
   "execution_count": null,
   "id": "4dd94224-dce5-410c-bd4a-9b3fe9157ff2",
   "metadata": {},
   "outputs": [],
   "source": [
    "li = []\n",
    "for i in range(5):\n",
    "    li.append(random.randint(1,10))\n",
    "li"
   ]
  },
  {
   "cell_type": "code",
   "execution_count": null,
   "id": "e9b4d331-2af4-4445-9375-1f8904692172",
   "metadata": {},
   "outputs": [],
   "source": [
    "li=[random.randint(1,10) for i in range(5)]"
   ]
  },
  {
   "cell_type": "code",
   "execution_count": null,
   "id": "af0760fe-734a-409e-a328-96d16bf9dd3d",
   "metadata": {},
   "outputs": [],
   "source": [
    "li"
   ]
  },
  {
   "cell_type": "code",
   "execution_count": null,
   "id": "eab006a6-4d34-475d-a20f-ba4c4d7df0e0",
   "metadata": {},
   "outputs": [],
   "source": [
    "random.choice?"
   ]
  },
  {
   "cell_type": "code",
   "execution_count": null,
   "id": "f80ce8f2-15a8-4116-baab-90c9bdca8662",
   "metadata": {},
   "outputs": [],
   "source": [
    "random.choice([1,2,3,4])  # 리스트 값중 선택"
   ]
  },
  {
   "cell_type": "code",
   "execution_count": null,
   "id": "220e4d64-99ac-4b1e-8aee-32ceab0fd517",
   "metadata": {},
   "outputs": [],
   "source": [
    "li = [1,2,3,4,5,6,]\n",
    "random.shuffle(li)\n",
    "li"
   ]
  },
  {
   "cell_type": "code",
   "execution_count": null,
   "id": "0cb9a244-0c53-4d00-803f-b31a97b9a35d",
   "metadata": {},
   "outputs": [],
   "source": [
    "random.uniform?"
   ]
  },
  {
   "cell_type": "code",
   "execution_count": null,
   "id": "f7b6fadf-b95c-496d-887b-00d06d5b321a",
   "metadata": {},
   "outputs": [],
   "source": [
    "random.uniform(1,3)  # 1과 3사이의 소수 포함 숫자중 선택"
   ]
  },
  {
   "cell_type": "code",
   "execution_count": null,
   "id": "0743a122-4b74-4b37-bfe7-190a77c90f84",
   "metadata": {},
   "outputs": [],
   "source": [
    "random.seed(3)  # 알고리즘 통해서 램덤나오는 원리를 시작점을 같게해서 같은 결과 나오게하는것"
   ]
  },
  {
   "cell_type": "code",
   "execution_count": null,
   "id": "5d71a25c-75e0-48a7-932d-d7b6716e67cb",
   "metadata": {},
   "outputs": [],
   "source": [
    "random.randint(1,5)"
   ]
  },
  {
   "cell_type": "code",
   "execution_count": null,
   "id": "c60202c4-ebd6-4457-ac4e-5821b4f617a6",
   "metadata": {},
   "outputs": [],
   "source": [
    "import webbrowser"
   ]
  },
  {
   "cell_type": "code",
   "execution_count": null,
   "id": "58a8ef48-e5db-4b19-8a50-3d99a9eae9f5",
   "metadata": {},
   "outputs": [],
   "source": [
    "webbrowser.open(\"https://google.com\")"
   ]
  },
  {
   "cell_type": "code",
   "execution_count": null,
   "id": "5dbbbbdb-0460-4381-b328-991e213d5469",
   "metadata": {},
   "outputs": [],
   "source": [
    "import glob\n",
    "glob.glob(\"C./Users/admin/.py\")"
   ]
  },
  {
   "cell_type": "code",
   "execution_count": 4,
   "id": "e3798dff-15ea-41d2-94c1-5149c6683d24",
   "metadata": {},
   "outputs": [
    {
     "data": {
      "text/plain": [
       "'2022/06/22 12:11:55'"
      ]
     },
     "execution_count": 4,
     "metadata": {},
     "output_type": "execute_result"
    }
   ],
   "source": [
    "import time\n",
    "time.strftime(\"%Y/%m/%d %H:%M:%S\",time.localtime(time.time()))"
   ]
  },
  {
   "cell_type": "markdown",
   "id": "984c830c-f6b0-4542-aba2-899111e16de6",
   "metadata": {},
   "source": [
    "- threading"
   ]
  },
  {
   "cell_type": "code",
   "execution_count": 6,
   "id": "703b62e4-f297-4a57-8627-efa8bf270aea",
   "metadata": {
    "collapsed": true,
    "jupyter": {
     "outputs_hidden": true
    },
    "tags": []
   },
   "outputs": [
    {
     "name": "stdout",
     "output_type": "stream",
     "text": [
      "Start\n",
      "working 0 \n",
      "working 1 \n",
      "working 2 \n",
      "working 3 \n",
      "working 4 \n",
      "working 0 \n",
      "working 1 \n",
      "working 2 \n",
      "working 3 \n",
      "working 4 \n",
      "working 0 \n",
      "working 1 \n",
      "working 2 \n",
      "working 3 \n",
      "working 4 \n",
      "working 0 \n",
      "working 1 \n",
      "working 2 \n",
      "working 3 \n",
      "working 4 \n",
      "working 0 \n",
      "working 1 \n",
      "working 2 \n",
      "working 3 \n",
      "working 4 \n",
      "End\n"
     ]
    }
   ],
   "source": [
    "def long_task():\n",
    "    for i in range(5):\n",
    "        time.sleep(1)\n",
    "        print(\"working %s \" %i)\n",
    "print(\"Start\")\n",
    "\n",
    "for i in range(5):\n",
    "    long_task()\n",
    "print(\"End\")"
   ]
  },
  {
   "cell_type": "code",
   "execution_count": 10,
   "id": "f3cd4087-45cd-4c20-bdce-ba96044df096",
   "metadata": {
    "collapsed": true,
    "jupyter": {
     "outputs_hidden": true
    },
    "tags": []
   },
   "outputs": [
    {
     "name": "stdout",
     "output_type": "stream",
     "text": [
      "Start\n",
      "working:0\n",
      "\n",
      "working:0\n",
      "\n",
      "working:0\n",
      "\n",
      "working:0\n",
      "\n",
      "working:0\n",
      "\n",
      "working:1\n",
      "\n",
      "working:1\n",
      "\n",
      "working:1\n",
      "\n",
      "working:1\n",
      "\n",
      "working:1\n",
      "\n",
      "working:2\n",
      "\n",
      "working:2\n",
      "\n",
      "working:2\n",
      "\n",
      "working:2\n",
      "\n",
      "working:2\n",
      "\n",
      "working:3\n",
      "\n",
      "working:3\n",
      "\n",
      "working:3\n",
      "\n",
      "working:3\n",
      "\n",
      "working:3\n",
      "\n",
      "working:4\n",
      "\n",
      "working:4\n",
      "\n",
      "working:4\n",
      "\n",
      "working:4\n",
      "\n",
      "working:4\n",
      "\n",
      "End\n"
     ]
    }
   ],
   "source": [
    "import time\n",
    "import threading\n",
    "\n",
    "def long_task():\n",
    "    for i in range(5):\n",
    "        time.sleep(1)\n",
    "        print(\"working:%s\\n\" %i)\n",
    "print(\"Start\")\n",
    "\n",
    "threads = []\n",
    "for i in range(5):\n",
    "    t = threading.Thread(target=long_task)\n",
    "    threads.append(t)\n",
    "    \n",
    "for t in threads:\n",
    "    t.start()\n",
    "for t in threads:\n",
    "    t.join()\n",
    "    \n",
    "print(\"End\")"
   ]
  },
  {
   "cell_type": "markdown",
   "id": "90c81a0a-3f1f-4ba4-b212-b6a1dfb5e1d3",
   "metadata": {},
   "source": [
    "구구단에서 입력받은 한개의 단만 출력하는 함수를 만들어 봅시다\n",
    "```\n",
    "gugu(2)\n",
    "2x1=2\n",
    "```"
   ]
  },
  {
   "cell_type": "code",
   "execution_count": 32,
   "id": "2e3d2283-3537-421f-b020-523e95ac0dde",
   "metadata": {},
   "outputs": [],
   "source": [
    "def gugu(a):\n",
    "    for i in range(1,10):\n",
    "        print(f'{a}x{i}={a*i}')"
   ]
  },
  {
   "cell_type": "code",
   "execution_count": 33,
   "id": "028f4c77-9a57-4128-b7db-87387f54575e",
   "metadata": {
    "collapsed": true,
    "jupyter": {
     "outputs_hidden": true
    },
    "tags": []
   },
   "outputs": [
    {
     "name": "stdout",
     "output_type": "stream",
     "text": [
      "2x1=2\n",
      "2x2=4\n",
      "2x3=6\n",
      "2x4=8\n",
      "2x5=10\n",
      "2x6=12\n",
      "2x7=14\n",
      "2x8=16\n",
      "2x9=18\n"
     ]
    }
   ],
   "source": [
    "gugu(2)"
   ]
  },
  {
   "cell_type": "code",
   "execution_count": 30,
   "id": "7a7fffcd-a1e4-45fb-9a3e-f4c716d90dfa",
   "metadata": {},
   "outputs": [
    {
     "name": "stdout",
     "output_type": "stream",
     "text": [
      "[2, 4, 6, 8, 10, 12, 14, 16, 18]\n"
     ]
    }
   ],
   "source": [
    "def gugu(a):\n",
    "    li = []\n",
    "    for i in range(1,10):\n",
    "        b=a*i\n",
    "        li.append(b)\n",
    "    print(li)\n",
    "gugu(2)"
   ]
  },
  {
   "cell_type": "code",
   "execution_count": 40,
   "id": "f176fb9b-2b47-4b7f-ab46-02c11d052258",
   "metadata": {},
   "outputs": [
    {
     "name": "stdin",
     "output_type": "stream",
     "text": [
      "숫자 100\n"
     ]
    },
    {
     "data": {
      "text/plain": [
       "2418"
      ]
     },
     "execution_count": 40,
     "metadata": {},
     "output_type": "execute_result"
    }
   ],
   "source": [
    "n=1\n",
    "b= int(input('숫자'))\n",
    "li=[]\n",
    "while n<100:\n",
    "    n+=1\n",
    "    \n",
    "    if n%3==0:\n",
    "        li.append(n)\n",
    "    elif n%5==0:\n",
    "        li.append(n)\n",
    "sum(li)"
   ]
  },
  {
   "cell_type": "code",
   "execution_count": 45,
   "id": "d252a999-7af1-47b8-8170-83aa1af329f2",
   "metadata": {},
   "outputs": [
    {
     "data": {
      "text/plain": [
       "2418"
      ]
     },
     "execution_count": 45,
     "metadata": {},
     "output_type": "execute_result"
    }
   ],
   "source": [
    "def mul(n):\n",
    "    sum = 0\n",
    "    for i in range(n+1):\n",
    "        if i%3==0 or i%5 ==0:\n",
    "            sum +=i\n",
    "    return sum\n",
    "mul(100)"
   ]
  },
  {
   "cell_type": "code",
   "execution_count": 44,
   "id": "c3ade9c1-8ebd-4613-be8c-590d3442ddc7",
   "metadata": {},
   "outputs": [
    {
     "name": "stdin",
     "output_type": "stream",
     "text": [
      " 100\n"
     ]
    },
    {
     "name": "stdout",
     "output_type": "stream",
     "text": [
      "2418\n"
     ]
    }
   ],
   "source": [
    "def multi():\n",
    "\n",
    "    n = int(input())\n",
    "    sum = 0\n",
    "    for i in range(n + 1):\n",
    "    \n",
    "        if (i % 3 == 0) or (i % 5 == 0):\n",
    "            sum += i\n",
    "    print(sum)\n",
    "multi() "
   ]
  },
  {
   "cell_type": "markdown",
   "id": "47847c7c-7c4f-4ec6-ba42-32f01e1c8df8",
   "metadata": {},
   "source": [
    "```\n",
    "page()\n",
    "page(12)->2\n",
    "page(25)->3\n",
    "page(30)->3\n",
    "```"
   ]
  },
  {
   "cell_type": "code",
   "execution_count": 72,
   "id": "4b2e61d7-0ff8-4e6d-bfd5-c6d9002cff10",
   "metadata": {},
   "outputs": [
    {
     "data": {
      "text/plain": [
       "1"
      ]
     },
     "execution_count": 72,
     "metadata": {},
     "output_type": "execute_result"
    }
   ],
   "source": [
    "def page(n):\n",
    "    if n<=10:\n",
    "        result = 1\n",
    "    else: result = (n-1)//10\n",
    "    return result\n",
    "page(20)"
   ]
  },
  {
   "cell_type": "code",
   "execution_count": 76,
   "id": "1dda178e-6352-4543-8b0c-959e805b3cef",
   "metadata": {},
   "outputs": [
    {
     "data": {
      "text/plain": [
       "2"
      ]
     },
     "execution_count": 76,
     "metadata": {},
     "output_type": "execute_result"
    }
   ],
   "source": [
    "def page(m,n):\n",
    "    result = (m-1)// n\n",
    "    return result +1\n",
    "page(6,5)"
   ]
  },
  {
   "cell_type": "markdown",
   "id": "9842dbee-7495-43f1-a958-86f865e01faa",
   "metadata": {},
   "source": [
    "- 메모장 만들기"
   ]
  },
  {
   "cell_type": "code",
   "execution_count": 95,
   "id": "6d769022-6a7f-4107-b2a3-21ea5f6bc1b6",
   "metadata": {},
   "outputs": [],
   "source": [
    "import sys\n",
    "with open(\"my_memo.txt\",mode=\"w\") as f:\n",
    "    line = sys.argv[1]\n",
    "    f.write(line)\n",
    "    f.write(\"\\n\")\n",
    "            \n",
    "    line = sys.argv[2]\n",
    "    f.write(line)"
   ]
  },
  {
   "cell_type": "code",
   "execution_count": 82,
   "id": "299659f9-2b25-42cb-8912-7fd3f5e72d27",
   "metadata": {},
   "outputs": [],
   "source": [
    "with open(\"memo.txt\",mode=\"w\") as f:\n",
    "    line = sys.argv[1]\n",
    "    f.write(line)"
   ]
  },
  {
   "cell_type": "code",
   "execution_count": 99,
   "id": "0cdddef9-1e9e-42f5-96b4-401f998059dd",
   "metadata": {},
   "outputs": [],
   "source": [
    "with open('memo.py','w') as f:\n",
    "    f.write(\"\"\"import sys\n",
    "arg = sys.argv[1]\n",
    "if \"-a\" == arg:\n",
    "    with open('test.txt','a') as f:\n",
    "        arg = sys.argv[2]\n",
    "        f.write(arg)\n",
    "        f.write(\"\\\\n\")\n",
    "        arg = sys.argv[3]\n",
    "        f.write(arg)\n",
    "        f.write(\"\\\\n\")\n",
    "    \n",
    "else:\n",
    "    with open('test.txt','w') as f:\n",
    "        arg = sys.argv[1]\n",
    "        f.write(arg)\n",
    "        f.write(\"\\\\n\")\n",
    "        arg = sys.argv[2]\n",
    "        f.write(arg)\n",
    "        f.write(\"\\\\n\")\"\"\") "
   ]
  },
  {
   "cell_type": "markdown",
   "id": "12ec435d-feea-4782-a9a1-285b305b7011",
   "metadata": {
    "tags": []
   },
   "source": [
    "# 정규표현식\n",
    "- regular expression"
   ]
  },
  {
   "cell_type": "code",
   "execution_count": null,
   "id": "9da836c3-73e3-4d59-8f0f-b7c623f1b7d2",
   "metadata": {
    "tags": []
   },
   "outputs": [],
   "source": [
    "import re\n",
    "data = \"\"\"\n",
    "park 800905-1049118\n",
    "kim 700905-1059119\n",
    "\"\"\"\n",
    "pat = re.compile(\"(\\d{6})[-]\\d{7}\")\n",
    "print(pat.sub(\"\\g<1>-*******\",data))"
   ]
  },
  {
   "cell_type": "code",
   "execution_count": null,
   "id": "ee42247d-2eeb-4137-a73e-c82946ec8524",
   "metadata": {},
   "outputs": [],
   "source": [
    "import re\n",
    "data = \"\"\"\n",
    "park 800905-1049118\n",
    "kim 700905-1059119\n",
    "\"\"\"\n",
    "pat = re.compile(\"[-]\\d{7}\")\n",
    "print(pat.sub(\"-*******\",data))"
   ]
  },
  {
   "cell_type": "markdown",
   "id": "ef706e34-fca7-4112-8421-3f3801c5b3eb",
   "metadata": {},
   "source": [
    "문자: 알파벳, 특수문자, 빈칸(Whitespace)"
   ]
  },
  {
   "cell_type": "code",
   "execution_count": null,
   "id": "eee61236-21f9-4ba1-8b79-deb663c93fc0",
   "metadata": {},
   "outputs": [],
   "source": [
    "a.b   : aab, abb, acb, adb, a1b, a*b\n",
    "a{1}b : ab\n",
    "a{2}b : ab\n",
    "a{1,2}b : ab, aab {a,b} # b= 반복횟수\n",
    "    \n",
    "[.]py # 대괄로 안의 점은 그냥 점의미 (확장자 할때 사용)"
   ]
  },
  {
   "cell_type": "code",
   "execution_count": null,
   "id": "62c25e7c-f76c-4af6-b673-ba1bb690bad7",
   "metadata": {},
   "outputs": [],
   "source": [
    "# 반복 의미 \n",
    "* : 전부다   a*b : b,a,aab,aaab.......\n",
    "+ : 한번이상 a+b : ab, aab, aaab, aaaab,.....\n",
    "? : 한번이하 a?b : # a 가 없어도 됨, b, ab"
   ]
  },
  {
   "cell_type": "code",
   "execution_count": null,
   "id": "bcc16f4c-5842-435a-be4c-458027b7db49",
   "metadata": {},
   "outputs": [],
   "source": [
    "a{m,n}  # {m, n} 중간에 띄어쓰면 안됨\n",
    "a{m,} : m번 이상   # a{1,}b   =  +\n",
    "a{,n} : n번 이하   # a{,1}b   =  ?\n",
    "a{m}  : m번\n"
   ]
  },
  {
   "cell_type": "markdown",
   "id": "7df88a46-7472-4c5c-b1b5-2a28917a24c0",
   "metadata": {},
   "source": [
    "### 메타문자"
   ]
  },
  {
   "cell_type": "markdown",
   "id": "bb07a86a-92d0-486b-a67b-cf7bcf35671f",
   "metadata": {},
   "source": [
    "```\n",
    "[  ] : 문자클래스\n",
    "[a-z]\n",
    "[0-9]\n",
    "[^0-5]\n",
    "\n",
    "[\\d]  : digit\n",
    "[\\s]  : whitespace\n",
    "[\\w]  : alphanumeric\n",
    "\n",
    ".\n",
    "[.]\n",
    ".\n",
    "^h\n",
    "h\n",
    "\n",
    "```"
   ]
  },
  {
   "cell_type": "markdown",
   "id": "265294dd-0d25-41c8-bac9-56862f35f441",
   "metadata": {},
   "source": [
    "- re 사용법"
   ]
  },
  {
   "cell_type": "code",
   "execution_count": null,
   "id": "f7a37cdc-1aa3-4331-bfa1-372f6e6a9ac9",
   "metadata": {},
   "outputs": [],
   "source": [
    "# 컴파일 하기\n",
    "p = re.compile()  # 갈호 안에는 패턴이 들어가고 객체로 저장\n",
    "                  # p.메서드  p.search, p.match, p.findall, p.finditer, p.sub\n",
    "# p.메서드(원하는 문장)\n"
   ]
  },
  {
   "cell_type": "code",
   "execution_count": 101,
   "id": "6052076c-dc88-403d-bccf-527579c7a8e5",
   "metadata": {},
   "outputs": [
    {
     "data": {
      "text/plain": [
       "['p', 'y', 't']"
      ]
     },
     "execution_count": 101,
     "metadata": {},
     "output_type": "execute_result"
    }
   ],
   "source": [
    "p = re.compile(\"[p-z]\")\n",
    "p.findall(\"python\")"
   ]
  },
  {
   "cell_type": "code",
   "execution_count": 105,
   "id": "199d40e6-36f5-48a5-bea4-09ebb6c36d0e",
   "metadata": {},
   "outputs": [
    {
     "data": {
      "text/plain": [
       "['p', 'y', 't']"
      ]
     },
     "execution_count": 105,
     "metadata": {},
     "output_type": "execute_result"
    }
   ],
   "source": [
    "re.findall(\"[p-z]\",\"python\")"
   ]
  },
  {
   "cell_type": "code",
   "execution_count": 106,
   "id": "9372ddd9-65c1-4417-bd06-8ab10e938eb9",
   "metadata": {
    "collapsed": true,
    "jupyter": {
     "outputs_hidden": true
    },
    "tags": []
   },
   "outputs": [
    {
     "name": "stdout",
     "output_type": "stream",
     "text": [
      "<!DOCTYPE html><html lang=\"ko\"> <head> <meta charset=\"utf-8\" /> <title>Daum</title> <meta http-equiv=\"x-ua-compatible\" content=\"IE=edge\" /> <meta property=\"og:url\" content=\"//www.daum.net/\" /> <meta property=\"og:type\" content=\"website\" /> <meta property=\"og:title\" content=\"Daum\" /> <meta http-equiv=\"Pragma\" content=\"no-cache\" /> <meta http-equiv=\"Expires\" content=\"-1\" /> <meta name=\"referrer\" content=\"origin\" /> <meta property=\"og:image\" content=\"https://i1.daumcdn.net/svc/image/U03/common_icon/5587C4E4012FCD0001\" /> <meta property=\"og:description\" content=\"나의 관심 콘텐츠를 가장 즐겁게 볼 수 있는 Daum\" /> <meta name=\"msapplication-task\" content=\"name=Daum;action-uri=//www.daum.net/;icon-uri=/favicon.ico\" /> <meta name=\"msapplication-task\" content=\"name=미디어다음;action-uri=//news.daum.net/;icon-uri=/media_favicon.ico\" /> <meta name=\"msapplication-task\" content=\"name=메일;action-uri=//mail.daum.net;icon-uri=/mail_favicon.ico\" /> <link href=\"https://t1.daumcdn.net/top/favicon.ico\" rel=\"shortcut icon\" /> <meta name=\"referrer\" content=\"origin\" /> <link rel=\"search\" type=\"application/opensearchdescription+xml\" href=\"https://search.daum.net/OpenSearch.xml\" title=\"다음\" /> <link rel=\"stylesheet\" href=\"https://t1.daumcdn.net/top/tiller-pc/h/production/20220616_153208/common.css\" /> <script src=\"https://t1.daumcdn.net/kas/static/na.min.js\"></script> <script type=\"text/javascript\"> window.tillerInitData = {\"header\":{\"timestamp\":1655880739235},\"body\":{\"tabs\":{\"media\":{\"code\":\"media\",\"name\":\"미디어\",\"renderType\":\"NONE\",\"position\":1,\"board\":false,\"morePage\":false,\"page\":\"{\\\"tab\\\":\\\"media\\\",\\\"page\\\":1,\\\"last\\\":true,\\\"token\\\":null,\\\"ts\\\":null}\"},\"katv\":{\"code\":\"katv\",\"name\":\"카카오TV\",\"renderType\":\"NONE\",\"position\":2,\"board\":false,\"morePage\":false,\"page\":\"{\\\"tab\\\":\\\"katv\\\",\\\"page\\\":1,\\\"last\\\":true,\\\"token\\\":null,\\\"ts\\\":null}\"},\"social\":{\"code\":\"social\",\"name\":\"소셜\",\"renderType\":\"NONE\",\"position\":3,\"board\":false,\"morePage\":false,\"page\":\"{\\\"tab\\\":\\\"social\\\",\\\"page\\\":1,\\\"last\\\":true,\\\"token\\\":null,\\\"ts\\\":null}\"},\"channel\":{\"code\":\"channel\",\"name\":\"채널\",\"renderType\":\"NONE\",\"position\":4,\"board\":false,\"morePage\":false,\"page\":\"{\\\"tab\\\":\\\"channel\\\",\\\"page\\\":1,\\\"last\\\":true,\\\"token\\\":null,\\\"ts\\\":null}\"}},\"boxes\":{\"media\":[{\"code\":2372,\"type\":\"PC_MEDIA_NEWS1\",\"items\":{\"op\":{\"tab\":\"news1\",\"title\":\"뉴스\",\"url\":\"https://news.daum.net/\"},\"issue\":{\"title\":\"'코로나19' 현황\",\"isSpecial\":null,\"url\":\"https://news.daum.net/covid19\",\"iconType\":\"ISSUE2\",\"status\":\"on\"},\"breakingNewsOp\":{\"minCount\":\"3\",\"status\":\"on\"},\"footLinkLeft\":{\"foot1\":\"{\\\"title\\\":\\\"포토\\\",\\\"url\\\":\\\"https://news.daum.net/photo/\\\",\\\"tiaraTag\\\":\\\"photo\\\"}\",\"foot0\":\"{\\\"title\\\":\\\"연재\\\",\\\"url\\\":\\\"https://news.daum.net/series/\\\",\\\"tiaraTag\\\":\\\"series\\\"}\",\"foot3\":\"{\\\"title\\\":\\\"\\\",\\\"url\\\":\\\"\\\",\\\"tiaraTag\\\":\\\"\\\"}\",\"footer\":\"{\\\"title\\\":\\\"뉴스홈\\\",\\\"url\\\":\\\"https://news.daum.net/\\\"}\",\"foot2\":\"{\\\"title\\\":\\\"팩트체크\\\",\\\"url\\\":\\\"https://focus.daum.net/ch/news/factcheck\\\",\\\"tiaraTag\\\":\\\"factcheck\\\"}\",\"foot4\":\"{\\\"title\\\":\\\"\\\",\\\"url\\\":\\\"\\\",\\\"tiaraTag\\\":\\\"\\\"}\",\"status\":\"on\"},\"footLinkRight\":{\"foot1\":\"{\\\"title\\\":\\\"환율\\\",\\\"url\\\":\\\"https://search.daum.net/search?w=tot&q=환율&DA=TMZ\\\",\\\"tiaraTag\\\":\\\"exchange\\\"}\",\"foot0\":\"{\\\"title\\\":\\\"코스피\\\",\\\"url\\\":\\\"https://search.daum.net/search?w=tot&q=증시&DA=TMZ\\\",\\\"tiaraTag\\\":\\\"stock\\\"}\",\"foot3\":\"{\\\"title\\\":\\\"TV편성\\\",\\\"url\\\":\\\"https://search.daum.net/search?w=tot&q=편성표&DA=TMZ\\\",\\\"tiaraTag\\\":\\\"tv\\\"}\",\"foot2\":\"{\\\"title\\\":\\\"오늘의운세\\\",\\\"url\\\":\\\"https://search.daum.net/search?w=tot&q=운세&DA=TMZ\\\",\\\"tiaraTag\\\":\\\"fortune\\\"}\",\"status\":\"on\"},\"specialLink\":{\"displayType\":\"specialLink\",\"title\":\"오늘의 KBO리그\",\"url\":\"https://sports.daum.net/schedule/kbo\",\"iconType\":\"LIVE\",\"status\":\"off\"}},\"feeds\":{\"pc_media_breaking_news\":\"[{\\\"id\\\":\\\"hamny-20220622154507993\\\",\\\"title\\\":\\\"질병청, 원숭이두창 국내 첫 확진자 발생 확인..고위험 접촉자 없어\\\",\\\"url\\\":\\\"https://v.daum.net/v/20220622154507993\\\"},{\\\"id\\\":\\\"hamny-20220622154736141\\\",\\\"title\\\":\\\"\\\\\\\"유럽, 원숭이두창 빈발..검역관리지역 지정 검토\\\\\\\"\\\",\\\"url\\\":\\\"https://v.daum.net/v/20220622154736141\\\"},{\\\"id\\\":\\\"hamny-20220622154352904\\\",\\\"title\\\":\\\"코스피, 2.74% 하락 2342.81 마감..코스닥 4.03%↓\\\",\\\"url\\\":\\\"https://v.daum.net/v/20220622154352904\\\"},{\\\"id\\\":\\\"hamny-20220622154235842\\\",\\\"title\\\":\\\"질병청 \\\\\\\"원숭이두창 첫 확진자 30대, 성별·나이 공개 금지\\\\\\\"\\\",\\\"url\\\":\\\"https://v.daum.net/v/20220622154235842\\\"}]\"},\"teslas\":{\"p_news_img_1\":[{\"id\":\"hamny-20220622134701572\",\"title\":\"'성상납 증거인멸 의혹' 이준석 \\\"윤리위 출석 요청했지만 거절당해\\\" [뉴시스Pic]\",\"label\":null,\"url\":\"https://v.daum.net/v/20220622134701572\",\"icon\":\"TEXT\",\"imageUrl\":\"https://t1.daumcdn.net/news/202206/22/newsis/20220622134701678cxal.jpg\",\"source\":\"뉴시스\",\"position\":0,\"meta\":{\"impressionId\":\"toros_cloud_alpha\",\"contentUniqueKey\":\"hamny-20220622134701572\",\"mediaName\":\"뉴시스\",\"torosRanking\":1,\"torosScore\":0.0889622419,\"poolCode\":\"p_news_img\",\"feedId\":11,\"feedName\":\"하모니\",\"clusterTitle\":\"\"}},{\"id\":\"hamny-20220622142602095\",\"title\":\"하늘서 본 흑해 빨간불..\\\"우크라軍 반격에 가스전 폭발\\\"[포착]\",\"label\":null,\"url\":\"https://v.daum.net/v/20220622142602095\",\"icon\":\"TEXT\",\"imageUrl\":\"https://t1.daumcdn.net/news/202206/22/seoul/20220622142604003xsjd.jpg\",\"source\":\"서울신문\",\"position\":0,\"meta\":{\"impressionId\":\"toros_cloud_alpha\",\"contentUniqueKey\":\"hamny-20220622142602095\",\"mediaName\":\"서울신문\",\"torosRanking\":2,\"torosScore\":0.043158125,\"poolCode\":\"p_news_img\",\"feedId\":11,\"feedName\":\"하모니\",\"clusterTitle\":\"서울신문 나우뉴스\"}}],\"p_news_investigative_1\":[{\"id\":\"hamny-20220622094351208\",\"title\":\"모든 기업이 '개발자 사관학교'로 변신해야\",\"label\":null,\"url\":\"https://v.daum.net/v/20220622094351208\",\"icon\":\"TEXT\",\"imageUrl\":\"https://t1.daumcdn.net/news/202206/22/ZDNetKorea/20220622094354182fgst.jpg\",\"source\":\"지디넷코리아\",\"position\":0,\"meta\":{\"impressionId\":\"tromm\",\"contentUniqueKey\":\"hamny-20220622094351208\",\"mediaName\":\"지디넷코리아\",\"torosRanking\":0,\"torosScore\":0.0,\"poolCode\":\"p_news_investigative\",\"feedId\":11,\"feedName\":\"하모니\",\"clusterTitle\":\"\"}},{\"id\":\"hamny-20220622101101428\",\"title\":\"尹정부도 \\\"온실가스 40% 감축\\\"..원전+재생 조합에 달렸다\",\"label\":null,\"url\":\"https://v.daum.net/v/20220622101101428\",\"icon\":\"TEXT\",\"imageUrl\":\"https://t1.daumcdn.net/news/202206/22/moneytoday/20220622114349295skkz.jpg\",\"source\":\"머니투데이\",\"position\":0,\"meta\":{\"impressionId\":\"tromm\",\"contentUniqueKey\":\"hamny-20220622101101428\",\"mediaName\":\"머니투데이\",\"torosRanking\":0,\"torosScore\":0.0,\"poolCode\":\"p_news_investigative\",\"feedId\":11,\"feedName\":\"하모니\",\"clusterTitle\":\"\"}}],\"p_news_auto_txt_1\":[{\"id\":\"hamny-20220622143115368\",\"title\":\"원전 보며 질문 스무개 쏟아낸 尹..文 탈원전에 \\\"바보같은 짓\\\"\",\"label\":null,\"url\":\"https://v.daum.net/v/20220622143115368\",\"icon\":\"TEXT\",\"imageUrl\":\"https://t1.daumcdn.net/news/202206/22/joongang/20220622143116968gvjp.jpg\",\"source\":\"중앙일보\",\"position\":0,\"meta\":{\"impressionId\":\"toros_cloud_alpha\",\"contentUniqueKey\":\"hamny-20220622143115368\",\"mediaName\":\"중앙일보\",\"torosRanking\":3,\"torosScore\":0.0198445164,\"poolCode\":\"p_news_auto_txt\",\"feedId\":11,\"feedName\":\"하모니\",\"clusterTitle\":\"\"}},{\"id\":\"hamny-20220622121359262\",\"title\":\"러시아 원유 더 사들인 中·인도..\\\"아시아가 러시아 구했다\\\"\",\"label\":null,\"url\":\"https://v.daum.net/v/20220622121359262\",\"icon\":\"TEXT\",\"imageUrl\":\"https://t1.daumcdn.net/news/202206/22/yonhap/20220622121359750dtwu.jpg\",\"source\":\"연합뉴스\",\"position\":0,\"meta\":{\"impressionId\":\"toros_cloud_alpha\",\"contentUniqueKey\":\"hamny-20220622121359262\",\"mediaName\":\"연합뉴스\",\"torosRanking\":20,\"torosScore\":0.0074259322,\"poolCode\":\"p_news_auto_txt\",\"feedId\":11,\"feedName\":\"하모니\",\"clusterTitle\":\"\"}},{\"id\":\"hamny-20220622143956784\",\"title\":\"예상보다 더 커진 GTX 판..중심지·거리 빼고 연계 기준 넣었다\",\"label\":null,\"url\":\"https://v.daum.net/v/20220622143956784\",\"icon\":\"TEXT\",\"imageUrl\":\"https://t1.daumcdn.net/news/202206/22/moneytoday/20220622144951581rsun.jpg\",\"source\":\"머니투데이\",\"position\":0,\"meta\":{\"impressionId\":\"toros_cloud_alpha\",\"contentUniqueKey\":\"hamny-20220622143956784\",\"mediaName\":\"머니투데이\",\"torosRanking\":2,\"torosScore\":0.0821998709,\"poolCode\":\"p_news_auto_txt\",\"feedId\":11,\"feedName\":\"하모니\",\"clusterTitle\":\"\"}},{\"id\":\"hamny-20220622152821060\",\"title\":\"내일부터 전국 장마 시작..수도권 등 강수량 최대 100mm\",\"label\":null,\"url\":\"https://v.daum.net/v/20220622152821060\",\"icon\":\"TEXT\",\"imageUrl\":\"https://t1.daumcdn.net/news/202206/22/newsis/20220622152822009ybcc.jpg\",\"source\":\"뉴시스\",\"position\":0,\"meta\":{\"impressionId\":\"toros_cloud_alpha\",\"contentUniqueKey\":\"hamny-20220622152821060\",\"mediaName\":\"뉴시스\",\"torosRanking\":10,\"torosScore\":0.0128008671,\"poolCode\":\"p_news_auto_txt\",\"feedId\":11,\"feedName\":\"하모니\",\"clusterTitle\":\"\"}},{\"id\":\"hamny-20220622144638131\",\"title\":\"\\\"결국 물렸네요\\\" 무상증자 호재? 연일 급락에 개미들 '울상'\",\"label\":null,\"url\":\"https://v.daum.net/v/20220622144638131\",\"icon\":\"TEXT\",\"imageUrl\":\"https://t1.daumcdn.net/news/202206/22/akn/20220622144640360yqnk.jpg\",\"source\":\"아시아경제\",\"position\":0,\"meta\":{\"impressionId\":\"toros_cloud_alpha\",\"contentUniqueKey\":\"hamny-20220622144638131\",\"mediaName\":\"아시아경제\",\"torosRanking\":14,\"torosScore\":0.0107868047,\"poolCode\":\"p_news_auto_txt\",\"feedId\":11,\"feedName\":\"하모니\",\"clusterTitle\":\"\"}},{\"id\":\"hamny-20220622151016209\",\"title\":\"전세 끼고 산 주택, '5%룰' 지켜도 상생임대인 아니다\",\"label\":null,\"url\":\"https://v.daum.net/v/20220622151016209\",\"icon\":\"TEXT\",\"imageUrl\":\"https://t1.daumcdn.net/news/202206/22/moneytoday/20220622151017439gqvy.jpg\",\"source\":\"머니투데이\",\"position\":0,\"meta\":{\"impressionId\":\"toros_cloud_alpha\",\"contentUniqueKey\":\"hamny-20220622151016209\",\"mediaName\":\"머니투데이\",\"torosRanking\":9,\"torosScore\":0.0135423613,\"poolCode\":\"p_news_auto_txt\",\"feedId\":11,\"feedName\":\"하모니\",\"clusterTitle\":\"\"}},{\"id\":\"hamny-20220622153730565\",\"title\":\"김건희, 尹 나토 순방 동행..대통령실 \\\"배우자 세션 가급적 참여\\\"\",\"label\":null,\"url\":\"https://v.daum.net/v/20220622153730565\",\"icon\":\"TEXT\",\"imageUrl\":\"https://t1.daumcdn.net/news/202206/22/newsis/20220622153730304sixa.jpg\",\"source\":\"뉴시스\",\"position\":0,\"meta\":{\"impressionId\":\"toros_cloud_alpha\",\"contentUniqueKey\":\"hamny-20220622153730565\",\"mediaName\":\"뉴시스\",\"torosRanking\":12,\"torosScore\":0.0118209888,\"poolCode\":\"p_news_auto_txt\",\"feedId\":11,\"feedName\":\"하모니\",\"clusterTitle\":\"\"}},{\"id\":\"hamny-20220622150102813\",\"title\":\"\\\"일본은 이제 극빈사회가 된다..인재 유출, 기반시설 붕괴\\\"..日전문가 진단\",\"label\":null,\"url\":\"https://v.daum.net/v/20220622150102813\",\"icon\":\"TEXT\",\"imageUrl\":\"https://t1.daumcdn.net/news/202206/22/seoul/20220622150103482nvwu.jpg\",\"source\":\"서울신문\",\"position\":0,\"meta\":{\"impressionId\":\"toros_cloud_alpha\",\"contentUniqueKey\":\"hamny-20220622150102813\",\"mediaName\":\"서울신문\",\"torosRanking\":22,\"torosScore\":0.0073583019,\"poolCode\":\"p_news_auto_txt\",\"feedId\":11,\"feedName\":\"하모니\",\"clusterTitle\":\"\"}},{\"id\":\"hamny-20220622152058712\",\"title\":\"길 물은 이민자, 의식 잃을 때까지 맞았다..英, 증오범죄에 '술렁'[영상]\",\"label\":null,\"url\":\"https://v.daum.net/v/20220622152058712\",\"icon\":\"TEXT\",\"imageUrl\":\"https://t1.daumcdn.net/news/202206/22/moneytoday/20220622153828393kfcm.jpg\",\"source\":\"머니투데이\",\"position\":0,\"meta\":{\"impressionId\":\"toros_cloud_alpha\",\"contentUniqueKey\":\"hamny-20220622152058712\",\"mediaName\":\"머니투데이\",\"torosRanking\":21,\"torosScore\":0.0074036772,\"poolCode\":\"p_news_auto_txt\",\"feedId\":11,\"feedName\":\"하모니\",\"clusterTitle\":\"\"}},{\"id\":\"hamny-20220622154053743\",\"title\":\"포항서 60대 여성, 자신의 집에 불지르고 대피하는 주민에 위협 행동까지\",\"label\":null,\"url\":\"https://v.daum.net/v/20220622154053743\",\"icon\":\"TEXT\",\"imageUrl\":\"https://t1.daumcdn.net/news/202206/22/THEFACT/20220622154054760lsil.jpg\",\"source\":\"더팩트\",\"position\":0,\"meta\":{\"impressionId\":\"toros_cloud_alpha\",\"contentUniqueKey\":\"hamny-20220622154053743\",\"mediaName\":\"더팩트\",\"torosRanking\":8,\"torosScore\":0.0146297929,\"poolCode\":\"p_news_auto_txt\",\"feedId\":11,\"feedName\":\"하모니\",\"clusterTitle\":\"\"}},{\"id\":\"hamny-20220622154833189\",\"title\":\"이재명 보좌진에 김현지 합류..최측근 경기·성남 라인업 포진\",\"label\":null,\"url\":\"https://v.daum.net/v/20220622154833189\",\"icon\":\"TEXT\",\"imageUrl\":\"https://t1.daumcdn.net/news/202206/22/yonhap/20220622154833871yvrj.jpg\",\"source\":\"연합뉴스\",\"position\":0,\"meta\":{\"impressionId\":\"toros_cloud_alpha\",\"contentUniqueKey\":\"hamny-20220622154833189\",\"mediaName\":\"연합뉴스\",\"torosRanking\":27,\"torosScore\":0.0068598464,\"poolCode\":\"p_news_auto_txt\",\"feedId\":11,\"feedName\":\"하모니\",\"clusterTitle\":\"\"}},{\"id\":\"hamny-20220622153106212\",\"title\":\"6차 긴급고용안정지원금 지급한다\",\"label\":null,\"url\":\"https://v.daum.net/v/20220622153106212\",\"icon\":\"TEXT\",\"imageUrl\":\"https://t1.daumcdn.net/news/202206/22/seoul/20220622153107058bmys.jpg\",\"source\":\"서울신문\",\"position\":0,\"meta\":{\"impressionId\":\"toros_cloud_alpha\",\"contentUniqueKey\":\"hamny-20220622153106212\",\"mediaName\":\"서울신문\",\"torosRanking\":26,\"torosScore\":0.0069200994,\"poolCode\":\"p_news_auto_txt\",\"feedId\":11,\"feedName\":\"하모니\",\"clusterTitle\":\"\"}},{\"id\":\"hamny-20220622154150798\",\"title\":\"바다에서 보는 부산 마천루..\\\"인생사진 남겨야지\\\"\",\"label\":null,\"url\":\"https://v.daum.net/v/20220622154150798\",\"icon\":\"TEXT\",\"imageUrl\":\"https://t1.daumcdn.net/news/202206/22/akn/20220622154151897wtjm.jpg\",\"source\":\"아시아경제\",\"position\":0,\"meta\":{\"impressionId\":\"toros_cloud_alpha\",\"contentUniqueKey\":\"hamny-20220622154150798\",\"mediaName\":\"아시아경제\",\"torosRanking\":25,\"torosScore\":0.0070365732,\"poolCode\":\"p_news_auto_txt\",\"feedId\":11,\"feedName\":\"하모니\",\"clusterTitle\":\"\"}},{\"id\":\"hamny-20220622121200214\",\"title\":\"\\\"이렇게 아름다운 문자 없다\\\" 서예에 빠진 이집트 디자이너\",\"label\":null,\"url\":\"https://v.daum.net/v/20220622121200214\",\"icon\":\"TEXT\",\"imageUrl\":\"https://t1.daumcdn.net/news/202206/22/ohmynews/20220622121201710llap.jpg\",\"source\":\"오마이뉴스\",\"position\":0,\"meta\":{\"impressionId\":\"toros_cloud_alpha\",\"contentUniqueKey\":\"hamny-20220622121200214\",\"mediaName\":\"오마이뉴스\",\"torosRanking\":30,\"torosScore\":0.0066676308,\"poolCode\":\"p_news_auto_txt\",\"feedId\":11,\"feedName\":\"하모니\",\"clusterTitle\":\"\"}},{\"id\":\"hamny-20220622154603064\",\"title\":\"尹, 한국 대통령 최초 나토 정상회의 참석..\\\"김건희 여사도 동행할 듯\\\"\",\"label\":null,\"url\":\"https://v.daum.net/v/20220622154603064\",\"icon\":\"TEXT\",\"imageUrl\":\"https://t1.daumcdn.net/news/202206/22/seoul/20220622154603578fwwm.jpg\",\"source\":\"서울신문\",\"position\":0,\"meta\":{\"impressionId\":\"toros_cloud_alpha\",\"contentUniqueKey\":\"hamny-20220622154603064\",\"mediaName\":\"서울신문\",\"torosRanking\":29,\"torosScore\":0.0068456893,\"poolCode\":\"p_news_auto_txt\",\"feedId\":11,\"feedName\":\"하모니\",\"clusterTitle\":\"\"}}],\"p_news_leverage_1\":[{\"id\":\"hamny-EjIthdjMPD\",\"title\":\"푸조 408 공개, 잘생기고 매력적인 패스트백 스타일\",\"label\":null,\"url\":\"https://auto.v.daum.net/v/EjIthdjMPD\",\"icon\":\"TEXT\",\"imageUrl\":\"https://t1.daumcdn.net/news/202206/22/TOP-RIDER/20220622155002049fwvy.jpg\",\"source\":\"탑라이더\",\"position\":0,\"meta\":{\"impressionId\":\"tromm\",\"contentUniqueKey\":\"hamny-EjIthdjMPD\",\"mediaName\":\"탑라이더\",\"torosRanking\":0,\"torosScore\":0.0,\"poolCode\":\"p_news_leverage\",\"feedId\":11,\"feedName\":\"하모니\",\"clusterTitle\":\"\"}},{\"id\":\"tv-337459312\",\"title\":\"[선공개] 'WSG워너비'와 '숏박스'의 히로인! 상큼 보이스 엄지윤의 애절 보이스 도전기!, MBC 220622 방송\",\"label\":null,\"url\":\"https://newslink.media.daum.net/v/429812353\",\"icon\":\"VIDEO\",\"imageUrl\":\"https://thumb.kakaocdn.net/dna/kamp/source/rvugd12ajm8i70fm1cjtwntlw/thumbs/thumb.jpg?credential=TuMuFGKUIcirOSjFzOpncbomGFEIdZWK&expires=33212788661&signature=hoJyd848hDjP%2FltXB6mn5bx%2BTsE%3D\",\"source\":\"라디오스타\",\"position\":0,\"meta\":{\"impressionId\":\"tromm\",\"contentUniqueKey\":\"tv-337459312\",\"mediaName\":\"라디오스타\",\"torosRanking\":0,\"torosScore\":0.0,\"poolCode\":\"p_news_leverage\",\"feedId\":22,\"feedName\":\"카카오TV\",\"clusterTitle\":\"\"}}]},\"cabinets\":null,\"board\":false},{\"code\":2373,\"type\":\"PC_MEDIA_NEWS2\",\"items\":{\"op\":{\"tab\":\"news2\",\"title\":\"뉴스\",\"url\":\"https://news.daum.net/\"},\"issue\":{\"title\":\"'코로나19' 현황\",\"isSpecial\":\"false\",\"url\":\"https://news.daum.net/covid19\",\"iconType\":\"ISSUE2\",\"status\":\"on\"},\"footLinkLeft\":{\"foot1\":\"{\\\"title\\\":\\\"포토\\\",\\\"url\\\":\\\"https://news.daum.net/photo/\\\",\\\"tiaraTag\\\":\\\"photo\\\"}\",\"foot0\":\"{\\\"title\\\":\\\"연재\\\",\\\"url\\\":\\\"https://news.daum.net/series/\\\",\\\"tiaraTag\\\":\\\"series\\\"}\",\"foot3\":\"{\\\"title\\\":\\\"\\\",\\\"url\\\":\\\"\\\",\\\"tiaraTag\\\":\\\"\\\"}\",\"footer\":\"{\\\"title\\\":\\\"뉴스홈\\\",\\\"url\\\":\\\"https://news.daum.net/\\\"}\",\"foot2\":\"{\\\"title\\\":\\\"팩트체크\\\",\\\"url\\\":\\\"https://focus.daum.net/ch/news/factcheck\\\",\\\"tiaraTag\\\":\\\"factcheck\\\"}\",\"foot4\":\"{\\\"title\\\":\\\"\\\",\\\"url\\\":\\\"\\\",\\\"tiaraTag\\\":\\\"\\\"}\",\"status\":\"on\"},\"footLinkRight\":{\"foot1\":\"{\\\"title\\\":\\\"환율\\\",\\\"url\\\":\\\"https://search.daum.net/search?w=tot&q=환율&DA=TMZ\\\",\\\"tiaraTag\\\":\\\"exchange\\\"}\",\"foot0\":\"{\\\"title\\\":\\\"코스피\\\",\\\"url\\\":\\\"https://search.daum.net/search?w=tot&q=증시&DA=TMZ\\\",\\\"tiaraTag\\\":\\\"stock\\\"}\",\"foot3\":\"{\\\"title\\\":\\\"TV편성\\\",\\\"url\\\":\\\"https://search.daum.net/search?w=tot&q=편성표&DA=TMZ\\\",\\\"tiaraTag\\\":\\\"tv\\\"}\",\"foot2\":\"{\\\"title\\\":\\\"오늘의운세\\\",\\\"url\\\":\\\"https://search.daum.net/search?w=tot&q=운세&DA=TMZ\\\",\\\"tiaraTag\\\":\\\"fortune\\\"}\",\"status\":\"on\"},\"specialLink\":{\"displayType\":\"specialLink\",\"title\":\"'코로나19' 현황\",\"url\":\"https://news.daum.net/covid19\",\"iconType\":\"ISSUE\",\"status\":\"off\"}},\"feeds\":{},\"teslas\":{\"p_news_fact_1\":[{\"id\":\"hamny-20220621105009459\",\"title\":\"서해 공무원 피살 당시 '월북'은 큰 쟁점 아니었다?[팩트체크]\",\"label\":null,\"url\":\"https://v.daum.net/v/20220621105009459\",\"icon\":\"VIDEO\",\"imageUrl\":\"https://t1.daumcdn.net/news/202206/21/yonhap/20220621105009498btot.jpg\",\"source\":\"연합뉴스\",\"position\":0,\"meta\":{\"impressionId\":\"tromm\",\"contentUniqueKey\":\"hamny-20220621105009459\",\"mediaName\":\"연합뉴스\",\"torosRanking\":0,\"torosScore\":0.0,\"poolCode\":\"p_news_fact\",\"feedId\":11,\"feedName\":\"하모니\",\"clusterTitle\":\"팩트체크\"}},{\"id\":\"hamny-20220621093001983\",\"title\":\"\\\"이전 대통령들, 백화점 공개 쇼핑 안 해\\\" 김어준 발언 '대체로 사실' [오마이팩트]\",\"label\":null,\"url\":\"https://v.daum.net/v/20220621093001983\",\"icon\":\"TEXT\",\"imageUrl\":\"https://t1.daumcdn.net/news/202206/21/ohmynews/20220621093004335qhiz.jpg\",\"source\":\"오마이뉴스\",\"position\":0,\"meta\":{\"impressionId\":\"tromm\",\"contentUniqueKey\":\"hamny-20220621093001983\",\"mediaName\":\"오마이뉴스\",\"torosRanking\":0,\"torosScore\":0.0,\"poolCode\":\"p_news_fact\",\"feedId\":11,\"feedName\":\"하모니\",\"clusterTitle\":\"오마이팩트\"}}],\"p_news_img_1\":[{\"id\":\"hamny-20220622140726411\",\"title\":\"'집단폭행' FC서울 팬 엄마 격분 \\\"뻔뻔한 거짓말 '피꺼솟'\\\"\",\"label\":null,\"url\":\"https://v.daum.net/v/20220622140726411\",\"icon\":\"TEXT\",\"imageUrl\":\"https://t1.daumcdn.net/news/202206/22/ned/20220622140729635fdud.jpg\",\"source\":\"헤럴드경제\",\"position\":0,\"meta\":{\"impressionId\":\"toros_cloud_alpha\",\"contentUniqueKey\":\"hamny-20220622140726411\",\"mediaName\":\"헤럴드경제\",\"torosRanking\":9,\"torosScore\":0.0354636164,\"poolCode\":\"p_news_img\",\"feedId\":11,\"feedName\":\"하모니\",\"clusterTitle\":\"\"}},{\"id\":\"hamny-20220622115433608\",\"title\":\"우상호, '정치보복수사' 대응기구 발족에 \\\"직접 지휘할 것\\\" [TF사진관]\",\"label\":null,\"url\":\"https://v.daum.net/v/20220622115433608\",\"icon\":\"TEXT\",\"imageUrl\":\"https://t1.daumcdn.net/news/202206/22/THEFACT/20220622115436898pxke.jpg\",\"source\":\"더팩트\",\"position\":0,\"meta\":{\"impressionId\":\"toros_cloud_alpha\",\"contentUniqueKey\":\"hamny-20220622115433608\",\"mediaName\":\"더팩트\",\"torosRanking\":17,\"torosScore\":0.0206483166,\"poolCode\":\"p_news_img\",\"feedId\":11,\"feedName\":\"하모니\",\"clusterTitle\":\"\"}}],\"p_news_auto_txt_1\":[{\"id\":\"hamny-20220622151109251\",\"title\":\"강기정 광주시장 당선인, 대통령실에 군 공항 이전 등 지원 요청\",\"label\":null,\"url\":\"https://v.daum.net/v/20220622151109251\",\"icon\":\"TEXT\",\"imageUrl\":\"https://t1.daumcdn.net/news/202206/22/yonhap/20220622151109341xodc.jpg\",\"source\":\"연합뉴스\",\"position\":0,\"meta\":{\"impressionId\":\"toros_cloud_alpha\",\"contentUniqueKey\":\"hamny-20220622151109251\",\"mediaName\":\"연합뉴스\",\"torosRanking\":33,\"torosScore\":0.0061756504,\"poolCode\":\"p_news_auto_txt\",\"feedId\":11,\"feedName\":\"하모니\",\"clusterTitle\":\"\"}},{\"id\":\"hamny-20220622120206975\",\"title\":\"둔촌주공 평당 3700만원까지↑..분상제 개편에 분양 물량 늘어날까\",\"label\":null,\"url\":\"https://v.daum.net/v/20220622120206975\",\"icon\":\"TEXT\",\"imageUrl\":\"https://t1.daumcdn.net/news/202206/22/NEWS1/20220622120211010ovoj.jpg\",\"source\":\"뉴스1\",\"position\":0,\"meta\":{\"impressionId\":\"toros_cloud_alpha\",\"contentUniqueKey\":\"hamny-20220622120206975\",\"mediaName\":\"뉴스1\",\"torosRanking\":32,\"torosScore\":0.0063280788,\"poolCode\":\"p_news_auto_txt\",\"feedId\":11,\"feedName\":\"하모니\",\"clusterTitle\":\"\"}},{\"id\":\"hamny-20220622122215490\",\"title\":\"증상 숨긴 원숭이두창 의심자, 열 없다고 통과..공항 검역 논란\",\"label\":null,\"url\":\"https://v.daum.net/v/20220622122215490\",\"icon\":\"TEXT\",\"imageUrl\":\"https://t1.daumcdn.net/news/202206/22/joongang/20220622122216483djoh.jpg\",\"source\":\"중앙일보\",\"position\":0,\"meta\":{\"impressionId\":\"toros_cloud_alpha\",\"contentUniqueKey\":\"hamny-20220622122215490\",\"mediaName\":\"중앙일보\",\"torosRanking\":34,\"torosScore\":0.0061401505,\"poolCode\":\"p_news_auto_txt\",\"feedId\":11,\"feedName\":\"하모니\",\"clusterTitle\":\"\"}},{\"id\":\"hamny-20220622143342487\",\"title\":\"SNS로 만난 우크라軍 남친에..3천만원 보냈다가 벌어진 일\",\"label\":null,\"url\":\"https://v.daum.net/v/20220622143342487\",\"icon\":\"TEXT\",\"imageUrl\":\"https://t1.daumcdn.net/news/202206/22/moneytoday/20220622145524519dyzb.jpg\",\"source\":\"머니투데이\",\"position\":0,\"meta\":{\"impressionId\":\"toros_cloud_alpha\",\"contentUniqueKey\":\"hamny-20220622143342487\",\"mediaName\":\"머니투데이\",\"torosRanking\":35,\"torosScore\":0.0061239587,\"poolCode\":\"p_news_auto_txt\",\"feedId\":11,\"feedName\":\"하모니\",\"clusterTitle\":\"\"}},{\"id\":\"hamny-20220622085928504\",\"title\":\"중년의 뱃살 빼는데 좋은 식습관, 그리고 식품 10\",\"label\":null,\"url\":\"https://v.daum.net/v/20220622085928504\",\"icon\":\"TEXT\",\"imageUrl\":\"https://t1.daumcdn.net/news/202206/22/KorMedi/20220622085934856kzmq.jpg\",\"source\":\"코메디닷컴\",\"position\":0,\"meta\":{\"impressionId\":\"toros_cloud_alpha\",\"contentUniqueKey\":\"hamny-20220622085928504\",\"mediaName\":\"코메디닷컴\",\"torosRanking\":31,\"torosScore\":0.0065999982,\"poolCode\":\"p_news_auto_txt\",\"feedId\":11,\"feedName\":\"하모니\",\"clusterTitle\":\"\"}},{\"id\":\"hamny-20220622151047233\",\"title\":\"'최강욱 저격' 박지현, 경찰 고발됐다.. 명예훼손·무고 혐의\",\"label\":null,\"url\":\"https://v.daum.net/v/20220622151047233\",\"icon\":\"TEXT\",\"imageUrl\":\"https://t1.daumcdn.net/news/202206/22/Edaily/20220622151052113wlra.jpg\",\"source\":\"이데일리\",\"position\":0,\"meta\":{\"impressionId\":\"toros_cloud_alpha\",\"contentUniqueKey\":\"hamny-20220622151047233\",\"mediaName\":\"이데일리\",\"torosRanking\":37,\"torosScore\":0.0058785153,\"poolCode\":\"p_news_auto_txt\",\"feedId\":11,\"feedName\":\"하모니\",\"clusterTitle\":\"\"}},{\"id\":\"hamny-20220622150214865\",\"title\":\"5·18 도청 앞 집단발포 직전 계엄군 사진 공개\",\"label\":null,\"url\":\"https://v.daum.net/v/20220622150214865\",\"icon\":\"TEXT\",\"imageUrl\":\"https://t1.daumcdn.net/news/202206/22/yonhap/20220622150214116gfke.jpg\",\"source\":\"연합뉴스\",\"position\":0,\"meta\":{\"impressionId\":\"toros_cloud_alpha\",\"contentUniqueKey\":\"hamny-20220622150214865\",\"mediaName\":\"연합뉴스\",\"torosRanking\":36,\"torosScore\":0.0059487179,\"poolCode\":\"p_news_auto_txt\",\"feedId\":11,\"feedName\":\"하모니\",\"clusterTitle\":\"\"}},{\"id\":\"hamny-20220622154712127\",\"title\":\"원숭이두창 국내 첫 확진자 발생..잠복기 최대 3주·치명율은 3~6%\",\"label\":null,\"url\":\"https://v.daum.net/v/20220622154712127\",\"icon\":\"TEXT\",\"imageUrl\":\"https://t1.daumcdn.net/news/202206/22/ned/20220622154714977rgym.jpg\",\"source\":\"헤럴드경제\",\"position\":0,\"meta\":{\"impressionId\":\"toros_cloud_alpha\",\"contentUniqueKey\":\"hamny-20220622154712127\",\"mediaName\":\"헤럴드경제\",\"torosRanking\":40,\"torosScore\":0.0057125047,\"poolCode\":\"p_news_auto_txt\",\"feedId\":11,\"feedName\":\"하모니\",\"clusterTitle\":\"\"}},{\"id\":\"hamny-20220622154506990\",\"title\":\"둔촌주공 25평형 분양가 8억8750만원→9억75만원..중도금 대출 막힐 수도\",\"label\":null,\"url\":\"https://v.daum.net/v/20220622154506990\",\"icon\":\"TEXT\",\"imageUrl\":\"https://t1.daumcdn.net/news/202206/22/mk/20220622154508128aceh.jpg\",\"source\":\"매일경제\",\"position\":0,\"meta\":{\"impressionId\":\"toros_cloud_alpha\",\"contentUniqueKey\":\"hamny-20220622154506990\",\"mediaName\":\"매일경제\",\"torosRanking\":39,\"torosScore\":0.0057884044,\"poolCode\":\"p_news_auto_txt\",\"feedId\":11,\"feedName\":\"하모니\",\"clusterTitle\":\"\"}},{\"id\":\"hamny-20220622152628944\",\"title\":\"계성고 학생들이 '평화의 소녀상' 세운 글렌데일시 시장을 만난 까닭\",\"label\":null,\"url\":\"https://v.daum.net/v/20220622152628944\",\"icon\":\"TEXT\",\"imageUrl\":\"https://t1.daumcdn.net/news/202206/22/khan/20220622152629425nxfd.jpg\",\"source\":\"경향신문\",\"position\":0,\"meta\":{\"impressionId\":\"toros_cloud_alpha\",\"contentUniqueKey\":\"hamny-20220622152628944\",\"mediaName\":\"경향신문\",\"torosRanking\":42,\"torosScore\":0.005607129,\"poolCode\":\"p_news_auto_txt\",\"feedId\":11,\"feedName\":\"하모니\",\"clusterTitle\":\"\"}},{\"id\":\"hamny-20220622154532032\",\"title\":\"내년 빚 못 갚는 자영업자 속출..한은 '금리 인상發 위기'에 \\\"빚부터 갚아라\\\"(종합..\",\"label\":null,\"url\":\"https://v.daum.net/v/20220622154532032\",\"icon\":\"TEXT\",\"imageUrl\":\"https://t1.daumcdn.net/news/202206/22/Edaily/20220622154535067hssw.jpg\",\"source\":\"이데일리\",\"position\":0,\"meta\":{\"impressionId\":\"toros_cloud_alpha\",\"contentUniqueKey\":\"hamny-20220622154532032\",\"mediaName\":\"이데일리\",\"torosRanking\":47,\"torosScore\":0.0055313171,\"poolCode\":\"p_news_auto_txt\",\"feedId\":11,\"feedName\":\"하모니\",\"clusterTitle\":\"\"}},{\"id\":\"hamny-20220622142403010\",\"title\":\"실명까지..당뇨병 환자 시력 떨어지는 이유\",\"label\":null,\"url\":\"https://v.daum.net/v/20220622142403010\",\"icon\":\"TEXT\",\"imageUrl\":\"https://t1.daumcdn.net/news/202206/22/KorMedi/20220622142410236xjdg.jpg\",\"source\":\"코메디닷컴\",\"position\":0,\"meta\":{\"impressionId\":\"toros_cloud_alpha\",\"contentUniqueKey\":\"hamny-20220622142403010\",\"mediaName\":\"코메디닷컴\",\"torosRanking\":44,\"torosScore\":0.0055650349,\"poolCode\":\"p_news_auto_txt\",\"feedId\":11,\"feedName\":\"하모니\",\"clusterTitle\":\"\"}},{\"id\":\"hamny-20220622154325875\",\"title\":\"이준석, 경고만 받아도 치명타?..징계별 시나리오 짚어보니\",\"label\":null,\"url\":\"https://v.daum.net/v/20220622154325875\",\"icon\":\"TEXT\",\"imageUrl\":\"https://t1.daumcdn.net/news/202206/22/NEWS1/20220622154327082jwsj.jpg\",\"source\":\"뉴스1\",\"position\":0,\"meta\":{\"impressionId\":\"toros_cloud_alpha\",\"contentUniqueKey\":\"hamny-20220622154325875\",\"mediaName\":\"뉴스1\",\"torosRanking\":57,\"torosScore\":0.0052551145,\"poolCode\":\"p_news_auto_txt\",\"feedId\":11,\"feedName\":\"하모니\",\"clusterTitle\":\"\"}},{\"id\":\"hamny-20220622153613500\",\"title\":\"행안부 경찰국 설치에..민주·정의당 \\\"행안부가 '경찰쥐락부'인가\\\" 맹공\",\"label\":null,\"url\":\"https://v.daum.net/v/20220622153613500\",\"icon\":\"TEXT\",\"imageUrl\":\"https://t1.daumcdn.net/news/202206/22/khan/20220622153956487fxgd.jpg\",\"source\":\"경향신문\",\"position\":0,\"meta\":{\"impressionId\":\"toros_cloud_alpha\",\"contentUniqueKey\":\"hamny-20220622153613500\",\"mediaName\":\"경향신문\",\"torosRanking\":48,\"torosScore\":0.0055184588,\"poolCode\":\"p_news_auto_txt\",\"feedId\":11,\"feedName\":\"하모니\",\"clusterTitle\":\"\"}},{\"id\":\"hamny-20220622140142185\",\"title\":\"尹 지지율 폭락해 긍정 47.6%, 부정 47.9%.. 첫 데드크로스 [알앤써치]\",\"label\":null,\"url\":\"https://v.daum.net/v/20220622140142185\",\"icon\":\"TEXT\",\"imageUrl\":\"https://t1.daumcdn.net/news/202206/22/segye/20220622140142590wdkt.jpg\",\"source\":\"세계일보\",\"position\":0,\"meta\":{\"impressionId\":\"toros_cloud_alpha\",\"contentUniqueKey\":\"hamny-20220622140142185\",\"mediaName\":\"세계일보\",\"torosRanking\":23,\"torosScore\":0.0072334247,\"poolCode\":\"p_news_auto_txt\",\"feedId\":11,\"feedName\":\"하모니\",\"clusterTitle\":\"\"}}],\"p_news_leverage_1\":[{\"id\":\"tv-337458904\",\"title\":\"'생애 첫 우승' 흔들림 없는 경기력으로 우승한 최가빈 [드림투어 6차전]\",\"label\":null,\"url\":\"https://newslink.media.daum.net/v/429811702\",\"icon\":\"VIDEO\",\"imageUrl\":\"https://thumb.kakaocdn.net/dna/kamp/source/rv6jkohk4bovcshdetef91ool/thumbs/thumb.jpg?credential=TuMuFGKUIcirOSjFzOpncbomGFEIdZWK&expires=33212786851&signature=m0vTolX9IZmZGEMHJT%2Fp%2F9vDN%2BQ%3D\",\"source\":\"KLPGA 드림·점프·챔피언스투어\",\"position\":0,\"meta\":{\"impressionId\":\"tromm\",\"contentUniqueKey\":\"tv-337458904\",\"mediaName\":\"KLPGA 드림·점프·챔피언스투어\",\"torosRanking\":0,\"torosScore\":0.0,\"poolCode\":\"p_news_leverage\",\"feedId\":22,\"feedName\":\"카카오TV\",\"clusterTitle\":\"\"}},{\"id\":\"tv-337451680\",\"title\":\"대식가 남매의 식습관 성형을 위해 달려온 '연예계 대표 소식가' 박소현! | KBS 220621 방송\",\"label\":null,\"url\":\"https://newslink.media.daum.net/v/429798876\",\"icon\":\"VIDEO\",\"imageUrl\":\"https://thumb.kakaocdn.net/dna/kamp/source/rv04s6cltixxv9qbow7q1p0u0/thumbs/thumb.jpg?credential=TuMuFGKUIcirOSjFzOpncbomGFEIdZWK&expires=33212732277&signature=UkYVdFRTAb9H2Bq9quN1mgfM%2BIM%3D&ts=1655823477\",\"source\":\"갓파더\",\"position\":0,\"meta\":{\"impressionId\":\"tromm\",\"contentUniqueKey\":\"tv-337451680\",\"mediaName\":\"갓파더\",\"torosRanking\":0,\"torosScore\":0.0,\"poolCode\":\"p_news_leverage\",\"feedId\":22,\"feedName\":\"카카오TV\",\"clusterTitle\":\"\"}}]},\"cabinets\":null,\"board\":false},{\"code\":2399,\"type\":\"PC_MEDIA_ENTER\",\"items\":{\"op\":{\"tab\":\"entertain\",\"title\":\"연예\",\"url\":\"https://entertain.daum.net/\"},\"left_thumbnail_op\":{\"imageUrl\":\"https://t1.daumcdn.net/section/oc/27ffdb3996d24edc9ee2b3fb7c4859f6\",\"label\":\"라벨\",\"title\":\"타이틀\",\"thumbnailType\":\"TESLA\",\"url\":\"https://www.daum.net\",\"status\":\"off\"},\"footLinkLeft\":{\"foot1\":\"{\\\"title\\\":\\\"TV영상\\\",\\\"url\\\":\\\"https://entertain.daum.net/tv\\\",\\\"tiaraTag\\\":\\\"tvnow\\\"}\",\"foot0\":\"{\\\"title\\\":\\\"많이 본 뉴스\\\",\\\"url\\\":\\\"https://entertain.daum.net/ranking/popular\\\",\\\"tiaraTag\\\":\\\"news\\\"}\",\"foot3\":\"{\\\"title\\\":\\\"투표\\\",\\\"url\\\":\\\"https://entertain.daum.net/poll\\\",\\\"tiaraTag\\\":\\\"poll\\\"}\",\"footer\":\"{\\\"title\\\":\\\"연예홈\\\",\\\"url\\\":\\\"https://entertain.daum.net/\\\"}\",\"foot2\":\"{\\\"title\\\":\\\"포토\\\",\\\"url\\\":\\\"https://entertain.daum.net/photo\\\",\\\"tiaraTag\\\":\\\"photo\\\"}\",\"foot4\":\"{\\\"title\\\":\\\"\\\",\\\"url\\\":\\\"\\\",\\\"tiaraTag\\\":\\\"\\\"}\",\"status\":\"on\"},\"footLinkRight\":{\"foot1\":\"{\\\"title\\\":\\\"요일별드라마\\\",\\\"url\\\":\\\"https://search.daum.net/search?w=tot&q=%EC%9A%94%EC%9D%BC%EB%B3%84%20%EB%93%9C%EB%9D%BC%EB%A7%88&DA=TMZ\\\",\\\"tiaraTag\\\":\\\"tvschedule\\\"}\",\"foot0\":\"{\\\"title\\\":\\\"시청률\\\",\\\"url\\\":\\\"https://search.daum.net/search?w=tot&q=%EC%8B%9C%EC%B2%AD%EB%A5%A0&DA=TMZ\\\",\\\"tiaraTag\\\":\\\"tvrating\\\"}\",\"foot2\":\"{\\\"title\\\":\\\"방금그곡\\\",\\\"url\\\":\\\"https://search.daum.net/search?w=tot&q=%EB%B0%A9%EA%B8%88%EA%B7%B8%EA%B3%A1&DA=TMZ\\\",\\\"tiaraTag\\\":\\\"nowsong\\\"}\",\"status\":\"on\"},\"specialLink\":{\"displayType\":\"hashText\",\"title\":\"#라이브 테스트\",\"url\":null,\"iconType\":\"LIVE\",\"status\":\"off\"}},\"feeds\":{},\"teslas\":{\"p_enter_img_1\":[{\"id\":\"tv-337451681\",\"title\":\"충격적인 '튼 살'.. 10개월 만에 20kg 이상 증가한 조나단!  KBS 220621 방송\",\"label\":null,\"url\":\"https://newslink.media.daum.net/v/429798877\",\"icon\":\"VIDEO\",\"imageUrl\":\"https://thumb.kakaocdn.net/dna/kamp/source/rv59tfu3ctw0npx20a16nc2no/thumbs/thumb.jpg?credential=TuMuFGKUIcirOSjFzOpncbomGFEIdZWK&expires=33212732277&signature=t1bQUVQtz96VmP9wLNCdYe9A1HU%3D&ts=1655823477\",\"source\":\"갓파더\",\"position\":0,\"meta\":{\"impressionId\":\"toros_cloud_alpha\",\"contentUniqueKey\":\"tv-337451681\",\"mediaName\":\"갓파더\",\"torosRanking\":1,\"torosScore\":0.0477762499,\"poolCode\":\"p_enter_img\",\"feedId\":22,\"feedName\":\"카카오TV\",\"clusterTitle\":\"\"}},{\"id\":\"tv-337447516\",\"title\":\"38회. [발리왔소유] 발리 가기 전에 빨리 봐야할 영상  인생샷 건지는 숙소, 핫한 비치클럽, 현지 맛집 그리고 소유의 여행 메이크업템까지  여행 VLOG in BALI\",\"label\":null,\"url\":\"https://newslink.media.daum.net/v/429791414\",\"icon\":\"VIDEO\",\"imageUrl\":\"http://t1.kakaocdn.net/kakaotv/ASSET/warhol_asset/vod_thumbnail/3fced1541e1a3e940895685d43b596fd58d3d9b7\",\"source\":\"소유기\",\"position\":0,\"meta\":{\"impressionId\":\"toros_cloud_alpha\",\"contentUniqueKey\":\"tv-337447516\",\"mediaName\":\"소유기\",\"torosRanking\":2,\"torosScore\":0.0472370533,\"poolCode\":\"p_enter_img\",\"feedId\":22,\"feedName\":\"카카오TV\",\"clusterTitle\":\"\"}},{\"id\":\"tv-337450610\",\"title\":\"일촉즉발! 궐을 떠난 박지연을 향해 조용히 활을 겨누는 하도권  KBS 220621 방송\",\"label\":null,\"url\":\"https://newslink.media.daum.net/v/429797005\",\"icon\":\"VIDEO\",\"imageUrl\":\"https://thumb.kakaocdn.net/dna/kamp/source/rvxh6ix824dn91xskke7qj2vj/thumbs/thumb.jpg?credential=TuMuFGKUIcirOSjFzOpncbomGFEIdZWK&expires=33212727237&signature=OMeHorXeZ93IbCt8GarZxEYw4l0%3D\",\"source\":\"붉은 단심\",\"position\":0,\"meta\":{\"impressionId\":\"toros_cloud_alpha\",\"contentUniqueKey\":\"tv-337450610\",\"mediaName\":\"붉은 단심\",\"torosRanking\":3,\"torosScore\":0.039191005,\"poolCode\":\"p_enter_img\",\"feedId\":22,\"feedName\":\"카카오TV\",\"clusterTitle\":\"\"}},{\"id\":\"tv-337451380\",\"title\":\"신동욱, 임수향과 보내는 행복한 첫날밤♥[해피엔딩]\",\"label\":null,\"url\":\"https://newslink.media.daum.net/v/429798334\",\"icon\":\"VIDEO\",\"imageUrl\":\"https://thumb.kakaocdn.net/dna/kamp/source/rv758yniykd3cdaty1pmc4k8i/thumbs/thumb.jpg?credential=TuMuFGKUIcirOSjFzOpncbomGFEIdZWK&expires=33212729986&signature=h8PLGEdviycht%2Feyt4ohTmbuNMA%3D\",\"source\":\"우리는 오늘부터\",\"position\":0,\"meta\":{\"impressionId\":\"toros_cloud_alpha\",\"contentUniqueKey\":\"tv-337451380\",\"mediaName\":\"우리는 오늘부터\",\"torosRanking\":4,\"torosScore\":0.0310555635,\"poolCode\":\"p_enter_img\",\"feedId\":22,\"feedName\":\"카카오TV\",\"clusterTitle\":\"\"}},{\"id\":\"tv-337452277\",\"title\":\"임원희, 게스트 신기루를 상대로 이길 수 있다고 호언장담!\",\"label\":null,\"url\":\"https://newslink.media.daum.net/v/429799925\",\"icon\":\"VIDEO\",\"imageUrl\":\"https://thumb.kakaocdn.net/dna/kamp/source/rvszeak6k4smy755kld7cidst/thumbs/thumb.jpg?credential=TuMuFGKUIcirOSjFzOpncbomGFEIdZWK&expires=33212734589&signature=mlTOpXzV9CkG%2BFNDKlA8kYyPaRs%3D&ts=1655825789\",\"source\":\"신발 벗고 돌싱포맨\",\"position\":0,\"meta\":{\"impressionId\":\"toros_cloud_alpha\",\"contentUniqueKey\":\"tv-337452277\",\"mediaName\":\"신발 벗고 돌싱포맨\",\"torosRanking\":5,\"torosScore\":0.0263910948,\"poolCode\":\"p_enter_img\",\"feedId\":22,\"feedName\":\"카카오TV\",\"clusterTitle\":\"\"}},{\"id\":\"tv-337448980\",\"title\":\"조미령이 한 거짓말을 다 알게 된 박해미\\\"모두 다 거짓말이라고!\\\"  KBS 220621 방송\",\"label\":null,\"url\":\"https://newslink.media.daum.net/v/429794052\",\"icon\":\"VIDEO\",\"imageUrl\":\"https://thumb.kakaocdn.net/dna/kamp/source/rvimmr8gqcysyuwl4hrd18wlw/thumbs/thumb.jpg?credential=TuMuFGKUIcirOSjFzOpncbomGFEIdZWK&expires=33212722361&signature=d8SzfggXiGBP3ur%2BI%2Bn5g9UYJX4%3D\",\"source\":\"으라차차 내 인생\",\"position\":0,\"meta\":{\"impressionId\":\"toros_cloud_alpha\",\"contentUniqueKey\":\"tv-337448980\",\"mediaName\":\"으라차차 내 인생\",\"torosRanking\":27,\"torosScore\":0.0147168804,\"poolCode\":\"p_enter_img\",\"feedId\":22,\"feedName\":\"카카오TV\",\"clusterTitle\":\"\"}},{\"id\":\"tv-337444115\",\"title\":\"\\\"우린 키스하면 안되나 봐..\\\" 윤시윤 ♥ 배다빈 석양 아래에서 로맨틱한 키스❤️  KBS 방송[＃핫클립​]\",\"label\":null,\"url\":\"https://newslink.media.daum.net/v/429785427\",\"icon\":\"VIDEO\",\"imageUrl\":\"https://thumb.kakaocdn.net/dna/kamp/source/rvwzmqwzqnf9o2v1825ytm6a0/thumbs/thumb.jpg?credential=TuMuFGKUIcirOSjFzOpncbomGFEIdZWK&expires=33212706178&signature=uo8Z9Ie3%2BfT5wKgmUkZlCp6Kuis%3D&ts=1655797378\",\"source\":\"현재는 아름다워\",\"position\":0,\"meta\":{\"impressionId\":\"toros_cloud_alpha\",\"contentUniqueKey\":\"tv-337444115\",\"mediaName\":\"현재는 아름다워\",\"torosRanking\":42,\"torosScore\":0.010564157,\"poolCode\":\"p_enter_img\",\"feedId\":22,\"feedName\":\"카카오TV\",\"clusterTitle\":\"\"}},{\"id\":\"tv-337452432\",\"title\":\"육아 만렙! 주은 맘의 '아기 목욕 꿀팁' 大 방출!  KBS 220621 방송\",\"label\":null,\"url\":\"https://newslink.media.daum.net/v/429800198\",\"icon\":\"VIDEO\",\"imageUrl\":\"https://thumb.kakaocdn.net/dna/kamp/source/rvzx24rfinmi7hkv2jphvwur3/thumbs/thumb.jpg?credential=TuMuFGKUIcirOSjFzOpncbomGFEIdZWK&expires=33212735623&signature=HYZ3XVOUtOBHhwQiVyLvIijbNeY%3D&ts=1655826823\",\"source\":\"갓파더\",\"position\":0,\"meta\":{\"impressionId\":\"toros_cloud_alpha\",\"contentUniqueKey\":\"tv-337452432\",\"mediaName\":\"갓파더\",\"torosRanking\":10,\"torosScore\":0.0232516195,\"poolCode\":\"p_enter_img\",\"feedId\":22,\"feedName\":\"카카오TV\",\"clusterTitle\":\"\"}}],\"p_enter_auto_txt_1\":[{\"id\":\"hamny-20220622155107307\",\"title\":\"'마녀는 살아있다' 이민영 \\\"김윤철 감독, 28년 만 재회..워맨스 기대\\\"\",\"label\":null,\"url\":\"https://v.daum.net/v/20220622155107307\",\"icon\":\"TEXT\",\"imageUrl\":\"https://t1.daumcdn.net/news/202206/22/startoday/20220622155109198ubfq.jpg\",\"source\":\"스타투데이\",\"position\":0,\"meta\":{\"impressionId\":\"toros_cloud_alpha\",\"contentUniqueKey\":\"hamny-20220622155107307\",\"mediaName\":\"스타투데이\",\"torosRanking\":1,\"torosScore\":0.1478600848,\"poolCode\":\"p_enter_auto_txt\",\"feedId\":11,\"feedName\":\"하모니\",\"clusterTitle\":\"\"}},{\"id\":\"hamny-20220622155023274\",\"title\":\"카드 제이셉 \\\"군 복무 마치고 합류, 집으로 돌아온 느낌\\\"\",\"label\":null,\"url\":\"https://v.daum.net/v/20220622155023274\",\"icon\":\"TEXT\",\"imageUrl\":\"https://t1.daumcdn.net/news/202206/22/ked/20220622155024961zzyu.jpg\",\"source\":\"한국경제\",\"position\":0,\"meta\":{\"impressionId\":\"toros_cloud_alpha\",\"contentUniqueKey\":\"hamny-20220622155023274\",\"mediaName\":\"한국경제\",\"torosRanking\":4,\"torosScore\":0.0431337986,\"poolCode\":\"p_enter_auto_txt\",\"feedId\":11,\"feedName\":\"하모니\",\"clusterTitle\":\"\"}},{\"id\":\"hamny-20220622132137791\",\"title\":\"김민수 \\\"매일 30분 쇼핑..전담 택배기사도 있을 정도\\\"(최파타)\",\"label\":null,\"url\":\"https://v.daum.net/v/20220622132137791\",\"icon\":\"TEXT\",\"imageUrl\":\"https://t1.daumcdn.net/news/202206/22/newsen/20220622132138011dzqq.jpg\",\"source\":\"뉴스엔\",\"position\":0,\"meta\":{\"impressionId\":\"toros_cloud_alpha\",\"contentUniqueKey\":\"hamny-20220622132137791\",\"mediaName\":\"뉴스엔\",\"torosRanking\":9,\"torosScore\":0.0108504316,\"poolCode\":\"p_enter_auto_txt\",\"feedId\":11,\"feedName\":\"하모니\",\"clusterTitle\":\"\"}},{\"id\":\"hamny-20220622135100700\",\"title\":\"'운동선수 방송출연' 부정적 시선에 박세리가 한 말\",\"label\":null,\"url\":\"https://v.daum.net/v/20220622135100700\",\"icon\":\"TEXT\",\"imageUrl\":\"https://t1.daumcdn.net/news/202206/22/ohmynews/20220622135106141jfyt.jpg\",\"source\":\"오마이뉴스\",\"position\":0,\"meta\":{\"impressionId\":\"toros_cloud_alpha\",\"contentUniqueKey\":\"hamny-20220622135100700\",\"mediaName\":\"오마이뉴스\",\"torosRanking\":6,\"torosScore\":0.0123381758,\"poolCode\":\"p_enter_auto_txt\",\"feedId\":11,\"feedName\":\"하모니\",\"clusterTitle\":\"오마이뉴스 TV리뷰\"}},{\"id\":\"hamny-20220622133232076\",\"title\":\"이용주 \\\"옷 잘 입는 이유? 파리 사는 母 옷 사서 보내줘\\\" '최파타'\",\"label\":null,\"url\":\"https://v.daum.net/v/20220622133232076\",\"icon\":\"TEXT\",\"imageUrl\":\"https://t1.daumcdn.net/news/202206/22/newsen/20220622133232726qdfu.jpg\",\"source\":\"뉴스엔\",\"position\":0,\"meta\":{\"impressionId\":\"toros_cloud_alpha\",\"contentUniqueKey\":\"hamny-20220622133232076\",\"mediaName\":\"뉴스엔\",\"torosRanking\":15,\"torosScore\":0.0074162141,\"poolCode\":\"p_enter_auto_txt\",\"feedId\":11,\"feedName\":\"하모니\",\"clusterTitle\":\"\"}},{\"id\":\"hamny-20220622105202216\",\"title\":\"'개그우먼' 김신영, 송혜교와 어깨 나란히 하더니..17년만 박찬욱·봉준호 픽 '스크린 복귀'[TEN스타필드]\",\"label\":null,\"url\":\"https://v.daum.net/v/20220622105202216\",\"icon\":\"TEXT\",\"imageUrl\":\"https://t1.daumcdn.net/news/202206/22/10asia/20220622105205290zmys.jpg\",\"source\":\"텐아시아\",\"position\":0,\"meta\":{\"impressionId\":\"toros_cloud_alpha\",\"contentUniqueKey\":\"hamny-20220622105202216\",\"mediaName\":\"텐아시아\",\"torosRanking\":8,\"torosScore\":0.0109306788,\"poolCode\":\"p_enter_auto_txt\",\"feedId\":11,\"feedName\":\"하모니\",\"clusterTitle\":\"\"}},{\"id\":\"hamny-20220622152302801\",\"title\":\"옥주현, \\\"주둥이 놀린\\\" 김호영 고소..'옥장판'이 갈라놓은 우정[TEN피플]\",\"label\":null,\"url\":\"https://v.daum.net/v/20220622152302801\",\"icon\":\"TEXT\",\"imageUrl\":\"https://t1.daumcdn.net/news/202206/22/10asia/20220622152304332jour.jpg\",\"source\":\"텐아시아\",\"position\":0,\"meta\":{\"impressionId\":\"toros_cloud_alpha\",\"contentUniqueKey\":\"hamny-20220622152302801\",\"mediaName\":\"텐아시아\",\"torosRanking\":11,\"torosScore\":0.0094420562,\"poolCode\":\"p_enter_auto_txt\",\"feedId\":11,\"feedName\":\"하모니\",\"clusterTitle\":\"\"}},{\"id\":\"hamny-20220622105747486\",\"title\":\"고3에 낳은 딸 다섯살..금손 싱글맘 \\\"前남편, 4개월 30만원 주곤 양육비 미지급\\\"('고딩엄빠')\",\"label\":null,\"url\":\"https://v.daum.net/v/20220622105747486\",\"icon\":\"TEXT\",\"imageUrl\":\"https://t1.daumcdn.net/news/202206/22/spotvnews/20220622105749138ahgg.jpg\",\"source\":\"스포티비뉴스\",\"position\":0,\"meta\":{\"impressionId\":\"toros_cloud_alpha\",\"contentUniqueKey\":\"hamny-20220622105747486\",\"mediaName\":\"스포티비뉴스\",\"torosRanking\":34,\"torosScore\":0.0062997417,\"poolCode\":\"p_enter_auto_txt\",\"feedId\":11,\"feedName\":\"하모니\",\"clusterTitle\":\"\"}},{\"id\":\"hamny-20220622115143505\",\"title\":\"'사생활 논란' 장문복, 알깨고 나온 2년 만의 복귀..눈물은 독일까 약일까 [M+초점]\",\"label\":null,\"url\":\"https://v.daum.net/v/20220622115143505\",\"icon\":\"TEXT\",\"imageUrl\":\"https://t1.daumcdn.net/news/202206/22/mbn/20220622115150128ruml.jpg\",\"source\":\"MBN\",\"position\":0,\"meta\":{\"impressionId\":\"toros_cloud_alpha\",\"contentUniqueKey\":\"hamny-20220622115143505\",\"mediaName\":\"MBN\",\"torosRanking\":16,\"torosScore\":0.0072478738,\"poolCode\":\"p_enter_auto_txt\",\"feedId\":11,\"feedName\":\"하모니\",\"clusterTitle\":\"\"}},{\"id\":\"hamny-20220622155044284\",\"title\":\"류연석 \\\"20대인데 40대 역, 겁 났는데 감독이 문제없다고..\\\"(마녀는)\",\"label\":null,\"url\":\"https://v.daum.net/v/20220622155044284\",\"icon\":\"TEXT\",\"imageUrl\":\"https://t1.daumcdn.net/news/202206/22/newsen/20220622155045151bhsd.jpg\",\"source\":\"뉴스엔\",\"position\":0,\"meta\":{\"impressionId\":\"toros_cloud_alpha\",\"contentUniqueKey\":\"hamny-20220622155044284\",\"mediaName\":\"뉴스엔\",\"torosRanking\":2,\"torosScore\":0.0913254311,\"poolCode\":\"p_enter_auto_txt\",\"feedId\":11,\"feedName\":\"하모니\",\"clusterTitle\":\"\"}}]},\"cabinets\":null,\"board\":false},{\"code\":2376,\"type\":\"PC_MEDIA_SPORTS\",\"items\":{\"op\":{\"tab\":\"sports\",\"title\":\"스포츠\",\"url\":\"https://sports.daum.net/\"},\"left_thumbnail_op\":{\"imageUrl\":\"https://t1.daumcdn.net/section/oc/45850a36411641d09b4754c458e0fa5e\",\"label\":\"#Live\",\"title\":\"돌아온 불타는 그라운드 2021\",\"thumbnailType\":\"TESLA\",\"url\":\"https://tv.kakao.com/channel/2092/livelink/79515bc86a1e4bf2@now\",\"status\":\"off\"},\"scoreboard_op\":{\"scoreboardStatus\":\"on\",\"scoreboardType\":\"general\"},\"footLinkLeft\":{\"foot1\":\"{\\\"title\\\":\\\"해외축구\\\",\\\"url\\\":\\\"https://sports.daum.net/worldsoccer\\\",\\\"tiaraTag\\\":\\\"worldsoccer\\\"}\",\"foot0\":\"{\\\"title\\\":\\\"축구\\\",\\\"url\\\":\\\"https://sports.daum.net/soccer\\\",\\\"tiaraTag\\\":\\\"soccer\\\"}\",\"foot3\":\"{\\\"title\\\":\\\"해외야구\\\",\\\"url\\\":\\\"https://sports.daum.net/worldbaseball\\\",\\\"tiaraTag\\\":\\\"worldbaseball\\\"}\",\"footer\":\"{\\\"title\\\":\\\"스포츠홈\\\",\\\"url\\\":\\\"https://sports.daum.net/\\\"}\",\"foot2\":\"{\\\"title\\\":\\\"야구\\\",\\\"url\\\":\\\"https://sports.daum.net/baseball\\\",\\\"tiaraTag\\\":\\\"baseball\\\"}\",\"foot5\":\"{\\\"title\\\":\\\"농구\\\",\\\"url\\\":\\\"https://sports.daum.net/basketball\\\",\\\"tiaraTag\\\":\\\"basketball\\\"}\",\"foot4\":\"{\\\"title\\\":\\\"골프\\\",\\\"url\\\":\\\"https://sports.daum.net/golf\\\",\\\"tiaraTag\\\":\\\"golf\\\"}\",\"foot7\":\"{\\\"title\\\":\\\"일반\\\",\\\"url\\\":\\\"https://sports.daum.net/general\\\",\\\"tiaraTag\\\":\\\"general\\\"}\",\"foot6\":\"{\\\"title\\\":\\\"배구\\\",\\\"url\\\":\\\"https://sports.daum.net/volleyball\\\",\\\"tiaraTag\\\":\\\"volleyball\\\"}\",\"foot8\":\"{\\\"title\\\":\\\"e스포츠\\\",\\\"url\\\":\\\"https://sports.daum.net/esports\\\",\\\"tiaraTag\\\":\\\"esports\\\"}\",\"status\":\"on\"},\"footLinkRight\":{\"foot1\":\"{\\\"title\\\":\\\"\\\",\\\"url\\\":\\\"\\\",\\\"tiaraTag\\\":\\\"\\\"}\",\"foot0\":\"{\\\"title\\\":\\\"라이브스코어\\\",\\\"url\\\":\\\"https://search.daum.net/search?w=tot&q=%EB%9D%BC%EC%9D%B4%EB%B8%8C%20%EC%8A%A4%EC%BD%94%EC%96%B4&DA=TMZ\\\",\\\"tiaraTag\\\":\\\"livescore\\\"}\",\"foot2\":\"{\\\"title\\\":\\\"\\\",\\\"url\\\":\\\"\\\",\\\"tiaraTag\\\":\\\"\\\"}\",\"status\":\"on\"},\"specialLink\":{\"displayType\":\"specialLink\",\"title\":\"동계 패럴림픽\",\"url\":\"https://tv.kakao.com/channel/3021515/livelink/pn56v1g54yex7pvr@now\",\"iconType\":\"LIVE\",\"status\":\"off\"}},\"feeds\":{\"pc_media_sports_scoreboard\":\"[{\\\"status\\\":\\\"before\\\",\\\"event-code\\\":\\\"BASEBALL\\\",\\\"event-name\\\":\\\"야구\\\",\\\"category\\\":\\\"KBO\\\",\\\"league-name\\\":\\\"KBO\\\",\\\"game-date\\\":\\\"2022-06-22 18:30:00.0\\\",\\\"m-status-text\\\":\\\"분석\\\",\\\"pc-status-text\\\":\\\"분석\\\",\\\"period\\\":\\\"\\\",\\\"cast-type\\\":\\\"video\\\",\\\"game-id\\\":\\\"80055375\\\",\\\"pc-landing-url\\\":\\\"https://sports.daum.net/game/80055375\\\",\\\"m-landing-url\\\":\\\"https://sports.daum.net/game/80055375\\\",\\\"sort-seq\\\":\\\"5\\\",\\\"top-highlight-flag\\\":\\\"false\\\",\\\"top-pin-flag\\\":\\\"false\\\",\\\"home-team-id\\\":\\\"387\\\",\\\"home-team-name\\\":\\\"LG\\\",\\\"home-team-score\\\":\\\"\\\",\\\"home-tk-qty\\\":\\\"\\\",\\\"home-team-logo-url\\\":\\\"https://t1.daumcdn.net/media/img-section/sports13/logo/team/1/LG_300300.png\\\",\\\"away-team-id\\\":\\\"390\\\",\\\"away-team-name\\\":\\\"한화\\\",\\\"away-team-score\\\":\\\"\\\",\\\"away-tk-qty\\\":\\\"\\\",\\\"away-team-logo-url\\\":\\\"https://t1.daumcdn.net/media/img-section/sports13/logo/team/1/HH_300300.png\\\"},{\\\"status\\\":\\\"before\\\",\\\"event-code\\\":\\\"BASEBALL\\\",\\\"event-name\\\":\\\"야구\\\",\\\"category\\\":\\\"KBO\\\",\\\"league-name\\\":\\\"KBO\\\",\\\"game-date\\\":\\\"2022-06-22 18:30:00.0\\\",\\\"m-status-text\\\":\\\"분석\\\",\\\"pc-status-text\\\":\\\"분석\\\",\\\"period\\\":\\\"\\\",\\\"cast-type\\\":\\\"video\\\",\\\"game-id\\\":\\\"80055376\\\",\\\"pc-landing-url\\\":\\\"https://sports.daum.net/game/80055376\\\",\\\"m-landing-url\\\":\\\"https://sports.daum.net/game/80055376\\\",\\\"sort-seq\\\":\\\"5\\\",\\\"top-highlight-flag\\\":\\\"false\\\",\\\"top-pin-flag\\\":\\\"false\\\",\\\"home-team-id\\\":\\\"389\\\",\\\"home-team-name\\\":\\\"KIA\\\",\\\"home-team-score\\\":\\\"\\\",\\\"home-tk-qty\\\":\\\"\\\",\\\"home-team-logo-url\\\":\\\"https://t1.daumcdn.net/media/img-section/sports13/logo/team/1/HT_300300.png\\\",\\\"away-team-id\\\":\\\"386\\\",\\\"away-team-name\\\":\\\"롯데\\\",\\\"away-team-score\\\":\\\"\\\",\\\"away-tk-qty\\\":\\\"\\\",\\\"away-team-logo-url\\\":\\\"https://t1.daumcdn.net/media/img-section/sports13/logo/team/1/LT_300300.png\\\"},{\\\"status\\\":\\\"before\\\",\\\"event-code\\\":\\\"BASEBALL\\\",\\\"event-name\\\":\\\"야구\\\",\\\"category\\\":\\\"KBO\\\",\\\"league-name\\\":\\\"KBO\\\",\\\"game-date\\\":\\\"2022-06-22 18:30:00.0\\\",\\\"m-status-text\\\":\\\"분석\\\",\\\"pc-status-text\\\":\\\"분석\\\",\\\"period\\\":\\\"\\\",\\\"cast-type\\\":\\\"video\\\",\\\"game-id\\\":\\\"80055377\\\",\\\"pc-landing-url\\\":\\\"https://sports.daum.net/game/80055377\\\",\\\"m-landing-url\\\":\\\"https://sports.daum.net/game/80055377\\\",\\\"sort-seq\\\":\\\"5\\\",\\\"top-highlight-flag\\\":\\\"false\\\",\\\"top-pin-flag\\\":\\\"false\\\",\\\"home-team-id\\\":\\\"394601\\\",\\\"home-team-name\\\":\\\"KT\\\",\\\"home-team-score\\\":\\\"\\\",\\\"home-tk-qty\\\":\\\"\\\",\\\"home-team-logo-url\\\":\\\"https://t1.daumcdn.net/media/img-section/sports13/logo/team/1/KT_300300.png\\\",\\\"away-team-id\\\":\\\"172615\\\",\\\"away-team-name\\\":\\\"NC\\\",\\\"away-team-score\\\":\\\"\\\",\\\"away-tk-qty\\\":\\\"\\\",\\\"away-team-logo-url\\\":\\\"https://t1.daumcdn.net/media/img-section/sports13/logo/team/1/NC_300300.png\\\"},{\\\"status\\\":\\\"before\\\",\\\"event-code\\\":\\\"BASEBALL\\\",\\\"event-name\\\":\\\"야구\\\",\\\"category\\\":\\\"KBO\\\",\\\"league-name\\\":\\\"KBO\\\",\\\"game-date\\\":\\\"2022-06-22 18:30:00.0\\\",\\\"m-status-text\\\":\\\"분석\\\",\\\"pc-status-text\\\":\\\"분석\\\",\\\"period\\\":\\\"\\\",\\\"cast-type\\\":\\\"video\\\",\\\"game-id\\\":\\\"80055378\\\",\\\"pc-landing-url\\\":\\\"https://sports.daum.net/game/80055378\\\",\\\"m-landing-url\\\":\\\"https://sports.daum.net/game/80055378\\\",\\\"sort-seq\\\":\\\"5\\\",\\\"top-highlight-flag\\\":\\\"false\\\",\\\"top-pin-flag\\\":\\\"false\\\",\\\"home-team-id\\\":\\\"384\\\",\\\"home-team-name\\\":\\\"SSG\\\",\\\"home-team-score\\\":\\\"\\\",\\\"home-tk-qty\\\":\\\"\\\",\\\"home-team-logo-url\\\":\\\"https://t1.daumcdn.net/media/img-section/sports13/logo/team/1/SK_300300.png\\\",\\\"away-team-id\\\":\\\"385\\\",\\\"away-team-name\\\":\\\"두산\\\",\\\"away-team-score\\\":\\\"\\\",\\\"away-tk-qty\\\":\\\"\\\",\\\"away-team-logo-url\\\":\\\"https://t1.daumcdn.net/media/img-section/sports13/logo/team/1/OB_300300.png\\\"},{\\\"status\\\":\\\"before\\\",\\\"event-code\\\":\\\"BASEBALL\\\",\\\"event-name\\\":\\\"야구\\\",\\\"category\\\":\\\"KBO\\\",\\\"league-name\\\":\\\"KBO\\\",\\\"game-date\\\":\\\"2022-06-22 18:30:00.0\\\",\\\"m-status-text\\\":\\\"분석\\\",\\\"pc-status-text\\\":\\\"분석\\\",\\\"period\\\":\\\"\\\",\\\"cast-type\\\":\\\"video\\\",\\\"game-id\\\":\\\"80055379\\\",\\\"pc-landing-url\\\":\\\"https://sports.daum.net/game/80055379\\\",\\\"m-landing-url\\\":\\\"https://sports.daum.net/game/80055379\\\",\\\"sort-seq\\\":\\\"5\\\",\\\"top-highlight-flag\\\":\\\"false\\\",\\\"top-pin-flag\\\":\\\"false\\\",\\\"home-team-id\\\":\\\"383\\\",\\\"home-team-name\\\":\\\"삼성\\\",\\\"home-team-score\\\":\\\"\\\",\\\"home-tk-qty\\\":\\\"\\\",\\\"home-team-logo-url\\\":\\\"https://t1.daumcdn.net/media/img-section/sports13/logo/team/1/SS_300300.png\\\",\\\"away-team-id\\\":\\\"382\\\",\\\"away-team-name\\\":\\\"키움\\\",\\\"away-team-score\\\":\\\"\\\",\\\"away-tk-qty\\\":\\\"\\\",\\\"away-team-logo-url\\\":\\\"https://t1.daumcdn.net/media/img-section/sports13/logo/team/1/WO_300300.png\\\"},{\\\"status\\\":\\\"before\\\",\\\"event-code\\\":\\\"SOCCER\\\",\\\"event-name\\\":\\\"축구\\\",\\\"category\\\":\\\"KL\\\",\\\"league-name\\\":\\\"K리그1\\\",\\\"game-date\\\":\\\"2022-06-22 19:00:00.0\\\",\\\"m-status-text\\\":\\\"분석\\\",\\\"pc-status-text\\\":\\\"분석\\\",\\\"period\\\":\\\"\\\",\\\"cast-type\\\":\\\"video\\\",\\\"game-id\\\":\\\"80055878\\\",\\\"pc-landing-url\\\":\\\"https://sports.daum.net/game/80055878\\\",\\\"m-landing-url\\\":\\\"https://sports.daum.net/game/80055878\\\",\\\"sort-seq\\\":\\\"5\\\",\\\"top-highlight-flag\\\":\\\"false\\\",\\\"top-pin-flag\\\":\\\"false\\\",\\\"home-team-id\\\":\\\"5\\\",\\\"home-team-name\\\":\\\"전북\\\",\\\"home-team-score\\\":\\\"\\\",\\\"home-tk-qty\\\":\\\"\\\",\\\"home-team-logo-url\\\":\\\"https://t1.daumcdn.net/media/img-section/sports13/logo/team/6/K05_300300.png\\\",\\\"away-team-id\\\":\\\"2\\\",\\\"away-team-name\\\":\\\"수원\\\",\\\"away-team-score\\\":\\\"\\\",\\\"away-tk-qty\\\":\\\"\\\",\\\"away-team-logo-url\\\":\\\"https://t1.daumcdn.net/media/img-section/sports13/logo/team/6/K02_300300.png\\\"},{\\\"status\\\":\\\"before\\\",\\\"event-code\\\":\\\"SOCCER\\\",\\\"event-name\\\":\\\"축구\\\",\\\"category\\\":\\\"KL2\\\",\\\"league-name\\\":\\\"K리그2\\\",\\\"game-date\\\":\\\"2022-06-22 19:00:00.0\\\",\\\"m-status-text\\\":\\\"분석\\\",\\\"pc-status-text\\\":\\\"분석\\\",\\\"period\\\":\\\"\\\",\\\"cast-type\\\":\\\"video\\\",\\\"game-id\\\":\\\"80056124\\\",\\\"pc-landing-url\\\":\\\"https://sports.daum.net/game/80056124\\\",\\\"m-landing-url\\\":\\\"https://sports.daum.net/game/80056124\\\",\\\"sort-seq\\\":\\\"5\\\",\\\"top-highlight-flag\\\":\\\"false\\\",\\\"top-pin-flag\\\":\\\"false\\\",\\\"home-team-id\\\":\\\"19\\\",\\\"home-team-name\\\":\\\"경남\\\",\\\"home-team-score\\\":\\\"\\\",\\\"home-tk-qty\\\":\\\"\\\",\\\"home-team-logo-url\\\":\\\"https://t1.daumcdn.net/media/img-section/sports13/logo/team/6/K20_300300.png\\\",\\\"away-team-id\\\":\\\"600983\\\",\\\"away-team-name\\\":\\\"충남아산\\\",\\\"away-team-score\\\":\\\"\\\",\\\"away-tk-qty\\\":\\\"\\\",\\\"away-team-logo-url\\\":\\\"https://t1.daumcdn.net/media/img-section/sports13/logo/team/6/K34_300300.png\\\"},{\\\"status\\\":\\\"before\\\",\\\"event-code\\\":\\\"SOCCER\\\",\\\"event-name\\\":\\\"축구\\\",\\\"category\\\":\\\"KL\\\",\\\"league-name\\\":\\\"K리그1\\\",\\\"game-date\\\":\\\"2022-06-22 19:30:00.0\\\",\\\"m-status-text\\\":\\\"분석\\\",\\\"pc-status-text\\\":\\\"분석\\\",\\\"period\\\":\\\"\\\",\\\"cast-type\\\":\\\"video\\\",\\\"game-id\\\":\\\"80055879\\\",\\\"pc-landing-url\\\":\\\"https://sports.daum.net/game/80055879\\\",\\\"m-landing-url\\\":\\\"https://sports.daum.net/game/80055879\\\",\\\"sort-seq\\\":\\\"5\\\",\\\"top-highlight-flag\\\":\\\"false\\\",\\\"top-pin-flag\\\":\\\"false\\\",\\\"home-team-id\\\":\\\"9\\\",\\\"home-team-name\\\":\\\"서울\\\",\\\"home-team-score\\\":\\\"\\\",\\\"home-tk-qty\\\":\\\"\\\",\\\"home-team-logo-url\\\":\\\"https://t1.daumcdn.net/media/img-section/sports13/logo/team/6/K09_300300.png\\\",\\\"away-team-id\\\":\\\"1\\\",\\\"away-team-name\\\":\\\"울산\\\",\\\"away-team-score\\\":\\\"\\\",\\\"away-tk-qty\\\":\\\"\\\",\\\"away-team-logo-url\\\":\\\"https://t1.daumcdn.net/media/img-section/sports13/logo/team/6/K01_300300.png\\\"},{\\\"status\\\":\\\"before\\\",\\\"event-code\\\":\\\"SOCCER\\\",\\\"event-name\\\":\\\"축구\\\",\\\"category\\\":\\\"KL\\\",\\\"league-name\\\":\\\"K리그1\\\",\\\"game-date\\\":\\\"2022-06-22 19:30:00.0\\\",\\\"m-status-text\\\":\\\"분석\\\",\\\"pc-status-text\\\":\\\"분석\\\",\\\"period\\\":\\\"\\\",\\\"cast-type\\\":\\\"video\\\",\\\"game-id\\\":\\\"80055880\\\",\\\"pc-landing-url\\\":\\\"https://sports.daum.net/game/80055880\\\",\\\"m-landing-url\\\":\\\"https://sports.daum.net/game/80055880\\\",\\\"sort-seq\\\":\\\"5\\\",\\\"top-highlight-flag\\\":\\\"false\\\",\\\"top-pin-flag\\\":\\\"false\\\",\\\"home-team-id\\\":\\\"18\\\",\\\"home-team-name\\\":\\\"인천\\\",\\\"home-team-score\\\":\\\"\\\",\\\"home-tk-qty\\\":\\\"\\\",\\\"home-team-logo-url\\\":\\\"https://t1.daumcdn.net/media/img-section/sports13/logo/team/6/K18_300300.png\\\",\\\"away-team-id\\\":\\\"20\\\",\\\"away-team-name\\\":\\\"강원\\\",\\\"away-team-score\\\":\\\"\\\",\\\"away-tk-qty\\\":\\\"\\\",\\\"away-team-logo-url\\\":\\\"https://t1.daumcdn.net/media/img-section/sports13/logo/team/6/K21_300300.png\\\"},{\\\"status\\\":\\\"before\\\",\\\"event-code\\\":\\\"SOCCER\\\",\\\"event-name\\\":\\\"축구\\\",\\\"category\\\":\\\"KL2\\\",\\\"league-name\\\":\\\"K리그2\\\",\\\"game-date\\\":\\\"2022-06-22 19:30:00.0\\\",\\\"m-status-text\\\":\\\"분석\\\",\\\"pc-status-text\\\":\\\"분석\\\",\\\"period\\\":\\\"\\\",\\\"cast-type\\\":\\\"video\\\",\\\"game-id\\\":\\\"80056125\\\",\\\"pc-landing-url\\\":\\\"https://sports.daum.net/game/80056125\\\",\\\"m-landing-url\\\":\\\"https://sports.daum.net/game/80056125\\\",\\\"sort-seq\\\":\\\"5\\\",\\\"top-highlight-flag\\\":\\\"false\\\",\\\"top-pin-flag\\\":\\\"false\\\",\\\"home-team-id\\\":\\\"341965\\\",\\\"home-team-name\\\":\\\"서울E\\\",\\\"home-team-score\\\":\\\"\\\",\\\"home-tk-qty\\\":\\\"\\\",\\\"home-team-logo-url\\\":\\\"https://t1.daumcdn.net/media/img-section/sports13/logo/team/6/K31_300300.png\\\",\\\"away-team-id\\\":\\\"546199\\\",\\\"away-team-name\\\":\\\"안산\\\",\\\"away-team-score\\\":\\\"\\\",\\\"away-tk-qty\\\":\\\"\\\",\\\"away-team-logo-url\\\":\\\"https://t1.daumcdn.net/media/img-section/sports13/logo/team/6/K32_300300.png\\\"},{\\\"status\\\":\\\"before\\\",\\\"event-code\\\":\\\"SOCCER\\\",\\\"event-name\\\":\\\"축구\\\",\\\"category\\\":\\\"KL2\\\",\\\"league-name\\\":\\\"K리그2\\\",\\\"game-date\\\":\\\"2022-06-22 19:30:00.0\\\",\\\"m-status-text\\\":\\\"분석\\\",\\\"pc-status-text\\\":\\\"분석\\\",\\\"period\\\":\\\"\\\",\\\"cast-type\\\":\\\"video\\\",\\\"game-id\\\":\\\"80056126\\\",\\\"pc-landing-url\\\":\\\"https://sports.daum.net/game/80056126\\\",\\\"m-landing-url\\\":\\\"https://sports.daum.net/game/80056126\\\",\\\"sort-seq\\\":\\\"5\\\",\\\"top-highlight-flag\\\":\\\"false\\\",\\\"top-pin-flag\\\":\\\"false\\\",\\\"home-team-id\\\":\\\"163983\\\",\\\"home-team-name\\\":\\\"부천\\\",\\\"home-team-score\\\":\\\"\\\",\\\"home-tk-qty\\\":\\\"\\\",\\\"home-team-logo-url\\\":\\\"https://t1.daumcdn.net/media/img-section/sports13/logo/team/6/K26_300300.png\\\",\\\"away-team-id\\\":\\\"163984\\\",\\\"away-team-name\\\":\\\"안양\\\",\\\"away-team-score\\\":\\\"\\\",\\\"away-tk-qty\\\":\\\"\\\",\\\"away-team-logo-url\\\":\\\"https://t1.daumcdn.net/media/img-section/sports13/logo/team/6/K27_300300.png\\\"},{\\\"status\\\":\\\"end\\\",\\\"event-code\\\":\\\"WORLDBASEBALL\\\",\\\"event-name\\\":\\\"해외야구\\\",\\\"category\\\":\\\"MLB\\\",\\\"league-name\\\":\\\"MLB\\\",\\\"game-date\\\":\\\"2022-06-22 10:40:00.0\\\",\\\"m-status-text\\\":\\\"기록\\\",\\\"pc-status-text\\\":\\\"기록\\\",\\\"period\\\":\\\"\\\",\\\"cast-type\\\":\\\"text\\\",\\\"game-id\\\":\\\"80058146\\\",\\\"pc-landing-url\\\":\\\"https://sports.daum.net/game/80058146\\\",\\\"m-landing-url\\\":\\\"https://sports.daum.net/game/80058146\\\",\\\"sort-seq\\\":\\\"8\\\",\\\"top-highlight-flag\\\":\\\"false\\\",\\\"top-pin-flag\\\":\\\"false\\\",\\\"home-team-id\\\":\\\"438\\\",\\\"home-team-name\\\":\\\"샌디에이고\\\",\\\"home-team-score\\\":\\\"3\\\",\\\"home-tk-qty\\\":\\\"\\\",\\\"home-team-logo-url\\\":\\\"https://t1.daumcdn.net/media/img-section/sports13/logo/team/3/SD_300300.png\\\",\\\"away-team-id\\\":\\\"442\\\",\\\"away-team-name\\\":\\\"애리조나\\\",\\\"away-team-score\\\":\\\"2\\\",\\\"away-tk-qty\\\":\\\"\\\",\\\"away-team-logo-url\\\":\\\"https://t1.daumcdn.net/media/img-section/sports13/logo/team/3/AZ_300300.png\\\"}]\"},\"teslas\":{\"p_sports_img_1\":[{\"id\":\"tv-337449465\",\"title\":\"박찬호, 감탄을 안 할래야 안 할 수가 없는 점프 캐치\",\"label\":null,\"url\":\"https://newslink.media.daum.net/v/429794888\",\"icon\":\"VIDEO\",\"imageUrl\":\"http://img1.kakaocdn.net/kakaotv/KAKAOACCOUNT/1749875377/thumb/20220621214224\",\"source\":\"KBO리그\",\"position\":0,\"meta\":{\"impressionId\":\"toros_cloud_alpha\",\"contentUniqueKey\":\"tv-337449465\",\"mediaName\":\"KBO리그\",\"torosRanking\":1,\"torosScore\":0.0943708931,\"poolCode\":\"p_sports_img\",\"feedId\":22,\"feedName\":\"카카오TV\",\"clusterTitle\":\"\"}},{\"id\":\"tv-337448716\",\"title\":\"미쳤다 이승우! 소름돋는 슈퍼골과 환상적인 댄싱\",\"label\":null,\"url\":\"https://newslink.media.daum.net/v/429793569\",\"icon\":\"VIDEO\",\"imageUrl\":\"http://img1.kakaocdn.net/kakaotv/KAKAOACCOUNT/851683045/thumb/20220621205858\",\"source\":\"K리그\",\"position\":0,\"meta\":{\"impressionId\":\"toros_cloud_alpha\",\"contentUniqueKey\":\"tv-337448716\",\"mediaName\":\"K리그\",\"torosRanking\":2,\"torosScore\":0.0695979972,\"poolCode\":\"p_sports_img\",\"feedId\":22,\"feedName\":\"카카오TV\",\"clusterTitle\":\"\"}},{\"id\":\"tv-337458733\",\"title\":\"가까운 파 퍼트 놓치며 선두권에서 멀어지는 최혜진2 [드림투어 6차전]\",\"label\":null,\"url\":\"https://newslink.media.daum.net/v/429811427\",\"icon\":\"VIDEO\",\"imageUrl\":\"https://thumb.kakaocdn.net/dna/kamp/source/rv9wnck9weyrib8qng813bjk0/thumbs/thumb.jpg?credential=TuMuFGKUIcirOSjFzOpncbomGFEIdZWK&expires=33212786107&signature=bTZCCYvVukYlIFt2ZhrD3RYrurE%3D\",\"source\":\"KLPGA 드림·점프·챔피언스투어\",\"position\":0,\"meta\":{\"impressionId\":\"toros_cloud_alpha\",\"contentUniqueKey\":\"tv-337458733\",\"mediaName\":\"KLPGA 드림·점프·챔피언스투어\",\"torosRanking\":12,\"torosScore\":0.0293112531,\"poolCode\":\"p_sports_img\",\"feedId\":22,\"feedName\":\"카카오TV\",\"clusterTitle\":\"\"}},{\"id\":\"tv-337447888\",\"title\":\"'외야수 4명' 김현수, 수비 시프트를 뚫는 안타\",\"label\":null,\"url\":\"https://newslink.media.daum.net/v/429792110\",\"icon\":\"VIDEO\",\"imageUrl\":\"http://img1.kakaocdn.net/kakaotv/KAKAOACCOUNT/1331521202/thumb/20220621200900\",\"source\":\"KBO리그\",\"position\":0,\"meta\":{\"impressionId\":\"toros_cloud_alpha\",\"contentUniqueKey\":\"tv-337447888\",\"mediaName\":\"KBO리그\",\"torosRanking\":18,\"torosScore\":0.0129602084,\"poolCode\":\"p_sports_img\",\"feedId\":22,\"feedName\":\"카카오TV\",\"clusterTitle\":\"\"}},{\"id\":\"tv-337458808\",\"title\":\"8점 하이런을 몰아치며 압도적인 경기력 보여주는 강동궁[경주 블루원리조트 PBA 챔피언십]\",\"label\":null,\"url\":\"https://newslink.media.daum.net/v/429811554\",\"icon\":\"VIDEO\",\"imageUrl\":\"http://img1.kakaocdn.net/kakaotv/KAKAOACCOUNT/1613452311/thumb/20220622150001\",\"source\":\"당구 종합\",\"position\":0,\"meta\":{\"impressionId\":\"toros_cloud_alpha\",\"contentUniqueKey\":\"tv-337458808\",\"mediaName\":\"당구 종합\",\"torosRanking\":3,\"torosScore\":0.0370027797,\"poolCode\":\"p_sports_img\",\"feedId\":22,\"feedName\":\"카카오TV\",\"clusterTitle\":\"\"}},{\"id\":\"tv-337458665\",\"title\":\"침착하게 버디 퍼트 성공하며 두 타차 단독선두가 된 최가빈 [드림투어 6차전]\",\"label\":null,\"url\":\"https://newslink.media.daum.net/v/429811307\",\"icon\":\"VIDEO\",\"imageUrl\":\"https://thumb.kakaocdn.net/dna/kamp/source/rvsmcurr7tp808qo4vpshu82k/thumbs/thumb.jpg?credential=TuMuFGKUIcirOSjFzOpncbomGFEIdZWK&expires=33212785809&signature=bp1X9dfQvXnZvkt%2F9wFIEL3%2BiMU%3D\",\"source\":\"KLPGA 드림·점프·챔피언스투어\",\"position\":0,\"meta\":{\"impressionId\":\"toros_cloud_alpha\",\"contentUniqueKey\":\"tv-337458665\",\"mediaName\":\"KLPGA 드림·점프·챔피언스투어\",\"torosRanking\":15,\"torosScore\":0.0223312829,\"poolCode\":\"p_sports_img\",\"feedId\":22,\"feedName\":\"카카오TV\",\"clusterTitle\":\"\"}},{\"id\":\"tv-337450875\",\"title\":\"멀티히트, 3타점, 그리고 미친 호수비[박찬호HL]\",\"label\":null,\"url\":\"https://newslink.media.daum.net/v/429797455\",\"icon\":\"VIDEO\",\"imageUrl\":\"http://img1.kakaocdn.net/kakaotv/KAKAOACCOUNT/1222991345/thumb/20220621224809\",\"source\":\"KBO리그\",\"position\":0,\"meta\":{\"impressionId\":\"toros_cloud_alpha\",\"contentUniqueKey\":\"tv-337450875\",\"mediaName\":\"KBO리그\",\"torosRanking\":19,\"torosScore\":0.0127834651,\"poolCode\":\"p_sports_img\",\"feedId\":22,\"feedName\":\"카카오TV\",\"clusterTitle\":\"\"}},{\"id\":\"tv-337458816\",\"title\":\"3연속 득점으로 승기를 잡고 매치포인트 놓치는 강동궁[경주 블루원리조트 PBA 챔피언십]\",\"label\":null,\"url\":\"https://newslink.media.daum.net/v/429811568\",\"icon\":\"VIDEO\",\"imageUrl\":\"http://img1.kakaocdn.net/kakaotv/KAKAOACCOUNT/1534354358/thumb/20220622150038\",\"source\":\"당구 종합\",\"position\":0,\"meta\":{\"impressionId\":\"toros_cloud_alpha\",\"contentUniqueKey\":\"tv-337458816\",\"mediaName\":\"당구 종합\",\"torosRanking\":4,\"torosScore\":0.0359711031,\"poolCode\":\"p_sports_img\",\"feedId\":22,\"feedName\":\"카카오TV\",\"clusterTitle\":\"\"}}],\"p_sports_auto_txt_1\":[{\"id\":\"hamny-20220622114452186\",\"title\":\"'타구속도 163km' 호쾌한 타구 날린 김하성, 2루타 아닌 실책 판정 아쉽네\",\"label\":null,\"url\":\"https://v.daum.net/v/20220622114452186\",\"icon\":\"TEXT\",\"imageUrl\":\"https://t1.daumcdn.net/news/202206/22/poctan/20220622114452316lmva.jpg\",\"source\":\"OSEN\",\"position\":0,\"meta\":{\"impressionId\":\"toros_cloud_alpha\",\"contentUniqueKey\":\"hamny-20220622114452186\",\"mediaName\":\"OSEN\",\"torosRanking\":2,\"torosScore\":0.0189471295,\"poolCode\":\"p_sports_auto_txt\",\"feedId\":11,\"feedName\":\"하모니\",\"clusterTitle\":\"\"}},{\"id\":\"hamny-20220622151008196\",\"title\":\"2군에서도 1할대 추락..42억 FA 타자의 지독한 부진 언제까지\",\"label\":null,\"url\":\"https://v.daum.net/v/20220622151008196\",\"icon\":\"TEXT\",\"imageUrl\":\"https://t1.daumcdn.net/news/202206/22/mydaily/20220622151008777ljmg.jpg\",\"source\":\"마이데일리\",\"position\":0,\"meta\":{\"impressionId\":\"toros_cloud_alpha\",\"contentUniqueKey\":\"hamny-20220622151008196\",\"mediaName\":\"마이데일리\",\"torosRanking\":4,\"torosScore\":0.016051669,\"poolCode\":\"p_sports_auto_txt\",\"feedId\":11,\"feedName\":\"하모니\",\"clusterTitle\":\"\"}},{\"id\":\"hamny-20220622142844232\",\"title\":\"\\\"네이마르, 팝니다\\\" 새 단장 충격 결단! 이적시장 폭풍 부나\",\"label\":null,\"url\":\"https://v.daum.net/v/20220622142844232\",\"icon\":\"TEXT\",\"imageUrl\":\"https://t1.daumcdn.net/news/202206/22/SpoChosun/20220622144428425hhwl.jpg\",\"source\":\"스포츠조선\",\"position\":0,\"meta\":{\"impressionId\":\"toros_cloud_alpha\",\"contentUniqueKey\":\"hamny-20220622142844232\",\"mediaName\":\"스포츠조선\",\"torosRanking\":5,\"torosScore\":0.0136519098,\"poolCode\":\"p_sports_auto_txt\",\"feedId\":11,\"feedName\":\"하모니\",\"clusterTitle\":\"\"}},{\"id\":\"hamny-20220622154241849\",\"title\":\"2002 한일 월드컵 스페인전 주심, 오심 논란에 \\\"내 판정은 훌륭했어\\\"\",\"label\":null,\"url\":\"https://v.daum.net/v/20220622154241849\",\"icon\":\"TEXT\",\"imageUrl\":\"https://t1.daumcdn.net/news/202206/22/sportskhan/20220622154638892utvc.jpg\",\"source\":\"스포츠경향\",\"position\":0,\"meta\":{\"impressionId\":\"toros_cloud_alpha\",\"contentUniqueKey\":\"hamny-20220622154241849\",\"mediaName\":\"스포츠경향\",\"torosRanking\":6,\"torosScore\":0.0134898944,\"poolCode\":\"p_sports_auto_txt\",\"feedId\":11,\"feedName\":\"하모니\",\"clusterTitle\":\"\"}},{\"id\":\"hamny-20220622113051450\",\"title\":\"'국민타자' 이승엽이 '국민거포'박병호에게..\\\"500홈런 도전하라\\\"\",\"label\":null,\"url\":\"https://v.daum.net/v/20220622113051450\",\"icon\":\"TEXT\",\"imageUrl\":\"https://t1.daumcdn.net/news/202206/22/yonhap/20220622113051697hloa.jpg\",\"source\":\"연합뉴스\",\"position\":0,\"meta\":{\"impressionId\":\"toros_cloud_alpha\",\"contentUniqueKey\":\"hamny-20220622113051450\",\"mediaName\":\"연합뉴스\",\"torosRanking\":8,\"torosScore\":0.0116441121,\"poolCode\":\"p_sports_auto_txt\",\"feedId\":11,\"feedName\":\"하모니\",\"clusterTitle\":\"\"}},{\"id\":\"hamny-20220622133740286\",\"title\":\"아스널이 다 차린 밥상, 토트넘이 엎어버린다\",\"label\":null,\"url\":\"https://v.daum.net/v/20220622133740286\",\"icon\":\"TEXT\",\"imageUrl\":\"https://t1.daumcdn.net/news/202206/22/SpoChosun/20220622133741004rgfu.jpg\",\"source\":\"스포츠조선\",\"position\":0,\"meta\":{\"impressionId\":\"toros_cloud_alpha\",\"contentUniqueKey\":\"hamny-20220622133740286\",\"mediaName\":\"스포츠조선\",\"torosRanking\":37,\"torosScore\":0.0094738626,\"poolCode\":\"p_sports_auto_txt\",\"feedId\":11,\"feedName\":\"하모니\",\"clusterTitle\":\"\"}},{\"id\":\"hamny-20220622125138159\",\"title\":\"한국, CBS 선정 월드컵 파워랭킹 19위..아시아 1위-H조 최하위\",\"label\":null,\"url\":\"https://v.daum.net/v/20220622125138159\",\"icon\":\"TEXT\",\"imageUrl\":\"https://t1.daumcdn.net/news/202206/22/mydaily/20220622125138138vsxq.jpg\",\"source\":\"마이데일리\",\"position\":0,\"meta\":{\"impressionId\":\"toros_cloud_alpha\",\"contentUniqueKey\":\"hamny-20220622125138159\",\"mediaName\":\"마이데일리\",\"torosRanking\":57,\"torosScore\":0.0085290482,\"poolCode\":\"p_sports_auto_txt\",\"feedId\":11,\"feedName\":\"하모니\",\"clusterTitle\":\"\"}},{\"id\":\"hamny-20220622121735337\",\"title\":\"'꾸준한 불혹' 이대호, 기어이 타율 1위로..4할서 추락한 피렐라 추월\",\"label\":null,\"url\":\"https://v.daum.net/v/20220622121735337\",\"icon\":\"TEXT\",\"imageUrl\":\"https://t1.daumcdn.net/news/202206/22/NEWS1/20220622121736301faip.jpg\",\"source\":\"뉴스1\",\"position\":0,\"meta\":{\"impressionId\":\"toros_cloud_alpha\",\"contentUniqueKey\":\"hamny-20220622121735337\",\"mediaName\":\"뉴스1\",\"torosRanking\":7,\"torosScore\":0.0119092412,\"poolCode\":\"p_sports_auto_txt\",\"feedId\":11,\"feedName\":\"하모니\",\"clusterTitle\":\"\"}},{\"id\":\"hamny-20220622123039704\",\"title\":\"맨유 호구 제대로 잡혔다 \\\"그렇게 필요하면 1000억에 사\\\"\",\"label\":null,\"url\":\"https://v.daum.net/v/20220622123039704\",\"icon\":\"TEXT\",\"imageUrl\":\"https://t1.daumcdn.net/news/202206/22/SpoChosun/20220622123039384uxrl.jpg\",\"source\":\"스포츠조선\",\"position\":0,\"meta\":{\"impressionId\":\"toros_cloud_alpha\",\"contentUniqueKey\":\"hamny-20220622123039704\",\"mediaName\":\"스포츠조선\",\"torosRanking\":45,\"torosScore\":0.0090065709,\"poolCode\":\"p_sports_auto_txt\",\"feedId\":11,\"feedName\":\"하모니\",\"clusterTitle\":\"\"}},{\"id\":\"hamny-20220622122135468\",\"title\":\"김국영, 100m 한국기록X세계선수권 기준기록 깬다\",\"label\":null,\"url\":\"https://v.daum.net/v/20220622122135468\",\"icon\":\"TEXT\",\"imageUrl\":\"https://t1.daumcdn.net/news/202206/22/STNSPORTS/20220622122137193wpff.png\",\"source\":\"에스티엔\",\"position\":0,\"meta\":{\"impressionId\":\"toros_cloud_alpha\",\"contentUniqueKey\":\"hamny-20220622122135468\",\"mediaName\":\"에스티엔\",\"torosRanking\":60,\"torosScore\":0.0084375012,\"poolCode\":\"p_sports_auto_txt\",\"feedId\":11,\"feedName\":\"하모니\",\"clusterTitle\":\"\"}}]},\"cabinets\":null,\"board\":false},{\"code\":2378,\"type\":\"PC_MEDIA_MOVIE\",\"items\":{\"op\":{\"tab\":\"movie\",\"title\":\"영화\",\"url\":\"https://movie.daum.net/\"},\"left_thumbnail_op\":{\"imageUrl\":\"https://t1.daumcdn.net/section/oc/5ac72844323e4650accaf3b8c46cf4fb\",\"copy2\":\"기대평 남기고 예매권 받으러 가자!\",\"label\":\"무비위크\",\"copy1\":\"칸영화제 12분 기립박수 영화 <엘비스>\",\"thumbnailType\":\"A\",\"url\":\"https://movie.daum.net/movieweek/Elvis\",\"status\":\"off\"},\"footLinkLeft\":{\"foot1\":\"{\\\"title\\\":\\\"개봉예정작\\\",\\\"url\\\":\\\"https://movie.daum.net/premovie/theater?flag=C\\\",\\\"tiaraTag\\\":\\\"scheduled\\\"}\",\"foot0\":\"{\\\"title\\\":\\\"현재상영작\\\",\\\"url\\\":\\\"https://movie.daum.net/premovie/theater?flag=Y\\\",\\\"tiaraTag\\\":\\\"released\\\"}\",\"footer\":\"{\\\"title\\\":\\\"영화홈\\\",\\\"url\\\":\\\"https://movie.daum.net/main\\\"}\",\"status\":\"on\"},\"footLinkRight\":{\"foot1\":\"{\\\"title\\\":\\\"실시간예매율\\\",\\\"url\\\":\\\"https://search.daum.net/search?w=tot&q=%EC%98%81%ED%99%94%20%EC%8B%A4%EC%8B%9C%EA%B0%84%20%EC%98%88%EB%A7%A4%EC%9C%A8&DA=TMZ\\\",\\\"tiaraTag\\\":\\\"ticketing\\\"}\",\"foot0\":\"{\\\"title\\\":\\\"영화TV편성\\\",\\\"url\\\":\\\"https://search.daum.net/search?w=tot&q=%EC%98%81%ED%99%94%20tv%20%ED%8E%B8%EC%84%B1%ED%91%9C&DA=TMZ\\\",\\\"tiaraTag\\\":\\\"movietv\\\"}\",\"foot2\":\"{\\\"title\\\":\\\"\\\",\\\"url\\\":\\\"\\\",\\\"tiaraTag\\\":\\\"\\\"}\",\"status\":\"off\"},\"specialLink\":{\"displayType\":\"hashText\",\"title\":\"#안방에서 즐기는 최고의 코믹 액션 어드벤처\",\"url\":\"https://movie.v.daum.net/v/20211105120203430\",\"iconType\":\"EVENT\",\"status\":\"off\"}},\"feeds\":{},\"teslas\":{\"ptop_movie_txt_1\":[{\"id\":\"hamny-20220622113222543\",\"title\":\"\\\"히어로·빌런·구원자 모두 여성\\\"..'마녀 2', 여성 액션물의 진화[D:영화 뷰]\",\"label\":null,\"url\":\"https://movie.v.daum.net/v/20220622113222543\",\"icon\":\"TEXT\",\"imageUrl\":\"https://t1.daumcdn.net/news/202206/22/dailian/20220622113225298zhcp.jpg\",\"source\":\"데일리안\",\"position\":0,\"meta\":{\"impressionId\":\"tromm\",\"contentUniqueKey\":\"hamny-20220622113222543\",\"mediaName\":\"데일리안\",\"torosRanking\":0,\"torosScore\":0.0,\"poolCode\":\"ptop_movie_txt\",\"feedId\":11,\"feedName\":\"하모니\",\"clusterTitle\":\"D:영화 뷰\"}},{\"id\":\"hamny-20220622111654675\",\"title\":\"\\\"나는 잘생겼다\\\"는 착각에 빠진 신현준 '핸썸', 7월 극장 개봉[공식]\",\"label\":null,\"url\":\"https://movie.v.daum.net/v/20220622111654675\",\"icon\":\"TEXT\",\"imageUrl\":\"https://t1.daumcdn.net/news/202206/22/poctan/20220622111656053erpg.jpg\",\"source\":\"OSEN\",\"position\":0,\"meta\":{\"impressionId\":\"tromm\",\"contentUniqueKey\":\"hamny-20220622111654675\",\"mediaName\":\"OSEN\",\"torosRanking\":0,\"torosScore\":0.0,\"poolCode\":\"ptop_movie_txt\",\"feedId\":11,\"feedName\":\"하모니\",\"clusterTitle\":\"\"}},{\"id\":\"brch-4RXQ-176\",\"title\":\"한국인에게 가장 재미없는 한국영화 <브로커>\",\"label\":null,\"url\":\"https://brunch.co.kr/@@4RXQ/176\",\"icon\":\"TEXT\",\"imageUrl\":\"http://t1.daumcdn.net/brunch/service/user/4RXQ/image/-uP8AmAtG1V84hgabdprEyOcrgA.jpg\",\"source\":\"구삼모델의 브런치\",\"position\":0,\"meta\":{\"impressionId\":\"tromm\",\"contentUniqueKey\":\"brch-4RXQ-176\",\"mediaName\":\"구삼모델의 브런치\",\"torosRanking\":0,\"torosScore\":0.0,\"poolCode\":\"ptop_movie_txt\",\"feedId\":1,\"feedName\":\"브런치\",\"clusterTitle\":\"\"}},{\"id\":\"brch-2ViD-725\",\"title\":\"돌아온 매버릭, <탑건>을 보면 더 깊게 빠져드는 이유\",\"label\":null,\"url\":\"https://brunch.co.kr/@@2ViD/725\",\"icon\":\"TEXT\",\"imageUrl\":\"http://t1.daumcdn.net/brunch/service/user/2ViD/image/VHAggmWrJCulQ4WPWkgxJ7Znbss.jpg\",\"source\":\"가려진 시간의 브런치\",\"position\":0,\"meta\":{\"impressionId\":\"tromm\",\"contentUniqueKey\":\"brch-2ViD-725\",\"mediaName\":\"가려진 시간의 브런치\",\"torosRanking\":0,\"torosScore\":0.0,\"poolCode\":\"ptop_movie_txt\",\"feedId\":1,\"feedName\":\"브런치\",\"clusterTitle\":\"\"}},{\"id\":\"hamny-20220622001725171\",\"title\":\"'태일이'·'각질' 안시 국제애니영화제 수상\",\"label\":null,\"url\":\"https://movie.v.daum.net/v/20220622001725171\",\"icon\":\"TEXT\",\"imageUrl\":\"https://t1.daumcdn.net/news/202206/22/akn/20220622001727031bvfm.jpg\",\"source\":\"아시아경제\",\"position\":0,\"meta\":{\"impressionId\":\"tromm\",\"contentUniqueKey\":\"hamny-20220622001725171\",\"mediaName\":\"아시아경제\",\"torosRanking\":0,\"torosScore\":0.0,\"poolCode\":\"ptop_movie_txt\",\"feedId\":11,\"feedName\":\"하모니\",\"clusterTitle\":\"\"}},{\"id\":\"hamny-20220621112405194\",\"title\":\"'고스트랜드' 니콜라스 케이지, 6월 극장가 마지막 주자\",\"label\":null,\"url\":\"https://movie.v.daum.net/v/20220621112405194\",\"icon\":\"TEXT\",\"imageUrl\":\"https://t1.daumcdn.net/news/202206/21/startoday/20220621112408562taed.png\",\"source\":\"스타투데이\",\"position\":0,\"meta\":{\"impressionId\":\"tromm\",\"contentUniqueKey\":\"hamny-20220621112405194\",\"mediaName\":\"스타투데이\",\"torosRanking\":0,\"torosScore\":0.0,\"poolCode\":\"ptop_movie_txt\",\"feedId\":11,\"feedName\":\"하모니\",\"clusterTitle\":\"\"}},{\"id\":\"hamny-20220621131947641\",\"title\":\"리암 니슨 \\\"지금껏 본 적 없는 안티히어로\\\" 변신, '메모리' 7월 13일 개봉\",\"label\":null,\"url\":\"https://movie.v.daum.net/v/20220621131947641\",\"icon\":\"TEXT\",\"imageUrl\":\"https://t1.daumcdn.net/news/202206/21/mydaily/20220621131947190sihx.jpg\",\"source\":\"마이데일리\",\"position\":0,\"meta\":{\"impressionId\":\"tromm\",\"contentUniqueKey\":\"hamny-20220621131947641\",\"mediaName\":\"마이데일리\",\"torosRanking\":0,\"torosScore\":0.0,\"poolCode\":\"ptop_movie_txt\",\"feedId\":11,\"feedName\":\"하모니\",\"clusterTitle\":\"\"}},{\"id\":\"hamny-20220622063033781\",\"title\":\"'브로커' 이동휘·'헤어질 결심' 김신영..특별출연도 명품!\",\"label\":null,\"url\":\"https://movie.v.daum.net/v/20220622063033781\",\"icon\":\"TEXT\",\"imageUrl\":\"https://t1.daumcdn.net/news/202206/22/sportsdonga/20220622063034945strq.jpg\",\"source\":\"스포츠동아\",\"position\":0,\"meta\":{\"impressionId\":\"tromm\",\"contentUniqueKey\":\"hamny-20220622063033781\",\"mediaName\":\"스포츠동아\",\"torosRanking\":0,\"torosScore\":0.0,\"poolCode\":\"ptop_movie_txt\",\"feedId\":11,\"feedName\":\"하모니\",\"clusterTitle\":\"\"}},{\"id\":\"hamny-20220622063301815\",\"title\":\"신시아 \\\"'카르멘' 보며 배우의 꿈.. 딱 맞더라고요\\\" [쿠키인터뷰]\",\"label\":null,\"url\":\"https://movie.v.daum.net/v/20220622063301815\",\"icon\":\"TEXT\",\"imageUrl\":\"https://t1.daumcdn.net/news/202206/22/kukinews/20220622063303175ouiy.jpg\",\"source\":\"쿠키뉴스\",\"position\":0,\"meta\":{\"impressionId\":\"tromm\",\"contentUniqueKey\":\"hamny-20220622063301815\",\"mediaName\":\"쿠키뉴스\",\"torosRanking\":0,\"torosScore\":0.0,\"poolCode\":\"ptop_movie_txt\",\"feedId\":11,\"feedName\":\"하모니\",\"clusterTitle\":\"\"}},{\"id\":\"hamny-20220622093636910\",\"title\":\"'토르: 러브 앤 썬더', 토르→발키리 '팀 토르' 결성..강력 시너지 예고\",\"label\":null,\"url\":\"https://movie.v.daum.net/v/20220622093636910\",\"icon\":\"TEXT\",\"imageUrl\":\"https://t1.daumcdn.net/news/202206/22/starnews/20220622093637429mvff.jpg\",\"source\":\"스타뉴스\",\"position\":0,\"meta\":{\"impressionId\":\"tromm\",\"contentUniqueKey\":\"hamny-20220622093636910\",\"mediaName\":\"스타뉴스\",\"torosRanking\":0,\"torosScore\":0.0,\"poolCode\":\"ptop_movie_txt\",\"feedId\":11,\"feedName\":\"하모니\",\"clusterTitle\":\"\"}}],\"ptop_movie_img_1\":[{\"id\":\"hamny-EyD0DGQ8s4\",\"title\":\"한국 지방 도시까지 내려와 명예시민이 된 월드 스타\",\"label\":null,\"url\":\"https://content.v.daum.net/v/EyD0DGQ8s4\",\"icon\":\"IMAGE\",\"imageUrl\":\"https://t1.daumcdn.net/news/202206/22/feelthemovie/20220622010916386psbc.jpeg\",\"source\":\"필더무비\",\"position\":0,\"meta\":{\"impressionId\":\"tromm\",\"contentUniqueKey\":\"hamny-EyD0DGQ8s4\",\"mediaName\":\"필더무비\",\"torosRanking\":0,\"torosScore\":0.0,\"poolCode\":\"ptop_movie_img\",\"feedId\":11,\"feedName\":\"하모니\",\"clusterTitle\":\"\"}},{\"id\":\"brch-1ibV-1032\",\"title\":\"액정-시점숏에 관해\",\"label\":null,\"url\":\"https://brunch.co.kr/@@1ibV/1032\",\"icon\":\"IMAGE\",\"imageUrl\":\"https://t1.daumcdn.net/section/oc/d3a52abff6c44f8aa6f0ecf3da226fd0\",\"source\":\"영화평론가 박동수의 브런치\",\"position\":0,\"meta\":{\"impressionId\":\"tromm\",\"contentUniqueKey\":\"brch-1ibV-1032\",\"mediaName\":\"영화평론가 박동수의 브런치\",\"torosRanking\":0,\"torosScore\":0.0,\"poolCode\":\"ptop_movie_img\",\"feedId\":1,\"feedName\":\"브런치\",\"clusterTitle\":\"\"}},{\"id\":\"brch-3drv-1196\",\"title\":\"덜 뭉친 떡밥을 물고기는 먹지 않는다.\",\"label\":null,\"url\":\"https://brunch.co.kr/@@3drv/1196\",\"icon\":\"IMAGE\",\"imageUrl\":\"https://t1.daumcdn.net/section/oc/ea48643f50d04f92867d87ac9c3c12e9\",\"source\":\"권씀의 브런치\",\"position\":0,\"meta\":{\"impressionId\":\"tromm\",\"contentUniqueKey\":\"brch-3drv-1196\",\"mediaName\":\"권씀의 브런치\",\"torosRanking\":0,\"torosScore\":0.0,\"poolCode\":\"ptop_movie_img\",\"feedId\":1,\"feedName\":\"브런치\",\"clusterTitle\":\"\"}},{\"id\":\"tv-337443797\",\"title\":\"뽀로로와 친구들의 판타지 액션 어드벤처! '뽀로로 극장판 드래곤캐슬 대모험' 메인 예고편\",\"label\":null,\"url\":\"https://newslink.media.daum.net/v/429784858\",\"icon\":\"VIDEO\",\"imageUrl\":\"https://t1.daumcdn.net/section/oc/f7f20d67fe384165b685163a3a11293b\",\"source\":\"우리 영화 볼래?\",\"position\":0,\"meta\":{\"impressionId\":\"tromm\",\"contentUniqueKey\":\"tv-337443797\",\"mediaName\":\"우리 영화 볼래?\",\"torosRanking\":0,\"torosScore\":0.0,\"poolCode\":\"ptop_movie_img\",\"feedId\":22,\"feedName\":\"카카오TV\",\"clusterTitle\":\"\"}},{\"id\":\"hamny-Eh3RHVcX5Y\",\"title\":\"말씀 중에 죄송합니다, 이 영화 MCU 아닙니다\",\"label\":null,\"url\":\"https://content.v.daum.net/v/Eh3RHVcX5Y\",\"icon\":\"IMAGE\",\"imageUrl\":\"https://t1.daumcdn.net/section/oc/3104efbc8e934302897ae77cecfc517a\",\"source\":\"알려줌 ALZi Media\",\"position\":0,\"meta\":{\"impressionId\":\"tromm\",\"contentUniqueKey\":\"hamny-Eh3RHVcX5Y\",\"mediaName\":\"알려줌 ALZi Media\",\"torosRanking\":0,\"torosScore\":0.0,\"poolCode\":\"ptop_movie_img\",\"feedId\":11,\"feedName\":\"하모니\",\"clusterTitle\":\"\"}},{\"id\":\"hamny-20220622073009594\",\"title\":\"톰 크루즈, 환갑에 찍은 커리어 하이..반전 없이 감격 '탑건:매버릭'[개봉작 리뷰]\",\"label\":null,\"url\":\"https://movie.v.daum.net/v/20220622073009594\",\"icon\":\"TEXT\",\"imageUrl\":\"https://t1.daumcdn.net/section/oc/8e3df884f45449d79c2886ed34ba0efb\",\"source\":\"뉴스엔\",\"position\":0,\"meta\":{\"impressionId\":\"tromm\",\"contentUniqueKey\":\"hamny-20220622073009594\",\"mediaName\":\"뉴스엔\",\"torosRanking\":0,\"torosScore\":0.0,\"poolCode\":\"ptop_movie_img\",\"feedId\":11,\"feedName\":\"하모니\",\"clusterTitle\":\"\"}},{\"id\":\"hamny-20220622131417619\",\"title\":\"'헤어질 결심' 이정현·박용우·고경표·김신영·박정민, 보는 재미↑ [Oh!쎈 예고]\",\"label\":null,\"url\":\"https://movie.v.daum.net/v/20220622131417619\",\"icon\":\"TEXT\",\"imageUrl\":\"https://t1.daumcdn.net/section/oc/c0fa240b5f5e45628b915cf71a678c95\",\"source\":\"OSEN\",\"position\":0,\"meta\":{\"impressionId\":\"tromm\",\"contentUniqueKey\":\"hamny-20220622131417619\",\"mediaName\":\"OSEN\",\"torosRanking\":0,\"torosScore\":0.0,\"poolCode\":\"ptop_movie_img\",\"feedId\":11,\"feedName\":\"하모니\",\"clusterTitle\":\"\"}},{\"id\":\"hamny-20220622080325127\",\"title\":\"송강호, 베테랑 형사팀장 변신('비상선언')\",\"label\":null,\"url\":\"https://movie.v.daum.net/v/20220622080325127\",\"icon\":\"TEXT\",\"imageUrl\":\"https://t1.daumcdn.net/section/oc/6c2930bf1d33491f847427d11c4ffe07\",\"source\":\"OSEN\",\"position\":0,\"meta\":{\"impressionId\":\"tromm\",\"contentUniqueKey\":\"hamny-20220622080325127\",\"mediaName\":\"OSEN\",\"torosRanking\":0,\"torosScore\":0.0,\"poolCode\":\"ptop_movie_img\",\"feedId\":11,\"feedName\":\"하모니\",\"clusterTitle\":\"\"}}]},\"cabinets\":null,\"board\":false},{\"code\":2379,\"type\":\"PC_MEDIA_AUTO\",\"items\":{\"op\":{\"tab\":\"auto\",\"title\":\"자동차\",\"url\":\"https://auto.daum.net/\"},\"left_thumbnail_op\":{\"imageUrl\":\"https://t1.daumcdn.net/section/oc/5e8c099aa7af4916b4e689d2a9626e9b\",\"copy2\":\"\",\"label\":\"라라클래식 12월호\",\"copy1\":\"토요타 랠리 도전의 상징, 셀리카\",\"thumbnailType\":\"TESLA\",\"url\":\"https://auto.daum.net/cover/lalaclassic/5267494\",\"status\":\"on\"},\"footLinkLeft\":{\"foot1\":\"{\\\"title\\\":\\\"동영상\\\",\\\"url\\\":\\\"https://auto.daum.net/vod\\\",\\\"tiaraTag\\\":\\\"movies\\\"}\",\"foot0\":\"{\\\"title\\\":\\\"시승기\\\",\\\"url\\\":\\\"https://auto.daum.net/news/review\\\",\\\"tiaraTag\\\":\\\"review\\\"}\",\"foot3\":\"{\\\"title\\\":\\\"\\\",\\\"url\\\":\\\"\\\",\\\"tiaraTag\\\":\\\"\\\"}\",\"footer\":\"{\\\"title\\\":\\\"자동차홈\\\",\\\"url\\\":\\\"https://auto.daum.net/\\\"}\",\"foot2\":\"{\\\"title\\\":\\\"신차\\\",\\\"url\\\":\\\"https://auto.daum.net/newcar\\\",\\\"tiaraTag\\\":\\\"newcar\\\"}\",\"status\":\"on\"},\"footLinkRight\":{\"foot1\":\"{\\\"title\\\":\\\"자동차세\\\",\\\"url\\\":\\\"https://search.daum.net/search?w=tot&q=%EC%9E%90%EB%8F%99%EC%B0%A8%EC%84%B8&DA=TMZ\\\",\\\"tiaraTag\\\":\\\"cartax\\\"}\",\"foot0\":\"{\\\"title\\\":\\\"자동차365\\\",\\\"url\\\":\\\"https://search.daum.net/search?w=tot&q=%EC%9E%90%EB%8F%99%EC%B0%A8365&DA=TMZ\\\",\\\"tiaraTag\\\":\\\"car365\\\"}\",\"foot2\":\"{\\\"title\\\":\\\"자동차검사예약\\\",\\\"url\\\":\\\"https://search.daum.net/search?w=tot&q=%EC%9E%90%EB%8F%99%EC%B0%A8%EA%B2%80%EC%82%AC%20%EC%98%88%EC%95%BD&DA=TMZ\\\",\\\"tiaraTag\\\":\\\"inspection\\\"}\",\"status\":\"on\"},\"specialLink\":{\"displayType\":\"specialLink\",\"title\":\"'자동차톡' 채널 추가하기\",\"url\":\"http://pf.kakao.com/_xbLYxbu\",\"iconType\":\"HOT\",\"status\":\"off\"}},\"feeds\":{},\"teslas\":{\"ptop_car_img_1\":[{\"id\":\"hamny-EjIthdjMPD\",\"title\":\"푸조 408 공개, 잘생기고 매력적인 패스트백 스타일\",\"label\":null,\"url\":\"https://auto.v.daum.net/v/EjIthdjMPD\",\"icon\":\"TEXT\",\"imageUrl\":\"https://t1.daumcdn.net/news/202206/22/TOP-RIDER/20220622155002049fwvy.jpg\",\"source\":\"탑라이더\",\"position\":0,\"meta\":{\"impressionId\":\"tromm\",\"contentUniqueKey\":\"hamny-EjIthdjMPD\",\"mediaName\":\"탑라이더\",\"torosRanking\":0,\"torosScore\":0.0,\"poolCode\":\"ptop_car_img\",\"feedId\":11,\"feedName\":\"하모니\",\"clusterTitle\":\"\"}},{\"id\":\"tv-337457985\",\"title\":\"\\\"여보, 2300만원 있는데..\\\" 빚내서 아반떼 vs 아껴서 캐스퍼 ll 본격 세단&라임 부부 시승기\",\"label\":null,\"url\":\"https://newslink.media.daum.net/v/429810137\",\"icon\":\"VIDEO\",\"imageUrl\":\"http://img1.kakaocdn.net/kakaotv/KAKAOACCOUNT/503499777/thumb/20220622135552\",\"source\":\"모터그래프\",\"position\":0,\"meta\":{\"impressionId\":\"tromm\",\"contentUniqueKey\":\"tv-337457985\",\"mediaName\":\"모터그래프\",\"torosRanking\":0,\"torosScore\":0.0,\"poolCode\":\"ptop_car_img\",\"feedId\":22,\"feedName\":\"카카오TV\",\"clusterTitle\":\"\"}},{\"id\":\"hamny-EGn0Beq15q\",\"title\":\"'앞은 밴 뒤는 보트' 신기한 보터홈 등장\",\"label\":null,\"url\":\"https://auto.v.daum.net/v/EGn0Beq15q\",\"icon\":\"TEXT\",\"imageUrl\":\"https://t1.daumcdn.net/news/202206/22/thedrive/20220622050837613woga.jpeg\",\"source\":\"더드라이브\",\"position\":0,\"meta\":{\"impressionId\":\"tromm\",\"contentUniqueKey\":\"hamny-EGn0Beq15q\",\"mediaName\":\"더드라이브\",\"torosRanking\":0,\"torosScore\":0.0,\"poolCode\":\"ptop_car_img\",\"feedId\":11,\"feedName\":\"하모니\",\"clusterTitle\":\"\"}},{\"id\":\"hamny-E0abCFNVrv\",\"title\":\"도로 위 아찔한 구멍들, 포트홀이 발생되는 이유는?\",\"label\":null,\"url\":\"https://content.v.daum.net/v/E0abCFNVrv\",\"icon\":\"IMAGE\",\"imageUrl\":\"https://t1.daumcdn.net/news/202206/22/pickplus/20220622140558784dceu.jpg\",\"source\":\"픽플러스\",\"position\":0,\"meta\":{\"impressionId\":\"tromm\",\"contentUniqueKey\":\"hamny-E0abCFNVrv\",\"mediaName\":\"픽플러스\",\"torosRanking\":0,\"torosScore\":0.0,\"poolCode\":\"ptop_car_img\",\"feedId\":11,\"feedName\":\"하모니\",\"clusterTitle\":\"\"}},{\"id\":\"hamny-EnEcnhAOSi\",\"title\":\"개성있는 스타일의 클래식 스쿠터, 빅토리아 모토라드 니키\",\"label\":null,\"url\":\"https://auto.v.daum.net/v/EnEcnhAOSi\",\"icon\":\"TEXT\",\"imageUrl\":\"https://t1.daumcdn.net/news/202206/22/RideMagazine/20220622135516887luid.jpg\",\"source\":\"라이드매거진\",\"position\":0,\"meta\":{\"impressionId\":\"tromm\",\"contentUniqueKey\":\"hamny-EnEcnhAOSi\",\"mediaName\":\"라이드매거진\",\"torosRanking\":0,\"torosScore\":0.0,\"poolCode\":\"ptop_car_img\",\"feedId\":11,\"feedName\":\"하모니\",\"clusterTitle\":\"\"}},{\"id\":\"hamny-20220622125302186\",\"title\":\"든든한 친구, 랜드로버 이보크 P250[시승]\",\"label\":null,\"url\":\"https://auto.v.daum.net/v/20220622125302186\",\"icon\":\"TEXT\",\"imageUrl\":\"https://t1.daumcdn.net/news/202206/22/autotimes/20220622125304253hckf.jpg\",\"source\":\"오토타임즈\",\"position\":0,\"meta\":{\"impressionId\":\"tromm\",\"contentUniqueKey\":\"hamny-20220622125302186\",\"mediaName\":\"오토타임즈\",\"torosRanking\":0,\"torosScore\":0.0,\"poolCode\":\"ptop_car_img\",\"feedId\":11,\"feedName\":\"하모니\",\"clusterTitle\":\"시승\"}},{\"id\":\"hamny-EwM7xUSqZg\",\"title\":\"'프리미엄 픽업트럭의 전설' GMC 시에라 국내 상륙!\",\"label\":null,\"url\":\"https://auto.v.daum.net/v/EwM7xUSqZg\",\"icon\":\"TEXT\",\"imageUrl\":\"https://t1.daumcdn.net/news/202206/22/thedrive/20220622044541822tqpl.jpeg\",\"source\":\"더드라이브\",\"position\":0,\"meta\":{\"impressionId\":\"tromm\",\"contentUniqueKey\":\"hamny-EwM7xUSqZg\",\"mediaName\":\"더드라이브\",\"torosRanking\":0,\"torosScore\":0.0,\"poolCode\":\"ptop_car_img\",\"feedId\":11,\"feedName\":\"하모니\",\"clusterTitle\":\"\"}},{\"id\":\"tv-337456801\",\"title\":\"렉서스 NX 450h+ \\\"모터와 엔진의 환상 콜라보...스포츠 모드 해 봤나?\\\"\",\"label\":null,\"url\":\"https://newslink.media.daum.net/v/429808042\",\"icon\":\"VIDEO\",\"imageUrl\":\"http://img1.kakaocdn.net/kakaotv/KAKAOACCOUNT/2065658400/thumb/20220622120259\",\"source\":\"오토헤럴드 TV\",\"position\":0,\"meta\":{\"impressionId\":\"tromm\",\"contentUniqueKey\":\"tv-337456801\",\"mediaName\":\"오토헤럴드 TV\",\"torosRanking\":0,\"torosScore\":0.0,\"poolCode\":\"ptop_car_img\",\"feedId\":22,\"feedName\":\"카카오TV\",\"clusterTitle\":\"\"}}],\"ptop_car_txt_1\":[{\"id\":\"hamny-ERGkTMHyb0\",\"title\":\"한국지엠, 수출과 멀티브랜드 전략으로 손익분기 넘는다\",\"label\":null,\"url\":\"https://auto.v.daum.net/v/ERGkTMHyb0\",\"icon\":\"TEXT\",\"imageUrl\":\"https://t1.daumcdn.net/news/202206/22/TOP-RIDER/20220622154700625wclh.jpg\",\"source\":\"탑라이더\",\"position\":0,\"meta\":{\"impressionId\":\"tromm\",\"contentUniqueKey\":\"hamny-ERGkTMHyb0\",\"mediaName\":\"탑라이더\",\"torosRanking\":0,\"torosScore\":0.0,\"poolCode\":\"ptop_car_txt\",\"feedId\":11,\"feedName\":\"하모니\",\"clusterTitle\":\"\"}},{\"id\":\"hamny-ExWLUDIggI\",\"title\":\"GM코리아 로베르토 렘펠사장, \\\"멀티브랜드 전략. 수출 투트랙으로 경영정상화\\\"\",\"label\":null,\"url\":\"https://auto.v.daum.net/v/ExWLUDIggI\",\"icon\":\"TEXT\",\"imageUrl\":\"https://t1.daumcdn.net/news/202206/22/autodaily/20220622151323945nyyv.jpg\",\"source\":\"M투데이\",\"position\":0,\"meta\":{\"impressionId\":\"tromm\",\"contentUniqueKey\":\"hamny-ExWLUDIggI\",\"mediaName\":\"M투데이\",\"torosRanking\":0,\"torosScore\":0.0,\"poolCode\":\"ptop_car_txt\",\"feedId\":11,\"feedName\":\"하모니\",\"clusterTitle\":\"\"}},{\"id\":\"hamny-EpCkukQiaK\",\"title\":\"초절정 인기 1억원대 GMC 허머 EV..8백만원 인상\",\"label\":null,\"url\":\"https://auto.v.daum.net/v/EpCkukQiaK\",\"icon\":\"TEXT\",\"imageUrl\":\"https://t1.daumcdn.net/news/202206/22/carguy/20220622150351811wnpg.jpg\",\"source\":\"카가이\",\"position\":0,\"meta\":{\"impressionId\":\"tromm\",\"contentUniqueKey\":\"hamny-EpCkukQiaK\",\"mediaName\":\"카가이\",\"torosRanking\":0,\"torosScore\":0.0,\"poolCode\":\"ptop_car_txt\",\"feedId\":11,\"feedName\":\"하모니\",\"clusterTitle\":\"\"}},{\"id\":\"hamny-EgDSOl0McH\",\"title\":\"르노그룹, 민트그룹과 전기차용 배터리 케이스 생산한다\",\"label\":null,\"url\":\"https://auto.v.daum.net/v/EgDSOl0McH\",\"icon\":\"TEXT\",\"imageUrl\":\"https://t1.daumcdn.net/news/202206/22/GlobalAutoNews/20220622150008446hejw.jpg\",\"source\":\"글로벌오토뉴스\",\"position\":0,\"meta\":{\"impressionId\":\"tromm\",\"contentUniqueKey\":\"hamny-EgDSOl0McH\",\"mediaName\":\"글로벌오토뉴스\",\"torosRanking\":0,\"torosScore\":0.0,\"poolCode\":\"ptop_car_txt\",\"feedId\":11,\"feedName\":\"하모니\",\"clusterTitle\":\"\"}},{\"id\":\"hamny-Evm8WTjdvT\",\"title\":\"EU, 2035년부터 신규 내연기관차 금지..\\\"독일은 반대\\\"\",\"label\":null,\"url\":\"https://auto.v.daum.net/v/Evm8WTjdvT\",\"icon\":\"TEXT\",\"imageUrl\":\"https://t1.daumcdn.net/news/202206/22/GPKOREA/20220622144819301srav.jpg\",\"source\":\"지피코리아\",\"position\":0,\"meta\":{\"impressionId\":\"tromm\",\"contentUniqueKey\":\"hamny-Evm8WTjdvT\",\"mediaName\":\"지피코리아\",\"torosRanking\":0,\"torosScore\":0.0,\"poolCode\":\"ptop_car_txt\",\"feedId\":11,\"feedName\":\"하모니\",\"clusterTitle\":\"\"}},{\"id\":\"hamny-20220622144715169\",\"title\":\"'사전계약 첫날 1.2만대' 출발 좋은 쌍용차 '토레스'..하반기 경쟁 SUV는?\",\"label\":null,\"url\":\"https://auto.v.daum.net/v/20220622144715169\",\"icon\":\"TEXT\",\"imageUrl\":\"https://t1.daumcdn.net/news/202206/22/NEWS1/20220622144716291orzd.jpg\",\"source\":\"뉴스1\",\"position\":0,\"meta\":{\"impressionId\":\"tromm\",\"contentUniqueKey\":\"hamny-20220622144715169\",\"mediaName\":\"뉴스1\",\"torosRanking\":0,\"torosScore\":0.0,\"poolCode\":\"ptop_car_txt\",\"feedId\":11,\"feedName\":\"하모니\",\"clusterTitle\":\"\"}},{\"id\":\"hamny-ESOewY3fsG\",\"title\":\"마일리지 히어로, 프리우스를 찾아라\",\"label\":null,\"url\":\"https://auto.v.daum.net/v/ESOewY3fsG\",\"icon\":\"TEXT\",\"imageUrl\":\"https://t1.daumcdn.net/news/202206/22/AUTOCARKOREA/20220622143425424vvwj.jpg\",\"source\":\"오토카코리아\",\"position\":0,\"meta\":{\"impressionId\":\"tromm\",\"contentUniqueKey\":\"hamny-ESOewY3fsG\",\"mediaName\":\"오토카코리아\",\"torosRanking\":0,\"torosScore\":0.0,\"poolCode\":\"ptop_car_txt\",\"feedId\":11,\"feedName\":\"하모니\",\"clusterTitle\":\"\"}},{\"id\":\"hamny-EL9yqYMIPr\",\"title\":\"환경부 국유지 최초, 하이넷 환경산업연구단지 수소충전소 준공\",\"label\":null,\"url\":\"https://auto.v.daum.net/v/EL9yqYMIPr\",\"icon\":\"TEXT\",\"imageUrl\":\"https://t1.daumcdn.net/news/202206/22/GlobalAutoNews/20220622143016796jnee.jpg\",\"source\":\"글로벌오토뉴스\",\"position\":0,\"meta\":{\"impressionId\":\"tromm\",\"contentUniqueKey\":\"hamny-EL9yqYMIPr\",\"mediaName\":\"글로벌오토뉴스\",\"torosRanking\":0,\"torosScore\":0.0,\"poolCode\":\"ptop_car_txt\",\"feedId\":11,\"feedName\":\"하모니\",\"clusterTitle\":\"\"}},{\"id\":\"hamny-Em8hWvGLB6\",\"title\":\"폭염과 폭우 반복 올해 장마 무섭다 '자동차 무조건 서행하고 사전 점검 대비'\",\"label\":null,\"url\":\"https://auto.v.daum.net/v/Em8hWvGLB6\",\"icon\":\"TEXT\",\"imageUrl\":\"https://t1.daumcdn.net/news/202206/22/autoherald/20220622132440603vese.png\",\"source\":\"오토헤럴드\",\"position\":0,\"meta\":{\"impressionId\":\"tromm\",\"contentUniqueKey\":\"hamny-Em8hWvGLB6\",\"mediaName\":\"오토헤럴드\",\"torosRanking\":0,\"torosScore\":0.0,\"poolCode\":\"ptop_car_txt\",\"feedId\":11,\"feedName\":\"하모니\",\"clusterTitle\":\"\"}},{\"id\":\"hamny-EMjARmu2v0\",\"title\":\"3주간 폐차장에 세워졌던 테슬라 모델S..갑자기 화재 발생한 이유는?\",\"label\":null,\"url\":\"https://auto.v.daum.net/v/EMjARmu2v0\",\"icon\":\"TEXT\",\"imageUrl\":\"https://t1.daumcdn.net/news/202206/22/dailycar/20220622125912479orzg.jpg\",\"source\":\"데일리카\",\"position\":0,\"meta\":{\"impressionId\":\"tromm\",\"contentUniqueKey\":\"hamny-EMjARmu2v0\",\"mediaName\":\"데일리카\",\"torosRanking\":0,\"torosScore\":0.0,\"poolCode\":\"ptop_car_txt\",\"feedId\":11,\"feedName\":\"하모니\",\"clusterTitle\":\"\"}}]},\"cabinets\":null,\"board\":false},{\"code\":2380,\"type\":\"PC_MEDIA_REAL_ESTATE\",\"items\":{\"op\":{\"tab\":\"realestate\",\"title\":\"부동산\",\"url\":\"https://realty.daum.net/\"},\"footLinkLeft\":{\"foot1\":\"{\\\"title\\\":\\\"분양\\\",\\\"url\\\":\\\"https://realty.daum.net/home/apt/map/offer\\\",\\\"tiaraTag\\\":\\\"bunyang\\\"}\",\"foot0\":\"{\\\"title\\\":\\\"주거\\\",\\\"url\\\":\\\"https://realty.daum.net/home/apt/map\\\",\\\"tiaraTag\\\":\\\"map\\\"}\",\"foot3\":\"{\\\"title\\\":\\\"뉴스\\\",\\\"url\\\":\\\"https://realestate.daum.net/news\\\",\\\"tiaraTag\\\":\\\"news\\\"}\",\"footer\":\"{\\\"title\\\":\\\"부동산홈\\\",\\\"url\\\":\\\"https://realty.daum.net/\\\"}\",\"foot2\":\"{\\\"title\\\":\\\"인테리어\\\",\\\"url\\\":\\\"https://interior.realestate.daum.net/\\\",\\\"tiaraTag\\\":\\\"interior\\\"}\",\"foot4\":\"{\\\"title\\\":\\\"커뮤니티\\\",\\\"url\\\":\\\"https://realestate.daum.net/community\\\",\\\"tiaraTag\\\":\\\"community\\\"}\",\"status\":\"on\"},\"footLinkRight\":{\"foot1\":\"{\\\"title\\\":\\\"대출이자계산기\\\",\\\"url\\\":\\\"https://search.daum.net/search?w=tot&q=%EB%8C%80%EC%B6%9C%EC%9D%B4%EC%9E%90%EA%B3%84%EC%82%B0%EA%B8%B0&DA=TMZ\\\",\\\"tiaraTag\\\":\\\"loan\\\"}\",\"foot0\":\"{\\\"title\\\":\\\"아파트실거래가조회\\\",\\\"url\\\":\\\"https://search.daum.net/search?w=tot&q=%EC%95%84%ED%8C%8C%ED%8A%B8%20%EC%8B%A4%EA%B1%B0%EB%9E%98%EA%B0%80%20%EC%A1%B0%ED%9A%8C&DA=TMZ\\\",\\\"tiaraTag\\\":\\\"price\\\"}\",\"foot2\":\"{\\\"title\\\":\\\"\\\",\\\"url\\\":\\\"\\\",\\\"tiaraTag\\\":\\\"\\\"}\",\"status\":\"on\"}},\"feeds\":{\"pc_media_real_estate_operate\":\"{\\\"url\\\":\\\"http://interior.realestate.daum.net/asp/story/View.do?&mngIdx=1583\\\",\\\"title\\\":\\\"TV 없애고 평상홈카페를 들인 35평반포자이\\\",\\\"imageUrl\\\":\\\"https://t1.daumcdn.net/thumb/C308x188/?fname=https%3A%2F%2Ft1.daumcdn.net%2Festate%2Fadministration%2Fd959afc5624f2b9c62dfbd05dbfc4c1669f29968\\\",\\\"icon\\\":\\\"IMAGE\\\"}\"},\"teslas\":{\"ptop_realestate_img_1\":[{\"id\":\"hamny-20220622151016209\",\"title\":\"전세 끼고 산 주택, '5%룰' 지켜도 상생임대인 아니다\",\"label\":null,\"url\":\"http://realestate.daum.net/news/detail/all/20220622151016209\",\"icon\":\"TEXT\",\"imageUrl\":\"https://t1.daumcdn.net/news/202206/22/moneytoday/20220622151017439gqvy.jpg\",\"source\":\"머니투데이\",\"position\":0,\"meta\":{\"impressionId\":\"tromm\",\"contentUniqueKey\":\"hamny-20220622151016209\",\"mediaName\":\"머니투데이\",\"torosRanking\":0,\"torosScore\":0.0,\"poolCode\":\"ptop_realestate_img\",\"feedId\":11,\"feedName\":\"하모니\",\"clusterTitle\":\"\"}},{\"id\":\"hamny-E9KlU7s8F1\",\"title\":\"멀리 휴가 갈 필요 없어요! 도심 속 복층 테라스에 둘만의 '피서지'를 꾸민 신혼집\",\"label\":null,\"url\":\"https://content.v.daum.net/v/E9KlU7s8F1\",\"icon\":\"IMAGE\",\"imageUrl\":\"https://t1.daumcdn.net/news/202206/22/ggumigi/20220622140018364yjku.jpg\",\"source\":\"집꾸미기\",\"position\":0,\"meta\":{\"impressionId\":\"tromm\",\"contentUniqueKey\":\"hamny-E9KlU7s8F1\",\"mediaName\":\"집꾸미기\",\"torosRanking\":0,\"torosScore\":0.0,\"poolCode\":\"ptop_realestate_img\",\"feedId\":11,\"feedName\":\"하모니\",\"clusterTitle\":\"\"}},{\"id\":\"hamny-EHBetOZSF1\",\"title\":\"층간소음 사각지대 441만호의 눈물\",\"label\":null,\"url\":\"https://content.v.daum.net/v/EHBetOZSF1\",\"icon\":\"IMAGE\",\"imageUrl\":\"https://t1.daumcdn.net/news/202206/21/thescoop/20220621034254977xrn0.jpeg\",\"source\":\"더스쿠프\",\"position\":0,\"meta\":{\"impressionId\":\"tromm\",\"contentUniqueKey\":\"hamny-EHBetOZSF1\",\"mediaName\":\"더스쿠프\",\"torosRanking\":0,\"torosScore\":0.0,\"poolCode\":\"ptop_realestate_img\",\"feedId\":11,\"feedName\":\"하모니\",\"clusterTitle\":\"\"}},{\"id\":\"hamny-ETRvpXtAzW\",\"title\":\"'이것' 덕분에.. 운좋게 들어간 'LH 임대주택', 이렇게 살아요\",\"label\":null,\"url\":\"https://content.v.daum.net/v/ETRvpXtAzW\",\"icon\":\"IMAGE\",\"imageUrl\":\"https://t1.daumcdn.net/news/202206/22/harmony/20220622000253203utoo.png\",\"source\":\"오늘의집\",\"position\":0,\"meta\":{\"impressionId\":\"tromm\",\"contentUniqueKey\":\"hamny-ETRvpXtAzW\",\"mediaName\":\"오늘의집\",\"torosRanking\":0,\"torosScore\":0.0,\"poolCode\":\"ptop_realestate_img\",\"feedId\":11,\"feedName\":\"하모니\",\"clusterTitle\":\"\"}},{\"id\":\"hamny-20220622105114192\",\"title\":\"분양가 상한제 개편안 '반쪽짜리' 평가..\\\"공급 확대 글쎄\\\"\",\"label\":null,\"url\":\"http://realestate.daum.net/news/detail/all/20220622105114192\",\"icon\":\"TEXT\",\"imageUrl\":\"https://t1.daumcdn.net/news/202206/22/THEFACT/20220622105115148bdop.jpg\",\"source\":\"더팩트\",\"position\":0,\"meta\":{\"impressionId\":\"tromm\",\"contentUniqueKey\":\"hamny-20220622105114192\",\"mediaName\":\"더팩트\",\"torosRanking\":0,\"torosScore\":0.0,\"poolCode\":\"ptop_realestate_img\",\"feedId\":11,\"feedName\":\"하모니\",\"clusterTitle\":\"\"}},{\"id\":\"hamny-EWfaZqwlcG\",\"title\":\"수익형 부동산 옥석가리기 시작됐다.. 안정성+미래가치 따져야\",\"label\":null,\"url\":\"https://content.v.daum.net/v/EWfaZqwlcG\",\"icon\":\"IMAGE\",\"imageUrl\":\"https://t1.daumcdn.net/news/202206/21/realcast/20220621072744888kv8q.jpeg\",\"source\":\"리얼캐스트\",\"position\":0,\"meta\":{\"impressionId\":\"tromm\",\"contentUniqueKey\":\"hamny-EWfaZqwlcG\",\"mediaName\":\"리얼캐스트\",\"torosRanking\":0,\"torosScore\":0.0,\"poolCode\":\"ptop_realestate_img\",\"feedId\":11,\"feedName\":\"하모니\",\"clusterTitle\":\"\"}},{\"id\":\"hamny-E8PyGOkvsV\",\"title\":\"방이 딱 2개인 40년 된 구축, 남편의 '건담'을 위해 하나를 내어준 아내\",\"label\":null,\"url\":\"https://content.v.daum.net/v/E8PyGOkvsV\",\"icon\":\"IMAGE\",\"imageUrl\":\"https://t1.daumcdn.net/news/202206/21/harmony/20220621060349123hwfc.png\",\"source\":\"오늘의집\",\"position\":0,\"meta\":{\"impressionId\":\"tromm\",\"contentUniqueKey\":\"hamny-E8PyGOkvsV\",\"mediaName\":\"오늘의집\",\"torosRanking\":0,\"torosScore\":0.0,\"poolCode\":\"ptop_realestate_img\",\"feedId\":11,\"feedName\":\"하모니\",\"clusterTitle\":\"\"}}],\"ptop_realestate_txt_1\":[{\"id\":\"hamny-20220622154506990\",\"title\":\"둔촌주공 25평형 분양가 8억8750만원→9억75만원..중도금 대출 막힐 수도\",\"label\":null,\"url\":\"http://realestate.daum.net/news/detail/all/20220622154506990\",\"icon\":\"TEXT\",\"imageUrl\":\"https://t1.daumcdn.net/news/202206/22/mk/20220622154508128aceh.jpg\",\"source\":\"매일경제\",\"position\":0,\"meta\":{\"impressionId\":\"tromm\",\"contentUniqueKey\":\"hamny-20220622154506990\",\"mediaName\":\"매일경제\",\"torosRanking\":0,\"torosScore\":0.0,\"poolCode\":\"ptop_realestate_txt\",\"feedId\":11,\"feedName\":\"하모니\",\"clusterTitle\":\"\"}},{\"id\":\"hamny-20220622153837616\",\"title\":\"\\\"엄연한 독립기관인데\\\"..건협회장, 공제조합 경영간섭 논란\",\"label\":null,\"url\":\"http://realestate.daum.net/news/detail/all/20220622153837616\",\"icon\":\"TEXT\",\"imageUrl\":\"https://t1.daumcdn.net/news/202206/22/Edaily/20220622153839805uffr.jpg\",\"source\":\"이데일리\",\"position\":0,\"meta\":{\"impressionId\":\"tromm\",\"contentUniqueKey\":\"hamny-20220622153837616\",\"mediaName\":\"이데일리\",\"torosRanking\":0,\"torosScore\":0.0,\"poolCode\":\"ptop_realestate_txt\",\"feedId\":11,\"feedName\":\"하모니\",\"clusterTitle\":\"\"}},{\"id\":\"hamny-20220622153126231\",\"title\":\"실거주 완화에 갭투자 다시 고개드나\",\"label\":null,\"url\":\"http://realestate.daum.net/news/detail/all/20220622153126231\",\"icon\":\"TEXT\",\"imageUrl\":\"https://t1.daumcdn.net/news/202206/22/akn/20220622153127772hlik.jpg\",\"source\":\"아시아경제\",\"position\":0,\"meta\":{\"impressionId\":\"tromm\",\"contentUniqueKey\":\"hamny-20220622153126231\",\"mediaName\":\"아시아경제\",\"torosRanking\":0,\"torosScore\":0.0,\"poolCode\":\"ptop_realestate_txt\",\"feedId\":11,\"feedName\":\"하모니\",\"clusterTitle\":\"\"}},{\"id\":\"hamny-20220622150900127\",\"title\":\"\\\"8월 전세난 한시름 놓았다\\\"..금리 물가 시장불안요인은 여전\",\"label\":null,\"url\":\"http://realestate.daum.net/news/detail/all/20220622150900127\",\"icon\":\"TEXT\",\"imageUrl\":\"https://t1.daumcdn.net/news/202206/22/mk/20220622150903258bsmf.jpg\",\"source\":\"매일경제\",\"position\":0,\"meta\":{\"impressionId\":\"tromm\",\"contentUniqueKey\":\"hamny-20220622150900127\",\"mediaName\":\"매일경제\",\"torosRanking\":0,\"torosScore\":0.0,\"poolCode\":\"ptop_realestate_txt\",\"feedId\":11,\"feedName\":\"하모니\",\"clusterTitle\":\"\"}},{\"id\":\"hamny-20220622150134838\",\"title\":\"오세훈표 공급정책 날개 단다..시, 관련 조직확대 추진\",\"label\":null,\"url\":\"http://realestate.daum.net/news/detail/all/20220622150134838\",\"icon\":\"TEXT\",\"imageUrl\":\"https://t1.daumcdn.net/news/202206/22/Edaily/20220622150512101vsgy.jpg\",\"source\":\"이데일리\",\"position\":0,\"meta\":{\"impressionId\":\"tromm\",\"contentUniqueKey\":\"hamny-20220622150134838\",\"mediaName\":\"이데일리\",\"torosRanking\":0,\"torosScore\":0.0,\"poolCode\":\"ptop_realestate_txt\",\"feedId\":11,\"feedName\":\"하모니\",\"clusterTitle\":\"\"}},{\"id\":\"hamny-20220622143956784\",\"title\":\"예상보다 더 커진 GTX 판..중심지·거리 빼고 연계 기준 넣었다\",\"label\":null,\"url\":\"http://realestate.daum.net/news/detail/all/20220622143956784\",\"icon\":\"TEXT\",\"imageUrl\":\"https://t1.daumcdn.net/news/202206/22/moneytoday/20220622144951581rsun.jpg\",\"source\":\"머니투데이\",\"position\":0,\"meta\":{\"impressionId\":\"tromm\",\"contentUniqueKey\":\"hamny-20220622143956784\",\"mediaName\":\"머니투데이\",\"torosRanking\":0,\"torosScore\":0.0,\"poolCode\":\"ptop_realestate_txt\",\"feedId\":11,\"feedName\":\"하모니\",\"clusterTitle\":\"\"}},{\"id\":\"hamny-20220622142552089\",\"title\":\"시민단체 \\\"6·21 부동산대책은 다주택자 중심..서민 정책 필요\\\"\",\"label\":null,\"url\":\"http://realestate.daum.net/news/detail/all/20220622142552089\",\"icon\":\"TEXT\",\"imageUrl\":\"https://t1.daumcdn.net/news/202206/22/yonhap/20220622142552810mshb.jpg\",\"source\":\"연합뉴스\",\"position\":0,\"meta\":{\"impressionId\":\"tromm\",\"contentUniqueKey\":\"hamny-20220622142552089\",\"mediaName\":\"연합뉴스\",\"torosRanking\":0,\"torosScore\":0.0,\"poolCode\":\"ptop_realestate_txt\",\"feedId\":11,\"feedName\":\"하모니\",\"clusterTitle\":\"\"}},{\"id\":\"hamny-20220622120206975\",\"title\":\"둔촌주공 평당 3700만원까지↑..분상제 개편에 분양 물량 늘어날까\",\"label\":null,\"url\":\"http://realestate.daum.net/news/detail/all/20220622120206975\",\"icon\":\"TEXT\",\"imageUrl\":\"https://t1.daumcdn.net/news/202206/22/NEWS1/20220622120211010ovoj.jpg\",\"source\":\"뉴스1\",\"position\":0,\"meta\":{\"impressionId\":\"tromm\",\"contentUniqueKey\":\"hamny-20220622120206975\",\"mediaName\":\"뉴스1\",\"torosRanking\":0,\"torosScore\":0.0,\"poolCode\":\"ptop_realestate_txt\",\"feedId\":11,\"feedName\":\"하모니\",\"clusterTitle\":\"\"}},{\"id\":\"hamny-20220622113502704\",\"title\":\"\\\"도곡·반포에 밀리다니..\\\" 대치동 집주인들 불만 폭발\",\"label\":null,\"url\":\"http://realestate.daum.net/news/detail/all/20220622113502704\",\"icon\":\"TEXT\",\"imageUrl\":\"https://t1.daumcdn.net/news/202206/22/ked/20220622114303545rerr.jpg\",\"source\":\"한국경제\",\"position\":0,\"meta\":{\"impressionId\":\"tromm\",\"contentUniqueKey\":\"hamny-20220622113502704\",\"mediaName\":\"한국경제\",\"torosRanking\":0,\"torosScore\":0.0,\"poolCode\":\"ptop_realestate_txt\",\"feedId\":11,\"feedName\":\"하모니\",\"clusterTitle\":\"\"}},{\"id\":\"hamny-20220622110026648\",\"title\":\"'그린리모델링 청년인턴십' 24일 최종 선발..7~8월 활동\",\"label\":null,\"url\":\"http://realestate.daum.net/news/detail/all/20220622110026648\",\"icon\":\"TEXT\",\"imageUrl\":\"https://t1.daumcdn.net/news/202206/22/NEWS1/20220622110026953egnj.jpg\",\"source\":\"뉴스1\",\"position\":0,\"meta\":{\"impressionId\":\"tromm\",\"contentUniqueKey\":\"hamny-20220622110026648\",\"mediaName\":\"뉴스1\",\"torosRanking\":0,\"torosScore\":0.0,\"poolCode\":\"ptop_realestate_txt\",\"feedId\":11,\"feedName\":\"하모니\",\"clusterTitle\":\"\"}}]},\"cabinets\":null,\"board\":false}],\"katv\":[{\"code\":2364,\"type\":\"PC_KAKAOTV_ORIGINAL\",\"items\":{\"op\":{\"tab\":\"\",\"title\":\"오리지널 콘텐츠\",\"url\":\"\"}},\"feeds\":{\"pc_kakaotv_original\":\"[{\\\"id\\\":\\\"tv-337443388\\\",\\\"title\\\":\\\"유재석이 아내에게도 말하지 않은 비밀?\\\",\\\"url\\\":\\\"https://tv.kakao.com/v/429784156\\\",\\\"imageUrl\\\":\\\"https://t1.daumcdn.net/daumtop_chanel/tromm/20220622100417771.jpg\\\",\\\"label\\\":\\\"플레이유\\\"},{\\\"id\\\":\\\"tv-337447516\\\",\\\"title\\\":\\\"찍기만 해도 인생샷 건질 수 있는 이곳 \\\",\\\"url\\\":\\\"https://tv.kakao.com/v/429791414\\\",\\\"imageUrl\\\":\\\"https://t1.daumcdn.net/daumtop_chanel/tromm/20220622032844005.jpg\\\",\\\"label\\\":\\\"소유기\\\"},{\\\"id\\\":\\\"tv-337443431\\\",\\\"title\\\":\\\"대놓고 방송 조작하려는 유재석\\\",\\\"url\\\":\\\"https://tv.kakao.com/v/429784224\\\",\\\"imageUrl\\\":\\\"https://t1.daumcdn.net/section/oc/f973c40c9e264a0dba7715da3b601435\\\",\\\"label\\\":\\\"플레이유\\\"},{\\\"id\\\":\\\"tv-337381316\\\",\\\"title\\\":\\\"신부가 너무 예뻐서 더 떨린다는 신랑\\\",\\\"url\\\":\\\"https://tv.kakao.com/v/429671776\\\",\\\"imageUrl\\\":\\\"https://t1.daumcdn.net/daumtop_chanel/tromm/20220622010146445.jpg\\\",\\\"label\\\":\\\"결혼백서\\\"},{\\\"id\\\":\\\"tv-337421377\\\",\\\"title\\\":\\\"'나 혼자 산다'에 나와 화제였던 이장우 캠핑카\\\",\\\"url\\\":\\\"https://tv.kakao.com/v/429744831\\\",\\\"imageUrl\\\":\\\"https://t1.daumcdn.net/daumtop_chanel/tromm/20220621092652966.jpg\\\",\\\"label\\\":\\\"초아\\\"},{\\\"id\\\":\\\"tv-337381312\\\",\\\"title\\\":\\\"결혼식 하루 전 딸에게 미안하다는 엄마\\\",\\\"url\\\":\\\"https://tv.kakao.com/v/429671771\\\",\\\"imageUrl\\\":\\\"https://t1.daumcdn.net/daumtop_chanel/tromm/20220622013354325.jpg\\\",\\\"label\\\":\\\"결혼백서\\\"},{\\\"id\\\":\\\"tv-337381296\\\",\\\"title\\\":\\\"엄마에게만 털어놓는 결혼에 대한 진심\\\",\\\"url\\\":\\\"https://tv.kakao.com/v/429671746\\\",\\\"imageUrl\\\":\\\"https://t1.daumcdn.net/daumtop_chanel/tromm/20220622095038212.jpg\\\",\\\"label\\\":\\\"결혼백서\\\"},{\\\"id\\\":\\\"tv-337443391\\\",\\\"title\\\":\\\"시청자가 생각해 낸 가발 챙기는 방법\\\",\\\"url\\\":\\\"https://tv.kakao.com/v/429784161\\\",\\\"imageUrl\\\":\\\"https://t1.daumcdn.net/daumtop_chanel/tromm/20220622024059781.jpg\\\",\\\"label\\\":\\\"플레이유\\\"},{\\\"id\\\":\\\"tv-337443473\\\",\\\"title\\\":\\\"유재석이 1분 동안 침묵하면 생기는 일\\\",\\\"url\\\":\\\"https://tv.kakao.com/v/429784295\\\",\\\"imageUrl\\\":\\\"https://t1.daumcdn.net/daumtop_chanel/tromm/20220622104829183.jpg\\\",\\\"label\\\":\\\"플레이유\\\"},{\\\"id\\\":\\\"tv-337421191\\\",\\\"title\\\":\\\"누가 봐도 수상해 보이는 물, 가까이 가보니\\\",\\\"url\\\":\\\"https://tv.kakao.com/v/429744481\\\",\\\"imageUrl\\\":\\\"https://t1.daumcdn.net/daumtop_chanel/tromm/20220622091033706.jpg\\\",\\\"label\\\":\\\"플레이유\\\"},{\\\"id\\\":\\\"tv-337381079\\\",\\\"title\\\":\\\"남친과 대판 싸운 후 받은 한 통의 문자\\\",\\\"url\\\":\\\"https://tv.kakao.com/v/429671349\\\",\\\"imageUrl\\\":\\\"https://t1.daumcdn.net/section/oc/4d0515025c9340d58bc6078300667a15\\\",\\\"label\\\":\\\"결혼백서\\\"},{\\\"id\\\":\\\"tv-337383590\\\",\\\"title\\\":\\\"마을에서 발견된 공룡 발자국, 알고 봤더니\\\",\\\"url\\\":\\\"https://tv.kakao.com/v/429675745\\\",\\\"imageUrl\\\":\\\"https://t1.daumcdn.net/section/oc/6a569d6bfa48483ca85d765c90b0f2e7\\\",\\\"label\\\":\\\"죠르디입니다\\\"},{\\\"id\\\":\\\"tv-337381288\\\",\\\"title\\\":\\\"\\\\\\\"이렇게 못하겠어\\\\\\\" 마음 불편한 웨딩촬영\\\",\\\"url\\\":\\\"https://tv.kakao.com/v/429671732\\\",\\\"imageUrl\\\":\\\"https://t1.daumcdn.net/daumtop_chanel/tromm/20220621033958715.jpg\\\",\\\"label\\\":\\\"결혼백서\\\"},{\\\"id\\\":\\\"tv-337381307\\\",\\\"title\\\":\\\"부모님이 목격한 예비부부의 싸움\\\",\\\"url\\\":\\\"https://tv.kakao.com/v/429671764\\\",\\\"imageUrl\\\":\\\"https://t1.daumcdn.net/daumtop_chanel/tromm/20220621015850836.jpg\\\",\\\"label\\\":\\\"결혼백서\\\"}]\"},\"teslas\":{},\"cabinets\":null,\"board\":false},{\"code\":2366,\"type\":\"PC_KAKAOTV_CLIP\",\"items\":{\"op\":{\"tab\":null,\"title\":\"TV 주요장면\",\"url\":null}},\"feeds\":{\"pc_kakaotv_clip\":\"[{\\\"id\\\":\\\"tv-337457384\\\",\\\"title\\\":\\\"북한군의 남침, 작전명 '폭풍'! 귀신보다 무서웠던 탱크를 앞세워 시작된 6·25 전쟁 | tvN 220622 방송\\\",\\\"url\\\":\\\"https://newslink.media.daum.net/v/429809085\\\",\\\"imageUrl\\\":\\\"https://thumb.kakaocdn.net/dna/kamp/source/rvy82j71lyak18nb1e1ttwk56/thumbs/thumb.jpg?credential=TuMuFGKUIcirOSjFzOpncbomGFEIdZWK&expires=33212779404&signature=Xtp6r7rhADuYMCr%2BmuG8gIpfnKo%3D\\\",\\\"label\\\":\\\"[tvN] 프리한 닥터W\\\"},{\\\"id\\\":\\\"tv-337456504\\\",\\\"title\\\":\\\"누워서 간다! 국내 열차! 한 폭의 그림 같은 해외 열차! 누워서 보는 영화관까지!ㅣ오픈런 EP.27ㅣSBSPLUSㅣ매주 월-금 오전 9시 방송\\\",\\\"url\\\":\\\"https://newslink.media.daum.net/v/429807528\\\",\\\"imageUrl\\\":\\\"https://thumb.kakaocdn.net/dna/kamp/source/rv91ge82dbs0o10e7h5gmqjjb/thumbs/thumb.jpg?credential=TuMuFGKUIcirOSjFzOpncbomGFEIdZWK&expires=33212774255&signature=O%2BYuBLjhsw5QczPyZWsf0rZlVYw%3D\\\",\\\"label\\\":\\\"오픈런\\\"},{\\\"id\\\":\\\"tv-337457383\\\",\\\"title\\\":\\\"서울을 사수하라! 서울 시민들이 혼란 속에서 피난조차 갈 수 없었던 이유 | tvN 220622 방송\\\",\\\"url\\\":\\\"https://newslink.media.daum.net/v/429809084\\\",\\\"imageUrl\\\":\\\"https://thumb.kakaocdn.net/dna/kamp/source/rvlc7nki5unwv0nmgtc9ssyy8/thumbs/thumb.jpg?credential=TuMuFGKUIcirOSjFzOpncbomGFEIdZWK&expires=33212779398&signature=0hWGBWOSBfhdckYTtDARNXCjnuk%3D\\\",\\\"label\\\":\\\"[tvN] 프리한 닥터W\\\"},{\\\"id\\\":\\\"tv-337456268\\\",\\\"title\\\":\\\"반전의 연속! 일본 vs 미국 태평양 전쟁[다음이야기]\\\",\\\"url\\\":\\\"https://newslink.media.daum.net/v/429807145\\\",\\\"imageUrl\\\":\\\"https://thumb.kakaocdn.net/dna/kamp/source/rv0yf0ycrrpdeducg9f7yy0lq/thumbs/thumb.jpg?credential=TuMuFGKUIcirOSjFzOpncbomGFEIdZWK&expires=33212772741&signature=C%2ByW51lDaVYhvhMlKb0S9RL9KP8%3D\\\",\\\"label\\\":\\\"벌거벗은 세계사\\\"},{\\\"id\\\":\\\"tv-337455521\\\",\\\"title\\\":\\\"동갑 친구 케미! 조유리 X 나나 웹드라마 '미미쿠스' 서로의 연기 평가\\\",\\\"url\\\":\\\"https://newslink.media.daum.net/v/429805908\\\",\\\"imageUrl\\\":\\\"https://thumb.kakaocdn.net/dna/kamp/source/rvj320jxiit6u9y7p6vjou1xr/thumbs/thumb.jpg?credential=TuMuFGKUIcirOSjFzOpncbomGFEIdZWK&expires=33212769105&signature=7%2BwohxtGc2cVhKZhB3LuvCor70Q%3D\\\",\\\"label\\\":\\\"웬디의 영스트리트\\\"},{\\\"id\\\":\\\"tv-337458592\\\",\\\"title\\\":\\\"우아 woo!ah! 민서&나나 - 단거 (Danger) / 220614 정오의 희망곡 김신영입니다[왕크왕캠]\\\",\\\"url\\\":\\\"https://newslink.media.daum.net/v/429811184\\\",\\\"imageUrl\\\":\\\"https://thumb.kakaocdn.net/dna/kamp/source/rv3dvlkpr8z7hdnsajlx6ks7y/thumbs/thumb.jpg?credential=TuMuFGKUIcirOSjFzOpncbomGFEIdZWK&expires=33212785454&signature=I3U3TRtwL4Epu0eBS7cEYY%2F6j8A%3D\\\",\\\"label\\\":\\\"봉춘라디오 (MBC 라디오)\\\"},{\\\"id\\\":\\\"tv-337457609\\\",\\\"title\\\":\\\"6·25 전쟁 중 72시간의 미스터리? 북한이 패했던 결정적 이유 #highlight\\\",\\\"url\\\":\\\"https://newslink.media.daum.net/v/429809477\\\",\\\"imageUrl\\\":\\\"https://thumb.kakaocdn.net/dna/kamp/source/rvegumijpwizv43s9kh1m0yge/thumbs/thumb.jpg?credential=TuMuFGKUIcirOSjFzOpncbomGFEIdZWK&expires=33212780633&signature=SfDRREbQrRMFQ%2Fdq01TOKYeTadM%3D\\\",\\\"label\\\":\\\"[tvN] 프리한 닥터W\\\"},{\\\"id\\\":\\\"tv-337456340\\\",\\\"title\\\":\\\"도로 위 특별석! 누워서 가는 프리미엄 고속버스!! 재이용 의사 100%!!ㅣ오픈런 EP.27ㅣSBSPLUSㅣ매주 월-금 오전 9시 방송\\\",\\\"url\\\":\\\"https://newslink.media.daum.net/v/429807258\\\",\\\"imageUrl\\\":\\\"https://thumb.kakaocdn.net/dna/kamp/source/rvruh5fhjxkew8zexiju69p7q/thumbs/thumb.jpg?credential=TuMuFGKUIcirOSjFzOpncbomGFEIdZWK&expires=33212773192&signature=I34Ackv799LsTauwV37opd898uw%3D\\\",\\\"label\\\":\\\"오픈런\\\"},{\\\"id\\\":\\\"tv-337456287\\\",\\\"title\\\":\\\"야구장 특별석? 익사이팅존! 스카이박스! 그린존! 특별석 티켓팅 꿀팁까지!ㅣ오픈런 EP.27ㅣSBSPLUSㅣ매주 월-금 오전 9시 방송\\\",\\\"url\\\":\\\"https://newslink.media.daum.net/v/429807176\\\",\\\"imageUrl\\\":\\\"https://thumb.kakaocdn.net/dna/kamp/source/rvs1ihnwpdeqxlgw91m96ao0e/thumbs/thumb.jpg?credential=TuMuFGKUIcirOSjFzOpncbomGFEIdZWK&expires=33212772888&signature=zY1FXthC83dzefksIMB%2Bw7ZEd0w%3D\\\",\\\"label\\\":\\\"오픈런\\\"},{\\\"id\\\":\\\"tv-337457533\\\",\\\"title\\\":\\\"6·25 전쟁의 판도를 바꾼 춘천 전투! 김일성이 지목한 전쟁 실패의 원인 | tvN 220622 방송\\\",\\\"url\\\":\\\"https://newslink.media.daum.net/v/429809344\\\",\\\"imageUrl\\\":\\\"https://thumb.kakaocdn.net/dna/kamp/source/rvb2g4b5u1kk4rwgn03aoerer/thumbs/thumb.jpg?credential=TuMuFGKUIcirOSjFzOpncbomGFEIdZWK&expires=33212780295&signature=Zl%2FxcazGoV83%2BVF5D1B9LrN17GU%3D\\\",\\\"label\\\":\\\"[tvN] 프리한 닥터W\\\"},{\\\"id\\\":\\\"tv-337457484\\\",\\\"title\\\":\\\"북한군의 기세를 꺾었던 6사단의 선견지명★ 춘천 옥산포에서의 전투!! | tvN 220622 방송\\\",\\\"url\\\":\\\"https://newslink.media.daum.net/v/429809263\\\",\\\"imageUrl\\\":\\\"https://thumb.kakaocdn.net/dna/kamp/source/rvntcqu0juqud93xuvny48nj6/thumbs/thumb.jpg?credential=TuMuFGKUIcirOSjFzOpncbomGFEIdZWK&expires=33212779988&signature=4jvWsYKOCasgMmhYUhl4btgulIg%3D\\\",\\\"label\\\":\\\"[tvN] 프리한 닥터W\\\"},{\\\"id\\\":\\\"tv-337452517\\\",\\\"title\\\":\\\"'엄마가 된다는 것..' 주은x혜림의 현실 육아 토크! | KBS 220621 방송\\\",\\\"url\\\":\\\"https://newslink.media.daum.net/v/429800338\\\",\\\"imageUrl\\\":\\\"https://thumb.kakaocdn.net/dna/kamp/source/rvx4sn9xz0i9voqbtguask35i/thumbs/thumb.jpg?credential=TuMuFGKUIcirOSjFzOpncbomGFEIdZWK&expires=33212736015&signature=gLdVFSMelKL8fF3roJvpraGX9oM%3D\\\",\\\"label\\\":\\\"갓파더\\\"},{\\\"id\\\":\\\"tv-337458295\\\",\\\"title\\\":\\\"LIGHTSUM(라잇썸) 초원&나영 - 8282 (원곡: 다비치) / 220617 GOT7 영재의 친한 친구 불금의 명곡[라이브]\\\",\\\"url\\\":\\\"https://newslink.media.daum.net/v/429810665\\\",\\\"imageUrl\\\":\\\"https://thumb.kakaocdn.net/dna/kamp/source/rvmpyrp0tpdjq7bpaw3et9cb6/thumbs/thumb.jpg?credential=TuMuFGKUIcirOSjFzOpncbomGFEIdZWK&expires=33212783999&signature=hO76lDWf%2B%2BJYqRaeRBgjbM7AqGI%3D\\\",\\\"label\\\":\\\"봉춘라디오 (MBC 라디오)\\\"},{\\\"id\\\":\\\"tv-337458280\\\",\\\"title\\\":\\\"밴디트(BVNDIT) 정우&송희 - 비밀번호 486 (원곡: 윤하) / 220617 GOT7 영재의 친한 친구 불금의 명곡[라이브]\\\",\\\"url\\\":\\\"https://newslink.media.daum.net/v/429810641\\\",\\\"imageUrl\\\":\\\"https://thumb.kakaocdn.net/dna/kamp/source/rvdkj0zuyhvzcvxqgchlfcoer/thumbs/thumb.jpg?credential=TuMuFGKUIcirOSjFzOpncbomGFEIdZWK&expires=33212783941&signature=BXnPd%2FnR%2BYdnzdNadTVA3Fg%2FMCM%3D\\\",\\\"label\\\":\\\"봉춘라디오 (MBC 라디오)\\\"},{\\\"id\\\":\\\"tv-337452518\\\",\\\"title\\\":\\\"※감동 주의※ 주은이 '초보 맘' 혜림에게 건네는 따듯한 위로 (●ᴗ●)ﾉ♥ | KBS 220621 방송\\\",\\\"url\\\":\\\"https://newslink.media.daum.net/v/429800339\\\",\\\"imageUrl\\\":\\\"https://thumb.kakaocdn.net/dna/kamp/source/rvj4agk4zz66y26q7plg6n0cs/thumbs/thumb.jpg?credential=TuMuFGKUIcirOSjFzOpncbomGFEIdZWK&expires=33212787493&signature=hEJDtTnL6W6uLH1ZWdb5HN1nItE%3D&ts=1655878693\\\",\\\"label\\\":\\\"갓파더\\\"},{\\\"id\\\":\\\"tv-337452477\\\",\\\"title\\\":\\\"뮤지컬 스타를 위해 온 가족이 총출동했다?! 가족들의 응원을 받은 김명진의 점수는?\\\",\\\"url\\\":\\\"https://newslink.media.daum.net/v/429800274\\\",\\\"imageUrl\\\":\\\"https://thumb.kakaocdn.net/dna/kamp/source/rvfbzbivs5hgw8wvy2xfl2gir/thumbs/thumb.jpg?credential=TuMuFGKUIcirOSjFzOpncbomGFEIdZWK&expires=33212735836&signature=UE19lGFyQk36H%2FAyNd%2FFEa%2BfI7Q%3D\\\",\\\"label\\\":\\\"2022 DIMF 뮤지컬 스타\\\"},{\\\"id\\\":\\\"tv-337458267\\\",\\\"title\\\":\\\"갤럭시 익스프레스 & 윤도현 - 개구쟁이 (원곡 산울림) / 220612 4시엔 윤도현입니다 가든라이브[라이브]\\\",\\\"url\\\":\\\"https://newslink.media.daum.net/v/429810619\\\",\\\"imageUrl\\\":\\\"https://thumb.kakaocdn.net/dna/kamp/source/rvu583yz60fjr207irp6lx3gy/thumbs/thumb.jpg?credential=TuMuFGKUIcirOSjFzOpncbomGFEIdZWK&expires=33212783870&signature=uSDIKlmMKHjsH5p4edgLdx8T1DU%3D\\\",\\\"label\\\":\\\"봉춘라디오 (MBC 라디오)\\\"},{\\\"id\\\":\\\"tv-337458945\\\",\\\"title\\\":\\\"수지X옥택연의 만남❤️‍ 아버지의 사업 부도로 모든 꿈이 산산조각 나버린 부잣집 공주님 고혜미⚡️ | KBS 방송[EP1-01]\\\",\\\"url\\\":\\\"https://newslink.media.daum.net/v/429811764\\\",\\\"imageUrl\\\":\\\"https://thumb.kakaocdn.net/dna/kamp/source/rvwfeilfjmimb7foco8nl9dv7/thumbs/thumb.jpg?credential=TuMuFGKUIcirOSjFzOpncbomGFEIdZWK&expires=33212787137&signature=nRscDQxm%2FVEk575gjhH%2Bh7OXiM8%3D\\\",\\\"label\\\":\\\"드림하이\\\"},{\\\"id\\\":\\\"tv-337457430\\\",\\\"title\\\":\\\"남침 작전명 '폭풍'의 세부 전략! 한강 이북을 점령하고도 한강을 건너지 못한 북한? | tvN 220622 방송\\\",\\\"url\\\":\\\"https://newslink.media.daum.net/v/429809168\\\",\\\"imageUrl\\\":\\\"https://thumb.kakaocdn.net/dna/kamp/source/rvfycq736ln9yndijzcwom1xr/thumbs/thumb.jpg?credential=TuMuFGKUIcirOSjFzOpncbomGFEIdZWK&expires=33212779693&signature=qB6RtrT%2BT9RVWoyc5RL5o4SHBh0%3D\\\",\\\"label\\\":\\\"[tvN] 프리한 닥터W\\\"},{\\\"id\\\":\\\"tv-337457532\\\",\\\"title\\\":\\\"6·25 전쟁 72주년, 우리가 절대 잊지 말아야 하는 것들 | tvN 220622 방송\\\",\\\"url\\\":\\\"https://newslink.media.daum.net/v/429809345\\\",\\\"imageUrl\\\":\\\"https://thumb.kakaocdn.net/dna/kamp/source/rvtppp93gg0jd5tbacuxqd7jr/thumbs/thumb.jpg?credential=TuMuFGKUIcirOSjFzOpncbomGFEIdZWK&expires=33212780290&signature=VwgitOhNgO6dqHoTBiIAWQiComw%3D\\\",\\\"label\\\":\\\"[tvN] 프리한 닥터W\\\"}]\"},\"teslas\":{},\"cabinets\":null,\"board\":false},{\"code\":2365,\"type\":\"PC_KAKAOTV_HIGHLIGHT\",\"items\":{\"op\":{\"tab\":null,\"title\":\"많이 본 TV\",\"url\":null}},\"feeds\":{\"pc_kakaotv_highlight\":\"[{\\\"id\\\":\\\"tv-337421191\\\",\\\"title\\\":\\\"11회.  제11장 『 레벨업 (Level Up) 』\\\",\\\"url\\\":\\\"http://entertain.daum.net/tv/5461557/video/429744481\\\",\\\"imageUrl\\\":\\\"https://t1.kakaocdn.net/kakaotv/ASSET/warhol_asset/vod_thumbnail/f8f9309e7609c1d420a95104330847c69a0520c2\\\",\\\"label\\\":\\\"플레이유\\\"},{\\\"id\\\":\\\"tv-337452309\\\",\\\"title\\\":\\\"혜림♥민철 2세 신시우 최초 공개! 지금 만나러 갑니다..(●°u°●) | KBS 220621 방송 \\\",\\\"url\\\":\\\"http://entertain.daum.net/tv/5196372/video/429799979\\\",\\\"imageUrl\\\":\\\"https://thumb.kakaocdn.net/dna/kamp/source/rvviywv4h75aezy94p26k24lb/thumbs/thumb.jpg?credential=TuMuFGKUIcirOSjFzOpncbomGFEIdZWK&expires=33212735623&signature=zw8hP0MB9VQreKm1L8%2BhxUOO4cw%3D&ts=1655826823\\\",\\\"label\\\":\\\"갓파더\\\"},{\\\"id\\\":\\\"tv-337451189\\\",\\\"title\\\":\\\"“아비가 좀 멀리 다녀오려 합니다” 귀양을 떠나게 된 허성태를 막아선 최리.. ‘오열’ | KBS 220621 방송 \\\",\\\"url\\\":\\\"http://entertain.daum.net/tv/5207089/video/429797993\\\",\\\"imageUrl\\\":\\\"https://thumb.kakaocdn.net/dna/kamp/source/rv8830oza1vqcv3mubrjtwwvj/thumbs/thumb.jpg?credential=TuMuFGKUIcirOSjFzOpncbomGFEIdZWK&expires=33212734466&signature=bAmHs1XjQxW4n9o%2FPA6kQdZY6ao%3D&ts=1655825666\\\",\\\"label\\\":\\\"붉은 단심\\\"},{\\\"id\\\":\\\"tv-337450701\\\",\\\"title\\\":\\\"박지연을 향해 시위를 당긴 하도권의 화살을 대신 맞고 쓰러진 장혁.. | KBS 220621 방송 \\\",\\\"url\\\":\\\"http://entertain.daum.net/tv/5207089/video/429797160\\\",\\\"imageUrl\\\":\\\"https://thumb.kakaocdn.net/dna/kamp/source/rva7p1xe94d6ynxjvhkqs8o9p/thumbs/thumb.jpg?credential=TuMuFGKUIcirOSjFzOpncbomGFEIdZWK&expires=33212727542&signature=ukJ3Os%2FfDTy70%2F0lCyeFFYGvSWw%3D\\\",\\\"label\\\":\\\"붉은 단심\\\"}]\"},\"teslas\":{},\"cabinets\":null,\"board\":false}],\"social\":[{\"code\":2367,\"type\":\"PC_SOCIAL_CAFE\",\"items\":{\"op\":{\"tab\":\"cafe\",\"title\":\"카페\",\"url\":\"https://top.cafe.daum.net/\"}},\"feeds\":{\"pc_social_cafe\":\"[{\\\"id\\\":\\\"cafe-humornara/5Y2/748669\\\",\\\"title\\\":\\\"중국에서 아파트 짓는 방법\\\",\\\"url\\\":\\\"https://cafe.daum.net/humornara/5Y2/748669?svc=daumapp\\\",\\\"imageUrl\\\":\\\"https://t1.daumcdn.net/section/oc/4315360d51ba48e49eb8665499453548\\\",\\\"source\\\":\\\"유머나라\\\",\\\"summary\\\":\\\"   \\\"},{\\\"id\\\":\\\"cafe-subdued20club/ReHf/3916619\\\",\\\"title\\\":\\\"K-곰돌하트 갈기는 탑건 배우들.jpg\\\",\\\"url\\\":\\\"https://cafe.daum.net/subdued20club/ReHf/3916619?svc=daumapp\\\",\\\"imageUrl\\\":\\\"https://t1.daumcdn.net/daumtop_chanel/tromm/20220622114638478\\\",\\\"source\\\":\\\"여성시대\\\",\\\"summary\\\":\\\"출처 : 여성시대 (본인 닉네임).그리고 볼하트 갈기는 톰크루즈\\\"},{\\\"id\\\":\\\"cafe-subdued20club/ReHf/3916767\\\",\\\"title\\\":\\\"오늘같은 날씨에 어울리는 창작시..twt\\\",\\\"url\\\":\\\"https://cafe.daum.net/subdued20club/ReHf/3916767?svc=daumapp\\\",\\\"imageUrl\\\":\\\"https://t1.daumcdn.net/section/oc/7becb4e90b7a456ca2833c8c05b1b815\\\",\\\"source\\\":\\\"여성시대\\\",\\\"summary\\\":\\\"출처 : https://twitter.com/rifabooo/status/1538748569066172422?s=21t=f37EB1ONuhN56iUZDWyfhA오늘 뭔가 찰떡인 시다\\\"},{\\\"id\\\":\\\"cafe-dotax/Elgq/3963987\\\",\\\"title\\\":\\\"누리호 발사 순간을 수화로 전달.gif\\\",\\\"url\\\":\\\"https://cafe.daum.net/dotax/Elgq/3963987?svc=daumapp\\\",\\\"imageUrl\\\":\\\"https://t1.daumcdn.net/section/oc/ae528eaeb4634592ac32f3af0516b1f3\\\",\\\"source\\\":\\\"도탁스 (DOTAX)\\\",\\\"summary\\\":\\\"부와 부와 부와아아아앙\\\"},{\\\"id\\\":\\\"cafe-dotax/Elgq/3964400\\\",\\\"title\\\":\\\"빽다방에서 쫓겨나는 백종원 대표님.gif\\\",\\\"url\\\":\\\"https://cafe.daum.net/dotax/Elgq/3964400?svc=daumapp\\\",\\\"imageUrl\\\":\\\"https://t1.daumcdn.net/daumtop_chanel/tromm/20220622015906776\\\",\\\"source\\\":\\\"도탁스 (DOTAX)\\\",\\\"summary\\\":\\\"아 대표고 나발이고 머그잔 쓰라고여직원들 : 개꿀ㅋㅋㅋㅋㅋㅋㅋㅋㅋㅋㅋㅋㅋㅋㅋㅋ\\\"},{\\\"id\\\":\\\"cafe-WorldcupLove/Knj/2668757\\\",\\\"title\\\":\\\"영화의 한 장면을 재현하고 싶었던 아저씨\\\",\\\"url\\\":\\\"https://cafe.daum.net/WorldcupLove/Knj/2668757?svc=daumapp\\\",\\\"imageUrl\\\":\\\"https://t1.daumcdn.net/section/oc/869caa7b84924fa389bb54837b82d423\\\",\\\"source\\\":\\\"아이러브사커\\\",\\\"summary\\\":\\\"우리는 왜 와 하면서 종이 던지는거 안해???? ㅠㅠㅠㅠ 얼마나 하고 싶으셨을까 ㅋㅋㅋㅋ 시원하게 그냥 하지\\\"},{\\\"id\\\":\\\"cafe-rocksoccer/ADs1/846761\\\",\\\"title\\\":\\\"리뷰에 소오름 돋은 사장님.jpg\\\",\\\"url\\\":\\\"https://cafe.daum.net/rocksoccer/ADs1/846761?svc=daumapp\\\",\\\"imageUrl\\\":\\\"https://t1.daumcdn.net/section/oc/373480af8ac540c7ab4aa012e9c05e47\\\",\\\"source\\\":\\\"樂soccer\\\",\\\"summary\\\":\\\"손님이 맛 감별사 ㅋㅋㅋㅋ\\\"},{\\\"id\\\":\\\"cafe-klovek82/5xRc/327705\\\",\\\"title\\\":\\\"누리호 중계한 MBC 아나운서 정체.jpg\\\",\\\"url\\\":\\\"https://cafe.daum.net/klovek82/5xRc/327705?svc=daumapp\\\",\\\"imageUrl\\\":\\\"https://t1.daumcdn.net/section/oc/f2662bd520fe4534a53bb46af7a2c071\\\",\\\"source\\\":\\\"울트라쇼깅\\\",\\\"summary\\\":\\\"  \\\"},{\\\"id\\\":\\\"cafe-Duckgu/D49M/201890\\\",\\\"title\\\":\\\"현재 사이클 주니어 국가대표로 인도에서 경기중인 배우 라미란 아들 경기결과 근황.jpg\\\",\\\"url\\\":\\\"https://cafe.daum.net/Duckgu/D49M/201890?svc=daumapp\\\",\\\"imageUrl\\\":\\\"https://t1.daumcdn.net/daumtop_chanel/tromm/20220622113107093\\\",\\\"source\\\":\\\"방석 위로 모여라\\\",\\\"summary\\\":\\\"출처 https://theqoo.net/2493962636단체스프린트 (팀)배준형-김근우(라미란아들)-이찬영금메달1km 독주 (개인전 경기) 은메달그와중에 라미란 아들이 1등 못해서 아쉬워하는 인스타 댓글에 엄마 라미란 댓글 \\\"},{\\\"id\\\":\\\"cafe-cs11sz/LG19/430458\\\",\\\"title\\\":\\\"제주에서 오는 비행기에서 누리호 발사 봄.twt\\\",\\\"url\\\":\\\"https://cafe.daum.net/cs11sz/LG19/430458?svc=daumapp\\\",\\\"imageUrl\\\":\\\"https://t1.daumcdn.net/section/oc/3f4f5f2599a54217952647a8acc1522f\\\",\\\"source\\\":\\\"내가 아는 카페\\\",\\\"summary\\\":\\\"소울드레서는 우리가 만들어가는 소중한 공간입니다.댓글 작성 시 타인에 대한 배려와 책임을 다해주세요.   제주에서 오는 뱅기어서 누리호 발사 봤다? pic.twitter.com/q0S6KZTLjD B_블라썸'ㅅ' (@blossom940412) June 21, 2022        기장이 오른쪽으로 누리호가 발사되는 어쩌구 하는 안내방송을 하는 순간 옆을 보는데 하필 내가 오른쪽 창가에 앉았네ㅜ 너무 신기한 경험했다 진짜 pic.twitter.com/LTO4eiPyEs B_블라썸'ㅅ' (@blossom940412) June 21, ...\\\"},{\\\"id\\\":\\\"cafe-subdued20club/ReHf/3913732\\\",\\\"title\\\":\\\"공대생의 프로포즈\\\",\\\"url\\\":\\\"https://cafe.daum.net/subdued20club/ReHf/3913732?svc=daumapp\\\",\\\"imageUrl\\\":\\\"https://t1.daumcdn.net/section/oc/2534b0ef1b014eef9c706d7267e8c07e\\\",\\\"source\\\":\\\"여성시대\\\",\\\"summary\\\":\\\"\\\"},{\\\"id\\\":\\\"cafe-subdued20club/ReHf/3916047\\\",\\\"title\\\":\\\"열정적인 과일가게 아저씨\\\",\\\"url\\\":\\\"https://cafe.daum.net/subdued20club/ReHf/3916047?svc=daumapp\\\",\\\"imageUrl\\\":\\\"https://t1.daumcdn.net/daumtop_chanel/tromm/20220622095207769\\\",\\\"source\\\":\\\"여성시대\\\",\\\"summary\\\":\\\"출처 : 여성시대 꺠명 https://ggoorr.net/thisthat/13609082\\\"},{\\\"id\\\":\\\"cafe-ssaumjil/LnOm/2832668\\\",\\\"title\\\":\\\"냉장고에서 케첩을 오랜만에 꺼냈을때 특징\\\",\\\"url\\\":\\\"https://cafe.daum.net/ssaumjil/LnOm/2832668?svc=daumapp\\\",\\\"imageUrl\\\":\\\"https://t1.daumcdn.net/section/oc/650b2defec3447eab26bc1ec822181ba\\\",\\\"source\\\":\\\"이종격투기\\\",\\\"summary\\\":\\\"\\\"},{\\\"id\\\":\\\"cafe-subdued20club/ReHf/3916536\\\",\\\"title\\\":\\\"자막으로 아무 말 대잔치\\\",\\\"url\\\":\\\"https://cafe.daum.net/subdued20club/ReHf/3916536?svc=daumapp\\\",\\\"imageUrl\\\":\\\"https://t1.daumcdn.net/section/oc/76de617c6afa49b6b4c68b02134bd407\\\",\\\"source\\\":\\\"여성시대\\\",\\\"summary\\\":\\\"출처 : 여성시대 꺠명 https://threppa.com/bbs/board.php?bo_table=0207wr_id=635186\\\"},{\\\"id\\\":\\\"cafe-cs11sz/LG19/430491\\\",\\\"title\\\":\\\"누리호 발사 가장 기쁠 사람들 ㅋㅋㅋ\\\",\\\"url\\\":\\\"https://cafe.daum.net/cs11sz/LG19/430491?svc=daumapp\\\",\\\"imageUrl\\\":\\\"https://t1.daumcdn.net/daumtop_chanel/tromm/20220622093330063\\\",\\\"source\\\":\\\"내가 아는 카페\\\",\\\"summary\\\":\\\"\\\"},{\\\"id\\\":\\\"cafe-subdued20club/ReHf/3916870\\\",\\\"title\\\":\\\"아직도 생각하면 뭉클한거 있어\\\",\\\"url\\\":\\\"https://cafe.daum.net/subdued20club/ReHf/3916870?svc=daumapp\\\",\\\"imageUrl\\\":\\\"https://t1.daumcdn.net/section/oc/1462e0bd25244e0a944a0f573af97a6f\\\",\\\"source\\\":\\\"여성시대\\\",\\\"summary\\\":\\\"출처 : https://m.cafe.daum.net/baemilytory/91cd/586592?svc=cafeapp\\\"},{\\\"id\\\":\\\"cafe-dotax/Elgq/3962694\\\",\\\"title\\\":\\\"조나단이 학창시절 다이제 먹던 방법.gif\\\",\\\"url\\\":\\\"https://cafe.daum.net/dotax/Elgq/3962694?svc=daumapp\\\",\\\"imageUrl\\\":\\\"https://t1.daumcdn.net/section/oc/c18dbea88f6c4514bb1d2a3e5fe73271\\\",\\\"source\\\":\\\"도탁스 (DOTAX)\\\",\\\"summary\\\":\\\"\\\"},{\\\"id\\\":\\\"cafe-ok1221/9Zdf/2679897\\\",\\\"title\\\":\\\"베테랑 배우의 NG 이유\\\",\\\"url\\\":\\\"https://cafe.daum.net/ok1221/9Zdf/2679897?svc=daumapp\\\",\\\"imageUrl\\\":\\\"https://t1.daumcdn.net/section/oc/270eef3a36824925bb3f44f5686a1438\\\",\\\"source\\\":\\\"쭉빵카페\\\",\\\"summary\\\":\\\"김해숙 - 성동일 나이차 9살\\\"},{\\\"id\\\":\\\"cafe-subdued20club/ReHf/3913728\\\",\\\"title\\\":\\\"아빠가 공대생이면 생기는 문제\\\",\\\"url\\\":\\\"https://cafe.daum.net/subdued20club/ReHf/3913728?svc=daumapp\\\",\\\"imageUrl\\\":\\\"https://t1.daumcdn.net/section/oc/40de8ab4903840e9aa02e617133ae044\\\",\\\"source\\\":\\\"여성시대\\\",\\\"summary\\\":\\\"\\\"},{\\\"id\\\":\\\"cafe-Tlwkftlqkftlldlqkf/8vJr/648209\\\",\\\"title\\\":\\\"예능감 좋은 것 같은 안유진\\\",\\\"url\\\":\\\"https://cafe.daum.net/Tlwkftlqkftlldlqkf/8vJr/648209?svc=daumapp\\\",\\\"imageUrl\\\":\\\"https://t1.daumcdn.net/section/oc/1cf82b810da54c349841be9a83e34ff7\\\",\\\"source\\\":\\\"우리 동네 목욕탕\\\",\\\"summary\\\":\\\"출처 : 여성시대 책찢어버려\\\"}]\"},\"teslas\":{},\"cabinets\":null,\"board\":false},{\"code\":2368,\"type\":\"PC_SOCIAL_BRUNCH\",\"items\":{\"op\":{\"tab\":\"brunch\",\"title\":\"브런치\",\"url\":\"https://brunch.co.kr/\"}},\"feeds\":{\"pc_social_brunch\":\"[{\\\"id\\\":\\\"brch-cRH9-brunchbook_longwayto4th\\\",\\\"title\\\":\\\"가치의 고민 - 가상화폐의 딜레마 (1)\\\",\\\"url\\\":\\\"https://brunch.co.kr/brunchbook/longwayto4th\\\",\\\"imageUrl\\\":\\\"http://t1.daumcdn.net/brunch/service/user/cRH9/image/AEqe-VGkHb5jUQlXRTgJFYI81P0.jpg\\\",\\\"source\\\":\\\"by 4차 산업에서 길을 잃었는데요?\\\",\\\"summary\\\":null},{\\\"id\\\":\\\"brch-5pb5-brunchbook_mandoo1506\\\",\\\"title\\\":\\\"환영합니다, 글쓰기 모임은 처음이시죠?\\\",\\\"url\\\":\\\"https://brunch.co.kr/brunchbook/mandoo1506\\\",\\\"imageUrl\\\":\\\"http://t1.daumcdn.net/brunch/service/user/5pb5/image/7RdjABCC3QMCIjmK2EXJ1To7lAk.jpg\\\",\\\"source\\\":\\\"by 글쓰기 모임 하는 법\\\",\\\"summary\\\":null},{\\\"id\\\":\\\"brch-ec8v-brunchbook_miyehppi1\\\",\\\"title\\\":\\\"[이런 날, 저런 날] 1화 파워샷\\\",\\\"url\\\":\\\"https://brunch.co.kr/brunchbook/miyehppi1\\\",\\\"imageUrl\\\":\\\"http://t1.daumcdn.net/brunch/service/user/ec8v/image/FfahXeYnZUzS43-dk_CuePhrgcA.png\\\",\\\"source\\\":\\\"by 이런 날, 저런 날 1\\\",\\\"summary\\\":null},{\\\"id\\\":\\\"brch-8zJ0-brunchbook_mindwriting\\\",\\\"title\\\":\\\"내가 책 한 권을 필사한 이유\\\",\\\"url\\\":\\\"https://brunch.co.kr/brunchbook/mindwriting\\\",\\\"imageUrl\\\":\\\"http://t1.daumcdn.net/brunch/service/user/8zJ0/image/5pnw5nW5fJuZYhzxkiX4iBawv2g.jpg\\\",\\\"source\\\":\\\"by 불안한 나를 달래는 글쓰기\\\",\\\"summary\\\":null}]\"},\"teslas\":{},\"cabinets\":null,\"board\":false},{\"code\":2369,\"type\":\"PC_SOCIAL_TISTORY\",\"items\":{\"op\":{\"tab\":\"tistory\",\"title\":\"티스토리\",\"url\":\"https://www.tistory.com/\"}},\"feeds\":{\"pc_social_tistory\":\"[{\\\"id\\\":\\\"tstory-1660357_2327\\\",\\\"title\\\":\\\"제주와 맥주의 조합은 못 참지! 제주맥주 양조장 투어\\\",\\\"url\\\":\\\"https://www.dbblog.co.kr/2327\\\",\\\"imageUrl\\\":\\\"https://t1.daumcdn.net/section/oc/857351ed29884d45a424f156f2fd4c23\\\",\\\"source\\\":\\\"by DB 블로그\\\",\\\"summary\\\":\\\"치맥부터 피맥, 책맥, 낮맥, 혼맥까지 지금은 맥주의 전성시대에요. 52년 만에 개정된 주세법, 코로나19 영향으로 확산된 홈술 트렌드, 편의점 수제 캔맥주의 폭발적 성장 등이 복합적으로 영향을 미치면서 국산 수제 맥주는 빠르게 몸집을 키워 왔어요. 우리나라에는 100곳이 넘는 수제 맥주 브루어리가 있는데요. 브루어리 투어를 할 수 있는 곳도 점점 늘고 있\\\"},{\\\"id\\\":\\\"tstory-2564029_1321\\\",\\\"title\\\":\\\"고기의 졸깃함~ 숙주의 아삭함~ 짜파게티 면과 함께~\\\",\\\"url\\\":\\\"https://foodroom.tistory.com/1321\\\",\\\"imageUrl\\\":\\\"https://t1.daumcdn.net/section/oc/5eb33a96d43d4ec2841bcd0829fe6a9f\\\",\\\"source\\\":\\\"by 훌리아 푸드룸\\\",\\\"summary\\\":\\\"짜파게티 재료 및 양념 짜파게티 재료 준비 : 짜파게티 라면 2개, 양파 반개, 땡초 2개, 파 1/2개, 갈빗살 200g + 굴소스 2큰술, 식용유 1큰술(파기름 만들때) [##_Image|kage@cmeGcu/btrCBRSjG9Q/WX78mZXzZjRmLLkXv4AcK0/img.jpg|CDM|1.3|{\\\\\\\"originWidth\\\\\\\":4000,\\\\\\\"originHei\\\"},{\\\"id\\\":\\\"tstory-525858_2037\\\",\\\"title\\\":\\\"서울 근교 간이역 여행, 남양주 자전거길 가볼만한곳 능내역 폐역\\\",\\\"url\\\":\\\"https://shipbest.tistory.com/2037\\\",\\\"imageUrl\\\":\\\"https://t1.daumcdn.net/section/oc/13d33762781e4b1482383814962c6b6d\\\",\\\"source\\\":\\\"by 발길이 이끄는 곳으로의 사진여행\\\",\\\"summary\\\":\\\"서울 근교에 위치한 남양주는 남한강을 따라 자전거길이 잘 되어 있어 주말이나 휴일에 자전거길 코스로 가볼만한곳이기도 한데요. 남양주에는 옛 중앙선 철길이 지나던 능내역 폐역이 자리잡고 있습니다. 지금은 폐역이 되었지만, 능내역 주변으로 자전거 도로가 잘 되어 있기도 하고, 주변에 볼거리들이 많아 자전거를 타거나 드라이브를 다녀오면서 한 번쯤 들릴만한 곳이기\\\"},{\\\"id\\\":\\\"tstory-457261_2652\\\",\\\"title\\\":\\\"강화도 밀크닉 : 기분 좋아지는 강화 디저트 카페\\\",\\\"url\\\":\\\"https://geniusjw.com/2652\\\",\\\"imageUrl\\\":\\\"https://t1.daumcdn.net/section/oc/02e7c2a238b446f08a31ee2fe29bb749\\\",\\\"source\\\":\\\"by GeniusJW\\\",\\\"summary\\\":\\\"여러분 안녕하세요, GeniusJW 입니다. 오늘은 강화도의 분위기 좋은 디저트 카페 <밀크닉> 리뷰입니다. 강화도 밀크닉은 그린망고(@greenmango_styling) 사장님의 소개로 방문하게 된 가게인데, 깔끔하고 아늑한 인테리어는 기본이고, 카페 사장님이 굉장히 친절하시고 밝은 성격을 지닌 분이라 방문하면 저절로 기분이 좋아지는 카페였습니다. [##\\\"},{\\\"id\\\":\\\"tstory-2854108_1157\\\",\\\"title\\\":\\\"KFC 스콜쳐버거 베이직/플러스 후기\\\",\\\"url\\\":\\\"https://hse30.tistory.com/1157\\\",\\\"imageUrl\\\":\\\"https://t1.daumcdn.net/section/oc/296657703bf543d6840e40572884f938\\\",\\\"source\\\":\\\"by 정원\\\",\\\"summary\\\":\\\"KFC의 2022.06.21.(화) 신메뉴, 스콜쳐버거를 리뷰합니다. 매운 마요네즈를 넣은 닭다리살 치킨버거입니다. 참고로 scorcher는 매우 덥고 햇볕이 쨍쨍한 날을 의미합니다. 제품 정보를 보고 리뷰합니다. • 구입 당시 정가: 베이직: 단품 5,600원 / 세트 7,600원 플러스: 단품 6,500원 / 세트 8,500원 • 구입 당시 행사: 단품\\\"},{\\\"id\\\":\\\"tstory-3796749_248\\\",\\\"title\\\":\\\"건대입구역 해룡마라룽샤 가재꼬리 마파두부 볶음밥 가격 주말 방문 후기\\\",\\\"url\\\":\\\"https://likeapricot.tistory.com/248\\\",\\\"imageUrl\\\":\\\"https://t1.daumcdn.net/section/oc/bcd1b73a28f94bdca3bcf3abcb48078c\\\",\\\"source\\\":\\\"by 살구로그\\\",\\\"summary\\\":\\\"해룡마라룽샤 [##_Image|kage@ciCqZJ/btrFooHTaJt/wF1EuGCF2MMzULGfohG6Fk/img.jpg|CDM|1.3|{\\\\\\\"originWidth\\\\\\\":3024,\\\\\\\"originHeight\\\\\\\":4032,\\\\\\\"style\\\\\\\":\\\\\\\"alignCenter\\\\\\\",\\\\\\\"filename\\\\\\\":\\\\\\\"KakaoTalk_20220621_225532204_02.jpg\\\\\\\"}_##] 진짜 오\\\"},{\\\"id\\\":\\\"tstory-926178_734\\\",\\\"title\\\":\\\"[라이프] 말리부 인근 숨은 하이킹 명소. 토팽가 캐년 룩아웃\\\",\\\"url\\\":\\\"https://calholic.tistory.com/734\\\",\\\"imageUrl\\\":\\\"https://t1.daumcdn.net/section/oc/02faa14f024c4642918cbe15d91f77de\\\",\\\"source\\\":\\\"by 캘리홀릭\\\",\\\"summary\\\":\\\"TOPANGA CANYON LOOKOUT 콘크리트 그래피티 아트 위에서 즐기는 360도 전경 [##_Image|kage@NN7Kw/btrFkWLaaOK/E9PbjFoG0dyQnBXcKHa511/img.jpg|CDM|1.3|{\\\\\\\"originWidth\\\\\\\":1280,\\\\\\\"originHeight\\\\\\\":721,\\\\\\\"style\\\\\\\":\\\\\\\"alignCenter\\\\\\\",\\\\\\\"filename\\\\\\\":\\\\\\\"Kak\\\"},{\\\"id\\\":\\\"tstory-2062045_838\\\",\\\"title\\\":\\\"영국이 사랑한 고양이 화가, 루이스 웨인展\\\",\\\"url\\\":\\\"https://thehyundaiblog.com/838\\\",\\\"imageUrl\\\":\\\"https://t1.daumcdn.net/section/oc/4e0ef76e098b42b69b7c30bf61e4bade\\\",\\\"source\\\":\\\"by 현대백화점 공식블로그\\\",\\\"summary\\\":\\\"모든 동물이 행복해지길 바랐던 엉뚱한 천재 화가 루이스 웨인. 그의 고양이 그림은 오늘날까지 많은 사람들에게 사랑받고 있는데요. 4월에는 영화로도 개봉되어 스크린에서 만나볼 수 있었던 루이스 웨인의 생애가 이번에는 전시회로 찾아왔다는 소식입니다. 루이스 웨인의 원화와 오리지널 판화, 미디어아트 100여점을 만나볼 수 있는 전시 <루이스 웨인展>이 현대백화점\\\"},{\\\"id\\\":\\\"tstory-535087_272\\\",\\\"title\\\":\\\"이건 데자뷰?? Teddy Santis의 뉴발란스 M990TD2 개봉기, 사이즈 추천\\\",\\\"url\\\":\\\"https://dmwriter.tistory.com/272\\\",\\\"imageUrl\\\":\\\"https://t1.daumcdn.net/section/oc/db143c40b6d94857a5c825aee422c84a\\\",\\\"source\\\":\\\"by Mist\\\",\\\"summary\\\":\\\"코로나 시기를 겪으며 스니커신에 가장 많은 변화는 리셀가의 폭발적인 상승과, 브랜드간 활발한 콜라보를 꼽을 수 있을 것 같습니다. 스니커 브랜드들은 아이덴티티와 디자인의 외연확장을 위해 다른 패션 브랜드와의 협업에 기꺼이 손을 내밀었습니다. 나이키는 아 마 마니에르, 오프 화이트, 트래비스 스캇과의 콜라보가 폭발적인 인기를 끌었었고 [##_ImageGrid\\\"},{\\\"id\\\":\\\"tstory-1954431_460\\\",\\\"title\\\":\\\"부산 동대신동 : 시원하고 맛있는 밀면 맛집, 영남냉면밀면\\\",\\\"url\\\":\\\"https://soraing.tistory.com/460\\\",\\\"imageUrl\\\":\\\"https://t1.daumcdn.net/section/oc/00ad1f1ef79e4630b63be2323bb5110c\\\",\\\"source\\\":\\\"by 탐험하라 꿈꾸라 발견하라\\\",\\\"summary\\\":\\\"점심은 또 무얼 먹을까 고민하다가 시원한 밀면이 먹고 싶었다. 점심을 같이할 동행분께 말씀드렸더니 거리는 좀 있지만, 밀면 맛집이 있다며 데려가 주셨다. 학창 시절 내내 대신동 근처에 살았는데, 영남 밀면은 처음 들었다. 식당의 위치도 내가 잘 다니지 않던 길이기도 했다. 영남냉면밀면 위치와 주차장 정보 영남냉면밀면은 벚꽃 명소로 유명한 대신동 삼익아파트 \\\"},{\\\"id\\\":\\\"tstory-2864167_345\\\",\\\"title\\\":\\\"[태국 방콕 여행]솜분씨푸드 - 푸팟퐁커리 맛집\\\",\\\"url\\\":\\\"https://wooleelife.tistory.com/345\\\",\\\"imageUrl\\\":\\\"https://t1.daumcdn.net/section/oc/80405e96a0ca4acda7266791113b7a7b\\\",\\\"source\\\":\\\"by 우리라이프\\\",\\\"summary\\\":\\\"태국 방콕에 여행 간 한국사람들이 하루에 한번씩 간다는 푸팟퐁커리 맛집이 있습니다. 여행중 5번 정도는 들리게 된다는 시암스퀘어의 스퀘어원 4층에 가면 솜분씨푸드라는 집이 있는데, 여기가 한국인들 사이에서 유명한 푸팟퐁커리 맛집입니다. 이 건물에는 '홍대' 등 한국식당 임을 내건 음식점들이 많은데, 한국의 인기가 엄청나게 올라간걸 느꼈다. 아.. 근데 그거\\\"},{\\\"id\\\":\\\"tstory-3172495_709\\\",\\\"title\\\":\\\"홈메이드 토마토소스와 생면을 사용한 라자냐 맛집 아우룸\\\",\\\"url\\\":\\\"https://good-maen.tistory.com/709\\\",\\\"imageUrl\\\":\\\"https://t1.daumcdn.net/section/oc/1a0afed91d304212ad1bcdba2fdb959d\\\",\\\"source\\\":\\\"by 오로지 내돈내먹\\\",\\\"summary\\\":\\\"오늘은 라자냐 맛집 아우룸을 소개합니다. [##_Image|kage@GIDo8/btrFpQclWMq/yopKwe9LHYhEKHef5kr4g0/img.jpg|CDM|1.3|{\\\\\\\"originWidth\\\\\\\":2250,\\\\\\\"originHeight\\\\\\\":1690,\\\\\\\"style\\\\\\\":\\\\\\\"alignCenter\\\\\\\",\\\\\\\"filename\\\\\\\":\\\\\\\"아우룸_1.jpg\\\\\\\"}_##] 이곳은 2020년 08월 1\\\"},{\\\"id\\\":\\\"tstory-972237_4884\\\",\\\"title\\\":\\\"잠실역 카페, 노랑노랑 산뜻한 8b 돌체(에잇비돌체)\\\",\\\"url\\\":\\\"https://perfume700.tistory.com/4884\\\",\\\"imageUrl\\\":\\\"https://t1.daumcdn.net/section/oc/4324688bb761483cab88b7673fc982c3\\\",\\\"source\\\":\\\"by 아이리스 PHOTO STORY\\\",\\\"summary\\\":\\\"잠실역 지하 카페 노랑노랑 분위기에 취하게 되는 8b DOLCE [##_Image|kage@BZEB6/btrERnXvBD2/XRyYCJntFSbvf7eg6Z5eXk/img.jpg|CDM|1.3|{\\\\\\\"originWidth\\\\\\\":1220,\\\\\\\"originHeight\\\\\\\":890,\\\\\\\"style\\\\\\\":\\\\\\\"alignCenter\\\\\\\",\\\\\\\"filename\\\\\\\":\\\\\\\"20220510_164549.jpg\\\"},{\\\"id\\\":\\\"tstory-578345_1243\\\",\\\"title\\\":\\\"2050 ESG 혁명\\\",\\\"url\\\":\\\"https://k50321.tistory.com/1243\\\",\\\"imageUrl\\\":\\\"https://t1.daumcdn.net/section/oc/49d065160d804012b03611c96f4333a2\\\",\\\"source\\\":\\\"by The EconoMic Person\\\",\\\"summary\\\":\\\"ESG가 뭐길래? 각 회사마다 난리다. 언제부터인가 갑자기 ESG라는 단어가 들리기 시작하더니 회사의 미래라고 난리들이 있는데 심지어 내가 다니는 회사는 TF에 부서까지 별도로 만들어 놓은 상태이다. 한편으로는 기업이라는 것이 고용과 성장을 담당하는 것이 주목적이지 않은가 생각을 하기도 했는데 다른 한편으로는 이렇게 환경도 사회도 지배구조까지도 생각을 해야\\\"},{\\\"id\\\":\\\"tstory-971662_888\\\",\\\"title\\\":\\\"제주도 - 수월봉과 신풍풍차해안\\\",\\\"url\\\":\\\"https://bluewindows.tistory.com/888\\\",\\\"imageUrl\\\":\\\"https://t1.daumcdn.net/section/oc/243cc26243f84b62bb93c1354409d1ed\\\",\\\"source\\\":\\\"by 파란창을 통해 보는 세상\\\",\\\"summary\\\":\\\"제주도 - 수월봉과 신풍풍차해안 수월봉은 제주도 서쪽에 위치한 작은 봉우리 입니다. 사실 수월봉 근처는 여러번 가봤는데 실제 이곳을 방문한건 이번이 처음입니다. 수월봉 정상에 오르면 작은 정자가 있습니다. [##_Image|kage@d3yIqY/btrFjXiDynE/27kVHwkACAE8ImyV1oZctK/img.jpg|CDM|1.3|{\\\\\\\"originWidt\\\"},{\\\"id\\\":\\\"tstory-2740055_186\\\",\\\"title\\\":\\\"[경대북문 이층집돈까스] 밥과 스프 무한리필에 가격도 좋은 돈까스! 치즈 쭉쭉 철판치즈돈까스&마늘간장돈까스\\\",\\\"url\\\":\\\"https://mira2017.tistory.com/186\\\",\\\"imageUrl\\\":\\\"https://t1.daumcdn.net/section/oc/169cbfde281b428fbc1c2386b40168f8\\\",\\\"source\\\":\\\"by 아무도 모르게 꼭꼭 숨어라\\\",\\\"summary\\\":\\\"회사에서 점심으로 돈까스를 워낙 자주 먹어서 외식메뉴로 돈까스를 선택하는 일이 잘 없는데 경대북문맛집 찾다가 사진이 괜찮아 보여서 오랜만에 돈까스 외식 하러 방문했다. 경대북문 먹자골목 CU편의점 2층에 있는 '이층집돈까스' 이 일대가 모두 그런것 처럼 주차장은 따로 없기 때문에 공영주차장을 이용하는게 좋다. [##_Image|kage@LeyPm/btrE3\\\"},{\\\"id\\\":\\\"tstory-1906081_458\\\",\\\"title\\\":\\\"탁 트인 설악산의 절경과 만나는 속초등대전망대\\\",\\\"url\\\":\\\"https://100mountain.tistory.com/458\\\",\\\"imageUrl\\\":\\\"https://t1.daumcdn.net/section/oc/47010455c4ef4680ab3106c0969c0217\\\",\\\"source\\\":\\\"by 한국 100대 명산 산행기\\\",\\\"summary\\\":\\\"1. 여행 일자 : 2018년 8월 26일 일요일 2. 여행지 : 외옹치해수욕장, 속초해수욕장 + 속초등대전망대 + 영금정 + 설악산 주전골 3. 소재지 외옹치해수욕장(강원도 속초시 대포동), 속초해수욕장(강원도 속초시 조양동, 대포동) + 속초등대전망대(강원 속초시 영금정로5길 8-28(영랑동)) + 영금정(강원도 속초시 영금정로 45(동명동) + 설악산\\\"},{\\\"id\\\":\\\"tstory-2919032_1690\\\",\\\"title\\\":\\\"더 뉴 팰리세이드 시승기 – 다 담은 SUV 의 강자\\\",\\\"url\\\":\\\"https://rgbstance.com/1690\\\",\\\"imageUrl\\\":\\\"https://t1.daumcdn.net/section/oc/a4ede88e5ca44aecba91fe84bb4bf5cd\\\",\\\"source\\\":\\\"by RGB STANCE\\\",\\\"summary\\\":\\\"[##_Image|kage@ygg6q/btrE5sYKPOO/dmPpbtr9uWx2ObC9URsxM0/img.jpg|CDM|1.3|{\\\\\\\"originWidth\\\\\\\":1200,\\\\\\\"originHeight\\\\\\\":1799,\\\\\\\"style\\\\\\\":\\\\\\\"alignCenter\\\\\\\",\\\\\\\"filename\\\\\\\":\\\\\\\"rgbstance_RGB01423.jpg\\\\\\\"}_##] 좋아하는 것들로 가득 담은 SUV, ‘더 뉴 \\\"},{\\\"id\\\":\\\"tstory-2966902_792\\\",\\\"title\\\":\\\"남양주 맛집 일호갈비탕 인생 갈비탕집을 만나다!\\\",\\\"url\\\":\\\"https://sesack.tistory.com/792\\\",\\\"imageUrl\\\":\\\"https://t1.daumcdn.net/section/oc/d59ef072decc4a6d93e6c18c3da9ea11\\\",\\\"source\\\":\\\"by 세싹라이프\\\",\\\"summary\\\":\\\"인생 갈비탕 살면서 정말 많은 음식들을 먹지만, 인생 맛집을 발견하는 것은 생각보다 쉽지 않다. 분명 맛있긴 한데 인생 맛집까지는 아닌 것 같고, 때로는 가격이 너무 비싸서 아쉽기도 하도, 뭔가 하나씩은 아쉬운 부분이 있는 경우가 많다. 하지만 이번에 만난 일호갈비탕집은 과연 인생 갈비탕이라고 부를만한 곳이었다. 맛과 가격, 양까지 뭐 하나 아쉬운 부분 없\\\"},{\\\"id\\\":\\\"tstory-2774252_395\\\",\\\"title\\\":\\\"얼음동동 시원한 오이냉국, 5분 뚝딱 황금레시피\\\",\\\"url\\\":\\\"https://uriphin2.tistory.com/395\\\",\\\"imageUrl\\\":\\\"https://t1.daumcdn.net/section/oc/580afe7e7dd64ebb9e8c5e740ff6e96c\\\",\\\"source\\\":\\\"by 오늘이 행복한 말리네공방\\\",\\\"summary\\\":\\\"얼음동동 시원한 오이냉국, 여름에 먹는 5분 뚝딱 황금레시피 더워지기 시작하는 이때쯤이면 싱싱한 오이로 얼음동동 띄워 만드는 오이냉국이 참 맛있습니다. 아삭아삭한 오이는 수분이 많아 갈증을 해소시켜주면서 냉국에 들어가는 짭짤한 양념이 땀이 많이 나는 여름에 부족한 미네랄까지 보충해주니 일석이조인 음식이지요. [##_Image|kage@dnaBQR/btrFm\\\"}]\"},\"teslas\":{},\"cabinets\":null,\"board\":false},{\"code\":2370,\"type\":\"PC_SOCIAL_KAKAOSTORY\",\"items\":{\"op\":{\"tab\":\"kakaostory\",\"title\":\"카카오스토리\",\"url\":\"https://story.kakao.com/\"}},\"feeds\":{\"pc_social_kakaostory\":\"[{\\\"id\\\":\\\"story-32302513_108509470489485989\\\",\\\"title\\\":\\\"서로 찰떡궁합인 제육볶음과 애호박부침개\\\",\\\"url\\\":\\\"https://story.kakao.com/ddaldulmom/ABARdv6iz20\\\",\\\"imageUrl\\\":\\\"https://t1.daumcdn.net/daumtop_chanel/tromm/20220622114221456\\\",\\\"source\\\":\\\"딸둘맘\\\",\\\"summary\\\":\\\"제육볶음과 애호박부침개.\\\\n\\\\n오늘 저녁반찬.\\\\n\\\\n아침에 고추장양념에 재워둔 돼지고기 뒷다리살.\\\\n살코기라 퍽퍽하지만 기름기가 적어서 애용한다.\\\\n비계가 있어야 부드럽고 고소하다며 애정하는 짝꿍은 불만이지만..?\\\\n\\\\n제육볶음.\\\\n돼지고기뒷다리살+고추장+두반장+맛술+도라지조청+양파+포도씨유+대파.\\\\n인내하며 양파를 카라멜색상이 되도록 볶아준 다음에 고기를 볶아주니 맛있네.\\\\n\\\\n애호박부침개.\\\\n애호박채+부침가루+연두+물.\\\\n동그란 애호박전은 부침옷이 안 벗겨\\\"},{\\\"id\\\":\\\"story-89532167_108512871099164502\\\",\\\"title\\\":\\\"시험 전날이라고 급식에 암기빵 나옴\\\",\\\"url\\\":\\\"https://story.kakao.com/ch/today_issue/F3tgBtZh23A\\\",\\\"imageUrl\\\":\\\"https://t1.daumcdn.net/daumtop_chanel/tromm/20220621014148343\\\",\\\"source\\\":\\\"오늘의이슈\\\",\\\"summary\\\":\\\"귀여워~ㅎㅎㅎㅎㅎㅎ \\\\n\\\\n\\\\n\\\\n\\\\n #유머   #오늘의이슈  \\\\n출처 : 인스티즈\\\"},{\\\"id\\\":\\\"story-72388652_108519307678074628\\\",\\\"title\\\":\\\"밥 말아먹자! 착한가격업소 국물편\\\",\\\"url\\\":\\\"https://story.kakao.com/ch/banbiraeyo/41HkomDb229\\\",\\\"imageUrl\\\":\\\"https://t1.daumcdn.net/daumtop_chanel/tromm/20220622022721531\\\",\\\"source\\\":\\\"강원도\\\",\\\"summary\\\":\\\"국물에 밥 말아먹어~ 한 끼 뚝딱!\\\\n국물편! 착한가격업소\\\\n\\\\n바쁜 현대인들에게 한 끼 식사로\\\\n국물만 한 게 없지!! \\\\n더운 여름, 모두들 국물요리로  몸보신하세요\\\\n\\\\n✅꺽다리와아줌마\\\\n강원도 강릉시 하슬라로206번길7-1\\\\n갈비탕 : 5,000원\\\\n\\\\n✅바다내음\\\\n강원도 삼척시 남양길 25(남양동)\\\\n동태알탕 : 7,000원\\\\n\\\\n✅가원\\\\n강원도 삼척시 근덕면 교가길 22-13\\\\n사골곰탕 : 8,000원\\\\n\\\\n\\\\n✅안동장터국밥\\\\n강원도 삼척시 정상안1길 \\\"},{\\\"id\\\":\\\"story-68884629_108517235772181750\\\",\\\"title\\\":\\\"순식간에 만드는 제육볶음\\\",\\\"url\\\":\\\"https://story.kakao.com/ch/cookpia/f9SMu2UP34A\\\",\\\"imageUrl\\\":\\\"https://t1.daumcdn.net/daumtop_chanel/tromm/20220622114456718\\\",\\\"source\\\":\\\"요리연구가 이보은\\\",\\\"summary\\\":\\\"특별한 일이 없으면 \\\\n거의 매일 제 스튜디오에서 \\\\n점심을 먹습니다.\\\\n메뉴개발한 음식들도 점검차 먹지만\\\\n그냥 한끼 떼우자 할 때 보다는\\\\n뭔가 만들어 먹자 하면서 직원들을 한가지라도 \\\\n배우게 하는 경우가 많지요.\\\\n\\\\n그래서 제육볶음도\\\\n울 직원들 솜씨랍니다.\\\\n\\\\n가끔  #쿡피아유튜브  에 \\\\n올려져 있는\\\\n메뉴들중 하나를 골라서 \\\\n점심 메뉴로 선택해서\\\\n먹기도 합니다.\\\\n\\\\n제육한상 - 바로 제육볶음이지요. \\\\n\\\\n앞다리살과 삼겹살을 섞어서\\\\n기름가 많은 것을 줄이고\\\"},{\\\"id\\\":\\\"story-78980134_108516832302092133\\\",\\\"title\\\":\\\"향긋한 바질페스토 만들기\\\",\\\"url\\\":\\\"https://story.kakao.com/bimil9627/0LDApnqL230\\\",\\\"imageUrl\\\":\\\"https://t1.daumcdn.net/daumtop_chanel/tromm/20220622114409664\\\",\\\"source\\\":\\\"지현이\\\",\\\"summary\\\":\\\"바질페스토 만들기\\\\n\\\\n\\\\n\\\\n\\\\n준비재료 :\\\\n\\\\n바질 : 신선한 무농약\\\\n볶은잣 : 신선한 국내산 프리미엄 파인 유\\\\n파르미지아노치즈 : (원재료:우유) 질 좋은 치즈\\\\n페코리노치즈 : (원재료: 양젖) \\\\n엑스트라버진 올리브오일 : 로렌조 N’3 N’5\\\\n마늘 : 의성 육쪽마늘\\\\n레몬즙\\\\n후추 : 통후추 갈아서 넣음\\\\n소금 : 말돈 소금\\\\n\\\\n\\\\n바질 50그램 기준으로 ~\\\\n잣 : 30g\\\\n파마산치즈 : 50g\\\\n페코리노치즈 : 50g\\\\n올리브오일 : 50g\\\\n마늘 : 2~3\\\"},{\\\"id\\\":\\\"story-45483586_108517944320012535\\\",\\\"title\\\":\\\"개운한 오이와 새콤한 양념 오이깍두기\\\",\\\"url\\\":\\\"https://story.kakao.com/ch/ebsstory/hD95gJeW45a\\\",\\\"imageUrl\\\":\\\"https://t1.daumcdn.net/daumtop_chanel/tromm/20220622094401000\\\",\\\"source\\\":\\\"EBS 스토리\\\",\\\"summary\\\":\\\"너무 더워서일까요? 오이 요리가 눈에 자꾸 띄네요. \\\\n여름철 반찬으로 제격인 오이깍두기. 오늘 반찬으로 먹고 싶어요 ^^\\\\n\\\\n■ 주재료: 오이(2개), 소금(1T), 설탕(½T), 영양 부추(15g)\\\\n\\\\n■ 양념재료: 고춧가루(2T), 매실청(1T), 다진 마늘(½T), 깨소금(½T), 새우젓(½T), 멸치액젓(½T)\\\\n\\\\n■ 요리 순서\\\\n1. 오이(2개) 반으로 썰어 4등분한 뒤 씨 제거하고 먹기 좋은 크기로 썰기\\\\n2. 오이에 소금(1T), 설탕(½T\\\"},{\\\"id\\\":\\\"story-68992717_108518772947076407\\\",\\\"title\\\":\\\"송도 주말 핫플! 인천 송도시장\\\",\\\"url\\\":\\\"https://story.kakao.com/ch/icmukbbang/JGiTfYw755a\\\",\\\"imageUrl\\\":\\\"https://t1.daumcdn.net/daumtop_chanel/tromm/20220622023056818\\\",\\\"source\\\":\\\"인천맛집\\\",\\\"summary\\\":\\\"⭐️주말에 송트리를 가야하는EU⭐️\\\\n쫀맛 푸드트럭에 플리마켓까지!! 미춌따링!\\\\n볼거리 먹거리 한번에 충족하러 떠나쟈!!\\\\n@@주말에 같이가실?!!?٩( °ꇴ °)۶\\\\n-\\\\n#송도시장 \\\\n기간: 금토일\\\\n장소: A동 광장, A동 스타벅스 앞\\\\nBㆍC 동 메인스트리트, AB동 지하통로\\\\n\\\\n#푸드트럭\\\\n기간: 토일\\\\n장소: D동 광장\\\\n\\\\n #트리플스트리트   #송도트리플스트리트   #플리마켓   #송도맘   #송도핫플   #인천\\\"},{\\\"id\\\":\\\"story-73850617_108517944230813223\\\",\\\"title\\\":\\\"갈 데 까지 간 동숲.jpg\\\",\\\"url\\\":\\\"https://story.kakao.com/ch/funnybro/jQetFGeW45a\\\",\\\"imageUrl\\\":\\\"https://t1.daumcdn.net/daumtop_chanel/tromm/20220622091607997\\\",\\\"source\\\":\\\"웃기는 친구\\\",\\\"summary\\\":\\\"모여봐요 누룽지백숙의 숲 \\\\n\\\\n\\\\n\\\\n\\\\n #유머   #웃기는친구  \\\\n출처 : cooru58 님의 트위터\\\"},{\\\"id\\\":\\\"story-84589488_108514665820423188\\\",\\\"title\\\":\\\"올여름 인생샷은 목포에서!\\\",\\\"url\\\":\\\"https://story.kakao.com/ch/mokpocity/3NVVeTlwz19\\\",\\\"imageUrl\\\":\\\"https://t1.daumcdn.net/daumtop_chanel/tromm/20220622023738183\\\",\\\"source\\\":\\\"목포시청\\\",\\\"summary\\\":\\\"우와 여름이다\\\\n\\\\n여름하면 바다, 바다하면 목포\\\\n요즘 여름 여행지로 떠오르는\\\\n유달유원지로 놀러오세요\\\\n\\\\n알록달록 포토스팟도 많아 사진도 잘 나오는데요!\\\\n유달유원지에서 사진찍으면 무조건 인생샷\\\\n\\\\n위치 : 유달유원지(목포시 해양대학로 59)\\\\n\\\\n#목포 #목포시 #목포여행 #목포관광\\\\n#목포가볼만한곳 #대반동 #유달유원지\\\"},{\\\"id\\\":\\\"story-73850617_108514405461174198\\\",\\\"title\\\":\\\"액자는 왔지만 내용물이 아직 안온경우\\\",\\\"url\\\":\\\"https://story.kakao.com/ch/funnybro/FZN1FOzV23A\\\",\\\"imageUrl\\\":\\\"https://story-img.kakaocdn.net/dn/bVySNz/hyOQoJZNG5/gaoDYm0Cky1fNc9k3FTrlk/img.jpg?width=1080&height=993&avg=%2523c6c7c9&v=2\\\",\\\"source\\\":\\\"웃기는 친구\\\",\\\"summary\\\":\\\"왕꾸 ㅋㅋㅋㅋㅋ 이쁘다! \\\\n\\\\n\\\\n\\\\n\\\\n #유머   #웃기는친구  \\\\n출처 : D0___B 님의 트위터\\\"},{\\\"id\\\":\\\"story-88692060_108518136749871494\\\",\\\"title\\\":\\\"직장인 도시락, 두부상추샌드위치 만들기\\\",\\\"url\\\":\\\"https://story.kakao.com/duckhee79/eUx8BKQX34A\\\",\\\"imageUrl\\\":\\\"https://t1.daumcdn.net/daumtop_chanel/tromm/20220622114602454\\\",\\\"source\\\":\\\"더키\\\",\\\"summary\\\":\\\"#점심   #점심도시락   #직장인도시락   #저당질도시락   #샌드위치   #상추   #성필립보생태마을   #친환경상추 \\\\n #적양파   #참외 #불볕더위   #대구는이미여름   \\\\n #한국   #korea   #대구   #daegu  \\\\n\\\\n 딩동 딩동 \\\\n\\\\n 우리밀 통밀식빵으로 만든 \\\\n\\\\n 친환경 무농약 상추 가득 ⛰\\\\n\\\\n 욕망의 \\\\n\\\\n 두부상추샌드위치가 \\\\n\\\\n 수요 점심메뉴로 \\\\n\\\\n 도착했습니다 ?‍♀️\\\\n\\\\n 오\\\"},{\\\"id\\\":\\\"story-12349700_108507415740925892\\\",\\\"title\\\":\\\"신사동 오마카세, 스시키레이 \\\",\\\"url\\\":\\\"https://story.kakao.com/1wns9665/4Ak9mzwuy19\\\",\\\"imageUrl\\\":\\\"https://t1.daumcdn.net/daumtop_chanel/tromm/20220622114747930\\\",\\\"source\\\":\\\"강혁준\\\",\\\"summary\\\":\\\"서울. 강남. 신사동에 위치한  #스시키레이 . since2022. 런치 오마카세(11만원). 돌문어와 전복을 시작으로 모나카 위에 요플레와 섞은 크리미한 아귀간에 다진 참외를 올려 팥앙금같이 부드럽고 달콤. 아귀튀김은 소금에 살짝 찍어 크리스피하면서 육즙이 넘치는 맛. 잡내 1도 없이 달큰 깨끗하게 우려낸 조개미역국. 광어, 참돔, 한치, 줄무늬 전갱이, 참치, 농어, 장어 등 클래식 코스. 기본에 충실한 구성과 맛. 쌀알 하나하나 살아있는 \\\"},{\\\"id\\\":\\\"story-88692060_108497665181690774\\\",\\\"title\\\":\\\"신상 참외 샌드위치 만들기\\\",\\\"url\\\":\\\"https://story.kakao.com/duckhee79/FUkEYVD7y3A\\\",\\\"imageUrl\\\":\\\"https://t1.daumcdn.net/daumtop_chanel/tromm/20220621014033796\\\",\\\"source\\\":\\\"더키\\\",\\\"summary\\\":\\\"#참외샐러드   #샐러드   #산딸기   #참외  \\\\n\\\\n 참외 속씨를 제거한 후\\\\n\\\\n 얇게 슬라이스 해준 뒤\\\\n\\\\n  레몬소스 와 올리브유 \\\\n\\\\n 핑크솔트, 후추 약간을 뿌려주세요?\\\\n\\\\n 산딸기도 살짝 올려주면\\\\n\\\\n 요즘 핫한 \\\\n\\\\n 신상 참외샐러드  완성 \\\"},{\\\"id\\\":\\\"story-89532167_108514286775517781\\\",\\\"title\\\":\\\"전전남친 꾸준히 잘 지내냐고 연락오는데\\\",\\\"url\\\":\\\"https://story.kakao.com/ch/today_issue/03n5a4wt120\\\",\\\"imageUrl\\\":\\\"https://t1.daumcdn.net/daumtop_chanel/tromm/20220622102451077\\\",\\\"source\\\":\\\"오늘의이슈\\\",\\\"summary\\\":\\\"잘지내 로봇인가 ㅋㅋㅋㅋㅋㅋㅋ \\\\n\\\\n\\\\n\\\\n\\\\n #유머   #오늘의이슈  \\\\n출처 : 더쿠\\\"},{\\\"id\\\":\\\"story-70768867_108514600164992519\\\",\\\"title\\\":\\\"태안에서 체험하는 바지락 캐기\\\",\\\"url\\\":\\\"https://story.kakao.com/ch/taeangun/iJ9h6Aix34a\\\",\\\"imageUrl\\\":\\\"https://t1.daumcdn.net/daumtop_chanel/tromm/20220622023832575\\\",\\\"source\\\":\\\"태안군\\\",\\\"summary\\\":\\\"태안 황도 바지락 유어 체험장\\\\n@바지락 캐기 하러 가자!⛏\\\\n⠀\\\\n 블로그에서 자세히 보기 : https://bit.ly/3OrdQrR\\\\n⠀ \\\\n #태안   #태안여행   #국내여행   #황도바지락유어체험장   #물때표보는법 \\\\n⠀\\\\n──────────────\\\\n삶의 희망이 보이지 않을 때 고민말고 연락주세요\\\\n✔자살예방 상담전화 ☎ 1393\\\\n\\\"},{\\\"id\\\":\\\"story-3354168_108498406330529895\\\",\\\"title\\\":\\\"멜론으로 뚝딱 만드는 디저트\\\",\\\"url\\\":\\\"https://story.kakao.com/bidadari00/K3IeTvFFZ4a\\\",\\\"imageUrl\\\":\\\"https://t1.daumcdn.net/daumtop_chanel/tromm/20220621013823002\\\",\\\"source\\\":\\\"bidadari OK\\\",\\\"summary\\\":\\\"이런 디저트 어때요?\\\\n\\\\n스쿱으로 떠 내고 \\\\n남는 부분의 과육은 숟가락으로 떠 내서\\\\n멜론쥬스 만들어 드세요.\\\\n\\\\n선물용으로도 너무 좋은 멜론입니다.\\\\n\\\\n                  \\\\n\\\\n\\\\n양구멜론과 하미과(주황색)로 만든 디저트예요\\\\n\\\\n\\\\n.\\\\n.\\\\n.\\\\n\\\\n\\\\n\\\\n #양구멜론 \\\\n #디저트 \\\\n #과일디저트 \\\\n #멜론이쁘게담는법 \\\\n\\\"},{\\\"id\\\":\\\"story-72047916_108514166737649892\\\",\\\"title\\\":\\\"풋사과 맞이할 준비 하자~ 풋사과에이드 레시피 \\\",\\\"url\\\":\\\"https://story.kakao.com/ch/cbydpodo/6POHk1sSz19\\\",\\\"imageUrl\\\":\\\"https://t1.daumcdn.net/daumtop_chanel/tromm/20220622095534214\\\",\\\"source\\\":\\\"과일나라영동\\\",\\\"summary\\\":\\\"올여름 풋사과 맞이할 준비 제대로 해줘야쥐 \\\\n상콤 터지는~! #풋사과에이드 레시피 \\\\n\\\\n시원하게 한잔 먹으면 더위 싹 가신다구~~\\\\n미리미리 레시피 익혀두고 꼭 해먹기 약속 \\\\n\\\\n@@ 영동하면 사과! 사과하면 영동! ㅎ_ㅎ\\\\n\\\\n#영동과일 #영동과일나라 #풋사과에이드 #사과청 #풋사과 #과일디저트 #충북영동 #요리스타그램 #맛스타그램 #먹스타그램\\\"},{\\\"id\\\":\\\"story-89532167_108513107260310727\\\",\\\"title\\\":\\\"에어컨 설치했는데 멀티탭 긴게 없어서\\\",\\\"url\\\":\\\"https://story.kakao.com/ch/today_issue/hO0knN0k34a\\\",\\\"imageUrl\\\":\\\"https://t1.daumcdn.net/daumtop_chanel/tromm/20220621013921797\\\",\\\"source\\\":\\\"오늘의이슈\\\",\\\"summary\\\":\\\"?? : 놓지마... 꽉잡아... \\\\n\\\\n\\\\n\\\\n\\\\n #유머   #오늘의이슈  \\\\n출처 : hamjizang_ 님의 트위터\\\"},{\\\"id\\\":\\\"story-75487576_108517944446406085\\\",\\\"title\\\":\\\"대둔산 수락계곡 여름 명소 탐방\\\",\\\"url\\\":\\\"https://story.kakao.com/ch/nonsancity/CWuGwMdV230\\\",\\\"imageUrl\\\":\\\"https://t1.daumcdn.net/daumtop_chanel/tromm/20220622023354355\\\",\\\"source\\\":\\\"논산시\\\",\\\"summary\\\":\\\"대둔산 속 수락계곡 곳곳에는\\\\n더위를 잊게 하는 여름 명소들이 가득\\\\n\\\\n보기만 해도 시원~~한 대둔산 수락계곡의 명소들✨\\\\n이번 여름, 수락계곡 추천\\\\n\\\\n⭐높은 경사, 물놀이 중 미끄럼과 깊은 수심 주의는 필수❗❗ 아시죠⁉ \\\\n\\\\n #논산   #논산시   #대둔산   #수락계곡   #논산계곡   #계곡추천   #계곡나들이   #논산나들이   #여름여행지  \\\"},{\\\"id\\\":\\\"story-73850617_108519123347143607\\\",\\\"title\\\":\\\"아빠와의 결혼을 결심하게 되는 순간\\\",\\\"url\\\":\\\"https://story.kakao.com/ch/funnybro/iJSSYh5b55a\\\",\\\"imageUrl\\\":\\\"https://t1.daumcdn.net/daumtop_chanel/tromm/20220622023049438\\\",\\\"source\\\":\\\"웃기는 친구\\\",\\\"summary\\\":\\\"귀요미~ㅎㅎㅎㅎㅎㅎ \\\\n\\\\n\\\\n\\\\n\\\\n #유머   #웃기는친구  \\\\n출처 : 다음카페 이종격투기\\\"}]\"},\"teslas\":{},\"cabinets\":null,\"board\":false}],\"channel\":[{\"code\":2388,\"type\":\"PC_CHANNEL_HOMECOOKING\",\"items\":{\"op\":{\"title\":\"홈&쿠킹\",\"url\":null}},\"feeds\":{\"pc_channel_homecooking\":\"[{\\\"id\\\":\\\"brch-daFU-24\\\",\\\"title\\\":\\\"내 주방엔 백종원이 사나요?\\\",\\\"url\\\":\\\"https://brunch.co.kr/@@daFU/24\\\",\\\"imageUrl\\\":\\\"https://t1.daumcdn.net/section/oc/c6aee6dde3144874b3e40e5dc2a6f397\\\",\\\"source\\\":\\\"브런치 by 아이스블루\\\",\\\"desc\\\":\\\"나의 주방엔 없는 것이 없었다. 심지어 이름도 생소한 토마토 필러와 레몬 스퀴저까지 구비해놨었으니까... 그런데 난 이 물건들을 구입한 후 딱 한 번 쓴 것을 끝으로 10년간 한 번도 쓰지 않았다. 토마토와 레몬을 요리에 자주 활용하지 않은 이유도 있었지만 토마토 껍질은 끓는 물에 데쳐 벗기면 수월했고, 레몬즙은 마트에서 사다 먹는 게 더 깔끔했기 때문에 \\\",\\\"icon\\\":\\\"IMAGE\\\"},{\\\"id\\\":\\\"hamny-E72TByU37y\\\",\\\"title\\\":\\\"모기에게 잘 물리거나 붓는다면 '이것' 해라\\\",\\\"url\\\":\\\"https://content.v.daum.net/v/E72TByU37y\\\",\\\"imageUrl\\\":\\\"https://t1.daumcdn.net/news/202206/21/dailylife/20220621015301894jqn2.jpeg\\\",\\\"source\\\":\\\"데일리\\\",\\\"desc\\\":\\\"스키터증후군을 아시나요?\\\",\\\"icon\\\":\\\"IMAGE\\\"},{\\\"id\\\":\\\"brch-dba0-68\\\",\\\"title\\\":\\\"태도가 달라지니, '돈'이 생기다니.\\\",\\\"url\\\":\\\"https://brunch.co.kr/@@dba0/68\\\",\\\"imageUrl\\\":\\\"https://t1.daumcdn.net/section/oc/8dd31eaaa70341268645bdb4c78bb56a\\\",\\\"source\\\":\\\"브런치 by 꿈을꾸다\\\",\\\"desc\\\":\\\"미니멀 라이프 도전을 시작하고 난 뒤, 나의 태도가 달라지고 ‘돈’이 생기기 시작했다. 이 돈은 눈에 보이는 실질적인 ‘돈’이 쌓이기도 했지만, 쓰지 않아서 쌓이는 ‘돈’도 있었다. 미니멀 라이프를 한다고 해서 무조건 ‘돈’을 쓰지 않는 것도 아니고, ‘돈’이 생기는 것도 아니다. 그러나 ‘물건’과 ‘일상’에 대한 태도의 변화는 분명히 ‘돈’의 흐름에도 영\\\",\\\"icon\\\":\\\"IMAGE\\\"},{\\\"id\\\":\\\"brch-9Cqs-327\\\",\\\"title\\\":\\\"시험기간에 싸주는 월남쌈\\\",\\\"url\\\":\\\"https://brunch.co.kr/@@9Cqs/327\\\",\\\"imageUrl\\\":\\\"https://t1.daumcdn.net/section/oc/19e2a3b0bf3d409bb894174ca4d345d0\\\",\\\"source\\\":\\\"브런치 by 별님 이민숙\\\",\\\"desc\\\":\\\"필기구덕후, 볼펜, 샤프며 각종 필기구를 꺼내서 하나하나 정리를 하는 딸, 시험기간이어서 그렇다. 안하던 화분에 분갈이를 하는 딸은 지금이 시험기간이어서 그렇다. 안치던 피아노 앞에서 띵똥거리면서 피아노를 치는건 딸이 시험기간이라서 그렇다. 딸은 시험이 다가오면 책상을 정리하고 화장실 수납장의 도구들을 정리하면서 \\\\\\\"엄마 시험이 다가오니 이러고 있네요. 내가\\\",\\\"icon\\\":\\\"IMAGE\\\"},{\\\"id\\\":\\\"hamny-E9KlU7s8F1\\\",\\\"title\\\":\\\"멀리 휴가 갈 필요 없어요! 도심 속 복층 테라스에 둘만의 '피서지'를 꾸민 신혼집\\\",\\\"url\\\":\\\"https://content.v.daum.net/v/E9KlU7s8F1\\\",\\\"imageUrl\\\":\\\"https://t1.daumcdn.net/news/202206/22/ggumigi/20220622140018364yjku.jpg\\\",\\\"source\\\":\\\"집꾸미기\\\",\\\"desc\\\":\\\"@집꾸미기들쑥날쑥4232님의 공간입니다\\\",\\\"icon\\\":\\\"IMAGE\\\"},{\\\"id\\\":\\\"brch-cvb5-634\\\",\\\"title\\\":\\\"\\\\\\\"반신욕 한 물을 어떻게 먹어?\\\\\\\"\\\",\\\"url\\\":\\\"https://brunch.co.kr/@@cvb5/634\\\",\\\"imageUrl\\\":\\\"https://t1.daumcdn.net/section/oc/7111ca85322447f6b2f3e45659dee008\\\",\\\"source\\\":\\\"브런치 by 로운\\\",\\\"desc\\\":\\\"하루 한 잔만 허락된 커피, 이후에는 주로 잎차를 마십니다. 잎차에도 카페인이 함유된 차가 있고, 없는 차가 있습니다. 되도록 카페인이 없는 차를 마시려고 하죠. 카페인은 커피만으로도 충분하니까요. 혹 카페인이 함유된 차를 마실 때에는 커피를 디카페인으로 마십니다. 불면증을 피하고 질 높은 수면을 위한 선택이죠.  커피 다음으로 좋아하는 차는 \\\\\\\"포트넘 앤 \\\",\\\"icon\\\":\\\"IMAGE\\\"},{\\\"id\\\":\\\"hamny-ETRvpXtAzW\\\",\\\"title\\\":\\\"'이것' 덕분에.. 운좋게 들어간 'LH 임대주택', 이렇게 살아요\\\",\\\"url\\\":\\\"https://content.v.daum.net/v/ETRvpXtAzW\\\",\\\"imageUrl\\\":\\\"https://t1.daumcdn.net/news/202206/22/harmony/20220622000253203utoo.png\\\",\\\"source\\\":\\\"오늘의집\\\",\\\"desc\\\":\\\"오늘의집 @yumhouse 님의 집들이입니다. ✨인테리어 제보는 인스타그램 @todayhouse 안녕하세요! 저는 작년에 대학교를 졸업하고 사회생활을 시작한 지 이제 만 1년이 된 초년생 자취러예요. 저에게 생긴 세 번째 보금자리를 소개합니다:) 부모님에게서 떨어져 혼자 지낸 지는 벌써 9년째네요. 하지만 고등학교, 대학교 모두 기숙사에서 지낸 탓에 온\\\",\\\"icon\\\":\\\"IMAGE\\\"},{\\\"id\\\":\\\"hamny-20220622115113490\\\",\\\"title\\\":\\\"'약 자판기' 뭐가 문제길래..약사들이 반대하지?\\\",\\\"url\\\":\\\"https://v.daum.net/v/20220622115113490\\\",\\\"imageUrl\\\":\\\"https://t1.daumcdn.net/news/202206/22/sbscnbc/20220622115115452mbtq.jpg\\\",\\\"source\\\":\\\"SBS Biz\\\",\\\"desc\\\":\\\"[앵커]  10년 가까이 발이 묶였던 이른바 '약 자판기'가 시범사업을 시작합니다.  심야시간이나 공휴일에도 약사 복약지도 하에 처방약 말고 일반의약품을 살 수 있는 건데, 약사들은 부작용이 우려된다며 전면투쟁을 예고했습니다.  문세영 기자, 약 자판기가 어떻게 가능해진 겁니까?  [기자]  정부가 어제(21일) '일반의약품 스마트 화상판매기' 일명 화상투\\\",\\\"icon\\\":\\\"VIDEO\\\"}]\",\"homecooking_best_new_tiara\":\"[{\\\"id\\\":\\\"hamny-EttfGQoGeW\\\",\\\"title\\\":\\\"국내 여행에서 가볼만한 재래시장 1위\\\",\\\"url\\\":\\\"https://content.v.daum.net/v/EttfGQoGeW\\\",\\\"imageUrl\\\":\\\"https://t1.daumcdn.net/news/202206/17/realfood/20220617224704382cgse.jpeg\\\"},{\\\"id\\\":\\\"tstory-1938581_2737\\\",\\\"title\\\":\\\"물을 얼릴 때 100명중 99명이 저지르는 실수!\\\",\\\"url\\\":\\\"https://kokone.co.kr/2737\\\",\\\"imageUrl\\\":\\\"https://t1.daumcdn.net/section/oc/08c54499c2674267a74f6df3d010857d\\\"},{\\\"id\\\":\\\"hamny-EJ1J6uEHnN\\\",\\\"title\\\":\\\"33평에서 23평으로.. 좁은 평수 이사, '이렇게' 했더니.. 대박!\\\",\\\"url\\\":\\\"https://content.v.daum.net/v/EJ1J6uEHnN\\\",\\\"imageUrl\\\":\\\"https://t1.daumcdn.net/news/202206/17/ohouse/20220617040010428ch45.png\\\"},{\\\"id\\\":\\\"brch-6qvt-133\\\",\\\"title\\\":\\\"뱅갈 고무나무에 싹이 나다.\\\",\\\"url\\\":\\\"https://brunch.co.kr/@@6qvt/133\\\",\\\"imageUrl\\\":\\\"https://t1.daumcdn.net/section/oc/dfd7566a255a49f0a6284d8b202bb95f\\\"},{\\\"id\\\":\\\"tstory-2561881_1268\\\",\\\"title\\\":\\\"'테이크아웃 커피컵' 이렇게 유용한데, 한 번 쓰고 버린다고?!\\\",\\\"url\\\":\\\"https://topsecret123.tistory.com/1268\\\",\\\"imageUrl\\\":\\\"https://t1.daumcdn.net/section/oc/150c4a9bdb9441379da78204a1137026\\\"},{\\\"id\\\":\\\"hamny-20220618214630320\\\",\\\"title\\\":\\\"\\\\\\\"동호회 가입한 남편, 막무가내로 황혼이혼 요구합니다\\\\\\\"\\\",\\\"url\\\":\\\"https://v.daum.net/v/20220618214630320\\\",\\\"imageUrl\\\":\\\"https://t1.daumcdn.net/news/202206/18/dailian/20220618214632981wkwi.jpg\\\"},{\\\"id\\\":\\\"hamny-E6OFB0TGUg\\\",\\\"title\\\":\\\"집주인 허락이 떨어지자, 15평 반지하 월세방의 변신이 시작됐다\\\",\\\"url\\\":\\\"https://content.v.daum.net/v/E6OFB0TGUg\\\",\\\"imageUrl\\\":\\\"https://t1.daumcdn.net/news/202105/24/ohouse/20210524022847629ugvp.jpg\\\"},{\\\"id\\\":\\\"tstory-1944847_2309\\\",\\\"title\\\":\\\"수건 냄새 제거 삶지않고 없애는법 | 수건냄새 과탄산소다 사용법\\\",\\\"url\\\":\\\"https://m.tipzum.com/2309\\\",\\\"imageUrl\\\":\\\"https://t1.daumcdn.net/section/oc/5f2ca22cce094f7da1fa109449159a70\\\"},{\\\"id\\\":\\\"hamny-EBnYxqgSjs\\\",\\\"title\\\":\\\"따라하자마자 숨은 키 바로 나타나는 거북목 교정법\\\",\\\"url\\\":\\\"https://content.v.daum.net/v/EBnYxqgSjs\\\",\\\"imageUrl\\\":\\\"https://t1.daumcdn.net/news/202206/17/onehomelife/20220617033228394q8dh.png\\\"},{\\\"id\\\":\\\"hamny-20220619100055247\\\",\\\"title\\\":\\\"염증 가라앉히는 마실 거리 4\\\",\\\"url\\\":\\\"https://v.daum.net/v/20220619100055247\\\",\\\"imageUrl\\\":\\\"https://t1.daumcdn.net/news/202206/19/KorMedi/20220619100102109crat.jpg\\\"}]\"},\"teslas\":{},\"cabinets\":null,\"board\":false},{\"code\":2389,\"type\":\"PC_CHANNEL_MONEY\",\"items\":{\"op\":{\"title\":\"머니\",\"url\":null}},\"feeds\":{\"pc_channel_money\":\"[{\\\"id\\\":\\\"hamny-EV1LaiKoC5\\\",\\\"title\\\":\\\"기대되는 '여름 보너스'.. 금융지주, 배당 더 높인다\\\",\\\"url\\\":\\\"https://content.v.daum.net/v/EV1LaiKoC5\\\",\\\"imageUrl\\\":\\\"https://t1.daumcdn.net/news/202206/22/moneyis/20220622044156723oxam.jpeg\\\",\\\"source\\\":\\\"뭐니\\\",\\\"desc\\\":\\\"국내 금융지주회사 최고 경영자(CEO)들이 직접 비행기를 타고 해외IR(투자설명회) 순방에 나섭니다.\\\",\\\"icon\\\":\\\"IMAGE\\\"},{\\\"id\\\":\\\"hamny-EIQBufUQb0\\\",\\\"title\\\":\\\"글로벌 경기 침체 여파.. 테크 업계 IPO 시계 제로\\\",\\\"url\\\":\\\"https://content.v.daum.net/v/EIQBufUQb0\\\",\\\"imageUrl\\\":\\\"https://t1.daumcdn.net/news/202206/22/tech42/20220622145906734dnrv.png\\\",\\\"source\\\":\\\"테크42\\\",\\\"desc\\\":\\\"[AI요약] 지난 5월 토종 앱마켓 원스토어가 기관투자자 수요예측 실적 부진을 이유로 상장을 철회한 이후로 예정됐던 기업공개(IPO) 일정이 줄줄이 차질을 빚고 있다. 글로벌 경기의 영향을 직접적으로 받고 있는 우리나라의 경우, 제조업 등 수출 대기업에서 시작된 실적 하락의 여파가 중소 스타트업은 물론 상장을 준비하던 기업들까지 미치고 있다.\\\",\\\"icon\\\":\\\"IMAGE\\\"},{\\\"id\\\":\\\"hamny-20220620110518505\\\",\\\"title\\\":\\\"[지구촌 돋보기] '자이언트 스텝' 밟은 美..전 세계 도미노 금리 인상\\\",\\\"url\\\":\\\"https://v.daum.net/v/20220620110518505\\\",\\\"imageUrl\\\":\\\"https://t1.daumcdn.net/news/202206/20/kbs/20220620110520230nmjo.jpg\\\",\\\"source\\\":\\\"KBS\\\",\\\"desc\\\":\\\"[앵커] 지난주 미국 중앙은행인 연방준비제도, 연준이 기준금리를 이례적으로 크게 올린 뒤 각국 증시가 요동쳤는데요. 가파른 물가 상승세에 연준뿐 아니라 유럽 등 세계 각국의 중앙은행이 잇따라 금리를 올리고 있습니다. 금리가 오르면 경제엔 어떤 타격이 있는지, 앞으로 세계 경기 전망은 어떤지, 지구촌 돋보기에서  황경주 기자와 자세히 다뤄보겠습니다. 황 기\\\",\\\"icon\\\":\\\"VIDEO\\\"},{\\\"id\\\":\\\"hamny-E1L6ee4QKd\\\",\\\"title\\\":\\\"18억명의 '할랄' 잡아라..말레이·인니 찾아가는 K떡볶이·K빵\\\",\\\"url\\\":\\\"https://content.v.daum.net/v/E1L6ee4QKd\\\",\\\"imageUrl\\\":\\\"https://t1.daumcdn.net/news/202206/21/ssully/20220621070010068xsvh.jpeg\\\",\\\"source\\\":\\\"썰리\\\",\\\"desc\\\":\\\"국내 식품업체가 ‘할랄’(Halal)에 꽂혔다. 국내 식품업체가 ‘할랄’(Halal)에 꽂혔다. 무슬림(이슬람교도)이 먹고 쓸 수 있는 제품인 할랄을 만들기 위해 인증을 받고 할랄 전용 공장을 세운다. 이미 포화에 이른 국내 식품 시장에서 세계 인구의 24%를 차지하는 할랄 시장으로 눈을 돌리고 있다. 국내 식품업계가 할랄에 공을 들이는 이유는 시장 확대\\\",\\\"icon\\\":\\\"IMAGE\\\"},{\\\"id\\\":\\\"hamny-EEhJBGr6ld\\\",\\\"title\\\":\\\"카카오가 소상공인을 돕는 법..카톡 활용한 디지털 전환\\\",\\\"url\\\":\\\"https://content.v.daum.net/v/EEhJBGr6ld\\\",\\\"imageUrl\\\":\\\"https://t1.daumcdn.net/news/202206/22/bloter/20220622122900616bdwk.png\\\",\\\"source\\\":\\\"블로터\\\",\\\"desc\\\":\\\"카카오가 소상공인과 상생하는 법은 자사의 모바일 플랫폼 카카오톡으로 디지털 전환을 이끄는 방식으로 요약된다. 카카오는 올해 4월 사회의 지속가능성 기여를 위한 카카오 공동체 상생 방안의 일환으로 총 3000억원의 상생기금을 집행하겠다고 발표한 바 있다. 그중 1000억원은 소상공인과 지역 파트너를 대상으로 쓰이며 소상공인들이 카카오톡 채널을 이용해 디지털\\\",\\\"icon\\\":\\\"IMAGE\\\"},{\\\"id\\\":\\\"hamny-EHSBOPfZBE\\\",\\\"title\\\":\\\"유럽 직접 둘러본 신동빈 회장..'새로운 롯데' 만들기 총력\\\",\\\"url\\\":\\\"https://content.v.daum.net/v/EHSBOPfZBE\\\",\\\"imageUrl\\\":\\\"https://t1.daumcdn.net/news/202206/22/bloter/20220622122403302eihi.jpg\\\",\\\"source\\\":\\\"블로터\\\",\\\"desc\\\":\\\"전기차 소재, 바이오 등 미래 핵심 사업에 37조원을 집중 투자하겠다고 밝힌 롯데그룹의 신동빈 회장이 유럽 출장 길에서 전기차 소재 투자를 확대키로 결정했다. 경쟁업체에 비해 전기차 소재 시장에 뒤늦게 뛰어든 만큼 격차를 줄이기 위한 행보로 분석된다. 롯데그룹의 화학 계열사 롯데케미칼은 현재 시장에 매물로 나온 시총 4조원 규모의 동박 제조업체 일진머티리얼\\\",\\\"icon\\\":\\\"IMAGE\\\"},{\\\"id\\\":\\\"hamny-EHBetOZSF1\\\",\\\"title\\\":\\\"층간소음 사각지대 441만호의 눈물\\\",\\\"url\\\":\\\"https://content.v.daum.net/v/EHBetOZSF1\\\",\\\"imageUrl\\\":\\\"https://t1.daumcdn.net/news/202206/21/thescoop/20220621034254977xrn0.jpeg\\\",\\\"source\\\":\\\"더스쿠프\\\",\\\"desc\\\":\\\"공동주택 바닥충격음 사후 검사 도입\\\\n공동주택이 아닌 곳에는 적용 안 해 \\\\n층간소음 문제 여전히 남을까\\\",\\\"icon\\\":\\\"IMAGE\\\"},{\\\"id\\\":\\\"hamny-E4hEKyg3bJ\\\",\\\"title\\\":\\\"③정부 사업만 바라보는 헬스케어..B2B·B2C 확대 해법은?\\\",\\\"url\\\":\\\"https://content.v.daum.net/v/E4hEKyg3bJ\\\",\\\"imageUrl\\\":\\\"https://t1.daumcdn.net/news/202206/22/bloter/20220622115440856nuwm.jpg\\\",\\\"source\\\":\\\"블로터\\\",\\\"desc\\\":\\\"보건복지부가 준비 중인 고독사 방지 중장기 계획에는 정보통신기술(ICT)을 활용한 방안이 담길 전망이다. 준비 상황과 ICT 기업에게 미칠 영향에 대해 진단해본다.\\\",\\\"icon\\\":\\\"IMAGE\\\"}]\",\"money_best_new_tiara\":\"[{\\\"id\\\":\\\"hamny-20220619080029642\\\",\\\"title\\\":\\\"남편 떠나자 \\\\\\\"엄마 외롭다, 20억 아파트 팔자\\\\\\\"..큰딸의 속내\\\",\\\"url\\\":\\\"https://v.daum.net/v/20220619080029642\\\",\\\"imageUrl\\\":\\\"https://t1.daumcdn.net/news/202206/19/joongang/20220619080030928mtvz.jpg\\\"},{\\\"id\\\":\\\"hamny-20220619134004758\\\",\\\"title\\\":\\\"\\\\\\\"0원에 수렴하나\\\\\\\" 비트코인, '패닉셀' 쏟아진다..1.9만달러도 깨져\\\",\\\"url\\\":\\\"https://v.daum.net/v/20220619134004758\\\",\\\"imageUrl\\\":\\\"https://t1.daumcdn.net/news/202206/19/moneytoday/20220619134005716weom.jpg\\\"},{\\\"id\\\":\\\"hamny-EBtISP2d3V\\\",\\\"title\\\":\\\"\\\\\\\"인동선 안 뚫릴 수 있다고?\\\\\\\"..의왕·안양 집값 무서운 추락\\\",\\\"url\\\":\\\"https://content.v.daum.net/v/EBtISP2d3V\\\",\\\"imageUrl\\\":\\\"https://t1.daumcdn.net/news/202206/17/realty/20220617093309669lcnw.jpeg\\\"},{\\\"id\\\":\\\"hamny-20220619171602524\\\",\\\"title\\\":\\\"\\\\\\\"내 재산의 90% 넣어라\\\\\\\"..버핏이 유언장에 남긴 투자처\\\",\\\"url\\\":\\\"https://v.daum.net/v/20220619171602524\\\",\\\"imageUrl\\\":\\\"https://t1.daumcdn.net/news/202206/19/ked/20220619172706943wyzp.jpg\\\"},{\\\"id\\\":\\\"hamny-20220619072501476\\\",\\\"title\\\":\\\"\\\\\\\"금리 4%시대 온다\\\\\\\" 공포감에 '얼음' ..\\\\\\\"더 떨어진다\\\\\\\"[월가시각]\\\",\\\"url\\\":\\\"https://v.daum.net/v/20220619072501476\\\",\\\"imageUrl\\\":\\\"https://t1.daumcdn.net/news/202206/19/moneytoday/20220619072502796rtmf.jpg\\\"},{\\\"id\\\":\\\"hamny-20220619060017564\\\",\\\"title\\\":\\\"원로 경제학자들, 세금 깎는 尹정부 물가정책에 쓴소리..\\\\\\\"수입 증가로 高환율 유발\\\\\\\"\\\",\\\"url\\\":\\\"https://v.daum.net/v/20220619060017564\\\",\\\"imageUrl\\\":\\\"https://t1.daumcdn.net/news/202206/20/chosunbiz/20220620084350124wrlz.jpg\\\"},{\\\"id\\\":\\\"hamny-20220619112350646\\\",\\\"title\\\":\\\"노인연령 '65세→70세' 바꿔야..정년연장 안하면 일 할 사람없다\\\",\\\"url\\\":\\\"https://v.daum.net/v/20220619112350646\\\",\\\"imageUrl\\\":\\\"https://t1.daumcdn.net/news/202206/19/moneytoday/20220619112352094addq.jpg\\\"},{\\\"id\\\":\\\"hamny-20220619133203623\\\",\\\"title\\\":\\\"\\\\\\\"미국서 버스 탈 줄이야..\\\\\\\" 풍요의 나라가 변했다 [i시대 생존전략]\\\",\\\"url\\\":\\\"https://v.daum.net/v/20220619133203623\\\",\\\"imageUrl\\\":\\\"https://t1.daumcdn.net/news/202206/19/moneytoday/20220619133204347evox.jpg\\\"},{\\\"id\\\":\\\"hamny-EWJrOsuSsg\\\",\\\"title\\\":\\\"\\\\\\\"몽땅 하자투성이\\\\\\\" 사전점검 간 입주민들 분노 폭발\\\",\\\"url\\\":\\\"https://content.v.daum.net/v/EWJrOsuSsg\\\",\\\"imageUrl\\\":\\\"https://t1.daumcdn.net/news/202206/17/realty/20220617093040915tjsu.jpeg\\\"},{\\\"id\\\":\\\"hamny-Ej1T3ptP7n\\\",\\\"title\\\":\\\"\\\\\\\"집 나간 소비자를 매장으로..\\\\\\\" 아웃백의 Out-Back 통할까\\\",\\\"url\\\":\\\"https://content.v.daum.net/v/Ej1T3ptP7n\\\",\\\"imageUrl\\\":\\\"https://t1.daumcdn.net/news/202206/18/thescoop/20220618161201883eoot.jpeg\\\"}]\"},\"teslas\":{},\"cabinets\":null,\"board\":false},{\"code\":2390,\"type\":\"PC_CHANNEL_PET\",\"items\":{\"op\":{\"title\":\"동물\",\"url\":null}},\"feeds\":{\"pc_channel_pet\":\"[{\\\"id\\\":\\\"hamny-EcaK5XG80P\\\",\\\"title\\\":\\\"친구들이 안놀아줌.jpg\\\",\\\"url\\\":\\\"https://community.v.daum.net/v/EcaK5XG80P\\\",\\\"imageUrl\\\":\\\"https://t1.daumcdn.net/daumtop_chanel/tromm/20220622034416638\\\",\\\"source\\\":\\\"더쿠\\\",\\\"desc\\\":\\\"\\\",\\\"icon\\\":\\\"IMAGE\\\"},{\\\"id\\\":\\\"hamny-Eh0OD23dP6\\\",\\\"title\\\":\\\"새로 생긴 동생 잘 때도 꼭 껴안고 자는 고양이..'작고 소중해'\\\",\\\"url\\\":\\\"https://content.v.daum.net/v/Eh0OD23dP6\\\",\\\"imageUrl\\\":\\\"https://t1.daumcdn.net/news/202206/22/notepet/20220622012329954nkfe.jpeg\\\",\\\"source\\\":\\\"노트펫\\\",\\\"desc\\\":\\\"[노트펫] 집사가 데려온 막냇동생이 너무 좋았던 고양이는 애착 인형을 안고 자듯 동생을 소중하게 꼭 안고 잠을 잤다. 지난 18일(현지 시간) 대만 연합신문망(UDN)은 새로운 들어온 아기 고양이 '코하루'가 너무 좋아 잘 때도 꼭 껴안고 잔 고양이 '테토'를 소개했다. 일본에 거주 중인 한 트위터 유저는 지난 달 아기 고양이 코하루를 새로운 가족으로\\\",\\\"icon\\\":\\\"IMAGE\\\"},{\\\"id\\\":\\\"hamny-E5RwgT0V7i\\\",\\\"title\\\":\\\"좋은 음식 먹은 강아지가 때깔도 좋다! 강아지 사료 고르는 방법은?\\\",\\\"url\\\":\\\"https://content.v.daum.net/v/E5RwgT0V7i\\\",\\\"imageUrl\\\":\\\"https://t1.daumcdn.net/news/202206/21/bemypet/20220621073756319brwi.jpeg\\\",\\\"source\\\":\\\"비마이펫\\\",\\\"desc\\\":\\\"밥이 보약이라는 말이 있듯이, 음식은 건강에 중요한 역할을 합니다. 그래서 좋은 음식, 제철 음식을 일부러 찾아 먹는 경우도 많죠. 마찬가지로, 강아지 건강에도 음식은 중요한데요. 강아지는 한 종류의 사료를 지속적으로 먹는 만큼 한 번 고를 때 신중히 고를 필요가 있습니다. 강아지 사료, 어떻게 골라야 할까요?\\\",\\\"icon\\\":\\\"IMAGE\\\"},{\\\"id\\\":\\\"hamny-20220622151012203\\\",\\\"title\\\":\\\"포항서 식용견 위기 모면한 강아지 미국 입양돼 '犬生역전'\\\",\\\"url\\\":\\\"https://v.daum.net/v/20220622151012203\\\",\\\"imageUrl\\\":\\\"https://t1.daumcdn.net/news/202206/22/NEWS1/20220622151014003hgwe.jpg\\\",\\\"source\\\":\\\"뉴스1\\\",\\\"desc\\\":\\\"(포항=뉴스1) 최창호 기자 = 농막 주변에 묶여 힘겹게 살아가던 개가 미국으로 입양된 사연이 전해져 가슴을 훈훈하게 하고 있다. 22일 경북 포항시 북구에 사는 50대 여성 A씨에 따르면 지난해 가을 도로 옆 밭에서 목이 묶여있는 흰색 강아지를 발견했다. 동물학대로 판단한 A씨는 개가 있는 농막 가까이 갔다 깜짝 놀랐다. 개가 먹는 물에는 이끼가 끼여\\\",\\\"icon\\\":\\\"TEXT\\\"},{\\\"id\\\":\\\"cafe-bikemania/3JLn/308133\\\",\\\"title\\\":\\\"냥이 그루밍\\\",\\\"url\\\":\\\"https://cafe.daum.net/bikemania/3JLn/308133?svc=daumapp\\\",\\\"imageUrl\\\":\\\"https://t1.daumcdn.net/daumtop_chanel/tromm/20220622024931548\\\",\\\"source\\\":\\\"카페 · 바이크메니아\\\",\\\"desc\\\":\\\"\\\",\\\"icon\\\":\\\"IMAGE\\\"},{\\\"id\\\":\\\"story-64498004_108517983372185127\\\",\\\"title\\\":\\\"맹수의 늠름한 모습\\\",\\\"url\\\":\\\"https://story.kakao.com/ch/smzzal/HSa1c61W45a\\\",\\\"imageUrl\\\":\\\"https://t1.daumcdn.net/daumtop_chanel/tromm/20220622022820956\\\",\\\"source\\\":\\\"세상의 모든 움짤, 세모짤\\\",\\\"desc\\\":\\\"#세모짤   #움짤   #gif   #유머   #정보   #동물   #고양이   #맹수   #모습   #능름   #귀요미  \\\",\\\"icon\\\":\\\"IMAGE\\\"},{\\\"id\\\":\\\"cafe-jeongan22/MMat/17647\\\",\\\"title\\\":\\\"나도 할수있다냥\\\",\\\"url\\\":\\\"https://cafe.daum.net/jeongan22/MMat/17647?svc=daumapp\\\",\\\"imageUrl\\\":\\\"https://t1.daumcdn.net/daumtop_chanel/tromm/20220622014831280\\\",\\\"source\\\":\\\"카페 · 행복한 중년들\\\",\\\"desc\\\":\\\"\\\",\\\"icon\\\":\\\"IMAGE\\\"},{\\\"id\\\":\\\"hamny-Er1u8Wnzmb\\\",\\\"title\\\":\\\"조금 혼란스러운 강아지\\\",\\\"url\\\":\\\"https://community.v.daum.net/v/Er1u8Wnzmb\\\",\\\"imageUrl\\\":\\\"https://t1.daumcdn.net/daumtop_chanel/tromm/20220622014158316\\\",\\\"source\\\":\\\"뽐뿌\\\",\\\"desc\\\":\\\"  강아지 너무 귀엽지 않나요 ㅎㅎ    뽐뿌 회원의 재미난 댓글이 궁금하다면, 아래의 원문보기를 클릭하세요!  \\\",\\\"icon\\\":\\\"IMAGE\\\"}]\",\"pet_best_new_tiara\":\"[{\\\"id\\\":\\\"cafe-ssaumjil/LnOm/2831579\\\",\\\"title\\\":\\\"누구도 예상 못한 강아지의 반격\\\",\\\"url\\\":\\\"https://cafe.daum.net/ssaumjil/LnOm/2831579?svc=daumapp\\\",\\\"imageUrl\\\":\\\"https://t1.daumcdn.net/daumtop_chanel/tromm/20220616103423321\\\"},{\\\"id\\\":\\\"hamny-Ew42xuajhW\\\",\\\"title\\\":\\\"'믿을 수 없다옹!!!' 고양이가 거울 앞에서 멈춘 이유\\\",\\\"url\\\":\\\"https://content.v.daum.net/v/Ew42xuajhW\\\",\\\"imageUrl\\\":\\\"https://t1.daumcdn.net/daumtop_chanel/tromm/20220616022857448\\\"},{\\\"id\\\":\\\"story-64498004_108483984484892612\\\",\\\"title\\\":\\\"인형 같은 강아지\\\",\\\"url\\\":\\\"https://story.kakao.com/ch/smzzal/6Ihq9rgav19\\\",\\\"imageUrl\\\":\\\"https://t1.daumcdn.net/daumtop_chanel/tromm/20220616100026048\\\"},{\\\"id\\\":\\\"cafe-ok1221/9Zdf/2678340\\\",\\\"title\\\":\\\"할배 보폭맞춰주는 댕댕이.gif\\\",\\\"url\\\":\\\"https://cafe.daum.net/ok1221/9Zdf/2678340?svc=daumapp\\\",\\\"imageUrl\\\":\\\"https://t1.daumcdn.net/daumtop_chanel/tromm/20220616020021039\\\"},{\\\"id\\\":\\\"cafe-dotax/Elgq/3960844\\\",\\\"title\\\":\\\"목줄을 놓았을 때 댕댕이의 반응\\\",\\\"url\\\":\\\"https://cafe.daum.net/dotax/Elgq/3960844?svc=daumapp\\\",\\\"imageUrl\\\":\\\"https://t1.daumcdn.net/daumtop_chanel/tromm/20220617021330732\\\"},{\\\"id\\\":\\\"cafe-dotax/Elgq/3960503\\\",\\\"title\\\":\\\"대형견들의 아기때 모습\\\",\\\"url\\\":\\\"https://cafe.daum.net/dotax/Elgq/3960503?svc=daumapp\\\",\\\"imageUrl\\\":\\\"https://t1.daumcdn.net/daumtop_chanel/tromm/20220616102746243\\\"},{\\\"id\\\":\\\"cafe-ok1221/9Zdf/2678658\\\",\\\"title\\\":\\\"아기 고양이의 흡입력\\\",\\\"url\\\":\\\"https://cafe.daum.net/ok1221/9Zdf/2678658?svc=daumapp\\\",\\\"imageUrl\\\":\\\"https://t1.daumcdn.net/daumtop_chanel/tromm/20220617020551963\\\"},{\\\"id\\\":\\\"cafe-ssaumjil/LnOm/2830554\\\",\\\"title\\\":\\\"아기진돗개 등장에 질투하는 강쥐\\\",\\\"url\\\":\\\"https://cafe.daum.net/ssaumjil/LnOm/2830554?svc=daumapp\\\",\\\"imageUrl\\\":\\\"https://t1.daumcdn.net/daumtop_chanel/tromm/20220616113558294\\\"},{\\\"id\\\":\\\"cafe-nasamo-cafe/JruA/7488\\\",\\\"title\\\":\\\"언니 앞머리 다시 잘라줘\\\",\\\"url\\\":\\\"https://cafe.daum.net/nasamo-cafe/JruA/7488?svc=daumapp\\\",\\\"imageUrl\\\":\\\"https://t1.daumcdn.net/daumtop_chanel/tromm/20220617013857881\\\"},{\\\"id\\\":\\\"cafe-cs11sz/LG19/430071\\\",\\\"title\\\":\\\"[스크랩] 주사맞는 치와와.gif\\\",\\\"url\\\":\\\"https://cafe.daum.net/cs11sz/LG19/430071?svc=daumapp\\\",\\\"imageUrl\\\":\\\"https://t1.daumcdn.net/daumtop_chanel/tromm/20220617020249887\\\"}]\"},\"teslas\":{},\"cabinets\":null,\"board\":false},{\"code\":2391,\"type\":\"PC_CHANNEL_WOMEN\",\"items\":{\"op\":{\"title\":\"스타일\",\"url\":null}},\"feeds\":{\"pc_channel_women\":\"[{\\\"id\\\":\\\"hamny-EKpPcpBB9h\\\",\\\"title\\\":\\\"'갓세븐' 유겸, 시크한 남친룩 스타일\\\",\\\"url\\\":\\\"https://content.v.daum.net/v/EKpPcpBB9h\\\",\\\"imageUrl\\\":\\\"https://t1.daumcdn.net/news/202206/22/styleade/20220622051033483avbm.jpeg\\\",\\\"source\\\":\\\"디스패치 스타일\\\",\\\"desc\\\":\\\"'갓세븐' 유겸의 패션이 화제입니다. 지난 17일 자신의 인스타그램에 일상을 공유했는데요. 유겸은 블랙 티셔츠와 가디건을 매치했습니다. 유겸이 착용한 제품은 '올라운더'의 티셔츠입니다. 왼쪽 가슴에 브랜드 로고와 백호가 그려져있는데요. 남녀공용으로 누구나 편안하게 착용 가능한 제품입니다. *디스트리뷰트에서만 현재 10% 할인, 10% 추가 쿠폰, 2% 마일\\\",\\\"icon\\\":\\\"IMAGE\\\"},{\\\"id\\\":\\\"hamny-ECU3yXRaAX\\\",\\\"title\\\":\\\"레드벨벳 조이, 즐거운 출근길! 청치마로 뽐낸 핫섬머룩\\\",\\\"url\\\":\\\"https://content.v.daum.net/v/ECU3yXRaAX\\\",\\\"imageUrl\\\":\\\"https://t1.daumcdn.net/news/202206/22/fashionn/20220622063631509qjxm.jpeg\\\",\\\"source\\\":\\\"패션엔\\\",\\\"desc\\\":\\\"그룹 레드벨벳(Red Velvet) 조이(JOY)가 27일 오후 서울 목동SBS에서 열린 ‘동물농장' 녹화 출근길에 데님 미니 스커트로 눈부신 각선미를 뽐냈다. 조이는 이날 데님 미니 스커트와 집업 크롭트 재킷을 매치한  상큼한 출근룩으로 스포트라이트를 받았다. 비율 좋은 몸매와 매끈한 각선미가 눈길을 끈다. 조이가 속한 레드벨벳은 지난 3월 새 미니앨\\\",\\\"icon\\\":\\\"IMAGE\\\"},{\\\"id\\\":\\\"hamny-ElwYuwZYjC\\\",\\\"title\\\":\\\"AOA 설현, 가을엔 요크 백 플랩 트렌치 코트룩 '봐도봐도 러블리'\\\",\\\"url\\\":\\\"https://content.v.daum.net/v/ElwYuwZYjC\\\",\\\"imageUrl\\\":\\\"https://t1.daumcdn.net/news/202206/22/fashionn/20220622054848594lcup.jpeg\\\",\\\"source\\\":\\\"패션엔\\\",\\\"desc\\\":\\\"AOA의 설현이 계절 앞서가는 트렌치 코트룩으로 패셔니스타의 위엄을 뽐냈다. 설현은 22일 자신의 인스타그램에 패션매거진 더블유 코리아와 함께한 비하인드 화보컷 여러장을 게시했다. 공개된 화보 속 설현은 로맨틱한 아일렛 블라우스와 원피스, 요크 백 플랩(Yoke Back Flap) 디자인과 소매 라인의 펀칭 디테일이 돋보이는 컨템포러리 트렌치 코트로 눈\\\",\\\"icon\\\":\\\"IMAGE\\\"},{\\\"id\\\":\\\"hamny-EUxj4WD8sW\\\",\\\"title\\\":\\\"손나은, 명품 각선미 美쳤다..입는옷 마다 바비 인형 '그저 감탄만'\\\",\\\"url\\\":\\\"https://content.v.daum.net/v/EUxj4WD8sW\\\",\\\"imageUrl\\\":\\\"https://t1.daumcdn.net/news/202206/22/fashionn/20220622050024096bom1.jpeg\\\",\\\"source\\\":\\\"패션엔\\\",\\\"desc\\\":\\\"에이핑크 출신의 배우 손나은이 명품 각선미를 뽐냈다. 손나은은 20일 자신의 인스타그램을 통해 공식 앰버서더로 활동하고 있는 브랜드와 함께한 패션매거진 코스모폴리탄 화보를 여러장 게제했다. 공개된 사진 속 손나은은 회오리 문양의 오프숄더 원피스룩부터 블랙 홀터넥 나시와 핑크 미니 스커트로 연출한 투피스룩, 초밀착 원숄더 블랙 미니 원피스, 비즈 장식의\\\",\\\"icon\\\":\\\"IMAGE\\\"},{\\\"id\\\":\\\"hamny-EZyEdQ4MKM\\\",\\\"title\\\":\\\"'에이티즈' 산, 세련된 남자는 안경을 쓴다\\\",\\\"url\\\":\\\"https://content.v.daum.net/v/EZyEdQ4MKM\\\",\\\"imageUrl\\\":\\\"https://t1.daumcdn.net/news/202206/22/styleade/20220622050711353iqqx.jpeg\\\",\\\"source\\\":\\\"디스패치 스타일\\\",\\\"desc\\\":\\\"'에이티즈' 산의 패션이 화제입니다. 지난 14일 에이티즈 공식트위터에 올라온 사진인데요. 산은 블랙 티셔츠에 안경을 착용했습니다. 산이 착용한 제품은 '세미콜론'의 안경입니다. 해외 고가 브랜드에서 주로 사용되는 adjoined dot 디자인의 리벳을 활용하여, 심미적인 요소를 부각시켰습니다. 엔드피스 마감을 안정적인 둥근 곡선으로 디자인하여, 시각적인\\\",\\\"icon\\\":\\\"IMAGE\\\"},{\\\"id\\\":\\\"tstory-535087_272\\\",\\\"title\\\":\\\"이건 데자뷰?? Teddy Santis의 뉴발란스 M990TD2 개봉기, 사이즈 추천\\\",\\\"url\\\":\\\"https://dmwriter.tistory.com/272\\\",\\\"imageUrl\\\":\\\"https://t1.daumcdn.net/section/oc/db143c40b6d94857a5c825aee422c84a\\\",\\\"source\\\":\\\"티스토리 · Mist\\\",\\\"desc\\\":\\\"코로나 시기를 겪으며 스니커신에 가장 많은 변화는 리셀가의 폭발적인 상승과, 브랜드간 활발한 콜라보를 꼽을 수 있을 것 같습니다. 스니커 브랜드들은 아이덴티티와 디자인의 외연확장을 위해 다른 패션 브랜드와의 협업에 기꺼이 손을 내밀었습니다. 나이키는 아 마 마니에르, 오프 화이트, 트래비스 스캇과의 콜라보가 폭발적인 인기를 끌었었고 [##_ImageGrid\\\",\\\"icon\\\":\\\"IMAGE\\\"},{\\\"id\\\":\\\"hamny-EprMxVxVrS\\\",\\\"title\\\":\\\"경리, 몸매가 예쁘니 팬츠도 예쁘네! 꾸안꾸 아침 출근룩\\\",\\\"url\\\":\\\"https://content.v.daum.net/v/EprMxVxVrS\\\",\\\"imageUrl\\\":\\\"https://t1.daumcdn.net/daumtop_chanel/tromm/20220622011443795\\\",\\\"source\\\":\\\"패션엔\\\",\\\"desc\\\":\\\"그룹 나인뮤지스 출신 경리가 꾸안꾸 출근룩으로 예쁜 몸매를 자랑했다. 경리는 22일 자신의 인스타그램에 “굿모닝, 출근 뷰 이뿌지!”라는 글과 함께 촬영장을 배경으로 한 듯한 사진과 동영상을 게재했다. 공개한 사진과 영상에서 경리는 편안한 반팔 티셔츠에 청색 원턱 와이드 팬츠를 입은 꾸안꾸 출근룩을 선보였다. 특히 경리는 또렷한 이목구비와 남다른 비율을\\\",\\\"icon\\\":\\\"IMAGE\\\"},{\\\"id\\\":\\\"hamny-EAiW6uvDvR\\\",\\\"title\\\":\\\"사복 장인 기은세 화보로 보는 올여름 패션 ♥\\\",\\\"url\\\":\\\"https://content.v.daum.net/v/EAiW6uvDvR\\\",\\\"imageUrl\\\":\\\"https://t1.daumcdn.net/news/202206/21/tag/20220621062442501fstu.jpeg\\\",\\\"source\\\":\\\"트렌드를알려주는여자\\\",\\\"desc\\\":\\\"안녕하세요 여러분 트알녀입니다! 오늘은 방송 활동부터 인스타그램까지 다방면으로 활약 중인 기은세의 화보 소식을 전하려고 하는데요~ 인스타그램을 통해 다양한 사복 패션을 선보여 많은 여성분들의 워너비 스타가 된 사복 장인 기은세의 화보 함께 구경해 보실까요 ~? 기은세 공항패션 지난달 화보 촬영을 위해 나선 기은세의 공항 패션이 화제가 되었는데요 ~\\\",\\\"icon\\\":\\\"IMAGE\\\"}]\",\"women_best_new_tiara\":\"[{\\\"id\\\":\\\"hamny-EH0XeMLwQr\\\",\\\"title\\\":\\\"40세 기념으로 \\\\\\\"80kg→52kg\\\\\\\" 만든 연예인,썸머 감량법 전격 공개 \\\",\\\"url\\\":\\\"https://content.v.daum.net/v/EH0XeMLwQr\\\",\\\"imageUrl\\\":\\\"https://t1.daumcdn.net/daumtop_chanel/tromm/20220617051400055\\\"},{\\\"id\\\":\\\"hamny-EvDpWhNEk3\\\",\\\"title\\\":\\\"\\\\\\\"한달30kg감량\\\\\\\"75→46kg완전 딴사람된 배우의 다이어트법\\\",\\\"url\\\":\\\"https://content.v.daum.net/v/EvDpWhNEk3\\\",\\\"imageUrl\\\":\\\"https://t1.daumcdn.net/news/202206/17/forsnap/20220617093517464eas2.jpeg\\\"},{\\\"id\\\":\\\"hamny-ELfnfsQPLW\\\",\\\"title\\\":\\\"'브레이브걸스' 유정, 날씬한 몸 자랑하는 미니 티셔츠\\\",\\\"url\\\":\\\"https://content.v.daum.net/v/ELfnfsQPLW\\\",\\\"imageUrl\\\":\\\"https://t1.daumcdn.net/news/202206/19/styleade/20220619063200991kyci.jpeg\\\"},{\\\"id\\\":\\\"hamny-EPary83YBX\\\",\\\"title\\\":\\\"황신혜, 60대도 입는 크롭트! 나이를 잊은 과감한 패셔니스타\\\",\\\"url\\\":\\\"https://content.v.daum.net/v/EPary83YBX\\\",\\\"imageUrl\\\":\\\"https://t1.daumcdn.net/news/202206/19/fashionn/20220619073514696stxk.jpeg\\\"},{\\\"id\\\":\\\"hamny-EYAitFycLt\\\",\\\"title\\\":\\\"'5Kg 감량' 박경림, 얼굴에서 드러난 자신감! 오렌지 벨티드 슈트룩\\\",\\\"url\\\":\\\"https://content.v.daum.net/v/EYAitFycLt\\\",\\\"imageUrl\\\":\\\"https://t1.daumcdn.net/news/202206/17/fashionn/20220617235242441gtqy.jpeg\\\"},{\\\"id\\\":\\\"story-65657806_108463915960400692\\\",\\\"title\\\":\\\"나이 상관없이 잘 어울리는 단발머리\\\",\\\"url\\\":\\\"https://story.kakao.com/ch/greed/5K88a35Ks19\\\",\\\"imageUrl\\\":\\\"https://t1.daumcdn.net/daumtop_chanel/tromm/20220613081217719\\\"},{\\\"id\\\":\\\"hamny-EPqBoTSRMU\\\",\\\"title\\\":\\\"반전 외모의 격투기 챔피언이 추천하는 다이어트 운동\\\",\\\"url\\\":\\\"https://content.v.daum.net/v/EPqBoTSRMU\\\",\\\"imageUrl\\\":\\\"https://t1.daumcdn.net/news/202206/17/MAXQ/20220617045212413ahhf.jpeg\\\"},{\\\"id\\\":\\\"hamny-E9NcI21GOo\\\",\\\"title\\\":\\\"다음주에 입기 좋은 '민트색' 코디.jpg\\\",\\\"url\\\":\\\"https://content.v.daum.net/v/E9NcI21GOo\\\",\\\"imageUrl\\\":\\\"https://t1.daumcdn.net/daumtop_chanel/tromm/20220620094209257\\\"}]\"},\"teslas\":{},\"cabinets\":null,\"board\":false},{\"code\":2392,\"type\":\"PC_CHANNEL_MEN\",\"items\":{\"op\":{\"title\":\"M+\",\"url\":null}},\"feeds\":{\"pc_channel_men\":\"[{\\\"id\\\":\\\"hamny-20220622153401393\\\",\\\"title\\\":\\\"네카쿠배당 대표 만난 이종호 장관 \\\\\\\"규제 혁신적으로 바꿔야\\\\\\\"\\\",\\\"url\\\":\\\"https://v.daum.net/v/20220622153401393\\\",\\\"imageUrl\\\":\\\"https://t1.daumcdn.net/news/202206/22/ked/20220622153404349hhqa.jpg\\\",\\\"source\\\":\\\"한국경제\\\",\\\"desc\\\":\\\"정부가 데이터와 인공지능(AI) 알고리즘 등 관련 플랫폼 사업 가이드라인을 마련하기 위해 민·관 합동 태스크포스(TF)를 구성한다. 정부가 주도해 규제를 만드는 대신 사업자들의 목소리를 대폭 반영하고 자율 관리에 방점을 두겠다는 취지다.   '네카쿠배당' 대표들 만난 과기정통부 장관 22일 이종호 과학기술정보통신부 장관은 서울 대한상공회의소에서 디지털 플\\\",\\\"icon\\\":\\\"TEXT\\\"},{\\\"id\\\":\\\"hamny-20220622153427414\\\",\\\"title\\\":\\\"300개 기업 기술 결집..'뉴 스페이스 시대' 진입\\\",\\\"url\\\":\\\"https://v.daum.net/v/20220622153427414\\\",\\\"imageUrl\\\":\\\"https://t1.daumcdn.net/news/202206/22/YTN/20220622153428811tlfr.jpg\\\",\\\"source\\\":\\\"YTN\\\",\\\"desc\\\":\\\"[앵커] 누리호 2차 발사 성공에는 우리나라 300개 기업의 다양한 기술력이 총결집돼 큰 힘을 발휘했습니다. 국가가 아닌 민간 기업이 우주 개발을 주도하는 뉴 스페이스 시대에, 우리도 한층 경쟁력을 갖추게 됐습니다. 김혜은 기자가 보도합니다. [기자] 누리호에 들어간 부품은 무려 37만여 개. 우리나라 기업 300여 곳, 연구진 천여 명이 힘을\\\",\\\"icon\\\":\\\"VIDEO\\\"},{\\\"id\\\":\\\"hamny-20220622152614931\\\",\\\"title\\\":\\\"2차 도전 누리호 발사 성공.. \\\\\\\"한국, 우주강국 발판 마련\\\\\\\"[이광식의 천문학+]\\\",\\\"url\\\":\\\"https://v.daum.net/v/20220622152614931\\\",\\\"imageUrl\\\":\\\"https://t1.daumcdn.net/news/202206/22/seoul/20220622152616177utzq.jpg\\\",\\\"source\\\":\\\"서울신문\\\",\\\"desc\\\":\\\"[서울신문 나우뉴스]국산 우주 발사체 누리호가 두 번의 도전 끝에 21일 발사에 성공함으로써 '우주강국' 도약을 위한 발판을 마련했다.  설계부터 제작, 시험, 인증과 발사까지 전 과정을 국내 독자 기술로 만든 한국형 발사체(KSLV-2) 누리호는 성공적으로 발사된 지 15분 45초 만에 700km 궤도에 위성 모사체(모형 위성)를 목표 궤도에 올려놓는 데\\\",\\\"icon\\\":\\\"TEXT\\\"},{\\\"id\\\":\\\"hamny-20220622151834572\\\",\\\"title\\\":\\\"누리호 성공 숨은 민간 주역들..'맨땅에 헤딩' 무에서 유 창조\\\",\\\"url\\\":\\\"https://v.daum.net/v/20220622151834572\\\",\\\"imageUrl\\\":\\\"https://t1.daumcdn.net/news/202206/22/NEWS1/20220622151834703zhjw.jpg\\\",\\\"source\\\":\\\"뉴스1\\\",\\\"desc\\\":\\\"(서울=뉴스1) 구교운 기자,이장호 기자,김민성 기자 = \\\\\\\"누구도 알려주지 않는 기술을 현장에서 부딪히며 습득해야 했기 때문에 모든 과정이 힘들었습니다.\\\\\\\" 22일 '누리호의 심장'으로 불리는 엔진 제작을 맡은 한화에어로스페이스(이하 한화에어로)의 김종한 추진기관생산기술팀 차장은 제작과정을 이렇게 돌아봤다. 우리나라가 세계에서 7번째로 1500kg급 실용\\\",\\\"icon\\\":\\\"TEXT\\\"},{\\\"id\\\":\\\"hamny-20220622142608102\\\",\\\"title\\\":\\\"일론 머스크의 스타링크 \\\\\\\"2023년 한국진출\\\\\\\"\\\",\\\"url\\\":\\\"https://v.daum.net/v/20220622142608102\\\",\\\"imageUrl\\\":\\\"https://t1.daumcdn.net/news/202206/22/etimesi/20220622151406157srxr.jpg\\\",\\\"source\\\":\\\"전자신문\\\",\\\"desc\\\":\\\"세계 최대 위성통신서비스 스타링크가 2023년 한국 시장에 진입한다. 스타링크는 일론 머스크 테슬라 최고경영자(CEO)가 창업한 우주기업 스페이스X가 제공하는 위성통신 서비스다. 누리호 발사 성공으로 우주 패권경쟁에 관심이 고조된 반면에 국민 생활과 밀접한 첫 위성통신 시장을 외국기업이 선점할 공산이 높아졌다. 스타링크는 홈페이지에 한국을 '커밍 순'(Co\\\",\\\"icon\\\":\\\"TEXT\\\"},{\\\"id\\\":\\\"hamny-20220622140418294\\\",\\\"title\\\":\\\"스마트폰 값 입금했더니 '할인코드' 오류?..'사기 사이트 ' 주의보\\\",\\\"url\\\":\\\"https://v.daum.net/v/20220622140418294\\\",\\\"imageUrl\\\":\\\"https://t1.daumcdn.net/news/202206/22/khan/20220622140420149qxze.png\\\",\\\"source\\\":\\\"경향신문\\\",\\\"desc\\\":\\\"최신 스마트폰을 싸게 판다는 소셜미디어 광고를 본 A씨는 제품 구매를 위해 판매자에게 184만8000원을 입금했다. 하지만 상품은 오지 않았고, 판매자는 할인코드가 제대로 입력되지 않아 오류가 났다며 다시 입금하라고 요구했다. 이에 A씨가 입금 내역이 찍힌 자료를 보내자 연락이 끊겼다. 경찰에 신고했지만 판매 사이트 서버가 해외에 있어 추적은 쉽지 않은 상\\\",\\\"icon\\\":\\\"TEXT\\\"},{\\\"id\\\":\\\"hamny-20220622150612026\\\",\\\"title\\\":\\\"\\\\\\\"시리야\\\\\\\" 소리 지르지 않아도 오케이..음성인식 전자피부 개발\\\",\\\"url\\\":\\\"https://v.daum.net/v/20220622150612026\\\",\\\"imageUrl\\\":\\\"https://t1.daumcdn.net/news/202206/22/seoul/20220622150613857wepl.jpg\\\",\\\"source\\\":\\\"서울신문\\\",\\\"desc\\\":\\\"구글이나 애플 같은 IT 기업들은 스마트폰, 인공지능 스피커 등에 음성으로 음악 재생, 메시지 발송, 내비게이션 조작 명령을 내릴 수 있는 스마트 비서기능을 탑재하고 있다. 문제는 기기를 입 가까이 대고 명령하지 않으면 인식을 잘못하거나 작동을 하지 않는 경우가 많다. 국내 연구진이 반창고처럼 인체 어디나 붙인 다음 스마트 기기와 연결해 명령을 내릴 수 있\\\",\\\"icon\\\":\\\"TEXT\\\"},{\\\"id\\\":\\\"hamny-EErnT8F9CL\\\",\\\"title\\\":\\\"블루투스가 된다면 당신은 언제든 위치 추적을 당할 수 있다\\\",\\\"url\\\":\\\"https://content.v.daum.net/v/EErnT8F9CL\\\",\\\"imageUrl\\\":\\\"https://t1.daumcdn.net/news/202206/15/techplus/202206150620192368qnc.jpeg\\\",\\\"source\\\":\\\"테크플러스\\\",\\\"desc\\\":\\\"블루투스로 사생활을 침해할 수 있는 새로운 방법이 제기됐다. 10일(현지 시간) IT 전문 매체 기즈모도(Gizmodo)에 따르면 5월 24일 미국 샌디에이고 캘리포니아 대학(UCSD) 연구진은 전자 기기에 내장된 블루투스 칩을 이용해 위치 추적이 가능하다는 연구를 발표했다. 스마트 워치, 스마트폰 등 블루투스 기기는 블루투스 비콘이라는 신호를 방출한다.\\\",\\\"icon\\\":\\\"IMAGE\\\"}]\",\"men_best_new_tiara\":\"[{\\\"id\\\":\\\"hamny-20220619084600001\\\",\\\"title\\\":\\\"신형 팰리세이드, 이렇게 좋으면 전 모델 산사람은 어떡해요[차알못시승기]\\\",\\\"url\\\":\\\"https://v.daum.net/v/20220619084600001\\\",\\\"imageUrl\\\":\\\"https://t1.daumcdn.net/news/202206/19/moneytoday/20220619084602258cgyi.jpg\\\"},{\\\"id\\\":\\\"hamny-EBNF6cUZYm\\\",\\\"title\\\":\\\"현대 '갤로퍼' EV로 부활한다면 이런 모습\\\",\\\"url\\\":\\\"https://auto.v.daum.net/v/EBNF6cUZYm\\\",\\\"imageUrl\\\":\\\"https://t1.daumcdn.net/news/202206/19/thedrive/2022061902541247875nc.jpeg\\\"},{\\\"id\\\":\\\"hamny-EGlbBIevpi\\\",\\\"title\\\":\\\"현대차, 스타리아와 전혀 다른 '스타게이저' 티저 공개..간결하고 미래 지향적\\\",\\\"url\\\":\\\"https://auto.v.daum.net/v/EGlbBIevpi\\\",\\\"imageUrl\\\":\\\"https://t1.daumcdn.net/news/202206/18/autoherald/20220618060949202fhqx.png\\\"},{\\\"id\\\":\\\"hamny-20220617201500928\\\",\\\"title\\\":\\\"'대박 예감' 정통 코란도도 '재탄생'..'벼랑탈출' 쌍용차, 흥행 3연타 노려[왜몰랐을카]\\\",\\\"url\\\":\\\"https://v.daum.net/v/20220617201500928\\\",\\\"imageUrl\\\":\\\"https://t1.daumcdn.net/news/202206/17/mk/20220617230905584ekth.jpg\\\"},{\\\"id\\\":\\\"brch-cwOA-1252\\\",\\\"title\\\":\\\"비만 오면 도로 차선 안보이던 이유가 있었습니다\\\",\\\"url\\\":\\\"https://brunch.co.kr/@@cwOA/1252\\\",\\\"imageUrl\\\":\\\"https://t1.daumcdn.net/section/oc/ae165619f8c54193a542c606eebb31c0\\\"},{\\\"id\\\":\\\"hamny-20220618185400271\\\",\\\"title\\\":\\\"'또또또' 테슬라 값질, 모델3 '9000만원' 돌파..벤츠E보다 비싸져 [왜몰랐을카]\\\",\\\"url\\\":\\\"https://v.daum.net/v/20220618185400271\\\",\\\"imageUrl\\\":\\\"https://t1.daumcdn.net/news/202206/18/mk/20220618185402615qpcw.jpg\\\"},{\\\"id\\\":\\\"hamny-20220619134940898\\\",\\\"title\\\":\\\"일론 머스크, 트위터서 \\\\\\\"현대차 '전기차' 잘하네\\\\\\\" 언급\\\",\\\"url\\\":\\\"https://v.daum.net/v/20220619134940898\\\",\\\"imageUrl\\\":\\\"https://t1.daumcdn.net/news/202206/19/Edaily/20220619134944960lccr.jpg\\\"},{\\\"id\\\":\\\"hamny-20220618160101330\\\",\\\"title\\\":\\\"\\\\\\\"차 방전됐나\\\\\\\" 싶을 때..하이브리드카에만 '이 버튼' 있다 [차모저모]\\\",\\\"url\\\":\\\"https://v.daum.net/v/20220618160101330\\\",\\\"imageUrl\\\":\\\"https://t1.daumcdn.net/news/202206/18/ked/20220618191606741isnp.jpg\\\"},{\\\"id\\\":\\\"hamny-20220618125843844\\\",\\\"title\\\":\\\"[단독] \\\\\\\"살 땐 서비스, 이제와 불법이라고?\\\\\\\" 포르쉐 차주들 \\\\\\\"결함 수리 1000만원 날릴 판\\\\\\\"\\\",\\\"url\\\":\\\"https://v.daum.net/v/20220618125843844\\\",\\\"imageUrl\\\":\\\"https://t1.daumcdn.net/news/202206/18/segye/20220618125843366fkxg.jpg\\\"},{\\\"id\\\":\\\"hamny-20220618112901188\\\",\\\"title\\\":\\\"\\\\\\\"토레스가 길 보여줄까\\\\\\\" 쌍용차 바라보는 르노와 한국GM\\\",\\\"url\\\":\\\"https://v.daum.net/v/20220618112901188\\\",\\\"imageUrl\\\":\\\"https://t1.daumcdn.net/news/202206/18/moneytoday/20220618112902898mner.jpg\\\"}]\"},\"teslas\":{},\"cabinets\":null,\"board\":false},{\"code\":2393,\"type\":\"PC_CHANNEL_TRAVEL\",\"items\":{\"op\":{\"title\":\"여행맛집\",\"url\":null}},\"feeds\":{\"pc_channel_travel\":\"[{\\\"id\\\":\\\"brch-boc1-47\\\",\\\"title\\\":\\\"네덜란드 벨기에 열차 예약 및 암스테르담 시티카드 소개\\\",\\\"url\\\":\\\"https://brunch.co.kr/@@boc1/47\\\",\\\"imageUrl\\\":\\\"https://t1.daumcdn.net/section/oc/88199b784d3a4cc69f196fed425a41a4\\\",\\\"source\\\":\\\"브런치 by 화이\\\",\\\"desc\\\":\\\"네덜란드의 암스테르담(Amsterdam), 헤이그(덴 하그, The Hague, Den Haag), 로테르담(Rotterdam)과 벨기에의 안트베르펜(앤트워프, Antwerp), 브뤼헤(브뤼허, Bruges), 브뤼셀(Brussels)까지 10일간 6개 도시를 기차로 이동했다.  하루에 한 번꼴로 기차를 이용했는데, 네덜란드와 벨기에 열차 모두 이용이 편리\\\",\\\"icon\\\":\\\"IMAGE\\\"},{\\\"id\\\":\\\"tstory-2864167_345\\\",\\\"title\\\":\\\"솜분씨푸드 - 푸팟퐁커리 맛집[태국 방콕 여행]\\\",\\\"url\\\":\\\"https://wooleelife.tistory.com/345\\\",\\\"imageUrl\\\":\\\"https://t1.daumcdn.net/section/oc/80405e96a0ca4acda7266791113b7a7b\\\",\\\"source\\\":\\\"티스토리 · 우리라이프\\\",\\\"desc\\\":\\\"태국 방콕에 여행 간 한국사람들이 하루에 한번씩 간다는 푸팟퐁커리 맛집이 있습니다. 여행중 5번 정도는 들리게 된다는 시암스퀘어의 스퀘어원 4층에 가면 솜분씨푸드라는 집이 있는데, 여기가 한국인들 사이에서 유명한 푸팟퐁커리 맛집입니다. 이 건물에는 '홍대' 등 한국식당 임을 내건 음식점들이 많은데, 한국의 인기가 엄청나게 올라간걸 느꼈다. 아.. 근데 그거\\\",\\\"icon\\\":\\\"IMAGE\\\"},{\\\"id\\\":\\\"hamny-EmrBYIdNy7\\\",\\\"title\\\":\\\"이번 여름, 비치 하우스와 어울리는 요리와 오브제 추천\\\",\\\"url\\\":\\\"https://content.v.daum.net/v/EmrBYIdNy7\\\",\\\"imageUrl\\\":\\\"https://t1.daumcdn.net/news/202206/22/noblesse/20220622063923220tkf9.jpeg\\\",\\\"source\\\":\\\"노블레스\\\",\\\"desc\\\":\\\"Greek Salad and Pita Bread with Hummus 그릭 샐러드와 후무스를 곁들인 피타 브레드 여름과 잘 어울리는 그릭 샐러드. 여름 채소인 토마토와 신선한 올리브, 짭조름한 풍미를 더하는 페타 치즈는 그릭 샐러드에서 빠질 수 없는 재료다. 여기에 포도와 아보카도, 부라타 치즈를 더해 풍성함을 살렸다. 함께 낸 중동식 빵인 둥글 넙적한\\\",\\\"icon\\\":\\\"IMAGE\\\"},{\\\"id\\\":\\\"hamny-EfyUC6iJDg\\\",\\\"title\\\":\\\"알아두면 무조건 도움되는 전국 휴게소 맛집 메뉴판\\\",\\\"url\\\":\\\"https://content.v.daum.net/v/EfyUC6iJDg\\\",\\\"imageUrl\\\":\\\"https://t1.daumcdn.net/news/202206/22/onehomelife/20220622023200103wwhv.png\\\",\\\"source\\\":\\\"자취생으로 살아남기\\\",\\\"desc\\\":\\\"\\\",\\\"icon\\\":\\\"IMAGE\\\"},{\\\"id\\\":\\\"brch-dPZ9-23\\\",\\\"title\\\":\\\"승마의 기본기술, 말과의 밀당\\\",\\\"url\\\":\\\"https://brunch.co.kr/@@dPZ9/23\\\",\\\"imageUrl\\\":\\\"https://t1.daumcdn.net/section/oc/dfe8c7d8760f477ebb7832b571e28726\\\",\\\"source\\\":\\\"브런치 by Jina\\\",\\\"desc\\\":\\\"그렇게 파리에서의 세 번째 외승이 급 성사됐다. 충동구매를 해도 이런 충동구매를 다 하다니. 언제부턴가 망설여질 때는 일단 go하자는 주의가 됐지만, 2시간 가량 기승에 30만원이 훌쩍 넘는 돈을 쓴다는 것은 지름신의 은총이 좀 많이 필요한 일이었다. 그것도 이미 하루 말 타는 데만 60만원 이상을 쓴 상태에서. 결제를 마치고 난 후 나는 호텔방 침대에 누\\\",\\\"icon\\\":\\\"IMAGE\\\"},{\\\"id\\\":\\\"brch-73Y6-176\\\",\\\"title\\\":\\\"인생 최악의 패키지여행, 샌프란시스코\\\",\\\"url\\\":\\\"https://brunch.co.kr/@@73Y6/176\\\",\\\"imageUrl\\\":\\\"https://t1.daumcdn.net/section/oc/31e7a6574b7d4710a19d47011a9f93a2\\\",\\\"source\\\":\\\"브런치 by 방구석여행자\\\",\\\"desc\\\":\\\"나는 여행을 좋아하는 사람이다. 여행의 종류에는 크게 자유 여행과 패키지여행이 있는데 처음에는 어떤 여행이든 상관없었다. 그저 내가 새로운 곳에 간다는 것만 해도 만족했었으니까. 그런데, 미국 샌프란시스코 패키지여행을 다녀온 후로 패키지여행이 싫어졌다. 이 여행 이후로 패키지여행은 다시는 하고 싶지 않아 가족들에게도 이제부터 나는 패키지여행은 절대 안 갈 \\\",\\\"icon\\\":\\\"IMAGE\\\"},{\\\"id\\\":\\\"tstory-1954431_460\\\",\\\"title\\\":\\\"부산 동대신동 : 시원하고 맛있는 밀면 맛집, 영남냉면밀면\\\",\\\"url\\\":\\\"https://soraing.tistory.com/460\\\",\\\"imageUrl\\\":\\\"https://t1.daumcdn.net/section/oc/00ad1f1ef79e4630b63be2323bb5110c\\\",\\\"source\\\":\\\"티스토리 · 탐험하라 꿈꾸라 발견하라\\\",\\\"desc\\\":\\\"점심은 또 무얼 먹을까 고민하다가 시원한 밀면이 먹고 싶었다. 점심을 같이할 동행분께 말씀드렸더니 거리는 좀 있지만, 밀면 맛집이 있다며 데려가 주셨다. 학창 시절 내내 대신동 근처에 살았는데, 영남 밀면은 처음 들었다. 식당의 위치도 내가 잘 다니지 않던 길이기도 했다. 영남냉면밀면 위치와 주차장 정보 영남냉면밀면은 벚꽃 명소로 유명한 대신동 삼익아파트 \\\",\\\"icon\\\":\\\"IMAGE\\\"},{\\\"id\\\":\\\"tstory-3796749_248\\\",\\\"title\\\":\\\"건대입구역 해룡마라룽샤 가재꼬리 마파두부 볶음밥 가격 주말 방문 후기\\\",\\\"url\\\":\\\"https://likeapricot.tistory.com/248\\\",\\\"imageUrl\\\":\\\"https://t1.daumcdn.net/section/oc/bcd1b73a28f94bdca3bcf3abcb48078c\\\",\\\"source\\\":\\\"티스토리 · 살구로그\\\",\\\"desc\\\":\\\"해룡마라룽샤 [##_Image|kage@ciCqZJ/btrFooHTaJt/wF1EuGCF2MMzULGfohG6Fk/img.jpg|CDM|1.3|{\\\\\\\"originWidth\\\\\\\":3024,\\\\\\\"originHeight\\\\\\\":4032,\\\\\\\"style\\\\\\\":\\\\\\\"alignCenter\\\\\\\",\\\\\\\"filename\\\\\\\":\\\\\\\"KakaoTalk_20220621_225532204_02.jpg\\\\\\\"}_##] 진짜 오\\\",\\\"icon\\\":\\\"IMAGE\\\"}]\",\"travel_best_new_tiara\":\"[{\\\"id\\\":\\\"hamny-20220619070341168\\\",\\\"title\\\":\\\"\\\\\\\"바다 전망 객실이 100만원\\\\\\\"..부산 특급호텔 숙박비 천정부지\\\",\\\"url\\\":\\\"https://v.daum.net/v/20220619070341168\\\",\\\"imageUrl\\\":\\\"https://t1.daumcdn.net/news/202206/19/yonhap/20220619070341503ljid.jpg\\\"},{\\\"id\\\":\\\"hamny-20220618030407297\\\",\\\"title\\\":\\\"\\\\\\\"경복궁이 '힙'해서\\\\\\\".. 방탄소년단 RM도 실패했다는 '궁케팅'을 아시나요?\\\",\\\"url\\\":\\\"https://v.daum.net/v/20220618030407297\\\",\\\"imageUrl\\\":\\\"https://t1.daumcdn.net/news/202206/18/chosun/20220618124755961ndie.jpg\\\"},{\\\"id\\\":\\\"tstory-2353014_1296\\\",\\\"title\\\":\\\"갈치조림 하나만 주문해도 9가지 찬에 생선구이가 깔리는 집\\\",\\\"url\\\":\\\"https://dyourself.tistory.com/1296\\\",\\\"imageUrl\\\":\\\"https://t1.daumcdn.net/section/oc/9b53e51229c145e3864a23e17fef4165\\\"},{\\\"id\\\":\\\"brch-abn3-33\\\",\\\"title\\\":\\\"주재원 와이프의 세련된 인간관계\\\",\\\"url\\\":\\\"https://brunch.co.kr/@@abn3/33\\\",\\\"imageUrl\\\":\\\"https://t1.daumcdn.net/section/oc/c4f48dc4fdcb4898a1b7012213298d58\\\"},{\\\"id\\\":\\\"hamny-EvOt9NVqPH\\\",\\\"title\\\":\\\"600만원 짜린데 \\\\\\\"감자보다 작은 스테이크에 담요는 없대요\\\\\\\"\\\",\\\"url\\\":\\\"https://content.v.daum.net/v/EvOt9NVqPH\\\",\\\"imageUrl\\\":\\\"https://t1.daumcdn.net/daumtop_chanel/tromm/20220620014653575\\\"},{\\\"id\\\":\\\"tstory-2230493_340\\\",\\\"title\\\":\\\"베트남 하노이 3대 쌀국수 제주 상륙!\\\",\\\"url\\\":\\\"https://wlgp0983.tistory.com/340\\\",\\\"imageUrl\\\":\\\"https://t1.daumcdn.net/section/oc/6acd8b653b0c4b739b0258b012a64bd2\\\"},{\\\"id\\\":\\\"brch-JxX-137\\\",\\\"title\\\":\\\"산티아고 순례길을 아내랑 같이 온다고?!\\\",\\\"url\\\":\\\"https://brunch.co.kr/@@JxX/137\\\",\\\"imageUrl\\\":\\\"https://t1.daumcdn.net/section/oc/404b28c1fa6c49f7a699a63334d1a24f\\\"},{\\\"id\\\":\\\"tstory-1946403_1064\\\",\\\"title\\\":\\\"광장시장 먹거리 추천, 강가네떡볶이 솔직후기\\\",\\\"url\\\":\\\"https://cinmunya.tistory.com/1064\\\",\\\"imageUrl\\\":\\\"https://t1.daumcdn.net/section/oc/8cf20a535e574b0cabe9eb973194fcdd\\\"},{\\\"id\\\":\\\"story-58088428_108468870255064965\\\",\\\"title\\\":\\\"여수 꽃섬다리에서 내려다보는 남해의 절경\\\",\\\"url\\\":\\\"https://story.kakao.com/ch/visitkorea/BLFPxWEXt20\\\",\\\"imageUrl\\\":\\\"https://t1.daumcdn.net/daumtop_chanel/tromm/20220613043520629\\\"}]\"},\"teslas\":{},\"cabinets\":null,\"board\":false},{\"code\":2394,\"type\":\"PC_CHANNEL_BUSINESS\",\"items\":{\"op\":{\"title\":\"직장IN\",\"url\":null}},\"feeds\":{\"pc_channel_business\":\"[{\\\"id\\\":\\\"hamny-20220622094351208\\\",\\\"title\\\":\\\"모든 기업이 '개발자 사관학교'로 변신해야\\\",\\\"url\\\":\\\"https://v.daum.net/v/20220622094351208\\\",\\\"imageUrl\\\":\\\"https://t1.daumcdn.net/news/202206/22/ZDNetKorea/20220622094354182fgst.jpg\\\",\\\"source\\\":\\\"지디넷코리아\\\",\\\"desc\\\":\\\"(지디넷코리아=김윤희  기자)개발자 인력난에 대한 우려가 높지만, 기업이 우수 인재를 끌어오는 것에만 관심을 보일 뿐 내부 인력 육성은 등한시하고 있는 것도 문제를 키우고 있다. 대기업조차 이런 투자에 소극적인 상황이다. 개발자가 절실히 필요한 IT 대기업부터 시니어 인재 배출에 기여해야 주니어에 쏠린 인재 풀이 균형을 찾을 수 있다. 속수무책으로 개발자\\\",\\\"icon\\\":\\\"TEXT\\\"},{\\\"id\\\":\\\"hamny-20220622094407216\\\",\\\"title\\\":\\\"개발자 모시려면 일·비전·문화 다 바꿔라\\\",\\\"url\\\":\\\"https://v.daum.net/v/20220622094407216\\\",\\\"imageUrl\\\":\\\"https://t1.daumcdn.net/news/202206/22/ZDNetKorea/20220622094409154wdhj.jpg\\\",\\\"source\\\":\\\"지디넷코리아\\\",\\\"desc\\\":\\\"(지디넷코리아=김우용  기자)연봉이 개발자를 끌어들이는 절대 무기는 아니다. 적정 수준의 연봉은 당연한 조건이고, 회사에 일하고 싶게 만드는 또다른 무언가를 고민해야 한다. 개발자를 필요로 하는 기업의 유형은 크게 두 그룹으로 나눌 수 있다. 먼저, 태생적으로 IT 기술을 기반으로 한 기업이다. 오늘날 대부분의 스타트업, 빅테크 기업이 여기에 해당한다. 다\\\",\\\"icon\\\":\\\"TEXT\\\"},{\\\"id\\\":\\\"hamny-20220622094457251\\\",\\\"title\\\":\\\"IT 개발자 몸값 더 오를 수밖에 없다\\\",\\\"url\\\":\\\"https://v.daum.net/v/20220622094457251\\\",\\\"imageUrl\\\":\\\"https://t1.daumcdn.net/news/202206/22/ZDNetKorea/20220622094459545vgvc.jpg\\\",\\\"source\\\":\\\"지디넷코리아\\\",\\\"desc\\\":\\\"(지디넷코리아=임유경  기자)개발 인력 확보를 위한 연봉 인상 경쟁이 본격화된 지 1년이 지났다. 그 사이 실력 좋은 개발자를 채용하려면 초임 연봉부터 5천만원~6천만원 수준에 맞춰야 한다는 암묵적인 컨센서스가 IT 인력 채용시장에 자리잡았다. 대형 게임사, 인터넷플랫폼 업체 기준으로도 1천만원 이상 높아진 것이다. 개발자 몸값 상승은 스타트업부터 대형 I\\\",\\\"icon\\\":\\\"TEXT\\\"},{\\\"id\\\":\\\"hamny-20220622141337589\\\",\\\"title\\\":\\\"'종이의 집' 김홍선 감독 \\\\\\\"분단현실 녹여 우리 이야기로 재탄생\\\\\\\"\\\",\\\"url\\\":\\\"https://v.daum.net/v/20220622141337589\\\",\\\"imageUrl\\\":\\\"https://t1.daumcdn.net/news/202206/22/yonhap/20220622141337873lvhm.jpg\\\",\\\"source\\\":\\\"연합뉴스\\\",\\\"desc\\\":\\\"(서울=연합뉴스) 강애란 기자 김우진 인턴기자 = 넷플릭스의 스페인 인기 시리즈를 리메이크한 한국판 '종이의 집'이 이번 주 금요일 베일을 벗는다. 김홍선 감독과 류용재 작가는 22일 서울 강남구 코엑스에서 열린 '종이의 집: 공동경제구역' 제작발표회에서 원작에 남북관계 등 한국만의 이야기를 녹였다고 작품을 소개했다. '종이의 집: 공동경제구역'은 통일을\\\",\\\"icon\\\":\\\"TEXT\\\"},{\\\"id\\\":\\\"brch-azyN-20\\\",\\\"title\\\":\\\"자의식 과잉이었던 나의 20대\\\",\\\"url\\\":\\\"https://brunch.co.kr/@@azyN/20\\\",\\\"imageUrl\\\":\\\"https://t1.daumcdn.net/section/oc/a2bb2a3ee19d4ccbb22aeac89408631c\\\",\\\"source\\\":\\\"브런치 by 기록하는 양양\\\",\\\"desc\\\":\\\"설거지를 하며 유튜브를 보았다. 오은영 박사님이 출연하는 한 프로그램에 배우이면서 국가대표가 되고 싶은 아이의 이야기가 담긴 영상이었다. 인터뷰를 하던 박사님은 찬물을 끼얹어서 미안하다는 말씀으로 조언을 시작하셨다. 어떤 사람으로 살아가고 어떻게 살아가겠다는 것보다 '타이틀'에만 집중하는 것은 굉장히 위험하다며 다소 자의식 과잉으로 보인다고 영상 주인공에게\\\",\\\"icon\\\":\\\"TEXT\\\"},{\\\"id\\\":\\\"hamny-EudlQlKhRe\\\",\\\"title\\\":\\\"코로나 끝나고 '항공 대란' 시작되나? 아수라장 된 영국 공항 실황\\\",\\\"url\\\":\\\"https://content.v.daum.net/v/EudlQlKhRe\\\",\\\"imageUrl\\\":\\\"https://t1.daumcdn.net/news/202206/22/tourplus/20220622101615410sxpm.jpg\\\",\\\"source\\\":\\\"여행+\\\",\\\"desc\\\":\\\"지난 주말 영국 주요 공항 곳곳에서 비행 지연과 결항이 발생해 승객들의 불만이 폭주했다.\\\",\\\"icon\\\":\\\"IMAGE\\\"},{\\\"id\\\":\\\"hamny-EDQ1JCBDDp\\\",\\\"title\\\":\\\"미국에서 두 번째로 큰 미술관에 가면..\\\",\\\"url\\\":\\\"https://content.v.daum.net/v/EDQ1JCBDDp\\\",\\\"imageUrl\\\":\\\"https://t1.daumcdn.net/news/202206/21/weekly/20220621100802316h53l.jpeg\\\",\\\"source\\\":\\\"정책주간지 공감\\\",\\\"desc\\\":\\\"미국 '시카고 현대 미술관'은 '유럽과 미국 미술 외에 동양 미술, 중세미술, 장식 미술, 사진, 판화, 조각, 건축 등 다양한 지역과 시대, 장르를 망라한 작품이 30만여 점에 이를 정도로 방대하다'고 해요. 피카소, 모네, 그랜트 우드, 에드워드 호퍼 등 근현대 거장들의 작품을 한 곳에서 볼 수 있다는데요. 박인권 문화칼럼니스트의 '안방에서 즐기는 세계의 뮤지엄' 글을 통해 '시카고 미술관'으로 함께 가볼까요?\\\",\\\"icon\\\":\\\"IMAGE\\\"},{\\\"id\\\":\\\"hamny-EB1vT2FSNb\\\",\\\"title\\\":\\\"제로 음료 넘쳐나는데 제로 아이스크림은?\\\",\\\"url\\\":\\\"https://content.v.daum.net/v/EB1vT2FSNb\\\",\\\"imageUrl\\\":\\\"https://t1.daumcdn.net/news/202206/22/wngproject/2022062204223043882em.jpeg\\\",\\\"source\\\":\\\"취재대행소 왱\\\",\\\"desc\\\":\\\"이 기호식품들을 보라. 제로 콜라, 제로 레모네이드, 제로 아이스티, 제로 커피 믹스까지…  세상이 온통 제로 음식 투성인데 유난히 보이지 않는 제품군이 하나 있다. 바로 ‘제로 아이스크림’. 유튜브 댓글로 ‘제로 음료수는 있는데 제로 아이스크림은 왜 없는지 취재해 달라’는 의뢰가 들어와 취재했다. 결론부터 말하면 아이스크림 원료 특성 때문에 제로 칼로리는\\\",\\\"icon\\\":\\\"IMAGE\\\"}]\",\"business_best_new_tiara\":\"[{\\\"id\\\":\\\"hamny-EmDqHr3lW1\\\",\\\"title\\\":\\\"\\\\\\\"인생에 남자복이 없어요.\\\\\\\" 외치던 30대 노처녀 결국..\\\",\\\"url\\\":\\\"https://content.v.daum.net/v/EmDqHr3lW1\\\",\\\"imageUrl\\\":\\\"https://t1.daumcdn.net/news/202206/17/1day_1lesson/20220617065632372a0iq.jpeg\\\"},{\\\"id\\\":\\\"hamny-EswHM3cEfW\\\",\\\"title\\\":\\\"우린 일부러 '샤넬' 안사고 이것만 고집한다! 2030세대들의 이유 있는 선택\\\",\\\"url\\\":\\\"https://content.v.daum.net/v/EswHM3cEfW\\\",\\\"imageUrl\\\":\\\"https://t1.daumcdn.net/news/202206/17/mk_cv/20220617051908611tu3o.png\\\"},{\\\"id\\\":\\\"hamny-EPPKdAESIf\\\",\\\"title\\\":\\\"중국 광시에서 발견된 거대 싱크홀.. 192m 지하에 펼쳐진 것은?\\\",\\\"url\\\":\\\"https://content.v.daum.net/v/EPPKdAESIf\\\",\\\"imageUrl\\\":\\\"https://t1.daumcdn.net/news/202206/17/tourplus/20220617102655192jwpx.jpg\\\"},{\\\"id\\\":\\\"brch-95Q7-123\\\",\\\"title\\\":\\\"공무원에서 사기업으로 옮겨보니..\\\",\\\"url\\\":\\\"https://brunch.co.kr/@@95Q7/123\\\",\\\"imageUrl\\\":\\\"https://t1.daumcdn.net/section/oc/ed4ed91ffe864bd9873bd31bf24fd1eb\\\"},{\\\"id\\\":\\\"hamny-EYpxQNrxpU\\\",\\\"title\\\":\\\"\\\\\\\"20년만에 무명 탈출한 배우..\\\\\\\" 그가 결국 포기한 딱 한가지\\\",\\\"url\\\":\\\"https://content.v.daum.net/v/EYpxQNrxpU\\\",\\\"imageUrl\\\":\\\"https://t1.daumcdn.net/news/202206/17/solutionmaker/20220617045911704ziji.jpeg\\\"},{\\\"id\\\":\\\"hamny-Eax3xDBvJS\\\",\\\"title\\\":\\\"해외 취업에선 토익∙컴활∙한국사 대신 '이것' 봅니다\\\",\\\"url\\\":\\\"https://content.v.daum.net/v/Eax3xDBvJS\\\",\\\"imageUrl\\\":\\\"https://t1.daumcdn.net/news/202206/18/jobsN/20220618060016209beqc.jpg\\\"},{\\\"id\\\":\\\"hamny-EXDigSaYx7\\\",\\\"title\\\":\\\"[심리실험] 이 말 자주 하는 사람은 이혼할 가능성이 높다\\\",\\\"url\\\":\\\"https://content.v.daum.net/v/EXDigSaYx7\\\",\\\"imageUrl\\\":\\\"https://t1.daumcdn.net/news/202206/16/theable/20220616054801435ucwm.jpeg\\\"},{\\\"id\\\":\\\"hamny-Em8D0Zsq5P\\\",\\\"title\\\":\\\"전문가들이 경고한 10년 후 한국이 무조건 겪을 재앙\\\",\\\"url\\\":\\\"https://content.v.daum.net/v/Em8D0Zsq5P\\\",\\\"imageUrl\\\":\\\"https://t1.daumcdn.net/news/202206/16/papervore/20220616071922861rlxb.jpeg\\\"}]\"},\"teslas\":{},\"cabinets\":null,\"board\":false},{\"code\":2395,\"type\":\"PC_CHANNEL_MUSIC\",\"items\":{\"op\":{\"title\":\"뮤직\",\"url\":\"https://www.melon.com/\"}},\"feeds\":{\"pc_channel_music\":\"[{\\\"id\\\":\\\"ptop_melon_img_34545081\\\",\\\"title\\\":\\\"서울, 광주, 부산! 라이브 맛집 ‘스탠딩 에그’ 단독 콘서트\\\",\\\"url\\\":\\\"http://tktapi.melon.com/kmt/landing.json?type=bridge&contId=100323\\\",\\\"imageUrl\\\":\\\"https://t1.daumcdn.net/daumtop_chanel/tromm/20220622112217900.png\\\",\\\"source\\\":\\\"멜론티켓\\\",\\\"icon\\\":\\\"IMAGE\\\"},{\\\"id\\\":\\\"melon-10010-12484\\\",\\\"title\\\":\\\"예술을 사랑하는 모든 이를 위한 공간, '1984'\\\",\\\"url\\\":\\\"https://www.melon.com/musicstory/inform.htm?mstorySeq=12484\\\",\\\"imageUrl\\\":\\\"https://cdnimg.melon.co.kr/resource/image/cds/musicstory/imgUrl20220517053351225.jpg\\\",\\\"source\\\":\\\"핫플리\\\",\\\"icon\\\":\\\"IMAGE\\\"},{\\\"id\\\":\\\"melon-10010-12597\\\",\\\"title\\\":\\\"MZ세대가 주목하는 싱어송라이터, 예빛 [여정]\\\",\\\"url\\\":\\\"https://www.melon.com/musicstory/inform.htm?mstorySeq=12597\\\",\\\"imageUrl\\\":\\\"https://cdnimg.melon.co.kr/resource/image/cds/musicstory/imgUrl20220615061138420.jpg\\\",\\\"source\\\":\\\"멜론매거진\\\",\\\"icon\\\":\\\"IMAGE\\\"},{\\\"id\\\":\\\"melon-10010-12600\\\",\\\"title\\\":\\\"이달의 소녀 추천! '여름에 듣기 좋은 노래 플레이리스트'\\\",\\\"url\\\":\\\"https://www.melon.com/musicstory/inform.htm?mstorySeq=12600\\\",\\\"imageUrl\\\":\\\"https://cdnimg.melon.co.kr/resource/image/cds/musicstory/imgUrl20220617044541253.jpg\\\",\\\"source\\\":\\\"멜론매거진\\\",\\\"icon\\\":\\\"VIDEO\\\"},{\\\"id\\\":\\\"melon-10010-12615\\\",\\\"title\\\":\\\"슈퍼스타가 만든 슈퍼스타답지 않은 앨범, Post Malone [Twelve Carat Toothache]\\\",\\\"url\\\":\\\"https://www.melon.com/musicstory/inform.htm?mstorySeq=12615\\\",\\\"imageUrl\\\":\\\"https://cdnimg.melon.co.kr/resource/image/cds/musicstory/imgUrl20220620061114212.jpg\\\",\\\"source\\\":\\\"DJ 멜양\\\",\\\"icon\\\":\\\"IMAGE\\\"},{\\\"id\\\":\\\"ptop_melon_img_34545099\\\",\\\"title\\\":\\\"오늘 밤, 당신의 침실로 낯선 방문객이 찾아옵니다. 온라인체험극: 〈ETERNAL〉\\\",\\\"url\\\":\\\"http://tktapi.melon.com/kmt/landing.json?type=perf&contId=206971\\\",\\\"imageUrl\\\":\\\"https://t1.daumcdn.net/daumtop_chanel/tromm/20220622112236771.png\\\",\\\"source\\\":\\\"멜론티켓\\\",\\\"icon\\\":\\\"IMAGE\\\"},{\\\"id\\\":\\\"ptop_melon_img_34545027\\\",\\\"title\\\":\\\"전석 30% 할인! 하프타임 오픈으로 돌아온 ‘전리농’\\\",\\\"url\\\":\\\"http://tktapi.melon.com/kmt/landing.json?type=perf&contId=206920\\\",\\\"imageUrl\\\":\\\"https://t1.daumcdn.net/daumtop_chanel/tromm/20220622112127992.png\\\",\\\"source\\\":\\\"멜론티켓\\\",\\\"icon\\\":\\\"IMAGE\\\"},{\\\"id\\\":\\\"ptop_melon_img_34545071\\\",\\\"title\\\":\\\"적재의 앨범 제작 과정을 내 눈으로 볼 수 있다?! 〈MIXTAPE〉\\\",\\\"url\\\":\\\"http://tktapi.melon.com/kmt/landing.json?type=perf&contId=207001\\\",\\\"imageUrl\\\":\\\"https://t1.daumcdn.net/daumtop_chanel/tromm/20220622112158216.png\\\",\\\"source\\\":\\\"멜론티켓\\\",\\\"icon\\\":\\\"IMAGE\\\"},{\\\"id\\\":\\\"melon-10010-12619\\\",\\\"title\\\":\\\"방탄소년단의 쉼표, 새롭게 써 내려갈 이야기\\\",\\\"url\\\":\\\"https://www.melon.com/musicstory/inform.htm?mstorySeq=12619\\\",\\\"imageUrl\\\":\\\"https://cdnimg.melon.co.kr/resource/image/cds/musicstory/imgUrl20220621024005255.jpg\\\",\\\"source\\\":\\\"잡스너\\\",\\\"icon\\\":\\\"IMAGE\\\"},{\\\"id\\\":\\\"melon-10010-12612\\\",\\\"title\\\":\\\"세 번째 웨딩마치를 울린 Britney Spears\\\",\\\"url\\\":\\\"https://www.melon.com/musicstory/inform.htm?mstorySeq=12612\\\",\\\"imageUrl\\\":\\\"https://cdnimg.melon.co.kr/resource/image/cds/musicstory/imgUrl20220620032743070.jpg\\\",\\\"source\\\":\\\"잡스너\\\",\\\"icon\\\":\\\"IMAGE\\\"},{\\\"id\\\":\\\"melon-10010-12550\\\",\\\"title\\\":\\\"조명이 책을, 햇살이 음악을 비추는 '진부책방 스튜디오'\\\",\\\"url\\\":\\\"https://www.melon.com/musicstory/inform.htm?mstorySeq=12550\\\",\\\"imageUrl\\\":\\\"https://cdnimg.melon.co.kr/resource/image/cds/musicstory/imgUrl20220603062152155.jpg\\\",\\\"source\\\":\\\"핫플리\\\",\\\"icon\\\":\\\"IMAGE\\\"},{\\\"id\\\":\\\"melon-10010-12609\\\",\\\"title\\\":\\\"전 세계를 향해 또 한 번 신호탄을 쏘아 올릴, TAN [W SERIES '2TAN'(wish ver)]\\\",\\\"url\\\":\\\"https://www.melon.com/musicstory/inform.htm?mstorySeq=12609\\\",\\\"imageUrl\\\":\\\"https://cdnimg.melon.co.kr/resource/image/cds/musicstory/imgUrl20220620105042735.jpg\\\",\\\"source\\\":\\\"멜론매거진\\\",\\\"icon\\\":\\\"VIDEO\\\"},{\\\"id\\\":\\\"melon-10010-12605\\\",\\\"title\\\":\\\"반짝반짝 빛나는 6개의 보석들, Lapillus(라필루스) [HIT YA!]\\\",\\\"url\\\":\\\"https://www.melon.com/musicstory/inform.htm?mstorySeq=12605\\\",\\\"imageUrl\\\":\\\"https://cdnimg.melon.co.kr/resource/image/cds/musicstory/imgUrl20220617020544320.jpg\\\",\\\"source\\\":\\\"멜론매거진\\\",\\\"icon\\\":\\\"VIDEO\\\"}]\",\"pc_channel_melon_TOP100\":\"[{\\\"imageUrl\\\":\\\"http://kkoimg.melon.co.kr/cm2/album/images/109/09/179/10909179_20220405103521_500.jpg\\\",\\\"songName\\\":\\\"LOVE DIVE\\\",\\\"songLinkUrl\\\":\\\"https://m2.melon.com/kakaoGatePage.htm?cType1=content&cType2=song&cId=34847378&ref=\\\",\\\"artistName\\\":\\\"IVE (아이브)\\\",\\\"artistLinkUrl\\\":\\\"https://m2.melon.com/kakaoGatePage.htm?cType1=content&cType2=artist&cId=3055146&ref=\\\"},{\\\"imageUrl\\\":\\\"http://kkoimg.melon.co.kr/cm2/album/images/108/90/384/10890384_20220314111504_500.jpg\\\",\\\"songName\\\":\\\"TOMBOY\\\",\\\"songLinkUrl\\\":\\\"https://m2.melon.com/kakaoGatePage.htm?cType1=content&cType2=song&cId=34754292&ref=\\\",\\\"artistName\\\":\\\"(여자)아이들\\\",\\\"artistLinkUrl\\\":\\\"https://m2.melon.com/kakaoGatePage.htm?cType1=content&cType2=artist&cId=2137482&ref=\\\"},{\\\"imageUrl\\\":\\\"http://kkoimg.melon.co.kr/cm2/album/images/109/37/474/10937474_20220428225312_500.jpg\\\",\\\"songName\\\":\\\"That That (prod. & feat. SUGA of BTS)\\\",\\\"songLinkUrl\\\":\\\"https://m2.melon.com/kakaoGatePage.htm?cType1=content&cType2=song&cId=34997078&ref=\\\",\\\"artistName\\\":\\\"싸이 (PSY)\\\",\\\"artistLinkUrl\\\":\\\"https://m2.melon.com/kakaoGatePage.htm?cType1=content&cType2=artist&cId=3865&ref=\\\"},{\\\"imageUrl\\\":\\\"http://kkoimg.melon.co.kr/cm2/album/images/108/71/162/10871162_20220217162422_500.jpg\\\",\\\"songName\\\":\\\"사랑인가 봐\\\",\\\"songLinkUrl\\\":\\\"https://m2.melon.com/kakaoGatePage.htm?cType1=content&cType2=song&cId=34657844&ref=\\\",\\\"artistName\\\":\\\"멜로망스\\\",\\\"artistLinkUrl\\\":\\\"https://m2.melon.com/kakaoGatePage.htm?cType1=content&cType2=artist&cId=839732&ref=\\\"},{\\\"imageUrl\\\":\\\"http://kkoimg.melon.co.kr/cm2/album/images/109/23/444/10923444_20220502140600_500.jpg\\\",\\\"songName\\\":\\\"우리들의 블루스\\\",\\\"songLinkUrl\\\":\\\"https://m2.melon.com/kakaoGatePage.htm?cType1=content&cType2=song&cId=34908740&ref=\\\",\\\"artistName\\\":\\\"임영웅\\\",\\\"artistLinkUrl\\\":\\\"https://m2.melon.com/kakaoGatePage.htm?cType1=content&cType2=artist&cId=994944&ref=\\\"},{\\\"imageUrl\\\":\\\"http://kkoimg.melon.co.kr/cm2/album/images/109/25/762/10925762_20220419152007_500.jpg\\\",\\\"songName\\\":\\\"정이라고 하자 (Feat. 10CM)\\\",\\\"songLinkUrl\\\":\\\"https://m2.melon.com/kakaoGatePage.htm?cType1=content&cType2=song&cId=34927767&ref=\\\",\\\"artistName\\\":\\\"BIG Naughty (서동현)\\\",\\\"artistLinkUrl\\\":\\\"https://m2.melon.com/kakaoGatePage.htm?cType1=content&cType2=artist&cId=2744750&ref=\\\"}]\"},\"teslas\":{},\"cabinets\":null,\"board\":false},{\"code\":2396,\"type\":\"PC_CHANNEL_WEBTOON\",\"items\":{\"op\":{\"title\":\"웹툰\",\"url\":\"https://webtoon.kakao.com/\"}},\"feeds\":{\"pc_channel_webtoon\":\"[{\\\"id\\\":\\\"p_webtoon_34470347\\\",\\\"title\\\":\\\"맴매 맞자 맴매!\\\",\\\"url\\\":\\\"https://webtoon.kakao.com/viewer/106-008/164067\\\",\\\"imageUrl\\\":\\\"https://t1.daumcdn.net/section/oc/4894b212f6f8470a8ad7505963536b89\\\",\\\"source\\\":\\\"106\\\",\\\"desc\\\":null,\\\"label\\\":null,\\\"icon\\\":\\\"IMAGE\\\",\\\"position\\\":0},{\\\"id\\\":\\\"p_webtoon_34471880\\\",\\\"title\\\":\\\"선생님은 얼굴 씻을 때 비누 안 쓰세요? \\\",\\\"url\\\":\\\"https://webtoon.kakao.com/viewer/%EB%B9%84%EB%B0%80-%EC%82%AC%EC%9D%B4-093/164470\\\",\\\"imageUrl\\\":\\\"https://t1.daumcdn.net/section/oc/f6cb8106a70d468cbaca9649ac960b24\\\",\\\"source\\\":\\\"비밀 사이\\\",\\\"desc\\\":null,\\\"label\\\":null,\\\"icon\\\":\\\"IMAGE\\\",\\\"position\\\":0},{\\\"id\\\":\\\"p_webtoon_34342469\\\",\\\"title\\\":\\\"바람 좀 쐬고 올게요\\\",\\\"url\\\":\\\"https://webtoon.kakao.com/viewer/%EB%A9%B0%EB%8A%90%EB%9D%BC%EA%B8%B0-025/152666\\\",\\\"imageUrl\\\":\\\"https://t1.daumcdn.net/section/oc/a4dd7620fb694cec994948d561e2cb0a\\\",\\\"source\\\":\\\"며느라기\\\",\\\"desc\\\":null,\\\"label\\\":null,\\\"icon\\\":\\\"IMAGE\\\",\\\"position\\\":0},{\\\"id\\\":\\\"p_webtoon_34471181\\\",\\\"title\\\":\\\"사내들끼리 마시고자 하니, 자리를 비켜주시지요\\\",\\\"url\\\":\\\"https://webtoon.kakao.com/viewer/%EC%95%84%EB%B9%84%EB%AC%B4%EC%8C%8D-218/163679\\\",\\\"imageUrl\\\":\\\"https://t1.daumcdn.net/section/oc/5fc1d87051934e7682e9b80fa6a6f120\\\",\\\"source\\\":\\\"아비무쌍\\\",\\\"desc\\\":null,\\\"label\\\":null,\\\"icon\\\":\\\"IMAGE\\\",\\\"position\\\":0},{\\\"id\\\":\\\"p_webtoon_34342467\\\",\\\"title\\\":\\\"제부가 육성으로 직원을 불렀다\\\",\\\"url\\\":\\\"https://webtoon.kakao.com/viewer/%EB%B0%98%EC%A7%80%ED%95%98%EC%85%8B%EB%B0%A9-279/166394\\\",\\\"imageUrl\\\":\\\"https://t1.daumcdn.net/section/oc/fc2d842d448e48a496e6365d3de00795\\\",\\\"source\\\":\\\"반지하셋방\\\",\\\"desc\\\":null,\\\"label\\\":null,\\\"icon\\\":\\\"IMAGE\\\",\\\"position\\\":0},{\\\"id\\\":\\\"p_webtoon_34534430\\\",\\\"title\\\":\\\"잊은건 아니지? 작가님 우리 때문에 자살시도한 거\\\",\\\"url\\\":\\\"https://webtoon.kakao.com/viewer/%EC%A7%80%EA%B8%88%EB%B6%80%ED%84%B0-%EC%86%8D%ED%8E%B8%EC%9D%B4-%EC%8B%9C%EC%9E%91%EB%90%A9%EB%8B%88%EB%8B%A4-003/167819\\\",\\\"imageUrl\\\":\\\"https://t1.daumcdn.net/section/oc/73171cb0f0b244e59aa2fdb3f9039061\\\",\\\"source\\\":\\\"지금부터 속편이 시작됩니다\\\",\\\"desc\\\":null,\\\"label\\\":null,\\\"icon\\\":\\\"IMAGE\\\",\\\"position\\\":0},{\\\"id\\\":\\\"p_webtoon_34536695\\\",\\\"title\\\":\\\"그냥 수술하는 게 좋겠어. 아이를 어떻게 낳아\\\",\\\"url\\\":\\\"https://webtoon.kakao.com/viewer/%EA%B3%A4-010/162970\\\",\\\"imageUrl\\\":\\\"https://t1.daumcdn.net/section/oc/ffb34ce87dee4fdebc0285d9a515e5da\\\",\\\"source\\\":\\\"곤\\\",\\\"desc\\\":null,\\\"label\\\":null,\\\"icon\\\":\\\"IMAGE\\\",\\\"position\\\":0},{\\\"id\\\":\\\"p_webtoon_34413794\\\",\\\"title\\\":\\\"놀이터에서 한 꼬마를 만났다\\\",\\\"url\\\":\\\"https://webtoon.kakao.com/viewer/%EB%82%98%EC%9D%98-%EA%BC%AC%EB%A7%88-%EC%84%A0%EC%83%9D%EB%8B%98-009/165161\\\",\\\"imageUrl\\\":\\\"https://t1.daumcdn.net/section/oc/33105e51560948a78609a3f4886365de\\\",\\\"source\\\":\\\"나의 꼬마 선생님\\\",\\\"desc\\\":null,\\\"label\\\":null,\\\"icon\\\":\\\"IMAGE\\\",\\\"position\\\":0},{\\\"id\\\":\\\"p_webtoon_34374114\\\",\\\"title\\\":\\\"모닝 운동을 다짐한 다음 날\\\",\\\"url\\\":\\\"https://webtoon.kakao.com/viewer/%EC%8A%AC%ED%94%84%EA%B2%8C%EB%8F%84-%EC%9D%B4%EA%B2%8C-%EB%82%B4-%EC%9D%B8%EC%83%9D-168/165939\\\",\\\"imageUrl\\\":\\\"https://t1.daumcdn.net/section/oc/4bd1b88c70a741f9a4969ff66bc39d14\\\",\\\"source\\\":\\\"슬프게도 이게 내 인생 \\\",\\\"desc\\\":null,\\\"label\\\":null,\\\"icon\\\":\\\"IMAGE\\\",\\\"position\\\":0},{\\\"id\\\":\\\"p_webtoon_34415049\\\",\\\"title\\\":\\\"이것이 바로 과학의 힘!\\\",\\\"url\\\":\\\"https://webtoon.kakao.com/viewer/%EC%98%A4%EB%AC%B4%EB%9D%BC%EC%9D%B4%EC%8A%A4-%EC%9E%BC%EC%9E%BC-292/96189\\\",\\\"imageUrl\\\":\\\"https://t1.daumcdn.net/section/oc/1996531244464dc78c3693fa790b7a40\\\",\\\"source\\\":\\\"오무라이스 잼잼\\\",\\\"desc\\\":null,\\\"label\\\":null,\\\"icon\\\":\\\"IMAGE\\\",\\\"position\\\":0},{\\\"id\\\":\\\"p_webtoon_34533357\\\",\\\"title\\\":\\\"옥황상제시여! 수린당 장녀를 벌하여 주시옵소서!!\\\",\\\"url\\\":\\\"https://webtoon.kakao.com/viewer/%EC%88%98%EB%A6%B0%EB%8B%B9--%EB%B9%84%EB%8A%98-%EA%B3%A0%EC%B9%98%EB%8A%94-%EC%A7%91--065/166173\\\",\\\"imageUrl\\\":\\\"https://t1.daumcdn.net/section/oc/cb216a40e1e242589b54fd03715a7aa2\\\",\\\"source\\\":\\\"수린당 -비늘 고치는 집-\\\",\\\"desc\\\":null,\\\"label\\\":null,\\\"icon\\\":\\\"IMAGE\\\",\\\"position\\\":0},{\\\"id\\\":\\\"p_webtoon_34374082\\\",\\\"title\\\":\\\"기승전김\\\",\\\"url\\\":\\\"https://webtoon.kakao.com/viewer/%ED%80%B4%ED%80%B4%ED%95%9C-%EC%9D%BC%EA%B8%B0-581/167875\\\",\\\"imageUrl\\\":\\\"https://t1.daumcdn.net/section/oc/2c0762e160b5419881919a0a4ac5d038\\\",\\\"source\\\":\\\"퀴퀴한 일기\\\",\\\"desc\\\":null,\\\"label\\\":null,\\\"icon\\\":\\\"IMAGE\\\",\\\"position\\\":0},{\\\"id\\\":\\\"p_webtoon_34534847\\\",\\\"title\\\":\\\"어쩌다 내가 여기까지..\\\",\\\"url\\\":\\\"https://webtoon.kakao.com/viewer/%EA%B5%90%ED%99%98-%EB%82%A8%EB%85%80-013/165509\\\",\\\"imageUrl\\\":\\\"https://t1.daumcdn.net/section/oc/115e29eb293d4a248940ffb7c79901b1\\\",\\\"source\\\":\\\"교환 남녀\\\",\\\"desc\\\":null,\\\"label\\\":null,\\\"icon\\\":\\\"IMAGE\\\",\\\"position\\\":0},{\\\"id\\\":\\\"p_webtoon_34374121\\\",\\\"title\\\":\\\"대표님은 왜 그런 표정을 지으신 걸까\\\",\\\"url\\\":\\\"https://webtoon.kakao.com/viewer/%EC%A7%88%ED%88%AC%EC%9C%A0%EB%B0%9C%EC%9E%90%EB%93%A4-077/165953\\\",\\\"imageUrl\\\":\\\"https://t1.daumcdn.net/section/oc/93378132f7ba43ed9b1ec38a33e027ff\\\",\\\"source\\\":\\\"질투유발자들 \\\",\\\"desc\\\":null,\\\"label\\\":null,\\\"icon\\\":\\\"IMAGE\\\",\\\"position\\\":0},{\\\"id\\\":\\\"p_webtoon_34537725\\\",\\\"title\\\":\\\"본사에 오니 더욱 사내의 열기가 뜨겁네요\\\",\\\"url\\\":\\\"https://webtoon.kakao.com/viewer/%EC%B2%9C%EA%B4%91%EB%AA%85%EC%9B%94-050/163002\\\",\\\"imageUrl\\\":\\\"https://t1.daumcdn.net/section/oc/b832b7d47bba46fa8a9cbaaf3bcf36bd\\\",\\\"source\\\":\\\"천광명월\\\",\\\"desc\\\":null,\\\"label\\\":null,\\\"icon\\\":\\\"IMAGE\\\",\\\"position\\\":8},{\\\"id\\\":\\\"p_webtoon_34537171\\\",\\\"title\\\":\\\"왜 덕질을 그만두려는 겁니까?\\\",\\\"url\\\":\\\"https://webtoon.kakao.com/viewer/%EB%8F%84%ED%86%A0%EB%A6%AC-%EB%AC%B8%ED%99%94%EC%84%BC%ED%84%B0-038/167404\\\",\\\"imageUrl\\\":\\\"https://t1.daumcdn.net/section/oc/1c8cec515bba4cb3b498a70cf7ace7f8\\\",\\\"source\\\":\\\"도토리 문화센터\\\",\\\"desc\\\":null,\\\"label\\\":null,\\\"icon\\\":\\\"IMAGE\\\",\\\"position\\\":0},{\\\"id\\\":\\\"p_webtoon_34533300\\\",\\\"title\\\":\\\"레전드 웹툰 감상회\\\",\\\"url\\\":\\\"https://webtoon.kakao.com/event?event_id=9509798068\\\",\\\"imageUrl\\\":\\\"https://t1.daumcdn.net/section/oc/8d2bc6527f99428fb0b09bde004c842c\\\",\\\"source\\\":\\\"토이 콤플렉스\\\",\\\"desc\\\":null,\\\"label\\\":\\\"EVENT\\\",\\\"icon\\\":\\\"IMAGE\\\",\\\"position\\\":0},{\\\"id\\\":\\\"p_webtoon_34413593\\\",\\\"title\\\":\\\"왜 인수하죠? 필요한 사람만 빼가면 될 텐데\\\",\\\"url\\\":\\\"https://webtoon.kakao.com/viewer/%EB%AF%B8%EC%83%9D-295/169076\\\",\\\"imageUrl\\\":\\\"https://t1.daumcdn.net/section/oc/fc4ff2cbff5b44a9aa82337f2bdce993\\\",\\\"source\\\":\\\"미생 \\\",\\\"desc\\\":null,\\\"label\\\":null,\\\"icon\\\":\\\"IMAGE\\\",\\\"position\\\":0},{\\\"id\\\":\\\"p_webtoon_34342459\\\",\\\"title\\\":\\\"아침에 먹는 라면엔 재료 하나가 더 들어가요\\\",\\\"url\\\":\\\"https://webtoon.kakao.com/viewer/%EC%9D%B4%ED%86%A0%EB%A1%9D-%EB%B3%B4%ED%86%B5%EC%9D%98-355/167162\\\",\\\"imageUrl\\\":\\\"https://t1.daumcdn.net/section/oc/c8291719ebd64fe79b25837c98be4097\\\",\\\"source\\\":\\\"이토록 보통의 \\\",\\\"desc\\\":null,\\\"label\\\":null,\\\"icon\\\":\\\"IMAGE\\\",\\\"position\\\":0},{\\\"id\\\":\\\"p_webtoon_34374116\\\",\\\"title\\\":\\\"다시는 '아무거나'라고 말하지 않겠다\\\",\\\"url\\\":\\\"https://webtoon.kakao.com/viewer/%EB%B0%B0%EA%B3%A0%ED%94%88-%ED%82%AC%EB%9F%AC-020/164353\\\",\\\"imageUrl\\\":\\\"https://t1.daumcdn.net/section/oc/62bf30e0a4454612833709e2714efa41\\\",\\\"source\\\":\\\"배고픈 킬러\\\",\\\"desc\\\":null,\\\"label\\\":null,\\\"icon\\\":\\\"IMAGE\\\",\\\"position\\\":0}]\",\"pc_channel_webtoon_serial_ranking\":\"[{\\\"url\\\":\\\"https://webtoon.kakao.com/content/나를-잡아먹지-말아줘/2462\\\",\\\"title\\\":\\\"나를 잡아먹지 말아줘\\\",\\\"imageUrl\\\":\\\"https://kr-a.kakaopagecdn.com/P/C/2462/c1/2x/1b0b04bf-1eb4-442e-8f4d-07292bb04696.png\\\",\\\"source\\\":\\\"백지연\\\"},{\\\"url\\\":\\\"https://webtoon.kakao.com/content/아기-건물주는-이만-은퇴합니다/2904\\\",\\\"title\\\":\\\"아기 건물주는 이만 은퇴합니다\\\",\\\"imageUrl\\\":\\\"https://kr-a.kakaopagecdn.com/P/C/2904/c1/2x/3980bdf5-6bc0-435c-8912-e1d7f197e6d2.png\\\",\\\"source\\\":\\\"토요새\\\"},{\\\"url\\\":\\\"https://webtoon.kakao.com/content/도굴왕/2340\\\",\\\"title\\\":\\\"도굴왕\\\",\\\"imageUrl\\\":\\\"https://kr-a.kakaopagecdn.com/P/C/2340/c1/2x/ede4b5fb-e848-43fc-9ba3-224a584da177.png\\\",\\\"source\\\":\\\"윤쓰(Redice Studio)\\\"},{\\\"url\\\":\\\"https://webtoon.kakao.com/content/비밀-사이/1943\\\",\\\"title\\\":\\\"비밀 사이\\\",\\\"imageUrl\\\":\\\"https://kr-a.kakaopagecdn.com/P/C/1943/c1/2x/1f50e5a0-7f91-4670-adae-a38aadcdcac3.png\\\",\\\"source\\\":\\\"맥퀸스튜디오\\\"},{\\\"url\\\":\\\"https://webtoon.kakao.com/content/징크스의-연인/1339\\\",\\\"title\\\":\\\"징크스의 연인\\\",\\\"imageUrl\\\":\\\"https://kr-a.kakaopagecdn.com/P/C/1339/c1/2x/0802431e-5f83-4a07-9b77-c8bd7c4424fd.png\\\",\\\"source\\\":\\\"한지혜\\\"}]\",\"pc_channel_webtoon_finish_ranking\":\"[{\\\"url\\\":\\\"https://webtoon.kakao.com/content/나-혼자만-레벨업/2320\\\",\\\"title\\\":\\\"나 혼자만 레벨업\\\",\\\"imageUrl\\\":\\\"https://kr-a.kakaopagecdn.com/P/C/2320/c1/2x/88ac0b74-c10e-4cd9-8cf8-8fae2514ad4c.png\\\",\\\"source\\\":\\\"현군\\\"},{\\\"url\\\":\\\"https://webtoon.kakao.com/content/폭군에게는-악녀가-어울린다/2839\\\",\\\"title\\\":\\\"폭군에게는 악녀가 어울린다\\\",\\\"imageUrl\\\":\\\"https://kr-a.kakaopagecdn.com/P/C/2839/c1/2x/d2c30377-3c33-42f3-ba69-a0fb91a51001.png\\\",\\\"source\\\":\\\"나전\\\"},{\\\"url\\\":\\\"https://webtoon.kakao.com/content/어게인-마이-라이프/2530\\\",\\\"title\\\":\\\"어게인 마이 라이프\\\",\\\"imageUrl\\\":\\\"https://kr-a.kakaopagecdn.com/P/C/2530/c1/2x/b888880d-a88b-42be-ad7b-6261d789b8d2.png\\\",\\\"source\\\":\\\"도경\\\"},{\\\"url\\\":\\\"https://webtoon.kakao.com/content/우리-집에-왜-왔니/1308\\\",\\\"title\\\":\\\"우리 집에 왜 왔니\\\",\\\"imageUrl\\\":\\\"https://kr-a.kakaopagecdn.com/P/C/1308/c1/2x/4f843222-65e9-4961-93c5-4852a72a1cc9.png\\\",\\\"source\\\":\\\"이윤희\\\"},{\\\"url\\\":\\\"https://webtoon.kakao.com/content/마왕의-딸로-태어났습니다/2527\\\",\\\"title\\\":\\\"마왕의 딸로 태어났습니다\\\",\\\"imageUrl\\\":\\\"https://kr-a.kakaopagecdn.com/P/C/2527/c1/2x/1350215f-1eb8-4dbe-84c0-5b76aff39b37.png\\\",\\\"source\\\":\\\"은민\\\"}]\"},\"teslas\":{},\"cabinets\":null,\"board\":false},{\"code\":2397,\"type\":\"PC_CHANNEL_GAME\",\"items\":{\"op\":{\"title\":\"게임\",\"url\":\"https://game.daum.net/\"},\"wideImage\":{\"source\":\"오딘\",\"label\":\"NEW\",\"title\":\"업데이트\",\"url\":\"https://cafe.daum.net/odin/DEH7/48\",\"imageUrl\":\"https://t1.daumcdn.net/daumtop_chanel/op/20220608032436112.png\"},\"image1\":{\"source\":\"게임 뉴스\",\"title\":\"우마무스메,  출시 당일 앱스토어 1위 등극\",\"url\":\"https://news.v.daum.net/v/20220621003716654\",\"imageUrl\":\"https://t1.daumcdn.net/daumtop_chanel/op/20220620022151064.png\"},\"image2\":{\"source\":\"게임 뉴스\",\"title\":\"카카오게임즈 '프렌즈팝콘',  기부 이벤트 진행\",\"url\":\"https://news.v.daum.net/v/20220621131009478\",\"imageUrl\":\"https://t1.daumcdn.net/daumtop_chanel/op/20220621061021860.png\"},\"image3\":{\"source\":\"게임 유머\",\"title\":\"큰일날 뻔 했잖아 야옹아...\",\"url\":\"https://cafe.daum.net/ok1221/9Zdf/2658530\",\"imageUrl\":\"https://t1.daumcdn.net/daumtop_chanel/op/20220609070105394.png\"},\"image4\":{\"source\":\"게임 유머\",\"title\":\"허리에 좋은 컴퓨터 자세\",\"url\":\"https://cafe.daum.net/ok1221/9Zdf/2680235\",\"imageUrl\":\"https://t1.daumcdn.net/daumtop_chanel/op/20220621061039541.png\"},\"image5\":{\"source\":\"게임 유머\",\"title\":\"이거 은근 꿀잼\",\"url\":\"https://cafe.daum.net/Tlwkftlqkftlldlqkf/8vJr/322410?q=%EA%B5%AC%EA%B8%80%EB%A7%B5%20%EA%B2%8C%EC%9E%84\",\"imageUrl\":\"https://t1.daumcdn.net/daumtop_chanel/op/20220617054315235.png\"},\"image6\":{\"source\":\"게임 유머\",\"title\":\"소장욕구 뿜뿜하는 컵\",\"url\":\"https://cafe.daum.net/dotax/Elgq/3958470?q=%EA%B2%8C%EC%9E%84\",\"imageUrl\":\"https://t1.daumcdn.net/daumtop_chanel/op/20220614042209100.png\"},\"recommendedGameText1\":{\"source\":\"패스 오브 엑자일\",\"title\":\"이것이 진짜 핵앤슬래시!\",\"url\":\"https://poe.game.daum.net/\"},\"recommendedGameText2\":{\"source\":\"배틀그라운드\",\"title\":\"최후의 순간까지 살아남아라!\",\"url\":\"https://pubg.game.daum.net/\"},\"recommendedGameText3\":{\"source\":\"뮤템페스트\",\"title\":\"MU의 새로운 파란! 뮤 템페스트\",\"url\":\"http://game.daum.net/cn/muignition2?utm_source=daum&utm_medium=display&utm_campaign=201712-1_mutempest_open&utm_content=daum_main_gamestory_banner\"},\"recommendedGameText4\":{\"source\":\"파이널판타지14\",\"title\":\"파이널판타지14! 열광하라!\",\"url\":\"http://game.daum.net/cn/ff14\"},\"recommendedGameText5\":{\"source\":\"엘리온\",\"title\":\"이제 에녹에서 화끈하게 붙어보자\",\"url\":\"https://elyon.game.daum.net/?utm_source=daum&utm_medium=display&utm_campaign=2021-07-22_ER_launch&utm_content=tab_banner\"},\"recommendedGameImage1\":{\"source\":\"이터널 리턴\",\"title\":\"시즌6 진행 중!\",\"url\":\"https://er.game.daum.net/main?utm_source=daum&utm_medium=display&utm_campaign=2022-05-26_er_season6&utm_content=gametab\",\"imageUrl\":\"https://t1.daumcdn.net/daumtop_chanel/op/20220526120015355.png\"},\"recommendedGameImage2\":{\"source\":\"배틀그라운드\",\"title\":\"사녹의 귀환\",\"url\":\"http://pubg.kakaogames.com/\",\"imageUrl\":\"https://t1.daumcdn.net/daumtop_chanel/op/20220413055626519.png\"}},\"feeds\":{},\"teslas\":{},\"cabinets\":null,\"board\":false},{\"code\":2398,\"type\":\"PC_CHANNEL_TOGETHER\",\"items\":{\"op\":{\"title\":\"카카오같이가치\",\"url\":\"https://together.kakao.com/\"},\"image1\":{\"source\":\"온해피\",\"label\":\"\",\"title\":\"세계에서 가장 가난한 나라 '이곳'\",\"url\":\"https://together.kakao.com/fundraisings/96694\",\"imageUrl\":\"https://t1.daumcdn.net/daumtop_chanel/op/20220620110957380.png\"},\"image2\":{\"source\":\"산격종합사회복지관\",\"label\":null,\"title\":\"자전거의 핸들을 자세히 봐주세요\",\"url\":\"https://together.kakao.com/fundraisings/96993\",\"imageUrl\":\"https://t1.daumcdn.net/daumtop_chanel/op/20220620111026537.jpg\"},\"image3\":{\"source\":\"구립종로 노인종합복지관\",\"label\":null,\"title\":\"1인 1닭, 생각보다 어려운 진짜 이유\",\"url\":\"https://together.kakao.com/fundraisings/95775\",\"imageUrl\":\"https://t1.daumcdn.net/daumtop_chanel/op/20220620111052774\"},\"image4\":{\"source\":\"환경교육센터\",\"label\":\"\",\"title\":\"바닷가에 왜 냉장고가 있나요?\",\"url\":\"https://together.kakao.com/fundraisings/96597\",\"imageUrl\":\"https://t1.daumcdn.net/daumtop_chanel/op/20220620111125019.png\"},\"image5\":{\"source\":\"양지노인복지관\",\"label\":null,\"title\":\"어르신이 적어온 글의 놀라운 내용\",\"url\":\"https://together.kakao.com/fundraisings/96921\",\"imageUrl\":\"https://t1.daumcdn.net/daumtop_chanel/op/20220620111202960\"},\"image6\":{\"source\":\"봉화군 노인복지관\",\"label\":null,\"title\":\"계곡 바로 옆 초가집, 비상입니다\",\"url\":\"https://together.kakao.com/fundraisings/96477\",\"imageUrl\":\"https://t1.daumcdn.net/daumtop_chanel/op/20220620111229987.png\"},\"image7\":{\"source\":\"세계교육문화원\",\"label\":\"\",\"title\":\"뻥 뚫린 마스크에 숨겨진 엄청난 중요성\",\"url\":\"https://together.kakao.com/fundraisings/95847\",\"imageUrl\":\"https://t1.daumcdn.net/daumtop_chanel/op/20220620111254262.jpg\"},\"image8\":{\"source\":\"해피피플\",\"label\":\"\",\"title\":\"커피 찌꺼기로 이게 가능하다고요?\",\"url\":\"https://together.kakao.com/fundraisings/95835\",\"imageUrl\":\"https://t1.daumcdn.net/daumtop_chanel/op/20220620111402133.png\"}},\"feeds\":{\"pc_channel_together_recommend\":\"{\\\"link\\\":\\\"https://together.kakao.com/hello/essential/accumulated\\\",\\\"channels\\\":[{\\\"channelName\\\":\\\"일이 많아요\\\",\\\"link\\\":\\\"https://together.kakao.com/tags/%ED%9A%8C%EC%82%AC%EC%97%90%EC%84%9C\\\",\\\"image\\\":\\\"https://mk.kakaocdn.net/dn/together/images/daum_home/tag_list/12.png\\\"},{\\\"channelName\\\":\\\"심심해요\\\",\\\"link\\\":\\\"https://together.kakao.com/hello/essential/accumulated\\\",\\\"image\\\":\\\"https://mk.kakaocdn.net/dn/together/images/daum_home/tag_list/01.png\\\"},{\\\"channelName\\\":\\\"행복해요\\\",\\\"link\\\":\\\"https://together.kakao.com/tags/%ED%96%89%EB%B3%B5\\\",\\\"image\\\":\\\"https://mk.kakaocdn.net/dn/together/images/daum_home/tag_list/11.png\\\"},{\\\"channelName\\\":\\\"용기가 필요해~\\\",\\\"link\\\":\\\"https://together.kakao.com/tags/%EC%9A%A9%EA%B8%B0%EA%B0%80%ED%95%84%EC%9A%94%ED%95%A0%EB%95%8C\\\",\\\"image\\\":\\\"https://mk.kakaocdn.net/dn/together/images/daum_home/tag_list/06.png\\\"},{\\\"channelName\\\":\\\"고민이 있어요\\\",\\\"link\\\":\\\"https://together.kakao.com/tags/%EA%B3%A0%EB%AF%BC%EC%9D%B4%EC%9E%88%EC%9D%84%EB%95%8C\\\",\\\"image\\\":\\\"https://mk.kakaocdn.net/dn/together/images/daum_home/tag_list/04.png\\\"},{\\\"channelName\\\":\\\"쉬고 싶어요\\\",\\\"link\\\":\\\"https://together.kakao.com/tags/%EC%88%B2%EC%86%8D%EC%97%90%EC%84%9C?from=2\\\",\\\"image\\\":\\\"https://mk.kakaocdn.net/dn/together/images/daum_home/tag_list/09.png\\\"}]}\",\"pc_channel_together_best\":\"{\\\"link\\\":\\\"https://together.kakao.com/mind/sounds\\\",\\\"items\\\":[{\\\"contentTitle\\\":\\\"[힐링사운드] 추억이 많은 바닷가\\\",\\\"contentLink\\\":\\\"https://together.kakao.com/mind/55\\\"},{\\\"contentTitle\\\":\\\"[힐링사운드] 독서에 필요한 바다소리\\\",\\\"contentLink\\\":\\\"https://together.kakao.com/mind/54\\\"},{\\\"contentTitle\\\":\\\"[힐링사운드] 태양이 저무는 해변\\\",\\\"contentLink\\\":\\\"https://together.kakao.com/mind/154\\\"},{\\\"contentTitle\\\":\\\"[힐링사운드] 빗소리 아래 생각이 잠겨\\\",\\\"contentLink\\\":\\\"https://together.kakao.com/mind/39\\\"},{\\\"contentTitle\\\":\\\"[마음챙김] 정신없이 바쁠 때 듣기 좋은 명상\\\",\\\"contentLink\\\":\\\"https://together.kakao.com/mind/111\\\"}]}\",\"pc_channel_together_items\":\"[{\\\"imageUrl\\\":\\\"https://mud-kage.kakaocdn.net/dn/c0aAKD/btrAeJwGOko/ngeNEw5MLQl29CIxbSKp6K/c360.jpg\\\",\\\"label\\\":null,\\\"title\\\":\\\"아이와 함께하는 성장 기록\\\",\\\"url\\\":\\\"https://together.kakao.com/fundraisings/96125/story\\\",\\\"source\\\":\\\"파랑새종합사회복지관\\\"},{\\\"imageUrl\\\":\\\"https://mud-kage.kakaocdn.net/dn/d9qTV8/btrCib5PtTp/7IuEFbrr1zGXzEPjzBiiD0/c360.jpg\\\",\\\"label\\\":null,\\\"title\\\":\\\"홀로된 어르신들에게 든든한 식사 선물하기\\\",\\\"url\\\":\\\"https://together.kakao.com/fundraisings/96626/story\\\",\\\"source\\\":\\\"중구노인복지관\\\"},{\\\"imageUrl\\\":\\\"https://mud-kage.kakaocdn.net/dn/covXfo/btrB5ASUFZ4/TJ1I4S5DAxZgqPS1YRv3f0/c360.jpg\\\",\\\"label\\\":null,\\\"title\\\":\\\"“어르신, 안녕하세요쿠르트”\\\",\\\"url\\\":\\\"https://together.kakao.com/fundraisings/96643/story\\\",\\\"source\\\":\\\"종로노인종합복지관\\\"},{\\\"imageUrl\\\":\\\"https://mud-kage.kakaocdn.net/dn/LsaxE/btrAPfVTBAr/fxXK9MtQXw26zeoPaYMel1/c360.jpg\\\",\\\"label\\\":null,\\\"title\\\":\\\"반려동물, 사지 말고 입양해야 하는 이유\\\",\\\"url\\\":\\\"https://together.kakao.com/fundraisings/96287/story\\\",\\\"source\\\":\\\"사단법인 동물권행동 카라\\\"},{\\\"imageUrl\\\":\\\"https://mud-kage.kakaocdn.net/dn/c6ZoIr/btrCko4g29x/TTK8JViKpUIvkj1tGON2mk/c360.jpg\\\",\\\"label\\\":null,\\\"title\\\":\\\"비대면 시대 속 어르신들, 스마트폰이 어려워\\\",\\\"url\\\":\\\"https://together.kakao.com/fundraisings/96667/story\\\",\\\"source\\\":\\\"광진노인종합복지관\\\"},{\\\"imageUrl\\\":\\\"https://mud-kage.kakaocdn.net/dn/btKcV4/btrCwuKrDc0/tELTCQHBvfcHqixkDTLpg0/c360.jpg\\\",\\\"label\\\":null,\\\"title\\\":\\\"내가 심은 나무 한 그루가 모두를 위한 숲으로\\\",\\\"url\\\":\\\"https://together.kakao.com/fundraisings/96761/story\\\",\\\"source\\\":\\\"(사)평화의숲\\\"},{\\\"imageUrl\\\":\\\"https://mud-kage.kakaocdn.net/dn/ZqXoi/btrARgF4kNI/b2qf2nHJDMKapSeakKupO0/c360.jpg\\\",\\\"label\\\":null,\\\"title\\\":\\\"특별한 아이 수호의 이야기\\\",\\\"url\\\":\\\"https://together.kakao.com/fundraisings/96292/story\\\",\\\"source\\\":\\\"(사)굿피플\\\"},{\\\"imageUrl\\\":\\\"https://mud-kage.kakaocdn.net/dn/cG74II/btrBR9z0q7Q/f2OEdCVZKRiptEZkZ6N6J0/c360.jpg\\\",\\\"label\\\":null,\\\"title\\\":\\\"바다의 불편한 진실, 알고 있나요?\\\",\\\"url\\\":\\\"https://together.kakao.com/fundraisings/96597/story\\\",\\\"source\\\":\\\"사단법인 환경교육센터\\\"},{\\\"imageUrl\\\":\\\"https://mud-kage.kakaocdn.net/dn/cF392R/btrBUUJ3GvB/KB13kXDcXknVeI0ornE3Xk/img.png\\\",\\\"label\\\":null,\\\"title\\\":\\\"부족한 부모지만, 사랑해 우리 딸\\\",\\\"url\\\":\\\"https://together.kakao.com/fundraisings/96316/story\\\",\\\"source\\\":\\\"인천장애인종합복지관\\\"},{\\\"imageUrl\\\":\\\"https://mud-kage.kakaocdn.net/dn/tEIKH/btrBa7C4fpc/0NhWMwPm7Dner5ebpGKmGK/img.png\\\",\\\"label\\\":null,\\\"title\\\":\\\"수달이 돌아온 한강을 위하여\\\",\\\"url\\\":\\\"https://together.kakao.com/fundraisings/95937/story\\\",\\\"source\\\":\\\"사회적협동조합 한강\\\"},{\\\"imageUrl\\\":\\\"https://mud-kage.kakaocdn.net/dn/Tfo8H/btrDfXRYeuv/Fhz5TAMnJkoQjfZL4BU7G0/img.png\\\",\\\"label\\\":null,\\\"title\\\":\\\"쪽방촌 어르신들의 시원한 여름을 위해\\\",\\\"url\\\":\\\"https://together.kakao.com/fundraisings/96665/story\\\",\\\"source\\\":\\\"해피피플\\\"},{\\\"imageUrl\\\":\\\"https://mud-kage.kakaocdn.net/dn/RtcBY/btrBgb61kpO/jhR0ZBl3HJ3SxuFQuXJKU1/c360.jpg\\\",\\\"label\\\":null,\\\"title\\\":\\\"빛나는 자립준비청년, 너의 꿈을 응원할게!\\\",\\\"url\\\":\\\"https://together.kakao.com/fundraisings/96354/story\\\",\\\"source\\\":\\\"지파운데이션 사회적협동조합\\\"},{\\\"imageUrl\\\":\\\"https://mud-kage.kakaocdn.net/dn/bfPKp1/btrAxmaKXe1/1WfAybxAz4e0y3PWMT26Fk/c360.jpg\\\",\\\"label\\\":null,\\\"title\\\":\\\"예방 접종이 어린이의 생명과 안전을 지킵니다\\\",\\\"url\\\":\\\"https://together.kakao.com/fundraisings/96229/story\\\",\\\"source\\\":\\\"유니세프한국위원회\\\"},{\\\"imageUrl\\\":\\\"https://mud-kage.kakaocdn.net/dn/9fm7K/btrC7AQBlls/kqQ5TfK8uonOHBG0nkaxB1/c360.jpg\\\",\\\"label\\\":null,\\\"title\\\":\\\"보육원에 사는 어느 형제의 소원\\\",\\\"url\\\":\\\"https://together.kakao.com/fundraisings/96918/story\\\",\\\"source\\\":\\\"EBS나눔0700 위원회\\\"},{\\\"imageUrl\\\":\\\"https://mud-kage.kakaocdn.net/dn/sbk08/btrCtvV8fPT/DkMENDmMZ4DzFSmvZ6U5uk/img.jpg\\\",\\\"label\\\":null,\\\"title\\\":\\\"건강한 여름을 위해서는 아삭한 이 OO김치! \\\",\\\"url\\\":\\\"https://together.kakao.com/fundraisings/96558/story\\\",\\\"source\\\":\\\"전주장애인종합복지관\\\"}]\"},\"teslas\":{},\"cabinets\":null,\"board\":false}]},\"decoration\":{\"PC_PHOTOBOX\":{\"code\":2383,\"type\":\"PC_PHOTOBOX\",\"items\":{\"운영\":{\"title\":\"오늘의 포토\",\"url\":null}},\"feeds\":{\"daumtop_todayphoto_popular\":\"[{\\\"title\\\":\\\"[포토] 유연석, 다정한 미소\\\",\\\"imageUrl\\\":\\\"https://t1.daumcdn.net/news/202206/21/ilgansports/20220621205823825kunl.jpg\\\",\\\"source\\\":\\\"일간스포츠\\\",\\\"url\\\":\\\"https://gallery.v.daum.net/p/viewer/1007/20220621205822342\\\"},{\\\"title\\\":\\\"북한, '누리호' 의식..발사일 맞춰 또 '광명성 4호' 영화 방영\\\",\\\"imageUrl\\\":\\\"https://t1.daumcdn.net/news/202206/22/yonhap/20220622123424874mluz.jpg\\\",\\\"source\\\":\\\"연합뉴스\\\",\\\"url\\\":\\\"https://gallery.v.daum.net/p/viewer/5204870/20220622123424780\\\"},{\\\"title\\\":\\\"[서울포토] 열정 가득한 아트앤디자인 실기대회\\\",\\\"imageUrl\\\":\\\"https://t1.daumcdn.net/news/202206/22/seoul/20220622154113234allm.jpg\\\",\\\"source\\\":\\\"서울신문\\\",\\\"url\\\":\\\"https://gallery.v.daum.net/p/viewer/674200/20220622154112767\\\"},{\\\"title\\\":\\\"윤은혜, 곧 40살 되는 거 맞아? 대학생 같은 청순美 '폭발'[스타IN★]\\\",\\\"imageUrl\\\":\\\"https://t1.daumcdn.net/news/202206/22/starnews/20220622152123903ntec.jpg\\\",\\\"source\\\":\\\"스타뉴스\\\",\\\"url\\\":\\\"https://gallery.v.daum.net/p/viewer/256/20220622152122743\\\"},{\\\"title\\\":\\\"김빈우, ♥남편 끌어안고 '달달'..\\\\\\\"점심 데이트\\\\\\\" [리포트:컷]\\\",\\\"imageUrl\\\":\\\"https://t1.daumcdn.net/news/202206/22/tvreport/20220622140034137xgfy.jpg\\\",\\\"source\\\":\\\"TV리포트\\\",\\\"url\\\":\\\"https://gallery.v.daum.net/p/viewer/969/20220622140030131\\\"},{\\\"title\\\":\\\"이유리-정상훈 '앙숙 부부' [MK포토]\\\",\\\"imageUrl\\\":\\\"https://t1.daumcdn.net/news/202206/22/mksports/20220622145111210ojqs.jpg\\\",\\\"source\\\":\\\"MK스포츠\\\",\\\"url\\\":\\\"https://gallery.v.daum.net/p/viewer/977/20220622145110380\\\"},{\\\"title\\\":\\\"이동국-이재시 부녀 '이보다 잘 할 수 없다'[포토]\\\",\\\"imageUrl\\\":\\\"https://t1.daumcdn.net/news/202206/20/HockeyNewsKorea/20220620210505013afqz.jpg\\\",\\\"source\\\":\\\"MHN스포츠\\\",\\\"url\\\":\\\"https://gallery.v.daum.net/p/viewer/5038602/20220620210502908\\\"},{\\\"title\\\":\\\"레드벨벳 조이, 인형이 인사하네 [포토엔HD]\\\",\\\"imageUrl\\\":\\\"https://t1.daumcdn.net/news/202206/22/newsen/20220622134050866xemm.jpg\\\",\\\"source\\\":\\\"뉴스엔\\\",\\\"url\\\":\\\"https://gallery.v.daum.net/p/viewer/987/20220622134048382\\\"},{\\\"title\\\":\\\"김태리, '아가씨' 어린 히데코 만났다..꼭 끌어안고 투샷[스타IN★]\\\",\\\"imageUrl\\\":\\\"https://t1.daumcdn.net/news/202206/22/starnews/20220622154212464lywl.jpg\\\",\\\"source\\\":\\\"스타뉴스\\\",\\\"url\\\":\\\"https://gallery.v.daum.net/p/viewer/251/20220622154211822\\\"},{\\\"title\\\":\\\"설인아, 러블리 그 자체..사랑스러운 미소 [리포트:컷]\\\",\\\"imageUrl\\\":\\\"https://t1.daumcdn.net/news/202206/22/tvreport/20220622140101512pjss.jpg\\\",\\\"source\\\":\\\"TV리포트\\\",\\\"url\\\":\\\"https://gallery.v.daum.net/p/viewer/246/20220622140100150\\\"},{\\\"title\\\":\\\"'룸쉐어링' 최우성, 훈훈 비주얼에 풋풋 소년미까지 [N화보]\\\",\\\"imageUrl\\\":\\\"https://t1.daumcdn.net/news/202206/22/NEWS1/20220622150108146jeff.jpg\\\",\\\"source\\\":\\\"뉴스1\\\",\\\"url\\\":\\\"https://gallery.v.daum.net/p/viewer/261/20220622150106818\\\"},{\\\"title\\\":\\\"스트레이키즈 아이엔 '상큼한 레몬'[포토엔HD]\\\",\\\"imageUrl\\\":\\\"https://t1.daumcdn.net/news/202206/22/newsen/20220622123824303wtib.jpg\\\",\\\"source\\\":\\\"뉴스엔\\\",\\\"url\\\":\\\"https://gallery.v.daum.net/p/viewer/250/20220622123823836\\\"},{\\\"title\\\":\\\"[포토친구] 보리수가 있는 풍경\\\",\\\"imageUrl\\\":\\\"https://t1.daumcdn.net/news/202206/22/kppa/20220622150023131tdfp.jpg\\\",\\\"source\\\":\\\"포토친구\\\",\\\"url\\\":\\\"https://gallery.v.daum.net/p/viewer/379/20220622150022790\\\"},{\\\"title\\\":\\\"수입품목 할당관세 0%, 물가 잡힐까?\\\",\\\"imageUrl\\\":\\\"https://t1.daumcdn.net/news/202206/22/newsis/20220622141746931smam.jpg\\\",\\\"source\\\":\\\"뉴시스\\\",\\\"url\\\":\\\"https://gallery.v.daum.net/p/viewer/321090/20220622141746753\\\"},{\\\"title\\\":\\\"원자력 공장 방문한 윤석열 대통령 \\\\\\\"지난 5년간 탈원전 바보짓\\\\\\\" [뉴시스Pic]\\\",\\\"imageUrl\\\":\\\"https://t1.daumcdn.net/news/202206/22/newsis/20220622151456288jvez.jpg\\\",\\\"source\\\":\\\"뉴시스\\\",\\\"url\\\":\\\"https://gallery.v.daum.net/p/viewer/5018824/20220622151456399\\\"},{\\\"title\\\":\\\"PM 타고 관광지 순찰\\\",\\\"imageUrl\\\":\\\"https://t1.daumcdn.net/news/202206/22/kookje/20220622030220837yymj.jpg\\\",\\\"source\\\":\\\"국제신문\\\",\\\"url\\\":\\\"https://gallery.v.daum.net/p/viewer/5035065/20220622030219768\\\"},{\\\"title\\\":\\\"더불어민주당, '민생안정' 위한 서민금융 지원대책 간담회 [TF사진관]\\\",\\\"imageUrl\\\":\\\"https://t1.daumcdn.net/news/202206/22/THEFACT/20220622153926738blqt.jpg\\\",\\\"source\\\":\\\"더팩트\\\",\\\"url\\\":\\\"https://gallery.v.daum.net/p/viewer/5024184/20220622153923660\\\"},{\\\"title\\\":\\\"강제 퇴거 유예 연장 요구하는 브라질 시위대\\\",\\\"imageUrl\\\":\\\"https://t1.daumcdn.net/news/202206/22/newsis/20220622115959007glcs.jpg\\\",\\\"source\\\":\\\"뉴시스\\\",\\\"url\\\":\\\"https://gallery.v.daum.net/p/viewer/5031175/20220622115958800\\\"},{\\\"title\\\":\\\"푸틴 대통령 행사 배석한 쇼이구 러시아 국방장관\\\",\\\"imageUrl\\\":\\\"https://t1.daumcdn.net/news/202206/22/yonhap/20220622140313301yzyf.jpg\\\",\\\"source\\\":\\\"연합뉴스\\\",\\\"url\\\":\\\"https://gallery.v.daum.net/p/viewer/2322/20220622140313256\\\"},{\\\"title\\\":\\\"경부고속도로서 트럭 추돌 화재..50대 운전자 숨져\\\",\\\"imageUrl\\\":\\\"https://t1.daumcdn.net/news/202206/22/dgmbc/20220622102354474fqzl.jpg\\\",\\\"source\\\":\\\"대구MBC\\\",\\\"url\\\":\\\"https://gallery.v.daum.net/p/viewer/1518/20220622102350978\\\"},{\\\"title\\\":\\\"미해군 함정과 대치한 이란 혁명수비대 고속정\\\",\\\"imageUrl\\\":\\\"https://t1.daumcdn.net/news/202206/21/yonhap/20220621225815373dhgk.jpg\\\",\\\"source\\\":\\\"연합뉴스\\\",\\\"url\\\":\\\"https://gallery.v.daum.net/p/viewer/5031013/20220621225815290\\\"},{\\\"title\\\":\\\"경부고속도로서 트럭 추돌 화재..50대 운전자 숨져\\\",\\\"imageUrl\\\":\\\"https://t1.daumcdn.net/news/202206/22/dgmbc/20220622102354474fqzl.jpg\\\",\\\"source\\\":\\\"대구MBC\\\",\\\"url\\\":\\\"https://gallery.v.daum.net/p/viewer/1473/20220622102350978\\\"},{\\\"title\\\":\\\"[아하! 우주] 우주전쟁 예고? 러시아 미사일에 국제우주정거장 또 회피 기동\\\",\\\"imageUrl\\\":\\\"https://t1.daumcdn.net/news/202206/21/seoul/20220621152606808babt.jpg\\\",\\\"source\\\":\\\"서울신문\\\",\\\"url\\\":\\\"https://gallery.v.daum.net/p/viewer/1497/20220621152605667\\\"},{\\\"title\\\":\\\"파리 도심서 부산엑스포 알렸다..정부, BIE총회서 홍보 총력전\\\",\\\"imageUrl\\\":\\\"https://t1.daumcdn.net/news/202206/22/yonhap/20220622132936911xaex.jpg\\\",\\\"source\\\":\\\"연합뉴스\\\",\\\"url\\\":\\\"https://gallery.v.daum.net/p/viewer/5029622/20220622132936991\\\"},{\\\"title\\\":\\\"손희원 회장 '6.25 참전용사의 시구' [MK포토]\\\",\\\"imageUrl\\\":\\\"https://t1.daumcdn.net/news/202206/21/mksports/20220621185410050xake.jpg\\\",\\\"source\\\":\\\"MK스포츠\\\",\\\"url\\\":\\\"https://gallery.v.daum.net/p/viewer/5031202/20220621185408347\\\"},{\\\"title\\\":\\\"[포토뉴스]최고의 반려견 경쟁..美 '웨스트민스터 켄넬 클럽 도그쇼'\\\",\\\"imageUrl\\\":\\\"https://t1.daumcdn.net/news/202206/22/munhwa/20220622133508549tzgv.jpg\\\",\\\"source\\\":\\\"문화일보\\\",\\\"url\\\":\\\"https://gallery.v.daum.net/p/viewer/1476/20220622133506188\\\"},{\\\"title\\\":\\\"아스날, 중원 보강 성공! 비에이라 영입 완료..'5년 계약+476억 원' [공식발표]\\\",\\\"imageUrl\\\":\\\"https://t1.daumcdn.net/news/202206/22/poctan/20220622070141276obwi.jpg\\\",\\\"source\\\":\\\"OSEN\\\",\\\"url\\\":\\\"https://gallery.v.daum.net/p/viewer/327349/20220622070140162\\\"},{\\\"title\\\":\\\"세리나 윌리엄스, 1년 만의 복귀전 '복식 승리'\\\",\\\"imageUrl\\\":\\\"https://t1.daumcdn.net/news/202206/22/newsis/20220622082428520vwly.jpg\\\",\\\"source\\\":\\\"뉴시스\\\",\\\"url\\\":\\\"https://gallery.v.daum.net/p/viewer/13132/20220622082428633\\\"},{\\\"title\\\":\\\"세리머니 하는 정해영·박동원 배터리\\\",\\\"imageUrl\\\":\\\"https://t1.daumcdn.net/news/202206/21/yonhap/20220621214935672llcn.jpg\\\",\\\"source\\\":\\\"연합뉴스\\\",\\\"url\\\":\\\"https://gallery.v.daum.net/p/viewer/5030237/20220621214935348\\\"},{\\\"title\\\":\\\"김하성 1타점 적시타, SD 연장 끝 승리\\\",\\\"imageUrl\\\":\\\"https://t1.daumcdn.net/news/202206/22/newsis/20220622144909211fmyk.jpg\\\",\\\"source\\\":\\\"뉴시스\\\",\\\"url\\\":\\\"https://gallery.v.daum.net/p/viewer/5145066/20220622144909262\\\"}]\"}},\"HEADER_WEATHER\":{\"code\":2384,\"type\":\"HEADER_WEATHER\",\"items\":{},\"feeds\":{\"header_weather_json\":\"[{\\\"region\\\":\\\"서울특별시\\\",\\\"temperature\\\":\\\"31\\\",\\\"weatherIconName\\\":\\\"흐림\\\",\\\"weatherIconNightYn\\\":\\\"N\\\",\\\"weatherIconCode\\\":\\\"4\\\"},{\\\"region\\\":\\\"경기도\\\",\\\"temperature\\\":\\\"29\\\",\\\"weatherIconName\\\":\\\"흐림\\\",\\\"weatherIconNightYn\\\":\\\"N\\\",\\\"weatherIconCode\\\":\\\"4\\\"},{\\\"region\\\":\\\"인천광역시\\\",\\\"temperature\\\":\\\"30\\\",\\\"weatherIconName\\\":\\\"흐림\\\",\\\"weatherIconNightYn\\\":\\\"N\\\",\\\"weatherIconCode\\\":\\\"4\\\"},{\\\"region\\\":\\\"대구광역시\\\",\\\"temperature\\\":\\\"37\\\",\\\"weatherIconName\\\":\\\"맑음\\\",\\\"weatherIconNightYn\\\":\\\"N\\\",\\\"weatherIconCode\\\":\\\"1\\\"},{\\\"region\\\":\\\"대전광역시\\\",\\\"temperature\\\":\\\"34\\\",\\\"weatherIconName\\\":\\\"구름많음\\\",\\\"weatherIconNightYn\\\":\\\"N\\\",\\\"weatherIconCode\\\":\\\"3\\\"},{\\\"region\\\":\\\"광주광역시\\\",\\\"temperature\\\":\\\"33\\\",\\\"weatherIconName\\\":\\\"맑음\\\",\\\"weatherIconNightYn\\\":\\\"N\\\",\\\"weatherIconCode\\\":\\\"1\\\"},{\\\"region\\\":\\\"부산광역시\\\",\\\"temperature\\\":\\\"31\\\",\\\"weatherIconName\\\":\\\"맑음\\\",\\\"weatherIconNightYn\\\":\\\"N\\\",\\\"weatherIconCode\\\":\\\"1\\\"},{\\\"region\\\":\\\"울산광역시\\\",\\\"temperature\\\":\\\"30\\\",\\\"weatherIconName\\\":\\\"맑음\\\",\\\"weatherIconNightYn\\\":\\\"N\\\",\\\"weatherIconCode\\\":\\\"1\\\"},{\\\"region\\\":\\\"경상북도\\\",\\\"temperature\\\":\\\"28\\\",\\\"weatherIconName\\\":\\\"맑음\\\",\\\"weatherIconNightYn\\\":\\\"N\\\",\\\"weatherIconCode\\\":\\\"1\\\"},{\\\"region\\\":\\\"강원도\\\",\\\"temperature\\\":\\\"33\\\",\\\"weatherIconName\\\":\\\"흐림\\\",\\\"weatherIconNightYn\\\":\\\"N\\\",\\\"weatherIconCode\\\":\\\"4\\\"},{\\\"region\\\":\\\"강원도\\\",\\\"temperature\\\":\\\"31\\\",\\\"weatherIconName\\\":\\\"흐림\\\",\\\"weatherIconNightYn\\\":\\\"N\\\",\\\"weatherIconCode\\\":\\\"4\\\"},{\\\"region\\\":\\\"인천광역시\\\",\\\"temperature\\\":\\\"22\\\",\\\"weatherIconName\\\":\\\"구름많음\\\",\\\"weatherIconNightYn\\\":\\\"N\\\",\\\"weatherIconCode\\\":\\\"3\\\"},{\\\"region\\\":\\\"충청북도\\\",\\\"temperature\\\":\\\"34\\\",\\\"weatherIconName\\\":\\\"맑음\\\",\\\"weatherIconNightYn\\\":\\\"N\\\",\\\"weatherIconCode\\\":\\\"1\\\"},{\\\"region\\\":\\\"전라북도\\\",\\\"temperature\\\":\\\"31\\\",\\\"weatherIconName\\\":\\\"맑음\\\",\\\"weatherIconNightYn\\\":\\\"N\\\",\\\"weatherIconCode\\\":\\\"1\\\"},{\\\"region\\\":\\\"전라남도\\\",\\\"temperature\\\":\\\"27\\\",\\\"weatherIconName\\\":\\\"맑음\\\",\\\"weatherIconNightYn\\\":\\\"N\\\",\\\"weatherIconCode\\\":\\\"1\\\"},{\\\"region\\\":\\\"전라남도\\\",\\\"temperature\\\":\\\"28\\\",\\\"weatherIconName\\\":\\\"맑음\\\",\\\"weatherIconNightYn\\\":\\\"N\\\",\\\"weatherIconCode\\\":\\\"1\\\"},{\\\"region\\\":\\\"제주특별자치도\\\",\\\"temperature\\\":\\\"26\\\",\\\"weatherIconName\\\":\\\"구름많음\\\",\\\"weatherIconNightYn\\\":\\\"N\\\",\\\"weatherIconCode\\\":\\\"3\\\"},{\\\"region\\\":\\\"경상북도\\\",\\\"temperature\\\":\\\"35\\\",\\\"weatherIconName\\\":\\\"맑음\\\",\\\"weatherIconNightYn\\\":\\\"N\\\",\\\"weatherIconCode\\\":\\\"1\\\"},{\\\"region\\\":\\\"경상남도\\\",\\\"temperature\\\":\\\"31\\\",\\\"weatherIconName\\\":\\\"맑음\\\",\\\"weatherIconNightYn\\\":\\\"N\\\",\\\"weatherIconCode\\\":\\\"1\\\"}]\"}},\"HOT_SEARCHED_WORD\":{\"code\":2385,\"type\":\"HOT_SEARCHED_WORD\",\"items\":{},\"feeds\":{\"hot_searched_word\":\"[[{\\\"keyword\\\":\\\"코로나19 발생현황\\\",\\\"url\\\":\\\"https://search.daum.net/search?w=tot&q=%EC%BD%94%EB%A1%9C%EB%82%9819+%EB%B0%9C%EC%83%9D%ED%98%84%ED%99%A9&DA=NPI\\\"},{\\\"keyword\\\":\\\"아프간 강진\\\",\\\"url\\\":\\\"https://search.daum.net/search?w=tot&q=%EC%95%84%ED%94%84%EA%B0%84+%EA%B0%95%EC%A7%84&DA=NPI&rtmaxcoll=NNS\\\"},{\\\"keyword\\\":\\\"금팔찌파는곳\\\",\\\"url\\\":\\\"https://search.daum.net/search?w=tot&q=%EA%B8%88%ED%8C%94%EC%B0%8C&DA=NPT\\\"},{\\\"keyword\\\":\\\"박서준 화보\\\",\\\"url\\\":\\\"https://search.daum.net/search?w=tot&q=%EB%B0%95%EC%84%9C%EC%A4%80+%ED%99%94%EB%B3%B4&DA=NPI&rtmaxcoll=NNS\\\"},{\\\"keyword\\\":\\\"꽃배달서비스추천\\\",\\\"url\\\":\\\"https://search.daum.net/search?w=tot&q=%EA%BD%83%EB%B0%B0%EB%8B%AC%EC%84%9C%EB%B9%84%EC%8A%A4%EC%B6%94%EC%B2%9C&DA=NPT\\\"}],[{\\\"keyword\\\":\\\"코스피 지수\\\",\\\"url\\\":\\\"https://search.daum.net/search?w=tot&q=%EC%BD%94%EC%8A%A4%ED%94%BC+%EC%A7%80%EC%88%98&DA=NPI&rtmaxcoll=HSU\\\"},{\\\"keyword\\\":\\\"중국 댓글검열\\\",\\\"url\\\":\\\"https://search.daum.net/search?w=tot&q=%EC%A4%91%EA%B5%AD+%EB%8C%93%EA%B8%80%EA%B2%80%EC%97%B4&DA=NPI&rtmaxcoll=NNS\\\"},{\\\"keyword\\\":\\\"아파트인테리어\\\",\\\"url\\\":\\\"https://search.daum.net/search?w=tot&q=%EC%95%84%ED%8C%8C%ED%8A%B8%EC%9D%B8%ED%85%8C%EB%A6%AC%EC%96%B4&DA=NPT\\\"},{\\\"keyword\\\":\\\"성훈 종영소감\\\",\\\"url\\\":\\\"https://search.daum.net/search?w=tot&q=%EC%84%B1%ED%9B%88+%EC%A2%85%EC%98%81%EC%86%8C%EA%B0%90&DA=NPI&rtmaxcoll=NNS\\\"},{\\\"keyword\\\":\\\"4인용소파추천\\\",\\\"url\\\":\\\"https://search.daum.net/search?w=tot&q=4%EC%9D%B8%EC%9A%A9%EC%86%8C%ED%8C%8C%EC%B6%94%EC%B2%9C&DA=NPT\\\"}],[{\\\"keyword\\\":\\\"싸이 공식입장\\\",\\\"url\\\":\\\"https://search.daum.net/search?w=tot&q=%EC%8B%B8%EC%9D%B4+%EA%B3%B5%EC%8B%9D%EC%9E%85%EC%9E%A5&DA=NPI&rtmaxcoll=NNS\\\"},{\\\"keyword\\\":\\\"조재윤 전속계약\\\",\\\"url\\\":\\\"https://search.daum.net/search?w=tot&q=%EC%A1%B0%EC%9E%AC%EC%9C%A4+%EC%A0%84%EC%86%8D%EA%B3%84%EC%95%BD&DA=NPI&rtmaxcoll=NNS\\\"},{\\\"keyword\\\":\\\"장바구니\\\",\\\"url\\\":\\\"https://search.daum.net/search?w=tot&q=%EC%9E%A5%EB%B0%94%EA%B5%AC%EB%8B%88&DA=NPT\\\"},{\\\"keyword\\\":\\\"카드 쇼케이스\\\",\\\"url\\\":\\\"https://search.daum.net/search?w=tot&q=%EC%B9%B4%EB%93%9C+%EC%87%BC%EC%BC%80%EC%9D%B4%EC%8A%A4&DA=NPI&rtmaxcoll=NNS\\\"},{\\\"keyword\\\":\\\"보일러비교\\\",\\\"url\\\":\\\"https://search.daum.net/search?w=tot&q=%EB%B3%B4%EC%9D%BC%EB%9F%AC&DA=NPT\\\"}]]\"}},\"PC_FOOTER_NOTICE\":{\"code\":2386,\"type\":\"PC_FOOTER_NOTICE\",\"items\":{\"notice\":{\"notice2\":\"{\\\"title\\\":\\\"\\\",\\\"url\\\":\\\"\\\"}\",\"notice1\":\"{\\\"title\\\":\\\"\\\",\\\"url\\\":\\\"\\\"}\",\"notice0\":\"{\\\"title\\\":\\\"[Daum사전] 단어장 Daum계정 지원종료 안내\\\",\\\"url\\\":\\\"https://magazine.daum.net/daum_notice/62b04a0124835d37470bcdc1?view=embed\\\"}\"}},\"feeds\":{}},\"PC_CHANNEL_NATIVE_AD\":{\"code\":2387,\"type\":\"PC_CHANNEL_NATIVE_AD\",\"items\":{\"op\":{\"status\":\"on\"}},\"feeds\":{}}},\"user\":{\"login\":false,\"integration\":false,\"daumUser\":false,\"talkUser\":false,\"profileImage\":null,\"cafeCount\":0,\"mailCount\":0,\"blogNewIcon\":false,\"nick\":null},\"cabinets\":{}},\"status\":{\"code\":200,\"reason\":\"OK\"}}; </script> </head> <body> <noscript> 이 사이트의 기능을 모두 활용하기 위해서는 자바스크립트를 활성화 시킬 필요가 있습니다. <a href=\"https://www.enable-javascript.com/ko/\"> 브라우저에서 자바스크립트를 활성화하는 방법</a >을 참고 하세요. </noscript> <script src=\"https://t1.daumcdn.net/tiara/js/v1/tiara.min.js\" type=\"text/javascript\"></script> <script src=\"https://t1.daumcdn.net/top/tiller-pc/lib/1636937121956/polyfill.min.js\" type=\"text/javascript\" ></script> <script src=\"https://t1.daumcdn.net/top/tiller-pc/h/production/20220616_153208/index.js\" ></script> <script src=\"https://t1.daumcdn.net/kas/static/ba.min.js\" type=\"text/javascript\" defer></script> <script src=\"https://t1.daumcdn.net/top/tiller-pc/1655174491872/tiller-pc-suggest.js\" type=\"text/javascript\" defer ></script> </body></html>\n"
     ]
    }
   ],
   "source": [
    "import urllib.request as req\n",
    "import re\n",
    "\n",
    "rep = req.urlopen(\"https://daum.net\")\n",
    "data = rep.read().decode(\"utf-8\")\n",
    "print(data)"
   ]
  },
  {
   "cell_type": "code",
   "execution_count": 112,
   "id": "2b52abdf-ef8f-4720-9b94-fda08a17c827",
   "metadata": {},
   "outputs": [
    {
     "data": {
      "text/plain": [
       "['https://t1.daumcdn.net/kas/static/na.min.js',\n",
       " 'http://tktapi.melon.com/kmt/landing.js',\n",
       " 'http://tktapi.melon.com/kmt/landing.js',\n",
       " 'http://tktapi.melon.com/kmt/landing.js',\n",
       " 'http://tktapi.melon.com/kmt/landing.js',\n",
       " 'https://t1.daumcdn.net/tiara/js/v1/tiara.min.js',\n",
       " 'https://t1.daumcdn.net/kas/static/ba.min.js']"
      ]
     },
     "execution_count": 112,
     "metadata": {},
     "output_type": "execute_result"
    }
   ],
   "source": [
    "re.findall(\"ht[:/.\\w]*[.]js\",data)"
   ]
  },
  {
   "cell_type": "code",
   "execution_count": 114,
   "id": "00573804-6e37-414d-8dee-b1b631e23632",
   "metadata": {},
   "outputs": [
    {
     "data": {
      "text/plain": [
       "<re.Match object; span=(0, 6), match='python'>"
      ]
     },
     "execution_count": 114,
     "metadata": {},
     "output_type": "execute_result"
    }
   ],
   "source": [
    "p = re.compile(\"[a-z]+\")\n",
    "p.match(\"python12345\")"
   ]
  },
  {
   "cell_type": "code",
   "execution_count": 117,
   "id": "4eae6091-eacf-4bf9-9a92-537f0f175e5e",
   "metadata": {},
   "outputs": [
    {
     "name": "stdout",
     "output_type": "stream",
     "text": [
      "None\n"
     ]
    }
   ],
   "source": [
    "print(p.match(\"12345python12345\"))"
   ]
  },
  {
   "cell_type": "code",
   "execution_count": 118,
   "id": "4e9c812a-5815-495e-91c9-8c2388e1a654",
   "metadata": {},
   "outputs": [
    {
     "data": {
      "text/plain": [
       "<re.Match object; span=(5, 11), match='python'>"
      ]
     },
     "execution_count": 118,
     "metadata": {},
     "output_type": "execute_result"
    }
   ],
   "source": [
    "p.search(\"12345python12345\")"
   ]
  },
  {
   "cell_type": "code",
   "execution_count": 119,
   "id": "3728d281-8b32-4e5c-8032-1ceee9e57814",
   "metadata": {},
   "outputs": [
    {
     "data": {
      "text/plain": [
       "<re.Match object; span=(5, 11), match='python'>"
      ]
     },
     "execution_count": 119,
     "metadata": {},
     "output_type": "execute_result"
    }
   ],
   "source": [
    "p.search(\"12345python12345python\")"
   ]
  },
  {
   "cell_type": "code",
   "execution_count": 121,
   "id": "0b5306ca-cdba-4837-854a-31110e475ddd",
   "metadata": {},
   "outputs": [
    {
     "data": {
      "text/plain": [
       "['python', 'python']"
      ]
     },
     "execution_count": 121,
     "metadata": {},
     "output_type": "execute_result"
    }
   ],
   "source": [
    "p.findall(\"12345python12345python\")"
   ]
  },
  {
   "cell_type": "code",
   "execution_count": 122,
   "id": "5e53a8e8-ef96-4931-b1b9-c49f3406cc3e",
   "metadata": {},
   "outputs": [
    {
     "data": {
      "text/plain": [
       "<callable_iterator at 0xf6ad8d9dc0>"
      ]
     },
     "execution_count": 122,
     "metadata": {},
     "output_type": "execute_result"
    }
   ],
   "source": [
    "p.finditer(\"12345python12345python\")"
   ]
  },
  {
   "cell_type": "code",
   "execution_count": 124,
   "id": "afd097fc-b288-46f6-a714-ce17922f7e54",
   "metadata": {},
   "outputs": [
    {
     "name": "stdout",
     "output_type": "stream",
     "text": [
      "<re.Match object; span=(5, 11), match='python'>\n",
      "<re.Match object; span=(16, 22), match='python'>\n"
     ]
    }
   ],
   "source": [
    "for i in p.finditer(\"12345python12345python\"):\n",
    "    print(i)"
   ]
  },
  {
   "cell_type": "code",
   "execution_count": 127,
   "id": "cd02071e-f5fa-402e-a68e-de1f4636ab07",
   "metadata": {},
   "outputs": [
    {
     "data": {
      "text/plain": [
       "'12345******12345******'"
      ]
     },
     "execution_count": 127,
     "metadata": {},
     "output_type": "execute_result"
    }
   ],
   "source": [
    "p.sub(\"******\",\"12345python12345python\") #바꾸기"
   ]
  },
  {
   "cell_type": "code",
   "execution_count": 129,
   "id": "42e5f94e-abf7-40af-91f4-4ae90d205eba",
   "metadata": {},
   "outputs": [
    {
     "data": {
      "text/plain": [
       "re.Pattern"
      ]
     },
     "execution_count": 129,
     "metadata": {},
     "output_type": "execute_result"
    }
   ],
   "source": [
    "type(p)  #패턴객체"
   ]
  },
  {
   "cell_type": "code",
   "execution_count": 130,
   "id": "dcb5c1c0-dee6-48f6-bbca-6adade71307f",
   "metadata": {},
   "outputs": [
    {
     "data": {
      "text/plain": [
       "['python', 'python']"
      ]
     },
     "execution_count": 130,
     "metadata": {},
     "output_type": "execute_result"
    }
   ],
   "source": [
    "sentence = \"12345python12345python\"\n",
    "p.findall(sentence)"
   ]
  },
  {
   "cell_type": "code",
   "execution_count": 141,
   "id": "ff15f4cb-6570-4bd5-9540-f5821b37dc9e",
   "metadata": {},
   "outputs": [
    {
     "data": {
      "text/plain": [
       "'python'"
      ]
     },
     "execution_count": 141,
     "metadata": {},
     "output_type": "execute_result"
    }
   ],
   "source": [
    "# .group() 메소드 \n",
    "match = p.search(\"12345python12345python\")\n",
    "match.group()     # 매치된 문자열을 돌려준다"
   ]
  },
  {
   "cell_type": "code",
   "execution_count": 139,
   "id": "5c58f773-5b86-486b-bdeb-4712cd9ca400",
   "metadata": {},
   "outputs": [
    {
     "name": "stdout",
     "output_type": "stream",
     "text": [
      "python\n",
      "5\n",
      "11\n",
      "(5, 11)\n",
      "\n",
      "python\n",
      "16\n",
      "22\n",
      "(16, 22)\n",
      "\n"
     ]
    }
   ],
   "source": [
    "sentence = '12345python12345python'\n",
    "for i in p.finditer(sentence):\n",
    "    print(i.group()) \n",
    "    print(i.start())  # 문자열은 시작 인덱스번호\n",
    "    print(i.end())    # 문자열의 끝 인덱스번호\n",
    "    print(i.span())\n",
    "    print()"
   ]
  },
  {
   "cell_type": "code",
   "execution_count": null,
   "id": "bbf46f52-3f74-46c9-89a3-27301f881dfd",
   "metadata": {},
   "outputs": [],
   "source": []
  }
 ],
 "metadata": {
  "kernelspec": {
   "display_name": "Python 3 (ipykernel)",
   "language": "python",
   "name": "python3"
  },
  "language_info": {
   "codemirror_mode": {
    "name": "ipython",
    "version": 3
   },
   "file_extension": ".py",
   "mimetype": "text/x-python",
   "name": "python",
   "nbconvert_exporter": "python",
   "pygments_lexer": "ipython3",
   "version": "3.8.13"
  },
  "toc": {
   "base_numbering": 1,
   "nav_menu": {},
   "number_sections": true,
   "sideBar": true,
   "skip_h1_title": false,
   "title_cell": "Table of Contents",
   "title_sidebar": "Contents",
   "toc_cell": false,
   "toc_position": {},
   "toc_section_display": true,
   "toc_window_display": true
  },
  "toc-autonumbering": false,
  "toc-showcode": false,
  "toc-showmarkdowntxt": false
 },
 "nbformat": 4,
 "nbformat_minor": 5
}
