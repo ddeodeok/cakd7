{
 "cells": [
  {
   "cell_type": "markdown",
   "id": "b3e7507a",
   "metadata": {},
   "source": [
    "## 과제 0726_1\n",
    "네이버 영화 랭킹 가져와서 조회순 전체 영화제목을 50개를 출력하세요(출력방식 1위: 외계+인 1부)"
   ]
  },
  {
   "cell_type": "code",
   "execution_count": 1,
   "id": "f2e8615b",
   "metadata": {},
   "outputs": [
    {
     "name": "stdout",
     "output_type": "stream",
     "text": [
      "1위: 외계+인 1부\n",
      "2위: 탑건: 매버릭\n",
      "3위: 한산: 용의 출현\n",
      "4위: 헤어질 결심\n",
      "5위: 범죄도시2\n",
      "6위: 그레이 맨\n",
      "7위: 토르: 러브 앤 썬더\n",
      "8위: 미니언즈2\n",
      "9위: 마녀(魔女) Part2. The Other One\n",
      "10위: 비상선언\n",
      "11위: 더 킬러: 죽어도 되는 아이\n",
      "12위: 명탐정 코난: 할로윈의 신부\n",
      "13위: 엘비스\n",
      "14위: 뒤틀린 집\n",
      "15위: 헌트\n",
      "16위: 썸머 필름을 타고!\n",
      "17위: 아이를 위한 아이\n",
      "18위: 멘\n",
      "19위: 브로커\n",
      "20위: 놉\n",
      "21위: 쥬라기 월드: 도미니언\n",
      "22위: 뽀로로 극장판 드래곤캐슬 대모험\n",
      "23위: 메모리\n",
      "24위: 닥터 스트레인지: 대혼돈의 멀티버스\n",
      "25위: 임파서블 러브\n",
      "26위: 범죄도시\n",
      "27위: 핸썸\n",
      "28위: 오싹한 동거\n",
      "29위: 스파이형 모델\n",
      "30위: 굿 럭 투 유, 리오 그랜드\n",
      "31위: 극장판 주술회전 0\n",
      "32위: 로스트 도터\n",
      "33위: 섹스 앤 퓨리\n",
      "34위: 탑건\n",
      "35위: 군다\n",
      "36위: 명량\n",
      "37위: 버즈 라이트이어\n",
      "38위: 큐어\n",
      "39위: 니얼굴\n",
      "40위: VR 파이터\n",
      "41위: 리미트\n",
      "42위: 특송\n",
      "43위: 불릿 트레인\n",
      "44위: 마녀\n",
      "45위: 귀멸의 칼날: 아사쿠사 편\n",
      "46위: 보스 베이비 2\n",
      "47위: 감동주의보\n",
      "48위: DC 리그 오브 슈퍼-펫\n",
      "49위: 클라우스\n",
      "50위: 극장판 도라에몽: 진구의 우주소전쟁 리틀스타워즈 2021\n"
     ]
    }
   ],
   "source": [
    "# Q. 네이버 영화 랭킹 가져와서 첫번째 영화제목을 출력하세요\n",
    "from bs4 import BeautifulSoup\n",
    "import requests as rq\n",
    "import re\n",
    "\n",
    "url = 'https://movie.naver.com/movie/sdb/rank/rmovie.naver'\n",
    "html = rq.get(url) # 사이트 열기\n",
    "html = html.text # 내용 추출\n",
    "bs = BeautifulSoup(html,'lxml') #  HTML문서는 단순히 String에 지나지 않으니, lxml을 통하여 의미있는 HTML문서로 변환\n",
    "title = bs.find_all('div',class_='tit3') # 모든 div 태그에서 class 이름이 tit3 인 것들만 추출\n",
    "\n",
    "for i,t in enumerate(title): \n",
    "    t = re.sub('^\\s+|\\s+$|\\s{2,}','',t.text) # 각 태그의 문자열을 불러서 불필요한 공백을 없앤다. \n",
    "    print(f'{i+1}위: {t}') # index가 0부터 시작하니 +1"
   ]
  },
  {
   "cell_type": "code",
   "execution_count": null,
   "id": "d1eabca7",
   "metadata": {},
   "outputs": [],
   "source": []
  }
 ],
 "metadata": {
  "kernelspec": {
   "display_name": "Python 3 (ipykernel)",
   "language": "python",
   "name": "python3"
  },
  "language_info": {
   "codemirror_mode": {
    "name": "ipython",
    "version": 3
   },
   "file_extension": ".py",
   "mimetype": "text/x-python",
   "name": "python",
   "nbconvert_exporter": "python",
   "pygments_lexer": "ipython3",
   "version": "3.9.12"
  }
 },
 "nbformat": 4,
 "nbformat_minor": 5
}
