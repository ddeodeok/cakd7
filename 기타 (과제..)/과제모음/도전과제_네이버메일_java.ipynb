{
 "cells": [
  {
   "cell_type": "markdown",
   "id": "5ebd4d34",
   "metadata": {},
   "source": [
    "## 도전과제\n",
    "네이버 로그인 후, 메일 리스트 출력하기 / 네이버 자동로그인 방지 /pyperclip ??"
   ]
  },
  {
   "cell_type": "code",
   "execution_count": null,
   "id": "aef299db",
   "metadata": {},
   "outputs": [],
   "source": [
    "import time\n",
    "import selenium\n",
    "from selenium import webdriver\n",
    "\n",
    "path = 'C:/cakd7/Tool/chromedriver.exe'\n",
    "# driver.execute_script(\"alert('자바스크립트 코드 적용!!');\") #자바 코드 실행\n",
    "driver = webdriver.Chrome(path)\n",
    "driver.get(url ='https://www.naver.com/')\n",
    "element = driver.find_element(By.CLASS_NAME, 'link_login')\n",
    "element.click()\n",
    "\n",
    "idBox = driver.find_element(By.ID, 'id');\n",
    "pwBox = driver.find_element(By.ID, 'pw');\n",
    "\n",
    "n_id  = ''\n",
    "n_pw = ''\n",
    "\n",
    "driver.execute_script(\"arguments[0].value=arguments[1]\", idBox,n_id); #빠르게 붙여넣어라\n",
    "time.sleep(1)\n",
    "driver.execute_script(\"arguments[0].value=arguments[1]\", pwBox,n_pw);\n",
    "# element.send_keys(n_pw) #입력해주기\n",
    "time.sleep(2)\n",
    "element = driver.find_element(By.CLASS_NAME, 'btn_login')\n",
    "element.click()\n",
    "\n",
    "time.sleep(2)\n",
    "# 로그인 등록안함\n",
    "element = driver.find_element(By.ID, 'new.dontsave')\n",
    "element.click()\n",
    "\n",
    "time.sleep(2)\n",
    "#메일들어가기\n",
    "element = driver.find_element(By.CLASS_NAME, 'ico_mail')\n",
    "element.click()\n",
    "\n",
    "#메일 목록\n",
    "elements_title = driver.find_elements(By.CLASS_NAME,'mail_title')\n",
    "elements_from = driver.find_elements(By.CSS_SELECTOR,'#list_for_view div.name._ccr\\(lst\\.from\\) > a')\n",
    "# for element in elements_from:\n",
    "#     elements_from2=element.find_elements(By.TAG_NAME, 'a')\n",
    "\n",
    "#예쁘게 출력\n",
    "import pandas as pd\n",
    "mail=pd.DataFrame(columns=['from','mail_title'])\n",
    "\n",
    "i=0\n",
    "for element in elements_title:\n",
    "    mail.loc[i,'mail_title'] = element.text \n",
    "    i+=1\n",
    "\n",
    "i=0\n",
    "for element in elements_from:\n",
    "    mail.loc[i,'from'] = element.text\n",
    "    i+=1 \n",
    "    \n",
    "# # 종료\n",
    "sleep(3)\n",
    "driver.close()\n",
    "\n"
   ]
  },
  {
   "cell_type": "markdown",
   "id": "7ba83e2e",
   "metadata": {},
   "source": [
    "## 강사님 풀이"
   ]
  },
  {
   "cell_type": "code",
   "execution_count": null,
   "id": "a0ff8b2f",
   "metadata": {},
   "outputs": [],
   "source": [
    "import time\n",
    "import selenium\n",
    "from selenium import webdriver\n",
    "from selenium.webdriver.common.by import By\n",
    "\n",
    "path = 'C:/cakd7/Tool/chromedriver.exe'\n",
    "driver = webdriver.Chrome(path)\n",
    "driver.get('https://www.naver.com')\n",
    "driver.maximize_window()\n",
    "time.sleep(1)\n",
    "element = driver.find_element(By.CLASS_NAME, 'link_login')\n",
    "element.click()\n",
    "\n",
    "id = ''\n",
    "pw = ''\n",
    "\n",
    "# execute_script 함수를 사용하면 자바스크립트 코드를 실행\n",
    "# js는 getElementById('id').value로 값을 가져올 수 있다.\n",
    "driver.execute_script(\"document.getElementById('id').value=\\'\" + id + \"\\'\") # text \n",
    "\n",
    "time.sleep(1)\n",
    "driver.execute_script(\"document.getElementById('pw').value=\\'\" + pw + \"\\'\")\n",
    "time.sleep(1)\n",
    "element = driver.find_element(By.CLASS_NAME, 'btn_login')\n",
    "element.click()\n",
    "# print(driver.page_source)\n",
    "\n",
    "# 로그인 등록안함\n",
    "element = driver.find_element(By.ID, 'new.dontsave')\n",
    "element.click()\n",
    "\n",
    "# 이메일\n",
    "driver.maximize_window()\n",
    "driver.find_element(By.CSS_SELECTOR, '#NM_FAVORITE > div.group_nav > ul.list_nav.type_fix > li:nth-child(1) > a').click()\n",
    "\n",
    "elements = driver.find_elements(By.CSS_SELECTOR,'#list_for_view > ol > li> div > div.subject')\n",
    "for e in elements:\n",
    "    print(e.text)\n",
    "    \n",
    "driver.close()\n",
    "driver.quit()\n"
   ]
  },
  {
   "cell_type": "code",
   "execution_count": null,
   "id": "166eeff8",
   "metadata": {},
   "outputs": [],
   "source": []
  },
  {
   "cell_type": "code",
   "execution_count": null,
   "id": "0ad72c46",
   "metadata": {},
   "outputs": [],
   "source": []
  },
  {
   "cell_type": "code",
   "execution_count": null,
   "id": "6f4ecfe8",
   "metadata": {},
   "outputs": [],
   "source": []
  },
  {
   "cell_type": "code",
   "execution_count": null,
   "id": "f9108b69",
   "metadata": {},
   "outputs": [],
   "source": []
  },
  {
   "cell_type": "code",
   "execution_count": null,
   "id": "908f59d5",
   "metadata": {},
   "outputs": [],
   "source": []
  },
  {
   "cell_type": "code",
   "execution_count": null,
   "id": "d88c739a",
   "metadata": {},
   "outputs": [],
   "source": []
  },
  {
   "cell_type": "code",
   "execution_count": null,
   "id": "d3353324",
   "metadata": {},
   "outputs": [],
   "source": []
  },
  {
   "cell_type": "code",
   "execution_count": null,
   "id": "f188b24d",
   "metadata": {},
   "outputs": [],
   "source": []
  }
 ],
 "metadata": {
  "kernelspec": {
   "display_name": "Python 3 (ipykernel)",
   "language": "python",
   "name": "python3"
  },
  "language_info": {
   "codemirror_mode": {
    "name": "ipython",
    "version": 3
   },
   "file_extension": ".py",
   "mimetype": "text/x-python",
   "name": "python",
   "nbconvert_exporter": "python",
   "pygments_lexer": "ipython3",
   "version": "3.8.13"
  },
  "toc": {
   "base_numbering": 1,
   "nav_menu": {},
   "number_sections": true,
   "sideBar": true,
   "skip_h1_title": false,
   "title_cell": "Table of Contents",
   "title_sidebar": "Contents",
   "toc_cell": false,
   "toc_position": {},
   "toc_section_display": true,
   "toc_window_display": false
  }
 },
 "nbformat": 4,
 "nbformat_minor": 5
}
